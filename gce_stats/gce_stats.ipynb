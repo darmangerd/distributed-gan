{
 "cells": [
  {
   "cell_type": "code",
   "execution_count": 1,
   "metadata": {},
   "outputs": [],
   "source": [
    "from pathlib import Path\n",
    "import os\n",
    "import pandas as pd\n",
    "import plotly.express as px\n",
    "from IPython.display import display\n",
    "import plotly.io as pio"
   ]
  },
  {
   "cell_type": "code",
   "execution_count": 2,
   "metadata": {},
   "outputs": [
    {
     "data": {
      "text/plain": [
       "[PosixPath('data/server.CIFAR10.20'),\n",
       " PosixPath('data/worker.CIFAR10.10'),\n",
       " PosixPath('data/server.CIFAR10.10'),\n",
       " PosixPath('data/worker.CIFAR10.20'),\n",
       " PosixPath('data/standalone.CIFAR10'),\n",
       " PosixPath('data/worker.CIFAR10.40'),\n",
       " PosixPath('data/server.CIFAR10.40')]"
      ]
     },
     "execution_count": 2,
     "metadata": {},
     "output_type": "execute_result"
    }
   ],
   "source": [
    "data_path = Path(\"data\")\n",
    "actors = data_path.glob(\"*\")\n",
    "actors = [actor for actor in actors if actor.is_dir()]\n",
    "actors"
   ]
  },
  {
   "cell_type": "code",
   "execution_count": 3,
   "metadata": {},
   "outputs": [],
   "source": [
    "def load_df(filename: str, date_columns: list[str], date_format=None, skiprows=1, header=0) -> pd.DataFrame:\n",
    "    dfs = []\n",
    "    for actor in actors:\n",
    "        df = pd.read_csv(actor / filename, skiprows=skiprows, header=header)\n",
    "        for col in date_columns:\n",
    "            df[col] = df[col].str.replace(pat=r\"\\(.*\\)\", repl=\"\", regex=True).str.replace(\"GMT\", \"\").str.strip()\n",
    "            df[col] = pd.to_datetime(df[col], format=\"%a %b %d %Y %H:%M:%S %z\")\n",
    "        df[\"actor\"] = actor.name\n",
    "        dfs.append(df)\n",
    "    df = pd.concat(dfs)\n",
    "    return df"
   ]
  },
  {
   "cell_type": "code",
   "execution_count": 4,
   "metadata": {},
   "outputs": [],
   "source": [
    "def convert_name_to_human_friendly(name: str) -> str:\n",
    "    args = name.split(\".\")\n",
    "    if \"worker\" in name:\n",
    "        n = int(args[-1])\n",
    "        data = args[-2]\n",
    "        return f\"Worker ({n}, {data})\"\n",
    "    if \"server\" in name:\n",
    "        n = int(args[-1])\n",
    "        data = args[-2]\n",
    "        return f\"Server ({n}, {data})\"\n",
    "    if \"standalone\" in name:\n",
    "        return f\"Standalone ({args[-1]})\""
   ]
  },
  {
   "cell_type": "code",
   "execution_count": 5,
   "metadata": {},
   "outputs": [
    {
     "data": {
      "text/html": [
       "<div>\n",
       "<style scoped>\n",
       "    .dataframe tbody tr th:only-of-type {\n",
       "        vertical-align: middle;\n",
       "    }\n",
       "\n",
       "    .dataframe tbody tr th {\n",
       "        vertical-align: top;\n",
       "    }\n",
       "\n",
       "    .dataframe thead th {\n",
       "        text-align: right;\n",
       "    }\n",
       "</style>\n",
       "<table border=\"1\" class=\"dataframe\">\n",
       "  <thead>\n",
       "    <tr style=\"text-align: right;\">\n",
       "      <th></th>\n",
       "      <th>direction</th>\n",
       "      <th>Write</th>\n",
       "      <th>Read</th>\n",
       "      <th>actor</th>\n",
       "    </tr>\n",
       "  </thead>\n",
       "  <tbody>\n",
       "    <tr>\n",
       "      <th>0</th>\n",
       "      <td>2024-05-22 15:41:00+02:00</td>\n",
       "      <td>32894.283333</td>\n",
       "      <td>4.688167e+02</td>\n",
       "      <td>Server (10, CIFAR10)</td>\n",
       "    </tr>\n",
       "    <tr>\n",
       "      <th>1</th>\n",
       "      <td>2024-05-22 15:42:00+02:00</td>\n",
       "      <td>32794.766667</td>\n",
       "      <td>2.863350e+03</td>\n",
       "      <td>Server (10, CIFAR10)</td>\n",
       "    </tr>\n",
       "    <tr>\n",
       "      <th>2</th>\n",
       "      <td>2024-05-22 15:43:00+02:00</td>\n",
       "      <td>40363.766667</td>\n",
       "      <td>1.630188e+05</td>\n",
       "      <td>Server (10, CIFAR10)</td>\n",
       "    </tr>\n",
       "    <tr>\n",
       "      <th>3</th>\n",
       "      <td>2024-05-22 15:44:00+02:00</td>\n",
       "      <td>62310.283333</td>\n",
       "      <td>1.422792e+06</td>\n",
       "      <td>Server (10, CIFAR10)</td>\n",
       "    </tr>\n",
       "    <tr>\n",
       "      <th>4</th>\n",
       "      <td>2024-05-22 15:45:00+02:00</td>\n",
       "      <td>274404.500000</td>\n",
       "      <td>1.226090e+06</td>\n",
       "      <td>Server (10, CIFAR10)</td>\n",
       "    </tr>\n",
       "    <tr>\n",
       "      <th>...</th>\n",
       "      <td>...</td>\n",
       "      <td>...</td>\n",
       "      <td>...</td>\n",
       "      <td>...</td>\n",
       "    </tr>\n",
       "    <tr>\n",
       "      <th>54</th>\n",
       "      <td>2024-05-22 19:14:00+02:00</td>\n",
       "      <td>40215.833333</td>\n",
       "      <td>0.000000e+00</td>\n",
       "      <td>Server (20, CIFAR10)</td>\n",
       "    </tr>\n",
       "    <tr>\n",
       "      <th>55</th>\n",
       "      <td>2024-05-22 19:15:00+02:00</td>\n",
       "      <td>50327.133333</td>\n",
       "      <td>4.267667e+02</td>\n",
       "      <td>Server (20, CIFAR10)</td>\n",
       "    </tr>\n",
       "    <tr>\n",
       "      <th>56</th>\n",
       "      <td>2024-05-22 19:16:00+02:00</td>\n",
       "      <td>36765.333333</td>\n",
       "      <td>1.705033e+03</td>\n",
       "      <td>Server (20, CIFAR10)</td>\n",
       "    </tr>\n",
       "    <tr>\n",
       "      <th>57</th>\n",
       "      <td>2024-05-22 19:17:00+02:00</td>\n",
       "      <td>28119.733333</td>\n",
       "      <td>6.671333e+02</td>\n",
       "      <td>Server (20, CIFAR10)</td>\n",
       "    </tr>\n",
       "    <tr>\n",
       "      <th>58</th>\n",
       "      <td>2024-05-22 19:18:00+02:00</td>\n",
       "      <td>35557.700000</td>\n",
       "      <td>0.000000e+00</td>\n",
       "      <td>Server (20, CIFAR10)</td>\n",
       "    </tr>\n",
       "  </tbody>\n",
       "</table>\n",
       "<p>471 rows × 4 columns</p>\n",
       "</div>"
      ],
      "text/plain": [
       "                   direction          Write          Read  \\\n",
       "0  2024-05-22 15:41:00+02:00   32894.283333  4.688167e+02   \n",
       "1  2024-05-22 15:42:00+02:00   32794.766667  2.863350e+03   \n",
       "2  2024-05-22 15:43:00+02:00   40363.766667  1.630188e+05   \n",
       "3  2024-05-22 15:44:00+02:00   62310.283333  1.422792e+06   \n",
       "4  2024-05-22 15:45:00+02:00  274404.500000  1.226090e+06   \n",
       "..                       ...            ...           ...   \n",
       "54 2024-05-22 19:14:00+02:00   40215.833333  0.000000e+00   \n",
       "55 2024-05-22 19:15:00+02:00   50327.133333  4.267667e+02   \n",
       "56 2024-05-22 19:16:00+02:00   36765.333333  1.705033e+03   \n",
       "57 2024-05-22 19:17:00+02:00   28119.733333  6.671333e+02   \n",
       "58 2024-05-22 19:18:00+02:00   35557.700000  0.000000e+00   \n",
       "\n",
       "                   actor  \n",
       "0   Server (10, CIFAR10)  \n",
       "1   Server (10, CIFAR10)  \n",
       "2   Server (10, CIFAR10)  \n",
       "3   Server (10, CIFAR10)  \n",
       "4   Server (10, CIFAR10)  \n",
       "..                   ...  \n",
       "54  Server (20, CIFAR10)  \n",
       "55  Server (20, CIFAR10)  \n",
       "56  Server (20, CIFAR10)  \n",
       "57  Server (20, CIFAR10)  \n",
       "58  Server (20, CIFAR10)  \n",
       "\n",
       "[471 rows x 4 columns]"
      ]
     },
     "metadata": {},
     "output_type": "display_data"
    },
    {
     "data": {
      "text/html": [
       "<div>\n",
       "<style scoped>\n",
       "    .dataframe tbody tr th:only-of-type {\n",
       "        vertical-align: middle;\n",
       "    }\n",
       "\n",
       "    .dataframe tbody tr th {\n",
       "        vertical-align: top;\n",
       "    }\n",
       "\n",
       "    .dataframe thead th {\n",
       "        text-align: right;\n",
       "    }\n",
       "</style>\n",
       "<table border=\"1\" class=\"dataframe\">\n",
       "  <thead>\n",
       "    <tr style=\"text-align: right;\">\n",
       "      <th></th>\n",
       "      <th>direction</th>\n",
       "      <th>Write</th>\n",
       "      <th>Read</th>\n",
       "      <th>actor</th>\n",
       "    </tr>\n",
       "  </thead>\n",
       "  <tbody>\n",
       "    <tr>\n",
       "      <th>0</th>\n",
       "      <td>2024-05-22 15:41:00+02:00</td>\n",
       "      <td>5.283333333333333</td>\n",
       "      <td>0.033333</td>\n",
       "      <td>Server (10, CIFAR10)</td>\n",
       "    </tr>\n",
       "    <tr>\n",
       "      <th>1</th>\n",
       "      <td>2024-05-22 15:42:00+02:00</td>\n",
       "      <td>5.233333333333333</td>\n",
       "      <td>0.066667</td>\n",
       "      <td>Server (10, CIFAR10)</td>\n",
       "    </tr>\n",
       "    <tr>\n",
       "      <th>2</th>\n",
       "      <td>2024-05-22 15:43:00+02:00</td>\n",
       "      <td>6.783333333333333</td>\n",
       "      <td>2.050000</td>\n",
       "      <td>Server (10, CIFAR10)</td>\n",
       "    </tr>\n",
       "    <tr>\n",
       "      <th>3</th>\n",
       "      <td>2024-05-22 15:44:00+02:00</td>\n",
       "      <td>5.05</td>\n",
       "      <td>20.733333</td>\n",
       "      <td>Server (10, CIFAR10)</td>\n",
       "    </tr>\n",
       "    <tr>\n",
       "      <th>4</th>\n",
       "      <td>2024-05-22 15:45:00+02:00</td>\n",
       "      <td>6.516666666666667</td>\n",
       "      <td>38.350000</td>\n",
       "      <td>Server (10, CIFAR10)</td>\n",
       "    </tr>\n",
       "    <tr>\n",
       "      <th>...</th>\n",
       "      <td>...</td>\n",
       "      <td>...</td>\n",
       "      <td>...</td>\n",
       "      <td>...</td>\n",
       "    </tr>\n",
       "    <tr>\n",
       "      <th>54</th>\n",
       "      <td>2024-05-22 19:14:00+02:00</td>\n",
       "      <td>4.95</td>\n",
       "      <td>0.000000</td>\n",
       "      <td>Server (20, CIFAR10)</td>\n",
       "    </tr>\n",
       "    <tr>\n",
       "      <th>55</th>\n",
       "      <td>2024-05-22 19:15:00+02:00</td>\n",
       "      <td>6.916666666666667</td>\n",
       "      <td>0.016667</td>\n",
       "      <td>Server (20, CIFAR10)</td>\n",
       "    </tr>\n",
       "    <tr>\n",
       "      <th>56</th>\n",
       "      <td>2024-05-22 19:16:00+02:00</td>\n",
       "      <td>5.466666666666667</td>\n",
       "      <td>0.033333</td>\n",
       "      <td>Server (20, CIFAR10)</td>\n",
       "    </tr>\n",
       "    <tr>\n",
       "      <th>57</th>\n",
       "      <td>2024-05-22 19:17:00+02:00</td>\n",
       "      <td>4.266666666666667</td>\n",
       "      <td>0.000000</td>\n",
       "      <td>Server (20, CIFAR10)</td>\n",
       "    </tr>\n",
       "    <tr>\n",
       "      <th>58</th>\n",
       "      <td>2024-05-22 19:18:00+02:00</td>\n",
       "      <td>undefined</td>\n",
       "      <td>0.000000</td>\n",
       "      <td>Server (20, CIFAR10)</td>\n",
       "    </tr>\n",
       "  </tbody>\n",
       "</table>\n",
       "<p>493 rows × 4 columns</p>\n",
       "</div>"
      ],
      "text/plain": [
       "                   direction              Write       Read  \\\n",
       "0  2024-05-22 15:41:00+02:00  5.283333333333333   0.033333   \n",
       "1  2024-05-22 15:42:00+02:00  5.233333333333333   0.066667   \n",
       "2  2024-05-22 15:43:00+02:00  6.783333333333333   2.050000   \n",
       "3  2024-05-22 15:44:00+02:00               5.05  20.733333   \n",
       "4  2024-05-22 15:45:00+02:00  6.516666666666667  38.350000   \n",
       "..                       ...                ...        ...   \n",
       "54 2024-05-22 19:14:00+02:00               4.95   0.000000   \n",
       "55 2024-05-22 19:15:00+02:00  6.916666666666667   0.016667   \n",
       "56 2024-05-22 19:16:00+02:00  5.466666666666667   0.033333   \n",
       "57 2024-05-22 19:17:00+02:00  4.266666666666667   0.000000   \n",
       "58 2024-05-22 19:18:00+02:00          undefined   0.000000   \n",
       "\n",
       "                   actor  \n",
       "0   Server (10, CIFAR10)  \n",
       "1   Server (10, CIFAR10)  \n",
       "2   Server (10, CIFAR10)  \n",
       "3   Server (10, CIFAR10)  \n",
       "4   Server (10, CIFAR10)  \n",
       "..                   ...  \n",
       "54  Server (20, CIFAR10)  \n",
       "55  Server (20, CIFAR10)  \n",
       "56  Server (20, CIFAR10)  \n",
       "57  Server (20, CIFAR10)  \n",
       "58  Server (20, CIFAR10)  \n",
       "\n",
       "[493 rows x 4 columns]"
      ]
     },
     "metadata": {},
     "output_type": "display_data"
    },
    {
     "data": {
      "text/html": [
       "<div>\n",
       "<style scoped>\n",
       "    .dataframe tbody tr th:only-of-type {\n",
       "        vertical-align: middle;\n",
       "    }\n",
       "\n",
       "    .dataframe tbody tr th {\n",
       "        vertical-align: top;\n",
       "    }\n",
       "\n",
       "    .dataframe thead th {\n",
       "        text-align: right;\n",
       "    }\n",
       "</style>\n",
       "<table border=\"1\" class=\"dataframe\">\n",
       "  <thead>\n",
       "    <tr style=\"text-align: right;\">\n",
       "      <th></th>\n",
       "      <th>remote_type</th>\n",
       "      <th>VMs Different Region (outside europe-central2)</th>\n",
       "      <th>External (or VMs Different Project)</th>\n",
       "      <th>Google Services</th>\n",
       "      <th>actor</th>\n",
       "      <th>VMs Different Region (outside europe-west4)</th>\n",
       "    </tr>\n",
       "  </thead>\n",
       "  <tbody>\n",
       "    <tr>\n",
       "      <th>0</th>\n",
       "      <td>2024-05-22 15:41:00+02:00</td>\n",
       "      <td>0.000000</td>\n",
       "      <td>0.016667</td>\n",
       "      <td>0.116667</td>\n",
       "      <td>Server (10, CIFAR10)</td>\n",
       "      <td>NaN</td>\n",
       "    </tr>\n",
       "    <tr>\n",
       "      <th>1</th>\n",
       "      <td>2024-05-22 15:42:00+02:00</td>\n",
       "      <td>0.000000</td>\n",
       "      <td>0.100000</td>\n",
       "      <td>0.066667</td>\n",
       "      <td>Server (10, CIFAR10)</td>\n",
       "      <td>NaN</td>\n",
       "    </tr>\n",
       "    <tr>\n",
       "      <th>2</th>\n",
       "      <td>2024-05-22 15:43:00+02:00</td>\n",
       "      <td>0.066667</td>\n",
       "      <td>0.066667</td>\n",
       "      <td>0.100000</td>\n",
       "      <td>Server (10, CIFAR10)</td>\n",
       "      <td>NaN</td>\n",
       "    </tr>\n",
       "    <tr>\n",
       "      <th>3</th>\n",
       "      <td>2024-05-22 15:44:00+02:00</td>\n",
       "      <td>2.550000</td>\n",
       "      <td>0.016667</td>\n",
       "      <td>0.133333</td>\n",
       "      <td>Server (10, CIFAR10)</td>\n",
       "      <td>NaN</td>\n",
       "    </tr>\n",
       "    <tr>\n",
       "      <th>4</th>\n",
       "      <td>2024-05-22 15:45:00+02:00</td>\n",
       "      <td>1.583333</td>\n",
       "      <td>0.016667</td>\n",
       "      <td>0.083333</td>\n",
       "      <td>Server (10, CIFAR10)</td>\n",
       "      <td>NaN</td>\n",
       "    </tr>\n",
       "    <tr>\n",
       "      <th>...</th>\n",
       "      <td>...</td>\n",
       "      <td>...</td>\n",
       "      <td>...</td>\n",
       "      <td>...</td>\n",
       "      <td>...</td>\n",
       "      <td>...</td>\n",
       "    </tr>\n",
       "    <tr>\n",
       "      <th>55</th>\n",
       "      <td>2024-05-22 19:15:00+02:00</td>\n",
       "      <td>8.316667</td>\n",
       "      <td>0.016667</td>\n",
       "      <td>0.200000</td>\n",
       "      <td>Server (20, CIFAR10)</td>\n",
       "      <td>NaN</td>\n",
       "    </tr>\n",
       "    <tr>\n",
       "      <th>56</th>\n",
       "      <td>2024-05-22 19:16:00+02:00</td>\n",
       "      <td>5.316667</td>\n",
       "      <td>0.016667</td>\n",
       "      <td>0.150000</td>\n",
       "      <td>Server (20, CIFAR10)</td>\n",
       "      <td>NaN</td>\n",
       "    </tr>\n",
       "    <tr>\n",
       "      <th>57</th>\n",
       "      <td>2024-05-22 19:17:00+02:00</td>\n",
       "      <td>0.000000</td>\n",
       "      <td>0.100000</td>\n",
       "      <td>0.100000</td>\n",
       "      <td>Server (20, CIFAR10)</td>\n",
       "      <td>NaN</td>\n",
       "    </tr>\n",
       "    <tr>\n",
       "      <th>58</th>\n",
       "      <td>2024-05-22 19:18:00+02:00</td>\n",
       "      <td>0.166667</td>\n",
       "      <td>0.066667</td>\n",
       "      <td>0.083333</td>\n",
       "      <td>Server (20, CIFAR10)</td>\n",
       "      <td>NaN</td>\n",
       "    </tr>\n",
       "    <tr>\n",
       "      <th>59</th>\n",
       "      <td>2024-05-22 19:19:00+02:00</td>\n",
       "      <td>0.000000</td>\n",
       "      <td>0.133333</td>\n",
       "      <td>0.033333</td>\n",
       "      <td>Server (20, CIFAR10)</td>\n",
       "      <td>NaN</td>\n",
       "    </tr>\n",
       "  </tbody>\n",
       "</table>\n",
       "<p>509 rows × 6 columns</p>\n",
       "</div>"
      ],
      "text/plain": [
       "                 remote_type  VMs Different Region (outside europe-central2)  \\\n",
       "0  2024-05-22 15:41:00+02:00                                        0.000000   \n",
       "1  2024-05-22 15:42:00+02:00                                        0.000000   \n",
       "2  2024-05-22 15:43:00+02:00                                        0.066667   \n",
       "3  2024-05-22 15:44:00+02:00                                        2.550000   \n",
       "4  2024-05-22 15:45:00+02:00                                        1.583333   \n",
       "..                       ...                                             ...   \n",
       "55 2024-05-22 19:15:00+02:00                                        8.316667   \n",
       "56 2024-05-22 19:16:00+02:00                                        5.316667   \n",
       "57 2024-05-22 19:17:00+02:00                                        0.000000   \n",
       "58 2024-05-22 19:18:00+02:00                                        0.166667   \n",
       "59 2024-05-22 19:19:00+02:00                                        0.000000   \n",
       "\n",
       "    External (or VMs Different Project)  Google Services  \\\n",
       "0                              0.016667         0.116667   \n",
       "1                              0.100000         0.066667   \n",
       "2                              0.066667         0.100000   \n",
       "3                              0.016667         0.133333   \n",
       "4                              0.016667         0.083333   \n",
       "..                                  ...              ...   \n",
       "55                             0.016667         0.200000   \n",
       "56                             0.016667         0.150000   \n",
       "57                             0.100000         0.100000   \n",
       "58                             0.066667         0.083333   \n",
       "59                             0.133333         0.033333   \n",
       "\n",
       "                   actor  VMs Different Region (outside europe-west4)  \n",
       "0   Server (10, CIFAR10)                                          NaN  \n",
       "1   Server (10, CIFAR10)                                          NaN  \n",
       "2   Server (10, CIFAR10)                                          NaN  \n",
       "3   Server (10, CIFAR10)                                          NaN  \n",
       "4   Server (10, CIFAR10)                                          NaN  \n",
       "..                   ...                                          ...  \n",
       "55  Server (20, CIFAR10)                                          NaN  \n",
       "56  Server (20, CIFAR10)                                          NaN  \n",
       "57  Server (20, CIFAR10)                                          NaN  \n",
       "58  Server (20, CIFAR10)                                          NaN  \n",
       "59  Server (20, CIFAR10)                                          NaN  \n",
       "\n",
       "[509 rows x 6 columns]"
      ]
     },
     "metadata": {},
     "output_type": "display_data"
    },
    {
     "data": {
      "text/html": [
       "<div>\n",
       "<style scoped>\n",
       "    .dataframe tbody tr th:only-of-type {\n",
       "        vertical-align: middle;\n",
       "    }\n",
       "\n",
       "    .dataframe tbody tr th {\n",
       "        vertical-align: top;\n",
       "    }\n",
       "\n",
       "    .dataframe thead th {\n",
       "        text-align: right;\n",
       "    }\n",
       "</style>\n",
       "<table border=\"1\" class=\"dataframe\">\n",
       "  <thead>\n",
       "    <tr style=\"text-align: right;\">\n",
       "      <th></th>\n",
       "      <th>0</th>\n",
       "      <th>1</th>\n",
       "      <th>actor</th>\n",
       "    </tr>\n",
       "  </thead>\n",
       "  <tbody>\n",
       "    <tr>\n",
       "      <th>0</th>\n",
       "      <td>2024-05-22 15:40:00+02:00</td>\n",
       "      <td>0.033077</td>\n",
       "      <td>Server (10, CIFAR10)</td>\n",
       "    </tr>\n",
       "    <tr>\n",
       "      <th>1</th>\n",
       "      <td>2024-05-22 15:41:00+02:00</td>\n",
       "      <td>0.042315</td>\n",
       "      <td>Server (10, CIFAR10)</td>\n",
       "    </tr>\n",
       "    <tr>\n",
       "      <th>2</th>\n",
       "      <td>2024-05-22 15:42:00+02:00</td>\n",
       "      <td>0.026541</td>\n",
       "      <td>Server (10, CIFAR10)</td>\n",
       "    </tr>\n",
       "    <tr>\n",
       "      <th>3</th>\n",
       "      <td>2024-05-22 15:43:00+02:00</td>\n",
       "      <td>0.187428</td>\n",
       "      <td>Server (10, CIFAR10)</td>\n",
       "    </tr>\n",
       "    <tr>\n",
       "      <th>4</th>\n",
       "      <td>2024-05-22 15:44:00+02:00</td>\n",
       "      <td>0.397372</td>\n",
       "      <td>Server (10, CIFAR10)</td>\n",
       "    </tr>\n",
       "    <tr>\n",
       "      <th>...</th>\n",
       "      <td>...</td>\n",
       "      <td>...</td>\n",
       "      <td>...</td>\n",
       "    </tr>\n",
       "    <tr>\n",
       "      <th>53</th>\n",
       "      <td>2024-05-22 19:13:00+02:00</td>\n",
       "      <td>0.055005</td>\n",
       "      <td>Server (20, CIFAR10)</td>\n",
       "    </tr>\n",
       "    <tr>\n",
       "      <th>54</th>\n",
       "      <td>2024-05-22 19:14:00+02:00</td>\n",
       "      <td>0.261902</td>\n",
       "      <td>Server (20, CIFAR10)</td>\n",
       "    </tr>\n",
       "    <tr>\n",
       "      <th>55</th>\n",
       "      <td>2024-05-22 19:15:00+02:00</td>\n",
       "      <td>0.234696</td>\n",
       "      <td>Server (20, CIFAR10)</td>\n",
       "    </tr>\n",
       "    <tr>\n",
       "      <th>56</th>\n",
       "      <td>2024-05-22 19:16:00+02:00</td>\n",
       "      <td>0.048514</td>\n",
       "      <td>Server (20, CIFAR10)</td>\n",
       "    </tr>\n",
       "    <tr>\n",
       "      <th>57</th>\n",
       "      <td>2024-05-22 19:17:00+02:00</td>\n",
       "      <td>0.015593</td>\n",
       "      <td>Server (20, CIFAR10)</td>\n",
       "    </tr>\n",
       "  </tbody>\n",
       "</table>\n",
       "<p>450 rows × 3 columns</p>\n",
       "</div>"
      ],
      "text/plain": [
       "                           0         1                 actor\n",
       "0  2024-05-22 15:40:00+02:00  0.033077  Server (10, CIFAR10)\n",
       "1  2024-05-22 15:41:00+02:00  0.042315  Server (10, CIFAR10)\n",
       "2  2024-05-22 15:42:00+02:00  0.026541  Server (10, CIFAR10)\n",
       "3  2024-05-22 15:43:00+02:00  0.187428  Server (10, CIFAR10)\n",
       "4  2024-05-22 15:44:00+02:00  0.397372  Server (10, CIFAR10)\n",
       "..                       ...       ...                   ...\n",
       "53 2024-05-22 19:13:00+02:00  0.055005  Server (20, CIFAR10)\n",
       "54 2024-05-22 19:14:00+02:00  0.261902  Server (20, CIFAR10)\n",
       "55 2024-05-22 19:15:00+02:00  0.234696  Server (20, CIFAR10)\n",
       "56 2024-05-22 19:16:00+02:00  0.048514  Server (20, CIFAR10)\n",
       "57 2024-05-22 19:17:00+02:00  0.015593  Server (20, CIFAR10)\n",
       "\n",
       "[450 rows x 3 columns]"
      ]
     },
     "metadata": {},
     "output_type": "display_data"
    },
    {
     "data": {
      "text/html": [
       "<div>\n",
       "<style scoped>\n",
       "    .dataframe tbody tr th:only-of-type {\n",
       "        vertical-align: middle;\n",
       "    }\n",
       "\n",
       "    .dataframe tbody tr th {\n",
       "        vertical-align: top;\n",
       "    }\n",
       "\n",
       "    .dataframe thead th {\n",
       "        text-align: right;\n",
       "    }\n",
       "</style>\n",
       "<table border=\"1\" class=\"dataframe\">\n",
       "  <thead>\n",
       "    <tr style=\"text-align: right;\">\n",
       "      <th></th>\n",
       "      <th>0</th>\n",
       "      <th>1</th>\n",
       "      <th>actor</th>\n",
       "    </tr>\n",
       "  </thead>\n",
       "  <tbody>\n",
       "    <tr>\n",
       "      <th>0</th>\n",
       "      <td>2024-05-22 15:43:00+02:00</td>\n",
       "      <td>1.128977e+05</td>\n",
       "      <td>Server (10, CIFAR10)</td>\n",
       "    </tr>\n",
       "    <tr>\n",
       "      <th>1</th>\n",
       "      <td>2024-05-22 15:44:00+02:00</td>\n",
       "      <td>1.379262e+06</td>\n",
       "      <td>Server (10, CIFAR10)</td>\n",
       "    </tr>\n",
       "    <tr>\n",
       "      <th>2</th>\n",
       "      <td>2024-05-22 15:45:00+02:00</td>\n",
       "      <td>4.383629e+06</td>\n",
       "      <td>Server (10, CIFAR10)</td>\n",
       "    </tr>\n",
       "    <tr>\n",
       "      <th>3</th>\n",
       "      <td>2024-05-22 15:46:00+02:00</td>\n",
       "      <td>4.005326e+06</td>\n",
       "      <td>Server (10, CIFAR10)</td>\n",
       "    </tr>\n",
       "    <tr>\n",
       "      <th>4</th>\n",
       "      <td>2024-05-22 15:47:00+02:00</td>\n",
       "      <td>4.029726e+06</td>\n",
       "      <td>Server (10, CIFAR10)</td>\n",
       "    </tr>\n",
       "    <tr>\n",
       "      <th>...</th>\n",
       "      <td>...</td>\n",
       "      <td>...</td>\n",
       "      <td>...</td>\n",
       "    </tr>\n",
       "    <tr>\n",
       "      <th>51</th>\n",
       "      <td>2024-05-22 19:13:00+02:00</td>\n",
       "      <td>2.518006e+05</td>\n",
       "      <td>Server (20, CIFAR10)</td>\n",
       "    </tr>\n",
       "    <tr>\n",
       "      <th>52</th>\n",
       "      <td>2024-05-22 19:14:00+02:00</td>\n",
       "      <td>2.254432e+06</td>\n",
       "      <td>Server (20, CIFAR10)</td>\n",
       "    </tr>\n",
       "    <tr>\n",
       "      <th>53</th>\n",
       "      <td>2024-05-22 19:15:00+02:00</td>\n",
       "      <td>1.732881e+06</td>\n",
       "      <td>Server (20, CIFAR10)</td>\n",
       "    </tr>\n",
       "    <tr>\n",
       "      <th>54</th>\n",
       "      <td>2024-05-22 19:16:00+02:00</td>\n",
       "      <td>3.430472e+05</td>\n",
       "      <td>Server (20, CIFAR10)</td>\n",
       "    </tr>\n",
       "    <tr>\n",
       "      <th>55</th>\n",
       "      <td>2024-05-22 19:17:00+02:00</td>\n",
       "      <td>1.523617e+03</td>\n",
       "      <td>Server (20, CIFAR10)</td>\n",
       "    </tr>\n",
       "  </tbody>\n",
       "</table>\n",
       "<p>473 rows × 3 columns</p>\n",
       "</div>"
      ],
      "text/plain": [
       "                           0             1                 actor\n",
       "0  2024-05-22 15:43:00+02:00  1.128977e+05  Server (10, CIFAR10)\n",
       "1  2024-05-22 15:44:00+02:00  1.379262e+06  Server (10, CIFAR10)\n",
       "2  2024-05-22 15:45:00+02:00  4.383629e+06  Server (10, CIFAR10)\n",
       "3  2024-05-22 15:46:00+02:00  4.005326e+06  Server (10, CIFAR10)\n",
       "4  2024-05-22 15:47:00+02:00  4.029726e+06  Server (10, CIFAR10)\n",
       "..                       ...           ...                   ...\n",
       "51 2024-05-22 19:13:00+02:00  2.518006e+05  Server (20, CIFAR10)\n",
       "52 2024-05-22 19:14:00+02:00  2.254432e+06  Server (20, CIFAR10)\n",
       "53 2024-05-22 19:15:00+02:00  1.732881e+06  Server (20, CIFAR10)\n",
       "54 2024-05-22 19:16:00+02:00  3.430472e+05  Server (20, CIFAR10)\n",
       "55 2024-05-22 19:17:00+02:00  1.523617e+03  Server (20, CIFAR10)\n",
       "\n",
       "[473 rows x 3 columns]"
      ]
     },
     "metadata": {},
     "output_type": "display_data"
    },
    {
     "data": {
      "text/html": [
       "<div>\n",
       "<style scoped>\n",
       "    .dataframe tbody tr th:only-of-type {\n",
       "        vertical-align: middle;\n",
       "    }\n",
       "\n",
       "    .dataframe tbody tr th {\n",
       "        vertical-align: top;\n",
       "    }\n",
       "\n",
       "    .dataframe thead th {\n",
       "        text-align: right;\n",
       "    }\n",
       "</style>\n",
       "<table border=\"1\" class=\"dataframe\">\n",
       "  <thead>\n",
       "    <tr style=\"text-align: right;\">\n",
       "      <th></th>\n",
       "      <th>0</th>\n",
       "      <th>1</th>\n",
       "      <th>actor</th>\n",
       "    </tr>\n",
       "  </thead>\n",
       "  <tbody>\n",
       "    <tr>\n",
       "      <th>0</th>\n",
       "      <td>2024-05-22 15:43:00+02:00</td>\n",
       "      <td>2.236067e+05</td>\n",
       "      <td>Server (10, CIFAR10)</td>\n",
       "    </tr>\n",
       "    <tr>\n",
       "      <th>1</th>\n",
       "      <td>2024-05-22 15:44:00+02:00</td>\n",
       "      <td>2.747572e+06</td>\n",
       "      <td>Server (10, CIFAR10)</td>\n",
       "    </tr>\n",
       "    <tr>\n",
       "      <th>2</th>\n",
       "      <td>2024-05-22 15:45:00+02:00</td>\n",
       "      <td>8.736952e+06</td>\n",
       "      <td>Server (10, CIFAR10)</td>\n",
       "    </tr>\n",
       "    <tr>\n",
       "      <th>3</th>\n",
       "      <td>2024-05-22 15:46:00+02:00</td>\n",
       "      <td>8.013328e+06</td>\n",
       "      <td>Server (10, CIFAR10)</td>\n",
       "    </tr>\n",
       "    <tr>\n",
       "      <th>4</th>\n",
       "      <td>2024-05-22 15:47:00+02:00</td>\n",
       "      <td>8.024993e+06</td>\n",
       "      <td>Server (10, CIFAR10)</td>\n",
       "    </tr>\n",
       "    <tr>\n",
       "      <th>...</th>\n",
       "      <td>...</td>\n",
       "      <td>...</td>\n",
       "      <td>...</td>\n",
       "    </tr>\n",
       "    <tr>\n",
       "      <th>51</th>\n",
       "      <td>2024-05-22 19:13:00+02:00</td>\n",
       "      <td>5.007522e+05</td>\n",
       "      <td>Server (20, CIFAR10)</td>\n",
       "    </tr>\n",
       "    <tr>\n",
       "      <th>52</th>\n",
       "      <td>2024-05-22 19:14:00+02:00</td>\n",
       "      <td>4.495166e+06</td>\n",
       "      <td>Server (20, CIFAR10)</td>\n",
       "    </tr>\n",
       "    <tr>\n",
       "      <th>53</th>\n",
       "      <td>2024-05-22 19:15:00+02:00</td>\n",
       "      <td>3.449889e+06</td>\n",
       "      <td>Server (20, CIFAR10)</td>\n",
       "    </tr>\n",
       "    <tr>\n",
       "      <th>54</th>\n",
       "      <td>2024-05-22 19:16:00+02:00</td>\n",
       "      <td>8.672156e+05</td>\n",
       "      <td>Server (20, CIFAR10)</td>\n",
       "    </tr>\n",
       "    <tr>\n",
       "      <th>55</th>\n",
       "      <td>2024-05-22 19:17:00+02:00</td>\n",
       "      <td>8.365938e+04</td>\n",
       "      <td>Server (20, CIFAR10)</td>\n",
       "    </tr>\n",
       "  </tbody>\n",
       "</table>\n",
       "<p>474 rows × 3 columns</p>\n",
       "</div>"
      ],
      "text/plain": [
       "                           0             1                 actor\n",
       "0  2024-05-22 15:43:00+02:00  2.236067e+05  Server (10, CIFAR10)\n",
       "1  2024-05-22 15:44:00+02:00  2.747572e+06  Server (10, CIFAR10)\n",
       "2  2024-05-22 15:45:00+02:00  8.736952e+06  Server (10, CIFAR10)\n",
       "3  2024-05-22 15:46:00+02:00  8.013328e+06  Server (10, CIFAR10)\n",
       "4  2024-05-22 15:47:00+02:00  8.024993e+06  Server (10, CIFAR10)\n",
       "..                       ...           ...                   ...\n",
       "51 2024-05-22 19:13:00+02:00  5.007522e+05  Server (20, CIFAR10)\n",
       "52 2024-05-22 19:14:00+02:00  4.495166e+06  Server (20, CIFAR10)\n",
       "53 2024-05-22 19:15:00+02:00  3.449889e+06  Server (20, CIFAR10)\n",
       "54 2024-05-22 19:16:00+02:00  8.672156e+05  Server (20, CIFAR10)\n",
       "55 2024-05-22 19:17:00+02:00  8.365938e+04  Server (20, CIFAR10)\n",
       "\n",
       "[474 rows x 3 columns]"
      ]
     },
     "metadata": {},
     "output_type": "display_data"
    }
   ],
   "source": [
    "disk_df = load_df(\"disk.csv\", [\"direction\"])\n",
    "iops_df = load_df(\"iops.csv\", [\"direction\"])\n",
    "net_df = load_df(\"net.csv\", [\"remote_type\"])\n",
    "cpu_df = load_df(\"cpu.csv\", [0], skiprows=5, header=None)\n",
    "received_bytes_df = load_df(\"recv.csv\", [0], skiprows=5, header=None)\n",
    "sent_bytes_df = load_df(\"sent.csv\", [0], skiprows=5, header=None)\n",
    "\n",
    "disk_df[\"actor\"] = disk_df[\"actor\"].apply(convert_name_to_human_friendly)\n",
    "iops_df[\"actor\"] = iops_df[\"actor\"].apply(convert_name_to_human_friendly)\n",
    "net_df[\"actor\"] = net_df[\"actor\"].apply(convert_name_to_human_friendly)\n",
    "cpu_df[\"actor\"] = cpu_df[\"actor\"].apply(convert_name_to_human_friendly)\n",
    "received_bytes_df[\"actor\"] = received_bytes_df[\"actor\"].apply(convert_name_to_human_friendly)\n",
    "sent_bytes_df[\"actor\"] = sent_bytes_df[\"actor\"].apply(convert_name_to_human_friendly)\n",
    "\n",
    "display(disk_df)\n",
    "display(iops_df)\n",
    "display(net_df)\n",
    "display(cpu_df)\n",
    "display(received_bytes_df)\n",
    "display(sent_bytes_df)"
   ]
  },
  {
   "cell_type": "markdown",
   "metadata": {},
   "source": [
    "# Plots"
   ]
  },
  {
   "cell_type": "code",
   "execution_count": 6,
   "metadata": {},
   "outputs": [],
   "source": [
    "pio.templates.default = \"plotly_white\"\n",
    "WIDTH = 1200\n",
    "HEIGHT = 600"
   ]
  },
  {
   "cell_type": "code",
   "execution_count": 7,
   "metadata": {},
   "outputs": [
    {
     "data": {
      "application/vnd.plotly.v1+json": {
       "config": {
        "plotlyServerURL": "https://plot.ly"
       },
       "data": [
        {
         "hovertemplate": "actor=Server (10, CIFAR10)<br>direction=%{x}<br>Read=%{y}<extra></extra>",
         "legendgroup": "Server (10, CIFAR10)",
         "line": {
          "color": "#636efa",
          "dash": "solid"
         },
         "marker": {
          "symbol": "circle"
         },
         "mode": "lines",
         "name": "Server (10, CIFAR10)",
         "orientation": "v",
         "showlegend": true,
         "type": "scatter",
         "x": [
          "2024-05-22T15:41:00+02:00",
          "2024-05-22T15:42:00+02:00",
          "2024-05-22T15:43:00+02:00",
          "2024-05-22T15:44:00+02:00",
          "2024-05-22T15:45:00+02:00",
          "2024-05-22T15:46:00+02:00",
          "2024-05-22T15:47:00+02:00",
          "2024-05-22T15:48:00+02:00",
          "2024-05-22T15:49:00+02:00",
          "2024-05-22T15:50:00+02:00",
          "2024-05-22T15:51:00+02:00",
          "2024-05-22T15:52:00+02:00",
          "2024-05-22T15:53:00+02:00",
          "2024-05-22T15:54:00+02:00",
          "2024-05-22T15:55:00+02:00",
          "2024-05-22T15:56:00+02:00",
          "2024-05-22T15:57:00+02:00",
          "2024-05-22T15:58:00+02:00",
          "2024-05-22T15:59:00+02:00",
          "2024-05-22T16:00:00+02:00",
          "2024-05-22T16:01:00+02:00",
          "2024-05-22T16:02:00+02:00",
          "2024-05-22T16:03:00+02:00",
          "2024-05-22T16:04:00+02:00",
          "2024-05-22T16:05:00+02:00",
          "2024-05-22T16:06:00+02:00",
          "2024-05-22T16:07:00+02:00",
          "2024-05-22T16:08:00+02:00",
          "2024-05-22T16:09:00+02:00",
          "2024-05-22T16:10:00+02:00",
          "2024-05-22T16:11:00+02:00",
          "2024-05-22T16:12:00+02:00",
          "2024-05-22T16:13:00+02:00",
          "2024-05-22T16:14:00+02:00",
          "2024-05-22T16:15:00+02:00",
          "2024-05-22T16:16:00+02:00",
          "2024-05-22T16:17:00+02:00",
          "2024-05-22T16:18:00+02:00",
          "2024-05-22T16:19:00+02:00",
          "2024-05-22T16:20:00+02:00",
          "2024-05-22T16:21:00+02:00",
          "2024-05-22T16:22:00+02:00",
          "2024-05-22T16:23:00+02:00",
          "2024-05-22T16:24:00+02:00",
          "2024-05-22T16:25:00+02:00",
          "2024-05-22T16:26:00+02:00",
          "2024-05-22T16:27:00+02:00",
          "2024-05-22T16:28:00+02:00",
          "2024-05-22T16:29:00+02:00",
          "2024-05-22T16:30:00+02:00",
          "2024-05-22T16:31:00+02:00",
          "2024-05-22T16:32:00+02:00",
          "2024-05-22T16:33:00+02:00",
          "2024-05-22T16:34:00+02:00",
          "2024-05-22T16:35:00+02:00",
          "2024-05-22T16:36:00+02:00",
          "2024-05-22T16:37:00+02:00",
          "2024-05-22T16:38:00+02:00"
         ],
         "xaxis": "x",
         "y": [
          468.81666666666666,
          2863.35,
          163018.75,
          1422791.65,
          1226090.3666666667,
          163427.01666666666,
          229523.96666666667,
          714594.2,
          173268.26666666666,
          337579.2166666667,
          770625.2333333333,
          21782.583333333332,
          11220.1,
          37553.73333333333,
          217497.8,
          50595.166666666664,
          20416.433333333334,
          73092.28333333333,
          12232.5,
          14402.933333333332,
          24119.433333333334,
          95128.13333333332,
          20714.466666666667,
          28877.066666666666,
          131189.06666666665,
          20217,
          38516.833333333336,
          109749.63333333332,
          16182.483333333334,
          65616.38333333333,
          15122.533333333333,
          30566.016666666663,
          11817.366666666669,
          68809.65,
          201891.33333333337,
          101044.96666666666,
          5619.566666666667,
          10785.1,
          4186.066666666667,
          6915.583333333333,
          5389.316666666667,
          2393.05,
          21645.433333333334,
          65980.61666666667,
          107654.01666666666,
          12012.416666666666,
          5031.05,
          8645.449999999999,
          7840.033333333333,
          29421.966666666667,
          11277.266666666666,
          43839.75,
          1248.0166666666669,
          15206.483333333334,
          76641.85,
          5608.2,
          3171.233333333333,
          12621.4
         ],
         "yaxis": "y"
        },
        {
         "hovertemplate": "actor=Worker (5, CIFAR10)<br>direction=%{x}<br>Read=%{y}<extra></extra>",
         "legendgroup": "Worker (5, CIFAR10)",
         "line": {
          "color": "#EF553B",
          "dash": "solid"
         },
         "marker": {
          "symbol": "circle"
         },
         "mode": "lines",
         "name": "Worker (5, CIFAR10)",
         "orientation": "v",
         "showlegend": true,
         "type": "scatter",
         "x": [
          "2024-05-22T13:31:00+02:00",
          "2024-05-22T13:32:00+02:00",
          "2024-05-22T13:33:00+02:00",
          "2024-05-22T13:34:00+02:00",
          "2024-05-22T13:35:00+02:00",
          "2024-05-22T13:36:00+02:00",
          "2024-05-22T13:37:00+02:00",
          "2024-05-22T13:38:00+02:00",
          "2024-05-22T13:39:00+02:00",
          "2024-05-22T13:40:00+02:00",
          "2024-05-22T13:41:00+02:00",
          "2024-05-22T13:42:00+02:00",
          "2024-05-22T13:43:00+02:00",
          "2024-05-22T13:44:00+02:00",
          "2024-05-22T13:45:00+02:00",
          "2024-05-22T13:46:00+02:00",
          "2024-05-22T13:47:00+02:00",
          "2024-05-22T13:48:00+02:00",
          "2024-05-22T13:49:00+02:00",
          "2024-05-22T13:50:00+02:00",
          "2024-05-22T13:51:00+02:00",
          "2024-05-22T13:52:00+02:00",
          "2024-05-22T13:53:00+02:00",
          "2024-05-22T13:54:00+02:00",
          "2024-05-22T13:55:00+02:00",
          "2024-05-22T13:56:00+02:00",
          "2024-05-22T13:57:00+02:00",
          "2024-05-22T13:58:00+02:00",
          "2024-05-22T13:59:00+02:00",
          "2024-05-22T14:00:00+02:00",
          "2024-05-22T14:01:00+02:00",
          "2024-05-22T14:02:00+02:00",
          "2024-05-22T14:03:00+02:00",
          "2024-05-22T14:04:00+02:00",
          "2024-05-22T14:05:00+02:00",
          "2024-05-22T14:06:00+02:00",
          "2024-05-22T14:07:00+02:00",
          "2024-05-22T14:08:00+02:00",
          "2024-05-22T14:09:00+02:00",
          "2024-05-22T14:10:00+02:00",
          "2024-05-22T14:11:00+02:00",
          "2024-05-22T14:12:00+02:00",
          "2024-05-22T14:13:00+02:00",
          "2024-05-22T14:14:00+02:00",
          "2024-05-22T14:15:00+02:00",
          "2024-05-22T14:16:00+02:00",
          "2024-05-22T14:17:00+02:00",
          "2024-05-22T14:18:00+02:00",
          "2024-05-22T14:19:00+02:00",
          "2024-05-22T14:20:00+02:00",
          "2024-05-22T14:21:00+02:00",
          "2024-05-22T14:22:00+02:00",
          "2024-05-22T14:23:00+02:00",
          "2024-05-22T14:24:00+02:00",
          "2024-05-22T14:25:00+02:00",
          "2024-05-22T14:26:00+02:00",
          "2024-05-22T14:27:00+02:00",
          "2024-05-22T14:28:00+02:00",
          "2024-05-22T14:29:00+02:00",
          "2024-05-22T14:30:00+02:00",
          "2024-05-22T14:31:00+02:00",
          "2024-05-22T14:32:00+02:00",
          "2024-05-22T14:33:00+02:00",
          "2024-05-22T14:34:00+02:00",
          "2024-05-22T14:35:00+02:00",
          "2024-05-22T14:36:00+02:00",
          "2024-05-22T14:37:00+02:00",
          "2024-05-22T14:38:00+02:00",
          "2024-05-22T14:39:00+02:00",
          "2024-05-22T14:40:00+02:00",
          "2024-05-22T14:41:00+02:00",
          "2024-05-22T14:42:00+02:00",
          "2024-05-22T14:43:00+02:00",
          "2024-05-22T14:44:00+02:00",
          "2024-05-22T14:45:00+02:00",
          "2024-05-22T14:46:00+02:00",
          "2024-05-22T14:47:00+02:00",
          "2024-05-22T14:48:00+02:00",
          "2024-05-22T14:49:00+02:00",
          "2024-05-22T14:50:00+02:00",
          "2024-05-22T14:51:00+02:00",
          "2024-05-22T14:52:00+02:00",
          "2024-05-22T14:53:00+02:00",
          "2024-05-22T14:54:00+02:00",
          "2024-05-22T14:55:00+02:00",
          "2024-05-22T14:56:00+02:00",
          "2024-05-22T14:57:00+02:00",
          "2024-05-22T14:58:00+02:00",
          "2024-05-22T14:59:00+02:00",
          "2024-05-22T15:00:00+02:00",
          "2024-05-22T15:01:00+02:00",
          "2024-05-22T15:02:00+02:00",
          "2024-05-22T15:03:00+02:00",
          "2024-05-22T15:04:00+02:00",
          "2024-05-22T15:05:00+02:00",
          "2024-05-22T15:06:00+02:00",
          "2024-05-22T15:07:00+02:00",
          "2024-05-22T15:08:00+02:00",
          "2024-05-22T15:09:00+02:00",
          "2024-05-22T15:10:00+02:00",
          "2024-05-22T15:11:00+02:00",
          "2024-05-22T15:12:00+02:00",
          "2024-05-22T15:13:00+02:00",
          "2024-05-22T15:14:00+02:00",
          "2024-05-22T15:15:00+02:00",
          "2024-05-22T15:16:00+02:00",
          "2024-05-22T15:17:00+02:00",
          "2024-05-22T15:18:00+02:00",
          "2024-05-22T15:19:00+02:00",
          "2024-05-22T15:20:00+02:00",
          "2024-05-22T15:21:00+02:00",
          "2024-05-22T15:22:00+02:00",
          "2024-05-22T15:23:00+02:00",
          "2024-05-22T15:24:00+02:00",
          "2024-05-22T15:25:00+02:00",
          "2024-05-22T15:26:00+02:00"
         ],
         "xaxis": "x",
         "y": [
          1441057.7333333334,
          14157536.166666666,
          5263.166666666667,
          25.366666666666667,
          213.26666666666665,
          239.23333333333332,
          0,
          1759.1333333333332,
          12651.783333333333,
          1816.6166666666663,
          2636.383333333333,
          2842.45,
          1922.35,
          59.81666666666666,
          0,
          93490.15,
          661306.6,
          2013.5666666666664,
          1973.6833333333336,
          0,
          1124.8666666666666,
          287945.15,
          1982870.5166666664,
          22420.38333333333,
          981494.6666666666,
          7044759.533333333,
          1603197.9166666667,
          1854.7166666666667,
          5502.383333333333,
          0,
          0,
          0,
          0,
          0,
          0,
          0,
          0,
          0,
          0,
          0,
          0,
          0,
          389.0333333333333,
          2751.233333333333,
          169.15,
          1196.1833333333334,
          25.366666666666667,
          475.43333333333334,
          2093.3333333333335,
          0,
          0,
          143.76666666666665,
          1016.7666666666668,
          0,
          270.65,
          1913.8833333333332,
          0,
          0,
          152.23333333333332,
          1076.5666666666666,
          0,
          0,
          0,
          0,
          0,
          0,
          0,
          0,
          0,
          0,
          0,
          16.916666666666668,
          119.61666666666666,
          135.33333333333334,
          956.9333333333332,
          0,
          0,
          0,
          0,
          0,
          0,
          0,
          0,
          0,
          0,
          0,
          0,
          76.11666666666666,
          538.2833333333333,
          0,
          0,
          0,
          0,
          0,
          0,
          101.48333333333332,
          717.7166666666667,
          0,
          42.28333333333333,
          299.05,
          0,
          0,
          0,
          104805.65,
          741154.8833333333,
          0,
          0,
          0,
          0,
          0,
          0,
          0,
          0,
          0,
          0,
          0
         ],
         "yaxis": "y"
        },
        {
         "hovertemplate": "actor=Server (5, CIFAR10)<br>direction=%{x}<br>Read=%{y}<extra></extra>",
         "legendgroup": "Server (5, CIFAR10)",
         "line": {
          "color": "#00cc96",
          "dash": "solid"
         },
         "marker": {
          "symbol": "circle"
         },
         "mode": "lines",
         "name": "Server (5, CIFAR10)",
         "orientation": "v",
         "showlegend": true,
         "type": "scatter",
         "x": [
          "2024-05-22T13:45:00+02:00",
          "2024-05-22T13:46:00+02:00",
          "2024-05-22T13:47:00+02:00",
          "2024-05-22T13:48:00+02:00",
          "2024-05-22T13:49:00+02:00",
          "2024-05-22T13:50:00+02:00",
          "2024-05-22T13:51:00+02:00",
          "2024-05-22T13:52:00+02:00",
          "2024-05-22T13:53:00+02:00",
          "2024-05-22T13:54:00+02:00",
          "2024-05-22T13:55:00+02:00",
          "2024-05-22T13:56:00+02:00",
          "2024-05-22T13:57:00+02:00",
          "2024-05-22T13:58:00+02:00",
          "2024-05-22T13:59:00+02:00",
          "2024-05-22T14:00:00+02:00",
          "2024-05-22T14:01:00+02:00",
          "2024-05-22T14:02:00+02:00",
          "2024-05-22T14:03:00+02:00",
          "2024-05-22T14:04:00+02:00",
          "2024-05-22T14:05:00+02:00",
          "2024-05-22T14:06:00+02:00",
          "2024-05-22T14:07:00+02:00",
          "2024-05-22T14:08:00+02:00",
          "2024-05-22T14:09:00+02:00",
          "2024-05-22T14:10:00+02:00",
          "2024-05-22T14:11:00+02:00",
          "2024-05-22T14:12:00+02:00",
          "2024-05-22T14:13:00+02:00",
          "2024-05-22T14:14:00+02:00",
          "2024-05-22T14:15:00+02:00",
          "2024-05-22T14:16:00+02:00",
          "2024-05-22T14:17:00+02:00",
          "2024-05-22T14:18:00+02:00",
          "2024-05-22T14:19:00+02:00",
          "2024-05-22T14:20:00+02:00",
          "2024-05-22T14:21:00+02:00",
          "2024-05-22T14:22:00+02:00",
          "2024-05-22T14:23:00+02:00",
          "2024-05-22T14:24:00+02:00",
          "2024-05-22T14:25:00+02:00",
          "2024-05-22T14:26:00+02:00",
          "2024-05-22T14:27:00+02:00",
          "2024-05-22T14:28:00+02:00",
          "2024-05-22T14:29:00+02:00",
          "2024-05-22T14:30:00+02:00",
          "2024-05-22T14:31:00+02:00",
          "2024-05-22T14:32:00+02:00",
          "2024-05-22T14:33:00+02:00",
          "2024-05-22T14:34:00+02:00",
          "2024-05-22T14:35:00+02:00",
          "2024-05-22T14:36:00+02:00",
          "2024-05-22T14:37:00+02:00",
          "2024-05-22T14:38:00+02:00",
          "2024-05-22T14:39:00+02:00",
          "2024-05-22T14:40:00+02:00",
          "2024-05-22T14:41:00+02:00",
          "2024-05-22T14:42:00+02:00",
          "2024-05-22T14:43:00+02:00",
          "2024-05-22T14:44:00+02:00",
          "2024-05-22T14:45:00+02:00",
          "2024-05-22T14:46:00+02:00",
          "2024-05-22T14:47:00+02:00",
          "2024-05-22T14:48:00+02:00",
          "2024-05-22T14:49:00+02:00",
          "2024-05-22T14:50:00+02:00",
          "2024-05-22T14:51:00+02:00",
          "2024-05-22T14:52:00+02:00",
          "2024-05-22T14:53:00+02:00",
          "2024-05-22T14:54:00+02:00",
          "2024-05-22T14:55:00+02:00",
          "2024-05-22T14:56:00+02:00",
          "2024-05-22T14:57:00+02:00",
          "2024-05-22T14:58:00+02:00",
          "2024-05-22T14:59:00+02:00",
          "2024-05-22T15:00:00+02:00",
          "2024-05-22T15:01:00+02:00",
          "2024-05-22T15:02:00+02:00",
          "2024-05-22T15:03:00+02:00",
          "2024-05-22T15:04:00+02:00",
          "2024-05-22T15:05:00+02:00",
          "2024-05-22T15:06:00+02:00",
          "2024-05-22T15:07:00+02:00",
          "2024-05-22T15:08:00+02:00",
          "2024-05-22T15:09:00+02:00",
          "2024-05-22T15:10:00+02:00",
          "2024-05-22T15:11:00+02:00",
          "2024-05-22T15:12:00+02:00",
          "2024-05-22T15:13:00+02:00",
          "2024-05-22T15:14:00+02:00",
          "2024-05-22T15:15:00+02:00",
          "2024-05-22T15:16:00+02:00",
          "2024-05-22T15:17:00+02:00",
          "2024-05-22T15:18:00+02:00",
          "2024-05-22T15:19:00+02:00",
          "2024-05-22T15:20:00+02:00",
          "2024-05-22T15:21:00+02:00"
         ],
         "xaxis": "x",
         "y": [
          0,
          15.45,
          121.08333333333331,
          0,
          30.9,
          85816.46666666666,
          672126.1833333333,
          425178.15,
          3309597.433333333,
          694266.1,
          1198992.3666666667,
          7618315.566666666,
          3941691.533333333,
          2303.0666666666666,
          1092.25,
          968.65,
          0,
          1638.1666666666667,
          12842.1,
          539.6166666666667,
          4039.3333333333335,
          2386.7833333333333,
          1158,
          330.98333333333335,
          2126.616666666667,
          75.98333333333333,
          121.08333333333331,
          255,
          2005.5333333333333,
          75.98333333333333,
          615.6166666666667,
          3882.2666666666664,
          99.16666666666669,
          318.15,
          754.6666666666666,
          4972.016666666666,
          91.45,
          752.1166666666667,
          4003.366666666667,
          68.26666666666667,
          60.53333333333333,
          7.733333333333333,
          68.26666666666667,
          562.75,
          4197.85,
          2066.0666666666666,
          392.8,
          3352.7,
          6675.966666666666,
          6798.416666666667,
          4777.333333333333,
          7101.066666666667,
          3950.5,
          128.81666666666666,
          68.26666666666667,
          60.53333333333333,
          0,
          0,
          46.36666666666667,
          610.5166666666667,
          2169.0666666666666,
          1816.1833333333336,
          0,
          0,
          247.26666666666665,
          1937.2666666666669,
          247.28333333333333,
          1937.25,
          0,
          0,
          0,
          247.26666666666665,
          1937.2666666666669,
          247.28333333333333,
          2184.5333333333333,
          1937.25,
          0,
          0,
          0,
          38.63333333333333,
          364.51666666666665,
          484.31666666666666,
          0,
          0,
          0,
          0,
          0,
          1498.9166666666667,
          11744.816666666666,
          90261.56666666668,
          707161.3666666667,
          0,
          0,
          292070.98333333334,
          3462868.9166666665,
          10360902.083333334,
          10202380.833333334
         ],
         "yaxis": "y"
        },
        {
         "hovertemplate": "actor=Worker (10, CIFAR10)<br>direction=%{x}<br>Read=%{y}<extra></extra>",
         "legendgroup": "Worker (10, CIFAR10)",
         "line": {
          "color": "#ab63fa",
          "dash": "solid"
         },
         "marker": {
          "symbol": "circle"
         },
         "mode": "lines",
         "name": "Worker (10, CIFAR10)",
         "orientation": "v",
         "showlegend": true,
         "type": "scatter",
         "x": [
          "2024-05-22T15:42:00+02:00",
          "2024-05-22T15:43:00+02:00",
          "2024-05-22T15:44:00+02:00",
          "2024-05-22T15:45:00+02:00",
          "2024-05-22T15:46:00+02:00",
          "2024-05-22T15:47:00+02:00",
          "2024-05-22T15:48:00+02:00",
          "2024-05-22T15:49:00+02:00",
          "2024-05-22T15:50:00+02:00",
          "2024-05-22T15:51:00+02:00",
          "2024-05-22T15:52:00+02:00",
          "2024-05-22T15:53:00+02:00",
          "2024-05-22T15:54:00+02:00",
          "2024-05-22T15:55:00+02:00",
          "2024-05-22T15:56:00+02:00",
          "2024-05-22T15:57:00+02:00",
          "2024-05-22T15:58:00+02:00",
          "2024-05-22T15:59:00+02:00",
          "2024-05-22T16:00:00+02:00",
          "2024-05-22T16:01:00+02:00",
          "2024-05-22T16:02:00+02:00",
          "2024-05-22T16:03:00+02:00",
          "2024-05-22T16:04:00+02:00",
          "2024-05-22T16:05:00+02:00",
          "2024-05-22T16:06:00+02:00",
          "2024-05-22T16:07:00+02:00",
          "2024-05-22T16:08:00+02:00",
          "2024-05-22T16:09:00+02:00",
          "2024-05-22T16:10:00+02:00",
          "2024-05-22T16:11:00+02:00",
          "2024-05-22T16:12:00+02:00",
          "2024-05-22T16:13:00+02:00",
          "2024-05-22T16:14:00+02:00",
          "2024-05-22T16:15:00+02:00",
          "2024-05-22T16:16:00+02:00",
          "2024-05-22T16:17:00+02:00",
          "2024-05-22T16:18:00+02:00",
          "2024-05-22T16:19:00+02:00",
          "2024-05-22T16:20:00+02:00",
          "2024-05-22T16:21:00+02:00",
          "2024-05-22T16:22:00+02:00",
          "2024-05-22T16:23:00+02:00",
          "2024-05-22T16:24:00+02:00",
          "2024-05-22T16:25:00+02:00",
          "2024-05-22T16:26:00+02:00",
          "2024-05-22T16:27:00+02:00",
          "2024-05-22T16:28:00+02:00",
          "2024-05-22T16:29:00+02:00",
          "2024-05-22T16:30:00+02:00",
          "2024-05-22T16:31:00+02:00",
          "2024-05-22T16:32:00+02:00",
          "2024-05-22T16:33:00+02:00",
          "2024-05-22T16:34:00+02:00",
          "2024-05-22T16:35:00+02:00",
          "2024-05-22T16:36:00+02:00",
          "2024-05-22T16:37:00+02:00",
          "2024-05-22T16:38:00+02:00",
          "2024-05-22T16:39:00+02:00",
          "2024-05-22T16:40:00+02:00"
         ],
         "xaxis": "x",
         "y": [
          299.05,
          16.916666666666668,
          390.2833333333333,
          1913.8666666666663,
          0,
          0,
          0,
          0,
          0,
          0,
          0,
          0,
          0,
          499,
          3587.9333333333334,
          418.6666666666667,
          0,
          0,
          0,
          0,
          0,
          0,
          0,
          0,
          0,
          0,
          0,
          0,
          0,
          0,
          0,
          0,
          0,
          0,
          0,
          0,
          0,
          270.65,
          1913.8833333333332,
          0,
          0,
          270.6333333333333,
          1913.9,
          0,
          0,
          0,
          270.65,
          1913.8833333333332,
          0,
          0,
          0,
          0,
          0,
          0,
          0,
          0,
          1640.75,
          11602.983333333334,
          0
         ],
         "yaxis": "y"
        },
        {
         "hovertemplate": "actor=Standalone (CIFAR10)<br>direction=%{x}<br>Read=%{y}<extra></extra>",
         "legendgroup": "Standalone (CIFAR10)",
         "line": {
          "color": "#FFA15A",
          "dash": "solid"
         },
         "marker": {
          "symbol": "circle"
         },
         "mode": "lines",
         "name": "Standalone (CIFAR10)",
         "orientation": "v",
         "showlegend": true,
         "type": "scatter",
         "x": [
          "2024-05-22T14:15:00+02:00",
          "2024-05-22T14:16:00+02:00",
          "2024-05-22T14:17:00+02:00",
          "2024-05-22T14:18:00+02:00",
          "2024-05-22T14:19:00+02:00",
          "2024-05-22T14:20:00+02:00",
          "2024-05-22T14:21:00+02:00",
          "2024-05-22T14:22:00+02:00",
          "2024-05-22T14:23:00+02:00",
          "2024-05-22T14:24:00+02:00",
          "2024-05-22T14:25:00+02:00",
          "2024-05-22T14:26:00+02:00",
          "2024-05-22T14:27:00+02:00",
          "2024-05-22T14:28:00+02:00",
          "2024-05-22T14:29:00+02:00",
          "2024-05-22T14:30:00+02:00",
          "2024-05-22T14:31:00+02:00",
          "2024-05-22T14:32:00+02:00",
          "2024-05-22T14:33:00+02:00",
          "2024-05-22T14:34:00+02:00",
          "2024-05-22T14:35:00+02:00",
          "2024-05-22T14:36:00+02:00",
          "2024-05-22T14:37:00+02:00"
         ],
         "xaxis": "x",
         "y": [
          172.66666666666666,
          6708.666666666667,
          2676740.1166666667,
          1233852.2333333334,
          1003115.0666666668,
          14382643.166666666,
          30993442.35,
          5275148.483333333,
          1656264.5,
          308335.06666666665,
          78.96666666666667,
          3751.866666666667,
          696.1833333333333,
          0,
          0,
          57.55,
          10.716666666666669,
          0,
          0,
          0,
          16000.733333333334,
          3034.95,
          68.26666666666667
         ],
         "yaxis": "y"
        },
        {
         "hovertemplate": "actor=Worker (20, CIFAR10)<br>direction=%{x}<br>Read=%{y}<extra></extra>",
         "legendgroup": "Worker (20, CIFAR10)",
         "line": {
          "color": "#19d3f3",
          "dash": "solid"
         },
         "marker": {
          "symbol": "circle"
         },
         "mode": "lines",
         "name": "Worker (20, CIFAR10)",
         "orientation": "v",
         "showlegend": true,
         "type": "scatter",
         "x": [
          "2024-05-22T18:18:00+02:00",
          "2024-05-22T18:19:00+02:00",
          "2024-05-22T18:20:00+02:00",
          "2024-05-22T18:21:00+02:00",
          "2024-05-22T18:22:00+02:00",
          "2024-05-22T18:23:00+02:00",
          "2024-05-22T18:24:00+02:00",
          "2024-05-22T18:25:00+02:00",
          "2024-05-22T18:26:00+02:00",
          "2024-05-22T18:27:00+02:00",
          "2024-05-22T18:28:00+02:00",
          "2024-05-22T18:29:00+02:00",
          "2024-05-22T18:30:00+02:00",
          "2024-05-22T18:31:00+02:00",
          "2024-05-22T18:32:00+02:00",
          "2024-05-22T18:33:00+02:00",
          "2024-05-22T18:34:00+02:00",
          "2024-05-22T18:35:00+02:00",
          "2024-05-22T18:36:00+02:00",
          "2024-05-22T18:37:00+02:00",
          "2024-05-22T18:38:00+02:00",
          "2024-05-22T18:39:00+02:00",
          "2024-05-22T18:40:00+02:00",
          "2024-05-22T18:41:00+02:00",
          "2024-05-22T18:42:00+02:00",
          "2024-05-22T18:43:00+02:00",
          "2024-05-22T18:44:00+02:00",
          "2024-05-22T18:45:00+02:00",
          "2024-05-22T18:46:00+02:00",
          "2024-05-22T18:47:00+02:00",
          "2024-05-22T18:48:00+02:00",
          "2024-05-22T18:49:00+02:00",
          "2024-05-22T18:50:00+02:00",
          "2024-05-22T18:51:00+02:00",
          "2024-05-22T18:52:00+02:00",
          "2024-05-22T18:53:00+02:00",
          "2024-05-22T18:54:00+02:00",
          "2024-05-22T18:55:00+02:00",
          "2024-05-22T18:56:00+02:00",
          "2024-05-22T18:57:00+02:00",
          "2024-05-22T18:58:00+02:00",
          "2024-05-22T18:59:00+02:00",
          "2024-05-22T19:00:00+02:00",
          "2024-05-22T19:01:00+02:00",
          "2024-05-22T19:02:00+02:00",
          "2024-05-22T19:03:00+02:00",
          "2024-05-22T19:04:00+02:00",
          "2024-05-22T19:05:00+02:00",
          "2024-05-22T19:06:00+02:00",
          "2024-05-22T19:07:00+02:00",
          "2024-05-22T19:08:00+02:00",
          "2024-05-22T19:09:00+02:00",
          "2024-05-22T19:10:00+02:00",
          "2024-05-22T19:11:00+02:00",
          "2024-05-22T19:12:00+02:00",
          "2024-05-22T19:13:00+02:00",
          "2024-05-22T19:14:00+02:00",
          "2024-05-22T19:15:00+02:00",
          "2024-05-22T19:16:00+02:00"
         ],
         "xaxis": "x",
         "y": [
          0,
          0,
          0,
          0,
          1517.3833333333332,
          667.15,
          0,
          0,
          0,
          0,
          49646.98333333333,
          126764.98333333334,
          46137.36666666667,
          616.4333333333333,
          271.0333333333333,
          0,
          0,
          11001.133333333331,
          4836.733333333334,
          284.51666666666665,
          125.08333333333331,
          0,
          0,
          0,
          0,
          426.76666666666665,
          187.63333333333333,
          0,
          0,
          1517.3833333333332,
          2184.55,
          714.55,
          1585.6666666666667,
          687.9833333333333,
          0,
          0,
          0,
          616.45,
          271.01666666666665,
          0,
          0,
          0,
          0,
          1517.3833333333332,
          667.15,
          94.83333333333331,
          326.21666666666664,
          125.08333333333331,
          0,
          0,
          0,
          0,
          0,
          0,
          0,
          0,
          0,
          426.76666666666665,
          1705.0333333333333
         ],
         "yaxis": "y"
        },
        {
         "hovertemplate": "actor=Server (20, CIFAR10)<br>direction=%{x}<br>Read=%{y}<extra></extra>",
         "legendgroup": "Server (20, CIFAR10)",
         "line": {
          "color": "#FF6692",
          "dash": "solid"
         },
         "marker": {
          "symbol": "circle"
         },
         "mode": "lines",
         "name": "Server (20, CIFAR10)",
         "orientation": "v",
         "showlegend": true,
         "type": "scatter",
         "x": [
          "2024-05-22T18:20:00+02:00",
          "2024-05-22T18:21:00+02:00",
          "2024-05-22T18:22:00+02:00",
          "2024-05-22T18:23:00+02:00",
          "2024-05-22T18:24:00+02:00",
          "2024-05-22T18:25:00+02:00",
          "2024-05-22T18:26:00+02:00",
          "2024-05-22T18:27:00+02:00",
          "2024-05-22T18:28:00+02:00",
          "2024-05-22T18:29:00+02:00",
          "2024-05-22T18:30:00+02:00",
          "2024-05-22T18:31:00+02:00",
          "2024-05-22T18:32:00+02:00",
          "2024-05-22T18:33:00+02:00",
          "2024-05-22T18:34:00+02:00",
          "2024-05-22T18:35:00+02:00",
          "2024-05-22T18:36:00+02:00",
          "2024-05-22T18:37:00+02:00",
          "2024-05-22T18:38:00+02:00",
          "2024-05-22T18:39:00+02:00",
          "2024-05-22T18:40:00+02:00",
          "2024-05-22T18:41:00+02:00",
          "2024-05-22T18:42:00+02:00",
          "2024-05-22T18:43:00+02:00",
          "2024-05-22T18:44:00+02:00",
          "2024-05-22T18:45:00+02:00",
          "2024-05-22T18:46:00+02:00",
          "2024-05-22T18:47:00+02:00",
          "2024-05-22T18:48:00+02:00",
          "2024-05-22T18:49:00+02:00",
          "2024-05-22T18:50:00+02:00",
          "2024-05-22T18:51:00+02:00",
          "2024-05-22T18:52:00+02:00",
          "2024-05-22T18:53:00+02:00",
          "2024-05-22T18:54:00+02:00",
          "2024-05-22T18:55:00+02:00",
          "2024-05-22T18:56:00+02:00",
          "2024-05-22T18:57:00+02:00",
          "2024-05-22T18:58:00+02:00",
          "2024-05-22T18:59:00+02:00",
          "2024-05-22T19:00:00+02:00",
          "2024-05-22T19:01:00+02:00",
          "2024-05-22T19:02:00+02:00",
          "2024-05-22T19:03:00+02:00",
          "2024-05-22T19:04:00+02:00",
          "2024-05-22T19:05:00+02:00",
          "2024-05-22T19:06:00+02:00",
          "2024-05-22T19:07:00+02:00",
          "2024-05-22T19:08:00+02:00",
          "2024-05-22T19:09:00+02:00",
          "2024-05-22T19:10:00+02:00",
          "2024-05-22T19:11:00+02:00",
          "2024-05-22T19:12:00+02:00",
          "2024-05-22T19:13:00+02:00",
          "2024-05-22T19:14:00+02:00",
          "2024-05-22T19:15:00+02:00",
          "2024-05-22T19:16:00+02:00",
          "2024-05-22T19:17:00+02:00",
          "2024-05-22T19:18:00+02:00"
         ],
         "xaxis": "x",
         "y": [
          0,
          0,
          1517.3833333333332,
          667.15,
          0,
          0,
          0,
          0,
          49646.98333333333,
          126764.98333333334,
          46137.36666666667,
          616.4333333333333,
          271.0333333333333,
          0,
          0,
          11001.133333333331,
          4836.733333333334,
          284.51666666666665,
          125.08333333333331,
          0,
          0,
          0,
          0,
          426.76666666666665,
          187.63333333333333,
          0,
          0,
          1517.3833333333332,
          2184.55,
          714.55,
          1585.6666666666667,
          687.9833333333333,
          0,
          0,
          0,
          616.45,
          271.01666666666665,
          0,
          0,
          0,
          0,
          1517.3833333333332,
          667.15,
          94.83333333333331,
          326.21666666666664,
          125.08333333333331,
          0,
          0,
          0,
          0,
          0,
          0,
          0,
          0,
          0,
          426.76666666666665,
          1705.0333333333333,
          667.1333333333333,
          0
         ],
         "yaxis": "y"
        }
       ],
       "layout": {
        "height": 600,
        "legend": {
         "title": {
          "text": "actor"
         },
         "tracegroupgap": 0
        },
        "template": {
         "data": {
          "bar": [
           {
            "error_x": {
             "color": "#2a3f5f"
            },
            "error_y": {
             "color": "#2a3f5f"
            },
            "marker": {
             "line": {
              "color": "white",
              "width": 0.5
             },
             "pattern": {
              "fillmode": "overlay",
              "size": 10,
              "solidity": 0.2
             }
            },
            "type": "bar"
           }
          ],
          "barpolar": [
           {
            "marker": {
             "line": {
              "color": "white",
              "width": 0.5
             },
             "pattern": {
              "fillmode": "overlay",
              "size": 10,
              "solidity": 0.2
             }
            },
            "type": "barpolar"
           }
          ],
          "carpet": [
           {
            "aaxis": {
             "endlinecolor": "#2a3f5f",
             "gridcolor": "#C8D4E3",
             "linecolor": "#C8D4E3",
             "minorgridcolor": "#C8D4E3",
             "startlinecolor": "#2a3f5f"
            },
            "baxis": {
             "endlinecolor": "#2a3f5f",
             "gridcolor": "#C8D4E3",
             "linecolor": "#C8D4E3",
             "minorgridcolor": "#C8D4E3",
             "startlinecolor": "#2a3f5f"
            },
            "type": "carpet"
           }
          ],
          "choropleth": [
           {
            "colorbar": {
             "outlinewidth": 0,
             "ticks": ""
            },
            "type": "choropleth"
           }
          ],
          "contour": [
           {
            "colorbar": {
             "outlinewidth": 0,
             "ticks": ""
            },
            "colorscale": [
             [
              0,
              "#0d0887"
             ],
             [
              0.1111111111111111,
              "#46039f"
             ],
             [
              0.2222222222222222,
              "#7201a8"
             ],
             [
              0.3333333333333333,
              "#9c179e"
             ],
             [
              0.4444444444444444,
              "#bd3786"
             ],
             [
              0.5555555555555556,
              "#d8576b"
             ],
             [
              0.6666666666666666,
              "#ed7953"
             ],
             [
              0.7777777777777778,
              "#fb9f3a"
             ],
             [
              0.8888888888888888,
              "#fdca26"
             ],
             [
              1,
              "#f0f921"
             ]
            ],
            "type": "contour"
           }
          ],
          "contourcarpet": [
           {
            "colorbar": {
             "outlinewidth": 0,
             "ticks": ""
            },
            "type": "contourcarpet"
           }
          ],
          "heatmap": [
           {
            "colorbar": {
             "outlinewidth": 0,
             "ticks": ""
            },
            "colorscale": [
             [
              0,
              "#0d0887"
             ],
             [
              0.1111111111111111,
              "#46039f"
             ],
             [
              0.2222222222222222,
              "#7201a8"
             ],
             [
              0.3333333333333333,
              "#9c179e"
             ],
             [
              0.4444444444444444,
              "#bd3786"
             ],
             [
              0.5555555555555556,
              "#d8576b"
             ],
             [
              0.6666666666666666,
              "#ed7953"
             ],
             [
              0.7777777777777778,
              "#fb9f3a"
             ],
             [
              0.8888888888888888,
              "#fdca26"
             ],
             [
              1,
              "#f0f921"
             ]
            ],
            "type": "heatmap"
           }
          ],
          "heatmapgl": [
           {
            "colorbar": {
             "outlinewidth": 0,
             "ticks": ""
            },
            "colorscale": [
             [
              0,
              "#0d0887"
             ],
             [
              0.1111111111111111,
              "#46039f"
             ],
             [
              0.2222222222222222,
              "#7201a8"
             ],
             [
              0.3333333333333333,
              "#9c179e"
             ],
             [
              0.4444444444444444,
              "#bd3786"
             ],
             [
              0.5555555555555556,
              "#d8576b"
             ],
             [
              0.6666666666666666,
              "#ed7953"
             ],
             [
              0.7777777777777778,
              "#fb9f3a"
             ],
             [
              0.8888888888888888,
              "#fdca26"
             ],
             [
              1,
              "#f0f921"
             ]
            ],
            "type": "heatmapgl"
           }
          ],
          "histogram": [
           {
            "marker": {
             "pattern": {
              "fillmode": "overlay",
              "size": 10,
              "solidity": 0.2
             }
            },
            "type": "histogram"
           }
          ],
          "histogram2d": [
           {
            "colorbar": {
             "outlinewidth": 0,
             "ticks": ""
            },
            "colorscale": [
             [
              0,
              "#0d0887"
             ],
             [
              0.1111111111111111,
              "#46039f"
             ],
             [
              0.2222222222222222,
              "#7201a8"
             ],
             [
              0.3333333333333333,
              "#9c179e"
             ],
             [
              0.4444444444444444,
              "#bd3786"
             ],
             [
              0.5555555555555556,
              "#d8576b"
             ],
             [
              0.6666666666666666,
              "#ed7953"
             ],
             [
              0.7777777777777778,
              "#fb9f3a"
             ],
             [
              0.8888888888888888,
              "#fdca26"
             ],
             [
              1,
              "#f0f921"
             ]
            ],
            "type": "histogram2d"
           }
          ],
          "histogram2dcontour": [
           {
            "colorbar": {
             "outlinewidth": 0,
             "ticks": ""
            },
            "colorscale": [
             [
              0,
              "#0d0887"
             ],
             [
              0.1111111111111111,
              "#46039f"
             ],
             [
              0.2222222222222222,
              "#7201a8"
             ],
             [
              0.3333333333333333,
              "#9c179e"
             ],
             [
              0.4444444444444444,
              "#bd3786"
             ],
             [
              0.5555555555555556,
              "#d8576b"
             ],
             [
              0.6666666666666666,
              "#ed7953"
             ],
             [
              0.7777777777777778,
              "#fb9f3a"
             ],
             [
              0.8888888888888888,
              "#fdca26"
             ],
             [
              1,
              "#f0f921"
             ]
            ],
            "type": "histogram2dcontour"
           }
          ],
          "mesh3d": [
           {
            "colorbar": {
             "outlinewidth": 0,
             "ticks": ""
            },
            "type": "mesh3d"
           }
          ],
          "parcoords": [
           {
            "line": {
             "colorbar": {
              "outlinewidth": 0,
              "ticks": ""
             }
            },
            "type": "parcoords"
           }
          ],
          "pie": [
           {
            "automargin": true,
            "type": "pie"
           }
          ],
          "scatter": [
           {
            "fillpattern": {
             "fillmode": "overlay",
             "size": 10,
             "solidity": 0.2
            },
            "type": "scatter"
           }
          ],
          "scatter3d": [
           {
            "line": {
             "colorbar": {
              "outlinewidth": 0,
              "ticks": ""
             }
            },
            "marker": {
             "colorbar": {
              "outlinewidth": 0,
              "ticks": ""
             }
            },
            "type": "scatter3d"
           }
          ],
          "scattercarpet": [
           {
            "marker": {
             "colorbar": {
              "outlinewidth": 0,
              "ticks": ""
             }
            },
            "type": "scattercarpet"
           }
          ],
          "scattergeo": [
           {
            "marker": {
             "colorbar": {
              "outlinewidth": 0,
              "ticks": ""
             }
            },
            "type": "scattergeo"
           }
          ],
          "scattergl": [
           {
            "marker": {
             "colorbar": {
              "outlinewidth": 0,
              "ticks": ""
             }
            },
            "type": "scattergl"
           }
          ],
          "scattermapbox": [
           {
            "marker": {
             "colorbar": {
              "outlinewidth": 0,
              "ticks": ""
             }
            },
            "type": "scattermapbox"
           }
          ],
          "scatterpolar": [
           {
            "marker": {
             "colorbar": {
              "outlinewidth": 0,
              "ticks": ""
             }
            },
            "type": "scatterpolar"
           }
          ],
          "scatterpolargl": [
           {
            "marker": {
             "colorbar": {
              "outlinewidth": 0,
              "ticks": ""
             }
            },
            "type": "scatterpolargl"
           }
          ],
          "scatterternary": [
           {
            "marker": {
             "colorbar": {
              "outlinewidth": 0,
              "ticks": ""
             }
            },
            "type": "scatterternary"
           }
          ],
          "surface": [
           {
            "colorbar": {
             "outlinewidth": 0,
             "ticks": ""
            },
            "colorscale": [
             [
              0,
              "#0d0887"
             ],
             [
              0.1111111111111111,
              "#46039f"
             ],
             [
              0.2222222222222222,
              "#7201a8"
             ],
             [
              0.3333333333333333,
              "#9c179e"
             ],
             [
              0.4444444444444444,
              "#bd3786"
             ],
             [
              0.5555555555555556,
              "#d8576b"
             ],
             [
              0.6666666666666666,
              "#ed7953"
             ],
             [
              0.7777777777777778,
              "#fb9f3a"
             ],
             [
              0.8888888888888888,
              "#fdca26"
             ],
             [
              1,
              "#f0f921"
             ]
            ],
            "type": "surface"
           }
          ],
          "table": [
           {
            "cells": {
             "fill": {
              "color": "#EBF0F8"
             },
             "line": {
              "color": "white"
             }
            },
            "header": {
             "fill": {
              "color": "#C8D4E3"
             },
             "line": {
              "color": "white"
             }
            },
            "type": "table"
           }
          ]
         },
         "layout": {
          "annotationdefaults": {
           "arrowcolor": "#2a3f5f",
           "arrowhead": 0,
           "arrowwidth": 1
          },
          "autotypenumbers": "strict",
          "coloraxis": {
           "colorbar": {
            "outlinewidth": 0,
            "ticks": ""
           }
          },
          "colorscale": {
           "diverging": [
            [
             0,
             "#8e0152"
            ],
            [
             0.1,
             "#c51b7d"
            ],
            [
             0.2,
             "#de77ae"
            ],
            [
             0.3,
             "#f1b6da"
            ],
            [
             0.4,
             "#fde0ef"
            ],
            [
             0.5,
             "#f7f7f7"
            ],
            [
             0.6,
             "#e6f5d0"
            ],
            [
             0.7,
             "#b8e186"
            ],
            [
             0.8,
             "#7fbc41"
            ],
            [
             0.9,
             "#4d9221"
            ],
            [
             1,
             "#276419"
            ]
           ],
           "sequential": [
            [
             0,
             "#0d0887"
            ],
            [
             0.1111111111111111,
             "#46039f"
            ],
            [
             0.2222222222222222,
             "#7201a8"
            ],
            [
             0.3333333333333333,
             "#9c179e"
            ],
            [
             0.4444444444444444,
             "#bd3786"
            ],
            [
             0.5555555555555556,
             "#d8576b"
            ],
            [
             0.6666666666666666,
             "#ed7953"
            ],
            [
             0.7777777777777778,
             "#fb9f3a"
            ],
            [
             0.8888888888888888,
             "#fdca26"
            ],
            [
             1,
             "#f0f921"
            ]
           ],
           "sequentialminus": [
            [
             0,
             "#0d0887"
            ],
            [
             0.1111111111111111,
             "#46039f"
            ],
            [
             0.2222222222222222,
             "#7201a8"
            ],
            [
             0.3333333333333333,
             "#9c179e"
            ],
            [
             0.4444444444444444,
             "#bd3786"
            ],
            [
             0.5555555555555556,
             "#d8576b"
            ],
            [
             0.6666666666666666,
             "#ed7953"
            ],
            [
             0.7777777777777778,
             "#fb9f3a"
            ],
            [
             0.8888888888888888,
             "#fdca26"
            ],
            [
             1,
             "#f0f921"
            ]
           ]
          },
          "colorway": [
           "#636efa",
           "#EF553B",
           "#00cc96",
           "#ab63fa",
           "#FFA15A",
           "#19d3f3",
           "#FF6692",
           "#B6E880",
           "#FF97FF",
           "#FECB52"
          ],
          "font": {
           "color": "#2a3f5f"
          },
          "geo": {
           "bgcolor": "white",
           "lakecolor": "white",
           "landcolor": "white",
           "showlakes": true,
           "showland": true,
           "subunitcolor": "#C8D4E3"
          },
          "hoverlabel": {
           "align": "left"
          },
          "hovermode": "closest",
          "mapbox": {
           "style": "light"
          },
          "paper_bgcolor": "white",
          "plot_bgcolor": "white",
          "polar": {
           "angularaxis": {
            "gridcolor": "#EBF0F8",
            "linecolor": "#EBF0F8",
            "ticks": ""
           },
           "bgcolor": "white",
           "radialaxis": {
            "gridcolor": "#EBF0F8",
            "linecolor": "#EBF0F8",
            "ticks": ""
           }
          },
          "scene": {
           "xaxis": {
            "backgroundcolor": "white",
            "gridcolor": "#DFE8F3",
            "gridwidth": 2,
            "linecolor": "#EBF0F8",
            "showbackground": true,
            "ticks": "",
            "zerolinecolor": "#EBF0F8"
           },
           "yaxis": {
            "backgroundcolor": "white",
            "gridcolor": "#DFE8F3",
            "gridwidth": 2,
            "linecolor": "#EBF0F8",
            "showbackground": true,
            "ticks": "",
            "zerolinecolor": "#EBF0F8"
           },
           "zaxis": {
            "backgroundcolor": "white",
            "gridcolor": "#DFE8F3",
            "gridwidth": 2,
            "linecolor": "#EBF0F8",
            "showbackground": true,
            "ticks": "",
            "zerolinecolor": "#EBF0F8"
           }
          },
          "shapedefaults": {
           "line": {
            "color": "#2a3f5f"
           }
          },
          "ternary": {
           "aaxis": {
            "gridcolor": "#DFE8F3",
            "linecolor": "#A2B1C6",
            "ticks": ""
           },
           "baxis": {
            "gridcolor": "#DFE8F3",
            "linecolor": "#A2B1C6",
            "ticks": ""
           },
           "bgcolor": "white",
           "caxis": {
            "gridcolor": "#DFE8F3",
            "linecolor": "#A2B1C6",
            "ticks": ""
           }
          },
          "title": {
           "x": 0.05
          },
          "xaxis": {
           "automargin": true,
           "gridcolor": "#EBF0F8",
           "linecolor": "#EBF0F8",
           "ticks": "",
           "title": {
            "standoff": 15
           },
           "zerolinecolor": "#EBF0F8",
           "zerolinewidth": 2
          },
          "yaxis": {
           "automargin": true,
           "gridcolor": "#EBF0F8",
           "linecolor": "#EBF0F8",
           "ticks": "",
           "title": {
            "standoff": 15
           },
           "zerolinecolor": "#EBF0F8",
           "zerolinewidth": 2
          }
         }
        },
        "title": {
         "text": "Disk usage"
        },
        "width": 1200,
        "xaxis": {
         "anchor": "y",
         "domain": [
          0,
          1
         ],
         "title": {
          "text": "direction"
         }
        },
        "yaxis": {
         "anchor": "x",
         "domain": [
          0,
          1
         ],
         "title": {
          "text": "Read"
         }
        }
       }
      }
     },
     "metadata": {},
     "output_type": "display_data"
    },
    {
     "data": {
      "application/vnd.plotly.v1+json": {
       "config": {
        "plotlyServerURL": "https://plot.ly"
       },
       "data": [
        {
         "hovertemplate": "actor=Server (10, CIFAR10)<br>direction=%{x}<br>Write=%{y}<extra></extra>",
         "legendgroup": "Server (10, CIFAR10)",
         "line": {
          "color": "#636efa",
          "dash": "solid"
         },
         "marker": {
          "symbol": "circle"
         },
         "mode": "lines",
         "name": "Server (10, CIFAR10)",
         "orientation": "v",
         "showlegend": true,
         "type": "scatter",
         "x": [
          "2024-05-22T15:41:00+02:00",
          "2024-05-22T15:42:00+02:00",
          "2024-05-22T15:43:00+02:00",
          "2024-05-22T15:44:00+02:00",
          "2024-05-22T15:45:00+02:00",
          "2024-05-22T15:46:00+02:00",
          "2024-05-22T15:47:00+02:00",
          "2024-05-22T15:48:00+02:00",
          "2024-05-22T15:49:00+02:00",
          "2024-05-22T15:50:00+02:00",
          "2024-05-22T15:51:00+02:00",
          "2024-05-22T15:52:00+02:00",
          "2024-05-22T15:53:00+02:00",
          "2024-05-22T15:54:00+02:00",
          "2024-05-22T15:55:00+02:00",
          "2024-05-22T15:56:00+02:00",
          "2024-05-22T15:57:00+02:00",
          "2024-05-22T15:58:00+02:00",
          "2024-05-22T15:59:00+02:00",
          "2024-05-22T16:00:00+02:00",
          "2024-05-22T16:01:00+02:00",
          "2024-05-22T16:02:00+02:00",
          "2024-05-22T16:03:00+02:00",
          "2024-05-22T16:04:00+02:00",
          "2024-05-22T16:05:00+02:00",
          "2024-05-22T16:06:00+02:00",
          "2024-05-22T16:07:00+02:00",
          "2024-05-22T16:08:00+02:00",
          "2024-05-22T16:09:00+02:00",
          "2024-05-22T16:10:00+02:00",
          "2024-05-22T16:11:00+02:00",
          "2024-05-22T16:12:00+02:00",
          "2024-05-22T16:13:00+02:00",
          "2024-05-22T16:14:00+02:00",
          "2024-05-22T16:15:00+02:00",
          "2024-05-22T16:16:00+02:00",
          "2024-05-22T16:17:00+02:00",
          "2024-05-22T16:18:00+02:00",
          "2024-05-22T16:19:00+02:00",
          "2024-05-22T16:20:00+02:00",
          "2024-05-22T16:21:00+02:00",
          "2024-05-22T16:22:00+02:00",
          "2024-05-22T16:23:00+02:00",
          "2024-05-22T16:24:00+02:00",
          "2024-05-22T16:25:00+02:00",
          "2024-05-22T16:26:00+02:00",
          "2024-05-22T16:27:00+02:00",
          "2024-05-22T16:28:00+02:00",
          "2024-05-22T16:29:00+02:00",
          "2024-05-22T16:30:00+02:00",
          "2024-05-22T16:31:00+02:00",
          "2024-05-22T16:32:00+02:00",
          "2024-05-22T16:33:00+02:00",
          "2024-05-22T16:34:00+02:00",
          "2024-05-22T16:35:00+02:00",
          "2024-05-22T16:36:00+02:00",
          "2024-05-22T16:37:00+02:00",
          "2024-05-22T16:38:00+02:00"
         ],
         "xaxis": "x",
         "y": [
          32894.28333333333,
          32794.76666666666,
          40363.76666666667,
          62310.28333333333,
          274404.5,
          244870.53333333333,
          77984.38333333333,
          249330.05,
          75060.33333333334,
          283834.8166666667,
          283470.1333333333,
          258773.95,
          72600.2,
          249285.96666666667,
          74051.05,
          281629.0833333333,
          249069.63333333333,
          72932.8,
          253472.48333333337,
          79539.56666666667,
          258243.41666666663,
          81048.43333333333,
          270214.3,
          253711.66666666663,
          71068.63333333333,
          258012.83333333337,
          71562.66666666667,
          269955.9,
          259179.31666666665,
          81328.53333333333,
          255086.71666666667,
          70429.25,
          280601.9666666667,
          255807.9,
          76821.41666666667,
          275406.6333333333,
          256922.75,
          74680.41666666667,
          282649.05,
          251138.23333333337,
          67346.15,
          252942.13333333333,
          72782.3,
          285962.4333333333,
          257279.51666666663,
          75594.43333333333,
          253388.73333333337,
          78665.51666666668,
          281390.85,
          275886.6,
          249492.2,
          76777.13333333333,
          260907.18333333335,
          76026.56666666667,
          283924.7333333333,
          259723.61666666667,
          64512.73333333333,
          257075.58333333337
         ],
         "yaxis": "y"
        },
        {
         "hovertemplate": "actor=Worker (5, CIFAR10)<br>direction=%{x}<br>Write=%{y}<extra></extra>",
         "legendgroup": "Worker (5, CIFAR10)",
         "line": {
          "color": "#EF553B",
          "dash": "solid"
         },
         "marker": {
          "symbol": "circle"
         },
         "mode": "lines",
         "name": "Worker (5, CIFAR10)",
         "orientation": "v",
         "showlegend": true,
         "type": "scatter",
         "x": [
          "2024-05-22T13:31:00+02:00",
          "2024-05-22T13:32:00+02:00",
          "2024-05-22T13:33:00+02:00",
          "2024-05-22T13:34:00+02:00",
          "2024-05-22T13:35:00+02:00",
          "2024-05-22T13:36:00+02:00",
          "2024-05-22T13:37:00+02:00",
          "2024-05-22T13:38:00+02:00",
          "2024-05-22T13:39:00+02:00",
          "2024-05-22T13:40:00+02:00",
          "2024-05-22T13:41:00+02:00",
          "2024-05-22T13:42:00+02:00",
          "2024-05-22T13:43:00+02:00",
          "2024-05-22T13:44:00+02:00",
          "2024-05-22T13:45:00+02:00",
          "2024-05-22T13:46:00+02:00",
          "2024-05-22T13:47:00+02:00",
          "2024-05-22T13:48:00+02:00",
          "2024-05-22T13:49:00+02:00",
          "2024-05-22T13:50:00+02:00",
          "2024-05-22T13:51:00+02:00",
          "2024-05-22T13:52:00+02:00",
          "2024-05-22T13:53:00+02:00",
          "2024-05-22T13:54:00+02:00",
          "2024-05-22T13:55:00+02:00",
          "2024-05-22T13:56:00+02:00",
          "2024-05-22T13:57:00+02:00",
          "2024-05-22T13:58:00+02:00",
          "2024-05-22T13:59:00+02:00",
          "2024-05-22T14:00:00+02:00",
          "2024-05-22T14:01:00+02:00",
          "2024-05-22T14:02:00+02:00",
          "2024-05-22T14:03:00+02:00",
          "2024-05-22T14:04:00+02:00",
          "2024-05-22T14:05:00+02:00",
          "2024-05-22T14:06:00+02:00",
          "2024-05-22T14:07:00+02:00",
          "2024-05-22T14:08:00+02:00",
          "2024-05-22T14:09:00+02:00",
          "2024-05-22T14:10:00+02:00",
          "2024-05-22T14:11:00+02:00",
          "2024-05-22T14:12:00+02:00",
          "2024-05-22T14:13:00+02:00",
          "2024-05-22T14:14:00+02:00",
          "2024-05-22T14:15:00+02:00",
          "2024-05-22T14:16:00+02:00",
          "2024-05-22T14:17:00+02:00",
          "2024-05-22T14:18:00+02:00",
          "2024-05-22T14:19:00+02:00",
          "2024-05-22T14:20:00+02:00",
          "2024-05-22T14:21:00+02:00",
          "2024-05-22T14:22:00+02:00",
          "2024-05-22T14:23:00+02:00",
          "2024-05-22T14:24:00+02:00",
          "2024-05-22T14:25:00+02:00",
          "2024-05-22T14:26:00+02:00",
          "2024-05-22T14:27:00+02:00",
          "2024-05-22T14:28:00+02:00",
          "2024-05-22T14:29:00+02:00",
          "2024-05-22T14:30:00+02:00",
          "2024-05-22T14:31:00+02:00",
          "2024-05-22T14:32:00+02:00",
          "2024-05-22T14:33:00+02:00",
          "2024-05-22T14:34:00+02:00",
          "2024-05-22T14:35:00+02:00",
          "2024-05-22T14:36:00+02:00",
          "2024-05-22T14:37:00+02:00",
          "2024-05-22T14:38:00+02:00",
          "2024-05-22T14:39:00+02:00",
          "2024-05-22T14:40:00+02:00",
          "2024-05-22T14:41:00+02:00",
          "2024-05-22T14:42:00+02:00",
          "2024-05-22T14:43:00+02:00",
          "2024-05-22T14:44:00+02:00",
          "2024-05-22T14:45:00+02:00",
          "2024-05-22T14:46:00+02:00",
          "2024-05-22T14:47:00+02:00",
          "2024-05-22T14:48:00+02:00",
          "2024-05-22T14:49:00+02:00",
          "2024-05-22T14:50:00+02:00",
          "2024-05-22T14:51:00+02:00",
          "2024-05-22T14:52:00+02:00",
          "2024-05-22T14:53:00+02:00",
          "2024-05-22T14:54:00+02:00",
          "2024-05-22T14:55:00+02:00",
          "2024-05-22T14:56:00+02:00",
          "2024-05-22T14:57:00+02:00",
          "2024-05-22T14:58:00+02:00",
          "2024-05-22T14:59:00+02:00",
          "2024-05-22T15:00:00+02:00",
          "2024-05-22T15:01:00+02:00",
          "2024-05-22T15:02:00+02:00",
          "2024-05-22T15:03:00+02:00",
          "2024-05-22T15:04:00+02:00",
          "2024-05-22T15:05:00+02:00",
          "2024-05-22T15:06:00+02:00",
          "2024-05-22T15:07:00+02:00",
          "2024-05-22T15:08:00+02:00",
          "2024-05-22T15:09:00+02:00",
          "2024-05-22T15:10:00+02:00",
          "2024-05-22T15:11:00+02:00",
          "2024-05-22T15:12:00+02:00",
          "2024-05-22T15:13:00+02:00",
          "2024-05-22T15:14:00+02:00",
          "2024-05-22T15:15:00+02:00",
          "2024-05-22T15:16:00+02:00",
          "2024-05-22T15:17:00+02:00",
          "2024-05-22T15:18:00+02:00",
          "2024-05-22T15:19:00+02:00",
          "2024-05-22T15:20:00+02:00",
          "2024-05-22T15:21:00+02:00",
          "2024-05-22T15:22:00+02:00",
          "2024-05-22T15:23:00+02:00",
          "2024-05-22T15:24:00+02:00",
          "2024-05-22T15:25:00+02:00",
          "2024-05-22T15:26:00+02:00"
         ],
         "xaxis": "x",
         "y": [
          59370.49999999999,
          592104.7833333333,
          65901.15,
          26191.38333333333,
          25214.65,
          32881.1,
          31511.35,
          32433.766666666663,
          27868.233333333337,
          34312.03333333333,
          23293.033333333333,
          37795.166666666664,
          29786.833333333336,
          26225.616666666665,
          30905.433333333334,
          32801.75,
          33154.98333333333,
          30008.45,
          25856.716666666667,
          25791.4,
          30354.45,
          117133.56666666668,
          613881.3666666666,
          64467.26666666666,
          448752.35,
          2936757.2,
          42925.55,
          34755.183333333334,
          42369.2,
          41562.65,
          44749.65,
          49276.85,
          39390.86666666667,
          44270.8,
          37480.71666666667,
          35871.71666666667,
          38540.21666666667,
          41537.25,
          37490.46666666667,
          41184.16666666667,
          40244.41666666667,
          45768.416666666664,
          41773.9,
          40175.933333333334,
          46225.083333333336,
          44204.48333333333,
          31867.483333333337,
          47439.21666666667,
          38766.55,
          39185.28333333333,
          40462.03333333333,
          48773.933333333334,
          43335.71666666667,
          40959.25,
          41315.15,
          38159.76666666667,
          45874.98333333334,
          44961.816666666666,
          38992.73333333333,
          41836.01666666666,
          38154.333333333336,
          43358.8,
          42804.03333333333,
          41272.73333333334,
          38194.96666666667,
          44109.75,
          37325.566666666666,
          43748.21666666667,
          44248.95,
          35846.183333333334,
          44269.8,
          45735.95,
          47692.333333333336,
          47222.333333333336,
          40789.316666666666,
          36253.5,
          51737.28333333333,
          38499.38333333333,
          41382.666666666664,
          43700.8,
          36920.01666666666,
          46616.2,
          48283.566666666666,
          52085.23333333333,
          40913.65,
          44276.433333333334,
          46159.683333333334,
          43886.683333333334,
          44364.13333333333,
          45138.25,
          48216.51666666667,
          50583.1,
          38431.05,
          35896.166666666664,
          45422.9,
          45090.46666666667,
          45671.9,
          50153.35,
          40358.13333333333,
          37796.35,
          42279.86666666666,
          38063.03333333333,
          41943.933333333334,
          73997.51666666666,
          237517.35,
          40978.41666666667,
          33302.05,
          34523.083333333336,
          24369.95,
          30639.066666666666,
          21418.216666666667,
          29101.9,
          32906.76666666666,
          31530.166666666668,
          31914.7,
          31168.266666666663
         ],
         "yaxis": "y"
        },
        {
         "hovertemplate": "actor=Server (5, CIFAR10)<br>direction=%{x}<br>Write=%{y}<extra></extra>",
         "legendgroup": "Server (5, CIFAR10)",
         "line": {
          "color": "#00cc96",
          "dash": "solid"
         },
         "marker": {
          "symbol": "circle"
         },
         "mode": "lines",
         "name": "Server (5, CIFAR10)",
         "orientation": "v",
         "showlegend": true,
         "type": "scatter",
         "x": [
          "2024-05-22T13:45:00+02:00",
          "2024-05-22T13:46:00+02:00",
          "2024-05-22T13:47:00+02:00",
          "2024-05-22T13:48:00+02:00",
          "2024-05-22T13:49:00+02:00",
          "2024-05-22T13:50:00+02:00",
          "2024-05-22T13:51:00+02:00",
          "2024-05-22T13:52:00+02:00",
          "2024-05-22T13:53:00+02:00",
          "2024-05-22T13:54:00+02:00",
          "2024-05-22T13:55:00+02:00",
          "2024-05-22T13:56:00+02:00",
          "2024-05-22T13:57:00+02:00",
          "2024-05-22T13:58:00+02:00",
          "2024-05-22T13:59:00+02:00",
          "2024-05-22T14:00:00+02:00",
          "2024-05-22T14:01:00+02:00",
          "2024-05-22T14:02:00+02:00",
          "2024-05-22T14:03:00+02:00",
          "2024-05-22T14:04:00+02:00",
          "2024-05-22T14:05:00+02:00",
          "2024-05-22T14:06:00+02:00",
          "2024-05-22T14:07:00+02:00",
          "2024-05-22T14:08:00+02:00",
          "2024-05-22T14:09:00+02:00",
          "2024-05-22T14:10:00+02:00",
          "2024-05-22T14:11:00+02:00",
          "2024-05-22T14:12:00+02:00",
          "2024-05-22T14:13:00+02:00",
          "2024-05-22T14:14:00+02:00",
          "2024-05-22T14:15:00+02:00",
          "2024-05-22T14:16:00+02:00",
          "2024-05-22T14:17:00+02:00",
          "2024-05-22T14:18:00+02:00",
          "2024-05-22T14:19:00+02:00",
          "2024-05-22T14:20:00+02:00",
          "2024-05-22T14:21:00+02:00",
          "2024-05-22T14:22:00+02:00",
          "2024-05-22T14:23:00+02:00",
          "2024-05-22T14:24:00+02:00",
          "2024-05-22T14:25:00+02:00",
          "2024-05-22T14:26:00+02:00",
          "2024-05-22T14:27:00+02:00",
          "2024-05-22T14:28:00+02:00",
          "2024-05-22T14:29:00+02:00",
          "2024-05-22T14:30:00+02:00",
          "2024-05-22T14:31:00+02:00",
          "2024-05-22T14:32:00+02:00",
          "2024-05-22T14:33:00+02:00",
          "2024-05-22T14:34:00+02:00",
          "2024-05-22T14:35:00+02:00",
          "2024-05-22T14:36:00+02:00",
          "2024-05-22T14:37:00+02:00",
          "2024-05-22T14:38:00+02:00",
          "2024-05-22T14:39:00+02:00",
          "2024-05-22T14:40:00+02:00",
          "2024-05-22T14:41:00+02:00",
          "2024-05-22T14:42:00+02:00",
          "2024-05-22T14:43:00+02:00",
          "2024-05-22T14:44:00+02:00",
          "2024-05-22T14:45:00+02:00",
          "2024-05-22T14:46:00+02:00",
          "2024-05-22T14:47:00+02:00",
          "2024-05-22T14:48:00+02:00",
          "2024-05-22T14:49:00+02:00",
          "2024-05-22T14:50:00+02:00",
          "2024-05-22T14:51:00+02:00",
          "2024-05-22T14:52:00+02:00",
          "2024-05-22T14:53:00+02:00",
          "2024-05-22T14:54:00+02:00",
          "2024-05-22T14:55:00+02:00",
          "2024-05-22T14:56:00+02:00",
          "2024-05-22T14:57:00+02:00",
          "2024-05-22T14:58:00+02:00",
          "2024-05-22T14:59:00+02:00",
          "2024-05-22T15:00:00+02:00",
          "2024-05-22T15:01:00+02:00",
          "2024-05-22T15:02:00+02:00",
          "2024-05-22T15:03:00+02:00",
          "2024-05-22T15:04:00+02:00",
          "2024-05-22T15:05:00+02:00",
          "2024-05-22T15:06:00+02:00",
          "2024-05-22T15:07:00+02:00",
          "2024-05-22T15:08:00+02:00",
          "2024-05-22T15:09:00+02:00",
          "2024-05-22T15:10:00+02:00",
          "2024-05-22T15:11:00+02:00",
          "2024-05-22T15:12:00+02:00",
          "2024-05-22T15:13:00+02:00",
          "2024-05-22T15:14:00+02:00",
          "2024-05-22T15:15:00+02:00",
          "2024-05-22T15:16:00+02:00",
          "2024-05-22T15:17:00+02:00",
          "2024-05-22T15:18:00+02:00",
          "2024-05-22T15:19:00+02:00",
          "2024-05-22T15:20:00+02:00",
          "2024-05-22T15:21:00+02:00"
         ],
         "xaxis": "x",
         "y": [
          28548.416666666668,
          31414.15,
          35166.6,
          26277.35,
          26997.416666666664,
          24908.466666666664,
          28593.1,
          159493.95,
          995535.8666666668,
          409828.6,
          3009173.466666667,
          180921.53333333333,
          489474.1,
          275141.9166666667,
          307322.8333333333,
          491845.6666666666,
          273182.1333333333,
          292682.1,
          294881.7166666667,
          489138.8833333333,
          279309,
          290301.25,
          288636.01666666666,
          300426.05,
          484576.3833333333,
          310995.7166666666,
          483305.95,
          284130.31666666665,
          305131.4166666667,
          481447.65,
          279912.68333333335,
          278442.5333333333,
          275938.81666666665,
          315819.01666666666,
          483964.9666666667,
          275711.7833333333,
          280138.14999999997,
          302038.0833333334,
          494870.15,
          285399.48333333334,
          308159.35,
          482821.3666666667,
          280030.95,
          281235.19999999995,
          307728,
          482246.76666666666,
          280752.81666666665,
          289013.8,
          283124.25,
          302534.4833333333,
          481255.11666666664,
          275743.8,
          314042.7833333333,
          486430.4166666667,
          280606.65,
          276028.65,
          306131.2,
          458961.61666666664,
          102846.71666666666,
          517731.8333333334,
          486640.4166666666,
          273113.7,
          275349.4666666667,
          286383.38333333336,
          315869.3666666667,
          482614.48333333334,
          277441.5333333333,
          284388.7,
          280338.4666666667,
          308586.2166666666,
          484871.5500000001,
          279906.01666666666,
          299967.45,
          492108.73333333334,
          305766.88333333336,
          488682.1833333333,
          279810.69999999995,
          283217.11666666664,
          277449.5833333333,
          306312.4166666667,
          488915.2833333333,
          283396.73333333334,
          273350.26666666666,
          318349.68333333335,
          511775.3833333333,
          463055.6666666667,
          94432.26666666668,
          487036.26666666666,
          288174.55,
          360461.11666666664,
          857409.5666666667,
          28218.566666666666,
          32949.45,
          38806.683333333334,
          34989.75,
          28709.25,
          32139.116666666665
         ],
         "yaxis": "y"
        },
        {
         "hovertemplate": "actor=Worker (10, CIFAR10)<br>direction=%{x}<br>Write=%{y}<extra></extra>",
         "legendgroup": "Worker (10, CIFAR10)",
         "line": {
          "color": "#ab63fa",
          "dash": "solid"
         },
         "marker": {
          "symbol": "circle"
         },
         "mode": "lines",
         "name": "Worker (10, CIFAR10)",
         "orientation": "v",
         "showlegend": true,
         "type": "scatter",
         "x": [
          "2024-05-22T15:42:00+02:00",
          "2024-05-22T15:43:00+02:00",
          "2024-05-22T15:44:00+02:00",
          "2024-05-22T15:45:00+02:00",
          "2024-05-22T15:46:00+02:00",
          "2024-05-22T15:47:00+02:00",
          "2024-05-22T15:48:00+02:00",
          "2024-05-22T15:49:00+02:00",
          "2024-05-22T15:50:00+02:00",
          "2024-05-22T15:51:00+02:00",
          "2024-05-22T15:52:00+02:00",
          "2024-05-22T15:53:00+02:00",
          "2024-05-22T15:54:00+02:00",
          "2024-05-22T15:55:00+02:00",
          "2024-05-22T15:56:00+02:00",
          "2024-05-22T15:57:00+02:00",
          "2024-05-22T15:58:00+02:00",
          "2024-05-22T15:59:00+02:00",
          "2024-05-22T16:00:00+02:00",
          "2024-05-22T16:01:00+02:00",
          "2024-05-22T16:02:00+02:00",
          "2024-05-22T16:03:00+02:00",
          "2024-05-22T16:04:00+02:00",
          "2024-05-22T16:05:00+02:00",
          "2024-05-22T16:06:00+02:00",
          "2024-05-22T16:07:00+02:00",
          "2024-05-22T16:08:00+02:00",
          "2024-05-22T16:09:00+02:00",
          "2024-05-22T16:10:00+02:00",
          "2024-05-22T16:11:00+02:00",
          "2024-05-22T16:12:00+02:00",
          "2024-05-22T16:13:00+02:00",
          "2024-05-22T16:14:00+02:00",
          "2024-05-22T16:15:00+02:00",
          "2024-05-22T16:16:00+02:00",
          "2024-05-22T16:17:00+02:00",
          "2024-05-22T16:18:00+02:00",
          "2024-05-22T16:19:00+02:00",
          "2024-05-22T16:20:00+02:00",
          "2024-05-22T16:21:00+02:00",
          "2024-05-22T16:22:00+02:00",
          "2024-05-22T16:23:00+02:00",
          "2024-05-22T16:24:00+02:00",
          "2024-05-22T16:25:00+02:00",
          "2024-05-22T16:26:00+02:00",
          "2024-05-22T16:27:00+02:00",
          "2024-05-22T16:28:00+02:00",
          "2024-05-22T16:29:00+02:00",
          "2024-05-22T16:30:00+02:00",
          "2024-05-22T16:31:00+02:00",
          "2024-05-22T16:32:00+02:00",
          "2024-05-22T16:33:00+02:00",
          "2024-05-22T16:34:00+02:00",
          "2024-05-22T16:35:00+02:00",
          "2024-05-22T16:36:00+02:00",
          "2024-05-22T16:37:00+02:00",
          "2024-05-22T16:38:00+02:00",
          "2024-05-22T16:39:00+02:00",
          "2024-05-22T16:40:00+02:00"
         ],
         "xaxis": "x",
         "y": [
          32071.583333333332,
          31301.933333333334,
          42201.566666666666,
          32432.483333333337,
          35074.816666666666,
          40881.916666666664,
          48562.51666666666,
          46831.183333333334,
          34421.933333333334,
          42265.73333333333,
          41758.98333333333,
          38884.75,
          46543.76666666666,
          43558.35,
          39185.816666666666,
          33732.9,
          47080.36666666667,
          50431.316666666666,
          38529.11666666667,
          43829.58333333333,
          42173.86666666667,
          40398.916666666664,
          39063.45,
          40525.183333333334,
          40518.85,
          44160.3,
          38314.76666666666,
          45564.183333333334,
          47190.2,
          40199.73333333333,
          41925,
          46805.4,
          40570.166666666664,
          45761.76666666666,
          45423.61666666667,
          33197.35,
          43409.71666666667,
          38058.666666666664,
          50368.13333333333,
          40428.63333333333,
          43493.583333333336,
          48810.78333333333,
          36710.316666666666,
          49617.416666666664,
          45775.98333333333,
          43423.85,
          44120.38333333333,
          35689.433333333334,
          40511.26666666666,
          44984.46666666667,
          47118.55,
          43564.96666666666,
          54610.166666666664,
          49652.46666666667,
          44526.88333333333,
          38979.23333333333,
          45924.43333333333,
          40719.21666666667,
          42283.9
         ],
         "yaxis": "y"
        },
        {
         "hovertemplate": "actor=Standalone (CIFAR10)<br>direction=%{x}<br>Write=%{y}<extra></extra>",
         "legendgroup": "Standalone (CIFAR10)",
         "line": {
          "color": "#FFA15A",
          "dash": "solid"
         },
         "marker": {
          "symbol": "circle"
         },
         "mode": "lines",
         "name": "Standalone (CIFAR10)",
         "orientation": "v",
         "showlegend": true,
         "type": "scatter",
         "x": [
          "2024-05-22T14:15:00+02:00",
          "2024-05-22T14:16:00+02:00",
          "2024-05-22T14:17:00+02:00",
          "2024-05-22T14:18:00+02:00",
          "2024-05-22T14:19:00+02:00",
          "2024-05-22T14:20:00+02:00",
          "2024-05-22T14:21:00+02:00",
          "2024-05-22T14:22:00+02:00",
          "2024-05-22T14:23:00+02:00",
          "2024-05-22T14:24:00+02:00",
          "2024-05-22T14:25:00+02:00",
          "2024-05-22T14:26:00+02:00",
          "2024-05-22T14:27:00+02:00",
          "2024-05-22T14:28:00+02:00",
          "2024-05-22T14:29:00+02:00",
          "2024-05-22T14:30:00+02:00",
          "2024-05-22T14:31:00+02:00",
          "2024-05-22T14:32:00+02:00",
          "2024-05-22T14:33:00+02:00",
          "2024-05-22T14:34:00+02:00",
          "2024-05-22T14:35:00+02:00",
          "2024-05-22T14:36:00+02:00",
          "2024-05-22T14:37:00+02:00"
         ],
         "xaxis": "x",
         "y": [
          20769.3,
          31359.616666666665,
          25644.366666666665,
          628739.1333333333,
          874249.35,
          3462878.9166666665,
          64161108.96666667,
          74222927.81666666,
          20489861.866666667,
          1697530.95,
          46092.51666666666,
          49768.816666666666,
          48995.63333333333,
          53912.13333333334,
          45101.583333333336,
          48748.916666666664,
          57305.85,
          46335.066666666666,
          45470.86666666666,
          55810.916666666664,
          272199.01666666666,
          81543.6,
          21947.316666666666
         ],
         "yaxis": "y"
        },
        {
         "hovertemplate": "actor=Worker (20, CIFAR10)<br>direction=%{x}<br>Write=%{y}<extra></extra>",
         "legendgroup": "Worker (20, CIFAR10)",
         "line": {
          "color": "#19d3f3",
          "dash": "solid"
         },
         "marker": {
          "symbol": "circle"
         },
         "mode": "lines",
         "name": "Worker (20, CIFAR10)",
         "orientation": "v",
         "showlegend": true,
         "type": "scatter",
         "x": [
          "2024-05-22T18:18:00+02:00",
          "2024-05-22T18:19:00+02:00",
          "2024-05-22T18:20:00+02:00",
          "2024-05-22T18:21:00+02:00",
          "2024-05-22T18:22:00+02:00",
          "2024-05-22T18:23:00+02:00",
          "2024-05-22T18:24:00+02:00",
          "2024-05-22T18:25:00+02:00",
          "2024-05-22T18:26:00+02:00",
          "2024-05-22T18:27:00+02:00",
          "2024-05-22T18:28:00+02:00",
          "2024-05-22T18:29:00+02:00",
          "2024-05-22T18:30:00+02:00",
          "2024-05-22T18:31:00+02:00",
          "2024-05-22T18:32:00+02:00",
          "2024-05-22T18:33:00+02:00",
          "2024-05-22T18:34:00+02:00",
          "2024-05-22T18:35:00+02:00",
          "2024-05-22T18:36:00+02:00",
          "2024-05-22T18:37:00+02:00",
          "2024-05-22T18:38:00+02:00",
          "2024-05-22T18:39:00+02:00",
          "2024-05-22T18:40:00+02:00",
          "2024-05-22T18:41:00+02:00",
          "2024-05-22T18:42:00+02:00",
          "2024-05-22T18:43:00+02:00",
          "2024-05-22T18:44:00+02:00",
          "2024-05-22T18:45:00+02:00",
          "2024-05-22T18:46:00+02:00",
          "2024-05-22T18:47:00+02:00",
          "2024-05-22T18:48:00+02:00",
          "2024-05-22T18:49:00+02:00",
          "2024-05-22T18:50:00+02:00",
          "2024-05-22T18:51:00+02:00",
          "2024-05-22T18:52:00+02:00",
          "2024-05-22T18:53:00+02:00",
          "2024-05-22T18:54:00+02:00",
          "2024-05-22T18:55:00+02:00",
          "2024-05-22T18:56:00+02:00",
          "2024-05-22T18:57:00+02:00",
          "2024-05-22T18:58:00+02:00",
          "2024-05-22T18:59:00+02:00",
          "2024-05-22T19:00:00+02:00",
          "2024-05-22T19:01:00+02:00",
          "2024-05-22T19:02:00+02:00",
          "2024-05-22T19:03:00+02:00",
          "2024-05-22T19:04:00+02:00",
          "2024-05-22T19:05:00+02:00",
          "2024-05-22T19:06:00+02:00",
          "2024-05-22T19:07:00+02:00",
          "2024-05-22T19:08:00+02:00",
          "2024-05-22T19:09:00+02:00",
          "2024-05-22T19:10:00+02:00",
          "2024-05-22T19:11:00+02:00",
          "2024-05-22T19:12:00+02:00",
          "2024-05-22T19:13:00+02:00",
          "2024-05-22T19:14:00+02:00",
          "2024-05-22T19:15:00+02:00",
          "2024-05-22T19:16:00+02:00"
         ],
         "xaxis": "x",
         "y": [
          40283.6,
          38772.71666666667,
          37845.95,
          33904.98333333333,
          31205.2,
          31926.233333333337,
          31715.7,
          206995.98333333337,
          122636.85,
          39280.566666666666,
          38222.61666666667,
          50146.066666666666,
          41836.86666666667,
          216817.85,
          114692.61666666668,
          40717.183333333334,
          50203.9,
          214661.26666666663,
          112691.75,
          48182.1,
          46798.9,
          35428.13333333333,
          34663.21666666667,
          39485.48333333333,
          29790.283333333333,
          29496.283333333333,
          39837.1,
          203334.18333333332,
          115518.86666666668,
          44114.98333333333,
          48212.85,
          46540.2,
          198345.45,
          123810.9,
          47904.95,
          212645.48333333337,
          116113.23333333334,
          45191.833333333336,
          39347.96666666667,
          35007.3,
          36128.666666666664,
          205414.95,
          117097.4,
          53257.05,
          45070.416666666664,
          41095.11666666667,
          38681.566666666666,
          35750.63333333333,
          35874.46666666667,
          37103.4,
          200030.95,
          104818.46666666666,
          30069.216666666667,
          33595.61666666667,
          31210,
          27742.7,
          40215.833333333336,
          50327.13333333333,
          36765.333333333336
         ],
         "yaxis": "y"
        },
        {
         "hovertemplate": "actor=Server (20, CIFAR10)<br>direction=%{x}<br>Write=%{y}<extra></extra>",
         "legendgroup": "Server (20, CIFAR10)",
         "line": {
          "color": "#FF6692",
          "dash": "solid"
         },
         "marker": {
          "symbol": "circle"
         },
         "mode": "lines",
         "name": "Server (20, CIFAR10)",
         "orientation": "v",
         "showlegend": true,
         "type": "scatter",
         "x": [
          "2024-05-22T18:20:00+02:00",
          "2024-05-22T18:21:00+02:00",
          "2024-05-22T18:22:00+02:00",
          "2024-05-22T18:23:00+02:00",
          "2024-05-22T18:24:00+02:00",
          "2024-05-22T18:25:00+02:00",
          "2024-05-22T18:26:00+02:00",
          "2024-05-22T18:27:00+02:00",
          "2024-05-22T18:28:00+02:00",
          "2024-05-22T18:29:00+02:00",
          "2024-05-22T18:30:00+02:00",
          "2024-05-22T18:31:00+02:00",
          "2024-05-22T18:32:00+02:00",
          "2024-05-22T18:33:00+02:00",
          "2024-05-22T18:34:00+02:00",
          "2024-05-22T18:35:00+02:00",
          "2024-05-22T18:36:00+02:00",
          "2024-05-22T18:37:00+02:00",
          "2024-05-22T18:38:00+02:00",
          "2024-05-22T18:39:00+02:00",
          "2024-05-22T18:40:00+02:00",
          "2024-05-22T18:41:00+02:00",
          "2024-05-22T18:42:00+02:00",
          "2024-05-22T18:43:00+02:00",
          "2024-05-22T18:44:00+02:00",
          "2024-05-22T18:45:00+02:00",
          "2024-05-22T18:46:00+02:00",
          "2024-05-22T18:47:00+02:00",
          "2024-05-22T18:48:00+02:00",
          "2024-05-22T18:49:00+02:00",
          "2024-05-22T18:50:00+02:00",
          "2024-05-22T18:51:00+02:00",
          "2024-05-22T18:52:00+02:00",
          "2024-05-22T18:53:00+02:00",
          "2024-05-22T18:54:00+02:00",
          "2024-05-22T18:55:00+02:00",
          "2024-05-22T18:56:00+02:00",
          "2024-05-22T18:57:00+02:00",
          "2024-05-22T18:58:00+02:00",
          "2024-05-22T18:59:00+02:00",
          "2024-05-22T19:00:00+02:00",
          "2024-05-22T19:01:00+02:00",
          "2024-05-22T19:02:00+02:00",
          "2024-05-22T19:03:00+02:00",
          "2024-05-22T19:04:00+02:00",
          "2024-05-22T19:05:00+02:00",
          "2024-05-22T19:06:00+02:00",
          "2024-05-22T19:07:00+02:00",
          "2024-05-22T19:08:00+02:00",
          "2024-05-22T19:09:00+02:00",
          "2024-05-22T19:10:00+02:00",
          "2024-05-22T19:11:00+02:00",
          "2024-05-22T19:12:00+02:00",
          "2024-05-22T19:13:00+02:00",
          "2024-05-22T19:14:00+02:00",
          "2024-05-22T19:15:00+02:00",
          "2024-05-22T19:16:00+02:00",
          "2024-05-22T19:17:00+02:00",
          "2024-05-22T19:18:00+02:00"
         ],
         "xaxis": "x",
         "y": [
          37845.95,
          33904.98333333333,
          31205.2,
          31926.233333333337,
          31715.7,
          206995.98333333337,
          122636.85,
          39280.566666666666,
          38222.61666666667,
          50146.066666666666,
          41836.86666666667,
          216817.85,
          114692.61666666668,
          40717.183333333334,
          50203.9,
          214661.26666666663,
          112691.75,
          48182.1,
          46798.9,
          35428.13333333333,
          34663.21666666667,
          39485.48333333333,
          29790.283333333333,
          29496.283333333333,
          39837.1,
          203334.18333333332,
          115518.86666666668,
          44114.98333333333,
          48212.85,
          46540.2,
          198345.45,
          123810.9,
          47904.95,
          212645.48333333337,
          116113.23333333334,
          45191.833333333336,
          39347.96666666667,
          35007.3,
          36128.666666666664,
          205414.95,
          117097.4,
          53257.05,
          45070.416666666664,
          41095.11666666667,
          38681.566666666666,
          35750.63333333333,
          35874.46666666667,
          37103.4,
          200030.95,
          104818.46666666666,
          30069.216666666667,
          33595.61666666667,
          31210,
          27742.7,
          40215.833333333336,
          50327.13333333333,
          36765.333333333336,
          28119.733333333337,
          35557.7
         ],
         "yaxis": "y"
        }
       ],
       "layout": {
        "height": 600,
        "legend": {
         "title": {
          "text": "actor"
         },
         "tracegroupgap": 0
        },
        "template": {
         "data": {
          "bar": [
           {
            "error_x": {
             "color": "#2a3f5f"
            },
            "error_y": {
             "color": "#2a3f5f"
            },
            "marker": {
             "line": {
              "color": "white",
              "width": 0.5
             },
             "pattern": {
              "fillmode": "overlay",
              "size": 10,
              "solidity": 0.2
             }
            },
            "type": "bar"
           }
          ],
          "barpolar": [
           {
            "marker": {
             "line": {
              "color": "white",
              "width": 0.5
             },
             "pattern": {
              "fillmode": "overlay",
              "size": 10,
              "solidity": 0.2
             }
            },
            "type": "barpolar"
           }
          ],
          "carpet": [
           {
            "aaxis": {
             "endlinecolor": "#2a3f5f",
             "gridcolor": "#C8D4E3",
             "linecolor": "#C8D4E3",
             "minorgridcolor": "#C8D4E3",
             "startlinecolor": "#2a3f5f"
            },
            "baxis": {
             "endlinecolor": "#2a3f5f",
             "gridcolor": "#C8D4E3",
             "linecolor": "#C8D4E3",
             "minorgridcolor": "#C8D4E3",
             "startlinecolor": "#2a3f5f"
            },
            "type": "carpet"
           }
          ],
          "choropleth": [
           {
            "colorbar": {
             "outlinewidth": 0,
             "ticks": ""
            },
            "type": "choropleth"
           }
          ],
          "contour": [
           {
            "colorbar": {
             "outlinewidth": 0,
             "ticks": ""
            },
            "colorscale": [
             [
              0,
              "#0d0887"
             ],
             [
              0.1111111111111111,
              "#46039f"
             ],
             [
              0.2222222222222222,
              "#7201a8"
             ],
             [
              0.3333333333333333,
              "#9c179e"
             ],
             [
              0.4444444444444444,
              "#bd3786"
             ],
             [
              0.5555555555555556,
              "#d8576b"
             ],
             [
              0.6666666666666666,
              "#ed7953"
             ],
             [
              0.7777777777777778,
              "#fb9f3a"
             ],
             [
              0.8888888888888888,
              "#fdca26"
             ],
             [
              1,
              "#f0f921"
             ]
            ],
            "type": "contour"
           }
          ],
          "contourcarpet": [
           {
            "colorbar": {
             "outlinewidth": 0,
             "ticks": ""
            },
            "type": "contourcarpet"
           }
          ],
          "heatmap": [
           {
            "colorbar": {
             "outlinewidth": 0,
             "ticks": ""
            },
            "colorscale": [
             [
              0,
              "#0d0887"
             ],
             [
              0.1111111111111111,
              "#46039f"
             ],
             [
              0.2222222222222222,
              "#7201a8"
             ],
             [
              0.3333333333333333,
              "#9c179e"
             ],
             [
              0.4444444444444444,
              "#bd3786"
             ],
             [
              0.5555555555555556,
              "#d8576b"
             ],
             [
              0.6666666666666666,
              "#ed7953"
             ],
             [
              0.7777777777777778,
              "#fb9f3a"
             ],
             [
              0.8888888888888888,
              "#fdca26"
             ],
             [
              1,
              "#f0f921"
             ]
            ],
            "type": "heatmap"
           }
          ],
          "heatmapgl": [
           {
            "colorbar": {
             "outlinewidth": 0,
             "ticks": ""
            },
            "colorscale": [
             [
              0,
              "#0d0887"
             ],
             [
              0.1111111111111111,
              "#46039f"
             ],
             [
              0.2222222222222222,
              "#7201a8"
             ],
             [
              0.3333333333333333,
              "#9c179e"
             ],
             [
              0.4444444444444444,
              "#bd3786"
             ],
             [
              0.5555555555555556,
              "#d8576b"
             ],
             [
              0.6666666666666666,
              "#ed7953"
             ],
             [
              0.7777777777777778,
              "#fb9f3a"
             ],
             [
              0.8888888888888888,
              "#fdca26"
             ],
             [
              1,
              "#f0f921"
             ]
            ],
            "type": "heatmapgl"
           }
          ],
          "histogram": [
           {
            "marker": {
             "pattern": {
              "fillmode": "overlay",
              "size": 10,
              "solidity": 0.2
             }
            },
            "type": "histogram"
           }
          ],
          "histogram2d": [
           {
            "colorbar": {
             "outlinewidth": 0,
             "ticks": ""
            },
            "colorscale": [
             [
              0,
              "#0d0887"
             ],
             [
              0.1111111111111111,
              "#46039f"
             ],
             [
              0.2222222222222222,
              "#7201a8"
             ],
             [
              0.3333333333333333,
              "#9c179e"
             ],
             [
              0.4444444444444444,
              "#bd3786"
             ],
             [
              0.5555555555555556,
              "#d8576b"
             ],
             [
              0.6666666666666666,
              "#ed7953"
             ],
             [
              0.7777777777777778,
              "#fb9f3a"
             ],
             [
              0.8888888888888888,
              "#fdca26"
             ],
             [
              1,
              "#f0f921"
             ]
            ],
            "type": "histogram2d"
           }
          ],
          "histogram2dcontour": [
           {
            "colorbar": {
             "outlinewidth": 0,
             "ticks": ""
            },
            "colorscale": [
             [
              0,
              "#0d0887"
             ],
             [
              0.1111111111111111,
              "#46039f"
             ],
             [
              0.2222222222222222,
              "#7201a8"
             ],
             [
              0.3333333333333333,
              "#9c179e"
             ],
             [
              0.4444444444444444,
              "#bd3786"
             ],
             [
              0.5555555555555556,
              "#d8576b"
             ],
             [
              0.6666666666666666,
              "#ed7953"
             ],
             [
              0.7777777777777778,
              "#fb9f3a"
             ],
             [
              0.8888888888888888,
              "#fdca26"
             ],
             [
              1,
              "#f0f921"
             ]
            ],
            "type": "histogram2dcontour"
           }
          ],
          "mesh3d": [
           {
            "colorbar": {
             "outlinewidth": 0,
             "ticks": ""
            },
            "type": "mesh3d"
           }
          ],
          "parcoords": [
           {
            "line": {
             "colorbar": {
              "outlinewidth": 0,
              "ticks": ""
             }
            },
            "type": "parcoords"
           }
          ],
          "pie": [
           {
            "automargin": true,
            "type": "pie"
           }
          ],
          "scatter": [
           {
            "fillpattern": {
             "fillmode": "overlay",
             "size": 10,
             "solidity": 0.2
            },
            "type": "scatter"
           }
          ],
          "scatter3d": [
           {
            "line": {
             "colorbar": {
              "outlinewidth": 0,
              "ticks": ""
             }
            },
            "marker": {
             "colorbar": {
              "outlinewidth": 0,
              "ticks": ""
             }
            },
            "type": "scatter3d"
           }
          ],
          "scattercarpet": [
           {
            "marker": {
             "colorbar": {
              "outlinewidth": 0,
              "ticks": ""
             }
            },
            "type": "scattercarpet"
           }
          ],
          "scattergeo": [
           {
            "marker": {
             "colorbar": {
              "outlinewidth": 0,
              "ticks": ""
             }
            },
            "type": "scattergeo"
           }
          ],
          "scattergl": [
           {
            "marker": {
             "colorbar": {
              "outlinewidth": 0,
              "ticks": ""
             }
            },
            "type": "scattergl"
           }
          ],
          "scattermapbox": [
           {
            "marker": {
             "colorbar": {
              "outlinewidth": 0,
              "ticks": ""
             }
            },
            "type": "scattermapbox"
           }
          ],
          "scatterpolar": [
           {
            "marker": {
             "colorbar": {
              "outlinewidth": 0,
              "ticks": ""
             }
            },
            "type": "scatterpolar"
           }
          ],
          "scatterpolargl": [
           {
            "marker": {
             "colorbar": {
              "outlinewidth": 0,
              "ticks": ""
             }
            },
            "type": "scatterpolargl"
           }
          ],
          "scatterternary": [
           {
            "marker": {
             "colorbar": {
              "outlinewidth": 0,
              "ticks": ""
             }
            },
            "type": "scatterternary"
           }
          ],
          "surface": [
           {
            "colorbar": {
             "outlinewidth": 0,
             "ticks": ""
            },
            "colorscale": [
             [
              0,
              "#0d0887"
             ],
             [
              0.1111111111111111,
              "#46039f"
             ],
             [
              0.2222222222222222,
              "#7201a8"
             ],
             [
              0.3333333333333333,
              "#9c179e"
             ],
             [
              0.4444444444444444,
              "#bd3786"
             ],
             [
              0.5555555555555556,
              "#d8576b"
             ],
             [
              0.6666666666666666,
              "#ed7953"
             ],
             [
              0.7777777777777778,
              "#fb9f3a"
             ],
             [
              0.8888888888888888,
              "#fdca26"
             ],
             [
              1,
              "#f0f921"
             ]
            ],
            "type": "surface"
           }
          ],
          "table": [
           {
            "cells": {
             "fill": {
              "color": "#EBF0F8"
             },
             "line": {
              "color": "white"
             }
            },
            "header": {
             "fill": {
              "color": "#C8D4E3"
             },
             "line": {
              "color": "white"
             }
            },
            "type": "table"
           }
          ]
         },
         "layout": {
          "annotationdefaults": {
           "arrowcolor": "#2a3f5f",
           "arrowhead": 0,
           "arrowwidth": 1
          },
          "autotypenumbers": "strict",
          "coloraxis": {
           "colorbar": {
            "outlinewidth": 0,
            "ticks": ""
           }
          },
          "colorscale": {
           "diverging": [
            [
             0,
             "#8e0152"
            ],
            [
             0.1,
             "#c51b7d"
            ],
            [
             0.2,
             "#de77ae"
            ],
            [
             0.3,
             "#f1b6da"
            ],
            [
             0.4,
             "#fde0ef"
            ],
            [
             0.5,
             "#f7f7f7"
            ],
            [
             0.6,
             "#e6f5d0"
            ],
            [
             0.7,
             "#b8e186"
            ],
            [
             0.8,
             "#7fbc41"
            ],
            [
             0.9,
             "#4d9221"
            ],
            [
             1,
             "#276419"
            ]
           ],
           "sequential": [
            [
             0,
             "#0d0887"
            ],
            [
             0.1111111111111111,
             "#46039f"
            ],
            [
             0.2222222222222222,
             "#7201a8"
            ],
            [
             0.3333333333333333,
             "#9c179e"
            ],
            [
             0.4444444444444444,
             "#bd3786"
            ],
            [
             0.5555555555555556,
             "#d8576b"
            ],
            [
             0.6666666666666666,
             "#ed7953"
            ],
            [
             0.7777777777777778,
             "#fb9f3a"
            ],
            [
             0.8888888888888888,
             "#fdca26"
            ],
            [
             1,
             "#f0f921"
            ]
           ],
           "sequentialminus": [
            [
             0,
             "#0d0887"
            ],
            [
             0.1111111111111111,
             "#46039f"
            ],
            [
             0.2222222222222222,
             "#7201a8"
            ],
            [
             0.3333333333333333,
             "#9c179e"
            ],
            [
             0.4444444444444444,
             "#bd3786"
            ],
            [
             0.5555555555555556,
             "#d8576b"
            ],
            [
             0.6666666666666666,
             "#ed7953"
            ],
            [
             0.7777777777777778,
             "#fb9f3a"
            ],
            [
             0.8888888888888888,
             "#fdca26"
            ],
            [
             1,
             "#f0f921"
            ]
           ]
          },
          "colorway": [
           "#636efa",
           "#EF553B",
           "#00cc96",
           "#ab63fa",
           "#FFA15A",
           "#19d3f3",
           "#FF6692",
           "#B6E880",
           "#FF97FF",
           "#FECB52"
          ],
          "font": {
           "color": "#2a3f5f"
          },
          "geo": {
           "bgcolor": "white",
           "lakecolor": "white",
           "landcolor": "white",
           "showlakes": true,
           "showland": true,
           "subunitcolor": "#C8D4E3"
          },
          "hoverlabel": {
           "align": "left"
          },
          "hovermode": "closest",
          "mapbox": {
           "style": "light"
          },
          "paper_bgcolor": "white",
          "plot_bgcolor": "white",
          "polar": {
           "angularaxis": {
            "gridcolor": "#EBF0F8",
            "linecolor": "#EBF0F8",
            "ticks": ""
           },
           "bgcolor": "white",
           "radialaxis": {
            "gridcolor": "#EBF0F8",
            "linecolor": "#EBF0F8",
            "ticks": ""
           }
          },
          "scene": {
           "xaxis": {
            "backgroundcolor": "white",
            "gridcolor": "#DFE8F3",
            "gridwidth": 2,
            "linecolor": "#EBF0F8",
            "showbackground": true,
            "ticks": "",
            "zerolinecolor": "#EBF0F8"
           },
           "yaxis": {
            "backgroundcolor": "white",
            "gridcolor": "#DFE8F3",
            "gridwidth": 2,
            "linecolor": "#EBF0F8",
            "showbackground": true,
            "ticks": "",
            "zerolinecolor": "#EBF0F8"
           },
           "zaxis": {
            "backgroundcolor": "white",
            "gridcolor": "#DFE8F3",
            "gridwidth": 2,
            "linecolor": "#EBF0F8",
            "showbackground": true,
            "ticks": "",
            "zerolinecolor": "#EBF0F8"
           }
          },
          "shapedefaults": {
           "line": {
            "color": "#2a3f5f"
           }
          },
          "ternary": {
           "aaxis": {
            "gridcolor": "#DFE8F3",
            "linecolor": "#A2B1C6",
            "ticks": ""
           },
           "baxis": {
            "gridcolor": "#DFE8F3",
            "linecolor": "#A2B1C6",
            "ticks": ""
           },
           "bgcolor": "white",
           "caxis": {
            "gridcolor": "#DFE8F3",
            "linecolor": "#A2B1C6",
            "ticks": ""
           }
          },
          "title": {
           "x": 0.05
          },
          "xaxis": {
           "automargin": true,
           "gridcolor": "#EBF0F8",
           "linecolor": "#EBF0F8",
           "ticks": "",
           "title": {
            "standoff": 15
           },
           "zerolinecolor": "#EBF0F8",
           "zerolinewidth": 2
          },
          "yaxis": {
           "automargin": true,
           "gridcolor": "#EBF0F8",
           "linecolor": "#EBF0F8",
           "ticks": "",
           "title": {
            "standoff": 15
           },
           "zerolinecolor": "#EBF0F8",
           "zerolinewidth": 2
          }
         }
        },
        "title": {
         "text": "Disk usage"
        },
        "width": 1200,
        "xaxis": {
         "anchor": "y",
         "domain": [
          0,
          1
         ],
         "title": {
          "text": "direction"
         }
        },
        "yaxis": {
         "anchor": "x",
         "domain": [
          0,
          1
         ],
         "title": {
          "text": "Write"
         }
        }
       }
      }
     },
     "metadata": {},
     "output_type": "display_data"
    }
   ],
   "source": [
    "px.line(disk_df, x=\"direction\", y=\"Read\", color=\"actor\", title=\"Disk usage\", width=WIDTH, height=HEIGHT).show()\n",
    "px.line(disk_df, x=\"direction\", y=\"Write\", color=\"actor\", title=\"Disk usage\", width=WIDTH, height=HEIGHT).show()"
   ]
  },
  {
   "cell_type": "code",
   "execution_count": 8,
   "metadata": {},
   "outputs": [
    {
     "data": {
      "application/vnd.plotly.v1+json": {
       "config": {
        "plotlyServerURL": "https://plot.ly"
       },
       "data": [
        {
         "hovertemplate": "Actor=Server (10, CIFAR10)<br>Time=%{x}<br>Write=%{y}<extra></extra>",
         "legendgroup": "Server (10, CIFAR10)",
         "line": {
          "color": "#636efa",
          "dash": "solid"
         },
         "marker": {
          "symbol": "circle"
         },
         "mode": "lines",
         "name": "Server (10, CIFAR10)",
         "orientation": "v",
         "showlegend": true,
         "type": "scatter",
         "x": [
          "2024-05-22T15:41:00+02:00",
          "2024-05-22T15:42:00+02:00",
          "2024-05-22T15:43:00+02:00",
          "2024-05-22T15:44:00+02:00",
          "2024-05-22T15:45:00+02:00",
          "2024-05-22T15:46:00+02:00",
          "2024-05-22T15:47:00+02:00",
          "2024-05-22T15:48:00+02:00",
          "2024-05-22T15:49:00+02:00",
          "2024-05-22T15:50:00+02:00",
          "2024-05-22T15:51:00+02:00",
          "2024-05-22T15:52:00+02:00",
          "2024-05-22T15:53:00+02:00",
          "2024-05-22T15:54:00+02:00",
          "2024-05-22T15:55:00+02:00",
          "2024-05-22T15:56:00+02:00",
          "2024-05-22T15:57:00+02:00",
          "2024-05-22T15:58:00+02:00",
          "2024-05-22T15:59:00+02:00",
          "2024-05-22T16:00:00+02:00",
          "2024-05-22T16:01:00+02:00",
          "2024-05-22T16:02:00+02:00",
          "2024-05-22T16:03:00+02:00",
          "2024-05-22T16:04:00+02:00",
          "2024-05-22T16:05:00+02:00",
          "2024-05-22T16:06:00+02:00",
          "2024-05-22T16:07:00+02:00",
          "2024-05-22T16:08:00+02:00",
          "2024-05-22T16:09:00+02:00",
          "2024-05-22T16:10:00+02:00",
          "2024-05-22T16:11:00+02:00",
          "2024-05-22T16:12:00+02:00",
          "2024-05-22T16:13:00+02:00",
          "2024-05-22T16:14:00+02:00",
          "2024-05-22T16:15:00+02:00",
          "2024-05-22T16:16:00+02:00",
          "2024-05-22T16:17:00+02:00",
          "2024-05-22T16:18:00+02:00",
          "2024-05-22T16:19:00+02:00",
          "2024-05-22T16:20:00+02:00",
          "2024-05-22T16:21:00+02:00",
          "2024-05-22T16:22:00+02:00",
          "2024-05-22T16:23:00+02:00",
          "2024-05-22T16:24:00+02:00",
          "2024-05-22T16:25:00+02:00",
          "2024-05-22T16:26:00+02:00",
          "2024-05-22T16:27:00+02:00",
          "2024-05-22T16:28:00+02:00",
          "2024-05-22T16:29:00+02:00",
          "2024-05-22T16:30:00+02:00",
          "2024-05-22T16:31:00+02:00",
          "2024-05-22T16:32:00+02:00",
          "2024-05-22T16:33:00+02:00",
          "2024-05-22T16:34:00+02:00",
          "2024-05-22T16:35:00+02:00",
          "2024-05-22T16:36:00+02:00",
          "2024-05-22T16:37:00+02:00",
          "2024-05-22T16:38:00+02:00",
          "2024-05-22T16:39:00+02:00"
         ],
         "xaxis": "x",
         "y": [
          "5.283333333333333",
          "5.233333333333333",
          "6.783333333333333",
          "5.05",
          "6.516666666666667",
          "6.016666666666667",
          "6.283333333333333",
          "6.866666666666666",
          "6.316666666666666",
          "7.9",
          "7.666666666666667",
          "7.766666666666667",
          "5.983333333333333",
          "5.95",
          "5.633333333333333",
          "7.366666666666666",
          "6.1",
          "5.866666666666666",
          "7.266666666666667",
          "6.6",
          "7.916666666666667",
          "6.633333333333333",
          "5.45",
          "6.866666666666666",
          "5.25",
          "7.533333333333333",
          "5.55",
          "5.883333333333333",
          "7.633333333333333",
          "7.05",
          "6.95",
          "5.983333333333333",
          "7.266666666666667",
          "7.466666666666667",
          "6.366666666666666",
          "5.983333333333333",
          "6.633333333333334",
          "5.733333333333333",
          "7.816666666666666",
          "6.283333333333333",
          "5.016666666666667",
          "6.1",
          "5.383333333333334",
          "7.883333333333333",
          "7.683333333333334",
          "6.466666666666667",
          "6.716666666666667",
          "6.5",
          "6.199999999999999",
          "6.533333333333333",
          "5.366666666666666",
          "6.6",
          "7.416666666666666",
          "6.433333333333334",
          "6.866666666666666",
          "7.966666666666667",
          "4.15",
          "8.233333333333333",
          "undefined"
         ],
         "yaxis": "y"
        },
        {
         "hovertemplate": "Actor=Worker (5, CIFAR10)<br>Time=%{x}<br>Write=%{y}<extra></extra>",
         "legendgroup": "Worker (5, CIFAR10)",
         "line": {
          "color": "#EF553B",
          "dash": "solid"
         },
         "marker": {
          "symbol": "circle"
         },
         "mode": "lines",
         "name": "Worker (5, CIFAR10)",
         "orientation": "v",
         "showlegend": true,
         "type": "scatter",
         "x": [
          "2024-05-22T13:31:00+02:00",
          "2024-05-22T13:32:00+02:00",
          "2024-05-22T13:33:00+02:00",
          "2024-05-22T13:34:00+02:00",
          "2024-05-22T13:35:00+02:00",
          "2024-05-22T13:36:00+02:00",
          "2024-05-22T13:37:00+02:00",
          "2024-05-22T13:38:00+02:00",
          "2024-05-22T13:39:00+02:00",
          "2024-05-22T13:40:00+02:00",
          "2024-05-22T13:41:00+02:00",
          "2024-05-22T13:42:00+02:00",
          "2024-05-22T13:43:00+02:00",
          "2024-05-22T13:44:00+02:00",
          "2024-05-22T13:45:00+02:00",
          "2024-05-22T13:46:00+02:00",
          "2024-05-22T13:47:00+02:00",
          "2024-05-22T13:48:00+02:00",
          "2024-05-22T13:49:00+02:00",
          "2024-05-22T13:50:00+02:00",
          "2024-05-22T13:51:00+02:00",
          "2024-05-22T13:52:00+02:00",
          "2024-05-22T13:53:00+02:00",
          "2024-05-22T13:54:00+02:00",
          "2024-05-22T13:55:00+02:00",
          "2024-05-22T13:56:00+02:00",
          "2024-05-22T13:57:00+02:00",
          "2024-05-22T13:58:00+02:00",
          "2024-05-22T13:59:00+02:00",
          "2024-05-22T14:00:00+02:00",
          "2024-05-22T14:01:00+02:00",
          "2024-05-22T14:02:00+02:00",
          "2024-05-22T14:03:00+02:00",
          "2024-05-22T14:04:00+02:00",
          "2024-05-22T14:05:00+02:00",
          "2024-05-22T14:06:00+02:00",
          "2024-05-22T14:07:00+02:00",
          "2024-05-22T14:08:00+02:00",
          "2024-05-22T14:09:00+02:00",
          "2024-05-22T14:10:00+02:00",
          "2024-05-22T14:11:00+02:00",
          "2024-05-22T14:12:00+02:00",
          "2024-05-22T14:13:00+02:00",
          "2024-05-22T14:14:00+02:00",
          "2024-05-22T14:15:00+02:00",
          "2024-05-22T14:16:00+02:00",
          "2024-05-22T14:17:00+02:00",
          "2024-05-22T14:18:00+02:00",
          "2024-05-22T14:19:00+02:00",
          "2024-05-22T14:20:00+02:00",
          "2024-05-22T14:21:00+02:00",
          "2024-05-22T14:22:00+02:00",
          "2024-05-22T14:23:00+02:00",
          "2024-05-22T14:24:00+02:00",
          "2024-05-22T14:25:00+02:00",
          "2024-05-22T14:26:00+02:00",
          "2024-05-22T14:27:00+02:00",
          "2024-05-22T14:28:00+02:00",
          "2024-05-22T14:29:00+02:00",
          "2024-05-22T14:30:00+02:00",
          "2024-05-22T14:31:00+02:00",
          "2024-05-22T14:32:00+02:00",
          "2024-05-22T14:33:00+02:00",
          "2024-05-22T14:34:00+02:00",
          "2024-05-22T14:35:00+02:00",
          "2024-05-22T14:36:00+02:00",
          "2024-05-22T14:37:00+02:00",
          "2024-05-22T14:38:00+02:00",
          "2024-05-22T14:39:00+02:00",
          "2024-05-22T14:40:00+02:00",
          "2024-05-22T14:41:00+02:00",
          "2024-05-22T14:42:00+02:00",
          "2024-05-22T14:43:00+02:00",
          "2024-05-22T14:44:00+02:00",
          "2024-05-22T14:45:00+02:00",
          "2024-05-22T14:46:00+02:00",
          "2024-05-22T14:47:00+02:00",
          "2024-05-22T14:48:00+02:00",
          "2024-05-22T14:49:00+02:00",
          "2024-05-22T14:50:00+02:00",
          "2024-05-22T14:51:00+02:00",
          "2024-05-22T14:52:00+02:00",
          "2024-05-22T14:53:00+02:00",
          "2024-05-22T14:54:00+02:00",
          "2024-05-22T14:55:00+02:00",
          "2024-05-22T14:56:00+02:00",
          "2024-05-22T14:57:00+02:00",
          "2024-05-22T14:58:00+02:00",
          "2024-05-22T14:59:00+02:00",
          "2024-05-22T15:00:00+02:00",
          "2024-05-22T15:01:00+02:00",
          "2024-05-22T15:02:00+02:00",
          "2024-05-22T15:03:00+02:00",
          "2024-05-22T15:04:00+02:00",
          "2024-05-22T15:05:00+02:00",
          "2024-05-22T15:06:00+02:00",
          "2024-05-22T15:07:00+02:00",
          "2024-05-22T15:08:00+02:00",
          "2024-05-22T15:09:00+02:00",
          "2024-05-22T15:10:00+02:00",
          "2024-05-22T15:11:00+02:00",
          "2024-05-22T15:12:00+02:00",
          "2024-05-22T15:13:00+02:00",
          "2024-05-22T15:14:00+02:00",
          "2024-05-22T15:15:00+02:00",
          "2024-05-22T15:16:00+02:00",
          "2024-05-22T15:17:00+02:00",
          "2024-05-22T15:18:00+02:00",
          "2024-05-22T15:19:00+02:00",
          "2024-05-22T15:20:00+02:00",
          "2024-05-22T15:21:00+02:00",
          "2024-05-22T15:22:00+02:00",
          "2024-05-22T15:23:00+02:00",
          "2024-05-22T15:24:00+02:00",
          "2024-05-22T15:25:00+02:00",
          "2024-05-22T15:26:00+02:00",
          "2024-05-22T15:27:00+02:00",
          "2024-05-22T15:28:00+02:00",
          "2024-05-22T15:29:00+02:00",
          "2024-05-22T15:30:00+02:00",
          "2024-05-22T15:31:00+02:00",
          "2024-05-22T15:32:00+02:00",
          "2024-05-22T15:33:00+02:00",
          "2024-05-22T15:34:00+02:00",
          "2024-05-22T15:35:00+02:00",
          "2024-05-22T15:36:00+02:00",
          "2024-05-22T15:37:00+02:00",
          "2024-05-22T15:38:00+02:00",
          "2024-05-22T15:39:00+02:00",
          "2024-05-22T15:40:00+02:00",
          "2024-05-22T15:41:00+02:00",
          "2024-05-22T15:42:00+02:00",
          "2024-05-22T15:43:00+02:00",
          "2024-05-22T15:44:00+02:00",
          "2024-05-22T15:45:00+02:00",
          "2024-05-22T15:46:00+02:00"
         ],
         "xaxis": "x",
         "y": [
          4.1,
          41.6,
          10,
          4.2,
          4.133333333333333,
          5.466666666666667,
          5.2,
          5.300000000000001,
          4.533333333333333,
          5.783333333333333,
          3.533333333333333,
          6.516666666666667,
          5,
          4.316666666666667,
          5.116666666666666,
          5.25,
          4.733333333333333,
          5.066666666666666,
          4,
          4.183333333333333,
          5.166666666666667,
          6.6499999999999995,
          10.85,
          8.783333333333333,
          7.566666666666667,
          20.25,
          6.233333333333333,
          4.5,
          5.416666666666666,
          5.1000000000000005,
          5.4,
          6.316666666666666,
          5.016666666666667,
          5.733333333333333,
          4.633333333333334,
          4.566666666666666,
          4.533333333333333,
          5.2,
          4.366666666666666,
          4.816666666666666,
          4.733333333333333,
          5.783333333333333,
          5.6,
          5.45,
          5.983333333333333,
          5.8,
          3.85,
          5.983333333333333,
          4.5,
          5.133333333333333,
          5.366666666666666,
          6.516666666666667,
          5.6,
          4.9,
          5.466666666666667,
          4.316666666666666,
          5.8,
          5.866666666666667,
          4.533333333333333,
          5.516666666666667,
          4.8,
          5.05,
          5.283333333333334,
          5.416666666666666,
          4.95,
          5.716666666666667,
          3.9166666666666665,
          5.35,
          5.8500000000000005,
          4,
          5.9,
          5.766666666666667,
          6.1,
          5.8,
          5.466666666666667,
          4.65,
          7.466666666666667,
          4.783333333333333,
          4.9,
          5.55,
          5.016666666666667,
          6.233333333333333,
          6.783333333333333,
          7.3,
          5.066666666666666,
          5.833333333333333,
          6.166666666666667,
          6.35,
          5.616666666666666,
          5.733333333333333,
          6.466666666666667,
          6.283333333333333,
          5.2,
          3.8166666666666664,
          6.033333333333333,
          5.283333333333333,
          6.133333333333333,
          6.966666666666667,
          4.516666666666667,
          4.75,
          5.483333333333333,
          4.6,
          5.833333333333333,
          5.65,
          6.366666666666666,
          6.966666666666667,
          5.466666666666667,
          5.85,
          3.5,
          4.666666666666667,
          3.2333333333333334,
          4.583333333333333,
          5.199999999999999,
          5.166666666666667,
          5.266666666666667,
          5.2,
          4.5,
          4.9,
          5.65,
          4.416666666666667,
          4.266666666666667,
          5.533333333333333,
          6.883333333333334,
          5.783333333333333,
          4.15,
          5.6,
          5.066666666666666,
          4.966666666666667,
          5.533333333333333,
          4.15,
          4.2,
          4.883333333333333,
          4.883333333333333,
          6.15,
          4.3999999999999995,
          4.333333333333333
         ],
         "yaxis": "y"
        },
        {
         "hovertemplate": "Actor=Server (5, CIFAR10)<br>Time=%{x}<br>Write=%{y}<extra></extra>",
         "legendgroup": "Server (5, CIFAR10)",
         "line": {
          "color": "#00cc96",
          "dash": "solid"
         },
         "marker": {
          "symbol": "circle"
         },
         "mode": "lines",
         "name": "Server (5, CIFAR10)",
         "orientation": "v",
         "showlegend": true,
         "type": "scatter",
         "x": [
          "2024-05-22T13:45:00+02:00",
          "2024-05-22T13:46:00+02:00",
          "2024-05-22T13:47:00+02:00",
          "2024-05-22T13:48:00+02:00",
          "2024-05-22T13:49:00+02:00",
          "2024-05-22T13:50:00+02:00",
          "2024-05-22T13:51:00+02:00",
          "2024-05-22T13:52:00+02:00",
          "2024-05-22T13:53:00+02:00",
          "2024-05-22T13:54:00+02:00",
          "2024-05-22T13:55:00+02:00",
          "2024-05-22T13:56:00+02:00",
          "2024-05-22T13:57:00+02:00",
          "2024-05-22T13:58:00+02:00",
          "2024-05-22T13:59:00+02:00",
          "2024-05-22T14:00:00+02:00",
          "2024-05-22T14:01:00+02:00",
          "2024-05-22T14:02:00+02:00",
          "2024-05-22T14:03:00+02:00",
          "2024-05-22T14:04:00+02:00",
          "2024-05-22T14:05:00+02:00",
          "2024-05-22T14:06:00+02:00",
          "2024-05-22T14:07:00+02:00",
          "2024-05-22T14:08:00+02:00",
          "2024-05-22T14:09:00+02:00",
          "2024-05-22T14:10:00+02:00",
          "2024-05-22T14:11:00+02:00",
          "2024-05-22T14:12:00+02:00",
          "2024-05-22T14:13:00+02:00",
          "2024-05-22T14:14:00+02:00",
          "2024-05-22T14:15:00+02:00",
          "2024-05-22T14:16:00+02:00",
          "2024-05-22T14:17:00+02:00",
          "2024-05-22T14:18:00+02:00",
          "2024-05-22T14:19:00+02:00",
          "2024-05-22T14:20:00+02:00",
          "2024-05-22T14:21:00+02:00",
          "2024-05-22T14:22:00+02:00",
          "2024-05-22T14:23:00+02:00",
          "2024-05-22T14:24:00+02:00",
          "2024-05-22T14:25:00+02:00",
          "2024-05-22T14:26:00+02:00",
          "2024-05-22T14:27:00+02:00",
          "2024-05-22T14:28:00+02:00",
          "2024-05-22T14:29:00+02:00",
          "2024-05-22T14:30:00+02:00",
          "2024-05-22T14:31:00+02:00",
          "2024-05-22T14:32:00+02:00",
          "2024-05-22T14:33:00+02:00",
          "2024-05-22T14:34:00+02:00",
          "2024-05-22T14:35:00+02:00",
          "2024-05-22T14:36:00+02:00",
          "2024-05-22T14:37:00+02:00",
          "2024-05-22T14:38:00+02:00",
          "2024-05-22T14:39:00+02:00",
          "2024-05-22T14:40:00+02:00",
          "2024-05-22T14:41:00+02:00",
          "2024-05-22T14:42:00+02:00",
          "2024-05-22T14:43:00+02:00",
          "2024-05-22T14:44:00+02:00",
          "2024-05-22T14:45:00+02:00",
          "2024-05-22T14:46:00+02:00",
          "2024-05-22T14:47:00+02:00",
          "2024-05-22T14:48:00+02:00",
          "2024-05-22T14:49:00+02:00",
          "2024-05-22T14:50:00+02:00",
          "2024-05-22T14:51:00+02:00",
          "2024-05-22T14:52:00+02:00",
          "2024-05-22T14:53:00+02:00",
          "2024-05-22T14:54:00+02:00",
          "2024-05-22T14:55:00+02:00",
          "2024-05-22T14:56:00+02:00",
          "2024-05-22T14:57:00+02:00",
          "2024-05-22T14:58:00+02:00",
          "2024-05-22T14:59:00+02:00",
          "2024-05-22T15:00:00+02:00",
          "2024-05-22T15:01:00+02:00",
          "2024-05-22T15:02:00+02:00",
          "2024-05-22T15:03:00+02:00",
          "2024-05-22T15:04:00+02:00",
          "2024-05-22T15:05:00+02:00",
          "2024-05-22T15:06:00+02:00",
          "2024-05-22T15:07:00+02:00",
          "2024-05-22T15:08:00+02:00",
          "2024-05-22T15:09:00+02:00",
          "2024-05-22T15:10:00+02:00",
          "2024-05-22T15:11:00+02:00",
          "2024-05-22T15:12:00+02:00",
          "2024-05-22T15:13:00+02:00",
          "2024-05-22T15:14:00+02:00",
          "2024-05-22T15:15:00+02:00",
          "2024-05-22T15:16:00+02:00",
          "2024-05-22T15:17:00+02:00",
          "2024-05-22T15:18:00+02:00",
          "2024-05-22T15:19:00+02:00",
          "2024-05-22T15:20:00+02:00",
          "2024-05-22T15:21:00+02:00"
         ],
         "xaxis": "x",
         "y": [
          4.7,
          5.333333333333333,
          5.95,
          4.183333333333334,
          4.366666666666666,
          3.8833333333333337,
          4.583333333333333,
          8.316666666666666,
          22.066666666666663,
          6.066666666666666,
          18.183333333333337,
          9.033333333333331,
          8.45,
          6.033333333333333,
          6.733333333333333,
          8.950000000000001,
          5.933333333333333,
          7.9,
          4.966666666666667,
          8.366666666666667,
          6.416666666666666,
          8.633333333333333,
          8.483333333333333,
          5.633333333333333,
          7.6,
          7.583333333333333,
          7.633333333333334,
          7.5,
          6.5,
          7.116666666666666,
          6.35,
          6.333333333333333,
          6.15,
          7.733333333333333,
          7.683333333333334,
          6.183333333333334,
          6.166666666666667,
          6.083333333333334,
          8.4,
          7.016666666666667,
          6.5,
          7.766666666666667,
          6.416666666666667,
          6.3999999999999995,
          7.85,
          6.8,
          6.45,
          7.05,
          6.916666666666667,
          6.083333333333333,
          6.75,
          6.25,
          7.766666666666667,
          7.016666666666667,
          6.816666666666667,
          5.933333333333334,
          6.7,
          6.816666666666666,
          6.166666666666667,
          8.383333333333333,
          7.016666666666667,
          5.533333333333333,
          5.666666666666667,
          8.75,
          8.1,
          6.266666666666667,
          6.45,
          7.466666666666667,
          7.1,
          6.883333333333333,
          7.85,
          5.95,
          6.05,
          8.583333333333334,
          6.916666666666666,
          7.5,
          6.433333333333333,
          6.316666666666666,
          6.1,
          7.133333333333333,
          7.633333333333333,
          6.966666666666667,
          5.983333333333333,
          8.533333333333333,
          7.05,
          7.7,
          4.933333333333333,
          7.683333333333334,
          7.083333333333333,
          7.016666666666667,
          9.283333333333331,
          4.383333333333333,
          5.15,
          6.133333333333333,
          4.933333333333334,
          4.616666666666666,
          5.3
         ],
         "yaxis": "y"
        },
        {
         "hovertemplate": "Actor=Worker (10, CIFAR10)<br>Time=%{x}<br>Write=%{y}<extra></extra>",
         "legendgroup": "Worker (10, CIFAR10)",
         "line": {
          "color": "#ab63fa",
          "dash": "solid"
         },
         "marker": {
          "symbol": "circle"
         },
         "mode": "lines",
         "name": "Worker (10, CIFAR10)",
         "orientation": "v",
         "showlegend": true,
         "type": "scatter",
         "x": [
          "2024-05-22T15:42:00+02:00",
          "2024-05-22T15:43:00+02:00",
          "2024-05-22T15:44:00+02:00",
          "2024-05-22T15:45:00+02:00",
          "2024-05-22T15:46:00+02:00",
          "2024-05-22T15:47:00+02:00",
          "2024-05-22T15:48:00+02:00",
          "2024-05-22T15:49:00+02:00",
          "2024-05-22T15:50:00+02:00",
          "2024-05-22T15:51:00+02:00",
          "2024-05-22T15:52:00+02:00",
          "2024-05-22T15:53:00+02:00",
          "2024-05-22T15:54:00+02:00",
          "2024-05-22T15:55:00+02:00",
          "2024-05-22T15:56:00+02:00",
          "2024-05-22T15:57:00+02:00",
          "2024-05-22T15:58:00+02:00",
          "2024-05-22T15:59:00+02:00",
          "2024-05-22T16:00:00+02:00",
          "2024-05-22T16:01:00+02:00",
          "2024-05-22T16:02:00+02:00",
          "2024-05-22T16:03:00+02:00",
          "2024-05-22T16:04:00+02:00",
          "2024-05-22T16:05:00+02:00",
          "2024-05-22T16:06:00+02:00",
          "2024-05-22T16:07:00+02:00",
          "2024-05-22T16:08:00+02:00",
          "2024-05-22T16:09:00+02:00",
          "2024-05-22T16:10:00+02:00",
          "2024-05-22T16:11:00+02:00",
          "2024-05-22T16:12:00+02:00",
          "2024-05-22T16:13:00+02:00",
          "2024-05-22T16:14:00+02:00",
          "2024-05-22T16:15:00+02:00",
          "2024-05-22T16:16:00+02:00",
          "2024-05-22T16:17:00+02:00",
          "2024-05-22T16:18:00+02:00",
          "2024-05-22T16:19:00+02:00",
          "2024-05-22T16:20:00+02:00",
          "2024-05-22T16:21:00+02:00",
          "2024-05-22T16:22:00+02:00",
          "2024-05-22T16:23:00+02:00",
          "2024-05-22T16:24:00+02:00",
          "2024-05-22T16:25:00+02:00",
          "2024-05-22T16:26:00+02:00",
          "2024-05-22T16:27:00+02:00",
          "2024-05-22T16:28:00+02:00",
          "2024-05-22T16:29:00+02:00",
          "2024-05-22T16:30:00+02:00",
          "2024-05-22T16:31:00+02:00",
          "2024-05-22T16:32:00+02:00",
          "2024-05-22T16:33:00+02:00",
          "2024-05-22T16:34:00+02:00",
          "2024-05-22T16:35:00+02:00",
          "2024-05-22T16:36:00+02:00",
          "2024-05-22T16:37:00+02:00",
          "2024-05-22T16:38:00+02:00",
          "2024-05-22T16:39:00+02:00",
          "2024-05-22T16:40:00+02:00"
         ],
         "xaxis": "x",
         "y": [
          "4.883333333333333",
          "4.883333333333333",
          "6.15",
          "4.3999999999999995",
          "4.333333333333333",
          "5.283333333333333",
          "6.833333333333333",
          "5.75",
          "4.066666666666666",
          "5.2",
          "5.583333333333333",
          "4.533333333333333",
          "6.55",
          "4.866666666666666",
          "4.516666666666667",
          "3.966666666666667",
          "6.866666666666666",
          "6.7",
          "4.6",
          "5.7",
          "4.616666666666666",
          "4.933333333333334",
          "4.683333333333334",
          "5.083333333333333",
          "5",
          "5.833333333333333",
          "5.133333333333333",
          "5.933333333333334",
          "5.85",
          "4.8999999999999995",
          "5.366666666666667",
          "5.783333333333333",
          "5.2",
          "6.016666666666667",
          "5.866666666666666",
          "3.9",
          "4.983333333333333",
          "4.966666666666667",
          "6.55",
          "5.366666666666666",
          "5.1499999999999995",
          "6.533333333333333",
          "4.716666666666667",
          "6.616666666666666",
          "5.65",
          "5.15",
          "5.566666666666666",
          "3.9166666666666665",
          "5.216666666666667",
          "5.666666666666667",
          "6",
          "5.7",
          "7.066666666666667",
          "6.466666666666667",
          "6.1",
          "4.983333333333333",
          "6.316666666666666",
          "5.333333333333333",
          "undefined"
         ],
         "yaxis": "y"
        },
        {
         "hovertemplate": "Actor=Standalone (CIFAR10)<br>Time=%{x}<br>Write=%{y}<extra></extra>",
         "legendgroup": "Standalone (CIFAR10)",
         "line": {
          "color": "#FFA15A",
          "dash": "solid"
         },
         "marker": {
          "symbol": "circle"
         },
         "mode": "lines",
         "name": "Standalone (CIFAR10)",
         "orientation": "v",
         "showlegend": true,
         "type": "scatter",
         "x": [
          "2024-05-22T14:15:00+02:00",
          "2024-05-22T14:16:00+02:00",
          "2024-05-22T14:17:00+02:00",
          "2024-05-22T14:18:00+02:00",
          "2024-05-22T14:19:00+02:00",
          "2024-05-22T14:20:00+02:00",
          "2024-05-22T14:21:00+02:00",
          "2024-05-22T14:22:00+02:00",
          "2024-05-22T14:23:00+02:00",
          "2024-05-22T14:24:00+02:00",
          "2024-05-22T14:25:00+02:00",
          "2024-05-22T14:26:00+02:00",
          "2024-05-22T14:27:00+02:00",
          "2024-05-22T14:28:00+02:00",
          "2024-05-22T14:29:00+02:00",
          "2024-05-22T14:30:00+02:00",
          "2024-05-22T14:31:00+02:00",
          "2024-05-22T14:32:00+02:00",
          "2024-05-22T14:33:00+02:00",
          "2024-05-22T14:34:00+02:00",
          "2024-05-22T14:35:00+02:00",
          "2024-05-22T14:36:00+02:00",
          "2024-05-22T14:37:00+02:00",
          "2024-05-22T14:38:00+02:00"
         ],
         "xaxis": "x",
         "y": [
          2.6666666666666665,
          4.083333333333333,
          3.65,
          7.033333333333333,
          9.85,
          26.516666666666666,
          274.45,
          345.5,
          108.13333333333333,
          13.616666666666667,
          4.016666666666667,
          3.8,
          3.5833333333333335,
          4.766666666666667,
          4.316666666666666,
          3.7333333333333334,
          5.15,
          3.55,
          3.4166666666666665,
          4.8,
          4.666666666666666,
          5.233333333333333,
          2.8666666666666667,
          3.283333333333333
         ],
         "yaxis": "y"
        },
        {
         "hovertemplate": "Actor=Worker (20, CIFAR10)<br>Time=%{x}<br>Write=%{y}<extra></extra>",
         "legendgroup": "Worker (20, CIFAR10)",
         "line": {
          "color": "#19d3f3",
          "dash": "solid"
         },
         "marker": {
          "symbol": "circle"
         },
         "mode": "lines",
         "name": "Worker (20, CIFAR10)",
         "orientation": "v",
         "showlegend": true,
         "type": "scatter",
         "x": [
          "2024-05-22T18:19:00+02:00",
          "2024-05-22T18:20:00+02:00",
          "2024-05-22T18:21:00+02:00",
          "2024-05-22T18:22:00+02:00",
          "2024-05-22T18:23:00+02:00",
          "2024-05-22T18:24:00+02:00",
          "2024-05-22T18:25:00+02:00",
          "2024-05-22T18:26:00+02:00",
          "2024-05-22T18:27:00+02:00",
          "2024-05-22T18:28:00+02:00",
          "2024-05-22T18:29:00+02:00",
          "2024-05-22T18:30:00+02:00",
          "2024-05-22T18:31:00+02:00",
          "2024-05-22T18:32:00+02:00",
          "2024-05-22T18:33:00+02:00",
          "2024-05-22T18:34:00+02:00",
          "2024-05-22T18:35:00+02:00",
          "2024-05-22T18:36:00+02:00",
          "2024-05-22T18:37:00+02:00",
          "2024-05-22T18:38:00+02:00",
          "2024-05-22T18:39:00+02:00",
          "2024-05-22T18:40:00+02:00",
          "2024-05-22T18:41:00+02:00",
          "2024-05-22T18:42:00+02:00",
          "2024-05-22T18:43:00+02:00",
          "2024-05-22T18:44:00+02:00",
          "2024-05-22T18:45:00+02:00",
          "2024-05-22T18:46:00+02:00",
          "2024-05-22T18:47:00+02:00",
          "2024-05-22T18:48:00+02:00",
          "2024-05-22T18:49:00+02:00",
          "2024-05-22T18:50:00+02:00",
          "2024-05-22T18:51:00+02:00",
          "2024-05-22T18:52:00+02:00",
          "2024-05-22T18:53:00+02:00",
          "2024-05-22T18:54:00+02:00",
          "2024-05-22T18:55:00+02:00",
          "2024-05-22T18:56:00+02:00",
          "2024-05-22T18:57:00+02:00",
          "2024-05-22T18:58:00+02:00",
          "2024-05-22T18:59:00+02:00",
          "2024-05-22T19:00:00+02:00",
          "2024-05-22T19:01:00+02:00",
          "2024-05-22T19:02:00+02:00",
          "2024-05-22T19:03:00+02:00",
          "2024-05-22T19:04:00+02:00",
          "2024-05-22T19:05:00+02:00",
          "2024-05-22T19:06:00+02:00",
          "2024-05-22T19:07:00+02:00",
          "2024-05-22T19:08:00+02:00",
          "2024-05-22T19:09:00+02:00",
          "2024-05-22T19:10:00+02:00",
          "2024-05-22T19:11:00+02:00",
          "2024-05-22T19:12:00+02:00",
          "2024-05-22T19:13:00+02:00",
          "2024-05-22T19:14:00+02:00",
          "2024-05-22T19:15:00+02:00",
          "2024-05-22T19:16:00+02:00",
          "2024-05-22T19:17:00+02:00"
         ],
         "xaxis": "x",
         "y": [
          "5.933333333333334",
          "5.566666666666667",
          "5.3",
          "5.1499999999999995",
          "5.283333333333333",
          "5.1",
          "7.083333333333333",
          "7.6000000000000005",
          "6.1499999999999995",
          "5.716666666666667",
          "6.45",
          "4.616666666666666",
          "7.816666666666667",
          "4.9833333333333325",
          "5.45",
          "7.133333333333333",
          "6.716666666666667",
          "4.883333333333333",
          "6.25",
          "6.75",
          "5.516666666666667",
          "5.55",
          "6.083333333333333",
          "4.25",
          "4.666666666666666",
          "6.25",
          "7.383333333333333",
          "6.766666666666667",
          "5.616666666666666",
          "6.45",
          "6.216666666666666",
          "4.833333333333333",
          "7.766666666666667",
          "6.733333333333333",
          "7.433333333333334",
          "6.016666666666667",
          "6.116666666666666",
          "6.05",
          "4.166666666666667",
          "4.35",
          "6.3500000000000005",
          "6.55",
          "7.216666666666667",
          "5.816666666666666",
          "5.716666666666667",
          "6.016666666666667",
          "5.933333333333333",
          "5.95",
          "6.266666666666667",
          "6.55",
          "5.4",
          "4.516666666666667",
          "5.366666666666666",
          "4.933333333333334",
          "4.2",
          "4.95",
          "6.916666666666667",
          "5.466666666666667",
          "undefined"
         ],
         "yaxis": "y"
        },
        {
         "hovertemplate": "Actor=Server (20, CIFAR10)<br>Time=%{x}<br>Write=%{y}<extra></extra>",
         "legendgroup": "Server (20, CIFAR10)",
         "line": {
          "color": "#FF6692",
          "dash": "solid"
         },
         "marker": {
          "symbol": "circle"
         },
         "mode": "lines",
         "name": "Server (20, CIFAR10)",
         "orientation": "v",
         "showlegend": true,
         "type": "scatter",
         "x": [
          "2024-05-22T18:20:00+02:00",
          "2024-05-22T18:21:00+02:00",
          "2024-05-22T18:22:00+02:00",
          "2024-05-22T18:23:00+02:00",
          "2024-05-22T18:24:00+02:00",
          "2024-05-22T18:25:00+02:00",
          "2024-05-22T18:26:00+02:00",
          "2024-05-22T18:27:00+02:00",
          "2024-05-22T18:28:00+02:00",
          "2024-05-22T18:29:00+02:00",
          "2024-05-22T18:30:00+02:00",
          "2024-05-22T18:31:00+02:00",
          "2024-05-22T18:32:00+02:00",
          "2024-05-22T18:33:00+02:00",
          "2024-05-22T18:34:00+02:00",
          "2024-05-22T18:35:00+02:00",
          "2024-05-22T18:36:00+02:00",
          "2024-05-22T18:37:00+02:00",
          "2024-05-22T18:38:00+02:00",
          "2024-05-22T18:39:00+02:00",
          "2024-05-22T18:40:00+02:00",
          "2024-05-22T18:41:00+02:00",
          "2024-05-22T18:42:00+02:00",
          "2024-05-22T18:43:00+02:00",
          "2024-05-22T18:44:00+02:00",
          "2024-05-22T18:45:00+02:00",
          "2024-05-22T18:46:00+02:00",
          "2024-05-22T18:47:00+02:00",
          "2024-05-22T18:48:00+02:00",
          "2024-05-22T18:49:00+02:00",
          "2024-05-22T18:50:00+02:00",
          "2024-05-22T18:51:00+02:00",
          "2024-05-22T18:52:00+02:00",
          "2024-05-22T18:53:00+02:00",
          "2024-05-22T18:54:00+02:00",
          "2024-05-22T18:55:00+02:00",
          "2024-05-22T18:56:00+02:00",
          "2024-05-22T18:57:00+02:00",
          "2024-05-22T18:58:00+02:00",
          "2024-05-22T18:59:00+02:00",
          "2024-05-22T19:00:00+02:00",
          "2024-05-22T19:01:00+02:00",
          "2024-05-22T19:02:00+02:00",
          "2024-05-22T19:03:00+02:00",
          "2024-05-22T19:04:00+02:00",
          "2024-05-22T19:05:00+02:00",
          "2024-05-22T19:06:00+02:00",
          "2024-05-22T19:07:00+02:00",
          "2024-05-22T19:08:00+02:00",
          "2024-05-22T19:09:00+02:00",
          "2024-05-22T19:10:00+02:00",
          "2024-05-22T19:11:00+02:00",
          "2024-05-22T19:12:00+02:00",
          "2024-05-22T19:13:00+02:00",
          "2024-05-22T19:14:00+02:00",
          "2024-05-22T19:15:00+02:00",
          "2024-05-22T19:16:00+02:00",
          "2024-05-22T19:17:00+02:00",
          "2024-05-22T19:18:00+02:00"
         ],
         "xaxis": "x",
         "y": [
          "5.566666666666667",
          "5.3",
          "5.1499999999999995",
          "5.283333333333333",
          "5.1",
          "7.083333333333333",
          "7.6000000000000005",
          "6.1499999999999995",
          "5.716666666666667",
          "6.45",
          "4.616666666666666",
          "7.816666666666667",
          "4.9833333333333325",
          "5.45",
          "7.133333333333333",
          "6.716666666666667",
          "4.883333333333333",
          "6.25",
          "6.75",
          "5.516666666666667",
          "5.55",
          "6.083333333333333",
          "4.25",
          "4.666666666666666",
          "6.25",
          "7.383333333333333",
          "6.766666666666667",
          "5.616666666666666",
          "6.45",
          "6.216666666666666",
          "4.833333333333333",
          "7.766666666666667",
          "6.733333333333333",
          "7.433333333333334",
          "6.016666666666667",
          "6.116666666666666",
          "6.05",
          "4.166666666666667",
          "4.35",
          "6.3500000000000005",
          "6.55",
          "7.216666666666667",
          "5.816666666666666",
          "5.716666666666667",
          "6.016666666666667",
          "5.933333333333333",
          "5.95",
          "6.266666666666667",
          "6.55",
          "5.4",
          "4.516666666666667",
          "5.366666666666666",
          "4.933333333333334",
          "4.2",
          "4.95",
          "6.916666666666667",
          "5.466666666666667",
          "4.266666666666667",
          "undefined"
         ],
         "yaxis": "y"
        }
       ],
       "layout": {
        "height": 600,
        "legend": {
         "title": {
          "text": "Actor"
         },
         "tracegroupgap": 0
        },
        "template": {
         "data": {
          "bar": [
           {
            "error_x": {
             "color": "#2a3f5f"
            },
            "error_y": {
             "color": "#2a3f5f"
            },
            "marker": {
             "line": {
              "color": "white",
              "width": 0.5
             },
             "pattern": {
              "fillmode": "overlay",
              "size": 10,
              "solidity": 0.2
             }
            },
            "type": "bar"
           }
          ],
          "barpolar": [
           {
            "marker": {
             "line": {
              "color": "white",
              "width": 0.5
             },
             "pattern": {
              "fillmode": "overlay",
              "size": 10,
              "solidity": 0.2
             }
            },
            "type": "barpolar"
           }
          ],
          "carpet": [
           {
            "aaxis": {
             "endlinecolor": "#2a3f5f",
             "gridcolor": "#C8D4E3",
             "linecolor": "#C8D4E3",
             "minorgridcolor": "#C8D4E3",
             "startlinecolor": "#2a3f5f"
            },
            "baxis": {
             "endlinecolor": "#2a3f5f",
             "gridcolor": "#C8D4E3",
             "linecolor": "#C8D4E3",
             "minorgridcolor": "#C8D4E3",
             "startlinecolor": "#2a3f5f"
            },
            "type": "carpet"
           }
          ],
          "choropleth": [
           {
            "colorbar": {
             "outlinewidth": 0,
             "ticks": ""
            },
            "type": "choropleth"
           }
          ],
          "contour": [
           {
            "colorbar": {
             "outlinewidth": 0,
             "ticks": ""
            },
            "colorscale": [
             [
              0,
              "#0d0887"
             ],
             [
              0.1111111111111111,
              "#46039f"
             ],
             [
              0.2222222222222222,
              "#7201a8"
             ],
             [
              0.3333333333333333,
              "#9c179e"
             ],
             [
              0.4444444444444444,
              "#bd3786"
             ],
             [
              0.5555555555555556,
              "#d8576b"
             ],
             [
              0.6666666666666666,
              "#ed7953"
             ],
             [
              0.7777777777777778,
              "#fb9f3a"
             ],
             [
              0.8888888888888888,
              "#fdca26"
             ],
             [
              1,
              "#f0f921"
             ]
            ],
            "type": "contour"
           }
          ],
          "contourcarpet": [
           {
            "colorbar": {
             "outlinewidth": 0,
             "ticks": ""
            },
            "type": "contourcarpet"
           }
          ],
          "heatmap": [
           {
            "colorbar": {
             "outlinewidth": 0,
             "ticks": ""
            },
            "colorscale": [
             [
              0,
              "#0d0887"
             ],
             [
              0.1111111111111111,
              "#46039f"
             ],
             [
              0.2222222222222222,
              "#7201a8"
             ],
             [
              0.3333333333333333,
              "#9c179e"
             ],
             [
              0.4444444444444444,
              "#bd3786"
             ],
             [
              0.5555555555555556,
              "#d8576b"
             ],
             [
              0.6666666666666666,
              "#ed7953"
             ],
             [
              0.7777777777777778,
              "#fb9f3a"
             ],
             [
              0.8888888888888888,
              "#fdca26"
             ],
             [
              1,
              "#f0f921"
             ]
            ],
            "type": "heatmap"
           }
          ],
          "heatmapgl": [
           {
            "colorbar": {
             "outlinewidth": 0,
             "ticks": ""
            },
            "colorscale": [
             [
              0,
              "#0d0887"
             ],
             [
              0.1111111111111111,
              "#46039f"
             ],
             [
              0.2222222222222222,
              "#7201a8"
             ],
             [
              0.3333333333333333,
              "#9c179e"
             ],
             [
              0.4444444444444444,
              "#bd3786"
             ],
             [
              0.5555555555555556,
              "#d8576b"
             ],
             [
              0.6666666666666666,
              "#ed7953"
             ],
             [
              0.7777777777777778,
              "#fb9f3a"
             ],
             [
              0.8888888888888888,
              "#fdca26"
             ],
             [
              1,
              "#f0f921"
             ]
            ],
            "type": "heatmapgl"
           }
          ],
          "histogram": [
           {
            "marker": {
             "pattern": {
              "fillmode": "overlay",
              "size": 10,
              "solidity": 0.2
             }
            },
            "type": "histogram"
           }
          ],
          "histogram2d": [
           {
            "colorbar": {
             "outlinewidth": 0,
             "ticks": ""
            },
            "colorscale": [
             [
              0,
              "#0d0887"
             ],
             [
              0.1111111111111111,
              "#46039f"
             ],
             [
              0.2222222222222222,
              "#7201a8"
             ],
             [
              0.3333333333333333,
              "#9c179e"
             ],
             [
              0.4444444444444444,
              "#bd3786"
             ],
             [
              0.5555555555555556,
              "#d8576b"
             ],
             [
              0.6666666666666666,
              "#ed7953"
             ],
             [
              0.7777777777777778,
              "#fb9f3a"
             ],
             [
              0.8888888888888888,
              "#fdca26"
             ],
             [
              1,
              "#f0f921"
             ]
            ],
            "type": "histogram2d"
           }
          ],
          "histogram2dcontour": [
           {
            "colorbar": {
             "outlinewidth": 0,
             "ticks": ""
            },
            "colorscale": [
             [
              0,
              "#0d0887"
             ],
             [
              0.1111111111111111,
              "#46039f"
             ],
             [
              0.2222222222222222,
              "#7201a8"
             ],
             [
              0.3333333333333333,
              "#9c179e"
             ],
             [
              0.4444444444444444,
              "#bd3786"
             ],
             [
              0.5555555555555556,
              "#d8576b"
             ],
             [
              0.6666666666666666,
              "#ed7953"
             ],
             [
              0.7777777777777778,
              "#fb9f3a"
             ],
             [
              0.8888888888888888,
              "#fdca26"
             ],
             [
              1,
              "#f0f921"
             ]
            ],
            "type": "histogram2dcontour"
           }
          ],
          "mesh3d": [
           {
            "colorbar": {
             "outlinewidth": 0,
             "ticks": ""
            },
            "type": "mesh3d"
           }
          ],
          "parcoords": [
           {
            "line": {
             "colorbar": {
              "outlinewidth": 0,
              "ticks": ""
             }
            },
            "type": "parcoords"
           }
          ],
          "pie": [
           {
            "automargin": true,
            "type": "pie"
           }
          ],
          "scatter": [
           {
            "fillpattern": {
             "fillmode": "overlay",
             "size": 10,
             "solidity": 0.2
            },
            "type": "scatter"
           }
          ],
          "scatter3d": [
           {
            "line": {
             "colorbar": {
              "outlinewidth": 0,
              "ticks": ""
             }
            },
            "marker": {
             "colorbar": {
              "outlinewidth": 0,
              "ticks": ""
             }
            },
            "type": "scatter3d"
           }
          ],
          "scattercarpet": [
           {
            "marker": {
             "colorbar": {
              "outlinewidth": 0,
              "ticks": ""
             }
            },
            "type": "scattercarpet"
           }
          ],
          "scattergeo": [
           {
            "marker": {
             "colorbar": {
              "outlinewidth": 0,
              "ticks": ""
             }
            },
            "type": "scattergeo"
           }
          ],
          "scattergl": [
           {
            "marker": {
             "colorbar": {
              "outlinewidth": 0,
              "ticks": ""
             }
            },
            "type": "scattergl"
           }
          ],
          "scattermapbox": [
           {
            "marker": {
             "colorbar": {
              "outlinewidth": 0,
              "ticks": ""
             }
            },
            "type": "scattermapbox"
           }
          ],
          "scatterpolar": [
           {
            "marker": {
             "colorbar": {
              "outlinewidth": 0,
              "ticks": ""
             }
            },
            "type": "scatterpolar"
           }
          ],
          "scatterpolargl": [
           {
            "marker": {
             "colorbar": {
              "outlinewidth": 0,
              "ticks": ""
             }
            },
            "type": "scatterpolargl"
           }
          ],
          "scatterternary": [
           {
            "marker": {
             "colorbar": {
              "outlinewidth": 0,
              "ticks": ""
             }
            },
            "type": "scatterternary"
           }
          ],
          "surface": [
           {
            "colorbar": {
             "outlinewidth": 0,
             "ticks": ""
            },
            "colorscale": [
             [
              0,
              "#0d0887"
             ],
             [
              0.1111111111111111,
              "#46039f"
             ],
             [
              0.2222222222222222,
              "#7201a8"
             ],
             [
              0.3333333333333333,
              "#9c179e"
             ],
             [
              0.4444444444444444,
              "#bd3786"
             ],
             [
              0.5555555555555556,
              "#d8576b"
             ],
             [
              0.6666666666666666,
              "#ed7953"
             ],
             [
              0.7777777777777778,
              "#fb9f3a"
             ],
             [
              0.8888888888888888,
              "#fdca26"
             ],
             [
              1,
              "#f0f921"
             ]
            ],
            "type": "surface"
           }
          ],
          "table": [
           {
            "cells": {
             "fill": {
              "color": "#EBF0F8"
             },
             "line": {
              "color": "white"
             }
            },
            "header": {
             "fill": {
              "color": "#C8D4E3"
             },
             "line": {
              "color": "white"
             }
            },
            "type": "table"
           }
          ]
         },
         "layout": {
          "annotationdefaults": {
           "arrowcolor": "#2a3f5f",
           "arrowhead": 0,
           "arrowwidth": 1
          },
          "autotypenumbers": "strict",
          "coloraxis": {
           "colorbar": {
            "outlinewidth": 0,
            "ticks": ""
           }
          },
          "colorscale": {
           "diverging": [
            [
             0,
             "#8e0152"
            ],
            [
             0.1,
             "#c51b7d"
            ],
            [
             0.2,
             "#de77ae"
            ],
            [
             0.3,
             "#f1b6da"
            ],
            [
             0.4,
             "#fde0ef"
            ],
            [
             0.5,
             "#f7f7f7"
            ],
            [
             0.6,
             "#e6f5d0"
            ],
            [
             0.7,
             "#b8e186"
            ],
            [
             0.8,
             "#7fbc41"
            ],
            [
             0.9,
             "#4d9221"
            ],
            [
             1,
             "#276419"
            ]
           ],
           "sequential": [
            [
             0,
             "#0d0887"
            ],
            [
             0.1111111111111111,
             "#46039f"
            ],
            [
             0.2222222222222222,
             "#7201a8"
            ],
            [
             0.3333333333333333,
             "#9c179e"
            ],
            [
             0.4444444444444444,
             "#bd3786"
            ],
            [
             0.5555555555555556,
             "#d8576b"
            ],
            [
             0.6666666666666666,
             "#ed7953"
            ],
            [
             0.7777777777777778,
             "#fb9f3a"
            ],
            [
             0.8888888888888888,
             "#fdca26"
            ],
            [
             1,
             "#f0f921"
            ]
           ],
           "sequentialminus": [
            [
             0,
             "#0d0887"
            ],
            [
             0.1111111111111111,
             "#46039f"
            ],
            [
             0.2222222222222222,
             "#7201a8"
            ],
            [
             0.3333333333333333,
             "#9c179e"
            ],
            [
             0.4444444444444444,
             "#bd3786"
            ],
            [
             0.5555555555555556,
             "#d8576b"
            ],
            [
             0.6666666666666666,
             "#ed7953"
            ],
            [
             0.7777777777777778,
             "#fb9f3a"
            ],
            [
             0.8888888888888888,
             "#fdca26"
            ],
            [
             1,
             "#f0f921"
            ]
           ]
          },
          "colorway": [
           "#636efa",
           "#EF553B",
           "#00cc96",
           "#ab63fa",
           "#FFA15A",
           "#19d3f3",
           "#FF6692",
           "#B6E880",
           "#FF97FF",
           "#FECB52"
          ],
          "font": {
           "color": "#2a3f5f"
          },
          "geo": {
           "bgcolor": "white",
           "lakecolor": "white",
           "landcolor": "white",
           "showlakes": true,
           "showland": true,
           "subunitcolor": "#C8D4E3"
          },
          "hoverlabel": {
           "align": "left"
          },
          "hovermode": "closest",
          "mapbox": {
           "style": "light"
          },
          "paper_bgcolor": "white",
          "plot_bgcolor": "white",
          "polar": {
           "angularaxis": {
            "gridcolor": "#EBF0F8",
            "linecolor": "#EBF0F8",
            "ticks": ""
           },
           "bgcolor": "white",
           "radialaxis": {
            "gridcolor": "#EBF0F8",
            "linecolor": "#EBF0F8",
            "ticks": ""
           }
          },
          "scene": {
           "xaxis": {
            "backgroundcolor": "white",
            "gridcolor": "#DFE8F3",
            "gridwidth": 2,
            "linecolor": "#EBF0F8",
            "showbackground": true,
            "ticks": "",
            "zerolinecolor": "#EBF0F8"
           },
           "yaxis": {
            "backgroundcolor": "white",
            "gridcolor": "#DFE8F3",
            "gridwidth": 2,
            "linecolor": "#EBF0F8",
            "showbackground": true,
            "ticks": "",
            "zerolinecolor": "#EBF0F8"
           },
           "zaxis": {
            "backgroundcolor": "white",
            "gridcolor": "#DFE8F3",
            "gridwidth": 2,
            "linecolor": "#EBF0F8",
            "showbackground": true,
            "ticks": "",
            "zerolinecolor": "#EBF0F8"
           }
          },
          "shapedefaults": {
           "line": {
            "color": "#2a3f5f"
           }
          },
          "ternary": {
           "aaxis": {
            "gridcolor": "#DFE8F3",
            "linecolor": "#A2B1C6",
            "ticks": ""
           },
           "baxis": {
            "gridcolor": "#DFE8F3",
            "linecolor": "#A2B1C6",
            "ticks": ""
           },
           "bgcolor": "white",
           "caxis": {
            "gridcolor": "#DFE8F3",
            "linecolor": "#A2B1C6",
            "ticks": ""
           }
          },
          "title": {
           "x": 0.05
          },
          "xaxis": {
           "automargin": true,
           "gridcolor": "#EBF0F8",
           "linecolor": "#EBF0F8",
           "ticks": "",
           "title": {
            "standoff": 15
           },
           "zerolinecolor": "#EBF0F8",
           "zerolinewidth": 2
          },
          "yaxis": {
           "automargin": true,
           "gridcolor": "#EBF0F8",
           "linecolor": "#EBF0F8",
           "ticks": "",
           "title": {
            "standoff": 15
           },
           "zerolinecolor": "#EBF0F8",
           "zerolinewidth": 2
          }
         }
        },
        "title": {
         "text": "Disk usage"
        },
        "width": 1200,
        "xaxis": {
         "anchor": "y",
         "domain": [
          0,
          1
         ],
         "title": {
          "text": "Time"
         }
        },
        "yaxis": {
         "anchor": "x",
         "domain": [
          0,
          1
         ],
         "title": {
          "text": "Write"
         }
        }
       }
      }
     },
     "metadata": {},
     "output_type": "display_data"
    },
    {
     "data": {
      "application/vnd.plotly.v1+json": {
       "config": {
        "plotlyServerURL": "https://plot.ly"
       },
       "data": [
        {
         "hovertemplate": "Actor=Server (10, CIFAR10)<br>Time=%{x}<br>Read=%{y}<extra></extra>",
         "legendgroup": "Server (10, CIFAR10)",
         "line": {
          "color": "#636efa",
          "dash": "solid"
         },
         "marker": {
          "symbol": "circle"
         },
         "mode": "lines",
         "name": "Server (10, CIFAR10)",
         "orientation": "v",
         "showlegend": true,
         "type": "scatter",
         "x": [
          "2024-05-22T15:41:00+02:00",
          "2024-05-22T15:42:00+02:00",
          "2024-05-22T15:43:00+02:00",
          "2024-05-22T15:44:00+02:00",
          "2024-05-22T15:45:00+02:00",
          "2024-05-22T15:46:00+02:00",
          "2024-05-22T15:47:00+02:00",
          "2024-05-22T15:48:00+02:00",
          "2024-05-22T15:49:00+02:00",
          "2024-05-22T15:50:00+02:00",
          "2024-05-22T15:51:00+02:00",
          "2024-05-22T15:52:00+02:00",
          "2024-05-22T15:53:00+02:00",
          "2024-05-22T15:54:00+02:00",
          "2024-05-22T15:55:00+02:00",
          "2024-05-22T15:56:00+02:00",
          "2024-05-22T15:57:00+02:00",
          "2024-05-22T15:58:00+02:00",
          "2024-05-22T15:59:00+02:00",
          "2024-05-22T16:00:00+02:00",
          "2024-05-22T16:01:00+02:00",
          "2024-05-22T16:02:00+02:00",
          "2024-05-22T16:03:00+02:00",
          "2024-05-22T16:04:00+02:00",
          "2024-05-22T16:05:00+02:00",
          "2024-05-22T16:06:00+02:00",
          "2024-05-22T16:07:00+02:00",
          "2024-05-22T16:08:00+02:00",
          "2024-05-22T16:09:00+02:00",
          "2024-05-22T16:10:00+02:00",
          "2024-05-22T16:11:00+02:00",
          "2024-05-22T16:12:00+02:00",
          "2024-05-22T16:13:00+02:00",
          "2024-05-22T16:14:00+02:00",
          "2024-05-22T16:15:00+02:00",
          "2024-05-22T16:16:00+02:00",
          "2024-05-22T16:17:00+02:00",
          "2024-05-22T16:18:00+02:00",
          "2024-05-22T16:19:00+02:00",
          "2024-05-22T16:20:00+02:00",
          "2024-05-22T16:21:00+02:00",
          "2024-05-22T16:22:00+02:00",
          "2024-05-22T16:23:00+02:00",
          "2024-05-22T16:24:00+02:00",
          "2024-05-22T16:25:00+02:00",
          "2024-05-22T16:26:00+02:00",
          "2024-05-22T16:27:00+02:00",
          "2024-05-22T16:28:00+02:00",
          "2024-05-22T16:29:00+02:00",
          "2024-05-22T16:30:00+02:00",
          "2024-05-22T16:31:00+02:00",
          "2024-05-22T16:32:00+02:00",
          "2024-05-22T16:33:00+02:00",
          "2024-05-22T16:34:00+02:00",
          "2024-05-22T16:35:00+02:00",
          "2024-05-22T16:36:00+02:00",
          "2024-05-22T16:37:00+02:00",
          "2024-05-22T16:38:00+02:00",
          "2024-05-22T16:39:00+02:00"
         ],
         "xaxis": "x",
         "y": [
          0.0333333333333333,
          0.0666666666666666,
          2.05,
          20.73333333333333,
          38.35,
          4.566666666666666,
          4.866666666666666,
          12.266666666666666,
          8.216666666666667,
          4.95,
          11.433333333333334,
          1.0833333333333333,
          0.65,
          1,
          3.4166666666666665,
          1.2166666666666666,
          0.8,
          3.4,
          0.4666666666666667,
          0.5,
          2.8666666666666667,
          18.433333333333337,
          0.4666666666666667,
          0.5166666666666666,
          1.75,
          0.5666666666666667,
          1.0833333333333333,
          2.8666666666666667,
          0.6833333333333333,
          1.3666666666666667,
          0.45,
          1.25,
          0.3166666666666666,
          1.4333333333333331,
          2.6666666666666665,
          2.8666666666666667,
          0.3166666666666666,
          0.55,
          0.1666666666666666,
          0.1333333333333333,
          0.25,
          0.0833333333333333,
          0.4333333333333333,
          1.55,
          1.65,
          0.4166666666666667,
          0.2,
          0.3999999999999999,
          0.4,
          1.2833333333333332,
          1.5,
          9.483333333333333,
          0.1,
          0.6166666666666667,
          2.3166666666666664,
          0.2,
          0.1333333333333333,
          0.2666666666666666,
          12.033333333333331
         ],
         "yaxis": "y"
        },
        {
         "hovertemplate": "Actor=Worker (5, CIFAR10)<br>Time=%{x}<br>Read=%{y}<extra></extra>",
         "legendgroup": "Worker (5, CIFAR10)",
         "line": {
          "color": "#EF553B",
          "dash": "solid"
         },
         "marker": {
          "symbol": "circle"
         },
         "mode": "lines",
         "name": "Worker (5, CIFAR10)",
         "orientation": "v",
         "showlegend": true,
         "type": "scatter",
         "x": [
          "2024-05-22T13:31:00+02:00",
          "2024-05-22T13:32:00+02:00",
          "2024-05-22T13:33:00+02:00",
          "2024-05-22T13:34:00+02:00",
          "2024-05-22T13:35:00+02:00",
          "2024-05-22T13:36:00+02:00",
          "2024-05-22T13:37:00+02:00",
          "2024-05-22T13:38:00+02:00",
          "2024-05-22T13:39:00+02:00",
          "2024-05-22T13:40:00+02:00",
          "2024-05-22T13:41:00+02:00",
          "2024-05-22T13:42:00+02:00",
          "2024-05-22T13:43:00+02:00",
          "2024-05-22T13:44:00+02:00",
          "2024-05-22T13:45:00+02:00",
          "2024-05-22T13:46:00+02:00",
          "2024-05-22T13:47:00+02:00",
          "2024-05-22T13:48:00+02:00",
          "2024-05-22T13:49:00+02:00",
          "2024-05-22T13:50:00+02:00",
          "2024-05-22T13:51:00+02:00",
          "2024-05-22T13:52:00+02:00",
          "2024-05-22T13:53:00+02:00",
          "2024-05-22T13:54:00+02:00",
          "2024-05-22T13:55:00+02:00",
          "2024-05-22T13:56:00+02:00",
          "2024-05-22T13:57:00+02:00",
          "2024-05-22T13:58:00+02:00",
          "2024-05-22T13:59:00+02:00",
          "2024-05-22T14:00:00+02:00",
          "2024-05-22T14:01:00+02:00",
          "2024-05-22T14:02:00+02:00",
          "2024-05-22T14:03:00+02:00",
          "2024-05-22T14:04:00+02:00",
          "2024-05-22T14:05:00+02:00",
          "2024-05-22T14:06:00+02:00",
          "2024-05-22T14:07:00+02:00",
          "2024-05-22T14:08:00+02:00",
          "2024-05-22T14:09:00+02:00",
          "2024-05-22T14:10:00+02:00",
          "2024-05-22T14:11:00+02:00",
          "2024-05-22T14:12:00+02:00",
          "2024-05-22T14:13:00+02:00",
          "2024-05-22T14:14:00+02:00",
          "2024-05-22T14:15:00+02:00",
          "2024-05-22T14:16:00+02:00",
          "2024-05-22T14:17:00+02:00",
          "2024-05-22T14:18:00+02:00",
          "2024-05-22T14:19:00+02:00",
          "2024-05-22T14:20:00+02:00",
          "2024-05-22T14:21:00+02:00",
          "2024-05-22T14:22:00+02:00",
          "2024-05-22T14:23:00+02:00",
          "2024-05-22T14:24:00+02:00",
          "2024-05-22T14:25:00+02:00",
          "2024-05-22T14:26:00+02:00",
          "2024-05-22T14:27:00+02:00",
          "2024-05-22T14:28:00+02:00",
          "2024-05-22T14:29:00+02:00",
          "2024-05-22T14:30:00+02:00",
          "2024-05-22T14:31:00+02:00",
          "2024-05-22T14:32:00+02:00",
          "2024-05-22T14:33:00+02:00",
          "2024-05-22T14:34:00+02:00",
          "2024-05-22T14:35:00+02:00",
          "2024-05-22T14:36:00+02:00",
          "2024-05-22T14:37:00+02:00",
          "2024-05-22T14:38:00+02:00",
          "2024-05-22T14:39:00+02:00",
          "2024-05-22T14:40:00+02:00",
          "2024-05-22T14:41:00+02:00",
          "2024-05-22T14:42:00+02:00",
          "2024-05-22T14:43:00+02:00",
          "2024-05-22T14:44:00+02:00",
          "2024-05-22T14:45:00+02:00",
          "2024-05-22T14:46:00+02:00",
          "2024-05-22T14:47:00+02:00",
          "2024-05-22T14:48:00+02:00",
          "2024-05-22T14:49:00+02:00",
          "2024-05-22T14:50:00+02:00",
          "2024-05-22T14:51:00+02:00",
          "2024-05-22T14:52:00+02:00",
          "2024-05-22T14:53:00+02:00",
          "2024-05-22T14:54:00+02:00",
          "2024-05-22T14:55:00+02:00",
          "2024-05-22T14:56:00+02:00",
          "2024-05-22T14:57:00+02:00",
          "2024-05-22T14:58:00+02:00",
          "2024-05-22T14:59:00+02:00",
          "2024-05-22T15:00:00+02:00",
          "2024-05-22T15:01:00+02:00",
          "2024-05-22T15:02:00+02:00",
          "2024-05-22T15:03:00+02:00",
          "2024-05-22T15:04:00+02:00",
          "2024-05-22T15:05:00+02:00",
          "2024-05-22T15:06:00+02:00",
          "2024-05-22T15:07:00+02:00",
          "2024-05-22T15:08:00+02:00",
          "2024-05-22T15:09:00+02:00",
          "2024-05-22T15:10:00+02:00",
          "2024-05-22T15:11:00+02:00",
          "2024-05-22T15:12:00+02:00",
          "2024-05-22T15:13:00+02:00",
          "2024-05-22T15:14:00+02:00",
          "2024-05-22T15:15:00+02:00",
          "2024-05-22T15:16:00+02:00",
          "2024-05-22T15:17:00+02:00",
          "2024-05-22T15:18:00+02:00",
          "2024-05-22T15:19:00+02:00",
          "2024-05-22T15:20:00+02:00",
          "2024-05-22T15:21:00+02:00",
          "2024-05-22T15:22:00+02:00",
          "2024-05-22T15:23:00+02:00",
          "2024-05-22T15:24:00+02:00",
          "2024-05-22T15:25:00+02:00",
          "2024-05-22T15:26:00+02:00",
          "2024-05-22T15:27:00+02:00",
          "2024-05-22T15:28:00+02:00",
          "2024-05-22T15:29:00+02:00",
          "2024-05-22T15:30:00+02:00",
          "2024-05-22T15:31:00+02:00",
          "2024-05-22T15:32:00+02:00",
          "2024-05-22T15:33:00+02:00",
          "2024-05-22T15:34:00+02:00",
          "2024-05-22T15:35:00+02:00",
          "2024-05-22T15:36:00+02:00",
          "2024-05-22T15:37:00+02:00",
          "2024-05-22T15:38:00+02:00",
          "2024-05-22T15:39:00+02:00",
          "2024-05-22T15:40:00+02:00",
          "2024-05-22T15:41:00+02:00",
          "2024-05-22T15:42:00+02:00",
          "2024-05-22T15:43:00+02:00",
          "2024-05-22T15:44:00+02:00",
          "2024-05-22T15:45:00+02:00",
          "2024-05-22T15:46:00+02:00"
         ],
         "xaxis": "x",
         "y": [
          32.766666666666666,
          321.9,
          0.3166666666666666,
          0,
          0.0333333333333333,
          0.0333333333333333,
          0,
          0.05,
          0.3333333333333333,
          0.0333333333333333,
          0.0333333333333333,
          0.0333333333333333,
          0.0166666666666666,
          0.0166666666666666,
          0,
          1.0166666666666666,
          7.25,
          0.0333333333333333,
          0.0333333333333333,
          0,
          0.0333333333333333,
          18.2,
          127.11666666666666,
          3.033333333333333,
          11.6,
          88.76666666666667,
          71,
          0.0166666666666666,
          0.0666666666666666,
          0,
          0,
          0,
          0,
          0,
          0,
          0,
          0,
          0,
          0,
          0,
          0,
          0,
          0,
          0.0333333333333333,
          0,
          0.0166666666666666,
          0,
          0.0333333333333333,
          0.0333333333333333,
          0,
          0,
          0,
          0.0166666666666666,
          0,
          0,
          0.0166666666666666,
          0,
          0,
          0,
          0.0166666666666666,
          0,
          0,
          0,
          0,
          0,
          0,
          0,
          0,
          0,
          0,
          0,
          0,
          0.0166666666666666,
          0,
          0.0333333333333333,
          0,
          0,
          0,
          0,
          0,
          0,
          0,
          0,
          0,
          0,
          0,
          0,
          0,
          0.0166666666666666,
          0,
          0,
          0,
          0,
          0,
          0,
          0,
          0.0166666666666666,
          0,
          0,
          0.0166666666666666,
          0,
          0,
          0,
          7.2,
          50.95,
          0,
          0,
          0,
          0,
          0,
          0,
          0,
          0,
          0,
          0,
          0,
          0,
          0,
          0,
          0,
          0,
          0.0166666666666666,
          0.0166666666666666,
          0.0166666666666666,
          0.0833333333333333,
          0.55,
          0,
          0,
          0,
          0,
          0.0166666666666666,
          0.0666666666666666,
          0,
          0.0166666666666666,
          0.0166666666666666,
          0
         ],
         "yaxis": "y"
        },
        {
         "hovertemplate": "Actor=Server (5, CIFAR10)<br>Time=%{x}<br>Read=%{y}<extra></extra>",
         "legendgroup": "Server (5, CIFAR10)",
         "line": {
          "color": "#00cc96",
          "dash": "solid"
         },
         "marker": {
          "symbol": "circle"
         },
         "mode": "lines",
         "name": "Server (5, CIFAR10)",
         "orientation": "v",
         "showlegend": true,
         "type": "scatter",
         "x": [
          "2024-05-22T13:45:00+02:00",
          "2024-05-22T13:46:00+02:00",
          "2024-05-22T13:47:00+02:00",
          "2024-05-22T13:48:00+02:00",
          "2024-05-22T13:49:00+02:00",
          "2024-05-22T13:50:00+02:00",
          "2024-05-22T13:51:00+02:00",
          "2024-05-22T13:52:00+02:00",
          "2024-05-22T13:53:00+02:00",
          "2024-05-22T13:54:00+02:00",
          "2024-05-22T13:55:00+02:00",
          "2024-05-22T13:56:00+02:00",
          "2024-05-22T13:57:00+02:00",
          "2024-05-22T13:58:00+02:00",
          "2024-05-22T13:59:00+02:00",
          "2024-05-22T14:00:00+02:00",
          "2024-05-22T14:01:00+02:00",
          "2024-05-22T14:02:00+02:00",
          "2024-05-22T14:03:00+02:00",
          "2024-05-22T14:04:00+02:00",
          "2024-05-22T14:05:00+02:00",
          "2024-05-22T14:06:00+02:00",
          "2024-05-22T14:07:00+02:00",
          "2024-05-22T14:08:00+02:00",
          "2024-05-22T14:09:00+02:00",
          "2024-05-22T14:10:00+02:00",
          "2024-05-22T14:11:00+02:00",
          "2024-05-22T14:12:00+02:00",
          "2024-05-22T14:13:00+02:00",
          "2024-05-22T14:14:00+02:00",
          "2024-05-22T14:15:00+02:00",
          "2024-05-22T14:16:00+02:00",
          "2024-05-22T14:17:00+02:00",
          "2024-05-22T14:18:00+02:00",
          "2024-05-22T14:19:00+02:00",
          "2024-05-22T14:20:00+02:00",
          "2024-05-22T14:21:00+02:00",
          "2024-05-22T14:22:00+02:00",
          "2024-05-22T14:23:00+02:00",
          "2024-05-22T14:24:00+02:00",
          "2024-05-22T14:25:00+02:00",
          "2024-05-22T14:26:00+02:00",
          "2024-05-22T14:27:00+02:00",
          "2024-05-22T14:28:00+02:00",
          "2024-05-22T14:29:00+02:00",
          "2024-05-22T14:30:00+02:00",
          "2024-05-22T14:31:00+02:00",
          "2024-05-22T14:32:00+02:00",
          "2024-05-22T14:33:00+02:00",
          "2024-05-22T14:34:00+02:00",
          "2024-05-22T14:35:00+02:00",
          "2024-05-22T14:36:00+02:00",
          "2024-05-22T14:37:00+02:00",
          "2024-05-22T14:38:00+02:00",
          "2024-05-22T14:39:00+02:00",
          "2024-05-22T14:40:00+02:00",
          "2024-05-22T14:41:00+02:00",
          "2024-05-22T14:42:00+02:00",
          "2024-05-22T14:43:00+02:00",
          "2024-05-22T14:44:00+02:00",
          "2024-05-22T14:45:00+02:00",
          "2024-05-22T14:46:00+02:00",
          "2024-05-22T14:47:00+02:00",
          "2024-05-22T14:48:00+02:00",
          "2024-05-22T14:49:00+02:00",
          "2024-05-22T14:50:00+02:00",
          "2024-05-22T14:51:00+02:00",
          "2024-05-22T14:52:00+02:00",
          "2024-05-22T14:53:00+02:00",
          "2024-05-22T14:54:00+02:00",
          "2024-05-22T14:55:00+02:00",
          "2024-05-22T14:56:00+02:00",
          "2024-05-22T14:57:00+02:00",
          "2024-05-22T14:58:00+02:00",
          "2024-05-22T14:59:00+02:00",
          "2024-05-22T15:00:00+02:00",
          "2024-05-22T15:01:00+02:00",
          "2024-05-22T15:02:00+02:00",
          "2024-05-22T15:03:00+02:00",
          "2024-05-22T15:04:00+02:00",
          "2024-05-22T15:05:00+02:00",
          "2024-05-22T15:06:00+02:00",
          "2024-05-22T15:07:00+02:00",
          "2024-05-22T15:08:00+02:00",
          "2024-05-22T15:09:00+02:00",
          "2024-05-22T15:10:00+02:00",
          "2024-05-22T15:11:00+02:00",
          "2024-05-22T15:12:00+02:00",
          "2024-05-22T15:13:00+02:00",
          "2024-05-22T15:14:00+02:00",
          "2024-05-22T15:15:00+02:00",
          "2024-05-22T15:16:00+02:00",
          "2024-05-22T15:17:00+02:00",
          "2024-05-22T15:18:00+02:00",
          "2024-05-22T15:19:00+02:00",
          "2024-05-22T15:20:00+02:00",
          "2024-05-22T15:21:00+02:00"
         ],
         "xaxis": "x",
         "y": [
          0,
          0,
          0.0333333333333333,
          0,
          0,
          0.95,
          7.383333333333333,
          23.483333333333334,
          196.28333333333333,
          117.3,
          14.883333333333333,
          101.63333333333333,
          48.083333333333336,
          0.0666666666666666,
          0.0166666666666666,
          0.05,
          0,
          0.0166666666666666,
          0.1166666666666666,
          0.0166666666666666,
          0.0666666666666666,
          0.0666666666666666,
          0.0166666666666666,
          0.0166666666666666,
          0.0666666666666666,
          0.0166666666666666,
          0.0333333333333333,
          0,
          0.0333333333333333,
          0.0166666666666666,
          0.0333333333333333,
          0.0333333333333333,
          0.0166666666666666,
          0.05,
          0.0666666666666666,
          0.3333333333333333,
          0.0166666666666666,
          0.0166666666666666,
          0.0666666666666666,
          0.0166666666666666,
          0.0166666666666666,
          0,
          0.0166666666666666,
          0.0166666666666666,
          0.05,
          0.05,
          0.0166666666666666,
          0.05,
          0.0833333333333333,
          0.0666666666666666,
          0.0666666666666666,
          0.1166666666666666,
          0.05,
          0.0333333333333333,
          0.0166666666666666,
          0.0166666666666666,
          0,
          0,
          0,
          0.0166666666666666,
          0.0166666666666666,
          0.0166666666666666,
          0,
          0,
          0,
          0.0166666666666666,
          0,
          0.0166666666666666,
          0,
          0,
          0,
          0,
          0.0166666666666666,
          0,
          0.0166666666666666,
          0.0166666666666666,
          0,
          0,
          0,
          0,
          0.0166666666666666,
          0.0166666666666666,
          0,
          0,
          0,
          0,
          0,
          0.05,
          0.35,
          2.216666666666667,
          17.35,
          0,
          0,
          1.5666666666666669,
          19,
          58.86666666666667,
          58.766666666666666
         ],
         "yaxis": "y"
        },
        {
         "hovertemplate": "Actor=Worker (10, CIFAR10)<br>Time=%{x}<br>Read=%{y}<extra></extra>",
         "legendgroup": "Worker (10, CIFAR10)",
         "line": {
          "color": "#ab63fa",
          "dash": "solid"
         },
         "marker": {
          "symbol": "circle"
         },
         "mode": "lines",
         "name": "Worker (10, CIFAR10)",
         "orientation": "v",
         "showlegend": true,
         "type": "scatter",
         "x": [
          "2024-05-22T15:42:00+02:00",
          "2024-05-22T15:43:00+02:00",
          "2024-05-22T15:44:00+02:00",
          "2024-05-22T15:45:00+02:00",
          "2024-05-22T15:46:00+02:00",
          "2024-05-22T15:47:00+02:00",
          "2024-05-22T15:48:00+02:00",
          "2024-05-22T15:49:00+02:00",
          "2024-05-22T15:50:00+02:00",
          "2024-05-22T15:51:00+02:00",
          "2024-05-22T15:52:00+02:00",
          "2024-05-22T15:53:00+02:00",
          "2024-05-22T15:54:00+02:00",
          "2024-05-22T15:55:00+02:00",
          "2024-05-22T15:56:00+02:00",
          "2024-05-22T15:57:00+02:00",
          "2024-05-22T15:58:00+02:00",
          "2024-05-22T15:59:00+02:00",
          "2024-05-22T16:00:00+02:00",
          "2024-05-22T16:01:00+02:00",
          "2024-05-22T16:02:00+02:00",
          "2024-05-22T16:03:00+02:00",
          "2024-05-22T16:04:00+02:00",
          "2024-05-22T16:05:00+02:00",
          "2024-05-22T16:06:00+02:00",
          "2024-05-22T16:07:00+02:00",
          "2024-05-22T16:08:00+02:00",
          "2024-05-22T16:09:00+02:00",
          "2024-05-22T16:10:00+02:00",
          "2024-05-22T16:11:00+02:00",
          "2024-05-22T16:12:00+02:00",
          "2024-05-22T16:13:00+02:00",
          "2024-05-22T16:14:00+02:00",
          "2024-05-22T16:15:00+02:00",
          "2024-05-22T16:16:00+02:00",
          "2024-05-22T16:17:00+02:00",
          "2024-05-22T16:18:00+02:00",
          "2024-05-22T16:19:00+02:00",
          "2024-05-22T16:20:00+02:00",
          "2024-05-22T16:21:00+02:00",
          "2024-05-22T16:22:00+02:00",
          "2024-05-22T16:23:00+02:00",
          "2024-05-22T16:24:00+02:00",
          "2024-05-22T16:25:00+02:00",
          "2024-05-22T16:26:00+02:00",
          "2024-05-22T16:27:00+02:00",
          "2024-05-22T16:28:00+02:00",
          "2024-05-22T16:29:00+02:00",
          "2024-05-22T16:30:00+02:00",
          "2024-05-22T16:31:00+02:00",
          "2024-05-22T16:32:00+02:00",
          "2024-05-22T16:33:00+02:00",
          "2024-05-22T16:34:00+02:00",
          "2024-05-22T16:35:00+02:00",
          "2024-05-22T16:36:00+02:00",
          "2024-05-22T16:37:00+02:00",
          "2024-05-22T16:38:00+02:00",
          "2024-05-22T16:39:00+02:00",
          "2024-05-22T16:40:00+02:00"
         ],
         "xaxis": "x",
         "y": [
          0.0666666666666666,
          0,
          0.0166666666666666,
          0.0166666666666666,
          0,
          0,
          0,
          0,
          0,
          0,
          0,
          0,
          0,
          0,
          0.0333333333333333,
          0.0166666666666666,
          0,
          0,
          0,
          0,
          0,
          0,
          0,
          0,
          0,
          0,
          0,
          0,
          0,
          0,
          0,
          0,
          0,
          0,
          0,
          0,
          0,
          0,
          0.0166666666666666,
          0,
          0,
          0,
          0.0166666666666666,
          0,
          0,
          0,
          0,
          0.0166666666666666,
          0,
          0,
          0,
          0,
          0,
          0,
          0,
          0,
          0.05,
          0.4166666666666667,
          0
         ],
         "yaxis": "y"
        },
        {
         "hovertemplate": "Actor=Standalone (CIFAR10)<br>Time=%{x}<br>Read=%{y}<extra></extra>",
         "legendgroup": "Standalone (CIFAR10)",
         "line": {
          "color": "#FFA15A",
          "dash": "solid"
         },
         "marker": {
          "symbol": "circle"
         },
         "mode": "lines",
         "name": "Standalone (CIFAR10)",
         "orientation": "v",
         "showlegend": true,
         "type": "scatter",
         "x": [
          "2024-05-22T14:15:00+02:00",
          "2024-05-22T14:16:00+02:00",
          "2024-05-22T14:17:00+02:00",
          "2024-05-22T14:18:00+02:00",
          "2024-05-22T14:19:00+02:00",
          "2024-05-22T14:20:00+02:00",
          "2024-05-22T14:21:00+02:00",
          "2024-05-22T14:22:00+02:00",
          "2024-05-22T14:23:00+02:00",
          "2024-05-22T14:24:00+02:00",
          "2024-05-22T14:25:00+02:00",
          "2024-05-22T14:26:00+02:00",
          "2024-05-22T14:27:00+02:00",
          "2024-05-22T14:28:00+02:00",
          "2024-05-22T14:29:00+02:00",
          "2024-05-22T14:30:00+02:00",
          "2024-05-22T14:31:00+02:00",
          "2024-05-22T14:32:00+02:00",
          "2024-05-22T14:33:00+02:00",
          "2024-05-22T14:34:00+02:00",
          "2024-05-22T14:35:00+02:00",
          "2024-05-22T14:36:00+02:00",
          "2024-05-22T14:37:00+02:00",
          "2024-05-22T14:38:00+02:00"
         ],
         "xaxis": "x",
         "y": [
          0.05,
          0.3333333333333333,
          22.95,
          113.13333333333333,
          33.9,
          70.5,
          122.75,
          20.53333333333333,
          8.75,
          1.65,
          0.0166666666666666,
          0.9166666666666666,
          0.1666666666666666,
          0,
          0,
          0.0166666666666666,
          0,
          0,
          0,
          0,
          0.1333333333333333,
          0.05,
          0.0166666666666666,
          0.0166666666666666
         ],
         "yaxis": "y"
        },
        {
         "hovertemplate": "Actor=Worker (20, CIFAR10)<br>Time=%{x}<br>Read=%{y}<extra></extra>",
         "legendgroup": "Worker (20, CIFAR10)",
         "line": {
          "color": "#19d3f3",
          "dash": "solid"
         },
         "marker": {
          "symbol": "circle"
         },
         "mode": "lines",
         "name": "Worker (20, CIFAR10)",
         "orientation": "v",
         "showlegend": true,
         "type": "scatter",
         "x": [
          "2024-05-22T18:19:00+02:00",
          "2024-05-22T18:20:00+02:00",
          "2024-05-22T18:21:00+02:00",
          "2024-05-22T18:22:00+02:00",
          "2024-05-22T18:23:00+02:00",
          "2024-05-22T18:24:00+02:00",
          "2024-05-22T18:25:00+02:00",
          "2024-05-22T18:26:00+02:00",
          "2024-05-22T18:27:00+02:00",
          "2024-05-22T18:28:00+02:00",
          "2024-05-22T18:29:00+02:00",
          "2024-05-22T18:30:00+02:00",
          "2024-05-22T18:31:00+02:00",
          "2024-05-22T18:32:00+02:00",
          "2024-05-22T18:33:00+02:00",
          "2024-05-22T18:34:00+02:00",
          "2024-05-22T18:35:00+02:00",
          "2024-05-22T18:36:00+02:00",
          "2024-05-22T18:37:00+02:00",
          "2024-05-22T18:38:00+02:00",
          "2024-05-22T18:39:00+02:00",
          "2024-05-22T18:40:00+02:00",
          "2024-05-22T18:41:00+02:00",
          "2024-05-22T18:42:00+02:00",
          "2024-05-22T18:43:00+02:00",
          "2024-05-22T18:44:00+02:00",
          "2024-05-22T18:45:00+02:00",
          "2024-05-22T18:46:00+02:00",
          "2024-05-22T18:47:00+02:00",
          "2024-05-22T18:48:00+02:00",
          "2024-05-22T18:49:00+02:00",
          "2024-05-22T18:50:00+02:00",
          "2024-05-22T18:51:00+02:00",
          "2024-05-22T18:52:00+02:00",
          "2024-05-22T18:53:00+02:00",
          "2024-05-22T18:54:00+02:00",
          "2024-05-22T18:55:00+02:00",
          "2024-05-22T18:56:00+02:00",
          "2024-05-22T18:57:00+02:00",
          "2024-05-22T18:58:00+02:00",
          "2024-05-22T18:59:00+02:00",
          "2024-05-22T19:00:00+02:00",
          "2024-05-22T19:01:00+02:00",
          "2024-05-22T19:02:00+02:00",
          "2024-05-22T19:03:00+02:00",
          "2024-05-22T19:04:00+02:00",
          "2024-05-22T19:05:00+02:00",
          "2024-05-22T19:06:00+02:00",
          "2024-05-22T19:07:00+02:00",
          "2024-05-22T19:08:00+02:00",
          "2024-05-22T19:09:00+02:00",
          "2024-05-22T19:10:00+02:00",
          "2024-05-22T19:11:00+02:00",
          "2024-05-22T19:12:00+02:00",
          "2024-05-22T19:13:00+02:00",
          "2024-05-22T19:14:00+02:00",
          "2024-05-22T19:15:00+02:00",
          "2024-05-22T19:16:00+02:00",
          "2024-05-22T19:17:00+02:00"
         ],
         "xaxis": "x",
         "y": [
          0,
          0,
          0,
          0.0166666666666666,
          0,
          0,
          0,
          0,
          0,
          0.4166666666666667,
          9.45,
          4.083333333333333,
          0.0166666666666666,
          0,
          0,
          0,
          0.1666666666666666,
          0.0833333333333333,
          0.0166666666666666,
          0.0166666666666666,
          0,
          0,
          0,
          0,
          0.0166666666666666,
          0,
          0,
          0,
          0.0166666666666666,
          0.0166666666666666,
          0.0166666666666666,
          0.0166666666666666,
          0.0166666666666666,
          0,
          0,
          0,
          0.0166666666666666,
          0,
          0,
          0,
          0,
          0,
          0.0166666666666666,
          0,
          0.0166666666666666,
          0.0166666666666666,
          0,
          0,
          0,
          0,
          0,
          0,
          0,
          0,
          0,
          0,
          0.0166666666666666,
          0.0333333333333333,
          0
         ],
         "yaxis": "y"
        },
        {
         "hovertemplate": "Actor=Server (20, CIFAR10)<br>Time=%{x}<br>Read=%{y}<extra></extra>",
         "legendgroup": "Server (20, CIFAR10)",
         "line": {
          "color": "#FF6692",
          "dash": "solid"
         },
         "marker": {
          "symbol": "circle"
         },
         "mode": "lines",
         "name": "Server (20, CIFAR10)",
         "orientation": "v",
         "showlegend": true,
         "type": "scatter",
         "x": [
          "2024-05-22T18:20:00+02:00",
          "2024-05-22T18:21:00+02:00",
          "2024-05-22T18:22:00+02:00",
          "2024-05-22T18:23:00+02:00",
          "2024-05-22T18:24:00+02:00",
          "2024-05-22T18:25:00+02:00",
          "2024-05-22T18:26:00+02:00",
          "2024-05-22T18:27:00+02:00",
          "2024-05-22T18:28:00+02:00",
          "2024-05-22T18:29:00+02:00",
          "2024-05-22T18:30:00+02:00",
          "2024-05-22T18:31:00+02:00",
          "2024-05-22T18:32:00+02:00",
          "2024-05-22T18:33:00+02:00",
          "2024-05-22T18:34:00+02:00",
          "2024-05-22T18:35:00+02:00",
          "2024-05-22T18:36:00+02:00",
          "2024-05-22T18:37:00+02:00",
          "2024-05-22T18:38:00+02:00",
          "2024-05-22T18:39:00+02:00",
          "2024-05-22T18:40:00+02:00",
          "2024-05-22T18:41:00+02:00",
          "2024-05-22T18:42:00+02:00",
          "2024-05-22T18:43:00+02:00",
          "2024-05-22T18:44:00+02:00",
          "2024-05-22T18:45:00+02:00",
          "2024-05-22T18:46:00+02:00",
          "2024-05-22T18:47:00+02:00",
          "2024-05-22T18:48:00+02:00",
          "2024-05-22T18:49:00+02:00",
          "2024-05-22T18:50:00+02:00",
          "2024-05-22T18:51:00+02:00",
          "2024-05-22T18:52:00+02:00",
          "2024-05-22T18:53:00+02:00",
          "2024-05-22T18:54:00+02:00",
          "2024-05-22T18:55:00+02:00",
          "2024-05-22T18:56:00+02:00",
          "2024-05-22T18:57:00+02:00",
          "2024-05-22T18:58:00+02:00",
          "2024-05-22T18:59:00+02:00",
          "2024-05-22T19:00:00+02:00",
          "2024-05-22T19:01:00+02:00",
          "2024-05-22T19:02:00+02:00",
          "2024-05-22T19:03:00+02:00",
          "2024-05-22T19:04:00+02:00",
          "2024-05-22T19:05:00+02:00",
          "2024-05-22T19:06:00+02:00",
          "2024-05-22T19:07:00+02:00",
          "2024-05-22T19:08:00+02:00",
          "2024-05-22T19:09:00+02:00",
          "2024-05-22T19:10:00+02:00",
          "2024-05-22T19:11:00+02:00",
          "2024-05-22T19:12:00+02:00",
          "2024-05-22T19:13:00+02:00",
          "2024-05-22T19:14:00+02:00",
          "2024-05-22T19:15:00+02:00",
          "2024-05-22T19:16:00+02:00",
          "2024-05-22T19:17:00+02:00",
          "2024-05-22T19:18:00+02:00"
         ],
         "xaxis": "x",
         "y": [
          0,
          0,
          0.0166666666666666,
          0,
          0,
          0,
          0,
          0,
          0.4166666666666667,
          9.45,
          4.083333333333333,
          0.0166666666666666,
          0,
          0,
          0,
          0.1666666666666666,
          0.0833333333333333,
          0.0166666666666666,
          0.0166666666666666,
          0,
          0,
          0,
          0,
          0.0166666666666666,
          0,
          0,
          0,
          0.0166666666666666,
          0.0166666666666666,
          0.0166666666666666,
          0.0166666666666666,
          0.0166666666666666,
          0,
          0,
          0,
          0.0166666666666666,
          0,
          0,
          0,
          0,
          0,
          0.0166666666666666,
          0,
          0.0166666666666666,
          0.0166666666666666,
          0,
          0,
          0,
          0,
          0,
          0,
          0,
          0,
          0,
          0,
          0.0166666666666666,
          0.0333333333333333,
          0,
          0
         ],
         "yaxis": "y"
        }
       ],
       "layout": {
        "height": 600,
        "legend": {
         "title": {
          "text": "Actor"
         },
         "tracegroupgap": 0
        },
        "template": {
         "data": {
          "bar": [
           {
            "error_x": {
             "color": "#2a3f5f"
            },
            "error_y": {
             "color": "#2a3f5f"
            },
            "marker": {
             "line": {
              "color": "white",
              "width": 0.5
             },
             "pattern": {
              "fillmode": "overlay",
              "size": 10,
              "solidity": 0.2
             }
            },
            "type": "bar"
           }
          ],
          "barpolar": [
           {
            "marker": {
             "line": {
              "color": "white",
              "width": 0.5
             },
             "pattern": {
              "fillmode": "overlay",
              "size": 10,
              "solidity": 0.2
             }
            },
            "type": "barpolar"
           }
          ],
          "carpet": [
           {
            "aaxis": {
             "endlinecolor": "#2a3f5f",
             "gridcolor": "#C8D4E3",
             "linecolor": "#C8D4E3",
             "minorgridcolor": "#C8D4E3",
             "startlinecolor": "#2a3f5f"
            },
            "baxis": {
             "endlinecolor": "#2a3f5f",
             "gridcolor": "#C8D4E3",
             "linecolor": "#C8D4E3",
             "minorgridcolor": "#C8D4E3",
             "startlinecolor": "#2a3f5f"
            },
            "type": "carpet"
           }
          ],
          "choropleth": [
           {
            "colorbar": {
             "outlinewidth": 0,
             "ticks": ""
            },
            "type": "choropleth"
           }
          ],
          "contour": [
           {
            "colorbar": {
             "outlinewidth": 0,
             "ticks": ""
            },
            "colorscale": [
             [
              0,
              "#0d0887"
             ],
             [
              0.1111111111111111,
              "#46039f"
             ],
             [
              0.2222222222222222,
              "#7201a8"
             ],
             [
              0.3333333333333333,
              "#9c179e"
             ],
             [
              0.4444444444444444,
              "#bd3786"
             ],
             [
              0.5555555555555556,
              "#d8576b"
             ],
             [
              0.6666666666666666,
              "#ed7953"
             ],
             [
              0.7777777777777778,
              "#fb9f3a"
             ],
             [
              0.8888888888888888,
              "#fdca26"
             ],
             [
              1,
              "#f0f921"
             ]
            ],
            "type": "contour"
           }
          ],
          "contourcarpet": [
           {
            "colorbar": {
             "outlinewidth": 0,
             "ticks": ""
            },
            "type": "contourcarpet"
           }
          ],
          "heatmap": [
           {
            "colorbar": {
             "outlinewidth": 0,
             "ticks": ""
            },
            "colorscale": [
             [
              0,
              "#0d0887"
             ],
             [
              0.1111111111111111,
              "#46039f"
             ],
             [
              0.2222222222222222,
              "#7201a8"
             ],
             [
              0.3333333333333333,
              "#9c179e"
             ],
             [
              0.4444444444444444,
              "#bd3786"
             ],
             [
              0.5555555555555556,
              "#d8576b"
             ],
             [
              0.6666666666666666,
              "#ed7953"
             ],
             [
              0.7777777777777778,
              "#fb9f3a"
             ],
             [
              0.8888888888888888,
              "#fdca26"
             ],
             [
              1,
              "#f0f921"
             ]
            ],
            "type": "heatmap"
           }
          ],
          "heatmapgl": [
           {
            "colorbar": {
             "outlinewidth": 0,
             "ticks": ""
            },
            "colorscale": [
             [
              0,
              "#0d0887"
             ],
             [
              0.1111111111111111,
              "#46039f"
             ],
             [
              0.2222222222222222,
              "#7201a8"
             ],
             [
              0.3333333333333333,
              "#9c179e"
             ],
             [
              0.4444444444444444,
              "#bd3786"
             ],
             [
              0.5555555555555556,
              "#d8576b"
             ],
             [
              0.6666666666666666,
              "#ed7953"
             ],
             [
              0.7777777777777778,
              "#fb9f3a"
             ],
             [
              0.8888888888888888,
              "#fdca26"
             ],
             [
              1,
              "#f0f921"
             ]
            ],
            "type": "heatmapgl"
           }
          ],
          "histogram": [
           {
            "marker": {
             "pattern": {
              "fillmode": "overlay",
              "size": 10,
              "solidity": 0.2
             }
            },
            "type": "histogram"
           }
          ],
          "histogram2d": [
           {
            "colorbar": {
             "outlinewidth": 0,
             "ticks": ""
            },
            "colorscale": [
             [
              0,
              "#0d0887"
             ],
             [
              0.1111111111111111,
              "#46039f"
             ],
             [
              0.2222222222222222,
              "#7201a8"
             ],
             [
              0.3333333333333333,
              "#9c179e"
             ],
             [
              0.4444444444444444,
              "#bd3786"
             ],
             [
              0.5555555555555556,
              "#d8576b"
             ],
             [
              0.6666666666666666,
              "#ed7953"
             ],
             [
              0.7777777777777778,
              "#fb9f3a"
             ],
             [
              0.8888888888888888,
              "#fdca26"
             ],
             [
              1,
              "#f0f921"
             ]
            ],
            "type": "histogram2d"
           }
          ],
          "histogram2dcontour": [
           {
            "colorbar": {
             "outlinewidth": 0,
             "ticks": ""
            },
            "colorscale": [
             [
              0,
              "#0d0887"
             ],
             [
              0.1111111111111111,
              "#46039f"
             ],
             [
              0.2222222222222222,
              "#7201a8"
             ],
             [
              0.3333333333333333,
              "#9c179e"
             ],
             [
              0.4444444444444444,
              "#bd3786"
             ],
             [
              0.5555555555555556,
              "#d8576b"
             ],
             [
              0.6666666666666666,
              "#ed7953"
             ],
             [
              0.7777777777777778,
              "#fb9f3a"
             ],
             [
              0.8888888888888888,
              "#fdca26"
             ],
             [
              1,
              "#f0f921"
             ]
            ],
            "type": "histogram2dcontour"
           }
          ],
          "mesh3d": [
           {
            "colorbar": {
             "outlinewidth": 0,
             "ticks": ""
            },
            "type": "mesh3d"
           }
          ],
          "parcoords": [
           {
            "line": {
             "colorbar": {
              "outlinewidth": 0,
              "ticks": ""
             }
            },
            "type": "parcoords"
           }
          ],
          "pie": [
           {
            "automargin": true,
            "type": "pie"
           }
          ],
          "scatter": [
           {
            "fillpattern": {
             "fillmode": "overlay",
             "size": 10,
             "solidity": 0.2
            },
            "type": "scatter"
           }
          ],
          "scatter3d": [
           {
            "line": {
             "colorbar": {
              "outlinewidth": 0,
              "ticks": ""
             }
            },
            "marker": {
             "colorbar": {
              "outlinewidth": 0,
              "ticks": ""
             }
            },
            "type": "scatter3d"
           }
          ],
          "scattercarpet": [
           {
            "marker": {
             "colorbar": {
              "outlinewidth": 0,
              "ticks": ""
             }
            },
            "type": "scattercarpet"
           }
          ],
          "scattergeo": [
           {
            "marker": {
             "colorbar": {
              "outlinewidth": 0,
              "ticks": ""
             }
            },
            "type": "scattergeo"
           }
          ],
          "scattergl": [
           {
            "marker": {
             "colorbar": {
              "outlinewidth": 0,
              "ticks": ""
             }
            },
            "type": "scattergl"
           }
          ],
          "scattermapbox": [
           {
            "marker": {
             "colorbar": {
              "outlinewidth": 0,
              "ticks": ""
             }
            },
            "type": "scattermapbox"
           }
          ],
          "scatterpolar": [
           {
            "marker": {
             "colorbar": {
              "outlinewidth": 0,
              "ticks": ""
             }
            },
            "type": "scatterpolar"
           }
          ],
          "scatterpolargl": [
           {
            "marker": {
             "colorbar": {
              "outlinewidth": 0,
              "ticks": ""
             }
            },
            "type": "scatterpolargl"
           }
          ],
          "scatterternary": [
           {
            "marker": {
             "colorbar": {
              "outlinewidth": 0,
              "ticks": ""
             }
            },
            "type": "scatterternary"
           }
          ],
          "surface": [
           {
            "colorbar": {
             "outlinewidth": 0,
             "ticks": ""
            },
            "colorscale": [
             [
              0,
              "#0d0887"
             ],
             [
              0.1111111111111111,
              "#46039f"
             ],
             [
              0.2222222222222222,
              "#7201a8"
             ],
             [
              0.3333333333333333,
              "#9c179e"
             ],
             [
              0.4444444444444444,
              "#bd3786"
             ],
             [
              0.5555555555555556,
              "#d8576b"
             ],
             [
              0.6666666666666666,
              "#ed7953"
             ],
             [
              0.7777777777777778,
              "#fb9f3a"
             ],
             [
              0.8888888888888888,
              "#fdca26"
             ],
             [
              1,
              "#f0f921"
             ]
            ],
            "type": "surface"
           }
          ],
          "table": [
           {
            "cells": {
             "fill": {
              "color": "#EBF0F8"
             },
             "line": {
              "color": "white"
             }
            },
            "header": {
             "fill": {
              "color": "#C8D4E3"
             },
             "line": {
              "color": "white"
             }
            },
            "type": "table"
           }
          ]
         },
         "layout": {
          "annotationdefaults": {
           "arrowcolor": "#2a3f5f",
           "arrowhead": 0,
           "arrowwidth": 1
          },
          "autotypenumbers": "strict",
          "coloraxis": {
           "colorbar": {
            "outlinewidth": 0,
            "ticks": ""
           }
          },
          "colorscale": {
           "diverging": [
            [
             0,
             "#8e0152"
            ],
            [
             0.1,
             "#c51b7d"
            ],
            [
             0.2,
             "#de77ae"
            ],
            [
             0.3,
             "#f1b6da"
            ],
            [
             0.4,
             "#fde0ef"
            ],
            [
             0.5,
             "#f7f7f7"
            ],
            [
             0.6,
             "#e6f5d0"
            ],
            [
             0.7,
             "#b8e186"
            ],
            [
             0.8,
             "#7fbc41"
            ],
            [
             0.9,
             "#4d9221"
            ],
            [
             1,
             "#276419"
            ]
           ],
           "sequential": [
            [
             0,
             "#0d0887"
            ],
            [
             0.1111111111111111,
             "#46039f"
            ],
            [
             0.2222222222222222,
             "#7201a8"
            ],
            [
             0.3333333333333333,
             "#9c179e"
            ],
            [
             0.4444444444444444,
             "#bd3786"
            ],
            [
             0.5555555555555556,
             "#d8576b"
            ],
            [
             0.6666666666666666,
             "#ed7953"
            ],
            [
             0.7777777777777778,
             "#fb9f3a"
            ],
            [
             0.8888888888888888,
             "#fdca26"
            ],
            [
             1,
             "#f0f921"
            ]
           ],
           "sequentialminus": [
            [
             0,
             "#0d0887"
            ],
            [
             0.1111111111111111,
             "#46039f"
            ],
            [
             0.2222222222222222,
             "#7201a8"
            ],
            [
             0.3333333333333333,
             "#9c179e"
            ],
            [
             0.4444444444444444,
             "#bd3786"
            ],
            [
             0.5555555555555556,
             "#d8576b"
            ],
            [
             0.6666666666666666,
             "#ed7953"
            ],
            [
             0.7777777777777778,
             "#fb9f3a"
            ],
            [
             0.8888888888888888,
             "#fdca26"
            ],
            [
             1,
             "#f0f921"
            ]
           ]
          },
          "colorway": [
           "#636efa",
           "#EF553B",
           "#00cc96",
           "#ab63fa",
           "#FFA15A",
           "#19d3f3",
           "#FF6692",
           "#B6E880",
           "#FF97FF",
           "#FECB52"
          ],
          "font": {
           "color": "#2a3f5f"
          },
          "geo": {
           "bgcolor": "white",
           "lakecolor": "white",
           "landcolor": "white",
           "showlakes": true,
           "showland": true,
           "subunitcolor": "#C8D4E3"
          },
          "hoverlabel": {
           "align": "left"
          },
          "hovermode": "closest",
          "mapbox": {
           "style": "light"
          },
          "paper_bgcolor": "white",
          "plot_bgcolor": "white",
          "polar": {
           "angularaxis": {
            "gridcolor": "#EBF0F8",
            "linecolor": "#EBF0F8",
            "ticks": ""
           },
           "bgcolor": "white",
           "radialaxis": {
            "gridcolor": "#EBF0F8",
            "linecolor": "#EBF0F8",
            "ticks": ""
           }
          },
          "scene": {
           "xaxis": {
            "backgroundcolor": "white",
            "gridcolor": "#DFE8F3",
            "gridwidth": 2,
            "linecolor": "#EBF0F8",
            "showbackground": true,
            "ticks": "",
            "zerolinecolor": "#EBF0F8"
           },
           "yaxis": {
            "backgroundcolor": "white",
            "gridcolor": "#DFE8F3",
            "gridwidth": 2,
            "linecolor": "#EBF0F8",
            "showbackground": true,
            "ticks": "",
            "zerolinecolor": "#EBF0F8"
           },
           "zaxis": {
            "backgroundcolor": "white",
            "gridcolor": "#DFE8F3",
            "gridwidth": 2,
            "linecolor": "#EBF0F8",
            "showbackground": true,
            "ticks": "",
            "zerolinecolor": "#EBF0F8"
           }
          },
          "shapedefaults": {
           "line": {
            "color": "#2a3f5f"
           }
          },
          "ternary": {
           "aaxis": {
            "gridcolor": "#DFE8F3",
            "linecolor": "#A2B1C6",
            "ticks": ""
           },
           "baxis": {
            "gridcolor": "#DFE8F3",
            "linecolor": "#A2B1C6",
            "ticks": ""
           },
           "bgcolor": "white",
           "caxis": {
            "gridcolor": "#DFE8F3",
            "linecolor": "#A2B1C6",
            "ticks": ""
           }
          },
          "title": {
           "x": 0.05
          },
          "xaxis": {
           "automargin": true,
           "gridcolor": "#EBF0F8",
           "linecolor": "#EBF0F8",
           "ticks": "",
           "title": {
            "standoff": 15
           },
           "zerolinecolor": "#EBF0F8",
           "zerolinewidth": 2
          },
          "yaxis": {
           "automargin": true,
           "gridcolor": "#EBF0F8",
           "linecolor": "#EBF0F8",
           "ticks": "",
           "title": {
            "standoff": 15
           },
           "zerolinecolor": "#EBF0F8",
           "zerolinewidth": 2
          }
         }
        },
        "title": {
         "text": "Disk usage"
        },
        "width": 1200,
        "xaxis": {
         "anchor": "y",
         "domain": [
          0,
          1
         ],
         "title": {
          "text": "Time"
         }
        },
        "yaxis": {
         "anchor": "x",
         "domain": [
          0,
          1
         ],
         "title": {
          "text": "Read"
         }
        }
       }
      }
     },
     "metadata": {},
     "output_type": "display_data"
    }
   ],
   "source": [
    "labels = {\n",
    "    \"direction\": \"Time\",\n",
    "    \"value\": \"IOPS\",\n",
    "    \"actor\": \"Actor\",\n",
    "    \"remote_type\": \"Time\"\n",
    "}\n",
    "px.line(iops_df, x=\"direction\", y=\"Write\", color=\"actor\", title=\"Disk usage\", width=WIDTH, height=HEIGHT, labels=labels).show()\n",
    "px.line(iops_df, x=\"direction\", y=\"Read\", color=\"actor\", title=\"Disk usage\", width=WIDTH, height=HEIGHT, labels=labels).show()"
   ]
  },
  {
   "cell_type": "code",
   "execution_count": 9,
   "metadata": {},
   "outputs": [
    {
     "data": {
      "application/vnd.plotly.v1+json": {
       "config": {
        "plotlyServerURL": "https://plot.ly"
       },
       "data": [
        {
         "hovertemplate": "actor=Server (10, CIFAR10)<br>remote_type=%{x}<br>Google Services=%{y}<extra></extra>",
         "legendgroup": "Server (10, CIFAR10)",
         "line": {
          "color": "#636efa",
          "dash": "solid"
         },
         "marker": {
          "symbol": "circle"
         },
         "mode": "lines",
         "name": "Server (10, CIFAR10)",
         "orientation": "v",
         "showlegend": true,
         "type": "scatter",
         "x": [
          "2024-05-22T15:41:00+02:00",
          "2024-05-22T15:42:00+02:00",
          "2024-05-22T15:43:00+02:00",
          "2024-05-22T15:44:00+02:00",
          "2024-05-22T15:45:00+02:00",
          "2024-05-22T15:46:00+02:00",
          "2024-05-22T15:47:00+02:00",
          "2024-05-22T15:48:00+02:00",
          "2024-05-22T15:49:00+02:00",
          "2024-05-22T15:50:00+02:00",
          "2024-05-22T15:51:00+02:00",
          "2024-05-22T15:52:00+02:00",
          "2024-05-22T15:53:00+02:00",
          "2024-05-22T15:54:00+02:00",
          "2024-05-22T15:55:00+02:00",
          "2024-05-22T15:56:00+02:00",
          "2024-05-22T15:57:00+02:00",
          "2024-05-22T15:58:00+02:00",
          "2024-05-22T15:59:00+02:00",
          "2024-05-22T16:00:00+02:00",
          "2024-05-22T16:01:00+02:00",
          "2024-05-22T16:02:00+02:00",
          "2024-05-22T16:03:00+02:00",
          "2024-05-22T16:04:00+02:00",
          "2024-05-22T16:05:00+02:00",
          "2024-05-22T16:06:00+02:00",
          "2024-05-22T16:07:00+02:00",
          "2024-05-22T16:08:00+02:00",
          "2024-05-22T16:09:00+02:00",
          "2024-05-22T16:10:00+02:00",
          "2024-05-22T16:11:00+02:00",
          "2024-05-22T16:12:00+02:00",
          "2024-05-22T16:13:00+02:00",
          "2024-05-22T16:14:00+02:00",
          "2024-05-22T16:15:00+02:00",
          "2024-05-22T16:16:00+02:00",
          "2024-05-22T16:17:00+02:00",
          "2024-05-22T16:18:00+02:00",
          "2024-05-22T16:19:00+02:00",
          "2024-05-22T16:20:00+02:00",
          "2024-05-22T16:21:00+02:00",
          "2024-05-22T16:22:00+02:00",
          "2024-05-22T16:23:00+02:00",
          "2024-05-22T16:24:00+02:00",
          "2024-05-22T16:25:00+02:00",
          "2024-05-22T16:26:00+02:00",
          "2024-05-22T16:27:00+02:00",
          "2024-05-22T16:28:00+02:00",
          "2024-05-22T16:29:00+02:00",
          "2024-05-22T16:30:00+02:00",
          "2024-05-22T16:31:00+02:00",
          "2024-05-22T16:32:00+02:00",
          "2024-05-22T16:33:00+02:00",
          "2024-05-22T16:34:00+02:00",
          "2024-05-22T16:35:00+02:00",
          "2024-05-22T16:36:00+02:00",
          "2024-05-22T16:37:00+02:00",
          "2024-05-22T16:38:00+02:00",
          "2024-05-22T16:39:00+02:00",
          "2024-05-22T16:40:00+02:00"
         ],
         "xaxis": "x",
         "y": [
          0.1166666666666666,
          0.0666666666666666,
          0.1,
          0.1333333333333333,
          0.0833333333333333,
          0.0833333333333333,
          0.1333333333333333,
          0.15,
          0.0666666666666666,
          0.0333333333333333,
          0.0166666666666666,
          0.1333333333333333,
          0.3,
          0.3333333333333333,
          0.2833333333333333,
          0.1833333333333333,
          0.0666666666666666,
          0.0333333333333333,
          0.1,
          0.1333333333333333,
          0.3,
          0.1666666666666666,
          0.0666666666666666,
          0.0666666666666666,
          0.1166666666666666,
          0.15,
          0.4666666666666667,
          0.35,
          0.15,
          0.0833333333333333,
          0.1,
          0.1333333333333333,
          0.0666666666666666,
          0.1,
          0.2166666666666666,
          0.1166666666666666,
          0,
          0.0666666666666666,
          0.2833333333333333,
          0.1333333333333333,
          0.1833333333333333,
          0.1333333333333333,
          0.0833333333333333,
          0.15,
          0.15,
          0.1333333333333333,
          0.1333333333333333,
          0.0666666666666666,
          0.0166666666666666,
          0.0333333333333333,
          0.0833333333333333,
          0.0833333333333333,
          0.0166666666666666,
          0.0166666666666666,
          0.0333333333333333,
          0.0333333333333333,
          0.2666666666666666,
          0.1833333333333333,
          0.0166666666666666,
          0.1333333333333333
         ],
         "yaxis": "y"
        },
        {
         "hovertemplate": "actor=Worker (5, CIFAR10)<br>remote_type=%{x}<br>Google Services=%{y}<extra></extra>",
         "legendgroup": "Worker (5, CIFAR10)",
         "line": {
          "color": "#EF553B",
          "dash": "solid"
         },
         "marker": {
          "symbol": "circle"
         },
         "mode": "lines",
         "name": "Worker (5, CIFAR10)",
         "orientation": "v",
         "showlegend": true,
         "type": "scatter",
         "x": [
          "2024-05-22T13:20:00+02:00",
          "2024-05-22T13:21:00+02:00",
          "2024-05-22T13:22:00+02:00",
          "2024-05-22T13:23:00+02:00",
          "2024-05-22T13:24:00+02:00",
          "2024-05-22T13:25:00+02:00",
          "2024-05-22T13:26:00+02:00",
          "2024-05-22T13:27:00+02:00",
          "2024-05-22T13:28:00+02:00",
          "2024-05-22T13:29:00+02:00",
          "2024-05-22T13:30:00+02:00",
          "2024-05-22T13:31:00+02:00",
          "2024-05-22T13:32:00+02:00",
          "2024-05-22T13:33:00+02:00",
          "2024-05-22T13:34:00+02:00",
          "2024-05-22T13:35:00+02:00",
          "2024-05-22T13:36:00+02:00",
          "2024-05-22T13:37:00+02:00",
          "2024-05-22T13:38:00+02:00",
          "2024-05-22T13:39:00+02:00",
          "2024-05-22T13:40:00+02:00",
          "2024-05-22T13:41:00+02:00",
          "2024-05-22T13:42:00+02:00",
          "2024-05-22T13:43:00+02:00",
          "2024-05-22T13:44:00+02:00",
          "2024-05-22T13:45:00+02:00",
          "2024-05-22T13:46:00+02:00",
          "2024-05-22T13:47:00+02:00",
          "2024-05-22T13:48:00+02:00",
          "2024-05-22T13:49:00+02:00",
          "2024-05-22T13:50:00+02:00",
          "2024-05-22T13:51:00+02:00",
          "2024-05-22T13:52:00+02:00",
          "2024-05-22T13:53:00+02:00",
          "2024-05-22T13:54:00+02:00",
          "2024-05-22T13:55:00+02:00",
          "2024-05-22T13:56:00+02:00",
          "2024-05-22T13:57:00+02:00",
          "2024-05-22T13:58:00+02:00",
          "2024-05-22T13:59:00+02:00",
          "2024-05-22T14:00:00+02:00",
          "2024-05-22T14:01:00+02:00",
          "2024-05-22T14:02:00+02:00",
          "2024-05-22T14:03:00+02:00",
          "2024-05-22T14:04:00+02:00",
          "2024-05-22T14:05:00+02:00",
          "2024-05-22T14:06:00+02:00",
          "2024-05-22T14:07:00+02:00",
          "2024-05-22T14:08:00+02:00",
          "2024-05-22T14:09:00+02:00",
          "2024-05-22T14:10:00+02:00",
          "2024-05-22T14:11:00+02:00",
          "2024-05-22T14:12:00+02:00",
          "2024-05-22T14:13:00+02:00",
          "2024-05-22T14:14:00+02:00",
          "2024-05-22T14:15:00+02:00",
          "2024-05-22T14:16:00+02:00",
          "2024-05-22T14:17:00+02:00",
          "2024-05-22T14:18:00+02:00",
          "2024-05-22T14:19:00+02:00",
          "2024-05-22T14:20:00+02:00",
          "2024-05-22T14:21:00+02:00",
          "2024-05-22T14:22:00+02:00",
          "2024-05-22T14:23:00+02:00",
          "2024-05-22T14:24:00+02:00",
          "2024-05-22T14:25:00+02:00",
          "2024-05-22T14:26:00+02:00",
          "2024-05-22T14:27:00+02:00",
          "2024-05-22T14:28:00+02:00",
          "2024-05-22T14:29:00+02:00",
          "2024-05-22T14:30:00+02:00",
          "2024-05-22T14:31:00+02:00",
          "2024-05-22T14:32:00+02:00",
          "2024-05-22T14:33:00+02:00",
          "2024-05-22T14:34:00+02:00",
          "2024-05-22T14:35:00+02:00",
          "2024-05-22T14:36:00+02:00",
          "2024-05-22T14:37:00+02:00",
          "2024-05-22T14:38:00+02:00",
          "2024-05-22T14:39:00+02:00",
          "2024-05-22T14:40:00+02:00",
          "2024-05-22T14:41:00+02:00",
          "2024-05-22T14:42:00+02:00",
          "2024-05-22T14:43:00+02:00",
          "2024-05-22T14:44:00+02:00",
          "2024-05-22T14:45:00+02:00",
          "2024-05-22T14:46:00+02:00",
          "2024-05-22T14:47:00+02:00",
          "2024-05-22T14:48:00+02:00",
          "2024-05-22T14:49:00+02:00",
          "2024-05-22T14:50:00+02:00",
          "2024-05-22T14:51:00+02:00",
          "2024-05-22T14:52:00+02:00",
          "2024-05-22T14:53:00+02:00",
          "2024-05-22T14:54:00+02:00",
          "2024-05-22T14:55:00+02:00",
          "2024-05-22T14:56:00+02:00",
          "2024-05-22T14:57:00+02:00",
          "2024-05-22T14:58:00+02:00",
          "2024-05-22T14:59:00+02:00",
          "2024-05-22T15:00:00+02:00",
          "2024-05-22T15:01:00+02:00",
          "2024-05-22T15:02:00+02:00",
          "2024-05-22T15:03:00+02:00",
          "2024-05-22T15:04:00+02:00",
          "2024-05-22T15:05:00+02:00",
          "2024-05-22T15:06:00+02:00",
          "2024-05-22T15:07:00+02:00",
          "2024-05-22T15:08:00+02:00",
          "2024-05-22T15:09:00+02:00",
          "2024-05-22T15:10:00+02:00",
          "2024-05-22T15:11:00+02:00",
          "2024-05-22T15:12:00+02:00",
          "2024-05-22T15:13:00+02:00",
          "2024-05-22T15:14:00+02:00",
          "2024-05-22T15:15:00+02:00",
          "2024-05-22T15:16:00+02:00",
          "2024-05-22T15:17:00+02:00",
          "2024-05-22T15:18:00+02:00",
          "2024-05-22T15:19:00+02:00",
          "2024-05-22T15:20:00+02:00",
          "2024-05-22T15:21:00+02:00",
          "2024-05-22T15:22:00+02:00",
          "2024-05-22T15:23:00+02:00",
          "2024-05-22T15:24:00+02:00",
          "2024-05-22T15:25:00+02:00",
          "2024-05-22T15:26:00+02:00",
          "2024-05-22T15:27:00+02:00",
          "2024-05-22T15:28:00+02:00",
          "2024-05-22T15:29:00+02:00",
          "2024-05-22T15:30:00+02:00",
          "2024-05-22T15:31:00+02:00",
          "2024-05-22T15:32:00+02:00",
          "2024-05-22T15:33:00+02:00",
          "2024-05-22T15:34:00+02:00",
          "2024-05-22T15:35:00+02:00",
          "2024-05-22T15:36:00+02:00",
          "2024-05-22T15:37:00+02:00",
          "2024-05-22T15:38:00+02:00",
          "2024-05-22T15:39:00+02:00",
          "2024-05-22T15:40:00+02:00",
          "2024-05-22T15:41:00+02:00",
          "2024-05-22T15:42:00+02:00",
          "2024-05-22T15:43:00+02:00",
          "2024-05-22T15:44:00+02:00",
          "2024-05-22T15:45:00+02:00",
          "2024-05-22T15:46:00+02:00"
         ],
         "xaxis": "x",
         "y": [
          0,
          0,
          0,
          0,
          0,
          0,
          0,
          0,
          0,
          0,
          0,
          0,
          0.3333333333333333,
          0.0333333333333333,
          0.3,
          0.1666666666666666,
          0.0333333333333333,
          0.1666666666666666,
          0.2166666666666666,
          0.0166666666666666,
          0.1,
          0.2,
          0.2,
          0.05,
          0.1166666666666666,
          0.0666666666666666,
          0.0833333333333333,
          0.1666666666666666,
          0.05,
          0.0666666666666666,
          0.0833333333333333,
          0.0833333333333333,
          0.05,
          0.0666666666666666,
          0.0833333333333333,
          0.2166666666666666,
          0.05,
          0.05,
          0.0333333333333333,
          0.1833333333333333,
          0.3166666666666666,
          0.2,
          0.3333333333333333,
          0.3,
          0.1833333333333333,
          0.1,
          0.1833333333333333,
          0.2,
          0.05,
          0.2166666666666666,
          0.1,
          0.15,
          0.1666666666666666,
          0.1833333333333333,
          0.1,
          0.0666666666666666,
          0.0833333333333333,
          0.0833333333333333,
          0.2,
          0.05,
          0.0666666666666666,
          0.0666666666666666,
          0.2,
          0.0666666666666666,
          0.05,
          0.1833333333333333,
          0.0333333333333333,
          0.2166666666666666,
          0.0666666666666666,
          0.2166666666666666,
          0.0666666666666666,
          0.0666666666666666,
          0.0666666666666666,
          0.2166666666666666,
          0.0833333333333333,
          0.1833333333333333,
          0.0666666666666666,
          0.0666666666666666,
          0.0666666666666666,
          0.1,
          0.0833333333333333,
          0.0666666666666666,
          0.0166666666666666,
          0.0666666666666666,
          0.0666666666666666,
          0.0333333333333333,
          0.1833333333333333,
          0.05,
          0.2,
          0.0333333333333333,
          0.0666666666666666,
          0.05,
          0.1666666666666666,
          0.1,
          0.0833333333333333,
          0.3333333333333333,
          0.0666666666666666,
          0.2166666666666666,
          0.0666666666666666,
          0.0833333333333333,
          0.1833333333333333,
          0.1,
          0.1666666666666666,
          0.1833333333333333,
          0.1833333333333333,
          0.1,
          0.1833333333333333,
          0.0833333333333333,
          0.0333333333333333,
          0.0833333333333333,
          0.15,
          0.15,
          0.05,
          0.05,
          0.0666666666666666,
          0.2,
          0.1833333333333333,
          0.4333333333333333,
          0.2,
          0.0666666666666666,
          0.2,
          0.0833333333333333,
          0.05,
          0.3,
          0.1,
          0.05,
          0.2166666666666666,
          0,
          0.1166666666666666,
          0.0333333333333333,
          0.1833333333333333,
          0.15,
          0.0833333333333333,
          0.0833333333333333,
          0.05,
          0.1833333333333333,
          0.0833333333333333,
          0.05,
          0.0166666666666666,
          0.2,
          0.05,
          0.05,
          0.2833333333333333,
          0.25,
          0.0166666666666666,
          0.3,
          0.0333333333333333
         ],
         "yaxis": "y"
        },
        {
         "hovertemplate": "actor=Server (5, CIFAR10)<br>remote_type=%{x}<br>Google Services=%{y}<extra></extra>",
         "legendgroup": "Server (5, CIFAR10)",
         "line": {
          "color": "#00cc96",
          "dash": "solid"
         },
         "marker": {
          "symbol": "circle"
         },
         "mode": "lines",
         "name": "Server (5, CIFAR10)",
         "orientation": "v",
         "showlegend": true,
         "type": "scatter",
         "x": [
          "2024-05-22T13:45:00+02:00",
          "2024-05-22T13:46:00+02:00",
          "2024-05-22T13:47:00+02:00",
          "2024-05-22T13:48:00+02:00",
          "2024-05-22T13:49:00+02:00",
          "2024-05-22T13:50:00+02:00",
          "2024-05-22T13:51:00+02:00",
          "2024-05-22T13:52:00+02:00",
          "2024-05-22T13:53:00+02:00",
          "2024-05-22T13:54:00+02:00",
          "2024-05-22T13:55:00+02:00",
          "2024-05-22T13:56:00+02:00",
          "2024-05-22T13:57:00+02:00",
          "2024-05-22T13:58:00+02:00",
          "2024-05-22T13:59:00+02:00",
          "2024-05-22T14:00:00+02:00",
          "2024-05-22T14:01:00+02:00",
          "2024-05-22T14:02:00+02:00",
          "2024-05-22T14:03:00+02:00",
          "2024-05-22T14:04:00+02:00",
          "2024-05-22T14:05:00+02:00",
          "2024-05-22T14:06:00+02:00",
          "2024-05-22T14:07:00+02:00",
          "2024-05-22T14:08:00+02:00",
          "2024-05-22T14:09:00+02:00",
          "2024-05-22T14:10:00+02:00",
          "2024-05-22T14:11:00+02:00",
          "2024-05-22T14:12:00+02:00",
          "2024-05-22T14:13:00+02:00",
          "2024-05-22T14:14:00+02:00",
          "2024-05-22T14:15:00+02:00",
          "2024-05-22T14:16:00+02:00",
          "2024-05-22T14:17:00+02:00",
          "2024-05-22T14:18:00+02:00",
          "2024-05-22T14:19:00+02:00",
          "2024-05-22T14:20:00+02:00",
          "2024-05-22T14:21:00+02:00",
          "2024-05-22T14:22:00+02:00",
          "2024-05-22T14:23:00+02:00",
          "2024-05-22T14:24:00+02:00",
          "2024-05-22T14:25:00+02:00",
          "2024-05-22T14:26:00+02:00",
          "2024-05-22T14:27:00+02:00",
          "2024-05-22T14:28:00+02:00",
          "2024-05-22T14:29:00+02:00",
          "2024-05-22T14:30:00+02:00",
          "2024-05-22T14:31:00+02:00",
          "2024-05-22T14:32:00+02:00",
          "2024-05-22T14:33:00+02:00",
          "2024-05-22T14:34:00+02:00",
          "2024-05-22T14:35:00+02:00",
          "2024-05-22T14:36:00+02:00",
          "2024-05-22T14:37:00+02:00",
          "2024-05-22T14:38:00+02:00",
          "2024-05-22T14:39:00+02:00",
          "2024-05-22T14:40:00+02:00",
          "2024-05-22T14:41:00+02:00",
          "2024-05-22T14:42:00+02:00",
          "2024-05-22T14:43:00+02:00",
          "2024-05-22T14:44:00+02:00",
          "2024-05-22T14:45:00+02:00",
          "2024-05-22T14:46:00+02:00",
          "2024-05-22T14:47:00+02:00",
          "2024-05-22T14:48:00+02:00",
          "2024-05-22T14:49:00+02:00",
          "2024-05-22T14:50:00+02:00",
          "2024-05-22T14:51:00+02:00",
          "2024-05-22T14:52:00+02:00",
          "2024-05-22T14:53:00+02:00",
          "2024-05-22T14:54:00+02:00",
          "2024-05-22T14:55:00+02:00",
          "2024-05-22T14:56:00+02:00",
          "2024-05-22T14:57:00+02:00",
          "2024-05-22T14:58:00+02:00",
          "2024-05-22T14:59:00+02:00",
          "2024-05-22T15:00:00+02:00",
          "2024-05-22T15:01:00+02:00",
          "2024-05-22T15:02:00+02:00",
          "2024-05-22T15:03:00+02:00",
          "2024-05-22T15:04:00+02:00",
          "2024-05-22T15:05:00+02:00",
          "2024-05-22T15:06:00+02:00",
          "2024-05-22T15:07:00+02:00",
          "2024-05-22T15:08:00+02:00",
          "2024-05-22T15:09:00+02:00",
          "2024-05-22T15:10:00+02:00",
          "2024-05-22T15:11:00+02:00",
          "2024-05-22T15:12:00+02:00",
          "2024-05-22T15:13:00+02:00",
          "2024-05-22T15:14:00+02:00",
          "2024-05-22T15:15:00+02:00",
          "2024-05-22T15:16:00+02:00",
          "2024-05-22T15:17:00+02:00",
          "2024-05-22T15:18:00+02:00",
          "2024-05-22T15:19:00+02:00",
          "2024-05-22T15:20:00+02:00",
          "2024-05-22T15:21:00+02:00"
         ],
         "xaxis": "x",
         "y": [
          0.0833333333333333,
          0.0666666666666666,
          0.05,
          0.0333333333333333,
          0.1666666666666666,
          0.1166666666666666,
          0.05,
          0.15,
          0.2,
          0.1,
          0.1666666666666666,
          0.1,
          0.0166666666666666,
          0.0166666666666666,
          0.0333333333333333,
          0.1,
          0.25,
          0.1333333333333333,
          0.1333333333333333,
          0.2333333333333333,
          0.1333333333333333,
          0.0333333333333333,
          0.0166666666666666,
          0.0166666666666666,
          0.1,
          0.0666666666666666,
          0.15,
          0.15,
          0.1666666666666666,
          0.1833333333333333,
          0.15,
          0.15,
          0.1333333333333333,
          0.05,
          0.0666666666666666,
          0.15,
          0.15,
          0.0666666666666666,
          0.0833333333333333,
          0.15,
          0.1666666666666666,
          0.1,
          0.1166666666666666,
          0.0833333333333333,
          0.4,
          0.2833333333333333,
          0.0166666666666666,
          0.0166666666666666,
          0.0166666666666666,
          0.0333333333333333,
          0.0333333333333333,
          0.0833333333333333,
          0.15,
          0.0666666666666666,
          0.0166666666666666,
          0.1166666666666666,
          0.0666666666666666,
          0.0666666666666666,
          0.05,
          0.0166666666666666,
          0.0833333333333333,
          0.0833333333333333,
          0.0333333333333333,
          0.0166666666666666,
          0,
          0.0166666666666666,
          0.0333333333333333,
          0,
          0.0833333333333333,
          0.0333333333333333,
          0.0666666666666666,
          0.2166666666666666,
          0.1166666666666666,
          0.0166666666666666,
          0.1166666666666666,
          0.1666666666666666,
          0.15,
          0.15,
          0.15,
          0.25,
          0.2,
          0.05,
          0,
          0.2,
          0.4,
          0.2166666666666666,
          0.0833333333333333,
          0.1833333333333333,
          0.1333333333333333,
          0.1,
          0.0833333333333333,
          0.0666666666666666,
          0.1333333333333333,
          0.2666666666666666,
          0.1333333333333333,
          0.1833333333333333,
          0.2833333333333333
         ],
         "yaxis": "y"
        },
        {
         "hovertemplate": "actor=Worker (10, CIFAR10)<br>remote_type=%{x}<br>Google Services=%{y}<extra></extra>",
         "legendgroup": "Worker (10, CIFAR10)",
         "line": {
          "color": "#ab63fa",
          "dash": "solid"
         },
         "marker": {
          "symbol": "circle"
         },
         "mode": "lines",
         "name": "Worker (10, CIFAR10)",
         "orientation": "v",
         "showlegend": true,
         "type": "scatter",
         "x": [
          "2024-05-22T15:42:00+02:00",
          "2024-05-22T15:43:00+02:00",
          "2024-05-22T15:44:00+02:00",
          "2024-05-22T15:45:00+02:00",
          "2024-05-22T15:46:00+02:00",
          "2024-05-22T15:47:00+02:00",
          "2024-05-22T15:48:00+02:00",
          "2024-05-22T15:49:00+02:00",
          "2024-05-22T15:50:00+02:00",
          "2024-05-22T15:51:00+02:00",
          "2024-05-22T15:52:00+02:00",
          "2024-05-22T15:53:00+02:00",
          "2024-05-22T15:54:00+02:00",
          "2024-05-22T15:55:00+02:00",
          "2024-05-22T15:56:00+02:00",
          "2024-05-22T15:57:00+02:00",
          "2024-05-22T15:58:00+02:00",
          "2024-05-22T15:59:00+02:00",
          "2024-05-22T16:00:00+02:00",
          "2024-05-22T16:01:00+02:00",
          "2024-05-22T16:02:00+02:00",
          "2024-05-22T16:03:00+02:00",
          "2024-05-22T16:04:00+02:00",
          "2024-05-22T16:05:00+02:00",
          "2024-05-22T16:06:00+02:00",
          "2024-05-22T16:07:00+02:00",
          "2024-05-22T16:08:00+02:00",
          "2024-05-22T16:09:00+02:00",
          "2024-05-22T16:10:00+02:00",
          "2024-05-22T16:11:00+02:00",
          "2024-05-22T16:12:00+02:00",
          "2024-05-22T16:13:00+02:00",
          "2024-05-22T16:14:00+02:00",
          "2024-05-22T16:15:00+02:00",
          "2024-05-22T16:16:00+02:00",
          "2024-05-22T16:17:00+02:00",
          "2024-05-22T16:18:00+02:00",
          "2024-05-22T16:19:00+02:00",
          "2024-05-22T16:20:00+02:00",
          "2024-05-22T16:21:00+02:00",
          "2024-05-22T16:22:00+02:00",
          "2024-05-22T16:23:00+02:00",
          "2024-05-22T16:24:00+02:00",
          "2024-05-22T16:25:00+02:00",
          "2024-05-22T16:26:00+02:00",
          "2024-05-22T16:27:00+02:00",
          "2024-05-22T16:28:00+02:00",
          "2024-05-22T16:29:00+02:00",
          "2024-05-22T16:30:00+02:00",
          "2024-05-22T16:31:00+02:00",
          "2024-05-22T16:32:00+02:00",
          "2024-05-22T16:33:00+02:00",
          "2024-05-22T16:34:00+02:00",
          "2024-05-22T16:35:00+02:00",
          "2024-05-22T16:36:00+02:00",
          "2024-05-22T16:37:00+02:00",
          "2024-05-22T16:38:00+02:00",
          "2024-05-22T16:39:00+02:00",
          "2024-05-22T16:40:00+02:00",
          "2024-05-22T16:41:00+02:00"
         ],
         "xaxis": "x",
         "y": [
          0.2833333333333333,
          0.25,
          0.0166666666666666,
          0.3,
          0.0333333333333333,
          0.0833333333333333,
          0.0833333333333333,
          0.0666666666666666,
          0.2166666666666666,
          0.1833333333333333,
          0.2833333333333333,
          0.05,
          0.2166666666666666,
          0.0666666666666666,
          0.0833333333333333,
          0.0833333333333333,
          0.0333333333333333,
          0.0666666666666666,
          0.3166666666666666,
          0.05,
          0.0333333333333333,
          0.3,
          0.2,
          0.0833333333333333,
          0.05,
          0.1666666666666666,
          0.0833333333333333,
          0.0833333333333333,
          0.05,
          0.0333333333333333,
          0.1666666666666666,
          0.0833333333333333,
          0.0166666666666666,
          0.0333333333333333,
          0.3,
          0.05,
          0.1833333333333333,
          0.0666666666666666,
          0.1833333333333333,
          0.05,
          0.15,
          0.0666666666666666,
          0.0666666666666666,
          0.2,
          0.0333333333333333,
          0.4666666666666667,
          0.1666666666666666,
          0.05,
          0.2166666666666666,
          0.0666666666666666,
          0.2,
          0.35,
          0.0666666666666666,
          0.2166666666666666,
          0.0833333333333333,
          0.0833333333333333,
          0.05,
          0.1166666666666666,
          0.0666666666666666,
          0.0333333333333333
         ],
         "yaxis": "y"
        },
        {
         "hovertemplate": "actor=Standalone (CIFAR10)<br>remote_type=%{x}<br>Google Services=%{y}<extra></extra>",
         "legendgroup": "Standalone (CIFAR10)",
         "line": {
          "color": "#FFA15A",
          "dash": "solid"
         },
         "marker": {
          "symbol": "circle"
         },
         "mode": "lines",
         "name": "Standalone (CIFAR10)",
         "orientation": "v",
         "showlegend": true,
         "type": "scatter",
         "x": [
          "2024-05-22T14:15:00+02:00",
          "2024-05-22T14:16:00+02:00",
          "2024-05-22T14:17:00+02:00",
          "2024-05-22T14:18:00+02:00",
          "2024-05-22T14:19:00+02:00",
          "2024-05-22T14:20:00+02:00",
          "2024-05-22T14:21:00+02:00",
          "2024-05-22T14:22:00+02:00",
          "2024-05-22T14:23:00+02:00",
          "2024-05-22T14:24:00+02:00",
          "2024-05-22T14:25:00+02:00",
          "2024-05-22T14:26:00+02:00",
          "2024-05-22T14:27:00+02:00",
          "2024-05-22T14:28:00+02:00",
          "2024-05-22T14:29:00+02:00",
          "2024-05-22T14:30:00+02:00",
          "2024-05-22T14:31:00+02:00",
          "2024-05-22T14:32:00+02:00",
          "2024-05-22T14:33:00+02:00",
          "2024-05-22T14:34:00+02:00",
          "2024-05-22T14:35:00+02:00",
          "2024-05-22T14:36:00+02:00",
          "2024-05-22T14:37:00+02:00",
          "2024-05-22T14:38:00+02:00"
         ],
         "xaxis": "x",
         "y": [
          0.2,
          0.2166666666666666,
          0.2833333333333333,
          0.05,
          0.0833333333333333,
          0.1333333333333333,
          0.0666666666666666,
          0.2,
          0.15,
          0.1166666666666666,
          0.15,
          0.1333333333333333,
          0.2666666666666666,
          0.0333333333333333,
          0.05,
          0.1166666666666666,
          0.1333333333333333,
          0.05,
          0.1166666666666666,
          0.1833333333333333,
          0.1833333333333333,
          0.1833333333333333,
          0.25,
          0.1666666666666666
         ],
         "yaxis": "y"
        },
        {
         "hovertemplate": "actor=Worker (20, CIFAR10)<br>remote_type=%{x}<br>Google Services=%{y}<extra></extra>",
         "legendgroup": "Worker (20, CIFAR10)",
         "line": {
          "color": "#19d3f3",
          "dash": "solid"
         },
         "marker": {
          "symbol": "circle"
         },
         "mode": "lines",
         "name": "Worker (20, CIFAR10)",
         "orientation": "v",
         "showlegend": true,
         "type": "scatter",
         "x": [
          "2024-05-22T18:18:00+02:00",
          "2024-05-22T18:19:00+02:00",
          "2024-05-22T18:20:00+02:00",
          "2024-05-22T18:21:00+02:00",
          "2024-05-22T18:22:00+02:00",
          "2024-05-22T18:23:00+02:00",
          "2024-05-22T18:24:00+02:00",
          "2024-05-22T18:25:00+02:00",
          "2024-05-22T18:26:00+02:00",
          "2024-05-22T18:27:00+02:00",
          "2024-05-22T18:28:00+02:00",
          "2024-05-22T18:29:00+02:00",
          "2024-05-22T18:30:00+02:00",
          "2024-05-22T18:31:00+02:00",
          "2024-05-22T18:32:00+02:00",
          "2024-05-22T18:33:00+02:00",
          "2024-05-22T18:34:00+02:00",
          "2024-05-22T18:35:00+02:00",
          "2024-05-22T18:36:00+02:00",
          "2024-05-22T18:37:00+02:00",
          "2024-05-22T18:38:00+02:00",
          "2024-05-22T18:39:00+02:00",
          "2024-05-22T18:40:00+02:00",
          "2024-05-22T18:41:00+02:00",
          "2024-05-22T18:42:00+02:00",
          "2024-05-22T18:43:00+02:00",
          "2024-05-22T18:44:00+02:00",
          "2024-05-22T18:45:00+02:00",
          "2024-05-22T18:46:00+02:00",
          "2024-05-22T18:47:00+02:00",
          "2024-05-22T18:48:00+02:00",
          "2024-05-22T18:49:00+02:00",
          "2024-05-22T18:50:00+02:00",
          "2024-05-22T18:51:00+02:00",
          "2024-05-22T18:52:00+02:00",
          "2024-05-22T18:53:00+02:00",
          "2024-05-22T18:54:00+02:00",
          "2024-05-22T18:55:00+02:00",
          "2024-05-22T18:56:00+02:00",
          "2024-05-22T18:57:00+02:00",
          "2024-05-22T18:58:00+02:00",
          "2024-05-22T18:59:00+02:00",
          "2024-05-22T19:00:00+02:00",
          "2024-05-22T19:01:00+02:00",
          "2024-05-22T19:02:00+02:00",
          "2024-05-22T19:03:00+02:00",
          "2024-05-22T19:04:00+02:00",
          "2024-05-22T19:05:00+02:00",
          "2024-05-22T19:06:00+02:00",
          "2024-05-22T19:07:00+02:00",
          "2024-05-22T19:08:00+02:00",
          "2024-05-22T19:09:00+02:00",
          "2024-05-22T19:10:00+02:00",
          "2024-05-22T19:11:00+02:00",
          "2024-05-22T19:12:00+02:00",
          "2024-05-22T19:13:00+02:00",
          "2024-05-22T19:14:00+02:00",
          "2024-05-22T19:15:00+02:00",
          "2024-05-22T19:16:00+02:00",
          "2024-05-22T19:17:00+02:00",
          "2024-05-22T19:18:00+02:00"
         ],
         "xaxis": "x",
         "y": [
          0.15,
          0.0833333333333333,
          0.15,
          0.2,
          0.1,
          0.05,
          0.0166666666666666,
          0.05,
          0.15,
          0.1166666666666666,
          0.05,
          0.0333333333333333,
          0.1333333333333333,
          0.0833333333333333,
          0.1666666666666666,
          0.3166666666666666,
          0.2833333333333333,
          0.1166666666666666,
          0.1833333333333333,
          0.1833333333333333,
          0.1666666666666666,
          0.1833333333333333,
          0.1833333333333333,
          0.2333333333333333,
          0.2166666666666666,
          0.1,
          0.1333333333333333,
          0.0833333333333333,
          0.15,
          0.2333333333333333,
          0.2166666666666666,
          0.1,
          0.0333333333333333,
          0.2,
          0.2166666666666666,
          0.25,
          0.2333333333333333,
          0.1833333333333333,
          0.1,
          0.0333333333333333,
          0.05,
          0.1333333333333333,
          0.1,
          0.0333333333333333,
          0.1833333333333333,
          0.15,
          0.05,
          0.0833333333333333,
          0.0666666666666666,
          0.1333333333333333,
          0.2666666666666666,
          0.1333333333333333,
          0.0166666666666666,
          0.0333333333333333,
          0.05,
          0.15,
          0.0833333333333333,
          0.2,
          0.15,
          0.1,
          0.0833333333333333
         ],
         "yaxis": "y"
        },
        {
         "hovertemplate": "actor=Server (20, CIFAR10)<br>remote_type=%{x}<br>Google Services=%{y}<extra></extra>",
         "legendgroup": "Server (20, CIFAR10)",
         "line": {
          "color": "#FF6692",
          "dash": "solid"
         },
         "marker": {
          "symbol": "circle"
         },
         "mode": "lines",
         "name": "Server (20, CIFAR10)",
         "orientation": "v",
         "showlegend": true,
         "type": "scatter",
         "x": [
          "2024-05-22T18:20:00+02:00",
          "2024-05-22T18:21:00+02:00",
          "2024-05-22T18:22:00+02:00",
          "2024-05-22T18:23:00+02:00",
          "2024-05-22T18:24:00+02:00",
          "2024-05-22T18:25:00+02:00",
          "2024-05-22T18:26:00+02:00",
          "2024-05-22T18:27:00+02:00",
          "2024-05-22T18:28:00+02:00",
          "2024-05-22T18:29:00+02:00",
          "2024-05-22T18:30:00+02:00",
          "2024-05-22T18:31:00+02:00",
          "2024-05-22T18:32:00+02:00",
          "2024-05-22T18:33:00+02:00",
          "2024-05-22T18:34:00+02:00",
          "2024-05-22T18:35:00+02:00",
          "2024-05-22T18:36:00+02:00",
          "2024-05-22T18:37:00+02:00",
          "2024-05-22T18:38:00+02:00",
          "2024-05-22T18:39:00+02:00",
          "2024-05-22T18:40:00+02:00",
          "2024-05-22T18:41:00+02:00",
          "2024-05-22T18:42:00+02:00",
          "2024-05-22T18:43:00+02:00",
          "2024-05-22T18:44:00+02:00",
          "2024-05-22T18:45:00+02:00",
          "2024-05-22T18:46:00+02:00",
          "2024-05-22T18:47:00+02:00",
          "2024-05-22T18:48:00+02:00",
          "2024-05-22T18:49:00+02:00",
          "2024-05-22T18:50:00+02:00",
          "2024-05-22T18:51:00+02:00",
          "2024-05-22T18:52:00+02:00",
          "2024-05-22T18:53:00+02:00",
          "2024-05-22T18:54:00+02:00",
          "2024-05-22T18:55:00+02:00",
          "2024-05-22T18:56:00+02:00",
          "2024-05-22T18:57:00+02:00",
          "2024-05-22T18:58:00+02:00",
          "2024-05-22T18:59:00+02:00",
          "2024-05-22T19:00:00+02:00",
          "2024-05-22T19:01:00+02:00",
          "2024-05-22T19:02:00+02:00",
          "2024-05-22T19:03:00+02:00",
          "2024-05-22T19:04:00+02:00",
          "2024-05-22T19:05:00+02:00",
          "2024-05-22T19:06:00+02:00",
          "2024-05-22T19:07:00+02:00",
          "2024-05-22T19:08:00+02:00",
          "2024-05-22T19:09:00+02:00",
          "2024-05-22T19:10:00+02:00",
          "2024-05-22T19:11:00+02:00",
          "2024-05-22T19:12:00+02:00",
          "2024-05-22T19:13:00+02:00",
          "2024-05-22T19:14:00+02:00",
          "2024-05-22T19:15:00+02:00",
          "2024-05-22T19:16:00+02:00",
          "2024-05-22T19:17:00+02:00",
          "2024-05-22T19:18:00+02:00",
          "2024-05-22T19:19:00+02:00"
         ],
         "xaxis": "x",
         "y": [
          0.15,
          0.2,
          0.1,
          0.05,
          0.0166666666666666,
          0.05,
          0.15,
          0.1166666666666666,
          0.05,
          0.0333333333333333,
          0.1333333333333333,
          0.0833333333333333,
          0.1666666666666666,
          0.3166666666666666,
          0.2833333333333333,
          0.1166666666666666,
          0.1833333333333333,
          0.1833333333333333,
          0.1666666666666666,
          0.1833333333333333,
          0.1833333333333333,
          0.2333333333333333,
          0.2166666666666666,
          0.1,
          0.1333333333333333,
          0.0833333333333333,
          0.15,
          0.2333333333333333,
          0.2166666666666666,
          0.1,
          0.0333333333333333,
          0.2,
          0.2166666666666666,
          0.25,
          0.2333333333333333,
          0.1833333333333333,
          0.1,
          0.0333333333333333,
          0.05,
          0.1333333333333333,
          0.1,
          0.0333333333333333,
          0.1833333333333333,
          0.15,
          0.05,
          0.0833333333333333,
          0.0666666666666666,
          0.1333333333333333,
          0.2666666666666666,
          0.1333333333333333,
          0.0166666666666666,
          0.0333333333333333,
          0.05,
          0.15,
          0.0833333333333333,
          0.2,
          0.15,
          0.1,
          0.0833333333333333,
          0.0333333333333333
         ],
         "yaxis": "y"
        }
       ],
       "layout": {
        "height": 600,
        "legend": {
         "title": {
          "text": "actor"
         },
         "tracegroupgap": 0
        },
        "template": {
         "data": {
          "bar": [
           {
            "error_x": {
             "color": "#2a3f5f"
            },
            "error_y": {
             "color": "#2a3f5f"
            },
            "marker": {
             "line": {
              "color": "white",
              "width": 0.5
             },
             "pattern": {
              "fillmode": "overlay",
              "size": 10,
              "solidity": 0.2
             }
            },
            "type": "bar"
           }
          ],
          "barpolar": [
           {
            "marker": {
             "line": {
              "color": "white",
              "width": 0.5
             },
             "pattern": {
              "fillmode": "overlay",
              "size": 10,
              "solidity": 0.2
             }
            },
            "type": "barpolar"
           }
          ],
          "carpet": [
           {
            "aaxis": {
             "endlinecolor": "#2a3f5f",
             "gridcolor": "#C8D4E3",
             "linecolor": "#C8D4E3",
             "minorgridcolor": "#C8D4E3",
             "startlinecolor": "#2a3f5f"
            },
            "baxis": {
             "endlinecolor": "#2a3f5f",
             "gridcolor": "#C8D4E3",
             "linecolor": "#C8D4E3",
             "minorgridcolor": "#C8D4E3",
             "startlinecolor": "#2a3f5f"
            },
            "type": "carpet"
           }
          ],
          "choropleth": [
           {
            "colorbar": {
             "outlinewidth": 0,
             "ticks": ""
            },
            "type": "choropleth"
           }
          ],
          "contour": [
           {
            "colorbar": {
             "outlinewidth": 0,
             "ticks": ""
            },
            "colorscale": [
             [
              0,
              "#0d0887"
             ],
             [
              0.1111111111111111,
              "#46039f"
             ],
             [
              0.2222222222222222,
              "#7201a8"
             ],
             [
              0.3333333333333333,
              "#9c179e"
             ],
             [
              0.4444444444444444,
              "#bd3786"
             ],
             [
              0.5555555555555556,
              "#d8576b"
             ],
             [
              0.6666666666666666,
              "#ed7953"
             ],
             [
              0.7777777777777778,
              "#fb9f3a"
             ],
             [
              0.8888888888888888,
              "#fdca26"
             ],
             [
              1,
              "#f0f921"
             ]
            ],
            "type": "contour"
           }
          ],
          "contourcarpet": [
           {
            "colorbar": {
             "outlinewidth": 0,
             "ticks": ""
            },
            "type": "contourcarpet"
           }
          ],
          "heatmap": [
           {
            "colorbar": {
             "outlinewidth": 0,
             "ticks": ""
            },
            "colorscale": [
             [
              0,
              "#0d0887"
             ],
             [
              0.1111111111111111,
              "#46039f"
             ],
             [
              0.2222222222222222,
              "#7201a8"
             ],
             [
              0.3333333333333333,
              "#9c179e"
             ],
             [
              0.4444444444444444,
              "#bd3786"
             ],
             [
              0.5555555555555556,
              "#d8576b"
             ],
             [
              0.6666666666666666,
              "#ed7953"
             ],
             [
              0.7777777777777778,
              "#fb9f3a"
             ],
             [
              0.8888888888888888,
              "#fdca26"
             ],
             [
              1,
              "#f0f921"
             ]
            ],
            "type": "heatmap"
           }
          ],
          "heatmapgl": [
           {
            "colorbar": {
             "outlinewidth": 0,
             "ticks": ""
            },
            "colorscale": [
             [
              0,
              "#0d0887"
             ],
             [
              0.1111111111111111,
              "#46039f"
             ],
             [
              0.2222222222222222,
              "#7201a8"
             ],
             [
              0.3333333333333333,
              "#9c179e"
             ],
             [
              0.4444444444444444,
              "#bd3786"
             ],
             [
              0.5555555555555556,
              "#d8576b"
             ],
             [
              0.6666666666666666,
              "#ed7953"
             ],
             [
              0.7777777777777778,
              "#fb9f3a"
             ],
             [
              0.8888888888888888,
              "#fdca26"
             ],
             [
              1,
              "#f0f921"
             ]
            ],
            "type": "heatmapgl"
           }
          ],
          "histogram": [
           {
            "marker": {
             "pattern": {
              "fillmode": "overlay",
              "size": 10,
              "solidity": 0.2
             }
            },
            "type": "histogram"
           }
          ],
          "histogram2d": [
           {
            "colorbar": {
             "outlinewidth": 0,
             "ticks": ""
            },
            "colorscale": [
             [
              0,
              "#0d0887"
             ],
             [
              0.1111111111111111,
              "#46039f"
             ],
             [
              0.2222222222222222,
              "#7201a8"
             ],
             [
              0.3333333333333333,
              "#9c179e"
             ],
             [
              0.4444444444444444,
              "#bd3786"
             ],
             [
              0.5555555555555556,
              "#d8576b"
             ],
             [
              0.6666666666666666,
              "#ed7953"
             ],
             [
              0.7777777777777778,
              "#fb9f3a"
             ],
             [
              0.8888888888888888,
              "#fdca26"
             ],
             [
              1,
              "#f0f921"
             ]
            ],
            "type": "histogram2d"
           }
          ],
          "histogram2dcontour": [
           {
            "colorbar": {
             "outlinewidth": 0,
             "ticks": ""
            },
            "colorscale": [
             [
              0,
              "#0d0887"
             ],
             [
              0.1111111111111111,
              "#46039f"
             ],
             [
              0.2222222222222222,
              "#7201a8"
             ],
             [
              0.3333333333333333,
              "#9c179e"
             ],
             [
              0.4444444444444444,
              "#bd3786"
             ],
             [
              0.5555555555555556,
              "#d8576b"
             ],
             [
              0.6666666666666666,
              "#ed7953"
             ],
             [
              0.7777777777777778,
              "#fb9f3a"
             ],
             [
              0.8888888888888888,
              "#fdca26"
             ],
             [
              1,
              "#f0f921"
             ]
            ],
            "type": "histogram2dcontour"
           }
          ],
          "mesh3d": [
           {
            "colorbar": {
             "outlinewidth": 0,
             "ticks": ""
            },
            "type": "mesh3d"
           }
          ],
          "parcoords": [
           {
            "line": {
             "colorbar": {
              "outlinewidth": 0,
              "ticks": ""
             }
            },
            "type": "parcoords"
           }
          ],
          "pie": [
           {
            "automargin": true,
            "type": "pie"
           }
          ],
          "scatter": [
           {
            "fillpattern": {
             "fillmode": "overlay",
             "size": 10,
             "solidity": 0.2
            },
            "type": "scatter"
           }
          ],
          "scatter3d": [
           {
            "line": {
             "colorbar": {
              "outlinewidth": 0,
              "ticks": ""
             }
            },
            "marker": {
             "colorbar": {
              "outlinewidth": 0,
              "ticks": ""
             }
            },
            "type": "scatter3d"
           }
          ],
          "scattercarpet": [
           {
            "marker": {
             "colorbar": {
              "outlinewidth": 0,
              "ticks": ""
             }
            },
            "type": "scattercarpet"
           }
          ],
          "scattergeo": [
           {
            "marker": {
             "colorbar": {
              "outlinewidth": 0,
              "ticks": ""
             }
            },
            "type": "scattergeo"
           }
          ],
          "scattergl": [
           {
            "marker": {
             "colorbar": {
              "outlinewidth": 0,
              "ticks": ""
             }
            },
            "type": "scattergl"
           }
          ],
          "scattermapbox": [
           {
            "marker": {
             "colorbar": {
              "outlinewidth": 0,
              "ticks": ""
             }
            },
            "type": "scattermapbox"
           }
          ],
          "scatterpolar": [
           {
            "marker": {
             "colorbar": {
              "outlinewidth": 0,
              "ticks": ""
             }
            },
            "type": "scatterpolar"
           }
          ],
          "scatterpolargl": [
           {
            "marker": {
             "colorbar": {
              "outlinewidth": 0,
              "ticks": ""
             }
            },
            "type": "scatterpolargl"
           }
          ],
          "scatterternary": [
           {
            "marker": {
             "colorbar": {
              "outlinewidth": 0,
              "ticks": ""
             }
            },
            "type": "scatterternary"
           }
          ],
          "surface": [
           {
            "colorbar": {
             "outlinewidth": 0,
             "ticks": ""
            },
            "colorscale": [
             [
              0,
              "#0d0887"
             ],
             [
              0.1111111111111111,
              "#46039f"
             ],
             [
              0.2222222222222222,
              "#7201a8"
             ],
             [
              0.3333333333333333,
              "#9c179e"
             ],
             [
              0.4444444444444444,
              "#bd3786"
             ],
             [
              0.5555555555555556,
              "#d8576b"
             ],
             [
              0.6666666666666666,
              "#ed7953"
             ],
             [
              0.7777777777777778,
              "#fb9f3a"
             ],
             [
              0.8888888888888888,
              "#fdca26"
             ],
             [
              1,
              "#f0f921"
             ]
            ],
            "type": "surface"
           }
          ],
          "table": [
           {
            "cells": {
             "fill": {
              "color": "#EBF0F8"
             },
             "line": {
              "color": "white"
             }
            },
            "header": {
             "fill": {
              "color": "#C8D4E3"
             },
             "line": {
              "color": "white"
             }
            },
            "type": "table"
           }
          ]
         },
         "layout": {
          "annotationdefaults": {
           "arrowcolor": "#2a3f5f",
           "arrowhead": 0,
           "arrowwidth": 1
          },
          "autotypenumbers": "strict",
          "coloraxis": {
           "colorbar": {
            "outlinewidth": 0,
            "ticks": ""
           }
          },
          "colorscale": {
           "diverging": [
            [
             0,
             "#8e0152"
            ],
            [
             0.1,
             "#c51b7d"
            ],
            [
             0.2,
             "#de77ae"
            ],
            [
             0.3,
             "#f1b6da"
            ],
            [
             0.4,
             "#fde0ef"
            ],
            [
             0.5,
             "#f7f7f7"
            ],
            [
             0.6,
             "#e6f5d0"
            ],
            [
             0.7,
             "#b8e186"
            ],
            [
             0.8,
             "#7fbc41"
            ],
            [
             0.9,
             "#4d9221"
            ],
            [
             1,
             "#276419"
            ]
           ],
           "sequential": [
            [
             0,
             "#0d0887"
            ],
            [
             0.1111111111111111,
             "#46039f"
            ],
            [
             0.2222222222222222,
             "#7201a8"
            ],
            [
             0.3333333333333333,
             "#9c179e"
            ],
            [
             0.4444444444444444,
             "#bd3786"
            ],
            [
             0.5555555555555556,
             "#d8576b"
            ],
            [
             0.6666666666666666,
             "#ed7953"
            ],
            [
             0.7777777777777778,
             "#fb9f3a"
            ],
            [
             0.8888888888888888,
             "#fdca26"
            ],
            [
             1,
             "#f0f921"
            ]
           ],
           "sequentialminus": [
            [
             0,
             "#0d0887"
            ],
            [
             0.1111111111111111,
             "#46039f"
            ],
            [
             0.2222222222222222,
             "#7201a8"
            ],
            [
             0.3333333333333333,
             "#9c179e"
            ],
            [
             0.4444444444444444,
             "#bd3786"
            ],
            [
             0.5555555555555556,
             "#d8576b"
            ],
            [
             0.6666666666666666,
             "#ed7953"
            ],
            [
             0.7777777777777778,
             "#fb9f3a"
            ],
            [
             0.8888888888888888,
             "#fdca26"
            ],
            [
             1,
             "#f0f921"
            ]
           ]
          },
          "colorway": [
           "#636efa",
           "#EF553B",
           "#00cc96",
           "#ab63fa",
           "#FFA15A",
           "#19d3f3",
           "#FF6692",
           "#B6E880",
           "#FF97FF",
           "#FECB52"
          ],
          "font": {
           "color": "#2a3f5f"
          },
          "geo": {
           "bgcolor": "white",
           "lakecolor": "white",
           "landcolor": "white",
           "showlakes": true,
           "showland": true,
           "subunitcolor": "#C8D4E3"
          },
          "hoverlabel": {
           "align": "left"
          },
          "hovermode": "closest",
          "mapbox": {
           "style": "light"
          },
          "paper_bgcolor": "white",
          "plot_bgcolor": "white",
          "polar": {
           "angularaxis": {
            "gridcolor": "#EBF0F8",
            "linecolor": "#EBF0F8",
            "ticks": ""
           },
           "bgcolor": "white",
           "radialaxis": {
            "gridcolor": "#EBF0F8",
            "linecolor": "#EBF0F8",
            "ticks": ""
           }
          },
          "scene": {
           "xaxis": {
            "backgroundcolor": "white",
            "gridcolor": "#DFE8F3",
            "gridwidth": 2,
            "linecolor": "#EBF0F8",
            "showbackground": true,
            "ticks": "",
            "zerolinecolor": "#EBF0F8"
           },
           "yaxis": {
            "backgroundcolor": "white",
            "gridcolor": "#DFE8F3",
            "gridwidth": 2,
            "linecolor": "#EBF0F8",
            "showbackground": true,
            "ticks": "",
            "zerolinecolor": "#EBF0F8"
           },
           "zaxis": {
            "backgroundcolor": "white",
            "gridcolor": "#DFE8F3",
            "gridwidth": 2,
            "linecolor": "#EBF0F8",
            "showbackground": true,
            "ticks": "",
            "zerolinecolor": "#EBF0F8"
           }
          },
          "shapedefaults": {
           "line": {
            "color": "#2a3f5f"
           }
          },
          "ternary": {
           "aaxis": {
            "gridcolor": "#DFE8F3",
            "linecolor": "#A2B1C6",
            "ticks": ""
           },
           "baxis": {
            "gridcolor": "#DFE8F3",
            "linecolor": "#A2B1C6",
            "ticks": ""
           },
           "bgcolor": "white",
           "caxis": {
            "gridcolor": "#DFE8F3",
            "linecolor": "#A2B1C6",
            "ticks": ""
           }
          },
          "title": {
           "x": 0.05
          },
          "xaxis": {
           "automargin": true,
           "gridcolor": "#EBF0F8",
           "linecolor": "#EBF0F8",
           "ticks": "",
           "title": {
            "standoff": 15
           },
           "zerolinecolor": "#EBF0F8",
           "zerolinewidth": 2
          },
          "yaxis": {
           "automargin": true,
           "gridcolor": "#EBF0F8",
           "linecolor": "#EBF0F8",
           "ticks": "",
           "title": {
            "standoff": 15
           },
           "zerolinecolor": "#EBF0F8",
           "zerolinewidth": 2
          }
         }
        },
        "title": {
         "text": "Net usage"
        },
        "width": 1200,
        "xaxis": {
         "anchor": "y",
         "domain": [
          0,
          1
         ],
         "title": {
          "text": "remote_type"
         }
        },
        "yaxis": {
         "anchor": "x",
         "domain": [
          0,
          1
         ],
         "title": {
          "text": "Google Services"
         }
        }
       }
      }
     },
     "metadata": {},
     "output_type": "display_data"
    },
    {
     "data": {
      "application/vnd.plotly.v1+json": {
       "config": {
        "plotlyServerURL": "https://plot.ly"
       },
       "data": [
        {
         "hovertemplate": "actor=Server (10, CIFAR10)<br>remote_type=%{x}<br>External (or VMs Different Project)=%{y}<extra></extra>",
         "legendgroup": "Server (10, CIFAR10)",
         "line": {
          "color": "#636efa",
          "dash": "solid"
         },
         "marker": {
          "symbol": "circle"
         },
         "mode": "lines",
         "name": "Server (10, CIFAR10)",
         "orientation": "v",
         "showlegend": true,
         "type": "scatter",
         "x": [
          "2024-05-22T15:41:00+02:00",
          "2024-05-22T15:42:00+02:00",
          "2024-05-22T15:43:00+02:00",
          "2024-05-22T15:44:00+02:00",
          "2024-05-22T15:45:00+02:00",
          "2024-05-22T15:46:00+02:00",
          "2024-05-22T15:47:00+02:00",
          "2024-05-22T15:48:00+02:00",
          "2024-05-22T15:49:00+02:00",
          "2024-05-22T15:50:00+02:00",
          "2024-05-22T15:51:00+02:00",
          "2024-05-22T15:52:00+02:00",
          "2024-05-22T15:53:00+02:00",
          "2024-05-22T15:54:00+02:00",
          "2024-05-22T15:55:00+02:00",
          "2024-05-22T15:56:00+02:00",
          "2024-05-22T15:57:00+02:00",
          "2024-05-22T15:58:00+02:00",
          "2024-05-22T15:59:00+02:00",
          "2024-05-22T16:00:00+02:00",
          "2024-05-22T16:01:00+02:00",
          "2024-05-22T16:02:00+02:00",
          "2024-05-22T16:03:00+02:00",
          "2024-05-22T16:04:00+02:00",
          "2024-05-22T16:05:00+02:00",
          "2024-05-22T16:06:00+02:00",
          "2024-05-22T16:07:00+02:00",
          "2024-05-22T16:08:00+02:00",
          "2024-05-22T16:09:00+02:00",
          "2024-05-22T16:10:00+02:00",
          "2024-05-22T16:11:00+02:00",
          "2024-05-22T16:12:00+02:00",
          "2024-05-22T16:13:00+02:00",
          "2024-05-22T16:14:00+02:00",
          "2024-05-22T16:15:00+02:00",
          "2024-05-22T16:16:00+02:00",
          "2024-05-22T16:17:00+02:00",
          "2024-05-22T16:18:00+02:00",
          "2024-05-22T16:19:00+02:00",
          "2024-05-22T16:20:00+02:00",
          "2024-05-22T16:21:00+02:00",
          "2024-05-22T16:22:00+02:00",
          "2024-05-22T16:23:00+02:00",
          "2024-05-22T16:24:00+02:00",
          "2024-05-22T16:25:00+02:00",
          "2024-05-22T16:26:00+02:00",
          "2024-05-22T16:27:00+02:00",
          "2024-05-22T16:28:00+02:00",
          "2024-05-22T16:29:00+02:00",
          "2024-05-22T16:30:00+02:00",
          "2024-05-22T16:31:00+02:00",
          "2024-05-22T16:32:00+02:00",
          "2024-05-22T16:33:00+02:00",
          "2024-05-22T16:34:00+02:00",
          "2024-05-22T16:35:00+02:00",
          "2024-05-22T16:36:00+02:00",
          "2024-05-22T16:37:00+02:00",
          "2024-05-22T16:38:00+02:00",
          "2024-05-22T16:39:00+02:00",
          "2024-05-22T16:40:00+02:00"
         ],
         "xaxis": "x",
         "y": [
          0.0166666666666666,
          0.0999999999999999,
          0.0666666666666666,
          0.0166666666666666,
          0.0166666666666666,
          0.0166666666666666,
          0.0166666666666666,
          0.0166666666666666,
          0.05,
          0.1166666666666666,
          0.0166666666666666,
          0.0166666666666666,
          0,
          0.0166666666666666,
          0.0833333333333333,
          0.2166666666666666,
          0.1166666666666666,
          0,
          0.0166666666666666,
          0.0166666666666666,
          0.0166666666666666,
          0,
          0.0166666666666666,
          0.0166666666666666,
          0,
          0.0166666666666666,
          0,
          0.0166666666666666,
          0.0833333333333333,
          0.0833333333333333,
          0.0166666666666666,
          0.0166666666666666,
          0.1333333333333333,
          0.0166666666666666,
          0.0833333333333333,
          0.05,
          0.0166666666666666,
          0.0166666666666666,
          0.0166666666666666,
          0.0166666666666666,
          0.0833333333333333,
          0.05,
          0.0166666666666666,
          0.0166666666666666,
          0.0166666666666666,
          0.0166666666666666,
          0.0166666666666666,
          0,
          0.0666666666666666,
          0.1666666666666666,
          0.1333333333333333,
          0.05,
          0.0166666666666666,
          0.0333333333333333,
          0.0166666666666666,
          0.0833333333333333,
          0.0666666666666666,
          0.0166666666666666,
          0.0166666666666666,
          0
         ],
         "yaxis": "y"
        },
        {
         "hovertemplate": "actor=Worker (5, CIFAR10)<br>remote_type=%{x}<br>External (or VMs Different Project)=%{y}<extra></extra>",
         "legendgroup": "Worker (5, CIFAR10)",
         "line": {
          "color": "#EF553B",
          "dash": "solid"
         },
         "marker": {
          "symbol": "circle"
         },
         "mode": "lines",
         "name": "Worker (5, CIFAR10)",
         "orientation": "v",
         "showlegend": true,
         "type": "scatter",
         "x": [
          "2024-05-22T13:20:00+02:00",
          "2024-05-22T13:21:00+02:00",
          "2024-05-22T13:22:00+02:00",
          "2024-05-22T13:23:00+02:00",
          "2024-05-22T13:24:00+02:00",
          "2024-05-22T13:25:00+02:00",
          "2024-05-22T13:26:00+02:00",
          "2024-05-22T13:27:00+02:00",
          "2024-05-22T13:28:00+02:00",
          "2024-05-22T13:29:00+02:00",
          "2024-05-22T13:30:00+02:00",
          "2024-05-22T13:31:00+02:00",
          "2024-05-22T13:32:00+02:00",
          "2024-05-22T13:33:00+02:00",
          "2024-05-22T13:34:00+02:00",
          "2024-05-22T13:35:00+02:00",
          "2024-05-22T13:36:00+02:00",
          "2024-05-22T13:37:00+02:00",
          "2024-05-22T13:38:00+02:00",
          "2024-05-22T13:39:00+02:00",
          "2024-05-22T13:40:00+02:00",
          "2024-05-22T13:41:00+02:00",
          "2024-05-22T13:42:00+02:00",
          "2024-05-22T13:43:00+02:00",
          "2024-05-22T13:44:00+02:00",
          "2024-05-22T13:45:00+02:00",
          "2024-05-22T13:46:00+02:00",
          "2024-05-22T13:47:00+02:00",
          "2024-05-22T13:48:00+02:00",
          "2024-05-22T13:49:00+02:00",
          "2024-05-22T13:50:00+02:00",
          "2024-05-22T13:51:00+02:00",
          "2024-05-22T13:52:00+02:00",
          "2024-05-22T13:53:00+02:00",
          "2024-05-22T13:54:00+02:00",
          "2024-05-22T13:55:00+02:00",
          "2024-05-22T13:56:00+02:00",
          "2024-05-22T13:57:00+02:00",
          "2024-05-22T13:58:00+02:00",
          "2024-05-22T13:59:00+02:00",
          "2024-05-22T14:00:00+02:00",
          "2024-05-22T14:01:00+02:00",
          "2024-05-22T14:02:00+02:00",
          "2024-05-22T14:03:00+02:00",
          "2024-05-22T14:04:00+02:00",
          "2024-05-22T14:05:00+02:00",
          "2024-05-22T14:06:00+02:00",
          "2024-05-22T14:07:00+02:00",
          "2024-05-22T14:08:00+02:00",
          "2024-05-22T14:09:00+02:00",
          "2024-05-22T14:10:00+02:00",
          "2024-05-22T14:11:00+02:00",
          "2024-05-22T14:12:00+02:00",
          "2024-05-22T14:13:00+02:00",
          "2024-05-22T14:14:00+02:00",
          "2024-05-22T14:15:00+02:00",
          "2024-05-22T14:16:00+02:00",
          "2024-05-22T14:17:00+02:00",
          "2024-05-22T14:18:00+02:00",
          "2024-05-22T14:19:00+02:00",
          "2024-05-22T14:20:00+02:00",
          "2024-05-22T14:21:00+02:00",
          "2024-05-22T14:22:00+02:00",
          "2024-05-22T14:23:00+02:00",
          "2024-05-22T14:24:00+02:00",
          "2024-05-22T14:25:00+02:00",
          "2024-05-22T14:26:00+02:00",
          "2024-05-22T14:27:00+02:00",
          "2024-05-22T14:28:00+02:00",
          "2024-05-22T14:29:00+02:00",
          "2024-05-22T14:30:00+02:00",
          "2024-05-22T14:31:00+02:00",
          "2024-05-22T14:32:00+02:00",
          "2024-05-22T14:33:00+02:00",
          "2024-05-22T14:34:00+02:00",
          "2024-05-22T14:35:00+02:00",
          "2024-05-22T14:36:00+02:00",
          "2024-05-22T14:37:00+02:00",
          "2024-05-22T14:38:00+02:00",
          "2024-05-22T14:39:00+02:00",
          "2024-05-22T14:40:00+02:00",
          "2024-05-22T14:41:00+02:00",
          "2024-05-22T14:42:00+02:00",
          "2024-05-22T14:43:00+02:00",
          "2024-05-22T14:44:00+02:00",
          "2024-05-22T14:45:00+02:00",
          "2024-05-22T14:46:00+02:00",
          "2024-05-22T14:47:00+02:00",
          "2024-05-22T14:48:00+02:00",
          "2024-05-22T14:49:00+02:00",
          "2024-05-22T14:50:00+02:00",
          "2024-05-22T14:51:00+02:00",
          "2024-05-22T14:52:00+02:00",
          "2024-05-22T14:53:00+02:00",
          "2024-05-22T14:54:00+02:00",
          "2024-05-22T14:55:00+02:00",
          "2024-05-22T14:56:00+02:00",
          "2024-05-22T14:57:00+02:00",
          "2024-05-22T14:58:00+02:00",
          "2024-05-22T14:59:00+02:00",
          "2024-05-22T15:00:00+02:00",
          "2024-05-22T15:01:00+02:00",
          "2024-05-22T15:02:00+02:00",
          "2024-05-22T15:03:00+02:00",
          "2024-05-22T15:04:00+02:00",
          "2024-05-22T15:05:00+02:00",
          "2024-05-22T15:06:00+02:00",
          "2024-05-22T15:07:00+02:00",
          "2024-05-22T15:08:00+02:00",
          "2024-05-22T15:09:00+02:00",
          "2024-05-22T15:10:00+02:00",
          "2024-05-22T15:11:00+02:00",
          "2024-05-22T15:12:00+02:00",
          "2024-05-22T15:13:00+02:00",
          "2024-05-22T15:14:00+02:00",
          "2024-05-22T15:15:00+02:00",
          "2024-05-22T15:16:00+02:00",
          "2024-05-22T15:17:00+02:00",
          "2024-05-22T15:18:00+02:00",
          "2024-05-22T15:19:00+02:00",
          "2024-05-22T15:20:00+02:00",
          "2024-05-22T15:21:00+02:00",
          "2024-05-22T15:22:00+02:00",
          "2024-05-22T15:23:00+02:00",
          "2024-05-22T15:24:00+02:00",
          "2024-05-22T15:25:00+02:00",
          "2024-05-22T15:26:00+02:00",
          "2024-05-22T15:27:00+02:00",
          "2024-05-22T15:28:00+02:00",
          "2024-05-22T15:29:00+02:00",
          "2024-05-22T15:30:00+02:00",
          "2024-05-22T15:31:00+02:00",
          "2024-05-22T15:32:00+02:00",
          "2024-05-22T15:33:00+02:00",
          "2024-05-22T15:34:00+02:00",
          "2024-05-22T15:35:00+02:00",
          "2024-05-22T15:36:00+02:00",
          "2024-05-22T15:37:00+02:00",
          "2024-05-22T15:38:00+02:00",
          "2024-05-22T15:39:00+02:00",
          "2024-05-22T15:40:00+02:00",
          "2024-05-22T15:41:00+02:00",
          "2024-05-22T15:42:00+02:00",
          "2024-05-22T15:43:00+02:00",
          "2024-05-22T15:44:00+02:00",
          "2024-05-22T15:45:00+02:00",
          "2024-05-22T15:46:00+02:00"
         ],
         "xaxis": "x",
         "y": [
          0,
          0,
          0,
          0,
          0,
          0,
          0,
          0,
          0,
          0,
          0,
          0,
          0.0166666666666666,
          0,
          0,
          0,
          0,
          0,
          0,
          0.0333333333333333,
          0.0166666666666666,
          0,
          0,
          0,
          0,
          0,
          0,
          0,
          0,
          0,
          0,
          0,
          0.1333333333333333,
          0.1999999999999999,
          0.15,
          0.0333333333333333,
          0.0166666666666666,
          0.0333333333333333,
          0.0166666666666666,
          0.0166666666666666,
          0.0166666666666666,
          0.0166666666666666,
          0.0166666666666666,
          0.0166666666666666,
          0.0166666666666666,
          0.2666666666666666,
          0.0333333333333333,
          0.0166666666666666,
          0.0166666666666666,
          0.0166666666666666,
          0.0166666666666666,
          0.0166666666666666,
          0.0166666666666666,
          0.0166666666666666,
          0.0166666666666666,
          0,
          0.0166666666666666,
          0.0166666666666666,
          0.0166666666666666,
          0.0166666666666666,
          0.1333333333333333,
          0.0166666666666666,
          0.0166666666666666,
          0.0166666666666666,
          0.0166666666666666,
          0.1333333333333333,
          0,
          0.0166666666666666,
          0.0166666666666666,
          0.0166666666666666,
          0.0166666666666666,
          0.0166666666666666,
          0.0166666666666666,
          0.1333333333333333,
          0.0333333333333333,
          0,
          0.0666666666666666,
          0.0166666666666666,
          0.0166666666666666,
          0.0166666666666666,
          0.0166666666666666,
          0.0166666666666666,
          0.0166666666666666,
          0.0166666666666666,
          0.0166666666666666,
          0.1666666666666666,
          0.0166666666666666,
          0.1333333333333333,
          0.1333333333333333,
          0.0166666666666666,
          0.0166666666666666,
          0.0166666666666666,
          0.0166666666666666,
          0.0166666666666666,
          0.0166666666666666,
          0,
          0.0166666666666666,
          0.0166666666666666,
          0.0166666666666666,
          0.0166666666666666,
          0.15,
          0.15,
          0.0166666666666666,
          0.0166666666666666,
          0,
          0.0166666666666666,
          0.0166666666666666,
          0.0333333333333333,
          0.0166666666666666,
          0.0166666666666666,
          0.0166666666666666,
          0.1333333333333333,
          0.0166666666666666,
          0.1333333333333333,
          0.0166666666666666,
          0.1166666666666666,
          0.15,
          0,
          0.0666666666666666,
          0.0333333333333333,
          0.0166666666666666,
          0,
          0.0666666666666666,
          0.0166666666666666,
          0,
          0.0166666666666666,
          0.0166666666666666,
          0,
          0,
          0.0166666666666666,
          0.1333333333333333,
          0,
          0,
          0.1333333333333333,
          0.0333333333333333,
          0.0166666666666666,
          0.0166666666666666,
          0.0166666666666666,
          0,
          0.0166666666666666,
          0.1333333333333333,
          0.0333333333333333,
          0.1333333333333333,
          0.0166666666666666,
          0.0166666666666666,
          0.1333333333333333,
          0
         ],
         "yaxis": "y"
        },
        {
         "hovertemplate": "actor=Server (5, CIFAR10)<br>remote_type=%{x}<br>External (or VMs Different Project)=%{y}<extra></extra>",
         "legendgroup": "Server (5, CIFAR10)",
         "line": {
          "color": "#00cc96",
          "dash": "solid"
         },
         "marker": {
          "symbol": "circle"
         },
         "mode": "lines",
         "name": "Server (5, CIFAR10)",
         "orientation": "v",
         "showlegend": true,
         "type": "scatter",
         "x": [
          "2024-05-22T13:45:00+02:00",
          "2024-05-22T13:46:00+02:00",
          "2024-05-22T13:47:00+02:00",
          "2024-05-22T13:48:00+02:00",
          "2024-05-22T13:49:00+02:00",
          "2024-05-22T13:50:00+02:00",
          "2024-05-22T13:51:00+02:00",
          "2024-05-22T13:52:00+02:00",
          "2024-05-22T13:53:00+02:00",
          "2024-05-22T13:54:00+02:00",
          "2024-05-22T13:55:00+02:00",
          "2024-05-22T13:56:00+02:00",
          "2024-05-22T13:57:00+02:00",
          "2024-05-22T13:58:00+02:00",
          "2024-05-22T13:59:00+02:00",
          "2024-05-22T14:00:00+02:00",
          "2024-05-22T14:01:00+02:00",
          "2024-05-22T14:02:00+02:00",
          "2024-05-22T14:03:00+02:00",
          "2024-05-22T14:04:00+02:00",
          "2024-05-22T14:05:00+02:00",
          "2024-05-22T14:06:00+02:00",
          "2024-05-22T14:07:00+02:00",
          "2024-05-22T14:08:00+02:00",
          "2024-05-22T14:09:00+02:00",
          "2024-05-22T14:10:00+02:00",
          "2024-05-22T14:11:00+02:00",
          "2024-05-22T14:12:00+02:00",
          "2024-05-22T14:13:00+02:00",
          "2024-05-22T14:14:00+02:00",
          "2024-05-22T14:15:00+02:00",
          "2024-05-22T14:16:00+02:00",
          "2024-05-22T14:17:00+02:00",
          "2024-05-22T14:18:00+02:00",
          "2024-05-22T14:19:00+02:00",
          "2024-05-22T14:20:00+02:00",
          "2024-05-22T14:21:00+02:00",
          "2024-05-22T14:22:00+02:00",
          "2024-05-22T14:23:00+02:00",
          "2024-05-22T14:24:00+02:00",
          "2024-05-22T14:25:00+02:00",
          "2024-05-22T14:26:00+02:00",
          "2024-05-22T14:27:00+02:00",
          "2024-05-22T14:28:00+02:00",
          "2024-05-22T14:29:00+02:00",
          "2024-05-22T14:30:00+02:00",
          "2024-05-22T14:31:00+02:00",
          "2024-05-22T14:32:00+02:00",
          "2024-05-22T14:33:00+02:00",
          "2024-05-22T14:34:00+02:00",
          "2024-05-22T14:35:00+02:00",
          "2024-05-22T14:36:00+02:00",
          "2024-05-22T14:37:00+02:00",
          "2024-05-22T14:38:00+02:00",
          "2024-05-22T14:39:00+02:00",
          "2024-05-22T14:40:00+02:00",
          "2024-05-22T14:41:00+02:00",
          "2024-05-22T14:42:00+02:00",
          "2024-05-22T14:43:00+02:00",
          "2024-05-22T14:44:00+02:00",
          "2024-05-22T14:45:00+02:00",
          "2024-05-22T14:46:00+02:00",
          "2024-05-22T14:47:00+02:00",
          "2024-05-22T14:48:00+02:00",
          "2024-05-22T14:49:00+02:00",
          "2024-05-22T14:50:00+02:00",
          "2024-05-22T14:51:00+02:00",
          "2024-05-22T14:52:00+02:00",
          "2024-05-22T14:53:00+02:00",
          "2024-05-22T14:54:00+02:00",
          "2024-05-22T14:55:00+02:00",
          "2024-05-22T14:56:00+02:00",
          "2024-05-22T14:57:00+02:00",
          "2024-05-22T14:58:00+02:00",
          "2024-05-22T14:59:00+02:00",
          "2024-05-22T15:00:00+02:00",
          "2024-05-22T15:01:00+02:00",
          "2024-05-22T15:02:00+02:00",
          "2024-05-22T15:03:00+02:00",
          "2024-05-22T15:04:00+02:00",
          "2024-05-22T15:05:00+02:00",
          "2024-05-22T15:06:00+02:00",
          "2024-05-22T15:07:00+02:00",
          "2024-05-22T15:08:00+02:00",
          "2024-05-22T15:09:00+02:00",
          "2024-05-22T15:10:00+02:00",
          "2024-05-22T15:11:00+02:00",
          "2024-05-22T15:12:00+02:00",
          "2024-05-22T15:13:00+02:00",
          "2024-05-22T15:14:00+02:00",
          "2024-05-22T15:15:00+02:00",
          "2024-05-22T15:16:00+02:00",
          "2024-05-22T15:17:00+02:00",
          "2024-05-22T15:18:00+02:00",
          "2024-05-22T15:19:00+02:00",
          "2024-05-22T15:20:00+02:00",
          "2024-05-22T15:21:00+02:00"
         ],
         "xaxis": "x",
         "y": [
          0,
          0,
          0,
          0,
          0,
          0,
          0,
          0,
          0.2,
          0.1333333333333333,
          0.0333333333333333,
          0.0333333333333333,
          0.05,
          0.0166666666666666,
          0.0166666666666666,
          0.0166666666666666,
          0.0166666666666666,
          0.0166666666666666,
          0.0166666666666666,
          0,
          0.0666666666666666,
          0.25,
          0.0833333333333333,
          0,
          0.1,
          0.0833333333333333,
          0.0166666666666666,
          0.0166666666666666,
          0.0333333333333333,
          0.1333333333333333,
          0,
          0.0166666666666666,
          0.0833333333333333,
          0.2,
          0,
          0.0166666666666666,
          0.0333333333333333,
          0.0166666666666666,
          0.0166666666666666,
          0.0166666666666666,
          0.0166666666666666,
          0,
          0.0166666666666666,
          0.0166666666666666,
          0.0166666666666666,
          0.0166666666666666,
          0.0166666666666666,
          0.0166666666666666,
          0.0166666666666666,
          0,
          0.0166666666666666,
          0.0166666666666666,
          0.0166666666666666,
          0.0166666666666666,
          0.0166666666666666,
          0.0166666666666666,
          0.0166666666666666,
          0.0166666666666666,
          0.0166666666666666,
          0.0166666666666666,
          0.0833333333333333,
          0.0666666666666666,
          0,
          0.0166666666666666,
          0.0166666666666666,
          0.0166666666666666,
          0,
          0.0166666666666666,
          0.0166666666666666,
          0.0166666666666666,
          0.0166666666666666,
          0.0166666666666666,
          0.0166666666666666,
          0.0333333333333333,
          0.0166666666666666,
          0.0166666666666666,
          0.0166666666666666,
          0.0166666666666666,
          0.0166666666666666,
          0.0166666666666666,
          0.0166666666666666,
          0.0333333333333333,
          0.0166666666666666,
          0.0166666666666666,
          0.1166666666666666,
          0.2833333333333333,
          0.0666666666666666,
          0.0166666666666666,
          0.05,
          0.0166666666666666,
          0,
          0.0166666666666666,
          0.0333333333333333,
          0.0166666666666666,
          0.0166666666666666,
          0.0166666666666666,
          0.0166666666666666
         ],
         "yaxis": "y"
        },
        {
         "hovertemplate": "actor=Worker (10, CIFAR10)<br>remote_type=%{x}<br>External (or VMs Different Project)=%{y}<extra></extra>",
         "legendgroup": "Worker (10, CIFAR10)",
         "line": {
          "color": "#ab63fa",
          "dash": "solid"
         },
         "marker": {
          "symbol": "circle"
         },
         "mode": "lines",
         "name": "Worker (10, CIFAR10)",
         "orientation": "v",
         "showlegend": true,
         "type": "scatter",
         "x": [
          "2024-05-22T15:42:00+02:00",
          "2024-05-22T15:43:00+02:00",
          "2024-05-22T15:44:00+02:00",
          "2024-05-22T15:45:00+02:00",
          "2024-05-22T15:46:00+02:00",
          "2024-05-22T15:47:00+02:00",
          "2024-05-22T15:48:00+02:00",
          "2024-05-22T15:49:00+02:00",
          "2024-05-22T15:50:00+02:00",
          "2024-05-22T15:51:00+02:00",
          "2024-05-22T15:52:00+02:00",
          "2024-05-22T15:53:00+02:00",
          "2024-05-22T15:54:00+02:00",
          "2024-05-22T15:55:00+02:00",
          "2024-05-22T15:56:00+02:00",
          "2024-05-22T15:57:00+02:00",
          "2024-05-22T15:58:00+02:00",
          "2024-05-22T15:59:00+02:00",
          "2024-05-22T16:00:00+02:00",
          "2024-05-22T16:01:00+02:00",
          "2024-05-22T16:02:00+02:00",
          "2024-05-22T16:03:00+02:00",
          "2024-05-22T16:04:00+02:00",
          "2024-05-22T16:05:00+02:00",
          "2024-05-22T16:06:00+02:00",
          "2024-05-22T16:07:00+02:00",
          "2024-05-22T16:08:00+02:00",
          "2024-05-22T16:09:00+02:00",
          "2024-05-22T16:10:00+02:00",
          "2024-05-22T16:11:00+02:00",
          "2024-05-22T16:12:00+02:00",
          "2024-05-22T16:13:00+02:00",
          "2024-05-22T16:14:00+02:00",
          "2024-05-22T16:15:00+02:00",
          "2024-05-22T16:16:00+02:00",
          "2024-05-22T16:17:00+02:00",
          "2024-05-22T16:18:00+02:00",
          "2024-05-22T16:19:00+02:00",
          "2024-05-22T16:20:00+02:00",
          "2024-05-22T16:21:00+02:00",
          "2024-05-22T16:22:00+02:00",
          "2024-05-22T16:23:00+02:00",
          "2024-05-22T16:24:00+02:00",
          "2024-05-22T16:25:00+02:00",
          "2024-05-22T16:26:00+02:00",
          "2024-05-22T16:27:00+02:00",
          "2024-05-22T16:28:00+02:00",
          "2024-05-22T16:29:00+02:00",
          "2024-05-22T16:30:00+02:00",
          "2024-05-22T16:31:00+02:00",
          "2024-05-22T16:32:00+02:00",
          "2024-05-22T16:33:00+02:00",
          "2024-05-22T16:34:00+02:00",
          "2024-05-22T16:35:00+02:00",
          "2024-05-22T16:36:00+02:00",
          "2024-05-22T16:37:00+02:00",
          "2024-05-22T16:38:00+02:00",
          "2024-05-22T16:39:00+02:00",
          "2024-05-22T16:40:00+02:00",
          "2024-05-22T16:41:00+02:00"
         ],
         "xaxis": "x",
         "y": [
          0.1333333333333333,
          0.0166666666666666,
          0.0166666666666666,
          0.1333333333333333,
          0,
          0.0666666666666666,
          0.0166666666666666,
          0.0166666666666666,
          0.0166666666666666,
          0.0166666666666666,
          0.0333333333333333,
          0.0333333333333333,
          0,
          0.0166666666666666,
          0.0166666666666666,
          0.0166666666666666,
          0.0166666666666666,
          0.0166666666666666,
          0.0166666666666666,
          0.0166666666666666,
          0.1333333333333333,
          0,
          0.0666666666666666,
          0.0166666666666666,
          0.0166666666666666,
          0.0166666666666666,
          0.0166666666666666,
          0.1333333333333333,
          0.0166666666666666,
          0.0166666666666666,
          0.0166666666666666,
          0.0166666666666666,
          0.0166666666666666,
          0.0166666666666666,
          0.0166666666666666,
          0.0166666666666666,
          0.0166666666666666,
          0.0166666666666666,
          0.0166666666666666,
          0,
          0.0166666666666666,
          0.0166666666666666,
          0.0166666666666666,
          0.0166666666666666,
          0.0166666666666666,
          0.0333333333333333,
          0.0166666666666666,
          0.0166666666666666,
          0.0166666666666666,
          0.0166666666666666,
          0,
          0.0333333333333333,
          0.0166666666666666,
          0.0166666666666666,
          0.0166666666666666,
          0.0166666666666666,
          0.0166666666666666,
          0,
          0.0166666666666666,
          0.0166666666666666
         ],
         "yaxis": "y"
        },
        {
         "hovertemplate": "actor=Standalone (CIFAR10)<br>remote_type=%{x}<br>External (or VMs Different Project)=%{y}<extra></extra>",
         "legendgroup": "Standalone (CIFAR10)",
         "line": {
          "color": "#FFA15A",
          "dash": "solid"
         },
         "marker": {
          "symbol": "circle"
         },
         "mode": "lines",
         "name": "Standalone (CIFAR10)",
         "orientation": "v",
         "showlegend": true,
         "type": "scatter",
         "x": [
          "2024-05-22T14:15:00+02:00",
          "2024-05-22T14:16:00+02:00",
          "2024-05-22T14:17:00+02:00",
          "2024-05-22T14:18:00+02:00",
          "2024-05-22T14:19:00+02:00",
          "2024-05-22T14:20:00+02:00",
          "2024-05-22T14:21:00+02:00",
          "2024-05-22T14:22:00+02:00",
          "2024-05-22T14:23:00+02:00",
          "2024-05-22T14:24:00+02:00",
          "2024-05-22T14:25:00+02:00",
          "2024-05-22T14:26:00+02:00",
          "2024-05-22T14:27:00+02:00",
          "2024-05-22T14:28:00+02:00",
          "2024-05-22T14:29:00+02:00",
          "2024-05-22T14:30:00+02:00",
          "2024-05-22T14:31:00+02:00",
          "2024-05-22T14:32:00+02:00",
          "2024-05-22T14:33:00+02:00",
          "2024-05-22T14:34:00+02:00",
          "2024-05-22T14:35:00+02:00",
          "2024-05-22T14:36:00+02:00",
          "2024-05-22T14:37:00+02:00",
          "2024-05-22T14:38:00+02:00"
         ],
         "xaxis": "x",
         "y": [
          0.4,
          0.0333333333333333,
          0.45,
          0.2,
          0.2,
          0.4333333333333333,
          0.4166666666666666,
          0.2333333333333333,
          0.25,
          0.1833333333333333,
          0.5666666666666667,
          0.1833333333333333,
          0.3333333333333333,
          0.2166666666666666,
          0.05,
          0.2,
          0.5166666666666666,
          0.4,
          0.1666666666666666,
          0.1166666666666666,
          0.2,
          0.35,
          0.15,
          0.3
         ],
         "yaxis": "y"
        },
        {
         "hovertemplate": "actor=Worker (20, CIFAR10)<br>remote_type=%{x}<br>External (or VMs Different Project)=%{y}<extra></extra>",
         "legendgroup": "Worker (20, CIFAR10)",
         "line": {
          "color": "#19d3f3",
          "dash": "solid"
         },
         "marker": {
          "symbol": "circle"
         },
         "mode": "lines",
         "name": "Worker (20, CIFAR10)",
         "orientation": "v",
         "showlegend": true,
         "type": "scatter",
         "x": [
          "2024-05-22T18:18:00+02:00",
          "2024-05-22T18:19:00+02:00",
          "2024-05-22T18:20:00+02:00",
          "2024-05-22T18:21:00+02:00",
          "2024-05-22T18:22:00+02:00",
          "2024-05-22T18:23:00+02:00",
          "2024-05-22T18:24:00+02:00",
          "2024-05-22T18:25:00+02:00",
          "2024-05-22T18:26:00+02:00",
          "2024-05-22T18:27:00+02:00",
          "2024-05-22T18:28:00+02:00",
          "2024-05-22T18:29:00+02:00",
          "2024-05-22T18:30:00+02:00",
          "2024-05-22T18:31:00+02:00",
          "2024-05-22T18:32:00+02:00",
          "2024-05-22T18:33:00+02:00",
          "2024-05-22T18:34:00+02:00",
          "2024-05-22T18:35:00+02:00",
          "2024-05-22T18:36:00+02:00",
          "2024-05-22T18:37:00+02:00",
          "2024-05-22T18:38:00+02:00",
          "2024-05-22T18:39:00+02:00",
          "2024-05-22T18:40:00+02:00",
          "2024-05-22T18:41:00+02:00",
          "2024-05-22T18:42:00+02:00",
          "2024-05-22T18:43:00+02:00",
          "2024-05-22T18:44:00+02:00",
          "2024-05-22T18:45:00+02:00",
          "2024-05-22T18:46:00+02:00",
          "2024-05-22T18:47:00+02:00",
          "2024-05-22T18:48:00+02:00",
          "2024-05-22T18:49:00+02:00",
          "2024-05-22T18:50:00+02:00",
          "2024-05-22T18:51:00+02:00",
          "2024-05-22T18:52:00+02:00",
          "2024-05-22T18:53:00+02:00",
          "2024-05-22T18:54:00+02:00",
          "2024-05-22T18:55:00+02:00",
          "2024-05-22T18:56:00+02:00",
          "2024-05-22T18:57:00+02:00",
          "2024-05-22T18:58:00+02:00",
          "2024-05-22T18:59:00+02:00",
          "2024-05-22T19:00:00+02:00",
          "2024-05-22T19:01:00+02:00",
          "2024-05-22T19:02:00+02:00",
          "2024-05-22T19:03:00+02:00",
          "2024-05-22T19:04:00+02:00",
          "2024-05-22T19:05:00+02:00",
          "2024-05-22T19:06:00+02:00",
          "2024-05-22T19:07:00+02:00",
          "2024-05-22T19:08:00+02:00",
          "2024-05-22T19:09:00+02:00",
          "2024-05-22T19:10:00+02:00",
          "2024-05-22T19:11:00+02:00",
          "2024-05-22T19:12:00+02:00",
          "2024-05-22T19:13:00+02:00",
          "2024-05-22T19:14:00+02:00",
          "2024-05-22T19:15:00+02:00",
          "2024-05-22T19:16:00+02:00",
          "2024-05-22T19:17:00+02:00",
          "2024-05-22T19:18:00+02:00"
         ],
         "xaxis": "x",
         "y": [
          0.0166666666666666,
          0.0333333333333333,
          0,
          0.0166666666666666,
          0.0166666666666666,
          0,
          0.0166666666666666,
          0.0333333333333333,
          0.0166666666666666,
          0.0833333333333333,
          0.0666666666666666,
          0.05,
          0.0166666666666666,
          0,
          0.0166666666666666,
          0.0166666666666666,
          0.0166666666666666,
          0.0166666666666666,
          0.0166666666666666,
          0.0166666666666666,
          0.0833333333333333,
          0.05,
          0.0166666666666666,
          0.0166666666666666,
          0.0833333333333333,
          0.05,
          0.05,
          0.0833333333333333,
          0.0333333333333333,
          0.0166666666666666,
          0.0166666666666666,
          0.0999999999999999,
          0.0833333333333333,
          0.0166666666666666,
          0.0166666666666666,
          0.0166666666666666,
          0.0333333333333333,
          0.0166666666666666,
          0.0166666666666666,
          0.0166666666666666,
          0.0166666666666666,
          0.0166666666666666,
          0,
          0.0166666666666666,
          0.0166666666666666,
          0.0166666666666666,
          0.0166666666666666,
          0.0833333333333333,
          0.0666666666666666,
          0,
          0.0166666666666666,
          0.0166666666666666,
          0.0166666666666666,
          0.0833333333333333,
          0.1333333333333333,
          0.05,
          0.0166666666666666,
          0.0166666666666666,
          0.0166666666666666,
          0.0999999999999999,
          0.0666666666666666
         ],
         "yaxis": "y"
        },
        {
         "hovertemplate": "actor=Server (20, CIFAR10)<br>remote_type=%{x}<br>External (or VMs Different Project)=%{y}<extra></extra>",
         "legendgroup": "Server (20, CIFAR10)",
         "line": {
          "color": "#FF6692",
          "dash": "solid"
         },
         "marker": {
          "symbol": "circle"
         },
         "mode": "lines",
         "name": "Server (20, CIFAR10)",
         "orientation": "v",
         "showlegend": true,
         "type": "scatter",
         "x": [
          "2024-05-22T18:20:00+02:00",
          "2024-05-22T18:21:00+02:00",
          "2024-05-22T18:22:00+02:00",
          "2024-05-22T18:23:00+02:00",
          "2024-05-22T18:24:00+02:00",
          "2024-05-22T18:25:00+02:00",
          "2024-05-22T18:26:00+02:00",
          "2024-05-22T18:27:00+02:00",
          "2024-05-22T18:28:00+02:00",
          "2024-05-22T18:29:00+02:00",
          "2024-05-22T18:30:00+02:00",
          "2024-05-22T18:31:00+02:00",
          "2024-05-22T18:32:00+02:00",
          "2024-05-22T18:33:00+02:00",
          "2024-05-22T18:34:00+02:00",
          "2024-05-22T18:35:00+02:00",
          "2024-05-22T18:36:00+02:00",
          "2024-05-22T18:37:00+02:00",
          "2024-05-22T18:38:00+02:00",
          "2024-05-22T18:39:00+02:00",
          "2024-05-22T18:40:00+02:00",
          "2024-05-22T18:41:00+02:00",
          "2024-05-22T18:42:00+02:00",
          "2024-05-22T18:43:00+02:00",
          "2024-05-22T18:44:00+02:00",
          "2024-05-22T18:45:00+02:00",
          "2024-05-22T18:46:00+02:00",
          "2024-05-22T18:47:00+02:00",
          "2024-05-22T18:48:00+02:00",
          "2024-05-22T18:49:00+02:00",
          "2024-05-22T18:50:00+02:00",
          "2024-05-22T18:51:00+02:00",
          "2024-05-22T18:52:00+02:00",
          "2024-05-22T18:53:00+02:00",
          "2024-05-22T18:54:00+02:00",
          "2024-05-22T18:55:00+02:00",
          "2024-05-22T18:56:00+02:00",
          "2024-05-22T18:57:00+02:00",
          "2024-05-22T18:58:00+02:00",
          "2024-05-22T18:59:00+02:00",
          "2024-05-22T19:00:00+02:00",
          "2024-05-22T19:01:00+02:00",
          "2024-05-22T19:02:00+02:00",
          "2024-05-22T19:03:00+02:00",
          "2024-05-22T19:04:00+02:00",
          "2024-05-22T19:05:00+02:00",
          "2024-05-22T19:06:00+02:00",
          "2024-05-22T19:07:00+02:00",
          "2024-05-22T19:08:00+02:00",
          "2024-05-22T19:09:00+02:00",
          "2024-05-22T19:10:00+02:00",
          "2024-05-22T19:11:00+02:00",
          "2024-05-22T19:12:00+02:00",
          "2024-05-22T19:13:00+02:00",
          "2024-05-22T19:14:00+02:00",
          "2024-05-22T19:15:00+02:00",
          "2024-05-22T19:16:00+02:00",
          "2024-05-22T19:17:00+02:00",
          "2024-05-22T19:18:00+02:00",
          "2024-05-22T19:19:00+02:00"
         ],
         "xaxis": "x",
         "y": [
          0,
          0.0166666666666666,
          0.0166666666666666,
          0,
          0.0166666666666666,
          0.0333333333333333,
          0.0166666666666666,
          0.0833333333333333,
          0.0666666666666666,
          0.05,
          0.0166666666666666,
          0,
          0.0166666666666666,
          0.0166666666666666,
          0.0166666666666666,
          0.0166666666666666,
          0.0166666666666666,
          0.0166666666666666,
          0.0833333333333333,
          0.05,
          0.0166666666666666,
          0.0166666666666666,
          0.0833333333333333,
          0.05,
          0.05,
          0.0833333333333333,
          0.0333333333333333,
          0.0166666666666666,
          0.0166666666666666,
          0.0999999999999999,
          0.0833333333333333,
          0.0166666666666666,
          0.0166666666666666,
          0.0166666666666666,
          0.0333333333333333,
          0.0166666666666666,
          0.0166666666666666,
          0.0166666666666666,
          0.0166666666666666,
          0.0166666666666666,
          0,
          0.0166666666666666,
          0.0166666666666666,
          0.0166666666666666,
          0.0166666666666666,
          0.0833333333333333,
          0.0666666666666666,
          0,
          0.0166666666666666,
          0.0166666666666666,
          0.0166666666666666,
          0.0833333333333333,
          0.1333333333333333,
          0.05,
          0.0166666666666666,
          0.0166666666666666,
          0.0166666666666666,
          0.0999999999999999,
          0.0666666666666666,
          0.1333333333333333
         ],
         "yaxis": "y"
        }
       ],
       "layout": {
        "height": 600,
        "legend": {
         "title": {
          "text": "actor"
         },
         "tracegroupgap": 0
        },
        "template": {
         "data": {
          "bar": [
           {
            "error_x": {
             "color": "#2a3f5f"
            },
            "error_y": {
             "color": "#2a3f5f"
            },
            "marker": {
             "line": {
              "color": "white",
              "width": 0.5
             },
             "pattern": {
              "fillmode": "overlay",
              "size": 10,
              "solidity": 0.2
             }
            },
            "type": "bar"
           }
          ],
          "barpolar": [
           {
            "marker": {
             "line": {
              "color": "white",
              "width": 0.5
             },
             "pattern": {
              "fillmode": "overlay",
              "size": 10,
              "solidity": 0.2
             }
            },
            "type": "barpolar"
           }
          ],
          "carpet": [
           {
            "aaxis": {
             "endlinecolor": "#2a3f5f",
             "gridcolor": "#C8D4E3",
             "linecolor": "#C8D4E3",
             "minorgridcolor": "#C8D4E3",
             "startlinecolor": "#2a3f5f"
            },
            "baxis": {
             "endlinecolor": "#2a3f5f",
             "gridcolor": "#C8D4E3",
             "linecolor": "#C8D4E3",
             "minorgridcolor": "#C8D4E3",
             "startlinecolor": "#2a3f5f"
            },
            "type": "carpet"
           }
          ],
          "choropleth": [
           {
            "colorbar": {
             "outlinewidth": 0,
             "ticks": ""
            },
            "type": "choropleth"
           }
          ],
          "contour": [
           {
            "colorbar": {
             "outlinewidth": 0,
             "ticks": ""
            },
            "colorscale": [
             [
              0,
              "#0d0887"
             ],
             [
              0.1111111111111111,
              "#46039f"
             ],
             [
              0.2222222222222222,
              "#7201a8"
             ],
             [
              0.3333333333333333,
              "#9c179e"
             ],
             [
              0.4444444444444444,
              "#bd3786"
             ],
             [
              0.5555555555555556,
              "#d8576b"
             ],
             [
              0.6666666666666666,
              "#ed7953"
             ],
             [
              0.7777777777777778,
              "#fb9f3a"
             ],
             [
              0.8888888888888888,
              "#fdca26"
             ],
             [
              1,
              "#f0f921"
             ]
            ],
            "type": "contour"
           }
          ],
          "contourcarpet": [
           {
            "colorbar": {
             "outlinewidth": 0,
             "ticks": ""
            },
            "type": "contourcarpet"
           }
          ],
          "heatmap": [
           {
            "colorbar": {
             "outlinewidth": 0,
             "ticks": ""
            },
            "colorscale": [
             [
              0,
              "#0d0887"
             ],
             [
              0.1111111111111111,
              "#46039f"
             ],
             [
              0.2222222222222222,
              "#7201a8"
             ],
             [
              0.3333333333333333,
              "#9c179e"
             ],
             [
              0.4444444444444444,
              "#bd3786"
             ],
             [
              0.5555555555555556,
              "#d8576b"
             ],
             [
              0.6666666666666666,
              "#ed7953"
             ],
             [
              0.7777777777777778,
              "#fb9f3a"
             ],
             [
              0.8888888888888888,
              "#fdca26"
             ],
             [
              1,
              "#f0f921"
             ]
            ],
            "type": "heatmap"
           }
          ],
          "heatmapgl": [
           {
            "colorbar": {
             "outlinewidth": 0,
             "ticks": ""
            },
            "colorscale": [
             [
              0,
              "#0d0887"
             ],
             [
              0.1111111111111111,
              "#46039f"
             ],
             [
              0.2222222222222222,
              "#7201a8"
             ],
             [
              0.3333333333333333,
              "#9c179e"
             ],
             [
              0.4444444444444444,
              "#bd3786"
             ],
             [
              0.5555555555555556,
              "#d8576b"
             ],
             [
              0.6666666666666666,
              "#ed7953"
             ],
             [
              0.7777777777777778,
              "#fb9f3a"
             ],
             [
              0.8888888888888888,
              "#fdca26"
             ],
             [
              1,
              "#f0f921"
             ]
            ],
            "type": "heatmapgl"
           }
          ],
          "histogram": [
           {
            "marker": {
             "pattern": {
              "fillmode": "overlay",
              "size": 10,
              "solidity": 0.2
             }
            },
            "type": "histogram"
           }
          ],
          "histogram2d": [
           {
            "colorbar": {
             "outlinewidth": 0,
             "ticks": ""
            },
            "colorscale": [
             [
              0,
              "#0d0887"
             ],
             [
              0.1111111111111111,
              "#46039f"
             ],
             [
              0.2222222222222222,
              "#7201a8"
             ],
             [
              0.3333333333333333,
              "#9c179e"
             ],
             [
              0.4444444444444444,
              "#bd3786"
             ],
             [
              0.5555555555555556,
              "#d8576b"
             ],
             [
              0.6666666666666666,
              "#ed7953"
             ],
             [
              0.7777777777777778,
              "#fb9f3a"
             ],
             [
              0.8888888888888888,
              "#fdca26"
             ],
             [
              1,
              "#f0f921"
             ]
            ],
            "type": "histogram2d"
           }
          ],
          "histogram2dcontour": [
           {
            "colorbar": {
             "outlinewidth": 0,
             "ticks": ""
            },
            "colorscale": [
             [
              0,
              "#0d0887"
             ],
             [
              0.1111111111111111,
              "#46039f"
             ],
             [
              0.2222222222222222,
              "#7201a8"
             ],
             [
              0.3333333333333333,
              "#9c179e"
             ],
             [
              0.4444444444444444,
              "#bd3786"
             ],
             [
              0.5555555555555556,
              "#d8576b"
             ],
             [
              0.6666666666666666,
              "#ed7953"
             ],
             [
              0.7777777777777778,
              "#fb9f3a"
             ],
             [
              0.8888888888888888,
              "#fdca26"
             ],
             [
              1,
              "#f0f921"
             ]
            ],
            "type": "histogram2dcontour"
           }
          ],
          "mesh3d": [
           {
            "colorbar": {
             "outlinewidth": 0,
             "ticks": ""
            },
            "type": "mesh3d"
           }
          ],
          "parcoords": [
           {
            "line": {
             "colorbar": {
              "outlinewidth": 0,
              "ticks": ""
             }
            },
            "type": "parcoords"
           }
          ],
          "pie": [
           {
            "automargin": true,
            "type": "pie"
           }
          ],
          "scatter": [
           {
            "fillpattern": {
             "fillmode": "overlay",
             "size": 10,
             "solidity": 0.2
            },
            "type": "scatter"
           }
          ],
          "scatter3d": [
           {
            "line": {
             "colorbar": {
              "outlinewidth": 0,
              "ticks": ""
             }
            },
            "marker": {
             "colorbar": {
              "outlinewidth": 0,
              "ticks": ""
             }
            },
            "type": "scatter3d"
           }
          ],
          "scattercarpet": [
           {
            "marker": {
             "colorbar": {
              "outlinewidth": 0,
              "ticks": ""
             }
            },
            "type": "scattercarpet"
           }
          ],
          "scattergeo": [
           {
            "marker": {
             "colorbar": {
              "outlinewidth": 0,
              "ticks": ""
             }
            },
            "type": "scattergeo"
           }
          ],
          "scattergl": [
           {
            "marker": {
             "colorbar": {
              "outlinewidth": 0,
              "ticks": ""
             }
            },
            "type": "scattergl"
           }
          ],
          "scattermapbox": [
           {
            "marker": {
             "colorbar": {
              "outlinewidth": 0,
              "ticks": ""
             }
            },
            "type": "scattermapbox"
           }
          ],
          "scatterpolar": [
           {
            "marker": {
             "colorbar": {
              "outlinewidth": 0,
              "ticks": ""
             }
            },
            "type": "scatterpolar"
           }
          ],
          "scatterpolargl": [
           {
            "marker": {
             "colorbar": {
              "outlinewidth": 0,
              "ticks": ""
             }
            },
            "type": "scatterpolargl"
           }
          ],
          "scatterternary": [
           {
            "marker": {
             "colorbar": {
              "outlinewidth": 0,
              "ticks": ""
             }
            },
            "type": "scatterternary"
           }
          ],
          "surface": [
           {
            "colorbar": {
             "outlinewidth": 0,
             "ticks": ""
            },
            "colorscale": [
             [
              0,
              "#0d0887"
             ],
             [
              0.1111111111111111,
              "#46039f"
             ],
             [
              0.2222222222222222,
              "#7201a8"
             ],
             [
              0.3333333333333333,
              "#9c179e"
             ],
             [
              0.4444444444444444,
              "#bd3786"
             ],
             [
              0.5555555555555556,
              "#d8576b"
             ],
             [
              0.6666666666666666,
              "#ed7953"
             ],
             [
              0.7777777777777778,
              "#fb9f3a"
             ],
             [
              0.8888888888888888,
              "#fdca26"
             ],
             [
              1,
              "#f0f921"
             ]
            ],
            "type": "surface"
           }
          ],
          "table": [
           {
            "cells": {
             "fill": {
              "color": "#EBF0F8"
             },
             "line": {
              "color": "white"
             }
            },
            "header": {
             "fill": {
              "color": "#C8D4E3"
             },
             "line": {
              "color": "white"
             }
            },
            "type": "table"
           }
          ]
         },
         "layout": {
          "annotationdefaults": {
           "arrowcolor": "#2a3f5f",
           "arrowhead": 0,
           "arrowwidth": 1
          },
          "autotypenumbers": "strict",
          "coloraxis": {
           "colorbar": {
            "outlinewidth": 0,
            "ticks": ""
           }
          },
          "colorscale": {
           "diverging": [
            [
             0,
             "#8e0152"
            ],
            [
             0.1,
             "#c51b7d"
            ],
            [
             0.2,
             "#de77ae"
            ],
            [
             0.3,
             "#f1b6da"
            ],
            [
             0.4,
             "#fde0ef"
            ],
            [
             0.5,
             "#f7f7f7"
            ],
            [
             0.6,
             "#e6f5d0"
            ],
            [
             0.7,
             "#b8e186"
            ],
            [
             0.8,
             "#7fbc41"
            ],
            [
             0.9,
             "#4d9221"
            ],
            [
             1,
             "#276419"
            ]
           ],
           "sequential": [
            [
             0,
             "#0d0887"
            ],
            [
             0.1111111111111111,
             "#46039f"
            ],
            [
             0.2222222222222222,
             "#7201a8"
            ],
            [
             0.3333333333333333,
             "#9c179e"
            ],
            [
             0.4444444444444444,
             "#bd3786"
            ],
            [
             0.5555555555555556,
             "#d8576b"
            ],
            [
             0.6666666666666666,
             "#ed7953"
            ],
            [
             0.7777777777777778,
             "#fb9f3a"
            ],
            [
             0.8888888888888888,
             "#fdca26"
            ],
            [
             1,
             "#f0f921"
            ]
           ],
           "sequentialminus": [
            [
             0,
             "#0d0887"
            ],
            [
             0.1111111111111111,
             "#46039f"
            ],
            [
             0.2222222222222222,
             "#7201a8"
            ],
            [
             0.3333333333333333,
             "#9c179e"
            ],
            [
             0.4444444444444444,
             "#bd3786"
            ],
            [
             0.5555555555555556,
             "#d8576b"
            ],
            [
             0.6666666666666666,
             "#ed7953"
            ],
            [
             0.7777777777777778,
             "#fb9f3a"
            ],
            [
             0.8888888888888888,
             "#fdca26"
            ],
            [
             1,
             "#f0f921"
            ]
           ]
          },
          "colorway": [
           "#636efa",
           "#EF553B",
           "#00cc96",
           "#ab63fa",
           "#FFA15A",
           "#19d3f3",
           "#FF6692",
           "#B6E880",
           "#FF97FF",
           "#FECB52"
          ],
          "font": {
           "color": "#2a3f5f"
          },
          "geo": {
           "bgcolor": "white",
           "lakecolor": "white",
           "landcolor": "white",
           "showlakes": true,
           "showland": true,
           "subunitcolor": "#C8D4E3"
          },
          "hoverlabel": {
           "align": "left"
          },
          "hovermode": "closest",
          "mapbox": {
           "style": "light"
          },
          "paper_bgcolor": "white",
          "plot_bgcolor": "white",
          "polar": {
           "angularaxis": {
            "gridcolor": "#EBF0F8",
            "linecolor": "#EBF0F8",
            "ticks": ""
           },
           "bgcolor": "white",
           "radialaxis": {
            "gridcolor": "#EBF0F8",
            "linecolor": "#EBF0F8",
            "ticks": ""
           }
          },
          "scene": {
           "xaxis": {
            "backgroundcolor": "white",
            "gridcolor": "#DFE8F3",
            "gridwidth": 2,
            "linecolor": "#EBF0F8",
            "showbackground": true,
            "ticks": "",
            "zerolinecolor": "#EBF0F8"
           },
           "yaxis": {
            "backgroundcolor": "white",
            "gridcolor": "#DFE8F3",
            "gridwidth": 2,
            "linecolor": "#EBF0F8",
            "showbackground": true,
            "ticks": "",
            "zerolinecolor": "#EBF0F8"
           },
           "zaxis": {
            "backgroundcolor": "white",
            "gridcolor": "#DFE8F3",
            "gridwidth": 2,
            "linecolor": "#EBF0F8",
            "showbackground": true,
            "ticks": "",
            "zerolinecolor": "#EBF0F8"
           }
          },
          "shapedefaults": {
           "line": {
            "color": "#2a3f5f"
           }
          },
          "ternary": {
           "aaxis": {
            "gridcolor": "#DFE8F3",
            "linecolor": "#A2B1C6",
            "ticks": ""
           },
           "baxis": {
            "gridcolor": "#DFE8F3",
            "linecolor": "#A2B1C6",
            "ticks": ""
           },
           "bgcolor": "white",
           "caxis": {
            "gridcolor": "#DFE8F3",
            "linecolor": "#A2B1C6",
            "ticks": ""
           }
          },
          "title": {
           "x": 0.05
          },
          "xaxis": {
           "automargin": true,
           "gridcolor": "#EBF0F8",
           "linecolor": "#EBF0F8",
           "ticks": "",
           "title": {
            "standoff": 15
           },
           "zerolinecolor": "#EBF0F8",
           "zerolinewidth": 2
          },
          "yaxis": {
           "automargin": true,
           "gridcolor": "#EBF0F8",
           "linecolor": "#EBF0F8",
           "ticks": "",
           "title": {
            "standoff": 15
           },
           "zerolinecolor": "#EBF0F8",
           "zerolinewidth": 2
          }
         }
        },
        "title": {
         "text": "Net usage"
        },
        "width": 1200,
        "xaxis": {
         "anchor": "y",
         "domain": [
          0,
          1
         ],
         "title": {
          "text": "remote_type"
         }
        },
        "yaxis": {
         "anchor": "x",
         "domain": [
          0,
          1
         ],
         "title": {
          "text": "External (or VMs Different Project)"
         }
        }
       }
      }
     },
     "metadata": {},
     "output_type": "display_data"
    },
    {
     "data": {
      "application/vnd.plotly.v1+json": {
       "config": {
        "plotlyServerURL": "https://plot.ly"
       },
       "data": [
        {
         "hovertemplate": "actor=Server (10, CIFAR10)<br>remote_type=%{x}<br>VMs Different Region (outside europe-central2)=%{y}<extra></extra>",
         "legendgroup": "Server (10, CIFAR10)",
         "line": {
          "color": "#636efa",
          "dash": "solid"
         },
         "marker": {
          "symbol": "circle"
         },
         "mode": "lines",
         "name": "Server (10, CIFAR10)",
         "orientation": "v",
         "showlegend": true,
         "type": "scatter",
         "x": [
          "2024-05-22T15:41:00+02:00",
          "2024-05-22T15:42:00+02:00",
          "2024-05-22T15:43:00+02:00",
          "2024-05-22T15:44:00+02:00",
          "2024-05-22T15:45:00+02:00",
          "2024-05-22T15:46:00+02:00",
          "2024-05-22T15:47:00+02:00",
          "2024-05-22T15:48:00+02:00",
          "2024-05-22T15:49:00+02:00",
          "2024-05-22T15:50:00+02:00",
          "2024-05-22T15:51:00+02:00",
          "2024-05-22T15:52:00+02:00",
          "2024-05-22T15:53:00+02:00",
          "2024-05-22T15:54:00+02:00",
          "2024-05-22T15:55:00+02:00",
          "2024-05-22T15:56:00+02:00",
          "2024-05-22T15:57:00+02:00",
          "2024-05-22T15:58:00+02:00",
          "2024-05-22T15:59:00+02:00",
          "2024-05-22T16:00:00+02:00",
          "2024-05-22T16:01:00+02:00",
          "2024-05-22T16:02:00+02:00",
          "2024-05-22T16:03:00+02:00",
          "2024-05-22T16:04:00+02:00",
          "2024-05-22T16:05:00+02:00",
          "2024-05-22T16:06:00+02:00",
          "2024-05-22T16:07:00+02:00",
          "2024-05-22T16:08:00+02:00",
          "2024-05-22T16:09:00+02:00",
          "2024-05-22T16:10:00+02:00",
          "2024-05-22T16:11:00+02:00",
          "2024-05-22T16:12:00+02:00",
          "2024-05-22T16:13:00+02:00",
          "2024-05-22T16:14:00+02:00",
          "2024-05-22T16:15:00+02:00",
          "2024-05-22T16:16:00+02:00",
          "2024-05-22T16:17:00+02:00",
          "2024-05-22T16:18:00+02:00",
          "2024-05-22T16:19:00+02:00",
          "2024-05-22T16:20:00+02:00",
          "2024-05-22T16:21:00+02:00",
          "2024-05-22T16:22:00+02:00",
          "2024-05-22T16:23:00+02:00",
          "2024-05-22T16:24:00+02:00",
          "2024-05-22T16:25:00+02:00",
          "2024-05-22T16:26:00+02:00",
          "2024-05-22T16:27:00+02:00",
          "2024-05-22T16:28:00+02:00",
          "2024-05-22T16:29:00+02:00",
          "2024-05-22T16:30:00+02:00",
          "2024-05-22T16:31:00+02:00",
          "2024-05-22T16:32:00+02:00",
          "2024-05-22T16:33:00+02:00",
          "2024-05-22T16:34:00+02:00",
          "2024-05-22T16:35:00+02:00",
          "2024-05-22T16:36:00+02:00",
          "2024-05-22T16:37:00+02:00",
          "2024-05-22T16:38:00+02:00",
          "2024-05-22T16:39:00+02:00",
          "2024-05-22T16:40:00+02:00"
         ],
         "xaxis": "x",
         "y": [
          0,
          0,
          0.0666666666666666,
          2.55,
          1.5833333333333333,
          0.1666666666666666,
          0.1666666666666666,
          0.1666666666666666,
          0.1666666666666666,
          0.1666666666666666,
          0.1666666666666666,
          0.1666666666666666,
          0.1666666666666666,
          0.1666666666666666,
          0.1666666666666666,
          0.1666666666666666,
          0.1666666666666666,
          0.1666666666666666,
          0.1666666666666666,
          0.15,
          0.15,
          0.1666666666666666,
          0.0833333333333333,
          0.1166666666666666,
          0.1666666666666666,
          0.1666666666666666,
          0.1666666666666666,
          0.1666666666666666,
          0.1666666666666666,
          0.1666666666666666,
          0.25,
          0.2166666666666666,
          0.1666666666666666,
          0.1666666666666666,
          0.1666666666666666,
          0.1666666666666666,
          0.1666666666666666,
          0.1666666666666666,
          0.1,
          0.1166666666666666,
          0.1666666666666666,
          0.1666666666666666,
          0.15,
          0.15,
          0.15,
          0.1666666666666666,
          0.1666666666666666,
          0.1666666666666666,
          0.1666666666666666,
          0.1666666666666666,
          0.1666666666666666,
          0.1666666666666666,
          0.1666666666666666,
          0.1666666666666666,
          0.1666666666666666,
          0.1666666666666666,
          0.1666666666666666,
          0.5666666666666667,
          0.3166666666666666,
          0.0166666666666666
         ],
         "yaxis": "y"
        },
        {
         "hovertemplate": "actor=Worker (5, CIFAR10)<br>remote_type=%{x}<br>VMs Different Region (outside europe-central2)=%{y}<extra></extra>",
         "legendgroup": "Worker (5, CIFAR10)",
         "line": {
          "color": "#EF553B",
          "dash": "solid"
         },
         "marker": {
          "symbol": "circle"
         },
         "mode": "lines",
         "name": "Worker (5, CIFAR10)",
         "orientation": "v",
         "showlegend": true,
         "type": "scatter",
         "x": [
          "2024-05-22T13:20:00+02:00",
          "2024-05-22T13:21:00+02:00",
          "2024-05-22T13:22:00+02:00",
          "2024-05-22T13:23:00+02:00",
          "2024-05-22T13:24:00+02:00",
          "2024-05-22T13:25:00+02:00",
          "2024-05-22T13:26:00+02:00",
          "2024-05-22T13:27:00+02:00",
          "2024-05-22T13:28:00+02:00",
          "2024-05-22T13:29:00+02:00",
          "2024-05-22T13:30:00+02:00",
          "2024-05-22T13:31:00+02:00",
          "2024-05-22T13:32:00+02:00",
          "2024-05-22T13:33:00+02:00",
          "2024-05-22T13:34:00+02:00",
          "2024-05-22T13:35:00+02:00",
          "2024-05-22T13:36:00+02:00",
          "2024-05-22T13:37:00+02:00",
          "2024-05-22T13:38:00+02:00",
          "2024-05-22T13:39:00+02:00",
          "2024-05-22T13:40:00+02:00",
          "2024-05-22T13:41:00+02:00",
          "2024-05-22T13:42:00+02:00",
          "2024-05-22T13:43:00+02:00",
          "2024-05-22T13:44:00+02:00",
          "2024-05-22T13:45:00+02:00",
          "2024-05-22T13:46:00+02:00",
          "2024-05-22T13:47:00+02:00",
          "2024-05-22T13:48:00+02:00",
          "2024-05-22T13:49:00+02:00",
          "2024-05-22T13:50:00+02:00",
          "2024-05-22T13:51:00+02:00",
          "2024-05-22T13:52:00+02:00",
          "2024-05-22T13:53:00+02:00",
          "2024-05-22T13:54:00+02:00",
          "2024-05-22T13:55:00+02:00",
          "2024-05-22T13:56:00+02:00",
          "2024-05-22T13:57:00+02:00",
          "2024-05-22T13:58:00+02:00",
          "2024-05-22T13:59:00+02:00",
          "2024-05-22T14:00:00+02:00",
          "2024-05-22T14:01:00+02:00",
          "2024-05-22T14:02:00+02:00",
          "2024-05-22T14:03:00+02:00",
          "2024-05-22T14:04:00+02:00",
          "2024-05-22T14:05:00+02:00",
          "2024-05-22T14:06:00+02:00",
          "2024-05-22T14:07:00+02:00",
          "2024-05-22T14:08:00+02:00",
          "2024-05-22T14:09:00+02:00",
          "2024-05-22T14:10:00+02:00",
          "2024-05-22T14:11:00+02:00",
          "2024-05-22T14:12:00+02:00",
          "2024-05-22T14:13:00+02:00",
          "2024-05-22T14:14:00+02:00",
          "2024-05-22T14:15:00+02:00",
          "2024-05-22T14:16:00+02:00",
          "2024-05-22T14:17:00+02:00",
          "2024-05-22T14:18:00+02:00",
          "2024-05-22T14:19:00+02:00",
          "2024-05-22T14:20:00+02:00",
          "2024-05-22T14:21:00+02:00",
          "2024-05-22T14:22:00+02:00",
          "2024-05-22T14:23:00+02:00",
          "2024-05-22T14:24:00+02:00",
          "2024-05-22T14:25:00+02:00",
          "2024-05-22T14:26:00+02:00",
          "2024-05-22T14:27:00+02:00",
          "2024-05-22T14:28:00+02:00",
          "2024-05-22T14:29:00+02:00",
          "2024-05-22T14:30:00+02:00",
          "2024-05-22T14:31:00+02:00",
          "2024-05-22T14:32:00+02:00",
          "2024-05-22T14:33:00+02:00",
          "2024-05-22T14:34:00+02:00",
          "2024-05-22T14:35:00+02:00",
          "2024-05-22T14:36:00+02:00",
          "2024-05-22T14:37:00+02:00",
          "2024-05-22T14:38:00+02:00",
          "2024-05-22T14:39:00+02:00",
          "2024-05-22T14:40:00+02:00",
          "2024-05-22T14:41:00+02:00",
          "2024-05-22T14:42:00+02:00",
          "2024-05-22T14:43:00+02:00",
          "2024-05-22T14:44:00+02:00",
          "2024-05-22T14:45:00+02:00",
          "2024-05-22T14:46:00+02:00",
          "2024-05-22T14:47:00+02:00",
          "2024-05-22T14:48:00+02:00",
          "2024-05-22T14:49:00+02:00",
          "2024-05-22T14:50:00+02:00",
          "2024-05-22T14:51:00+02:00",
          "2024-05-22T14:52:00+02:00",
          "2024-05-22T14:53:00+02:00",
          "2024-05-22T14:54:00+02:00",
          "2024-05-22T14:55:00+02:00",
          "2024-05-22T14:56:00+02:00",
          "2024-05-22T14:57:00+02:00",
          "2024-05-22T14:58:00+02:00",
          "2024-05-22T14:59:00+02:00",
          "2024-05-22T15:00:00+02:00",
          "2024-05-22T15:01:00+02:00",
          "2024-05-22T15:02:00+02:00",
          "2024-05-22T15:03:00+02:00",
          "2024-05-22T15:04:00+02:00",
          "2024-05-22T15:05:00+02:00",
          "2024-05-22T15:06:00+02:00",
          "2024-05-22T15:07:00+02:00",
          "2024-05-22T15:08:00+02:00",
          "2024-05-22T15:09:00+02:00",
          "2024-05-22T15:10:00+02:00",
          "2024-05-22T15:11:00+02:00",
          "2024-05-22T15:12:00+02:00",
          "2024-05-22T15:13:00+02:00",
          "2024-05-22T15:14:00+02:00",
          "2024-05-22T15:15:00+02:00",
          "2024-05-22T15:16:00+02:00",
          "2024-05-22T15:17:00+02:00",
          "2024-05-22T15:18:00+02:00",
          "2024-05-22T15:19:00+02:00",
          "2024-05-22T15:20:00+02:00",
          "2024-05-22T15:21:00+02:00",
          "2024-05-22T15:22:00+02:00",
          "2024-05-22T15:23:00+02:00",
          "2024-05-22T15:24:00+02:00",
          "2024-05-22T15:25:00+02:00",
          "2024-05-22T15:26:00+02:00",
          "2024-05-22T15:27:00+02:00",
          "2024-05-22T15:28:00+02:00",
          "2024-05-22T15:29:00+02:00",
          "2024-05-22T15:30:00+02:00",
          "2024-05-22T15:31:00+02:00",
          "2024-05-22T15:32:00+02:00",
          "2024-05-22T15:33:00+02:00",
          "2024-05-22T15:34:00+02:00",
          "2024-05-22T15:35:00+02:00",
          "2024-05-22T15:36:00+02:00",
          "2024-05-22T15:37:00+02:00",
          "2024-05-22T15:38:00+02:00",
          "2024-05-22T15:39:00+02:00",
          "2024-05-22T15:40:00+02:00",
          "2024-05-22T15:41:00+02:00",
          "2024-05-22T15:42:00+02:00",
          "2024-05-22T15:43:00+02:00",
          "2024-05-22T15:44:00+02:00",
          "2024-05-22T15:45:00+02:00",
          "2024-05-22T15:46:00+02:00"
         ],
         "xaxis": "x",
         "y": [
          null,
          null,
          null,
          null,
          null,
          null,
          null,
          null,
          null,
          null,
          null,
          null,
          null,
          null,
          null,
          null,
          null,
          null,
          null,
          null,
          null,
          null,
          null,
          null,
          null,
          null,
          null,
          null,
          null,
          null,
          null,
          null,
          null,
          null,
          null,
          null,
          null,
          null,
          null,
          null,
          null,
          null,
          null,
          null,
          null,
          null,
          null,
          null,
          null,
          null,
          null,
          null,
          null,
          null,
          null,
          null,
          null,
          null,
          null,
          null,
          null,
          null,
          null,
          null,
          null,
          null,
          null,
          null,
          null,
          null,
          null,
          null,
          null,
          null,
          null,
          null,
          null,
          null,
          null,
          null,
          null,
          null,
          null,
          null,
          null,
          null,
          null,
          null,
          null,
          null,
          null,
          null,
          null,
          null,
          null,
          null,
          null,
          null,
          null,
          null,
          null,
          null,
          null,
          null,
          null,
          null,
          null,
          null,
          null,
          null,
          null,
          null,
          null,
          null,
          null,
          null,
          null,
          null,
          null,
          null,
          null,
          null,
          null,
          null,
          null,
          null,
          null,
          null,
          null,
          null,
          null,
          null,
          null,
          null,
          null,
          null,
          null,
          null,
          null,
          null,
          null,
          null,
          null,
          null,
          null,
          null,
          null
         ],
         "yaxis": "y"
        },
        {
         "hovertemplate": "actor=Server (5, CIFAR10)<br>remote_type=%{x}<br>VMs Different Region (outside europe-central2)=%{y}<extra></extra>",
         "legendgroup": "Server (5, CIFAR10)",
         "line": {
          "color": "#00cc96",
          "dash": "solid"
         },
         "marker": {
          "symbol": "circle"
         },
         "mode": "lines",
         "name": "Server (5, CIFAR10)",
         "orientation": "v",
         "showlegend": true,
         "type": "scatter",
         "x": [
          "2024-05-22T13:45:00+02:00",
          "2024-05-22T13:46:00+02:00",
          "2024-05-22T13:47:00+02:00",
          "2024-05-22T13:48:00+02:00",
          "2024-05-22T13:49:00+02:00",
          "2024-05-22T13:50:00+02:00",
          "2024-05-22T13:51:00+02:00",
          "2024-05-22T13:52:00+02:00",
          "2024-05-22T13:53:00+02:00",
          "2024-05-22T13:54:00+02:00",
          "2024-05-22T13:55:00+02:00",
          "2024-05-22T13:56:00+02:00",
          "2024-05-22T13:57:00+02:00",
          "2024-05-22T13:58:00+02:00",
          "2024-05-22T13:59:00+02:00",
          "2024-05-22T14:00:00+02:00",
          "2024-05-22T14:01:00+02:00",
          "2024-05-22T14:02:00+02:00",
          "2024-05-22T14:03:00+02:00",
          "2024-05-22T14:04:00+02:00",
          "2024-05-22T14:05:00+02:00",
          "2024-05-22T14:06:00+02:00",
          "2024-05-22T14:07:00+02:00",
          "2024-05-22T14:08:00+02:00",
          "2024-05-22T14:09:00+02:00",
          "2024-05-22T14:10:00+02:00",
          "2024-05-22T14:11:00+02:00",
          "2024-05-22T14:12:00+02:00",
          "2024-05-22T14:13:00+02:00",
          "2024-05-22T14:14:00+02:00",
          "2024-05-22T14:15:00+02:00",
          "2024-05-22T14:16:00+02:00",
          "2024-05-22T14:17:00+02:00",
          "2024-05-22T14:18:00+02:00",
          "2024-05-22T14:19:00+02:00",
          "2024-05-22T14:20:00+02:00",
          "2024-05-22T14:21:00+02:00",
          "2024-05-22T14:22:00+02:00",
          "2024-05-22T14:23:00+02:00",
          "2024-05-22T14:24:00+02:00",
          "2024-05-22T14:25:00+02:00",
          "2024-05-22T14:26:00+02:00",
          "2024-05-22T14:27:00+02:00",
          "2024-05-22T14:28:00+02:00",
          "2024-05-22T14:29:00+02:00",
          "2024-05-22T14:30:00+02:00",
          "2024-05-22T14:31:00+02:00",
          "2024-05-22T14:32:00+02:00",
          "2024-05-22T14:33:00+02:00",
          "2024-05-22T14:34:00+02:00",
          "2024-05-22T14:35:00+02:00",
          "2024-05-22T14:36:00+02:00",
          "2024-05-22T14:37:00+02:00",
          "2024-05-22T14:38:00+02:00",
          "2024-05-22T14:39:00+02:00",
          "2024-05-22T14:40:00+02:00",
          "2024-05-22T14:41:00+02:00",
          "2024-05-22T14:42:00+02:00",
          "2024-05-22T14:43:00+02:00",
          "2024-05-22T14:44:00+02:00",
          "2024-05-22T14:45:00+02:00",
          "2024-05-22T14:46:00+02:00",
          "2024-05-22T14:47:00+02:00",
          "2024-05-22T14:48:00+02:00",
          "2024-05-22T14:49:00+02:00",
          "2024-05-22T14:50:00+02:00",
          "2024-05-22T14:51:00+02:00",
          "2024-05-22T14:52:00+02:00",
          "2024-05-22T14:53:00+02:00",
          "2024-05-22T14:54:00+02:00",
          "2024-05-22T14:55:00+02:00",
          "2024-05-22T14:56:00+02:00",
          "2024-05-22T14:57:00+02:00",
          "2024-05-22T14:58:00+02:00",
          "2024-05-22T14:59:00+02:00",
          "2024-05-22T15:00:00+02:00",
          "2024-05-22T15:01:00+02:00",
          "2024-05-22T15:02:00+02:00",
          "2024-05-22T15:03:00+02:00",
          "2024-05-22T15:04:00+02:00",
          "2024-05-22T15:05:00+02:00",
          "2024-05-22T15:06:00+02:00",
          "2024-05-22T15:07:00+02:00",
          "2024-05-22T15:08:00+02:00",
          "2024-05-22T15:09:00+02:00",
          "2024-05-22T15:10:00+02:00",
          "2024-05-22T15:11:00+02:00",
          "2024-05-22T15:12:00+02:00",
          "2024-05-22T15:13:00+02:00",
          "2024-05-22T15:14:00+02:00",
          "2024-05-22T15:15:00+02:00",
          "2024-05-22T15:16:00+02:00",
          "2024-05-22T15:17:00+02:00",
          "2024-05-22T15:18:00+02:00",
          "2024-05-22T15:19:00+02:00",
          "2024-05-22T15:20:00+02:00",
          "2024-05-22T15:21:00+02:00"
         ],
         "xaxis": "x",
         "y": [
          0,
          0,
          0,
          0,
          0,
          0,
          0,
          0,
          0,
          0,
          0,
          0.6833333333333333,
          0.6333333333333333,
          0.0833333333333333,
          0.0833333333333333,
          0.0833333333333333,
          0.0833333333333333,
          0.0833333333333333,
          0.0833333333333333,
          0.0833333333333333,
          0.0666666666666666,
          0.0666666666666666,
          0.0833333333333333,
          0.05,
          0.1,
          0.1,
          0.0833333333333333,
          0.0833333333333333,
          0.0833333333333333,
          0.0833333333333333,
          0.0833333333333333,
          0.0833333333333333,
          0.0833333333333333,
          0.0833333333333333,
          0.0833333333333333,
          0.0833333333333333,
          0.0833333333333333,
          0.1,
          0.0833333333333333,
          0.0833333333333333,
          0.05,
          0.0666666666666666,
          0.0833333333333333,
          0.0833333333333333,
          0.0833333333333333,
          0.0833333333333333,
          0.0833333333333333,
          0.0833333333333333,
          0.0833333333333333,
          0.0833333333333333,
          0.1166666666666666,
          0.1,
          0.0833333333333333,
          0.0666666666666666,
          0.0666666666666666,
          0.0833333333333333,
          0.0833333333333333,
          0.05,
          0.0666666666666666,
          0.0833333333333333,
          0.0833333333333333,
          0.0833333333333333,
          0.0833333333333333,
          0.1166666666666666,
          0.1,
          0.0833333333333333,
          0.0833333333333333,
          0.0833333333333333,
          0.0833333333333333,
          0.0833333333333333,
          0.0666666666666666,
          0.0666666666666666,
          0.0833333333333333,
          0.0833333333333333,
          0.0833333333333333,
          0.0833333333333333,
          0.0833333333333333,
          0.1166666666666666,
          0.0666666666666666,
          0.0666666666666666,
          0.0833333333333333,
          0.0833333333333333,
          0.0833333333333333,
          0.0833333333333333,
          0.0833333333333333,
          0.0833333333333333,
          0.0833333333333333,
          0.0833333333333333,
          0.0666666666666666,
          0.65,
          0.4,
          0,
          0,
          0,
          0,
          0,
          0
         ],
         "yaxis": "y"
        },
        {
         "hovertemplate": "actor=Worker (10, CIFAR10)<br>remote_type=%{x}<br>VMs Different Region (outside europe-central2)=%{y}<extra></extra>",
         "legendgroup": "Worker (10, CIFAR10)",
         "line": {
          "color": "#ab63fa",
          "dash": "solid"
         },
         "marker": {
          "symbol": "circle"
         },
         "mode": "lines",
         "name": "Worker (10, CIFAR10)",
         "orientation": "v",
         "showlegend": true,
         "type": "scatter",
         "x": [
          "2024-05-22T15:42:00+02:00",
          "2024-05-22T15:43:00+02:00",
          "2024-05-22T15:44:00+02:00",
          "2024-05-22T15:45:00+02:00",
          "2024-05-22T15:46:00+02:00",
          "2024-05-22T15:47:00+02:00",
          "2024-05-22T15:48:00+02:00",
          "2024-05-22T15:49:00+02:00",
          "2024-05-22T15:50:00+02:00",
          "2024-05-22T15:51:00+02:00",
          "2024-05-22T15:52:00+02:00",
          "2024-05-22T15:53:00+02:00",
          "2024-05-22T15:54:00+02:00",
          "2024-05-22T15:55:00+02:00",
          "2024-05-22T15:56:00+02:00",
          "2024-05-22T15:57:00+02:00",
          "2024-05-22T15:58:00+02:00",
          "2024-05-22T15:59:00+02:00",
          "2024-05-22T16:00:00+02:00",
          "2024-05-22T16:01:00+02:00",
          "2024-05-22T16:02:00+02:00",
          "2024-05-22T16:03:00+02:00",
          "2024-05-22T16:04:00+02:00",
          "2024-05-22T16:05:00+02:00",
          "2024-05-22T16:06:00+02:00",
          "2024-05-22T16:07:00+02:00",
          "2024-05-22T16:08:00+02:00",
          "2024-05-22T16:09:00+02:00",
          "2024-05-22T16:10:00+02:00",
          "2024-05-22T16:11:00+02:00",
          "2024-05-22T16:12:00+02:00",
          "2024-05-22T16:13:00+02:00",
          "2024-05-22T16:14:00+02:00",
          "2024-05-22T16:15:00+02:00",
          "2024-05-22T16:16:00+02:00",
          "2024-05-22T16:17:00+02:00",
          "2024-05-22T16:18:00+02:00",
          "2024-05-22T16:19:00+02:00",
          "2024-05-22T16:20:00+02:00",
          "2024-05-22T16:21:00+02:00",
          "2024-05-22T16:22:00+02:00",
          "2024-05-22T16:23:00+02:00",
          "2024-05-22T16:24:00+02:00",
          "2024-05-22T16:25:00+02:00",
          "2024-05-22T16:26:00+02:00",
          "2024-05-22T16:27:00+02:00",
          "2024-05-22T16:28:00+02:00",
          "2024-05-22T16:29:00+02:00",
          "2024-05-22T16:30:00+02:00",
          "2024-05-22T16:31:00+02:00",
          "2024-05-22T16:32:00+02:00",
          "2024-05-22T16:33:00+02:00",
          "2024-05-22T16:34:00+02:00",
          "2024-05-22T16:35:00+02:00",
          "2024-05-22T16:36:00+02:00",
          "2024-05-22T16:37:00+02:00",
          "2024-05-22T16:38:00+02:00",
          "2024-05-22T16:39:00+02:00",
          "2024-05-22T16:40:00+02:00",
          "2024-05-22T16:41:00+02:00"
         ],
         "xaxis": "x",
         "y": [
          null,
          null,
          null,
          null,
          null,
          null,
          null,
          null,
          null,
          null,
          null,
          null,
          null,
          null,
          null,
          null,
          null,
          null,
          null,
          null,
          null,
          null,
          null,
          null,
          null,
          null,
          null,
          null,
          null,
          null,
          null,
          null,
          null,
          null,
          null,
          null,
          null,
          null,
          null,
          null,
          null,
          null,
          null,
          null,
          null,
          null,
          null,
          null,
          null,
          null,
          null,
          null,
          null,
          null,
          null,
          null,
          null,
          null,
          null,
          null
         ],
         "yaxis": "y"
        },
        {
         "hovertemplate": "actor=Standalone (CIFAR10)<br>remote_type=%{x}<br>VMs Different Region (outside europe-central2)=%{y}<extra></extra>",
         "legendgroup": "Standalone (CIFAR10)",
         "line": {
          "color": "#FFA15A",
          "dash": "solid"
         },
         "marker": {
          "symbol": "circle"
         },
         "mode": "lines",
         "name": "Standalone (CIFAR10)",
         "orientation": "v",
         "showlegend": true,
         "type": "scatter",
         "x": [
          "2024-05-22T14:15:00+02:00",
          "2024-05-22T14:16:00+02:00",
          "2024-05-22T14:17:00+02:00",
          "2024-05-22T14:18:00+02:00",
          "2024-05-22T14:19:00+02:00",
          "2024-05-22T14:20:00+02:00",
          "2024-05-22T14:21:00+02:00",
          "2024-05-22T14:22:00+02:00",
          "2024-05-22T14:23:00+02:00",
          "2024-05-22T14:24:00+02:00",
          "2024-05-22T14:25:00+02:00",
          "2024-05-22T14:26:00+02:00",
          "2024-05-22T14:27:00+02:00",
          "2024-05-22T14:28:00+02:00",
          "2024-05-22T14:29:00+02:00",
          "2024-05-22T14:30:00+02:00",
          "2024-05-22T14:31:00+02:00",
          "2024-05-22T14:32:00+02:00",
          "2024-05-22T14:33:00+02:00",
          "2024-05-22T14:34:00+02:00",
          "2024-05-22T14:35:00+02:00",
          "2024-05-22T14:36:00+02:00",
          "2024-05-22T14:37:00+02:00",
          "2024-05-22T14:38:00+02:00"
         ],
         "xaxis": "x",
         "y": [
          null,
          null,
          null,
          null,
          null,
          null,
          null,
          null,
          null,
          null,
          null,
          null,
          null,
          null,
          null,
          null,
          null,
          null,
          null,
          null,
          null,
          null,
          null,
          null
         ],
         "yaxis": "y"
        },
        {
         "hovertemplate": "actor=Worker (20, CIFAR10)<br>remote_type=%{x}<br>VMs Different Region (outside europe-central2)=%{y}<extra></extra>",
         "legendgroup": "Worker (20, CIFAR10)",
         "line": {
          "color": "#19d3f3",
          "dash": "solid"
         },
         "marker": {
          "symbol": "circle"
         },
         "mode": "lines",
         "name": "Worker (20, CIFAR10)",
         "orientation": "v",
         "showlegend": true,
         "type": "scatter",
         "x": [
          "2024-05-22T18:18:00+02:00",
          "2024-05-22T18:19:00+02:00",
          "2024-05-22T18:20:00+02:00",
          "2024-05-22T18:21:00+02:00",
          "2024-05-22T18:22:00+02:00",
          "2024-05-22T18:23:00+02:00",
          "2024-05-22T18:24:00+02:00",
          "2024-05-22T18:25:00+02:00",
          "2024-05-22T18:26:00+02:00",
          "2024-05-22T18:27:00+02:00",
          "2024-05-22T18:28:00+02:00",
          "2024-05-22T18:29:00+02:00",
          "2024-05-22T18:30:00+02:00",
          "2024-05-22T18:31:00+02:00",
          "2024-05-22T18:32:00+02:00",
          "2024-05-22T18:33:00+02:00",
          "2024-05-22T18:34:00+02:00",
          "2024-05-22T18:35:00+02:00",
          "2024-05-22T18:36:00+02:00",
          "2024-05-22T18:37:00+02:00",
          "2024-05-22T18:38:00+02:00",
          "2024-05-22T18:39:00+02:00",
          "2024-05-22T18:40:00+02:00",
          "2024-05-22T18:41:00+02:00",
          "2024-05-22T18:42:00+02:00",
          "2024-05-22T18:43:00+02:00",
          "2024-05-22T18:44:00+02:00",
          "2024-05-22T18:45:00+02:00",
          "2024-05-22T18:46:00+02:00",
          "2024-05-22T18:47:00+02:00",
          "2024-05-22T18:48:00+02:00",
          "2024-05-22T18:49:00+02:00",
          "2024-05-22T18:50:00+02:00",
          "2024-05-22T18:51:00+02:00",
          "2024-05-22T18:52:00+02:00",
          "2024-05-22T18:53:00+02:00",
          "2024-05-22T18:54:00+02:00",
          "2024-05-22T18:55:00+02:00",
          "2024-05-22T18:56:00+02:00",
          "2024-05-22T18:57:00+02:00",
          "2024-05-22T18:58:00+02:00",
          "2024-05-22T18:59:00+02:00",
          "2024-05-22T19:00:00+02:00",
          "2024-05-22T19:01:00+02:00",
          "2024-05-22T19:02:00+02:00",
          "2024-05-22T19:03:00+02:00",
          "2024-05-22T19:04:00+02:00",
          "2024-05-22T19:05:00+02:00",
          "2024-05-22T19:06:00+02:00",
          "2024-05-22T19:07:00+02:00",
          "2024-05-22T19:08:00+02:00",
          "2024-05-22T19:09:00+02:00",
          "2024-05-22T19:10:00+02:00",
          "2024-05-22T19:11:00+02:00",
          "2024-05-22T19:12:00+02:00",
          "2024-05-22T19:13:00+02:00",
          "2024-05-22T19:14:00+02:00",
          "2024-05-22T19:15:00+02:00",
          "2024-05-22T19:16:00+02:00",
          "2024-05-22T19:17:00+02:00",
          "2024-05-22T19:18:00+02:00"
         ],
         "xaxis": "x",
         "y": [
          0.1666666666666666,
          0.2333333333333333,
          0.2666666666666666,
          0.1666666666666666,
          0.2333333333333333,
          0.1333333333333333,
          0.2,
          0.3333333333333333,
          0.3333333333333333,
          0.1333333333333333,
          0.1666666666666666,
          0.2666666666666666,
          0.3333333333333333,
          0.3333333333333333,
          0.3333333333333333,
          0.3333333333333333,
          0.3333333333333333,
          0.3333333333333333,
          0.3333333333333333,
          0.3333333333333333,
          0.1333333333333333,
          0.1666666666666666,
          0.2666666666666666,
          0.1333333333333333,
          0.2,
          0.1333333333333333,
          0.2,
          0.3333333333333333,
          0.3333333333333333,
          0.3333333333333333,
          0.3333333333333333,
          0.3333333333333333,
          0.3333333333333333,
          0.3333333333333333,
          0.3333333333333333,
          0.1333333333333333,
          0.1666666666666666,
          0.2666666666666666,
          0.3333333333333333,
          0.3333333333333333,
          0.3333333333333333,
          0.3333333333333333,
          0.1333333333333333,
          0.1666666666666666,
          0.3833333333333333,
          0.4166666666666667,
          0.1333333333333333,
          0.1666666666666666,
          0.2666666666666666,
          0.1333333333333333,
          0.2,
          0.25,
          0.15,
          0.2666666666666666,
          0.1333333333333333,
          0.2,
          0.3333333333333333,
          8.316666666666666,
          5.316666666666666,
          0,
          0.1666666666666666
         ],
         "yaxis": "y"
        },
        {
         "hovertemplate": "actor=Server (20, CIFAR10)<br>remote_type=%{x}<br>VMs Different Region (outside europe-central2)=%{y}<extra></extra>",
         "legendgroup": "Server (20, CIFAR10)",
         "line": {
          "color": "#FF6692",
          "dash": "solid"
         },
         "marker": {
          "symbol": "circle"
         },
         "mode": "lines",
         "name": "Server (20, CIFAR10)",
         "orientation": "v",
         "showlegend": true,
         "type": "scatter",
         "x": [
          "2024-05-22T18:20:00+02:00",
          "2024-05-22T18:21:00+02:00",
          "2024-05-22T18:22:00+02:00",
          "2024-05-22T18:23:00+02:00",
          "2024-05-22T18:24:00+02:00",
          "2024-05-22T18:25:00+02:00",
          "2024-05-22T18:26:00+02:00",
          "2024-05-22T18:27:00+02:00",
          "2024-05-22T18:28:00+02:00",
          "2024-05-22T18:29:00+02:00",
          "2024-05-22T18:30:00+02:00",
          "2024-05-22T18:31:00+02:00",
          "2024-05-22T18:32:00+02:00",
          "2024-05-22T18:33:00+02:00",
          "2024-05-22T18:34:00+02:00",
          "2024-05-22T18:35:00+02:00",
          "2024-05-22T18:36:00+02:00",
          "2024-05-22T18:37:00+02:00",
          "2024-05-22T18:38:00+02:00",
          "2024-05-22T18:39:00+02:00",
          "2024-05-22T18:40:00+02:00",
          "2024-05-22T18:41:00+02:00",
          "2024-05-22T18:42:00+02:00",
          "2024-05-22T18:43:00+02:00",
          "2024-05-22T18:44:00+02:00",
          "2024-05-22T18:45:00+02:00",
          "2024-05-22T18:46:00+02:00",
          "2024-05-22T18:47:00+02:00",
          "2024-05-22T18:48:00+02:00",
          "2024-05-22T18:49:00+02:00",
          "2024-05-22T18:50:00+02:00",
          "2024-05-22T18:51:00+02:00",
          "2024-05-22T18:52:00+02:00",
          "2024-05-22T18:53:00+02:00",
          "2024-05-22T18:54:00+02:00",
          "2024-05-22T18:55:00+02:00",
          "2024-05-22T18:56:00+02:00",
          "2024-05-22T18:57:00+02:00",
          "2024-05-22T18:58:00+02:00",
          "2024-05-22T18:59:00+02:00",
          "2024-05-22T19:00:00+02:00",
          "2024-05-22T19:01:00+02:00",
          "2024-05-22T19:02:00+02:00",
          "2024-05-22T19:03:00+02:00",
          "2024-05-22T19:04:00+02:00",
          "2024-05-22T19:05:00+02:00",
          "2024-05-22T19:06:00+02:00",
          "2024-05-22T19:07:00+02:00",
          "2024-05-22T19:08:00+02:00",
          "2024-05-22T19:09:00+02:00",
          "2024-05-22T19:10:00+02:00",
          "2024-05-22T19:11:00+02:00",
          "2024-05-22T19:12:00+02:00",
          "2024-05-22T19:13:00+02:00",
          "2024-05-22T19:14:00+02:00",
          "2024-05-22T19:15:00+02:00",
          "2024-05-22T19:16:00+02:00",
          "2024-05-22T19:17:00+02:00",
          "2024-05-22T19:18:00+02:00",
          "2024-05-22T19:19:00+02:00"
         ],
         "xaxis": "x",
         "y": [
          0.2666666666666666,
          0.1666666666666666,
          0.2333333333333333,
          0.1333333333333333,
          0.2,
          0.3333333333333333,
          0.3333333333333333,
          0.1333333333333333,
          0.1666666666666666,
          0.2666666666666666,
          0.3333333333333333,
          0.3333333333333333,
          0.3333333333333333,
          0.3333333333333333,
          0.3333333333333333,
          0.3333333333333333,
          0.3333333333333333,
          0.3333333333333333,
          0.1333333333333333,
          0.1666666666666666,
          0.2666666666666666,
          0.1333333333333333,
          0.2,
          0.1333333333333333,
          0.2,
          0.3333333333333333,
          0.3333333333333333,
          0.3333333333333333,
          0.3333333333333333,
          0.3333333333333333,
          0.3333333333333333,
          0.3333333333333333,
          0.3333333333333333,
          0.1333333333333333,
          0.1666666666666666,
          0.2666666666666666,
          0.3333333333333333,
          0.3333333333333333,
          0.3333333333333333,
          0.3333333333333333,
          0.1333333333333333,
          0.1666666666666666,
          0.3833333333333333,
          0.4166666666666667,
          0.1333333333333333,
          0.1666666666666666,
          0.2666666666666666,
          0.1333333333333333,
          0.2,
          0.25,
          0.15,
          0.2666666666666666,
          0.1333333333333333,
          0.2,
          0.3333333333333333,
          8.316666666666666,
          5.316666666666666,
          0,
          0.1666666666666666,
          0
         ],
         "yaxis": "y"
        }
       ],
       "layout": {
        "height": 600,
        "legend": {
         "title": {
          "text": "actor"
         },
         "tracegroupgap": 0
        },
        "template": {
         "data": {
          "bar": [
           {
            "error_x": {
             "color": "#2a3f5f"
            },
            "error_y": {
             "color": "#2a3f5f"
            },
            "marker": {
             "line": {
              "color": "white",
              "width": 0.5
             },
             "pattern": {
              "fillmode": "overlay",
              "size": 10,
              "solidity": 0.2
             }
            },
            "type": "bar"
           }
          ],
          "barpolar": [
           {
            "marker": {
             "line": {
              "color": "white",
              "width": 0.5
             },
             "pattern": {
              "fillmode": "overlay",
              "size": 10,
              "solidity": 0.2
             }
            },
            "type": "barpolar"
           }
          ],
          "carpet": [
           {
            "aaxis": {
             "endlinecolor": "#2a3f5f",
             "gridcolor": "#C8D4E3",
             "linecolor": "#C8D4E3",
             "minorgridcolor": "#C8D4E3",
             "startlinecolor": "#2a3f5f"
            },
            "baxis": {
             "endlinecolor": "#2a3f5f",
             "gridcolor": "#C8D4E3",
             "linecolor": "#C8D4E3",
             "minorgridcolor": "#C8D4E3",
             "startlinecolor": "#2a3f5f"
            },
            "type": "carpet"
           }
          ],
          "choropleth": [
           {
            "colorbar": {
             "outlinewidth": 0,
             "ticks": ""
            },
            "type": "choropleth"
           }
          ],
          "contour": [
           {
            "colorbar": {
             "outlinewidth": 0,
             "ticks": ""
            },
            "colorscale": [
             [
              0,
              "#0d0887"
             ],
             [
              0.1111111111111111,
              "#46039f"
             ],
             [
              0.2222222222222222,
              "#7201a8"
             ],
             [
              0.3333333333333333,
              "#9c179e"
             ],
             [
              0.4444444444444444,
              "#bd3786"
             ],
             [
              0.5555555555555556,
              "#d8576b"
             ],
             [
              0.6666666666666666,
              "#ed7953"
             ],
             [
              0.7777777777777778,
              "#fb9f3a"
             ],
             [
              0.8888888888888888,
              "#fdca26"
             ],
             [
              1,
              "#f0f921"
             ]
            ],
            "type": "contour"
           }
          ],
          "contourcarpet": [
           {
            "colorbar": {
             "outlinewidth": 0,
             "ticks": ""
            },
            "type": "contourcarpet"
           }
          ],
          "heatmap": [
           {
            "colorbar": {
             "outlinewidth": 0,
             "ticks": ""
            },
            "colorscale": [
             [
              0,
              "#0d0887"
             ],
             [
              0.1111111111111111,
              "#46039f"
             ],
             [
              0.2222222222222222,
              "#7201a8"
             ],
             [
              0.3333333333333333,
              "#9c179e"
             ],
             [
              0.4444444444444444,
              "#bd3786"
             ],
             [
              0.5555555555555556,
              "#d8576b"
             ],
             [
              0.6666666666666666,
              "#ed7953"
             ],
             [
              0.7777777777777778,
              "#fb9f3a"
             ],
             [
              0.8888888888888888,
              "#fdca26"
             ],
             [
              1,
              "#f0f921"
             ]
            ],
            "type": "heatmap"
           }
          ],
          "heatmapgl": [
           {
            "colorbar": {
             "outlinewidth": 0,
             "ticks": ""
            },
            "colorscale": [
             [
              0,
              "#0d0887"
             ],
             [
              0.1111111111111111,
              "#46039f"
             ],
             [
              0.2222222222222222,
              "#7201a8"
             ],
             [
              0.3333333333333333,
              "#9c179e"
             ],
             [
              0.4444444444444444,
              "#bd3786"
             ],
             [
              0.5555555555555556,
              "#d8576b"
             ],
             [
              0.6666666666666666,
              "#ed7953"
             ],
             [
              0.7777777777777778,
              "#fb9f3a"
             ],
             [
              0.8888888888888888,
              "#fdca26"
             ],
             [
              1,
              "#f0f921"
             ]
            ],
            "type": "heatmapgl"
           }
          ],
          "histogram": [
           {
            "marker": {
             "pattern": {
              "fillmode": "overlay",
              "size": 10,
              "solidity": 0.2
             }
            },
            "type": "histogram"
           }
          ],
          "histogram2d": [
           {
            "colorbar": {
             "outlinewidth": 0,
             "ticks": ""
            },
            "colorscale": [
             [
              0,
              "#0d0887"
             ],
             [
              0.1111111111111111,
              "#46039f"
             ],
             [
              0.2222222222222222,
              "#7201a8"
             ],
             [
              0.3333333333333333,
              "#9c179e"
             ],
             [
              0.4444444444444444,
              "#bd3786"
             ],
             [
              0.5555555555555556,
              "#d8576b"
             ],
             [
              0.6666666666666666,
              "#ed7953"
             ],
             [
              0.7777777777777778,
              "#fb9f3a"
             ],
             [
              0.8888888888888888,
              "#fdca26"
             ],
             [
              1,
              "#f0f921"
             ]
            ],
            "type": "histogram2d"
           }
          ],
          "histogram2dcontour": [
           {
            "colorbar": {
             "outlinewidth": 0,
             "ticks": ""
            },
            "colorscale": [
             [
              0,
              "#0d0887"
             ],
             [
              0.1111111111111111,
              "#46039f"
             ],
             [
              0.2222222222222222,
              "#7201a8"
             ],
             [
              0.3333333333333333,
              "#9c179e"
             ],
             [
              0.4444444444444444,
              "#bd3786"
             ],
             [
              0.5555555555555556,
              "#d8576b"
             ],
             [
              0.6666666666666666,
              "#ed7953"
             ],
             [
              0.7777777777777778,
              "#fb9f3a"
             ],
             [
              0.8888888888888888,
              "#fdca26"
             ],
             [
              1,
              "#f0f921"
             ]
            ],
            "type": "histogram2dcontour"
           }
          ],
          "mesh3d": [
           {
            "colorbar": {
             "outlinewidth": 0,
             "ticks": ""
            },
            "type": "mesh3d"
           }
          ],
          "parcoords": [
           {
            "line": {
             "colorbar": {
              "outlinewidth": 0,
              "ticks": ""
             }
            },
            "type": "parcoords"
           }
          ],
          "pie": [
           {
            "automargin": true,
            "type": "pie"
           }
          ],
          "scatter": [
           {
            "fillpattern": {
             "fillmode": "overlay",
             "size": 10,
             "solidity": 0.2
            },
            "type": "scatter"
           }
          ],
          "scatter3d": [
           {
            "line": {
             "colorbar": {
              "outlinewidth": 0,
              "ticks": ""
             }
            },
            "marker": {
             "colorbar": {
              "outlinewidth": 0,
              "ticks": ""
             }
            },
            "type": "scatter3d"
           }
          ],
          "scattercarpet": [
           {
            "marker": {
             "colorbar": {
              "outlinewidth": 0,
              "ticks": ""
             }
            },
            "type": "scattercarpet"
           }
          ],
          "scattergeo": [
           {
            "marker": {
             "colorbar": {
              "outlinewidth": 0,
              "ticks": ""
             }
            },
            "type": "scattergeo"
           }
          ],
          "scattergl": [
           {
            "marker": {
             "colorbar": {
              "outlinewidth": 0,
              "ticks": ""
             }
            },
            "type": "scattergl"
           }
          ],
          "scattermapbox": [
           {
            "marker": {
             "colorbar": {
              "outlinewidth": 0,
              "ticks": ""
             }
            },
            "type": "scattermapbox"
           }
          ],
          "scatterpolar": [
           {
            "marker": {
             "colorbar": {
              "outlinewidth": 0,
              "ticks": ""
             }
            },
            "type": "scatterpolar"
           }
          ],
          "scatterpolargl": [
           {
            "marker": {
             "colorbar": {
              "outlinewidth": 0,
              "ticks": ""
             }
            },
            "type": "scatterpolargl"
           }
          ],
          "scatterternary": [
           {
            "marker": {
             "colorbar": {
              "outlinewidth": 0,
              "ticks": ""
             }
            },
            "type": "scatterternary"
           }
          ],
          "surface": [
           {
            "colorbar": {
             "outlinewidth": 0,
             "ticks": ""
            },
            "colorscale": [
             [
              0,
              "#0d0887"
             ],
             [
              0.1111111111111111,
              "#46039f"
             ],
             [
              0.2222222222222222,
              "#7201a8"
             ],
             [
              0.3333333333333333,
              "#9c179e"
             ],
             [
              0.4444444444444444,
              "#bd3786"
             ],
             [
              0.5555555555555556,
              "#d8576b"
             ],
             [
              0.6666666666666666,
              "#ed7953"
             ],
             [
              0.7777777777777778,
              "#fb9f3a"
             ],
             [
              0.8888888888888888,
              "#fdca26"
             ],
             [
              1,
              "#f0f921"
             ]
            ],
            "type": "surface"
           }
          ],
          "table": [
           {
            "cells": {
             "fill": {
              "color": "#EBF0F8"
             },
             "line": {
              "color": "white"
             }
            },
            "header": {
             "fill": {
              "color": "#C8D4E3"
             },
             "line": {
              "color": "white"
             }
            },
            "type": "table"
           }
          ]
         },
         "layout": {
          "annotationdefaults": {
           "arrowcolor": "#2a3f5f",
           "arrowhead": 0,
           "arrowwidth": 1
          },
          "autotypenumbers": "strict",
          "coloraxis": {
           "colorbar": {
            "outlinewidth": 0,
            "ticks": ""
           }
          },
          "colorscale": {
           "diverging": [
            [
             0,
             "#8e0152"
            ],
            [
             0.1,
             "#c51b7d"
            ],
            [
             0.2,
             "#de77ae"
            ],
            [
             0.3,
             "#f1b6da"
            ],
            [
             0.4,
             "#fde0ef"
            ],
            [
             0.5,
             "#f7f7f7"
            ],
            [
             0.6,
             "#e6f5d0"
            ],
            [
             0.7,
             "#b8e186"
            ],
            [
             0.8,
             "#7fbc41"
            ],
            [
             0.9,
             "#4d9221"
            ],
            [
             1,
             "#276419"
            ]
           ],
           "sequential": [
            [
             0,
             "#0d0887"
            ],
            [
             0.1111111111111111,
             "#46039f"
            ],
            [
             0.2222222222222222,
             "#7201a8"
            ],
            [
             0.3333333333333333,
             "#9c179e"
            ],
            [
             0.4444444444444444,
             "#bd3786"
            ],
            [
             0.5555555555555556,
             "#d8576b"
            ],
            [
             0.6666666666666666,
             "#ed7953"
            ],
            [
             0.7777777777777778,
             "#fb9f3a"
            ],
            [
             0.8888888888888888,
             "#fdca26"
            ],
            [
             1,
             "#f0f921"
            ]
           ],
           "sequentialminus": [
            [
             0,
             "#0d0887"
            ],
            [
             0.1111111111111111,
             "#46039f"
            ],
            [
             0.2222222222222222,
             "#7201a8"
            ],
            [
             0.3333333333333333,
             "#9c179e"
            ],
            [
             0.4444444444444444,
             "#bd3786"
            ],
            [
             0.5555555555555556,
             "#d8576b"
            ],
            [
             0.6666666666666666,
             "#ed7953"
            ],
            [
             0.7777777777777778,
             "#fb9f3a"
            ],
            [
             0.8888888888888888,
             "#fdca26"
            ],
            [
             1,
             "#f0f921"
            ]
           ]
          },
          "colorway": [
           "#636efa",
           "#EF553B",
           "#00cc96",
           "#ab63fa",
           "#FFA15A",
           "#19d3f3",
           "#FF6692",
           "#B6E880",
           "#FF97FF",
           "#FECB52"
          ],
          "font": {
           "color": "#2a3f5f"
          },
          "geo": {
           "bgcolor": "white",
           "lakecolor": "white",
           "landcolor": "white",
           "showlakes": true,
           "showland": true,
           "subunitcolor": "#C8D4E3"
          },
          "hoverlabel": {
           "align": "left"
          },
          "hovermode": "closest",
          "mapbox": {
           "style": "light"
          },
          "paper_bgcolor": "white",
          "plot_bgcolor": "white",
          "polar": {
           "angularaxis": {
            "gridcolor": "#EBF0F8",
            "linecolor": "#EBF0F8",
            "ticks": ""
           },
           "bgcolor": "white",
           "radialaxis": {
            "gridcolor": "#EBF0F8",
            "linecolor": "#EBF0F8",
            "ticks": ""
           }
          },
          "scene": {
           "xaxis": {
            "backgroundcolor": "white",
            "gridcolor": "#DFE8F3",
            "gridwidth": 2,
            "linecolor": "#EBF0F8",
            "showbackground": true,
            "ticks": "",
            "zerolinecolor": "#EBF0F8"
           },
           "yaxis": {
            "backgroundcolor": "white",
            "gridcolor": "#DFE8F3",
            "gridwidth": 2,
            "linecolor": "#EBF0F8",
            "showbackground": true,
            "ticks": "",
            "zerolinecolor": "#EBF0F8"
           },
           "zaxis": {
            "backgroundcolor": "white",
            "gridcolor": "#DFE8F3",
            "gridwidth": 2,
            "linecolor": "#EBF0F8",
            "showbackground": true,
            "ticks": "",
            "zerolinecolor": "#EBF0F8"
           }
          },
          "shapedefaults": {
           "line": {
            "color": "#2a3f5f"
           }
          },
          "ternary": {
           "aaxis": {
            "gridcolor": "#DFE8F3",
            "linecolor": "#A2B1C6",
            "ticks": ""
           },
           "baxis": {
            "gridcolor": "#DFE8F3",
            "linecolor": "#A2B1C6",
            "ticks": ""
           },
           "bgcolor": "white",
           "caxis": {
            "gridcolor": "#DFE8F3",
            "linecolor": "#A2B1C6",
            "ticks": ""
           }
          },
          "title": {
           "x": 0.05
          },
          "xaxis": {
           "automargin": true,
           "gridcolor": "#EBF0F8",
           "linecolor": "#EBF0F8",
           "ticks": "",
           "title": {
            "standoff": 15
           },
           "zerolinecolor": "#EBF0F8",
           "zerolinewidth": 2
          },
          "yaxis": {
           "automargin": true,
           "gridcolor": "#EBF0F8",
           "linecolor": "#EBF0F8",
           "ticks": "",
           "title": {
            "standoff": 15
           },
           "zerolinecolor": "#EBF0F8",
           "zerolinewidth": 2
          }
         }
        },
        "title": {
         "text": "Net usage"
        },
        "width": 1200,
        "xaxis": {
         "anchor": "y",
         "domain": [
          0,
          1
         ],
         "title": {
          "text": "remote_type"
         }
        },
        "yaxis": {
         "anchor": "x",
         "domain": [
          0,
          1
         ],
         "title": {
          "text": "VMs Different Region (outside europe-central2)"
         }
        }
       }
      }
     },
     "metadata": {},
     "output_type": "display_data"
    },
    {
     "data": {
      "application/vnd.plotly.v1+json": {
       "config": {
        "plotlyServerURL": "https://plot.ly"
       },
       "data": [
        {
         "hovertemplate": "actor=Server (10, CIFAR10)<br>remote_type=%{x}<br>VMs Different Region (outside europe-west4)=%{y}<extra></extra>",
         "legendgroup": "Server (10, CIFAR10)",
         "line": {
          "color": "#636efa",
          "dash": "solid"
         },
         "marker": {
          "symbol": "circle"
         },
         "mode": "lines",
         "name": "Server (10, CIFAR10)",
         "orientation": "v",
         "showlegend": true,
         "type": "scatter",
         "x": [
          "2024-05-22T15:41:00+02:00",
          "2024-05-22T15:42:00+02:00",
          "2024-05-22T15:43:00+02:00",
          "2024-05-22T15:44:00+02:00",
          "2024-05-22T15:45:00+02:00",
          "2024-05-22T15:46:00+02:00",
          "2024-05-22T15:47:00+02:00",
          "2024-05-22T15:48:00+02:00",
          "2024-05-22T15:49:00+02:00",
          "2024-05-22T15:50:00+02:00",
          "2024-05-22T15:51:00+02:00",
          "2024-05-22T15:52:00+02:00",
          "2024-05-22T15:53:00+02:00",
          "2024-05-22T15:54:00+02:00",
          "2024-05-22T15:55:00+02:00",
          "2024-05-22T15:56:00+02:00",
          "2024-05-22T15:57:00+02:00",
          "2024-05-22T15:58:00+02:00",
          "2024-05-22T15:59:00+02:00",
          "2024-05-22T16:00:00+02:00",
          "2024-05-22T16:01:00+02:00",
          "2024-05-22T16:02:00+02:00",
          "2024-05-22T16:03:00+02:00",
          "2024-05-22T16:04:00+02:00",
          "2024-05-22T16:05:00+02:00",
          "2024-05-22T16:06:00+02:00",
          "2024-05-22T16:07:00+02:00",
          "2024-05-22T16:08:00+02:00",
          "2024-05-22T16:09:00+02:00",
          "2024-05-22T16:10:00+02:00",
          "2024-05-22T16:11:00+02:00",
          "2024-05-22T16:12:00+02:00",
          "2024-05-22T16:13:00+02:00",
          "2024-05-22T16:14:00+02:00",
          "2024-05-22T16:15:00+02:00",
          "2024-05-22T16:16:00+02:00",
          "2024-05-22T16:17:00+02:00",
          "2024-05-22T16:18:00+02:00",
          "2024-05-22T16:19:00+02:00",
          "2024-05-22T16:20:00+02:00",
          "2024-05-22T16:21:00+02:00",
          "2024-05-22T16:22:00+02:00",
          "2024-05-22T16:23:00+02:00",
          "2024-05-22T16:24:00+02:00",
          "2024-05-22T16:25:00+02:00",
          "2024-05-22T16:26:00+02:00",
          "2024-05-22T16:27:00+02:00",
          "2024-05-22T16:28:00+02:00",
          "2024-05-22T16:29:00+02:00",
          "2024-05-22T16:30:00+02:00",
          "2024-05-22T16:31:00+02:00",
          "2024-05-22T16:32:00+02:00",
          "2024-05-22T16:33:00+02:00",
          "2024-05-22T16:34:00+02:00",
          "2024-05-22T16:35:00+02:00",
          "2024-05-22T16:36:00+02:00",
          "2024-05-22T16:37:00+02:00",
          "2024-05-22T16:38:00+02:00",
          "2024-05-22T16:39:00+02:00",
          "2024-05-22T16:40:00+02:00"
         ],
         "xaxis": "x",
         "y": [
          null,
          null,
          null,
          null,
          null,
          null,
          null,
          null,
          null,
          null,
          null,
          null,
          null,
          null,
          null,
          null,
          null,
          null,
          null,
          null,
          null,
          null,
          null,
          null,
          null,
          null,
          null,
          null,
          null,
          null,
          null,
          null,
          null,
          null,
          null,
          null,
          null,
          null,
          null,
          null,
          null,
          null,
          null,
          null,
          null,
          null,
          null,
          null,
          null,
          null,
          null,
          null,
          null,
          null,
          null,
          null,
          null,
          null,
          null,
          null
         ],
         "yaxis": "y"
        },
        {
         "hovertemplate": "actor=Worker (5, CIFAR10)<br>remote_type=%{x}<br>VMs Different Region (outside europe-west4)=%{y}<extra></extra>",
         "legendgroup": "Worker (5, CIFAR10)",
         "line": {
          "color": "#EF553B",
          "dash": "solid"
         },
         "marker": {
          "symbol": "circle"
         },
         "mode": "lines",
         "name": "Worker (5, CIFAR10)",
         "orientation": "v",
         "showlegend": true,
         "type": "scatter",
         "x": [
          "2024-05-22T13:20:00+02:00",
          "2024-05-22T13:21:00+02:00",
          "2024-05-22T13:22:00+02:00",
          "2024-05-22T13:23:00+02:00",
          "2024-05-22T13:24:00+02:00",
          "2024-05-22T13:25:00+02:00",
          "2024-05-22T13:26:00+02:00",
          "2024-05-22T13:27:00+02:00",
          "2024-05-22T13:28:00+02:00",
          "2024-05-22T13:29:00+02:00",
          "2024-05-22T13:30:00+02:00",
          "2024-05-22T13:31:00+02:00",
          "2024-05-22T13:32:00+02:00",
          "2024-05-22T13:33:00+02:00",
          "2024-05-22T13:34:00+02:00",
          "2024-05-22T13:35:00+02:00",
          "2024-05-22T13:36:00+02:00",
          "2024-05-22T13:37:00+02:00",
          "2024-05-22T13:38:00+02:00",
          "2024-05-22T13:39:00+02:00",
          "2024-05-22T13:40:00+02:00",
          "2024-05-22T13:41:00+02:00",
          "2024-05-22T13:42:00+02:00",
          "2024-05-22T13:43:00+02:00",
          "2024-05-22T13:44:00+02:00",
          "2024-05-22T13:45:00+02:00",
          "2024-05-22T13:46:00+02:00",
          "2024-05-22T13:47:00+02:00",
          "2024-05-22T13:48:00+02:00",
          "2024-05-22T13:49:00+02:00",
          "2024-05-22T13:50:00+02:00",
          "2024-05-22T13:51:00+02:00",
          "2024-05-22T13:52:00+02:00",
          "2024-05-22T13:53:00+02:00",
          "2024-05-22T13:54:00+02:00",
          "2024-05-22T13:55:00+02:00",
          "2024-05-22T13:56:00+02:00",
          "2024-05-22T13:57:00+02:00",
          "2024-05-22T13:58:00+02:00",
          "2024-05-22T13:59:00+02:00",
          "2024-05-22T14:00:00+02:00",
          "2024-05-22T14:01:00+02:00",
          "2024-05-22T14:02:00+02:00",
          "2024-05-22T14:03:00+02:00",
          "2024-05-22T14:04:00+02:00",
          "2024-05-22T14:05:00+02:00",
          "2024-05-22T14:06:00+02:00",
          "2024-05-22T14:07:00+02:00",
          "2024-05-22T14:08:00+02:00",
          "2024-05-22T14:09:00+02:00",
          "2024-05-22T14:10:00+02:00",
          "2024-05-22T14:11:00+02:00",
          "2024-05-22T14:12:00+02:00",
          "2024-05-22T14:13:00+02:00",
          "2024-05-22T14:14:00+02:00",
          "2024-05-22T14:15:00+02:00",
          "2024-05-22T14:16:00+02:00",
          "2024-05-22T14:17:00+02:00",
          "2024-05-22T14:18:00+02:00",
          "2024-05-22T14:19:00+02:00",
          "2024-05-22T14:20:00+02:00",
          "2024-05-22T14:21:00+02:00",
          "2024-05-22T14:22:00+02:00",
          "2024-05-22T14:23:00+02:00",
          "2024-05-22T14:24:00+02:00",
          "2024-05-22T14:25:00+02:00",
          "2024-05-22T14:26:00+02:00",
          "2024-05-22T14:27:00+02:00",
          "2024-05-22T14:28:00+02:00",
          "2024-05-22T14:29:00+02:00",
          "2024-05-22T14:30:00+02:00",
          "2024-05-22T14:31:00+02:00",
          "2024-05-22T14:32:00+02:00",
          "2024-05-22T14:33:00+02:00",
          "2024-05-22T14:34:00+02:00",
          "2024-05-22T14:35:00+02:00",
          "2024-05-22T14:36:00+02:00",
          "2024-05-22T14:37:00+02:00",
          "2024-05-22T14:38:00+02:00",
          "2024-05-22T14:39:00+02:00",
          "2024-05-22T14:40:00+02:00",
          "2024-05-22T14:41:00+02:00",
          "2024-05-22T14:42:00+02:00",
          "2024-05-22T14:43:00+02:00",
          "2024-05-22T14:44:00+02:00",
          "2024-05-22T14:45:00+02:00",
          "2024-05-22T14:46:00+02:00",
          "2024-05-22T14:47:00+02:00",
          "2024-05-22T14:48:00+02:00",
          "2024-05-22T14:49:00+02:00",
          "2024-05-22T14:50:00+02:00",
          "2024-05-22T14:51:00+02:00",
          "2024-05-22T14:52:00+02:00",
          "2024-05-22T14:53:00+02:00",
          "2024-05-22T14:54:00+02:00",
          "2024-05-22T14:55:00+02:00",
          "2024-05-22T14:56:00+02:00",
          "2024-05-22T14:57:00+02:00",
          "2024-05-22T14:58:00+02:00",
          "2024-05-22T14:59:00+02:00",
          "2024-05-22T15:00:00+02:00",
          "2024-05-22T15:01:00+02:00",
          "2024-05-22T15:02:00+02:00",
          "2024-05-22T15:03:00+02:00",
          "2024-05-22T15:04:00+02:00",
          "2024-05-22T15:05:00+02:00",
          "2024-05-22T15:06:00+02:00",
          "2024-05-22T15:07:00+02:00",
          "2024-05-22T15:08:00+02:00",
          "2024-05-22T15:09:00+02:00",
          "2024-05-22T15:10:00+02:00",
          "2024-05-22T15:11:00+02:00",
          "2024-05-22T15:12:00+02:00",
          "2024-05-22T15:13:00+02:00",
          "2024-05-22T15:14:00+02:00",
          "2024-05-22T15:15:00+02:00",
          "2024-05-22T15:16:00+02:00",
          "2024-05-22T15:17:00+02:00",
          "2024-05-22T15:18:00+02:00",
          "2024-05-22T15:19:00+02:00",
          "2024-05-22T15:20:00+02:00",
          "2024-05-22T15:21:00+02:00",
          "2024-05-22T15:22:00+02:00",
          "2024-05-22T15:23:00+02:00",
          "2024-05-22T15:24:00+02:00",
          "2024-05-22T15:25:00+02:00",
          "2024-05-22T15:26:00+02:00",
          "2024-05-22T15:27:00+02:00",
          "2024-05-22T15:28:00+02:00",
          "2024-05-22T15:29:00+02:00",
          "2024-05-22T15:30:00+02:00",
          "2024-05-22T15:31:00+02:00",
          "2024-05-22T15:32:00+02:00",
          "2024-05-22T15:33:00+02:00",
          "2024-05-22T15:34:00+02:00",
          "2024-05-22T15:35:00+02:00",
          "2024-05-22T15:36:00+02:00",
          "2024-05-22T15:37:00+02:00",
          "2024-05-22T15:38:00+02:00",
          "2024-05-22T15:39:00+02:00",
          "2024-05-22T15:40:00+02:00",
          "2024-05-22T15:41:00+02:00",
          "2024-05-22T15:42:00+02:00",
          "2024-05-22T15:43:00+02:00",
          "2024-05-22T15:44:00+02:00",
          "2024-05-22T15:45:00+02:00",
          "2024-05-22T15:46:00+02:00"
         ],
         "xaxis": "x",
         "y": [
          0,
          0,
          0,
          0,
          0,
          0,
          0,
          0,
          0,
          0,
          0,
          0,
          0,
          0,
          0,
          0,
          0,
          0,
          0,
          0,
          0,
          0,
          0,
          0,
          0,
          0,
          0,
          0,
          0,
          0,
          0,
          0,
          0,
          0,
          0,
          0,
          1.1333333333333333,
          0.1166666666666666,
          0.0833333333333333,
          0.0833333333333333,
          0,
          0.05,
          0.0833333333333333,
          0.0833333333333333,
          0.0833333333333333,
          0.0833333333333333,
          0.0833333333333333,
          0.0833333333333333,
          0.0833333333333333,
          0.1333333333333333,
          0.0833333333333333,
          0.0833333333333333,
          0.0833333333333333,
          0.0833333333333333,
          0.0833333333333333,
          0.0833333333333333,
          0.0833333333333333,
          0.0833333333333333,
          0.0833333333333333,
          0.0833333333333333,
          0.0833333333333333,
          0.0833333333333333,
          0.05,
          0.0833333333333333,
          0.0833333333333333,
          0.0833333333333333,
          0.0833333333333333,
          0.0833333333333333,
          0.0833333333333333,
          0.0833333333333333,
          0.0833333333333333,
          0.0833333333333333,
          0.0833333333333333,
          0.0833333333333333,
          0.0833333333333333,
          0.0833333333333333,
          0.1333333333333333,
          0.0833333333333333,
          0.0833333333333333,
          0.0833333333333333,
          0.0833333333333333,
          0.0833333333333333,
          0.05,
          0.0333333333333333,
          0.0833333333333333,
          0.0833333333333333,
          0.0833333333333333,
          0.0833333333333333,
          0.0833333333333333,
          0.1333333333333333,
          0.0833333333333333,
          0.0833333333333333,
          0.0833333333333333,
          0.0833333333333333,
          0.0833333333333333,
          0.0833333333333333,
          0.0833333333333333,
          0.0833333333333333,
          0.0833333333333333,
          0.0833333333333333,
          0.0833333333333333,
          0.0833333333333333,
          0.1333333333333333,
          0.0833333333333333,
          0,
          0.05,
          0.0833333333333333,
          0.0833333333333333,
          0.0833333333333333,
          0.0833333333333333,
          0.0833333333333333,
          0.0833333333333333,
          0.0833333333333333,
          0.0833333333333333,
          0.0833333333333333,
          1.85,
          0.0333333333333333,
          0,
          0,
          0,
          0,
          0,
          0,
          0,
          0,
          0,
          0,
          0,
          0,
          0,
          0,
          0,
          0,
          0,
          0,
          0.0333333333333333,
          0.0833333333333333,
          0,
          0,
          0,
          0,
          0,
          0,
          0.0333333333333333,
          4.666666666666667,
          0.25,
          0.1666666666666666
         ],
         "yaxis": "y"
        },
        {
         "hovertemplate": "actor=Server (5, CIFAR10)<br>remote_type=%{x}<br>VMs Different Region (outside europe-west4)=%{y}<extra></extra>",
         "legendgroup": "Server (5, CIFAR10)",
         "line": {
          "color": "#00cc96",
          "dash": "solid"
         },
         "marker": {
          "symbol": "circle"
         },
         "mode": "lines",
         "name": "Server (5, CIFAR10)",
         "orientation": "v",
         "showlegend": true,
         "type": "scatter",
         "x": [
          "2024-05-22T13:45:00+02:00",
          "2024-05-22T13:46:00+02:00",
          "2024-05-22T13:47:00+02:00",
          "2024-05-22T13:48:00+02:00",
          "2024-05-22T13:49:00+02:00",
          "2024-05-22T13:50:00+02:00",
          "2024-05-22T13:51:00+02:00",
          "2024-05-22T13:52:00+02:00",
          "2024-05-22T13:53:00+02:00",
          "2024-05-22T13:54:00+02:00",
          "2024-05-22T13:55:00+02:00",
          "2024-05-22T13:56:00+02:00",
          "2024-05-22T13:57:00+02:00",
          "2024-05-22T13:58:00+02:00",
          "2024-05-22T13:59:00+02:00",
          "2024-05-22T14:00:00+02:00",
          "2024-05-22T14:01:00+02:00",
          "2024-05-22T14:02:00+02:00",
          "2024-05-22T14:03:00+02:00",
          "2024-05-22T14:04:00+02:00",
          "2024-05-22T14:05:00+02:00",
          "2024-05-22T14:06:00+02:00",
          "2024-05-22T14:07:00+02:00",
          "2024-05-22T14:08:00+02:00",
          "2024-05-22T14:09:00+02:00",
          "2024-05-22T14:10:00+02:00",
          "2024-05-22T14:11:00+02:00",
          "2024-05-22T14:12:00+02:00",
          "2024-05-22T14:13:00+02:00",
          "2024-05-22T14:14:00+02:00",
          "2024-05-22T14:15:00+02:00",
          "2024-05-22T14:16:00+02:00",
          "2024-05-22T14:17:00+02:00",
          "2024-05-22T14:18:00+02:00",
          "2024-05-22T14:19:00+02:00",
          "2024-05-22T14:20:00+02:00",
          "2024-05-22T14:21:00+02:00",
          "2024-05-22T14:22:00+02:00",
          "2024-05-22T14:23:00+02:00",
          "2024-05-22T14:24:00+02:00",
          "2024-05-22T14:25:00+02:00",
          "2024-05-22T14:26:00+02:00",
          "2024-05-22T14:27:00+02:00",
          "2024-05-22T14:28:00+02:00",
          "2024-05-22T14:29:00+02:00",
          "2024-05-22T14:30:00+02:00",
          "2024-05-22T14:31:00+02:00",
          "2024-05-22T14:32:00+02:00",
          "2024-05-22T14:33:00+02:00",
          "2024-05-22T14:34:00+02:00",
          "2024-05-22T14:35:00+02:00",
          "2024-05-22T14:36:00+02:00",
          "2024-05-22T14:37:00+02:00",
          "2024-05-22T14:38:00+02:00",
          "2024-05-22T14:39:00+02:00",
          "2024-05-22T14:40:00+02:00",
          "2024-05-22T14:41:00+02:00",
          "2024-05-22T14:42:00+02:00",
          "2024-05-22T14:43:00+02:00",
          "2024-05-22T14:44:00+02:00",
          "2024-05-22T14:45:00+02:00",
          "2024-05-22T14:46:00+02:00",
          "2024-05-22T14:47:00+02:00",
          "2024-05-22T14:48:00+02:00",
          "2024-05-22T14:49:00+02:00",
          "2024-05-22T14:50:00+02:00",
          "2024-05-22T14:51:00+02:00",
          "2024-05-22T14:52:00+02:00",
          "2024-05-22T14:53:00+02:00",
          "2024-05-22T14:54:00+02:00",
          "2024-05-22T14:55:00+02:00",
          "2024-05-22T14:56:00+02:00",
          "2024-05-22T14:57:00+02:00",
          "2024-05-22T14:58:00+02:00",
          "2024-05-22T14:59:00+02:00",
          "2024-05-22T15:00:00+02:00",
          "2024-05-22T15:01:00+02:00",
          "2024-05-22T15:02:00+02:00",
          "2024-05-22T15:03:00+02:00",
          "2024-05-22T15:04:00+02:00",
          "2024-05-22T15:05:00+02:00",
          "2024-05-22T15:06:00+02:00",
          "2024-05-22T15:07:00+02:00",
          "2024-05-22T15:08:00+02:00",
          "2024-05-22T15:09:00+02:00",
          "2024-05-22T15:10:00+02:00",
          "2024-05-22T15:11:00+02:00",
          "2024-05-22T15:12:00+02:00",
          "2024-05-22T15:13:00+02:00",
          "2024-05-22T15:14:00+02:00",
          "2024-05-22T15:15:00+02:00",
          "2024-05-22T15:16:00+02:00",
          "2024-05-22T15:17:00+02:00",
          "2024-05-22T15:18:00+02:00",
          "2024-05-22T15:19:00+02:00",
          "2024-05-22T15:20:00+02:00",
          "2024-05-22T15:21:00+02:00"
         ],
         "xaxis": "x",
         "y": [
          null,
          null,
          null,
          null,
          null,
          null,
          null,
          null,
          null,
          null,
          null,
          null,
          null,
          null,
          null,
          null,
          null,
          null,
          null,
          null,
          null,
          null,
          null,
          null,
          null,
          null,
          null,
          null,
          null,
          null,
          null,
          null,
          null,
          null,
          null,
          null,
          null,
          null,
          null,
          null,
          null,
          null,
          null,
          null,
          null,
          null,
          null,
          null,
          null,
          null,
          null,
          null,
          null,
          null,
          null,
          null,
          null,
          null,
          null,
          null,
          null,
          null,
          null,
          null,
          null,
          null,
          null,
          null,
          null,
          null,
          null,
          null,
          null,
          null,
          null,
          null,
          null,
          null,
          null,
          null,
          null,
          null,
          null,
          null,
          null,
          null,
          null,
          null,
          null,
          null,
          null,
          null,
          null,
          null,
          null,
          null,
          null
         ],
         "yaxis": "y"
        },
        {
         "hovertemplate": "actor=Worker (10, CIFAR10)<br>remote_type=%{x}<br>VMs Different Region (outside europe-west4)=%{y}<extra></extra>",
         "legendgroup": "Worker (10, CIFAR10)",
         "line": {
          "color": "#ab63fa",
          "dash": "solid"
         },
         "marker": {
          "symbol": "circle"
         },
         "mode": "lines",
         "name": "Worker (10, CIFAR10)",
         "orientation": "v",
         "showlegend": true,
         "type": "scatter",
         "x": [
          "2024-05-22T15:42:00+02:00",
          "2024-05-22T15:43:00+02:00",
          "2024-05-22T15:44:00+02:00",
          "2024-05-22T15:45:00+02:00",
          "2024-05-22T15:46:00+02:00",
          "2024-05-22T15:47:00+02:00",
          "2024-05-22T15:48:00+02:00",
          "2024-05-22T15:49:00+02:00",
          "2024-05-22T15:50:00+02:00",
          "2024-05-22T15:51:00+02:00",
          "2024-05-22T15:52:00+02:00",
          "2024-05-22T15:53:00+02:00",
          "2024-05-22T15:54:00+02:00",
          "2024-05-22T15:55:00+02:00",
          "2024-05-22T15:56:00+02:00",
          "2024-05-22T15:57:00+02:00",
          "2024-05-22T15:58:00+02:00",
          "2024-05-22T15:59:00+02:00",
          "2024-05-22T16:00:00+02:00",
          "2024-05-22T16:01:00+02:00",
          "2024-05-22T16:02:00+02:00",
          "2024-05-22T16:03:00+02:00",
          "2024-05-22T16:04:00+02:00",
          "2024-05-22T16:05:00+02:00",
          "2024-05-22T16:06:00+02:00",
          "2024-05-22T16:07:00+02:00",
          "2024-05-22T16:08:00+02:00",
          "2024-05-22T16:09:00+02:00",
          "2024-05-22T16:10:00+02:00",
          "2024-05-22T16:11:00+02:00",
          "2024-05-22T16:12:00+02:00",
          "2024-05-22T16:13:00+02:00",
          "2024-05-22T16:14:00+02:00",
          "2024-05-22T16:15:00+02:00",
          "2024-05-22T16:16:00+02:00",
          "2024-05-22T16:17:00+02:00",
          "2024-05-22T16:18:00+02:00",
          "2024-05-22T16:19:00+02:00",
          "2024-05-22T16:20:00+02:00",
          "2024-05-22T16:21:00+02:00",
          "2024-05-22T16:22:00+02:00",
          "2024-05-22T16:23:00+02:00",
          "2024-05-22T16:24:00+02:00",
          "2024-05-22T16:25:00+02:00",
          "2024-05-22T16:26:00+02:00",
          "2024-05-22T16:27:00+02:00",
          "2024-05-22T16:28:00+02:00",
          "2024-05-22T16:29:00+02:00",
          "2024-05-22T16:30:00+02:00",
          "2024-05-22T16:31:00+02:00",
          "2024-05-22T16:32:00+02:00",
          "2024-05-22T16:33:00+02:00",
          "2024-05-22T16:34:00+02:00",
          "2024-05-22T16:35:00+02:00",
          "2024-05-22T16:36:00+02:00",
          "2024-05-22T16:37:00+02:00",
          "2024-05-22T16:38:00+02:00",
          "2024-05-22T16:39:00+02:00",
          "2024-05-22T16:40:00+02:00",
          "2024-05-22T16:41:00+02:00"
         ],
         "xaxis": "x",
         "y": [
          0,
          0.0333333333333333,
          4.666666666666667,
          0.25,
          0.1666666666666666,
          0.1666666666666666,
          0.1666666666666666,
          0.1666666666666666,
          0.1666666666666666,
          0.1666666666666666,
          0.15,
          0.1666666666666666,
          0.0166666666666666,
          0.1666666666666666,
          0.1666666666666666,
          0.1666666666666666,
          0.1666666666666666,
          0.1666666666666666,
          0.1666666666666666,
          0.1666666666666666,
          0.1666666666666666,
          0.1666666666666666,
          0.1666666666666666,
          0.1666666666666666,
          0.1666666666666666,
          0.1666666666666666,
          0.1666666666666666,
          0.1666666666666666,
          0.1666666666666666,
          0.3,
          0.15,
          0.1666666666666666,
          0.0166666666666666,
          0.1666666666666666,
          0.1666666666666666,
          0.1666666666666666,
          0.1666666666666666,
          0.1666666666666666,
          0.1666666666666666,
          0.1666666666666666,
          0.1666666666666666,
          0.1666666666666666,
          0.1666666666666666,
          0.1666666666666666,
          0.1666666666666666,
          0.1666666666666666,
          0.1666666666666666,
          0.1666666666666666,
          0.1666666666666666,
          0.1666666666666666,
          0.1666666666666666,
          0.0333333333333333,
          0.1333333333333333,
          0.1666666666666666,
          0.1666666666666666,
          0.1666666666666666,
          0.5666666666666667,
          0.0166666666666666,
          0,
          0.2666666666666666
         ],
         "yaxis": "y"
        },
        {
         "hovertemplate": "actor=Standalone (CIFAR10)<br>remote_type=%{x}<br>VMs Different Region (outside europe-west4)=%{y}<extra></extra>",
         "legendgroup": "Standalone (CIFAR10)",
         "line": {
          "color": "#FFA15A",
          "dash": "solid"
         },
         "marker": {
          "symbol": "circle"
         },
         "mode": "lines",
         "name": "Standalone (CIFAR10)",
         "orientation": "v",
         "showlegend": true,
         "type": "scatter",
         "x": [
          "2024-05-22T14:15:00+02:00",
          "2024-05-22T14:16:00+02:00",
          "2024-05-22T14:17:00+02:00",
          "2024-05-22T14:18:00+02:00",
          "2024-05-22T14:19:00+02:00",
          "2024-05-22T14:20:00+02:00",
          "2024-05-22T14:21:00+02:00",
          "2024-05-22T14:22:00+02:00",
          "2024-05-22T14:23:00+02:00",
          "2024-05-22T14:24:00+02:00",
          "2024-05-22T14:25:00+02:00",
          "2024-05-22T14:26:00+02:00",
          "2024-05-22T14:27:00+02:00",
          "2024-05-22T14:28:00+02:00",
          "2024-05-22T14:29:00+02:00",
          "2024-05-22T14:30:00+02:00",
          "2024-05-22T14:31:00+02:00",
          "2024-05-22T14:32:00+02:00",
          "2024-05-22T14:33:00+02:00",
          "2024-05-22T14:34:00+02:00",
          "2024-05-22T14:35:00+02:00",
          "2024-05-22T14:36:00+02:00",
          "2024-05-22T14:37:00+02:00",
          "2024-05-22T14:38:00+02:00"
         ],
         "xaxis": "x",
         "y": [
          null,
          null,
          null,
          null,
          null,
          null,
          null,
          null,
          null,
          null,
          null,
          null,
          null,
          null,
          null,
          null,
          null,
          null,
          null,
          null,
          null,
          null,
          null,
          null
         ],
         "yaxis": "y"
        },
        {
         "hovertemplate": "actor=Worker (20, CIFAR10)<br>remote_type=%{x}<br>VMs Different Region (outside europe-west4)=%{y}<extra></extra>",
         "legendgroup": "Worker (20, CIFAR10)",
         "line": {
          "color": "#19d3f3",
          "dash": "solid"
         },
         "marker": {
          "symbol": "circle"
         },
         "mode": "lines",
         "name": "Worker (20, CIFAR10)",
         "orientation": "v",
         "showlegend": true,
         "type": "scatter",
         "x": [
          "2024-05-22T18:18:00+02:00",
          "2024-05-22T18:19:00+02:00",
          "2024-05-22T18:20:00+02:00",
          "2024-05-22T18:21:00+02:00",
          "2024-05-22T18:22:00+02:00",
          "2024-05-22T18:23:00+02:00",
          "2024-05-22T18:24:00+02:00",
          "2024-05-22T18:25:00+02:00",
          "2024-05-22T18:26:00+02:00",
          "2024-05-22T18:27:00+02:00",
          "2024-05-22T18:28:00+02:00",
          "2024-05-22T18:29:00+02:00",
          "2024-05-22T18:30:00+02:00",
          "2024-05-22T18:31:00+02:00",
          "2024-05-22T18:32:00+02:00",
          "2024-05-22T18:33:00+02:00",
          "2024-05-22T18:34:00+02:00",
          "2024-05-22T18:35:00+02:00",
          "2024-05-22T18:36:00+02:00",
          "2024-05-22T18:37:00+02:00",
          "2024-05-22T18:38:00+02:00",
          "2024-05-22T18:39:00+02:00",
          "2024-05-22T18:40:00+02:00",
          "2024-05-22T18:41:00+02:00",
          "2024-05-22T18:42:00+02:00",
          "2024-05-22T18:43:00+02:00",
          "2024-05-22T18:44:00+02:00",
          "2024-05-22T18:45:00+02:00",
          "2024-05-22T18:46:00+02:00",
          "2024-05-22T18:47:00+02:00",
          "2024-05-22T18:48:00+02:00",
          "2024-05-22T18:49:00+02:00",
          "2024-05-22T18:50:00+02:00",
          "2024-05-22T18:51:00+02:00",
          "2024-05-22T18:52:00+02:00",
          "2024-05-22T18:53:00+02:00",
          "2024-05-22T18:54:00+02:00",
          "2024-05-22T18:55:00+02:00",
          "2024-05-22T18:56:00+02:00",
          "2024-05-22T18:57:00+02:00",
          "2024-05-22T18:58:00+02:00",
          "2024-05-22T18:59:00+02:00",
          "2024-05-22T19:00:00+02:00",
          "2024-05-22T19:01:00+02:00",
          "2024-05-22T19:02:00+02:00",
          "2024-05-22T19:03:00+02:00",
          "2024-05-22T19:04:00+02:00",
          "2024-05-22T19:05:00+02:00",
          "2024-05-22T19:06:00+02:00",
          "2024-05-22T19:07:00+02:00",
          "2024-05-22T19:08:00+02:00",
          "2024-05-22T19:09:00+02:00",
          "2024-05-22T19:10:00+02:00",
          "2024-05-22T19:11:00+02:00",
          "2024-05-22T19:12:00+02:00",
          "2024-05-22T19:13:00+02:00",
          "2024-05-22T19:14:00+02:00",
          "2024-05-22T19:15:00+02:00",
          "2024-05-22T19:16:00+02:00",
          "2024-05-22T19:17:00+02:00",
          "2024-05-22T19:18:00+02:00"
         ],
         "xaxis": "x",
         "y": [
          null,
          null,
          null,
          null,
          null,
          null,
          null,
          null,
          null,
          null,
          null,
          null,
          null,
          null,
          null,
          null,
          null,
          null,
          null,
          null,
          null,
          null,
          null,
          null,
          null,
          null,
          null,
          null,
          null,
          null,
          null,
          null,
          null,
          null,
          null,
          null,
          null,
          null,
          null,
          null,
          null,
          null,
          null,
          null,
          null,
          null,
          null,
          null,
          null,
          null,
          null,
          null,
          null,
          null,
          null,
          null,
          null,
          null,
          null,
          null,
          null
         ],
         "yaxis": "y"
        },
        {
         "hovertemplate": "actor=Server (20, CIFAR10)<br>remote_type=%{x}<br>VMs Different Region (outside europe-west4)=%{y}<extra></extra>",
         "legendgroup": "Server (20, CIFAR10)",
         "line": {
          "color": "#FF6692",
          "dash": "solid"
         },
         "marker": {
          "symbol": "circle"
         },
         "mode": "lines",
         "name": "Server (20, CIFAR10)",
         "orientation": "v",
         "showlegend": true,
         "type": "scatter",
         "x": [
          "2024-05-22T18:20:00+02:00",
          "2024-05-22T18:21:00+02:00",
          "2024-05-22T18:22:00+02:00",
          "2024-05-22T18:23:00+02:00",
          "2024-05-22T18:24:00+02:00",
          "2024-05-22T18:25:00+02:00",
          "2024-05-22T18:26:00+02:00",
          "2024-05-22T18:27:00+02:00",
          "2024-05-22T18:28:00+02:00",
          "2024-05-22T18:29:00+02:00",
          "2024-05-22T18:30:00+02:00",
          "2024-05-22T18:31:00+02:00",
          "2024-05-22T18:32:00+02:00",
          "2024-05-22T18:33:00+02:00",
          "2024-05-22T18:34:00+02:00",
          "2024-05-22T18:35:00+02:00",
          "2024-05-22T18:36:00+02:00",
          "2024-05-22T18:37:00+02:00",
          "2024-05-22T18:38:00+02:00",
          "2024-05-22T18:39:00+02:00",
          "2024-05-22T18:40:00+02:00",
          "2024-05-22T18:41:00+02:00",
          "2024-05-22T18:42:00+02:00",
          "2024-05-22T18:43:00+02:00",
          "2024-05-22T18:44:00+02:00",
          "2024-05-22T18:45:00+02:00",
          "2024-05-22T18:46:00+02:00",
          "2024-05-22T18:47:00+02:00",
          "2024-05-22T18:48:00+02:00",
          "2024-05-22T18:49:00+02:00",
          "2024-05-22T18:50:00+02:00",
          "2024-05-22T18:51:00+02:00",
          "2024-05-22T18:52:00+02:00",
          "2024-05-22T18:53:00+02:00",
          "2024-05-22T18:54:00+02:00",
          "2024-05-22T18:55:00+02:00",
          "2024-05-22T18:56:00+02:00",
          "2024-05-22T18:57:00+02:00",
          "2024-05-22T18:58:00+02:00",
          "2024-05-22T18:59:00+02:00",
          "2024-05-22T19:00:00+02:00",
          "2024-05-22T19:01:00+02:00",
          "2024-05-22T19:02:00+02:00",
          "2024-05-22T19:03:00+02:00",
          "2024-05-22T19:04:00+02:00",
          "2024-05-22T19:05:00+02:00",
          "2024-05-22T19:06:00+02:00",
          "2024-05-22T19:07:00+02:00",
          "2024-05-22T19:08:00+02:00",
          "2024-05-22T19:09:00+02:00",
          "2024-05-22T19:10:00+02:00",
          "2024-05-22T19:11:00+02:00",
          "2024-05-22T19:12:00+02:00",
          "2024-05-22T19:13:00+02:00",
          "2024-05-22T19:14:00+02:00",
          "2024-05-22T19:15:00+02:00",
          "2024-05-22T19:16:00+02:00",
          "2024-05-22T19:17:00+02:00",
          "2024-05-22T19:18:00+02:00",
          "2024-05-22T19:19:00+02:00"
         ],
         "xaxis": "x",
         "y": [
          null,
          null,
          null,
          null,
          null,
          null,
          null,
          null,
          null,
          null,
          null,
          null,
          null,
          null,
          null,
          null,
          null,
          null,
          null,
          null,
          null,
          null,
          null,
          null,
          null,
          null,
          null,
          null,
          null,
          null,
          null,
          null,
          null,
          null,
          null,
          null,
          null,
          null,
          null,
          null,
          null,
          null,
          null,
          null,
          null,
          null,
          null,
          null,
          null,
          null,
          null,
          null,
          null,
          null,
          null,
          null,
          null,
          null,
          null,
          null
         ],
         "yaxis": "y"
        }
       ],
       "layout": {
        "height": 600,
        "legend": {
         "title": {
          "text": "actor"
         },
         "tracegroupgap": 0
        },
        "template": {
         "data": {
          "bar": [
           {
            "error_x": {
             "color": "#2a3f5f"
            },
            "error_y": {
             "color": "#2a3f5f"
            },
            "marker": {
             "line": {
              "color": "white",
              "width": 0.5
             },
             "pattern": {
              "fillmode": "overlay",
              "size": 10,
              "solidity": 0.2
             }
            },
            "type": "bar"
           }
          ],
          "barpolar": [
           {
            "marker": {
             "line": {
              "color": "white",
              "width": 0.5
             },
             "pattern": {
              "fillmode": "overlay",
              "size": 10,
              "solidity": 0.2
             }
            },
            "type": "barpolar"
           }
          ],
          "carpet": [
           {
            "aaxis": {
             "endlinecolor": "#2a3f5f",
             "gridcolor": "#C8D4E3",
             "linecolor": "#C8D4E3",
             "minorgridcolor": "#C8D4E3",
             "startlinecolor": "#2a3f5f"
            },
            "baxis": {
             "endlinecolor": "#2a3f5f",
             "gridcolor": "#C8D4E3",
             "linecolor": "#C8D4E3",
             "minorgridcolor": "#C8D4E3",
             "startlinecolor": "#2a3f5f"
            },
            "type": "carpet"
           }
          ],
          "choropleth": [
           {
            "colorbar": {
             "outlinewidth": 0,
             "ticks": ""
            },
            "type": "choropleth"
           }
          ],
          "contour": [
           {
            "colorbar": {
             "outlinewidth": 0,
             "ticks": ""
            },
            "colorscale": [
             [
              0,
              "#0d0887"
             ],
             [
              0.1111111111111111,
              "#46039f"
             ],
             [
              0.2222222222222222,
              "#7201a8"
             ],
             [
              0.3333333333333333,
              "#9c179e"
             ],
             [
              0.4444444444444444,
              "#bd3786"
             ],
             [
              0.5555555555555556,
              "#d8576b"
             ],
             [
              0.6666666666666666,
              "#ed7953"
             ],
             [
              0.7777777777777778,
              "#fb9f3a"
             ],
             [
              0.8888888888888888,
              "#fdca26"
             ],
             [
              1,
              "#f0f921"
             ]
            ],
            "type": "contour"
           }
          ],
          "contourcarpet": [
           {
            "colorbar": {
             "outlinewidth": 0,
             "ticks": ""
            },
            "type": "contourcarpet"
           }
          ],
          "heatmap": [
           {
            "colorbar": {
             "outlinewidth": 0,
             "ticks": ""
            },
            "colorscale": [
             [
              0,
              "#0d0887"
             ],
             [
              0.1111111111111111,
              "#46039f"
             ],
             [
              0.2222222222222222,
              "#7201a8"
             ],
             [
              0.3333333333333333,
              "#9c179e"
             ],
             [
              0.4444444444444444,
              "#bd3786"
             ],
             [
              0.5555555555555556,
              "#d8576b"
             ],
             [
              0.6666666666666666,
              "#ed7953"
             ],
             [
              0.7777777777777778,
              "#fb9f3a"
             ],
             [
              0.8888888888888888,
              "#fdca26"
             ],
             [
              1,
              "#f0f921"
             ]
            ],
            "type": "heatmap"
           }
          ],
          "heatmapgl": [
           {
            "colorbar": {
             "outlinewidth": 0,
             "ticks": ""
            },
            "colorscale": [
             [
              0,
              "#0d0887"
             ],
             [
              0.1111111111111111,
              "#46039f"
             ],
             [
              0.2222222222222222,
              "#7201a8"
             ],
             [
              0.3333333333333333,
              "#9c179e"
             ],
             [
              0.4444444444444444,
              "#bd3786"
             ],
             [
              0.5555555555555556,
              "#d8576b"
             ],
             [
              0.6666666666666666,
              "#ed7953"
             ],
             [
              0.7777777777777778,
              "#fb9f3a"
             ],
             [
              0.8888888888888888,
              "#fdca26"
             ],
             [
              1,
              "#f0f921"
             ]
            ],
            "type": "heatmapgl"
           }
          ],
          "histogram": [
           {
            "marker": {
             "pattern": {
              "fillmode": "overlay",
              "size": 10,
              "solidity": 0.2
             }
            },
            "type": "histogram"
           }
          ],
          "histogram2d": [
           {
            "colorbar": {
             "outlinewidth": 0,
             "ticks": ""
            },
            "colorscale": [
             [
              0,
              "#0d0887"
             ],
             [
              0.1111111111111111,
              "#46039f"
             ],
             [
              0.2222222222222222,
              "#7201a8"
             ],
             [
              0.3333333333333333,
              "#9c179e"
             ],
             [
              0.4444444444444444,
              "#bd3786"
             ],
             [
              0.5555555555555556,
              "#d8576b"
             ],
             [
              0.6666666666666666,
              "#ed7953"
             ],
             [
              0.7777777777777778,
              "#fb9f3a"
             ],
             [
              0.8888888888888888,
              "#fdca26"
             ],
             [
              1,
              "#f0f921"
             ]
            ],
            "type": "histogram2d"
           }
          ],
          "histogram2dcontour": [
           {
            "colorbar": {
             "outlinewidth": 0,
             "ticks": ""
            },
            "colorscale": [
             [
              0,
              "#0d0887"
             ],
             [
              0.1111111111111111,
              "#46039f"
             ],
             [
              0.2222222222222222,
              "#7201a8"
             ],
             [
              0.3333333333333333,
              "#9c179e"
             ],
             [
              0.4444444444444444,
              "#bd3786"
             ],
             [
              0.5555555555555556,
              "#d8576b"
             ],
             [
              0.6666666666666666,
              "#ed7953"
             ],
             [
              0.7777777777777778,
              "#fb9f3a"
             ],
             [
              0.8888888888888888,
              "#fdca26"
             ],
             [
              1,
              "#f0f921"
             ]
            ],
            "type": "histogram2dcontour"
           }
          ],
          "mesh3d": [
           {
            "colorbar": {
             "outlinewidth": 0,
             "ticks": ""
            },
            "type": "mesh3d"
           }
          ],
          "parcoords": [
           {
            "line": {
             "colorbar": {
              "outlinewidth": 0,
              "ticks": ""
             }
            },
            "type": "parcoords"
           }
          ],
          "pie": [
           {
            "automargin": true,
            "type": "pie"
           }
          ],
          "scatter": [
           {
            "fillpattern": {
             "fillmode": "overlay",
             "size": 10,
             "solidity": 0.2
            },
            "type": "scatter"
           }
          ],
          "scatter3d": [
           {
            "line": {
             "colorbar": {
              "outlinewidth": 0,
              "ticks": ""
             }
            },
            "marker": {
             "colorbar": {
              "outlinewidth": 0,
              "ticks": ""
             }
            },
            "type": "scatter3d"
           }
          ],
          "scattercarpet": [
           {
            "marker": {
             "colorbar": {
              "outlinewidth": 0,
              "ticks": ""
             }
            },
            "type": "scattercarpet"
           }
          ],
          "scattergeo": [
           {
            "marker": {
             "colorbar": {
              "outlinewidth": 0,
              "ticks": ""
             }
            },
            "type": "scattergeo"
           }
          ],
          "scattergl": [
           {
            "marker": {
             "colorbar": {
              "outlinewidth": 0,
              "ticks": ""
             }
            },
            "type": "scattergl"
           }
          ],
          "scattermapbox": [
           {
            "marker": {
             "colorbar": {
              "outlinewidth": 0,
              "ticks": ""
             }
            },
            "type": "scattermapbox"
           }
          ],
          "scatterpolar": [
           {
            "marker": {
             "colorbar": {
              "outlinewidth": 0,
              "ticks": ""
             }
            },
            "type": "scatterpolar"
           }
          ],
          "scatterpolargl": [
           {
            "marker": {
             "colorbar": {
              "outlinewidth": 0,
              "ticks": ""
             }
            },
            "type": "scatterpolargl"
           }
          ],
          "scatterternary": [
           {
            "marker": {
             "colorbar": {
              "outlinewidth": 0,
              "ticks": ""
             }
            },
            "type": "scatterternary"
           }
          ],
          "surface": [
           {
            "colorbar": {
             "outlinewidth": 0,
             "ticks": ""
            },
            "colorscale": [
             [
              0,
              "#0d0887"
             ],
             [
              0.1111111111111111,
              "#46039f"
             ],
             [
              0.2222222222222222,
              "#7201a8"
             ],
             [
              0.3333333333333333,
              "#9c179e"
             ],
             [
              0.4444444444444444,
              "#bd3786"
             ],
             [
              0.5555555555555556,
              "#d8576b"
             ],
             [
              0.6666666666666666,
              "#ed7953"
             ],
             [
              0.7777777777777778,
              "#fb9f3a"
             ],
             [
              0.8888888888888888,
              "#fdca26"
             ],
             [
              1,
              "#f0f921"
             ]
            ],
            "type": "surface"
           }
          ],
          "table": [
           {
            "cells": {
             "fill": {
              "color": "#EBF0F8"
             },
             "line": {
              "color": "white"
             }
            },
            "header": {
             "fill": {
              "color": "#C8D4E3"
             },
             "line": {
              "color": "white"
             }
            },
            "type": "table"
           }
          ]
         },
         "layout": {
          "annotationdefaults": {
           "arrowcolor": "#2a3f5f",
           "arrowhead": 0,
           "arrowwidth": 1
          },
          "autotypenumbers": "strict",
          "coloraxis": {
           "colorbar": {
            "outlinewidth": 0,
            "ticks": ""
           }
          },
          "colorscale": {
           "diverging": [
            [
             0,
             "#8e0152"
            ],
            [
             0.1,
             "#c51b7d"
            ],
            [
             0.2,
             "#de77ae"
            ],
            [
             0.3,
             "#f1b6da"
            ],
            [
             0.4,
             "#fde0ef"
            ],
            [
             0.5,
             "#f7f7f7"
            ],
            [
             0.6,
             "#e6f5d0"
            ],
            [
             0.7,
             "#b8e186"
            ],
            [
             0.8,
             "#7fbc41"
            ],
            [
             0.9,
             "#4d9221"
            ],
            [
             1,
             "#276419"
            ]
           ],
           "sequential": [
            [
             0,
             "#0d0887"
            ],
            [
             0.1111111111111111,
             "#46039f"
            ],
            [
             0.2222222222222222,
             "#7201a8"
            ],
            [
             0.3333333333333333,
             "#9c179e"
            ],
            [
             0.4444444444444444,
             "#bd3786"
            ],
            [
             0.5555555555555556,
             "#d8576b"
            ],
            [
             0.6666666666666666,
             "#ed7953"
            ],
            [
             0.7777777777777778,
             "#fb9f3a"
            ],
            [
             0.8888888888888888,
             "#fdca26"
            ],
            [
             1,
             "#f0f921"
            ]
           ],
           "sequentialminus": [
            [
             0,
             "#0d0887"
            ],
            [
             0.1111111111111111,
             "#46039f"
            ],
            [
             0.2222222222222222,
             "#7201a8"
            ],
            [
             0.3333333333333333,
             "#9c179e"
            ],
            [
             0.4444444444444444,
             "#bd3786"
            ],
            [
             0.5555555555555556,
             "#d8576b"
            ],
            [
             0.6666666666666666,
             "#ed7953"
            ],
            [
             0.7777777777777778,
             "#fb9f3a"
            ],
            [
             0.8888888888888888,
             "#fdca26"
            ],
            [
             1,
             "#f0f921"
            ]
           ]
          },
          "colorway": [
           "#636efa",
           "#EF553B",
           "#00cc96",
           "#ab63fa",
           "#FFA15A",
           "#19d3f3",
           "#FF6692",
           "#B6E880",
           "#FF97FF",
           "#FECB52"
          ],
          "font": {
           "color": "#2a3f5f"
          },
          "geo": {
           "bgcolor": "white",
           "lakecolor": "white",
           "landcolor": "white",
           "showlakes": true,
           "showland": true,
           "subunitcolor": "#C8D4E3"
          },
          "hoverlabel": {
           "align": "left"
          },
          "hovermode": "closest",
          "mapbox": {
           "style": "light"
          },
          "paper_bgcolor": "white",
          "plot_bgcolor": "white",
          "polar": {
           "angularaxis": {
            "gridcolor": "#EBF0F8",
            "linecolor": "#EBF0F8",
            "ticks": ""
           },
           "bgcolor": "white",
           "radialaxis": {
            "gridcolor": "#EBF0F8",
            "linecolor": "#EBF0F8",
            "ticks": ""
           }
          },
          "scene": {
           "xaxis": {
            "backgroundcolor": "white",
            "gridcolor": "#DFE8F3",
            "gridwidth": 2,
            "linecolor": "#EBF0F8",
            "showbackground": true,
            "ticks": "",
            "zerolinecolor": "#EBF0F8"
           },
           "yaxis": {
            "backgroundcolor": "white",
            "gridcolor": "#DFE8F3",
            "gridwidth": 2,
            "linecolor": "#EBF0F8",
            "showbackground": true,
            "ticks": "",
            "zerolinecolor": "#EBF0F8"
           },
           "zaxis": {
            "backgroundcolor": "white",
            "gridcolor": "#DFE8F3",
            "gridwidth": 2,
            "linecolor": "#EBF0F8",
            "showbackground": true,
            "ticks": "",
            "zerolinecolor": "#EBF0F8"
           }
          },
          "shapedefaults": {
           "line": {
            "color": "#2a3f5f"
           }
          },
          "ternary": {
           "aaxis": {
            "gridcolor": "#DFE8F3",
            "linecolor": "#A2B1C6",
            "ticks": ""
           },
           "baxis": {
            "gridcolor": "#DFE8F3",
            "linecolor": "#A2B1C6",
            "ticks": ""
           },
           "bgcolor": "white",
           "caxis": {
            "gridcolor": "#DFE8F3",
            "linecolor": "#A2B1C6",
            "ticks": ""
           }
          },
          "title": {
           "x": 0.05
          },
          "xaxis": {
           "automargin": true,
           "gridcolor": "#EBF0F8",
           "linecolor": "#EBF0F8",
           "ticks": "",
           "title": {
            "standoff": 15
           },
           "zerolinecolor": "#EBF0F8",
           "zerolinewidth": 2
          },
          "yaxis": {
           "automargin": true,
           "gridcolor": "#EBF0F8",
           "linecolor": "#EBF0F8",
           "ticks": "",
           "title": {
            "standoff": 15
           },
           "zerolinecolor": "#EBF0F8",
           "zerolinewidth": 2
          }
         }
        },
        "title": {
         "text": "Net usage"
        },
        "width": 1200,
        "xaxis": {
         "anchor": "y",
         "domain": [
          0,
          1
         ],
         "title": {
          "text": "remote_type"
         }
        },
        "yaxis": {
         "anchor": "x",
         "domain": [
          0,
          1
         ],
         "title": {
          "text": "VMs Different Region (outside europe-west4)"
         }
        }
       }
      }
     },
     "metadata": {},
     "output_type": "display_data"
    },
    {
     "data": {
      "application/vnd.plotly.v1+json": {
       "config": {
        "plotlyServerURL": "https://plot.ly"
       },
       "data": [
        {
         "hovertemplate": "actor=Server (10, CIFAR10)<br>0=%{x}<br>1=%{y}<extra></extra>",
         "legendgroup": "Server (10, CIFAR10)",
         "line": {
          "color": "#636efa",
          "dash": "solid"
         },
         "marker": {
          "symbol": "circle"
         },
         "mode": "lines",
         "name": "Server (10, CIFAR10)",
         "orientation": "v",
         "showlegend": true,
         "type": "scatter",
         "x": [
          "2024-05-22T15:43:00+02:00",
          "2024-05-22T15:44:00+02:00",
          "2024-05-22T15:45:00+02:00",
          "2024-05-22T15:46:00+02:00",
          "2024-05-22T15:47:00+02:00",
          "2024-05-22T15:48:00+02:00",
          "2024-05-22T15:49:00+02:00",
          "2024-05-22T15:50:00+02:00",
          "2024-05-22T15:51:00+02:00",
          "2024-05-22T15:52:00+02:00",
          "2024-05-22T15:53:00+02:00",
          "2024-05-22T15:54:00+02:00",
          "2024-05-22T15:55:00+02:00",
          "2024-05-22T15:56:00+02:00",
          "2024-05-22T15:57:00+02:00",
          "2024-05-22T15:58:00+02:00",
          "2024-05-22T15:59:00+02:00",
          "2024-05-22T16:00:00+02:00",
          "2024-05-22T16:01:00+02:00",
          "2024-05-22T16:02:00+02:00",
          "2024-05-22T16:03:00+02:00",
          "2024-05-22T16:04:00+02:00",
          "2024-05-22T16:05:00+02:00",
          "2024-05-22T16:06:00+02:00",
          "2024-05-22T16:07:00+02:00",
          "2024-05-22T16:08:00+02:00",
          "2024-05-22T16:09:00+02:00",
          "2024-05-22T16:10:00+02:00",
          "2024-05-22T16:11:00+02:00",
          "2024-05-22T16:12:00+02:00",
          "2024-05-22T16:13:00+02:00",
          "2024-05-22T16:14:00+02:00",
          "2024-05-22T16:15:00+02:00",
          "2024-05-22T16:16:00+02:00",
          "2024-05-22T16:17:00+02:00",
          "2024-05-22T16:18:00+02:00",
          "2024-05-22T16:19:00+02:00",
          "2024-05-22T16:20:00+02:00",
          "2024-05-22T16:21:00+02:00",
          "2024-05-22T16:22:00+02:00",
          "2024-05-22T16:23:00+02:00",
          "2024-05-22T16:24:00+02:00",
          "2024-05-22T16:25:00+02:00",
          "2024-05-22T16:26:00+02:00",
          "2024-05-22T16:27:00+02:00",
          "2024-05-22T16:28:00+02:00",
          "2024-05-22T16:29:00+02:00",
          "2024-05-22T16:30:00+02:00",
          "2024-05-22T16:31:00+02:00",
          "2024-05-22T16:32:00+02:00",
          "2024-05-22T16:33:00+02:00",
          "2024-05-22T16:34:00+02:00",
          "2024-05-22T16:35:00+02:00",
          "2024-05-22T16:36:00+02:00",
          "2024-05-22T16:37:00+02:00",
          "2024-05-22T16:38:00+02:00"
         ],
         "xaxis": "x",
         "y": [
          223606.73333333337,
          2747571.8333333335,
          8736951.983333332,
          8013328.283333333,
          8024993.116666666,
          8377221.15,
          7996062.783333333,
          8066824.6,
          8385926.2,
          7926214.9,
          7797320.283333333,
          7122300.033333333,
          7279687.583333333,
          7854492.233333333,
          7387943.3,
          7796885.766666667,
          7252535.733333333,
          7987045.883333334,
          7717534.066666666,
          7463978.35,
          7801981.133333334,
          7279675.933333334,
          7834539.866666666,
          7174416.75,
          7388188.783333333,
          7809666.466666667,
          7435273.733333333,
          8862402.433333334,
          9205697.633333333,
          7355126.55,
          7792163.35,
          7118050.6,
          7232127.083333333,
          7933711.35,
          8716533.8,
          8681287.116666667,
          7371174.95,
          8606006.9,
          7800592.583333333,
          7198607.7,
          7596395.633333334,
          8991311.8,
          7926662.1,
          7967171.5,
          8568297.866666667,
          8361707.566666666,
          9071485.983333332,
          6716111.733333333,
          7312628.433333334,
          7811386.566666666,
          7510411.633333334,
          9214868.35,
          8380515.833333333,
          6713688.366666666,
          7871113.983333333,
          6650851.566666666
         ],
         "yaxis": "y"
        },
        {
         "hovertemplate": "actor=Worker (5, CIFAR10)<br>0=%{x}<br>1=%{y}<extra></extra>",
         "legendgroup": "Worker (5, CIFAR10)",
         "line": {
          "color": "#EF553B",
          "dash": "solid"
         },
         "marker": {
          "symbol": "circle"
         },
         "mode": "lines",
         "name": "Worker (5, CIFAR10)",
         "orientation": "v",
         "showlegend": true,
         "type": "scatter",
         "x": [
          "2024-05-22T13:33:00+02:00",
          "2024-05-22T13:34:00+02:00",
          "2024-05-22T13:35:00+02:00",
          "2024-05-22T13:36:00+02:00",
          "2024-05-22T13:37:00+02:00",
          "2024-05-22T13:38:00+02:00",
          "2024-05-22T13:39:00+02:00",
          "2024-05-22T13:40:00+02:00",
          "2024-05-22T13:41:00+02:00",
          "2024-05-22T13:42:00+02:00",
          "2024-05-22T13:43:00+02:00",
          "2024-05-22T13:44:00+02:00",
          "2024-05-22T13:45:00+02:00",
          "2024-05-22T13:46:00+02:00",
          "2024-05-22T13:47:00+02:00",
          "2024-05-22T13:48:00+02:00",
          "2024-05-22T13:49:00+02:00",
          "2024-05-22T13:50:00+02:00",
          "2024-05-22T13:51:00+02:00",
          "2024-05-22T13:52:00+02:00",
          "2024-05-22T13:53:00+02:00",
          "2024-05-22T13:54:00+02:00",
          "2024-05-22T13:55:00+02:00",
          "2024-05-22T13:56:00+02:00",
          "2024-05-22T13:57:00+02:00",
          "2024-05-22T13:58:00+02:00",
          "2024-05-22T13:59:00+02:00",
          "2024-05-22T14:00:00+02:00",
          "2024-05-22T14:01:00+02:00",
          "2024-05-22T14:02:00+02:00",
          "2024-05-22T14:03:00+02:00",
          "2024-05-22T14:04:00+02:00",
          "2024-05-22T14:05:00+02:00",
          "2024-05-22T14:06:00+02:00",
          "2024-05-22T14:07:00+02:00",
          "2024-05-22T14:08:00+02:00",
          "2024-05-22T14:09:00+02:00",
          "2024-05-22T14:10:00+02:00",
          "2024-05-22T14:11:00+02:00",
          "2024-05-22T14:12:00+02:00",
          "2024-05-22T14:13:00+02:00",
          "2024-05-22T14:14:00+02:00",
          "2024-05-22T14:15:00+02:00",
          "2024-05-22T14:16:00+02:00",
          "2024-05-22T14:17:00+02:00",
          "2024-05-22T14:18:00+02:00",
          "2024-05-22T14:19:00+02:00",
          "2024-05-22T14:20:00+02:00",
          "2024-05-22T14:21:00+02:00",
          "2024-05-22T14:22:00+02:00",
          "2024-05-22T14:23:00+02:00",
          "2024-05-22T14:24:00+02:00",
          "2024-05-22T14:25:00+02:00",
          "2024-05-22T14:26:00+02:00",
          "2024-05-22T14:27:00+02:00",
          "2024-05-22T14:28:00+02:00",
          "2024-05-22T14:29:00+02:00",
          "2024-05-22T14:30:00+02:00",
          "2024-05-22T14:31:00+02:00",
          "2024-05-22T14:32:00+02:00",
          "2024-05-22T14:33:00+02:00",
          "2024-05-22T14:34:00+02:00",
          "2024-05-22T14:35:00+02:00",
          "2024-05-22T14:36:00+02:00",
          "2024-05-22T14:37:00+02:00",
          "2024-05-22T14:38:00+02:00",
          "2024-05-22T14:39:00+02:00",
          "2024-05-22T14:40:00+02:00",
          "2024-05-22T14:41:00+02:00",
          "2024-05-22T14:42:00+02:00",
          "2024-05-22T14:43:00+02:00",
          "2024-05-22T14:44:00+02:00",
          "2024-05-22T14:45:00+02:00",
          "2024-05-22T14:46:00+02:00",
          "2024-05-22T14:47:00+02:00",
          "2024-05-22T14:48:00+02:00",
          "2024-05-22T14:49:00+02:00",
          "2024-05-22T14:50:00+02:00",
          "2024-05-22T14:51:00+02:00",
          "2024-05-22T14:52:00+02:00",
          "2024-05-22T14:53:00+02:00",
          "2024-05-22T14:54:00+02:00",
          "2024-05-22T14:55:00+02:00",
          "2024-05-22T14:56:00+02:00",
          "2024-05-22T14:57:00+02:00",
          "2024-05-22T14:58:00+02:00",
          "2024-05-22T14:59:00+02:00",
          "2024-05-22T15:00:00+02:00",
          "2024-05-22T15:01:00+02:00",
          "2024-05-22T15:02:00+02:00",
          "2024-05-22T15:03:00+02:00",
          "2024-05-22T15:04:00+02:00",
          "2024-05-22T15:05:00+02:00",
          "2024-05-22T15:06:00+02:00",
          "2024-05-22T15:07:00+02:00",
          "2024-05-22T15:08:00+02:00",
          "2024-05-22T15:09:00+02:00",
          "2024-05-22T15:10:00+02:00",
          "2024-05-22T15:11:00+02:00",
          "2024-05-22T15:12:00+02:00",
          "2024-05-22T15:13:00+02:00",
          "2024-05-22T15:14:00+02:00",
          "2024-05-22T15:15:00+02:00",
          "2024-05-22T15:16:00+02:00",
          "2024-05-22T15:17:00+02:00",
          "2024-05-22T15:18:00+02:00",
          "2024-05-22T15:19:00+02:00",
          "2024-05-22T15:20:00+02:00",
          "2024-05-22T15:21:00+02:00",
          "2024-05-22T15:22:00+02:00",
          "2024-05-22T15:23:00+02:00",
          "2024-05-22T15:24:00+02:00",
          "2024-05-22T15:25:00+02:00",
          "2024-05-22T15:26:00+02:00",
          "2024-05-22T15:27:00+02:00",
          "2024-05-22T15:28:00+02:00",
          "2024-05-22T15:29:00+02:00",
          "2024-05-22T15:30:00+02:00",
          "2024-05-22T15:31:00+02:00",
          "2024-05-22T15:32:00+02:00",
          "2024-05-22T15:33:00+02:00",
          "2024-05-22T15:34:00+02:00",
          "2024-05-22T15:35:00+02:00",
          "2024-05-22T15:36:00+02:00",
          "2024-05-22T15:37:00+02:00",
          "2024-05-22T15:38:00+02:00",
          "2024-05-22T15:39:00+02:00",
          "2024-05-22T15:40:00+02:00",
          "2024-05-22T15:41:00+02:00",
          "2024-05-22T15:42:00+02:00",
          "2024-05-22T15:43:00+02:00",
          "2024-05-22T15:44:00+02:00",
          "2024-05-22T15:45:00+02:00"
         ],
         "xaxis": "x",
         "y": [
          314.46666666666664,
          265.9,
          297.76666666666665,
          266.8,
          268.76666666666665,
          194.95,
          409.95,
          328.4166666666667,
          278.4166666666667,
          275.8,
          304.6333333333333,
          258.53333333333336,
          269.6333333333333,
          292.3666666666667,
          263.48333333333335,
          272.23333333333335,
          281.55,
          279.28333333333336,
          268.03333333333336,
          8528.25,
          58297.066666666666,
          1031.3166666666666,
          2065.8166666666666,
          486289.85,
          3994810.2666666666,
          4554034.666666667,
          4265186.383333334,
          3843053.2,
          4508037.183333334,
          4125835.533333333,
          3574079.1166666667,
          3805682.8333333335,
          3930869.6666666665,
          4450402,
          3781671.966666667,
          3673749.15,
          4533379.016666667,
          4570028.683333334,
          4287366.966666667,
          4426109.533333333,
          3895095.6,
          4195882.316666666,
          3849333.4,
          3814862.866666666,
          3892663.683333333,
          4151476.0833333335,
          3848376.25,
          3836471.383333334,
          4077169.966666667,
          4092507.283333333,
          4581338.783333333,
          4489684.633333334,
          3989368.716666667,
          4119365.866666666,
          3825654.6666666665,
          3859183.95,
          3841858.933333333,
          3989574.366666666,
          4415407.416666667,
          3821785.3333333335,
          3809250.2666666666,
          3613475.716666667,
          4193450.216666667,
          4337730.016666667,
          4170249.283333333,
          3986725.2666666666,
          4181605.75,
          4142041.816666667,
          4009245.133333334,
          4585287.933333334,
          4546940.75,
          4222383.033333333,
          3846393.75,
          3845089.866666666,
          3858187.3333333335,
          4085667.55,
          4559940.816666666,
          3850780.9166666665,
          3776819.4833333334,
          3582721.4166666665,
          3901146.15,
          4187270.85,
          4214066.316666666,
          3973392.433333333,
          4228320.833333333,
          4219195.333333333,
          4023050.5833333335,
          4045540.966666667,
          4220144.016666667,
          4284246.05,
          3981713.2,
          4215294.05,
          4179903.1,
          4068790.5,
          4413413.35,
          4522785.2,
          4232239.2,
          4137234.366666666,
          3525192,
          3879895.183333333,
          4110752.0166666666,
          4000469.933333333,
          1873492.75,
          878.45,
          322.31666666666666,
          375.6666666666667,
          31277.45,
          240492.53333333333,
          161473.08333333334,
          337.4166666666667,
          336.3,
          314.45,
          218.81666666666663,
          332.68333333333334,
          335.98333333333335,
          333.06666666666666,
          336.53333333333336,
          332.25,
          328.3666666666667,
          326.45,
          394.53333333333336,
          1350.3666666666666,
          6453.283333333334,
          564.2,
          317.7,
          335.95,
          329.8666666666667,
          226.76666666666668,
          441.6,
          1192.75,
          117585.21666666666,
          1376589.7,
          4372160.316666666
         ],
         "yaxis": "y"
        },
        {
         "hovertemplate": "actor=Server (5, CIFAR10)<br>0=%{x}<br>1=%{y}<extra></extra>",
         "legendgroup": "Server (5, CIFAR10)",
         "line": {
          "color": "#00cc96",
          "dash": "solid"
         },
         "marker": {
          "symbol": "circle"
         },
         "mode": "lines",
         "name": "Server (5, CIFAR10)",
         "orientation": "v",
         "showlegend": true,
         "type": "scatter",
         "x": [
          "2024-05-22T13:47:00+02:00",
          "2024-05-22T13:48:00+02:00",
          "2024-05-22T13:49:00+02:00",
          "2024-05-22T13:50:00+02:00",
          "2024-05-22T13:51:00+02:00",
          "2024-05-22T13:52:00+02:00",
          "2024-05-22T13:53:00+02:00",
          "2024-05-22T13:54:00+02:00",
          "2024-05-22T13:55:00+02:00",
          "2024-05-22T13:56:00+02:00",
          "2024-05-22T13:57:00+02:00",
          "2024-05-22T13:58:00+02:00",
          "2024-05-22T13:59:00+02:00",
          "2024-05-22T14:00:00+02:00",
          "2024-05-22T14:01:00+02:00",
          "2024-05-22T14:02:00+02:00",
          "2024-05-22T14:03:00+02:00",
          "2024-05-22T14:04:00+02:00",
          "2024-05-22T14:05:00+02:00",
          "2024-05-22T14:06:00+02:00",
          "2024-05-22T14:07:00+02:00",
          "2024-05-22T14:08:00+02:00",
          "2024-05-22T14:09:00+02:00",
          "2024-05-22T14:10:00+02:00",
          "2024-05-22T14:11:00+02:00",
          "2024-05-22T14:12:00+02:00",
          "2024-05-22T14:13:00+02:00",
          "2024-05-22T14:14:00+02:00",
          "2024-05-22T14:15:00+02:00",
          "2024-05-22T14:16:00+02:00",
          "2024-05-22T14:17:00+02:00",
          "2024-05-22T14:18:00+02:00",
          "2024-05-22T14:19:00+02:00",
          "2024-05-22T14:20:00+02:00",
          "2024-05-22T14:21:00+02:00",
          "2024-05-22T14:22:00+02:00",
          "2024-05-22T14:23:00+02:00",
          "2024-05-22T14:24:00+02:00",
          "2024-05-22T14:25:00+02:00",
          "2024-05-22T14:26:00+02:00",
          "2024-05-22T14:27:00+02:00",
          "2024-05-22T14:28:00+02:00",
          "2024-05-22T14:29:00+02:00",
          "2024-05-22T14:30:00+02:00",
          "2024-05-22T14:31:00+02:00",
          "2024-05-22T14:32:00+02:00",
          "2024-05-22T14:33:00+02:00",
          "2024-05-22T14:34:00+02:00",
          "2024-05-22T14:35:00+02:00",
          "2024-05-22T14:36:00+02:00",
          "2024-05-22T14:37:00+02:00",
          "2024-05-22T14:38:00+02:00",
          "2024-05-22T14:39:00+02:00",
          "2024-05-22T14:40:00+02:00",
          "2024-05-22T14:41:00+02:00",
          "2024-05-22T14:42:00+02:00",
          "2024-05-22T14:43:00+02:00",
          "2024-05-22T14:44:00+02:00",
          "2024-05-22T14:45:00+02:00",
          "2024-05-22T14:46:00+02:00",
          "2024-05-22T14:47:00+02:00",
          "2024-05-22T14:48:00+02:00",
          "2024-05-22T14:49:00+02:00",
          "2024-05-22T14:50:00+02:00",
          "2024-05-22T14:51:00+02:00",
          "2024-05-22T14:52:00+02:00",
          "2024-05-22T14:53:00+02:00",
          "2024-05-22T14:54:00+02:00",
          "2024-05-22T14:55:00+02:00",
          "2024-05-22T14:56:00+02:00",
          "2024-05-22T14:57:00+02:00",
          "2024-05-22T14:58:00+02:00",
          "2024-05-22T14:59:00+02:00",
          "2024-05-22T15:00:00+02:00",
          "2024-05-22T15:01:00+02:00",
          "2024-05-22T15:02:00+02:00",
          "2024-05-22T15:03:00+02:00",
          "2024-05-22T15:04:00+02:00",
          "2024-05-22T15:05:00+02:00",
          "2024-05-22T15:06:00+02:00",
          "2024-05-22T15:07:00+02:00",
          "2024-05-22T15:08:00+02:00",
          "2024-05-22T15:09:00+02:00",
          "2024-05-22T15:10:00+02:00",
          "2024-05-22T15:11:00+02:00",
          "2024-05-22T15:12:00+02:00",
          "2024-05-22T15:13:00+02:00",
          "2024-05-22T15:14:00+02:00",
          "2024-05-22T15:15:00+02:00",
          "2024-05-22T15:16:00+02:00",
          "2024-05-22T15:17:00+02:00",
          "2024-05-22T15:18:00+02:00",
          "2024-05-22T15:19:00+02:00",
          "2024-05-22T15:20:00+02:00",
          "2024-05-22T15:21:00+02:00"
         ],
         "xaxis": "x",
         "y": [
          277,
          273.73333333333335,
          271.98333333333335,
          172.13333333333333,
          287.43333333333334,
          11271.733333333334,
          86197.56666666667,
          1201.9666666666667,
          3084.7833333333333,
          909824.1666666666,
          8104567.85,
          9048459.133333333,
          8442794.75,
          7772679.133333334,
          8981899.5,
          8229291.6,
          7137850.2,
          7641361.25,
          7786844.833333333,
          8879012.45,
          7429431.266666667,
          7420900.066666666,
          9030191.083333334,
          9054892,
          8508808.9,
          8882786.7,
          7759664.166666667,
          8379741.783333333,
          7681082.85,
          7607297.283333333,
          7744732.55,
          8294513.983333333,
          7643560.716666667,
          7668084.133333334,
          8170983.266666667,
          8135924.85,
          9262873.183333334,
          9091270,
          8052848.666666667,
          8309650.416666667,
          7629723.733333333,
          7693921.366666666,
          7703076.45,
          8114138.216666667,
          9025453.866666667,
          7686374.95,
          7614462.716666667,
          7199001.216666667,
          8328642.85,
          8662683.533333333,
          8344518.166666667,
          8279322.966666667,
          8531235.6,
          8459725.616666667,
          8166215.516666667,
          9337571.95,
          9306846.066666666,
          8619849.166666666,
          7768662.433333334,
          7663802.15,
          7715342.916666667,
          8268981,
          9199520.483333332,
          7789442.483333333,
          7541038.233333333,
          7148354.183333334,
          7809789.65,
          8701272.8,
          8688347.55,
          8145053.866666666,
          8696281.533333333,
          8619103.816666666,
          8170206.45,
          8520326.533333333,
          8708324.033333333,
          8719889.866666667,
          8210941.716666667,
          8720998.433333334,
          8605532.833333334,
          8242151.283333333,
          9237287,
          9038116.9,
          8445586.266666668,
          8261365.6,
          7036331,
          7707539.216666667,
          8078539.266666667,
          8173728.333333333,
          3610532.783333333,
          415.8666666666667,
          34099.4,
          730959.6666666666,
          5481133.2,
          15828167.666666666,
          15869587.4
         ],
         "yaxis": "y"
        },
        {
         "hovertemplate": "actor=Worker (10, CIFAR10)<br>0=%{x}<br>1=%{y}<extra></extra>",
         "legendgroup": "Worker (10, CIFAR10)",
         "line": {
          "color": "#ab63fa",
          "dash": "solid"
         },
         "marker": {
          "symbol": "circle"
         },
         "mode": "lines",
         "name": "Worker (10, CIFAR10)",
         "orientation": "v",
         "showlegend": true,
         "type": "scatter",
         "x": [
          "2024-05-22T15:44:00+02:00",
          "2024-05-22T15:45:00+02:00",
          "2024-05-22T15:46:00+02:00",
          "2024-05-22T15:47:00+02:00",
          "2024-05-22T15:48:00+02:00",
          "2024-05-22T15:49:00+02:00",
          "2024-05-22T15:50:00+02:00",
          "2024-05-22T15:51:00+02:00",
          "2024-05-22T15:52:00+02:00",
          "2024-05-22T15:53:00+02:00",
          "2024-05-22T15:54:00+02:00",
          "2024-05-22T15:55:00+02:00",
          "2024-05-22T15:56:00+02:00",
          "2024-05-22T15:57:00+02:00",
          "2024-05-22T15:58:00+02:00",
          "2024-05-22T15:59:00+02:00",
          "2024-05-22T16:00:00+02:00",
          "2024-05-22T16:01:00+02:00",
          "2024-05-22T16:02:00+02:00",
          "2024-05-22T16:03:00+02:00",
          "2024-05-22T16:04:00+02:00",
          "2024-05-22T16:05:00+02:00",
          "2024-05-22T16:06:00+02:00",
          "2024-05-22T16:07:00+02:00",
          "2024-05-22T16:08:00+02:00",
          "2024-05-22T16:09:00+02:00",
          "2024-05-22T16:10:00+02:00",
          "2024-05-22T16:11:00+02:00",
          "2024-05-22T16:12:00+02:00",
          "2024-05-22T16:13:00+02:00",
          "2024-05-22T16:14:00+02:00",
          "2024-05-22T16:15:00+02:00",
          "2024-05-22T16:16:00+02:00",
          "2024-05-22T16:17:00+02:00",
          "2024-05-22T16:18:00+02:00",
          "2024-05-22T16:19:00+02:00",
          "2024-05-22T16:20:00+02:00",
          "2024-05-22T16:21:00+02:00",
          "2024-05-22T16:22:00+02:00",
          "2024-05-22T16:23:00+02:00",
          "2024-05-22T16:24:00+02:00",
          "2024-05-22T16:25:00+02:00",
          "2024-05-22T16:26:00+02:00",
          "2024-05-22T16:27:00+02:00",
          "2024-05-22T16:28:00+02:00",
          "2024-05-22T16:29:00+02:00",
          "2024-05-22T16:30:00+02:00",
          "2024-05-22T16:31:00+02:00",
          "2024-05-22T16:32:00+02:00",
          "2024-05-22T16:33:00+02:00",
          "2024-05-22T16:34:00+02:00",
          "2024-05-22T16:35:00+02:00",
          "2024-05-22T16:36:00+02:00",
          "2024-05-22T16:37:00+02:00",
          "2024-05-22T16:38:00+02:00",
          "2024-05-22T16:39:00+02:00"
         ],
         "xaxis": "x",
         "y": [
          1376589.7,
          4372160.316666666,
          3992893.65,
          4005850.633333334,
          4201421.416666667,
          4008469.183333333,
          4107991.35,
          4128981.216666667,
          3967978.5166666666,
          3919348.816666667,
          3571890.05,
          3661068.133333334,
          3918104.966666667,
          3709484.85,
          3910871.4833333334,
          3661969.816666667,
          4000389.95,
          3860466.55,
          3734321.116666666,
          3913044.316666667,
          3674556.15,
          3925356.933333333,
          3603147.116666666,
          3709775.9,
          3913187.6666666665,
          3738614.683333333,
          4539851.583333333,
          4726920.616666666,
          3683949.883333334,
          3934326.3,
          3553154.216666667,
          3636736.8,
          3982370.883333334,
          4365997.2,
          4413697.266666667,
          3653236.6,
          4316493.483333333,
          3932668.683333333,
          3628504.45,
          3839934.716666667,
          4485801.75,
          3975744.5166666666,
          3998145.45,
          4295809.116666666,
          4198227.733333333,
          4520721.4,
          3389463.216666667,
          3672509.816666667,
          3916066.783333333,
          3786294.4166666665,
          4628977.266666667,
          4195947.2,
          3371998.4833333334,
          3954273.35,
          3431481.8333333335,
          182326.65
         ],
         "yaxis": "y"
        },
        {
         "hovertemplate": "actor=Standalone (CIFAR10)<br>0=%{x}<br>1=%{y}<extra></extra>",
         "legendgroup": "Standalone (CIFAR10)",
         "line": {
          "color": "#FFA15A",
          "dash": "solid"
         },
         "marker": {
          "symbol": "circle"
         },
         "mode": "lines",
         "name": "Standalone (CIFAR10)",
         "orientation": "v",
         "showlegend": true,
         "type": "scatter",
         "x": [
          "2024-05-22T14:17:00+02:00",
          "2024-05-22T14:18:00+02:00",
          "2024-05-22T14:19:00+02:00",
          "2024-05-22T14:20:00+02:00",
          "2024-05-22T14:21:00+02:00",
          "2024-05-22T14:22:00+02:00",
          "2024-05-22T14:23:00+02:00",
          "2024-05-22T14:24:00+02:00",
          "2024-05-22T14:25:00+02:00",
          "2024-05-22T14:26:00+02:00",
          "2024-05-22T14:27:00+02:00",
          "2024-05-22T14:28:00+02:00",
          "2024-05-22T14:29:00+02:00",
          "2024-05-22T14:30:00+02:00",
          "2024-05-22T14:31:00+02:00",
          "2024-05-22T14:32:00+02:00",
          "2024-05-22T14:33:00+02:00",
          "2024-05-22T14:34:00+02:00",
          "2024-05-22T14:35:00+02:00",
          "2024-05-22T14:36:00+02:00",
          "2024-05-22T14:37:00+02:00"
         ],
         "xaxis": "x",
         "y": [
          774.7666666666667,
          680.5333333333333,
          57309.55,
          14801.383333333331,
          3090.55,
          1116.1,
          17693.683333333334,
          9945.266666666666,
          7779.2,
          7854.016666666666,
          7498.316666666667,
          7927.966666666666,
          7867.1,
          7853.35,
          7918.733333333334,
          7645.583333333333,
          7894.416666666667,
          7674.383333333333,
          43001.4,
          807023.1333333333,
          149075.58333333334
         ],
         "yaxis": "y"
        },
        {
         "hovertemplate": "actor=Worker (20, CIFAR10)<br>0=%{x}<br>1=%{y}<extra></extra>",
         "legendgroup": "Worker (20, CIFAR10)",
         "line": {
          "color": "#19d3f3",
          "dash": "solid"
         },
         "marker": {
          "symbol": "circle"
         },
         "mode": "lines",
         "name": "Worker (20, CIFAR10)",
         "orientation": "v",
         "showlegend": true,
         "type": "scatter",
         "x": [
          "2024-05-22T18:20:00+02:00",
          "2024-05-22T18:21:00+02:00",
          "2024-05-22T18:22:00+02:00",
          "2024-05-22T18:23:00+02:00",
          "2024-05-22T18:24:00+02:00",
          "2024-05-22T18:25:00+02:00",
          "2024-05-22T18:26:00+02:00",
          "2024-05-22T18:27:00+02:00",
          "2024-05-22T18:28:00+02:00",
          "2024-05-22T18:29:00+02:00",
          "2024-05-22T18:30:00+02:00",
          "2024-05-22T18:31:00+02:00",
          "2024-05-22T18:32:00+02:00",
          "2024-05-22T18:33:00+02:00",
          "2024-05-22T18:34:00+02:00",
          "2024-05-22T18:35:00+02:00",
          "2024-05-22T18:36:00+02:00",
          "2024-05-22T18:37:00+02:00",
          "2024-05-22T18:38:00+02:00",
          "2024-05-22T18:39:00+02:00",
          "2024-05-22T18:40:00+02:00",
          "2024-05-22T18:41:00+02:00",
          "2024-05-22T18:42:00+02:00",
          "2024-05-22T18:43:00+02:00",
          "2024-05-22T18:44:00+02:00",
          "2024-05-22T18:45:00+02:00",
          "2024-05-22T18:46:00+02:00",
          "2024-05-22T18:47:00+02:00",
          "2024-05-22T18:48:00+02:00",
          "2024-05-22T18:49:00+02:00",
          "2024-05-22T18:50:00+02:00",
          "2024-05-22T18:51:00+02:00",
          "2024-05-22T18:52:00+02:00",
          "2024-05-22T18:53:00+02:00",
          "2024-05-22T18:54:00+02:00",
          "2024-05-22T18:55:00+02:00",
          "2024-05-22T18:56:00+02:00",
          "2024-05-22T18:57:00+02:00",
          "2024-05-22T18:58:00+02:00",
          "2024-05-22T18:59:00+02:00",
          "2024-05-22T19:00:00+02:00",
          "2024-05-22T19:01:00+02:00",
          "2024-05-22T19:02:00+02:00",
          "2024-05-22T19:03:00+02:00",
          "2024-05-22T19:04:00+02:00",
          "2024-05-22T19:05:00+02:00",
          "2024-05-22T19:06:00+02:00",
          "2024-05-22T19:07:00+02:00",
          "2024-05-22T19:08:00+02:00",
          "2024-05-22T19:09:00+02:00",
          "2024-05-22T19:10:00+02:00",
          "2024-05-22T19:11:00+02:00",
          "2024-05-22T19:12:00+02:00",
          "2024-05-22T19:13:00+02:00",
          "2024-05-22T19:14:00+02:00",
          "2024-05-22T19:15:00+02:00",
          "2024-05-22T19:16:00+02:00"
         ],
         "xaxis": "x",
         "y": [
          513351.9666666667,
          513275.9,
          495922.51666666666,
          464212.15,
          3302744.533333333,
          6125971.45,
          2853482.566666667,
          695797.7833333333,
          1525429.9833333334,
          5651343.766666667,
          7151728.266666667,
          6861736,
          7112965.066666666,
          7152637.216666667,
          6920630.65,
          6960605.3,
          7071210.15,
          7274278.833333333,
          3026197.3333333335,
          691541.1166666667,
          509750.06666666665,
          513358.7166666667,
          486585.95,
          468916.55,
          498958.3,
          513886.61666666664,
          5028399.283333333,
          7308170.733333333,
          7319095.983333333,
          3941964.4,
          5393333.883333334,
          7144845.05,
          7233735.583333333,
          6885662.7,
          7110366.633333334,
          3003012.4166666665,
          1759603.5333333334,
          5642516.983333333,
          6868674.5,
          7064130.05,
          2959008.8666666667,
          5075872.933333334,
          7517274.716666667,
          3100781.15,
          669821,
          504418.3,
          470830.4,
          484975.15,
          508491.01666666666,
          513308.81666666665,
          510208.23333333334,
          485225.56666666665,
          471866.6666666667,
          500752.18333333335,
          4495165.883333334,
          3449888.8833333333,
          867215.5666666667
         ],
         "yaxis": "y"
        },
        {
         "hovertemplate": "actor=Server (20, CIFAR10)<br>0=%{x}<br>1=%{y}<extra></extra>",
         "legendgroup": "Server (20, CIFAR10)",
         "line": {
          "color": "#FF6692",
          "dash": "solid"
         },
         "marker": {
          "symbol": "circle"
         },
         "mode": "lines",
         "name": "Server (20, CIFAR10)",
         "orientation": "v",
         "showlegend": true,
         "type": "scatter",
         "x": [
          "2024-05-22T18:22:00+02:00",
          "2024-05-22T18:23:00+02:00",
          "2024-05-22T18:24:00+02:00",
          "2024-05-22T18:25:00+02:00",
          "2024-05-22T18:26:00+02:00",
          "2024-05-22T18:27:00+02:00",
          "2024-05-22T18:28:00+02:00",
          "2024-05-22T18:29:00+02:00",
          "2024-05-22T18:30:00+02:00",
          "2024-05-22T18:31:00+02:00",
          "2024-05-22T18:32:00+02:00",
          "2024-05-22T18:33:00+02:00",
          "2024-05-22T18:34:00+02:00",
          "2024-05-22T18:35:00+02:00",
          "2024-05-22T18:36:00+02:00",
          "2024-05-22T18:37:00+02:00",
          "2024-05-22T18:38:00+02:00",
          "2024-05-22T18:39:00+02:00",
          "2024-05-22T18:40:00+02:00",
          "2024-05-22T18:41:00+02:00",
          "2024-05-22T18:42:00+02:00",
          "2024-05-22T18:43:00+02:00",
          "2024-05-22T18:44:00+02:00",
          "2024-05-22T18:45:00+02:00",
          "2024-05-22T18:46:00+02:00",
          "2024-05-22T18:47:00+02:00",
          "2024-05-22T18:48:00+02:00",
          "2024-05-22T18:49:00+02:00",
          "2024-05-22T18:50:00+02:00",
          "2024-05-22T18:51:00+02:00",
          "2024-05-22T18:52:00+02:00",
          "2024-05-22T18:53:00+02:00",
          "2024-05-22T18:54:00+02:00",
          "2024-05-22T18:55:00+02:00",
          "2024-05-22T18:56:00+02:00",
          "2024-05-22T18:57:00+02:00",
          "2024-05-22T18:58:00+02:00",
          "2024-05-22T18:59:00+02:00",
          "2024-05-22T19:00:00+02:00",
          "2024-05-22T19:01:00+02:00",
          "2024-05-22T19:02:00+02:00",
          "2024-05-22T19:03:00+02:00",
          "2024-05-22T19:04:00+02:00",
          "2024-05-22T19:05:00+02:00",
          "2024-05-22T19:06:00+02:00",
          "2024-05-22T19:07:00+02:00",
          "2024-05-22T19:08:00+02:00",
          "2024-05-22T19:09:00+02:00",
          "2024-05-22T19:10:00+02:00",
          "2024-05-22T19:11:00+02:00",
          "2024-05-22T19:12:00+02:00",
          "2024-05-22T19:13:00+02:00",
          "2024-05-22T19:14:00+02:00",
          "2024-05-22T19:15:00+02:00",
          "2024-05-22T19:16:00+02:00",
          "2024-05-22T19:17:00+02:00"
         ],
         "xaxis": "x",
         "y": [
          495922.51666666666,
          464212.15,
          3302744.533333333,
          6125971.45,
          2853482.566666667,
          695797.7833333333,
          1525429.9833333334,
          5651343.766666667,
          7151728.266666667,
          6861736,
          7112965.066666666,
          7152637.216666667,
          6920630.65,
          6960605.3,
          7071210.15,
          7274278.833333333,
          3026197.3333333335,
          691541.1166666667,
          509750.06666666665,
          513358.7166666667,
          486585.95,
          468916.55,
          498958.3,
          513886.61666666664,
          5028399.283333333,
          7308170.733333333,
          7319095.983333333,
          3941964.4,
          5393333.883333334,
          7144845.05,
          7233735.583333333,
          6885662.7,
          7110366.633333334,
          3003012.4166666665,
          1759603.5333333334,
          5642516.983333333,
          6868674.5,
          7064130.05,
          2959008.8666666667,
          5075872.933333334,
          7517274.716666667,
          3100781.15,
          669821,
          504418.3,
          470830.4,
          484975.15,
          508491.01666666666,
          513308.81666666665,
          510208.23333333334,
          485225.56666666665,
          471866.6666666667,
          500752.18333333335,
          4495165.883333334,
          3449888.8833333333,
          867215.5666666667,
          83659.38333333333
         ],
         "yaxis": "y"
        }
       ],
       "layout": {
        "height": 600,
        "legend": {
         "title": {
          "text": "actor"
         },
         "tracegroupgap": 0
        },
        "template": {
         "data": {
          "bar": [
           {
            "error_x": {
             "color": "#2a3f5f"
            },
            "error_y": {
             "color": "#2a3f5f"
            },
            "marker": {
             "line": {
              "color": "white",
              "width": 0.5
             },
             "pattern": {
              "fillmode": "overlay",
              "size": 10,
              "solidity": 0.2
             }
            },
            "type": "bar"
           }
          ],
          "barpolar": [
           {
            "marker": {
             "line": {
              "color": "white",
              "width": 0.5
             },
             "pattern": {
              "fillmode": "overlay",
              "size": 10,
              "solidity": 0.2
             }
            },
            "type": "barpolar"
           }
          ],
          "carpet": [
           {
            "aaxis": {
             "endlinecolor": "#2a3f5f",
             "gridcolor": "#C8D4E3",
             "linecolor": "#C8D4E3",
             "minorgridcolor": "#C8D4E3",
             "startlinecolor": "#2a3f5f"
            },
            "baxis": {
             "endlinecolor": "#2a3f5f",
             "gridcolor": "#C8D4E3",
             "linecolor": "#C8D4E3",
             "minorgridcolor": "#C8D4E3",
             "startlinecolor": "#2a3f5f"
            },
            "type": "carpet"
           }
          ],
          "choropleth": [
           {
            "colorbar": {
             "outlinewidth": 0,
             "ticks": ""
            },
            "type": "choropleth"
           }
          ],
          "contour": [
           {
            "colorbar": {
             "outlinewidth": 0,
             "ticks": ""
            },
            "colorscale": [
             [
              0,
              "#0d0887"
             ],
             [
              0.1111111111111111,
              "#46039f"
             ],
             [
              0.2222222222222222,
              "#7201a8"
             ],
             [
              0.3333333333333333,
              "#9c179e"
             ],
             [
              0.4444444444444444,
              "#bd3786"
             ],
             [
              0.5555555555555556,
              "#d8576b"
             ],
             [
              0.6666666666666666,
              "#ed7953"
             ],
             [
              0.7777777777777778,
              "#fb9f3a"
             ],
             [
              0.8888888888888888,
              "#fdca26"
             ],
             [
              1,
              "#f0f921"
             ]
            ],
            "type": "contour"
           }
          ],
          "contourcarpet": [
           {
            "colorbar": {
             "outlinewidth": 0,
             "ticks": ""
            },
            "type": "contourcarpet"
           }
          ],
          "heatmap": [
           {
            "colorbar": {
             "outlinewidth": 0,
             "ticks": ""
            },
            "colorscale": [
             [
              0,
              "#0d0887"
             ],
             [
              0.1111111111111111,
              "#46039f"
             ],
             [
              0.2222222222222222,
              "#7201a8"
             ],
             [
              0.3333333333333333,
              "#9c179e"
             ],
             [
              0.4444444444444444,
              "#bd3786"
             ],
             [
              0.5555555555555556,
              "#d8576b"
             ],
             [
              0.6666666666666666,
              "#ed7953"
             ],
             [
              0.7777777777777778,
              "#fb9f3a"
             ],
             [
              0.8888888888888888,
              "#fdca26"
             ],
             [
              1,
              "#f0f921"
             ]
            ],
            "type": "heatmap"
           }
          ],
          "heatmapgl": [
           {
            "colorbar": {
             "outlinewidth": 0,
             "ticks": ""
            },
            "colorscale": [
             [
              0,
              "#0d0887"
             ],
             [
              0.1111111111111111,
              "#46039f"
             ],
             [
              0.2222222222222222,
              "#7201a8"
             ],
             [
              0.3333333333333333,
              "#9c179e"
             ],
             [
              0.4444444444444444,
              "#bd3786"
             ],
             [
              0.5555555555555556,
              "#d8576b"
             ],
             [
              0.6666666666666666,
              "#ed7953"
             ],
             [
              0.7777777777777778,
              "#fb9f3a"
             ],
             [
              0.8888888888888888,
              "#fdca26"
             ],
             [
              1,
              "#f0f921"
             ]
            ],
            "type": "heatmapgl"
           }
          ],
          "histogram": [
           {
            "marker": {
             "pattern": {
              "fillmode": "overlay",
              "size": 10,
              "solidity": 0.2
             }
            },
            "type": "histogram"
           }
          ],
          "histogram2d": [
           {
            "colorbar": {
             "outlinewidth": 0,
             "ticks": ""
            },
            "colorscale": [
             [
              0,
              "#0d0887"
             ],
             [
              0.1111111111111111,
              "#46039f"
             ],
             [
              0.2222222222222222,
              "#7201a8"
             ],
             [
              0.3333333333333333,
              "#9c179e"
             ],
             [
              0.4444444444444444,
              "#bd3786"
             ],
             [
              0.5555555555555556,
              "#d8576b"
             ],
             [
              0.6666666666666666,
              "#ed7953"
             ],
             [
              0.7777777777777778,
              "#fb9f3a"
             ],
             [
              0.8888888888888888,
              "#fdca26"
             ],
             [
              1,
              "#f0f921"
             ]
            ],
            "type": "histogram2d"
           }
          ],
          "histogram2dcontour": [
           {
            "colorbar": {
             "outlinewidth": 0,
             "ticks": ""
            },
            "colorscale": [
             [
              0,
              "#0d0887"
             ],
             [
              0.1111111111111111,
              "#46039f"
             ],
             [
              0.2222222222222222,
              "#7201a8"
             ],
             [
              0.3333333333333333,
              "#9c179e"
             ],
             [
              0.4444444444444444,
              "#bd3786"
             ],
             [
              0.5555555555555556,
              "#d8576b"
             ],
             [
              0.6666666666666666,
              "#ed7953"
             ],
             [
              0.7777777777777778,
              "#fb9f3a"
             ],
             [
              0.8888888888888888,
              "#fdca26"
             ],
             [
              1,
              "#f0f921"
             ]
            ],
            "type": "histogram2dcontour"
           }
          ],
          "mesh3d": [
           {
            "colorbar": {
             "outlinewidth": 0,
             "ticks": ""
            },
            "type": "mesh3d"
           }
          ],
          "parcoords": [
           {
            "line": {
             "colorbar": {
              "outlinewidth": 0,
              "ticks": ""
             }
            },
            "type": "parcoords"
           }
          ],
          "pie": [
           {
            "automargin": true,
            "type": "pie"
           }
          ],
          "scatter": [
           {
            "fillpattern": {
             "fillmode": "overlay",
             "size": 10,
             "solidity": 0.2
            },
            "type": "scatter"
           }
          ],
          "scatter3d": [
           {
            "line": {
             "colorbar": {
              "outlinewidth": 0,
              "ticks": ""
             }
            },
            "marker": {
             "colorbar": {
              "outlinewidth": 0,
              "ticks": ""
             }
            },
            "type": "scatter3d"
           }
          ],
          "scattercarpet": [
           {
            "marker": {
             "colorbar": {
              "outlinewidth": 0,
              "ticks": ""
             }
            },
            "type": "scattercarpet"
           }
          ],
          "scattergeo": [
           {
            "marker": {
             "colorbar": {
              "outlinewidth": 0,
              "ticks": ""
             }
            },
            "type": "scattergeo"
           }
          ],
          "scattergl": [
           {
            "marker": {
             "colorbar": {
              "outlinewidth": 0,
              "ticks": ""
             }
            },
            "type": "scattergl"
           }
          ],
          "scattermapbox": [
           {
            "marker": {
             "colorbar": {
              "outlinewidth": 0,
              "ticks": ""
             }
            },
            "type": "scattermapbox"
           }
          ],
          "scatterpolar": [
           {
            "marker": {
             "colorbar": {
              "outlinewidth": 0,
              "ticks": ""
             }
            },
            "type": "scatterpolar"
           }
          ],
          "scatterpolargl": [
           {
            "marker": {
             "colorbar": {
              "outlinewidth": 0,
              "ticks": ""
             }
            },
            "type": "scatterpolargl"
           }
          ],
          "scatterternary": [
           {
            "marker": {
             "colorbar": {
              "outlinewidth": 0,
              "ticks": ""
             }
            },
            "type": "scatterternary"
           }
          ],
          "surface": [
           {
            "colorbar": {
             "outlinewidth": 0,
             "ticks": ""
            },
            "colorscale": [
             [
              0,
              "#0d0887"
             ],
             [
              0.1111111111111111,
              "#46039f"
             ],
             [
              0.2222222222222222,
              "#7201a8"
             ],
             [
              0.3333333333333333,
              "#9c179e"
             ],
             [
              0.4444444444444444,
              "#bd3786"
             ],
             [
              0.5555555555555556,
              "#d8576b"
             ],
             [
              0.6666666666666666,
              "#ed7953"
             ],
             [
              0.7777777777777778,
              "#fb9f3a"
             ],
             [
              0.8888888888888888,
              "#fdca26"
             ],
             [
              1,
              "#f0f921"
             ]
            ],
            "type": "surface"
           }
          ],
          "table": [
           {
            "cells": {
             "fill": {
              "color": "#EBF0F8"
             },
             "line": {
              "color": "white"
             }
            },
            "header": {
             "fill": {
              "color": "#C8D4E3"
             },
             "line": {
              "color": "white"
             }
            },
            "type": "table"
           }
          ]
         },
         "layout": {
          "annotationdefaults": {
           "arrowcolor": "#2a3f5f",
           "arrowhead": 0,
           "arrowwidth": 1
          },
          "autotypenumbers": "strict",
          "coloraxis": {
           "colorbar": {
            "outlinewidth": 0,
            "ticks": ""
           }
          },
          "colorscale": {
           "diverging": [
            [
             0,
             "#8e0152"
            ],
            [
             0.1,
             "#c51b7d"
            ],
            [
             0.2,
             "#de77ae"
            ],
            [
             0.3,
             "#f1b6da"
            ],
            [
             0.4,
             "#fde0ef"
            ],
            [
             0.5,
             "#f7f7f7"
            ],
            [
             0.6,
             "#e6f5d0"
            ],
            [
             0.7,
             "#b8e186"
            ],
            [
             0.8,
             "#7fbc41"
            ],
            [
             0.9,
             "#4d9221"
            ],
            [
             1,
             "#276419"
            ]
           ],
           "sequential": [
            [
             0,
             "#0d0887"
            ],
            [
             0.1111111111111111,
             "#46039f"
            ],
            [
             0.2222222222222222,
             "#7201a8"
            ],
            [
             0.3333333333333333,
             "#9c179e"
            ],
            [
             0.4444444444444444,
             "#bd3786"
            ],
            [
             0.5555555555555556,
             "#d8576b"
            ],
            [
             0.6666666666666666,
             "#ed7953"
            ],
            [
             0.7777777777777778,
             "#fb9f3a"
            ],
            [
             0.8888888888888888,
             "#fdca26"
            ],
            [
             1,
             "#f0f921"
            ]
           ],
           "sequentialminus": [
            [
             0,
             "#0d0887"
            ],
            [
             0.1111111111111111,
             "#46039f"
            ],
            [
             0.2222222222222222,
             "#7201a8"
            ],
            [
             0.3333333333333333,
             "#9c179e"
            ],
            [
             0.4444444444444444,
             "#bd3786"
            ],
            [
             0.5555555555555556,
             "#d8576b"
            ],
            [
             0.6666666666666666,
             "#ed7953"
            ],
            [
             0.7777777777777778,
             "#fb9f3a"
            ],
            [
             0.8888888888888888,
             "#fdca26"
            ],
            [
             1,
             "#f0f921"
            ]
           ]
          },
          "colorway": [
           "#636efa",
           "#EF553B",
           "#00cc96",
           "#ab63fa",
           "#FFA15A",
           "#19d3f3",
           "#FF6692",
           "#B6E880",
           "#FF97FF",
           "#FECB52"
          ],
          "font": {
           "color": "#2a3f5f"
          },
          "geo": {
           "bgcolor": "white",
           "lakecolor": "white",
           "landcolor": "white",
           "showlakes": true,
           "showland": true,
           "subunitcolor": "#C8D4E3"
          },
          "hoverlabel": {
           "align": "left"
          },
          "hovermode": "closest",
          "mapbox": {
           "style": "light"
          },
          "paper_bgcolor": "white",
          "plot_bgcolor": "white",
          "polar": {
           "angularaxis": {
            "gridcolor": "#EBF0F8",
            "linecolor": "#EBF0F8",
            "ticks": ""
           },
           "bgcolor": "white",
           "radialaxis": {
            "gridcolor": "#EBF0F8",
            "linecolor": "#EBF0F8",
            "ticks": ""
           }
          },
          "scene": {
           "xaxis": {
            "backgroundcolor": "white",
            "gridcolor": "#DFE8F3",
            "gridwidth": 2,
            "linecolor": "#EBF0F8",
            "showbackground": true,
            "ticks": "",
            "zerolinecolor": "#EBF0F8"
           },
           "yaxis": {
            "backgroundcolor": "white",
            "gridcolor": "#DFE8F3",
            "gridwidth": 2,
            "linecolor": "#EBF0F8",
            "showbackground": true,
            "ticks": "",
            "zerolinecolor": "#EBF0F8"
           },
           "zaxis": {
            "backgroundcolor": "white",
            "gridcolor": "#DFE8F3",
            "gridwidth": 2,
            "linecolor": "#EBF0F8",
            "showbackground": true,
            "ticks": "",
            "zerolinecolor": "#EBF0F8"
           }
          },
          "shapedefaults": {
           "line": {
            "color": "#2a3f5f"
           }
          },
          "ternary": {
           "aaxis": {
            "gridcolor": "#DFE8F3",
            "linecolor": "#A2B1C6",
            "ticks": ""
           },
           "baxis": {
            "gridcolor": "#DFE8F3",
            "linecolor": "#A2B1C6",
            "ticks": ""
           },
           "bgcolor": "white",
           "caxis": {
            "gridcolor": "#DFE8F3",
            "linecolor": "#A2B1C6",
            "ticks": ""
           }
          },
          "title": {
           "x": 0.05
          },
          "xaxis": {
           "automargin": true,
           "gridcolor": "#EBF0F8",
           "linecolor": "#EBF0F8",
           "ticks": "",
           "title": {
            "standoff": 15
           },
           "zerolinecolor": "#EBF0F8",
           "zerolinewidth": 2
          },
          "yaxis": {
           "automargin": true,
           "gridcolor": "#EBF0F8",
           "linecolor": "#EBF0F8",
           "ticks": "",
           "title": {
            "standoff": 15
           },
           "zerolinecolor": "#EBF0F8",
           "zerolinewidth": 2
          }
         }
        },
        "title": {
         "text": "Sent bytes"
        },
        "width": 1200,
        "xaxis": {
         "anchor": "y",
         "domain": [
          0,
          1
         ],
         "title": {
          "text": "0"
         }
        },
        "yaxis": {
         "anchor": "x",
         "domain": [
          0,
          1
         ],
         "title": {
          "text": "1"
         }
        }
       }
      }
     },
     "metadata": {},
     "output_type": "display_data"
    },
    {
     "data": {
      "application/vnd.plotly.v1+json": {
       "config": {
        "plotlyServerURL": "https://plot.ly"
       },
       "data": [
        {
         "hovertemplate": "actor=Server (10, CIFAR10)<br>0=%{x}<br>1=%{y}<extra></extra>",
         "legendgroup": "Server (10, CIFAR10)",
         "line": {
          "color": "#636efa",
          "dash": "solid"
         },
         "marker": {
          "symbol": "circle"
         },
         "mode": "lines",
         "name": "Server (10, CIFAR10)",
         "orientation": "v",
         "showlegend": true,
         "type": "scatter",
         "x": [
          "2024-05-22T15:43:00+02:00",
          "2024-05-22T15:44:00+02:00",
          "2024-05-22T15:45:00+02:00",
          "2024-05-22T15:46:00+02:00",
          "2024-05-22T15:47:00+02:00",
          "2024-05-22T15:48:00+02:00",
          "2024-05-22T15:49:00+02:00",
          "2024-05-22T15:50:00+02:00",
          "2024-05-22T15:51:00+02:00",
          "2024-05-22T15:52:00+02:00",
          "2024-05-22T15:53:00+02:00",
          "2024-05-22T15:54:00+02:00",
          "2024-05-22T15:55:00+02:00",
          "2024-05-22T15:56:00+02:00",
          "2024-05-22T15:57:00+02:00",
          "2024-05-22T15:58:00+02:00",
          "2024-05-22T15:59:00+02:00",
          "2024-05-22T16:00:00+02:00",
          "2024-05-22T16:01:00+02:00",
          "2024-05-22T16:02:00+02:00",
          "2024-05-22T16:03:00+02:00",
          "2024-05-22T16:04:00+02:00",
          "2024-05-22T16:05:00+02:00",
          "2024-05-22T16:06:00+02:00",
          "2024-05-22T16:07:00+02:00",
          "2024-05-22T16:08:00+02:00",
          "2024-05-22T16:09:00+02:00",
          "2024-05-22T16:10:00+02:00",
          "2024-05-22T16:11:00+02:00",
          "2024-05-22T16:12:00+02:00",
          "2024-05-22T16:13:00+02:00",
          "2024-05-22T16:14:00+02:00",
          "2024-05-22T16:15:00+02:00",
          "2024-05-22T16:16:00+02:00",
          "2024-05-22T16:17:00+02:00",
          "2024-05-22T16:18:00+02:00",
          "2024-05-22T16:19:00+02:00",
          "2024-05-22T16:20:00+02:00",
          "2024-05-22T16:21:00+02:00",
          "2024-05-22T16:22:00+02:00",
          "2024-05-22T16:23:00+02:00",
          "2024-05-22T16:24:00+02:00",
          "2024-05-22T16:25:00+02:00",
          "2024-05-22T16:26:00+02:00",
          "2024-05-22T16:27:00+02:00",
          "2024-05-22T16:28:00+02:00",
          "2024-05-22T16:29:00+02:00",
          "2024-05-22T16:30:00+02:00",
          "2024-05-22T16:31:00+02:00",
          "2024-05-22T16:32:00+02:00",
          "2024-05-22T16:33:00+02:00",
          "2024-05-22T16:34:00+02:00",
          "2024-05-22T16:35:00+02:00",
          "2024-05-22T16:36:00+02:00",
          "2024-05-22T16:37:00+02:00",
          "2024-05-22T16:38:00+02:00"
         ],
         "xaxis": "x",
         "y": [
          112897.66666666669,
          1379261.7166666666,
          4383628.716666667,
          4005326.25,
          4029725.566666667,
          4213258.65,
          4013267.4,
          4065103.85,
          4207467.516666667,
          3962490.3,
          3931620.9,
          3574071.45,
          3650312.85,
          3922807.9166666665,
          3704568.45,
          3914434.35,
          3658112.883333334,
          4009869.15,
          3870639.45,
          3726276.15,
          3918118.3,
          3669152.383333334,
          3931124.45,
          3600333.8,
          3706096.05,
          3912509.6666666665,
          3723976.783333333,
          4448529.616666666,
          4769124.716666667,
          3687726.95,
          3928248.7,
          3570711.533333333,
          3625861.383333334,
          3970585.9,
          4370198.316666666,
          4374835.683333334,
          3698613,
          4315714.466666667,
          3899168,
          3623000.85,
          3816103.466666667,
          4500654,
          3989471.25,
          3982011.966666667,
          4319812.9,
          4194667.7,
          4536345.166666667,
          3388658,
          3667226.6666666665,
          3918160,
          3769787.966666667,
          4624495.533333333,
          4205925.533333333,
          3368610.65,
          3964418.116666666,
          3452265.0833333335
         ],
         "yaxis": "y"
        },
        {
         "hovertemplate": "actor=Worker (5, CIFAR10)<br>0=%{x}<br>1=%{y}<extra></extra>",
         "legendgroup": "Worker (5, CIFAR10)",
         "line": {
          "color": "#EF553B",
          "dash": "solid"
         },
         "marker": {
          "symbol": "circle"
         },
         "mode": "lines",
         "name": "Worker (5, CIFAR10)",
         "orientation": "v",
         "showlegend": true,
         "type": "scatter",
         "x": [
          "2024-05-22T13:33:00+02:00",
          "2024-05-22T13:34:00+02:00",
          "2024-05-22T13:35:00+02:00",
          "2024-05-22T13:36:00+02:00",
          "2024-05-22T13:37:00+02:00",
          "2024-05-22T13:38:00+02:00",
          "2024-05-22T13:39:00+02:00",
          "2024-05-22T13:40:00+02:00",
          "2024-05-22T13:41:00+02:00",
          "2024-05-22T13:42:00+02:00",
          "2024-05-22T13:43:00+02:00",
          "2024-05-22T13:44:00+02:00",
          "2024-05-22T13:45:00+02:00",
          "2024-05-22T13:46:00+02:00",
          "2024-05-22T13:47:00+02:00",
          "2024-05-22T13:48:00+02:00",
          "2024-05-22T13:49:00+02:00",
          "2024-05-22T13:50:00+02:00",
          "2024-05-22T13:51:00+02:00",
          "2024-05-22T13:52:00+02:00",
          "2024-05-22T13:53:00+02:00",
          "2024-05-22T13:54:00+02:00",
          "2024-05-22T13:55:00+02:00",
          "2024-05-22T13:56:00+02:00",
          "2024-05-22T13:57:00+02:00",
          "2024-05-22T13:58:00+02:00",
          "2024-05-22T13:59:00+02:00",
          "2024-05-22T14:00:00+02:00",
          "2024-05-22T14:01:00+02:00",
          "2024-05-22T14:02:00+02:00",
          "2024-05-22T14:03:00+02:00",
          "2024-05-22T14:04:00+02:00",
          "2024-05-22T14:05:00+02:00",
          "2024-05-22T14:06:00+02:00",
          "2024-05-22T14:07:00+02:00",
          "2024-05-22T14:08:00+02:00",
          "2024-05-22T14:09:00+02:00",
          "2024-05-22T14:10:00+02:00",
          "2024-05-22T14:11:00+02:00",
          "2024-05-22T14:12:00+02:00",
          "2024-05-22T14:13:00+02:00",
          "2024-05-22T14:14:00+02:00",
          "2024-05-22T14:15:00+02:00",
          "2024-05-22T14:16:00+02:00",
          "2024-05-22T14:17:00+02:00",
          "2024-05-22T14:18:00+02:00",
          "2024-05-22T14:19:00+02:00",
          "2024-05-22T14:20:00+02:00",
          "2024-05-22T14:21:00+02:00",
          "2024-05-22T14:22:00+02:00",
          "2024-05-22T14:23:00+02:00",
          "2024-05-22T14:24:00+02:00",
          "2024-05-22T14:25:00+02:00",
          "2024-05-22T14:26:00+02:00",
          "2024-05-22T14:27:00+02:00",
          "2024-05-22T14:28:00+02:00",
          "2024-05-22T14:29:00+02:00",
          "2024-05-22T14:30:00+02:00",
          "2024-05-22T14:31:00+02:00",
          "2024-05-22T14:32:00+02:00",
          "2024-05-22T14:33:00+02:00",
          "2024-05-22T14:34:00+02:00",
          "2024-05-22T14:35:00+02:00",
          "2024-05-22T14:36:00+02:00",
          "2024-05-22T14:37:00+02:00",
          "2024-05-22T14:38:00+02:00",
          "2024-05-22T14:39:00+02:00",
          "2024-05-22T14:40:00+02:00",
          "2024-05-22T14:41:00+02:00",
          "2024-05-22T14:42:00+02:00",
          "2024-05-22T14:43:00+02:00",
          "2024-05-22T14:44:00+02:00",
          "2024-05-22T14:45:00+02:00",
          "2024-05-22T14:46:00+02:00",
          "2024-05-22T14:47:00+02:00",
          "2024-05-22T14:48:00+02:00",
          "2024-05-22T14:49:00+02:00",
          "2024-05-22T14:50:00+02:00",
          "2024-05-22T14:51:00+02:00",
          "2024-05-22T14:52:00+02:00",
          "2024-05-22T14:53:00+02:00",
          "2024-05-22T14:54:00+02:00",
          "2024-05-22T14:55:00+02:00",
          "2024-05-22T14:56:00+02:00",
          "2024-05-22T14:57:00+02:00",
          "2024-05-22T14:58:00+02:00",
          "2024-05-22T14:59:00+02:00",
          "2024-05-22T15:00:00+02:00",
          "2024-05-22T15:01:00+02:00",
          "2024-05-22T15:02:00+02:00",
          "2024-05-22T15:03:00+02:00",
          "2024-05-22T15:04:00+02:00",
          "2024-05-22T15:05:00+02:00",
          "2024-05-22T15:06:00+02:00",
          "2024-05-22T15:07:00+02:00",
          "2024-05-22T15:08:00+02:00",
          "2024-05-22T15:09:00+02:00",
          "2024-05-22T15:10:00+02:00",
          "2024-05-22T15:11:00+02:00",
          "2024-05-22T15:12:00+02:00",
          "2024-05-22T15:13:00+02:00",
          "2024-05-22T15:14:00+02:00",
          "2024-05-22T15:15:00+02:00",
          "2024-05-22T15:16:00+02:00",
          "2024-05-22T15:17:00+02:00",
          "2024-05-22T15:18:00+02:00",
          "2024-05-22T15:19:00+02:00",
          "2024-05-22T15:20:00+02:00",
          "2024-05-22T15:21:00+02:00",
          "2024-05-22T15:22:00+02:00",
          "2024-05-22T15:23:00+02:00",
          "2024-05-22T15:24:00+02:00",
          "2024-05-22T15:25:00+02:00",
          "2024-05-22T15:26:00+02:00",
          "2024-05-22T15:27:00+02:00",
          "2024-05-22T15:28:00+02:00",
          "2024-05-22T15:29:00+02:00",
          "2024-05-22T15:30:00+02:00",
          "2024-05-22T15:31:00+02:00",
          "2024-05-22T15:32:00+02:00",
          "2024-05-22T15:33:00+02:00",
          "2024-05-22T15:34:00+02:00",
          "2024-05-22T15:35:00+02:00",
          "2024-05-22T15:36:00+02:00",
          "2024-05-22T15:37:00+02:00",
          "2024-05-22T15:38:00+02:00",
          "2024-05-22T15:39:00+02:00",
          "2024-05-22T15:40:00+02:00",
          "2024-05-22T15:41:00+02:00",
          "2024-05-22T15:42:00+02:00",
          "2024-05-22T15:43:00+02:00",
          "2024-05-22T15:44:00+02:00",
          "2024-05-22T15:45:00+02:00"
         ],
         "xaxis": "x",
         "y": [
          1825.5833333333333,
          1789.6666666666667,
          1799.3333333333333,
          2017.8166666666664,
          1911.8666666666663,
          1679.0666666666666,
          2097.65,
          2140.5666666666666,
          2174.45,
          2304.55,
          2292.5333333333333,
          2244.0833333333335,
          2108.866666666667,
          2155.5,
          2190.6666666666665,
          2221.5,
          2322.5666666666666,
          2309.05,
          2297.5,
          81510,
          562378.8666666667,
          4334,
          12230.8,
          970605.7833333332,
          7969021.466666667,
          9073533.15,
          8503031.216666667,
          7672233.2,
          8971010.016666668,
          8227667.083333333,
          7133408.7,
          7594286.9,
          7855528.633333334,
          8861390.75,
          7532938.85,
          7330664.266666667,
          9025868.683333334,
          8982966.166666666,
          8559490.566666666,
          8809486.133333333,
          7771020.533333333,
          8380581.666666667,
          7665988.016666667,
          7631996.933333334,
          7756475.716666667,
          8287096.983333333,
          7661007.95,
          7662946.633333334,
          8127707.633333334,
          8146409.266666667,
          9009601.716666669,
          8945860.2,
          7950888.683333334,
          8220879.016666667,
          7648042.75,
          7680397.516666667,
          7664180.3,
          7959521.933333334,
          8815745.183333334,
          7609857.1,
          7590623.633333334,
          7221209.45,
          8335670.433333334,
          8543300.15,
          8308601.333333333,
          7953711.733333333,
          8342185.05,
          8263271.716666667,
          7996217.416666667,
          9138258.066666666,
          9072499.733333332,
          8398551.75,
          7668536.816666666,
          7680544.533333333,
          7685300.083333333,
          8128872.583333333,
          8965995.45,
          7676582,
          7534533.733333333,
          7147434.416666667,
          7786041.583333333,
          8363561.7,
          8412554.25,
          7908252.566666666,
          8435510.516666668,
          8417350.3,
          8025989.066666666,
          8071727.166666667,
          8407146.566666666,
          8420818.683333334,
          7945652.3,
          8422280.65,
          8323965.066666666,
          8116039.816666666,
          8797848.116666667,
          9028046.066666666,
          8414625.166666666,
          8247487.85,
          7032913.633333334,
          7743517.966666667,
          8196461.9,
          7972323.75,
          3732780.0833333335,
          1599.8833333333334,
          1131.5666666666666,
          1233.2833333333333,
          1701.7333333333331,
          2809.616666666667,
          1762.5,
          1090.8166666666666,
          1068.9333333333334,
          1121.3166666666666,
          911.1666666666666,
          1154.7666666666669,
          1279.6666666666667,
          1318.1166666666666,
          1304.75,
          1263.6333333333334,
          1228.3666666666666,
          1251.5166666666669,
          1430.25,
          1528.5666666666666,
          2093.233333333333,
          1376.8,
          1179.0666666666666,
          1293.6166666666666,
          1445.1166666666666,
          1070.5833333333333,
          1521.8666666666666,
          2068.4166666666665,
          235034.63333333333,
          2743725.3666666667,
          8712016.233333332
         ],
         "yaxis": "y"
        },
        {
         "hovertemplate": "actor=Server (5, CIFAR10)<br>0=%{x}<br>1=%{y}<extra></extra>",
         "legendgroup": "Server (5, CIFAR10)",
         "line": {
          "color": "#00cc96",
          "dash": "solid"
         },
         "marker": {
          "symbol": "circle"
         },
         "mode": "lines",
         "name": "Server (5, CIFAR10)",
         "orientation": "v",
         "showlegend": true,
         "type": "scatter",
         "x": [
          "2024-05-22T13:47:00+02:00",
          "2024-05-22T13:48:00+02:00",
          "2024-05-22T13:49:00+02:00",
          "2024-05-22T13:50:00+02:00",
          "2024-05-22T13:51:00+02:00",
          "2024-05-22T13:52:00+02:00",
          "2024-05-22T13:53:00+02:00",
          "2024-05-22T13:54:00+02:00",
          "2024-05-22T13:55:00+02:00",
          "2024-05-22T13:56:00+02:00",
          "2024-05-22T13:57:00+02:00",
          "2024-05-22T13:58:00+02:00",
          "2024-05-22T13:59:00+02:00",
          "2024-05-22T14:00:00+02:00",
          "2024-05-22T14:01:00+02:00",
          "2024-05-22T14:02:00+02:00",
          "2024-05-22T14:03:00+02:00",
          "2024-05-22T14:04:00+02:00",
          "2024-05-22T14:05:00+02:00",
          "2024-05-22T14:06:00+02:00",
          "2024-05-22T14:07:00+02:00",
          "2024-05-22T14:08:00+02:00",
          "2024-05-22T14:09:00+02:00",
          "2024-05-22T14:10:00+02:00",
          "2024-05-22T14:11:00+02:00",
          "2024-05-22T14:12:00+02:00",
          "2024-05-22T14:13:00+02:00",
          "2024-05-22T14:14:00+02:00",
          "2024-05-22T14:15:00+02:00",
          "2024-05-22T14:16:00+02:00",
          "2024-05-22T14:17:00+02:00",
          "2024-05-22T14:18:00+02:00",
          "2024-05-22T14:19:00+02:00",
          "2024-05-22T14:20:00+02:00",
          "2024-05-22T14:21:00+02:00",
          "2024-05-22T14:22:00+02:00",
          "2024-05-22T14:23:00+02:00",
          "2024-05-22T14:24:00+02:00",
          "2024-05-22T14:25:00+02:00",
          "2024-05-22T14:26:00+02:00",
          "2024-05-22T14:27:00+02:00",
          "2024-05-22T14:28:00+02:00",
          "2024-05-22T14:29:00+02:00",
          "2024-05-22T14:30:00+02:00",
          "2024-05-22T14:31:00+02:00",
          "2024-05-22T14:32:00+02:00",
          "2024-05-22T14:33:00+02:00",
          "2024-05-22T14:34:00+02:00",
          "2024-05-22T14:35:00+02:00",
          "2024-05-22T14:36:00+02:00",
          "2024-05-22T14:37:00+02:00",
          "2024-05-22T14:38:00+02:00",
          "2024-05-22T14:39:00+02:00",
          "2024-05-22T14:40:00+02:00",
          "2024-05-22T14:41:00+02:00",
          "2024-05-22T14:42:00+02:00",
          "2024-05-22T14:43:00+02:00",
          "2024-05-22T14:44:00+02:00",
          "2024-05-22T14:45:00+02:00",
          "2024-05-22T14:46:00+02:00",
          "2024-05-22T14:47:00+02:00",
          "2024-05-22T14:48:00+02:00",
          "2024-05-22T14:49:00+02:00",
          "2024-05-22T14:50:00+02:00",
          "2024-05-22T14:51:00+02:00",
          "2024-05-22T14:52:00+02:00",
          "2024-05-22T14:53:00+02:00",
          "2024-05-22T14:54:00+02:00",
          "2024-05-22T14:55:00+02:00",
          "2024-05-22T14:56:00+02:00",
          "2024-05-22T14:57:00+02:00",
          "2024-05-22T14:58:00+02:00",
          "2024-05-22T14:59:00+02:00",
          "2024-05-22T15:00:00+02:00",
          "2024-05-22T15:01:00+02:00",
          "2024-05-22T15:02:00+02:00",
          "2024-05-22T15:03:00+02:00",
          "2024-05-22T15:04:00+02:00",
          "2024-05-22T15:05:00+02:00",
          "2024-05-22T15:06:00+02:00",
          "2024-05-22T15:07:00+02:00",
          "2024-05-22T15:08:00+02:00",
          "2024-05-22T15:09:00+02:00",
          "2024-05-22T15:10:00+02:00",
          "2024-05-22T15:11:00+02:00",
          "2024-05-22T15:12:00+02:00",
          "2024-05-22T15:13:00+02:00",
          "2024-05-22T15:14:00+02:00",
          "2024-05-22T15:15:00+02:00",
          "2024-05-22T15:16:00+02:00",
          "2024-05-22T15:17:00+02:00",
          "2024-05-22T15:18:00+02:00",
          "2024-05-22T15:19:00+02:00",
          "2024-05-22T15:20:00+02:00",
          "2024-05-22T15:21:00+02:00"
         ],
         "xaxis": "x",
         "y": [
          724.7166666666667,
          709.4833333333333,
          681.3166666666667,
          414.23333333333335,
          726.1166666666667,
          73548.21666666666,
          570910.1666666666,
          2715.3333333333335,
          11061.883333333331,
          455691,
          4057205.8,
          4533108.083333333,
          4234010.666666667,
          3901214.683333333,
          4512247.25,
          4125393,
          3570630.7,
          3840034.35,
          3900518.616666666,
          4450572.066666666,
          3732315.883333334,
          3720829.85,
          4534974.316666666,
          4593888.833333333,
          4269035.583333333,
          4462452.5,
          3881207.633333334,
          4203238,
          3848435.25,
          3814741.283333333,
          3890724.366666666,
          4152159.066666667,
          3842224.433333333,
          3841852.616666666,
          4078454.45,
          4045061.4833333334,
          4646284.733333333,
          4492981.983333333,
          3990942.133333334,
          4135037.616666666,
          3825934.4833333334,
          3850130.55,
          3844787.9,
          4005942.383333334,
          4451884.516666667,
          3816868.5166666666,
          3808086.383333334,
          3611914.816666667,
          4176184.6,
          4340579.4,
          4110738.616666666,
          4063619.7333333334,
          4202230.783333333,
          4148324.683333333,
          4019824.45,
          4579093.65,
          4561424.016666667,
          4220391.3,
          3854180.0833333335,
          3831281.8333333335,
          3852253.55,
          4090477,
          4566605.066666666,
          3852898.066666667,
          3771869.25,
          3579421.6333333333,
          3904968.55,
          4232008.983333333,
          4235130.383333334,
          3979092.55,
          4228624.483333333,
          4206256.083333333,
          3979040.3,
          4140753.25,
          4231217.966666667,
          4300333.166666667,
          3989975.7333333334,
          4225875.683333334,
          4184925.5,
          4001385.1666666665,
          4501547.466666667,
          4528973.816666666,
          4233947.45,
          4140320.65,
          3531578.216666667,
          3865683.5,
          4054217.0833333335,
          4094649.4166666665,
          1816652.15,
          821.2166666666667,
          1487.0166666666669,
          3244.5333333333333,
          11588.733333333334,
          30524.15,
          30656.666666666668
         ],
         "yaxis": "y"
        },
        {
         "hovertemplate": "actor=Worker (10, CIFAR10)<br>0=%{x}<br>1=%{y}<extra></extra>",
         "legendgroup": "Worker (10, CIFAR10)",
         "line": {
          "color": "#ab63fa",
          "dash": "solid"
         },
         "marker": {
          "symbol": "circle"
         },
         "mode": "lines",
         "name": "Worker (10, CIFAR10)",
         "orientation": "v",
         "showlegend": true,
         "type": "scatter",
         "x": [
          "2024-05-22T15:44:00+02:00",
          "2024-05-22T15:45:00+02:00",
          "2024-05-22T15:46:00+02:00",
          "2024-05-22T15:47:00+02:00",
          "2024-05-22T15:48:00+02:00",
          "2024-05-22T15:49:00+02:00",
          "2024-05-22T15:50:00+02:00",
          "2024-05-22T15:51:00+02:00",
          "2024-05-22T15:52:00+02:00",
          "2024-05-22T15:53:00+02:00",
          "2024-05-22T15:54:00+02:00",
          "2024-05-22T15:55:00+02:00",
          "2024-05-22T15:56:00+02:00",
          "2024-05-22T15:57:00+02:00",
          "2024-05-22T15:58:00+02:00",
          "2024-05-22T15:59:00+02:00",
          "2024-05-22T16:00:00+02:00",
          "2024-05-22T16:01:00+02:00",
          "2024-05-22T16:02:00+02:00",
          "2024-05-22T16:03:00+02:00",
          "2024-05-22T16:04:00+02:00",
          "2024-05-22T16:05:00+02:00",
          "2024-05-22T16:06:00+02:00",
          "2024-05-22T16:07:00+02:00",
          "2024-05-22T16:08:00+02:00",
          "2024-05-22T16:09:00+02:00",
          "2024-05-22T16:10:00+02:00",
          "2024-05-22T16:11:00+02:00",
          "2024-05-22T16:12:00+02:00",
          "2024-05-22T16:13:00+02:00",
          "2024-05-22T16:14:00+02:00",
          "2024-05-22T16:15:00+02:00",
          "2024-05-22T16:16:00+02:00",
          "2024-05-22T16:17:00+02:00",
          "2024-05-22T16:18:00+02:00",
          "2024-05-22T16:19:00+02:00",
          "2024-05-22T16:20:00+02:00",
          "2024-05-22T16:21:00+02:00",
          "2024-05-22T16:22:00+02:00",
          "2024-05-22T16:23:00+02:00",
          "2024-05-22T16:24:00+02:00",
          "2024-05-22T16:25:00+02:00",
          "2024-05-22T16:26:00+02:00",
          "2024-05-22T16:27:00+02:00",
          "2024-05-22T16:28:00+02:00",
          "2024-05-22T16:29:00+02:00",
          "2024-05-22T16:30:00+02:00",
          "2024-05-22T16:31:00+02:00",
          "2024-05-22T16:32:00+02:00",
          "2024-05-22T16:33:00+02:00",
          "2024-05-22T16:34:00+02:00",
          "2024-05-22T16:35:00+02:00",
          "2024-05-22T16:36:00+02:00",
          "2024-05-22T16:37:00+02:00",
          "2024-05-22T16:38:00+02:00",
          "2024-05-22T16:39:00+02:00"
         ],
         "xaxis": "x",
         "y": [
          2743725.3666666667,
          8712016.233333332,
          7959621.433333334,
          7985479.966666667,
          8375123.483333333,
          7991199.4,
          8193347.766666667,
          8252844.666666667,
          7885122.3,
          7821851.75,
          7124326.016666667,
          7285000.3,
          7808283.233333333,
          7394755.05,
          7795241.933333334,
          7298786.5,
          7975413.716666667,
          7704502.766666667,
          7432346.266666667,
          7800569.433333334,
          7325507.95,
          7827250.283333333,
          7177334.666666667,
          7395250.5,
          7800907.416666667,
          7442096.966666667,
          8917861.783333333,
          9064490.066666666,
          7364600.4,
          7817108.016666667,
          7087229.25,
          7272624.15,
          7906331.85,
          8728453.933333334,
          8752565.483333332,
          7274510.95,
          8599975.15,
          7858946.233333333,
          7240294.866666666,
          7618210.95,
          8932130.75,
          7918517.45,
          7969265.7,
          8557379.85,
          8359873.983333333,
          9001980.3,
          6756454.083333333,
          7320029.283333333,
          7810678.3,
          7568782.833333333,
          9201534.683333334,
          8352720.5,
          6729175.966666667,
          7859588.6,
          6527719.6,
          88782.75
         ],
         "yaxis": "y"
        },
        {
         "hovertemplate": "actor=Standalone (CIFAR10)<br>0=%{x}<br>1=%{y}<extra></extra>",
         "legendgroup": "Standalone (CIFAR10)",
         "line": {
          "color": "#FFA15A",
          "dash": "solid"
         },
         "marker": {
          "symbol": "circle"
         },
         "mode": "lines",
         "name": "Standalone (CIFAR10)",
         "orientation": "v",
         "showlegend": true,
         "type": "scatter",
         "x": [
          "2024-05-22T14:17:00+02:00",
          "2024-05-22T14:18:00+02:00",
          "2024-05-22T14:19:00+02:00",
          "2024-05-22T14:20:00+02:00",
          "2024-05-22T14:21:00+02:00",
          "2024-05-22T14:22:00+02:00",
          "2024-05-22T14:23:00+02:00",
          "2024-05-22T14:24:00+02:00",
          "2024-05-22T14:25:00+02:00",
          "2024-05-22T14:26:00+02:00",
          "2024-05-22T14:27:00+02:00",
          "2024-05-22T14:28:00+02:00",
          "2024-05-22T14:29:00+02:00",
          "2024-05-22T14:30:00+02:00",
          "2024-05-22T14:31:00+02:00",
          "2024-05-22T14:32:00+02:00",
          "2024-05-22T14:33:00+02:00",
          "2024-05-22T14:34:00+02:00",
          "2024-05-22T14:35:00+02:00",
          "2024-05-22T14:36:00+02:00",
          "2024-05-22T14:37:00+02:00"
         ],
         "xaxis": "x",
         "y": [
          1166.1666666666667,
          1090.4333333333334,
          590194.8333333334,
          128578.68333333332,
          317218.93333333335,
          59404.2,
          2495485.4,
          468068.1,
          4277.816666666667,
          4337.216666666666,
          4078.116666666667,
          4314.916666666667,
          4167.016666666666,
          4090.75,
          4260.8,
          4174.583333333333,
          4278.25,
          4270.633333333333,
          2891.45,
          3556.05,
          1285.9166666666667
         ],
         "yaxis": "y"
        },
        {
         "hovertemplate": "actor=Worker (20, CIFAR10)<br>0=%{x}<br>1=%{y}<extra></extra>",
         "legendgroup": "Worker (20, CIFAR10)",
         "line": {
          "color": "#19d3f3",
          "dash": "solid"
         },
         "marker": {
          "symbol": "circle"
         },
         "mode": "lines",
         "name": "Worker (20, CIFAR10)",
         "orientation": "v",
         "showlegend": true,
         "type": "scatter",
         "x": [
          "2024-05-22T18:20:00+02:00",
          "2024-05-22T18:21:00+02:00",
          "2024-05-22T18:22:00+02:00",
          "2024-05-22T18:23:00+02:00",
          "2024-05-22T18:24:00+02:00",
          "2024-05-22T18:25:00+02:00",
          "2024-05-22T18:26:00+02:00",
          "2024-05-22T18:27:00+02:00",
          "2024-05-22T18:28:00+02:00",
          "2024-05-22T18:29:00+02:00",
          "2024-05-22T18:30:00+02:00",
          "2024-05-22T18:31:00+02:00",
          "2024-05-22T18:32:00+02:00",
          "2024-05-22T18:33:00+02:00",
          "2024-05-22T18:34:00+02:00",
          "2024-05-22T18:35:00+02:00",
          "2024-05-22T18:36:00+02:00",
          "2024-05-22T18:37:00+02:00",
          "2024-05-22T18:38:00+02:00",
          "2024-05-22T18:39:00+02:00",
          "2024-05-22T18:40:00+02:00",
          "2024-05-22T18:41:00+02:00",
          "2024-05-22T18:42:00+02:00",
          "2024-05-22T18:43:00+02:00",
          "2024-05-22T18:44:00+02:00",
          "2024-05-22T18:45:00+02:00",
          "2024-05-22T18:46:00+02:00",
          "2024-05-22T18:47:00+02:00",
          "2024-05-22T18:48:00+02:00",
          "2024-05-22T18:49:00+02:00",
          "2024-05-22T18:50:00+02:00",
          "2024-05-22T18:51:00+02:00",
          "2024-05-22T18:52:00+02:00",
          "2024-05-22T18:53:00+02:00",
          "2024-05-22T18:54:00+02:00",
          "2024-05-22T18:55:00+02:00",
          "2024-05-22T18:56:00+02:00",
          "2024-05-22T18:57:00+02:00",
          "2024-05-22T18:58:00+02:00",
          "2024-05-22T18:59:00+02:00",
          "2024-05-22T19:00:00+02:00",
          "2024-05-22T19:01:00+02:00",
          "2024-05-22T19:02:00+02:00",
          "2024-05-22T19:03:00+02:00",
          "2024-05-22T19:04:00+02:00",
          "2024-05-22T19:05:00+02:00",
          "2024-05-22T19:06:00+02:00",
          "2024-05-22T19:07:00+02:00",
          "2024-05-22T19:08:00+02:00",
          "2024-05-22T19:09:00+02:00",
          "2024-05-22T19:10:00+02:00",
          "2024-05-22T19:11:00+02:00",
          "2024-05-22T19:12:00+02:00",
          "2024-05-22T19:13:00+02:00",
          "2024-05-22T19:14:00+02:00",
          "2024-05-22T19:15:00+02:00"
         ],
         "xaxis": "x",
         "y": [
          258592.68333333332,
          258530.81666666668,
          249428.85,
          233725.5,
          1652142.15,
          3081401.7333333334,
          1436067.95,
          349635.68333333335,
          766962.0166666667,
          2808807.8,
          3609752.4,
          3460980.966666667,
          3569209.9166666665,
          3594697.3333333335,
          3477390.15,
          3495146.566666667,
          3551313.7,
          3651392.35,
          1518671,
          347493.2,
          256598.71666666667,
          258585.1,
          245111.1,
          236126.31666666668,
          251439.18333333332,
          258626.98333333337,
          2524537.3333333335,
          3667798.3333333335,
          3663784.0833333335,
          1983989.9,
          2714175.966666667,
          3583076.25,
          3633619.116666666,
          3459450.3333333335,
          3569884.35,
          1507884.8833333333,
          883923.4166666666,
          2818769.3666666667,
          3457093.55,
          3538147.35,
          1494424.683333333,
          2533717.2,
          3949127.133333334,
          1666761.35,
          349429.88333333336,
          254026,
          237168.38333333333,
          243923.41666666663,
          256050.53333333333,
          258428.71666666667,
          256600.01666666663,
          244190.73333333337,
          237551.66666666663,
          251800.56666666668,
          2254432,
          1732881.1666666667
         ],
         "yaxis": "y"
        },
        {
         "hovertemplate": "actor=Server (20, CIFAR10)<br>0=%{x}<br>1=%{y}<extra></extra>",
         "legendgroup": "Server (20, CIFAR10)",
         "line": {
          "color": "#FF6692",
          "dash": "solid"
         },
         "marker": {
          "symbol": "circle"
         },
         "mode": "lines",
         "name": "Server (20, CIFAR10)",
         "orientation": "v",
         "showlegend": true,
         "type": "scatter",
         "x": [
          "2024-05-22T18:22:00+02:00",
          "2024-05-22T18:23:00+02:00",
          "2024-05-22T18:24:00+02:00",
          "2024-05-22T18:25:00+02:00",
          "2024-05-22T18:26:00+02:00",
          "2024-05-22T18:27:00+02:00",
          "2024-05-22T18:28:00+02:00",
          "2024-05-22T18:29:00+02:00",
          "2024-05-22T18:30:00+02:00",
          "2024-05-22T18:31:00+02:00",
          "2024-05-22T18:32:00+02:00",
          "2024-05-22T18:33:00+02:00",
          "2024-05-22T18:34:00+02:00",
          "2024-05-22T18:35:00+02:00",
          "2024-05-22T18:36:00+02:00",
          "2024-05-22T18:37:00+02:00",
          "2024-05-22T18:38:00+02:00",
          "2024-05-22T18:39:00+02:00",
          "2024-05-22T18:40:00+02:00",
          "2024-05-22T18:41:00+02:00",
          "2024-05-22T18:42:00+02:00",
          "2024-05-22T18:43:00+02:00",
          "2024-05-22T18:44:00+02:00",
          "2024-05-22T18:45:00+02:00",
          "2024-05-22T18:46:00+02:00",
          "2024-05-22T18:47:00+02:00",
          "2024-05-22T18:48:00+02:00",
          "2024-05-22T18:49:00+02:00",
          "2024-05-22T18:50:00+02:00",
          "2024-05-22T18:51:00+02:00",
          "2024-05-22T18:52:00+02:00",
          "2024-05-22T18:53:00+02:00",
          "2024-05-22T18:54:00+02:00",
          "2024-05-22T18:55:00+02:00",
          "2024-05-22T18:56:00+02:00",
          "2024-05-22T18:57:00+02:00",
          "2024-05-22T18:58:00+02:00",
          "2024-05-22T18:59:00+02:00",
          "2024-05-22T19:00:00+02:00",
          "2024-05-22T19:01:00+02:00",
          "2024-05-22T19:02:00+02:00",
          "2024-05-22T19:03:00+02:00",
          "2024-05-22T19:04:00+02:00",
          "2024-05-22T19:05:00+02:00",
          "2024-05-22T19:06:00+02:00",
          "2024-05-22T19:07:00+02:00",
          "2024-05-22T19:08:00+02:00",
          "2024-05-22T19:09:00+02:00",
          "2024-05-22T19:10:00+02:00",
          "2024-05-22T19:11:00+02:00",
          "2024-05-22T19:12:00+02:00",
          "2024-05-22T19:13:00+02:00",
          "2024-05-22T19:14:00+02:00",
          "2024-05-22T19:15:00+02:00",
          "2024-05-22T19:16:00+02:00",
          "2024-05-22T19:17:00+02:00"
         ],
         "xaxis": "x",
         "y": [
          249428.85,
          233725.5,
          1652142.15,
          3081401.7333333334,
          1436067.95,
          349635.68333333335,
          766962.0166666667,
          2808807.8,
          3609752.4,
          3460980.966666667,
          3569209.9166666665,
          3594697.3333333335,
          3477390.15,
          3495146.566666667,
          3551313.7,
          3651392.35,
          1518671,
          347493.2,
          256598.71666666667,
          258585.1,
          245111.1,
          236126.31666666668,
          251439.18333333332,
          258626.98333333337,
          2524537.3333333335,
          3667798.3333333335,
          3663784.0833333335,
          1983989.9,
          2714175.966666667,
          3583076.25,
          3633619.116666666,
          3459450.3333333335,
          3569884.35,
          1507884.8833333333,
          883923.4166666666,
          2818769.3666666667,
          3457093.55,
          3538147.35,
          1494424.683333333,
          2533717.2,
          3949127.133333334,
          1666761.35,
          349429.88333333336,
          254026,
          237168.38333333333,
          243923.41666666663,
          256050.53333333333,
          258428.71666666667,
          256600.01666666663,
          244190.73333333337,
          237551.66666666663,
          251800.56666666668,
          2254432,
          1732881.1666666667,
          343047.18333333335,
          1523.6166666666666
         ],
         "yaxis": "y"
        }
       ],
       "layout": {
        "height": 600,
        "legend": {
         "title": {
          "text": "actor"
         },
         "tracegroupgap": 0
        },
        "template": {
         "data": {
          "bar": [
           {
            "error_x": {
             "color": "#2a3f5f"
            },
            "error_y": {
             "color": "#2a3f5f"
            },
            "marker": {
             "line": {
              "color": "white",
              "width": 0.5
             },
             "pattern": {
              "fillmode": "overlay",
              "size": 10,
              "solidity": 0.2
             }
            },
            "type": "bar"
           }
          ],
          "barpolar": [
           {
            "marker": {
             "line": {
              "color": "white",
              "width": 0.5
             },
             "pattern": {
              "fillmode": "overlay",
              "size": 10,
              "solidity": 0.2
             }
            },
            "type": "barpolar"
           }
          ],
          "carpet": [
           {
            "aaxis": {
             "endlinecolor": "#2a3f5f",
             "gridcolor": "#C8D4E3",
             "linecolor": "#C8D4E3",
             "minorgridcolor": "#C8D4E3",
             "startlinecolor": "#2a3f5f"
            },
            "baxis": {
             "endlinecolor": "#2a3f5f",
             "gridcolor": "#C8D4E3",
             "linecolor": "#C8D4E3",
             "minorgridcolor": "#C8D4E3",
             "startlinecolor": "#2a3f5f"
            },
            "type": "carpet"
           }
          ],
          "choropleth": [
           {
            "colorbar": {
             "outlinewidth": 0,
             "ticks": ""
            },
            "type": "choropleth"
           }
          ],
          "contour": [
           {
            "colorbar": {
             "outlinewidth": 0,
             "ticks": ""
            },
            "colorscale": [
             [
              0,
              "#0d0887"
             ],
             [
              0.1111111111111111,
              "#46039f"
             ],
             [
              0.2222222222222222,
              "#7201a8"
             ],
             [
              0.3333333333333333,
              "#9c179e"
             ],
             [
              0.4444444444444444,
              "#bd3786"
             ],
             [
              0.5555555555555556,
              "#d8576b"
             ],
             [
              0.6666666666666666,
              "#ed7953"
             ],
             [
              0.7777777777777778,
              "#fb9f3a"
             ],
             [
              0.8888888888888888,
              "#fdca26"
             ],
             [
              1,
              "#f0f921"
             ]
            ],
            "type": "contour"
           }
          ],
          "contourcarpet": [
           {
            "colorbar": {
             "outlinewidth": 0,
             "ticks": ""
            },
            "type": "contourcarpet"
           }
          ],
          "heatmap": [
           {
            "colorbar": {
             "outlinewidth": 0,
             "ticks": ""
            },
            "colorscale": [
             [
              0,
              "#0d0887"
             ],
             [
              0.1111111111111111,
              "#46039f"
             ],
             [
              0.2222222222222222,
              "#7201a8"
             ],
             [
              0.3333333333333333,
              "#9c179e"
             ],
             [
              0.4444444444444444,
              "#bd3786"
             ],
             [
              0.5555555555555556,
              "#d8576b"
             ],
             [
              0.6666666666666666,
              "#ed7953"
             ],
             [
              0.7777777777777778,
              "#fb9f3a"
             ],
             [
              0.8888888888888888,
              "#fdca26"
             ],
             [
              1,
              "#f0f921"
             ]
            ],
            "type": "heatmap"
           }
          ],
          "heatmapgl": [
           {
            "colorbar": {
             "outlinewidth": 0,
             "ticks": ""
            },
            "colorscale": [
             [
              0,
              "#0d0887"
             ],
             [
              0.1111111111111111,
              "#46039f"
             ],
             [
              0.2222222222222222,
              "#7201a8"
             ],
             [
              0.3333333333333333,
              "#9c179e"
             ],
             [
              0.4444444444444444,
              "#bd3786"
             ],
             [
              0.5555555555555556,
              "#d8576b"
             ],
             [
              0.6666666666666666,
              "#ed7953"
             ],
             [
              0.7777777777777778,
              "#fb9f3a"
             ],
             [
              0.8888888888888888,
              "#fdca26"
             ],
             [
              1,
              "#f0f921"
             ]
            ],
            "type": "heatmapgl"
           }
          ],
          "histogram": [
           {
            "marker": {
             "pattern": {
              "fillmode": "overlay",
              "size": 10,
              "solidity": 0.2
             }
            },
            "type": "histogram"
           }
          ],
          "histogram2d": [
           {
            "colorbar": {
             "outlinewidth": 0,
             "ticks": ""
            },
            "colorscale": [
             [
              0,
              "#0d0887"
             ],
             [
              0.1111111111111111,
              "#46039f"
             ],
             [
              0.2222222222222222,
              "#7201a8"
             ],
             [
              0.3333333333333333,
              "#9c179e"
             ],
             [
              0.4444444444444444,
              "#bd3786"
             ],
             [
              0.5555555555555556,
              "#d8576b"
             ],
             [
              0.6666666666666666,
              "#ed7953"
             ],
             [
              0.7777777777777778,
              "#fb9f3a"
             ],
             [
              0.8888888888888888,
              "#fdca26"
             ],
             [
              1,
              "#f0f921"
             ]
            ],
            "type": "histogram2d"
           }
          ],
          "histogram2dcontour": [
           {
            "colorbar": {
             "outlinewidth": 0,
             "ticks": ""
            },
            "colorscale": [
             [
              0,
              "#0d0887"
             ],
             [
              0.1111111111111111,
              "#46039f"
             ],
             [
              0.2222222222222222,
              "#7201a8"
             ],
             [
              0.3333333333333333,
              "#9c179e"
             ],
             [
              0.4444444444444444,
              "#bd3786"
             ],
             [
              0.5555555555555556,
              "#d8576b"
             ],
             [
              0.6666666666666666,
              "#ed7953"
             ],
             [
              0.7777777777777778,
              "#fb9f3a"
             ],
             [
              0.8888888888888888,
              "#fdca26"
             ],
             [
              1,
              "#f0f921"
             ]
            ],
            "type": "histogram2dcontour"
           }
          ],
          "mesh3d": [
           {
            "colorbar": {
             "outlinewidth": 0,
             "ticks": ""
            },
            "type": "mesh3d"
           }
          ],
          "parcoords": [
           {
            "line": {
             "colorbar": {
              "outlinewidth": 0,
              "ticks": ""
             }
            },
            "type": "parcoords"
           }
          ],
          "pie": [
           {
            "automargin": true,
            "type": "pie"
           }
          ],
          "scatter": [
           {
            "fillpattern": {
             "fillmode": "overlay",
             "size": 10,
             "solidity": 0.2
            },
            "type": "scatter"
           }
          ],
          "scatter3d": [
           {
            "line": {
             "colorbar": {
              "outlinewidth": 0,
              "ticks": ""
             }
            },
            "marker": {
             "colorbar": {
              "outlinewidth": 0,
              "ticks": ""
             }
            },
            "type": "scatter3d"
           }
          ],
          "scattercarpet": [
           {
            "marker": {
             "colorbar": {
              "outlinewidth": 0,
              "ticks": ""
             }
            },
            "type": "scattercarpet"
           }
          ],
          "scattergeo": [
           {
            "marker": {
             "colorbar": {
              "outlinewidth": 0,
              "ticks": ""
             }
            },
            "type": "scattergeo"
           }
          ],
          "scattergl": [
           {
            "marker": {
             "colorbar": {
              "outlinewidth": 0,
              "ticks": ""
             }
            },
            "type": "scattergl"
           }
          ],
          "scattermapbox": [
           {
            "marker": {
             "colorbar": {
              "outlinewidth": 0,
              "ticks": ""
             }
            },
            "type": "scattermapbox"
           }
          ],
          "scatterpolar": [
           {
            "marker": {
             "colorbar": {
              "outlinewidth": 0,
              "ticks": ""
             }
            },
            "type": "scatterpolar"
           }
          ],
          "scatterpolargl": [
           {
            "marker": {
             "colorbar": {
              "outlinewidth": 0,
              "ticks": ""
             }
            },
            "type": "scatterpolargl"
           }
          ],
          "scatterternary": [
           {
            "marker": {
             "colorbar": {
              "outlinewidth": 0,
              "ticks": ""
             }
            },
            "type": "scatterternary"
           }
          ],
          "surface": [
           {
            "colorbar": {
             "outlinewidth": 0,
             "ticks": ""
            },
            "colorscale": [
             [
              0,
              "#0d0887"
             ],
             [
              0.1111111111111111,
              "#46039f"
             ],
             [
              0.2222222222222222,
              "#7201a8"
             ],
             [
              0.3333333333333333,
              "#9c179e"
             ],
             [
              0.4444444444444444,
              "#bd3786"
             ],
             [
              0.5555555555555556,
              "#d8576b"
             ],
             [
              0.6666666666666666,
              "#ed7953"
             ],
             [
              0.7777777777777778,
              "#fb9f3a"
             ],
             [
              0.8888888888888888,
              "#fdca26"
             ],
             [
              1,
              "#f0f921"
             ]
            ],
            "type": "surface"
           }
          ],
          "table": [
           {
            "cells": {
             "fill": {
              "color": "#EBF0F8"
             },
             "line": {
              "color": "white"
             }
            },
            "header": {
             "fill": {
              "color": "#C8D4E3"
             },
             "line": {
              "color": "white"
             }
            },
            "type": "table"
           }
          ]
         },
         "layout": {
          "annotationdefaults": {
           "arrowcolor": "#2a3f5f",
           "arrowhead": 0,
           "arrowwidth": 1
          },
          "autotypenumbers": "strict",
          "coloraxis": {
           "colorbar": {
            "outlinewidth": 0,
            "ticks": ""
           }
          },
          "colorscale": {
           "diverging": [
            [
             0,
             "#8e0152"
            ],
            [
             0.1,
             "#c51b7d"
            ],
            [
             0.2,
             "#de77ae"
            ],
            [
             0.3,
             "#f1b6da"
            ],
            [
             0.4,
             "#fde0ef"
            ],
            [
             0.5,
             "#f7f7f7"
            ],
            [
             0.6,
             "#e6f5d0"
            ],
            [
             0.7,
             "#b8e186"
            ],
            [
             0.8,
             "#7fbc41"
            ],
            [
             0.9,
             "#4d9221"
            ],
            [
             1,
             "#276419"
            ]
           ],
           "sequential": [
            [
             0,
             "#0d0887"
            ],
            [
             0.1111111111111111,
             "#46039f"
            ],
            [
             0.2222222222222222,
             "#7201a8"
            ],
            [
             0.3333333333333333,
             "#9c179e"
            ],
            [
             0.4444444444444444,
             "#bd3786"
            ],
            [
             0.5555555555555556,
             "#d8576b"
            ],
            [
             0.6666666666666666,
             "#ed7953"
            ],
            [
             0.7777777777777778,
             "#fb9f3a"
            ],
            [
             0.8888888888888888,
             "#fdca26"
            ],
            [
             1,
             "#f0f921"
            ]
           ],
           "sequentialminus": [
            [
             0,
             "#0d0887"
            ],
            [
             0.1111111111111111,
             "#46039f"
            ],
            [
             0.2222222222222222,
             "#7201a8"
            ],
            [
             0.3333333333333333,
             "#9c179e"
            ],
            [
             0.4444444444444444,
             "#bd3786"
            ],
            [
             0.5555555555555556,
             "#d8576b"
            ],
            [
             0.6666666666666666,
             "#ed7953"
            ],
            [
             0.7777777777777778,
             "#fb9f3a"
            ],
            [
             0.8888888888888888,
             "#fdca26"
            ],
            [
             1,
             "#f0f921"
            ]
           ]
          },
          "colorway": [
           "#636efa",
           "#EF553B",
           "#00cc96",
           "#ab63fa",
           "#FFA15A",
           "#19d3f3",
           "#FF6692",
           "#B6E880",
           "#FF97FF",
           "#FECB52"
          ],
          "font": {
           "color": "#2a3f5f"
          },
          "geo": {
           "bgcolor": "white",
           "lakecolor": "white",
           "landcolor": "white",
           "showlakes": true,
           "showland": true,
           "subunitcolor": "#C8D4E3"
          },
          "hoverlabel": {
           "align": "left"
          },
          "hovermode": "closest",
          "mapbox": {
           "style": "light"
          },
          "paper_bgcolor": "white",
          "plot_bgcolor": "white",
          "polar": {
           "angularaxis": {
            "gridcolor": "#EBF0F8",
            "linecolor": "#EBF0F8",
            "ticks": ""
           },
           "bgcolor": "white",
           "radialaxis": {
            "gridcolor": "#EBF0F8",
            "linecolor": "#EBF0F8",
            "ticks": ""
           }
          },
          "scene": {
           "xaxis": {
            "backgroundcolor": "white",
            "gridcolor": "#DFE8F3",
            "gridwidth": 2,
            "linecolor": "#EBF0F8",
            "showbackground": true,
            "ticks": "",
            "zerolinecolor": "#EBF0F8"
           },
           "yaxis": {
            "backgroundcolor": "white",
            "gridcolor": "#DFE8F3",
            "gridwidth": 2,
            "linecolor": "#EBF0F8",
            "showbackground": true,
            "ticks": "",
            "zerolinecolor": "#EBF0F8"
           },
           "zaxis": {
            "backgroundcolor": "white",
            "gridcolor": "#DFE8F3",
            "gridwidth": 2,
            "linecolor": "#EBF0F8",
            "showbackground": true,
            "ticks": "",
            "zerolinecolor": "#EBF0F8"
           }
          },
          "shapedefaults": {
           "line": {
            "color": "#2a3f5f"
           }
          },
          "ternary": {
           "aaxis": {
            "gridcolor": "#DFE8F3",
            "linecolor": "#A2B1C6",
            "ticks": ""
           },
           "baxis": {
            "gridcolor": "#DFE8F3",
            "linecolor": "#A2B1C6",
            "ticks": ""
           },
           "bgcolor": "white",
           "caxis": {
            "gridcolor": "#DFE8F3",
            "linecolor": "#A2B1C6",
            "ticks": ""
           }
          },
          "title": {
           "x": 0.05
          },
          "xaxis": {
           "automargin": true,
           "gridcolor": "#EBF0F8",
           "linecolor": "#EBF0F8",
           "ticks": "",
           "title": {
            "standoff": 15
           },
           "zerolinecolor": "#EBF0F8",
           "zerolinewidth": 2
          },
          "yaxis": {
           "automargin": true,
           "gridcolor": "#EBF0F8",
           "linecolor": "#EBF0F8",
           "ticks": "",
           "title": {
            "standoff": 15
           },
           "zerolinecolor": "#EBF0F8",
           "zerolinewidth": 2
          }
         }
        },
        "title": {
         "text": "Received bytes"
        },
        "width": 1200,
        "xaxis": {
         "anchor": "y",
         "domain": [
          0,
          1
         ],
         "title": {
          "text": "0"
         }
        },
        "yaxis": {
         "anchor": "x",
         "domain": [
          0,
          1
         ],
         "title": {
          "text": "1"
         }
        }
       }
      }
     },
     "metadata": {},
     "output_type": "display_data"
    }
   ],
   "source": [
    "px.line(net_df, x=\"remote_type\", y=\"Google Services\", color=\"actor\", title=\"Net usage\", width=WIDTH, height=HEIGHT).show()\n",
    "px.line(net_df, x=\"remote_type\", y=\"External (or VMs Different Project)\", color=\"actor\", title=\"Net usage\", width=WIDTH, height=HEIGHT).show()\n",
    "px.line(net_df, x=\"remote_type\", y=\"VMs Different Region (outside europe-central2)\", color=\"actor\", title=\"Net usage\", width=WIDTH, height=HEIGHT).show()\n",
    "px.line(net_df, x=\"remote_type\", y=\"VMs Different Region (outside europe-west4)\", color=\"actor\", title=\"Net usage\", width=WIDTH, height=HEIGHT).show()\n",
    "px.line(sent_bytes_df, x=0, y=1, color=\"actor\", title=\"Sent bytes\", width=WIDTH, height=HEIGHT).show()\n",
    "px.line(received_bytes_df, x=0, y=1, color=\"actor\", title=\"Received bytes\", width=WIDTH, height=HEIGHT).show()"
   ]
  },
  {
   "cell_type": "code",
   "execution_count": 10,
   "metadata": {},
   "outputs": [
    {
     "data": {
      "application/vnd.plotly.v1+json": {
       "config": {
        "plotlyServerURL": "https://plot.ly"
       },
       "data": [
        {
         "hovertemplate": "actor=Server (10, CIFAR10)<br>0=%{x}<br>1=%{y}<extra></extra>",
         "legendgroup": "Server (10, CIFAR10)",
         "line": {
          "color": "#636efa",
          "dash": "solid"
         },
         "marker": {
          "symbol": "circle"
         },
         "mode": "lines",
         "name": "Server (10, CIFAR10)",
         "orientation": "v",
         "showlegend": true,
         "type": "scatter",
         "x": [
          "2024-05-22T15:40:00+02:00",
          "2024-05-22T15:41:00+02:00",
          "2024-05-22T15:42:00+02:00",
          "2024-05-22T15:43:00+02:00",
          "2024-05-22T15:44:00+02:00",
          "2024-05-22T15:45:00+02:00",
          "2024-05-22T15:46:00+02:00",
          "2024-05-22T15:47:00+02:00",
          "2024-05-22T15:48:00+02:00",
          "2024-05-22T15:49:00+02:00",
          "2024-05-22T15:50:00+02:00",
          "2024-05-22T15:51:00+02:00",
          "2024-05-22T15:52:00+02:00",
          "2024-05-22T15:53:00+02:00",
          "2024-05-22T15:54:00+02:00",
          "2024-05-22T15:55:00+02:00",
          "2024-05-22T15:56:00+02:00",
          "2024-05-22T15:57:00+02:00",
          "2024-05-22T15:58:00+02:00",
          "2024-05-22T15:59:00+02:00",
          "2024-05-22T16:00:00+02:00",
          "2024-05-22T16:01:00+02:00",
          "2024-05-22T16:02:00+02:00",
          "2024-05-22T16:03:00+02:00",
          "2024-05-22T16:04:00+02:00",
          "2024-05-22T16:05:00+02:00",
          "2024-05-22T16:06:00+02:00",
          "2024-05-22T16:07:00+02:00",
          "2024-05-22T16:08:00+02:00",
          "2024-05-22T16:09:00+02:00",
          "2024-05-22T16:10:00+02:00",
          "2024-05-22T16:11:00+02:00",
          "2024-05-22T16:12:00+02:00",
          "2024-05-22T16:13:00+02:00",
          "2024-05-22T16:14:00+02:00",
          "2024-05-22T16:15:00+02:00",
          "2024-05-22T16:16:00+02:00",
          "2024-05-22T16:17:00+02:00",
          "2024-05-22T16:18:00+02:00",
          "2024-05-22T16:19:00+02:00",
          "2024-05-22T16:20:00+02:00",
          "2024-05-22T16:21:00+02:00",
          "2024-05-22T16:22:00+02:00",
          "2024-05-22T16:23:00+02:00",
          "2024-05-22T16:24:00+02:00",
          "2024-05-22T16:25:00+02:00",
          "2024-05-22T16:26:00+02:00",
          "2024-05-22T16:27:00+02:00",
          "2024-05-22T16:28:00+02:00",
          "2024-05-22T16:29:00+02:00",
          "2024-05-22T16:30:00+02:00",
          "2024-05-22T16:31:00+02:00",
          "2024-05-22T16:32:00+02:00",
          "2024-05-22T16:33:00+02:00",
          "2024-05-22T16:34:00+02:00",
          "2024-05-22T16:35:00+02:00",
          "2024-05-22T16:36:00+02:00",
          "2024-05-22T16:37:00+02:00"
         ],
         "xaxis": "x",
         "y": [
          0.033076687892867,
          0.0423147848546098,
          0.0265408209183002,
          0.187427779418158,
          0.3973720933594525,
          0.4744031630760976,
          0.4935396856681867,
          0.4841009319443401,
          0.4723645722011951,
          0.4852190199412461,
          0.481875639659385,
          0.4862157603021842,
          0.4832472470820297,
          0.4493557146940702,
          0.4333425308740364,
          0.4296899429490016,
          0.4329216865650171,
          0.4372871475026462,
          0.42710183238493,
          0.4352966413510027,
          0.4675955412644043,
          0.4574996927781664,
          0.4378606904746447,
          0.4315158953200049,
          0.4298317863606068,
          0.4279230885817924,
          0.4304528477872963,
          0.4287358178184983,
          0.4243323176904141,
          0.447175389454272,
          0.4918456475209647,
          0.5146455450769887,
          0.4670945791204606,
          0.4324201849564891,
          0.4329109798457997,
          0.427156235023267,
          0.4348165582232847,
          0.4933159773453326,
          0.4894952336832602,
          0.4656607768923929,
          0.4941570260848796,
          0.4610201619332884,
          0.4333542133315556,
          0.4384306401713956,
          0.487113897167804,
          0.4952342805954761,
          0.4558034353779779,
          0.4952882288545197,
          0.5108157241702884,
          0.4891841806052601,
          0.4526122736167735,
          0.4309044058844695,
          0.4289702259022078,
          0.4329497846612639,
          0.486988419887128,
          0.4731129705511951,
          0.4563186156249079,
          0.4375060381621324
         ],
         "yaxis": "y"
        },
        {
         "hovertemplate": "actor=Worker (5, CIFAR10)<br>0=%{x}<br>1=%{y}<extra></extra>",
         "legendgroup": "Worker (5, CIFAR10)",
         "line": {
          "color": "#EF553B",
          "dash": "solid"
         },
         "marker": {
          "symbol": "circle"
         },
         "mode": "lines",
         "name": "Worker (5, CIFAR10)",
         "orientation": "v",
         "showlegend": true,
         "type": "scatter",
         "x": [
          "2024-05-22T13:45:00+02:00",
          "2024-05-22T13:46:00+02:00",
          "2024-05-22T13:47:00+02:00",
          "2024-05-22T13:48:00+02:00",
          "2024-05-22T13:49:00+02:00",
          "2024-05-22T13:50:00+02:00",
          "2024-05-22T13:51:00+02:00",
          "2024-05-22T13:52:00+02:00",
          "2024-05-22T13:53:00+02:00",
          "2024-05-22T13:54:00+02:00",
          "2024-05-22T13:55:00+02:00",
          "2024-05-22T13:56:00+02:00",
          "2024-05-22T13:57:00+02:00",
          "2024-05-22T13:58:00+02:00",
          "2024-05-22T13:59:00+02:00",
          "2024-05-22T14:00:00+02:00",
          "2024-05-22T14:01:00+02:00",
          "2024-05-22T14:02:00+02:00",
          "2024-05-22T14:03:00+02:00",
          "2024-05-22T14:04:00+02:00",
          "2024-05-22T14:05:00+02:00",
          "2024-05-22T14:06:00+02:00",
          "2024-05-22T14:07:00+02:00",
          "2024-05-22T14:08:00+02:00",
          "2024-05-22T14:09:00+02:00",
          "2024-05-22T14:10:00+02:00",
          "2024-05-22T14:11:00+02:00",
          "2024-05-22T14:12:00+02:00",
          "2024-05-22T14:13:00+02:00",
          "2024-05-22T14:14:00+02:00",
          "2024-05-22T14:15:00+02:00",
          "2024-05-22T14:16:00+02:00",
          "2024-05-22T14:17:00+02:00",
          "2024-05-22T14:18:00+02:00",
          "2024-05-22T14:19:00+02:00",
          "2024-05-22T14:20:00+02:00",
          "2024-05-22T14:21:00+02:00",
          "2024-05-22T14:22:00+02:00",
          "2024-05-22T14:23:00+02:00",
          "2024-05-22T14:24:00+02:00",
          "2024-05-22T14:25:00+02:00",
          "2024-05-22T14:26:00+02:00",
          "2024-05-22T14:27:00+02:00",
          "2024-05-22T14:28:00+02:00",
          "2024-05-22T14:29:00+02:00",
          "2024-05-22T14:30:00+02:00",
          "2024-05-22T14:31:00+02:00",
          "2024-05-22T14:32:00+02:00",
          "2024-05-22T14:33:00+02:00",
          "2024-05-22T14:34:00+02:00",
          "2024-05-22T14:35:00+02:00",
          "2024-05-22T14:36:00+02:00",
          "2024-05-22T14:37:00+02:00",
          "2024-05-22T14:38:00+02:00",
          "2024-05-22T14:39:00+02:00",
          "2024-05-22T14:40:00+02:00",
          "2024-05-22T14:41:00+02:00",
          "2024-05-22T14:42:00+02:00",
          "2024-05-22T14:43:00+02:00",
          "2024-05-22T14:44:00+02:00",
          "2024-05-22T14:45:00+02:00",
          "2024-05-22T14:46:00+02:00",
          "2024-05-22T14:47:00+02:00",
          "2024-05-22T14:48:00+02:00",
          "2024-05-22T14:49:00+02:00",
          "2024-05-22T14:50:00+02:00",
          "2024-05-22T14:51:00+02:00",
          "2024-05-22T14:52:00+02:00",
          "2024-05-22T14:53:00+02:00",
          "2024-05-22T14:54:00+02:00",
          "2024-05-22T14:55:00+02:00",
          "2024-05-22T14:56:00+02:00",
          "2024-05-22T14:57:00+02:00",
          "2024-05-22T14:58:00+02:00",
          "2024-05-22T14:59:00+02:00",
          "2024-05-22T15:00:00+02:00",
          "2024-05-22T15:01:00+02:00",
          "2024-05-22T15:02:00+02:00",
          "2024-05-22T15:03:00+02:00",
          "2024-05-22T15:04:00+02:00",
          "2024-05-22T15:05:00+02:00",
          "2024-05-22T15:06:00+02:00",
          "2024-05-22T15:07:00+02:00",
          "2024-05-22T15:08:00+02:00",
          "2024-05-22T15:09:00+02:00",
          "2024-05-22T15:10:00+02:00",
          "2024-05-22T15:11:00+02:00",
          "2024-05-22T15:12:00+02:00",
          "2024-05-22T15:13:00+02:00",
          "2024-05-22T15:14:00+02:00",
          "2024-05-22T15:15:00+02:00",
          "2024-05-22T15:16:00+02:00",
          "2024-05-22T15:17:00+02:00",
          "2024-05-22T15:18:00+02:00",
          "2024-05-22T15:19:00+02:00",
          "2024-05-22T15:20:00+02:00",
          "2024-05-22T15:21:00+02:00"
         ],
         "xaxis": "x",
         "y": [
          0.0162851970008348,
          0.0160305841128099,
          0.0187793069113221,
          0.0174996988688751,
          0.0172313089856032,
          0.0175664166459752,
          0.0167761690088802,
          0.0519245876597801,
          0.0943609804536426,
          0.0387335485023929,
          0.0796175387045804,
          0.2335578121887547,
          0.3884450110504862,
          0.4486985163756043,
          0.4432326828789257,
          0.4141052461422669,
          0.4325935802264676,
          0.4169056152196622,
          0.3846199858832956,
          0.3831818934308814,
          0.4010003287757266,
          0.4325228722209648,
          0.3943616610014137,
          0.3973133577587854,
          0.4360345383681059,
          0.4515119535156174,
          0.4448722317374678,
          0.4327037370548879,
          0.4169976824170002,
          0.4340527159307764,
          0.3868560588048107,
          0.3755324969838322,
          0.4110115084809024,
          0.4302314058878816,
          0.3867506696125095,
          0.3815352545098942,
          0.4051071379991943,
          0.4199714325608852,
          0.439097891954492,
          0.4576407847661244,
          0.4260488166243609,
          0.3714735635382207,
          0.3913914644455246,
          0.3853611496710357,
          0.3959731653873632,
          0.4250867737472617,
          0.4181213269534017,
          0.3969899427821379,
          0.3861063187208307,
          0.3902664027526896,
          0.4064304995495983,
          0.4275679829878792,
          0.4175384127813951,
          0.4086571643772913,
          0.4100034841452611,
          0.416210453745695,
          0.4219258633125302,
          0.4379791140685445,
          0.4516120494084399,
          0.4297064240036017,
          0.3984223857335033,
          0.370826598362017,
          0.4043551326551589,
          0.4298033429971762,
          0.4162610840211149,
          0.3944683215385756,
          0.3839328910558606,
          0.3880390333893084,
          0.3892353437192961,
          0.4162094683078445,
          0.425506735962305,
          0.4130170276644056,
          0.4046484202908649,
          0.4202022035939535,
          0.4116564717702052,
          0.404270853631715,
          0.4195790258727015,
          0.423525998604858,
          0.4154521550642395,
          0.4035777546560439,
          0.4211775055976811,
          0.4255093244349837,
          0.4430841306841406,
          0.4558814654683753,
          0.4342641238399248,
          0.386774572658597,
          0.3688361081229231,
          0.3980465577143339,
          0.420390147564395,
          0.3959548001607951,
          0.2268100708737203,
          0.019130795006049,
          0.0186516039143839,
          0.015727903424541,
          0.0236700691786116,
          0.0293910812497908,
          0.0228470795799997
         ],
         "yaxis": "y"
        },
        {
         "hovertemplate": "actor=Server (5, CIFAR10)<br>0=%{x}<br>1=%{y}<extra></extra>",
         "legendgroup": "Server (5, CIFAR10)",
         "line": {
          "color": "#00cc96",
          "dash": "solid"
         },
         "marker": {
          "symbol": "circle"
         },
         "mode": "lines",
         "name": "Server (5, CIFAR10)",
         "orientation": "v",
         "showlegend": true,
         "type": "scatter",
         "x": [
          "2024-05-22T13:45:00+02:00",
          "2024-05-22T13:46:00+02:00",
          "2024-05-22T13:47:00+02:00",
          "2024-05-22T13:48:00+02:00",
          "2024-05-22T13:49:00+02:00",
          "2024-05-22T13:50:00+02:00",
          "2024-05-22T13:51:00+02:00",
          "2024-05-22T13:52:00+02:00",
          "2024-05-22T13:53:00+02:00",
          "2024-05-22T13:54:00+02:00",
          "2024-05-22T13:55:00+02:00",
          "2024-05-22T13:56:00+02:00",
          "2024-05-22T13:57:00+02:00",
          "2024-05-22T13:58:00+02:00",
          "2024-05-22T13:59:00+02:00",
          "2024-05-22T14:00:00+02:00",
          "2024-05-22T14:01:00+02:00",
          "2024-05-22T14:02:00+02:00",
          "2024-05-22T14:03:00+02:00",
          "2024-05-22T14:04:00+02:00",
          "2024-05-22T14:05:00+02:00",
          "2024-05-22T14:06:00+02:00",
          "2024-05-22T14:07:00+02:00",
          "2024-05-22T14:08:00+02:00",
          "2024-05-22T14:09:00+02:00",
          "2024-05-22T14:10:00+02:00",
          "2024-05-22T14:11:00+02:00",
          "2024-05-22T14:12:00+02:00",
          "2024-05-22T14:13:00+02:00",
          "2024-05-22T14:14:00+02:00",
          "2024-05-22T14:15:00+02:00",
          "2024-05-22T14:16:00+02:00",
          "2024-05-22T14:17:00+02:00",
          "2024-05-22T14:18:00+02:00",
          "2024-05-22T14:19:00+02:00",
          "2024-05-22T14:20:00+02:00",
          "2024-05-22T14:21:00+02:00",
          "2024-05-22T14:22:00+02:00",
          "2024-05-22T14:23:00+02:00",
          "2024-05-22T14:24:00+02:00",
          "2024-05-22T14:25:00+02:00",
          "2024-05-22T14:26:00+02:00",
          "2024-05-22T14:27:00+02:00",
          "2024-05-22T14:28:00+02:00",
          "2024-05-22T14:29:00+02:00",
          "2024-05-22T14:30:00+02:00",
          "2024-05-22T14:31:00+02:00",
          "2024-05-22T14:32:00+02:00",
          "2024-05-22T14:33:00+02:00",
          "2024-05-22T14:34:00+02:00",
          "2024-05-22T14:35:00+02:00",
          "2024-05-22T14:36:00+02:00",
          "2024-05-22T14:37:00+02:00",
          "2024-05-22T14:38:00+02:00",
          "2024-05-22T14:39:00+02:00",
          "2024-05-22T14:40:00+02:00",
          "2024-05-22T14:41:00+02:00",
          "2024-05-22T14:42:00+02:00",
          "2024-05-22T14:43:00+02:00",
          "2024-05-22T14:44:00+02:00",
          "2024-05-22T14:45:00+02:00",
          "2024-05-22T14:46:00+02:00",
          "2024-05-22T14:47:00+02:00",
          "2024-05-22T14:48:00+02:00",
          "2024-05-22T14:49:00+02:00",
          "2024-05-22T14:50:00+02:00",
          "2024-05-22T14:51:00+02:00",
          "2024-05-22T14:52:00+02:00",
          "2024-05-22T14:53:00+02:00",
          "2024-05-22T14:54:00+02:00",
          "2024-05-22T14:55:00+02:00",
          "2024-05-22T14:56:00+02:00",
          "2024-05-22T14:57:00+02:00",
          "2024-05-22T14:58:00+02:00",
          "2024-05-22T14:59:00+02:00",
          "2024-05-22T15:00:00+02:00",
          "2024-05-22T15:01:00+02:00",
          "2024-05-22T15:02:00+02:00",
          "2024-05-22T15:03:00+02:00",
          "2024-05-22T15:04:00+02:00",
          "2024-05-22T15:05:00+02:00",
          "2024-05-22T15:06:00+02:00",
          "2024-05-22T15:07:00+02:00",
          "2024-05-22T15:08:00+02:00",
          "2024-05-22T15:09:00+02:00",
          "2024-05-22T15:10:00+02:00",
          "2024-05-22T15:11:00+02:00",
          "2024-05-22T15:12:00+02:00",
          "2024-05-22T15:13:00+02:00",
          "2024-05-22T15:14:00+02:00",
          "2024-05-22T15:15:00+02:00",
          "2024-05-22T15:16:00+02:00",
          "2024-05-22T15:17:00+02:00",
          "2024-05-22T15:18:00+02:00",
          "2024-05-22T15:19:00+02:00",
          "2024-05-22T15:20:00+02:00",
          "2024-05-22T15:21:00+02:00"
         ],
         "xaxis": "x",
         "y": [
          0.0176798461735428,
          0.0157233603729737,
          0.016408536216142,
          0.01754893168054,
          0.0180027861620074,
          0.0185286855878069,
          0.0195539703190214,
          0.0820938107910386,
          0.1575646952819758,
          0.0934399351341329,
          0.0991834706943328,
          0.346819821493092,
          0.5277608486247587,
          0.5517665303156264,
          0.5381025807395929,
          0.5062345547040976,
          0.521614874341564,
          0.519916737651045,
          0.4670736389979841,
          0.4629821038512034,
          0.4843047594662389,
          0.5097155344969024,
          0.4828823922134395,
          0.4747262229102612,
          0.517362070930065,
          0.5415448671517387,
          0.5438678563549388,
          0.531819420608925,
          0.5063854747897305,
          0.5149597622589132,
          0.4770289627987987,
          0.4478419383381246,
          0.4813972009320347,
          0.5321041696579338,
          0.5121276703962148,
          0.4613492784467231,
          0.5103908045415285,
          0.5505551137189437,
          0.5493394587878697,
          0.5559122670893278,
          0.529027759039218,
          0.4907386605271426,
          0.466898691919198,
          0.459806764372441,
          0.4880934322216489,
          0.5163971572081929,
          0.5303713359726998,
          0.4931395607493224,
          0.455851968262463,
          0.4570920764843966,
          0.4912759406531222,
          0.522016757911202,
          0.5299284469130915,
          0.5221049198684833,
          0.5174486926278367,
          0.5215680928899095,
          0.5213663577316386,
          0.5430581100644835,
          0.565331771500352,
          0.5565837682618963,
          0.4796653672982301,
          0.441682692611846,
          0.4557106686768672,
          0.5149374441928519,
          0.5458380878025347,
          0.4857047884296018,
          0.4504683628477134,
          0.4667766024001366,
          0.4758465639818307,
          0.5045114999992241,
          0.5253558203882335,
          0.5262776938266294,
          0.5260475398425684,
          0.5278586558981033,
          0.5302222654774179,
          0.5314179991734742,
          0.5304949885888921,
          0.5285500941656815,
          0.5300926281682147,
          0.5180845088591013,
          0.5275580649135009,
          0.5293234896555077,
          0.548198415313171,
          0.5603201896986016,
          0.5459590526760622,
          0.4907886525986593,
          0.4600877088649516,
          0.5000987789860346,
          0.5269238600554218,
          0.5507301077122368,
          0.2157325252312451,
          0.0232163129716279,
          0.0238792762936479,
          0.0275656822062198,
          0.1772394721483806,
          0.3062376227257345,
          0.3341568845675359
         ],
         "yaxis": "y"
        },
        {
         "hovertemplate": "actor=Worker (10, CIFAR10)<br>0=%{x}<br>1=%{y}<extra></extra>",
         "legendgroup": "Worker (10, CIFAR10)",
         "line": {
          "color": "#ab63fa",
          "dash": "solid"
         },
         "marker": {
          "symbol": "circle"
         },
         "mode": "lines",
         "name": "Worker (10, CIFAR10)",
         "orientation": "v",
         "showlegend": true,
         "type": "scatter",
         "x": [
          "2024-05-22T15:41:00+02:00",
          "2024-05-22T15:42:00+02:00",
          "2024-05-22T15:43:00+02:00",
          "2024-05-22T15:44:00+02:00",
          "2024-05-22T15:45:00+02:00",
          "2024-05-22T15:46:00+02:00",
          "2024-05-22T15:47:00+02:00",
          "2024-05-22T15:48:00+02:00",
          "2024-05-22T15:49:00+02:00",
          "2024-05-22T15:50:00+02:00",
          "2024-05-22T15:51:00+02:00",
          "2024-05-22T15:52:00+02:00",
          "2024-05-22T15:53:00+02:00",
          "2024-05-22T15:54:00+02:00",
          "2024-05-22T15:55:00+02:00",
          "2024-05-22T15:56:00+02:00",
          "2024-05-22T15:57:00+02:00",
          "2024-05-22T15:58:00+02:00",
          "2024-05-22T15:59:00+02:00",
          "2024-05-22T16:00:00+02:00",
          "2024-05-22T16:01:00+02:00",
          "2024-05-22T16:02:00+02:00",
          "2024-05-22T16:03:00+02:00",
          "2024-05-22T16:04:00+02:00",
          "2024-05-22T16:05:00+02:00",
          "2024-05-22T16:06:00+02:00",
          "2024-05-22T16:07:00+02:00",
          "2024-05-22T16:08:00+02:00",
          "2024-05-22T16:09:00+02:00",
          "2024-05-22T16:10:00+02:00",
          "2024-05-22T16:11:00+02:00",
          "2024-05-22T16:12:00+02:00",
          "2024-05-22T16:13:00+02:00",
          "2024-05-22T16:14:00+02:00",
          "2024-05-22T16:15:00+02:00",
          "2024-05-22T16:16:00+02:00",
          "2024-05-22T16:17:00+02:00",
          "2024-05-22T16:18:00+02:00",
          "2024-05-22T16:19:00+02:00",
          "2024-05-22T16:20:00+02:00",
          "2024-05-22T16:21:00+02:00",
          "2024-05-22T16:22:00+02:00",
          "2024-05-22T16:23:00+02:00",
          "2024-05-22T16:24:00+02:00",
          "2024-05-22T16:25:00+02:00",
          "2024-05-22T16:26:00+02:00",
          "2024-05-22T16:27:00+02:00",
          "2024-05-22T16:28:00+02:00",
          "2024-05-22T16:29:00+02:00",
          "2024-05-22T16:30:00+02:00",
          "2024-05-22T16:31:00+02:00",
          "2024-05-22T16:32:00+02:00",
          "2024-05-22T16:33:00+02:00",
          "2024-05-22T16:34:00+02:00",
          "2024-05-22T16:35:00+02:00",
          "2024-05-22T16:36:00+02:00",
          "2024-05-22T16:37:00+02:00",
          "2024-05-22T16:38:00+02:00",
          "2024-05-22T16:39:00+02:00"
         ],
         "xaxis": "x",
         "y": [
          0.0190861471432829,
          0.0219292401684545,
          0.1253802995378312,
          0.3700766719900533,
          0.4559952472760566,
          0.4365980952998825,
          0.4421515783745841,
          0.4167332934177618,
          0.4337522122678062,
          0.4444107656923051,
          0.4211073383847558,
          0.423029566685841,
          0.4077561632666099,
          0.4007364752315425,
          0.4151288887213392,
          0.3974358105065221,
          0.4078941169244066,
          0.4010509749107996,
          0.4118909130328727,
          0.433766781398405,
          0.403446558945537,
          0.4170356536342145,
          0.4056944012710421,
          0.4068766045287399,
          0.4184207151296126,
          0.4017129860183331,
          0.4148037644451506,
          0.402586970358728,
          0.4228344582456733,
          0.4846314053776344,
          0.4484559570202084,
          0.4117133184583281,
          0.4087855716643541,
          0.4038326148983818,
          0.4112177239261806,
          0.4130561113244236,
          0.471250200938069,
          0.4558925776212315,
          0.405774359053233,
          0.4556726668383362,
          0.420287335094963,
          0.4034191743537652,
          0.4368150317961105,
          0.4602801069867382,
          0.4396678361711868,
          0.4188011175722825,
          0.456481243387581,
          0.4654695592670956,
          0.4492474820366472,
          0.3833018713750789,
          0.4157986812070173,
          0.3937339238694524,
          0.4256109528716782,
          0.4872019805078555,
          0.4319260250783903,
          0.3883394153089208,
          0.4244214904666251,
          0.3114661101559401,
          0.1140393302494355
         ],
         "yaxis": "y"
        },
        {
         "hovertemplate": "actor=Standalone (CIFAR10)<br>0=%{x}<br>1=%{y}<extra></extra>",
         "legendgroup": "Standalone (CIFAR10)",
         "line": {
          "color": "#FFA15A",
          "dash": "solid"
         },
         "marker": {
          "symbol": "circle"
         },
         "mode": "lines",
         "name": "Standalone (CIFAR10)",
         "orientation": "v",
         "showlegend": true,
         "type": "scatter",
         "x": [
          "2024-05-22T14:15:00+02:00",
          "2024-05-22T14:16:00+02:00",
          "2024-05-22T14:17:00+02:00",
          "2024-05-22T14:18:00+02:00",
          "2024-05-22T14:19:00+02:00",
          "2024-05-22T14:20:00+02:00",
          "2024-05-22T14:21:00+02:00",
          "2024-05-22T14:22:00+02:00",
          "2024-05-22T14:23:00+02:00",
          "2024-05-22T14:24:00+02:00",
          "2024-05-22T14:25:00+02:00",
          "2024-05-22T14:26:00+02:00",
          "2024-05-22T14:27:00+02:00",
          "2024-05-22T14:28:00+02:00",
          "2024-05-22T14:29:00+02:00",
          "2024-05-22T14:30:00+02:00",
          "2024-05-22T14:31:00+02:00",
          "2024-05-22T14:32:00+02:00",
          "2024-05-22T14:33:00+02:00",
          "2024-05-22T14:34:00+02:00",
          "2024-05-22T14:35:00+02:00",
          "2024-05-22T14:36:00+02:00"
         ],
         "xaxis": "x",
         "y": [
          0.0221500130883365,
          0.0246484848816786,
          0.0195745823040548,
          0.021628793284511,
          0.0935546585181176,
          0.1360063978951378,
          0.2361059057090945,
          0.24018744971263,
          0.269680628877677,
          0.3653774582675396,
          0.3648582689042541,
          0.3695745104103783,
          0.3623925254533636,
          0.3699518531964562,
          0.3728921696835187,
          0.3587384601263086,
          0.3683783367816735,
          0.3670116084869126,
          0.3669048680527642,
          0.3690147874267798,
          0.1654768969789984,
          0.0441252924971801
         ],
         "yaxis": "y"
        },
        {
         "hovertemplate": "actor=Worker (20, CIFAR10)<br>0=%{x}<br>1=%{y}<extra></extra>",
         "legendgroup": "Worker (20, CIFAR10)",
         "line": {
          "color": "#19d3f3",
          "dash": "solid"
         },
         "marker": {
          "symbol": "circle"
         },
         "mode": "lines",
         "name": "Worker (20, CIFAR10)",
         "orientation": "v",
         "showlegend": true,
         "type": "scatter",
         "x": [
          "2024-05-22T18:17:00+02:00",
          "2024-05-22T18:18:00+02:00",
          "2024-05-22T18:19:00+02:00",
          "2024-05-22T18:20:00+02:00",
          "2024-05-22T18:21:00+02:00",
          "2024-05-22T18:22:00+02:00",
          "2024-05-22T18:23:00+02:00",
          "2024-05-22T18:24:00+02:00",
          "2024-05-22T18:25:00+02:00",
          "2024-05-22T18:26:00+02:00",
          "2024-05-22T18:27:00+02:00",
          "2024-05-22T18:28:00+02:00",
          "2024-05-22T18:29:00+02:00",
          "2024-05-22T18:30:00+02:00",
          "2024-05-22T18:31:00+02:00",
          "2024-05-22T18:32:00+02:00",
          "2024-05-22T18:33:00+02:00",
          "2024-05-22T18:34:00+02:00",
          "2024-05-22T18:35:00+02:00",
          "2024-05-22T18:36:00+02:00",
          "2024-05-22T18:37:00+02:00",
          "2024-05-22T18:38:00+02:00",
          "2024-05-22T18:39:00+02:00",
          "2024-05-22T18:40:00+02:00",
          "2024-05-22T18:41:00+02:00",
          "2024-05-22T18:42:00+02:00",
          "2024-05-22T18:43:00+02:00",
          "2024-05-22T18:44:00+02:00",
          "2024-05-22T18:45:00+02:00",
          "2024-05-22T18:46:00+02:00",
          "2024-05-22T18:47:00+02:00",
          "2024-05-22T18:48:00+02:00",
          "2024-05-22T18:49:00+02:00",
          "2024-05-22T18:50:00+02:00",
          "2024-05-22T18:51:00+02:00",
          "2024-05-22T18:52:00+02:00",
          "2024-05-22T18:53:00+02:00",
          "2024-05-22T18:54:00+02:00",
          "2024-05-22T18:55:00+02:00",
          "2024-05-22T18:56:00+02:00",
          "2024-05-22T18:57:00+02:00",
          "2024-05-22T18:58:00+02:00",
          "2024-05-22T18:59:00+02:00",
          "2024-05-22T19:00:00+02:00",
          "2024-05-22T19:01:00+02:00",
          "2024-05-22T19:02:00+02:00",
          "2024-05-22T19:03:00+02:00",
          "2024-05-22T19:04:00+02:00",
          "2024-05-22T19:05:00+02:00",
          "2024-05-22T19:06:00+02:00",
          "2024-05-22T19:07:00+02:00",
          "2024-05-22T19:08:00+02:00",
          "2024-05-22T19:09:00+02:00",
          "2024-05-22T19:10:00+02:00",
          "2024-05-22T19:11:00+02:00",
          "2024-05-22T19:12:00+02:00",
          "2024-05-22T19:13:00+02:00",
          "2024-05-22T19:14:00+02:00",
          "2024-05-22T19:15:00+02:00"
         ],
         "xaxis": "x",
         "y": [
          0.2240882554319417,
          0.0549720598174872,
          0.05544729474949,
          0.0590801812488962,
          0.0588483160453392,
          0.0574444837584602,
          0.0570520793141895,
          0.2047066482431167,
          0.383019304188762,
          0.2225413895973588,
          0.0557170139227688,
          0.1481521970105594,
          0.3437897082244262,
          0.4344981941762853,
          0.4337554865383708,
          0.4373835114330783,
          0.4353957828035807,
          0.437308103128358,
          0.4369899214338185,
          0.4328845024142045,
          0.4384116331939291,
          0.2234840832295465,
          0.0585767651689593,
          0.0567891655085721,
          0.0544986840369877,
          0.0565676927775712,
          0.056376189352621,
          0.060159006216827,
          0.0779571522712672,
          0.2918114990101154,
          0.4456730528022073,
          0.4401464812456462,
          0.2815476882673882,
          0.3189928759696537,
          0.4383066482042561,
          0.4355501744460942,
          0.4353260050668268,
          0.4348483615695537,
          0.2181951753829594,
          0.1261902393053788,
          0.328297014688701,
          0.4374693174154269,
          0.4383796821867312,
          0.2267576956276608,
          0.2804625719751774,
          0.43764566785253,
          0.21741885291511,
          0.0561877557329088,
          0.0570489068831799,
          0.0569879713489702,
          0.0590318417264067,
          0.0688155971909357,
          0.065521472739518,
          0.0563687708926712,
          0.0560216422477992,
          0.0565175898492384,
          0.0550050276940396,
          0.2619022178384473,
          0.2346960486900381
         ],
         "yaxis": "y"
        },
        {
         "hovertemplate": "actor=Server (20, CIFAR10)<br>0=%{x}<br>1=%{y}<extra></extra>",
         "legendgroup": "Server (20, CIFAR10)",
         "line": {
          "color": "#FF6692",
          "dash": "solid"
         },
         "marker": {
          "symbol": "circle"
         },
         "mode": "lines",
         "name": "Server (20, CIFAR10)",
         "orientation": "v",
         "showlegend": true,
         "type": "scatter",
         "x": [
          "2024-05-22T18:20:00+02:00",
          "2024-05-22T18:21:00+02:00",
          "2024-05-22T18:22:00+02:00",
          "2024-05-22T18:23:00+02:00",
          "2024-05-22T18:24:00+02:00",
          "2024-05-22T18:25:00+02:00",
          "2024-05-22T18:26:00+02:00",
          "2024-05-22T18:27:00+02:00",
          "2024-05-22T18:28:00+02:00",
          "2024-05-22T18:29:00+02:00",
          "2024-05-22T18:30:00+02:00",
          "2024-05-22T18:31:00+02:00",
          "2024-05-22T18:32:00+02:00",
          "2024-05-22T18:33:00+02:00",
          "2024-05-22T18:34:00+02:00",
          "2024-05-22T18:35:00+02:00",
          "2024-05-22T18:36:00+02:00",
          "2024-05-22T18:37:00+02:00",
          "2024-05-22T18:38:00+02:00",
          "2024-05-22T18:39:00+02:00",
          "2024-05-22T18:40:00+02:00",
          "2024-05-22T18:41:00+02:00",
          "2024-05-22T18:42:00+02:00",
          "2024-05-22T18:43:00+02:00",
          "2024-05-22T18:44:00+02:00",
          "2024-05-22T18:45:00+02:00",
          "2024-05-22T18:46:00+02:00",
          "2024-05-22T18:47:00+02:00",
          "2024-05-22T18:48:00+02:00",
          "2024-05-22T18:49:00+02:00",
          "2024-05-22T18:50:00+02:00",
          "2024-05-22T18:51:00+02:00",
          "2024-05-22T18:52:00+02:00",
          "2024-05-22T18:53:00+02:00",
          "2024-05-22T18:54:00+02:00",
          "2024-05-22T18:55:00+02:00",
          "2024-05-22T18:56:00+02:00",
          "2024-05-22T18:57:00+02:00",
          "2024-05-22T18:58:00+02:00",
          "2024-05-22T18:59:00+02:00",
          "2024-05-22T19:00:00+02:00",
          "2024-05-22T19:01:00+02:00",
          "2024-05-22T19:02:00+02:00",
          "2024-05-22T19:03:00+02:00",
          "2024-05-22T19:04:00+02:00",
          "2024-05-22T19:05:00+02:00",
          "2024-05-22T19:06:00+02:00",
          "2024-05-22T19:07:00+02:00",
          "2024-05-22T19:08:00+02:00",
          "2024-05-22T19:09:00+02:00",
          "2024-05-22T19:10:00+02:00",
          "2024-05-22T19:11:00+02:00",
          "2024-05-22T19:12:00+02:00",
          "2024-05-22T19:13:00+02:00",
          "2024-05-22T19:14:00+02:00",
          "2024-05-22T19:15:00+02:00",
          "2024-05-22T19:16:00+02:00",
          "2024-05-22T19:17:00+02:00"
         ],
         "xaxis": "x",
         "y": [
          0.0590801812488962,
          0.0588483160453392,
          0.0574444837584602,
          0.0570520793141895,
          0.2047066482431167,
          0.383019304188762,
          0.2225413895973588,
          0.0557170139227688,
          0.1481521970105594,
          0.3437897082244262,
          0.4344981941762853,
          0.4337554865383708,
          0.4373835114330783,
          0.4353957828035807,
          0.437308103128358,
          0.4369899214338185,
          0.4328845024142045,
          0.4384116331939291,
          0.2234840832295465,
          0.0585767651689593,
          0.0567891655085721,
          0.0544986840369877,
          0.0565676927775712,
          0.056376189352621,
          0.060159006216827,
          0.0779571522712672,
          0.2918114990101154,
          0.4456730528022073,
          0.4401464812456462,
          0.2815476882673882,
          0.3189928759696537,
          0.4383066482042561,
          0.4355501744460942,
          0.4353260050668268,
          0.4348483615695537,
          0.2181951753829594,
          0.1261902393053788,
          0.328297014688701,
          0.4374693174154269,
          0.4383796821867312,
          0.2267576956276608,
          0.2804625719751774,
          0.43764566785253,
          0.21741885291511,
          0.0561877557329088,
          0.0570489068831799,
          0.0569879713489702,
          0.0590318417264067,
          0.0688155971909357,
          0.065521472739518,
          0.0563687708926712,
          0.0560216422477992,
          0.0565175898492384,
          0.0550050276940396,
          0.2619022178384473,
          0.2346960486900381,
          0.0485138355775461,
          0.0155931276581289
         ],
         "yaxis": "y"
        }
       ],
       "layout": {
        "height": 600,
        "legend": {
         "title": {
          "text": "actor"
         },
         "tracegroupgap": 0
        },
        "template": {
         "data": {
          "bar": [
           {
            "error_x": {
             "color": "#2a3f5f"
            },
            "error_y": {
             "color": "#2a3f5f"
            },
            "marker": {
             "line": {
              "color": "white",
              "width": 0.5
             },
             "pattern": {
              "fillmode": "overlay",
              "size": 10,
              "solidity": 0.2
             }
            },
            "type": "bar"
           }
          ],
          "barpolar": [
           {
            "marker": {
             "line": {
              "color": "white",
              "width": 0.5
             },
             "pattern": {
              "fillmode": "overlay",
              "size": 10,
              "solidity": 0.2
             }
            },
            "type": "barpolar"
           }
          ],
          "carpet": [
           {
            "aaxis": {
             "endlinecolor": "#2a3f5f",
             "gridcolor": "#C8D4E3",
             "linecolor": "#C8D4E3",
             "minorgridcolor": "#C8D4E3",
             "startlinecolor": "#2a3f5f"
            },
            "baxis": {
             "endlinecolor": "#2a3f5f",
             "gridcolor": "#C8D4E3",
             "linecolor": "#C8D4E3",
             "minorgridcolor": "#C8D4E3",
             "startlinecolor": "#2a3f5f"
            },
            "type": "carpet"
           }
          ],
          "choropleth": [
           {
            "colorbar": {
             "outlinewidth": 0,
             "ticks": ""
            },
            "type": "choropleth"
           }
          ],
          "contour": [
           {
            "colorbar": {
             "outlinewidth": 0,
             "ticks": ""
            },
            "colorscale": [
             [
              0,
              "#0d0887"
             ],
             [
              0.1111111111111111,
              "#46039f"
             ],
             [
              0.2222222222222222,
              "#7201a8"
             ],
             [
              0.3333333333333333,
              "#9c179e"
             ],
             [
              0.4444444444444444,
              "#bd3786"
             ],
             [
              0.5555555555555556,
              "#d8576b"
             ],
             [
              0.6666666666666666,
              "#ed7953"
             ],
             [
              0.7777777777777778,
              "#fb9f3a"
             ],
             [
              0.8888888888888888,
              "#fdca26"
             ],
             [
              1,
              "#f0f921"
             ]
            ],
            "type": "contour"
           }
          ],
          "contourcarpet": [
           {
            "colorbar": {
             "outlinewidth": 0,
             "ticks": ""
            },
            "type": "contourcarpet"
           }
          ],
          "heatmap": [
           {
            "colorbar": {
             "outlinewidth": 0,
             "ticks": ""
            },
            "colorscale": [
             [
              0,
              "#0d0887"
             ],
             [
              0.1111111111111111,
              "#46039f"
             ],
             [
              0.2222222222222222,
              "#7201a8"
             ],
             [
              0.3333333333333333,
              "#9c179e"
             ],
             [
              0.4444444444444444,
              "#bd3786"
             ],
             [
              0.5555555555555556,
              "#d8576b"
             ],
             [
              0.6666666666666666,
              "#ed7953"
             ],
             [
              0.7777777777777778,
              "#fb9f3a"
             ],
             [
              0.8888888888888888,
              "#fdca26"
             ],
             [
              1,
              "#f0f921"
             ]
            ],
            "type": "heatmap"
           }
          ],
          "heatmapgl": [
           {
            "colorbar": {
             "outlinewidth": 0,
             "ticks": ""
            },
            "colorscale": [
             [
              0,
              "#0d0887"
             ],
             [
              0.1111111111111111,
              "#46039f"
             ],
             [
              0.2222222222222222,
              "#7201a8"
             ],
             [
              0.3333333333333333,
              "#9c179e"
             ],
             [
              0.4444444444444444,
              "#bd3786"
             ],
             [
              0.5555555555555556,
              "#d8576b"
             ],
             [
              0.6666666666666666,
              "#ed7953"
             ],
             [
              0.7777777777777778,
              "#fb9f3a"
             ],
             [
              0.8888888888888888,
              "#fdca26"
             ],
             [
              1,
              "#f0f921"
             ]
            ],
            "type": "heatmapgl"
           }
          ],
          "histogram": [
           {
            "marker": {
             "pattern": {
              "fillmode": "overlay",
              "size": 10,
              "solidity": 0.2
             }
            },
            "type": "histogram"
           }
          ],
          "histogram2d": [
           {
            "colorbar": {
             "outlinewidth": 0,
             "ticks": ""
            },
            "colorscale": [
             [
              0,
              "#0d0887"
             ],
             [
              0.1111111111111111,
              "#46039f"
             ],
             [
              0.2222222222222222,
              "#7201a8"
             ],
             [
              0.3333333333333333,
              "#9c179e"
             ],
             [
              0.4444444444444444,
              "#bd3786"
             ],
             [
              0.5555555555555556,
              "#d8576b"
             ],
             [
              0.6666666666666666,
              "#ed7953"
             ],
             [
              0.7777777777777778,
              "#fb9f3a"
             ],
             [
              0.8888888888888888,
              "#fdca26"
             ],
             [
              1,
              "#f0f921"
             ]
            ],
            "type": "histogram2d"
           }
          ],
          "histogram2dcontour": [
           {
            "colorbar": {
             "outlinewidth": 0,
             "ticks": ""
            },
            "colorscale": [
             [
              0,
              "#0d0887"
             ],
             [
              0.1111111111111111,
              "#46039f"
             ],
             [
              0.2222222222222222,
              "#7201a8"
             ],
             [
              0.3333333333333333,
              "#9c179e"
             ],
             [
              0.4444444444444444,
              "#bd3786"
             ],
             [
              0.5555555555555556,
              "#d8576b"
             ],
             [
              0.6666666666666666,
              "#ed7953"
             ],
             [
              0.7777777777777778,
              "#fb9f3a"
             ],
             [
              0.8888888888888888,
              "#fdca26"
             ],
             [
              1,
              "#f0f921"
             ]
            ],
            "type": "histogram2dcontour"
           }
          ],
          "mesh3d": [
           {
            "colorbar": {
             "outlinewidth": 0,
             "ticks": ""
            },
            "type": "mesh3d"
           }
          ],
          "parcoords": [
           {
            "line": {
             "colorbar": {
              "outlinewidth": 0,
              "ticks": ""
             }
            },
            "type": "parcoords"
           }
          ],
          "pie": [
           {
            "automargin": true,
            "type": "pie"
           }
          ],
          "scatter": [
           {
            "fillpattern": {
             "fillmode": "overlay",
             "size": 10,
             "solidity": 0.2
            },
            "type": "scatter"
           }
          ],
          "scatter3d": [
           {
            "line": {
             "colorbar": {
              "outlinewidth": 0,
              "ticks": ""
             }
            },
            "marker": {
             "colorbar": {
              "outlinewidth": 0,
              "ticks": ""
             }
            },
            "type": "scatter3d"
           }
          ],
          "scattercarpet": [
           {
            "marker": {
             "colorbar": {
              "outlinewidth": 0,
              "ticks": ""
             }
            },
            "type": "scattercarpet"
           }
          ],
          "scattergeo": [
           {
            "marker": {
             "colorbar": {
              "outlinewidth": 0,
              "ticks": ""
             }
            },
            "type": "scattergeo"
           }
          ],
          "scattergl": [
           {
            "marker": {
             "colorbar": {
              "outlinewidth": 0,
              "ticks": ""
             }
            },
            "type": "scattergl"
           }
          ],
          "scattermapbox": [
           {
            "marker": {
             "colorbar": {
              "outlinewidth": 0,
              "ticks": ""
             }
            },
            "type": "scattermapbox"
           }
          ],
          "scatterpolar": [
           {
            "marker": {
             "colorbar": {
              "outlinewidth": 0,
              "ticks": ""
             }
            },
            "type": "scatterpolar"
           }
          ],
          "scatterpolargl": [
           {
            "marker": {
             "colorbar": {
              "outlinewidth": 0,
              "ticks": ""
             }
            },
            "type": "scatterpolargl"
           }
          ],
          "scatterternary": [
           {
            "marker": {
             "colorbar": {
              "outlinewidth": 0,
              "ticks": ""
             }
            },
            "type": "scatterternary"
           }
          ],
          "surface": [
           {
            "colorbar": {
             "outlinewidth": 0,
             "ticks": ""
            },
            "colorscale": [
             [
              0,
              "#0d0887"
             ],
             [
              0.1111111111111111,
              "#46039f"
             ],
             [
              0.2222222222222222,
              "#7201a8"
             ],
             [
              0.3333333333333333,
              "#9c179e"
             ],
             [
              0.4444444444444444,
              "#bd3786"
             ],
             [
              0.5555555555555556,
              "#d8576b"
             ],
             [
              0.6666666666666666,
              "#ed7953"
             ],
             [
              0.7777777777777778,
              "#fb9f3a"
             ],
             [
              0.8888888888888888,
              "#fdca26"
             ],
             [
              1,
              "#f0f921"
             ]
            ],
            "type": "surface"
           }
          ],
          "table": [
           {
            "cells": {
             "fill": {
              "color": "#EBF0F8"
             },
             "line": {
              "color": "white"
             }
            },
            "header": {
             "fill": {
              "color": "#C8D4E3"
             },
             "line": {
              "color": "white"
             }
            },
            "type": "table"
           }
          ]
         },
         "layout": {
          "annotationdefaults": {
           "arrowcolor": "#2a3f5f",
           "arrowhead": 0,
           "arrowwidth": 1
          },
          "autotypenumbers": "strict",
          "coloraxis": {
           "colorbar": {
            "outlinewidth": 0,
            "ticks": ""
           }
          },
          "colorscale": {
           "diverging": [
            [
             0,
             "#8e0152"
            ],
            [
             0.1,
             "#c51b7d"
            ],
            [
             0.2,
             "#de77ae"
            ],
            [
             0.3,
             "#f1b6da"
            ],
            [
             0.4,
             "#fde0ef"
            ],
            [
             0.5,
             "#f7f7f7"
            ],
            [
             0.6,
             "#e6f5d0"
            ],
            [
             0.7,
             "#b8e186"
            ],
            [
             0.8,
             "#7fbc41"
            ],
            [
             0.9,
             "#4d9221"
            ],
            [
             1,
             "#276419"
            ]
           ],
           "sequential": [
            [
             0,
             "#0d0887"
            ],
            [
             0.1111111111111111,
             "#46039f"
            ],
            [
             0.2222222222222222,
             "#7201a8"
            ],
            [
             0.3333333333333333,
             "#9c179e"
            ],
            [
             0.4444444444444444,
             "#bd3786"
            ],
            [
             0.5555555555555556,
             "#d8576b"
            ],
            [
             0.6666666666666666,
             "#ed7953"
            ],
            [
             0.7777777777777778,
             "#fb9f3a"
            ],
            [
             0.8888888888888888,
             "#fdca26"
            ],
            [
             1,
             "#f0f921"
            ]
           ],
           "sequentialminus": [
            [
             0,
             "#0d0887"
            ],
            [
             0.1111111111111111,
             "#46039f"
            ],
            [
             0.2222222222222222,
             "#7201a8"
            ],
            [
             0.3333333333333333,
             "#9c179e"
            ],
            [
             0.4444444444444444,
             "#bd3786"
            ],
            [
             0.5555555555555556,
             "#d8576b"
            ],
            [
             0.6666666666666666,
             "#ed7953"
            ],
            [
             0.7777777777777778,
             "#fb9f3a"
            ],
            [
             0.8888888888888888,
             "#fdca26"
            ],
            [
             1,
             "#f0f921"
            ]
           ]
          },
          "colorway": [
           "#636efa",
           "#EF553B",
           "#00cc96",
           "#ab63fa",
           "#FFA15A",
           "#19d3f3",
           "#FF6692",
           "#B6E880",
           "#FF97FF",
           "#FECB52"
          ],
          "font": {
           "color": "#2a3f5f"
          },
          "geo": {
           "bgcolor": "white",
           "lakecolor": "white",
           "landcolor": "white",
           "showlakes": true,
           "showland": true,
           "subunitcolor": "#C8D4E3"
          },
          "hoverlabel": {
           "align": "left"
          },
          "hovermode": "closest",
          "mapbox": {
           "style": "light"
          },
          "paper_bgcolor": "white",
          "plot_bgcolor": "white",
          "polar": {
           "angularaxis": {
            "gridcolor": "#EBF0F8",
            "linecolor": "#EBF0F8",
            "ticks": ""
           },
           "bgcolor": "white",
           "radialaxis": {
            "gridcolor": "#EBF0F8",
            "linecolor": "#EBF0F8",
            "ticks": ""
           }
          },
          "scene": {
           "xaxis": {
            "backgroundcolor": "white",
            "gridcolor": "#DFE8F3",
            "gridwidth": 2,
            "linecolor": "#EBF0F8",
            "showbackground": true,
            "ticks": "",
            "zerolinecolor": "#EBF0F8"
           },
           "yaxis": {
            "backgroundcolor": "white",
            "gridcolor": "#DFE8F3",
            "gridwidth": 2,
            "linecolor": "#EBF0F8",
            "showbackground": true,
            "ticks": "",
            "zerolinecolor": "#EBF0F8"
           },
           "zaxis": {
            "backgroundcolor": "white",
            "gridcolor": "#DFE8F3",
            "gridwidth": 2,
            "linecolor": "#EBF0F8",
            "showbackground": true,
            "ticks": "",
            "zerolinecolor": "#EBF0F8"
           }
          },
          "shapedefaults": {
           "line": {
            "color": "#2a3f5f"
           }
          },
          "ternary": {
           "aaxis": {
            "gridcolor": "#DFE8F3",
            "linecolor": "#A2B1C6",
            "ticks": ""
           },
           "baxis": {
            "gridcolor": "#DFE8F3",
            "linecolor": "#A2B1C6",
            "ticks": ""
           },
           "bgcolor": "white",
           "caxis": {
            "gridcolor": "#DFE8F3",
            "linecolor": "#A2B1C6",
            "ticks": ""
           }
          },
          "title": {
           "x": 0.05
          },
          "xaxis": {
           "automargin": true,
           "gridcolor": "#EBF0F8",
           "linecolor": "#EBF0F8",
           "ticks": "",
           "title": {
            "standoff": 15
           },
           "zerolinecolor": "#EBF0F8",
           "zerolinewidth": 2
          },
          "yaxis": {
           "automargin": true,
           "gridcolor": "#EBF0F8",
           "linecolor": "#EBF0F8",
           "ticks": "",
           "title": {
            "standoff": 15
           },
           "zerolinecolor": "#EBF0F8",
           "zerolinewidth": 2
          }
         }
        },
        "title": {
         "text": "CPU usage"
        },
        "width": 1200,
        "xaxis": {
         "anchor": "y",
         "domain": [
          0,
          1
         ],
         "title": {
          "text": "0"
         }
        },
        "yaxis": {
         "anchor": "x",
         "domain": [
          0,
          1
         ],
         "title": {
          "text": "1"
         }
        }
       }
      }
     },
     "metadata": {},
     "output_type": "display_data"
    }
   ],
   "source": [
    "px.line(cpu_df, x=0, y=1, color=\"actor\", title=\"CPU usage\", width=WIDTH, height=HEIGHT).show()"
   ]
  }
 ],
 "metadata": {
  "kernelspec": {
   "display_name": ".venv",
   "language": "python",
   "name": "python3"
  },
  "language_info": {
   "codemirror_mode": {
    "name": "ipython",
    "version": 3
   },
   "file_extension": ".py",
   "mimetype": "text/x-python",
   "name": "python",
   "nbconvert_exporter": "python",
   "pygments_lexer": "ipython3",
   "version": "3.9.18"
  }
 },
 "nbformat": 4,
 "nbformat_minor": 2
}
