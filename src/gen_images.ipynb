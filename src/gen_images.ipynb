{
 "cells": [
  {
   "cell_type": "code",
   "execution_count": 49,
   "metadata": {},
   "outputs": [],
   "source": [
    "import torch\n",
    "from torchvision.utils import make_grid\n",
    "from torchvision.transforms.functional import to_pil_image\n",
    "from datasets.CIFAR10 import Generator, Discriminator, Partitioner, Z_DIM, SHAPE\n",
    "from pathlib import Path\n",
    "import matplotlib.pyplot as plt"
   ]
  },
  {
   "cell_type": "code",
   "execution_count": 50,
   "metadata": {},
   "outputs": [],
   "source": [
    "device = torch.device(\"cuda\" if torch.cuda.is_available() else \"cpu\")\n",
    "actor = f\"1000\"\n",
    "weights_path = Path(\"results\") / \"weights\"\n",
    "destination_path = Path(\"..\") / \"report\" / \"images\"\n",
    "N_real = 3"
   ]
  },
  {
   "cell_type": "code",
   "execution_count": 51,
   "metadata": {},
   "outputs": [
    {
     "name": "stdout",
     "output_type": "stream",
     "text": [
      "Files already downloaded and verified\n",
      "Files already downloaded and verified\n"
     ]
    }
   ],
   "source": [
    "dataset = Partitioner(0, 0)\n",
    "dataset.load_data()\n",
    "dataloader = torch.utils.data.DataLoader(dataset.train_dataset, batch_size=100, shuffle=True)\n",
    "for i in range(N_real):\n",
    "    real_batch = next(iter(dataloader))[0]\n",
    "    pil = to_pil_image(make_grid(real_batch, nrow=10, value_range=(-1, 1), normalize=True, padding=0))\n",
    "    pil = pil.resize((SHAPE[1] * 10, SHAPE[2] * 10), resample=None)\n",
    "    pil.save(destination_path / f\"real_batch_{i}.png\")"
   ]
  },
  {
   "cell_type": "code",
   "execution_count": 52,
   "metadata": {},
   "outputs": [
    {
     "data": {
      "text/plain": [
       "Generator(\n",
       "  (main): Sequential(\n",
       "    (0): ConvTranspose2d(100, 512, kernel_size=(4, 4), stride=(1, 1), bias=False)\n",
       "    (1): BatchNorm2d(512, eps=1e-05, momentum=0.1, affine=True, track_running_stats=True)\n",
       "    (2): ReLU(inplace=True)\n",
       "    (3): ConvTranspose2d(512, 256, kernel_size=(4, 4), stride=(2, 2), padding=(1, 1), bias=False)\n",
       "    (4): BatchNorm2d(256, eps=1e-05, momentum=0.1, affine=True, track_running_stats=True)\n",
       "    (5): ReLU(inplace=True)\n",
       "    (6): ConvTranspose2d(256, 128, kernel_size=(4, 4), stride=(2, 2), padding=(1, 1), bias=False)\n",
       "    (7): BatchNorm2d(128, eps=1e-05, momentum=0.1, affine=True, track_running_stats=True)\n",
       "    (8): ReLU(inplace=True)\n",
       "    (9): ConvTranspose2d(128, 3, kernel_size=(4, 4), stride=(2, 2), padding=(1, 1), bias=False)\n",
       "    (10): Tanh()\n",
       "  )\n",
       ")"
      ]
     },
     "execution_count": 52,
     "metadata": {},
     "output_type": "execute_result"
    }
   ],
   "source": [
    "generator_state_dict = torch.load(weights_path / actor / \"generator.pt\", map_location=device)\n",
    "generator = Generator()\n",
    "generator.load_state_dict(generator_state_dict)\n",
    "generator.eval()"
   ]
  },
  {
   "cell_type": "code",
   "execution_count": 53,
   "metadata": {},
   "outputs": [],
   "source": [
    "seed = torch.randn((100, 100, 1, 1), device=device)"
   ]
  },
  {
   "cell_type": "code",
   "execution_count": 54,
   "metadata": {},
   "outputs": [],
   "source": [
    "with torch.no_grad():\n",
    "    images = generator(seed)\n",
    "    grid = make_grid(images, nrow=10, padding=0, value_range=(-1, 1), normalize=True)\n",
    "    pil = to_pil_image(grid)\n",
    "    pil = pil.resize((SHAPE[1] * 10, SHAPE[2] * 10), resample=None)\n",
    "    pil.save(destination_path / f\"{actor}.png\")"
   ]
  }
 ],
 "metadata": {
  "kernelspec": {
   "display_name": ".venv",
   "language": "python",
   "name": "python3"
  },
  "language_info": {
   "codemirror_mode": {
    "name": "ipython",
    "version": 3
   },
   "file_extension": ".py",
   "mimetype": "text/x-python",
   "name": "python",
   "nbconvert_exporter": "python",
   "pygments_lexer": "ipython3",
   "version": "3.9.18"
  }
 },
 "nbformat": 4,
 "nbformat_minor": 2
}
