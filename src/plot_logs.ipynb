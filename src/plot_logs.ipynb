{
 "cells": [
  {
   "cell_type": "code",
   "execution_count": 102,
   "metadata": {},
   "outputs": [],
   "source": [
    "import plotly.express as px\n",
    "import numpy as np\n",
    "import pandas as pd\n",
    "from glob import glob\n",
    "from pathlib import Path\n",
    "from IPython.display import display, HTML\n",
    "import plotly.graph_objects as go\n",
    "import json\n",
    "import os\n",
    "import time"
   ]
  },
  {
   "cell_type": "code",
   "execution_count": 103,
   "metadata": {},
   "outputs": [],
   "source": [
    "logs_path = Path(\"logs\")"
   ]
  },
  {
   "cell_type": "markdown",
   "metadata": {},
   "source": [
    "# Standalone"
   ]
  },
  {
   "cell_type": "code",
   "execution_count": 104,
   "metadata": {},
   "outputs": [],
   "source": [
    "logs_standalone = logs_path / \"standalone.logs.json\""
   ]
  },
  {
   "cell_type": "code",
   "execution_count": 105,
   "metadata": {},
   "outputs": [
    {
     "data": {
      "text/html": [
       "<div>\n",
       "<style scoped>\n",
       "    .dataframe tbody tr th:only-of-type {\n",
       "        vertical-align: middle;\n",
       "    }\n",
       "\n",
       "    .dataframe tbody tr th {\n",
       "        vertical-align: top;\n",
       "    }\n",
       "\n",
       "    .dataframe thead th {\n",
       "        text-align: right;\n",
       "    }\n",
       "</style>\n",
       "<table border=\"1\" class=\"dataframe\">\n",
       "  <thead>\n",
       "    <tr style=\"text-align: right;\">\n",
       "      <th></th>\n",
       "      <th>epoch</th>\n",
       "      <th>step</th>\n",
       "      <th>absolut_step</th>\n",
       "      <th>loss_d</th>\n",
       "      <th>loss_g</th>\n",
       "      <th>time_elapsed</th>\n",
       "      <th>start_time</th>\n",
       "      <th>end_time</th>\n",
       "      <th>fid_score</th>\n",
       "      <th>inception_score</th>\n",
       "    </tr>\n",
       "  </thead>\n",
       "  <tbody>\n",
       "    <tr>\n",
       "      <th>0</th>\n",
       "      <td>0</td>\n",
       "      <td>0</td>\n",
       "      <td>0</td>\n",
       "      <td>1.611353</td>\n",
       "      <td>37.177753</td>\n",
       "      <td>0.548701</td>\n",
       "      <td>2024-05-13 17:03:49.561235905</td>\n",
       "      <td>2024-05-13 17:03:50.109936953</td>\n",
       "      <td>391.634857</td>\n",
       "      <td>1.065864</td>\n",
       "    </tr>\n",
       "    <tr>\n",
       "      <th>1</th>\n",
       "      <td>1</td>\n",
       "      <td>0</td>\n",
       "      <td>1</td>\n",
       "      <td>0.374635</td>\n",
       "      <td>53.654175</td>\n",
       "      <td>0.159144</td>\n",
       "      <td>2024-05-13 17:03:53.888676167</td>\n",
       "      <td>2024-05-13 17:03:54.047820091</td>\n",
       "      <td>NaN</td>\n",
       "      <td>NaN</td>\n",
       "    </tr>\n",
       "    <tr>\n",
       "      <th>2</th>\n",
       "      <td>2</td>\n",
       "      <td>0</td>\n",
       "      <td>2</td>\n",
       "      <td>1.416522</td>\n",
       "      <td>39.805294</td>\n",
       "      <td>0.124094</td>\n",
       "      <td>2024-05-13 17:03:54.135853052</td>\n",
       "      <td>2024-05-13 17:03:54.259947062</td>\n",
       "      <td>NaN</td>\n",
       "      <td>NaN</td>\n",
       "    </tr>\n",
       "    <tr>\n",
       "      <th>3</th>\n",
       "      <td>3</td>\n",
       "      <td>0</td>\n",
       "      <td>3</td>\n",
       "      <td>0.353826</td>\n",
       "      <td>20.394459</td>\n",
       "      <td>0.113435</td>\n",
       "      <td>2024-05-13 17:03:54.342012882</td>\n",
       "      <td>2024-05-13 17:03:54.455448151</td>\n",
       "      <td>NaN</td>\n",
       "      <td>NaN</td>\n",
       "    </tr>\n",
       "    <tr>\n",
       "      <th>4</th>\n",
       "      <td>4</td>\n",
       "      <td>0</td>\n",
       "      <td>4</td>\n",
       "      <td>43.461674</td>\n",
       "      <td>25.461288</td>\n",
       "      <td>0.124356</td>\n",
       "      <td>2024-05-13 17:03:54.536193131</td>\n",
       "      <td>2024-05-13 17:03:54.660549164</td>\n",
       "      <td>NaN</td>\n",
       "      <td>NaN</td>\n",
       "    </tr>\n",
       "    <tr>\n",
       "      <th>...</th>\n",
       "      <td>...</td>\n",
       "      <td>...</td>\n",
       "      <td>...</td>\n",
       "      <td>...</td>\n",
       "      <td>...</td>\n",
       "      <td>...</td>\n",
       "      <td>...</td>\n",
       "      <td>...</td>\n",
       "      <td>...</td>\n",
       "      <td>...</td>\n",
       "    </tr>\n",
       "    <tr>\n",
       "      <th>95</th>\n",
       "      <td>95</td>\n",
       "      <td>0</td>\n",
       "      <td>95</td>\n",
       "      <td>2.848750</td>\n",
       "      <td>6.521394</td>\n",
       "      <td>0.112042</td>\n",
       "      <td>2024-05-13 17:04:51.291045189</td>\n",
       "      <td>2024-05-13 17:04:51.403087139</td>\n",
       "      <td>NaN</td>\n",
       "      <td>NaN</td>\n",
       "    </tr>\n",
       "    <tr>\n",
       "      <th>96</th>\n",
       "      <td>96</td>\n",
       "      <td>0</td>\n",
       "      <td>96</td>\n",
       "      <td>1.141844</td>\n",
       "      <td>5.678805</td>\n",
       "      <td>0.136434</td>\n",
       "      <td>2024-05-13 17:04:51.484804153</td>\n",
       "      <td>2024-05-13 17:04:51.621237993</td>\n",
       "      <td>NaN</td>\n",
       "      <td>NaN</td>\n",
       "    </tr>\n",
       "    <tr>\n",
       "      <th>97</th>\n",
       "      <td>97</td>\n",
       "      <td>0</td>\n",
       "      <td>97</td>\n",
       "      <td>2.495184</td>\n",
       "      <td>6.439551</td>\n",
       "      <td>0.136139</td>\n",
       "      <td>2024-05-13 17:04:51.719119072</td>\n",
       "      <td>2024-05-13 17:04:51.855258226</td>\n",
       "      <td>NaN</td>\n",
       "      <td>NaN</td>\n",
       "    </tr>\n",
       "    <tr>\n",
       "      <th>98</th>\n",
       "      <td>98</td>\n",
       "      <td>0</td>\n",
       "      <td>98</td>\n",
       "      <td>0.675325</td>\n",
       "      <td>3.769869</td>\n",
       "      <td>0.129866</td>\n",
       "      <td>2024-05-13 17:04:51.948642969</td>\n",
       "      <td>2024-05-13 17:04:52.078509092</td>\n",
       "      <td>NaN</td>\n",
       "      <td>NaN</td>\n",
       "    </tr>\n",
       "    <tr>\n",
       "      <th>99</th>\n",
       "      <td>99</td>\n",
       "      <td>0</td>\n",
       "      <td>99</td>\n",
       "      <td>0.881880</td>\n",
       "      <td>5.668284</td>\n",
       "      <td>0.132600</td>\n",
       "      <td>2024-05-13 17:04:52.174623966</td>\n",
       "      <td>2024-05-13 17:04:52.307224035</td>\n",
       "      <td>NaN</td>\n",
       "      <td>NaN</td>\n",
       "    </tr>\n",
       "  </tbody>\n",
       "</table>\n",
       "<p>100 rows × 10 columns</p>\n",
       "</div>"
      ],
      "text/plain": [
       "    epoch  step  absolut_step     loss_d     loss_g  time_elapsed  \\\n",
       "0       0     0             0   1.611353  37.177753      0.548701   \n",
       "1       1     0             1   0.374635  53.654175      0.159144   \n",
       "2       2     0             2   1.416522  39.805294      0.124094   \n",
       "3       3     0             3   0.353826  20.394459      0.113435   \n",
       "4       4     0             4  43.461674  25.461288      0.124356   \n",
       "..    ...   ...           ...        ...        ...           ...   \n",
       "95     95     0            95   2.848750   6.521394      0.112042   \n",
       "96     96     0            96   1.141844   5.678805      0.136434   \n",
       "97     97     0            97   2.495184   6.439551      0.136139   \n",
       "98     98     0            98   0.675325   3.769869      0.129866   \n",
       "99     99     0            99   0.881880   5.668284      0.132600   \n",
       "\n",
       "                      start_time                      end_time   fid_score  \\\n",
       "0  2024-05-13 17:03:49.561235905 2024-05-13 17:03:50.109936953  391.634857   \n",
       "1  2024-05-13 17:03:53.888676167 2024-05-13 17:03:54.047820091         NaN   \n",
       "2  2024-05-13 17:03:54.135853052 2024-05-13 17:03:54.259947062         NaN   \n",
       "3  2024-05-13 17:03:54.342012882 2024-05-13 17:03:54.455448151         NaN   \n",
       "4  2024-05-13 17:03:54.536193131 2024-05-13 17:03:54.660549164         NaN   \n",
       "..                           ...                           ...         ...   \n",
       "95 2024-05-13 17:04:51.291045189 2024-05-13 17:04:51.403087139         NaN   \n",
       "96 2024-05-13 17:04:51.484804153 2024-05-13 17:04:51.621237993         NaN   \n",
       "97 2024-05-13 17:04:51.719119072 2024-05-13 17:04:51.855258226         NaN   \n",
       "98 2024-05-13 17:04:51.948642969 2024-05-13 17:04:52.078509092         NaN   \n",
       "99 2024-05-13 17:04:52.174623966 2024-05-13 17:04:52.307224035         NaN   \n",
       "\n",
       "    inception_score  \n",
       "0          1.065864  \n",
       "1               NaN  \n",
       "2               NaN  \n",
       "3               NaN  \n",
       "4               NaN  \n",
       "..              ...  \n",
       "95              NaN  \n",
       "96              NaN  \n",
       "97              NaN  \n",
       "98              NaN  \n",
       "99              NaN  \n",
       "\n",
       "[100 rows x 10 columns]"
      ]
     },
     "execution_count": 105,
     "metadata": {},
     "output_type": "execute_result"
    }
   ],
   "source": [
    "logs_standalone_df = pd.read_json(logs_standalone)\n",
    "logs_standalone_df"
   ]
  },
  {
   "cell_type": "code",
   "execution_count": 106,
   "metadata": {},
   "outputs": [
    {
     "data": {
      "application/vnd.plotly.v1+json": {
       "config": {
        "plotlyServerURL": "https://plot.ly"
       },
       "data": [
        {
         "hovertemplate": "variable=loss_g<br>absolut_step=%{x}<br>value=%{y}<extra></extra>",
         "legendgroup": "loss_g",
         "line": {
          "color": "#636efa",
          "dash": "solid"
         },
         "marker": {
          "symbol": "circle"
         },
         "mode": "lines",
         "name": "loss_g",
         "orientation": "v",
         "showlegend": true,
         "type": "scatter",
         "x": [
          0,
          1,
          2,
          3,
          4,
          5,
          6,
          7,
          8,
          9,
          10,
          11,
          12,
          13,
          14,
          15,
          16,
          17,
          18,
          19,
          20,
          21,
          22,
          23,
          24,
          25,
          26,
          27,
          28,
          29,
          30,
          31,
          32,
          33,
          34,
          35,
          36,
          37,
          38,
          39,
          40,
          41,
          42,
          43,
          44,
          45,
          46,
          47,
          48,
          49,
          50,
          51,
          52,
          53,
          54,
          55,
          56,
          57,
          58,
          59,
          60,
          61,
          62,
          63,
          64,
          65,
          66,
          67,
          68,
          69,
          70,
          71,
          72,
          73,
          74,
          75,
          76,
          77,
          78,
          79,
          80,
          81,
          82,
          83,
          84,
          85,
          86,
          87,
          88,
          89,
          90,
          91,
          92,
          93,
          94,
          95,
          96,
          97,
          98,
          99
         ],
         "xaxis": "x",
         "y": [
          37.17775344848633,
          53.6541748046875,
          39.805294036865234,
          20.394458770751953,
          25.461288452148438,
          20.139921188354492,
          0.000036749119317391894,
          0,
          0.404880285263061,
          0.00000782347888161894,
          22.9945011138916,
          21.05079460144043,
          11.50265884399414,
          20.589719772338867,
          11.994891166687012,
          8.870020866394043,
          10.929405212402344,
          5.237529277801514,
          13.504359245300293,
          14.75694465637207,
          7.035152435302734,
          13.226691246032715,
          2.45287823677063,
          11.73007869720459,
          9.658652305603027,
          8.969969749450684,
          6.442616939544678,
          4.905553817749023,
          6.413264751434326,
          6.277892112731934,
          6.141444683074951,
          6.782366275787353,
          8.422005653381348,
          6.603990077972412,
          3.415224552154541,
          6.351441383361816,
          5.612466812133789,
          7.752927303314209,
          7.291915893554687,
          8.21347427368164,
          5.684240818023682,
          22.16476058959961,
          12.661250114440918,
          6.850196361541748,
          6.762439727783203,
          13.012860298156738,
          12.63752555847168,
          8.930819511413574,
          6.784262180328369,
          15.587794303894043,
          10.996286392211914,
          7.567259311676025,
          13.003851890563965,
          10.551997184753418,
          5.957137584686279,
          6.252480506896973,
          12.411473274230957,
          10.981616020202637,
          9.439255714416504,
          7.83078145980835,
          5.629021167755127,
          10.668180465698242,
          9.383525848388672,
          8.87486743927002,
          9.922560691833496,
          5.9854583740234375,
          4.6487860679626465,
          8.861254692077637,
          8.654086112976074,
          2.5314383506774902,
          6.843318462371826,
          11.09894847869873,
          9.047677993774414,
          6.019973754882812,
          5.650584697723389,
          5.116565227508545,
          7.13735294342041,
          7.76824140548706,
          8.983466148376465,
          6.18566083908081,
          5.804646968841553,
          9.587895393371582,
          10.294083595275879,
          7.43945837020874,
          18.686532974243164,
          11.82828426361084,
          5.872457027435303,
          3.120010614395141,
          8.247879028320312,
          6.65914249420166,
          8.330421447753906,
          2.214445829391479,
          38.058815002441406,
          22.356557846069336,
          3.907701253890991,
          6.521393775939941,
          5.678805351257324,
          6.439550876617432,
          3.769869327545166,
          5.6682844161987305
         ],
         "yaxis": "y"
        },
        {
         "hovertemplate": "variable=loss_d<br>absolut_step=%{x}<br>value=%{y}<extra></extra>",
         "legendgroup": "loss_d",
         "line": {
          "color": "#EF553B",
          "dash": "solid"
         },
         "marker": {
          "symbol": "circle"
         },
         "mode": "lines",
         "name": "loss_d",
         "orientation": "v",
         "showlegend": true,
         "type": "scatter",
         "x": [
          0,
          1,
          2,
          3,
          4,
          5,
          6,
          7,
          8,
          9,
          10,
          11,
          12,
          13,
          14,
          15,
          16,
          17,
          18,
          19,
          20,
          21,
          22,
          23,
          24,
          25,
          26,
          27,
          28,
          29,
          30,
          31,
          32,
          33,
          34,
          35,
          36,
          37,
          38,
          39,
          40,
          41,
          42,
          43,
          44,
          45,
          46,
          47,
          48,
          49,
          50,
          51,
          52,
          53,
          54,
          55,
          56,
          57,
          58,
          59,
          60,
          61,
          62,
          63,
          64,
          65,
          66,
          67,
          68,
          69,
          70,
          71,
          72,
          73,
          74,
          75,
          76,
          77,
          78,
          79,
          80,
          81,
          82,
          83,
          84,
          85,
          86,
          87,
          88,
          89,
          90,
          91,
          92,
          93,
          94,
          95,
          96,
          97,
          98,
          99
         ],
         "xaxis": "x",
         "y": [
          1.611353397369384,
          0.374635070562362,
          1.41652226448059,
          0.353826314210891,
          43.461673736572266,
          41.21182632446289,
          98.54666900634766,
          100.81880950927734,
          92.03815460205078,
          98.31364440917969,
          76.40463256835938,
          3.722400665283203,
          11.495525360107422,
          1.823955059051513,
          2.911257028579712,
          1.081963062286377,
          2.004925727844238,
          1.216083407402038,
          19.376121520996094,
          0.396729379892349,
          2.155779361724853,
          2.5407824516296382,
          5.075673580169678,
          3.9842593669891353,
          3.200643062591552,
          1.835083365440368,
          0.9368405342102051,
          0.99654746055603,
          0.640146970748901,
          1.1434686183929441,
          0.7547561526298521,
          1.317395687103271,
          1.5102171897888181,
          1.120034575462341,
          1.260835528373718,
          4.853003978729248,
          0.7850769758224481,
          0.5843212008476251,
          0.5499253273010251,
          0.590106904506683,
          0.30030441284179604,
          1.8313033580780032,
          2.98179292678833,
          0.868739902973175,
          0.658435642719268,
          1.088019132614135,
          2.153493165969848,
          0.031543057411909,
          0.499040961265563,
          3.814019918441772,
          4.351587772369385,
          1.4696488380432131,
          2.123238086700439,
          0.763754546642303,
          0.510060012340545,
          1.051946640014648,
          1.821956396102905,
          1.666441202163696,
          0.5449869632720941,
          0.714554846286773,
          1.302465915679931,
          1.6218029260635372,
          0.879410505294799,
          1.277009010314941,
          1.394689083099365,
          1.8169100284576412,
          0.8154027462005611,
          2.12483811378479,
          0.5098159909248351,
          0.7577084302902221,
          0.714223802089691,
          0.952580153942108,
          0.860922217369079,
          0.144748851656913,
          0.353494465351104,
          0.166525185108184,
          0.32314983010292003,
          0.17194646596908503,
          0.26025712490081704,
          0.651305317878723,
          0.283030927181243,
          1.000477075576782,
          0.098002679646015,
          0.34834167361259405,
          3.510121583938598,
          14.591017723083496,
          6.093216419219971,
          1.526625394821167,
          1.941714167594909,
          0.8079869747161861,
          0.711133658885955,
          1.901908874511718,
          8.64124584197998,
          7.570767402648926,
          5.507289409637451,
          2.848750114440918,
          1.141843557357788,
          2.495183944702148,
          0.6753247976303101,
          0.881879687309265
         ],
         "yaxis": "y"
        }
       ],
       "layout": {
        "legend": {
         "title": {
          "text": "variable"
         },
         "tracegroupgap": 0
        },
        "template": {
         "data": {
          "bar": [
           {
            "error_x": {
             "color": "#2a3f5f"
            },
            "error_y": {
             "color": "#2a3f5f"
            },
            "marker": {
             "line": {
              "color": "#E5ECF6",
              "width": 0.5
             },
             "pattern": {
              "fillmode": "overlay",
              "size": 10,
              "solidity": 0.2
             }
            },
            "type": "bar"
           }
          ],
          "barpolar": [
           {
            "marker": {
             "line": {
              "color": "#E5ECF6",
              "width": 0.5
             },
             "pattern": {
              "fillmode": "overlay",
              "size": 10,
              "solidity": 0.2
             }
            },
            "type": "barpolar"
           }
          ],
          "carpet": [
           {
            "aaxis": {
             "endlinecolor": "#2a3f5f",
             "gridcolor": "white",
             "linecolor": "white",
             "minorgridcolor": "white",
             "startlinecolor": "#2a3f5f"
            },
            "baxis": {
             "endlinecolor": "#2a3f5f",
             "gridcolor": "white",
             "linecolor": "white",
             "minorgridcolor": "white",
             "startlinecolor": "#2a3f5f"
            },
            "type": "carpet"
           }
          ],
          "choropleth": [
           {
            "colorbar": {
             "outlinewidth": 0,
             "ticks": ""
            },
            "type": "choropleth"
           }
          ],
          "contour": [
           {
            "colorbar": {
             "outlinewidth": 0,
             "ticks": ""
            },
            "colorscale": [
             [
              0,
              "#0d0887"
             ],
             [
              0.1111111111111111,
              "#46039f"
             ],
             [
              0.2222222222222222,
              "#7201a8"
             ],
             [
              0.3333333333333333,
              "#9c179e"
             ],
             [
              0.4444444444444444,
              "#bd3786"
             ],
             [
              0.5555555555555556,
              "#d8576b"
             ],
             [
              0.6666666666666666,
              "#ed7953"
             ],
             [
              0.7777777777777778,
              "#fb9f3a"
             ],
             [
              0.8888888888888888,
              "#fdca26"
             ],
             [
              1,
              "#f0f921"
             ]
            ],
            "type": "contour"
           }
          ],
          "contourcarpet": [
           {
            "colorbar": {
             "outlinewidth": 0,
             "ticks": ""
            },
            "type": "contourcarpet"
           }
          ],
          "heatmap": [
           {
            "colorbar": {
             "outlinewidth": 0,
             "ticks": ""
            },
            "colorscale": [
             [
              0,
              "#0d0887"
             ],
             [
              0.1111111111111111,
              "#46039f"
             ],
             [
              0.2222222222222222,
              "#7201a8"
             ],
             [
              0.3333333333333333,
              "#9c179e"
             ],
             [
              0.4444444444444444,
              "#bd3786"
             ],
             [
              0.5555555555555556,
              "#d8576b"
             ],
             [
              0.6666666666666666,
              "#ed7953"
             ],
             [
              0.7777777777777778,
              "#fb9f3a"
             ],
             [
              0.8888888888888888,
              "#fdca26"
             ],
             [
              1,
              "#f0f921"
             ]
            ],
            "type": "heatmap"
           }
          ],
          "heatmapgl": [
           {
            "colorbar": {
             "outlinewidth": 0,
             "ticks": ""
            },
            "colorscale": [
             [
              0,
              "#0d0887"
             ],
             [
              0.1111111111111111,
              "#46039f"
             ],
             [
              0.2222222222222222,
              "#7201a8"
             ],
             [
              0.3333333333333333,
              "#9c179e"
             ],
             [
              0.4444444444444444,
              "#bd3786"
             ],
             [
              0.5555555555555556,
              "#d8576b"
             ],
             [
              0.6666666666666666,
              "#ed7953"
             ],
             [
              0.7777777777777778,
              "#fb9f3a"
             ],
             [
              0.8888888888888888,
              "#fdca26"
             ],
             [
              1,
              "#f0f921"
             ]
            ],
            "type": "heatmapgl"
           }
          ],
          "histogram": [
           {
            "marker": {
             "pattern": {
              "fillmode": "overlay",
              "size": 10,
              "solidity": 0.2
             }
            },
            "type": "histogram"
           }
          ],
          "histogram2d": [
           {
            "colorbar": {
             "outlinewidth": 0,
             "ticks": ""
            },
            "colorscale": [
             [
              0,
              "#0d0887"
             ],
             [
              0.1111111111111111,
              "#46039f"
             ],
             [
              0.2222222222222222,
              "#7201a8"
             ],
             [
              0.3333333333333333,
              "#9c179e"
             ],
             [
              0.4444444444444444,
              "#bd3786"
             ],
             [
              0.5555555555555556,
              "#d8576b"
             ],
             [
              0.6666666666666666,
              "#ed7953"
             ],
             [
              0.7777777777777778,
              "#fb9f3a"
             ],
             [
              0.8888888888888888,
              "#fdca26"
             ],
             [
              1,
              "#f0f921"
             ]
            ],
            "type": "histogram2d"
           }
          ],
          "histogram2dcontour": [
           {
            "colorbar": {
             "outlinewidth": 0,
             "ticks": ""
            },
            "colorscale": [
             [
              0,
              "#0d0887"
             ],
             [
              0.1111111111111111,
              "#46039f"
             ],
             [
              0.2222222222222222,
              "#7201a8"
             ],
             [
              0.3333333333333333,
              "#9c179e"
             ],
             [
              0.4444444444444444,
              "#bd3786"
             ],
             [
              0.5555555555555556,
              "#d8576b"
             ],
             [
              0.6666666666666666,
              "#ed7953"
             ],
             [
              0.7777777777777778,
              "#fb9f3a"
             ],
             [
              0.8888888888888888,
              "#fdca26"
             ],
             [
              1,
              "#f0f921"
             ]
            ],
            "type": "histogram2dcontour"
           }
          ],
          "mesh3d": [
           {
            "colorbar": {
             "outlinewidth": 0,
             "ticks": ""
            },
            "type": "mesh3d"
           }
          ],
          "parcoords": [
           {
            "line": {
             "colorbar": {
              "outlinewidth": 0,
              "ticks": ""
             }
            },
            "type": "parcoords"
           }
          ],
          "pie": [
           {
            "automargin": true,
            "type": "pie"
           }
          ],
          "scatter": [
           {
            "fillpattern": {
             "fillmode": "overlay",
             "size": 10,
             "solidity": 0.2
            },
            "type": "scatter"
           }
          ],
          "scatter3d": [
           {
            "line": {
             "colorbar": {
              "outlinewidth": 0,
              "ticks": ""
             }
            },
            "marker": {
             "colorbar": {
              "outlinewidth": 0,
              "ticks": ""
             }
            },
            "type": "scatter3d"
           }
          ],
          "scattercarpet": [
           {
            "marker": {
             "colorbar": {
              "outlinewidth": 0,
              "ticks": ""
             }
            },
            "type": "scattercarpet"
           }
          ],
          "scattergeo": [
           {
            "marker": {
             "colorbar": {
              "outlinewidth": 0,
              "ticks": ""
             }
            },
            "type": "scattergeo"
           }
          ],
          "scattergl": [
           {
            "marker": {
             "colorbar": {
              "outlinewidth": 0,
              "ticks": ""
             }
            },
            "type": "scattergl"
           }
          ],
          "scattermapbox": [
           {
            "marker": {
             "colorbar": {
              "outlinewidth": 0,
              "ticks": ""
             }
            },
            "type": "scattermapbox"
           }
          ],
          "scatterpolar": [
           {
            "marker": {
             "colorbar": {
              "outlinewidth": 0,
              "ticks": ""
             }
            },
            "type": "scatterpolar"
           }
          ],
          "scatterpolargl": [
           {
            "marker": {
             "colorbar": {
              "outlinewidth": 0,
              "ticks": ""
             }
            },
            "type": "scatterpolargl"
           }
          ],
          "scatterternary": [
           {
            "marker": {
             "colorbar": {
              "outlinewidth": 0,
              "ticks": ""
             }
            },
            "type": "scatterternary"
           }
          ],
          "surface": [
           {
            "colorbar": {
             "outlinewidth": 0,
             "ticks": ""
            },
            "colorscale": [
             [
              0,
              "#0d0887"
             ],
             [
              0.1111111111111111,
              "#46039f"
             ],
             [
              0.2222222222222222,
              "#7201a8"
             ],
             [
              0.3333333333333333,
              "#9c179e"
             ],
             [
              0.4444444444444444,
              "#bd3786"
             ],
             [
              0.5555555555555556,
              "#d8576b"
             ],
             [
              0.6666666666666666,
              "#ed7953"
             ],
             [
              0.7777777777777778,
              "#fb9f3a"
             ],
             [
              0.8888888888888888,
              "#fdca26"
             ],
             [
              1,
              "#f0f921"
             ]
            ],
            "type": "surface"
           }
          ],
          "table": [
           {
            "cells": {
             "fill": {
              "color": "#EBF0F8"
             },
             "line": {
              "color": "white"
             }
            },
            "header": {
             "fill": {
              "color": "#C8D4E3"
             },
             "line": {
              "color": "white"
             }
            },
            "type": "table"
           }
          ]
         },
         "layout": {
          "annotationdefaults": {
           "arrowcolor": "#2a3f5f",
           "arrowhead": 0,
           "arrowwidth": 1
          },
          "autotypenumbers": "strict",
          "coloraxis": {
           "colorbar": {
            "outlinewidth": 0,
            "ticks": ""
           }
          },
          "colorscale": {
           "diverging": [
            [
             0,
             "#8e0152"
            ],
            [
             0.1,
             "#c51b7d"
            ],
            [
             0.2,
             "#de77ae"
            ],
            [
             0.3,
             "#f1b6da"
            ],
            [
             0.4,
             "#fde0ef"
            ],
            [
             0.5,
             "#f7f7f7"
            ],
            [
             0.6,
             "#e6f5d0"
            ],
            [
             0.7,
             "#b8e186"
            ],
            [
             0.8,
             "#7fbc41"
            ],
            [
             0.9,
             "#4d9221"
            ],
            [
             1,
             "#276419"
            ]
           ],
           "sequential": [
            [
             0,
             "#0d0887"
            ],
            [
             0.1111111111111111,
             "#46039f"
            ],
            [
             0.2222222222222222,
             "#7201a8"
            ],
            [
             0.3333333333333333,
             "#9c179e"
            ],
            [
             0.4444444444444444,
             "#bd3786"
            ],
            [
             0.5555555555555556,
             "#d8576b"
            ],
            [
             0.6666666666666666,
             "#ed7953"
            ],
            [
             0.7777777777777778,
             "#fb9f3a"
            ],
            [
             0.8888888888888888,
             "#fdca26"
            ],
            [
             1,
             "#f0f921"
            ]
           ],
           "sequentialminus": [
            [
             0,
             "#0d0887"
            ],
            [
             0.1111111111111111,
             "#46039f"
            ],
            [
             0.2222222222222222,
             "#7201a8"
            ],
            [
             0.3333333333333333,
             "#9c179e"
            ],
            [
             0.4444444444444444,
             "#bd3786"
            ],
            [
             0.5555555555555556,
             "#d8576b"
            ],
            [
             0.6666666666666666,
             "#ed7953"
            ],
            [
             0.7777777777777778,
             "#fb9f3a"
            ],
            [
             0.8888888888888888,
             "#fdca26"
            ],
            [
             1,
             "#f0f921"
            ]
           ]
          },
          "colorway": [
           "#636efa",
           "#EF553B",
           "#00cc96",
           "#ab63fa",
           "#FFA15A",
           "#19d3f3",
           "#FF6692",
           "#B6E880",
           "#FF97FF",
           "#FECB52"
          ],
          "font": {
           "color": "#2a3f5f"
          },
          "geo": {
           "bgcolor": "white",
           "lakecolor": "white",
           "landcolor": "#E5ECF6",
           "showlakes": true,
           "showland": true,
           "subunitcolor": "white"
          },
          "hoverlabel": {
           "align": "left"
          },
          "hovermode": "closest",
          "mapbox": {
           "style": "light"
          },
          "paper_bgcolor": "white",
          "plot_bgcolor": "#E5ECF6",
          "polar": {
           "angularaxis": {
            "gridcolor": "white",
            "linecolor": "white",
            "ticks": ""
           },
           "bgcolor": "#E5ECF6",
           "radialaxis": {
            "gridcolor": "white",
            "linecolor": "white",
            "ticks": ""
           }
          },
          "scene": {
           "xaxis": {
            "backgroundcolor": "#E5ECF6",
            "gridcolor": "white",
            "gridwidth": 2,
            "linecolor": "white",
            "showbackground": true,
            "ticks": "",
            "zerolinecolor": "white"
           },
           "yaxis": {
            "backgroundcolor": "#E5ECF6",
            "gridcolor": "white",
            "gridwidth": 2,
            "linecolor": "white",
            "showbackground": true,
            "ticks": "",
            "zerolinecolor": "white"
           },
           "zaxis": {
            "backgroundcolor": "#E5ECF6",
            "gridcolor": "white",
            "gridwidth": 2,
            "linecolor": "white",
            "showbackground": true,
            "ticks": "",
            "zerolinecolor": "white"
           }
          },
          "shapedefaults": {
           "line": {
            "color": "#2a3f5f"
           }
          },
          "ternary": {
           "aaxis": {
            "gridcolor": "white",
            "linecolor": "white",
            "ticks": ""
           },
           "baxis": {
            "gridcolor": "white",
            "linecolor": "white",
            "ticks": ""
           },
           "bgcolor": "#E5ECF6",
           "caxis": {
            "gridcolor": "white",
            "linecolor": "white",
            "ticks": ""
           }
          },
          "title": {
           "x": 0.05
          },
          "xaxis": {
           "automargin": true,
           "gridcolor": "white",
           "linecolor": "white",
           "ticks": "",
           "title": {
            "standoff": 15
           },
           "zerolinecolor": "white",
           "zerolinewidth": 2
          },
          "yaxis": {
           "automargin": true,
           "gridcolor": "white",
           "linecolor": "white",
           "ticks": "",
           "title": {
            "standoff": 15
           },
           "zerolinecolor": "white",
           "zerolinewidth": 2
          }
         }
        },
        "title": {
         "text": "Losses"
        },
        "xaxis": {
         "anchor": "y",
         "domain": [
          0,
          1
         ],
         "title": {
          "text": "absolut_step"
         }
        },
        "yaxis": {
         "anchor": "x",
         "domain": [
          0,
          1
         ],
         "title": {
          "text": "value"
         }
        }
       }
      }
     },
     "metadata": {},
     "output_type": "display_data"
    }
   ],
   "source": [
    "px.line(logs_standalone_df[[\"absolut_step\", \"loss_g\", \"loss_d\"]], x=\"absolut_step\", y=[\"loss_g\", \"loss_d\"], title=\"Losses\")"
   ]
  },
  {
   "cell_type": "code",
   "execution_count": 107,
   "metadata": {},
   "outputs": [
    {
     "data": {
      "application/vnd.plotly.v1+json": {
       "config": {
        "plotlyServerURL": "https://plot.ly"
       },
       "data": [
        {
         "hovertemplate": "absolut_step=%{x}<br>fid_score=%{y}<extra></extra>",
         "legendgroup": "",
         "line": {
          "color": "#636efa",
          "dash": "solid"
         },
         "marker": {
          "symbol": "circle"
         },
         "mode": "lines",
         "name": "",
         "orientation": "v",
         "showlegend": false,
         "type": "scatter",
         "x": [
          0,
          10,
          20,
          30,
          40,
          50,
          60,
          70,
          80,
          90
         ],
         "xaxis": "x",
         "y": [
          391.6348571777344,
          413.0738220214844,
          409.0343322753906,
          441.2340393066406,
          428.40875244140625,
          505.1104431152344,
          407.9419250488281,
          408.1679382324219,
          349.7836608886719,
          414.4244079589844
         ],
         "yaxis": "y"
        }
       ],
       "layout": {
        "legend": {
         "tracegroupgap": 0
        },
        "template": {
         "data": {
          "bar": [
           {
            "error_x": {
             "color": "#2a3f5f"
            },
            "error_y": {
             "color": "#2a3f5f"
            },
            "marker": {
             "line": {
              "color": "#E5ECF6",
              "width": 0.5
             },
             "pattern": {
              "fillmode": "overlay",
              "size": 10,
              "solidity": 0.2
             }
            },
            "type": "bar"
           }
          ],
          "barpolar": [
           {
            "marker": {
             "line": {
              "color": "#E5ECF6",
              "width": 0.5
             },
             "pattern": {
              "fillmode": "overlay",
              "size": 10,
              "solidity": 0.2
             }
            },
            "type": "barpolar"
           }
          ],
          "carpet": [
           {
            "aaxis": {
             "endlinecolor": "#2a3f5f",
             "gridcolor": "white",
             "linecolor": "white",
             "minorgridcolor": "white",
             "startlinecolor": "#2a3f5f"
            },
            "baxis": {
             "endlinecolor": "#2a3f5f",
             "gridcolor": "white",
             "linecolor": "white",
             "minorgridcolor": "white",
             "startlinecolor": "#2a3f5f"
            },
            "type": "carpet"
           }
          ],
          "choropleth": [
           {
            "colorbar": {
             "outlinewidth": 0,
             "ticks": ""
            },
            "type": "choropleth"
           }
          ],
          "contour": [
           {
            "colorbar": {
             "outlinewidth": 0,
             "ticks": ""
            },
            "colorscale": [
             [
              0,
              "#0d0887"
             ],
             [
              0.1111111111111111,
              "#46039f"
             ],
             [
              0.2222222222222222,
              "#7201a8"
             ],
             [
              0.3333333333333333,
              "#9c179e"
             ],
             [
              0.4444444444444444,
              "#bd3786"
             ],
             [
              0.5555555555555556,
              "#d8576b"
             ],
             [
              0.6666666666666666,
              "#ed7953"
             ],
             [
              0.7777777777777778,
              "#fb9f3a"
             ],
             [
              0.8888888888888888,
              "#fdca26"
             ],
             [
              1,
              "#f0f921"
             ]
            ],
            "type": "contour"
           }
          ],
          "contourcarpet": [
           {
            "colorbar": {
             "outlinewidth": 0,
             "ticks": ""
            },
            "type": "contourcarpet"
           }
          ],
          "heatmap": [
           {
            "colorbar": {
             "outlinewidth": 0,
             "ticks": ""
            },
            "colorscale": [
             [
              0,
              "#0d0887"
             ],
             [
              0.1111111111111111,
              "#46039f"
             ],
             [
              0.2222222222222222,
              "#7201a8"
             ],
             [
              0.3333333333333333,
              "#9c179e"
             ],
             [
              0.4444444444444444,
              "#bd3786"
             ],
             [
              0.5555555555555556,
              "#d8576b"
             ],
             [
              0.6666666666666666,
              "#ed7953"
             ],
             [
              0.7777777777777778,
              "#fb9f3a"
             ],
             [
              0.8888888888888888,
              "#fdca26"
             ],
             [
              1,
              "#f0f921"
             ]
            ],
            "type": "heatmap"
           }
          ],
          "heatmapgl": [
           {
            "colorbar": {
             "outlinewidth": 0,
             "ticks": ""
            },
            "colorscale": [
             [
              0,
              "#0d0887"
             ],
             [
              0.1111111111111111,
              "#46039f"
             ],
             [
              0.2222222222222222,
              "#7201a8"
             ],
             [
              0.3333333333333333,
              "#9c179e"
             ],
             [
              0.4444444444444444,
              "#bd3786"
             ],
             [
              0.5555555555555556,
              "#d8576b"
             ],
             [
              0.6666666666666666,
              "#ed7953"
             ],
             [
              0.7777777777777778,
              "#fb9f3a"
             ],
             [
              0.8888888888888888,
              "#fdca26"
             ],
             [
              1,
              "#f0f921"
             ]
            ],
            "type": "heatmapgl"
           }
          ],
          "histogram": [
           {
            "marker": {
             "pattern": {
              "fillmode": "overlay",
              "size": 10,
              "solidity": 0.2
             }
            },
            "type": "histogram"
           }
          ],
          "histogram2d": [
           {
            "colorbar": {
             "outlinewidth": 0,
             "ticks": ""
            },
            "colorscale": [
             [
              0,
              "#0d0887"
             ],
             [
              0.1111111111111111,
              "#46039f"
             ],
             [
              0.2222222222222222,
              "#7201a8"
             ],
             [
              0.3333333333333333,
              "#9c179e"
             ],
             [
              0.4444444444444444,
              "#bd3786"
             ],
             [
              0.5555555555555556,
              "#d8576b"
             ],
             [
              0.6666666666666666,
              "#ed7953"
             ],
             [
              0.7777777777777778,
              "#fb9f3a"
             ],
             [
              0.8888888888888888,
              "#fdca26"
             ],
             [
              1,
              "#f0f921"
             ]
            ],
            "type": "histogram2d"
           }
          ],
          "histogram2dcontour": [
           {
            "colorbar": {
             "outlinewidth": 0,
             "ticks": ""
            },
            "colorscale": [
             [
              0,
              "#0d0887"
             ],
             [
              0.1111111111111111,
              "#46039f"
             ],
             [
              0.2222222222222222,
              "#7201a8"
             ],
             [
              0.3333333333333333,
              "#9c179e"
             ],
             [
              0.4444444444444444,
              "#bd3786"
             ],
             [
              0.5555555555555556,
              "#d8576b"
             ],
             [
              0.6666666666666666,
              "#ed7953"
             ],
             [
              0.7777777777777778,
              "#fb9f3a"
             ],
             [
              0.8888888888888888,
              "#fdca26"
             ],
             [
              1,
              "#f0f921"
             ]
            ],
            "type": "histogram2dcontour"
           }
          ],
          "mesh3d": [
           {
            "colorbar": {
             "outlinewidth": 0,
             "ticks": ""
            },
            "type": "mesh3d"
           }
          ],
          "parcoords": [
           {
            "line": {
             "colorbar": {
              "outlinewidth": 0,
              "ticks": ""
             }
            },
            "type": "parcoords"
           }
          ],
          "pie": [
           {
            "automargin": true,
            "type": "pie"
           }
          ],
          "scatter": [
           {
            "fillpattern": {
             "fillmode": "overlay",
             "size": 10,
             "solidity": 0.2
            },
            "type": "scatter"
           }
          ],
          "scatter3d": [
           {
            "line": {
             "colorbar": {
              "outlinewidth": 0,
              "ticks": ""
             }
            },
            "marker": {
             "colorbar": {
              "outlinewidth": 0,
              "ticks": ""
             }
            },
            "type": "scatter3d"
           }
          ],
          "scattercarpet": [
           {
            "marker": {
             "colorbar": {
              "outlinewidth": 0,
              "ticks": ""
             }
            },
            "type": "scattercarpet"
           }
          ],
          "scattergeo": [
           {
            "marker": {
             "colorbar": {
              "outlinewidth": 0,
              "ticks": ""
             }
            },
            "type": "scattergeo"
           }
          ],
          "scattergl": [
           {
            "marker": {
             "colorbar": {
              "outlinewidth": 0,
              "ticks": ""
             }
            },
            "type": "scattergl"
           }
          ],
          "scattermapbox": [
           {
            "marker": {
             "colorbar": {
              "outlinewidth": 0,
              "ticks": ""
             }
            },
            "type": "scattermapbox"
           }
          ],
          "scatterpolar": [
           {
            "marker": {
             "colorbar": {
              "outlinewidth": 0,
              "ticks": ""
             }
            },
            "type": "scatterpolar"
           }
          ],
          "scatterpolargl": [
           {
            "marker": {
             "colorbar": {
              "outlinewidth": 0,
              "ticks": ""
             }
            },
            "type": "scatterpolargl"
           }
          ],
          "scatterternary": [
           {
            "marker": {
             "colorbar": {
              "outlinewidth": 0,
              "ticks": ""
             }
            },
            "type": "scatterternary"
           }
          ],
          "surface": [
           {
            "colorbar": {
             "outlinewidth": 0,
             "ticks": ""
            },
            "colorscale": [
             [
              0,
              "#0d0887"
             ],
             [
              0.1111111111111111,
              "#46039f"
             ],
             [
              0.2222222222222222,
              "#7201a8"
             ],
             [
              0.3333333333333333,
              "#9c179e"
             ],
             [
              0.4444444444444444,
              "#bd3786"
             ],
             [
              0.5555555555555556,
              "#d8576b"
             ],
             [
              0.6666666666666666,
              "#ed7953"
             ],
             [
              0.7777777777777778,
              "#fb9f3a"
             ],
             [
              0.8888888888888888,
              "#fdca26"
             ],
             [
              1,
              "#f0f921"
             ]
            ],
            "type": "surface"
           }
          ],
          "table": [
           {
            "cells": {
             "fill": {
              "color": "#EBF0F8"
             },
             "line": {
              "color": "white"
             }
            },
            "header": {
             "fill": {
              "color": "#C8D4E3"
             },
             "line": {
              "color": "white"
             }
            },
            "type": "table"
           }
          ]
         },
         "layout": {
          "annotationdefaults": {
           "arrowcolor": "#2a3f5f",
           "arrowhead": 0,
           "arrowwidth": 1
          },
          "autotypenumbers": "strict",
          "coloraxis": {
           "colorbar": {
            "outlinewidth": 0,
            "ticks": ""
           }
          },
          "colorscale": {
           "diverging": [
            [
             0,
             "#8e0152"
            ],
            [
             0.1,
             "#c51b7d"
            ],
            [
             0.2,
             "#de77ae"
            ],
            [
             0.3,
             "#f1b6da"
            ],
            [
             0.4,
             "#fde0ef"
            ],
            [
             0.5,
             "#f7f7f7"
            ],
            [
             0.6,
             "#e6f5d0"
            ],
            [
             0.7,
             "#b8e186"
            ],
            [
             0.8,
             "#7fbc41"
            ],
            [
             0.9,
             "#4d9221"
            ],
            [
             1,
             "#276419"
            ]
           ],
           "sequential": [
            [
             0,
             "#0d0887"
            ],
            [
             0.1111111111111111,
             "#46039f"
            ],
            [
             0.2222222222222222,
             "#7201a8"
            ],
            [
             0.3333333333333333,
             "#9c179e"
            ],
            [
             0.4444444444444444,
             "#bd3786"
            ],
            [
             0.5555555555555556,
             "#d8576b"
            ],
            [
             0.6666666666666666,
             "#ed7953"
            ],
            [
             0.7777777777777778,
             "#fb9f3a"
            ],
            [
             0.8888888888888888,
             "#fdca26"
            ],
            [
             1,
             "#f0f921"
            ]
           ],
           "sequentialminus": [
            [
             0,
             "#0d0887"
            ],
            [
             0.1111111111111111,
             "#46039f"
            ],
            [
             0.2222222222222222,
             "#7201a8"
            ],
            [
             0.3333333333333333,
             "#9c179e"
            ],
            [
             0.4444444444444444,
             "#bd3786"
            ],
            [
             0.5555555555555556,
             "#d8576b"
            ],
            [
             0.6666666666666666,
             "#ed7953"
            ],
            [
             0.7777777777777778,
             "#fb9f3a"
            ],
            [
             0.8888888888888888,
             "#fdca26"
            ],
            [
             1,
             "#f0f921"
            ]
           ]
          },
          "colorway": [
           "#636efa",
           "#EF553B",
           "#00cc96",
           "#ab63fa",
           "#FFA15A",
           "#19d3f3",
           "#FF6692",
           "#B6E880",
           "#FF97FF",
           "#FECB52"
          ],
          "font": {
           "color": "#2a3f5f"
          },
          "geo": {
           "bgcolor": "white",
           "lakecolor": "white",
           "landcolor": "#E5ECF6",
           "showlakes": true,
           "showland": true,
           "subunitcolor": "white"
          },
          "hoverlabel": {
           "align": "left"
          },
          "hovermode": "closest",
          "mapbox": {
           "style": "light"
          },
          "paper_bgcolor": "white",
          "plot_bgcolor": "#E5ECF6",
          "polar": {
           "angularaxis": {
            "gridcolor": "white",
            "linecolor": "white",
            "ticks": ""
           },
           "bgcolor": "#E5ECF6",
           "radialaxis": {
            "gridcolor": "white",
            "linecolor": "white",
            "ticks": ""
           }
          },
          "scene": {
           "xaxis": {
            "backgroundcolor": "#E5ECF6",
            "gridcolor": "white",
            "gridwidth": 2,
            "linecolor": "white",
            "showbackground": true,
            "ticks": "",
            "zerolinecolor": "white"
           },
           "yaxis": {
            "backgroundcolor": "#E5ECF6",
            "gridcolor": "white",
            "gridwidth": 2,
            "linecolor": "white",
            "showbackground": true,
            "ticks": "",
            "zerolinecolor": "white"
           },
           "zaxis": {
            "backgroundcolor": "#E5ECF6",
            "gridcolor": "white",
            "gridwidth": 2,
            "linecolor": "white",
            "showbackground": true,
            "ticks": "",
            "zerolinecolor": "white"
           }
          },
          "shapedefaults": {
           "line": {
            "color": "#2a3f5f"
           }
          },
          "ternary": {
           "aaxis": {
            "gridcolor": "white",
            "linecolor": "white",
            "ticks": ""
           },
           "baxis": {
            "gridcolor": "white",
            "linecolor": "white",
            "ticks": ""
           },
           "bgcolor": "#E5ECF6",
           "caxis": {
            "gridcolor": "white",
            "linecolor": "white",
            "ticks": ""
           }
          },
          "title": {
           "x": 0.05
          },
          "xaxis": {
           "automargin": true,
           "gridcolor": "white",
           "linecolor": "white",
           "ticks": "",
           "title": {
            "standoff": 15
           },
           "zerolinecolor": "white",
           "zerolinewidth": 2
          },
          "yaxis": {
           "automargin": true,
           "gridcolor": "white",
           "linecolor": "white",
           "ticks": "",
           "title": {
            "standoff": 15
           },
           "zerolinecolor": "white",
           "zerolinewidth": 2
          }
         }
        },
        "title": {
         "text": "Scores"
        },
        "xaxis": {
         "anchor": "y",
         "domain": [
          0,
          1
         ],
         "title": {
          "text": "absolut_step"
         }
        },
        "yaxis": {
         "anchor": "x",
         "domain": [
          0,
          1
         ],
         "title": {
          "text": "fid_score"
         }
        }
       }
      }
     },
     "metadata": {},
     "output_type": "display_data"
    }
   ],
   "source": [
    "px.line(logs_standalone_df[[\"absolut_step\", \"fid_score\"]].dropna(), x=\"absolut_step\", y=\"fid_score\", title=\"Scores\")"
   ]
  },
  {
   "cell_type": "code",
   "execution_count": 108,
   "metadata": {},
   "outputs": [
    {
     "data": {
      "application/vnd.plotly.v1+json": {
       "config": {
        "plotlyServerURL": "https://plot.ly"
       },
       "data": [
        {
         "hovertemplate": "absolut_step=%{x}<br>inception_score=%{y}<extra></extra>",
         "legendgroup": "",
         "line": {
          "color": "#636efa",
          "dash": "solid"
         },
         "marker": {
          "symbol": "circle"
         },
         "mode": "lines",
         "name": "",
         "orientation": "v",
         "showlegend": false,
         "type": "scatter",
         "x": [
          0,
          10,
          20,
          30,
          40,
          50,
          60,
          70,
          80,
          90
         ],
         "xaxis": "x",
         "y": [
          1.065864443778991,
          1.116022706031799,
          1.5106801986694331,
          1.385701894760131,
          1.31297743320465,
          1.4647659063339231,
          1.34715735912323,
          1.340022802352905,
          1.519891023635864,
          1.620487332344055
         ],
         "yaxis": "y"
        }
       ],
       "layout": {
        "legend": {
         "tracegroupgap": 0
        },
        "template": {
         "data": {
          "bar": [
           {
            "error_x": {
             "color": "#2a3f5f"
            },
            "error_y": {
             "color": "#2a3f5f"
            },
            "marker": {
             "line": {
              "color": "#E5ECF6",
              "width": 0.5
             },
             "pattern": {
              "fillmode": "overlay",
              "size": 10,
              "solidity": 0.2
             }
            },
            "type": "bar"
           }
          ],
          "barpolar": [
           {
            "marker": {
             "line": {
              "color": "#E5ECF6",
              "width": 0.5
             },
             "pattern": {
              "fillmode": "overlay",
              "size": 10,
              "solidity": 0.2
             }
            },
            "type": "barpolar"
           }
          ],
          "carpet": [
           {
            "aaxis": {
             "endlinecolor": "#2a3f5f",
             "gridcolor": "white",
             "linecolor": "white",
             "minorgridcolor": "white",
             "startlinecolor": "#2a3f5f"
            },
            "baxis": {
             "endlinecolor": "#2a3f5f",
             "gridcolor": "white",
             "linecolor": "white",
             "minorgridcolor": "white",
             "startlinecolor": "#2a3f5f"
            },
            "type": "carpet"
           }
          ],
          "choropleth": [
           {
            "colorbar": {
             "outlinewidth": 0,
             "ticks": ""
            },
            "type": "choropleth"
           }
          ],
          "contour": [
           {
            "colorbar": {
             "outlinewidth": 0,
             "ticks": ""
            },
            "colorscale": [
             [
              0,
              "#0d0887"
             ],
             [
              0.1111111111111111,
              "#46039f"
             ],
             [
              0.2222222222222222,
              "#7201a8"
             ],
             [
              0.3333333333333333,
              "#9c179e"
             ],
             [
              0.4444444444444444,
              "#bd3786"
             ],
             [
              0.5555555555555556,
              "#d8576b"
             ],
             [
              0.6666666666666666,
              "#ed7953"
             ],
             [
              0.7777777777777778,
              "#fb9f3a"
             ],
             [
              0.8888888888888888,
              "#fdca26"
             ],
             [
              1,
              "#f0f921"
             ]
            ],
            "type": "contour"
           }
          ],
          "contourcarpet": [
           {
            "colorbar": {
             "outlinewidth": 0,
             "ticks": ""
            },
            "type": "contourcarpet"
           }
          ],
          "heatmap": [
           {
            "colorbar": {
             "outlinewidth": 0,
             "ticks": ""
            },
            "colorscale": [
             [
              0,
              "#0d0887"
             ],
             [
              0.1111111111111111,
              "#46039f"
             ],
             [
              0.2222222222222222,
              "#7201a8"
             ],
             [
              0.3333333333333333,
              "#9c179e"
             ],
             [
              0.4444444444444444,
              "#bd3786"
             ],
             [
              0.5555555555555556,
              "#d8576b"
             ],
             [
              0.6666666666666666,
              "#ed7953"
             ],
             [
              0.7777777777777778,
              "#fb9f3a"
             ],
             [
              0.8888888888888888,
              "#fdca26"
             ],
             [
              1,
              "#f0f921"
             ]
            ],
            "type": "heatmap"
           }
          ],
          "heatmapgl": [
           {
            "colorbar": {
             "outlinewidth": 0,
             "ticks": ""
            },
            "colorscale": [
             [
              0,
              "#0d0887"
             ],
             [
              0.1111111111111111,
              "#46039f"
             ],
             [
              0.2222222222222222,
              "#7201a8"
             ],
             [
              0.3333333333333333,
              "#9c179e"
             ],
             [
              0.4444444444444444,
              "#bd3786"
             ],
             [
              0.5555555555555556,
              "#d8576b"
             ],
             [
              0.6666666666666666,
              "#ed7953"
             ],
             [
              0.7777777777777778,
              "#fb9f3a"
             ],
             [
              0.8888888888888888,
              "#fdca26"
             ],
             [
              1,
              "#f0f921"
             ]
            ],
            "type": "heatmapgl"
           }
          ],
          "histogram": [
           {
            "marker": {
             "pattern": {
              "fillmode": "overlay",
              "size": 10,
              "solidity": 0.2
             }
            },
            "type": "histogram"
           }
          ],
          "histogram2d": [
           {
            "colorbar": {
             "outlinewidth": 0,
             "ticks": ""
            },
            "colorscale": [
             [
              0,
              "#0d0887"
             ],
             [
              0.1111111111111111,
              "#46039f"
             ],
             [
              0.2222222222222222,
              "#7201a8"
             ],
             [
              0.3333333333333333,
              "#9c179e"
             ],
             [
              0.4444444444444444,
              "#bd3786"
             ],
             [
              0.5555555555555556,
              "#d8576b"
             ],
             [
              0.6666666666666666,
              "#ed7953"
             ],
             [
              0.7777777777777778,
              "#fb9f3a"
             ],
             [
              0.8888888888888888,
              "#fdca26"
             ],
             [
              1,
              "#f0f921"
             ]
            ],
            "type": "histogram2d"
           }
          ],
          "histogram2dcontour": [
           {
            "colorbar": {
             "outlinewidth": 0,
             "ticks": ""
            },
            "colorscale": [
             [
              0,
              "#0d0887"
             ],
             [
              0.1111111111111111,
              "#46039f"
             ],
             [
              0.2222222222222222,
              "#7201a8"
             ],
             [
              0.3333333333333333,
              "#9c179e"
             ],
             [
              0.4444444444444444,
              "#bd3786"
             ],
             [
              0.5555555555555556,
              "#d8576b"
             ],
             [
              0.6666666666666666,
              "#ed7953"
             ],
             [
              0.7777777777777778,
              "#fb9f3a"
             ],
             [
              0.8888888888888888,
              "#fdca26"
             ],
             [
              1,
              "#f0f921"
             ]
            ],
            "type": "histogram2dcontour"
           }
          ],
          "mesh3d": [
           {
            "colorbar": {
             "outlinewidth": 0,
             "ticks": ""
            },
            "type": "mesh3d"
           }
          ],
          "parcoords": [
           {
            "line": {
             "colorbar": {
              "outlinewidth": 0,
              "ticks": ""
             }
            },
            "type": "parcoords"
           }
          ],
          "pie": [
           {
            "automargin": true,
            "type": "pie"
           }
          ],
          "scatter": [
           {
            "fillpattern": {
             "fillmode": "overlay",
             "size": 10,
             "solidity": 0.2
            },
            "type": "scatter"
           }
          ],
          "scatter3d": [
           {
            "line": {
             "colorbar": {
              "outlinewidth": 0,
              "ticks": ""
             }
            },
            "marker": {
             "colorbar": {
              "outlinewidth": 0,
              "ticks": ""
             }
            },
            "type": "scatter3d"
           }
          ],
          "scattercarpet": [
           {
            "marker": {
             "colorbar": {
              "outlinewidth": 0,
              "ticks": ""
             }
            },
            "type": "scattercarpet"
           }
          ],
          "scattergeo": [
           {
            "marker": {
             "colorbar": {
              "outlinewidth": 0,
              "ticks": ""
             }
            },
            "type": "scattergeo"
           }
          ],
          "scattergl": [
           {
            "marker": {
             "colorbar": {
              "outlinewidth": 0,
              "ticks": ""
             }
            },
            "type": "scattergl"
           }
          ],
          "scattermapbox": [
           {
            "marker": {
             "colorbar": {
              "outlinewidth": 0,
              "ticks": ""
             }
            },
            "type": "scattermapbox"
           }
          ],
          "scatterpolar": [
           {
            "marker": {
             "colorbar": {
              "outlinewidth": 0,
              "ticks": ""
             }
            },
            "type": "scatterpolar"
           }
          ],
          "scatterpolargl": [
           {
            "marker": {
             "colorbar": {
              "outlinewidth": 0,
              "ticks": ""
             }
            },
            "type": "scatterpolargl"
           }
          ],
          "scatterternary": [
           {
            "marker": {
             "colorbar": {
              "outlinewidth": 0,
              "ticks": ""
             }
            },
            "type": "scatterternary"
           }
          ],
          "surface": [
           {
            "colorbar": {
             "outlinewidth": 0,
             "ticks": ""
            },
            "colorscale": [
             [
              0,
              "#0d0887"
             ],
             [
              0.1111111111111111,
              "#46039f"
             ],
             [
              0.2222222222222222,
              "#7201a8"
             ],
             [
              0.3333333333333333,
              "#9c179e"
             ],
             [
              0.4444444444444444,
              "#bd3786"
             ],
             [
              0.5555555555555556,
              "#d8576b"
             ],
             [
              0.6666666666666666,
              "#ed7953"
             ],
             [
              0.7777777777777778,
              "#fb9f3a"
             ],
             [
              0.8888888888888888,
              "#fdca26"
             ],
             [
              1,
              "#f0f921"
             ]
            ],
            "type": "surface"
           }
          ],
          "table": [
           {
            "cells": {
             "fill": {
              "color": "#EBF0F8"
             },
             "line": {
              "color": "white"
             }
            },
            "header": {
             "fill": {
              "color": "#C8D4E3"
             },
             "line": {
              "color": "white"
             }
            },
            "type": "table"
           }
          ]
         },
         "layout": {
          "annotationdefaults": {
           "arrowcolor": "#2a3f5f",
           "arrowhead": 0,
           "arrowwidth": 1
          },
          "autotypenumbers": "strict",
          "coloraxis": {
           "colorbar": {
            "outlinewidth": 0,
            "ticks": ""
           }
          },
          "colorscale": {
           "diverging": [
            [
             0,
             "#8e0152"
            ],
            [
             0.1,
             "#c51b7d"
            ],
            [
             0.2,
             "#de77ae"
            ],
            [
             0.3,
             "#f1b6da"
            ],
            [
             0.4,
             "#fde0ef"
            ],
            [
             0.5,
             "#f7f7f7"
            ],
            [
             0.6,
             "#e6f5d0"
            ],
            [
             0.7,
             "#b8e186"
            ],
            [
             0.8,
             "#7fbc41"
            ],
            [
             0.9,
             "#4d9221"
            ],
            [
             1,
             "#276419"
            ]
           ],
           "sequential": [
            [
             0,
             "#0d0887"
            ],
            [
             0.1111111111111111,
             "#46039f"
            ],
            [
             0.2222222222222222,
             "#7201a8"
            ],
            [
             0.3333333333333333,
             "#9c179e"
            ],
            [
             0.4444444444444444,
             "#bd3786"
            ],
            [
             0.5555555555555556,
             "#d8576b"
            ],
            [
             0.6666666666666666,
             "#ed7953"
            ],
            [
             0.7777777777777778,
             "#fb9f3a"
            ],
            [
             0.8888888888888888,
             "#fdca26"
            ],
            [
             1,
             "#f0f921"
            ]
           ],
           "sequentialminus": [
            [
             0,
             "#0d0887"
            ],
            [
             0.1111111111111111,
             "#46039f"
            ],
            [
             0.2222222222222222,
             "#7201a8"
            ],
            [
             0.3333333333333333,
             "#9c179e"
            ],
            [
             0.4444444444444444,
             "#bd3786"
            ],
            [
             0.5555555555555556,
             "#d8576b"
            ],
            [
             0.6666666666666666,
             "#ed7953"
            ],
            [
             0.7777777777777778,
             "#fb9f3a"
            ],
            [
             0.8888888888888888,
             "#fdca26"
            ],
            [
             1,
             "#f0f921"
            ]
           ]
          },
          "colorway": [
           "#636efa",
           "#EF553B",
           "#00cc96",
           "#ab63fa",
           "#FFA15A",
           "#19d3f3",
           "#FF6692",
           "#B6E880",
           "#FF97FF",
           "#FECB52"
          ],
          "font": {
           "color": "#2a3f5f"
          },
          "geo": {
           "bgcolor": "white",
           "lakecolor": "white",
           "landcolor": "#E5ECF6",
           "showlakes": true,
           "showland": true,
           "subunitcolor": "white"
          },
          "hoverlabel": {
           "align": "left"
          },
          "hovermode": "closest",
          "mapbox": {
           "style": "light"
          },
          "paper_bgcolor": "white",
          "plot_bgcolor": "#E5ECF6",
          "polar": {
           "angularaxis": {
            "gridcolor": "white",
            "linecolor": "white",
            "ticks": ""
           },
           "bgcolor": "#E5ECF6",
           "radialaxis": {
            "gridcolor": "white",
            "linecolor": "white",
            "ticks": ""
           }
          },
          "scene": {
           "xaxis": {
            "backgroundcolor": "#E5ECF6",
            "gridcolor": "white",
            "gridwidth": 2,
            "linecolor": "white",
            "showbackground": true,
            "ticks": "",
            "zerolinecolor": "white"
           },
           "yaxis": {
            "backgroundcolor": "#E5ECF6",
            "gridcolor": "white",
            "gridwidth": 2,
            "linecolor": "white",
            "showbackground": true,
            "ticks": "",
            "zerolinecolor": "white"
           },
           "zaxis": {
            "backgroundcolor": "#E5ECF6",
            "gridcolor": "white",
            "gridwidth": 2,
            "linecolor": "white",
            "showbackground": true,
            "ticks": "",
            "zerolinecolor": "white"
           }
          },
          "shapedefaults": {
           "line": {
            "color": "#2a3f5f"
           }
          },
          "ternary": {
           "aaxis": {
            "gridcolor": "white",
            "linecolor": "white",
            "ticks": ""
           },
           "baxis": {
            "gridcolor": "white",
            "linecolor": "white",
            "ticks": ""
           },
           "bgcolor": "#E5ECF6",
           "caxis": {
            "gridcolor": "white",
            "linecolor": "white",
            "ticks": ""
           }
          },
          "title": {
           "x": 0.05
          },
          "xaxis": {
           "automargin": true,
           "gridcolor": "white",
           "linecolor": "white",
           "ticks": "",
           "title": {
            "standoff": 15
           },
           "zerolinecolor": "white",
           "zerolinewidth": 2
          },
          "yaxis": {
           "automargin": true,
           "gridcolor": "white",
           "linecolor": "white",
           "ticks": "",
           "title": {
            "standoff": 15
           },
           "zerolinecolor": "white",
           "zerolinewidth": 2
          }
         }
        },
        "title": {
         "text": "Scores"
        },
        "xaxis": {
         "anchor": "y",
         "domain": [
          0,
          1
         ],
         "title": {
          "text": "absolut_step"
         }
        },
        "yaxis": {
         "anchor": "x",
         "domain": [
          0,
          1
         ],
         "title": {
          "text": "inception_score"
         }
        }
       }
      }
     },
     "metadata": {},
     "output_type": "display_data"
    }
   ],
   "source": [
    "px.line(logs_standalone_df[[\"absolut_step\", \"inception_score\"]].dropna(), x=\"absolut_step\", y=\"inception_score\", title=\"Scores\")"
   ]
  },
  {
   "cell_type": "markdown",
   "metadata": {},
   "source": [
    "# Distributed"
   ]
  },
  {
   "cell_type": "code",
   "execution_count": 94,
   "metadata": {},
   "outputs": [
    {
     "data": {
      "text/plain": [
       "['logs/server_0.logs.json',\n",
       " 'logs/worker_1.logs.json',\n",
       " 'logs/worker_2.logs.json',\n",
       " 'logs/worker_3.logs.json',\n",
       " 'logs/worker_4.logs.json',\n",
       " 'logs/worker_5.logs.json']"
      ]
     },
     "execution_count": 94,
     "metadata": {},
     "output_type": "execute_result"
    }
   ],
   "source": [
    "logs_files = glob(str(logs_path / \"*.logs.json\"))\n",
    "logs_files.pop(logs_files.index(str(logs_standalone)))\n",
    "logs_files.sort()\n",
    "logs_files"
   ]
  },
  {
   "cell_type": "code",
   "execution_count": 72,
   "metadata": {},
   "outputs": [
    {
     "data": {
      "text/plain": [
       "('logs/server_0.logs.json',\n",
       " ['logs/worker_1.logs.json',\n",
       "  'logs/worker_2.logs.json',\n",
       "  'logs/worker_3.logs.json',\n",
       "  'logs/worker_4.logs.json',\n",
       "  'logs/worker_5.logs.json'])"
      ]
     },
     "execution_count": 72,
     "metadata": {},
     "output_type": "execute_result"
    }
   ],
   "source": [
    "server_logs = logs_files.pop(0)\n",
    "server_logs, logs_files"
   ]
  },
  {
   "cell_type": "markdown",
   "metadata": {},
   "source": [
    "# Server"
   ]
  },
  {
   "cell_type": "code",
   "execution_count": 73,
   "metadata": {},
   "outputs": [
    {
     "data": {
      "text/html": [
       "<div>\n",
       "<style scoped>\n",
       "    .dataframe tbody tr th:only-of-type {\n",
       "        vertical-align: middle;\n",
       "    }\n",
       "\n",
       "    .dataframe tbody tr th {\n",
       "        vertical-align: top;\n",
       "    }\n",
       "\n",
       "    .dataframe thead th {\n",
       "        text-align: right;\n",
       "    }\n",
       "</style>\n",
       "<table border=\"1\" class=\"dataframe\">\n",
       "  <thead>\n",
       "    <tr style=\"text-align: right;\">\n",
       "      <th></th>\n",
       "      <th>end_time</th>\n",
       "      <th>elapsed_time</th>\n",
       "      <th>logging_time_end</th>\n",
       "      <th>received_time</th>\n",
       "      <th>sent_time</th>\n",
       "      <th>epoch</th>\n",
       "      <th>start_time</th>\n",
       "      <th>is_calculation_time_start</th>\n",
       "      <th>inception_score</th>\n",
       "      <th>is_calculation_time_end</th>\n",
       "      <th>fid_calculation_time_start</th>\n",
       "      <th>fid_score</th>\n",
       "      <th>fid_calculation_time_end</th>\n",
       "      <th>name</th>\n",
       "    </tr>\n",
       "  </thead>\n",
       "  <tbody>\n",
       "    <tr>\n",
       "      <th>0</th>\n",
       "      <td>2024-05-13 16:56:55.368268013</td>\n",
       "      <td>2.631052</td>\n",
       "      <td>1.715619e+09</td>\n",
       "      <td>2024-05-13 16:56:54.709145069</td>\n",
       "      <td>2024-05-13 16:56:52.885792971</td>\n",
       "      <td>0</td>\n",
       "      <td>2024-05-13 16:56:52.737215996</td>\n",
       "      <td>1.715619e+09</td>\n",
       "      <td>1.056370</td>\n",
       "      <td>1.715619e+09</td>\n",
       "      <td>1.715619e+09</td>\n",
       "      <td>452.766876</td>\n",
       "      <td>1.715619e+09</td>\n",
       "      <td>server</td>\n",
       "    </tr>\n",
       "    <tr>\n",
       "      <th>1</th>\n",
       "      <td>2024-05-13 16:56:59.667267084</td>\n",
       "      <td>0.885532</td>\n",
       "      <td>1.715619e+09</td>\n",
       "      <td>2024-05-13 16:56:59.592746019</td>\n",
       "      <td>2024-05-13 16:56:58.787747145</td>\n",
       "      <td>1</td>\n",
       "      <td>2024-05-13 16:56:58.781734943</td>\n",
       "      <td>NaN</td>\n",
       "      <td>NaN</td>\n",
       "      <td>NaN</td>\n",
       "      <td>NaN</td>\n",
       "      <td>NaN</td>\n",
       "      <td>NaN</td>\n",
       "      <td>server</td>\n",
       "    </tr>\n",
       "    <tr>\n",
       "      <th>2</th>\n",
       "      <td>2024-05-13 16:57:00.315038919</td>\n",
       "      <td>0.647096</td>\n",
       "      <td>1.715619e+09</td>\n",
       "      <td>2024-05-13 16:57:00.281295061</td>\n",
       "      <td>2024-05-13 16:56:59.671033144</td>\n",
       "      <td>2</td>\n",
       "      <td>2024-05-13 16:56:59.667943001</td>\n",
       "      <td>NaN</td>\n",
       "      <td>NaN</td>\n",
       "      <td>NaN</td>\n",
       "      <td>NaN</td>\n",
       "      <td>NaN</td>\n",
       "      <td>NaN</td>\n",
       "      <td>server</td>\n",
       "    </tr>\n",
       "    <tr>\n",
       "      <th>3</th>\n",
       "      <td>2024-05-13 16:57:00.985203981</td>\n",
       "      <td>0.669307</td>\n",
       "      <td>1.715619e+09</td>\n",
       "      <td>2024-05-13 16:57:00.960901022</td>\n",
       "      <td>2024-05-13 16:57:00.320356131</td>\n",
       "      <td>3</td>\n",
       "      <td>2024-05-13 16:57:00.315896988</td>\n",
       "      <td>NaN</td>\n",
       "      <td>NaN</td>\n",
       "      <td>NaN</td>\n",
       "      <td>NaN</td>\n",
       "      <td>NaN</td>\n",
       "      <td>NaN</td>\n",
       "      <td>server</td>\n",
       "    </tr>\n",
       "    <tr>\n",
       "      <th>4</th>\n",
       "      <td>2024-05-13 16:57:01.658004999</td>\n",
       "      <td>0.672470</td>\n",
       "      <td>1.715619e+09</td>\n",
       "      <td>2024-05-13 16:57:01.633717060</td>\n",
       "      <td>2024-05-13 16:57:00.987265110</td>\n",
       "      <td>4</td>\n",
       "      <td>2024-05-13 16:57:00.985534906</td>\n",
       "      <td>NaN</td>\n",
       "      <td>NaN</td>\n",
       "      <td>NaN</td>\n",
       "      <td>NaN</td>\n",
       "      <td>NaN</td>\n",
       "      <td>NaN</td>\n",
       "      <td>server</td>\n",
       "    </tr>\n",
       "    <tr>\n",
       "      <th>...</th>\n",
       "      <td>...</td>\n",
       "      <td>...</td>\n",
       "      <td>...</td>\n",
       "      <td>...</td>\n",
       "      <td>...</td>\n",
       "      <td>...</td>\n",
       "      <td>...</td>\n",
       "      <td>...</td>\n",
       "      <td>...</td>\n",
       "      <td>...</td>\n",
       "      <td>...</td>\n",
       "      <td>...</td>\n",
       "      <td>...</td>\n",
       "      <td>...</td>\n",
       "    </tr>\n",
       "    <tr>\n",
       "      <th>108</th>\n",
       "      <td>2024-05-13 16:58:56.203507900</td>\n",
       "      <td>0.703884</td>\n",
       "      <td>1.715620e+09</td>\n",
       "      <td>2024-05-13 16:58:56.154509068</td>\n",
       "      <td>2024-05-13 16:58:55.501394032</td>\n",
       "      <td>108</td>\n",
       "      <td>2024-05-13 16:58:55.499624014</td>\n",
       "      <td>NaN</td>\n",
       "      <td>NaN</td>\n",
       "      <td>NaN</td>\n",
       "      <td>NaN</td>\n",
       "      <td>NaN</td>\n",
       "      <td>NaN</td>\n",
       "      <td>server</td>\n",
       "    </tr>\n",
       "    <tr>\n",
       "      <th>109</th>\n",
       "      <td>2024-05-13 16:58:56.862545013</td>\n",
       "      <td>0.657084</td>\n",
       "      <td>1.715620e+09</td>\n",
       "      <td>2024-05-13 16:58:56.833885908</td>\n",
       "      <td>2024-05-13 16:58:56.209648848</td>\n",
       "      <td>109</td>\n",
       "      <td>2024-05-13 16:58:56.205461025</td>\n",
       "      <td>NaN</td>\n",
       "      <td>NaN</td>\n",
       "      <td>NaN</td>\n",
       "      <td>NaN</td>\n",
       "      <td>NaN</td>\n",
       "      <td>NaN</td>\n",
       "      <td>server</td>\n",
       "    </tr>\n",
       "    <tr>\n",
       "      <th>110</th>\n",
       "      <td>2024-05-13 16:58:57.534639120</td>\n",
       "      <td>0.670722</td>\n",
       "      <td>1.715620e+09</td>\n",
       "      <td>2024-05-13 16:58:57.510452032</td>\n",
       "      <td>2024-05-13 16:58:56.865885973</td>\n",
       "      <td>110</td>\n",
       "      <td>2024-05-13 16:58:56.863917112</td>\n",
       "      <td>1.715620e+09</td>\n",
       "      <td>1.206814</td>\n",
       "      <td>1.715620e+09</td>\n",
       "      <td>1.715620e+09</td>\n",
       "      <td>414.299011</td>\n",
       "      <td>1.715620e+09</td>\n",
       "      <td>server</td>\n",
       "    </tr>\n",
       "    <tr>\n",
       "      <th>111</th>\n",
       "      <td>2024-05-13 16:59:02.465160847</td>\n",
       "      <td>0.609760</td>\n",
       "      <td>1.715620e+09</td>\n",
       "      <td>2024-05-13 16:59:02.407190084</td>\n",
       "      <td>2024-05-13 16:59:01.859165907</td>\n",
       "      <td>111</td>\n",
       "      <td>2024-05-13 16:59:01.855401039</td>\n",
       "      <td>NaN</td>\n",
       "      <td>NaN</td>\n",
       "      <td>NaN</td>\n",
       "      <td>NaN</td>\n",
       "      <td>NaN</td>\n",
       "      <td>NaN</td>\n",
       "      <td>server</td>\n",
       "    </tr>\n",
       "    <tr>\n",
       "      <th>112</th>\n",
       "      <td>2024-05-13 16:59:03.121057987</td>\n",
       "      <td>0.654363</td>\n",
       "      <td>1.715620e+09</td>\n",
       "      <td>2024-05-13 16:59:03.095422029</td>\n",
       "      <td>2024-05-13 16:59:02.469207048</td>\n",
       "      <td>112</td>\n",
       "      <td>2024-05-13 16:59:02.466694832</td>\n",
       "      <td>NaN</td>\n",
       "      <td>NaN</td>\n",
       "      <td>NaN</td>\n",
       "      <td>NaN</td>\n",
       "      <td>NaN</td>\n",
       "      <td>NaN</td>\n",
       "      <td>server</td>\n",
       "    </tr>\n",
       "  </tbody>\n",
       "</table>\n",
       "<p>113 rows × 14 columns</p>\n",
       "</div>"
      ],
      "text/plain": [
       "                         end_time  elapsed_time  logging_time_end  \\\n",
       "0   2024-05-13 16:56:55.368268013      2.631052      1.715619e+09   \n",
       "1   2024-05-13 16:56:59.667267084      0.885532      1.715619e+09   \n",
       "2   2024-05-13 16:57:00.315038919      0.647096      1.715619e+09   \n",
       "3   2024-05-13 16:57:00.985203981      0.669307      1.715619e+09   \n",
       "4   2024-05-13 16:57:01.658004999      0.672470      1.715619e+09   \n",
       "..                            ...           ...               ...   \n",
       "108 2024-05-13 16:58:56.203507900      0.703884      1.715620e+09   \n",
       "109 2024-05-13 16:58:56.862545013      0.657084      1.715620e+09   \n",
       "110 2024-05-13 16:58:57.534639120      0.670722      1.715620e+09   \n",
       "111 2024-05-13 16:59:02.465160847      0.609760      1.715620e+09   \n",
       "112 2024-05-13 16:59:03.121057987      0.654363      1.715620e+09   \n",
       "\n",
       "                    received_time                     sent_time  epoch  \\\n",
       "0   2024-05-13 16:56:54.709145069 2024-05-13 16:56:52.885792971      0   \n",
       "1   2024-05-13 16:56:59.592746019 2024-05-13 16:56:58.787747145      1   \n",
       "2   2024-05-13 16:57:00.281295061 2024-05-13 16:56:59.671033144      2   \n",
       "3   2024-05-13 16:57:00.960901022 2024-05-13 16:57:00.320356131      3   \n",
       "4   2024-05-13 16:57:01.633717060 2024-05-13 16:57:00.987265110      4   \n",
       "..                            ...                           ...    ...   \n",
       "108 2024-05-13 16:58:56.154509068 2024-05-13 16:58:55.501394032    108   \n",
       "109 2024-05-13 16:58:56.833885908 2024-05-13 16:58:56.209648848    109   \n",
       "110 2024-05-13 16:58:57.510452032 2024-05-13 16:58:56.865885973    110   \n",
       "111 2024-05-13 16:59:02.407190084 2024-05-13 16:59:01.859165907    111   \n",
       "112 2024-05-13 16:59:03.095422029 2024-05-13 16:59:02.469207048    112   \n",
       "\n",
       "                       start_time  is_calculation_time_start  inception_score  \\\n",
       "0   2024-05-13 16:56:52.737215996               1.715619e+09         1.056370   \n",
       "1   2024-05-13 16:56:58.781734943                        NaN              NaN   \n",
       "2   2024-05-13 16:56:59.667943001                        NaN              NaN   \n",
       "3   2024-05-13 16:57:00.315896988                        NaN              NaN   \n",
       "4   2024-05-13 16:57:00.985534906                        NaN              NaN   \n",
       "..                            ...                        ...              ...   \n",
       "108 2024-05-13 16:58:55.499624014                        NaN              NaN   \n",
       "109 2024-05-13 16:58:56.205461025                        NaN              NaN   \n",
       "110 2024-05-13 16:58:56.863917112               1.715620e+09         1.206814   \n",
       "111 2024-05-13 16:59:01.855401039                        NaN              NaN   \n",
       "112 2024-05-13 16:59:02.466694832                        NaN              NaN   \n",
       "\n",
       "     is_calculation_time_end  fid_calculation_time_start   fid_score  \\\n",
       "0               1.715619e+09                1.715619e+09  452.766876   \n",
       "1                        NaN                         NaN         NaN   \n",
       "2                        NaN                         NaN         NaN   \n",
       "3                        NaN                         NaN         NaN   \n",
       "4                        NaN                         NaN         NaN   \n",
       "..                       ...                         ...         ...   \n",
       "108                      NaN                         NaN         NaN   \n",
       "109                      NaN                         NaN         NaN   \n",
       "110             1.715620e+09                1.715620e+09  414.299011   \n",
       "111                      NaN                         NaN         NaN   \n",
       "112                      NaN                         NaN         NaN   \n",
       "\n",
       "     fid_calculation_time_end    name  \n",
       "0                1.715619e+09  server  \n",
       "1                         NaN  server  \n",
       "2                         NaN  server  \n",
       "3                         NaN  server  \n",
       "4                         NaN  server  \n",
       "..                        ...     ...  \n",
       "108                       NaN  server  \n",
       "109                       NaN  server  \n",
       "110              1.715620e+09  server  \n",
       "111                       NaN  server  \n",
       "112                       NaN  server  \n",
       "\n",
       "[113 rows x 14 columns]"
      ]
     },
     "metadata": {},
     "output_type": "display_data"
    },
    {
     "data": {
      "text/html": [
       "<div>\n",
       "<style scoped>\n",
       "    .dataframe tbody tr th:only-of-type {\n",
       "        vertical-align: middle;\n",
       "    }\n",
       "\n",
       "    .dataframe tbody tr th {\n",
       "        vertical-align: top;\n",
       "    }\n",
       "\n",
       "    .dataframe thead th {\n",
       "        text-align: right;\n",
       "    }\n",
       "</style>\n",
       "<table border=\"1\" class=\"dataframe\">\n",
       "  <thead>\n",
       "    <tr style=\"text-align: right;\">\n",
       "      <th></th>\n",
       "      <th>end_time</th>\n",
       "      <th>elapsed_time</th>\n",
       "      <th>logging_time_end</th>\n",
       "      <th>received_time</th>\n",
       "      <th>sent_time</th>\n",
       "      <th>epoch</th>\n",
       "      <th>start_time</th>\n",
       "      <th>is_calculation_time_start</th>\n",
       "      <th>inception_score</th>\n",
       "      <th>is_calculation_time_end</th>\n",
       "      <th>fid_calculation_time_start</th>\n",
       "      <th>fid_score</th>\n",
       "      <th>fid_calculation_time_end</th>\n",
       "      <th>name</th>\n",
       "    </tr>\n",
       "  </thead>\n",
       "  <tbody>\n",
       "    <tr>\n",
       "      <th>0</th>\n",
       "      <td>2024-05-13 16:56:55.368268013</td>\n",
       "      <td>2.631052</td>\n",
       "      <td>1.715619e+09</td>\n",
       "      <td>2024-05-13 16:56:54.709145069</td>\n",
       "      <td>2024-05-13 16:56:52.885792971</td>\n",
       "      <td>0</td>\n",
       "      <td>2024-05-13 16:56:52.737215996</td>\n",
       "      <td>1.715619e+09</td>\n",
       "      <td>1.056370</td>\n",
       "      <td>1.715619e+09</td>\n",
       "      <td>1.715619e+09</td>\n",
       "      <td>452.766876</td>\n",
       "      <td>1.715619e+09</td>\n",
       "      <td>server</td>\n",
       "    </tr>\n",
       "    <tr>\n",
       "      <th>10</th>\n",
       "      <td>2024-05-13 16:57:05.765360117</td>\n",
       "      <td>0.683631</td>\n",
       "      <td>1.715619e+09</td>\n",
       "      <td>2024-05-13 16:57:05.731727123</td>\n",
       "      <td>2024-05-13 16:57:05.083806038</td>\n",
       "      <td>10</td>\n",
       "      <td>2024-05-13 16:57:05.081728935</td>\n",
       "      <td>1.715619e+09</td>\n",
       "      <td>1.100727</td>\n",
       "      <td>1.715619e+09</td>\n",
       "      <td>1.715619e+09</td>\n",
       "      <td>408.924500</td>\n",
       "      <td>1.715619e+09</td>\n",
       "      <td>server</td>\n",
       "    </tr>\n",
       "    <tr>\n",
       "      <th>20</th>\n",
       "      <td>2024-05-13 16:57:17.192725897</td>\n",
       "      <td>0.749319</td>\n",
       "      <td>1.715619e+09</td>\n",
       "      <td>2024-05-13 16:57:17.091354132</td>\n",
       "      <td>2024-05-13 16:57:16.445441008</td>\n",
       "      <td>20</td>\n",
       "      <td>2024-05-13 16:57:16.443407059</td>\n",
       "      <td>1.715619e+09</td>\n",
       "      <td>1.036813</td>\n",
       "      <td>1.715619e+09</td>\n",
       "      <td>1.715619e+09</td>\n",
       "      <td>525.962891</td>\n",
       "      <td>1.715619e+09</td>\n",
       "      <td>server</td>\n",
       "    </tr>\n",
       "    <tr>\n",
       "      <th>30</th>\n",
       "      <td>2024-05-13 16:57:27.785007000</td>\n",
       "      <td>0.615499</td>\n",
       "      <td>1.715619e+09</td>\n",
       "      <td>2024-05-13 16:57:27.755499125</td>\n",
       "      <td>2024-05-13 16:57:27.175738096</td>\n",
       "      <td>30</td>\n",
       "      <td>2024-05-13 16:57:27.169507980</td>\n",
       "      <td>1.715619e+09</td>\n",
       "      <td>1.169341</td>\n",
       "      <td>1.715619e+09</td>\n",
       "      <td>1.715619e+09</td>\n",
       "      <td>464.955566</td>\n",
       "      <td>1.715619e+09</td>\n",
       "      <td>server</td>\n",
       "    </tr>\n",
       "    <tr>\n",
       "      <th>40</th>\n",
       "      <td>2024-05-13 16:57:39.057957172</td>\n",
       "      <td>0.672270</td>\n",
       "      <td>1.715619e+09</td>\n",
       "      <td>2024-05-13 16:57:39.032361984</td>\n",
       "      <td>2024-05-13 16:57:38.387607098</td>\n",
       "      <td>40</td>\n",
       "      <td>2024-05-13 16:57:38.385687113</td>\n",
       "      <td>1.715619e+09</td>\n",
       "      <td>1.648211</td>\n",
       "      <td>1.715619e+09</td>\n",
       "      <td>1.715619e+09</td>\n",
       "      <td>437.323608</td>\n",
       "      <td>1.715619e+09</td>\n",
       "      <td>server</td>\n",
       "    </tr>\n",
       "    <tr>\n",
       "      <th>50</th>\n",
       "      <td>2024-05-13 16:57:49.732101917</td>\n",
       "      <td>0.670663</td>\n",
       "      <td>1.715619e+09</td>\n",
       "      <td>2024-05-13 16:57:49.707270861</td>\n",
       "      <td>2024-05-13 16:57:49.063223124</td>\n",
       "      <td>50</td>\n",
       "      <td>2024-05-13 16:57:49.061439037</td>\n",
       "      <td>1.715619e+09</td>\n",
       "      <td>1.462968</td>\n",
       "      <td>1.715619e+09</td>\n",
       "      <td>1.715619e+09</td>\n",
       "      <td>443.785919</td>\n",
       "      <td>1.715619e+09</td>\n",
       "      <td>server</td>\n",
       "    </tr>\n",
       "    <tr>\n",
       "      <th>60</th>\n",
       "      <td>2024-05-13 16:58:00.985358000</td>\n",
       "      <td>0.703543</td>\n",
       "      <td>1.715619e+09</td>\n",
       "      <td>2024-05-13 16:58:00.935754061</td>\n",
       "      <td>2024-05-13 16:58:00.283749819</td>\n",
       "      <td>60</td>\n",
       "      <td>2024-05-13 16:58:00.281815052</td>\n",
       "      <td>1.715619e+09</td>\n",
       "      <td>1.460029</td>\n",
       "      <td>1.715619e+09</td>\n",
       "      <td>1.715619e+09</td>\n",
       "      <td>415.833588</td>\n",
       "      <td>1.715619e+09</td>\n",
       "      <td>server</td>\n",
       "    </tr>\n",
       "    <tr>\n",
       "      <th>70</th>\n",
       "      <td>2024-05-13 16:58:12.555135965</td>\n",
       "      <td>0.675133</td>\n",
       "      <td>1.715619e+09</td>\n",
       "      <td>2024-05-13 16:58:12.530586004</td>\n",
       "      <td>2024-05-13 16:58:11.881762981</td>\n",
       "      <td>70</td>\n",
       "      <td>2024-05-13 16:58:11.880002975</td>\n",
       "      <td>1.715619e+09</td>\n",
       "      <td>1.513320</td>\n",
       "      <td>1.715619e+09</td>\n",
       "      <td>1.715619e+09</td>\n",
       "      <td>430.093109</td>\n",
       "      <td>1.715619e+09</td>\n",
       "      <td>server</td>\n",
       "    </tr>\n",
       "    <tr>\n",
       "      <th>80</th>\n",
       "      <td>2024-05-13 16:58:24.469179869</td>\n",
       "      <td>0.659939</td>\n",
       "      <td>1.715620e+09</td>\n",
       "      <td>2024-05-13 16:58:24.439525127</td>\n",
       "      <td>2024-05-13 16:58:23.813211918</td>\n",
       "      <td>80</td>\n",
       "      <td>2024-05-13 16:58:23.809241056</td>\n",
       "      <td>1.715620e+09</td>\n",
       "      <td>1.264514</td>\n",
       "      <td>1.715620e+09</td>\n",
       "      <td>1.715620e+09</td>\n",
       "      <td>405.627136</td>\n",
       "      <td>1.715620e+09</td>\n",
       "      <td>server</td>\n",
       "    </tr>\n",
       "    <tr>\n",
       "      <th>90</th>\n",
       "      <td>2024-05-13 16:58:35.634095192</td>\n",
       "      <td>0.691006</td>\n",
       "      <td>1.715620e+09</td>\n",
       "      <td>2024-05-13 16:58:35.588483095</td>\n",
       "      <td>2024-05-13 16:58:34.945381880</td>\n",
       "      <td>90</td>\n",
       "      <td>2024-05-13 16:58:34.943089008</td>\n",
       "      <td>1.715620e+09</td>\n",
       "      <td>1.196784</td>\n",
       "      <td>1.715620e+09</td>\n",
       "      <td>1.715620e+09</td>\n",
       "      <td>429.553436</td>\n",
       "      <td>1.715620e+09</td>\n",
       "      <td>server</td>\n",
       "    </tr>\n",
       "    <tr>\n",
       "      <th>100</th>\n",
       "      <td>2024-05-13 16:58:46.424322128</td>\n",
       "      <td>0.658801</td>\n",
       "      <td>1.715620e+09</td>\n",
       "      <td>2024-05-13 16:58:46.399154902</td>\n",
       "      <td>2024-05-13 16:58:45.769387960</td>\n",
       "      <td>100</td>\n",
       "      <td>2024-05-13 16:58:45.765520811</td>\n",
       "      <td>1.715620e+09</td>\n",
       "      <td>1.311671</td>\n",
       "      <td>1.715620e+09</td>\n",
       "      <td>1.715620e+09</td>\n",
       "      <td>388.559174</td>\n",
       "      <td>1.715620e+09</td>\n",
       "      <td>server</td>\n",
       "    </tr>\n",
       "    <tr>\n",
       "      <th>110</th>\n",
       "      <td>2024-05-13 16:58:57.534639120</td>\n",
       "      <td>0.670722</td>\n",
       "      <td>1.715620e+09</td>\n",
       "      <td>2024-05-13 16:58:57.510452032</td>\n",
       "      <td>2024-05-13 16:58:56.865885973</td>\n",
       "      <td>110</td>\n",
       "      <td>2024-05-13 16:58:56.863917112</td>\n",
       "      <td>1.715620e+09</td>\n",
       "      <td>1.206814</td>\n",
       "      <td>1.715620e+09</td>\n",
       "      <td>1.715620e+09</td>\n",
       "      <td>414.299011</td>\n",
       "      <td>1.715620e+09</td>\n",
       "      <td>server</td>\n",
       "    </tr>\n",
       "  </tbody>\n",
       "</table>\n",
       "</div>"
      ],
      "text/plain": [
       "                         end_time  elapsed_time  logging_time_end  \\\n",
       "0   2024-05-13 16:56:55.368268013      2.631052      1.715619e+09   \n",
       "10  2024-05-13 16:57:05.765360117      0.683631      1.715619e+09   \n",
       "20  2024-05-13 16:57:17.192725897      0.749319      1.715619e+09   \n",
       "30  2024-05-13 16:57:27.785007000      0.615499      1.715619e+09   \n",
       "40  2024-05-13 16:57:39.057957172      0.672270      1.715619e+09   \n",
       "50  2024-05-13 16:57:49.732101917      0.670663      1.715619e+09   \n",
       "60  2024-05-13 16:58:00.985358000      0.703543      1.715619e+09   \n",
       "70  2024-05-13 16:58:12.555135965      0.675133      1.715619e+09   \n",
       "80  2024-05-13 16:58:24.469179869      0.659939      1.715620e+09   \n",
       "90  2024-05-13 16:58:35.634095192      0.691006      1.715620e+09   \n",
       "100 2024-05-13 16:58:46.424322128      0.658801      1.715620e+09   \n",
       "110 2024-05-13 16:58:57.534639120      0.670722      1.715620e+09   \n",
       "\n",
       "                    received_time                     sent_time  epoch  \\\n",
       "0   2024-05-13 16:56:54.709145069 2024-05-13 16:56:52.885792971      0   \n",
       "10  2024-05-13 16:57:05.731727123 2024-05-13 16:57:05.083806038     10   \n",
       "20  2024-05-13 16:57:17.091354132 2024-05-13 16:57:16.445441008     20   \n",
       "30  2024-05-13 16:57:27.755499125 2024-05-13 16:57:27.175738096     30   \n",
       "40  2024-05-13 16:57:39.032361984 2024-05-13 16:57:38.387607098     40   \n",
       "50  2024-05-13 16:57:49.707270861 2024-05-13 16:57:49.063223124     50   \n",
       "60  2024-05-13 16:58:00.935754061 2024-05-13 16:58:00.283749819     60   \n",
       "70  2024-05-13 16:58:12.530586004 2024-05-13 16:58:11.881762981     70   \n",
       "80  2024-05-13 16:58:24.439525127 2024-05-13 16:58:23.813211918     80   \n",
       "90  2024-05-13 16:58:35.588483095 2024-05-13 16:58:34.945381880     90   \n",
       "100 2024-05-13 16:58:46.399154902 2024-05-13 16:58:45.769387960    100   \n",
       "110 2024-05-13 16:58:57.510452032 2024-05-13 16:58:56.865885973    110   \n",
       "\n",
       "                       start_time  is_calculation_time_start  inception_score  \\\n",
       "0   2024-05-13 16:56:52.737215996               1.715619e+09         1.056370   \n",
       "10  2024-05-13 16:57:05.081728935               1.715619e+09         1.100727   \n",
       "20  2024-05-13 16:57:16.443407059               1.715619e+09         1.036813   \n",
       "30  2024-05-13 16:57:27.169507980               1.715619e+09         1.169341   \n",
       "40  2024-05-13 16:57:38.385687113               1.715619e+09         1.648211   \n",
       "50  2024-05-13 16:57:49.061439037               1.715619e+09         1.462968   \n",
       "60  2024-05-13 16:58:00.281815052               1.715619e+09         1.460029   \n",
       "70  2024-05-13 16:58:11.880002975               1.715619e+09         1.513320   \n",
       "80  2024-05-13 16:58:23.809241056               1.715620e+09         1.264514   \n",
       "90  2024-05-13 16:58:34.943089008               1.715620e+09         1.196784   \n",
       "100 2024-05-13 16:58:45.765520811               1.715620e+09         1.311671   \n",
       "110 2024-05-13 16:58:56.863917112               1.715620e+09         1.206814   \n",
       "\n",
       "     is_calculation_time_end  fid_calculation_time_start   fid_score  \\\n",
       "0               1.715619e+09                1.715619e+09  452.766876   \n",
       "10              1.715619e+09                1.715619e+09  408.924500   \n",
       "20              1.715619e+09                1.715619e+09  525.962891   \n",
       "30              1.715619e+09                1.715619e+09  464.955566   \n",
       "40              1.715619e+09                1.715619e+09  437.323608   \n",
       "50              1.715619e+09                1.715619e+09  443.785919   \n",
       "60              1.715619e+09                1.715619e+09  415.833588   \n",
       "70              1.715619e+09                1.715619e+09  430.093109   \n",
       "80              1.715620e+09                1.715620e+09  405.627136   \n",
       "90              1.715620e+09                1.715620e+09  429.553436   \n",
       "100             1.715620e+09                1.715620e+09  388.559174   \n",
       "110             1.715620e+09                1.715620e+09  414.299011   \n",
       "\n",
       "     fid_calculation_time_end    name  \n",
       "0                1.715619e+09  server  \n",
       "10               1.715619e+09  server  \n",
       "20               1.715619e+09  server  \n",
       "30               1.715619e+09  server  \n",
       "40               1.715619e+09  server  \n",
       "50               1.715619e+09  server  \n",
       "60               1.715619e+09  server  \n",
       "70               1.715619e+09  server  \n",
       "80               1.715620e+09  server  \n",
       "90               1.715620e+09  server  \n",
       "100              1.715620e+09  server  \n",
       "110              1.715620e+09  server  "
      ]
     },
     "metadata": {},
     "output_type": "display_data"
    }
   ],
   "source": [
    "server_df = pd.read_json(server_logs, orient=\"index\")\n",
    "server_df[\"fid_score\"] = server_df[\"fid_score\"].apply(lambda x: 0 if x is None else x)\n",
    "server_df[\"inception_score\"] = server_df[\"inception_score\"].apply(lambda x: 0 if x is None else x)\n",
    "server_df[\"name\"] = \"server\"\n",
    "server_with_score_df = server_df[server_df[\"fid_score\"].notnull() & server_df[\"inception_score\"].notnull()]\n",
    "display(server_df)\n",
    "display(server_with_score_df)"
   ]
  },
  {
   "cell_type": "code",
   "execution_count": 63,
   "metadata": {},
   "outputs": [
    {
     "data": {
      "application/vnd.plotly.v1+json": {
       "config": {
        "plotlyServerURL": "https://plot.ly"
       },
       "data": [
        {
         "hovertemplate": "epoch=%{x}<br>fid_score=%{y}<extra></extra>",
         "legendgroup": "",
         "line": {
          "color": "#636efa",
          "dash": "solid"
         },
         "marker": {
          "symbol": "circle"
         },
         "mode": "lines",
         "name": "",
         "orientation": "v",
         "showlegend": false,
         "type": "scatter",
         "x": [
          0,
          10,
          20,
          30,
          40,
          50,
          60,
          70,
          80,
          90
         ],
         "xaxis": "x",
         "y": [
          452.7668762207031,
          408.92449951171875,
          525.962890625,
          464.95556640625,
          437.3236083984375,
          443.7859191894531,
          415.8335876464844,
          430.0931091308594,
          405.62713623046875,
          429.5534362792969
         ],
         "yaxis": "y"
        }
       ],
       "layout": {
        "legend": {
         "tracegroupgap": 0
        },
        "template": {
         "data": {
          "bar": [
           {
            "error_x": {
             "color": "#2a3f5f"
            },
            "error_y": {
             "color": "#2a3f5f"
            },
            "marker": {
             "line": {
              "color": "#E5ECF6",
              "width": 0.5
             },
             "pattern": {
              "fillmode": "overlay",
              "size": 10,
              "solidity": 0.2
             }
            },
            "type": "bar"
           }
          ],
          "barpolar": [
           {
            "marker": {
             "line": {
              "color": "#E5ECF6",
              "width": 0.5
             },
             "pattern": {
              "fillmode": "overlay",
              "size": 10,
              "solidity": 0.2
             }
            },
            "type": "barpolar"
           }
          ],
          "carpet": [
           {
            "aaxis": {
             "endlinecolor": "#2a3f5f",
             "gridcolor": "white",
             "linecolor": "white",
             "minorgridcolor": "white",
             "startlinecolor": "#2a3f5f"
            },
            "baxis": {
             "endlinecolor": "#2a3f5f",
             "gridcolor": "white",
             "linecolor": "white",
             "minorgridcolor": "white",
             "startlinecolor": "#2a3f5f"
            },
            "type": "carpet"
           }
          ],
          "choropleth": [
           {
            "colorbar": {
             "outlinewidth": 0,
             "ticks": ""
            },
            "type": "choropleth"
           }
          ],
          "contour": [
           {
            "colorbar": {
             "outlinewidth": 0,
             "ticks": ""
            },
            "colorscale": [
             [
              0,
              "#0d0887"
             ],
             [
              0.1111111111111111,
              "#46039f"
             ],
             [
              0.2222222222222222,
              "#7201a8"
             ],
             [
              0.3333333333333333,
              "#9c179e"
             ],
             [
              0.4444444444444444,
              "#bd3786"
             ],
             [
              0.5555555555555556,
              "#d8576b"
             ],
             [
              0.6666666666666666,
              "#ed7953"
             ],
             [
              0.7777777777777778,
              "#fb9f3a"
             ],
             [
              0.8888888888888888,
              "#fdca26"
             ],
             [
              1,
              "#f0f921"
             ]
            ],
            "type": "contour"
           }
          ],
          "contourcarpet": [
           {
            "colorbar": {
             "outlinewidth": 0,
             "ticks": ""
            },
            "type": "contourcarpet"
           }
          ],
          "heatmap": [
           {
            "colorbar": {
             "outlinewidth": 0,
             "ticks": ""
            },
            "colorscale": [
             [
              0,
              "#0d0887"
             ],
             [
              0.1111111111111111,
              "#46039f"
             ],
             [
              0.2222222222222222,
              "#7201a8"
             ],
             [
              0.3333333333333333,
              "#9c179e"
             ],
             [
              0.4444444444444444,
              "#bd3786"
             ],
             [
              0.5555555555555556,
              "#d8576b"
             ],
             [
              0.6666666666666666,
              "#ed7953"
             ],
             [
              0.7777777777777778,
              "#fb9f3a"
             ],
             [
              0.8888888888888888,
              "#fdca26"
             ],
             [
              1,
              "#f0f921"
             ]
            ],
            "type": "heatmap"
           }
          ],
          "heatmapgl": [
           {
            "colorbar": {
             "outlinewidth": 0,
             "ticks": ""
            },
            "colorscale": [
             [
              0,
              "#0d0887"
             ],
             [
              0.1111111111111111,
              "#46039f"
             ],
             [
              0.2222222222222222,
              "#7201a8"
             ],
             [
              0.3333333333333333,
              "#9c179e"
             ],
             [
              0.4444444444444444,
              "#bd3786"
             ],
             [
              0.5555555555555556,
              "#d8576b"
             ],
             [
              0.6666666666666666,
              "#ed7953"
             ],
             [
              0.7777777777777778,
              "#fb9f3a"
             ],
             [
              0.8888888888888888,
              "#fdca26"
             ],
             [
              1,
              "#f0f921"
             ]
            ],
            "type": "heatmapgl"
           }
          ],
          "histogram": [
           {
            "marker": {
             "pattern": {
              "fillmode": "overlay",
              "size": 10,
              "solidity": 0.2
             }
            },
            "type": "histogram"
           }
          ],
          "histogram2d": [
           {
            "colorbar": {
             "outlinewidth": 0,
             "ticks": ""
            },
            "colorscale": [
             [
              0,
              "#0d0887"
             ],
             [
              0.1111111111111111,
              "#46039f"
             ],
             [
              0.2222222222222222,
              "#7201a8"
             ],
             [
              0.3333333333333333,
              "#9c179e"
             ],
             [
              0.4444444444444444,
              "#bd3786"
             ],
             [
              0.5555555555555556,
              "#d8576b"
             ],
             [
              0.6666666666666666,
              "#ed7953"
             ],
             [
              0.7777777777777778,
              "#fb9f3a"
             ],
             [
              0.8888888888888888,
              "#fdca26"
             ],
             [
              1,
              "#f0f921"
             ]
            ],
            "type": "histogram2d"
           }
          ],
          "histogram2dcontour": [
           {
            "colorbar": {
             "outlinewidth": 0,
             "ticks": ""
            },
            "colorscale": [
             [
              0,
              "#0d0887"
             ],
             [
              0.1111111111111111,
              "#46039f"
             ],
             [
              0.2222222222222222,
              "#7201a8"
             ],
             [
              0.3333333333333333,
              "#9c179e"
             ],
             [
              0.4444444444444444,
              "#bd3786"
             ],
             [
              0.5555555555555556,
              "#d8576b"
             ],
             [
              0.6666666666666666,
              "#ed7953"
             ],
             [
              0.7777777777777778,
              "#fb9f3a"
             ],
             [
              0.8888888888888888,
              "#fdca26"
             ],
             [
              1,
              "#f0f921"
             ]
            ],
            "type": "histogram2dcontour"
           }
          ],
          "mesh3d": [
           {
            "colorbar": {
             "outlinewidth": 0,
             "ticks": ""
            },
            "type": "mesh3d"
           }
          ],
          "parcoords": [
           {
            "line": {
             "colorbar": {
              "outlinewidth": 0,
              "ticks": ""
             }
            },
            "type": "parcoords"
           }
          ],
          "pie": [
           {
            "automargin": true,
            "type": "pie"
           }
          ],
          "scatter": [
           {
            "fillpattern": {
             "fillmode": "overlay",
             "size": 10,
             "solidity": 0.2
            },
            "type": "scatter"
           }
          ],
          "scatter3d": [
           {
            "line": {
             "colorbar": {
              "outlinewidth": 0,
              "ticks": ""
             }
            },
            "marker": {
             "colorbar": {
              "outlinewidth": 0,
              "ticks": ""
             }
            },
            "type": "scatter3d"
           }
          ],
          "scattercarpet": [
           {
            "marker": {
             "colorbar": {
              "outlinewidth": 0,
              "ticks": ""
             }
            },
            "type": "scattercarpet"
           }
          ],
          "scattergeo": [
           {
            "marker": {
             "colorbar": {
              "outlinewidth": 0,
              "ticks": ""
             }
            },
            "type": "scattergeo"
           }
          ],
          "scattergl": [
           {
            "marker": {
             "colorbar": {
              "outlinewidth": 0,
              "ticks": ""
             }
            },
            "type": "scattergl"
           }
          ],
          "scattermapbox": [
           {
            "marker": {
             "colorbar": {
              "outlinewidth": 0,
              "ticks": ""
             }
            },
            "type": "scattermapbox"
           }
          ],
          "scatterpolar": [
           {
            "marker": {
             "colorbar": {
              "outlinewidth": 0,
              "ticks": ""
             }
            },
            "type": "scatterpolar"
           }
          ],
          "scatterpolargl": [
           {
            "marker": {
             "colorbar": {
              "outlinewidth": 0,
              "ticks": ""
             }
            },
            "type": "scatterpolargl"
           }
          ],
          "scatterternary": [
           {
            "marker": {
             "colorbar": {
              "outlinewidth": 0,
              "ticks": ""
             }
            },
            "type": "scatterternary"
           }
          ],
          "surface": [
           {
            "colorbar": {
             "outlinewidth": 0,
             "ticks": ""
            },
            "colorscale": [
             [
              0,
              "#0d0887"
             ],
             [
              0.1111111111111111,
              "#46039f"
             ],
             [
              0.2222222222222222,
              "#7201a8"
             ],
             [
              0.3333333333333333,
              "#9c179e"
             ],
             [
              0.4444444444444444,
              "#bd3786"
             ],
             [
              0.5555555555555556,
              "#d8576b"
             ],
             [
              0.6666666666666666,
              "#ed7953"
             ],
             [
              0.7777777777777778,
              "#fb9f3a"
             ],
             [
              0.8888888888888888,
              "#fdca26"
             ],
             [
              1,
              "#f0f921"
             ]
            ],
            "type": "surface"
           }
          ],
          "table": [
           {
            "cells": {
             "fill": {
              "color": "#EBF0F8"
             },
             "line": {
              "color": "white"
             }
            },
            "header": {
             "fill": {
              "color": "#C8D4E3"
             },
             "line": {
              "color": "white"
             }
            },
            "type": "table"
           }
          ]
         },
         "layout": {
          "annotationdefaults": {
           "arrowcolor": "#2a3f5f",
           "arrowhead": 0,
           "arrowwidth": 1
          },
          "autotypenumbers": "strict",
          "coloraxis": {
           "colorbar": {
            "outlinewidth": 0,
            "ticks": ""
           }
          },
          "colorscale": {
           "diverging": [
            [
             0,
             "#8e0152"
            ],
            [
             0.1,
             "#c51b7d"
            ],
            [
             0.2,
             "#de77ae"
            ],
            [
             0.3,
             "#f1b6da"
            ],
            [
             0.4,
             "#fde0ef"
            ],
            [
             0.5,
             "#f7f7f7"
            ],
            [
             0.6,
             "#e6f5d0"
            ],
            [
             0.7,
             "#b8e186"
            ],
            [
             0.8,
             "#7fbc41"
            ],
            [
             0.9,
             "#4d9221"
            ],
            [
             1,
             "#276419"
            ]
           ],
           "sequential": [
            [
             0,
             "#0d0887"
            ],
            [
             0.1111111111111111,
             "#46039f"
            ],
            [
             0.2222222222222222,
             "#7201a8"
            ],
            [
             0.3333333333333333,
             "#9c179e"
            ],
            [
             0.4444444444444444,
             "#bd3786"
            ],
            [
             0.5555555555555556,
             "#d8576b"
            ],
            [
             0.6666666666666666,
             "#ed7953"
            ],
            [
             0.7777777777777778,
             "#fb9f3a"
            ],
            [
             0.8888888888888888,
             "#fdca26"
            ],
            [
             1,
             "#f0f921"
            ]
           ],
           "sequentialminus": [
            [
             0,
             "#0d0887"
            ],
            [
             0.1111111111111111,
             "#46039f"
            ],
            [
             0.2222222222222222,
             "#7201a8"
            ],
            [
             0.3333333333333333,
             "#9c179e"
            ],
            [
             0.4444444444444444,
             "#bd3786"
            ],
            [
             0.5555555555555556,
             "#d8576b"
            ],
            [
             0.6666666666666666,
             "#ed7953"
            ],
            [
             0.7777777777777778,
             "#fb9f3a"
            ],
            [
             0.8888888888888888,
             "#fdca26"
            ],
            [
             1,
             "#f0f921"
            ]
           ]
          },
          "colorway": [
           "#636efa",
           "#EF553B",
           "#00cc96",
           "#ab63fa",
           "#FFA15A",
           "#19d3f3",
           "#FF6692",
           "#B6E880",
           "#FF97FF",
           "#FECB52"
          ],
          "font": {
           "color": "#2a3f5f"
          },
          "geo": {
           "bgcolor": "white",
           "lakecolor": "white",
           "landcolor": "#E5ECF6",
           "showlakes": true,
           "showland": true,
           "subunitcolor": "white"
          },
          "hoverlabel": {
           "align": "left"
          },
          "hovermode": "closest",
          "mapbox": {
           "style": "light"
          },
          "paper_bgcolor": "white",
          "plot_bgcolor": "#E5ECF6",
          "polar": {
           "angularaxis": {
            "gridcolor": "white",
            "linecolor": "white",
            "ticks": ""
           },
           "bgcolor": "#E5ECF6",
           "radialaxis": {
            "gridcolor": "white",
            "linecolor": "white",
            "ticks": ""
           }
          },
          "scene": {
           "xaxis": {
            "backgroundcolor": "#E5ECF6",
            "gridcolor": "white",
            "gridwidth": 2,
            "linecolor": "white",
            "showbackground": true,
            "ticks": "",
            "zerolinecolor": "white"
           },
           "yaxis": {
            "backgroundcolor": "#E5ECF6",
            "gridcolor": "white",
            "gridwidth": 2,
            "linecolor": "white",
            "showbackground": true,
            "ticks": "",
            "zerolinecolor": "white"
           },
           "zaxis": {
            "backgroundcolor": "#E5ECF6",
            "gridcolor": "white",
            "gridwidth": 2,
            "linecolor": "white",
            "showbackground": true,
            "ticks": "",
            "zerolinecolor": "white"
           }
          },
          "shapedefaults": {
           "line": {
            "color": "#2a3f5f"
           }
          },
          "ternary": {
           "aaxis": {
            "gridcolor": "white",
            "linecolor": "white",
            "ticks": ""
           },
           "baxis": {
            "gridcolor": "white",
            "linecolor": "white",
            "ticks": ""
           },
           "bgcolor": "#E5ECF6",
           "caxis": {
            "gridcolor": "white",
            "linecolor": "white",
            "ticks": ""
           }
          },
          "title": {
           "x": 0.05
          },
          "xaxis": {
           "automargin": true,
           "gridcolor": "white",
           "linecolor": "white",
           "ticks": "",
           "title": {
            "standoff": 15
           },
           "zerolinecolor": "white",
           "zerolinewidth": 2
          },
          "yaxis": {
           "automargin": true,
           "gridcolor": "white",
           "linecolor": "white",
           "ticks": "",
           "title": {
            "standoff": 15
           },
           "zerolinecolor": "white",
           "zerolinewidth": 2
          }
         }
        },
        "title": {
         "text": "Server logs"
        },
        "xaxis": {
         "anchor": "y",
         "domain": [
          0,
          1
         ],
         "title": {
          "text": "epoch"
         }
        },
        "yaxis": {
         "anchor": "x",
         "domain": [
          0,
          1
         ],
         "title": {
          "text": "fid_score"
         }
        }
       }
      }
     },
     "metadata": {},
     "output_type": "display_data"
    },
    {
     "data": {
      "application/vnd.plotly.v1+json": {
       "config": {
        "plotlyServerURL": "https://plot.ly"
       },
       "data": [
        {
         "hovertemplate": "epoch=%{x}<br>inception_score=%{y}<extra></extra>",
         "legendgroup": "",
         "line": {
          "color": "#636efa",
          "dash": "solid"
         },
         "marker": {
          "symbol": "circle"
         },
         "mode": "lines",
         "name": "",
         "orientation": "v",
         "showlegend": false,
         "type": "scatter",
         "x": [
          0,
          10,
          20,
          30,
          40,
          50,
          60,
          70,
          80,
          90
         ],
         "xaxis": "x",
         "y": [
          1.05636978149414,
          1.100726723670959,
          1.036812901496887,
          1.169341206550598,
          1.648210883140564,
          1.4629682302474971,
          1.460029125213623,
          1.513320326805114,
          1.264514088630676,
          1.196784257888794
         ],
         "yaxis": "y"
        }
       ],
       "layout": {
        "legend": {
         "tracegroupgap": 0
        },
        "template": {
         "data": {
          "bar": [
           {
            "error_x": {
             "color": "#2a3f5f"
            },
            "error_y": {
             "color": "#2a3f5f"
            },
            "marker": {
             "line": {
              "color": "#E5ECF6",
              "width": 0.5
             },
             "pattern": {
              "fillmode": "overlay",
              "size": 10,
              "solidity": 0.2
             }
            },
            "type": "bar"
           }
          ],
          "barpolar": [
           {
            "marker": {
             "line": {
              "color": "#E5ECF6",
              "width": 0.5
             },
             "pattern": {
              "fillmode": "overlay",
              "size": 10,
              "solidity": 0.2
             }
            },
            "type": "barpolar"
           }
          ],
          "carpet": [
           {
            "aaxis": {
             "endlinecolor": "#2a3f5f",
             "gridcolor": "white",
             "linecolor": "white",
             "minorgridcolor": "white",
             "startlinecolor": "#2a3f5f"
            },
            "baxis": {
             "endlinecolor": "#2a3f5f",
             "gridcolor": "white",
             "linecolor": "white",
             "minorgridcolor": "white",
             "startlinecolor": "#2a3f5f"
            },
            "type": "carpet"
           }
          ],
          "choropleth": [
           {
            "colorbar": {
             "outlinewidth": 0,
             "ticks": ""
            },
            "type": "choropleth"
           }
          ],
          "contour": [
           {
            "colorbar": {
             "outlinewidth": 0,
             "ticks": ""
            },
            "colorscale": [
             [
              0,
              "#0d0887"
             ],
             [
              0.1111111111111111,
              "#46039f"
             ],
             [
              0.2222222222222222,
              "#7201a8"
             ],
             [
              0.3333333333333333,
              "#9c179e"
             ],
             [
              0.4444444444444444,
              "#bd3786"
             ],
             [
              0.5555555555555556,
              "#d8576b"
             ],
             [
              0.6666666666666666,
              "#ed7953"
             ],
             [
              0.7777777777777778,
              "#fb9f3a"
             ],
             [
              0.8888888888888888,
              "#fdca26"
             ],
             [
              1,
              "#f0f921"
             ]
            ],
            "type": "contour"
           }
          ],
          "contourcarpet": [
           {
            "colorbar": {
             "outlinewidth": 0,
             "ticks": ""
            },
            "type": "contourcarpet"
           }
          ],
          "heatmap": [
           {
            "colorbar": {
             "outlinewidth": 0,
             "ticks": ""
            },
            "colorscale": [
             [
              0,
              "#0d0887"
             ],
             [
              0.1111111111111111,
              "#46039f"
             ],
             [
              0.2222222222222222,
              "#7201a8"
             ],
             [
              0.3333333333333333,
              "#9c179e"
             ],
             [
              0.4444444444444444,
              "#bd3786"
             ],
             [
              0.5555555555555556,
              "#d8576b"
             ],
             [
              0.6666666666666666,
              "#ed7953"
             ],
             [
              0.7777777777777778,
              "#fb9f3a"
             ],
             [
              0.8888888888888888,
              "#fdca26"
             ],
             [
              1,
              "#f0f921"
             ]
            ],
            "type": "heatmap"
           }
          ],
          "heatmapgl": [
           {
            "colorbar": {
             "outlinewidth": 0,
             "ticks": ""
            },
            "colorscale": [
             [
              0,
              "#0d0887"
             ],
             [
              0.1111111111111111,
              "#46039f"
             ],
             [
              0.2222222222222222,
              "#7201a8"
             ],
             [
              0.3333333333333333,
              "#9c179e"
             ],
             [
              0.4444444444444444,
              "#bd3786"
             ],
             [
              0.5555555555555556,
              "#d8576b"
             ],
             [
              0.6666666666666666,
              "#ed7953"
             ],
             [
              0.7777777777777778,
              "#fb9f3a"
             ],
             [
              0.8888888888888888,
              "#fdca26"
             ],
             [
              1,
              "#f0f921"
             ]
            ],
            "type": "heatmapgl"
           }
          ],
          "histogram": [
           {
            "marker": {
             "pattern": {
              "fillmode": "overlay",
              "size": 10,
              "solidity": 0.2
             }
            },
            "type": "histogram"
           }
          ],
          "histogram2d": [
           {
            "colorbar": {
             "outlinewidth": 0,
             "ticks": ""
            },
            "colorscale": [
             [
              0,
              "#0d0887"
             ],
             [
              0.1111111111111111,
              "#46039f"
             ],
             [
              0.2222222222222222,
              "#7201a8"
             ],
             [
              0.3333333333333333,
              "#9c179e"
             ],
             [
              0.4444444444444444,
              "#bd3786"
             ],
             [
              0.5555555555555556,
              "#d8576b"
             ],
             [
              0.6666666666666666,
              "#ed7953"
             ],
             [
              0.7777777777777778,
              "#fb9f3a"
             ],
             [
              0.8888888888888888,
              "#fdca26"
             ],
             [
              1,
              "#f0f921"
             ]
            ],
            "type": "histogram2d"
           }
          ],
          "histogram2dcontour": [
           {
            "colorbar": {
             "outlinewidth": 0,
             "ticks": ""
            },
            "colorscale": [
             [
              0,
              "#0d0887"
             ],
             [
              0.1111111111111111,
              "#46039f"
             ],
             [
              0.2222222222222222,
              "#7201a8"
             ],
             [
              0.3333333333333333,
              "#9c179e"
             ],
             [
              0.4444444444444444,
              "#bd3786"
             ],
             [
              0.5555555555555556,
              "#d8576b"
             ],
             [
              0.6666666666666666,
              "#ed7953"
             ],
             [
              0.7777777777777778,
              "#fb9f3a"
             ],
             [
              0.8888888888888888,
              "#fdca26"
             ],
             [
              1,
              "#f0f921"
             ]
            ],
            "type": "histogram2dcontour"
           }
          ],
          "mesh3d": [
           {
            "colorbar": {
             "outlinewidth": 0,
             "ticks": ""
            },
            "type": "mesh3d"
           }
          ],
          "parcoords": [
           {
            "line": {
             "colorbar": {
              "outlinewidth": 0,
              "ticks": ""
             }
            },
            "type": "parcoords"
           }
          ],
          "pie": [
           {
            "automargin": true,
            "type": "pie"
           }
          ],
          "scatter": [
           {
            "fillpattern": {
             "fillmode": "overlay",
             "size": 10,
             "solidity": 0.2
            },
            "type": "scatter"
           }
          ],
          "scatter3d": [
           {
            "line": {
             "colorbar": {
              "outlinewidth": 0,
              "ticks": ""
             }
            },
            "marker": {
             "colorbar": {
              "outlinewidth": 0,
              "ticks": ""
             }
            },
            "type": "scatter3d"
           }
          ],
          "scattercarpet": [
           {
            "marker": {
             "colorbar": {
              "outlinewidth": 0,
              "ticks": ""
             }
            },
            "type": "scattercarpet"
           }
          ],
          "scattergeo": [
           {
            "marker": {
             "colorbar": {
              "outlinewidth": 0,
              "ticks": ""
             }
            },
            "type": "scattergeo"
           }
          ],
          "scattergl": [
           {
            "marker": {
             "colorbar": {
              "outlinewidth": 0,
              "ticks": ""
             }
            },
            "type": "scattergl"
           }
          ],
          "scattermapbox": [
           {
            "marker": {
             "colorbar": {
              "outlinewidth": 0,
              "ticks": ""
             }
            },
            "type": "scattermapbox"
           }
          ],
          "scatterpolar": [
           {
            "marker": {
             "colorbar": {
              "outlinewidth": 0,
              "ticks": ""
             }
            },
            "type": "scatterpolar"
           }
          ],
          "scatterpolargl": [
           {
            "marker": {
             "colorbar": {
              "outlinewidth": 0,
              "ticks": ""
             }
            },
            "type": "scatterpolargl"
           }
          ],
          "scatterternary": [
           {
            "marker": {
             "colorbar": {
              "outlinewidth": 0,
              "ticks": ""
             }
            },
            "type": "scatterternary"
           }
          ],
          "surface": [
           {
            "colorbar": {
             "outlinewidth": 0,
             "ticks": ""
            },
            "colorscale": [
             [
              0,
              "#0d0887"
             ],
             [
              0.1111111111111111,
              "#46039f"
             ],
             [
              0.2222222222222222,
              "#7201a8"
             ],
             [
              0.3333333333333333,
              "#9c179e"
             ],
             [
              0.4444444444444444,
              "#bd3786"
             ],
             [
              0.5555555555555556,
              "#d8576b"
             ],
             [
              0.6666666666666666,
              "#ed7953"
             ],
             [
              0.7777777777777778,
              "#fb9f3a"
             ],
             [
              0.8888888888888888,
              "#fdca26"
             ],
             [
              1,
              "#f0f921"
             ]
            ],
            "type": "surface"
           }
          ],
          "table": [
           {
            "cells": {
             "fill": {
              "color": "#EBF0F8"
             },
             "line": {
              "color": "white"
             }
            },
            "header": {
             "fill": {
              "color": "#C8D4E3"
             },
             "line": {
              "color": "white"
             }
            },
            "type": "table"
           }
          ]
         },
         "layout": {
          "annotationdefaults": {
           "arrowcolor": "#2a3f5f",
           "arrowhead": 0,
           "arrowwidth": 1
          },
          "autotypenumbers": "strict",
          "coloraxis": {
           "colorbar": {
            "outlinewidth": 0,
            "ticks": ""
           }
          },
          "colorscale": {
           "diverging": [
            [
             0,
             "#8e0152"
            ],
            [
             0.1,
             "#c51b7d"
            ],
            [
             0.2,
             "#de77ae"
            ],
            [
             0.3,
             "#f1b6da"
            ],
            [
             0.4,
             "#fde0ef"
            ],
            [
             0.5,
             "#f7f7f7"
            ],
            [
             0.6,
             "#e6f5d0"
            ],
            [
             0.7,
             "#b8e186"
            ],
            [
             0.8,
             "#7fbc41"
            ],
            [
             0.9,
             "#4d9221"
            ],
            [
             1,
             "#276419"
            ]
           ],
           "sequential": [
            [
             0,
             "#0d0887"
            ],
            [
             0.1111111111111111,
             "#46039f"
            ],
            [
             0.2222222222222222,
             "#7201a8"
            ],
            [
             0.3333333333333333,
             "#9c179e"
            ],
            [
             0.4444444444444444,
             "#bd3786"
            ],
            [
             0.5555555555555556,
             "#d8576b"
            ],
            [
             0.6666666666666666,
             "#ed7953"
            ],
            [
             0.7777777777777778,
             "#fb9f3a"
            ],
            [
             0.8888888888888888,
             "#fdca26"
            ],
            [
             1,
             "#f0f921"
            ]
           ],
           "sequentialminus": [
            [
             0,
             "#0d0887"
            ],
            [
             0.1111111111111111,
             "#46039f"
            ],
            [
             0.2222222222222222,
             "#7201a8"
            ],
            [
             0.3333333333333333,
             "#9c179e"
            ],
            [
             0.4444444444444444,
             "#bd3786"
            ],
            [
             0.5555555555555556,
             "#d8576b"
            ],
            [
             0.6666666666666666,
             "#ed7953"
            ],
            [
             0.7777777777777778,
             "#fb9f3a"
            ],
            [
             0.8888888888888888,
             "#fdca26"
            ],
            [
             1,
             "#f0f921"
            ]
           ]
          },
          "colorway": [
           "#636efa",
           "#EF553B",
           "#00cc96",
           "#ab63fa",
           "#FFA15A",
           "#19d3f3",
           "#FF6692",
           "#B6E880",
           "#FF97FF",
           "#FECB52"
          ],
          "font": {
           "color": "#2a3f5f"
          },
          "geo": {
           "bgcolor": "white",
           "lakecolor": "white",
           "landcolor": "#E5ECF6",
           "showlakes": true,
           "showland": true,
           "subunitcolor": "white"
          },
          "hoverlabel": {
           "align": "left"
          },
          "hovermode": "closest",
          "mapbox": {
           "style": "light"
          },
          "paper_bgcolor": "white",
          "plot_bgcolor": "#E5ECF6",
          "polar": {
           "angularaxis": {
            "gridcolor": "white",
            "linecolor": "white",
            "ticks": ""
           },
           "bgcolor": "#E5ECF6",
           "radialaxis": {
            "gridcolor": "white",
            "linecolor": "white",
            "ticks": ""
           }
          },
          "scene": {
           "xaxis": {
            "backgroundcolor": "#E5ECF6",
            "gridcolor": "white",
            "gridwidth": 2,
            "linecolor": "white",
            "showbackground": true,
            "ticks": "",
            "zerolinecolor": "white"
           },
           "yaxis": {
            "backgroundcolor": "#E5ECF6",
            "gridcolor": "white",
            "gridwidth": 2,
            "linecolor": "white",
            "showbackground": true,
            "ticks": "",
            "zerolinecolor": "white"
           },
           "zaxis": {
            "backgroundcolor": "#E5ECF6",
            "gridcolor": "white",
            "gridwidth": 2,
            "linecolor": "white",
            "showbackground": true,
            "ticks": "",
            "zerolinecolor": "white"
           }
          },
          "shapedefaults": {
           "line": {
            "color": "#2a3f5f"
           }
          },
          "ternary": {
           "aaxis": {
            "gridcolor": "white",
            "linecolor": "white",
            "ticks": ""
           },
           "baxis": {
            "gridcolor": "white",
            "linecolor": "white",
            "ticks": ""
           },
           "bgcolor": "#E5ECF6",
           "caxis": {
            "gridcolor": "white",
            "linecolor": "white",
            "ticks": ""
           }
          },
          "title": {
           "x": 0.05
          },
          "xaxis": {
           "automargin": true,
           "gridcolor": "white",
           "linecolor": "white",
           "ticks": "",
           "title": {
            "standoff": 15
           },
           "zerolinecolor": "white",
           "zerolinewidth": 2
          },
          "yaxis": {
           "automargin": true,
           "gridcolor": "white",
           "linecolor": "white",
           "ticks": "",
           "title": {
            "standoff": 15
           },
           "zerolinecolor": "white",
           "zerolinewidth": 2
          }
         }
        },
        "title": {
         "text": "Server logs"
        },
        "xaxis": {
         "anchor": "y",
         "domain": [
          0,
          1
         ],
         "title": {
          "text": "epoch"
         }
        },
        "yaxis": {
         "anchor": "x",
         "domain": [
          0,
          1
         ],
         "title": {
          "text": "inception_score"
         }
        }
       }
      }
     },
     "metadata": {},
     "output_type": "display_data"
    },
    {
     "data": {
      "application/vnd.plotly.v1+json": {
       "config": {
        "plotlyServerURL": "https://plot.ly"
       },
       "data": [
        {
         "alignmentgroup": "True",
         "hovertemplate": "epoch=%{x}<br>elapsed_time=%{text}<extra></extra>",
         "legendgroup": "",
         "marker": {
          "color": "#636efa",
          "pattern": {
           "shape": ""
          }
         },
         "name": "",
         "offsetgroup": "",
         "orientation": "v",
         "showlegend": false,
         "text": [
          2.631052017211914,
          0.6836311817169191,
          0.7493188381195061,
          0.6154990196228021,
          0.6722700595855711,
          0.6706628799438471,
          0.703542947769165,
          0.6751329898834221,
          0.659938812255859,
          0.691006183624267
         ],
         "textposition": "auto",
         "type": "bar",
         "x": [
          0,
          10,
          20,
          30,
          40,
          50,
          60,
          70,
          80,
          90
         ],
         "xaxis": "x",
         "y": [
          2.631052017211914,
          0.6836311817169191,
          0.7493188381195061,
          0.6154990196228021,
          0.6722700595855711,
          0.6706628799438471,
          0.703542947769165,
          0.6751329898834221,
          0.659938812255859,
          0.691006183624267
         ],
         "yaxis": "y"
        }
       ],
       "layout": {
        "barmode": "relative",
        "legend": {
         "tracegroupgap": 0
        },
        "template": {
         "data": {
          "bar": [
           {
            "error_x": {
             "color": "#2a3f5f"
            },
            "error_y": {
             "color": "#2a3f5f"
            },
            "marker": {
             "line": {
              "color": "white",
              "width": 0.5
             },
             "pattern": {
              "fillmode": "overlay",
              "size": 10,
              "solidity": 0.2
             }
            },
            "type": "bar"
           }
          ],
          "barpolar": [
           {
            "marker": {
             "line": {
              "color": "white",
              "width": 0.5
             },
             "pattern": {
              "fillmode": "overlay",
              "size": 10,
              "solidity": 0.2
             }
            },
            "type": "barpolar"
           }
          ],
          "carpet": [
           {
            "aaxis": {
             "endlinecolor": "#2a3f5f",
             "gridcolor": "#C8D4E3",
             "linecolor": "#C8D4E3",
             "minorgridcolor": "#C8D4E3",
             "startlinecolor": "#2a3f5f"
            },
            "baxis": {
             "endlinecolor": "#2a3f5f",
             "gridcolor": "#C8D4E3",
             "linecolor": "#C8D4E3",
             "minorgridcolor": "#C8D4E3",
             "startlinecolor": "#2a3f5f"
            },
            "type": "carpet"
           }
          ],
          "choropleth": [
           {
            "colorbar": {
             "outlinewidth": 0,
             "ticks": ""
            },
            "type": "choropleth"
           }
          ],
          "contour": [
           {
            "colorbar": {
             "outlinewidth": 0,
             "ticks": ""
            },
            "colorscale": [
             [
              0,
              "#0d0887"
             ],
             [
              0.1111111111111111,
              "#46039f"
             ],
             [
              0.2222222222222222,
              "#7201a8"
             ],
             [
              0.3333333333333333,
              "#9c179e"
             ],
             [
              0.4444444444444444,
              "#bd3786"
             ],
             [
              0.5555555555555556,
              "#d8576b"
             ],
             [
              0.6666666666666666,
              "#ed7953"
             ],
             [
              0.7777777777777778,
              "#fb9f3a"
             ],
             [
              0.8888888888888888,
              "#fdca26"
             ],
             [
              1,
              "#f0f921"
             ]
            ],
            "type": "contour"
           }
          ],
          "contourcarpet": [
           {
            "colorbar": {
             "outlinewidth": 0,
             "ticks": ""
            },
            "type": "contourcarpet"
           }
          ],
          "heatmap": [
           {
            "colorbar": {
             "outlinewidth": 0,
             "ticks": ""
            },
            "colorscale": [
             [
              0,
              "#0d0887"
             ],
             [
              0.1111111111111111,
              "#46039f"
             ],
             [
              0.2222222222222222,
              "#7201a8"
             ],
             [
              0.3333333333333333,
              "#9c179e"
             ],
             [
              0.4444444444444444,
              "#bd3786"
             ],
             [
              0.5555555555555556,
              "#d8576b"
             ],
             [
              0.6666666666666666,
              "#ed7953"
             ],
             [
              0.7777777777777778,
              "#fb9f3a"
             ],
             [
              0.8888888888888888,
              "#fdca26"
             ],
             [
              1,
              "#f0f921"
             ]
            ],
            "type": "heatmap"
           }
          ],
          "heatmapgl": [
           {
            "colorbar": {
             "outlinewidth": 0,
             "ticks": ""
            },
            "colorscale": [
             [
              0,
              "#0d0887"
             ],
             [
              0.1111111111111111,
              "#46039f"
             ],
             [
              0.2222222222222222,
              "#7201a8"
             ],
             [
              0.3333333333333333,
              "#9c179e"
             ],
             [
              0.4444444444444444,
              "#bd3786"
             ],
             [
              0.5555555555555556,
              "#d8576b"
             ],
             [
              0.6666666666666666,
              "#ed7953"
             ],
             [
              0.7777777777777778,
              "#fb9f3a"
             ],
             [
              0.8888888888888888,
              "#fdca26"
             ],
             [
              1,
              "#f0f921"
             ]
            ],
            "type": "heatmapgl"
           }
          ],
          "histogram": [
           {
            "marker": {
             "pattern": {
              "fillmode": "overlay",
              "size": 10,
              "solidity": 0.2
             }
            },
            "type": "histogram"
           }
          ],
          "histogram2d": [
           {
            "colorbar": {
             "outlinewidth": 0,
             "ticks": ""
            },
            "colorscale": [
             [
              0,
              "#0d0887"
             ],
             [
              0.1111111111111111,
              "#46039f"
             ],
             [
              0.2222222222222222,
              "#7201a8"
             ],
             [
              0.3333333333333333,
              "#9c179e"
             ],
             [
              0.4444444444444444,
              "#bd3786"
             ],
             [
              0.5555555555555556,
              "#d8576b"
             ],
             [
              0.6666666666666666,
              "#ed7953"
             ],
             [
              0.7777777777777778,
              "#fb9f3a"
             ],
             [
              0.8888888888888888,
              "#fdca26"
             ],
             [
              1,
              "#f0f921"
             ]
            ],
            "type": "histogram2d"
           }
          ],
          "histogram2dcontour": [
           {
            "colorbar": {
             "outlinewidth": 0,
             "ticks": ""
            },
            "colorscale": [
             [
              0,
              "#0d0887"
             ],
             [
              0.1111111111111111,
              "#46039f"
             ],
             [
              0.2222222222222222,
              "#7201a8"
             ],
             [
              0.3333333333333333,
              "#9c179e"
             ],
             [
              0.4444444444444444,
              "#bd3786"
             ],
             [
              0.5555555555555556,
              "#d8576b"
             ],
             [
              0.6666666666666666,
              "#ed7953"
             ],
             [
              0.7777777777777778,
              "#fb9f3a"
             ],
             [
              0.8888888888888888,
              "#fdca26"
             ],
             [
              1,
              "#f0f921"
             ]
            ],
            "type": "histogram2dcontour"
           }
          ],
          "mesh3d": [
           {
            "colorbar": {
             "outlinewidth": 0,
             "ticks": ""
            },
            "type": "mesh3d"
           }
          ],
          "parcoords": [
           {
            "line": {
             "colorbar": {
              "outlinewidth": 0,
              "ticks": ""
             }
            },
            "type": "parcoords"
           }
          ],
          "pie": [
           {
            "automargin": true,
            "type": "pie"
           }
          ],
          "scatter": [
           {
            "fillpattern": {
             "fillmode": "overlay",
             "size": 10,
             "solidity": 0.2
            },
            "type": "scatter"
           }
          ],
          "scatter3d": [
           {
            "line": {
             "colorbar": {
              "outlinewidth": 0,
              "ticks": ""
             }
            },
            "marker": {
             "colorbar": {
              "outlinewidth": 0,
              "ticks": ""
             }
            },
            "type": "scatter3d"
           }
          ],
          "scattercarpet": [
           {
            "marker": {
             "colorbar": {
              "outlinewidth": 0,
              "ticks": ""
             }
            },
            "type": "scattercarpet"
           }
          ],
          "scattergeo": [
           {
            "marker": {
             "colorbar": {
              "outlinewidth": 0,
              "ticks": ""
             }
            },
            "type": "scattergeo"
           }
          ],
          "scattergl": [
           {
            "marker": {
             "colorbar": {
              "outlinewidth": 0,
              "ticks": ""
             }
            },
            "type": "scattergl"
           }
          ],
          "scattermapbox": [
           {
            "marker": {
             "colorbar": {
              "outlinewidth": 0,
              "ticks": ""
             }
            },
            "type": "scattermapbox"
           }
          ],
          "scatterpolar": [
           {
            "marker": {
             "colorbar": {
              "outlinewidth": 0,
              "ticks": ""
             }
            },
            "type": "scatterpolar"
           }
          ],
          "scatterpolargl": [
           {
            "marker": {
             "colorbar": {
              "outlinewidth": 0,
              "ticks": ""
             }
            },
            "type": "scatterpolargl"
           }
          ],
          "scatterternary": [
           {
            "marker": {
             "colorbar": {
              "outlinewidth": 0,
              "ticks": ""
             }
            },
            "type": "scatterternary"
           }
          ],
          "surface": [
           {
            "colorbar": {
             "outlinewidth": 0,
             "ticks": ""
            },
            "colorscale": [
             [
              0,
              "#0d0887"
             ],
             [
              0.1111111111111111,
              "#46039f"
             ],
             [
              0.2222222222222222,
              "#7201a8"
             ],
             [
              0.3333333333333333,
              "#9c179e"
             ],
             [
              0.4444444444444444,
              "#bd3786"
             ],
             [
              0.5555555555555556,
              "#d8576b"
             ],
             [
              0.6666666666666666,
              "#ed7953"
             ],
             [
              0.7777777777777778,
              "#fb9f3a"
             ],
             [
              0.8888888888888888,
              "#fdca26"
             ],
             [
              1,
              "#f0f921"
             ]
            ],
            "type": "surface"
           }
          ],
          "table": [
           {
            "cells": {
             "fill": {
              "color": "#EBF0F8"
             },
             "line": {
              "color": "white"
             }
            },
            "header": {
             "fill": {
              "color": "#C8D4E3"
             },
             "line": {
              "color": "white"
             }
            },
            "type": "table"
           }
          ]
         },
         "layout": {
          "annotationdefaults": {
           "arrowcolor": "#2a3f5f",
           "arrowhead": 0,
           "arrowwidth": 1
          },
          "autotypenumbers": "strict",
          "coloraxis": {
           "colorbar": {
            "outlinewidth": 0,
            "ticks": ""
           }
          },
          "colorscale": {
           "diverging": [
            [
             0,
             "#8e0152"
            ],
            [
             0.1,
             "#c51b7d"
            ],
            [
             0.2,
             "#de77ae"
            ],
            [
             0.3,
             "#f1b6da"
            ],
            [
             0.4,
             "#fde0ef"
            ],
            [
             0.5,
             "#f7f7f7"
            ],
            [
             0.6,
             "#e6f5d0"
            ],
            [
             0.7,
             "#b8e186"
            ],
            [
             0.8,
             "#7fbc41"
            ],
            [
             0.9,
             "#4d9221"
            ],
            [
             1,
             "#276419"
            ]
           ],
           "sequential": [
            [
             0,
             "#0d0887"
            ],
            [
             0.1111111111111111,
             "#46039f"
            ],
            [
             0.2222222222222222,
             "#7201a8"
            ],
            [
             0.3333333333333333,
             "#9c179e"
            ],
            [
             0.4444444444444444,
             "#bd3786"
            ],
            [
             0.5555555555555556,
             "#d8576b"
            ],
            [
             0.6666666666666666,
             "#ed7953"
            ],
            [
             0.7777777777777778,
             "#fb9f3a"
            ],
            [
             0.8888888888888888,
             "#fdca26"
            ],
            [
             1,
             "#f0f921"
            ]
           ],
           "sequentialminus": [
            [
             0,
             "#0d0887"
            ],
            [
             0.1111111111111111,
             "#46039f"
            ],
            [
             0.2222222222222222,
             "#7201a8"
            ],
            [
             0.3333333333333333,
             "#9c179e"
            ],
            [
             0.4444444444444444,
             "#bd3786"
            ],
            [
             0.5555555555555556,
             "#d8576b"
            ],
            [
             0.6666666666666666,
             "#ed7953"
            ],
            [
             0.7777777777777778,
             "#fb9f3a"
            ],
            [
             0.8888888888888888,
             "#fdca26"
            ],
            [
             1,
             "#f0f921"
            ]
           ]
          },
          "colorway": [
           "#636efa",
           "#EF553B",
           "#00cc96",
           "#ab63fa",
           "#FFA15A",
           "#19d3f3",
           "#FF6692",
           "#B6E880",
           "#FF97FF",
           "#FECB52"
          ],
          "font": {
           "color": "#2a3f5f"
          },
          "geo": {
           "bgcolor": "white",
           "lakecolor": "white",
           "landcolor": "white",
           "showlakes": true,
           "showland": true,
           "subunitcolor": "#C8D4E3"
          },
          "hoverlabel": {
           "align": "left"
          },
          "hovermode": "closest",
          "mapbox": {
           "style": "light"
          },
          "paper_bgcolor": "white",
          "plot_bgcolor": "white",
          "polar": {
           "angularaxis": {
            "gridcolor": "#EBF0F8",
            "linecolor": "#EBF0F8",
            "ticks": ""
           },
           "bgcolor": "white",
           "radialaxis": {
            "gridcolor": "#EBF0F8",
            "linecolor": "#EBF0F8",
            "ticks": ""
           }
          },
          "scene": {
           "xaxis": {
            "backgroundcolor": "white",
            "gridcolor": "#DFE8F3",
            "gridwidth": 2,
            "linecolor": "#EBF0F8",
            "showbackground": true,
            "ticks": "",
            "zerolinecolor": "#EBF0F8"
           },
           "yaxis": {
            "backgroundcolor": "white",
            "gridcolor": "#DFE8F3",
            "gridwidth": 2,
            "linecolor": "#EBF0F8",
            "showbackground": true,
            "ticks": "",
            "zerolinecolor": "#EBF0F8"
           },
           "zaxis": {
            "backgroundcolor": "white",
            "gridcolor": "#DFE8F3",
            "gridwidth": 2,
            "linecolor": "#EBF0F8",
            "showbackground": true,
            "ticks": "",
            "zerolinecolor": "#EBF0F8"
           }
          },
          "shapedefaults": {
           "line": {
            "color": "#2a3f5f"
           }
          },
          "ternary": {
           "aaxis": {
            "gridcolor": "#DFE8F3",
            "linecolor": "#A2B1C6",
            "ticks": ""
           },
           "baxis": {
            "gridcolor": "#DFE8F3",
            "linecolor": "#A2B1C6",
            "ticks": ""
           },
           "bgcolor": "white",
           "caxis": {
            "gridcolor": "#DFE8F3",
            "linecolor": "#A2B1C6",
            "ticks": ""
           }
          },
          "title": {
           "x": 0.05
          },
          "xaxis": {
           "automargin": true,
           "gridcolor": "#EBF0F8",
           "linecolor": "#EBF0F8",
           "ticks": "",
           "title": {
            "standoff": 15
           },
           "zerolinecolor": "#EBF0F8",
           "zerolinewidth": 2
          },
          "yaxis": {
           "automargin": true,
           "gridcolor": "#EBF0F8",
           "linecolor": "#EBF0F8",
           "ticks": "",
           "title": {
            "standoff": 15
           },
           "zerolinecolor": "#EBF0F8",
           "zerolinewidth": 2
          }
         }
        },
        "title": {
         "text": "Server logs"
        },
        "xaxis": {
         "anchor": "y",
         "domain": [
          0,
          1
         ],
         "title": {
          "text": "epoch"
         }
        },
        "yaxis": {
         "anchor": "x",
         "domain": [
          0,
          1
         ],
         "title": {
          "text": "elapsed_time"
         }
        }
       }
      }
     },
     "metadata": {},
     "output_type": "display_data"
    }
   ],
   "source": [
    "figure = go.Figure()\n",
    "normalized_fid = server_with_score_df.copy()\n",
    "lineplot_fid = px.line(\n",
    "    normalized_fid,\n",
    "    x=\"epoch\",\n",
    "    y=\"fid_score\",\n",
    "    title=\"Server logs\",\n",
    ").show()\n",
    "lineplot_is = px.line(\n",
    "    normalized_fid,\n",
    "    x=\"epoch\",\n",
    "    y=\"inception_score\",\n",
    "    title=\"Server logs\",\n",
    ").show()\n",
    "duration_plot = px.bar(\n",
    "    normalized_fid,\n",
    "    x=\"epoch\",\n",
    "    y=\"elapsed_time\",\n",
    "    title=\"Server logs\",\n",
    "    text=\"elapsed_time\",\n",
    "    template=\"plotly_white\"\n",
    ").show()"
   ]
  },
  {
   "cell_type": "code",
   "execution_count": 12,
   "metadata": {},
   "outputs": [
    {
     "data": {
      "application/vnd.plotly.v1+json": {
       "config": {
        "plotlyServerURL": "https://plot.ly"
       },
       "data": [
        {
         "alignmentgroup": "True",
         "base": [
          "2024-05-13T16:42:50.533684",
          "2024-05-13T16:42:55.928908",
          "2024-05-13T16:42:56.689776",
          "2024-05-13T16:42:57.325384",
          "2024-05-13T16:42:58.036143",
          "2024-05-13T16:42:58.693483",
          "2024-05-13T16:42:59.394721",
          "2024-05-13T16:43:00.069473",
          "2024-05-13T16:43:00.747879",
          "2024-05-13T16:43:01.427519",
          "2024-05-13T16:43:02.133430",
          "2024-05-13T16:43:06.796587",
          "2024-05-13T16:43:07.468643",
          "2024-05-13T16:43:08.110645",
          "2024-05-13T16:43:08.793284",
          "2024-05-13T16:43:09.477324",
          "2024-05-13T16:43:10.182059",
          "2024-05-13T16:43:10.867129",
          "2024-05-13T16:43:11.559005",
          "2024-05-13T16:43:12.260673",
          "2024-05-13T16:43:12.946099",
          "2024-05-13T16:43:17.727911",
          "2024-05-13T16:43:18.638471",
          "2024-05-13T16:43:19.396786",
          "2024-05-13T16:43:20.057981",
          "2024-05-13T16:43:20.764829",
          "2024-05-13T16:43:21.434053",
          "2024-05-13T16:43:22.124071",
          "2024-05-13T16:43:22.804121",
          "2024-05-13T16:43:23.520668",
          "2024-05-13T16:43:24.194144",
          "2024-05-13T16:43:29.208647",
          "2024-05-13T16:43:30.372172",
          "2024-05-13T16:43:31.279042",
          "2024-05-13T16:43:31.923976",
          "2024-05-13T16:43:32.615773",
          "2024-05-13T16:43:33.323848",
          "2024-05-13T16:43:33.985589",
          "2024-05-13T16:43:34.671429",
          "2024-05-13T16:43:35.456132",
          "2024-05-13T16:43:36.081552",
          "2024-05-13T16:43:41.001757",
          "2024-05-13T16:43:41.757405",
          "2024-05-13T16:43:42.430592",
          "2024-05-13T16:43:43.102129",
          "2024-05-13T16:43:43.833441",
          "2024-05-13T16:43:44.480037",
          "2024-05-13T16:43:45.197953",
          "2024-05-13T16:43:45.903171",
          "2024-05-13T16:43:46.580693",
          "2024-05-13T16:43:47.256767",
          "2024-05-13T16:43:52.861530",
          "2024-05-13T16:43:54.021636",
          "2024-05-13T16:43:54.735140",
          "2024-05-13T16:43:55.445075",
          "2024-05-13T16:43:56.221786",
          "2024-05-13T16:43:57.747967",
          "2024-05-13T16:43:58.428503",
          "2024-05-13T16:43:59.113111",
          "2024-05-13T16:43:59.829831",
          "2024-05-13T16:44:00.498816",
          "2024-05-13T16:44:06.146537",
          "2024-05-13T16:44:06.738264",
          "2024-05-13T16:44:07.405402",
          "2024-05-13T16:44:08.089551",
          "2024-05-13T16:44:08.765419",
          "2024-05-13T16:44:09.442775",
          "2024-05-13T16:44:10.121876",
          "2024-05-13T16:44:10.802089",
          "2024-05-13T16:44:11.480026",
          "2024-05-13T16:44:12.196280",
          "2024-05-13T16:44:16.554295",
          "2024-05-13T16:44:17.174631",
          "2024-05-13T16:44:17.841637",
          "2024-05-13T16:44:18.528466",
          "2024-05-13T16:44:19.524852",
          "2024-05-13T16:44:20.354288",
          "2024-05-13T16:44:21.074013",
          "2024-05-13T16:44:21.741264",
          "2024-05-13T16:44:22.471290",
          "2024-05-13T16:44:23.257699",
          "2024-05-13T16:44:27.854818",
          "2024-05-13T16:44:28.862170",
          "2024-05-13T16:44:29.758215",
          "2024-05-13T16:44:30.574297",
          "2024-05-13T16:44:31.252070",
          "2024-05-13T16:44:32.046956",
          "2024-05-13T16:44:32.885077",
          "2024-05-13T16:44:33.670138",
          "2024-05-13T16:44:34.358266",
          "2024-05-13T16:44:35.036707",
          "2024-05-13T16:44:39.607595",
          "2024-05-13T16:44:40.566325",
          "2024-05-13T16:44:41.212299",
          "2024-05-13T16:44:42.040881",
          "2024-05-13T16:44:42.722120",
          "2024-05-13T16:44:43.389850",
          "2024-05-13T16:44:44.102134",
          "2024-05-13T16:44:44.788820",
          "2024-05-13T16:44:45.532452",
          "2024-05-13T16:44:46.185996",
          "2024-05-13T16:44:51.282401",
          "2024-05-13T16:44:52.276365",
          "2024-05-13T16:44:52.958758",
          "2024-05-13T16:44:53.634435",
          "2024-05-13T16:44:54.379482",
          "2024-05-13T16:44:55.043270",
          "2024-05-13T16:44:55.732614",
          "2024-05-13T16:44:56.414845",
          "2024-05-13T16:44:57.126065",
          "2024-05-13T16:44:57.806766",
          "2024-05-13T16:45:03.381054",
          "2024-05-13T16:45:04.120800",
          "2024-05-13T16:45:04.773515",
          "2024-05-13T16:45:05.500989",
          "2024-05-13T16:45:06.183202",
          "2024-05-13T16:45:06.878042",
          "2024-05-13T16:45:07.661703",
          "2024-05-13T16:45:08.327095",
          "2024-05-13T16:45:09.029189",
          "2024-05-13T16:45:09.709574",
          "2024-05-13T16:45:14.179761",
          "2024-05-13T16:45:14.903263",
          "2024-05-13T16:45:15.556104",
          "2024-05-13T16:45:16.237619",
          "2024-05-13T16:45:16.942063",
          "2024-05-13T16:45:17.599447",
          "2024-05-13T16:45:18.402185",
          "2024-05-13T16:45:19.057434",
          "2024-05-13T16:45:19.764477",
          "2024-05-13T16:45:20.453907",
          "2024-05-13T16:45:25.522752",
          "2024-05-13T16:45:26.459285",
          "2024-05-13T16:45:27.104458",
          "2024-05-13T16:45:27.812083",
          "2024-05-13T16:45:28.463424",
          "2024-05-13T16:45:29.192039",
          "2024-05-13T16:45:29.853804",
          "2024-05-13T16:45:30.525602",
          "2024-05-13T16:45:31.209680",
          "2024-05-13T16:45:31.927819",
          "2024-05-13T16:45:36.408056",
          "2024-05-13T16:45:37.346650",
          "2024-05-13T16:45:37.990570",
          "2024-05-13T16:45:38.689901",
          "2024-05-13T16:45:39.371813",
          "2024-05-13T16:45:40.062599",
          "2024-05-13T16:45:40.735383",
          "2024-05-13T16:45:41.448743",
          "2024-05-13T16:45:42.124073",
          "2024-05-13T16:45:42.804389",
          "2024-05-13T16:45:47.268730",
          "2024-05-13T16:45:47.995961",
          "2024-05-13T16:45:49.075259",
          "2024-05-13T16:45:49.701732",
          "2024-05-13T16:45:50.465283",
          "2024-05-13T16:45:51.123429",
          "2024-05-13T16:45:51.814954",
          "2024-05-13T16:45:52.499333",
          "2024-05-13T16:45:53.348708",
          "2024-05-13T16:45:54.120984",
          "2024-05-13T16:45:58.659229",
          "2024-05-13T16:45:59.486644",
          "2024-05-13T16:46:00.265908",
          "2024-05-13T16:46:00.880304",
          "2024-05-13T16:46:01.633285",
          "2024-05-13T16:46:02.338607",
          "2024-05-13T16:46:02.996351",
          "2024-05-13T16:46:04.018583",
          "2024-05-13T16:46:04.671321",
          "2024-05-13T16:46:05.321177",
          "2024-05-13T16:46:10.767642",
          "2024-05-13T16:46:11.363293",
          "2024-05-13T16:46:12.036166",
          "2024-05-13T16:46:12.701830",
          "2024-05-13T16:46:13.384754",
          "2024-05-13T16:46:14.053822",
          "2024-05-13T16:46:14.731627",
          "2024-05-13T16:46:15.411493",
          "2024-05-13T16:46:16.089584",
          "2024-05-13T16:46:16.769042",
          "2024-05-13T16:46:21.528657",
          "2024-05-13T16:46:22.187923",
          "2024-05-13T16:46:22.823040",
          "2024-05-13T16:46:23.767499",
          "2024-05-13T16:46:24.411926",
          "2024-05-13T16:46:25.096076",
          "2024-05-13T16:46:25.774605",
          "2024-05-13T16:46:26.496663",
          "2024-05-13T16:46:27.209016",
          "2024-05-13T16:46:27.913956",
          "2024-05-13T16:46:32.965425",
          "2024-05-13T16:46:33.672703",
          "2024-05-13T16:46:34.350079",
          "2024-05-13T16:46:35.085669",
          "2024-05-13T16:46:35.723690",
          "2024-05-13T16:46:36.405435",
          "2024-05-13T16:46:37.111931",
          "2024-05-13T16:46:37.973711",
          "2024-05-13T16:46:38.613936",
          "2024-05-13T16:46:39.314384",
          "2024-05-13T16:46:44.456351",
          "2024-05-13T16:46:45.334093",
          "2024-05-13T16:46:46.064429",
          "2024-05-13T16:46:46.788100",
          "2024-05-13T16:46:47.512320",
          "2024-05-13T16:46:48.167578",
          "2024-05-13T16:46:48.857161",
          "2024-05-13T16:46:49.536581",
          "2024-05-13T16:46:50.219403",
          "2024-05-13T16:46:50.896810",
          "2024-05-13T16:46:56.204037",
          "2024-05-13T16:46:57.156122",
          "2024-05-13T16:46:57.831635",
          "2024-05-13T16:46:58.498327",
          "2024-05-13T16:46:59.280066",
          "2024-05-13T16:47:00.008512",
          "2024-05-13T16:47:00.712623",
          "2024-05-13T16:47:01.376053",
          "2024-05-13T16:47:02.235151",
          "2024-05-13T16:47:03.018117",
          "2024-05-13T16:47:08.194565",
          "2024-05-13T16:47:08.848660",
          "2024-05-13T16:47:09.512325",
          "2024-05-13T16:47:10.192754",
          "2024-05-13T16:47:10.868837",
          "2024-05-13T16:47:11.548181",
          "2024-05-13T16:47:12.234917",
          "2024-05-13T16:47:12.913421",
          "2024-05-13T16:47:13.596148",
          "2024-05-13T16:47:14.335419",
          "2024-05-13T16:47:19.651695",
          "2024-05-13T16:47:20.305435",
          "2024-05-13T16:47:20.943875",
          "2024-05-13T16:47:21.680604",
          "2024-05-13T16:47:22.353111",
          "2024-05-13T16:47:23.038541",
          "2024-05-13T16:47:23.729990",
          "2024-05-13T16:47:24.423223",
          "2024-05-13T16:47:25.157027",
          "2024-05-13T16:47:25.831947",
          "2024-05-13T16:47:30.354866",
          "2024-05-13T16:47:31.053195",
          "2024-05-13T16:47:31.697196",
          "2024-05-13T16:47:32.378804",
          "2024-05-13T16:47:33.159618",
          "2024-05-13T16:47:33.876946",
          "2024-05-13T16:47:34.550444",
          "2024-05-13T16:47:35.296792",
          "2024-05-13T16:47:35.966096"
         ],
         "hovertemplate": "start_time=%{base}<br>end_time=%{x}<extra></extra>",
         "legendgroup": "",
         "marker": {
          "color": "#636efa",
          "pattern": {
           "shape": ""
          }
         },
         "name": "",
         "offsetgroup": "",
         "orientation": "h",
         "showlegend": false,
         "textposition": "auto",
         "type": "bar",
         "x": [
          2144.671918,
          758.563995,
          635.221959,
          710.098982,
          656.966925,
          700.737953,
          674.232244,
          678.033829,
          679.157973,
          705.487012,
          682.448865,
          671.159029,
          641.49499,
          681.97298,
          683.529854,
          704.177856,
          684.410095,
          690.049887,
          700.691937,
          682.326079,
          675.32897,
          909.139872,
          754.961252,
          660.661936,
          705.976963,
          668.616056,
          689.291715,
          679.409266,
          715.53278,
          672.857047,
          707.046032,
          1150.825023,
          904.809952,
          643.819094,
          691.007137,
          706.97403,
          660.756827,
          684.847117,
          782.816649,
          624.526739,
          725.331068,
          754.029036,
          672.229051,
          670.719862,
          727.17619,
          645.699024,
          716.539144,
          704.210997,
          676.561833,
          675.047873,
          855.089188,
          1158.57625,
          712.374211,
          708.616972,
          774.704218,
          1524.518967,
          679.349899,
          683.603049,
          713.039875,
          667.090177,
          683.546782,
          590.60502,
          666.04805,
          683.068752,
          674.843789,
          676.25022,
          678.154945,
          678.861142,
          676.872968,
          715.09695,
          636.297941,
          618.840694,
          665.880203,
          685.424089,
          992.876053,
          822.783947,
          717.195034,
          666.157008,
          728.044033,
          784.253835,
          652.244092,
          1005.327701,
          888.353587,
          813.657046,
          676.072836,
          792.953015,
          829.953909,
          778.626204,
          686.515331,
          676.894903,
          722.01395,
          957.175254,
          644.643068,
          825.870037,
          679.255009,
          662.504196,
          710.195303,
          685.390949,
          739.609003,
          650.937796,
          864.882946,
          992.132902,
          680.888892,
          674.336195,
          743.070841,
          662.388086,
          687.836171,
          680.712223,
          709.704876,
          679.29411,
          816.252947,
          738.049031,
          650.372267,
          724.740028,
          680.541038,
          693.368197,
          781.280041,
          663.289309,
          700.039863,
          678.900242,
          676.623106,
          715.029955,
          651.278973,
          680.056096,
          700.716019,
          655.662775,
          800.225973,
          653.695106,
          704.9191,
          686.70106,
          688.423872,
          934.231042,
          643.579006,
          705.547809,
          649.739027,
          726.381063,
          659.954071,
          669.512988,
          682.188034,
          715.590238,
          666.205883,
          935.904979,
          642.147779,
          697.456837,
          680.188894,
          688.785076,
          670.914174,
          707.835912,
          672.759056,
          678.405046,
          677.114009,
          724.651098,
          1076.48778,
          623.875141,
          760.629892,
          656.02088,
          689.426899,
          679.695845,
          846.544981,
          769.400835,
          712.787867,
          824.203015,
          769.90199,
          612.058877,
          750.02122,
          700.075865,
          655.558824,
          1018.157005,
          649.783135,
          647.687912,
          720.255136,
          593.548775,
          670.684338,
          663.621188,
          679.40402,
          666.941166,
          675.477981,
          677.83308,
          675.938845,
          677.342892,
          678.683042,
          656.762123,
          632.891178,
          941.390037,
          642.358064,
          681.912184,
          676.401853,
          718.610049,
          706.889867,
          702.301979,
          700.819969,
          704.364062,
          674.64614,
          732.454061,
          635.761022,
          679.220915,
          703.924417,
          850.957155,
          637.69412,
          696.601153,
          702.92902,
          874.56894,
          726.769924,
          720.870018,
          720.999003,
          652.555942,
          686.236143,
          676.729918,
          680.124045,
          674.969912,
          673.089027,
          948.351861,
          671.831607,
          663.825989,
          773.516178,
          721.298933,
          694.689035,
          661.114931,
          855.316877,
          776.013136,
          652.677059,
          651.125193,
          661.02004,
          678.004027,
          673.63286,
          676.875115,
          684.319019,
          675.849199,
          680.093765,
          732.383966,
          675.060988,
          650.625944,
          635.987282,
          733.310938,
          669.597149,
          682.566882,
          688.806772,
          690.686226,
          730.56221,
          671.509981,
          682.163954,
          695.297002,
          641.258955,
          678.792953,
          777.155161,
          714.380026,
          670.768261,
          742.973805,
          666.377068,
          675.134897
         ],
         "xaxis": "x",
         "yaxis": "y"
        }
       ],
       "layout": {
        "barmode": "overlay",
        "legend": {
         "tracegroupgap": 0
        },
        "template": {
         "data": {
          "bar": [
           {
            "error_x": {
             "color": "#2a3f5f"
            },
            "error_y": {
             "color": "#2a3f5f"
            },
            "marker": {
             "line": {
              "color": "white",
              "width": 0.5
             },
             "pattern": {
              "fillmode": "overlay",
              "size": 10,
              "solidity": 0.2
             }
            },
            "type": "bar"
           }
          ],
          "barpolar": [
           {
            "marker": {
             "line": {
              "color": "white",
              "width": 0.5
             },
             "pattern": {
              "fillmode": "overlay",
              "size": 10,
              "solidity": 0.2
             }
            },
            "type": "barpolar"
           }
          ],
          "carpet": [
           {
            "aaxis": {
             "endlinecolor": "#2a3f5f",
             "gridcolor": "#C8D4E3",
             "linecolor": "#C8D4E3",
             "minorgridcolor": "#C8D4E3",
             "startlinecolor": "#2a3f5f"
            },
            "baxis": {
             "endlinecolor": "#2a3f5f",
             "gridcolor": "#C8D4E3",
             "linecolor": "#C8D4E3",
             "minorgridcolor": "#C8D4E3",
             "startlinecolor": "#2a3f5f"
            },
            "type": "carpet"
           }
          ],
          "choropleth": [
           {
            "colorbar": {
             "outlinewidth": 0,
             "ticks": ""
            },
            "type": "choropleth"
           }
          ],
          "contour": [
           {
            "colorbar": {
             "outlinewidth": 0,
             "ticks": ""
            },
            "colorscale": [
             [
              0,
              "#0d0887"
             ],
             [
              0.1111111111111111,
              "#46039f"
             ],
             [
              0.2222222222222222,
              "#7201a8"
             ],
             [
              0.3333333333333333,
              "#9c179e"
             ],
             [
              0.4444444444444444,
              "#bd3786"
             ],
             [
              0.5555555555555556,
              "#d8576b"
             ],
             [
              0.6666666666666666,
              "#ed7953"
             ],
             [
              0.7777777777777778,
              "#fb9f3a"
             ],
             [
              0.8888888888888888,
              "#fdca26"
             ],
             [
              1,
              "#f0f921"
             ]
            ],
            "type": "contour"
           }
          ],
          "contourcarpet": [
           {
            "colorbar": {
             "outlinewidth": 0,
             "ticks": ""
            },
            "type": "contourcarpet"
           }
          ],
          "heatmap": [
           {
            "colorbar": {
             "outlinewidth": 0,
             "ticks": ""
            },
            "colorscale": [
             [
              0,
              "#0d0887"
             ],
             [
              0.1111111111111111,
              "#46039f"
             ],
             [
              0.2222222222222222,
              "#7201a8"
             ],
             [
              0.3333333333333333,
              "#9c179e"
             ],
             [
              0.4444444444444444,
              "#bd3786"
             ],
             [
              0.5555555555555556,
              "#d8576b"
             ],
             [
              0.6666666666666666,
              "#ed7953"
             ],
             [
              0.7777777777777778,
              "#fb9f3a"
             ],
             [
              0.8888888888888888,
              "#fdca26"
             ],
             [
              1,
              "#f0f921"
             ]
            ],
            "type": "heatmap"
           }
          ],
          "heatmapgl": [
           {
            "colorbar": {
             "outlinewidth": 0,
             "ticks": ""
            },
            "colorscale": [
             [
              0,
              "#0d0887"
             ],
             [
              0.1111111111111111,
              "#46039f"
             ],
             [
              0.2222222222222222,
              "#7201a8"
             ],
             [
              0.3333333333333333,
              "#9c179e"
             ],
             [
              0.4444444444444444,
              "#bd3786"
             ],
             [
              0.5555555555555556,
              "#d8576b"
             ],
             [
              0.6666666666666666,
              "#ed7953"
             ],
             [
              0.7777777777777778,
              "#fb9f3a"
             ],
             [
              0.8888888888888888,
              "#fdca26"
             ],
             [
              1,
              "#f0f921"
             ]
            ],
            "type": "heatmapgl"
           }
          ],
          "histogram": [
           {
            "marker": {
             "pattern": {
              "fillmode": "overlay",
              "size": 10,
              "solidity": 0.2
             }
            },
            "type": "histogram"
           }
          ],
          "histogram2d": [
           {
            "colorbar": {
             "outlinewidth": 0,
             "ticks": ""
            },
            "colorscale": [
             [
              0,
              "#0d0887"
             ],
             [
              0.1111111111111111,
              "#46039f"
             ],
             [
              0.2222222222222222,
              "#7201a8"
             ],
             [
              0.3333333333333333,
              "#9c179e"
             ],
             [
              0.4444444444444444,
              "#bd3786"
             ],
             [
              0.5555555555555556,
              "#d8576b"
             ],
             [
              0.6666666666666666,
              "#ed7953"
             ],
             [
              0.7777777777777778,
              "#fb9f3a"
             ],
             [
              0.8888888888888888,
              "#fdca26"
             ],
             [
              1,
              "#f0f921"
             ]
            ],
            "type": "histogram2d"
           }
          ],
          "histogram2dcontour": [
           {
            "colorbar": {
             "outlinewidth": 0,
             "ticks": ""
            },
            "colorscale": [
             [
              0,
              "#0d0887"
             ],
             [
              0.1111111111111111,
              "#46039f"
             ],
             [
              0.2222222222222222,
              "#7201a8"
             ],
             [
              0.3333333333333333,
              "#9c179e"
             ],
             [
              0.4444444444444444,
              "#bd3786"
             ],
             [
              0.5555555555555556,
              "#d8576b"
             ],
             [
              0.6666666666666666,
              "#ed7953"
             ],
             [
              0.7777777777777778,
              "#fb9f3a"
             ],
             [
              0.8888888888888888,
              "#fdca26"
             ],
             [
              1,
              "#f0f921"
             ]
            ],
            "type": "histogram2dcontour"
           }
          ],
          "mesh3d": [
           {
            "colorbar": {
             "outlinewidth": 0,
             "ticks": ""
            },
            "type": "mesh3d"
           }
          ],
          "parcoords": [
           {
            "line": {
             "colorbar": {
              "outlinewidth": 0,
              "ticks": ""
             }
            },
            "type": "parcoords"
           }
          ],
          "pie": [
           {
            "automargin": true,
            "type": "pie"
           }
          ],
          "scatter": [
           {
            "fillpattern": {
             "fillmode": "overlay",
             "size": 10,
             "solidity": 0.2
            },
            "type": "scatter"
           }
          ],
          "scatter3d": [
           {
            "line": {
             "colorbar": {
              "outlinewidth": 0,
              "ticks": ""
             }
            },
            "marker": {
             "colorbar": {
              "outlinewidth": 0,
              "ticks": ""
             }
            },
            "type": "scatter3d"
           }
          ],
          "scattercarpet": [
           {
            "marker": {
             "colorbar": {
              "outlinewidth": 0,
              "ticks": ""
             }
            },
            "type": "scattercarpet"
           }
          ],
          "scattergeo": [
           {
            "marker": {
             "colorbar": {
              "outlinewidth": 0,
              "ticks": ""
             }
            },
            "type": "scattergeo"
           }
          ],
          "scattergl": [
           {
            "marker": {
             "colorbar": {
              "outlinewidth": 0,
              "ticks": ""
             }
            },
            "type": "scattergl"
           }
          ],
          "scattermapbox": [
           {
            "marker": {
             "colorbar": {
              "outlinewidth": 0,
              "ticks": ""
             }
            },
            "type": "scattermapbox"
           }
          ],
          "scatterpolar": [
           {
            "marker": {
             "colorbar": {
              "outlinewidth": 0,
              "ticks": ""
             }
            },
            "type": "scatterpolar"
           }
          ],
          "scatterpolargl": [
           {
            "marker": {
             "colorbar": {
              "outlinewidth": 0,
              "ticks": ""
             }
            },
            "type": "scatterpolargl"
           }
          ],
          "scatterternary": [
           {
            "marker": {
             "colorbar": {
              "outlinewidth": 0,
              "ticks": ""
             }
            },
            "type": "scatterternary"
           }
          ],
          "surface": [
           {
            "colorbar": {
             "outlinewidth": 0,
             "ticks": ""
            },
            "colorscale": [
             [
              0,
              "#0d0887"
             ],
             [
              0.1111111111111111,
              "#46039f"
             ],
             [
              0.2222222222222222,
              "#7201a8"
             ],
             [
              0.3333333333333333,
              "#9c179e"
             ],
             [
              0.4444444444444444,
              "#bd3786"
             ],
             [
              0.5555555555555556,
              "#d8576b"
             ],
             [
              0.6666666666666666,
              "#ed7953"
             ],
             [
              0.7777777777777778,
              "#fb9f3a"
             ],
             [
              0.8888888888888888,
              "#fdca26"
             ],
             [
              1,
              "#f0f921"
             ]
            ],
            "type": "surface"
           }
          ],
          "table": [
           {
            "cells": {
             "fill": {
              "color": "#EBF0F8"
             },
             "line": {
              "color": "white"
             }
            },
            "header": {
             "fill": {
              "color": "#C8D4E3"
             },
             "line": {
              "color": "white"
             }
            },
            "type": "table"
           }
          ]
         },
         "layout": {
          "annotationdefaults": {
           "arrowcolor": "#2a3f5f",
           "arrowhead": 0,
           "arrowwidth": 1
          },
          "autotypenumbers": "strict",
          "coloraxis": {
           "colorbar": {
            "outlinewidth": 0,
            "ticks": ""
           }
          },
          "colorscale": {
           "diverging": [
            [
             0,
             "#8e0152"
            ],
            [
             0.1,
             "#c51b7d"
            ],
            [
             0.2,
             "#de77ae"
            ],
            [
             0.3,
             "#f1b6da"
            ],
            [
             0.4,
             "#fde0ef"
            ],
            [
             0.5,
             "#f7f7f7"
            ],
            [
             0.6,
             "#e6f5d0"
            ],
            [
             0.7,
             "#b8e186"
            ],
            [
             0.8,
             "#7fbc41"
            ],
            [
             0.9,
             "#4d9221"
            ],
            [
             1,
             "#276419"
            ]
           ],
           "sequential": [
            [
             0,
             "#0d0887"
            ],
            [
             0.1111111111111111,
             "#46039f"
            ],
            [
             0.2222222222222222,
             "#7201a8"
            ],
            [
             0.3333333333333333,
             "#9c179e"
            ],
            [
             0.4444444444444444,
             "#bd3786"
            ],
            [
             0.5555555555555556,
             "#d8576b"
            ],
            [
             0.6666666666666666,
             "#ed7953"
            ],
            [
             0.7777777777777778,
             "#fb9f3a"
            ],
            [
             0.8888888888888888,
             "#fdca26"
            ],
            [
             1,
             "#f0f921"
            ]
           ],
           "sequentialminus": [
            [
             0,
             "#0d0887"
            ],
            [
             0.1111111111111111,
             "#46039f"
            ],
            [
             0.2222222222222222,
             "#7201a8"
            ],
            [
             0.3333333333333333,
             "#9c179e"
            ],
            [
             0.4444444444444444,
             "#bd3786"
            ],
            [
             0.5555555555555556,
             "#d8576b"
            ],
            [
             0.6666666666666666,
             "#ed7953"
            ],
            [
             0.7777777777777778,
             "#fb9f3a"
            ],
            [
             0.8888888888888888,
             "#fdca26"
            ],
            [
             1,
             "#f0f921"
            ]
           ]
          },
          "colorway": [
           "#636efa",
           "#EF553B",
           "#00cc96",
           "#ab63fa",
           "#FFA15A",
           "#19d3f3",
           "#FF6692",
           "#B6E880",
           "#FF97FF",
           "#FECB52"
          ],
          "font": {
           "color": "#2a3f5f"
          },
          "geo": {
           "bgcolor": "white",
           "lakecolor": "white",
           "landcolor": "white",
           "showlakes": true,
           "showland": true,
           "subunitcolor": "#C8D4E3"
          },
          "hoverlabel": {
           "align": "left"
          },
          "hovermode": "closest",
          "mapbox": {
           "style": "light"
          },
          "paper_bgcolor": "white",
          "plot_bgcolor": "white",
          "polar": {
           "angularaxis": {
            "gridcolor": "#EBF0F8",
            "linecolor": "#EBF0F8",
            "ticks": ""
           },
           "bgcolor": "white",
           "radialaxis": {
            "gridcolor": "#EBF0F8",
            "linecolor": "#EBF0F8",
            "ticks": ""
           }
          },
          "scene": {
           "xaxis": {
            "backgroundcolor": "white",
            "gridcolor": "#DFE8F3",
            "gridwidth": 2,
            "linecolor": "#EBF0F8",
            "showbackground": true,
            "ticks": "",
            "zerolinecolor": "#EBF0F8"
           },
           "yaxis": {
            "backgroundcolor": "white",
            "gridcolor": "#DFE8F3",
            "gridwidth": 2,
            "linecolor": "#EBF0F8",
            "showbackground": true,
            "ticks": "",
            "zerolinecolor": "#EBF0F8"
           },
           "zaxis": {
            "backgroundcolor": "white",
            "gridcolor": "#DFE8F3",
            "gridwidth": 2,
            "linecolor": "#EBF0F8",
            "showbackground": true,
            "ticks": "",
            "zerolinecolor": "#EBF0F8"
           }
          },
          "shapedefaults": {
           "line": {
            "color": "#2a3f5f"
           }
          },
          "ternary": {
           "aaxis": {
            "gridcolor": "#DFE8F3",
            "linecolor": "#A2B1C6",
            "ticks": ""
           },
           "baxis": {
            "gridcolor": "#DFE8F3",
            "linecolor": "#A2B1C6",
            "ticks": ""
           },
           "bgcolor": "white",
           "caxis": {
            "gridcolor": "#DFE8F3",
            "linecolor": "#A2B1C6",
            "ticks": ""
           }
          },
          "title": {
           "x": 0.05
          },
          "xaxis": {
           "automargin": true,
           "gridcolor": "#EBF0F8",
           "linecolor": "#EBF0F8",
           "ticks": "",
           "title": {
            "standoff": 15
           },
           "zerolinecolor": "#EBF0F8",
           "zerolinewidth": 2
          },
          "yaxis": {
           "automargin": true,
           "gridcolor": "#EBF0F8",
           "linecolor": "#EBF0F8",
           "ticks": "",
           "title": {
            "standoff": 15
           },
           "zerolinecolor": "#EBF0F8",
           "zerolinewidth": 2
          }
         }
        },
        "title": {
         "text": "Server logs"
        },
        "xaxis": {
         "anchor": "y",
         "domain": [
          0,
          1
         ],
         "type": "date"
        },
        "yaxis": {
         "anchor": "x",
         "domain": [
          0,
          1
         ]
        }
       }
      }
     },
     "metadata": {},
     "output_type": "display_data"
    }
   ],
   "source": [
    "px.timeline(\n",
    "    server_df,\n",
    "    x_start=\"start_time\",\n",
    "    x_end=\"end_time\",\n",
    "    title=\"Server logs\",\n",
    "    template=\"plotly_white\"\n",
    ")"
   ]
  },
  {
   "cell_type": "markdown",
   "metadata": {},
   "source": [
    "# Clients"
   ]
  },
  {
   "cell_type": "code",
   "execution_count": 13,
   "metadata": {},
   "outputs": [],
   "source": [
    "def read_client_json(file_path: str):\n",
    "    flattened_local_epochs = []\n",
    "    flattened_swap = []\n",
    "    flattened_send = []\n",
    "    for outer_key, inner_dict in json.loads(open(file_path, \"r\").read()).items():\n",
    "        root_attributes = {k: v for k, v in inner_dict.items() if not isinstance(v, dict)}\n",
    "        if \"start_time_swap\" in root_attributes:\n",
    "            flattened_swap.append({\n",
    "                \"outer_epoch\": outer_key,\n",
    "                \"start_time\": root_attributes[\"start_time_swap\"],\n",
    "                \"end_time\": root_attributes[\"end_time_swap\"],\n",
    "            })\n",
    "        if \"start_time_send\" in root_attributes:\n",
    "            flattened_send.append({\n",
    "                \"outer_epoch\": outer_key,\n",
    "                \"start_time\": root_attributes[\"start_time_send\"],\n",
    "                \"end_time\": root_attributes[\"end_time_send\"],\n",
    "            })\n",
    "        for inner_key, values_dict in inner_dict.items():\n",
    "            if not isinstance(values_dict, dict):\n",
    "                continue\n",
    "            flattened_local_epochs.append({\n",
    "                \"outer_epoch\": outer_key,\n",
    "                \"local_epoch\": inner_key,\n",
    "                **values_dict,\n",
    "                **root_attributes\n",
    "            })\n",
    "\n",
    "    # Convert flattened data to DataFrame\n",
    "    name = os.path.basename(file_path).split(\".\")[0]\n",
    "    \n",
    "    df_local_epochs = pd.DataFrame(flattened_local_epochs)\n",
    "    df_local_epochs[\"name\"] = name\n",
    "\n",
    "    df_swap = pd.DataFrame(flattened_swap)\n",
    "    df_swap[\"name\"] = f\"{name}_swap\"\n",
    "\n",
    "    df_send = pd.DataFrame(flattened_send)\n",
    "    df_send[\"name\"] = f\"{name}_send\"\n",
    "\n",
    "    return df_local_epochs, df_swap, df_send"
   ]
  },
  {
   "cell_type": "code",
   "execution_count": 14,
   "metadata": {},
   "outputs": [
    {
     "data": {
      "text/html": [
       "<div>\n",
       "<style scoped>\n",
       "    .dataframe tbody tr th:only-of-type {\n",
       "        vertical-align: middle;\n",
       "    }\n",
       "\n",
       "    .dataframe tbody tr th {\n",
       "        vertical-align: top;\n",
       "    }\n",
       "\n",
       "    .dataframe thead th {\n",
       "        text-align: right;\n",
       "    }\n",
       "</style>\n",
       "<table border=\"1\" class=\"dataframe\">\n",
       "  <thead>\n",
       "    <tr style=\"text-align: right;\">\n",
       "      <th></th>\n",
       "      <th>outer_epoch</th>\n",
       "      <th>local_epoch</th>\n",
       "      <th>d_loss_real</th>\n",
       "      <th>d_loss_fake</th>\n",
       "      <th>d_total_loss</th>\n",
       "      <th>elapsed_time</th>\n",
       "      <th>start_time</th>\n",
       "      <th>end_time</th>\n",
       "      <th>start_time_send</th>\n",
       "      <th>end_time_send</th>\n",
       "      <th>...</th>\n",
       "      <th>logging_time_end</th>\n",
       "      <th>received_time</th>\n",
       "      <th>sent_time</th>\n",
       "      <th>epoch</th>\n",
       "      <th>is_calculation_time_start</th>\n",
       "      <th>inception_score</th>\n",
       "      <th>is_calculation_time_end</th>\n",
       "      <th>fid_calculation_time_start</th>\n",
       "      <th>fid_score</th>\n",
       "      <th>fid_calculation_time_end</th>\n",
       "    </tr>\n",
       "  </thead>\n",
       "  <tbody>\n",
       "    <tr>\n",
       "      <th>0</th>\n",
       "      <td>0</td>\n",
       "      <td>0</td>\n",
       "      <td>0.458506</td>\n",
       "      <td>0.928804</td>\n",
       "      <td>1.387310</td>\n",
       "      <td>1.247399</td>\n",
       "      <td>2024-05-13 16:42:50.737629890</td>\n",
       "      <td>2024-05-13 16:42:51.974203825</td>\n",
       "      <td>1.715619e+09</td>\n",
       "      <td>1.715619e+09</td>\n",
       "      <td>...</td>\n",
       "      <td>NaN</td>\n",
       "      <td>NaT</td>\n",
       "      <td>NaT</td>\n",
       "      <td>NaN</td>\n",
       "      <td>NaN</td>\n",
       "      <td>NaN</td>\n",
       "      <td>NaN</td>\n",
       "      <td>NaN</td>\n",
       "      <td>NaN</td>\n",
       "      <td>NaN</td>\n",
       "    </tr>\n",
       "    <tr>\n",
       "      <th>1</th>\n",
       "      <td>1</td>\n",
       "      <td>0</td>\n",
       "      <td>0.412562</td>\n",
       "      <td>0.693147</td>\n",
       "      <td>1.105709</td>\n",
       "      <td>0.348445</td>\n",
       "      <td>2024-05-13 16:42:56.086025000</td>\n",
       "      <td>2024-05-13 16:42:56.219267130</td>\n",
       "      <td>1.715619e+09</td>\n",
       "      <td>1.715619e+09</td>\n",
       "      <td>...</td>\n",
       "      <td>NaN</td>\n",
       "      <td>NaT</td>\n",
       "      <td>NaT</td>\n",
       "      <td>NaN</td>\n",
       "      <td>NaN</td>\n",
       "      <td>NaN</td>\n",
       "      <td>NaN</td>\n",
       "      <td>NaN</td>\n",
       "      <td>NaN</td>\n",
       "      <td>NaN</td>\n",
       "    </tr>\n",
       "    <tr>\n",
       "      <th>2</th>\n",
       "      <td>2</td>\n",
       "      <td>0</td>\n",
       "      <td>0.332771</td>\n",
       "      <td>0.693923</td>\n",
       "      <td>1.026694</td>\n",
       "      <td>0.150170</td>\n",
       "      <td>2024-05-13 16:42:56.915130854</td>\n",
       "      <td>2024-05-13 16:42:56.935981989</td>\n",
       "      <td>1.715619e+09</td>\n",
       "      <td>1.715619e+09</td>\n",
       "      <td>...</td>\n",
       "      <td>NaN</td>\n",
       "      <td>NaT</td>\n",
       "      <td>NaT</td>\n",
       "      <td>NaN</td>\n",
       "      <td>NaN</td>\n",
       "      <td>NaN</td>\n",
       "      <td>NaN</td>\n",
       "      <td>NaN</td>\n",
       "      <td>NaN</td>\n",
       "      <td>NaN</td>\n",
       "    </tr>\n",
       "    <tr>\n",
       "      <th>3</th>\n",
       "      <td>3</td>\n",
       "      <td>0</td>\n",
       "      <td>0.323174</td>\n",
       "      <td>0.693147</td>\n",
       "      <td>1.016321</td>\n",
       "      <td>0.180792</td>\n",
       "      <td>2024-05-13 16:42:57.597502947</td>\n",
       "      <td>2024-05-13 16:42:57.611941099</td>\n",
       "      <td>1.715619e+09</td>\n",
       "      <td>1.715619e+09</td>\n",
       "      <td>...</td>\n",
       "      <td>NaN</td>\n",
       "      <td>NaT</td>\n",
       "      <td>NaT</td>\n",
       "      <td>NaN</td>\n",
       "      <td>NaN</td>\n",
       "      <td>NaN</td>\n",
       "      <td>NaN</td>\n",
       "      <td>NaN</td>\n",
       "      <td>NaN</td>\n",
       "      <td>NaN</td>\n",
       "    </tr>\n",
       "    <tr>\n",
       "      <th>4</th>\n",
       "      <td>4</td>\n",
       "      <td>0</td>\n",
       "      <td>0.313262</td>\n",
       "      <td>0.693147</td>\n",
       "      <td>1.006409</td>\n",
       "      <td>0.187893</td>\n",
       "      <td>2024-05-13 16:42:58.284208059</td>\n",
       "      <td>2024-05-13 16:42:58.310095072</td>\n",
       "      <td>1.715619e+09</td>\n",
       "      <td>1.715619e+09</td>\n",
       "      <td>...</td>\n",
       "      <td>NaN</td>\n",
       "      <td>NaT</td>\n",
       "      <td>NaT</td>\n",
       "      <td>NaN</td>\n",
       "      <td>NaN</td>\n",
       "      <td>NaN</td>\n",
       "      <td>NaN</td>\n",
       "      <td>NaN</td>\n",
       "      <td>NaN</td>\n",
       "      <td>NaN</td>\n",
       "    </tr>\n",
       "    <tr>\n",
       "      <th>...</th>\n",
       "      <td>...</td>\n",
       "      <td>...</td>\n",
       "      <td>...</td>\n",
       "      <td>...</td>\n",
       "      <td>...</td>\n",
       "      <td>...</td>\n",
       "      <td>...</td>\n",
       "      <td>...</td>\n",
       "      <td>...</td>\n",
       "      <td>...</td>\n",
       "      <td>...</td>\n",
       "      <td>...</td>\n",
       "      <td>...</td>\n",
       "      <td>...</td>\n",
       "      <td>...</td>\n",
       "      <td>...</td>\n",
       "      <td>...</td>\n",
       "      <td>...</td>\n",
       "      <td>...</td>\n",
       "      <td>...</td>\n",
       "      <td>...</td>\n",
       "    </tr>\n",
       "    <tr>\n",
       "      <th>245</th>\n",
       "      <td>NaN</td>\n",
       "      <td>NaN</td>\n",
       "      <td>NaN</td>\n",
       "      <td>NaN</td>\n",
       "      <td>NaN</td>\n",
       "      <td>0.714380</td>\n",
       "      <td>2024-05-13 16:47:33.159618139</td>\n",
       "      <td>2024-05-13 16:47:33.163618088</td>\n",
       "      <td>NaN</td>\n",
       "      <td>NaN</td>\n",
       "      <td>...</td>\n",
       "      <td>1.715619e+09</td>\n",
       "      <td>2024-05-13 16:47:33.827744961</td>\n",
       "      <td>2024-05-13 16:47:33.163618088</td>\n",
       "      <td>245.0</td>\n",
       "      <td>NaN</td>\n",
       "      <td>NaN</td>\n",
       "      <td>NaN</td>\n",
       "      <td>NaN</td>\n",
       "      <td>NaN</td>\n",
       "      <td>NaN</td>\n",
       "    </tr>\n",
       "    <tr>\n",
       "      <th>246</th>\n",
       "      <td>NaN</td>\n",
       "      <td>NaN</td>\n",
       "      <td>NaN</td>\n",
       "      <td>NaN</td>\n",
       "      <td>NaN</td>\n",
       "      <td>0.670768</td>\n",
       "      <td>2024-05-13 16:47:33.876946926</td>\n",
       "      <td>2024-05-13 16:47:33.879567862</td>\n",
       "      <td>NaN</td>\n",
       "      <td>NaN</td>\n",
       "      <td>...</td>\n",
       "      <td>1.715619e+09</td>\n",
       "      <td>2024-05-13 16:47:34.522380113</td>\n",
       "      <td>2024-05-13 16:47:33.879567862</td>\n",
       "      <td>246.0</td>\n",
       "      <td>NaN</td>\n",
       "      <td>NaN</td>\n",
       "      <td>NaN</td>\n",
       "      <td>NaN</td>\n",
       "      <td>NaN</td>\n",
       "      <td>NaN</td>\n",
       "    </tr>\n",
       "    <tr>\n",
       "      <th>247</th>\n",
       "      <td>NaN</td>\n",
       "      <td>NaN</td>\n",
       "      <td>NaN</td>\n",
       "      <td>NaN</td>\n",
       "      <td>NaN</td>\n",
       "      <td>0.742974</td>\n",
       "      <td>2024-05-13 16:47:34.550444126</td>\n",
       "      <td>2024-05-13 16:47:34.552102804</td>\n",
       "      <td>NaN</td>\n",
       "      <td>NaN</td>\n",
       "      <td>...</td>\n",
       "      <td>1.715619e+09</td>\n",
       "      <td>2024-05-13 16:47:35.230605125</td>\n",
       "      <td>2024-05-13 16:47:34.552102804</td>\n",
       "      <td>247.0</td>\n",
       "      <td>NaN</td>\n",
       "      <td>NaN</td>\n",
       "      <td>NaN</td>\n",
       "      <td>NaN</td>\n",
       "      <td>NaN</td>\n",
       "      <td>NaN</td>\n",
       "    </tr>\n",
       "    <tr>\n",
       "      <th>248</th>\n",
       "      <td>NaN</td>\n",
       "      <td>NaN</td>\n",
       "      <td>NaN</td>\n",
       "      <td>NaN</td>\n",
       "      <td>NaN</td>\n",
       "      <td>0.666377</td>\n",
       "      <td>2024-05-13 16:47:35.296792030</td>\n",
       "      <td>2024-05-13 16:47:35.300291061</td>\n",
       "      <td>NaN</td>\n",
       "      <td>NaN</td>\n",
       "      <td>...</td>\n",
       "      <td>1.715619e+09</td>\n",
       "      <td>2024-05-13 16:47:35.935008049</td>\n",
       "      <td>2024-05-13 16:47:35.300291061</td>\n",
       "      <td>248.0</td>\n",
       "      <td>NaN</td>\n",
       "      <td>NaN</td>\n",
       "      <td>NaN</td>\n",
       "      <td>NaN</td>\n",
       "      <td>NaN</td>\n",
       "      <td>NaN</td>\n",
       "    </tr>\n",
       "    <tr>\n",
       "      <th>249</th>\n",
       "      <td>NaN</td>\n",
       "      <td>NaN</td>\n",
       "      <td>NaN</td>\n",
       "      <td>NaN</td>\n",
       "      <td>NaN</td>\n",
       "      <td>0.675135</td>\n",
       "      <td>2024-05-13 16:47:35.966096878</td>\n",
       "      <td>2024-05-13 16:47:35.968389988</td>\n",
       "      <td>NaN</td>\n",
       "      <td>NaN</td>\n",
       "      <td>...</td>\n",
       "      <td>1.715619e+09</td>\n",
       "      <td>2024-05-13 16:47:36.611696243</td>\n",
       "      <td>2024-05-13 16:47:35.968389988</td>\n",
       "      <td>249.0</td>\n",
       "      <td>NaN</td>\n",
       "      <td>NaN</td>\n",
       "      <td>NaN</td>\n",
       "      <td>NaN</td>\n",
       "      <td>NaN</td>\n",
       "      <td>NaN</td>\n",
       "    </tr>\n",
       "  </tbody>\n",
       "</table>\n",
       "<p>3010 rows × 21 columns</p>\n",
       "</div>"
      ],
      "text/plain": [
       "    outer_epoch local_epoch  d_loss_real  d_loss_fake  d_total_loss  \\\n",
       "0             0           0     0.458506     0.928804      1.387310   \n",
       "1             1           0     0.412562     0.693147      1.105709   \n",
       "2             2           0     0.332771     0.693923      1.026694   \n",
       "3             3           0     0.323174     0.693147      1.016321   \n",
       "4             4           0     0.313262     0.693147      1.006409   \n",
       "..          ...         ...          ...          ...           ...   \n",
       "245         NaN         NaN          NaN          NaN           NaN   \n",
       "246         NaN         NaN          NaN          NaN           NaN   \n",
       "247         NaN         NaN          NaN          NaN           NaN   \n",
       "248         NaN         NaN          NaN          NaN           NaN   \n",
       "249         NaN         NaN          NaN          NaN           NaN   \n",
       "\n",
       "     elapsed_time                    start_time                      end_time  \\\n",
       "0        1.247399 2024-05-13 16:42:50.737629890 2024-05-13 16:42:51.974203825   \n",
       "1        0.348445 2024-05-13 16:42:56.086025000 2024-05-13 16:42:56.219267130   \n",
       "2        0.150170 2024-05-13 16:42:56.915130854 2024-05-13 16:42:56.935981989   \n",
       "3        0.180792 2024-05-13 16:42:57.597502947 2024-05-13 16:42:57.611941099   \n",
       "4        0.187893 2024-05-13 16:42:58.284208059 2024-05-13 16:42:58.310095072   \n",
       "..            ...                           ...                           ...   \n",
       "245      0.714380 2024-05-13 16:47:33.159618139 2024-05-13 16:47:33.163618088   \n",
       "246      0.670768 2024-05-13 16:47:33.876946926 2024-05-13 16:47:33.879567862   \n",
       "247      0.742974 2024-05-13 16:47:34.550444126 2024-05-13 16:47:34.552102804   \n",
       "248      0.666377 2024-05-13 16:47:35.296792030 2024-05-13 16:47:35.300291061   \n",
       "249      0.675135 2024-05-13 16:47:35.966096878 2024-05-13 16:47:35.968389988   \n",
       "\n",
       "     start_time_send  end_time_send  ... logging_time_end  \\\n",
       "0       1.715619e+09   1.715619e+09  ...              NaN   \n",
       "1       1.715619e+09   1.715619e+09  ...              NaN   \n",
       "2       1.715619e+09   1.715619e+09  ...              NaN   \n",
       "3       1.715619e+09   1.715619e+09  ...              NaN   \n",
       "4       1.715619e+09   1.715619e+09  ...              NaN   \n",
       "..               ...            ...  ...              ...   \n",
       "245              NaN            NaN  ...     1.715619e+09   \n",
       "246              NaN            NaN  ...     1.715619e+09   \n",
       "247              NaN            NaN  ...     1.715619e+09   \n",
       "248              NaN            NaN  ...     1.715619e+09   \n",
       "249              NaN            NaN  ...     1.715619e+09   \n",
       "\n",
       "                    received_time                     sent_time  epoch  \\\n",
       "0                             NaT                           NaT    NaN   \n",
       "1                             NaT                           NaT    NaN   \n",
       "2                             NaT                           NaT    NaN   \n",
       "3                             NaT                           NaT    NaN   \n",
       "4                             NaT                           NaT    NaN   \n",
       "..                            ...                           ...    ...   \n",
       "245 2024-05-13 16:47:33.827744961 2024-05-13 16:47:33.163618088  245.0   \n",
       "246 2024-05-13 16:47:34.522380113 2024-05-13 16:47:33.879567862  246.0   \n",
       "247 2024-05-13 16:47:35.230605125 2024-05-13 16:47:34.552102804  247.0   \n",
       "248 2024-05-13 16:47:35.935008049 2024-05-13 16:47:35.300291061  248.0   \n",
       "249 2024-05-13 16:47:36.611696243 2024-05-13 16:47:35.968389988  249.0   \n",
       "\n",
       "     is_calculation_time_start  inception_score  is_calculation_time_end  \\\n",
       "0                          NaN              NaN                      NaN   \n",
       "1                          NaN              NaN                      NaN   \n",
       "2                          NaN              NaN                      NaN   \n",
       "3                          NaN              NaN                      NaN   \n",
       "4                          NaN              NaN                      NaN   \n",
       "..                         ...              ...                      ...   \n",
       "245                        NaN              NaN                      NaN   \n",
       "246                        NaN              NaN                      NaN   \n",
       "247                        NaN              NaN                      NaN   \n",
       "248                        NaN              NaN                      NaN   \n",
       "249                        NaN              NaN                      NaN   \n",
       "\n",
       "     fid_calculation_time_start  fid_score  fid_calculation_time_end  \n",
       "0                           NaN        NaN                       NaN  \n",
       "1                           NaN        NaN                       NaN  \n",
       "2                           NaN        NaN                       NaN  \n",
       "3                           NaN        NaN                       NaN  \n",
       "4                           NaN        NaN                       NaN  \n",
       "..                          ...        ...                       ...  \n",
       "245                         NaN        NaN                       NaN  \n",
       "246                         NaN        NaN                       NaN  \n",
       "247                         NaN        NaN                       NaN  \n",
       "248                         NaN        NaN                       NaN  \n",
       "249                         NaN        NaN                       NaN  \n",
       "\n",
       "[3010 rows x 21 columns]"
      ]
     },
     "execution_count": 14,
     "metadata": {},
     "output_type": "execute_result"
    }
   ],
   "source": [
    "clients_df = pd.concat([pd.concat(read_client_json(file)) for file in logs_files])\n",
    "\n",
    "clients_df[\"start_time\"] = pd.to_datetime(clients_df[\"start_time\"], unit=\"s\")\n",
    "clients_df[\"end_time\"] = pd.to_datetime(clients_df[\"end_time\"], unit=\"s\")\n",
    "\n",
    "server_to_client_df = server_df.copy()\n",
    "server_to_client_df[\"name\"] = \"server_recv\"\n",
    "server_to_client_df[\"start_time\"] = server_to_client_df[\"received_time\"]\n",
    "clients_df = pd.concat([clients_df, server_to_client_df])\n",
    "\n",
    "server_to_client_df = server_df.copy()\n",
    "server_to_client_df[\"name\"] = \"server_sent\"\n",
    "server_to_client_df[\"end_time\"] = server_to_client_df[\"sent_time\"]\n",
    "clients_df = pd.concat([clients_df, server_to_client_df])\n",
    "\n",
    "clients_df"
   ]
  },
  {
   "cell_type": "code",
   "execution_count": 15,
   "metadata": {},
   "outputs": [
    {
     "data": {
      "text/plain": [
       "['worker_1', 'worker_2', 'worker_3', 'worker_4', 'worker_5']"
      ]
     },
     "execution_count": 15,
     "metadata": {},
     "output_type": "execute_result"
    }
   ],
   "source": [
    "only_workers = [f\"worker_{i+1}\" for i in range(len(logs_files))]\n",
    "only_workers"
   ]
  },
  {
   "cell_type": "code",
   "execution_count": 16,
   "metadata": {},
   "outputs": [
    {
     "data": {
      "application/vnd.plotly.v1+json": {
       "config": {
        "plotlyServerURL": "https://plot.ly"
       },
       "data": [
        {
         "hovertemplate": "name=worker_1<br>start_time=%{x}<br>d_total_loss=%{y}<extra></extra>",
         "legendgroup": "worker_1",
         "line": {
          "color": "#636efa",
          "dash": "solid"
         },
         "marker": {
          "symbol": "circle"
         },
         "mode": "lines",
         "name": "worker_1",
         "showlegend": true,
         "type": "scattergl",
         "x": [
          "2024-05-13T16:42:50.737629",
          "2024-05-13T16:42:56.086025",
          "2024-05-13T16:42:56.915130",
          "2024-05-13T16:42:57.597502",
          "2024-05-13T16:42:58.284208",
          "2024-05-13T16:42:58.963675",
          "2024-05-13T16:42:59.663250",
          "2024-05-13T16:43:00.341318",
          "2024-05-13T16:43:01.020434",
          "2024-05-13T16:43:01.720600",
          "2024-05-13T16:43:02.400505",
          "2024-05-13T16:43:06.907312",
          "2024-05-13T16:43:07.701317",
          "2024-05-13T16:43:08.381155",
          "2024-05-13T16:43:09.065099",
          "2024-05-13T16:43:09.749585",
          "2024-05-13T16:43:10.453210",
          "2024-05-13T16:43:11.135013",
          "2024-05-13T16:43:11.817906",
          "2024-05-13T16:43:12.514899",
          "2024-05-13T16:43:13.213220",
          "2024-05-13T16:43:17.882279",
          "2024-05-13T16:43:19.100077",
          "2024-05-13T16:43:19.644016",
          "2024-05-13T16:43:20.330538",
          "2024-05-13T16:43:21.020442",
          "2024-05-13T16:43:21.705763",
          "2024-05-13T16:43:22.392794",
          "2024-05-13T16:43:23.076305",
          "2024-05-13T16:43:23.761101",
          "2024-05-13T16:43:24.454390",
          "2024-05-13T16:43:29.387312",
          "2024-05-13T16:43:30.662272",
          "2024-05-13T16:43:31.502932",
          "2024-05-13T16:43:32.189481",
          "2024-05-13T16:43:32.886656",
          "2024-05-13T16:43:33.577167",
          "2024-05-13T16:43:34.254153",
          "2024-05-13T16:43:34.960027",
          "2024-05-13T16:43:35.667962",
          "2024-05-13T16:43:36.350059",
          "2024-05-13T16:43:41.108532",
          "2024-05-13T16:43:41.985177",
          "2024-05-13T16:43:42.686554",
          "2024-05-13T16:43:43.373609",
          "2024-05-13T16:43:44.065814",
          "2024-05-13T16:43:44.751647",
          "2024-05-13T16:43:45.454530",
          "2024-05-13T16:43:46.167912",
          "2024-05-13T16:43:46.847550",
          "2024-05-13T16:43:47.528088",
          "2024-05-13T16:43:53.114117",
          "2024-05-13T16:43:54.258938",
          "2024-05-13T16:43:55.002073",
          "2024-05-13T16:43:55.708751",
          "2024-05-13T16:43:57.044172",
          "2024-05-13T16:43:58.006267",
          "2024-05-13T16:43:58.695759",
          "2024-05-13T16:43:59.386572",
          "2024-05-13T16:44:00.074315",
          "2024-05-13T16:44:00.768099",
          "2024-05-13T16:44:06.264753",
          "2024-05-13T16:44:06.996916",
          "2024-05-13T16:44:07.679552",
          "2024-05-13T16:44:08.360287",
          "2024-05-13T16:44:09.034316",
          "2024-05-13T16:44:09.713613",
          "2024-05-13T16:44:10.393595",
          "2024-05-13T16:44:11.073792",
          "2024-05-13T16:44:11.749360",
          "2024-05-13T16:44:12.431666",
          "2024-05-13T16:44:16.672001",
          "2024-05-13T16:44:17.420385",
          "2024-05-13T16:44:18.114420",
          "2024-05-13T16:44:18.796990",
          "2024-05-13T16:44:19.764187",
          "2024-05-13T16:44:20.610219",
          "2024-05-13T16:44:21.329221",
          "2024-05-13T16:44:22.012928",
          "2024-05-13T16:44:22.741290",
          "2024-05-13T16:44:23.486571",
          "2024-05-13T16:44:28.015115",
          "2024-05-13T16:44:29.096113",
          "2024-05-13T16:44:29.923515",
          "2024-05-13T16:44:30.827140",
          "2024-05-13T16:44:31.517179",
          "2024-05-13T16:44:32.249968",
          "2024-05-13T16:44:33.185115",
          "2024-05-13T16:44:33.923972",
          "2024-05-13T16:44:34.625046",
          "2024-05-13T16:44:35.316334",
          "2024-05-13T16:44:39.753906",
          "2024-05-13T16:44:40.796000",
          "2024-05-13T16:44:41.494715",
          "2024-05-13T16:44:42.261891",
          "2024-05-13T16:44:42.976122",
          "2024-05-13T16:44:43.658375",
          "2024-05-13T16:44:44.364994",
          "2024-05-13T16:44:45.052021",
          "2024-05-13T16:44:45.765400",
          "2024-05-13T16:44:46.458534",
          "2024-05-13T16:44:51.415987",
          "2024-05-13T16:44:52.499926",
          "2024-05-13T16:44:53.220805",
          "2024-05-13T16:44:53.905523",
          "2024-05-13T16:44:54.628329",
          "2024-05-13T16:44:55.314044",
          "2024-05-13T16:44:56.001710",
          "2024-05-13T16:44:56.690207",
          "2024-05-13T16:44:57.395093",
          "2024-05-13T16:44:58.076240",
          "2024-05-13T16:45:03.513873",
          "2024-05-13T16:45:04.360285",
          "2024-05-13T16:45:05.054384",
          "2024-05-13T16:45:05.757317",
          "2024-05-13T16:45:06.450394",
          "2024-05-13T16:45:07.167360",
          "2024-05-13T16:45:07.898939",
          "2024-05-13T16:45:08.607177",
          "2024-05-13T16:45:09.301974",
          "2024-05-13T16:45:09.981071",
          "2024-05-13T16:45:14.306355",
          "2024-05-13T16:45:15.130440",
          "2024-05-13T16:45:15.825413",
          "2024-05-13T16:45:16.510401",
          "2024-05-13T16:45:17.192686",
          "2024-05-13T16:45:17.875967",
          "2024-05-13T16:45:18.618942",
          "2024-05-13T16:45:19.331705",
          "2024-05-13T16:45:20.017671",
          "2024-05-13T16:45:20.710191",
          "2024-05-13T16:45:25.651724",
          "2024-05-13T16:45:26.689682",
          "2024-05-13T16:45:27.373100",
          "2024-05-13T16:45:28.053905",
          "2024-05-13T16:45:28.735630",
          "2024-05-13T16:45:29.433183",
          "2024-05-13T16:45:30.117100",
          "2024-05-13T16:45:30.794060",
          "2024-05-13T16:45:31.481006",
          "2024-05-13T16:45:32.174664",
          "2024-05-13T16:45:36.551741",
          "2024-05-13T16:45:37.573072",
          "2024-05-13T16:45:38.260874",
          "2024-05-13T16:45:38.947714",
          "2024-05-13T16:45:39.642017",
          "2024-05-13T16:45:40.327279",
          "2024-05-13T16:45:41.005885",
          "2024-05-13T16:45:41.711334",
          "2024-05-13T16:45:42.392477",
          "2024-05-13T16:45:43.073349",
          "2024-05-13T16:45:47.400161",
          "2024-05-13T16:45:48.229511",
          "2024-05-13T16:45:49.250643",
          "2024-05-13T16:45:49.964957",
          "2024-05-13T16:45:50.707333",
          "2024-05-13T16:45:51.398139",
          "2024-05-13T16:45:52.078435",
          "2024-05-13T16:45:52.767344",
          "2024-05-13T16:45:53.563879",
          "2024-05-13T16:45:54.353835",
          "2024-05-13T16:45:58.781736",
          "2024-05-13T16:45:59.707648",
          "2024-05-13T16:46:00.443716",
          "2024-05-13T16:46:01.152127",
          "2024-05-13T16:46:01.855451",
          "2024-05-13T16:46:02.569442",
          "2024-05-13T16:46:03.331267",
          "2024-05-13T16:46:04.186235",
          "2024-05-13T16:46:04.913485",
          "2024-05-13T16:46:05.592819",
          "2024-05-13T16:46:10.901371",
          "2024-05-13T16:46:11.615246",
          "2024-05-13T16:46:12.292816",
          "2024-05-13T16:46:12.972591",
          "2024-05-13T16:46:13.649295",
          "2024-05-13T16:46:14.326863",
          "2024-05-13T16:46:15.000540",
          "2024-05-13T16:46:15.679600",
          "2024-05-13T16:46:16.359066",
          "2024-05-13T16:46:17.037771",
          "2024-05-13T16:46:21.648025",
          "2024-05-13T16:46:22.409260",
          "2024-05-13T16:46:23.180438",
          "2024-05-13T16:46:24.004210",
          "2024-05-13T16:46:24.683604",
          "2024-05-13T16:46:25.364967",
          "2024-05-13T16:46:26.044200",
          "2024-05-13T16:46:26.769703",
          "2024-05-13T16:46:27.451227",
          "2024-05-13T16:46:28.181638",
          "2024-05-13T16:46:33.103192",
          "2024-05-13T16:46:33.911260",
          "2024-05-13T16:46:34.615041",
          "2024-05-13T16:46:35.307556",
          "2024-05-13T16:46:35.988349",
          "2024-05-13T16:46:36.673939",
          "2024-05-13T16:46:37.394891",
          "2024-05-13T16:46:38.197352",
          "2024-05-13T16:46:38.890568",
          "2024-05-13T16:46:39.581565",
          "2024-05-13T16:46:44.559835",
          "2024-05-13T16:46:45.530608",
          "2024-05-13T16:46:46.295114",
          "2024-05-13T16:46:47.045179",
          "2024-05-13T16:46:47.745131",
          "2024-05-13T16:46:48.434036",
          "2024-05-13T16:46:49.114540",
          "2024-05-13T16:46:49.807770",
          "2024-05-13T16:46:50.486042",
          "2024-05-13T16:46:51.168835",
          "2024-05-13T16:46:56.341726",
          "2024-05-13T16:46:57.387628",
          "2024-05-13T16:46:58.084264",
          "2024-05-13T16:46:58.766835",
          "2024-05-13T16:46:59.489786",
          "2024-05-13T16:47:00.246043",
          "2024-05-13T16:47:00.959769",
          "2024-05-13T16:47:01.665374",
          "2024-05-13T16:47:02.583418",
          "2024-05-13T16:47:03.255810",
          "2024-05-13T16:47:08.292878",
          "2024-05-13T16:47:09.097028",
          "2024-05-13T16:47:09.778405",
          "2024-05-13T16:47:10.462670",
          "2024-05-13T16:47:11.141550",
          "2024-05-13T16:47:11.824866",
          "2024-05-13T16:47:12.501812",
          "2024-05-13T16:47:13.185920",
          "2024-05-13T16:47:13.863717",
          "2024-05-13T16:47:14.598245",
          "2024-05-13T16:47:19.762989",
          "2024-05-13T16:47:20.533493",
          "2024-05-13T16:47:21.220141",
          "2024-05-13T16:47:21.936546",
          "2024-05-13T16:47:22.621729",
          "2024-05-13T16:47:23.308120",
          "2024-05-13T16:47:23.998625",
          "2024-05-13T16:47:24.708220",
          "2024-05-13T16:47:25.399653",
          "2024-05-13T16:47:26.102252",
          "2024-05-13T16:47:30.470409",
          "2024-05-13T16:47:31.285900",
          "2024-05-13T16:47:31.962872",
          "2024-05-13T16:47:32.669064",
          "2024-05-13T16:47:33.407979",
          "2024-05-13T16:47:34.138962",
          "2024-05-13T16:47:34.839682",
          "2024-05-13T16:47:35.552251",
          "2024-05-13T16:47:36.232372",
          "2024-05-13T16:47:36.925392"
         ],
         "xaxis": "x",
         "y": [
          1.3873101472854614,
          1.105709433555603,
          1.0266941785812378,
          1.0163214206695557,
          1.0064088106155396,
          1.013429045677185,
          1.0158952474594116,
          1.025237798690796,
          1.006411075592041,
          1.013980507850647,
          1.173275351524353,
          1.190972924232483,
          1.3399633169174194,
          1.6814011335372925,
          1.6239830255508423,
          1.643807053565979,
          1.3480966091156006,
          1.1169008016586304,
          1.1576203107833862,
          1.0162938833236694,
          1.008711338043213,
          1.0227147340774536,
          1.0073895454406738,
          1.0066910982131958,
          1.0197932720184326,
          1.0151785612106323,
          1.0454590320587158,
          1.0398283004760742,
          1.4034606218338013,
          1.3164747953414917,
          1.5835973024368286,
          1.5500009059906006,
          1.534196376800537,
          1.2850781679153442,
          1.246911883354187,
          1.306567668914795,
          1.4374865293502808,
          1.20119047164917,
          1.330869197845459,
          1.0601884126663208,
          1.050418734550476,
          1.1282159090042114,
          1.127820372581482,
          1.612147331237793,
          1.627010464668274,
          1.5745186805725098,
          1.305168628692627,
          1.2134759426116943,
          1.6572797298431396,
          1.5983725786209106,
          1.2504655122756958,
          1.1511766910552979,
          1.105607509613037,
          1.040903091430664,
          1.025445818901062,
          1.0518075227737427,
          1.153733730316162,
          1.127847671508789,
          1.2877800464630127,
          1.316011905670166,
          1.2617685794830322,
          1.1574879884719849,
          1.1609376668930054,
          1.2945419549942017,
          1.242626428604126,
          1.2442426681518555,
          1.2160207033157349,
          1.3480842113494873,
          1.2938185930252075,
          1.2971408367156982,
          1.3464999198913574,
          1.2782496213912964,
          1.373769760131836,
          1.400200366973877,
          1.3433698415756226,
          1.3079192638397217,
          1.341763973236084,
          1.3141188621520996,
          1.3425959348678589,
          1.3306834697723389,
          1.309558391571045,
          1.3846724033355713,
          1.4363559484481812,
          1.4341256618499756,
          1.3899102210998535,
          1.3600835800170898,
          1.4202790260314941,
          1.362661600112915,
          1.3644888401031494,
          1.3493579626083374,
          1.3851909637451172,
          1.3568867444992065,
          1.3395113945007324,
          1.4165884256362915,
          1.4118704795837402,
          1.328653335571289,
          1.3932732343673706,
          1.335620641708374,
          1.33231520652771,
          1.3343145847320557,
          1.366957426071167,
          1.4033446311950684,
          1.4592087268829346,
          1.4544179439544678,
          1.4390480518341064,
          1.3688178062438965,
          1.4084241390228271,
          1.3682544231414795,
          1.2735226154327393,
          1.3594621419906616,
          1.4189302921295166,
          1.3366100788116455,
          1.320112705230713,
          1.2572166919708252,
          1.346513032913208,
          1.3486075401306152,
          1.3579093217849731,
          1.3625984191894531,
          1.3198306560516357,
          1.3036301136016846,
          1.3117344379425049,
          1.3786758184432983,
          1.3279409408569336,
          1.292643427848816,
          1.350818395614624,
          1.3862942457199097,
          1.3862853050231934,
          1.3862943649291992,
          1.3862839937210083,
          1.3862720727920532,
          1.3862943649291992,
          1.3862941265106201,
          1.3862943649291992,
          1.3862943649291992,
          1.3858122825622559,
          1.3862943649291992,
          1.3863003253936768,
          1.386293649673462,
          1.385401725769043,
          1.386286735534668,
          1.3862943649291992,
          1.3862941265106201,
          1.386290431022644,
          1.386284351348877,
          1.3839595317840576,
          1.3835630416870117,
          1.3388237953186035,
          1.3482592105865479,
          1.3312040567398071,
          1.3368139266967773,
          1.2984099388122559,
          1.3781477212905884,
          1.4182088375091553,
          1.4183695316314697,
          1.3407843112945557,
          1.3768103122711182,
          1.386293649673462,
          1.3861103057861328,
          1.3845572471618652,
          1.3862943649291992,
          1.3862943649291992,
          1.3862943649291992,
          1.3862943649291992,
          1.3862941265106201,
          1.3862943649291992,
          1.3862943649291992,
          1.3862932920455933,
          1.3862943649291992,
          1.3862941265106201,
          1.3862943649291992,
          1.3862943649291992,
          1.3862943649291992,
          1.3862943649291992,
          1.3862943649291992,
          1.3862943649291992,
          1.3862943649291992,
          1.3862943649291992,
          1.3862943649291992,
          1.3862943649291992,
          1.3862943649291992,
          1.3862943649291992,
          1.3862943649291992,
          1.3862943649291992,
          1.3862943649291992,
          1.3862943649291992,
          1.3862955570220947,
          1.3862943649291992,
          1.3862943649291992,
          1.3862943649291992,
          1.3862943649291992,
          1.3862943649291992,
          1.3862943649291992,
          1.3862943649291992,
          1.3862943649291992,
          1.3862923383712769,
          1.3862943649291992,
          1.3862736225128174,
          1.3862943649291992,
          1.3862943649291992,
          1.3862943649291992,
          1.3862943649291992,
          1.3862943649291992,
          1.3862943649291992,
          1.3862943649291992,
          1.3862943649291992,
          1.3862943649291992,
          1.3862943649291992,
          1.3862943649291992,
          1.3862943649291992,
          1.3862943649291992,
          1.3862943649291992,
          1.3862943649291992,
          1.3862943649291992,
          1.3862943649291992,
          1.3862943649291992,
          1.3862943649291992,
          1.3862943649291992,
          1.3862948417663574,
          1.3862943649291992,
          1.3862943649291992,
          1.3862943649291992,
          1.3862943649291992,
          1.3862943649291992,
          1.3862943649291992,
          1.3862943649291992,
          1.3862943649291992,
          1.3862943649291992,
          1.3862943649291992,
          1.3862943649291992,
          1.3862943649291992,
          1.3862943649291992,
          1.3862943649291992,
          1.3862943649291992,
          1.3862943649291992,
          1.3862988948822021,
          1.3862943649291992,
          1.3863005638122559,
          1.386293649673462,
          1.386293649673462,
          1.3824663162231445,
          1.400322437286377,
          1.380624532699585,
          1.363816499710083,
          1.393784523010254,
          1.386239767074585,
          1.3862943649291992,
          1.3862943649291992,
          1.3862943649291992,
          1.3862943649291992,
          1.3862943649291992,
          1.3862944841384888
         ],
         "yaxis": "y"
        },
        {
         "hovertemplate": "name=worker_2<br>start_time=%{x}<br>d_total_loss=%{y}<extra></extra>",
         "legendgroup": "worker_2",
         "line": {
          "color": "#EF553B",
          "dash": "solid"
         },
         "marker": {
          "symbol": "circle"
         },
         "mode": "lines",
         "name": "worker_2",
         "showlegend": true,
         "type": "scattergl",
         "x": [
          "2024-05-13T16:42:50.740649",
          "2024-05-13T16:42:56.061542",
          "2024-05-13T16:42:56.916248",
          "2024-05-13T16:42:57.598393",
          "2024-05-13T16:42:58.286505",
          "2024-05-13T16:42:58.964912",
          "2024-05-13T16:42:59.663973",
          "2024-05-13T16:43:00.343273",
          "2024-05-13T16:43:01.023516",
          "2024-05-13T16:43:01.713783",
          "2024-05-13T16:43:02.401979",
          "2024-05-13T16:43:06.910773",
          "2024-05-13T16:43:07.703211",
          "2024-05-13T16:43:08.382760",
          "2024-05-13T16:43:09.066709",
          "2024-05-13T16:43:09.755706",
          "2024-05-13T16:43:10.455158",
          "2024-05-13T16:43:11.136975",
          "2024-05-13T16:43:11.821018",
          "2024-05-13T16:43:12.517621",
          "2024-05-13T16:43:13.216535",
          "2024-05-13T16:43:17.875715",
          "2024-05-13T16:43:19.028063",
          "2024-05-13T16:43:19.646987",
          "2024-05-13T16:43:20.334141",
          "2024-05-13T16:43:21.023932",
          "2024-05-13T16:43:21.708671",
          "2024-05-13T16:43:22.395459",
          "2024-05-13T16:43:23.078746",
          "2024-05-13T16:43:23.763196",
          "2024-05-13T16:43:24.455528",
          "2024-05-13T16:43:29.388612",
          "2024-05-13T16:43:30.676358",
          "2024-05-13T16:43:31.503118",
          "2024-05-13T16:43:32.192195",
          "2024-05-13T16:43:32.888586",
          "2024-05-13T16:43:33.578161",
          "2024-05-13T16:43:34.256983",
          "2024-05-13T16:43:34.962076",
          "2024-05-13T16:43:35.671541",
          "2024-05-13T16:43:36.353173",
          "2024-05-13T16:43:41.136030",
          "2024-05-13T16:43:41.987343",
          "2024-05-13T16:43:42.689315",
          "2024-05-13T16:43:43.375130",
          "2024-05-13T16:43:44.068310",
          "2024-05-13T16:43:44.755758",
          "2024-05-13T16:43:45.466522",
          "2024-05-13T16:43:46.169888",
          "2024-05-13T16:43:46.850754",
          "2024-05-13T16:43:47.530713",
          "2024-05-13T16:43:53.122952",
          "2024-05-13T16:43:54.315155",
          "2024-05-13T16:43:55.006825",
          "2024-05-13T16:43:55.711519",
          "2024-05-13T16:43:57.083971",
          "2024-05-13T16:43:58.010508",
          "2024-05-13T16:43:58.697376",
          "2024-05-13T16:43:59.388659",
          "2024-05-13T16:44:00.076885",
          "2024-05-13T16:44:00.770910",
          "2024-05-13T16:44:06.268023",
          "2024-05-13T16:44:06.998520",
          "2024-05-13T16:44:07.679983",
          "2024-05-13T16:44:08.361373",
          "2024-05-13T16:44:09.035582",
          "2024-05-13T16:44:09.715354",
          "2024-05-13T16:44:10.396759",
          "2024-05-13T16:44:11.075936",
          "2024-05-13T16:44:11.750896",
          "2024-05-13T16:44:12.433387",
          "2024-05-13T16:44:16.674787",
          "2024-05-13T16:44:17.422778",
          "2024-05-13T16:44:18.115677",
          "2024-05-13T16:44:18.800022",
          "2024-05-13T16:44:19.768497",
          "2024-05-13T16:44:20.615749",
          "2024-05-13T16:44:21.330677",
          "2024-05-13T16:44:22.014489",
          "2024-05-13T16:44:22.941416",
          "2024-05-13T16:44:23.488901",
          "2024-05-13T16:44:27.979492",
          "2024-05-13T16:44:29.113927",
          "2024-05-13T16:44:30.225708",
          "2024-05-13T16:44:30.827130",
          "2024-05-13T16:44:31.519798",
          "2024-05-13T16:44:32.354873",
          "2024-05-13T16:44:33.264592",
          "2024-05-13T16:44:33.926344",
          "2024-05-13T16:44:34.627990",
          "2024-05-13T16:44:35.319406",
          "2024-05-13T16:44:39.788470",
          "2024-05-13T16:44:40.796618",
          "2024-05-13T16:44:41.500879",
          "2024-05-13T16:44:42.263324",
          "2024-05-13T16:44:42.978121",
          "2024-05-13T16:44:43.660657",
          "2024-05-13T16:44:44.366843",
          "2024-05-13T16:44:45.054420",
          "2024-05-13T16:44:45.767474",
          "2024-05-13T16:44:46.460608",
          "2024-05-13T16:44:51.439199",
          "2024-05-13T16:44:52.504023",
          "2024-05-13T16:44:53.221218",
          "2024-05-13T16:44:53.908679",
          "2024-05-13T16:44:54.629280",
          "2024-05-13T16:44:55.316602",
          "2024-05-13T16:44:56.004156",
          "2024-05-13T16:44:56.695389",
          "2024-05-13T16:44:57.396775",
          "2024-05-13T16:44:58.079356",
          "2024-05-13T16:45:03.498464",
          "2024-05-13T16:45:04.361393",
          "2024-05-13T16:45:05.065643",
          "2024-05-13T16:45:05.758522",
          "2024-05-13T16:45:06.453983",
          "2024-05-13T16:45:07.181716",
          "2024-05-13T16:45:07.899283",
          "2024-05-13T16:45:08.608765",
          "2024-05-13T16:45:09.303472",
          "2024-05-13T16:45:09.982738",
          "2024-05-13T16:45:14.305828",
          "2024-05-13T16:45:15.132597",
          "2024-05-13T16:45:15.826179",
          "2024-05-13T16:45:16.513648",
          "2024-05-13T16:45:17.195354",
          "2024-05-13T16:45:17.882267",
          "2024-05-13T16:45:18.621420",
          "2024-05-13T16:45:19.334916",
          "2024-05-13T16:45:20.021590",
          "2024-05-13T16:45:20.712240",
          "2024-05-13T16:45:25.632635",
          "2024-05-13T16:45:26.691908",
          "2024-05-13T16:45:27.375216",
          "2024-05-13T16:45:28.057614",
          "2024-05-13T16:45:28.738056",
          "2024-05-13T16:45:29.435422",
          "2024-05-13T16:45:30.120207",
          "2024-05-13T16:45:30.797554",
          "2024-05-13T16:45:31.482629",
          "2024-05-13T16:45:32.183943",
          "2024-05-13T16:45:36.522736",
          "2024-05-13T16:45:37.575711",
          "2024-05-13T16:45:38.264227",
          "2024-05-13T16:45:38.951270",
          "2024-05-13T16:45:39.644402",
          "2024-05-13T16:45:40.329746",
          "2024-05-13T16:45:41.006810",
          "2024-05-13T16:45:41.712606",
          "2024-05-13T16:45:42.394890",
          "2024-05-13T16:45:43.076349",
          "2024-05-13T16:45:47.395938",
          "2024-05-13T16:45:48.231337",
          "2024-05-13T16:45:49.251582",
          "2024-05-13T16:45:49.967154",
          "2024-05-13T16:45:50.709424",
          "2024-05-13T16:45:51.400613",
          "2024-05-13T16:45:52.081463",
          "2024-05-13T16:45:52.769806",
          "2024-05-13T16:45:53.585083",
          "2024-05-13T16:45:54.355581",
          "2024-05-13T16:45:58.802929",
          "2024-05-13T16:45:59.705991",
          "2024-05-13T16:46:00.445774",
          "2024-05-13T16:46:01.151338",
          "2024-05-13T16:46:01.857827",
          "2024-05-13T16:46:02.570698",
          "2024-05-13T16:46:03.336359",
          "2024-05-13T16:46:04.194873",
          "2024-05-13T16:46:04.915940",
          "2024-05-13T16:46:05.600900",
          "2024-05-13T16:46:10.885401",
          "2024-05-13T16:46:11.618172",
          "2024-05-13T16:46:12.294163",
          "2024-05-13T16:46:12.975615",
          "2024-05-13T16:46:13.650281",
          "2024-05-13T16:46:14.328473",
          "2024-05-13T16:46:15.007456",
          "2024-05-13T16:46:15.681538",
          "2024-05-13T16:46:16.360359",
          "2024-05-13T16:46:17.038964",
          "2024-05-13T16:46:21.649257",
          "2024-05-13T16:46:22.410820",
          "2024-05-13T16:46:23.218889",
          "2024-05-13T16:46:24.005520",
          "2024-05-13T16:46:24.686534",
          "2024-05-13T16:46:25.366580",
          "2024-05-13T16:46:26.045969",
          "2024-05-13T16:46:26.841837",
          "2024-05-13T16:46:27.452373",
          "2024-05-13T16:46:28.184056",
          "2024-05-13T16:46:33.106595",
          "2024-05-13T16:46:33.913380",
          "2024-05-13T16:46:34.617506",
          "2024-05-13T16:46:35.308654",
          "2024-05-13T16:46:35.990953",
          "2024-05-13T16:46:36.678113",
          "2024-05-13T16:46:37.648895",
          "2024-05-13T16:46:38.198335",
          "2024-05-13T16:46:38.892878",
          "2024-05-13T16:46:39.582674",
          "2024-05-13T16:46:44.590108",
          "2024-05-13T16:46:45.697309",
          "2024-05-13T16:46:46.297930",
          "2024-05-13T16:46:47.139161",
          "2024-05-13T16:46:47.748260",
          "2024-05-13T16:46:48.436411",
          "2024-05-13T16:46:49.116478",
          "2024-05-13T16:46:49.809764",
          "2024-05-13T16:46:50.488831",
          "2024-05-13T16:46:51.169686",
          "2024-05-13T16:46:56.346729",
          "2024-05-13T16:46:57.402768",
          "2024-05-13T16:46:58.087107",
          "2024-05-13T16:46:58.769978",
          "2024-05-13T16:46:59.636600",
          "2024-05-13T16:47:00.290128",
          "2024-05-13T16:47:00.962568",
          "2024-05-13T16:47:01.667695",
          "2024-05-13T16:47:02.669455",
          "2024-05-13T16:47:03.256383",
          "2024-05-13T16:47:08.313767",
          "2024-05-13T16:47:09.099655",
          "2024-05-13T16:47:09.779496",
          "2024-05-13T16:47:10.464122",
          "2024-05-13T16:47:11.143205",
          "2024-05-13T16:47:11.826498",
          "2024-05-13T16:47:12.504590",
          "2024-05-13T16:47:13.187479",
          "2024-05-13T16:47:13.865337",
          "2024-05-13T16:47:14.599514",
          "2024-05-13T16:47:19.790446",
          "2024-05-13T16:47:20.534816",
          "2024-05-13T16:47:21.227912",
          "2024-05-13T16:47:21.939386",
          "2024-05-13T16:47:22.624406",
          "2024-05-13T16:47:23.309705",
          "2024-05-13T16:47:23.999023",
          "2024-05-13T16:47:24.709731",
          "2024-05-13T16:47:25.402868",
          "2024-05-13T16:47:26.103265",
          "2024-05-13T16:47:30.468477",
          "2024-05-13T16:47:31.287785",
          "2024-05-13T16:47:31.965672",
          "2024-05-13T16:47:32.679934",
          "2024-05-13T16:47:33.416335",
          "2024-05-13T16:47:34.140280",
          "2024-05-13T16:47:34.840095",
          "2024-05-13T16:47:35.551604",
          "2024-05-13T16:47:36.235267",
          "2024-05-13T16:47:36.931135"
         ],
         "xaxis": "x",
         "y": [
          1.4535731077194214,
          1.1229223012924194,
          1.0549522638320923,
          1.1453303098678589,
          1.006408929824829,
          1.0126978158950806,
          1.0159062147140503,
          1.0064088106155396,
          1.0072861909866333,
          1.0064091682434082,
          1.0114328861236572,
          1.0159143209457397,
          1.356839656829834,
          1.6265233755111694,
          1.6346311569213867,
          1.6265232563018799,
          1.6265242099761963,
          1.6265232563018799,
          1.6270411014556885,
          1.6265232563018799,
          1.6270153522491455,
          1.626523733139038,
          1.6265232563018799,
          1.6265232563018799,
          1.6265232563018799,
          1.6265232563018799,
          1.6265232563018799,
          1.626528024673462,
          1.626395344734192,
          1.5484778881072998,
          1.2093991041183472,
          1.2255501747131348,
          1.569797158241272,
          1.6340371370315552,
          1.5393705368041992,
          1.4183650016784668,
          1.3091967105865479,
          1.4226508140563965,
          1.2355005741119385,
          1.3795968294143677,
          1.2013367414474487,
          1.165028691291809,
          1.6182308197021484,
          1.4950803518295288,
          1.3499202728271484,
          1.3160252571105957,
          1.242342233657837,
          1.5594156980514526,
          1.6222347021102905,
          1.6110175848007202,
          1.6360217332839966,
          1.6265263557434082,
          1.6343907117843628,
          1.6360249519348145,
          1.6307045221328735,
          1.6379592418670654,
          1.6265232563018799,
          1.626523494720459,
          1.6265232563018799,
          1.6359575986862183,
          1.6265232563018799,
          1.6269917488098145,
          1.6265233755111694,
          1.5944232940673828,
          1.5868186950683594,
          1.6436700820922852,
          1.582826018333435,
          1.5312983989715576,
          1.5516588687896729,
          1.5717341899871826,
          1.5428411960601807,
          1.5618155002593994,
          1.426042914390564,
          1.4189858436584473,
          1.5531554222106934,
          1.4467968940734863,
          1.3893826007843018,
          1.3284759521484375,
          1.351135015487671,
          1.4231228828430176,
          1.3190938234329224,
          1.3197757005691528,
          1.2622405290603638,
          1.2806531190872192,
          1.24649977684021,
          1.4662832021713257,
          1.4426054954528809,
          1.403516173362732,
          1.4180222749710083,
          1.5729575157165527,
          1.5431954860687256,
          1.4133050441741943,
          1.412005066871643,
          1.3552799224853516,
          1.325395107269287,
          1.5213639736175537,
          1.5302979946136475,
          1.5865402221679688,
          1.4314074516296387,
          1.3999309539794922,
          1.4139807224273682,
          1.322380781173706,
          1.417676568031311,
          1.2882918119430542,
          1.3885910511016846,
          1.4264763593673706,
          1.3766295909881592,
          1.3862428665161133,
          1.3858885765075684,
          1.3632054328918457,
          1.3628901243209839,
          1.412697196006775,
          1.4375057220458984,
          1.3718150854110718,
          1.362851858139038,
          1.3678953647613525,
          1.3687667846679688,
          1.2448339462280273,
          1.1285476684570312,
          1.1385455131530762,
          1.479354977607727,
          1.4588732719421387,
          1.230691909790039,
          1.4315539598464966,
          1.517932653427124,
          1.4708527326583862,
          1.2426927089691162,
          1.3746235370635986,
          1.381277084350586,
          1.3862946033477783,
          1.35015070438385,
          1.368818759918213,
          1.4020230770111084,
          1.4735852479934692,
          1.392359733581543,
          1.3858788013458252,
          1.403998613357544,
          1.3862950801849365,
          1.385124921798706,
          1.4007048606872559,
          1.4078088998794556,
          1.5019376277923584,
          1.3862943649291992,
          1.4231431484222412,
          1.3862943649291992,
          1.3862943649291992,
          1.3862943649291992,
          1.3862943649291992,
          1.3862943649291992,
          1.3862943649291992,
          1.3862943649291992,
          1.3862943649291992,
          1.3862943649291992,
          1.3862943649291992,
          1.3862943649291992,
          1.3862943649291992,
          1.3862943649291992,
          1.3862943649291992,
          1.3862943649291992,
          1.3862943649291992,
          1.3862943649291992,
          1.3862943649291992,
          1.3862943649291992,
          1.3862943649291992,
          1.3862943649291992,
          1.3862943649291992,
          1.3862943649291992,
          1.3862943649291992,
          1.3862943649291992,
          1.3862943649291992,
          1.3862943649291992,
          1.3862943649291992,
          1.3862943649291992,
          1.3862943649291992,
          1.3862953186035156,
          1.3862943649291992,
          1.3862943649291992,
          1.3862943649291992,
          1.3862943649291992,
          1.3862943649291992,
          1.3862943649291992,
          1.3862943649291992,
          1.3862943649291992,
          1.3862943649291992,
          1.3862943649291992,
          1.3862943649291992,
          1.3862943649291992,
          1.3862943649291992,
          1.3862943649291992,
          1.3862943649291992,
          1.3862943649291992,
          1.3862943649291992,
          1.3862943649291992,
          1.3862943649291992,
          1.3862943649291992,
          1.3862943649291992,
          1.3862943649291992,
          1.3862943649291992,
          1.3862943649291992,
          1.3862943649291992,
          1.3862943649291992,
          1.3862943649291992,
          1.3862943649291992,
          1.3862943649291992,
          1.3862943649291992,
          1.3862943649291992,
          1.3862943649291992,
          1.3862943649291992,
          1.3862943649291992,
          1.3862943649291992,
          1.3862943649291992,
          1.3862943649291992,
          1.3862943649291992,
          1.3862943649291992,
          1.3862943649291992,
          1.3862943649291992,
          1.3862943649291992,
          1.3862943649291992,
          1.3862943649291992,
          1.3862943649291992,
          1.3862943649291992,
          1.3862943649291992,
          1.3862943649291992,
          1.3862943649291992,
          1.3862943649291992,
          1.3862943649291992,
          1.3862943649291992,
          1.3862943649291992,
          1.3862943649291992,
          1.3862943649291992,
          1.3862943649291992,
          1.3862943649291992,
          1.3862943649291992,
          1.3862943649291992,
          1.3862943649291992,
          1.3862943649291992,
          1.3862943649291992,
          1.3862943649291992,
          1.3862943649291992,
          1.3862943649291992,
          1.3862943649291992,
          1.3862943649291992,
          1.3862943649291992,
          1.3862943649291992,
          1.3862943649291992,
          1.3862943649291992,
          1.3862943649291992,
          1.3862943649291992,
          1.3862943649291992,
          1.3862943649291992,
          1.3862943649291992
         ],
         "yaxis": "y"
        },
        {
         "hovertemplate": "name=worker_3<br>start_time=%{x}<br>d_total_loss=%{y}<extra></extra>",
         "legendgroup": "worker_3",
         "line": {
          "color": "#00cc96",
          "dash": "solid"
         },
         "marker": {
          "symbol": "circle"
         },
         "mode": "lines",
         "name": "worker_3",
         "showlegend": true,
         "type": "scattergl",
         "x": [
          "2024-05-13T16:42:50.741840",
          "2024-05-13T16:42:56.087944",
          "2024-05-13T16:42:56.917386",
          "2024-05-13T16:42:57.600700",
          "2024-05-13T16:42:58.288230",
          "2024-05-13T16:42:58.966204",
          "2024-05-13T16:42:59.667125",
          "2024-05-13T16:43:00.343977",
          "2024-05-13T16:43:01.025002",
          "2024-05-13T16:43:01.721285",
          "2024-05-13T16:43:02.403501",
          "2024-05-13T16:43:06.913690",
          "2024-05-13T16:43:07.706495",
          "2024-05-13T16:43:08.383800",
          "2024-05-13T16:43:09.070204",
          "2024-05-13T16:43:09.778290",
          "2024-05-13T16:43:10.457403",
          "2024-05-13T16:43:11.141146",
          "2024-05-13T16:43:11.822925",
          "2024-05-13T16:43:12.520566",
          "2024-05-13T16:43:13.218127",
          "2024-05-13T16:43:17.868885",
          "2024-05-13T16:43:18.927601",
          "2024-05-13T16:43:19.651323",
          "2024-05-13T16:43:20.335818",
          "2024-05-13T16:43:21.024502",
          "2024-05-13T16:43:21.711995",
          "2024-05-13T16:43:22.396093",
          "2024-05-13T16:43:23.082147",
          "2024-05-13T16:43:23.763824",
          "2024-05-13T16:43:24.457587",
          "2024-05-13T16:43:29.389680",
          "2024-05-13T16:43:30.792361",
          "2024-05-13T16:43:31.507647",
          "2024-05-13T16:43:32.196285",
          "2024-05-13T16:43:32.891782",
          "2024-05-13T16:43:33.578352",
          "2024-05-13T16:43:34.258041",
          "2024-05-13T16:43:34.971848",
          "2024-05-13T16:43:35.676470",
          "2024-05-13T16:43:36.354704",
          "2024-05-13T16:43:41.112587",
          "2024-05-13T16:43:41.988446",
          "2024-05-13T16:43:42.689891",
          "2024-05-13T16:43:43.378716",
          "2024-05-13T16:43:44.071274",
          "2024-05-13T16:43:44.756685",
          "2024-05-13T16:43:45.462648",
          "2024-05-13T16:43:46.171972",
          "2024-05-13T16:43:46.852139",
          "2024-05-13T16:43:47.534021",
          "2024-05-13T16:43:53.125382",
          "2024-05-13T16:43:54.267029",
          "2024-05-13T16:43:55.014214",
          "2024-05-13T16:43:55.726759",
          "2024-05-13T16:43:57.341335",
          "2024-05-13T16:43:58.011209",
          "2024-05-13T16:43:58.701102",
          "2024-05-13T16:43:59.391520",
          "2024-05-13T16:44:00.079402",
          "2024-05-13T16:44:00.770970",
          "2024-05-13T16:44:06.282859",
          "2024-05-13T16:44:07.000005",
          "2024-05-13T16:44:07.682614",
          "2024-05-13T16:44:08.363133",
          "2024-05-13T16:44:09.037338",
          "2024-05-13T16:44:09.716469",
          "2024-05-13T16:44:10.397516",
          "2024-05-13T16:44:11.076929",
          "2024-05-13T16:44:11.751920",
          "2024-05-13T16:44:12.434782",
          "2024-05-13T16:44:16.680007",
          "2024-05-13T16:44:17.425926",
          "2024-05-13T16:44:18.118256",
          "2024-05-13T16:44:18.800825",
          "2024-05-13T16:44:19.925210",
          "2024-05-13T16:44:20.675831",
          "2024-05-13T16:44:21.331805",
          "2024-05-13T16:44:22.017893",
          "2024-05-13T16:44:22.945511",
          "2024-05-13T16:44:23.490667",
          "2024-05-13T16:44:27.984570",
          "2024-05-13T16:44:29.118159",
          "2024-05-13T16:44:30.245383",
          "2024-05-13T16:44:30.829381",
          "2024-05-13T16:44:31.523839",
          "2024-05-13T16:44:32.369774",
          "2024-05-13T16:44:33.260250",
          "2024-05-13T16:44:33.927052",
          "2024-05-13T16:44:34.631438",
          "2024-05-13T16:44:35.323747",
          "2024-05-13T16:44:39.794853",
          "2024-05-13T16:44:40.797395",
          "2024-05-13T16:44:41.517019",
          "2024-05-13T16:44:42.267616",
          "2024-05-13T16:44:42.983386",
          "2024-05-13T16:44:43.664803",
          "2024-05-13T16:44:44.370445",
          "2024-05-13T16:44:45.055979",
          "2024-05-13T16:44:45.772228",
          "2024-05-13T16:44:46.463719",
          "2024-05-13T16:44:51.423792",
          "2024-05-13T16:44:52.510256",
          "2024-05-13T16:44:53.226349",
          "2024-05-13T16:44:53.908962",
          "2024-05-13T16:44:54.632083",
          "2024-05-13T16:44:55.320589",
          "2024-05-13T16:44:56.005902",
          "2024-05-13T16:44:56.699311",
          "2024-05-13T16:44:57.399023",
          "2024-05-13T16:44:58.079699",
          "2024-05-13T16:45:03.499025",
          "2024-05-13T16:45:04.363313",
          "2024-05-13T16:45:05.068744",
          "2024-05-13T16:45:05.762607",
          "2024-05-13T16:45:06.453829",
          "2024-05-13T16:45:07.181008",
          "2024-05-13T16:45:07.900716",
          "2024-05-13T16:45:08.610096",
          "2024-05-13T16:45:09.305648",
          "2024-05-13T16:45:09.985151",
          "2024-05-13T16:45:14.313423",
          "2024-05-13T16:45:15.134092",
          "2024-05-13T16:45:15.830046",
          "2024-05-13T16:45:16.514706",
          "2024-05-13T16:45:17.197242",
          "2024-05-13T16:45:17.888577",
          "2024-05-13T16:45:18.622588",
          "2024-05-13T16:45:19.338732",
          "2024-05-13T16:45:20.022488",
          "2024-05-13T16:45:20.715762",
          "2024-05-13T16:45:25.629747",
          "2024-05-13T16:45:26.694567",
          "2024-05-13T16:45:27.377467",
          "2024-05-13T16:45:28.061877",
          "2024-05-13T16:45:28.740075",
          "2024-05-13T16:45:29.438479",
          "2024-05-13T16:45:30.121220",
          "2024-05-13T16:45:30.797837",
          "2024-05-13T16:45:31.487498",
          "2024-05-13T16:45:32.183717",
          "2024-05-13T16:45:36.548576",
          "2024-05-13T16:45:37.577340",
          "2024-05-13T16:45:38.265680",
          "2024-05-13T16:45:38.952265",
          "2024-05-13T16:45:39.649080",
          "2024-05-13T16:45:40.333261",
          "2024-05-13T16:45:41.009068",
          "2024-05-13T16:45:41.716421",
          "2024-05-13T16:45:42.398818",
          "2024-05-13T16:45:43.077661",
          "2024-05-13T16:45:47.389948",
          "2024-05-13T16:45:48.235481",
          "2024-05-13T16:45:49.281307",
          "2024-05-13T16:45:49.971395",
          "2024-05-13T16:45:50.711758",
          "2024-05-13T16:45:51.404069",
          "2024-05-13T16:45:52.084656",
          "2024-05-13T16:45:52.773858",
          "2024-05-13T16:45:53.574947",
          "2024-05-13T16:45:54.357599",
          "2024-05-13T16:45:58.792694",
          "2024-05-13T16:45:59.706499",
          "2024-05-13T16:46:00.446641",
          "2024-05-13T16:46:01.157016",
          "2024-05-13T16:46:01.859459",
          "2024-05-13T16:46:02.575429",
          "2024-05-13T16:46:03.605654",
          "2024-05-13T16:46:04.373252",
          "2024-05-13T16:46:04.920097",
          "2024-05-13T16:46:05.607738",
          "2024-05-13T16:46:10.886784",
          "2024-05-13T16:46:11.618232",
          "2024-05-13T16:46:12.296323",
          "2024-05-13T16:46:12.976750",
          "2024-05-13T16:46:13.653664",
          "2024-05-13T16:46:14.329381",
          "2024-05-13T16:46:15.006807",
          "2024-05-13T16:46:15.684346",
          "2024-05-13T16:46:16.363920",
          "2024-05-13T16:46:17.040881",
          "2024-05-13T16:46:21.689052",
          "2024-05-13T16:46:22.411849",
          "2024-05-13T16:46:23.268216",
          "2024-05-13T16:46:24.007877",
          "2024-05-13T16:46:24.687175",
          "2024-05-13T16:46:25.368091",
          "2024-05-13T16:46:26.047109",
          "2024-05-13T16:46:26.803940",
          "2024-05-13T16:46:27.457257",
          "2024-05-13T16:46:28.187037",
          "2024-05-13T16:46:33.076821",
          "2024-05-13T16:46:33.914969",
          "2024-05-13T16:46:34.622045",
          "2024-05-13T16:46:35.311506",
          "2024-05-13T16:46:35.993952",
          "2024-05-13T16:46:36.679439",
          "2024-05-13T16:46:37.627739",
          "2024-05-13T16:46:38.200304",
          "2024-05-13T16:46:38.896837",
          "2024-05-13T16:46:39.586169",
          "2024-05-13T16:46:44.563941",
          "2024-05-13T16:46:45.542437",
          "2024-05-13T16:46:46.298434",
          "2024-05-13T16:46:47.061561",
          "2024-05-13T16:46:47.748627",
          "2024-05-13T16:46:48.438556",
          "2024-05-13T16:46:49.118335",
          "2024-05-13T16:46:49.812864",
          "2024-05-13T16:46:50.492018",
          "2024-05-13T16:46:51.171096",
          "2024-05-13T16:46:56.329733",
          "2024-05-13T16:46:57.405966",
          "2024-05-13T16:46:58.090229",
          "2024-05-13T16:46:58.773385",
          "2024-05-13T16:46:59.592377",
          "2024-05-13T16:47:00.283897",
          "2024-05-13T16:47:00.966037",
          "2024-05-13T16:47:01.666893",
          "2024-05-13T16:47:02.644351",
          "2024-05-13T16:47:03.258652",
          "2024-05-13T16:47:08.295329",
          "2024-05-13T16:47:09.099954",
          "2024-05-13T16:47:09.781662",
          "2024-05-13T16:47:10.465832",
          "2024-05-13T16:47:11.144292",
          "2024-05-13T16:47:11.827929",
          "2024-05-13T16:47:12.506356",
          "2024-05-13T16:47:13.189954",
          "2024-05-13T16:47:13.866777",
          "2024-05-13T16:47:14.601265",
          "2024-05-13T16:47:19.755712",
          "2024-05-13T16:47:20.536617",
          "2024-05-13T16:47:21.229914",
          "2024-05-13T16:47:21.940779",
          "2024-05-13T16:47:22.625876",
          "2024-05-13T16:47:23.310415",
          "2024-05-13T16:47:24.000358",
          "2024-05-13T16:47:24.711311",
          "2024-05-13T16:47:25.403513",
          "2024-05-13T16:47:26.106842",
          "2024-05-13T16:47:30.505200",
          "2024-05-13T16:47:31.288221",
          "2024-05-13T16:47:31.967454",
          "2024-05-13T16:47:32.683118",
          "2024-05-13T16:47:33.417177",
          "2024-05-13T16:47:34.141747",
          "2024-05-13T16:47:34.841536",
          "2024-05-13T16:47:35.568042",
          "2024-05-13T16:47:36.238652",
          "2024-05-13T16:47:36.937967"
         ],
         "xaxis": "x",
         "y": [
          1.5275261402130127,
          1.1321167945861816,
          1.007810354232788,
          1.0159037113189697,
          1.006528377532959,
          1.0069804191589355,
          1.0064092874526978,
          1.006408929824829,
          1.0081411600112915,
          1.0064115524291992,
          1.3415188789367676,
          1.1845576763153076,
          1.3117187023162842,
          1.1344873905181885,
          1.159650206565857,
          1.0327348709106445,
          1.0510939359664917,
          1.016442894935608,
          1.013361930847168,
          1.0341477394104004,
          1.0081192255020142,
          1.0064566135406494,
          1.0065820217132568,
          1.0064133405685425,
          1.0109219551086426,
          1.0403200387954712,
          1.0567431449890137,
          1.0311414003372192,
          1.377258062362671,
          1.2647794485092163,
          1.0874524116516113,
          1.1044461727142334,
          1.122692584991455,
          1.1020305156707764,
          1.1213675737380981,
          1.2139592170715332,
          1.0392236709594727,
          1.1793463230133057,
          1.0615384578704834,
          1.0754027366638184,
          1.2034854888916016,
          1.5199142694473267,
          1.4760839939117432,
          1.6050069332122803,
          1.3497798442840576,
          1.2444077730178833,
          1.3410296440124512,
          1.5878405570983887,
          1.6359716653823853,
          1.5837743282318115,
          1.6342909336090088,
          1.6360031366348267,
          1.6321027278900146,
          1.6265232563018799,
          1.632101058959961,
          1.6265232563018799,
          1.6265935897827148,
          1.6265239715576172,
          1.623573899269104,
          1.626520037651062,
          1.6352072954177856,
          1.634817123413086,
          1.6166952848434448,
          1.5221511125564575,
          1.6247508525848389,
          1.4652628898620605,
          1.3544185161590576,
          1.1983294486999512,
          1.4882630109786987,
          1.2537308931350708,
          1.3132938146591187,
          1.1713844537734985,
          1.2894322872161865,
          1.2989925146102905,
          1.360649585723877,
          1.3374996185302734,
          1.3537507057189941,
          1.3413257598876953,
          1.398013710975647,
          1.344456434249878,
          1.356928825378418,
          1.349089503288269,
          1.2281980514526367,
          1.275631070137024,
          1.2617933750152588,
          1.3571007251739502,
          1.373672366142273,
          1.3458285331726074,
          1.4251261949539185,
          1.5390596389770508,
          1.4754812717437744,
          1.4005720615386963,
          1.4499318599700928,
          1.4899287223815918,
          1.446280598640442,
          1.4984675645828247,
          1.4101192951202393,
          1.4210401773452759,
          1.3862943649291992,
          1.3859877586364746,
          1.3862943649291992,
          1.386276364326477,
          1.3862905502319336,
          1.3853466510772705,
          1.3768037557601929,
          1.4003084897994995,
          1.402881145477295,
          1.4020452499389648,
          1.3959908485412598,
          1.3862946033477783,
          1.3863261938095093,
          1.3862944841384888,
          1.3862946033477783,
          1.3862943649291992,
          1.3862943649291992,
          1.3861196041107178,
          1.3862943649291992,
          1.3862929344177246,
          1.3862943649291992,
          1.3862943649291992,
          1.3862941265106201,
          1.3862943649291992,
          1.3862943649291992,
          1.3862943649291992,
          1.3862943649291992,
          1.3863229751586914,
          1.3862943649291992,
          1.3862943649291992,
          1.3862943649291992,
          1.3862943649291992,
          1.3862943649291992,
          1.3862943649291992,
          1.3861801624298096,
          1.3862943649291992,
          1.3862943649291992,
          1.3862943649291992,
          1.3862943649291992,
          1.3862943649291992,
          1.3862943649291992,
          1.3862943649291992,
          1.3862943649291992,
          1.3862943649291992,
          1.3862943649291992,
          1.3862943649291992,
          1.3862943649291992,
          1.3862943649291992,
          1.3862943649291992,
          1.3862943649291992,
          1.3862934112548828,
          1.3862943649291992,
          1.3862943649291992,
          1.3862943649291992,
          1.3862943649291992,
          1.3862943649291992,
          1.3862943649291992,
          1.3862943649291992,
          1.3862943649291992,
          1.3862943649291992,
          1.386258840560913,
          1.3826855421066284,
          1.3862946033477783,
          1.386286735534668,
          1.3773901462554932,
          1.3868167400360107,
          1.4214959144592285,
          1.3862943649291992,
          1.3862943649291992,
          1.3862941265106201,
          1.3862950801849365,
          1.3862943649291992,
          1.386293649673462,
          1.3862943649291992,
          1.3862943649291992,
          1.3862943649291992,
          1.3862615823745728,
          1.3862943649291992,
          1.3862943649291992,
          1.3862943649291992,
          1.3862943649291992,
          1.3862943649291992,
          1.3862941265106201,
          1.3862943649291992,
          1.3862943649291992,
          1.3862943649291992,
          1.3862946033477783,
          1.3852267265319824,
          1.3582203388214111,
          1.3578159809112549,
          1.3674657344818115,
          1.3784067630767822,
          1.3673017024993896,
          1.376584768295288,
          1.373609185218811,
          1.4435786008834839,
          1.4763939380645752,
          1.4364943504333496,
          1.6245594024658203,
          1.363784670829773,
          1.3730278015136719,
          1.4017233848571777,
          1.4425420761108398,
          1.4889580011367798,
          1.4578559398651123,
          1.4281370639801025,
          1.3923444747924805,
          1.4493389129638672,
          1.3862943649291992,
          1.3862943649291992,
          1.3862943649291992,
          1.3862943649291992,
          1.3862943649291992,
          1.3862943649291992,
          1.3862943649291992,
          1.3862943649291992,
          1.3862943649291992,
          1.3862944841384888,
          1.3862943649291992,
          1.3862943649291992,
          1.3862943649291992,
          1.3862943649291992,
          1.3862943649291992,
          1.3862943649291992,
          1.3862943649291992,
          1.3862943649291992,
          1.3862943649291992,
          1.3862943649291992,
          1.3862943649291992,
          1.3862941265106201,
          1.3862943649291992,
          1.3862943649291992,
          1.3862943649291992,
          1.3862941265106201,
          1.3862943649291992,
          1.386240005493164,
          1.3862943649291992,
          1.3862943649291992,
          1.3862943649291992,
          1.3862941265106201,
          1.3862953186035156,
          1.3862943649291992,
          1.3862943649291992,
          1.3862943649291992,
          1.3862943649291992,
          1.3862943649291992,
          1.3862940073013306,
          1.3862943649291992,
          1.3862943649291992,
          1.3862943649291992,
          1.3862943649291992,
          1.3863029479980469,
          1.3862943649291992
         ],
         "yaxis": "y"
        },
        {
         "hovertemplate": "name=worker_4<br>start_time=%{x}<br>d_total_loss=%{y}<extra></extra>",
         "legendgroup": "worker_4",
         "line": {
          "color": "#ab63fa",
          "dash": "solid"
         },
         "marker": {
          "symbol": "circle"
         },
         "mode": "lines",
         "name": "worker_4",
         "showlegend": true,
         "type": "scattergl",
         "x": [
          "2024-05-13T16:42:50.743749",
          "2024-05-13T16:42:56.095065",
          "2024-05-13T16:42:56.921527",
          "2024-05-13T16:42:57.601943",
          "2024-05-13T16:42:58.288239",
          "2024-05-13T16:42:58.967998",
          "2024-05-13T16:42:59.667960",
          "2024-05-13T16:43:00.346244",
          "2024-05-13T16:43:01.026926",
          "2024-05-13T16:43:01.729320",
          "2024-05-13T16:43:02.406661",
          "2024-05-13T16:43:07.107000",
          "2024-05-13T16:43:07.710031",
          "2024-05-13T16:43:08.388805",
          "2024-05-13T16:43:09.075392",
          "2024-05-13T16:43:09.771403",
          "2024-05-13T16:43:10.459982",
          "2024-05-13T16:43:11.141328",
          "2024-05-13T16:43:11.826236",
          "2024-05-13T16:43:12.520182",
          "2024-05-13T16:43:13.221441",
          "2024-05-13T16:43:17.908537",
          "2024-05-13T16:43:19.031491",
          "2024-05-13T16:43:19.652675",
          "2024-05-13T16:43:20.341074",
          "2024-05-13T16:43:21.028921",
          "2024-05-13T16:43:21.715296",
          "2024-05-13T16:43:22.399780",
          "2024-05-13T16:43:23.089691",
          "2024-05-13T16:43:23.765511",
          "2024-05-13T16:43:24.461420",
          "2024-05-13T16:43:29.448709",
          "2024-05-13T16:43:30.809477",
          "2024-05-13T16:43:31.516037",
          "2024-05-13T16:43:32.203195",
          "2024-05-13T16:43:32.896214",
          "2024-05-13T16:43:33.581102",
          "2024-05-13T16:43:34.262415",
          "2024-05-13T16:43:34.985655",
          "2024-05-13T16:43:35.681027",
          "2024-05-13T16:43:36.357372",
          "2024-05-13T16:43:41.196153",
          "2024-05-13T16:43:41.987666",
          "2024-05-13T16:43:42.694470",
          "2024-05-13T16:43:43.382796",
          "2024-05-13T16:43:44.080325",
          "2024-05-13T16:43:44.760607",
          "2024-05-13T16:43:45.476413",
          "2024-05-13T16:43:46.179563",
          "2024-05-13T16:43:46.860826",
          "2024-05-13T16:43:47.536844",
          "2024-05-13T16:43:53.370714",
          "2024-05-13T16:43:54.284208",
          "2024-05-13T16:43:55.016368",
          "2024-05-13T16:43:55.774724",
          "2024-05-13T16:43:56.839690",
          "2024-05-13T16:43:58.014841",
          "2024-05-13T16:43:58.709489",
          "2024-05-13T16:43:59.396310",
          "2024-05-13T16:44:00.084568",
          "2024-05-13T16:44:00.774931",
          "2024-05-13T16:44:06.303761",
          "2024-05-13T16:44:07.001904",
          "2024-05-13T16:44:07.688228",
          "2024-05-13T16:44:08.364897",
          "2024-05-13T16:44:09.038488",
          "2024-05-13T16:44:09.718663",
          "2024-05-13T16:44:10.397898",
          "2024-05-13T16:44:11.079502",
          "2024-05-13T16:44:11.757205",
          "2024-05-13T16:44:12.435855",
          "2024-05-13T16:44:16.722218",
          "2024-05-13T16:44:17.428828",
          "2024-05-13T16:44:18.123885",
          "2024-05-13T16:44:18.805274",
          "2024-05-13T16:44:19.787973",
          "2024-05-13T16:44:20.611100",
          "2024-05-13T16:44:21.334711",
          "2024-05-13T16:44:22.018819",
          "2024-05-13T16:44:22.743527",
          "2024-05-13T16:44:23.495034",
          "2024-05-13T16:44:28.236016",
          "2024-05-13T16:44:29.121129",
          "2024-05-13T16:44:30.013222",
          "2024-05-13T16:44:30.834352",
          "2024-05-13T16:44:31.531416",
          "2024-05-13T16:44:32.263014",
          "2024-05-13T16:44:33.199778",
          "2024-05-13T16:44:33.930605",
          "2024-05-13T16:44:34.631951",
          "2024-05-13T16:44:35.334894",
          "2024-05-13T16:44:39.825434",
          "2024-05-13T16:44:40.802329",
          "2024-05-13T16:44:41.538517",
          "2024-05-13T16:44:42.265811",
          "2024-05-13T16:44:42.989009",
          "2024-05-13T16:44:43.667696",
          "2024-05-13T16:44:44.374917",
          "2024-05-13T16:44:45.059458",
          "2024-05-13T16:44:45.776378",
          "2024-05-13T16:44:46.469475",
          "2024-05-13T16:44:51.479457",
          "2024-05-13T16:44:52.513432",
          "2024-05-13T16:44:53.233092",
          "2024-05-13T16:44:53.913522",
          "2024-05-13T16:44:54.634759",
          "2024-05-13T16:44:55.322963",
          "2024-05-13T16:44:56.007297",
          "2024-05-13T16:44:56.702365",
          "2024-05-13T16:44:57.402021",
          "2024-05-13T16:44:58.083737",
          "2024-05-13T16:45:03.525765",
          "2024-05-13T16:45:04.364365",
          "2024-05-13T16:45:05.081054",
          "2024-05-13T16:45:05.762749",
          "2024-05-13T16:45:06.457840",
          "2024-05-13T16:45:07.180706",
          "2024-05-13T16:45:07.903940",
          "2024-05-13T16:45:08.612262",
          "2024-05-13T16:45:09.306516",
          "2024-05-13T16:45:09.986824",
          "2024-05-13T16:45:14.353249",
          "2024-05-13T16:45:15.135852",
          "2024-05-13T16:45:15.833981",
          "2024-05-13T16:45:16.514695",
          "2024-05-13T16:45:17.199184",
          "2024-05-13T16:45:17.890616",
          "2024-05-13T16:45:18.626544",
          "2024-05-13T16:45:19.342265",
          "2024-05-13T16:45:20.023823",
          "2024-05-13T16:45:20.719073",
          "2024-05-13T16:45:25.662811",
          "2024-05-13T16:45:26.699549",
          "2024-05-13T16:45:27.380401",
          "2024-05-13T16:45:28.067215",
          "2024-05-13T16:45:28.742080",
          "2024-05-13T16:45:29.439574",
          "2024-05-13T16:45:30.126372",
          "2024-05-13T16:45:30.801762",
          "2024-05-13T16:45:31.494164",
          "2024-05-13T16:45:32.187011",
          "2024-05-13T16:45:36.630483",
          "2024-05-13T16:45:37.582410",
          "2024-05-13T16:45:38.267835",
          "2024-05-13T16:45:38.959450",
          "2024-05-13T16:45:39.652728",
          "2024-05-13T16:45:40.337849",
          "2024-05-13T16:45:41.010504",
          "2024-05-13T16:45:41.719722",
          "2024-05-13T16:45:42.402167",
          "2024-05-13T16:45:43.079558",
          "2024-05-13T16:45:47.509814",
          "2024-05-13T16:45:48.239664",
          "2024-05-13T16:45:49.272037",
          "2024-05-13T16:45:49.983054",
          "2024-05-13T16:45:50.715164",
          "2024-05-13T16:45:51.407503",
          "2024-05-13T16:45:52.087574",
          "2024-05-13T16:45:52.779695",
          "2024-05-13T16:45:53.581402",
          "2024-05-13T16:45:54.366843",
          "2024-05-13T16:45:58.823265",
          "2024-05-13T16:45:59.709748",
          "2024-05-13T16:46:00.449652",
          "2024-05-13T16:46:01.161829",
          "2024-05-13T16:46:01.863340",
          "2024-05-13T16:46:02.582463",
          "2024-05-13T16:46:03.387889",
          "2024-05-13T16:46:04.270029",
          "2024-05-13T16:46:04.922703",
          "2024-05-13T16:46:05.608484",
          "2024-05-13T16:46:10.919523",
          "2024-05-13T16:46:11.620016",
          "2024-05-13T16:46:12.296375",
          "2024-05-13T16:46:12.977626",
          "2024-05-13T16:46:13.653373",
          "2024-05-13T16:46:14.332287",
          "2024-05-13T16:46:15.010505",
          "2024-05-13T16:46:15.687016",
          "2024-05-13T16:46:16.364392",
          "2024-05-13T16:46:17.042355",
          "2024-05-13T16:46:21.688683",
          "2024-05-13T16:46:22.414492",
          "2024-05-13T16:46:23.259945",
          "2024-05-13T16:46:24.009914",
          "2024-05-13T16:46:24.691388",
          "2024-05-13T16:46:25.370469",
          "2024-05-13T16:46:26.049396",
          "2024-05-13T16:46:26.748433",
          "2024-05-13T16:46:27.464910",
          "2024-05-13T16:46:28.190397",
          "2024-05-13T16:46:33.164218",
          "2024-05-13T16:46:33.918000",
          "2024-05-13T16:46:34.625295",
          "2024-05-13T16:46:35.319015",
          "2024-05-13T16:46:35.995100",
          "2024-05-13T16:46:36.683275",
          "2024-05-13T16:46:37.435334",
          "2024-05-13T16:46:38.204922",
          "2024-05-13T16:46:38.903607",
          "2024-05-13T16:46:39.592959",
          "2024-05-13T16:46:44.617022",
          "2024-05-13T16:46:45.542523",
          "2024-05-13T16:46:46.313746",
          "2024-05-13T16:46:47.062053",
          "2024-05-13T16:46:47.753179",
          "2024-05-13T16:46:48.444945",
          "2024-05-13T16:46:49.125045",
          "2024-05-13T16:46:49.815791",
          "2024-05-13T16:46:50.493292",
          "2024-05-13T16:46:51.173839",
          "2024-05-13T16:46:56.460576",
          "2024-05-13T16:46:57.403430",
          "2024-05-13T16:46:58.094575",
          "2024-05-13T16:46:58.776653",
          "2024-05-13T16:46:59.518435",
          "2024-05-13T16:47:00.252573",
          "2024-05-13T16:47:00.968936",
          "2024-05-13T16:47:01.675727",
          "2024-05-13T16:47:02.504324",
          "2024-05-13T16:47:03.266093",
          "2024-05-13T16:47:08.397543",
          "2024-05-13T16:47:09.101653",
          "2024-05-13T16:47:09.782050",
          "2024-05-13T16:47:10.467006",
          "2024-05-13T16:47:11.145968",
          "2024-05-13T16:47:11.829135",
          "2024-05-13T16:47:12.506008",
          "2024-05-13T16:47:13.190502",
          "2024-05-13T16:47:13.867722",
          "2024-05-13T16:47:14.602622",
          "2024-05-13T16:47:19.803277",
          "2024-05-13T16:47:20.538136",
          "2024-05-13T16:47:21.233114",
          "2024-05-13T16:47:21.942511",
          "2024-05-13T16:47:22.628936",
          "2024-05-13T16:47:23.314153",
          "2024-05-13T16:47:24.003324",
          "2024-05-13T16:47:24.712463",
          "2024-05-13T16:47:25.403952",
          "2024-05-13T16:47:26.108610",
          "2024-05-13T16:47:30.503057",
          "2024-05-13T16:47:31.297068",
          "2024-05-13T16:47:31.970839",
          "2024-05-13T16:47:32.690481",
          "2024-05-13T16:47:33.424674",
          "2024-05-13T16:47:34.145215",
          "2024-05-13T16:47:34.850862",
          "2024-05-13T16:47:35.585896",
          "2024-05-13T16:47:36.244211",
          "2024-05-13T16:47:36.950428"
         ],
         "xaxis": "x",
         "y": [
          1.485600233078003,
          1.2198843955993652,
          1.0487289428710938,
          1.0420836210250854,
          1.0079796314239502,
          1.0144009590148926,
          1.006829023361206,
          1.0065113306045532,
          1.006412148475647,
          1.006408929824829,
          1.0090397596359253,
          1.01902174949646,
          1.627175211906433,
          1.068363904953003,
          1.2164297103881836,
          1.2195734977722168,
          1.112809181213379,
          1.0809719562530518,
          1.0257328748703003,
          1.0260001420974731,
          1.0183751583099365,
          1.334925889968872,
          1.068892002105713,
          1.0428961515426636,
          1.1604783535003662,
          1.0346652269363403,
          1.0223517417907715,
          1.089289665222168,
          1.2126572132110596,
          1.1134482622146606,
          1.5769202709197998,
          1.5044395923614502,
          1.4965075254440308,
          1.1900694370269775,
          1.1425766944885254,
          1.1156749725341797,
          1.0314923524856567,
          1.0174808502197266,
          1.191277027130127,
          1.0366296768188477,
          1.0342854261398315,
          1.0098152160644531,
          1.606189250946045,
          1.100670576095581,
          1.3770811557769775,
          1.3816864490509033,
          1.120495319366455,
          1.610867977142334,
          1.6360911130905151,
          1.6365468502044678,
          1.6267656087875366,
          1.635867714881897,
          1.6265232563018799,
          1.6265246868133545,
          1.626526951789856,
          1.6265859603881836,
          1.6360061168670654,
          1.6265239715576172,
          1.6340199708938599,
          1.5905324220657349,
          1.5038659572601318,
          1.533785104751587,
          1.5202406644821167,
          1.5023059844970703,
          1.286316990852356,
          1.4597978591918945,
          1.2140611410140991,
          1.4000884294509888,
          1.4231324195861816,
          1.2065082788467407,
          1.1775239706039429,
          1.1064438819885254,
          1.1893247365951538,
          1.2583818435668945,
          1.4116451740264893,
          1.2582765817642212,
          1.140337586402893,
          1.4275308847427368,
          1.1652005910873413,
          1.3541224002838135,
          1.2632650136947632,
          1.2520625591278076,
          1.314896583557129,
          1.2988287210464478,
          1.227348804473877,
          1.2815033197402954,
          1.2721794843673706,
          1.3318376541137695,
          1.3696924448013306,
          1.2028518915176392,
          1.122557520866394,
          1.3273118734359741,
          1.2798725366592407,
          1.4389560222625732,
          1.297690510749817,
          1.3711748123168945,
          1.2650220394134521,
          1.2763726711273193,
          1.2222185134887695,
          1.2002856731414795,
          1.328734278678894,
          1.1642016172409058,
          1.3235604763031006,
          1.2596720457077026,
          1.3289601802825928,
          1.2595980167388916,
          1.3159468173980713,
          1.1947027444839478,
          1.3153460025787354,
          1.3574423789978027,
          1.2786118984222412,
          1.0918749570846558,
          1.2647827863693237,
          1.3014838695526123,
          1.2711706161499023,
          1.4901962280273438,
          1.5284202098846436,
          1.5902454853057861,
          1.513831377029419,
          1.4820520877838135,
          1.2592217922210693,
          1.303466558456421,
          1.330016851425171,
          1.4139412641525269,
          1.3681726455688477,
          1.332000494003296,
          1.3569786548614502,
          1.2861809730529785,
          1.3575177192687988,
          1.4059420824050903,
          1.468506097793579,
          1.4568068981170654,
          1.5062878131866455,
          1.5009701251983643,
          1.6171201467514038,
          1.577800989151001,
          1.3912265300750732,
          1.5117435455322266,
          1.478086233139038,
          1.335410237312317,
          1.499279260635376,
          1.6282730102539062,
          1.3883386850357056,
          1.4542121887207031,
          1.4360724687576294,
          1.3536665439605713,
          1.3491685390472412,
          1.3240277767181396,
          1.2996745109558105,
          1.345696210861206,
          1.3894966840744019,
          1.3270810842514038,
          1.3950139284133911,
          1.4241743087768555,
          1.4738450050354004,
          1.3612102270126343,
          1.4916510581970215,
          1.3384147882461548,
          1.4396376609802246,
          1.373932957649231,
          1.3202093839645386,
          1.4478819370269775,
          1.3089518547058105,
          1.197670578956604,
          1.451999545097351,
          1.5811830759048462,
          1.5667510032653809,
          1.5375709533691406,
          1.5582382678985596,
          1.4968070983886719,
          1.4597721099853516,
          1.5057157278060913,
          1.4734238386154175,
          1.4998846054077148,
          1.4223353862762451,
          1.3354676961898804,
          1.4967145919799805,
          1.486640453338623,
          1.436942219734192,
          1.3202024698257446,
          1.3745800256729126,
          1.2481451034545898,
          1.4408539533615112,
          1.4428832530975342,
          1.3672170639038086,
          1.4015567302703857,
          1.3483054637908936,
          1.284830093383789,
          1.2575898170471191,
          1.4316308498382568,
          1.4127670526504517,
          1.452027440071106,
          1.4952279329299927,
          1.6061135530471802,
          1.5460941791534424,
          1.3709615468978882,
          1.3862943649291992,
          1.3767294883728027,
          1.3862931728363037,
          1.38629150390625,
          1.3862953186035156,
          1.386293649673462,
          1.3862850666046143,
          1.3862943649291992,
          1.3862943649291992,
          1.3862943649291992,
          1.3862943649291992,
          1.3862943649291992,
          1.3862931728363037,
          1.3862943649291992,
          1.3862943649291992,
          1.3862934112548828,
          1.386293888092041,
          1.3862943649291992,
          1.381164789199829,
          1.3837929964065552,
          1.4102942943572998,
          1.5283738374710083,
          1.422968864440918,
          1.6474003791809082,
          1.654402732849121,
          1.3862943649291992,
          1.3862943649291992,
          1.3862943649291992,
          1.3862943649291992,
          1.3862943649291992,
          1.3862943649291992,
          1.3862943649291992,
          1.3862943649291992,
          1.3862943649291992,
          1.3862943649291992,
          1.3862943649291992,
          1.3862943649291992,
          1.3862943649291992,
          1.3862943649291992,
          1.3862943649291992,
          1.3862943649291992,
          1.3862943649291992,
          1.3862943649291992,
          1.3862943649291992,
          1.3862943649291992,
          1.3862943649291992,
          1.3862943649291992,
          1.3862943649291992,
          1.3862943649291992,
          1.3862943649291992,
          1.3862943649291992,
          1.3862943649291992,
          1.3862943649291992,
          1.3862943649291992,
          1.3862943649291992
         ],
         "yaxis": "y"
        },
        {
         "hovertemplate": "name=worker_5<br>start_time=%{x}<br>d_total_loss=%{y}<extra></extra>",
         "legendgroup": "worker_5",
         "line": {
          "color": "#FFA15A",
          "dash": "solid"
         },
         "marker": {
          "symbol": "circle"
         },
         "mode": "lines",
         "name": "worker_5",
         "showlegend": true,
         "type": "scattergl",
         "x": [
          "2024-05-13T16:42:50.743402",
          "2024-05-13T16:42:56.098149",
          "2024-05-13T16:42:56.922049",
          "2024-05-13T16:42:57.614138",
          "2024-05-13T16:42:58.289646",
          "2024-05-13T16:42:58.968452",
          "2024-05-13T16:42:59.668651",
          "2024-05-13T16:43:00.347411",
          "2024-05-13T16:43:01.028548",
          "2024-05-13T16:43:01.733884",
          "2024-05-13T16:43:02.410523",
          "2024-05-13T16:43:06.975439",
          "2024-05-13T16:43:07.714039",
          "2024-05-13T16:43:08.392111",
          "2024-05-13T16:43:09.075606",
          "2024-05-13T16:43:09.776261",
          "2024-05-13T16:43:10.466409",
          "2024-05-13T16:43:11.143098",
          "2024-05-13T16:43:11.829989",
          "2024-05-13T16:43:12.531133",
          "2024-05-13T16:43:13.223131",
          "2024-05-13T16:43:17.906313",
          "2024-05-13T16:43:19.071768",
          "2024-05-13T16:43:19.656502",
          "2024-05-13T16:43:20.346170",
          "2024-05-13T16:43:21.034056",
          "2024-05-13T16:43:21.717629",
          "2024-05-13T16:43:22.400542",
          "2024-05-13T16:43:23.089798",
          "2024-05-13T16:43:23.779160",
          "2024-05-13T16:43:24.468580",
          "2024-05-13T16:43:29.452209",
          "2024-05-13T16:43:30.889072",
          "2024-05-13T16:43:31.514539",
          "2024-05-13T16:43:32.205359",
          "2024-05-13T16:43:32.898716",
          "2024-05-13T16:43:33.583075",
          "2024-05-13T16:43:34.266831",
          "2024-05-13T16:43:34.981816",
          "2024-05-13T16:43:35.695101",
          "2024-05-13T16:43:36.362918",
          "2024-05-13T16:43:41.151604",
          "2024-05-13T16:43:41.992108",
          "2024-05-13T16:43:42.695333",
          "2024-05-13T16:43:43.388330",
          "2024-05-13T16:43:44.088292",
          "2024-05-13T16:43:44.766626",
          "2024-05-13T16:43:45.475858",
          "2024-05-13T16:43:46.180378",
          "2024-05-13T16:43:46.862370",
          "2024-05-13T16:43:47.541059",
          "2024-05-13T16:43:53.312466",
          "2024-05-13T16:43:54.306021",
          "2024-05-13T16:43:55.018763",
          "2024-05-13T16:43:55.830406",
          "2024-05-13T16:43:57.462733",
          "2024-05-13T16:43:58.018097",
          "2024-05-13T16:43:58.710047",
          "2024-05-13T16:43:59.403595",
          "2024-05-13T16:44:00.085324",
          "2024-05-13T16:44:00.775920",
          "2024-05-13T16:44:06.310341",
          "2024-05-13T16:44:07.002168",
          "2024-05-13T16:44:07.692327",
          "2024-05-13T16:44:08.365203",
          "2024-05-13T16:44:09.039076",
          "2024-05-13T16:44:09.718327",
          "2024-05-13T16:44:10.399995",
          "2024-05-13T16:44:11.079609",
          "2024-05-13T16:44:11.760148",
          "2024-05-13T16:44:12.437257",
          "2024-05-13T16:44:16.720650",
          "2024-05-13T16:44:17.436214",
          "2024-05-13T16:44:18.125645",
          "2024-05-13T16:44:18.807868",
          "2024-05-13T16:44:19.911062",
          "2024-05-13T16:44:20.687161",
          "2024-05-13T16:44:21.339632",
          "2024-05-13T16:44:22.025968",
          "2024-05-13T16:44:22.757456",
          "2024-05-13T16:44:23.499309",
          "2024-05-13T16:44:28.095160",
          "2024-05-13T16:44:29.133213",
          "2024-05-13T16:44:30.212445",
          "2024-05-13T16:44:30.836849",
          "2024-05-13T16:44:31.533609",
          "2024-05-13T16:44:32.352975",
          "2024-05-13T16:44:33.269337",
          "2024-05-13T16:44:33.930487",
          "2024-05-13T16:44:34.637261",
          "2024-05-13T16:44:35.340289",
          "2024-05-13T16:44:39.847450",
          "2024-05-13T16:44:40.807120",
          "2024-05-13T16:44:41.546639",
          "2024-05-13T16:44:42.268549",
          "2024-05-13T16:44:42.989383",
          "2024-05-13T16:44:43.670860",
          "2024-05-13T16:44:44.377061",
          "2024-05-13T16:44:45.063272",
          "2024-05-13T16:44:45.778153",
          "2024-05-13T16:44:46.476603",
          "2024-05-13T16:44:51.494146",
          "2024-05-13T16:44:52.513534",
          "2024-05-13T16:44:53.233012",
          "2024-05-13T16:44:53.913568",
          "2024-05-13T16:44:54.636412",
          "2024-05-13T16:44:55.325892",
          "2024-05-13T16:44:56.011633",
          "2024-05-13T16:44:56.705356",
          "2024-05-13T16:44:57.404546",
          "2024-05-13T16:44:58.086408",
          "2024-05-13T16:45:03.545851",
          "2024-05-13T16:45:04.365244",
          "2024-05-13T16:45:05.087420",
          "2024-05-13T16:45:05.763260",
          "2024-05-13T16:45:06.458160",
          "2024-05-13T16:45:07.191213",
          "2024-05-13T16:45:07.903625",
          "2024-05-13T16:45:08.613523",
          "2024-05-13T16:45:09.306949",
          "2024-05-13T16:45:09.986863",
          "2024-05-13T16:45:14.353551",
          "2024-05-13T16:45:15.136856",
          "2024-05-13T16:45:15.836236",
          "2024-05-13T16:45:16.519215",
          "2024-05-13T16:45:17.200865",
          "2024-05-13T16:45:17.902740",
          "2024-05-13T16:45:18.632426",
          "2024-05-13T16:45:19.345553",
          "2024-05-13T16:45:20.025352",
          "2024-05-13T16:45:20.724133",
          "2024-05-13T16:45:25.657470",
          "2024-05-13T16:45:26.705368",
          "2024-05-13T16:45:27.386767",
          "2024-05-13T16:45:28.076898",
          "2024-05-13T16:45:28.745006",
          "2024-05-13T16:45:29.446447",
          "2024-05-13T16:45:30.129132",
          "2024-05-13T16:45:30.809505",
          "2024-05-13T16:45:31.499215",
          "2024-05-13T16:45:32.188229",
          "2024-05-13T16:45:36.673114",
          "2024-05-13T16:45:37.582617",
          "2024-05-13T16:45:38.268357",
          "2024-05-13T16:45:38.961904",
          "2024-05-13T16:45:39.658970",
          "2024-05-13T16:45:40.340332",
          "2024-05-13T16:45:41.011949",
          "2024-05-13T16:45:41.721765",
          "2024-05-13T16:45:42.405917",
          "2024-05-13T16:45:43.082754",
          "2024-05-13T16:45:47.439822",
          "2024-05-13T16:45:48.243993",
          "2024-05-13T16:45:49.334768",
          "2024-05-13T16:45:49.996406",
          "2024-05-13T16:45:50.718188",
          "2024-05-13T16:45:51.410200",
          "2024-05-13T16:45:52.097142",
          "2024-05-13T16:45:52.782196",
          "2024-05-13T16:45:53.574601",
          "2024-05-13T16:45:54.363538",
          "2024-05-13T16:45:58.820426",
          "2024-05-13T16:45:59.720072",
          "2024-05-13T16:46:00.454099",
          "2024-05-13T16:46:01.164392",
          "2024-05-13T16:46:01.869050",
          "2024-05-13T16:46:02.593600",
          "2024-05-13T16:46:03.584599",
          "2024-05-13T16:46:04.356044",
          "2024-05-13T16:46:04.925559",
          "2024-05-13T16:46:05.616210",
          "2024-05-13T16:46:10.919674",
          "2024-05-13T16:46:11.621016",
          "2024-05-13T16:46:12.297558",
          "2024-05-13T16:46:12.980542",
          "2024-05-13T16:46:13.657226",
          "2024-05-13T16:46:14.335571",
          "2024-05-13T16:46:15.010855",
          "2024-05-13T16:46:15.687155",
          "2024-05-13T16:46:16.365285",
          "2024-05-13T16:46:17.043046",
          "2024-05-13T16:46:21.715481",
          "2024-05-13T16:46:22.414515",
          "2024-05-13T16:46:23.274895",
          "2024-05-13T16:46:24.013385",
          "2024-05-13T16:46:24.693855",
          "2024-05-13T16:46:25.375269",
          "2024-05-13T16:46:26.049664",
          "2024-05-13T16:46:26.799766",
          "2024-05-13T16:46:27.467885",
          "2024-05-13T16:46:28.193206",
          "2024-05-13T16:46:33.134095",
          "2024-05-13T16:46:33.922063",
          "2024-05-13T16:46:34.628700",
          "2024-05-13T16:46:35.318883",
          "2024-05-13T16:46:36.003386",
          "2024-05-13T16:46:36.684888",
          "2024-05-13T16:46:37.449015",
          "2024-05-13T16:46:38.206714",
          "2024-05-13T16:46:38.904698",
          "2024-05-13T16:46:39.592922",
          "2024-05-13T16:46:44.621943",
          "2024-05-13T16:46:45.549345",
          "2024-05-13T16:46:46.318909",
          "2024-05-13T16:46:47.069166",
          "2024-05-13T16:46:47.757361",
          "2024-05-13T16:46:48.446655",
          "2024-05-13T16:46:49.128337",
          "2024-05-13T16:46:49.822367",
          "2024-05-13T16:46:50.495862",
          "2024-05-13T16:46:51.180779",
          "2024-05-13T16:46:56.382949",
          "2024-05-13T16:46:57.411077",
          "2024-05-13T16:46:58.096869",
          "2024-05-13T16:46:58.780988",
          "2024-05-13T16:46:59.709686",
          "2024-05-13T16:47:00.323914",
          "2024-05-13T16:47:00.975368",
          "2024-05-13T16:47:01.675729",
          "2024-05-13T16:47:02.655189",
          "2024-05-13T16:47:03.262166",
          "2024-05-13T16:47:08.341877",
          "2024-05-13T16:47:09.103959",
          "2024-05-13T16:47:09.783746",
          "2024-05-13T16:47:10.467690",
          "2024-05-13T16:47:11.146906",
          "2024-05-13T16:47:11.829861",
          "2024-05-13T16:47:12.510318",
          "2024-05-13T16:47:13.191645",
          "2024-05-13T16:47:13.869711",
          "2024-05-13T16:47:14.604722",
          "2024-05-13T16:47:19.804229",
          "2024-05-13T16:47:20.538277",
          "2024-05-13T16:47:21.236056",
          "2024-05-13T16:47:21.943385",
          "2024-05-13T16:47:22.631165",
          "2024-05-13T16:47:23.314949",
          "2024-05-13T16:47:24.003132",
          "2024-05-13T16:47:24.712957",
          "2024-05-13T16:47:25.404056",
          "2024-05-13T16:47:26.108765",
          "2024-05-13T16:47:30.508538",
          "2024-05-13T16:47:31.297562",
          "2024-05-13T16:47:31.971672",
          "2024-05-13T16:47:32.709974",
          "2024-05-13T16:47:33.433814",
          "2024-05-13T16:47:34.145444",
          "2024-05-13T16:47:34.854325",
          "2024-05-13T16:47:35.595898",
          "2024-05-13T16:47:36.246422",
          "2024-05-13T16:47:36.949534"
         ],
         "xaxis": "x",
         "y": [
          1.5386884212493896,
          1.188554048538208,
          1.538041114807129,
          1.0256234407424927,
          1.0419625043869019,
          1.0332759618759155,
          1.006408929824829,
          1.0065696239471436,
          1.0266364812850952,
          1.0077248811721802,
          1.0386648178100586,
          1.0087052583694458,
          1.5451939105987549,
          1.6367406845092773,
          1.4579826593399048,
          1.6265980005264282,
          1.626559853553772,
          1.6268863677978516,
          1.6358455419540405,
          1.635782241821289,
          1.6298474073410034,
          1.4522180557250977,
          1.0905354022979736,
          1.2999608516693115,
          1.047532558441162,
          1.0131455659866333,
          1.0690524578094482,
          1.1026400327682495,
          1.1090986728668213,
          1.0524108409881592,
          1.0950217247009277,
          1.1575692892074585,
          1.2639360427856445,
          1.1663964986801147,
          1.1070170402526855,
          1.0370442867279053,
          1.0409258604049683,
          1.0544418096542358,
          1.0637394189834595,
          1.0484833717346191,
          1.034951090812683,
          1.0434904098510742,
          1.5124260187149048,
          1.3862943649291992,
          1.3862942457199097,
          1.3862943649291992,
          1.3862943649291992,
          1.3862943649291992,
          1.386293888092041,
          1.3862943649291992,
          1.3862942457199097,
          1.3862943649291992,
          1.3862943649291992,
          1.3862943649291992,
          1.386293649673462,
          1.386293649673462,
          1.386293649673462,
          1.3862943649291992,
          1.3862943649291992,
          1.3862922191619873,
          1.3862943649291992,
          1.3862864971160889,
          1.3862411975860596,
          1.3862956762313843,
          1.386296272277832,
          1.386351227760315,
          1.3863234519958496,
          1.3862943649291992,
          1.3862922191619873,
          1.3862569332122803,
          1.3862903118133545,
          1.3862943649291992,
          1.3862800598144531,
          1.3862941265106201,
          1.3862683773040771,
          1.3862926959991455,
          1.3862934112548828,
          1.3862903118133545,
          1.3862943649291992,
          1.3862943649291992,
          1.3862941265106201,
          1.386293888092041,
          1.3862881660461426,
          1.3862721920013428,
          1.3862943649291992,
          1.3862916231155396,
          1.3862900733947754,
          1.3862941265106201,
          1.3864176273345947,
          1.386293888092041,
          1.3862943649291992,
          1.386277198791504,
          1.3862943649291992,
          1.386293888092041,
          1.3862943649291992,
          1.3862943649291992,
          1.3862946033477783,
          1.3862957954406738,
          1.3862954378128052,
          1.3862569332122803,
          1.3861980438232422,
          1.3862953186035156,
          1.3863036632537842,
          1.386297345161438,
          1.3862429857254028,
          1.3862943649291992,
          1.3862884044647217,
          1.3862943649291992,
          1.3862807750701904,
          1.3861420154571533,
          1.3862918615341187,
          1.3862943649291992,
          1.3862919807434082,
          1.3862743377685547,
          1.3862943649291992,
          1.3862797021865845,
          1.3862888813018799,
          1.3862943649291992,
          1.3862919807434082,
          1.3862652778625488,
          1.3862935304641724,
          1.3845438957214355,
          1.3819873332977295,
          1.3555409908294678,
          1.483567237854004,
          1.3762245178222656,
          1.3836982250213623,
          1.3705737590789795,
          1.3791277408599854,
          1.473952293395996,
          1.3858387470245361,
          1.386293888092041,
          1.3863024711608887,
          1.3783879280090332,
          1.3840060234069824,
          1.3862208127975464,
          1.363142967224121,
          1.3862638473510742,
          1.3862946033477783,
          1.3862947225570679,
          1.3862943649291992,
          1.386267900466919,
          1.3862943649291992,
          1.385428547859192,
          1.386256217956543,
          1.3862371444702148,
          1.3862943649291992,
          1.3861700296401978,
          1.3790054321289062,
          1.374436616897583,
          1.3762025833129883,
          1.4124505519866943,
          1.414506435394287,
          1.3954960107803345,
          1.3863352537155151,
          1.3838759660720825,
          1.3880339860916138,
          1.3862943649291992,
          1.3862943649291992,
          1.3771520853042603,
          1.3854026794433594,
          1.3862950801849365,
          1.3804023265838623,
          1.370530128479004,
          1.3862932920455933,
          1.3629429340362549,
          1.3867065906524658,
          1.3780817985534668,
          1.3953800201416016,
          1.3768826723098755,
          1.3625102043151855,
          1.379072904586792,
          1.3862942457199097,
          1.3862943649291992,
          1.3862943649291992,
          1.376943588256836,
          1.3862944841384888,
          1.3862943649291992,
          1.3768435716629028,
          1.38590407371521,
          1.3763301372528076,
          1.3658077716827393,
          1.3737688064575195,
          1.3647935390472412,
          1.4016447067260742,
          1.3728032112121582,
          1.3759539127349854,
          1.3823981285095215,
          1.3903535604476929,
          1.4197393655776978,
          1.4141780138015747,
          1.3767971992492676,
          1.3851711750030518,
          1.384913444519043,
          1.3466272354125977,
          1.3677726984024048,
          1.3827372789382935,
          1.3476009368896484,
          1.3777885437011719,
          1.3768094778060913,
          1.364722490310669,
          1.3669357299804688,
          1.3630125522613525,
          1.373551368713379,
          1.3417904376983643,
          1.3500897884368896,
          1.3700979948043823,
          1.3427612781524658,
          1.367046594619751,
          1.3628184795379639,
          1.3614437580108643,
          1.3768248558044434,
          1.3616929054260254,
          1.3751296997070312,
          1.3178086280822754,
          1.385269045829773,
          1.3893463611602783,
          1.3706728219985962,
          1.3783025741577148,
          1.3765754699707031,
          1.3670436143875122,
          1.3104768991470337,
          1.3577210903167725,
          1.3198626041412354,
          1.3363151550292969,
          1.3576991558074951,
          1.3548316955566406,
          1.3414322137832642,
          1.3638103008270264,
          1.3476479053497314,
          1.3153151273727417,
          1.2812683582305908,
          1.2647045850753784,
          1.271484136581421,
          1.4260036945343018,
          1.3534826040267944,
          1.3111364841461182,
          1.407241702079773,
          1.4250690937042236,
          1.4225594997406006,
          1.358096957206726,
          1.3925858736038208,
          1.393262267112732,
          1.3756757974624634,
          1.364510178565979,
          1.3777437210083008,
          1.379188060760498,
          1.36599862575531,
          1.3763127326965332,
          1.3650941848754883,
          1.3653119802474976
         ],
         "yaxis": "y"
        }
       ],
       "layout": {
        "legend": {
         "title": {
          "text": "name"
         },
         "tracegroupgap": 0
        },
        "template": {
         "data": {
          "bar": [
           {
            "error_x": {
             "color": "#2a3f5f"
            },
            "error_y": {
             "color": "#2a3f5f"
            },
            "marker": {
             "line": {
              "color": "white",
              "width": 0.5
             },
             "pattern": {
              "fillmode": "overlay",
              "size": 10,
              "solidity": 0.2
             }
            },
            "type": "bar"
           }
          ],
          "barpolar": [
           {
            "marker": {
             "line": {
              "color": "white",
              "width": 0.5
             },
             "pattern": {
              "fillmode": "overlay",
              "size": 10,
              "solidity": 0.2
             }
            },
            "type": "barpolar"
           }
          ],
          "carpet": [
           {
            "aaxis": {
             "endlinecolor": "#2a3f5f",
             "gridcolor": "#C8D4E3",
             "linecolor": "#C8D4E3",
             "minorgridcolor": "#C8D4E3",
             "startlinecolor": "#2a3f5f"
            },
            "baxis": {
             "endlinecolor": "#2a3f5f",
             "gridcolor": "#C8D4E3",
             "linecolor": "#C8D4E3",
             "minorgridcolor": "#C8D4E3",
             "startlinecolor": "#2a3f5f"
            },
            "type": "carpet"
           }
          ],
          "choropleth": [
           {
            "colorbar": {
             "outlinewidth": 0,
             "ticks": ""
            },
            "type": "choropleth"
           }
          ],
          "contour": [
           {
            "colorbar": {
             "outlinewidth": 0,
             "ticks": ""
            },
            "colorscale": [
             [
              0,
              "#0d0887"
             ],
             [
              0.1111111111111111,
              "#46039f"
             ],
             [
              0.2222222222222222,
              "#7201a8"
             ],
             [
              0.3333333333333333,
              "#9c179e"
             ],
             [
              0.4444444444444444,
              "#bd3786"
             ],
             [
              0.5555555555555556,
              "#d8576b"
             ],
             [
              0.6666666666666666,
              "#ed7953"
             ],
             [
              0.7777777777777778,
              "#fb9f3a"
             ],
             [
              0.8888888888888888,
              "#fdca26"
             ],
             [
              1,
              "#f0f921"
             ]
            ],
            "type": "contour"
           }
          ],
          "contourcarpet": [
           {
            "colorbar": {
             "outlinewidth": 0,
             "ticks": ""
            },
            "type": "contourcarpet"
           }
          ],
          "heatmap": [
           {
            "colorbar": {
             "outlinewidth": 0,
             "ticks": ""
            },
            "colorscale": [
             [
              0,
              "#0d0887"
             ],
             [
              0.1111111111111111,
              "#46039f"
             ],
             [
              0.2222222222222222,
              "#7201a8"
             ],
             [
              0.3333333333333333,
              "#9c179e"
             ],
             [
              0.4444444444444444,
              "#bd3786"
             ],
             [
              0.5555555555555556,
              "#d8576b"
             ],
             [
              0.6666666666666666,
              "#ed7953"
             ],
             [
              0.7777777777777778,
              "#fb9f3a"
             ],
             [
              0.8888888888888888,
              "#fdca26"
             ],
             [
              1,
              "#f0f921"
             ]
            ],
            "type": "heatmap"
           }
          ],
          "heatmapgl": [
           {
            "colorbar": {
             "outlinewidth": 0,
             "ticks": ""
            },
            "colorscale": [
             [
              0,
              "#0d0887"
             ],
             [
              0.1111111111111111,
              "#46039f"
             ],
             [
              0.2222222222222222,
              "#7201a8"
             ],
             [
              0.3333333333333333,
              "#9c179e"
             ],
             [
              0.4444444444444444,
              "#bd3786"
             ],
             [
              0.5555555555555556,
              "#d8576b"
             ],
             [
              0.6666666666666666,
              "#ed7953"
             ],
             [
              0.7777777777777778,
              "#fb9f3a"
             ],
             [
              0.8888888888888888,
              "#fdca26"
             ],
             [
              1,
              "#f0f921"
             ]
            ],
            "type": "heatmapgl"
           }
          ],
          "histogram": [
           {
            "marker": {
             "pattern": {
              "fillmode": "overlay",
              "size": 10,
              "solidity": 0.2
             }
            },
            "type": "histogram"
           }
          ],
          "histogram2d": [
           {
            "colorbar": {
             "outlinewidth": 0,
             "ticks": ""
            },
            "colorscale": [
             [
              0,
              "#0d0887"
             ],
             [
              0.1111111111111111,
              "#46039f"
             ],
             [
              0.2222222222222222,
              "#7201a8"
             ],
             [
              0.3333333333333333,
              "#9c179e"
             ],
             [
              0.4444444444444444,
              "#bd3786"
             ],
             [
              0.5555555555555556,
              "#d8576b"
             ],
             [
              0.6666666666666666,
              "#ed7953"
             ],
             [
              0.7777777777777778,
              "#fb9f3a"
             ],
             [
              0.8888888888888888,
              "#fdca26"
             ],
             [
              1,
              "#f0f921"
             ]
            ],
            "type": "histogram2d"
           }
          ],
          "histogram2dcontour": [
           {
            "colorbar": {
             "outlinewidth": 0,
             "ticks": ""
            },
            "colorscale": [
             [
              0,
              "#0d0887"
             ],
             [
              0.1111111111111111,
              "#46039f"
             ],
             [
              0.2222222222222222,
              "#7201a8"
             ],
             [
              0.3333333333333333,
              "#9c179e"
             ],
             [
              0.4444444444444444,
              "#bd3786"
             ],
             [
              0.5555555555555556,
              "#d8576b"
             ],
             [
              0.6666666666666666,
              "#ed7953"
             ],
             [
              0.7777777777777778,
              "#fb9f3a"
             ],
             [
              0.8888888888888888,
              "#fdca26"
             ],
             [
              1,
              "#f0f921"
             ]
            ],
            "type": "histogram2dcontour"
           }
          ],
          "mesh3d": [
           {
            "colorbar": {
             "outlinewidth": 0,
             "ticks": ""
            },
            "type": "mesh3d"
           }
          ],
          "parcoords": [
           {
            "line": {
             "colorbar": {
              "outlinewidth": 0,
              "ticks": ""
             }
            },
            "type": "parcoords"
           }
          ],
          "pie": [
           {
            "automargin": true,
            "type": "pie"
           }
          ],
          "scatter": [
           {
            "fillpattern": {
             "fillmode": "overlay",
             "size": 10,
             "solidity": 0.2
            },
            "type": "scatter"
           }
          ],
          "scatter3d": [
           {
            "line": {
             "colorbar": {
              "outlinewidth": 0,
              "ticks": ""
             }
            },
            "marker": {
             "colorbar": {
              "outlinewidth": 0,
              "ticks": ""
             }
            },
            "type": "scatter3d"
           }
          ],
          "scattercarpet": [
           {
            "marker": {
             "colorbar": {
              "outlinewidth": 0,
              "ticks": ""
             }
            },
            "type": "scattercarpet"
           }
          ],
          "scattergeo": [
           {
            "marker": {
             "colorbar": {
              "outlinewidth": 0,
              "ticks": ""
             }
            },
            "type": "scattergeo"
           }
          ],
          "scattergl": [
           {
            "marker": {
             "colorbar": {
              "outlinewidth": 0,
              "ticks": ""
             }
            },
            "type": "scattergl"
           }
          ],
          "scattermapbox": [
           {
            "marker": {
             "colorbar": {
              "outlinewidth": 0,
              "ticks": ""
             }
            },
            "type": "scattermapbox"
           }
          ],
          "scatterpolar": [
           {
            "marker": {
             "colorbar": {
              "outlinewidth": 0,
              "ticks": ""
             }
            },
            "type": "scatterpolar"
           }
          ],
          "scatterpolargl": [
           {
            "marker": {
             "colorbar": {
              "outlinewidth": 0,
              "ticks": ""
             }
            },
            "type": "scatterpolargl"
           }
          ],
          "scatterternary": [
           {
            "marker": {
             "colorbar": {
              "outlinewidth": 0,
              "ticks": ""
             }
            },
            "type": "scatterternary"
           }
          ],
          "surface": [
           {
            "colorbar": {
             "outlinewidth": 0,
             "ticks": ""
            },
            "colorscale": [
             [
              0,
              "#0d0887"
             ],
             [
              0.1111111111111111,
              "#46039f"
             ],
             [
              0.2222222222222222,
              "#7201a8"
             ],
             [
              0.3333333333333333,
              "#9c179e"
             ],
             [
              0.4444444444444444,
              "#bd3786"
             ],
             [
              0.5555555555555556,
              "#d8576b"
             ],
             [
              0.6666666666666666,
              "#ed7953"
             ],
             [
              0.7777777777777778,
              "#fb9f3a"
             ],
             [
              0.8888888888888888,
              "#fdca26"
             ],
             [
              1,
              "#f0f921"
             ]
            ],
            "type": "surface"
           }
          ],
          "table": [
           {
            "cells": {
             "fill": {
              "color": "#EBF0F8"
             },
             "line": {
              "color": "white"
             }
            },
            "header": {
             "fill": {
              "color": "#C8D4E3"
             },
             "line": {
              "color": "white"
             }
            },
            "type": "table"
           }
          ]
         },
         "layout": {
          "annotationdefaults": {
           "arrowcolor": "#2a3f5f",
           "arrowhead": 0,
           "arrowwidth": 1
          },
          "autotypenumbers": "strict",
          "coloraxis": {
           "colorbar": {
            "outlinewidth": 0,
            "ticks": ""
           }
          },
          "colorscale": {
           "diverging": [
            [
             0,
             "#8e0152"
            ],
            [
             0.1,
             "#c51b7d"
            ],
            [
             0.2,
             "#de77ae"
            ],
            [
             0.3,
             "#f1b6da"
            ],
            [
             0.4,
             "#fde0ef"
            ],
            [
             0.5,
             "#f7f7f7"
            ],
            [
             0.6,
             "#e6f5d0"
            ],
            [
             0.7,
             "#b8e186"
            ],
            [
             0.8,
             "#7fbc41"
            ],
            [
             0.9,
             "#4d9221"
            ],
            [
             1,
             "#276419"
            ]
           ],
           "sequential": [
            [
             0,
             "#0d0887"
            ],
            [
             0.1111111111111111,
             "#46039f"
            ],
            [
             0.2222222222222222,
             "#7201a8"
            ],
            [
             0.3333333333333333,
             "#9c179e"
            ],
            [
             0.4444444444444444,
             "#bd3786"
            ],
            [
             0.5555555555555556,
             "#d8576b"
            ],
            [
             0.6666666666666666,
             "#ed7953"
            ],
            [
             0.7777777777777778,
             "#fb9f3a"
            ],
            [
             0.8888888888888888,
             "#fdca26"
            ],
            [
             1,
             "#f0f921"
            ]
           ],
           "sequentialminus": [
            [
             0,
             "#0d0887"
            ],
            [
             0.1111111111111111,
             "#46039f"
            ],
            [
             0.2222222222222222,
             "#7201a8"
            ],
            [
             0.3333333333333333,
             "#9c179e"
            ],
            [
             0.4444444444444444,
             "#bd3786"
            ],
            [
             0.5555555555555556,
             "#d8576b"
            ],
            [
             0.6666666666666666,
             "#ed7953"
            ],
            [
             0.7777777777777778,
             "#fb9f3a"
            ],
            [
             0.8888888888888888,
             "#fdca26"
            ],
            [
             1,
             "#f0f921"
            ]
           ]
          },
          "colorway": [
           "#636efa",
           "#EF553B",
           "#00cc96",
           "#ab63fa",
           "#FFA15A",
           "#19d3f3",
           "#FF6692",
           "#B6E880",
           "#FF97FF",
           "#FECB52"
          ],
          "font": {
           "color": "#2a3f5f"
          },
          "geo": {
           "bgcolor": "white",
           "lakecolor": "white",
           "landcolor": "white",
           "showlakes": true,
           "showland": true,
           "subunitcolor": "#C8D4E3"
          },
          "hoverlabel": {
           "align": "left"
          },
          "hovermode": "closest",
          "mapbox": {
           "style": "light"
          },
          "paper_bgcolor": "white",
          "plot_bgcolor": "white",
          "polar": {
           "angularaxis": {
            "gridcolor": "#EBF0F8",
            "linecolor": "#EBF0F8",
            "ticks": ""
           },
           "bgcolor": "white",
           "radialaxis": {
            "gridcolor": "#EBF0F8",
            "linecolor": "#EBF0F8",
            "ticks": ""
           }
          },
          "scene": {
           "xaxis": {
            "backgroundcolor": "white",
            "gridcolor": "#DFE8F3",
            "gridwidth": 2,
            "linecolor": "#EBF0F8",
            "showbackground": true,
            "ticks": "",
            "zerolinecolor": "#EBF0F8"
           },
           "yaxis": {
            "backgroundcolor": "white",
            "gridcolor": "#DFE8F3",
            "gridwidth": 2,
            "linecolor": "#EBF0F8",
            "showbackground": true,
            "ticks": "",
            "zerolinecolor": "#EBF0F8"
           },
           "zaxis": {
            "backgroundcolor": "white",
            "gridcolor": "#DFE8F3",
            "gridwidth": 2,
            "linecolor": "#EBF0F8",
            "showbackground": true,
            "ticks": "",
            "zerolinecolor": "#EBF0F8"
           }
          },
          "shapedefaults": {
           "line": {
            "color": "#2a3f5f"
           }
          },
          "ternary": {
           "aaxis": {
            "gridcolor": "#DFE8F3",
            "linecolor": "#A2B1C6",
            "ticks": ""
           },
           "baxis": {
            "gridcolor": "#DFE8F3",
            "linecolor": "#A2B1C6",
            "ticks": ""
           },
           "bgcolor": "white",
           "caxis": {
            "gridcolor": "#DFE8F3",
            "linecolor": "#A2B1C6",
            "ticks": ""
           }
          },
          "title": {
           "x": 0.05
          },
          "xaxis": {
           "automargin": true,
           "gridcolor": "#EBF0F8",
           "linecolor": "#EBF0F8",
           "ticks": "",
           "title": {
            "standoff": 15
           },
           "zerolinecolor": "#EBF0F8",
           "zerolinewidth": 2
          },
          "yaxis": {
           "automargin": true,
           "gridcolor": "#EBF0F8",
           "linecolor": "#EBF0F8",
           "ticks": "",
           "title": {
            "standoff": 15
           },
           "zerolinecolor": "#EBF0F8",
           "zerolinewidth": 2
          }
         }
        },
        "title": {
         "text": "Client logs"
        },
        "xaxis": {
         "anchor": "y",
         "domain": [
          0,
          1
         ],
         "title": {
          "text": "start_time"
         }
        },
        "yaxis": {
         "anchor": "x",
         "domain": [
          0,
          1
         ],
         "title": {
          "text": "d_total_loss"
         }
        }
       }
      }
     },
     "metadata": {},
     "output_type": "display_data"
    }
   ],
   "source": [
    "px.line(\n",
    "    clients_df[clients_df[\"name\"].isin(only_workers)],\n",
    "    x=\"start_time\",\n",
    "    y=\"d_total_loss\",\n",
    "    color=\"name\",\n",
    "    title=\"Client logs\",\n",
    "    template=\"plotly_white\"\n",
    ")"
   ]
  },
  {
   "cell_type": "code",
   "execution_count": 17,
   "metadata": {},
   "outputs": [
    {
     "data": {
      "text/html": [
       "<div>\n",
       "<style scoped>\n",
       "    .dataframe tbody tr th:only-of-type {\n",
       "        vertical-align: middle;\n",
       "    }\n",
       "\n",
       "    .dataframe tbody tr th {\n",
       "        vertical-align: top;\n",
       "    }\n",
       "\n",
       "    .dataframe thead th {\n",
       "        text-align: right;\n",
       "    }\n",
       "</style>\n",
       "<table border=\"1\" class=\"dataframe\">\n",
       "  <thead>\n",
       "    <tr style=\"text-align: right;\">\n",
       "      <th></th>\n",
       "      <th>start_time</th>\n",
       "      <th>end_time</th>\n",
       "      <th>name</th>\n",
       "    </tr>\n",
       "  </thead>\n",
       "  <tbody>\n",
       "    <tr>\n",
       "      <th>0</th>\n",
       "      <td>2024-05-13 16:42:50.737629890</td>\n",
       "      <td>2024-05-13 16:42:51.974203825</td>\n",
       "      <td>worker_1</td>\n",
       "    </tr>\n",
       "    <tr>\n",
       "      <th>1</th>\n",
       "      <td>2024-05-13 16:42:56.086025000</td>\n",
       "      <td>2024-05-13 16:42:56.219267130</td>\n",
       "      <td>worker_1</td>\n",
       "    </tr>\n",
       "    <tr>\n",
       "      <th>2</th>\n",
       "      <td>2024-05-13 16:42:56.915130854</td>\n",
       "      <td>2024-05-13 16:42:56.935981989</td>\n",
       "      <td>worker_1</td>\n",
       "    </tr>\n",
       "    <tr>\n",
       "      <th>3</th>\n",
       "      <td>2024-05-13 16:42:57.597502947</td>\n",
       "      <td>2024-05-13 16:42:57.611941099</td>\n",
       "      <td>worker_1</td>\n",
       "    </tr>\n",
       "    <tr>\n",
       "      <th>4</th>\n",
       "      <td>2024-05-13 16:42:58.284208059</td>\n",
       "      <td>2024-05-13 16:42:58.310095072</td>\n",
       "      <td>worker_1</td>\n",
       "    </tr>\n",
       "    <tr>\n",
       "      <th>...</th>\n",
       "      <td>...</td>\n",
       "      <td>...</td>\n",
       "      <td>...</td>\n",
       "    </tr>\n",
       "    <tr>\n",
       "      <th>245</th>\n",
       "      <td>2024-05-13 16:47:33.159618139</td>\n",
       "      <td>2024-05-13 16:47:33.873998165</td>\n",
       "      <td>server</td>\n",
       "    </tr>\n",
       "    <tr>\n",
       "      <th>246</th>\n",
       "      <td>2024-05-13 16:47:33.876946926</td>\n",
       "      <td>2024-05-13 16:47:34.547715187</td>\n",
       "      <td>server</td>\n",
       "    </tr>\n",
       "    <tr>\n",
       "      <th>247</th>\n",
       "      <td>2024-05-13 16:47:34.550444126</td>\n",
       "      <td>2024-05-13 16:47:35.293417931</td>\n",
       "      <td>server</td>\n",
       "    </tr>\n",
       "    <tr>\n",
       "      <th>248</th>\n",
       "      <td>2024-05-13 16:47:35.296792030</td>\n",
       "      <td>2024-05-13 16:47:35.963169098</td>\n",
       "      <td>server</td>\n",
       "    </tr>\n",
       "    <tr>\n",
       "      <th>249</th>\n",
       "      <td>2024-05-13 16:47:35.966096878</td>\n",
       "      <td>2024-05-13 16:47:36.641231775</td>\n",
       "      <td>server</td>\n",
       "    </tr>\n",
       "  </tbody>\n",
       "</table>\n",
       "<p>3260 rows × 3 columns</p>\n",
       "</div>"
      ],
      "text/plain": [
       "                       start_time                      end_time      name\n",
       "0   2024-05-13 16:42:50.737629890 2024-05-13 16:42:51.974203825  worker_1\n",
       "1   2024-05-13 16:42:56.086025000 2024-05-13 16:42:56.219267130  worker_1\n",
       "2   2024-05-13 16:42:56.915130854 2024-05-13 16:42:56.935981989  worker_1\n",
       "3   2024-05-13 16:42:57.597502947 2024-05-13 16:42:57.611941099  worker_1\n",
       "4   2024-05-13 16:42:58.284208059 2024-05-13 16:42:58.310095072  worker_1\n",
       "..                            ...                           ...       ...\n",
       "245 2024-05-13 16:47:33.159618139 2024-05-13 16:47:33.873998165    server\n",
       "246 2024-05-13 16:47:33.876946926 2024-05-13 16:47:34.547715187    server\n",
       "247 2024-05-13 16:47:34.550444126 2024-05-13 16:47:35.293417931    server\n",
       "248 2024-05-13 16:47:35.296792030 2024-05-13 16:47:35.963169098    server\n",
       "249 2024-05-13 16:47:35.966096878 2024-05-13 16:47:36.641231775    server\n",
       "\n",
       "[3260 rows x 3 columns]"
      ]
     },
     "execution_count": 17,
     "metadata": {},
     "output_type": "execute_result"
    }
   ],
   "source": [
    "clients_and_server_df = pd.concat(\n",
    "    [\n",
    "        clients_df[[\"start_time\", \"end_time\", \"name\"]],\n",
    "        server_df[[\"start_time\", \"end_time\", \"name\"]],\n",
    "    ]\n",
    ")\n",
    "clients_and_server_df"
   ]
  },
  {
   "cell_type": "code",
   "execution_count": 18,
   "metadata": {},
   "outputs": [],
   "source": [
    "timeline = px.timeline(\n",
    "    clients_and_server_df,\n",
    "    x_start=\"start_time\",\n",
    "    x_end=\"end_time\",\n",
    "    color=\"name\",\n",
    "    title=\"Client logs\",\n",
    "    opacity=0.4,\n",
    "    template=\"plotly_white\"\n",
    ")\n",
    "# add vertical line to show when server logs started\n",
    "for i in server_df[\"start_time\"]:\n",
    "    timeline.add_vline(x=i, line_dash=\"dash\", line_color=\"red\")\n",
    "timeline.show()"
   ]
  }
 ],
 "metadata": {
  "kernelspec": {
   "display_name": ".venv",
   "language": "python",
   "name": "python3"
  },
  "language_info": {
   "codemirror_mode": {
    "name": "ipython",
    "version": 3
   },
   "file_extension": ".py",
   "mimetype": "text/x-python",
   "name": "python",
   "nbconvert_exporter": "python",
   "pygments_lexer": "ipython3",
   "version": "3.9.18"
  }
 },
 "nbformat": 4,
 "nbformat_minor": 2
}
