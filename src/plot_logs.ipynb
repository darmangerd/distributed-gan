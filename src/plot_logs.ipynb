{
 "cells": [
  {
   "cell_type": "code",
   "execution_count": 1,
   "metadata": {},
   "outputs": [],
   "source": [
    "import plotly.express as px\n",
    "import numpy as np\n",
    "import pandas as pd\n",
    "from glob import glob\n",
    "from pathlib import Path\n",
    "from IPython.display import display, HTML\n",
    "import plotly.graph_objects as go\n",
    "import json\n",
    "import os\n",
    "import time\n",
    "from typing import List, Dict, Any, Tuple\n",
    "from pathlib import Path"
   ]
  },
  {
   "cell_type": "code",
   "execution_count": 2,
   "metadata": {},
   "outputs": [],
   "source": [
    "logs_path = Path(\"logs\")"
   ]
  },
  {
   "cell_type": "markdown",
   "metadata": {},
   "source": [
    "# Standalone"
   ]
  },
  {
   "cell_type": "code",
   "execution_count": 3,
   "metadata": {},
   "outputs": [],
   "source": [
    "def compute_time_elapsed(df: pd.DataFrame, columns_pairs: List[Tuple[str, str]]) -> pd.DataFrame:\n",
    "    for column_pair in columns_pairs:\n",
    "        start_column, end_column = column_pair\n",
    "        event_name = start_column.replace(\"start.\", \"\")\n",
    "        df[f\"time_elapsed.{event_name}\"] = (df[end_column] - df[start_column]).dt.total_seconds()\n",
    "    return df\n",
    "\n",
    "def convert_all_pairs_to_datetime(df: pd.DataFrame) -> pd.DataFrame:\n",
    "    for columns in df.columns:\n",
    "        if columns.startswith(\"start\") or columns.startswith(\"end\"):\n",
    "            df[columns] = pd.to_datetime(df[columns], unit=\"s\")\n",
    "    return df\n",
    "\n",
    "def retrieve_start_end_pairs(df: pd.DataFrame) -> List[Tuple[str, str]]:\n",
    "    start_end_pairs: List[Tuple[str, str]] = []\n",
    "    for column in df.columns:\n",
    "        if column.startswith(\"start\"):\n",
    "            start_column = column\n",
    "            end_column = column.replace(\"start\", \"end\")\n",
    "            start_end_pairs.append((start_column, end_column))\n",
    "    return start_end_pairs\n",
    "\n",
    "def dataset_for_every_events(df: pd.DataFrame, columns_pairs: List[Tuple[str, str]], name: Path) -> pd.DataFrame:\n",
    "    dfs: List[pd.DataFrame] = []\n",
    "    for column_pair in columns_pairs:\n",
    "        start_column, end_column = column_pair\n",
    "        event_name = start_column.replace(\"start.\", \"\")\n",
    "        df_event = df[[start_column, end_column]]\n",
    "        df_event.columns = [\"start\", \"end\"]\n",
    "        df_event.dropna(inplace=True)\n",
    "        df_event[\"event\"] = event_name\n",
    "        # substract the start time to the first event (datetime object) to get the time elapsed\n",
    "        df_event[\"time_elapsed\"] = (df_event[\"end\"] - df_event[\"start\"]).dt.total_seconds()\n",
    "        df_event[\"name\"] = name.name\n",
    "        df_event[\"legend\"] = f\"{event_name} ({name})\"\n",
    "        df_event[\"index\"] = df_event.index\n",
    "        dfs.append(df_event)\n",
    "    return pd.concat(dfs)\n",
    "\n",
    "def align_start_times(diff_time: float, df: pd.DataFrame) -> pd.DataFrame:\n",
    "    for column in df.columns:\n",
    "        if column.startswith(\"start\") or column.startswith(\"end\"):\n",
    "            df[column] = df[column] + pd.Timedelta(seconds=diff_time)\n",
    "    return df"
   ]
  },
  {
   "cell_type": "markdown",
   "metadata": {},
   "source": [
    "# Distributed"
   ]
  },
  {
   "cell_type": "code",
   "execution_count": 4,
   "metadata": {},
   "outputs": [
    {
     "name": "stdout",
     "output_type": "stream",
     "text": [
      "[('start.epoch', 'end.epoch'), ('start.train', 'end.train'), ('start.recv_data', 'end.recv_data'), ('start.send', 'end.send'), ('start.swap_recv', 'end.swap_recv'), ('start.swap_send', 'end.swap_send')]\n"
     ]
    },
    {
     "name": "stderr",
     "output_type": "stream",
     "text": [
      "/var/folders/67/cm4smmds2bqf7q68jzsyvh840000gn/T/ipykernel_29154/3464380018.py:30: SettingWithCopyWarning: \n",
      "A value is trying to be set on a copy of a slice from a DataFrame\n",
      "\n",
      "See the caveats in the documentation: https://pandas.pydata.org/pandas-docs/stable/user_guide/indexing.html#returning-a-view-versus-a-copy\n",
      "  df_event.dropna(inplace=True)\n",
      "/var/folders/67/cm4smmds2bqf7q68jzsyvh840000gn/T/ipykernel_29154/3464380018.py:31: SettingWithCopyWarning: \n",
      "A value is trying to be set on a copy of a slice from a DataFrame.\n",
      "Try using .loc[row_indexer,col_indexer] = value instead\n",
      "\n",
      "See the caveats in the documentation: https://pandas.pydata.org/pandas-docs/stable/user_guide/indexing.html#returning-a-view-versus-a-copy\n",
      "  df_event[\"event\"] = event_name\n",
      "/var/folders/67/cm4smmds2bqf7q68jzsyvh840000gn/T/ipykernel_29154/3464380018.py:33: SettingWithCopyWarning: \n",
      "A value is trying to be set on a copy of a slice from a DataFrame.\n",
      "Try using .loc[row_indexer,col_indexer] = value instead\n",
      "\n",
      "See the caveats in the documentation: https://pandas.pydata.org/pandas-docs/stable/user_guide/indexing.html#returning-a-view-versus-a-copy\n",
      "  df_event[\"time_elapsed\"] = (df_event[\"end\"] - df_event[\"start\"]).dt.total_seconds()\n",
      "/var/folders/67/cm4smmds2bqf7q68jzsyvh840000gn/T/ipykernel_29154/3464380018.py:34: SettingWithCopyWarning: \n",
      "A value is trying to be set on a copy of a slice from a DataFrame.\n",
      "Try using .loc[row_indexer,col_indexer] = value instead\n",
      "\n",
      "See the caveats in the documentation: https://pandas.pydata.org/pandas-docs/stable/user_guide/indexing.html#returning-a-view-versus-a-copy\n",
      "  df_event[\"name\"] = name.name\n",
      "/var/folders/67/cm4smmds2bqf7q68jzsyvh840000gn/T/ipykernel_29154/3464380018.py:35: SettingWithCopyWarning: \n",
      "A value is trying to be set on a copy of a slice from a DataFrame.\n",
      "Try using .loc[row_indexer,col_indexer] = value instead\n",
      "\n",
      "See the caveats in the documentation: https://pandas.pydata.org/pandas-docs/stable/user_guide/indexing.html#returning-a-view-versus-a-copy\n",
      "  df_event[\"legend\"] = f\"{event_name} ({name})\"\n",
      "/var/folders/67/cm4smmds2bqf7q68jzsyvh840000gn/T/ipykernel_29154/3464380018.py:36: SettingWithCopyWarning: \n",
      "A value is trying to be set on a copy of a slice from a DataFrame.\n",
      "Try using .loc[row_indexer,col_indexer] = value instead\n",
      "\n",
      "See the caveats in the documentation: https://pandas.pydata.org/pandas-docs/stable/user_guide/indexing.html#returning-a-view-versus-a-copy\n",
      "  df_event[\"index\"] = df_event.index\n",
      "/var/folders/67/cm4smmds2bqf7q68jzsyvh840000gn/T/ipykernel_29154/3464380018.py:30: SettingWithCopyWarning: \n",
      "A value is trying to be set on a copy of a slice from a DataFrame\n",
      "\n",
      "See the caveats in the documentation: https://pandas.pydata.org/pandas-docs/stable/user_guide/indexing.html#returning-a-view-versus-a-copy\n",
      "  df_event.dropna(inplace=True)\n",
      "/var/folders/67/cm4smmds2bqf7q68jzsyvh840000gn/T/ipykernel_29154/3464380018.py:31: SettingWithCopyWarning: \n",
      "A value is trying to be set on a copy of a slice from a DataFrame.\n",
      "Try using .loc[row_indexer,col_indexer] = value instead\n",
      "\n",
      "See the caveats in the documentation: https://pandas.pydata.org/pandas-docs/stable/user_guide/indexing.html#returning-a-view-versus-a-copy\n",
      "  df_event[\"event\"] = event_name\n",
      "/var/folders/67/cm4smmds2bqf7q68jzsyvh840000gn/T/ipykernel_29154/3464380018.py:33: SettingWithCopyWarning: \n",
      "A value is trying to be set on a copy of a slice from a DataFrame.\n",
      "Try using .loc[row_indexer,col_indexer] = value instead\n",
      "\n",
      "See the caveats in the documentation: https://pandas.pydata.org/pandas-docs/stable/user_guide/indexing.html#returning-a-view-versus-a-copy\n",
      "  df_event[\"time_elapsed\"] = (df_event[\"end\"] - df_event[\"start\"]).dt.total_seconds()\n",
      "/var/folders/67/cm4smmds2bqf7q68jzsyvh840000gn/T/ipykernel_29154/3464380018.py:34: SettingWithCopyWarning: \n",
      "A value is trying to be set on a copy of a slice from a DataFrame.\n",
      "Try using .loc[row_indexer,col_indexer] = value instead\n",
      "\n",
      "See the caveats in the documentation: https://pandas.pydata.org/pandas-docs/stable/user_guide/indexing.html#returning-a-view-versus-a-copy\n",
      "  df_event[\"name\"] = name.name\n",
      "/var/folders/67/cm4smmds2bqf7q68jzsyvh840000gn/T/ipykernel_29154/3464380018.py:35: SettingWithCopyWarning: \n",
      "A value is trying to be set on a copy of a slice from a DataFrame.\n",
      "Try using .loc[row_indexer,col_indexer] = value instead\n",
      "\n",
      "See the caveats in the documentation: https://pandas.pydata.org/pandas-docs/stable/user_guide/indexing.html#returning-a-view-versus-a-copy\n",
      "  df_event[\"legend\"] = f\"{event_name} ({name})\"\n",
      "/var/folders/67/cm4smmds2bqf7q68jzsyvh840000gn/T/ipykernel_29154/3464380018.py:36: SettingWithCopyWarning: \n",
      "A value is trying to be set on a copy of a slice from a DataFrame.\n",
      "Try using .loc[row_indexer,col_indexer] = value instead\n",
      "\n",
      "See the caveats in the documentation: https://pandas.pydata.org/pandas-docs/stable/user_guide/indexing.html#returning-a-view-versus-a-copy\n",
      "  df_event[\"index\"] = df_event.index\n",
      "/var/folders/67/cm4smmds2bqf7q68jzsyvh840000gn/T/ipykernel_29154/3464380018.py:30: SettingWithCopyWarning: \n",
      "A value is trying to be set on a copy of a slice from a DataFrame\n",
      "\n",
      "See the caveats in the documentation: https://pandas.pydata.org/pandas-docs/stable/user_guide/indexing.html#returning-a-view-versus-a-copy\n",
      "  df_event.dropna(inplace=True)\n",
      "/var/folders/67/cm4smmds2bqf7q68jzsyvh840000gn/T/ipykernel_29154/3464380018.py:31: SettingWithCopyWarning: \n",
      "A value is trying to be set on a copy of a slice from a DataFrame.\n",
      "Try using .loc[row_indexer,col_indexer] = value instead\n",
      "\n",
      "See the caveats in the documentation: https://pandas.pydata.org/pandas-docs/stable/user_guide/indexing.html#returning-a-view-versus-a-copy\n",
      "  df_event[\"event\"] = event_name\n",
      "/var/folders/67/cm4smmds2bqf7q68jzsyvh840000gn/T/ipykernel_29154/3464380018.py:33: SettingWithCopyWarning: \n",
      "A value is trying to be set on a copy of a slice from a DataFrame.\n",
      "Try using .loc[row_indexer,col_indexer] = value instead\n",
      "\n",
      "See the caveats in the documentation: https://pandas.pydata.org/pandas-docs/stable/user_guide/indexing.html#returning-a-view-versus-a-copy\n",
      "  df_event[\"time_elapsed\"] = (df_event[\"end\"] - df_event[\"start\"]).dt.total_seconds()\n",
      "/var/folders/67/cm4smmds2bqf7q68jzsyvh840000gn/T/ipykernel_29154/3464380018.py:34: SettingWithCopyWarning: \n",
      "A value is trying to be set on a copy of a slice from a DataFrame.\n",
      "Try using .loc[row_indexer,col_indexer] = value instead\n",
      "\n",
      "See the caveats in the documentation: https://pandas.pydata.org/pandas-docs/stable/user_guide/indexing.html#returning-a-view-versus-a-copy\n",
      "  df_event[\"name\"] = name.name\n",
      "/var/folders/67/cm4smmds2bqf7q68jzsyvh840000gn/T/ipykernel_29154/3464380018.py:35: SettingWithCopyWarning: \n",
      "A value is trying to be set on a copy of a slice from a DataFrame.\n",
      "Try using .loc[row_indexer,col_indexer] = value instead\n",
      "\n",
      "See the caveats in the documentation: https://pandas.pydata.org/pandas-docs/stable/user_guide/indexing.html#returning-a-view-versus-a-copy\n",
      "  df_event[\"legend\"] = f\"{event_name} ({name})\"\n",
      "/var/folders/67/cm4smmds2bqf7q68jzsyvh840000gn/T/ipykernel_29154/3464380018.py:36: SettingWithCopyWarning: \n",
      "A value is trying to be set on a copy of a slice from a DataFrame.\n",
      "Try using .loc[row_indexer,col_indexer] = value instead\n",
      "\n",
      "See the caveats in the documentation: https://pandas.pydata.org/pandas-docs/stable/user_guide/indexing.html#returning-a-view-versus-a-copy\n",
      "  df_event[\"index\"] = df_event.index\n",
      "/var/folders/67/cm4smmds2bqf7q68jzsyvh840000gn/T/ipykernel_29154/3464380018.py:30: SettingWithCopyWarning: \n",
      "A value is trying to be set on a copy of a slice from a DataFrame\n",
      "\n",
      "See the caveats in the documentation: https://pandas.pydata.org/pandas-docs/stable/user_guide/indexing.html#returning-a-view-versus-a-copy\n",
      "  df_event.dropna(inplace=True)\n",
      "/var/folders/67/cm4smmds2bqf7q68jzsyvh840000gn/T/ipykernel_29154/3464380018.py:31: SettingWithCopyWarning: \n",
      "A value is trying to be set on a copy of a slice from a DataFrame.\n",
      "Try using .loc[row_indexer,col_indexer] = value instead\n",
      "\n",
      "See the caveats in the documentation: https://pandas.pydata.org/pandas-docs/stable/user_guide/indexing.html#returning-a-view-versus-a-copy\n",
      "  df_event[\"event\"] = event_name\n",
      "/var/folders/67/cm4smmds2bqf7q68jzsyvh840000gn/T/ipykernel_29154/3464380018.py:33: SettingWithCopyWarning: \n",
      "A value is trying to be set on a copy of a slice from a DataFrame.\n",
      "Try using .loc[row_indexer,col_indexer] = value instead\n",
      "\n",
      "See the caveats in the documentation: https://pandas.pydata.org/pandas-docs/stable/user_guide/indexing.html#returning-a-view-versus-a-copy\n",
      "  df_event[\"time_elapsed\"] = (df_event[\"end\"] - df_event[\"start\"]).dt.total_seconds()\n",
      "/var/folders/67/cm4smmds2bqf7q68jzsyvh840000gn/T/ipykernel_29154/3464380018.py:34: SettingWithCopyWarning: \n",
      "A value is trying to be set on a copy of a slice from a DataFrame.\n",
      "Try using .loc[row_indexer,col_indexer] = value instead\n",
      "\n",
      "See the caveats in the documentation: https://pandas.pydata.org/pandas-docs/stable/user_guide/indexing.html#returning-a-view-versus-a-copy\n",
      "  df_event[\"name\"] = name.name\n",
      "/var/folders/67/cm4smmds2bqf7q68jzsyvh840000gn/T/ipykernel_29154/3464380018.py:35: SettingWithCopyWarning: \n",
      "A value is trying to be set on a copy of a slice from a DataFrame.\n",
      "Try using .loc[row_indexer,col_indexer] = value instead\n",
      "\n",
      "See the caveats in the documentation: https://pandas.pydata.org/pandas-docs/stable/user_guide/indexing.html#returning-a-view-versus-a-copy\n",
      "  df_event[\"legend\"] = f\"{event_name} ({name})\"\n",
      "/var/folders/67/cm4smmds2bqf7q68jzsyvh840000gn/T/ipykernel_29154/3464380018.py:36: SettingWithCopyWarning: \n",
      "A value is trying to be set on a copy of a slice from a DataFrame.\n",
      "Try using .loc[row_indexer,col_indexer] = value instead\n",
      "\n",
      "See the caveats in the documentation: https://pandas.pydata.org/pandas-docs/stable/user_guide/indexing.html#returning-a-view-versus-a-copy\n",
      "  df_event[\"index\"] = df_event.index\n",
      "/var/folders/67/cm4smmds2bqf7q68jzsyvh840000gn/T/ipykernel_29154/3464380018.py:30: SettingWithCopyWarning: \n",
      "A value is trying to be set on a copy of a slice from a DataFrame\n",
      "\n",
      "See the caveats in the documentation: https://pandas.pydata.org/pandas-docs/stable/user_guide/indexing.html#returning-a-view-versus-a-copy\n",
      "  df_event.dropna(inplace=True)\n",
      "/var/folders/67/cm4smmds2bqf7q68jzsyvh840000gn/T/ipykernel_29154/3464380018.py:30: SettingWithCopyWarning: \n",
      "A value is trying to be set on a copy of a slice from a DataFrame\n",
      "\n",
      "See the caveats in the documentation: https://pandas.pydata.org/pandas-docs/stable/user_guide/indexing.html#returning-a-view-versus-a-copy\n",
      "  df_event.dropna(inplace=True)\n",
      "/var/folders/67/cm4smmds2bqf7q68jzsyvh840000gn/T/ipykernel_29154/3464380018.py:30: SettingWithCopyWarning: \n",
      "A value is trying to be set on a copy of a slice from a DataFrame\n",
      "\n",
      "See the caveats in the documentation: https://pandas.pydata.org/pandas-docs/stable/user_guide/indexing.html#returning-a-view-versus-a-copy\n",
      "  df_event.dropna(inplace=True)\n",
      "/var/folders/67/cm4smmds2bqf7q68jzsyvh840000gn/T/ipykernel_29154/3464380018.py:31: SettingWithCopyWarning: \n",
      "A value is trying to be set on a copy of a slice from a DataFrame.\n",
      "Try using .loc[row_indexer,col_indexer] = value instead\n",
      "\n",
      "See the caveats in the documentation: https://pandas.pydata.org/pandas-docs/stable/user_guide/indexing.html#returning-a-view-versus-a-copy\n",
      "  df_event[\"event\"] = event_name\n",
      "/var/folders/67/cm4smmds2bqf7q68jzsyvh840000gn/T/ipykernel_29154/3464380018.py:33: SettingWithCopyWarning: \n",
      "A value is trying to be set on a copy of a slice from a DataFrame.\n",
      "Try using .loc[row_indexer,col_indexer] = value instead\n",
      "\n",
      "See the caveats in the documentation: https://pandas.pydata.org/pandas-docs/stable/user_guide/indexing.html#returning-a-view-versus-a-copy\n",
      "  df_event[\"time_elapsed\"] = (df_event[\"end\"] - df_event[\"start\"]).dt.total_seconds()\n",
      "/var/folders/67/cm4smmds2bqf7q68jzsyvh840000gn/T/ipykernel_29154/3464380018.py:34: SettingWithCopyWarning: \n",
      "A value is trying to be set on a copy of a slice from a DataFrame.\n",
      "Try using .loc[row_indexer,col_indexer] = value instead\n",
      "\n",
      "See the caveats in the documentation: https://pandas.pydata.org/pandas-docs/stable/user_guide/indexing.html#returning-a-view-versus-a-copy\n",
      "  df_event[\"name\"] = name.name\n",
      "/var/folders/67/cm4smmds2bqf7q68jzsyvh840000gn/T/ipykernel_29154/3464380018.py:35: SettingWithCopyWarning: \n",
      "A value is trying to be set on a copy of a slice from a DataFrame.\n",
      "Try using .loc[row_indexer,col_indexer] = value instead\n",
      "\n",
      "See the caveats in the documentation: https://pandas.pydata.org/pandas-docs/stable/user_guide/indexing.html#returning-a-view-versus-a-copy\n",
      "  df_event[\"legend\"] = f\"{event_name} ({name})\"\n",
      "/var/folders/67/cm4smmds2bqf7q68jzsyvh840000gn/T/ipykernel_29154/3464380018.py:36: SettingWithCopyWarning: \n",
      "A value is trying to be set on a copy of a slice from a DataFrame.\n",
      "Try using .loc[row_indexer,col_indexer] = value instead\n",
      "\n",
      "See the caveats in the documentation: https://pandas.pydata.org/pandas-docs/stable/user_guide/indexing.html#returning-a-view-versus-a-copy\n",
      "  df_event[\"index\"] = df_event.index\n",
      "/var/folders/67/cm4smmds2bqf7q68jzsyvh840000gn/T/ipykernel_29154/3464380018.py:30: SettingWithCopyWarning: \n",
      "A value is trying to be set on a copy of a slice from a DataFrame\n",
      "\n",
      "See the caveats in the documentation: https://pandas.pydata.org/pandas-docs/stable/user_guide/indexing.html#returning-a-view-versus-a-copy\n",
      "  df_event.dropna(inplace=True)\n",
      "/var/folders/67/cm4smmds2bqf7q68jzsyvh840000gn/T/ipykernel_29154/3464380018.py:31: SettingWithCopyWarning: \n",
      "A value is trying to be set on a copy of a slice from a DataFrame.\n",
      "Try using .loc[row_indexer,col_indexer] = value instead\n",
      "\n",
      "See the caveats in the documentation: https://pandas.pydata.org/pandas-docs/stable/user_guide/indexing.html#returning-a-view-versus-a-copy\n",
      "  df_event[\"event\"] = event_name\n",
      "/var/folders/67/cm4smmds2bqf7q68jzsyvh840000gn/T/ipykernel_29154/3464380018.py:33: SettingWithCopyWarning: \n",
      "A value is trying to be set on a copy of a slice from a DataFrame.\n",
      "Try using .loc[row_indexer,col_indexer] = value instead\n",
      "\n",
      "See the caveats in the documentation: https://pandas.pydata.org/pandas-docs/stable/user_guide/indexing.html#returning-a-view-versus-a-copy\n",
      "  df_event[\"time_elapsed\"] = (df_event[\"end\"] - df_event[\"start\"]).dt.total_seconds()\n",
      "/var/folders/67/cm4smmds2bqf7q68jzsyvh840000gn/T/ipykernel_29154/3464380018.py:34: SettingWithCopyWarning: \n",
      "A value is trying to be set on a copy of a slice from a DataFrame.\n",
      "Try using .loc[row_indexer,col_indexer] = value instead\n",
      "\n",
      "See the caveats in the documentation: https://pandas.pydata.org/pandas-docs/stable/user_guide/indexing.html#returning-a-view-versus-a-copy\n",
      "  df_event[\"name\"] = name.name\n",
      "/var/folders/67/cm4smmds2bqf7q68jzsyvh840000gn/T/ipykernel_29154/3464380018.py:35: SettingWithCopyWarning: \n",
      "A value is trying to be set on a copy of a slice from a DataFrame.\n",
      "Try using .loc[row_indexer,col_indexer] = value instead\n",
      "\n",
      "See the caveats in the documentation: https://pandas.pydata.org/pandas-docs/stable/user_guide/indexing.html#returning-a-view-versus-a-copy\n",
      "  df_event[\"legend\"] = f\"{event_name} ({name})\"\n",
      "/var/folders/67/cm4smmds2bqf7q68jzsyvh840000gn/T/ipykernel_29154/3464380018.py:36: SettingWithCopyWarning: \n",
      "A value is trying to be set on a copy of a slice from a DataFrame.\n",
      "Try using .loc[row_indexer,col_indexer] = value instead\n",
      "\n",
      "See the caveats in the documentation: https://pandas.pydata.org/pandas-docs/stable/user_guide/indexing.html#returning-a-view-versus-a-copy\n",
      "  df_event[\"index\"] = df_event.index\n",
      "/var/folders/67/cm4smmds2bqf7q68jzsyvh840000gn/T/ipykernel_29154/3464380018.py:30: SettingWithCopyWarning: \n",
      "A value is trying to be set on a copy of a slice from a DataFrame\n",
      "\n",
      "See the caveats in the documentation: https://pandas.pydata.org/pandas-docs/stable/user_guide/indexing.html#returning-a-view-versus-a-copy\n",
      "  df_event.dropna(inplace=True)\n",
      "/var/folders/67/cm4smmds2bqf7q68jzsyvh840000gn/T/ipykernel_29154/3464380018.py:31: SettingWithCopyWarning: \n",
      "A value is trying to be set on a copy of a slice from a DataFrame.\n",
      "Try using .loc[row_indexer,col_indexer] = value instead\n",
      "\n",
      "See the caveats in the documentation: https://pandas.pydata.org/pandas-docs/stable/user_guide/indexing.html#returning-a-view-versus-a-copy\n",
      "  df_event[\"event\"] = event_name\n",
      "/var/folders/67/cm4smmds2bqf7q68jzsyvh840000gn/T/ipykernel_29154/3464380018.py:33: SettingWithCopyWarning: \n",
      "A value is trying to be set on a copy of a slice from a DataFrame.\n",
      "Try using .loc[row_indexer,col_indexer] = value instead\n",
      "\n",
      "See the caveats in the documentation: https://pandas.pydata.org/pandas-docs/stable/user_guide/indexing.html#returning-a-view-versus-a-copy\n",
      "  df_event[\"time_elapsed\"] = (df_event[\"end\"] - df_event[\"start\"]).dt.total_seconds()\n",
      "/var/folders/67/cm4smmds2bqf7q68jzsyvh840000gn/T/ipykernel_29154/3464380018.py:34: SettingWithCopyWarning: \n",
      "A value is trying to be set on a copy of a slice from a DataFrame.\n",
      "Try using .loc[row_indexer,col_indexer] = value instead\n",
      "\n",
      "See the caveats in the documentation: https://pandas.pydata.org/pandas-docs/stable/user_guide/indexing.html#returning-a-view-versus-a-copy\n",
      "  df_event[\"name\"] = name.name\n",
      "/var/folders/67/cm4smmds2bqf7q68jzsyvh840000gn/T/ipykernel_29154/3464380018.py:35: SettingWithCopyWarning: \n",
      "A value is trying to be set on a copy of a slice from a DataFrame.\n",
      "Try using .loc[row_indexer,col_indexer] = value instead\n",
      "\n",
      "See the caveats in the documentation: https://pandas.pydata.org/pandas-docs/stable/user_guide/indexing.html#returning-a-view-versus-a-copy\n",
      "  df_event[\"legend\"] = f\"{event_name} ({name})\"\n",
      "/var/folders/67/cm4smmds2bqf7q68jzsyvh840000gn/T/ipykernel_29154/3464380018.py:36: SettingWithCopyWarning: \n",
      "A value is trying to be set on a copy of a slice from a DataFrame.\n",
      "Try using .loc[row_indexer,col_indexer] = value instead\n",
      "\n",
      "See the caveats in the documentation: https://pandas.pydata.org/pandas-docs/stable/user_guide/indexing.html#returning-a-view-versus-a-copy\n",
      "  df_event[\"index\"] = df_event.index\n",
      "/var/folders/67/cm4smmds2bqf7q68jzsyvh840000gn/T/ipykernel_29154/3464380018.py:30: SettingWithCopyWarning: \n",
      "A value is trying to be set on a copy of a slice from a DataFrame\n",
      "\n",
      "See the caveats in the documentation: https://pandas.pydata.org/pandas-docs/stable/user_guide/indexing.html#returning-a-view-versus-a-copy\n",
      "  df_event.dropna(inplace=True)\n",
      "/var/folders/67/cm4smmds2bqf7q68jzsyvh840000gn/T/ipykernel_29154/3464380018.py:31: SettingWithCopyWarning: \n",
      "A value is trying to be set on a copy of a slice from a DataFrame.\n",
      "Try using .loc[row_indexer,col_indexer] = value instead\n",
      "\n",
      "See the caveats in the documentation: https://pandas.pydata.org/pandas-docs/stable/user_guide/indexing.html#returning-a-view-versus-a-copy\n",
      "  df_event[\"event\"] = event_name\n",
      "/var/folders/67/cm4smmds2bqf7q68jzsyvh840000gn/T/ipykernel_29154/3464380018.py:33: SettingWithCopyWarning: \n",
      "A value is trying to be set on a copy of a slice from a DataFrame.\n",
      "Try using .loc[row_indexer,col_indexer] = value instead\n",
      "\n",
      "See the caveats in the documentation: https://pandas.pydata.org/pandas-docs/stable/user_guide/indexing.html#returning-a-view-versus-a-copy\n",
      "  df_event[\"time_elapsed\"] = (df_event[\"end\"] - df_event[\"start\"]).dt.total_seconds()\n",
      "/var/folders/67/cm4smmds2bqf7q68jzsyvh840000gn/T/ipykernel_29154/3464380018.py:34: SettingWithCopyWarning: \n",
      "A value is trying to be set on a copy of a slice from a DataFrame.\n",
      "Try using .loc[row_indexer,col_indexer] = value instead\n",
      "\n",
      "See the caveats in the documentation: https://pandas.pydata.org/pandas-docs/stable/user_guide/indexing.html#returning-a-view-versus-a-copy\n",
      "  df_event[\"name\"] = name.name\n",
      "/var/folders/67/cm4smmds2bqf7q68jzsyvh840000gn/T/ipykernel_29154/3464380018.py:35: SettingWithCopyWarning: \n",
      "A value is trying to be set on a copy of a slice from a DataFrame.\n",
      "Try using .loc[row_indexer,col_indexer] = value instead\n",
      "\n",
      "See the caveats in the documentation: https://pandas.pydata.org/pandas-docs/stable/user_guide/indexing.html#returning-a-view-versus-a-copy\n",
      "  df_event[\"legend\"] = f\"{event_name} ({name})\"\n",
      "/var/folders/67/cm4smmds2bqf7q68jzsyvh840000gn/T/ipykernel_29154/3464380018.py:36: SettingWithCopyWarning: \n",
      "A value is trying to be set on a copy of a slice from a DataFrame.\n",
      "Try using .loc[row_indexer,col_indexer] = value instead\n",
      "\n",
      "See the caveats in the documentation: https://pandas.pydata.org/pandas-docs/stable/user_guide/indexing.html#returning-a-view-versus-a-copy\n",
      "  df_event[\"index\"] = df_event.index\n",
      "/var/folders/67/cm4smmds2bqf7q68jzsyvh840000gn/T/ipykernel_29154/3464380018.py:30: SettingWithCopyWarning: \n",
      "A value is trying to be set on a copy of a slice from a DataFrame\n",
      "\n",
      "See the caveats in the documentation: https://pandas.pydata.org/pandas-docs/stable/user_guide/indexing.html#returning-a-view-versus-a-copy\n",
      "  df_event.dropna(inplace=True)\n",
      "/var/folders/67/cm4smmds2bqf7q68jzsyvh840000gn/T/ipykernel_29154/3464380018.py:30: SettingWithCopyWarning: \n",
      "A value is trying to be set on a copy of a slice from a DataFrame\n",
      "\n",
      "See the caveats in the documentation: https://pandas.pydata.org/pandas-docs/stable/user_guide/indexing.html#returning-a-view-versus-a-copy\n",
      "  df_event.dropna(inplace=True)\n",
      "/var/folders/67/cm4smmds2bqf7q68jzsyvh840000gn/T/ipykernel_29154/3464380018.py:30: SettingWithCopyWarning: \n",
      "A value is trying to be set on a copy of a slice from a DataFrame\n",
      "\n",
      "See the caveats in the documentation: https://pandas.pydata.org/pandas-docs/stable/user_guide/indexing.html#returning-a-view-versus-a-copy\n",
      "  df_event.dropna(inplace=True)\n",
      "/var/folders/67/cm4smmds2bqf7q68jzsyvh840000gn/T/ipykernel_29154/3464380018.py:31: SettingWithCopyWarning: \n",
      "A value is trying to be set on a copy of a slice from a DataFrame.\n",
      "Try using .loc[row_indexer,col_indexer] = value instead\n",
      "\n",
      "See the caveats in the documentation: https://pandas.pydata.org/pandas-docs/stable/user_guide/indexing.html#returning-a-view-versus-a-copy\n",
      "  df_event[\"event\"] = event_name\n",
      "/var/folders/67/cm4smmds2bqf7q68jzsyvh840000gn/T/ipykernel_29154/3464380018.py:33: SettingWithCopyWarning: \n",
      "A value is trying to be set on a copy of a slice from a DataFrame.\n",
      "Try using .loc[row_indexer,col_indexer] = value instead\n",
      "\n",
      "See the caveats in the documentation: https://pandas.pydata.org/pandas-docs/stable/user_guide/indexing.html#returning-a-view-versus-a-copy\n",
      "  df_event[\"time_elapsed\"] = (df_event[\"end\"] - df_event[\"start\"]).dt.total_seconds()\n",
      "/var/folders/67/cm4smmds2bqf7q68jzsyvh840000gn/T/ipykernel_29154/3464380018.py:34: SettingWithCopyWarning: \n",
      "A value is trying to be set on a copy of a slice from a DataFrame.\n",
      "Try using .loc[row_indexer,col_indexer] = value instead\n",
      "\n",
      "See the caveats in the documentation: https://pandas.pydata.org/pandas-docs/stable/user_guide/indexing.html#returning-a-view-versus-a-copy\n",
      "  df_event[\"name\"] = name.name\n",
      "/var/folders/67/cm4smmds2bqf7q68jzsyvh840000gn/T/ipykernel_29154/3464380018.py:35: SettingWithCopyWarning: \n",
      "A value is trying to be set on a copy of a slice from a DataFrame.\n",
      "Try using .loc[row_indexer,col_indexer] = value instead\n",
      "\n",
      "See the caveats in the documentation: https://pandas.pydata.org/pandas-docs/stable/user_guide/indexing.html#returning-a-view-versus-a-copy\n",
      "  df_event[\"legend\"] = f\"{event_name} ({name})\"\n",
      "/var/folders/67/cm4smmds2bqf7q68jzsyvh840000gn/T/ipykernel_29154/3464380018.py:36: SettingWithCopyWarning: \n",
      "A value is trying to be set on a copy of a slice from a DataFrame.\n",
      "Try using .loc[row_indexer,col_indexer] = value instead\n",
      "\n",
      "See the caveats in the documentation: https://pandas.pydata.org/pandas-docs/stable/user_guide/indexing.html#returning-a-view-versus-a-copy\n",
      "  df_event[\"index\"] = df_event.index\n",
      "/var/folders/67/cm4smmds2bqf7q68jzsyvh840000gn/T/ipykernel_29154/3464380018.py:30: SettingWithCopyWarning: \n",
      "A value is trying to be set on a copy of a slice from a DataFrame\n",
      "\n",
      "See the caveats in the documentation: https://pandas.pydata.org/pandas-docs/stable/user_guide/indexing.html#returning-a-view-versus-a-copy\n",
      "  df_event.dropna(inplace=True)\n",
      "/var/folders/67/cm4smmds2bqf7q68jzsyvh840000gn/T/ipykernel_29154/3464380018.py:31: SettingWithCopyWarning: \n",
      "A value is trying to be set on a copy of a slice from a DataFrame.\n",
      "Try using .loc[row_indexer,col_indexer] = value instead\n",
      "\n",
      "See the caveats in the documentation: https://pandas.pydata.org/pandas-docs/stable/user_guide/indexing.html#returning-a-view-versus-a-copy\n",
      "  df_event[\"event\"] = event_name\n",
      "/var/folders/67/cm4smmds2bqf7q68jzsyvh840000gn/T/ipykernel_29154/3464380018.py:33: SettingWithCopyWarning: \n",
      "A value is trying to be set on a copy of a slice from a DataFrame.\n",
      "Try using .loc[row_indexer,col_indexer] = value instead\n",
      "\n",
      "See the caveats in the documentation: https://pandas.pydata.org/pandas-docs/stable/user_guide/indexing.html#returning-a-view-versus-a-copy\n",
      "  df_event[\"time_elapsed\"] = (df_event[\"end\"] - df_event[\"start\"]).dt.total_seconds()\n",
      "/var/folders/67/cm4smmds2bqf7q68jzsyvh840000gn/T/ipykernel_29154/3464380018.py:34: SettingWithCopyWarning: \n",
      "A value is trying to be set on a copy of a slice from a DataFrame.\n",
      "Try using .loc[row_indexer,col_indexer] = value instead\n",
      "\n",
      "See the caveats in the documentation: https://pandas.pydata.org/pandas-docs/stable/user_guide/indexing.html#returning-a-view-versus-a-copy\n",
      "  df_event[\"name\"] = name.name\n",
      "/var/folders/67/cm4smmds2bqf7q68jzsyvh840000gn/T/ipykernel_29154/3464380018.py:35: SettingWithCopyWarning: \n",
      "A value is trying to be set on a copy of a slice from a DataFrame.\n",
      "Try using .loc[row_indexer,col_indexer] = value instead\n",
      "\n",
      "See the caveats in the documentation: https://pandas.pydata.org/pandas-docs/stable/user_guide/indexing.html#returning-a-view-versus-a-copy\n",
      "  df_event[\"legend\"] = f\"{event_name} ({name})\"\n",
      "/var/folders/67/cm4smmds2bqf7q68jzsyvh840000gn/T/ipykernel_29154/3464380018.py:36: SettingWithCopyWarning: \n",
      "A value is trying to be set on a copy of a slice from a DataFrame.\n",
      "Try using .loc[row_indexer,col_indexer] = value instead\n",
      "\n",
      "See the caveats in the documentation: https://pandas.pydata.org/pandas-docs/stable/user_guide/indexing.html#returning-a-view-versus-a-copy\n",
      "  df_event[\"index\"] = df_event.index\n",
      "/var/folders/67/cm4smmds2bqf7q68jzsyvh840000gn/T/ipykernel_29154/3464380018.py:30: SettingWithCopyWarning: \n",
      "A value is trying to be set on a copy of a slice from a DataFrame\n",
      "\n",
      "See the caveats in the documentation: https://pandas.pydata.org/pandas-docs/stable/user_guide/indexing.html#returning-a-view-versus-a-copy\n",
      "  df_event.dropna(inplace=True)\n",
      "/var/folders/67/cm4smmds2bqf7q68jzsyvh840000gn/T/ipykernel_29154/3464380018.py:31: SettingWithCopyWarning: \n",
      "A value is trying to be set on a copy of a slice from a DataFrame.\n",
      "Try using .loc[row_indexer,col_indexer] = value instead\n",
      "\n",
      "See the caveats in the documentation: https://pandas.pydata.org/pandas-docs/stable/user_guide/indexing.html#returning-a-view-versus-a-copy\n",
      "  df_event[\"event\"] = event_name\n",
      "/var/folders/67/cm4smmds2bqf7q68jzsyvh840000gn/T/ipykernel_29154/3464380018.py:33: SettingWithCopyWarning: \n",
      "A value is trying to be set on a copy of a slice from a DataFrame.\n",
      "Try using .loc[row_indexer,col_indexer] = value instead\n",
      "\n",
      "See the caveats in the documentation: https://pandas.pydata.org/pandas-docs/stable/user_guide/indexing.html#returning-a-view-versus-a-copy\n",
      "  df_event[\"time_elapsed\"] = (df_event[\"end\"] - df_event[\"start\"]).dt.total_seconds()\n",
      "/var/folders/67/cm4smmds2bqf7q68jzsyvh840000gn/T/ipykernel_29154/3464380018.py:34: SettingWithCopyWarning: \n",
      "A value is trying to be set on a copy of a slice from a DataFrame.\n",
      "Try using .loc[row_indexer,col_indexer] = value instead\n",
      "\n",
      "See the caveats in the documentation: https://pandas.pydata.org/pandas-docs/stable/user_guide/indexing.html#returning-a-view-versus-a-copy\n",
      "  df_event[\"name\"] = name.name\n",
      "/var/folders/67/cm4smmds2bqf7q68jzsyvh840000gn/T/ipykernel_29154/3464380018.py:35: SettingWithCopyWarning: \n",
      "A value is trying to be set on a copy of a slice from a DataFrame.\n",
      "Try using .loc[row_indexer,col_indexer] = value instead\n",
      "\n",
      "See the caveats in the documentation: https://pandas.pydata.org/pandas-docs/stable/user_guide/indexing.html#returning-a-view-versus-a-copy\n",
      "  df_event[\"legend\"] = f\"{event_name} ({name})\"\n",
      "/var/folders/67/cm4smmds2bqf7q68jzsyvh840000gn/T/ipykernel_29154/3464380018.py:36: SettingWithCopyWarning: \n",
      "A value is trying to be set on a copy of a slice from a DataFrame.\n",
      "Try using .loc[row_indexer,col_indexer] = value instead\n",
      "\n",
      "See the caveats in the documentation: https://pandas.pydata.org/pandas-docs/stable/user_guide/indexing.html#returning-a-view-versus-a-copy\n",
      "  df_event[\"index\"] = df_event.index\n",
      "/var/folders/67/cm4smmds2bqf7q68jzsyvh840000gn/T/ipykernel_29154/3464380018.py:30: SettingWithCopyWarning: \n",
      "A value is trying to be set on a copy of a slice from a DataFrame\n",
      "\n",
      "See the caveats in the documentation: https://pandas.pydata.org/pandas-docs/stable/user_guide/indexing.html#returning-a-view-versus-a-copy\n",
      "  df_event.dropna(inplace=True)\n",
      "/var/folders/67/cm4smmds2bqf7q68jzsyvh840000gn/T/ipykernel_29154/3464380018.py:31: SettingWithCopyWarning: \n",
      "A value is trying to be set on a copy of a slice from a DataFrame.\n",
      "Try using .loc[row_indexer,col_indexer] = value instead\n",
      "\n",
      "See the caveats in the documentation: https://pandas.pydata.org/pandas-docs/stable/user_guide/indexing.html#returning-a-view-versus-a-copy\n",
      "  df_event[\"event\"] = event_name\n",
      "/var/folders/67/cm4smmds2bqf7q68jzsyvh840000gn/T/ipykernel_29154/3464380018.py:33: SettingWithCopyWarning: \n",
      "A value is trying to be set on a copy of a slice from a DataFrame.\n",
      "Try using .loc[row_indexer,col_indexer] = value instead\n",
      "\n",
      "See the caveats in the documentation: https://pandas.pydata.org/pandas-docs/stable/user_guide/indexing.html#returning-a-view-versus-a-copy\n",
      "  df_event[\"time_elapsed\"] = (df_event[\"end\"] - df_event[\"start\"]).dt.total_seconds()\n",
      "/var/folders/67/cm4smmds2bqf7q68jzsyvh840000gn/T/ipykernel_29154/3464380018.py:34: SettingWithCopyWarning: \n",
      "A value is trying to be set on a copy of a slice from a DataFrame.\n",
      "Try using .loc[row_indexer,col_indexer] = value instead\n",
      "\n",
      "See the caveats in the documentation: https://pandas.pydata.org/pandas-docs/stable/user_guide/indexing.html#returning-a-view-versus-a-copy\n",
      "  df_event[\"name\"] = name.name\n",
      "/var/folders/67/cm4smmds2bqf7q68jzsyvh840000gn/T/ipykernel_29154/3464380018.py:35: SettingWithCopyWarning: \n",
      "A value is trying to be set on a copy of a slice from a DataFrame.\n",
      "Try using .loc[row_indexer,col_indexer] = value instead\n",
      "\n",
      "See the caveats in the documentation: https://pandas.pydata.org/pandas-docs/stable/user_guide/indexing.html#returning-a-view-versus-a-copy\n",
      "  df_event[\"legend\"] = f\"{event_name} ({name})\"\n",
      "/var/folders/67/cm4smmds2bqf7q68jzsyvh840000gn/T/ipykernel_29154/3464380018.py:36: SettingWithCopyWarning: \n",
      "A value is trying to be set on a copy of a slice from a DataFrame.\n",
      "Try using .loc[row_indexer,col_indexer] = value instead\n",
      "\n",
      "See the caveats in the documentation: https://pandas.pydata.org/pandas-docs/stable/user_guide/indexing.html#returning-a-view-versus-a-copy\n",
      "  df_event[\"index\"] = df_event.index\n",
      "/var/folders/67/cm4smmds2bqf7q68jzsyvh840000gn/T/ipykernel_29154/3464380018.py:30: SettingWithCopyWarning: \n",
      "A value is trying to be set on a copy of a slice from a DataFrame\n",
      "\n",
      "See the caveats in the documentation: https://pandas.pydata.org/pandas-docs/stable/user_guide/indexing.html#returning-a-view-versus-a-copy\n",
      "  df_event.dropna(inplace=True)\n",
      "/var/folders/67/cm4smmds2bqf7q68jzsyvh840000gn/T/ipykernel_29154/3464380018.py:30: SettingWithCopyWarning: \n",
      "A value is trying to be set on a copy of a slice from a DataFrame\n",
      "\n",
      "See the caveats in the documentation: https://pandas.pydata.org/pandas-docs/stable/user_guide/indexing.html#returning-a-view-versus-a-copy\n",
      "  df_event.dropna(inplace=True)\n",
      "/var/folders/67/cm4smmds2bqf7q68jzsyvh840000gn/T/ipykernel_29154/3464380018.py:30: SettingWithCopyWarning: \n",
      "A value is trying to be set on a copy of a slice from a DataFrame\n",
      "\n",
      "See the caveats in the documentation: https://pandas.pydata.org/pandas-docs/stable/user_guide/indexing.html#returning-a-view-versus-a-copy\n",
      "  df_event.dropna(inplace=True)\n",
      "/var/folders/67/cm4smmds2bqf7q68jzsyvh840000gn/T/ipykernel_29154/3464380018.py:31: SettingWithCopyWarning: \n",
      "A value is trying to be set on a copy of a slice from a DataFrame.\n",
      "Try using .loc[row_indexer,col_indexer] = value instead\n",
      "\n",
      "See the caveats in the documentation: https://pandas.pydata.org/pandas-docs/stable/user_guide/indexing.html#returning-a-view-versus-a-copy\n",
      "  df_event[\"event\"] = event_name\n",
      "/var/folders/67/cm4smmds2bqf7q68jzsyvh840000gn/T/ipykernel_29154/3464380018.py:33: SettingWithCopyWarning: \n",
      "A value is trying to be set on a copy of a slice from a DataFrame.\n",
      "Try using .loc[row_indexer,col_indexer] = value instead\n",
      "\n",
      "See the caveats in the documentation: https://pandas.pydata.org/pandas-docs/stable/user_guide/indexing.html#returning-a-view-versus-a-copy\n",
      "  df_event[\"time_elapsed\"] = (df_event[\"end\"] - df_event[\"start\"]).dt.total_seconds()\n",
      "/var/folders/67/cm4smmds2bqf7q68jzsyvh840000gn/T/ipykernel_29154/3464380018.py:34: SettingWithCopyWarning: \n",
      "A value is trying to be set on a copy of a slice from a DataFrame.\n",
      "Try using .loc[row_indexer,col_indexer] = value instead\n",
      "\n",
      "See the caveats in the documentation: https://pandas.pydata.org/pandas-docs/stable/user_guide/indexing.html#returning-a-view-versus-a-copy\n",
      "  df_event[\"name\"] = name.name\n",
      "/var/folders/67/cm4smmds2bqf7q68jzsyvh840000gn/T/ipykernel_29154/3464380018.py:35: SettingWithCopyWarning: \n",
      "A value is trying to be set on a copy of a slice from a DataFrame.\n",
      "Try using .loc[row_indexer,col_indexer] = value instead\n",
      "\n",
      "See the caveats in the documentation: https://pandas.pydata.org/pandas-docs/stable/user_guide/indexing.html#returning-a-view-versus-a-copy\n",
      "  df_event[\"legend\"] = f\"{event_name} ({name})\"\n",
      "/var/folders/67/cm4smmds2bqf7q68jzsyvh840000gn/T/ipykernel_29154/3464380018.py:36: SettingWithCopyWarning: \n",
      "A value is trying to be set on a copy of a slice from a DataFrame.\n",
      "Try using .loc[row_indexer,col_indexer] = value instead\n",
      "\n",
      "See the caveats in the documentation: https://pandas.pydata.org/pandas-docs/stable/user_guide/indexing.html#returning-a-view-versus-a-copy\n",
      "  df_event[\"index\"] = df_event.index\n",
      "/var/folders/67/cm4smmds2bqf7q68jzsyvh840000gn/T/ipykernel_29154/3464380018.py:30: SettingWithCopyWarning: \n",
      "A value is trying to be set on a copy of a slice from a DataFrame\n",
      "\n",
      "See the caveats in the documentation: https://pandas.pydata.org/pandas-docs/stable/user_guide/indexing.html#returning-a-view-versus-a-copy\n",
      "  df_event.dropna(inplace=True)\n",
      "/var/folders/67/cm4smmds2bqf7q68jzsyvh840000gn/T/ipykernel_29154/3464380018.py:31: SettingWithCopyWarning: \n",
      "A value is trying to be set on a copy of a slice from a DataFrame.\n",
      "Try using .loc[row_indexer,col_indexer] = value instead\n",
      "\n",
      "See the caveats in the documentation: https://pandas.pydata.org/pandas-docs/stable/user_guide/indexing.html#returning-a-view-versus-a-copy\n",
      "  df_event[\"event\"] = event_name\n",
      "/var/folders/67/cm4smmds2bqf7q68jzsyvh840000gn/T/ipykernel_29154/3464380018.py:33: SettingWithCopyWarning: \n",
      "A value is trying to be set on a copy of a slice from a DataFrame.\n",
      "Try using .loc[row_indexer,col_indexer] = value instead\n",
      "\n",
      "See the caveats in the documentation: https://pandas.pydata.org/pandas-docs/stable/user_guide/indexing.html#returning-a-view-versus-a-copy\n",
      "  df_event[\"time_elapsed\"] = (df_event[\"end\"] - df_event[\"start\"]).dt.total_seconds()\n",
      "/var/folders/67/cm4smmds2bqf7q68jzsyvh840000gn/T/ipykernel_29154/3464380018.py:34: SettingWithCopyWarning: \n",
      "A value is trying to be set on a copy of a slice from a DataFrame.\n",
      "Try using .loc[row_indexer,col_indexer] = value instead\n",
      "\n",
      "See the caveats in the documentation: https://pandas.pydata.org/pandas-docs/stable/user_guide/indexing.html#returning-a-view-versus-a-copy\n",
      "  df_event[\"name\"] = name.name\n",
      "/var/folders/67/cm4smmds2bqf7q68jzsyvh840000gn/T/ipykernel_29154/3464380018.py:35: SettingWithCopyWarning: \n",
      "A value is trying to be set on a copy of a slice from a DataFrame.\n",
      "Try using .loc[row_indexer,col_indexer] = value instead\n",
      "\n",
      "See the caveats in the documentation: https://pandas.pydata.org/pandas-docs/stable/user_guide/indexing.html#returning-a-view-versus-a-copy\n",
      "  df_event[\"legend\"] = f\"{event_name} ({name})\"\n",
      "/var/folders/67/cm4smmds2bqf7q68jzsyvh840000gn/T/ipykernel_29154/3464380018.py:36: SettingWithCopyWarning: \n",
      "A value is trying to be set on a copy of a slice from a DataFrame.\n",
      "Try using .loc[row_indexer,col_indexer] = value instead\n",
      "\n",
      "See the caveats in the documentation: https://pandas.pydata.org/pandas-docs/stable/user_guide/indexing.html#returning-a-view-versus-a-copy\n",
      "  df_event[\"index\"] = df_event.index\n",
      "/var/folders/67/cm4smmds2bqf7q68jzsyvh840000gn/T/ipykernel_29154/3464380018.py:30: SettingWithCopyWarning: \n",
      "A value is trying to be set on a copy of a slice from a DataFrame\n",
      "\n",
      "See the caveats in the documentation: https://pandas.pydata.org/pandas-docs/stable/user_guide/indexing.html#returning-a-view-versus-a-copy\n",
      "  df_event.dropna(inplace=True)\n",
      "/var/folders/67/cm4smmds2bqf7q68jzsyvh840000gn/T/ipykernel_29154/3464380018.py:31: SettingWithCopyWarning: \n",
      "A value is trying to be set on a copy of a slice from a DataFrame.\n",
      "Try using .loc[row_indexer,col_indexer] = value instead\n",
      "\n",
      "See the caveats in the documentation: https://pandas.pydata.org/pandas-docs/stable/user_guide/indexing.html#returning-a-view-versus-a-copy\n",
      "  df_event[\"event\"] = event_name\n",
      "/var/folders/67/cm4smmds2bqf7q68jzsyvh840000gn/T/ipykernel_29154/3464380018.py:33: SettingWithCopyWarning: \n",
      "A value is trying to be set on a copy of a slice from a DataFrame.\n",
      "Try using .loc[row_indexer,col_indexer] = value instead\n",
      "\n",
      "See the caveats in the documentation: https://pandas.pydata.org/pandas-docs/stable/user_guide/indexing.html#returning-a-view-versus-a-copy\n",
      "  df_event[\"time_elapsed\"] = (df_event[\"end\"] - df_event[\"start\"]).dt.total_seconds()\n",
      "/var/folders/67/cm4smmds2bqf7q68jzsyvh840000gn/T/ipykernel_29154/3464380018.py:34: SettingWithCopyWarning: \n",
      "A value is trying to be set on a copy of a slice from a DataFrame.\n",
      "Try using .loc[row_indexer,col_indexer] = value instead\n",
      "\n",
      "See the caveats in the documentation: https://pandas.pydata.org/pandas-docs/stable/user_guide/indexing.html#returning-a-view-versus-a-copy\n",
      "  df_event[\"name\"] = name.name\n",
      "/var/folders/67/cm4smmds2bqf7q68jzsyvh840000gn/T/ipykernel_29154/3464380018.py:35: SettingWithCopyWarning: \n",
      "A value is trying to be set on a copy of a slice from a DataFrame.\n",
      "Try using .loc[row_indexer,col_indexer] = value instead\n",
      "\n",
      "See the caveats in the documentation: https://pandas.pydata.org/pandas-docs/stable/user_guide/indexing.html#returning-a-view-versus-a-copy\n",
      "  df_event[\"legend\"] = f\"{event_name} ({name})\"\n",
      "/var/folders/67/cm4smmds2bqf7q68jzsyvh840000gn/T/ipykernel_29154/3464380018.py:36: SettingWithCopyWarning: \n",
      "A value is trying to be set on a copy of a slice from a DataFrame.\n",
      "Try using .loc[row_indexer,col_indexer] = value instead\n",
      "\n",
      "See the caveats in the documentation: https://pandas.pydata.org/pandas-docs/stable/user_guide/indexing.html#returning-a-view-versus-a-copy\n",
      "  df_event[\"index\"] = df_event.index\n",
      "/var/folders/67/cm4smmds2bqf7q68jzsyvh840000gn/T/ipykernel_29154/3464380018.py:30: SettingWithCopyWarning: \n",
      "A value is trying to be set on a copy of a slice from a DataFrame\n",
      "\n",
      "See the caveats in the documentation: https://pandas.pydata.org/pandas-docs/stable/user_guide/indexing.html#returning-a-view-versus-a-copy\n",
      "  df_event.dropna(inplace=True)\n",
      "/var/folders/67/cm4smmds2bqf7q68jzsyvh840000gn/T/ipykernel_29154/3464380018.py:31: SettingWithCopyWarning: \n",
      "A value is trying to be set on a copy of a slice from a DataFrame.\n",
      "Try using .loc[row_indexer,col_indexer] = value instead\n",
      "\n",
      "See the caveats in the documentation: https://pandas.pydata.org/pandas-docs/stable/user_guide/indexing.html#returning-a-view-versus-a-copy\n",
      "  df_event[\"event\"] = event_name\n",
      "/var/folders/67/cm4smmds2bqf7q68jzsyvh840000gn/T/ipykernel_29154/3464380018.py:33: SettingWithCopyWarning: \n",
      "A value is trying to be set on a copy of a slice from a DataFrame.\n",
      "Try using .loc[row_indexer,col_indexer] = value instead\n",
      "\n",
      "See the caveats in the documentation: https://pandas.pydata.org/pandas-docs/stable/user_guide/indexing.html#returning-a-view-versus-a-copy\n",
      "  df_event[\"time_elapsed\"] = (df_event[\"end\"] - df_event[\"start\"]).dt.total_seconds()\n",
      "/var/folders/67/cm4smmds2bqf7q68jzsyvh840000gn/T/ipykernel_29154/3464380018.py:34: SettingWithCopyWarning: \n",
      "A value is trying to be set on a copy of a slice from a DataFrame.\n",
      "Try using .loc[row_indexer,col_indexer] = value instead\n",
      "\n",
      "See the caveats in the documentation: https://pandas.pydata.org/pandas-docs/stable/user_guide/indexing.html#returning-a-view-versus-a-copy\n",
      "  df_event[\"name\"] = name.name\n",
      "/var/folders/67/cm4smmds2bqf7q68jzsyvh840000gn/T/ipykernel_29154/3464380018.py:35: SettingWithCopyWarning: \n",
      "A value is trying to be set on a copy of a slice from a DataFrame.\n",
      "Try using .loc[row_indexer,col_indexer] = value instead\n",
      "\n",
      "See the caveats in the documentation: https://pandas.pydata.org/pandas-docs/stable/user_guide/indexing.html#returning-a-view-versus-a-copy\n",
      "  df_event[\"legend\"] = f\"{event_name} ({name})\"\n",
      "/var/folders/67/cm4smmds2bqf7q68jzsyvh840000gn/T/ipykernel_29154/3464380018.py:36: SettingWithCopyWarning: \n",
      "A value is trying to be set on a copy of a slice from a DataFrame.\n",
      "Try using .loc[row_indexer,col_indexer] = value instead\n",
      "\n",
      "See the caveats in the documentation: https://pandas.pydata.org/pandas-docs/stable/user_guide/indexing.html#returning-a-view-versus-a-copy\n",
      "  df_event[\"index\"] = df_event.index\n",
      "/var/folders/67/cm4smmds2bqf7q68jzsyvh840000gn/T/ipykernel_29154/3464380018.py:30: SettingWithCopyWarning: \n",
      "A value is trying to be set on a copy of a slice from a DataFrame\n",
      "\n",
      "See the caveats in the documentation: https://pandas.pydata.org/pandas-docs/stable/user_guide/indexing.html#returning-a-view-versus-a-copy\n",
      "  df_event.dropna(inplace=True)\n",
      "/var/folders/67/cm4smmds2bqf7q68jzsyvh840000gn/T/ipykernel_29154/3464380018.py:30: SettingWithCopyWarning: \n",
      "A value is trying to be set on a copy of a slice from a DataFrame\n",
      "\n",
      "See the caveats in the documentation: https://pandas.pydata.org/pandas-docs/stable/user_guide/indexing.html#returning-a-view-versus-a-copy\n",
      "  df_event.dropna(inplace=True)\n",
      "/var/folders/67/cm4smmds2bqf7q68jzsyvh840000gn/T/ipykernel_29154/3464380018.py:30: SettingWithCopyWarning: \n",
      "A value is trying to be set on a copy of a slice from a DataFrame\n",
      "\n",
      "See the caveats in the documentation: https://pandas.pydata.org/pandas-docs/stable/user_guide/indexing.html#returning-a-view-versus-a-copy\n",
      "  df_event.dropna(inplace=True)\n",
      "/var/folders/67/cm4smmds2bqf7q68jzsyvh840000gn/T/ipykernel_29154/3464380018.py:31: SettingWithCopyWarning: \n",
      "A value is trying to be set on a copy of a slice from a DataFrame.\n",
      "Try using .loc[row_indexer,col_indexer] = value instead\n",
      "\n",
      "See the caveats in the documentation: https://pandas.pydata.org/pandas-docs/stable/user_guide/indexing.html#returning-a-view-versus-a-copy\n",
      "  df_event[\"event\"] = event_name\n",
      "/var/folders/67/cm4smmds2bqf7q68jzsyvh840000gn/T/ipykernel_29154/3464380018.py:33: SettingWithCopyWarning: \n",
      "A value is trying to be set on a copy of a slice from a DataFrame.\n",
      "Try using .loc[row_indexer,col_indexer] = value instead\n",
      "\n",
      "See the caveats in the documentation: https://pandas.pydata.org/pandas-docs/stable/user_guide/indexing.html#returning-a-view-versus-a-copy\n",
      "  df_event[\"time_elapsed\"] = (df_event[\"end\"] - df_event[\"start\"]).dt.total_seconds()\n",
      "/var/folders/67/cm4smmds2bqf7q68jzsyvh840000gn/T/ipykernel_29154/3464380018.py:34: SettingWithCopyWarning: \n",
      "A value is trying to be set on a copy of a slice from a DataFrame.\n",
      "Try using .loc[row_indexer,col_indexer] = value instead\n",
      "\n",
      "See the caveats in the documentation: https://pandas.pydata.org/pandas-docs/stable/user_guide/indexing.html#returning-a-view-versus-a-copy\n",
      "  df_event[\"name\"] = name.name\n",
      "/var/folders/67/cm4smmds2bqf7q68jzsyvh840000gn/T/ipykernel_29154/3464380018.py:35: SettingWithCopyWarning: \n",
      "A value is trying to be set on a copy of a slice from a DataFrame.\n",
      "Try using .loc[row_indexer,col_indexer] = value instead\n",
      "\n",
      "See the caveats in the documentation: https://pandas.pydata.org/pandas-docs/stable/user_guide/indexing.html#returning-a-view-versus-a-copy\n",
      "  df_event[\"legend\"] = f\"{event_name} ({name})\"\n",
      "/var/folders/67/cm4smmds2bqf7q68jzsyvh840000gn/T/ipykernel_29154/3464380018.py:36: SettingWithCopyWarning: \n",
      "A value is trying to be set on a copy of a slice from a DataFrame.\n",
      "Try using .loc[row_indexer,col_indexer] = value instead\n",
      "\n",
      "See the caveats in the documentation: https://pandas.pydata.org/pandas-docs/stable/user_guide/indexing.html#returning-a-view-versus-a-copy\n",
      "  df_event[\"index\"] = df_event.index\n",
      "/var/folders/67/cm4smmds2bqf7q68jzsyvh840000gn/T/ipykernel_29154/3464380018.py:30: SettingWithCopyWarning: \n",
      "A value is trying to be set on a copy of a slice from a DataFrame\n",
      "\n",
      "See the caveats in the documentation: https://pandas.pydata.org/pandas-docs/stable/user_guide/indexing.html#returning-a-view-versus-a-copy\n",
      "  df_event.dropna(inplace=True)\n",
      "/var/folders/67/cm4smmds2bqf7q68jzsyvh840000gn/T/ipykernel_29154/3464380018.py:31: SettingWithCopyWarning: \n",
      "A value is trying to be set on a copy of a slice from a DataFrame.\n",
      "Try using .loc[row_indexer,col_indexer] = value instead\n",
      "\n",
      "See the caveats in the documentation: https://pandas.pydata.org/pandas-docs/stable/user_guide/indexing.html#returning-a-view-versus-a-copy\n",
      "  df_event[\"event\"] = event_name\n",
      "/var/folders/67/cm4smmds2bqf7q68jzsyvh840000gn/T/ipykernel_29154/3464380018.py:33: SettingWithCopyWarning: \n",
      "A value is trying to be set on a copy of a slice from a DataFrame.\n",
      "Try using .loc[row_indexer,col_indexer] = value instead\n",
      "\n",
      "See the caveats in the documentation: https://pandas.pydata.org/pandas-docs/stable/user_guide/indexing.html#returning-a-view-versus-a-copy\n",
      "  df_event[\"time_elapsed\"] = (df_event[\"end\"] - df_event[\"start\"]).dt.total_seconds()\n",
      "/var/folders/67/cm4smmds2bqf7q68jzsyvh840000gn/T/ipykernel_29154/3464380018.py:34: SettingWithCopyWarning: \n",
      "A value is trying to be set on a copy of a slice from a DataFrame.\n",
      "Try using .loc[row_indexer,col_indexer] = value instead\n",
      "\n",
      "See the caveats in the documentation: https://pandas.pydata.org/pandas-docs/stable/user_guide/indexing.html#returning-a-view-versus-a-copy\n",
      "  df_event[\"name\"] = name.name\n",
      "/var/folders/67/cm4smmds2bqf7q68jzsyvh840000gn/T/ipykernel_29154/3464380018.py:35: SettingWithCopyWarning: \n",
      "A value is trying to be set on a copy of a slice from a DataFrame.\n",
      "Try using .loc[row_indexer,col_indexer] = value instead\n",
      "\n",
      "See the caveats in the documentation: https://pandas.pydata.org/pandas-docs/stable/user_guide/indexing.html#returning-a-view-versus-a-copy\n",
      "  df_event[\"legend\"] = f\"{event_name} ({name})\"\n",
      "/var/folders/67/cm4smmds2bqf7q68jzsyvh840000gn/T/ipykernel_29154/3464380018.py:36: SettingWithCopyWarning: \n",
      "A value is trying to be set on a copy of a slice from a DataFrame.\n",
      "Try using .loc[row_indexer,col_indexer] = value instead\n",
      "\n",
      "See the caveats in the documentation: https://pandas.pydata.org/pandas-docs/stable/user_guide/indexing.html#returning-a-view-versus-a-copy\n",
      "  df_event[\"index\"] = df_event.index\n",
      "/var/folders/67/cm4smmds2bqf7q68jzsyvh840000gn/T/ipykernel_29154/3464380018.py:30: SettingWithCopyWarning: \n",
      "A value is trying to be set on a copy of a slice from a DataFrame\n",
      "\n",
      "See the caveats in the documentation: https://pandas.pydata.org/pandas-docs/stable/user_guide/indexing.html#returning-a-view-versus-a-copy\n",
      "  df_event.dropna(inplace=True)\n",
      "/var/folders/67/cm4smmds2bqf7q68jzsyvh840000gn/T/ipykernel_29154/3464380018.py:31: SettingWithCopyWarning: \n",
      "A value is trying to be set on a copy of a slice from a DataFrame.\n",
      "Try using .loc[row_indexer,col_indexer] = value instead\n",
      "\n",
      "See the caveats in the documentation: https://pandas.pydata.org/pandas-docs/stable/user_guide/indexing.html#returning-a-view-versus-a-copy\n",
      "  df_event[\"event\"] = event_name\n",
      "/var/folders/67/cm4smmds2bqf7q68jzsyvh840000gn/T/ipykernel_29154/3464380018.py:33: SettingWithCopyWarning: \n",
      "A value is trying to be set on a copy of a slice from a DataFrame.\n",
      "Try using .loc[row_indexer,col_indexer] = value instead\n",
      "\n",
      "See the caveats in the documentation: https://pandas.pydata.org/pandas-docs/stable/user_guide/indexing.html#returning-a-view-versus-a-copy\n",
      "  df_event[\"time_elapsed\"] = (df_event[\"end\"] - df_event[\"start\"]).dt.total_seconds()\n",
      "/var/folders/67/cm4smmds2bqf7q68jzsyvh840000gn/T/ipykernel_29154/3464380018.py:34: SettingWithCopyWarning: \n",
      "A value is trying to be set on a copy of a slice from a DataFrame.\n",
      "Try using .loc[row_indexer,col_indexer] = value instead\n",
      "\n",
      "See the caveats in the documentation: https://pandas.pydata.org/pandas-docs/stable/user_guide/indexing.html#returning-a-view-versus-a-copy\n",
      "  df_event[\"name\"] = name.name\n",
      "/var/folders/67/cm4smmds2bqf7q68jzsyvh840000gn/T/ipykernel_29154/3464380018.py:35: SettingWithCopyWarning: \n",
      "A value is trying to be set on a copy of a slice from a DataFrame.\n",
      "Try using .loc[row_indexer,col_indexer] = value instead\n",
      "\n",
      "See the caveats in the documentation: https://pandas.pydata.org/pandas-docs/stable/user_guide/indexing.html#returning-a-view-versus-a-copy\n",
      "  df_event[\"legend\"] = f\"{event_name} ({name})\"\n",
      "/var/folders/67/cm4smmds2bqf7q68jzsyvh840000gn/T/ipykernel_29154/3464380018.py:36: SettingWithCopyWarning: \n",
      "A value is trying to be set on a copy of a slice from a DataFrame.\n",
      "Try using .loc[row_indexer,col_indexer] = value instead\n",
      "\n",
      "See the caveats in the documentation: https://pandas.pydata.org/pandas-docs/stable/user_guide/indexing.html#returning-a-view-versus-a-copy\n",
      "  df_event[\"index\"] = df_event.index\n",
      "/var/folders/67/cm4smmds2bqf7q68jzsyvh840000gn/T/ipykernel_29154/3464380018.py:30: SettingWithCopyWarning: \n",
      "A value is trying to be set on a copy of a slice from a DataFrame\n",
      "\n",
      "See the caveats in the documentation: https://pandas.pydata.org/pandas-docs/stable/user_guide/indexing.html#returning-a-view-versus-a-copy\n",
      "  df_event.dropna(inplace=True)\n",
      "/var/folders/67/cm4smmds2bqf7q68jzsyvh840000gn/T/ipykernel_29154/3464380018.py:31: SettingWithCopyWarning: \n",
      "A value is trying to be set on a copy of a slice from a DataFrame.\n",
      "Try using .loc[row_indexer,col_indexer] = value instead\n",
      "\n",
      "See the caveats in the documentation: https://pandas.pydata.org/pandas-docs/stable/user_guide/indexing.html#returning-a-view-versus-a-copy\n",
      "  df_event[\"event\"] = event_name\n",
      "/var/folders/67/cm4smmds2bqf7q68jzsyvh840000gn/T/ipykernel_29154/3464380018.py:33: SettingWithCopyWarning: \n",
      "A value is trying to be set on a copy of a slice from a DataFrame.\n",
      "Try using .loc[row_indexer,col_indexer] = value instead\n",
      "\n",
      "See the caveats in the documentation: https://pandas.pydata.org/pandas-docs/stable/user_guide/indexing.html#returning-a-view-versus-a-copy\n",
      "  df_event[\"time_elapsed\"] = (df_event[\"end\"] - df_event[\"start\"]).dt.total_seconds()\n",
      "/var/folders/67/cm4smmds2bqf7q68jzsyvh840000gn/T/ipykernel_29154/3464380018.py:34: SettingWithCopyWarning: \n",
      "A value is trying to be set on a copy of a slice from a DataFrame.\n",
      "Try using .loc[row_indexer,col_indexer] = value instead\n",
      "\n",
      "See the caveats in the documentation: https://pandas.pydata.org/pandas-docs/stable/user_guide/indexing.html#returning-a-view-versus-a-copy\n",
      "  df_event[\"name\"] = name.name\n",
      "/var/folders/67/cm4smmds2bqf7q68jzsyvh840000gn/T/ipykernel_29154/3464380018.py:35: SettingWithCopyWarning: \n",
      "A value is trying to be set on a copy of a slice from a DataFrame.\n",
      "Try using .loc[row_indexer,col_indexer] = value instead\n",
      "\n",
      "See the caveats in the documentation: https://pandas.pydata.org/pandas-docs/stable/user_guide/indexing.html#returning-a-view-versus-a-copy\n",
      "  df_event[\"legend\"] = f\"{event_name} ({name})\"\n",
      "/var/folders/67/cm4smmds2bqf7q68jzsyvh840000gn/T/ipykernel_29154/3464380018.py:36: SettingWithCopyWarning: \n",
      "A value is trying to be set on a copy of a slice from a DataFrame.\n",
      "Try using .loc[row_indexer,col_indexer] = value instead\n",
      "\n",
      "See the caveats in the documentation: https://pandas.pydata.org/pandas-docs/stable/user_guide/indexing.html#returning-a-view-versus-a-copy\n",
      "  df_event[\"index\"] = df_event.index\n",
      "/var/folders/67/cm4smmds2bqf7q68jzsyvh840000gn/T/ipykernel_29154/3464380018.py:30: SettingWithCopyWarning: \n",
      "A value is trying to be set on a copy of a slice from a DataFrame\n",
      "\n",
      "See the caveats in the documentation: https://pandas.pydata.org/pandas-docs/stable/user_guide/indexing.html#returning-a-view-versus-a-copy\n",
      "  df_event.dropna(inplace=True)\n",
      "/var/folders/67/cm4smmds2bqf7q68jzsyvh840000gn/T/ipykernel_29154/3464380018.py:30: SettingWithCopyWarning: \n",
      "A value is trying to be set on a copy of a slice from a DataFrame\n",
      "\n",
      "See the caveats in the documentation: https://pandas.pydata.org/pandas-docs/stable/user_guide/indexing.html#returning-a-view-versus-a-copy\n",
      "  df_event.dropna(inplace=True)\n"
     ]
    },
    {
     "data": {
      "text/html": [
       "<div>\n",
       "<style scoped>\n",
       "    .dataframe tbody tr th:only-of-type {\n",
       "        vertical-align: middle;\n",
       "    }\n",
       "\n",
       "    .dataframe tbody tr th {\n",
       "        vertical-align: top;\n",
       "    }\n",
       "\n",
       "    .dataframe thead th {\n",
       "        text-align: right;\n",
       "    }\n",
       "</style>\n",
       "<table border=\"1\" class=\"dataframe\">\n",
       "  <thead>\n",
       "    <tr style=\"text-align: right;\">\n",
       "      <th></th>\n",
       "      <th>start</th>\n",
       "      <th>end</th>\n",
       "      <th>event</th>\n",
       "      <th>time_elapsed</th>\n",
       "      <th>name</th>\n",
       "      <th>legend</th>\n",
       "      <th>index</th>\n",
       "    </tr>\n",
       "  </thead>\n",
       "  <tbody>\n",
       "    <tr>\n",
       "      <th>0</th>\n",
       "      <td>2024-05-14 16:43:29.831662178</td>\n",
       "      <td>2024-05-14 16:43:30.405434132</td>\n",
       "      <td>epoch</td>\n",
       "      <td>0.573772</td>\n",
       "      <td>mdgan.5.cifar.worker.1.logs.json</td>\n",
       "      <td>epoch (logs/mdgan.5.cifar.worker.1.logs.json)</td>\n",
       "      <td>0</td>\n",
       "    </tr>\n",
       "    <tr>\n",
       "      <th>1</th>\n",
       "      <td>2024-05-14 16:43:30.408802986</td>\n",
       "      <td>2024-05-14 16:43:33.759947062</td>\n",
       "      <td>epoch</td>\n",
       "      <td>3.351144</td>\n",
       "      <td>mdgan.5.cifar.worker.1.logs.json</td>\n",
       "      <td>epoch (logs/mdgan.5.cifar.worker.1.logs.json)</td>\n",
       "      <td>1</td>\n",
       "    </tr>\n",
       "    <tr>\n",
       "      <th>2</th>\n",
       "      <td>2024-05-14 16:43:33.760489941</td>\n",
       "      <td>2024-05-14 16:43:33.869878054</td>\n",
       "      <td>epoch</td>\n",
       "      <td>0.109388</td>\n",
       "      <td>mdgan.5.cifar.worker.1.logs.json</td>\n",
       "      <td>epoch (logs/mdgan.5.cifar.worker.1.logs.json)</td>\n",
       "      <td>2</td>\n",
       "    </tr>\n",
       "    <tr>\n",
       "      <th>3</th>\n",
       "      <td>2024-05-14 16:43:33.870329142</td>\n",
       "      <td>2024-05-14 16:43:33.956831932</td>\n",
       "      <td>epoch</td>\n",
       "      <td>0.086503</td>\n",
       "      <td>mdgan.5.cifar.worker.1.logs.json</td>\n",
       "      <td>epoch (logs/mdgan.5.cifar.worker.1.logs.json)</td>\n",
       "      <td>3</td>\n",
       "    </tr>\n",
       "    <tr>\n",
       "      <th>4</th>\n",
       "      <td>2024-05-14 16:43:33.957221985</td>\n",
       "      <td>2024-05-14 16:43:34.048259020</td>\n",
       "      <td>epoch</td>\n",
       "      <td>0.091037</td>\n",
       "      <td>mdgan.5.cifar.worker.1.logs.json</td>\n",
       "      <td>epoch (logs/mdgan.5.cifar.worker.1.logs.json)</td>\n",
       "      <td>4</td>\n",
       "    </tr>\n",
       "    <tr>\n",
       "      <th>...</th>\n",
       "      <td>...</td>\n",
       "      <td>...</td>\n",
       "      <td>...</td>\n",
       "      <td>...</td>\n",
       "      <td>...</td>\n",
       "      <td>...</td>\n",
       "      <td>...</td>\n",
       "    </tr>\n",
       "    <tr>\n",
       "      <th>22</th>\n",
       "      <td>2024-05-14 16:43:35.660019875</td>\n",
       "      <td>2024-05-14 16:43:35.668193102</td>\n",
       "      <td>send</td>\n",
       "      <td>0.008173</td>\n",
       "      <td>mdgan.5.cifar.worker.5.logs.json</td>\n",
       "      <td>send (logs/mdgan.5.cifar.worker.5.logs.json)</td>\n",
       "      <td>22</td>\n",
       "    </tr>\n",
       "    <tr>\n",
       "      <th>23</th>\n",
       "      <td>2024-05-14 16:43:35.750016928</td>\n",
       "      <td>2024-05-14 16:43:35.759333134</td>\n",
       "      <td>send</td>\n",
       "      <td>0.009316</td>\n",
       "      <td>mdgan.5.cifar.worker.5.logs.json</td>\n",
       "      <td>send (logs/mdgan.5.cifar.worker.5.logs.json)</td>\n",
       "      <td>23</td>\n",
       "    </tr>\n",
       "    <tr>\n",
       "      <th>24</th>\n",
       "      <td>2024-05-14 16:43:35.842810154</td>\n",
       "      <td>2024-05-14 16:43:35.850170851</td>\n",
       "      <td>send</td>\n",
       "      <td>0.007361</td>\n",
       "      <td>mdgan.5.cifar.worker.5.logs.json</td>\n",
       "      <td>send (logs/mdgan.5.cifar.worker.5.logs.json)</td>\n",
       "      <td>24</td>\n",
       "    </tr>\n",
       "    <tr>\n",
       "      <th>25</th>\n",
       "      <td>2024-05-14 16:43:35.932924986</td>\n",
       "      <td>2024-05-14 16:43:35.938212156</td>\n",
       "      <td>send</td>\n",
       "      <td>0.005287</td>\n",
       "      <td>mdgan.5.cifar.worker.5.logs.json</td>\n",
       "      <td>send (logs/mdgan.5.cifar.worker.5.logs.json)</td>\n",
       "      <td>25</td>\n",
       "    </tr>\n",
       "    <tr>\n",
       "      <th>26</th>\n",
       "      <td>2024-05-14 16:43:36.017683029</td>\n",
       "      <td>2024-05-14 16:43:36.027939081</td>\n",
       "      <td>send</td>\n",
       "      <td>0.010256</td>\n",
       "      <td>mdgan.5.cifar.worker.5.logs.json</td>\n",
       "      <td>send (logs/mdgan.5.cifar.worker.5.logs.json)</td>\n",
       "      <td>26</td>\n",
       "    </tr>\n",
       "  </tbody>\n",
       "</table>\n",
       "<p>540 rows × 7 columns</p>\n",
       "</div>"
      ],
      "text/plain": [
       "                           start                           end  event  \\\n",
       "0  2024-05-14 16:43:29.831662178 2024-05-14 16:43:30.405434132  epoch   \n",
       "1  2024-05-14 16:43:30.408802986 2024-05-14 16:43:33.759947062  epoch   \n",
       "2  2024-05-14 16:43:33.760489941 2024-05-14 16:43:33.869878054  epoch   \n",
       "3  2024-05-14 16:43:33.870329142 2024-05-14 16:43:33.956831932  epoch   \n",
       "4  2024-05-14 16:43:33.957221985 2024-05-14 16:43:34.048259020  epoch   \n",
       "..                           ...                           ...    ...   \n",
       "22 2024-05-14 16:43:35.660019875 2024-05-14 16:43:35.668193102   send   \n",
       "23 2024-05-14 16:43:35.750016928 2024-05-14 16:43:35.759333134   send   \n",
       "24 2024-05-14 16:43:35.842810154 2024-05-14 16:43:35.850170851   send   \n",
       "25 2024-05-14 16:43:35.932924986 2024-05-14 16:43:35.938212156   send   \n",
       "26 2024-05-14 16:43:36.017683029 2024-05-14 16:43:36.027939081   send   \n",
       "\n",
       "    time_elapsed                              name  \\\n",
       "0       0.573772  mdgan.5.cifar.worker.1.logs.json   \n",
       "1       3.351144  mdgan.5.cifar.worker.1.logs.json   \n",
       "2       0.109388  mdgan.5.cifar.worker.1.logs.json   \n",
       "3       0.086503  mdgan.5.cifar.worker.1.logs.json   \n",
       "4       0.091037  mdgan.5.cifar.worker.1.logs.json   \n",
       "..           ...                               ...   \n",
       "22      0.008173  mdgan.5.cifar.worker.5.logs.json   \n",
       "23      0.009316  mdgan.5.cifar.worker.5.logs.json   \n",
       "24      0.007361  mdgan.5.cifar.worker.5.logs.json   \n",
       "25      0.005287  mdgan.5.cifar.worker.5.logs.json   \n",
       "26      0.010256  mdgan.5.cifar.worker.5.logs.json   \n",
       "\n",
       "                                           legend  index  \n",
       "0   epoch (logs/mdgan.5.cifar.worker.1.logs.json)      0  \n",
       "1   epoch (logs/mdgan.5.cifar.worker.1.logs.json)      1  \n",
       "2   epoch (logs/mdgan.5.cifar.worker.1.logs.json)      2  \n",
       "3   epoch (logs/mdgan.5.cifar.worker.1.logs.json)      3  \n",
       "4   epoch (logs/mdgan.5.cifar.worker.1.logs.json)      4  \n",
       "..                                            ...    ...  \n",
       "22   send (logs/mdgan.5.cifar.worker.5.logs.json)     22  \n",
       "23   send (logs/mdgan.5.cifar.worker.5.logs.json)     23  \n",
       "24   send (logs/mdgan.5.cifar.worker.5.logs.json)     24  \n",
       "25   send (logs/mdgan.5.cifar.worker.5.logs.json)     25  \n",
       "26   send (logs/mdgan.5.cifar.worker.5.logs.json)     26  \n",
       "\n",
       "[540 rows x 7 columns]"
      ]
     },
     "metadata": {},
     "output_type": "display_data"
    },
    {
     "data": {
      "text/html": [
       "<div>\n",
       "<style scoped>\n",
       "    .dataframe tbody tr th:only-of-type {\n",
       "        vertical-align: middle;\n",
       "    }\n",
       "\n",
       "    .dataframe tbody tr th {\n",
       "        vertical-align: top;\n",
       "    }\n",
       "\n",
       "    .dataframe thead th {\n",
       "        text-align: right;\n",
       "    }\n",
       "</style>\n",
       "<table border=\"1\" class=\"dataframe\">\n",
       "  <thead>\n",
       "    <tr style=\"text-align: right;\">\n",
       "      <th></th>\n",
       "      <th>epoch</th>\n",
       "      <th>start.epoch</th>\n",
       "      <th>end.epoch</th>\n",
       "      <th>start.train</th>\n",
       "      <th>end.train</th>\n",
       "      <th>start.recv_data</th>\n",
       "      <th>end.recv_data</th>\n",
       "      <th>start.send</th>\n",
       "      <th>end.send</th>\n",
       "      <th>start.swap_recv</th>\n",
       "      <th>...</th>\n",
       "      <th>dataset</th>\n",
       "      <th>worker</th>\n",
       "      <th>log</th>\n",
       "      <th>world_size</th>\n",
       "      <th>time_elapsed.epoch</th>\n",
       "      <th>time_elapsed.train</th>\n",
       "      <th>time_elapsed.recv_data</th>\n",
       "      <th>time_elapsed.send</th>\n",
       "      <th>time_elapsed.swap_recv</th>\n",
       "      <th>time_elapsed.swap_send</th>\n",
       "    </tr>\n",
       "  </thead>\n",
       "  <tbody>\n",
       "    <tr>\n",
       "      <th>0</th>\n",
       "      <td>0</td>\n",
       "      <td>2024-05-14 16:43:29.831662178</td>\n",
       "      <td>2024-05-14 16:43:30.405434132</td>\n",
       "      <td>2024-05-14 16:43:29.961426020</td>\n",
       "      <td>2024-05-14 16:43:30.385761976</td>\n",
       "      <td>2024-05-14 16:43:29.839945078</td>\n",
       "      <td>2024-05-14 16:43:29.961426020</td>\n",
       "      <td>2024-05-14 16:43:30.385761976</td>\n",
       "      <td>2024-05-14 16:43:30.405089140</td>\n",
       "      <td>NaT</td>\n",
       "      <td>...</td>\n",
       "      <td>worker</td>\n",
       "      <td>logs</td>\n",
       "      <td>logs/mdgan.5.cifar.worker.1.logs.json</td>\n",
       "      <td>5</td>\n",
       "      <td>0.573772</td>\n",
       "      <td>0.424336</td>\n",
       "      <td>0.121481</td>\n",
       "      <td>0.019327</td>\n",
       "      <td>NaN</td>\n",
       "      <td>NaN</td>\n",
       "    </tr>\n",
       "    <tr>\n",
       "      <th>1</th>\n",
       "      <td>1</td>\n",
       "      <td>2024-05-14 16:43:30.408802986</td>\n",
       "      <td>2024-05-14 16:43:33.759947062</td>\n",
       "      <td>2024-05-14 16:43:33.702067852</td>\n",
       "      <td>2024-05-14 16:43:33.747936964</td>\n",
       "      <td>2024-05-14 16:43:30.411409855</td>\n",
       "      <td>2024-05-14 16:43:33.702066898</td>\n",
       "      <td>2024-05-14 16:43:33.747938156</td>\n",
       "      <td>2024-05-14 16:43:33.759933949</td>\n",
       "      <td>NaT</td>\n",
       "      <td>...</td>\n",
       "      <td>worker</td>\n",
       "      <td>logs</td>\n",
       "      <td>logs/mdgan.5.cifar.worker.1.logs.json</td>\n",
       "      <td>5</td>\n",
       "      <td>3.351144</td>\n",
       "      <td>0.045869</td>\n",
       "      <td>3.290657</td>\n",
       "      <td>0.011996</td>\n",
       "      <td>NaN</td>\n",
       "      <td>NaN</td>\n",
       "    </tr>\n",
       "    <tr>\n",
       "      <th>2</th>\n",
       "      <td>2</td>\n",
       "      <td>2024-05-14 16:43:33.760489941</td>\n",
       "      <td>2024-05-14 16:43:33.869878054</td>\n",
       "      <td>2024-05-14 16:43:33.837297916</td>\n",
       "      <td>2024-05-14 16:43:33.860669851</td>\n",
       "      <td>2024-05-14 16:43:33.762871027</td>\n",
       "      <td>2024-05-14 16:43:33.837296963</td>\n",
       "      <td>2024-05-14 16:43:33.860669851</td>\n",
       "      <td>2024-05-14 16:43:33.869861841</td>\n",
       "      <td>NaT</td>\n",
       "      <td>...</td>\n",
       "      <td>worker</td>\n",
       "      <td>logs</td>\n",
       "      <td>logs/mdgan.5.cifar.worker.1.logs.json</td>\n",
       "      <td>5</td>\n",
       "      <td>0.109388</td>\n",
       "      <td>0.023372</td>\n",
       "      <td>0.074426</td>\n",
       "      <td>0.009192</td>\n",
       "      <td>NaN</td>\n",
       "      <td>NaN</td>\n",
       "    </tr>\n",
       "    <tr>\n",
       "      <th>3</th>\n",
       "      <td>3</td>\n",
       "      <td>2024-05-14 16:43:33.870329142</td>\n",
       "      <td>2024-05-14 16:43:33.956831932</td>\n",
       "      <td>2024-05-14 16:43:33.925778866</td>\n",
       "      <td>2024-05-14 16:43:33.949967146</td>\n",
       "      <td>2024-05-14 16:43:33.872330904</td>\n",
       "      <td>2024-05-14 16:43:33.925778866</td>\n",
       "      <td>2024-05-14 16:43:33.949967146</td>\n",
       "      <td>2024-05-14 16:43:33.956817865</td>\n",
       "      <td>NaT</td>\n",
       "      <td>...</td>\n",
       "      <td>worker</td>\n",
       "      <td>logs</td>\n",
       "      <td>logs/mdgan.5.cifar.worker.1.logs.json</td>\n",
       "      <td>5</td>\n",
       "      <td>0.086503</td>\n",
       "      <td>0.024188</td>\n",
       "      <td>0.053448</td>\n",
       "      <td>0.006851</td>\n",
       "      <td>NaN</td>\n",
       "      <td>NaN</td>\n",
       "    </tr>\n",
       "    <tr>\n",
       "      <th>4</th>\n",
       "      <td>4</td>\n",
       "      <td>2024-05-14 16:43:33.957221985</td>\n",
       "      <td>2024-05-14 16:43:34.048259020</td>\n",
       "      <td>2024-05-14 16:43:34.014600039</td>\n",
       "      <td>2024-05-14 16:43:34.039219856</td>\n",
       "      <td>2024-05-14 16:43:33.958865881</td>\n",
       "      <td>2024-05-14 16:43:34.014600039</td>\n",
       "      <td>2024-05-14 16:43:34.039221048</td>\n",
       "      <td>2024-05-14 16:43:34.048248053</td>\n",
       "      <td>NaT</td>\n",
       "      <td>...</td>\n",
       "      <td>worker</td>\n",
       "      <td>logs</td>\n",
       "      <td>logs/mdgan.5.cifar.worker.1.logs.json</td>\n",
       "      <td>5</td>\n",
       "      <td>0.091037</td>\n",
       "      <td>0.024620</td>\n",
       "      <td>0.055734</td>\n",
       "      <td>0.009027</td>\n",
       "      <td>NaN</td>\n",
       "      <td>NaN</td>\n",
       "    </tr>\n",
       "    <tr>\n",
       "      <th>...</th>\n",
       "      <td>...</td>\n",
       "      <td>...</td>\n",
       "      <td>...</td>\n",
       "      <td>...</td>\n",
       "      <td>...</td>\n",
       "      <td>...</td>\n",
       "      <td>...</td>\n",
       "      <td>...</td>\n",
       "      <td>...</td>\n",
       "      <td>...</td>\n",
       "      <td>...</td>\n",
       "      <td>...</td>\n",
       "      <td>...</td>\n",
       "      <td>...</td>\n",
       "      <td>...</td>\n",
       "      <td>...</td>\n",
       "      <td>...</td>\n",
       "      <td>...</td>\n",
       "      <td>...</td>\n",
       "      <td>...</td>\n",
       "      <td>...</td>\n",
       "    </tr>\n",
       "    <tr>\n",
       "      <th>22</th>\n",
       "      <td>22</td>\n",
       "      <td>2024-05-14 16:43:35.582704782</td>\n",
       "      <td>2024-05-14 16:43:35.668207169</td>\n",
       "      <td>2024-05-14 16:43:35.640265942</td>\n",
       "      <td>2024-05-14 16:43:35.660019875</td>\n",
       "      <td>2024-05-14 16:43:35.584672928</td>\n",
       "      <td>2024-05-14 16:43:35.640264988</td>\n",
       "      <td>2024-05-14 16:43:35.660019875</td>\n",
       "      <td>2024-05-14 16:43:35.668193102</td>\n",
       "      <td>NaT</td>\n",
       "      <td>...</td>\n",
       "      <td>worker</td>\n",
       "      <td>logs</td>\n",
       "      <td>logs/mdgan.5.cifar.worker.5.logs.json</td>\n",
       "      <td>5</td>\n",
       "      <td>0.085502</td>\n",
       "      <td>0.019754</td>\n",
       "      <td>0.055592</td>\n",
       "      <td>0.008173</td>\n",
       "      <td>NaN</td>\n",
       "      <td>NaN</td>\n",
       "    </tr>\n",
       "    <tr>\n",
       "      <th>23</th>\n",
       "      <td>23</td>\n",
       "      <td>2024-05-14 16:43:35.669106007</td>\n",
       "      <td>2024-05-14 16:43:35.759344816</td>\n",
       "      <td>2024-05-14 16:43:35.728389025</td>\n",
       "      <td>2024-05-14 16:43:35.750016928</td>\n",
       "      <td>2024-05-14 16:43:35.670753956</td>\n",
       "      <td>2024-05-14 16:43:35.728388071</td>\n",
       "      <td>2024-05-14 16:43:35.750016928</td>\n",
       "      <td>2024-05-14 16:43:35.759333134</td>\n",
       "      <td>NaT</td>\n",
       "      <td>...</td>\n",
       "      <td>worker</td>\n",
       "      <td>logs</td>\n",
       "      <td>logs/mdgan.5.cifar.worker.5.logs.json</td>\n",
       "      <td>5</td>\n",
       "      <td>0.090239</td>\n",
       "      <td>0.021628</td>\n",
       "      <td>0.057634</td>\n",
       "      <td>0.009316</td>\n",
       "      <td>NaN</td>\n",
       "      <td>NaN</td>\n",
       "    </tr>\n",
       "    <tr>\n",
       "      <th>24</th>\n",
       "      <td>24</td>\n",
       "      <td>2024-05-14 16:43:35.759938955</td>\n",
       "      <td>2024-05-14 16:43:35.850188017</td>\n",
       "      <td>2024-05-14 16:43:35.818846941</td>\n",
       "      <td>2024-05-14 16:43:35.842809200</td>\n",
       "      <td>2024-05-14 16:43:35.761593103</td>\n",
       "      <td>2024-05-14 16:43:35.818845987</td>\n",
       "      <td>2024-05-14 16:43:35.842810154</td>\n",
       "      <td>2024-05-14 16:43:35.850170851</td>\n",
       "      <td>NaT</td>\n",
       "      <td>...</td>\n",
       "      <td>worker</td>\n",
       "      <td>logs</td>\n",
       "      <td>logs/mdgan.5.cifar.worker.5.logs.json</td>\n",
       "      <td>5</td>\n",
       "      <td>0.090249</td>\n",
       "      <td>0.023962</td>\n",
       "      <td>0.057253</td>\n",
       "      <td>0.007361</td>\n",
       "      <td>NaN</td>\n",
       "      <td>NaN</td>\n",
       "    </tr>\n",
       "    <tr>\n",
       "      <th>25</th>\n",
       "      <td>25</td>\n",
       "      <td>2024-05-14 16:43:35.851063967</td>\n",
       "      <td>2024-05-14 16:43:35.938224792</td>\n",
       "      <td>2024-05-14 16:43:35.909811974</td>\n",
       "      <td>2024-05-14 16:43:35.932924986</td>\n",
       "      <td>2024-05-14 16:43:35.852933168</td>\n",
       "      <td>2024-05-14 16:43:35.909811020</td>\n",
       "      <td>2024-05-14 16:43:35.932924986</td>\n",
       "      <td>2024-05-14 16:43:35.938212156</td>\n",
       "      <td>NaT</td>\n",
       "      <td>...</td>\n",
       "      <td>worker</td>\n",
       "      <td>logs</td>\n",
       "      <td>logs/mdgan.5.cifar.worker.5.logs.json</td>\n",
       "      <td>5</td>\n",
       "      <td>0.087161</td>\n",
       "      <td>0.023113</td>\n",
       "      <td>0.056878</td>\n",
       "      <td>0.005287</td>\n",
       "      <td>NaN</td>\n",
       "      <td>NaN</td>\n",
       "    </tr>\n",
       "    <tr>\n",
       "      <th>26</th>\n",
       "      <td>26</td>\n",
       "      <td>2024-05-14 16:43:35.939074993</td>\n",
       "      <td>2024-05-14 16:43:36.027956963</td>\n",
       "      <td>2024-05-14 16:43:35.995861053</td>\n",
       "      <td>2024-05-14 16:43:36.017683029</td>\n",
       "      <td>2024-05-14 16:43:35.940970898</td>\n",
       "      <td>2024-05-14 16:43:35.995861053</td>\n",
       "      <td>2024-05-14 16:43:36.017683029</td>\n",
       "      <td>2024-05-14 16:43:36.027939081</td>\n",
       "      <td>NaT</td>\n",
       "      <td>...</td>\n",
       "      <td>worker</td>\n",
       "      <td>logs</td>\n",
       "      <td>logs/mdgan.5.cifar.worker.5.logs.json</td>\n",
       "      <td>5</td>\n",
       "      <td>0.088882</td>\n",
       "      <td>0.021822</td>\n",
       "      <td>0.054890</td>\n",
       "      <td>0.010256</td>\n",
       "      <td>NaN</td>\n",
       "      <td>NaN</td>\n",
       "    </tr>\n",
       "  </tbody>\n",
       "</table>\n",
       "<p>135 rows × 26 columns</p>\n",
       "</div>"
      ],
      "text/plain": [
       "    epoch                   start.epoch                     end.epoch  \\\n",
       "0       0 2024-05-14 16:43:29.831662178 2024-05-14 16:43:30.405434132   \n",
       "1       1 2024-05-14 16:43:30.408802986 2024-05-14 16:43:33.759947062   \n",
       "2       2 2024-05-14 16:43:33.760489941 2024-05-14 16:43:33.869878054   \n",
       "3       3 2024-05-14 16:43:33.870329142 2024-05-14 16:43:33.956831932   \n",
       "4       4 2024-05-14 16:43:33.957221985 2024-05-14 16:43:34.048259020   \n",
       "..    ...                           ...                           ...   \n",
       "22     22 2024-05-14 16:43:35.582704782 2024-05-14 16:43:35.668207169   \n",
       "23     23 2024-05-14 16:43:35.669106007 2024-05-14 16:43:35.759344816   \n",
       "24     24 2024-05-14 16:43:35.759938955 2024-05-14 16:43:35.850188017   \n",
       "25     25 2024-05-14 16:43:35.851063967 2024-05-14 16:43:35.938224792   \n",
       "26     26 2024-05-14 16:43:35.939074993 2024-05-14 16:43:36.027956963   \n",
       "\n",
       "                     start.train                     end.train  \\\n",
       "0  2024-05-14 16:43:29.961426020 2024-05-14 16:43:30.385761976   \n",
       "1  2024-05-14 16:43:33.702067852 2024-05-14 16:43:33.747936964   \n",
       "2  2024-05-14 16:43:33.837297916 2024-05-14 16:43:33.860669851   \n",
       "3  2024-05-14 16:43:33.925778866 2024-05-14 16:43:33.949967146   \n",
       "4  2024-05-14 16:43:34.014600039 2024-05-14 16:43:34.039219856   \n",
       "..                           ...                           ...   \n",
       "22 2024-05-14 16:43:35.640265942 2024-05-14 16:43:35.660019875   \n",
       "23 2024-05-14 16:43:35.728389025 2024-05-14 16:43:35.750016928   \n",
       "24 2024-05-14 16:43:35.818846941 2024-05-14 16:43:35.842809200   \n",
       "25 2024-05-14 16:43:35.909811974 2024-05-14 16:43:35.932924986   \n",
       "26 2024-05-14 16:43:35.995861053 2024-05-14 16:43:36.017683029   \n",
       "\n",
       "                 start.recv_data                 end.recv_data  \\\n",
       "0  2024-05-14 16:43:29.839945078 2024-05-14 16:43:29.961426020   \n",
       "1  2024-05-14 16:43:30.411409855 2024-05-14 16:43:33.702066898   \n",
       "2  2024-05-14 16:43:33.762871027 2024-05-14 16:43:33.837296963   \n",
       "3  2024-05-14 16:43:33.872330904 2024-05-14 16:43:33.925778866   \n",
       "4  2024-05-14 16:43:33.958865881 2024-05-14 16:43:34.014600039   \n",
       "..                           ...                           ...   \n",
       "22 2024-05-14 16:43:35.584672928 2024-05-14 16:43:35.640264988   \n",
       "23 2024-05-14 16:43:35.670753956 2024-05-14 16:43:35.728388071   \n",
       "24 2024-05-14 16:43:35.761593103 2024-05-14 16:43:35.818845987   \n",
       "25 2024-05-14 16:43:35.852933168 2024-05-14 16:43:35.909811020   \n",
       "26 2024-05-14 16:43:35.940970898 2024-05-14 16:43:35.995861053   \n",
       "\n",
       "                      start.send                      end.send  \\\n",
       "0  2024-05-14 16:43:30.385761976 2024-05-14 16:43:30.405089140   \n",
       "1  2024-05-14 16:43:33.747938156 2024-05-14 16:43:33.759933949   \n",
       "2  2024-05-14 16:43:33.860669851 2024-05-14 16:43:33.869861841   \n",
       "3  2024-05-14 16:43:33.949967146 2024-05-14 16:43:33.956817865   \n",
       "4  2024-05-14 16:43:34.039221048 2024-05-14 16:43:34.048248053   \n",
       "..                           ...                           ...   \n",
       "22 2024-05-14 16:43:35.660019875 2024-05-14 16:43:35.668193102   \n",
       "23 2024-05-14 16:43:35.750016928 2024-05-14 16:43:35.759333134   \n",
       "24 2024-05-14 16:43:35.842810154 2024-05-14 16:43:35.850170851   \n",
       "25 2024-05-14 16:43:35.932924986 2024-05-14 16:43:35.938212156   \n",
       "26 2024-05-14 16:43:36.017683029 2024-05-14 16:43:36.027939081   \n",
       "\n",
       "   start.swap_recv  ... dataset worker                                    log  \\\n",
       "0              NaT  ...  worker   logs  logs/mdgan.5.cifar.worker.1.logs.json   \n",
       "1              NaT  ...  worker   logs  logs/mdgan.5.cifar.worker.1.logs.json   \n",
       "2              NaT  ...  worker   logs  logs/mdgan.5.cifar.worker.1.logs.json   \n",
       "3              NaT  ...  worker   logs  logs/mdgan.5.cifar.worker.1.logs.json   \n",
       "4              NaT  ...  worker   logs  logs/mdgan.5.cifar.worker.1.logs.json   \n",
       "..             ...  ...     ...    ...                                    ...   \n",
       "22             NaT  ...  worker   logs  logs/mdgan.5.cifar.worker.5.logs.json   \n",
       "23             NaT  ...  worker   logs  logs/mdgan.5.cifar.worker.5.logs.json   \n",
       "24             NaT  ...  worker   logs  logs/mdgan.5.cifar.worker.5.logs.json   \n",
       "25             NaT  ...  worker   logs  logs/mdgan.5.cifar.worker.5.logs.json   \n",
       "26             NaT  ...  worker   logs  logs/mdgan.5.cifar.worker.5.logs.json   \n",
       "\n",
       "    world_size  time_elapsed.epoch  time_elapsed.train time_elapsed.recv_data  \\\n",
       "0            5            0.573772            0.424336               0.121481   \n",
       "1            5            3.351144            0.045869               3.290657   \n",
       "2            5            0.109388            0.023372               0.074426   \n",
       "3            5            0.086503            0.024188               0.053448   \n",
       "4            5            0.091037            0.024620               0.055734   \n",
       "..         ...                 ...                 ...                    ...   \n",
       "22           5            0.085502            0.019754               0.055592   \n",
       "23           5            0.090239            0.021628               0.057634   \n",
       "24           5            0.090249            0.023962               0.057253   \n",
       "25           5            0.087161            0.023113               0.056878   \n",
       "26           5            0.088882            0.021822               0.054890   \n",
       "\n",
       "   time_elapsed.send time_elapsed.swap_recv time_elapsed.swap_send  \n",
       "0           0.019327                    NaN                    NaN  \n",
       "1           0.011996                    NaN                    NaN  \n",
       "2           0.009192                    NaN                    NaN  \n",
       "3           0.006851                    NaN                    NaN  \n",
       "4           0.009027                    NaN                    NaN  \n",
       "..               ...                    ...                    ...  \n",
       "22          0.008173                    NaN                    NaN  \n",
       "23          0.009316                    NaN                    NaN  \n",
       "24          0.007361                    NaN                    NaN  \n",
       "25          0.005287                    NaN                    NaN  \n",
       "26          0.010256                    NaN                    NaN  \n",
       "\n",
       "[135 rows x 26 columns]"
      ]
     },
     "metadata": {},
     "output_type": "display_data"
    }
   ],
   "source": [
    "workers_files = list(logs_path.glob(\"*.*.*.worker.*.logs.json\"))\n",
    "workers_files.sort()\n",
    "\n",
    "workers_events_dfs: List[pd.DataFrame] = []\n",
    "workers_global_epochs_dfs: List[pd.DataFrame] = []\n",
    "for log in workers_files:\n",
    "    dataset = str(log).split(\".\")[-4]\n",
    "    worker = str(log).split(\".\")[-2]\n",
    "    world_size = str(log).split(\".\")[-6]\n",
    "    with open(log) as f:\n",
    "        df = pd.read_json(f)\n",
    "        df[\"dataset\"] = dataset\n",
    "        df[\"worker\"] = worker\n",
    "        df[\"log\"] = log\n",
    "        df[\"world_size\"] = world_size\n",
    "        df = convert_all_pairs_to_datetime(df)\n",
    "        workers_global_epochs_dfs.append(df)\n",
    "        workers_events_dfs.append(dataset_for_every_events(df, retrieve_start_end_pairs(df), log))\n",
    "workers_global_epochs_df = pd.concat(workers_global_epochs_dfs)\n",
    "workers_events_pairs = retrieve_start_end_pairs(workers_global_epochs_df)\n",
    "print(workers_events_pairs)\n",
    "workers_global_epochs_df = compute_time_elapsed(workers_global_epochs_df, workers_events_pairs)\n",
    "workers_events_df = pd.concat(workers_events_dfs)\n",
    "\n",
    "display(workers_events_df)\n",
    "display(workers_global_epochs_df)"
   ]
  },
  {
   "cell_type": "code",
   "execution_count": 5,
   "metadata": {},
   "outputs": [
    {
     "name": "stdout",
     "output_type": "stream",
     "text": [
      "[('start.epoch', 'end.epoch'), ('start.epoch_calculation', 'end.epoch_calculation'), ('start.logging', 'end.logging'), ('start.send_data', 'end.send_data'), ('start.calc_gradients', 'end.calc_gradients'), ('start.apply_gradients', 'end.apply_gradients'), ('start.fid', 'end.fid'), ('start.is', 'end.is')]\n"
     ]
    },
    {
     "name": "stderr",
     "output_type": "stream",
     "text": [
      "/var/folders/67/cm4smmds2bqf7q68jzsyvh840000gn/T/ipykernel_29154/3464380018.py:30: SettingWithCopyWarning: \n",
      "A value is trying to be set on a copy of a slice from a DataFrame\n",
      "\n",
      "See the caveats in the documentation: https://pandas.pydata.org/pandas-docs/stable/user_guide/indexing.html#returning-a-view-versus-a-copy\n",
      "  df_event.dropna(inplace=True)\n",
      "/var/folders/67/cm4smmds2bqf7q68jzsyvh840000gn/T/ipykernel_29154/3464380018.py:31: SettingWithCopyWarning: \n",
      "A value is trying to be set on a copy of a slice from a DataFrame.\n",
      "Try using .loc[row_indexer,col_indexer] = value instead\n",
      "\n",
      "See the caveats in the documentation: https://pandas.pydata.org/pandas-docs/stable/user_guide/indexing.html#returning-a-view-versus-a-copy\n",
      "  df_event[\"event\"] = event_name\n",
      "/var/folders/67/cm4smmds2bqf7q68jzsyvh840000gn/T/ipykernel_29154/3464380018.py:33: SettingWithCopyWarning: \n",
      "A value is trying to be set on a copy of a slice from a DataFrame.\n",
      "Try using .loc[row_indexer,col_indexer] = value instead\n",
      "\n",
      "See the caveats in the documentation: https://pandas.pydata.org/pandas-docs/stable/user_guide/indexing.html#returning-a-view-versus-a-copy\n",
      "  df_event[\"time_elapsed\"] = (df_event[\"end\"] - df_event[\"start\"]).dt.total_seconds()\n",
      "/var/folders/67/cm4smmds2bqf7q68jzsyvh840000gn/T/ipykernel_29154/3464380018.py:34: SettingWithCopyWarning: \n",
      "A value is trying to be set on a copy of a slice from a DataFrame.\n",
      "Try using .loc[row_indexer,col_indexer] = value instead\n",
      "\n",
      "See the caveats in the documentation: https://pandas.pydata.org/pandas-docs/stable/user_guide/indexing.html#returning-a-view-versus-a-copy\n",
      "  df_event[\"name\"] = name.name\n",
      "/var/folders/67/cm4smmds2bqf7q68jzsyvh840000gn/T/ipykernel_29154/3464380018.py:35: SettingWithCopyWarning: \n",
      "A value is trying to be set on a copy of a slice from a DataFrame.\n",
      "Try using .loc[row_indexer,col_indexer] = value instead\n",
      "\n",
      "See the caveats in the documentation: https://pandas.pydata.org/pandas-docs/stable/user_guide/indexing.html#returning-a-view-versus-a-copy\n",
      "  df_event[\"legend\"] = f\"{event_name} ({name})\"\n",
      "/var/folders/67/cm4smmds2bqf7q68jzsyvh840000gn/T/ipykernel_29154/3464380018.py:36: SettingWithCopyWarning: \n",
      "A value is trying to be set on a copy of a slice from a DataFrame.\n",
      "Try using .loc[row_indexer,col_indexer] = value instead\n",
      "\n",
      "See the caveats in the documentation: https://pandas.pydata.org/pandas-docs/stable/user_guide/indexing.html#returning-a-view-versus-a-copy\n",
      "  df_event[\"index\"] = df_event.index\n",
      "/var/folders/67/cm4smmds2bqf7q68jzsyvh840000gn/T/ipykernel_29154/3464380018.py:30: SettingWithCopyWarning: \n",
      "A value is trying to be set on a copy of a slice from a DataFrame\n",
      "\n",
      "See the caveats in the documentation: https://pandas.pydata.org/pandas-docs/stable/user_guide/indexing.html#returning-a-view-versus-a-copy\n",
      "  df_event.dropna(inplace=True)\n",
      "/var/folders/67/cm4smmds2bqf7q68jzsyvh840000gn/T/ipykernel_29154/3464380018.py:31: SettingWithCopyWarning: \n",
      "A value is trying to be set on a copy of a slice from a DataFrame.\n",
      "Try using .loc[row_indexer,col_indexer] = value instead\n",
      "\n",
      "See the caveats in the documentation: https://pandas.pydata.org/pandas-docs/stable/user_guide/indexing.html#returning-a-view-versus-a-copy\n",
      "  df_event[\"event\"] = event_name\n",
      "/var/folders/67/cm4smmds2bqf7q68jzsyvh840000gn/T/ipykernel_29154/3464380018.py:33: SettingWithCopyWarning: \n",
      "A value is trying to be set on a copy of a slice from a DataFrame.\n",
      "Try using .loc[row_indexer,col_indexer] = value instead\n",
      "\n",
      "See the caveats in the documentation: https://pandas.pydata.org/pandas-docs/stable/user_guide/indexing.html#returning-a-view-versus-a-copy\n",
      "  df_event[\"time_elapsed\"] = (df_event[\"end\"] - df_event[\"start\"]).dt.total_seconds()\n",
      "/var/folders/67/cm4smmds2bqf7q68jzsyvh840000gn/T/ipykernel_29154/3464380018.py:34: SettingWithCopyWarning: \n",
      "A value is trying to be set on a copy of a slice from a DataFrame.\n",
      "Try using .loc[row_indexer,col_indexer] = value instead\n",
      "\n",
      "See the caveats in the documentation: https://pandas.pydata.org/pandas-docs/stable/user_guide/indexing.html#returning-a-view-versus-a-copy\n",
      "  df_event[\"name\"] = name.name\n",
      "/var/folders/67/cm4smmds2bqf7q68jzsyvh840000gn/T/ipykernel_29154/3464380018.py:35: SettingWithCopyWarning: \n",
      "A value is trying to be set on a copy of a slice from a DataFrame.\n",
      "Try using .loc[row_indexer,col_indexer] = value instead\n",
      "\n",
      "See the caveats in the documentation: https://pandas.pydata.org/pandas-docs/stable/user_guide/indexing.html#returning-a-view-versus-a-copy\n",
      "  df_event[\"legend\"] = f\"{event_name} ({name})\"\n",
      "/var/folders/67/cm4smmds2bqf7q68jzsyvh840000gn/T/ipykernel_29154/3464380018.py:36: SettingWithCopyWarning: \n",
      "A value is trying to be set on a copy of a slice from a DataFrame.\n",
      "Try using .loc[row_indexer,col_indexer] = value instead\n",
      "\n",
      "See the caveats in the documentation: https://pandas.pydata.org/pandas-docs/stable/user_guide/indexing.html#returning-a-view-versus-a-copy\n",
      "  df_event[\"index\"] = df_event.index\n",
      "/var/folders/67/cm4smmds2bqf7q68jzsyvh840000gn/T/ipykernel_29154/3464380018.py:30: SettingWithCopyWarning: \n",
      "A value is trying to be set on a copy of a slice from a DataFrame\n",
      "\n",
      "See the caveats in the documentation: https://pandas.pydata.org/pandas-docs/stable/user_guide/indexing.html#returning-a-view-versus-a-copy\n",
      "  df_event.dropna(inplace=True)\n",
      "/var/folders/67/cm4smmds2bqf7q68jzsyvh840000gn/T/ipykernel_29154/3464380018.py:31: SettingWithCopyWarning: \n",
      "A value is trying to be set on a copy of a slice from a DataFrame.\n",
      "Try using .loc[row_indexer,col_indexer] = value instead\n",
      "\n",
      "See the caveats in the documentation: https://pandas.pydata.org/pandas-docs/stable/user_guide/indexing.html#returning-a-view-versus-a-copy\n",
      "  df_event[\"event\"] = event_name\n",
      "/var/folders/67/cm4smmds2bqf7q68jzsyvh840000gn/T/ipykernel_29154/3464380018.py:33: SettingWithCopyWarning: \n",
      "A value is trying to be set on a copy of a slice from a DataFrame.\n",
      "Try using .loc[row_indexer,col_indexer] = value instead\n",
      "\n",
      "See the caveats in the documentation: https://pandas.pydata.org/pandas-docs/stable/user_guide/indexing.html#returning-a-view-versus-a-copy\n",
      "  df_event[\"time_elapsed\"] = (df_event[\"end\"] - df_event[\"start\"]).dt.total_seconds()\n",
      "/var/folders/67/cm4smmds2bqf7q68jzsyvh840000gn/T/ipykernel_29154/3464380018.py:34: SettingWithCopyWarning: \n",
      "A value is trying to be set on a copy of a slice from a DataFrame.\n",
      "Try using .loc[row_indexer,col_indexer] = value instead\n",
      "\n",
      "See the caveats in the documentation: https://pandas.pydata.org/pandas-docs/stable/user_guide/indexing.html#returning-a-view-versus-a-copy\n",
      "  df_event[\"name\"] = name.name\n",
      "/var/folders/67/cm4smmds2bqf7q68jzsyvh840000gn/T/ipykernel_29154/3464380018.py:35: SettingWithCopyWarning: \n",
      "A value is trying to be set on a copy of a slice from a DataFrame.\n",
      "Try using .loc[row_indexer,col_indexer] = value instead\n",
      "\n",
      "See the caveats in the documentation: https://pandas.pydata.org/pandas-docs/stable/user_guide/indexing.html#returning-a-view-versus-a-copy\n",
      "  df_event[\"legend\"] = f\"{event_name} ({name})\"\n",
      "/var/folders/67/cm4smmds2bqf7q68jzsyvh840000gn/T/ipykernel_29154/3464380018.py:36: SettingWithCopyWarning: \n",
      "A value is trying to be set on a copy of a slice from a DataFrame.\n",
      "Try using .loc[row_indexer,col_indexer] = value instead\n",
      "\n",
      "See the caveats in the documentation: https://pandas.pydata.org/pandas-docs/stable/user_guide/indexing.html#returning-a-view-versus-a-copy\n",
      "  df_event[\"index\"] = df_event.index\n",
      "/var/folders/67/cm4smmds2bqf7q68jzsyvh840000gn/T/ipykernel_29154/3464380018.py:30: SettingWithCopyWarning: \n",
      "A value is trying to be set on a copy of a slice from a DataFrame\n",
      "\n",
      "See the caveats in the documentation: https://pandas.pydata.org/pandas-docs/stable/user_guide/indexing.html#returning-a-view-versus-a-copy\n",
      "  df_event.dropna(inplace=True)\n",
      "/var/folders/67/cm4smmds2bqf7q68jzsyvh840000gn/T/ipykernel_29154/3464380018.py:31: SettingWithCopyWarning: \n",
      "A value is trying to be set on a copy of a slice from a DataFrame.\n",
      "Try using .loc[row_indexer,col_indexer] = value instead\n",
      "\n",
      "See the caveats in the documentation: https://pandas.pydata.org/pandas-docs/stable/user_guide/indexing.html#returning-a-view-versus-a-copy\n",
      "  df_event[\"event\"] = event_name\n",
      "/var/folders/67/cm4smmds2bqf7q68jzsyvh840000gn/T/ipykernel_29154/3464380018.py:33: SettingWithCopyWarning: \n",
      "A value is trying to be set on a copy of a slice from a DataFrame.\n",
      "Try using .loc[row_indexer,col_indexer] = value instead\n",
      "\n",
      "See the caveats in the documentation: https://pandas.pydata.org/pandas-docs/stable/user_guide/indexing.html#returning-a-view-versus-a-copy\n",
      "  df_event[\"time_elapsed\"] = (df_event[\"end\"] - df_event[\"start\"]).dt.total_seconds()\n",
      "/var/folders/67/cm4smmds2bqf7q68jzsyvh840000gn/T/ipykernel_29154/3464380018.py:34: SettingWithCopyWarning: \n",
      "A value is trying to be set on a copy of a slice from a DataFrame.\n",
      "Try using .loc[row_indexer,col_indexer] = value instead\n",
      "\n",
      "See the caveats in the documentation: https://pandas.pydata.org/pandas-docs/stable/user_guide/indexing.html#returning-a-view-versus-a-copy\n",
      "  df_event[\"name\"] = name.name\n",
      "/var/folders/67/cm4smmds2bqf7q68jzsyvh840000gn/T/ipykernel_29154/3464380018.py:35: SettingWithCopyWarning: \n",
      "A value is trying to be set on a copy of a slice from a DataFrame.\n",
      "Try using .loc[row_indexer,col_indexer] = value instead\n",
      "\n",
      "See the caveats in the documentation: https://pandas.pydata.org/pandas-docs/stable/user_guide/indexing.html#returning-a-view-versus-a-copy\n",
      "  df_event[\"legend\"] = f\"{event_name} ({name})\"\n",
      "/var/folders/67/cm4smmds2bqf7q68jzsyvh840000gn/T/ipykernel_29154/3464380018.py:36: SettingWithCopyWarning: \n",
      "A value is trying to be set on a copy of a slice from a DataFrame.\n",
      "Try using .loc[row_indexer,col_indexer] = value instead\n",
      "\n",
      "See the caveats in the documentation: https://pandas.pydata.org/pandas-docs/stable/user_guide/indexing.html#returning-a-view-versus-a-copy\n",
      "  df_event[\"index\"] = df_event.index\n",
      "/var/folders/67/cm4smmds2bqf7q68jzsyvh840000gn/T/ipykernel_29154/3464380018.py:30: SettingWithCopyWarning: \n",
      "A value is trying to be set on a copy of a slice from a DataFrame\n",
      "\n",
      "See the caveats in the documentation: https://pandas.pydata.org/pandas-docs/stable/user_guide/indexing.html#returning-a-view-versus-a-copy\n",
      "  df_event.dropna(inplace=True)\n",
      "/var/folders/67/cm4smmds2bqf7q68jzsyvh840000gn/T/ipykernel_29154/3464380018.py:31: SettingWithCopyWarning: \n",
      "A value is trying to be set on a copy of a slice from a DataFrame.\n",
      "Try using .loc[row_indexer,col_indexer] = value instead\n",
      "\n",
      "See the caveats in the documentation: https://pandas.pydata.org/pandas-docs/stable/user_guide/indexing.html#returning-a-view-versus-a-copy\n",
      "  df_event[\"event\"] = event_name\n",
      "/var/folders/67/cm4smmds2bqf7q68jzsyvh840000gn/T/ipykernel_29154/3464380018.py:33: SettingWithCopyWarning: \n",
      "A value is trying to be set on a copy of a slice from a DataFrame.\n",
      "Try using .loc[row_indexer,col_indexer] = value instead\n",
      "\n",
      "See the caveats in the documentation: https://pandas.pydata.org/pandas-docs/stable/user_guide/indexing.html#returning-a-view-versus-a-copy\n",
      "  df_event[\"time_elapsed\"] = (df_event[\"end\"] - df_event[\"start\"]).dt.total_seconds()\n",
      "/var/folders/67/cm4smmds2bqf7q68jzsyvh840000gn/T/ipykernel_29154/3464380018.py:34: SettingWithCopyWarning: \n",
      "A value is trying to be set on a copy of a slice from a DataFrame.\n",
      "Try using .loc[row_indexer,col_indexer] = value instead\n",
      "\n",
      "See the caveats in the documentation: https://pandas.pydata.org/pandas-docs/stable/user_guide/indexing.html#returning-a-view-versus-a-copy\n",
      "  df_event[\"name\"] = name.name\n",
      "/var/folders/67/cm4smmds2bqf7q68jzsyvh840000gn/T/ipykernel_29154/3464380018.py:35: SettingWithCopyWarning: \n",
      "A value is trying to be set on a copy of a slice from a DataFrame.\n",
      "Try using .loc[row_indexer,col_indexer] = value instead\n",
      "\n",
      "See the caveats in the documentation: https://pandas.pydata.org/pandas-docs/stable/user_guide/indexing.html#returning-a-view-versus-a-copy\n",
      "  df_event[\"legend\"] = f\"{event_name} ({name})\"\n",
      "/var/folders/67/cm4smmds2bqf7q68jzsyvh840000gn/T/ipykernel_29154/3464380018.py:36: SettingWithCopyWarning: \n",
      "A value is trying to be set on a copy of a slice from a DataFrame.\n",
      "Try using .loc[row_indexer,col_indexer] = value instead\n",
      "\n",
      "See the caveats in the documentation: https://pandas.pydata.org/pandas-docs/stable/user_guide/indexing.html#returning-a-view-versus-a-copy\n",
      "  df_event[\"index\"] = df_event.index\n",
      "/var/folders/67/cm4smmds2bqf7q68jzsyvh840000gn/T/ipykernel_29154/3464380018.py:30: SettingWithCopyWarning: \n",
      "A value is trying to be set on a copy of a slice from a DataFrame\n",
      "\n",
      "See the caveats in the documentation: https://pandas.pydata.org/pandas-docs/stable/user_guide/indexing.html#returning-a-view-versus-a-copy\n",
      "  df_event.dropna(inplace=True)\n",
      "/var/folders/67/cm4smmds2bqf7q68jzsyvh840000gn/T/ipykernel_29154/3464380018.py:31: SettingWithCopyWarning: \n",
      "A value is trying to be set on a copy of a slice from a DataFrame.\n",
      "Try using .loc[row_indexer,col_indexer] = value instead\n",
      "\n",
      "See the caveats in the documentation: https://pandas.pydata.org/pandas-docs/stable/user_guide/indexing.html#returning-a-view-versus-a-copy\n",
      "  df_event[\"event\"] = event_name\n",
      "/var/folders/67/cm4smmds2bqf7q68jzsyvh840000gn/T/ipykernel_29154/3464380018.py:33: SettingWithCopyWarning: \n",
      "A value is trying to be set on a copy of a slice from a DataFrame.\n",
      "Try using .loc[row_indexer,col_indexer] = value instead\n",
      "\n",
      "See the caveats in the documentation: https://pandas.pydata.org/pandas-docs/stable/user_guide/indexing.html#returning-a-view-versus-a-copy\n",
      "  df_event[\"time_elapsed\"] = (df_event[\"end\"] - df_event[\"start\"]).dt.total_seconds()\n",
      "/var/folders/67/cm4smmds2bqf7q68jzsyvh840000gn/T/ipykernel_29154/3464380018.py:34: SettingWithCopyWarning: \n",
      "A value is trying to be set on a copy of a slice from a DataFrame.\n",
      "Try using .loc[row_indexer,col_indexer] = value instead\n",
      "\n",
      "See the caveats in the documentation: https://pandas.pydata.org/pandas-docs/stable/user_guide/indexing.html#returning-a-view-versus-a-copy\n",
      "  df_event[\"name\"] = name.name\n",
      "/var/folders/67/cm4smmds2bqf7q68jzsyvh840000gn/T/ipykernel_29154/3464380018.py:35: SettingWithCopyWarning: \n",
      "A value is trying to be set on a copy of a slice from a DataFrame.\n",
      "Try using .loc[row_indexer,col_indexer] = value instead\n",
      "\n",
      "See the caveats in the documentation: https://pandas.pydata.org/pandas-docs/stable/user_guide/indexing.html#returning-a-view-versus-a-copy\n",
      "  df_event[\"legend\"] = f\"{event_name} ({name})\"\n",
      "/var/folders/67/cm4smmds2bqf7q68jzsyvh840000gn/T/ipykernel_29154/3464380018.py:36: SettingWithCopyWarning: \n",
      "A value is trying to be set on a copy of a slice from a DataFrame.\n",
      "Try using .loc[row_indexer,col_indexer] = value instead\n",
      "\n",
      "See the caveats in the documentation: https://pandas.pydata.org/pandas-docs/stable/user_guide/indexing.html#returning-a-view-versus-a-copy\n",
      "  df_event[\"index\"] = df_event.index\n",
      "/var/folders/67/cm4smmds2bqf7q68jzsyvh840000gn/T/ipykernel_29154/3464380018.py:30: SettingWithCopyWarning: \n",
      "A value is trying to be set on a copy of a slice from a DataFrame\n",
      "\n",
      "See the caveats in the documentation: https://pandas.pydata.org/pandas-docs/stable/user_guide/indexing.html#returning-a-view-versus-a-copy\n",
      "  df_event.dropna(inplace=True)\n",
      "/var/folders/67/cm4smmds2bqf7q68jzsyvh840000gn/T/ipykernel_29154/3464380018.py:31: SettingWithCopyWarning: \n",
      "A value is trying to be set on a copy of a slice from a DataFrame.\n",
      "Try using .loc[row_indexer,col_indexer] = value instead\n",
      "\n",
      "See the caveats in the documentation: https://pandas.pydata.org/pandas-docs/stable/user_guide/indexing.html#returning-a-view-versus-a-copy\n",
      "  df_event[\"event\"] = event_name\n",
      "/var/folders/67/cm4smmds2bqf7q68jzsyvh840000gn/T/ipykernel_29154/3464380018.py:33: SettingWithCopyWarning: \n",
      "A value is trying to be set on a copy of a slice from a DataFrame.\n",
      "Try using .loc[row_indexer,col_indexer] = value instead\n",
      "\n",
      "See the caveats in the documentation: https://pandas.pydata.org/pandas-docs/stable/user_guide/indexing.html#returning-a-view-versus-a-copy\n",
      "  df_event[\"time_elapsed\"] = (df_event[\"end\"] - df_event[\"start\"]).dt.total_seconds()\n",
      "/var/folders/67/cm4smmds2bqf7q68jzsyvh840000gn/T/ipykernel_29154/3464380018.py:34: SettingWithCopyWarning: \n",
      "A value is trying to be set on a copy of a slice from a DataFrame.\n",
      "Try using .loc[row_indexer,col_indexer] = value instead\n",
      "\n",
      "See the caveats in the documentation: https://pandas.pydata.org/pandas-docs/stable/user_guide/indexing.html#returning-a-view-versus-a-copy\n",
      "  df_event[\"name\"] = name.name\n",
      "/var/folders/67/cm4smmds2bqf7q68jzsyvh840000gn/T/ipykernel_29154/3464380018.py:35: SettingWithCopyWarning: \n",
      "A value is trying to be set on a copy of a slice from a DataFrame.\n",
      "Try using .loc[row_indexer,col_indexer] = value instead\n",
      "\n",
      "See the caveats in the documentation: https://pandas.pydata.org/pandas-docs/stable/user_guide/indexing.html#returning-a-view-versus-a-copy\n",
      "  df_event[\"legend\"] = f\"{event_name} ({name})\"\n",
      "/var/folders/67/cm4smmds2bqf7q68jzsyvh840000gn/T/ipykernel_29154/3464380018.py:36: SettingWithCopyWarning: \n",
      "A value is trying to be set on a copy of a slice from a DataFrame.\n",
      "Try using .loc[row_indexer,col_indexer] = value instead\n",
      "\n",
      "See the caveats in the documentation: https://pandas.pydata.org/pandas-docs/stable/user_guide/indexing.html#returning-a-view-versus-a-copy\n",
      "  df_event[\"index\"] = df_event.index\n",
      "/var/folders/67/cm4smmds2bqf7q68jzsyvh840000gn/T/ipykernel_29154/3464380018.py:30: SettingWithCopyWarning: \n",
      "A value is trying to be set on a copy of a slice from a DataFrame\n",
      "\n",
      "See the caveats in the documentation: https://pandas.pydata.org/pandas-docs/stable/user_guide/indexing.html#returning-a-view-versus-a-copy\n",
      "  df_event.dropna(inplace=True)\n",
      "/var/folders/67/cm4smmds2bqf7q68jzsyvh840000gn/T/ipykernel_29154/3464380018.py:31: SettingWithCopyWarning: \n",
      "A value is trying to be set on a copy of a slice from a DataFrame.\n",
      "Try using .loc[row_indexer,col_indexer] = value instead\n",
      "\n",
      "See the caveats in the documentation: https://pandas.pydata.org/pandas-docs/stable/user_guide/indexing.html#returning-a-view-versus-a-copy\n",
      "  df_event[\"event\"] = event_name\n",
      "/var/folders/67/cm4smmds2bqf7q68jzsyvh840000gn/T/ipykernel_29154/3464380018.py:33: SettingWithCopyWarning: \n",
      "A value is trying to be set on a copy of a slice from a DataFrame.\n",
      "Try using .loc[row_indexer,col_indexer] = value instead\n",
      "\n",
      "See the caveats in the documentation: https://pandas.pydata.org/pandas-docs/stable/user_guide/indexing.html#returning-a-view-versus-a-copy\n",
      "  df_event[\"time_elapsed\"] = (df_event[\"end\"] - df_event[\"start\"]).dt.total_seconds()\n",
      "/var/folders/67/cm4smmds2bqf7q68jzsyvh840000gn/T/ipykernel_29154/3464380018.py:34: SettingWithCopyWarning: \n",
      "A value is trying to be set on a copy of a slice from a DataFrame.\n",
      "Try using .loc[row_indexer,col_indexer] = value instead\n",
      "\n",
      "See the caveats in the documentation: https://pandas.pydata.org/pandas-docs/stable/user_guide/indexing.html#returning-a-view-versus-a-copy\n",
      "  df_event[\"name\"] = name.name\n",
      "/var/folders/67/cm4smmds2bqf7q68jzsyvh840000gn/T/ipykernel_29154/3464380018.py:35: SettingWithCopyWarning: \n",
      "A value is trying to be set on a copy of a slice from a DataFrame.\n",
      "Try using .loc[row_indexer,col_indexer] = value instead\n",
      "\n",
      "See the caveats in the documentation: https://pandas.pydata.org/pandas-docs/stable/user_guide/indexing.html#returning-a-view-versus-a-copy\n",
      "  df_event[\"legend\"] = f\"{event_name} ({name})\"\n",
      "/var/folders/67/cm4smmds2bqf7q68jzsyvh840000gn/T/ipykernel_29154/3464380018.py:36: SettingWithCopyWarning: \n",
      "A value is trying to be set on a copy of a slice from a DataFrame.\n",
      "Try using .loc[row_indexer,col_indexer] = value instead\n",
      "\n",
      "See the caveats in the documentation: https://pandas.pydata.org/pandas-docs/stable/user_guide/indexing.html#returning-a-view-versus-a-copy\n",
      "  df_event[\"index\"] = df_event.index\n"
     ]
    },
    {
     "data": {
      "text/html": [
       "<div>\n",
       "<style scoped>\n",
       "    .dataframe tbody tr th:only-of-type {\n",
       "        vertical-align: middle;\n",
       "    }\n",
       "\n",
       "    .dataframe tbody tr th {\n",
       "        vertical-align: top;\n",
       "    }\n",
       "\n",
       "    .dataframe thead th {\n",
       "        text-align: right;\n",
       "    }\n",
       "</style>\n",
       "<table border=\"1\" class=\"dataframe\">\n",
       "  <thead>\n",
       "    <tr style=\"text-align: right;\">\n",
       "      <th></th>\n",
       "      <th>start</th>\n",
       "      <th>end</th>\n",
       "      <th>event</th>\n",
       "      <th>time_elapsed</th>\n",
       "      <th>name</th>\n",
       "      <th>legend</th>\n",
       "      <th>index</th>\n",
       "    </tr>\n",
       "  </thead>\n",
       "  <tbody>\n",
       "    <tr>\n",
       "      <th>0</th>\n",
       "      <td>2024-05-14 16:43:29.834114075</td>\n",
       "      <td>2024-05-14 16:43:33.670010090</td>\n",
       "      <td>epoch</td>\n",
       "      <td>3.835896</td>\n",
       "      <td>mdgan.5.cifar.server.logs.json</td>\n",
       "      <td>epoch (logs/mdgan.5.cifar.server.logs.json)</td>\n",
       "      <td>0</td>\n",
       "    </tr>\n",
       "    <tr>\n",
       "      <th>1</th>\n",
       "      <td>2024-05-14 16:43:33.670328140</td>\n",
       "      <td>2024-05-14 16:43:33.791720867</td>\n",
       "      <td>epoch</td>\n",
       "      <td>0.121393</td>\n",
       "      <td>mdgan.5.cifar.server.logs.json</td>\n",
       "      <td>epoch (logs/mdgan.5.cifar.server.logs.json)</td>\n",
       "      <td>1</td>\n",
       "    </tr>\n",
       "    <tr>\n",
       "      <th>2</th>\n",
       "      <td>2024-05-14 16:43:33.792194128</td>\n",
       "      <td>2024-05-14 16:43:33.883865118</td>\n",
       "      <td>epoch</td>\n",
       "      <td>0.091671</td>\n",
       "      <td>mdgan.5.cifar.server.logs.json</td>\n",
       "      <td>epoch (logs/mdgan.5.cifar.server.logs.json)</td>\n",
       "      <td>2</td>\n",
       "    </tr>\n",
       "    <tr>\n",
       "      <th>3</th>\n",
       "      <td>2024-05-14 16:43:33.884233952</td>\n",
       "      <td>2024-05-14 16:43:33.973150969</td>\n",
       "      <td>epoch</td>\n",
       "      <td>0.088917</td>\n",
       "      <td>mdgan.5.cifar.server.logs.json</td>\n",
       "      <td>epoch (logs/mdgan.5.cifar.server.logs.json)</td>\n",
       "      <td>3</td>\n",
       "    </tr>\n",
       "    <tr>\n",
       "      <th>4</th>\n",
       "      <td>2024-05-14 16:43:33.973498106</td>\n",
       "      <td>2024-05-14 16:43:34.062836884</td>\n",
       "      <td>epoch</td>\n",
       "      <td>0.089339</td>\n",
       "      <td>mdgan.5.cifar.server.logs.json</td>\n",
       "      <td>epoch (logs/mdgan.5.cifar.server.logs.json)</td>\n",
       "      <td>4</td>\n",
       "    </tr>\n",
       "    <tr>\n",
       "      <th>...</th>\n",
       "      <td>...</td>\n",
       "      <td>...</td>\n",
       "      <td>...</td>\n",
       "      <td>...</td>\n",
       "      <td>...</td>\n",
       "      <td>...</td>\n",
       "      <td>...</td>\n",
       "    </tr>\n",
       "    <tr>\n",
       "      <th>23</th>\n",
       "      <td>2024-05-14 16:43:35.770938158</td>\n",
       "      <td>2024-05-14 16:43:35.773657084</td>\n",
       "      <td>apply_gradients</td>\n",
       "      <td>0.002719</td>\n",
       "      <td>mdgan.5.cifar.server.logs.json</td>\n",
       "      <td>apply_gradients (logs/mdgan.5.cifar.server.log...</td>\n",
       "      <td>23</td>\n",
       "    </tr>\n",
       "    <tr>\n",
       "      <th>24</th>\n",
       "      <td>2024-05-14 16:43:35.863605976</td>\n",
       "      <td>2024-05-14 16:43:35.866931915</td>\n",
       "      <td>apply_gradients</td>\n",
       "      <td>0.003326</td>\n",
       "      <td>mdgan.5.cifar.server.logs.json</td>\n",
       "      <td>apply_gradients (logs/mdgan.5.cifar.server.log...</td>\n",
       "      <td>24</td>\n",
       "    </tr>\n",
       "    <tr>\n",
       "      <th>25</th>\n",
       "      <td>2024-05-14 16:43:35.952594995</td>\n",
       "      <td>2024-05-14 16:43:35.956067085</td>\n",
       "      <td>apply_gradients</td>\n",
       "      <td>0.003472</td>\n",
       "      <td>mdgan.5.cifar.server.logs.json</td>\n",
       "      <td>apply_gradients (logs/mdgan.5.cifar.server.log...</td>\n",
       "      <td>25</td>\n",
       "    </tr>\n",
       "    <tr>\n",
       "      <th>0</th>\n",
       "      <td>2024-05-14 16:43:31.250539063</td>\n",
       "      <td>2024-05-14 16:43:33.650402069</td>\n",
       "      <td>fid</td>\n",
       "      <td>2.399863</td>\n",
       "      <td>mdgan.5.cifar.server.logs.json</td>\n",
       "      <td>fid (logs/mdgan.5.cifar.server.logs.json)</td>\n",
       "      <td>0</td>\n",
       "    </tr>\n",
       "    <tr>\n",
       "      <th>0</th>\n",
       "      <td>2024-05-14 16:43:30.726218939</td>\n",
       "      <td>2024-05-14 16:43:31.250536919</td>\n",
       "      <td>is</td>\n",
       "      <td>0.524318</td>\n",
       "      <td>mdgan.5.cifar.server.logs.json</td>\n",
       "      <td>is (logs/mdgan.5.cifar.server.logs.json)</td>\n",
       "      <td>0</td>\n",
       "    </tr>\n",
       "  </tbody>\n",
       "</table>\n",
       "<p>133 rows × 7 columns</p>\n",
       "</div>"
      ],
      "text/plain": [
       "                           start                           end  \\\n",
       "0  2024-05-14 16:43:29.834114075 2024-05-14 16:43:33.670010090   \n",
       "1  2024-05-14 16:43:33.670328140 2024-05-14 16:43:33.791720867   \n",
       "2  2024-05-14 16:43:33.792194128 2024-05-14 16:43:33.883865118   \n",
       "3  2024-05-14 16:43:33.884233952 2024-05-14 16:43:33.973150969   \n",
       "4  2024-05-14 16:43:33.973498106 2024-05-14 16:43:34.062836884   \n",
       "..                           ...                           ...   \n",
       "23 2024-05-14 16:43:35.770938158 2024-05-14 16:43:35.773657084   \n",
       "24 2024-05-14 16:43:35.863605976 2024-05-14 16:43:35.866931915   \n",
       "25 2024-05-14 16:43:35.952594995 2024-05-14 16:43:35.956067085   \n",
       "0  2024-05-14 16:43:31.250539063 2024-05-14 16:43:33.650402069   \n",
       "0  2024-05-14 16:43:30.726218939 2024-05-14 16:43:31.250536919   \n",
       "\n",
       "              event  time_elapsed                            name  \\\n",
       "0             epoch      3.835896  mdgan.5.cifar.server.logs.json   \n",
       "1             epoch      0.121393  mdgan.5.cifar.server.logs.json   \n",
       "2             epoch      0.091671  mdgan.5.cifar.server.logs.json   \n",
       "3             epoch      0.088917  mdgan.5.cifar.server.logs.json   \n",
       "4             epoch      0.089339  mdgan.5.cifar.server.logs.json   \n",
       "..              ...           ...                             ...   \n",
       "23  apply_gradients      0.002719  mdgan.5.cifar.server.logs.json   \n",
       "24  apply_gradients      0.003326  mdgan.5.cifar.server.logs.json   \n",
       "25  apply_gradients      0.003472  mdgan.5.cifar.server.logs.json   \n",
       "0               fid      2.399863  mdgan.5.cifar.server.logs.json   \n",
       "0                is      0.524318  mdgan.5.cifar.server.logs.json   \n",
       "\n",
       "                                               legend  index  \n",
       "0         epoch (logs/mdgan.5.cifar.server.logs.json)      0  \n",
       "1         epoch (logs/mdgan.5.cifar.server.logs.json)      1  \n",
       "2         epoch (logs/mdgan.5.cifar.server.logs.json)      2  \n",
       "3         epoch (logs/mdgan.5.cifar.server.logs.json)      3  \n",
       "4         epoch (logs/mdgan.5.cifar.server.logs.json)      4  \n",
       "..                                                ...    ...  \n",
       "23  apply_gradients (logs/mdgan.5.cifar.server.log...     23  \n",
       "24  apply_gradients (logs/mdgan.5.cifar.server.log...     24  \n",
       "25  apply_gradients (logs/mdgan.5.cifar.server.log...     25  \n",
       "0           fid (logs/mdgan.5.cifar.server.logs.json)      0  \n",
       "0            is (logs/mdgan.5.cifar.server.logs.json)      0  \n",
       "\n",
       "[133 rows x 7 columns]"
      ]
     },
     "metadata": {},
     "output_type": "display_data"
    },
    {
     "data": {
      "text/html": [
       "<div>\n",
       "<style scoped>\n",
       "    .dataframe tbody tr th:only-of-type {\n",
       "        vertical-align: middle;\n",
       "    }\n",
       "\n",
       "    .dataframe tbody tr th {\n",
       "        vertical-align: top;\n",
       "    }\n",
       "\n",
       "    .dataframe thead th {\n",
       "        text-align: right;\n",
       "    }\n",
       "</style>\n",
       "<table border=\"1\" class=\"dataframe\">\n",
       "  <thead>\n",
       "    <tr style=\"text-align: right;\">\n",
       "      <th></th>\n",
       "      <th>epoch</th>\n",
       "      <th>start.epoch</th>\n",
       "      <th>end.epoch</th>\n",
       "      <th>start.epoch_calculation</th>\n",
       "      <th>end.epoch_calculation</th>\n",
       "      <th>start.logging</th>\n",
       "      <th>end.logging</th>\n",
       "      <th>start.send_data</th>\n",
       "      <th>end.send_data</th>\n",
       "      <th>start.calc_gradients</th>\n",
       "      <th>...</th>\n",
       "      <th>world_size</th>\n",
       "      <th>log</th>\n",
       "      <th>time_elapsed.epoch</th>\n",
       "      <th>time_elapsed.epoch_calculation</th>\n",
       "      <th>time_elapsed.logging</th>\n",
       "      <th>time_elapsed.send_data</th>\n",
       "      <th>time_elapsed.calc_gradients</th>\n",
       "      <th>time_elapsed.apply_gradients</th>\n",
       "      <th>time_elapsed.fid</th>\n",
       "      <th>time_elapsed.is</th>\n",
       "    </tr>\n",
       "  </thead>\n",
       "  <tbody>\n",
       "    <tr>\n",
       "      <th>0</th>\n",
       "      <td>0</td>\n",
       "      <td>2024-05-14 16:43:29.834114075</td>\n",
       "      <td>2024-05-14 16:43:33.670010090</td>\n",
       "      <td>2024-05-14 16:43:29.834114075</td>\n",
       "      <td>2024-05-14 16:43:30.717369080</td>\n",
       "      <td>2024-05-14 16:43:30.717370033</td>\n",
       "      <td>2024-05-14 16:43:33.670009136</td>\n",
       "      <td>2024-05-14 16:43:29.940656900</td>\n",
       "      <td>2024-05-14 16:43:30.467525005</td>\n",
       "      <td>2024-05-14 16:43:30.467533112</td>\n",
       "      <td>...</td>\n",
       "      <td>5</td>\n",
       "      <td>logs/mdgan.5.cifar.server.logs.json</td>\n",
       "      <td>3.835896</td>\n",
       "      <td>0.883255</td>\n",
       "      <td>2.952639</td>\n",
       "      <td>0.526868</td>\n",
       "      <td>0.139373</td>\n",
       "      <td>0.110038</td>\n",
       "      <td>2.399863</td>\n",
       "      <td>0.524318</td>\n",
       "    </tr>\n",
       "    <tr>\n",
       "      <th>1</th>\n",
       "      <td>1</td>\n",
       "      <td>2024-05-14 16:43:33.670328140</td>\n",
       "      <td>2024-05-14 16:43:33.791720867</td>\n",
       "      <td>2024-05-14 16:43:33.670328140</td>\n",
       "      <td>2024-05-14 16:43:33.791719913</td>\n",
       "      <td>NaT</td>\n",
       "      <td>NaT</td>\n",
       "      <td>2024-05-14 16:43:33.673645020</td>\n",
       "      <td>2024-05-14 16:43:33.768641949</td>\n",
       "      <td>2024-05-14 16:43:33.768644094</td>\n",
       "      <td>...</td>\n",
       "      <td>5</td>\n",
       "      <td>logs/mdgan.5.cifar.server.logs.json</td>\n",
       "      <td>0.121393</td>\n",
       "      <td>0.121392</td>\n",
       "      <td>NaN</td>\n",
       "      <td>0.094997</td>\n",
       "      <td>0.011996</td>\n",
       "      <td>0.010980</td>\n",
       "      <td>NaN</td>\n",
       "      <td>NaN</td>\n",
       "    </tr>\n",
       "    <tr>\n",
       "      <th>2</th>\n",
       "      <td>2</td>\n",
       "      <td>2024-05-14 16:43:33.792194128</td>\n",
       "      <td>2024-05-14 16:43:33.883865118</td>\n",
       "      <td>2024-05-14 16:43:33.792194128</td>\n",
       "      <td>2024-05-14 16:43:33.883864164</td>\n",
       "      <td>NaT</td>\n",
       "      <td>NaT</td>\n",
       "      <td>2024-05-14 16:43:33.793858051</td>\n",
       "      <td>2024-05-14 16:43:33.870413065</td>\n",
       "      <td>2024-05-14 16:43:33.870414019</td>\n",
       "      <td>...</td>\n",
       "      <td>5</td>\n",
       "      <td>logs/mdgan.5.cifar.server.logs.json</td>\n",
       "      <td>0.091671</td>\n",
       "      <td>0.091670</td>\n",
       "      <td>NaN</td>\n",
       "      <td>0.076555</td>\n",
       "      <td>0.010483</td>\n",
       "      <td>0.002842</td>\n",
       "      <td>NaN</td>\n",
       "      <td>NaN</td>\n",
       "    </tr>\n",
       "    <tr>\n",
       "      <th>3</th>\n",
       "      <td>3</td>\n",
       "      <td>2024-05-14 16:43:33.884233952</td>\n",
       "      <td>2024-05-14 16:43:33.973150969</td>\n",
       "      <td>2024-05-14 16:43:33.884234905</td>\n",
       "      <td>2024-05-14 16:43:33.973150969</td>\n",
       "      <td>NaT</td>\n",
       "      <td>NaT</td>\n",
       "      <td>2024-05-14 16:43:33.885493040</td>\n",
       "      <td>2024-05-14 16:43:33.959959984</td>\n",
       "      <td>2024-05-14 16:43:33.959961176</td>\n",
       "      <td>...</td>\n",
       "      <td>5</td>\n",
       "      <td>logs/mdgan.5.cifar.server.logs.json</td>\n",
       "      <td>0.088917</td>\n",
       "      <td>0.088916</td>\n",
       "      <td>NaN</td>\n",
       "      <td>0.074467</td>\n",
       "      <td>0.010445</td>\n",
       "      <td>0.002628</td>\n",
       "      <td>NaN</td>\n",
       "      <td>NaN</td>\n",
       "    </tr>\n",
       "    <tr>\n",
       "      <th>4</th>\n",
       "      <td>4</td>\n",
       "      <td>2024-05-14 16:43:33.973498106</td>\n",
       "      <td>2024-05-14 16:43:34.062836884</td>\n",
       "      <td>2024-05-14 16:43:33.973498106</td>\n",
       "      <td>2024-05-14 16:43:34.062835932</td>\n",
       "      <td>NaT</td>\n",
       "      <td>NaT</td>\n",
       "      <td>2024-05-14 16:43:33.974755049</td>\n",
       "      <td>2024-05-14 16:43:34.048677206</td>\n",
       "      <td>2024-05-14 16:43:34.048677921</td>\n",
       "      <td>...</td>\n",
       "      <td>5</td>\n",
       "      <td>logs/mdgan.5.cifar.server.logs.json</td>\n",
       "      <td>0.089339</td>\n",
       "      <td>0.089338</td>\n",
       "      <td>NaN</td>\n",
       "      <td>0.073922</td>\n",
       "      <td>0.011235</td>\n",
       "      <td>0.002824</td>\n",
       "      <td>NaN</td>\n",
       "      <td>NaN</td>\n",
       "    </tr>\n",
       "    <tr>\n",
       "      <th>5</th>\n",
       "      <td>5</td>\n",
       "      <td>2024-05-14 16:43:34.064641953</td>\n",
       "      <td>2024-05-14 16:43:34.149254799</td>\n",
       "      <td>2024-05-14 16:43:34.064641953</td>\n",
       "      <td>2024-05-14 16:43:34.149254799</td>\n",
       "      <td>NaT</td>\n",
       "      <td>NaT</td>\n",
       "      <td>2024-05-14 16:43:34.065973042</td>\n",
       "      <td>2024-05-14 16:43:34.136707067</td>\n",
       "      <td>2024-05-14 16:43:34.136708021</td>\n",
       "      <td>...</td>\n",
       "      <td>5</td>\n",
       "      <td>logs/mdgan.5.cifar.server.logs.json</td>\n",
       "      <td>0.084613</td>\n",
       "      <td>0.084613</td>\n",
       "      <td>NaN</td>\n",
       "      <td>0.070734</td>\n",
       "      <td>0.009800</td>\n",
       "      <td>0.002653</td>\n",
       "      <td>NaN</td>\n",
       "      <td>NaN</td>\n",
       "    </tr>\n",
       "    <tr>\n",
       "      <th>6</th>\n",
       "      <td>6</td>\n",
       "      <td>2024-05-14 16:43:34.149707079</td>\n",
       "      <td>2024-05-14 16:43:34.238437891</td>\n",
       "      <td>2024-05-14 16:43:34.149707079</td>\n",
       "      <td>2024-05-14 16:43:34.238437176</td>\n",
       "      <td>NaT</td>\n",
       "      <td>NaT</td>\n",
       "      <td>2024-05-14 16:43:34.150986910</td>\n",
       "      <td>2024-05-14 16:43:34.225231886</td>\n",
       "      <td>2024-05-14 16:43:34.225234032</td>\n",
       "      <td>...</td>\n",
       "      <td>5</td>\n",
       "      <td>logs/mdgan.5.cifar.server.logs.json</td>\n",
       "      <td>0.088731</td>\n",
       "      <td>0.088730</td>\n",
       "      <td>NaN</td>\n",
       "      <td>0.074245</td>\n",
       "      <td>0.010394</td>\n",
       "      <td>0.002703</td>\n",
       "      <td>NaN</td>\n",
       "      <td>NaN</td>\n",
       "    </tr>\n",
       "    <tr>\n",
       "      <th>7</th>\n",
       "      <td>7</td>\n",
       "      <td>2024-05-14 16:43:34.238864899</td>\n",
       "      <td>2024-05-14 16:43:34.350847960</td>\n",
       "      <td>2024-05-14 16:43:34.238864899</td>\n",
       "      <td>2024-05-14 16:43:34.350847960</td>\n",
       "      <td>NaT</td>\n",
       "      <td>NaT</td>\n",
       "      <td>2024-05-14 16:43:34.240105867</td>\n",
       "      <td>2024-05-14 16:43:34.334059954</td>\n",
       "      <td>2024-05-14 16:43:34.334062099</td>\n",
       "      <td>...</td>\n",
       "      <td>5</td>\n",
       "      <td>logs/mdgan.5.cifar.server.logs.json</td>\n",
       "      <td>0.111983</td>\n",
       "      <td>0.111983</td>\n",
       "      <td>NaN</td>\n",
       "      <td>0.093954</td>\n",
       "      <td>0.013758</td>\n",
       "      <td>0.002897</td>\n",
       "      <td>NaN</td>\n",
       "      <td>NaN</td>\n",
       "    </tr>\n",
       "    <tr>\n",
       "      <th>8</th>\n",
       "      <td>8</td>\n",
       "      <td>2024-05-14 16:43:34.351454973</td>\n",
       "      <td>2024-05-14 16:43:34.448472977</td>\n",
       "      <td>2024-05-14 16:43:34.351454973</td>\n",
       "      <td>2024-05-14 16:43:34.448472023</td>\n",
       "      <td>NaT</td>\n",
       "      <td>NaT</td>\n",
       "      <td>2024-05-14 16:43:34.352846146</td>\n",
       "      <td>2024-05-14 16:43:34.432783127</td>\n",
       "      <td>2024-05-14 16:43:34.432783842</td>\n",
       "      <td>...</td>\n",
       "      <td>5</td>\n",
       "      <td>logs/mdgan.5.cifar.server.logs.json</td>\n",
       "      <td>0.097018</td>\n",
       "      <td>0.097017</td>\n",
       "      <td>NaN</td>\n",
       "      <td>0.079937</td>\n",
       "      <td>0.012486</td>\n",
       "      <td>0.003111</td>\n",
       "      <td>NaN</td>\n",
       "      <td>NaN</td>\n",
       "    </tr>\n",
       "    <tr>\n",
       "      <th>9</th>\n",
       "      <td>9</td>\n",
       "      <td>2024-05-14 16:43:34.449048996</td>\n",
       "      <td>2024-05-14 16:43:34.539127111</td>\n",
       "      <td>2024-05-14 16:43:34.449050188</td>\n",
       "      <td>2024-05-14 16:43:34.539127111</td>\n",
       "      <td>NaT</td>\n",
       "      <td>NaT</td>\n",
       "      <td>2024-05-14 16:43:34.450953007</td>\n",
       "      <td>2024-05-14 16:43:34.526329041</td>\n",
       "      <td>2024-05-14 16:43:34.526330948</td>\n",
       "      <td>...</td>\n",
       "      <td>5</td>\n",
       "      <td>logs/mdgan.5.cifar.server.logs.json</td>\n",
       "      <td>0.090078</td>\n",
       "      <td>0.090077</td>\n",
       "      <td>NaN</td>\n",
       "      <td>0.075376</td>\n",
       "      <td>0.010002</td>\n",
       "      <td>0.002701</td>\n",
       "      <td>NaN</td>\n",
       "      <td>NaN</td>\n",
       "    </tr>\n",
       "    <tr>\n",
       "      <th>10</th>\n",
       "      <td>10</td>\n",
       "      <td>2024-05-14 16:43:34.539630175</td>\n",
       "      <td>2024-05-14 16:43:34.627923012</td>\n",
       "      <td>2024-05-14 16:43:34.539630175</td>\n",
       "      <td>2024-05-14 16:43:34.627921820</td>\n",
       "      <td>NaT</td>\n",
       "      <td>NaT</td>\n",
       "      <td>2024-05-14 16:43:34.540877104</td>\n",
       "      <td>2024-05-14 16:43:34.614727974</td>\n",
       "      <td>2024-05-14 16:43:34.614728928</td>\n",
       "      <td>...</td>\n",
       "      <td>5</td>\n",
       "      <td>logs/mdgan.5.cifar.server.logs.json</td>\n",
       "      <td>0.088293</td>\n",
       "      <td>0.088292</td>\n",
       "      <td>NaN</td>\n",
       "      <td>0.073851</td>\n",
       "      <td>0.010422</td>\n",
       "      <td>0.002677</td>\n",
       "      <td>NaN</td>\n",
       "      <td>NaN</td>\n",
       "    </tr>\n",
       "    <tr>\n",
       "      <th>11</th>\n",
       "      <td>11</td>\n",
       "      <td>2024-05-14 16:43:34.628473997</td>\n",
       "      <td>2024-05-14 16:43:34.714979172</td>\n",
       "      <td>2024-05-14 16:43:34.628473997</td>\n",
       "      <td>2024-05-14 16:43:34.714979172</td>\n",
       "      <td>NaT</td>\n",
       "      <td>NaT</td>\n",
       "      <td>2024-05-14 16:43:34.629726887</td>\n",
       "      <td>2024-05-14 16:43:34.701667070</td>\n",
       "      <td>2024-05-14 16:43:34.701668024</td>\n",
       "      <td>...</td>\n",
       "      <td>5</td>\n",
       "      <td>logs/mdgan.5.cifar.server.logs.json</td>\n",
       "      <td>0.086505</td>\n",
       "      <td>0.086505</td>\n",
       "      <td>NaN</td>\n",
       "      <td>0.071940</td>\n",
       "      <td>0.010302</td>\n",
       "      <td>0.002915</td>\n",
       "      <td>NaN</td>\n",
       "      <td>NaN</td>\n",
       "    </tr>\n",
       "    <tr>\n",
       "      <th>12</th>\n",
       "      <td>12</td>\n",
       "      <td>2024-05-14 16:43:34.715561867</td>\n",
       "      <td>2024-05-14 16:43:34.802131891</td>\n",
       "      <td>2024-05-14 16:43:34.715561867</td>\n",
       "      <td>2024-05-14 16:43:34.802131891</td>\n",
       "      <td>NaT</td>\n",
       "      <td>NaT</td>\n",
       "      <td>2024-05-14 16:43:34.716760159</td>\n",
       "      <td>2024-05-14 16:43:34.789185047</td>\n",
       "      <td>2024-05-14 16:43:34.789186001</td>\n",
       "      <td>...</td>\n",
       "      <td>5</td>\n",
       "      <td>logs/mdgan.5.cifar.server.logs.json</td>\n",
       "      <td>0.086570</td>\n",
       "      <td>0.086570</td>\n",
       "      <td>NaN</td>\n",
       "      <td>0.072425</td>\n",
       "      <td>0.010163</td>\n",
       "      <td>0.002679</td>\n",
       "      <td>NaN</td>\n",
       "      <td>NaN</td>\n",
       "    </tr>\n",
       "    <tr>\n",
       "      <th>13</th>\n",
       "      <td>13</td>\n",
       "      <td>2024-05-14 16:43:34.802693129</td>\n",
       "      <td>2024-05-14 16:43:34.890895128</td>\n",
       "      <td>2024-05-14 16:43:34.802693129</td>\n",
       "      <td>2024-05-14 16:43:34.890894175</td>\n",
       "      <td>NaT</td>\n",
       "      <td>NaT</td>\n",
       "      <td>2024-05-14 16:43:34.803952217</td>\n",
       "      <td>2024-05-14 16:43:34.877817154</td>\n",
       "      <td>2024-05-14 16:43:34.877818108</td>\n",
       "      <td>...</td>\n",
       "      <td>5</td>\n",
       "      <td>logs/mdgan.5.cifar.server.logs.json</td>\n",
       "      <td>0.088202</td>\n",
       "      <td>0.088201</td>\n",
       "      <td>NaN</td>\n",
       "      <td>0.073865</td>\n",
       "      <td>0.010211</td>\n",
       "      <td>0.002733</td>\n",
       "      <td>NaN</td>\n",
       "      <td>NaN</td>\n",
       "    </tr>\n",
       "    <tr>\n",
       "      <th>14</th>\n",
       "      <td>14</td>\n",
       "      <td>2024-05-14 16:43:34.891469002</td>\n",
       "      <td>2024-05-14 16:43:34.978545904</td>\n",
       "      <td>2024-05-14 16:43:34.891469002</td>\n",
       "      <td>2024-05-14 16:43:34.978545904</td>\n",
       "      <td>NaT</td>\n",
       "      <td>NaT</td>\n",
       "      <td>2024-05-14 16:43:34.892669916</td>\n",
       "      <td>2024-05-14 16:43:34.965512991</td>\n",
       "      <td>2024-05-14 16:43:34.965513945</td>\n",
       "      <td>...</td>\n",
       "      <td>5</td>\n",
       "      <td>logs/mdgan.5.cifar.server.logs.json</td>\n",
       "      <td>0.087077</td>\n",
       "      <td>0.087077</td>\n",
       "      <td>NaN</td>\n",
       "      <td>0.072843</td>\n",
       "      <td>0.010279</td>\n",
       "      <td>0.002658</td>\n",
       "      <td>NaN</td>\n",
       "      <td>NaN</td>\n",
       "    </tr>\n",
       "    <tr>\n",
       "      <th>15</th>\n",
       "      <td>15</td>\n",
       "      <td>2024-05-14 16:43:34.979136944</td>\n",
       "      <td>2024-05-14 16:43:35.066320896</td>\n",
       "      <td>2024-05-14 16:43:34.979136944</td>\n",
       "      <td>2024-05-14 16:43:35.066319942</td>\n",
       "      <td>NaT</td>\n",
       "      <td>NaT</td>\n",
       "      <td>2024-05-14 16:43:34.980448008</td>\n",
       "      <td>2024-05-14 16:43:35.053612947</td>\n",
       "      <td>2024-05-14 16:43:35.053614140</td>\n",
       "      <td>...</td>\n",
       "      <td>5</td>\n",
       "      <td>logs/mdgan.5.cifar.server.logs.json</td>\n",
       "      <td>0.087184</td>\n",
       "      <td>0.087183</td>\n",
       "      <td>NaN</td>\n",
       "      <td>0.073165</td>\n",
       "      <td>0.009726</td>\n",
       "      <td>0.002869</td>\n",
       "      <td>NaN</td>\n",
       "      <td>NaN</td>\n",
       "    </tr>\n",
       "    <tr>\n",
       "      <th>16</th>\n",
       "      <td>16</td>\n",
       "      <td>2024-05-14 16:43:35.066921948</td>\n",
       "      <td>2024-05-14 16:43:35.153443098</td>\n",
       "      <td>2024-05-14 16:43:35.066921948</td>\n",
       "      <td>2024-05-14 16:43:35.153442144</td>\n",
       "      <td>NaT</td>\n",
       "      <td>NaT</td>\n",
       "      <td>2024-05-14 16:43:35.068196058</td>\n",
       "      <td>2024-05-14 16:43:35.140571833</td>\n",
       "      <td>2024-05-14 16:43:35.140573025</td>\n",
       "      <td>...</td>\n",
       "      <td>5</td>\n",
       "      <td>logs/mdgan.5.cifar.server.logs.json</td>\n",
       "      <td>0.086521</td>\n",
       "      <td>0.086520</td>\n",
       "      <td>NaN</td>\n",
       "      <td>0.072376</td>\n",
       "      <td>0.010093</td>\n",
       "      <td>0.002671</td>\n",
       "      <td>NaN</td>\n",
       "      <td>NaN</td>\n",
       "    </tr>\n",
       "    <tr>\n",
       "      <th>17</th>\n",
       "      <td>17</td>\n",
       "      <td>2024-05-14 16:43:35.154165983</td>\n",
       "      <td>2024-05-14 16:43:35.243034840</td>\n",
       "      <td>2024-05-14 16:43:35.154165983</td>\n",
       "      <td>2024-05-14 16:43:35.243034840</td>\n",
       "      <td>NaT</td>\n",
       "      <td>NaT</td>\n",
       "      <td>2024-05-14 16:43:35.155443907</td>\n",
       "      <td>2024-05-14 16:43:35.230247021</td>\n",
       "      <td>2024-05-14 16:43:35.230247021</td>\n",
       "      <td>...</td>\n",
       "      <td>5</td>\n",
       "      <td>logs/mdgan.5.cifar.server.logs.json</td>\n",
       "      <td>0.088869</td>\n",
       "      <td>0.088869</td>\n",
       "      <td>NaN</td>\n",
       "      <td>0.074803</td>\n",
       "      <td>0.009998</td>\n",
       "      <td>0.002630</td>\n",
       "      <td>NaN</td>\n",
       "      <td>NaN</td>\n",
       "    </tr>\n",
       "    <tr>\n",
       "      <th>18</th>\n",
       "      <td>18</td>\n",
       "      <td>2024-05-14 16:43:35.243628979</td>\n",
       "      <td>2024-05-14 16:43:35.331249952</td>\n",
       "      <td>2024-05-14 16:43:35.243628979</td>\n",
       "      <td>2024-05-14 16:43:35.331248999</td>\n",
       "      <td>NaT</td>\n",
       "      <td>NaT</td>\n",
       "      <td>2024-05-14 16:43:35.244869947</td>\n",
       "      <td>2024-05-14 16:43:35.317926884</td>\n",
       "      <td>2024-05-14 16:43:35.317927837</td>\n",
       "      <td>...</td>\n",
       "      <td>5</td>\n",
       "      <td>logs/mdgan.5.cifar.server.logs.json</td>\n",
       "      <td>0.087621</td>\n",
       "      <td>0.087620</td>\n",
       "      <td>NaN</td>\n",
       "      <td>0.073057</td>\n",
       "      <td>0.010405</td>\n",
       "      <td>0.002808</td>\n",
       "      <td>NaN</td>\n",
       "      <td>NaN</td>\n",
       "    </tr>\n",
       "    <tr>\n",
       "      <th>19</th>\n",
       "      <td>19</td>\n",
       "      <td>2024-05-14 16:43:35.331920862</td>\n",
       "      <td>2024-05-14 16:43:35.419727802</td>\n",
       "      <td>2024-05-14 16:43:35.331920862</td>\n",
       "      <td>2024-05-14 16:43:35.419727087</td>\n",
       "      <td>NaT</td>\n",
       "      <td>NaT</td>\n",
       "      <td>2024-05-14 16:43:35.333166122</td>\n",
       "      <td>2024-05-14 16:43:35.406348944</td>\n",
       "      <td>2024-05-14 16:43:35.406350136</td>\n",
       "      <td>...</td>\n",
       "      <td>5</td>\n",
       "      <td>logs/mdgan.5.cifar.server.logs.json</td>\n",
       "      <td>0.087807</td>\n",
       "      <td>0.087806</td>\n",
       "      <td>NaN</td>\n",
       "      <td>0.073183</td>\n",
       "      <td>0.010583</td>\n",
       "      <td>0.002696</td>\n",
       "      <td>NaN</td>\n",
       "      <td>NaN</td>\n",
       "    </tr>\n",
       "    <tr>\n",
       "      <th>20</th>\n",
       "      <td>20</td>\n",
       "      <td>2024-05-14 16:43:35.420399189</td>\n",
       "      <td>2024-05-14 16:43:35.506586789</td>\n",
       "      <td>2024-05-14 16:43:35.420399189</td>\n",
       "      <td>2024-05-14 16:43:35.506586074</td>\n",
       "      <td>NaT</td>\n",
       "      <td>NaT</td>\n",
       "      <td>2024-05-14 16:43:35.421741009</td>\n",
       "      <td>2024-05-14 16:43:35.493635178</td>\n",
       "      <td>2024-05-14 16:43:35.493636131</td>\n",
       "      <td>...</td>\n",
       "      <td>5</td>\n",
       "      <td>logs/mdgan.5.cifar.server.logs.json</td>\n",
       "      <td>0.086188</td>\n",
       "      <td>0.086187</td>\n",
       "      <td>NaN</td>\n",
       "      <td>0.071894</td>\n",
       "      <td>0.010088</td>\n",
       "      <td>0.002767</td>\n",
       "      <td>NaN</td>\n",
       "      <td>NaN</td>\n",
       "    </tr>\n",
       "    <tr>\n",
       "      <th>21</th>\n",
       "      <td>21</td>\n",
       "      <td>2024-05-14 16:43:35.507329940</td>\n",
       "      <td>2024-05-14 16:43:35.595337868</td>\n",
       "      <td>2024-05-14 16:43:35.507329940</td>\n",
       "      <td>2024-05-14 16:43:35.595336914</td>\n",
       "      <td>NaT</td>\n",
       "      <td>NaT</td>\n",
       "      <td>2024-05-14 16:43:35.508547068</td>\n",
       "      <td>2024-05-14 16:43:35.582589865</td>\n",
       "      <td>2024-05-14 16:43:35.582591057</td>\n",
       "      <td>...</td>\n",
       "      <td>5</td>\n",
       "      <td>logs/mdgan.5.cifar.server.logs.json</td>\n",
       "      <td>0.088008</td>\n",
       "      <td>0.088007</td>\n",
       "      <td>NaN</td>\n",
       "      <td>0.074043</td>\n",
       "      <td>0.009914</td>\n",
       "      <td>0.002730</td>\n",
       "      <td>NaN</td>\n",
       "      <td>NaN</td>\n",
       "    </tr>\n",
       "    <tr>\n",
       "      <th>22</th>\n",
       "      <td>22</td>\n",
       "      <td>2024-05-14 16:43:35.596124887</td>\n",
       "      <td>2024-05-14 16:43:35.684433937</td>\n",
       "      <td>2024-05-14 16:43:35.596124887</td>\n",
       "      <td>2024-05-14 16:43:35.684432983</td>\n",
       "      <td>NaT</td>\n",
       "      <td>NaT</td>\n",
       "      <td>2024-05-14 16:43:35.597498894</td>\n",
       "      <td>2024-05-14 16:43:35.671704054</td>\n",
       "      <td>2024-05-14 16:43:35.671705008</td>\n",
       "      <td>...</td>\n",
       "      <td>5</td>\n",
       "      <td>logs/mdgan.5.cifar.server.logs.json</td>\n",
       "      <td>0.088309</td>\n",
       "      <td>0.088308</td>\n",
       "      <td>NaN</td>\n",
       "      <td>0.074205</td>\n",
       "      <td>0.009947</td>\n",
       "      <td>0.002636</td>\n",
       "      <td>NaN</td>\n",
       "      <td>NaN</td>\n",
       "    </tr>\n",
       "    <tr>\n",
       "      <th>23</th>\n",
       "      <td>23</td>\n",
       "      <td>2024-05-14 16:43:35.685142994</td>\n",
       "      <td>2024-05-14 16:43:35.773658037</td>\n",
       "      <td>2024-05-14 16:43:35.685142994</td>\n",
       "      <td>2024-05-14 16:43:35.773657084</td>\n",
       "      <td>NaT</td>\n",
       "      <td>NaT</td>\n",
       "      <td>2024-05-14 16:43:35.686351061</td>\n",
       "      <td>2024-05-14 16:43:35.759729862</td>\n",
       "      <td>2024-05-14 16:43:35.759731054</td>\n",
       "      <td>...</td>\n",
       "      <td>5</td>\n",
       "      <td>logs/mdgan.5.cifar.server.logs.json</td>\n",
       "      <td>0.088515</td>\n",
       "      <td>0.088514</td>\n",
       "      <td>NaN</td>\n",
       "      <td>0.073379</td>\n",
       "      <td>0.011104</td>\n",
       "      <td>0.002719</td>\n",
       "      <td>NaN</td>\n",
       "      <td>NaN</td>\n",
       "    </tr>\n",
       "    <tr>\n",
       "      <th>24</th>\n",
       "      <td>24</td>\n",
       "      <td>2024-05-14 16:43:35.774384022</td>\n",
       "      <td>2024-05-14 16:43:35.866933107</td>\n",
       "      <td>2024-05-14 16:43:35.774384022</td>\n",
       "      <td>2024-05-14 16:43:35.866931915</td>\n",
       "      <td>NaT</td>\n",
       "      <td>NaT</td>\n",
       "      <td>2024-05-14 16:43:35.775619030</td>\n",
       "      <td>2024-05-14 16:43:35.850618124</td>\n",
       "      <td>2024-05-14 16:43:35.850618839</td>\n",
       "      <td>...</td>\n",
       "      <td>5</td>\n",
       "      <td>logs/mdgan.5.cifar.server.logs.json</td>\n",
       "      <td>0.092549</td>\n",
       "      <td>0.092548</td>\n",
       "      <td>NaN</td>\n",
       "      <td>0.074999</td>\n",
       "      <td>0.012854</td>\n",
       "      <td>0.003326</td>\n",
       "      <td>NaN</td>\n",
       "      <td>NaN</td>\n",
       "    </tr>\n",
       "    <tr>\n",
       "      <th>25</th>\n",
       "      <td>25</td>\n",
       "      <td>2024-05-14 16:43:35.867829084</td>\n",
       "      <td>2024-05-14 16:43:35.956069231</td>\n",
       "      <td>2024-05-14 16:43:35.867830038</td>\n",
       "      <td>2024-05-14 16:43:35.956068039</td>\n",
       "      <td>NaT</td>\n",
       "      <td>NaT</td>\n",
       "      <td>2024-05-14 16:43:35.869320869</td>\n",
       "      <td>2024-05-14 16:43:35.938633919</td>\n",
       "      <td>2024-05-14 16:43:35.938635111</td>\n",
       "      <td>...</td>\n",
       "      <td>5</td>\n",
       "      <td>logs/mdgan.5.cifar.server.logs.json</td>\n",
       "      <td>0.088240</td>\n",
       "      <td>0.088238</td>\n",
       "      <td>NaN</td>\n",
       "      <td>0.069313</td>\n",
       "      <td>0.013844</td>\n",
       "      <td>0.003472</td>\n",
       "      <td>NaN</td>\n",
       "      <td>NaN</td>\n",
       "    </tr>\n",
       "  </tbody>\n",
       "</table>\n",
       "<p>26 rows × 30 columns</p>\n",
       "</div>"
      ],
      "text/plain": [
       "    epoch                   start.epoch                     end.epoch  \\\n",
       "0       0 2024-05-14 16:43:29.834114075 2024-05-14 16:43:33.670010090   \n",
       "1       1 2024-05-14 16:43:33.670328140 2024-05-14 16:43:33.791720867   \n",
       "2       2 2024-05-14 16:43:33.792194128 2024-05-14 16:43:33.883865118   \n",
       "3       3 2024-05-14 16:43:33.884233952 2024-05-14 16:43:33.973150969   \n",
       "4       4 2024-05-14 16:43:33.973498106 2024-05-14 16:43:34.062836884   \n",
       "5       5 2024-05-14 16:43:34.064641953 2024-05-14 16:43:34.149254799   \n",
       "6       6 2024-05-14 16:43:34.149707079 2024-05-14 16:43:34.238437891   \n",
       "7       7 2024-05-14 16:43:34.238864899 2024-05-14 16:43:34.350847960   \n",
       "8       8 2024-05-14 16:43:34.351454973 2024-05-14 16:43:34.448472977   \n",
       "9       9 2024-05-14 16:43:34.449048996 2024-05-14 16:43:34.539127111   \n",
       "10     10 2024-05-14 16:43:34.539630175 2024-05-14 16:43:34.627923012   \n",
       "11     11 2024-05-14 16:43:34.628473997 2024-05-14 16:43:34.714979172   \n",
       "12     12 2024-05-14 16:43:34.715561867 2024-05-14 16:43:34.802131891   \n",
       "13     13 2024-05-14 16:43:34.802693129 2024-05-14 16:43:34.890895128   \n",
       "14     14 2024-05-14 16:43:34.891469002 2024-05-14 16:43:34.978545904   \n",
       "15     15 2024-05-14 16:43:34.979136944 2024-05-14 16:43:35.066320896   \n",
       "16     16 2024-05-14 16:43:35.066921948 2024-05-14 16:43:35.153443098   \n",
       "17     17 2024-05-14 16:43:35.154165983 2024-05-14 16:43:35.243034840   \n",
       "18     18 2024-05-14 16:43:35.243628979 2024-05-14 16:43:35.331249952   \n",
       "19     19 2024-05-14 16:43:35.331920862 2024-05-14 16:43:35.419727802   \n",
       "20     20 2024-05-14 16:43:35.420399189 2024-05-14 16:43:35.506586789   \n",
       "21     21 2024-05-14 16:43:35.507329940 2024-05-14 16:43:35.595337868   \n",
       "22     22 2024-05-14 16:43:35.596124887 2024-05-14 16:43:35.684433937   \n",
       "23     23 2024-05-14 16:43:35.685142994 2024-05-14 16:43:35.773658037   \n",
       "24     24 2024-05-14 16:43:35.774384022 2024-05-14 16:43:35.866933107   \n",
       "25     25 2024-05-14 16:43:35.867829084 2024-05-14 16:43:35.956069231   \n",
       "\n",
       "         start.epoch_calculation         end.epoch_calculation  \\\n",
       "0  2024-05-14 16:43:29.834114075 2024-05-14 16:43:30.717369080   \n",
       "1  2024-05-14 16:43:33.670328140 2024-05-14 16:43:33.791719913   \n",
       "2  2024-05-14 16:43:33.792194128 2024-05-14 16:43:33.883864164   \n",
       "3  2024-05-14 16:43:33.884234905 2024-05-14 16:43:33.973150969   \n",
       "4  2024-05-14 16:43:33.973498106 2024-05-14 16:43:34.062835932   \n",
       "5  2024-05-14 16:43:34.064641953 2024-05-14 16:43:34.149254799   \n",
       "6  2024-05-14 16:43:34.149707079 2024-05-14 16:43:34.238437176   \n",
       "7  2024-05-14 16:43:34.238864899 2024-05-14 16:43:34.350847960   \n",
       "8  2024-05-14 16:43:34.351454973 2024-05-14 16:43:34.448472023   \n",
       "9  2024-05-14 16:43:34.449050188 2024-05-14 16:43:34.539127111   \n",
       "10 2024-05-14 16:43:34.539630175 2024-05-14 16:43:34.627921820   \n",
       "11 2024-05-14 16:43:34.628473997 2024-05-14 16:43:34.714979172   \n",
       "12 2024-05-14 16:43:34.715561867 2024-05-14 16:43:34.802131891   \n",
       "13 2024-05-14 16:43:34.802693129 2024-05-14 16:43:34.890894175   \n",
       "14 2024-05-14 16:43:34.891469002 2024-05-14 16:43:34.978545904   \n",
       "15 2024-05-14 16:43:34.979136944 2024-05-14 16:43:35.066319942   \n",
       "16 2024-05-14 16:43:35.066921948 2024-05-14 16:43:35.153442144   \n",
       "17 2024-05-14 16:43:35.154165983 2024-05-14 16:43:35.243034840   \n",
       "18 2024-05-14 16:43:35.243628979 2024-05-14 16:43:35.331248999   \n",
       "19 2024-05-14 16:43:35.331920862 2024-05-14 16:43:35.419727087   \n",
       "20 2024-05-14 16:43:35.420399189 2024-05-14 16:43:35.506586074   \n",
       "21 2024-05-14 16:43:35.507329940 2024-05-14 16:43:35.595336914   \n",
       "22 2024-05-14 16:43:35.596124887 2024-05-14 16:43:35.684432983   \n",
       "23 2024-05-14 16:43:35.685142994 2024-05-14 16:43:35.773657084   \n",
       "24 2024-05-14 16:43:35.774384022 2024-05-14 16:43:35.866931915   \n",
       "25 2024-05-14 16:43:35.867830038 2024-05-14 16:43:35.956068039   \n",
       "\n",
       "                   start.logging                   end.logging  \\\n",
       "0  2024-05-14 16:43:30.717370033 2024-05-14 16:43:33.670009136   \n",
       "1                            NaT                           NaT   \n",
       "2                            NaT                           NaT   \n",
       "3                            NaT                           NaT   \n",
       "4                            NaT                           NaT   \n",
       "5                            NaT                           NaT   \n",
       "6                            NaT                           NaT   \n",
       "7                            NaT                           NaT   \n",
       "8                            NaT                           NaT   \n",
       "9                            NaT                           NaT   \n",
       "10                           NaT                           NaT   \n",
       "11                           NaT                           NaT   \n",
       "12                           NaT                           NaT   \n",
       "13                           NaT                           NaT   \n",
       "14                           NaT                           NaT   \n",
       "15                           NaT                           NaT   \n",
       "16                           NaT                           NaT   \n",
       "17                           NaT                           NaT   \n",
       "18                           NaT                           NaT   \n",
       "19                           NaT                           NaT   \n",
       "20                           NaT                           NaT   \n",
       "21                           NaT                           NaT   \n",
       "22                           NaT                           NaT   \n",
       "23                           NaT                           NaT   \n",
       "24                           NaT                           NaT   \n",
       "25                           NaT                           NaT   \n",
       "\n",
       "                 start.send_data                 end.send_data  \\\n",
       "0  2024-05-14 16:43:29.940656900 2024-05-14 16:43:30.467525005   \n",
       "1  2024-05-14 16:43:33.673645020 2024-05-14 16:43:33.768641949   \n",
       "2  2024-05-14 16:43:33.793858051 2024-05-14 16:43:33.870413065   \n",
       "3  2024-05-14 16:43:33.885493040 2024-05-14 16:43:33.959959984   \n",
       "4  2024-05-14 16:43:33.974755049 2024-05-14 16:43:34.048677206   \n",
       "5  2024-05-14 16:43:34.065973042 2024-05-14 16:43:34.136707067   \n",
       "6  2024-05-14 16:43:34.150986910 2024-05-14 16:43:34.225231886   \n",
       "7  2024-05-14 16:43:34.240105867 2024-05-14 16:43:34.334059954   \n",
       "8  2024-05-14 16:43:34.352846146 2024-05-14 16:43:34.432783127   \n",
       "9  2024-05-14 16:43:34.450953007 2024-05-14 16:43:34.526329041   \n",
       "10 2024-05-14 16:43:34.540877104 2024-05-14 16:43:34.614727974   \n",
       "11 2024-05-14 16:43:34.629726887 2024-05-14 16:43:34.701667070   \n",
       "12 2024-05-14 16:43:34.716760159 2024-05-14 16:43:34.789185047   \n",
       "13 2024-05-14 16:43:34.803952217 2024-05-14 16:43:34.877817154   \n",
       "14 2024-05-14 16:43:34.892669916 2024-05-14 16:43:34.965512991   \n",
       "15 2024-05-14 16:43:34.980448008 2024-05-14 16:43:35.053612947   \n",
       "16 2024-05-14 16:43:35.068196058 2024-05-14 16:43:35.140571833   \n",
       "17 2024-05-14 16:43:35.155443907 2024-05-14 16:43:35.230247021   \n",
       "18 2024-05-14 16:43:35.244869947 2024-05-14 16:43:35.317926884   \n",
       "19 2024-05-14 16:43:35.333166122 2024-05-14 16:43:35.406348944   \n",
       "20 2024-05-14 16:43:35.421741009 2024-05-14 16:43:35.493635178   \n",
       "21 2024-05-14 16:43:35.508547068 2024-05-14 16:43:35.582589865   \n",
       "22 2024-05-14 16:43:35.597498894 2024-05-14 16:43:35.671704054   \n",
       "23 2024-05-14 16:43:35.686351061 2024-05-14 16:43:35.759729862   \n",
       "24 2024-05-14 16:43:35.775619030 2024-05-14 16:43:35.850618124   \n",
       "25 2024-05-14 16:43:35.869320869 2024-05-14 16:43:35.938633919   \n",
       "\n",
       "            start.calc_gradients  ... world_size  \\\n",
       "0  2024-05-14 16:43:30.467533112  ...          5   \n",
       "1  2024-05-14 16:43:33.768644094  ...          5   \n",
       "2  2024-05-14 16:43:33.870414019  ...          5   \n",
       "3  2024-05-14 16:43:33.959961176  ...          5   \n",
       "4  2024-05-14 16:43:34.048677921  ...          5   \n",
       "5  2024-05-14 16:43:34.136708021  ...          5   \n",
       "6  2024-05-14 16:43:34.225234032  ...          5   \n",
       "7  2024-05-14 16:43:34.334062099  ...          5   \n",
       "8  2024-05-14 16:43:34.432783842  ...          5   \n",
       "9  2024-05-14 16:43:34.526330948  ...          5   \n",
       "10 2024-05-14 16:43:34.614728928  ...          5   \n",
       "11 2024-05-14 16:43:34.701668024  ...          5   \n",
       "12 2024-05-14 16:43:34.789186001  ...          5   \n",
       "13 2024-05-14 16:43:34.877818108  ...          5   \n",
       "14 2024-05-14 16:43:34.965513945  ...          5   \n",
       "15 2024-05-14 16:43:35.053614140  ...          5   \n",
       "16 2024-05-14 16:43:35.140573025  ...          5   \n",
       "17 2024-05-14 16:43:35.230247021  ...          5   \n",
       "18 2024-05-14 16:43:35.317927837  ...          5   \n",
       "19 2024-05-14 16:43:35.406350136  ...          5   \n",
       "20 2024-05-14 16:43:35.493636131  ...          5   \n",
       "21 2024-05-14 16:43:35.582591057  ...          5   \n",
       "22 2024-05-14 16:43:35.671705008  ...          5   \n",
       "23 2024-05-14 16:43:35.759731054  ...          5   \n",
       "24 2024-05-14 16:43:35.850618839  ...          5   \n",
       "25 2024-05-14 16:43:35.938635111  ...          5   \n",
       "\n",
       "                                    log time_elapsed.epoch  \\\n",
       "0   logs/mdgan.5.cifar.server.logs.json           3.835896   \n",
       "1   logs/mdgan.5.cifar.server.logs.json           0.121393   \n",
       "2   logs/mdgan.5.cifar.server.logs.json           0.091671   \n",
       "3   logs/mdgan.5.cifar.server.logs.json           0.088917   \n",
       "4   logs/mdgan.5.cifar.server.logs.json           0.089339   \n",
       "5   logs/mdgan.5.cifar.server.logs.json           0.084613   \n",
       "6   logs/mdgan.5.cifar.server.logs.json           0.088731   \n",
       "7   logs/mdgan.5.cifar.server.logs.json           0.111983   \n",
       "8   logs/mdgan.5.cifar.server.logs.json           0.097018   \n",
       "9   logs/mdgan.5.cifar.server.logs.json           0.090078   \n",
       "10  logs/mdgan.5.cifar.server.logs.json           0.088293   \n",
       "11  logs/mdgan.5.cifar.server.logs.json           0.086505   \n",
       "12  logs/mdgan.5.cifar.server.logs.json           0.086570   \n",
       "13  logs/mdgan.5.cifar.server.logs.json           0.088202   \n",
       "14  logs/mdgan.5.cifar.server.logs.json           0.087077   \n",
       "15  logs/mdgan.5.cifar.server.logs.json           0.087184   \n",
       "16  logs/mdgan.5.cifar.server.logs.json           0.086521   \n",
       "17  logs/mdgan.5.cifar.server.logs.json           0.088869   \n",
       "18  logs/mdgan.5.cifar.server.logs.json           0.087621   \n",
       "19  logs/mdgan.5.cifar.server.logs.json           0.087807   \n",
       "20  logs/mdgan.5.cifar.server.logs.json           0.086188   \n",
       "21  logs/mdgan.5.cifar.server.logs.json           0.088008   \n",
       "22  logs/mdgan.5.cifar.server.logs.json           0.088309   \n",
       "23  logs/mdgan.5.cifar.server.logs.json           0.088515   \n",
       "24  logs/mdgan.5.cifar.server.logs.json           0.092549   \n",
       "25  logs/mdgan.5.cifar.server.logs.json           0.088240   \n",
       "\n",
       "    time_elapsed.epoch_calculation  time_elapsed.logging  \\\n",
       "0                         0.883255              2.952639   \n",
       "1                         0.121392                   NaN   \n",
       "2                         0.091670                   NaN   \n",
       "3                         0.088916                   NaN   \n",
       "4                         0.089338                   NaN   \n",
       "5                         0.084613                   NaN   \n",
       "6                         0.088730                   NaN   \n",
       "7                         0.111983                   NaN   \n",
       "8                         0.097017                   NaN   \n",
       "9                         0.090077                   NaN   \n",
       "10                        0.088292                   NaN   \n",
       "11                        0.086505                   NaN   \n",
       "12                        0.086570                   NaN   \n",
       "13                        0.088201                   NaN   \n",
       "14                        0.087077                   NaN   \n",
       "15                        0.087183                   NaN   \n",
       "16                        0.086520                   NaN   \n",
       "17                        0.088869                   NaN   \n",
       "18                        0.087620                   NaN   \n",
       "19                        0.087806                   NaN   \n",
       "20                        0.086187                   NaN   \n",
       "21                        0.088007                   NaN   \n",
       "22                        0.088308                   NaN   \n",
       "23                        0.088514                   NaN   \n",
       "24                        0.092548                   NaN   \n",
       "25                        0.088238                   NaN   \n",
       "\n",
       "   time_elapsed.send_data time_elapsed.calc_gradients  \\\n",
       "0                0.526868                    0.139373   \n",
       "1                0.094997                    0.011996   \n",
       "2                0.076555                    0.010483   \n",
       "3                0.074467                    0.010445   \n",
       "4                0.073922                    0.011235   \n",
       "5                0.070734                    0.009800   \n",
       "6                0.074245                    0.010394   \n",
       "7                0.093954                    0.013758   \n",
       "8                0.079937                    0.012486   \n",
       "9                0.075376                    0.010002   \n",
       "10               0.073851                    0.010422   \n",
       "11               0.071940                    0.010302   \n",
       "12               0.072425                    0.010163   \n",
       "13               0.073865                    0.010211   \n",
       "14               0.072843                    0.010279   \n",
       "15               0.073165                    0.009726   \n",
       "16               0.072376                    0.010093   \n",
       "17               0.074803                    0.009998   \n",
       "18               0.073057                    0.010405   \n",
       "19               0.073183                    0.010583   \n",
       "20               0.071894                    0.010088   \n",
       "21               0.074043                    0.009914   \n",
       "22               0.074205                    0.009947   \n",
       "23               0.073379                    0.011104   \n",
       "24               0.074999                    0.012854   \n",
       "25               0.069313                    0.013844   \n",
       "\n",
       "   time_elapsed.apply_gradients time_elapsed.fid time_elapsed.is  \n",
       "0                      0.110038         2.399863        0.524318  \n",
       "1                      0.010980              NaN             NaN  \n",
       "2                      0.002842              NaN             NaN  \n",
       "3                      0.002628              NaN             NaN  \n",
       "4                      0.002824              NaN             NaN  \n",
       "5                      0.002653              NaN             NaN  \n",
       "6                      0.002703              NaN             NaN  \n",
       "7                      0.002897              NaN             NaN  \n",
       "8                      0.003111              NaN             NaN  \n",
       "9                      0.002701              NaN             NaN  \n",
       "10                     0.002677              NaN             NaN  \n",
       "11                     0.002915              NaN             NaN  \n",
       "12                     0.002679              NaN             NaN  \n",
       "13                     0.002733              NaN             NaN  \n",
       "14                     0.002658              NaN             NaN  \n",
       "15                     0.002869              NaN             NaN  \n",
       "16                     0.002671              NaN             NaN  \n",
       "17                     0.002630              NaN             NaN  \n",
       "18                     0.002808              NaN             NaN  \n",
       "19                     0.002696              NaN             NaN  \n",
       "20                     0.002767              NaN             NaN  \n",
       "21                     0.002730              NaN             NaN  \n",
       "22                     0.002636              NaN             NaN  \n",
       "23                     0.002719              NaN             NaN  \n",
       "24                     0.003326              NaN             NaN  \n",
       "25                     0.003472              NaN             NaN  \n",
       "\n",
       "[26 rows x 30 columns]"
      ]
     },
     "metadata": {},
     "output_type": "display_data"
    }
   ],
   "source": [
    "server_files = list(logs_path.glob(\"*.*.*.server.logs.json\"))\n",
    "server_files.sort()\n",
    "\n",
    "server_events_dfs: List[pd.DataFrame] = []\n",
    "server_dfs = []\n",
    "for log in server_files:\n",
    "    dataset = str(log).split(\".\")[-3]\n",
    "    world_size = str(log).split(\".\")[-5]\n",
    "    with open(log) as f:\n",
    "        df = pd.read_json(f)\n",
    "        df[\"dataset\"] = dataset\n",
    "        df[\"world_size\"] = world_size\n",
    "        df[\"log\"] = log\n",
    "        df = convert_all_pairs_to_datetime(df)\n",
    "        server_dfs.append(df)\n",
    "        server_events_dfs.append(dataset_for_every_events(df, retrieve_start_end_pairs(df), log))\n",
    "server_df = pd.concat(server_dfs)\n",
    "server_events_pairs = retrieve_start_end_pairs(server_df)\n",
    "print(server_events_pairs)\n",
    "server_df = compute_time_elapsed(server_df, server_events_pairs)\n",
    "\n",
    "server_events_df = pd.concat(server_events_dfs)\n",
    "\n",
    "display(server_events_df)\n",
    "display(server_df)"
   ]
  },
  {
   "cell_type": "code",
   "execution_count": 6,
   "metadata": {},
   "outputs": [
    {
     "name": "stdout",
     "output_type": "stream",
     "text": [
      "diff_time: 0 days 00:54:13.300756932\n",
      "[('start.epoch', 'end.epoch'), ('start.epoch_calculation', 'end.epoch_calculation'), ('start.train', 'end.train'), ('start.fid', 'end.fid'), ('start.is', 'end.is'), ('start.logging', 'end.logging')]\n"
     ]
    },
    {
     "name": "stderr",
     "output_type": "stream",
     "text": [
      "/var/folders/67/cm4smmds2bqf7q68jzsyvh840000gn/T/ipykernel_29154/3464380018.py:30: SettingWithCopyWarning: \n",
      "A value is trying to be set on a copy of a slice from a DataFrame\n",
      "\n",
      "See the caveats in the documentation: https://pandas.pydata.org/pandas-docs/stable/user_guide/indexing.html#returning-a-view-versus-a-copy\n",
      "  df_event.dropna(inplace=True)\n",
      "/var/folders/67/cm4smmds2bqf7q68jzsyvh840000gn/T/ipykernel_29154/3464380018.py:31: SettingWithCopyWarning: \n",
      "A value is trying to be set on a copy of a slice from a DataFrame.\n",
      "Try using .loc[row_indexer,col_indexer] = value instead\n",
      "\n",
      "See the caveats in the documentation: https://pandas.pydata.org/pandas-docs/stable/user_guide/indexing.html#returning-a-view-versus-a-copy\n",
      "  df_event[\"event\"] = event_name\n",
      "/var/folders/67/cm4smmds2bqf7q68jzsyvh840000gn/T/ipykernel_29154/3464380018.py:33: SettingWithCopyWarning: \n",
      "A value is trying to be set on a copy of a slice from a DataFrame.\n",
      "Try using .loc[row_indexer,col_indexer] = value instead\n",
      "\n",
      "See the caveats in the documentation: https://pandas.pydata.org/pandas-docs/stable/user_guide/indexing.html#returning-a-view-versus-a-copy\n",
      "  df_event[\"time_elapsed\"] = (df_event[\"end\"] - df_event[\"start\"]).dt.total_seconds()\n",
      "/var/folders/67/cm4smmds2bqf7q68jzsyvh840000gn/T/ipykernel_29154/3464380018.py:34: SettingWithCopyWarning: \n",
      "A value is trying to be set on a copy of a slice from a DataFrame.\n",
      "Try using .loc[row_indexer,col_indexer] = value instead\n",
      "\n",
      "See the caveats in the documentation: https://pandas.pydata.org/pandas-docs/stable/user_guide/indexing.html#returning-a-view-versus-a-copy\n",
      "  df_event[\"name\"] = name.name\n",
      "/var/folders/67/cm4smmds2bqf7q68jzsyvh840000gn/T/ipykernel_29154/3464380018.py:35: SettingWithCopyWarning: \n",
      "A value is trying to be set on a copy of a slice from a DataFrame.\n",
      "Try using .loc[row_indexer,col_indexer] = value instead\n",
      "\n",
      "See the caveats in the documentation: https://pandas.pydata.org/pandas-docs/stable/user_guide/indexing.html#returning-a-view-versus-a-copy\n",
      "  df_event[\"legend\"] = f\"{event_name} ({name})\"\n",
      "/var/folders/67/cm4smmds2bqf7q68jzsyvh840000gn/T/ipykernel_29154/3464380018.py:36: SettingWithCopyWarning: \n",
      "A value is trying to be set on a copy of a slice from a DataFrame.\n",
      "Try using .loc[row_indexer,col_indexer] = value instead\n",
      "\n",
      "See the caveats in the documentation: https://pandas.pydata.org/pandas-docs/stable/user_guide/indexing.html#returning-a-view-versus-a-copy\n",
      "  df_event[\"index\"] = df_event.index\n",
      "/var/folders/67/cm4smmds2bqf7q68jzsyvh840000gn/T/ipykernel_29154/3464380018.py:30: SettingWithCopyWarning: \n",
      "A value is trying to be set on a copy of a slice from a DataFrame\n",
      "\n",
      "See the caveats in the documentation: https://pandas.pydata.org/pandas-docs/stable/user_guide/indexing.html#returning-a-view-versus-a-copy\n",
      "  df_event.dropna(inplace=True)\n",
      "/var/folders/67/cm4smmds2bqf7q68jzsyvh840000gn/T/ipykernel_29154/3464380018.py:31: SettingWithCopyWarning: \n",
      "A value is trying to be set on a copy of a slice from a DataFrame.\n",
      "Try using .loc[row_indexer,col_indexer] = value instead\n",
      "\n",
      "See the caveats in the documentation: https://pandas.pydata.org/pandas-docs/stable/user_guide/indexing.html#returning-a-view-versus-a-copy\n",
      "  df_event[\"event\"] = event_name\n",
      "/var/folders/67/cm4smmds2bqf7q68jzsyvh840000gn/T/ipykernel_29154/3464380018.py:33: SettingWithCopyWarning: \n",
      "A value is trying to be set on a copy of a slice from a DataFrame.\n",
      "Try using .loc[row_indexer,col_indexer] = value instead\n",
      "\n",
      "See the caveats in the documentation: https://pandas.pydata.org/pandas-docs/stable/user_guide/indexing.html#returning-a-view-versus-a-copy\n",
      "  df_event[\"time_elapsed\"] = (df_event[\"end\"] - df_event[\"start\"]).dt.total_seconds()\n",
      "/var/folders/67/cm4smmds2bqf7q68jzsyvh840000gn/T/ipykernel_29154/3464380018.py:34: SettingWithCopyWarning: \n",
      "A value is trying to be set on a copy of a slice from a DataFrame.\n",
      "Try using .loc[row_indexer,col_indexer] = value instead\n",
      "\n",
      "See the caveats in the documentation: https://pandas.pydata.org/pandas-docs/stable/user_guide/indexing.html#returning-a-view-versus-a-copy\n",
      "  df_event[\"name\"] = name.name\n",
      "/var/folders/67/cm4smmds2bqf7q68jzsyvh840000gn/T/ipykernel_29154/3464380018.py:35: SettingWithCopyWarning: \n",
      "A value is trying to be set on a copy of a slice from a DataFrame.\n",
      "Try using .loc[row_indexer,col_indexer] = value instead\n",
      "\n",
      "See the caveats in the documentation: https://pandas.pydata.org/pandas-docs/stable/user_guide/indexing.html#returning-a-view-versus-a-copy\n",
      "  df_event[\"legend\"] = f\"{event_name} ({name})\"\n",
      "/var/folders/67/cm4smmds2bqf7q68jzsyvh840000gn/T/ipykernel_29154/3464380018.py:36: SettingWithCopyWarning: \n",
      "A value is trying to be set on a copy of a slice from a DataFrame.\n",
      "Try using .loc[row_indexer,col_indexer] = value instead\n",
      "\n",
      "See the caveats in the documentation: https://pandas.pydata.org/pandas-docs/stable/user_guide/indexing.html#returning-a-view-versus-a-copy\n",
      "  df_event[\"index\"] = df_event.index\n",
      "/var/folders/67/cm4smmds2bqf7q68jzsyvh840000gn/T/ipykernel_29154/3464380018.py:30: SettingWithCopyWarning: \n",
      "A value is trying to be set on a copy of a slice from a DataFrame\n",
      "\n",
      "See the caveats in the documentation: https://pandas.pydata.org/pandas-docs/stable/user_guide/indexing.html#returning-a-view-versus-a-copy\n",
      "  df_event.dropna(inplace=True)\n",
      "/var/folders/67/cm4smmds2bqf7q68jzsyvh840000gn/T/ipykernel_29154/3464380018.py:30: SettingWithCopyWarning: \n",
      "A value is trying to be set on a copy of a slice from a DataFrame\n",
      "\n",
      "See the caveats in the documentation: https://pandas.pydata.org/pandas-docs/stable/user_guide/indexing.html#returning-a-view-versus-a-copy\n",
      "  df_event.dropna(inplace=True)\n",
      "/var/folders/67/cm4smmds2bqf7q68jzsyvh840000gn/T/ipykernel_29154/3464380018.py:31: SettingWithCopyWarning: \n",
      "A value is trying to be set on a copy of a slice from a DataFrame.\n",
      "Try using .loc[row_indexer,col_indexer] = value instead\n",
      "\n",
      "See the caveats in the documentation: https://pandas.pydata.org/pandas-docs/stable/user_guide/indexing.html#returning-a-view-versus-a-copy\n",
      "  df_event[\"event\"] = event_name\n",
      "/var/folders/67/cm4smmds2bqf7q68jzsyvh840000gn/T/ipykernel_29154/3464380018.py:33: SettingWithCopyWarning: \n",
      "A value is trying to be set on a copy of a slice from a DataFrame.\n",
      "Try using .loc[row_indexer,col_indexer] = value instead\n",
      "\n",
      "See the caveats in the documentation: https://pandas.pydata.org/pandas-docs/stable/user_guide/indexing.html#returning-a-view-versus-a-copy\n",
      "  df_event[\"time_elapsed\"] = (df_event[\"end\"] - df_event[\"start\"]).dt.total_seconds()\n",
      "/var/folders/67/cm4smmds2bqf7q68jzsyvh840000gn/T/ipykernel_29154/3464380018.py:34: SettingWithCopyWarning: \n",
      "A value is trying to be set on a copy of a slice from a DataFrame.\n",
      "Try using .loc[row_indexer,col_indexer] = value instead\n",
      "\n",
      "See the caveats in the documentation: https://pandas.pydata.org/pandas-docs/stable/user_guide/indexing.html#returning-a-view-versus-a-copy\n",
      "  df_event[\"name\"] = name.name\n",
      "/var/folders/67/cm4smmds2bqf7q68jzsyvh840000gn/T/ipykernel_29154/3464380018.py:35: SettingWithCopyWarning: \n",
      "A value is trying to be set on a copy of a slice from a DataFrame.\n",
      "Try using .loc[row_indexer,col_indexer] = value instead\n",
      "\n",
      "See the caveats in the documentation: https://pandas.pydata.org/pandas-docs/stable/user_guide/indexing.html#returning-a-view-versus-a-copy\n",
      "  df_event[\"legend\"] = f\"{event_name} ({name})\"\n",
      "/var/folders/67/cm4smmds2bqf7q68jzsyvh840000gn/T/ipykernel_29154/3464380018.py:36: SettingWithCopyWarning: \n",
      "A value is trying to be set on a copy of a slice from a DataFrame.\n",
      "Try using .loc[row_indexer,col_indexer] = value instead\n",
      "\n",
      "See the caveats in the documentation: https://pandas.pydata.org/pandas-docs/stable/user_guide/indexing.html#returning-a-view-versus-a-copy\n",
      "  df_event[\"index\"] = df_event.index\n",
      "/var/folders/67/cm4smmds2bqf7q68jzsyvh840000gn/T/ipykernel_29154/3464380018.py:30: SettingWithCopyWarning: \n",
      "A value is trying to be set on a copy of a slice from a DataFrame\n",
      "\n",
      "See the caveats in the documentation: https://pandas.pydata.org/pandas-docs/stable/user_guide/indexing.html#returning-a-view-versus-a-copy\n",
      "  df_event.dropna(inplace=True)\n",
      "/var/folders/67/cm4smmds2bqf7q68jzsyvh840000gn/T/ipykernel_29154/3464380018.py:31: SettingWithCopyWarning: \n",
      "A value is trying to be set on a copy of a slice from a DataFrame.\n",
      "Try using .loc[row_indexer,col_indexer] = value instead\n",
      "\n",
      "See the caveats in the documentation: https://pandas.pydata.org/pandas-docs/stable/user_guide/indexing.html#returning-a-view-versus-a-copy\n",
      "  df_event[\"event\"] = event_name\n",
      "/var/folders/67/cm4smmds2bqf7q68jzsyvh840000gn/T/ipykernel_29154/3464380018.py:33: SettingWithCopyWarning: \n",
      "A value is trying to be set on a copy of a slice from a DataFrame.\n",
      "Try using .loc[row_indexer,col_indexer] = value instead\n",
      "\n",
      "See the caveats in the documentation: https://pandas.pydata.org/pandas-docs/stable/user_guide/indexing.html#returning-a-view-versus-a-copy\n",
      "  df_event[\"time_elapsed\"] = (df_event[\"end\"] - df_event[\"start\"]).dt.total_seconds()\n",
      "/var/folders/67/cm4smmds2bqf7q68jzsyvh840000gn/T/ipykernel_29154/3464380018.py:34: SettingWithCopyWarning: \n",
      "A value is trying to be set on a copy of a slice from a DataFrame.\n",
      "Try using .loc[row_indexer,col_indexer] = value instead\n",
      "\n",
      "See the caveats in the documentation: https://pandas.pydata.org/pandas-docs/stable/user_guide/indexing.html#returning-a-view-versus-a-copy\n",
      "  df_event[\"name\"] = name.name\n",
      "/var/folders/67/cm4smmds2bqf7q68jzsyvh840000gn/T/ipykernel_29154/3464380018.py:35: SettingWithCopyWarning: \n",
      "A value is trying to be set on a copy of a slice from a DataFrame.\n",
      "Try using .loc[row_indexer,col_indexer] = value instead\n",
      "\n",
      "See the caveats in the documentation: https://pandas.pydata.org/pandas-docs/stable/user_guide/indexing.html#returning-a-view-versus-a-copy\n",
      "  df_event[\"legend\"] = f\"{event_name} ({name})\"\n",
      "/var/folders/67/cm4smmds2bqf7q68jzsyvh840000gn/T/ipykernel_29154/3464380018.py:36: SettingWithCopyWarning: \n",
      "A value is trying to be set on a copy of a slice from a DataFrame.\n",
      "Try using .loc[row_indexer,col_indexer] = value instead\n",
      "\n",
      "See the caveats in the documentation: https://pandas.pydata.org/pandas-docs/stable/user_guide/indexing.html#returning-a-view-versus-a-copy\n",
      "  df_event[\"index\"] = df_event.index\n",
      "/var/folders/67/cm4smmds2bqf7q68jzsyvh840000gn/T/ipykernel_29154/3464380018.py:30: SettingWithCopyWarning: \n",
      "A value is trying to be set on a copy of a slice from a DataFrame\n",
      "\n",
      "See the caveats in the documentation: https://pandas.pydata.org/pandas-docs/stable/user_guide/indexing.html#returning-a-view-versus-a-copy\n",
      "  df_event.dropna(inplace=True)\n",
      "/var/folders/67/cm4smmds2bqf7q68jzsyvh840000gn/T/ipykernel_29154/3464380018.py:31: SettingWithCopyWarning: \n",
      "A value is trying to be set on a copy of a slice from a DataFrame.\n",
      "Try using .loc[row_indexer,col_indexer] = value instead\n",
      "\n",
      "See the caveats in the documentation: https://pandas.pydata.org/pandas-docs/stable/user_guide/indexing.html#returning-a-view-versus-a-copy\n",
      "  df_event[\"event\"] = event_name\n",
      "/var/folders/67/cm4smmds2bqf7q68jzsyvh840000gn/T/ipykernel_29154/3464380018.py:33: SettingWithCopyWarning: \n",
      "A value is trying to be set on a copy of a slice from a DataFrame.\n",
      "Try using .loc[row_indexer,col_indexer] = value instead\n",
      "\n",
      "See the caveats in the documentation: https://pandas.pydata.org/pandas-docs/stable/user_guide/indexing.html#returning-a-view-versus-a-copy\n",
      "  df_event[\"time_elapsed\"] = (df_event[\"end\"] - df_event[\"start\"]).dt.total_seconds()\n",
      "/var/folders/67/cm4smmds2bqf7q68jzsyvh840000gn/T/ipykernel_29154/3464380018.py:34: SettingWithCopyWarning: \n",
      "A value is trying to be set on a copy of a slice from a DataFrame.\n",
      "Try using .loc[row_indexer,col_indexer] = value instead\n",
      "\n",
      "See the caveats in the documentation: https://pandas.pydata.org/pandas-docs/stable/user_guide/indexing.html#returning-a-view-versus-a-copy\n",
      "  df_event[\"name\"] = name.name\n",
      "/var/folders/67/cm4smmds2bqf7q68jzsyvh840000gn/T/ipykernel_29154/3464380018.py:35: SettingWithCopyWarning: \n",
      "A value is trying to be set on a copy of a slice from a DataFrame.\n",
      "Try using .loc[row_indexer,col_indexer] = value instead\n",
      "\n",
      "See the caveats in the documentation: https://pandas.pydata.org/pandas-docs/stable/user_guide/indexing.html#returning-a-view-versus-a-copy\n",
      "  df_event[\"legend\"] = f\"{event_name} ({name})\"\n",
      "/var/folders/67/cm4smmds2bqf7q68jzsyvh840000gn/T/ipykernel_29154/3464380018.py:36: SettingWithCopyWarning: \n",
      "A value is trying to be set on a copy of a slice from a DataFrame.\n",
      "Try using .loc[row_indexer,col_indexer] = value instead\n",
      "\n",
      "See the caveats in the documentation: https://pandas.pydata.org/pandas-docs/stable/user_guide/indexing.html#returning-a-view-versus-a-copy\n",
      "  df_event[\"index\"] = df_event.index\n"
     ]
    },
    {
     "data": {
      "text/html": [
       "<div>\n",
       "<style scoped>\n",
       "    .dataframe tbody tr th:only-of-type {\n",
       "        vertical-align: middle;\n",
       "    }\n",
       "\n",
       "    .dataframe tbody tr th {\n",
       "        vertical-align: top;\n",
       "    }\n",
       "\n",
       "    .dataframe thead th {\n",
       "        text-align: right;\n",
       "    }\n",
       "</style>\n",
       "<table border=\"1\" class=\"dataframe\">\n",
       "  <thead>\n",
       "    <tr style=\"text-align: right;\">\n",
       "      <th></th>\n",
       "      <th>epoch</th>\n",
       "      <th>start.epoch</th>\n",
       "      <th>end.epoch</th>\n",
       "      <th>start.epoch_calculation</th>\n",
       "      <th>end.epoch_calculation</th>\n",
       "      <th>absolut_step</th>\n",
       "      <th>mean_d_loss</th>\n",
       "      <th>mean_g_loss</th>\n",
       "      <th>start.train</th>\n",
       "      <th>end.train</th>\n",
       "      <th>...</th>\n",
       "      <th>start.logging</th>\n",
       "      <th>end.logging</th>\n",
       "      <th>dataset</th>\n",
       "      <th>log</th>\n",
       "      <th>time_elapsed.epoch</th>\n",
       "      <th>time_elapsed.epoch_calculation</th>\n",
       "      <th>time_elapsed.train</th>\n",
       "      <th>time_elapsed.fid</th>\n",
       "      <th>time_elapsed.is</th>\n",
       "      <th>time_elapsed.logging</th>\n",
       "    </tr>\n",
       "  </thead>\n",
       "  <tbody>\n",
       "    <tr>\n",
       "      <th>0</th>\n",
       "      <td>0</td>\n",
       "      <td>2024-05-14 16:43:29.834113143</td>\n",
       "      <td>2024-05-14 16:43:34.106158040</td>\n",
       "      <td>2024-05-14 16:43:29.834114097</td>\n",
       "      <td>2024-05-14 16:43:30.294969104</td>\n",
       "      <td>0</td>\n",
       "      <td>1.451478</td>\n",
       "      <td>20.996281</td>\n",
       "      <td>2024-05-14 16:43:30.294969104</td>\n",
       "      <td>NaT</td>\n",
       "      <td>...</td>\n",
       "      <td>2024-05-14 16:43:30.314437889</td>\n",
       "      <td>2024-05-14 16:43:34.106157087</td>\n",
       "      <td>cifar</td>\n",
       "      <td>cifar.standalone.logs.json</td>\n",
       "      <td>4.272045</td>\n",
       "      <td>0.460855</td>\n",
       "      <td>NaN</td>\n",
       "      <td>3.247869</td>\n",
       "      <td>0.535638</td>\n",
       "      <td>3.791719</td>\n",
       "    </tr>\n",
       "    <tr>\n",
       "      <th>1</th>\n",
       "      <td>1</td>\n",
       "      <td>2024-05-14 16:43:34.141160987</td>\n",
       "      <td>2024-05-14 16:43:34.182240985</td>\n",
       "      <td>2024-05-14 16:43:34.141160987</td>\n",
       "      <td>2024-05-14 16:43:34.182239078</td>\n",
       "      <td>1</td>\n",
       "      <td>6.401400</td>\n",
       "      <td>25.901831</td>\n",
       "      <td>2024-05-14 16:43:34.182239078</td>\n",
       "      <td>NaT</td>\n",
       "      <td>...</td>\n",
       "      <td>NaT</td>\n",
       "      <td>NaT</td>\n",
       "      <td>cifar</td>\n",
       "      <td>cifar.standalone.logs.json</td>\n",
       "      <td>0.041080</td>\n",
       "      <td>0.041078</td>\n",
       "      <td>NaN</td>\n",
       "      <td>NaN</td>\n",
       "      <td>NaN</td>\n",
       "      <td>NaN</td>\n",
       "    </tr>\n",
       "    <tr>\n",
       "      <th>2</th>\n",
       "      <td>2</td>\n",
       "      <td>2024-05-14 16:43:34.213546060</td>\n",
       "      <td>2024-05-14 16:43:34.245211862</td>\n",
       "      <td>2024-05-14 16:43:34.213546060</td>\n",
       "      <td>2024-05-14 16:43:34.245209955</td>\n",
       "      <td>2</td>\n",
       "      <td>2.631938</td>\n",
       "      <td>19.150515</td>\n",
       "      <td>2024-05-14 16:43:34.245210908</td>\n",
       "      <td>NaT</td>\n",
       "      <td>...</td>\n",
       "      <td>NaT</td>\n",
       "      <td>NaT</td>\n",
       "      <td>cifar</td>\n",
       "      <td>cifar.standalone.logs.json</td>\n",
       "      <td>0.031666</td>\n",
       "      <td>0.031664</td>\n",
       "      <td>NaN</td>\n",
       "      <td>NaN</td>\n",
       "      <td>NaN</td>\n",
       "      <td>NaN</td>\n",
       "    </tr>\n",
       "    <tr>\n",
       "      <th>3</th>\n",
       "      <td>3</td>\n",
       "      <td>2024-05-14 16:43:34.282121919</td>\n",
       "      <td>2024-05-14 16:43:34.328813098</td>\n",
       "      <td>2024-05-14 16:43:34.282123111</td>\n",
       "      <td>2024-05-14 16:43:34.328810953</td>\n",
       "      <td>3</td>\n",
       "      <td>0.904639</td>\n",
       "      <td>13.880597</td>\n",
       "      <td>2024-05-14 16:43:34.328810953</td>\n",
       "      <td>NaT</td>\n",
       "      <td>...</td>\n",
       "      <td>NaT</td>\n",
       "      <td>NaT</td>\n",
       "      <td>cifar</td>\n",
       "      <td>cifar.standalone.logs.json</td>\n",
       "      <td>0.046691</td>\n",
       "      <td>0.046688</td>\n",
       "      <td>NaN</td>\n",
       "      <td>NaN</td>\n",
       "      <td>NaN</td>\n",
       "      <td>NaN</td>\n",
       "    </tr>\n",
       "    <tr>\n",
       "      <th>4</th>\n",
       "      <td>4</td>\n",
       "      <td>2024-05-14 16:43:34.359533094</td>\n",
       "      <td>2024-05-14 16:43:34.397956155</td>\n",
       "      <td>2024-05-14 16:43:34.359533094</td>\n",
       "      <td>2024-05-14 16:43:34.397954009</td>\n",
       "      <td>4</td>\n",
       "      <td>0.113801</td>\n",
       "      <td>9.887267</td>\n",
       "      <td>2024-05-14 16:43:34.397955202</td>\n",
       "      <td>NaT</td>\n",
       "      <td>...</td>\n",
       "      <td>NaT</td>\n",
       "      <td>NaT</td>\n",
       "      <td>cifar</td>\n",
       "      <td>cifar.standalone.logs.json</td>\n",
       "      <td>0.038423</td>\n",
       "      <td>0.038421</td>\n",
       "      <td>NaN</td>\n",
       "      <td>NaN</td>\n",
       "      <td>NaN</td>\n",
       "      <td>NaN</td>\n",
       "    </tr>\n",
       "    <tr>\n",
       "      <th>5</th>\n",
       "      <td>5</td>\n",
       "      <td>2024-05-14 16:43:34.426778816</td>\n",
       "      <td>2024-05-14 16:43:34.457152151</td>\n",
       "      <td>2024-05-14 16:43:34.426780008</td>\n",
       "      <td>2024-05-14 16:43:34.457150005</td>\n",
       "      <td>5</td>\n",
       "      <td>22.038605</td>\n",
       "      <td>16.248434</td>\n",
       "      <td>2024-05-14 16:43:34.457150958</td>\n",
       "      <td>NaT</td>\n",
       "      <td>...</td>\n",
       "      <td>NaT</td>\n",
       "      <td>NaT</td>\n",
       "      <td>cifar</td>\n",
       "      <td>cifar.standalone.logs.json</td>\n",
       "      <td>0.030373</td>\n",
       "      <td>0.030370</td>\n",
       "      <td>NaN</td>\n",
       "      <td>NaN</td>\n",
       "      <td>NaN</td>\n",
       "      <td>NaN</td>\n",
       "    </tr>\n",
       "    <tr>\n",
       "      <th>6</th>\n",
       "      <td>6</td>\n",
       "      <td>2024-05-14 16:43:34.486900114</td>\n",
       "      <td>2024-05-14 16:43:34.520264886</td>\n",
       "      <td>2024-05-14 16:43:34.486900114</td>\n",
       "      <td>2024-05-14 16:43:34.520262979</td>\n",
       "      <td>6</td>\n",
       "      <td>0.621897</td>\n",
       "      <td>15.243013</td>\n",
       "      <td>2024-05-14 16:43:34.520262979</td>\n",
       "      <td>NaT</td>\n",
       "      <td>...</td>\n",
       "      <td>NaT</td>\n",
       "      <td>NaT</td>\n",
       "      <td>cifar</td>\n",
       "      <td>cifar.standalone.logs.json</td>\n",
       "      <td>0.033365</td>\n",
       "      <td>0.033363</td>\n",
       "      <td>NaN</td>\n",
       "      <td>NaN</td>\n",
       "      <td>NaN</td>\n",
       "      <td>NaN</td>\n",
       "    </tr>\n",
       "    <tr>\n",
       "      <th>7</th>\n",
       "      <td>7</td>\n",
       "      <td>2024-05-14 16:43:34.553753160</td>\n",
       "      <td>2024-05-14 16:43:34.599918865</td>\n",
       "      <td>2024-05-14 16:43:34.553753160</td>\n",
       "      <td>2024-05-14 16:43:34.599916004</td>\n",
       "      <td>7</td>\n",
       "      <td>0.541735</td>\n",
       "      <td>5.127599</td>\n",
       "      <td>2024-05-14 16:43:34.599917196</td>\n",
       "      <td>NaT</td>\n",
       "      <td>...</td>\n",
       "      <td>NaT</td>\n",
       "      <td>NaT</td>\n",
       "      <td>cifar</td>\n",
       "      <td>cifar.standalone.logs.json</td>\n",
       "      <td>0.046166</td>\n",
       "      <td>0.046163</td>\n",
       "      <td>NaN</td>\n",
       "      <td>NaN</td>\n",
       "      <td>NaN</td>\n",
       "      <td>NaN</td>\n",
       "    </tr>\n",
       "    <tr>\n",
       "      <th>8</th>\n",
       "      <td>8</td>\n",
       "      <td>2024-05-14 16:43:34.630193971</td>\n",
       "      <td>2024-05-14 16:43:34.666256927</td>\n",
       "      <td>2024-05-14 16:43:34.630193971</td>\n",
       "      <td>2024-05-14 16:43:34.666254781</td>\n",
       "      <td>8</td>\n",
       "      <td>49.022472</td>\n",
       "      <td>0.223740</td>\n",
       "      <td>2024-05-14 16:43:34.666254781</td>\n",
       "      <td>NaT</td>\n",
       "      <td>...</td>\n",
       "      <td>NaT</td>\n",
       "      <td>NaT</td>\n",
       "      <td>cifar</td>\n",
       "      <td>cifar.standalone.logs.json</td>\n",
       "      <td>0.036063</td>\n",
       "      <td>0.036061</td>\n",
       "      <td>NaN</td>\n",
       "      <td>NaN</td>\n",
       "      <td>NaN</td>\n",
       "      <td>NaN</td>\n",
       "    </tr>\n",
       "    <tr>\n",
       "      <th>9</th>\n",
       "      <td>9</td>\n",
       "      <td>2024-05-14 16:43:34.698748849</td>\n",
       "      <td>2024-05-14 16:43:34.732837938</td>\n",
       "      <td>2024-05-14 16:43:34.698750041</td>\n",
       "      <td>2024-05-14 16:43:34.732835077</td>\n",
       "      <td>9</td>\n",
       "      <td>6.181591</td>\n",
       "      <td>12.467178</td>\n",
       "      <td>2024-05-14 16:43:34.732835792</td>\n",
       "      <td>NaT</td>\n",
       "      <td>...</td>\n",
       "      <td>NaT</td>\n",
       "      <td>NaT</td>\n",
       "      <td>cifar</td>\n",
       "      <td>cifar.standalone.logs.json</td>\n",
       "      <td>0.034089</td>\n",
       "      <td>0.034085</td>\n",
       "      <td>NaN</td>\n",
       "      <td>NaN</td>\n",
       "      <td>NaN</td>\n",
       "      <td>NaN</td>\n",
       "    </tr>\n",
       "    <tr>\n",
       "      <th>10</th>\n",
       "      <td>10</td>\n",
       "      <td>2024-05-14 16:43:34.762201093</td>\n",
       "      <td>2024-05-14 16:43:38.952338956</td>\n",
       "      <td>2024-05-14 16:43:34.762201808</td>\n",
       "      <td>2024-05-14 16:43:34.805048011</td>\n",
       "      <td>10</td>\n",
       "      <td>3.256512</td>\n",
       "      <td>12.761542</td>\n",
       "      <td>2024-05-14 16:43:34.805049203</td>\n",
       "      <td>NaT</td>\n",
       "      <td>...</td>\n",
       "      <td>2024-05-14 16:43:34.809028886</td>\n",
       "      <td>2024-05-14 16:43:38.952338956</td>\n",
       "      <td>cifar</td>\n",
       "      <td>cifar.standalone.logs.json</td>\n",
       "      <td>4.190138</td>\n",
       "      <td>0.042846</td>\n",
       "      <td>NaN</td>\n",
       "      <td>3.593669</td>\n",
       "      <td>0.548586</td>\n",
       "      <td>4.143310</td>\n",
       "    </tr>\n",
       "    <tr>\n",
       "      <th>11</th>\n",
       "      <td>11</td>\n",
       "      <td>2024-05-14 16:43:38.982988141</td>\n",
       "      <td>2024-05-14 16:43:39.023381017</td>\n",
       "      <td>2024-05-14 16:43:38.982988141</td>\n",
       "      <td>2024-05-14 16:43:39.023377918</td>\n",
       "      <td>11</td>\n",
       "      <td>1.955048</td>\n",
       "      <td>9.771277</td>\n",
       "      <td>2024-05-14 16:43:39.023377918</td>\n",
       "      <td>NaT</td>\n",
       "      <td>...</td>\n",
       "      <td>NaT</td>\n",
       "      <td>NaT</td>\n",
       "      <td>cifar</td>\n",
       "      <td>cifar.standalone.logs.json</td>\n",
       "      <td>0.040393</td>\n",
       "      <td>0.040390</td>\n",
       "      <td>NaN</td>\n",
       "      <td>NaN</td>\n",
       "      <td>NaN</td>\n",
       "      <td>NaN</td>\n",
       "    </tr>\n",
       "    <tr>\n",
       "      <th>12</th>\n",
       "      <td>12</td>\n",
       "      <td>2024-05-14 16:43:39.054857992</td>\n",
       "      <td>2024-05-14 16:43:39.078220151</td>\n",
       "      <td>2024-05-14 16:43:39.054857992</td>\n",
       "      <td>2024-05-14 16:43:39.078217052</td>\n",
       "      <td>12</td>\n",
       "      <td>0.012509</td>\n",
       "      <td>8.149246</td>\n",
       "      <td>2024-05-14 16:43:39.078217052</td>\n",
       "      <td>NaT</td>\n",
       "      <td>...</td>\n",
       "      <td>NaT</td>\n",
       "      <td>NaT</td>\n",
       "      <td>cifar</td>\n",
       "      <td>cifar.standalone.logs.json</td>\n",
       "      <td>0.023362</td>\n",
       "      <td>0.023359</td>\n",
       "      <td>NaN</td>\n",
       "      <td>NaN</td>\n",
       "      <td>NaN</td>\n",
       "      <td>NaN</td>\n",
       "    </tr>\n",
       "    <tr>\n",
       "      <th>13</th>\n",
       "      <td>13</td>\n",
       "      <td>2024-05-14 16:43:39.110018037</td>\n",
       "      <td>2024-05-14 16:43:39.134735845</td>\n",
       "      <td>2024-05-14 16:43:39.110018037</td>\n",
       "      <td>2024-05-14 16:43:39.134732984</td>\n",
       "      <td>13</td>\n",
       "      <td>0.907100</td>\n",
       "      <td>3.708555</td>\n",
       "      <td>2024-05-14 16:43:39.134732984</td>\n",
       "      <td>NaT</td>\n",
       "      <td>...</td>\n",
       "      <td>NaT</td>\n",
       "      <td>NaT</td>\n",
       "      <td>cifar</td>\n",
       "      <td>cifar.standalone.logs.json</td>\n",
       "      <td>0.024718</td>\n",
       "      <td>0.024715</td>\n",
       "      <td>NaN</td>\n",
       "      <td>NaN</td>\n",
       "      <td>NaN</td>\n",
       "      <td>NaN</td>\n",
       "    </tr>\n",
       "    <tr>\n",
       "      <th>14</th>\n",
       "      <td>14</td>\n",
       "      <td>2024-05-14 16:43:39.165958904</td>\n",
       "      <td>2024-05-14 16:43:39.200704120</td>\n",
       "      <td>2024-05-14 16:43:39.165958904</td>\n",
       "      <td>2024-05-14 16:43:39.200701021</td>\n",
       "      <td>14</td>\n",
       "      <td>0.965973</td>\n",
       "      <td>10.503229</td>\n",
       "      <td>2024-05-14 16:43:39.200701974</td>\n",
       "      <td>NaT</td>\n",
       "      <td>...</td>\n",
       "      <td>NaT</td>\n",
       "      <td>NaT</td>\n",
       "      <td>cifar</td>\n",
       "      <td>cifar.standalone.logs.json</td>\n",
       "      <td>0.034745</td>\n",
       "      <td>0.034742</td>\n",
       "      <td>NaN</td>\n",
       "      <td>NaN</td>\n",
       "      <td>NaN</td>\n",
       "      <td>NaN</td>\n",
       "    </tr>\n",
       "    <tr>\n",
       "      <th>15</th>\n",
       "      <td>15</td>\n",
       "      <td>2024-05-14 16:43:39.227107070</td>\n",
       "      <td>2024-05-14 16:43:39.268034004</td>\n",
       "      <td>2024-05-14 16:43:39.227107786</td>\n",
       "      <td>2024-05-14 16:43:39.268030904</td>\n",
       "      <td>15</td>\n",
       "      <td>0.064269</td>\n",
       "      <td>12.473325</td>\n",
       "      <td>2024-05-14 16:43:39.268032096</td>\n",
       "      <td>NaT</td>\n",
       "      <td>...</td>\n",
       "      <td>NaT</td>\n",
       "      <td>NaT</td>\n",
       "      <td>cifar</td>\n",
       "      <td>cifar.standalone.logs.json</td>\n",
       "      <td>0.040927</td>\n",
       "      <td>0.040923</td>\n",
       "      <td>NaN</td>\n",
       "      <td>NaN</td>\n",
       "      <td>NaN</td>\n",
       "      <td>NaN</td>\n",
       "    </tr>\n",
       "    <tr>\n",
       "      <th>16</th>\n",
       "      <td>16</td>\n",
       "      <td>2024-05-14 16:43:39.293906949</td>\n",
       "      <td>2024-05-14 16:43:39.325745843</td>\n",
       "      <td>2024-05-14 16:43:39.293907903</td>\n",
       "      <td>2024-05-14 16:43:39.325742982</td>\n",
       "      <td>16</td>\n",
       "      <td>0.806050</td>\n",
       "      <td>9.507632</td>\n",
       "      <td>2024-05-14 16:43:39.325742982</td>\n",
       "      <td>NaT</td>\n",
       "      <td>...</td>\n",
       "      <td>NaT</td>\n",
       "      <td>NaT</td>\n",
       "      <td>cifar</td>\n",
       "      <td>cifar.standalone.logs.json</td>\n",
       "      <td>0.031839</td>\n",
       "      <td>0.031835</td>\n",
       "      <td>NaN</td>\n",
       "      <td>NaN</td>\n",
       "      <td>NaN</td>\n",
       "      <td>NaN</td>\n",
       "    </tr>\n",
       "    <tr>\n",
       "      <th>17</th>\n",
       "      <td>17</td>\n",
       "      <td>2024-05-14 16:43:39.356894039</td>\n",
       "      <td>2024-05-14 16:43:39.390927814</td>\n",
       "      <td>2024-05-14 16:43:39.356894992</td>\n",
       "      <td>2024-05-14 16:43:39.390925191</td>\n",
       "      <td>17</td>\n",
       "      <td>0.092076</td>\n",
       "      <td>5.264617</td>\n",
       "      <td>2024-05-14 16:43:39.390926145</td>\n",
       "      <td>NaT</td>\n",
       "      <td>...</td>\n",
       "      <td>NaT</td>\n",
       "      <td>NaT</td>\n",
       "      <td>cifar</td>\n",
       "      <td>cifar.standalone.logs.json</td>\n",
       "      <td>0.034034</td>\n",
       "      <td>0.034030</td>\n",
       "      <td>NaN</td>\n",
       "      <td>NaN</td>\n",
       "      <td>NaN</td>\n",
       "      <td>NaN</td>\n",
       "    </tr>\n",
       "    <tr>\n",
       "      <th>18</th>\n",
       "      <td>18</td>\n",
       "      <td>2024-05-14 16:43:39.421017192</td>\n",
       "      <td>2024-05-14 16:43:39.462937139</td>\n",
       "      <td>2024-05-14 16:43:39.421017192</td>\n",
       "      <td>2024-05-14 16:43:39.462934040</td>\n",
       "      <td>18</td>\n",
       "      <td>5.450120</td>\n",
       "      <td>15.687357</td>\n",
       "      <td>2024-05-14 16:43:39.462934040</td>\n",
       "      <td>NaT</td>\n",
       "      <td>...</td>\n",
       "      <td>NaT</td>\n",
       "      <td>NaT</td>\n",
       "      <td>cifar</td>\n",
       "      <td>cifar.standalone.logs.json</td>\n",
       "      <td>0.041920</td>\n",
       "      <td>0.041917</td>\n",
       "      <td>NaN</td>\n",
       "      <td>NaN</td>\n",
       "      <td>NaN</td>\n",
       "      <td>NaN</td>\n",
       "    </tr>\n",
       "    <tr>\n",
       "      <th>19</th>\n",
       "      <td>19</td>\n",
       "      <td>2024-05-14 16:43:39.489933036</td>\n",
       "      <td>2024-05-14 16:43:39.519840024</td>\n",
       "      <td>2024-05-14 16:43:39.489933036</td>\n",
       "      <td>2024-05-14 16:43:39.519836925</td>\n",
       "      <td>19</td>\n",
       "      <td>0.833655</td>\n",
       "      <td>16.031986</td>\n",
       "      <td>2024-05-14 16:43:39.519836925</td>\n",
       "      <td>NaT</td>\n",
       "      <td>...</td>\n",
       "      <td>NaT</td>\n",
       "      <td>NaT</td>\n",
       "      <td>cifar</td>\n",
       "      <td>cifar.standalone.logs.json</td>\n",
       "      <td>0.029907</td>\n",
       "      <td>0.029904</td>\n",
       "      <td>NaN</td>\n",
       "      <td>NaN</td>\n",
       "      <td>NaN</td>\n",
       "      <td>NaN</td>\n",
       "    </tr>\n",
       "    <tr>\n",
       "      <th>20</th>\n",
       "      <td>20</td>\n",
       "      <td>2024-05-14 16:43:39.547918819</td>\n",
       "      <td>2024-05-14 16:43:43.314371131</td>\n",
       "      <td>2024-05-14 16:43:39.547918819</td>\n",
       "      <td>2024-05-14 16:43:39.592489980</td>\n",
       "      <td>20</td>\n",
       "      <td>1.637425</td>\n",
       "      <td>11.529918</td>\n",
       "      <td>2024-05-14 16:43:39.592489980</td>\n",
       "      <td>NaT</td>\n",
       "      <td>...</td>\n",
       "      <td>2024-05-14 16:43:39.595707916</td>\n",
       "      <td>2024-05-14 16:43:43.314371131</td>\n",
       "      <td>cifar</td>\n",
       "      <td>cifar.standalone.logs.json</td>\n",
       "      <td>3.766452</td>\n",
       "      <td>0.044571</td>\n",
       "      <td>NaN</td>\n",
       "      <td>3.173559</td>\n",
       "      <td>0.543956</td>\n",
       "      <td>3.718663</td>\n",
       "    </tr>\n",
       "    <tr>\n",
       "      <th>21</th>\n",
       "      <td>21</td>\n",
       "      <td>2024-05-14 16:43:43.343625091</td>\n",
       "      <td>2024-05-14 16:43:43.388016008</td>\n",
       "      <td>2024-05-14 16:43:43.343625091</td>\n",
       "      <td>2024-05-14 16:43:43.388013147</td>\n",
       "      <td>21</td>\n",
       "      <td>1.594828</td>\n",
       "      <td>5.851848</td>\n",
       "      <td>2024-05-14 16:43:43.388013147</td>\n",
       "      <td>NaT</td>\n",
       "      <td>...</td>\n",
       "      <td>NaT</td>\n",
       "      <td>NaT</td>\n",
       "      <td>cifar</td>\n",
       "      <td>cifar.standalone.logs.json</td>\n",
       "      <td>0.044391</td>\n",
       "      <td>0.044388</td>\n",
       "      <td>NaN</td>\n",
       "      <td>NaN</td>\n",
       "      <td>NaN</td>\n",
       "      <td>NaN</td>\n",
       "    </tr>\n",
       "    <tr>\n",
       "      <th>22</th>\n",
       "      <td>22</td>\n",
       "      <td>2024-05-14 16:43:43.413610958</td>\n",
       "      <td>2024-05-14 16:43:43.443322919</td>\n",
       "      <td>2024-05-14 16:43:43.413612150</td>\n",
       "      <td>2024-05-14 16:43:43.443320058</td>\n",
       "      <td>22</td>\n",
       "      <td>0.070433</td>\n",
       "      <td>2.293580</td>\n",
       "      <td>2024-05-14 16:43:43.443321012</td>\n",
       "      <td>NaT</td>\n",
       "      <td>...</td>\n",
       "      <td>NaT</td>\n",
       "      <td>NaT</td>\n",
       "      <td>cifar</td>\n",
       "      <td>cifar.standalone.logs.json</td>\n",
       "      <td>0.029712</td>\n",
       "      <td>0.029708</td>\n",
       "      <td>NaN</td>\n",
       "      <td>NaN</td>\n",
       "      <td>NaN</td>\n",
       "      <td>NaN</td>\n",
       "    </tr>\n",
       "    <tr>\n",
       "      <th>23</th>\n",
       "      <td>23</td>\n",
       "      <td>2024-05-14 16:43:43.468436025</td>\n",
       "      <td>2024-05-14 16:43:43.510827087</td>\n",
       "      <td>2024-05-14 16:43:43.468436025</td>\n",
       "      <td>2024-05-14 16:43:43.510823987</td>\n",
       "      <td>23</td>\n",
       "      <td>4.188529</td>\n",
       "      <td>15.538480</td>\n",
       "      <td>2024-05-14 16:43:43.510824941</td>\n",
       "      <td>NaT</td>\n",
       "      <td>...</td>\n",
       "      <td>NaT</td>\n",
       "      <td>NaT</td>\n",
       "      <td>cifar</td>\n",
       "      <td>cifar.standalone.logs.json</td>\n",
       "      <td>0.042391</td>\n",
       "      <td>0.042388</td>\n",
       "      <td>NaN</td>\n",
       "      <td>NaN</td>\n",
       "      <td>NaN</td>\n",
       "      <td>NaN</td>\n",
       "    </tr>\n",
       "    <tr>\n",
       "      <th>24</th>\n",
       "      <td>24</td>\n",
       "      <td>2024-05-14 16:43:43.539398931</td>\n",
       "      <td>2024-05-14 16:43:43.581454061</td>\n",
       "      <td>2024-05-14 16:43:43.539398931</td>\n",
       "      <td>2024-05-14 16:43:43.581450962</td>\n",
       "      <td>24</td>\n",
       "      <td>0.272049</td>\n",
       "      <td>15.757248</td>\n",
       "      <td>2024-05-14 16:43:43.581450962</td>\n",
       "      <td>NaT</td>\n",
       "      <td>...</td>\n",
       "      <td>NaT</td>\n",
       "      <td>NaT</td>\n",
       "      <td>cifar</td>\n",
       "      <td>cifar.standalone.logs.json</td>\n",
       "      <td>0.042055</td>\n",
       "      <td>0.042052</td>\n",
       "      <td>NaN</td>\n",
       "      <td>NaN</td>\n",
       "      <td>NaN</td>\n",
       "      <td>NaN</td>\n",
       "    </tr>\n",
       "    <tr>\n",
       "      <th>25</th>\n",
       "      <td>25</td>\n",
       "      <td>2024-05-14 16:43:43.609912179</td>\n",
       "      <td>2024-05-14 16:43:43.647676013</td>\n",
       "      <td>2024-05-14 16:43:43.609912179</td>\n",
       "      <td>2024-05-14 16:43:43.647673152</td>\n",
       "      <td>25</td>\n",
       "      <td>0.286933</td>\n",
       "      <td>11.759354</td>\n",
       "      <td>2024-05-14 16:43:43.647673868</td>\n",
       "      <td>NaT</td>\n",
       "      <td>...</td>\n",
       "      <td>NaT</td>\n",
       "      <td>NaT</td>\n",
       "      <td>cifar</td>\n",
       "      <td>cifar.standalone.logs.json</td>\n",
       "      <td>0.037764</td>\n",
       "      <td>0.037761</td>\n",
       "      <td>NaN</td>\n",
       "      <td>NaN</td>\n",
       "      <td>NaN</td>\n",
       "      <td>NaN</td>\n",
       "    </tr>\n",
       "    <tr>\n",
       "      <th>26</th>\n",
       "      <td>26</td>\n",
       "      <td>2024-05-14 16:43:43.672811054</td>\n",
       "      <td>2024-05-14 16:43:43.714542888</td>\n",
       "      <td>2024-05-14 16:43:43.672812007</td>\n",
       "      <td>2024-05-14 16:43:43.714538120</td>\n",
       "      <td>26</td>\n",
       "      <td>4.529379</td>\n",
       "      <td>10.406114</td>\n",
       "      <td>2024-05-14 16:43:43.714539073</td>\n",
       "      <td>NaT</td>\n",
       "      <td>...</td>\n",
       "      <td>NaT</td>\n",
       "      <td>NaT</td>\n",
       "      <td>cifar</td>\n",
       "      <td>cifar.standalone.logs.json</td>\n",
       "      <td>0.041732</td>\n",
       "      <td>0.041726</td>\n",
       "      <td>NaN</td>\n",
       "      <td>NaN</td>\n",
       "      <td>NaN</td>\n",
       "      <td>NaN</td>\n",
       "    </tr>\n",
       "    <tr>\n",
       "      <th>27</th>\n",
       "      <td>27</td>\n",
       "      <td>2024-05-14 16:43:43.740483068</td>\n",
       "      <td>2024-05-14 16:43:43.778578065</td>\n",
       "      <td>2024-05-14 16:43:43.740484022</td>\n",
       "      <td>2024-05-14 16:43:43.778574012</td>\n",
       "      <td>27</td>\n",
       "      <td>1.664653</td>\n",
       "      <td>12.148725</td>\n",
       "      <td>2024-05-14 16:43:43.778574012</td>\n",
       "      <td>NaT</td>\n",
       "      <td>...</td>\n",
       "      <td>NaT</td>\n",
       "      <td>NaT</td>\n",
       "      <td>cifar</td>\n",
       "      <td>cifar.standalone.logs.json</td>\n",
       "      <td>0.038095</td>\n",
       "      <td>0.038090</td>\n",
       "      <td>NaN</td>\n",
       "      <td>NaN</td>\n",
       "      <td>NaN</td>\n",
       "      <td>NaN</td>\n",
       "    </tr>\n",
       "    <tr>\n",
       "      <th>28</th>\n",
       "      <td>28</td>\n",
       "      <td>2024-05-14 16:43:43.804964803</td>\n",
       "      <td>2024-05-14 16:43:43.839258932</td>\n",
       "      <td>2024-05-14 16:43:43.804965994</td>\n",
       "      <td>2024-05-14 16:43:43.839256071</td>\n",
       "      <td>28</td>\n",
       "      <td>1.632839</td>\n",
       "      <td>7.683327</td>\n",
       "      <td>2024-05-14 16:43:43.839256071</td>\n",
       "      <td>NaT</td>\n",
       "      <td>...</td>\n",
       "      <td>NaT</td>\n",
       "      <td>NaT</td>\n",
       "      <td>cifar</td>\n",
       "      <td>cifar.standalone.logs.json</td>\n",
       "      <td>0.034294</td>\n",
       "      <td>0.034290</td>\n",
       "      <td>NaN</td>\n",
       "      <td>NaN</td>\n",
       "      <td>NaN</td>\n",
       "      <td>NaN</td>\n",
       "    </tr>\n",
       "    <tr>\n",
       "      <th>29</th>\n",
       "      <td>29</td>\n",
       "      <td>2024-05-14 16:43:43.867331050</td>\n",
       "      <td>2024-05-14 16:43:43.907278799</td>\n",
       "      <td>2024-05-14 16:43:43.867332242</td>\n",
       "      <td>2024-05-14 16:43:43.907276176</td>\n",
       "      <td>29</td>\n",
       "      <td>7.004591</td>\n",
       "      <td>11.189351</td>\n",
       "      <td>2024-05-14 16:43:43.907277130</td>\n",
       "      <td>NaT</td>\n",
       "      <td>...</td>\n",
       "      <td>NaT</td>\n",
       "      <td>NaT</td>\n",
       "      <td>cifar</td>\n",
       "      <td>cifar.standalone.logs.json</td>\n",
       "      <td>0.039948</td>\n",
       "      <td>0.039944</td>\n",
       "      <td>NaN</td>\n",
       "      <td>NaN</td>\n",
       "      <td>NaN</td>\n",
       "      <td>NaN</td>\n",
       "    </tr>\n",
       "    <tr>\n",
       "      <th>30</th>\n",
       "      <td>30</td>\n",
       "      <td>2024-05-14 16:43:43.937625192</td>\n",
       "      <td>2024-05-14 16:43:47.766296171</td>\n",
       "      <td>2024-05-14 16:43:43.937625192</td>\n",
       "      <td>2024-05-14 16:43:43.974592946</td>\n",
       "      <td>30</td>\n",
       "      <td>3.868644</td>\n",
       "      <td>8.228164</td>\n",
       "      <td>2024-05-14 16:43:43.974592946</td>\n",
       "      <td>NaT</td>\n",
       "      <td>...</td>\n",
       "      <td>2024-05-14 16:43:43.977330945</td>\n",
       "      <td>2024-05-14 16:43:47.766296171</td>\n",
       "      <td>cifar</td>\n",
       "      <td>cifar.standalone.logs.json</td>\n",
       "      <td>3.828671</td>\n",
       "      <td>0.036968</td>\n",
       "      <td>NaN</td>\n",
       "      <td>3.248129</td>\n",
       "      <td>0.539689</td>\n",
       "      <td>3.788965</td>\n",
       "    </tr>\n",
       "    <tr>\n",
       "      <th>31</th>\n",
       "      <td>31</td>\n",
       "      <td>2024-05-14 16:43:47.807055972</td>\n",
       "      <td>2024-05-14 16:43:47.845448039</td>\n",
       "      <td>2024-05-14 16:43:47.807055972</td>\n",
       "      <td>2024-05-14 16:43:47.845445894</td>\n",
       "      <td>31</td>\n",
       "      <td>5.029612</td>\n",
       "      <td>16.299559</td>\n",
       "      <td>2024-05-14 16:43:47.845445894</td>\n",
       "      <td>NaT</td>\n",
       "      <td>...</td>\n",
       "      <td>NaT</td>\n",
       "      <td>NaT</td>\n",
       "      <td>cifar</td>\n",
       "      <td>cifar.standalone.logs.json</td>\n",
       "      <td>0.038392</td>\n",
       "      <td>0.038390</td>\n",
       "      <td>NaN</td>\n",
       "      <td>NaN</td>\n",
       "      <td>NaN</td>\n",
       "      <td>NaN</td>\n",
       "    </tr>\n",
       "    <tr>\n",
       "      <th>32</th>\n",
       "      <td>32</td>\n",
       "      <td>2024-05-14 16:43:47.879214071</td>\n",
       "      <td>2024-05-14 16:43:47.912023090</td>\n",
       "      <td>2024-05-14 16:43:47.879214786</td>\n",
       "      <td>2024-05-14 16:43:47.912020944</td>\n",
       "      <td>32</td>\n",
       "      <td>1.440600</td>\n",
       "      <td>11.338605</td>\n",
       "      <td>2024-05-14 16:43:47.912020944</td>\n",
       "      <td>NaT</td>\n",
       "      <td>...</td>\n",
       "      <td>NaT</td>\n",
       "      <td>NaT</td>\n",
       "      <td>cifar</td>\n",
       "      <td>cifar.standalone.logs.json</td>\n",
       "      <td>0.032809</td>\n",
       "      <td>0.032806</td>\n",
       "      <td>NaN</td>\n",
       "      <td>NaN</td>\n",
       "      <td>NaN</td>\n",
       "      <td>NaN</td>\n",
       "    </tr>\n",
       "    <tr>\n",
       "      <th>33</th>\n",
       "      <td>33</td>\n",
       "      <td>2024-05-14 16:43:47.944667839</td>\n",
       "      <td>2024-05-14 16:43:47.979584001</td>\n",
       "      <td>2024-05-14 16:43:47.944669031</td>\n",
       "      <td>2024-05-14 16:43:47.979582094</td>\n",
       "      <td>33</td>\n",
       "      <td>17.532017</td>\n",
       "      <td>3.319283</td>\n",
       "      <td>2024-05-14 16:43:47.979582094</td>\n",
       "      <td>NaT</td>\n",
       "      <td>...</td>\n",
       "      <td>NaT</td>\n",
       "      <td>NaT</td>\n",
       "      <td>cifar</td>\n",
       "      <td>cifar.standalone.logs.json</td>\n",
       "      <td>0.034916</td>\n",
       "      <td>0.034913</td>\n",
       "      <td>NaN</td>\n",
       "      <td>NaN</td>\n",
       "      <td>NaN</td>\n",
       "      <td>NaN</td>\n",
       "    </tr>\n",
       "    <tr>\n",
       "      <th>34</th>\n",
       "      <td>34</td>\n",
       "      <td>2024-05-14 16:43:48.019224189</td>\n",
       "      <td>2024-05-14 16:43:48.067418836</td>\n",
       "      <td>2024-05-14 16:43:48.019224189</td>\n",
       "      <td>2024-05-14 16:43:48.067416213</td>\n",
       "      <td>34</td>\n",
       "      <td>3.517203</td>\n",
       "      <td>5.431058</td>\n",
       "      <td>2024-05-14 16:43:48.067416213</td>\n",
       "      <td>NaT</td>\n",
       "      <td>...</td>\n",
       "      <td>NaT</td>\n",
       "      <td>NaT</td>\n",
       "      <td>cifar</td>\n",
       "      <td>cifar.standalone.logs.json</td>\n",
       "      <td>0.048195</td>\n",
       "      <td>0.048192</td>\n",
       "      <td>NaN</td>\n",
       "      <td>NaN</td>\n",
       "      <td>NaN</td>\n",
       "      <td>NaN</td>\n",
       "    </tr>\n",
       "    <tr>\n",
       "      <th>35</th>\n",
       "      <td>35</td>\n",
       "      <td>2024-05-14 16:43:48.098851942</td>\n",
       "      <td>2024-05-14 16:43:48.127546810</td>\n",
       "      <td>2024-05-14 16:43:48.098851942</td>\n",
       "      <td>2024-05-14 16:43:48.127545141</td>\n",
       "      <td>35</td>\n",
       "      <td>2.176227</td>\n",
       "      <td>7.182903</td>\n",
       "      <td>2024-05-14 16:43:48.127545141</td>\n",
       "      <td>NaT</td>\n",
       "      <td>...</td>\n",
       "      <td>NaT</td>\n",
       "      <td>NaT</td>\n",
       "      <td>cifar</td>\n",
       "      <td>cifar.standalone.logs.json</td>\n",
       "      <td>0.028695</td>\n",
       "      <td>0.028693</td>\n",
       "      <td>NaN</td>\n",
       "      <td>NaN</td>\n",
       "      <td>NaN</td>\n",
       "      <td>NaN</td>\n",
       "    </tr>\n",
       "    <tr>\n",
       "      <th>36</th>\n",
       "      <td>36</td>\n",
       "      <td>2024-05-14 16:43:48.154637121</td>\n",
       "      <td>2024-05-14 16:43:48.194741033</td>\n",
       "      <td>2024-05-14 16:43:48.154637121</td>\n",
       "      <td>2024-05-14 16:43:48.194738887</td>\n",
       "      <td>36</td>\n",
       "      <td>1.457336</td>\n",
       "      <td>5.004901</td>\n",
       "      <td>2024-05-14 16:43:48.194740079</td>\n",
       "      <td>NaT</td>\n",
       "      <td>...</td>\n",
       "      <td>NaT</td>\n",
       "      <td>NaT</td>\n",
       "      <td>cifar</td>\n",
       "      <td>cifar.standalone.logs.json</td>\n",
       "      <td>0.040104</td>\n",
       "      <td>0.040102</td>\n",
       "      <td>NaN</td>\n",
       "      <td>NaN</td>\n",
       "      <td>NaN</td>\n",
       "      <td>NaN</td>\n",
       "    </tr>\n",
       "    <tr>\n",
       "      <th>37</th>\n",
       "      <td>37</td>\n",
       "      <td>2024-05-14 16:43:48.225588106</td>\n",
       "      <td>2024-05-14 16:43:48.261592172</td>\n",
       "      <td>2024-05-14 16:43:48.225589059</td>\n",
       "      <td>2024-05-14 16:43:48.261590026</td>\n",
       "      <td>37</td>\n",
       "      <td>2.045257</td>\n",
       "      <td>1.948482</td>\n",
       "      <td>2024-05-14 16:43:48.261590026</td>\n",
       "      <td>NaT</td>\n",
       "      <td>...</td>\n",
       "      <td>NaT</td>\n",
       "      <td>NaT</td>\n",
       "      <td>cifar</td>\n",
       "      <td>cifar.standalone.logs.json</td>\n",
       "      <td>0.036004</td>\n",
       "      <td>0.036001</td>\n",
       "      <td>NaN</td>\n",
       "      <td>NaN</td>\n",
       "      <td>NaN</td>\n",
       "      <td>NaN</td>\n",
       "    </tr>\n",
       "    <tr>\n",
       "      <th>38</th>\n",
       "      <td>38</td>\n",
       "      <td>2024-05-14 16:43:48.295291923</td>\n",
       "      <td>2024-05-14 16:43:48.333699010</td>\n",
       "      <td>2024-05-14 16:43:48.295292877</td>\n",
       "      <td>2024-05-14 16:43:48.333696149</td>\n",
       "      <td>38</td>\n",
       "      <td>2.580608</td>\n",
       "      <td>2.800583</td>\n",
       "      <td>2024-05-14 16:43:48.333696149</td>\n",
       "      <td>NaT</td>\n",
       "      <td>...</td>\n",
       "      <td>NaT</td>\n",
       "      <td>NaT</td>\n",
       "      <td>cifar</td>\n",
       "      <td>cifar.standalone.logs.json</td>\n",
       "      <td>0.038407</td>\n",
       "      <td>0.038403</td>\n",
       "      <td>NaN</td>\n",
       "      <td>NaN</td>\n",
       "      <td>NaN</td>\n",
       "      <td>NaN</td>\n",
       "    </tr>\n",
       "  </tbody>\n",
       "</table>\n",
       "<p>39 rows × 26 columns</p>\n",
       "</div>"
      ],
      "text/plain": [
       "    epoch                   start.epoch                     end.epoch  \\\n",
       "0       0 2024-05-14 16:43:29.834113143 2024-05-14 16:43:34.106158040   \n",
       "1       1 2024-05-14 16:43:34.141160987 2024-05-14 16:43:34.182240985   \n",
       "2       2 2024-05-14 16:43:34.213546060 2024-05-14 16:43:34.245211862   \n",
       "3       3 2024-05-14 16:43:34.282121919 2024-05-14 16:43:34.328813098   \n",
       "4       4 2024-05-14 16:43:34.359533094 2024-05-14 16:43:34.397956155   \n",
       "5       5 2024-05-14 16:43:34.426778816 2024-05-14 16:43:34.457152151   \n",
       "6       6 2024-05-14 16:43:34.486900114 2024-05-14 16:43:34.520264886   \n",
       "7       7 2024-05-14 16:43:34.553753160 2024-05-14 16:43:34.599918865   \n",
       "8       8 2024-05-14 16:43:34.630193971 2024-05-14 16:43:34.666256927   \n",
       "9       9 2024-05-14 16:43:34.698748849 2024-05-14 16:43:34.732837938   \n",
       "10     10 2024-05-14 16:43:34.762201093 2024-05-14 16:43:38.952338956   \n",
       "11     11 2024-05-14 16:43:38.982988141 2024-05-14 16:43:39.023381017   \n",
       "12     12 2024-05-14 16:43:39.054857992 2024-05-14 16:43:39.078220151   \n",
       "13     13 2024-05-14 16:43:39.110018037 2024-05-14 16:43:39.134735845   \n",
       "14     14 2024-05-14 16:43:39.165958904 2024-05-14 16:43:39.200704120   \n",
       "15     15 2024-05-14 16:43:39.227107070 2024-05-14 16:43:39.268034004   \n",
       "16     16 2024-05-14 16:43:39.293906949 2024-05-14 16:43:39.325745843   \n",
       "17     17 2024-05-14 16:43:39.356894039 2024-05-14 16:43:39.390927814   \n",
       "18     18 2024-05-14 16:43:39.421017192 2024-05-14 16:43:39.462937139   \n",
       "19     19 2024-05-14 16:43:39.489933036 2024-05-14 16:43:39.519840024   \n",
       "20     20 2024-05-14 16:43:39.547918819 2024-05-14 16:43:43.314371131   \n",
       "21     21 2024-05-14 16:43:43.343625091 2024-05-14 16:43:43.388016008   \n",
       "22     22 2024-05-14 16:43:43.413610958 2024-05-14 16:43:43.443322919   \n",
       "23     23 2024-05-14 16:43:43.468436025 2024-05-14 16:43:43.510827087   \n",
       "24     24 2024-05-14 16:43:43.539398931 2024-05-14 16:43:43.581454061   \n",
       "25     25 2024-05-14 16:43:43.609912179 2024-05-14 16:43:43.647676013   \n",
       "26     26 2024-05-14 16:43:43.672811054 2024-05-14 16:43:43.714542888   \n",
       "27     27 2024-05-14 16:43:43.740483068 2024-05-14 16:43:43.778578065   \n",
       "28     28 2024-05-14 16:43:43.804964803 2024-05-14 16:43:43.839258932   \n",
       "29     29 2024-05-14 16:43:43.867331050 2024-05-14 16:43:43.907278799   \n",
       "30     30 2024-05-14 16:43:43.937625192 2024-05-14 16:43:47.766296171   \n",
       "31     31 2024-05-14 16:43:47.807055972 2024-05-14 16:43:47.845448039   \n",
       "32     32 2024-05-14 16:43:47.879214071 2024-05-14 16:43:47.912023090   \n",
       "33     33 2024-05-14 16:43:47.944667839 2024-05-14 16:43:47.979584001   \n",
       "34     34 2024-05-14 16:43:48.019224189 2024-05-14 16:43:48.067418836   \n",
       "35     35 2024-05-14 16:43:48.098851942 2024-05-14 16:43:48.127546810   \n",
       "36     36 2024-05-14 16:43:48.154637121 2024-05-14 16:43:48.194741033   \n",
       "37     37 2024-05-14 16:43:48.225588106 2024-05-14 16:43:48.261592172   \n",
       "38     38 2024-05-14 16:43:48.295291923 2024-05-14 16:43:48.333699010   \n",
       "\n",
       "         start.epoch_calculation         end.epoch_calculation  absolut_step  \\\n",
       "0  2024-05-14 16:43:29.834114097 2024-05-14 16:43:30.294969104             0   \n",
       "1  2024-05-14 16:43:34.141160987 2024-05-14 16:43:34.182239078             1   \n",
       "2  2024-05-14 16:43:34.213546060 2024-05-14 16:43:34.245209955             2   \n",
       "3  2024-05-14 16:43:34.282123111 2024-05-14 16:43:34.328810953             3   \n",
       "4  2024-05-14 16:43:34.359533094 2024-05-14 16:43:34.397954009             4   \n",
       "5  2024-05-14 16:43:34.426780008 2024-05-14 16:43:34.457150005             5   \n",
       "6  2024-05-14 16:43:34.486900114 2024-05-14 16:43:34.520262979             6   \n",
       "7  2024-05-14 16:43:34.553753160 2024-05-14 16:43:34.599916004             7   \n",
       "8  2024-05-14 16:43:34.630193971 2024-05-14 16:43:34.666254781             8   \n",
       "9  2024-05-14 16:43:34.698750041 2024-05-14 16:43:34.732835077             9   \n",
       "10 2024-05-14 16:43:34.762201808 2024-05-14 16:43:34.805048011            10   \n",
       "11 2024-05-14 16:43:38.982988141 2024-05-14 16:43:39.023377918            11   \n",
       "12 2024-05-14 16:43:39.054857992 2024-05-14 16:43:39.078217052            12   \n",
       "13 2024-05-14 16:43:39.110018037 2024-05-14 16:43:39.134732984            13   \n",
       "14 2024-05-14 16:43:39.165958904 2024-05-14 16:43:39.200701021            14   \n",
       "15 2024-05-14 16:43:39.227107786 2024-05-14 16:43:39.268030904            15   \n",
       "16 2024-05-14 16:43:39.293907903 2024-05-14 16:43:39.325742982            16   \n",
       "17 2024-05-14 16:43:39.356894992 2024-05-14 16:43:39.390925191            17   \n",
       "18 2024-05-14 16:43:39.421017192 2024-05-14 16:43:39.462934040            18   \n",
       "19 2024-05-14 16:43:39.489933036 2024-05-14 16:43:39.519836925            19   \n",
       "20 2024-05-14 16:43:39.547918819 2024-05-14 16:43:39.592489980            20   \n",
       "21 2024-05-14 16:43:43.343625091 2024-05-14 16:43:43.388013147            21   \n",
       "22 2024-05-14 16:43:43.413612150 2024-05-14 16:43:43.443320058            22   \n",
       "23 2024-05-14 16:43:43.468436025 2024-05-14 16:43:43.510823987            23   \n",
       "24 2024-05-14 16:43:43.539398931 2024-05-14 16:43:43.581450962            24   \n",
       "25 2024-05-14 16:43:43.609912179 2024-05-14 16:43:43.647673152            25   \n",
       "26 2024-05-14 16:43:43.672812007 2024-05-14 16:43:43.714538120            26   \n",
       "27 2024-05-14 16:43:43.740484022 2024-05-14 16:43:43.778574012            27   \n",
       "28 2024-05-14 16:43:43.804965994 2024-05-14 16:43:43.839256071            28   \n",
       "29 2024-05-14 16:43:43.867332242 2024-05-14 16:43:43.907276176            29   \n",
       "30 2024-05-14 16:43:43.937625192 2024-05-14 16:43:43.974592946            30   \n",
       "31 2024-05-14 16:43:47.807055972 2024-05-14 16:43:47.845445894            31   \n",
       "32 2024-05-14 16:43:47.879214786 2024-05-14 16:43:47.912020944            32   \n",
       "33 2024-05-14 16:43:47.944669031 2024-05-14 16:43:47.979582094            33   \n",
       "34 2024-05-14 16:43:48.019224189 2024-05-14 16:43:48.067416213            34   \n",
       "35 2024-05-14 16:43:48.098851942 2024-05-14 16:43:48.127545141            35   \n",
       "36 2024-05-14 16:43:48.154637121 2024-05-14 16:43:48.194738887            36   \n",
       "37 2024-05-14 16:43:48.225589059 2024-05-14 16:43:48.261590026            37   \n",
       "38 2024-05-14 16:43:48.295292877 2024-05-14 16:43:48.333696149            38   \n",
       "\n",
       "    mean_d_loss  mean_g_loss                   start.train end.train  ...  \\\n",
       "0      1.451478    20.996281 2024-05-14 16:43:30.294969104       NaT  ...   \n",
       "1      6.401400    25.901831 2024-05-14 16:43:34.182239078       NaT  ...   \n",
       "2      2.631938    19.150515 2024-05-14 16:43:34.245210908       NaT  ...   \n",
       "3      0.904639    13.880597 2024-05-14 16:43:34.328810953       NaT  ...   \n",
       "4      0.113801     9.887267 2024-05-14 16:43:34.397955202       NaT  ...   \n",
       "5     22.038605    16.248434 2024-05-14 16:43:34.457150958       NaT  ...   \n",
       "6      0.621897    15.243013 2024-05-14 16:43:34.520262979       NaT  ...   \n",
       "7      0.541735     5.127599 2024-05-14 16:43:34.599917196       NaT  ...   \n",
       "8     49.022472     0.223740 2024-05-14 16:43:34.666254781       NaT  ...   \n",
       "9      6.181591    12.467178 2024-05-14 16:43:34.732835792       NaT  ...   \n",
       "10     3.256512    12.761542 2024-05-14 16:43:34.805049203       NaT  ...   \n",
       "11     1.955048     9.771277 2024-05-14 16:43:39.023377918       NaT  ...   \n",
       "12     0.012509     8.149246 2024-05-14 16:43:39.078217052       NaT  ...   \n",
       "13     0.907100     3.708555 2024-05-14 16:43:39.134732984       NaT  ...   \n",
       "14     0.965973    10.503229 2024-05-14 16:43:39.200701974       NaT  ...   \n",
       "15     0.064269    12.473325 2024-05-14 16:43:39.268032096       NaT  ...   \n",
       "16     0.806050     9.507632 2024-05-14 16:43:39.325742982       NaT  ...   \n",
       "17     0.092076     5.264617 2024-05-14 16:43:39.390926145       NaT  ...   \n",
       "18     5.450120    15.687357 2024-05-14 16:43:39.462934040       NaT  ...   \n",
       "19     0.833655    16.031986 2024-05-14 16:43:39.519836925       NaT  ...   \n",
       "20     1.637425    11.529918 2024-05-14 16:43:39.592489980       NaT  ...   \n",
       "21     1.594828     5.851848 2024-05-14 16:43:43.388013147       NaT  ...   \n",
       "22     0.070433     2.293580 2024-05-14 16:43:43.443321012       NaT  ...   \n",
       "23     4.188529    15.538480 2024-05-14 16:43:43.510824941       NaT  ...   \n",
       "24     0.272049    15.757248 2024-05-14 16:43:43.581450962       NaT  ...   \n",
       "25     0.286933    11.759354 2024-05-14 16:43:43.647673868       NaT  ...   \n",
       "26     4.529379    10.406114 2024-05-14 16:43:43.714539073       NaT  ...   \n",
       "27     1.664653    12.148725 2024-05-14 16:43:43.778574012       NaT  ...   \n",
       "28     1.632839     7.683327 2024-05-14 16:43:43.839256071       NaT  ...   \n",
       "29     7.004591    11.189351 2024-05-14 16:43:43.907277130       NaT  ...   \n",
       "30     3.868644     8.228164 2024-05-14 16:43:43.974592946       NaT  ...   \n",
       "31     5.029612    16.299559 2024-05-14 16:43:47.845445894       NaT  ...   \n",
       "32     1.440600    11.338605 2024-05-14 16:43:47.912020944       NaT  ...   \n",
       "33    17.532017     3.319283 2024-05-14 16:43:47.979582094       NaT  ...   \n",
       "34     3.517203     5.431058 2024-05-14 16:43:48.067416213       NaT  ...   \n",
       "35     2.176227     7.182903 2024-05-14 16:43:48.127545141       NaT  ...   \n",
       "36     1.457336     5.004901 2024-05-14 16:43:48.194740079       NaT  ...   \n",
       "37     2.045257     1.948482 2024-05-14 16:43:48.261590026       NaT  ...   \n",
       "38     2.580608     2.800583 2024-05-14 16:43:48.333696149       NaT  ...   \n",
       "\n",
       "                   start.logging                   end.logging dataset  \\\n",
       "0  2024-05-14 16:43:30.314437889 2024-05-14 16:43:34.106157087   cifar   \n",
       "1                            NaT                           NaT   cifar   \n",
       "2                            NaT                           NaT   cifar   \n",
       "3                            NaT                           NaT   cifar   \n",
       "4                            NaT                           NaT   cifar   \n",
       "5                            NaT                           NaT   cifar   \n",
       "6                            NaT                           NaT   cifar   \n",
       "7                            NaT                           NaT   cifar   \n",
       "8                            NaT                           NaT   cifar   \n",
       "9                            NaT                           NaT   cifar   \n",
       "10 2024-05-14 16:43:34.809028886 2024-05-14 16:43:38.952338956   cifar   \n",
       "11                           NaT                           NaT   cifar   \n",
       "12                           NaT                           NaT   cifar   \n",
       "13                           NaT                           NaT   cifar   \n",
       "14                           NaT                           NaT   cifar   \n",
       "15                           NaT                           NaT   cifar   \n",
       "16                           NaT                           NaT   cifar   \n",
       "17                           NaT                           NaT   cifar   \n",
       "18                           NaT                           NaT   cifar   \n",
       "19                           NaT                           NaT   cifar   \n",
       "20 2024-05-14 16:43:39.595707916 2024-05-14 16:43:43.314371131   cifar   \n",
       "21                           NaT                           NaT   cifar   \n",
       "22                           NaT                           NaT   cifar   \n",
       "23                           NaT                           NaT   cifar   \n",
       "24                           NaT                           NaT   cifar   \n",
       "25                           NaT                           NaT   cifar   \n",
       "26                           NaT                           NaT   cifar   \n",
       "27                           NaT                           NaT   cifar   \n",
       "28                           NaT                           NaT   cifar   \n",
       "29                           NaT                           NaT   cifar   \n",
       "30 2024-05-14 16:43:43.977330945 2024-05-14 16:43:47.766296171   cifar   \n",
       "31                           NaT                           NaT   cifar   \n",
       "32                           NaT                           NaT   cifar   \n",
       "33                           NaT                           NaT   cifar   \n",
       "34                           NaT                           NaT   cifar   \n",
       "35                           NaT                           NaT   cifar   \n",
       "36                           NaT                           NaT   cifar   \n",
       "37                           NaT                           NaT   cifar   \n",
       "38                           NaT                           NaT   cifar   \n",
       "\n",
       "                           log  time_elapsed.epoch  \\\n",
       "0   cifar.standalone.logs.json            4.272045   \n",
       "1   cifar.standalone.logs.json            0.041080   \n",
       "2   cifar.standalone.logs.json            0.031666   \n",
       "3   cifar.standalone.logs.json            0.046691   \n",
       "4   cifar.standalone.logs.json            0.038423   \n",
       "5   cifar.standalone.logs.json            0.030373   \n",
       "6   cifar.standalone.logs.json            0.033365   \n",
       "7   cifar.standalone.logs.json            0.046166   \n",
       "8   cifar.standalone.logs.json            0.036063   \n",
       "9   cifar.standalone.logs.json            0.034089   \n",
       "10  cifar.standalone.logs.json            4.190138   \n",
       "11  cifar.standalone.logs.json            0.040393   \n",
       "12  cifar.standalone.logs.json            0.023362   \n",
       "13  cifar.standalone.logs.json            0.024718   \n",
       "14  cifar.standalone.logs.json            0.034745   \n",
       "15  cifar.standalone.logs.json            0.040927   \n",
       "16  cifar.standalone.logs.json            0.031839   \n",
       "17  cifar.standalone.logs.json            0.034034   \n",
       "18  cifar.standalone.logs.json            0.041920   \n",
       "19  cifar.standalone.logs.json            0.029907   \n",
       "20  cifar.standalone.logs.json            3.766452   \n",
       "21  cifar.standalone.logs.json            0.044391   \n",
       "22  cifar.standalone.logs.json            0.029712   \n",
       "23  cifar.standalone.logs.json            0.042391   \n",
       "24  cifar.standalone.logs.json            0.042055   \n",
       "25  cifar.standalone.logs.json            0.037764   \n",
       "26  cifar.standalone.logs.json            0.041732   \n",
       "27  cifar.standalone.logs.json            0.038095   \n",
       "28  cifar.standalone.logs.json            0.034294   \n",
       "29  cifar.standalone.logs.json            0.039948   \n",
       "30  cifar.standalone.logs.json            3.828671   \n",
       "31  cifar.standalone.logs.json            0.038392   \n",
       "32  cifar.standalone.logs.json            0.032809   \n",
       "33  cifar.standalone.logs.json            0.034916   \n",
       "34  cifar.standalone.logs.json            0.048195   \n",
       "35  cifar.standalone.logs.json            0.028695   \n",
       "36  cifar.standalone.logs.json            0.040104   \n",
       "37  cifar.standalone.logs.json            0.036004   \n",
       "38  cifar.standalone.logs.json            0.038407   \n",
       "\n",
       "    time_elapsed.epoch_calculation time_elapsed.train time_elapsed.fid  \\\n",
       "0                         0.460855                NaN         3.247869   \n",
       "1                         0.041078                NaN              NaN   \n",
       "2                         0.031664                NaN              NaN   \n",
       "3                         0.046688                NaN              NaN   \n",
       "4                         0.038421                NaN              NaN   \n",
       "5                         0.030370                NaN              NaN   \n",
       "6                         0.033363                NaN              NaN   \n",
       "7                         0.046163                NaN              NaN   \n",
       "8                         0.036061                NaN              NaN   \n",
       "9                         0.034085                NaN              NaN   \n",
       "10                        0.042846                NaN         3.593669   \n",
       "11                        0.040390                NaN              NaN   \n",
       "12                        0.023359                NaN              NaN   \n",
       "13                        0.024715                NaN              NaN   \n",
       "14                        0.034742                NaN              NaN   \n",
       "15                        0.040923                NaN              NaN   \n",
       "16                        0.031835                NaN              NaN   \n",
       "17                        0.034030                NaN              NaN   \n",
       "18                        0.041917                NaN              NaN   \n",
       "19                        0.029904                NaN              NaN   \n",
       "20                        0.044571                NaN         3.173559   \n",
       "21                        0.044388                NaN              NaN   \n",
       "22                        0.029708                NaN              NaN   \n",
       "23                        0.042388                NaN              NaN   \n",
       "24                        0.042052                NaN              NaN   \n",
       "25                        0.037761                NaN              NaN   \n",
       "26                        0.041726                NaN              NaN   \n",
       "27                        0.038090                NaN              NaN   \n",
       "28                        0.034290                NaN              NaN   \n",
       "29                        0.039944                NaN              NaN   \n",
       "30                        0.036968                NaN         3.248129   \n",
       "31                        0.038390                NaN              NaN   \n",
       "32                        0.032806                NaN              NaN   \n",
       "33                        0.034913                NaN              NaN   \n",
       "34                        0.048192                NaN              NaN   \n",
       "35                        0.028693                NaN              NaN   \n",
       "36                        0.040102                NaN              NaN   \n",
       "37                        0.036001                NaN              NaN   \n",
       "38                        0.038403                NaN              NaN   \n",
       "\n",
       "   time_elapsed.is time_elapsed.logging  \n",
       "0         0.535638             3.791719  \n",
       "1              NaN                  NaN  \n",
       "2              NaN                  NaN  \n",
       "3              NaN                  NaN  \n",
       "4              NaN                  NaN  \n",
       "5              NaN                  NaN  \n",
       "6              NaN                  NaN  \n",
       "7              NaN                  NaN  \n",
       "8              NaN                  NaN  \n",
       "9              NaN                  NaN  \n",
       "10        0.548586             4.143310  \n",
       "11             NaN                  NaN  \n",
       "12             NaN                  NaN  \n",
       "13             NaN                  NaN  \n",
       "14             NaN                  NaN  \n",
       "15             NaN                  NaN  \n",
       "16             NaN                  NaN  \n",
       "17             NaN                  NaN  \n",
       "18             NaN                  NaN  \n",
       "19             NaN                  NaN  \n",
       "20        0.543956             3.718663  \n",
       "21             NaN                  NaN  \n",
       "22             NaN                  NaN  \n",
       "23             NaN                  NaN  \n",
       "24             NaN                  NaN  \n",
       "25             NaN                  NaN  \n",
       "26             NaN                  NaN  \n",
       "27             NaN                  NaN  \n",
       "28             NaN                  NaN  \n",
       "29             NaN                  NaN  \n",
       "30        0.539689             3.788965  \n",
       "31             NaN                  NaN  \n",
       "32             NaN                  NaN  \n",
       "33             NaN                  NaN  \n",
       "34             NaN                  NaN  \n",
       "35             NaN                  NaN  \n",
       "36             NaN                  NaN  \n",
       "37             NaN                  NaN  \n",
       "38             NaN                  NaN  \n",
       "\n",
       "[39 rows x 26 columns]"
      ]
     },
     "metadata": {},
     "output_type": "display_data"
    },
    {
     "data": {
      "text/html": [
       "<div>\n",
       "<style scoped>\n",
       "    .dataframe tbody tr th:only-of-type {\n",
       "        vertical-align: middle;\n",
       "    }\n",
       "\n",
       "    .dataframe tbody tr th {\n",
       "        vertical-align: top;\n",
       "    }\n",
       "\n",
       "    .dataframe thead th {\n",
       "        text-align: right;\n",
       "    }\n",
       "</style>\n",
       "<table border=\"1\" class=\"dataframe\">\n",
       "  <thead>\n",
       "    <tr style=\"text-align: right;\">\n",
       "      <th></th>\n",
       "      <th>start</th>\n",
       "      <th>end</th>\n",
       "      <th>event</th>\n",
       "      <th>time_elapsed</th>\n",
       "      <th>name</th>\n",
       "      <th>legend</th>\n",
       "      <th>index</th>\n",
       "    </tr>\n",
       "  </thead>\n",
       "  <tbody>\n",
       "    <tr>\n",
       "      <th>0</th>\n",
       "      <td>2024-05-14 16:43:29.834113143</td>\n",
       "      <td>2024-05-14 16:43:34.106158040</td>\n",
       "      <td>epoch</td>\n",
       "      <td>4.272045</td>\n",
       "      <td>cifar.standalone.logs.json</td>\n",
       "      <td>epoch (logs/cifar.standalone.logs.json)</td>\n",
       "      <td>0</td>\n",
       "    </tr>\n",
       "    <tr>\n",
       "      <th>1</th>\n",
       "      <td>2024-05-14 16:43:34.141160987</td>\n",
       "      <td>2024-05-14 16:43:34.182240985</td>\n",
       "      <td>epoch</td>\n",
       "      <td>0.041080</td>\n",
       "      <td>cifar.standalone.logs.json</td>\n",
       "      <td>epoch (logs/cifar.standalone.logs.json)</td>\n",
       "      <td>1</td>\n",
       "    </tr>\n",
       "    <tr>\n",
       "      <th>2</th>\n",
       "      <td>2024-05-14 16:43:34.213546060</td>\n",
       "      <td>2024-05-14 16:43:34.245211862</td>\n",
       "      <td>epoch</td>\n",
       "      <td>0.031666</td>\n",
       "      <td>cifar.standalone.logs.json</td>\n",
       "      <td>epoch (logs/cifar.standalone.logs.json)</td>\n",
       "      <td>2</td>\n",
       "    </tr>\n",
       "    <tr>\n",
       "      <th>3</th>\n",
       "      <td>2024-05-14 16:43:34.282121919</td>\n",
       "      <td>2024-05-14 16:43:34.328813098</td>\n",
       "      <td>epoch</td>\n",
       "      <td>0.046691</td>\n",
       "      <td>cifar.standalone.logs.json</td>\n",
       "      <td>epoch (logs/cifar.standalone.logs.json)</td>\n",
       "      <td>3</td>\n",
       "    </tr>\n",
       "    <tr>\n",
       "      <th>4</th>\n",
       "      <td>2024-05-14 16:43:34.359533094</td>\n",
       "      <td>2024-05-14 16:43:34.397956155</td>\n",
       "      <td>epoch</td>\n",
       "      <td>0.038423</td>\n",
       "      <td>cifar.standalone.logs.json</td>\n",
       "      <td>epoch (logs/cifar.standalone.logs.json)</td>\n",
       "      <td>4</td>\n",
       "    </tr>\n",
       "    <tr>\n",
       "      <th>...</th>\n",
       "      <td>...</td>\n",
       "      <td>...</td>\n",
       "      <td>...</td>\n",
       "      <td>...</td>\n",
       "      <td>...</td>\n",
       "      <td>...</td>\n",
       "      <td>...</td>\n",
       "    </tr>\n",
       "    <tr>\n",
       "      <th>30</th>\n",
       "      <td>2024-05-14 16:43:47.226526998</td>\n",
       "      <td>2024-05-14 16:43:47.766216062</td>\n",
       "      <td>is</td>\n",
       "      <td>0.539689</td>\n",
       "      <td>cifar.standalone.logs.json</td>\n",
       "      <td>is (logs/cifar.standalone.logs.json)</td>\n",
       "      <td>30</td>\n",
       "    </tr>\n",
       "    <tr>\n",
       "      <th>0</th>\n",
       "      <td>2024-05-14 16:43:30.314437889</td>\n",
       "      <td>2024-05-14 16:43:34.106157087</td>\n",
       "      <td>logging</td>\n",
       "      <td>3.791719</td>\n",
       "      <td>cifar.standalone.logs.json</td>\n",
       "      <td>logging (logs/cifar.standalone.logs.json)</td>\n",
       "      <td>0</td>\n",
       "    </tr>\n",
       "    <tr>\n",
       "      <th>10</th>\n",
       "      <td>2024-05-14 16:43:34.809028886</td>\n",
       "      <td>2024-05-14 16:43:38.952338956</td>\n",
       "      <td>logging</td>\n",
       "      <td>4.143310</td>\n",
       "      <td>cifar.standalone.logs.json</td>\n",
       "      <td>logging (logs/cifar.standalone.logs.json)</td>\n",
       "      <td>10</td>\n",
       "    </tr>\n",
       "    <tr>\n",
       "      <th>20</th>\n",
       "      <td>2024-05-14 16:43:39.595707916</td>\n",
       "      <td>2024-05-14 16:43:43.314371131</td>\n",
       "      <td>logging</td>\n",
       "      <td>3.718663</td>\n",
       "      <td>cifar.standalone.logs.json</td>\n",
       "      <td>logging (logs/cifar.standalone.logs.json)</td>\n",
       "      <td>20</td>\n",
       "    </tr>\n",
       "    <tr>\n",
       "      <th>30</th>\n",
       "      <td>2024-05-14 16:43:43.977330945</td>\n",
       "      <td>2024-05-14 16:43:47.766296171</td>\n",
       "      <td>logging</td>\n",
       "      <td>3.788965</td>\n",
       "      <td>cifar.standalone.logs.json</td>\n",
       "      <td>logging (logs/cifar.standalone.logs.json)</td>\n",
       "      <td>30</td>\n",
       "    </tr>\n",
       "  </tbody>\n",
       "</table>\n",
       "<p>90 rows × 7 columns</p>\n",
       "</div>"
      ],
      "text/plain": [
       "                           start                           end    event  \\\n",
       "0  2024-05-14 16:43:29.834113143 2024-05-14 16:43:34.106158040    epoch   \n",
       "1  2024-05-14 16:43:34.141160987 2024-05-14 16:43:34.182240985    epoch   \n",
       "2  2024-05-14 16:43:34.213546060 2024-05-14 16:43:34.245211862    epoch   \n",
       "3  2024-05-14 16:43:34.282121919 2024-05-14 16:43:34.328813098    epoch   \n",
       "4  2024-05-14 16:43:34.359533094 2024-05-14 16:43:34.397956155    epoch   \n",
       "..                           ...                           ...      ...   \n",
       "30 2024-05-14 16:43:47.226526998 2024-05-14 16:43:47.766216062       is   \n",
       "0  2024-05-14 16:43:30.314437889 2024-05-14 16:43:34.106157087  logging   \n",
       "10 2024-05-14 16:43:34.809028886 2024-05-14 16:43:38.952338956  logging   \n",
       "20 2024-05-14 16:43:39.595707916 2024-05-14 16:43:43.314371131  logging   \n",
       "30 2024-05-14 16:43:43.977330945 2024-05-14 16:43:47.766296171  logging   \n",
       "\n",
       "    time_elapsed                        name  \\\n",
       "0       4.272045  cifar.standalone.logs.json   \n",
       "1       0.041080  cifar.standalone.logs.json   \n",
       "2       0.031666  cifar.standalone.logs.json   \n",
       "3       0.046691  cifar.standalone.logs.json   \n",
       "4       0.038423  cifar.standalone.logs.json   \n",
       "..           ...                         ...   \n",
       "30      0.539689  cifar.standalone.logs.json   \n",
       "0       3.791719  cifar.standalone.logs.json   \n",
       "10      4.143310  cifar.standalone.logs.json   \n",
       "20      3.718663  cifar.standalone.logs.json   \n",
       "30      3.788965  cifar.standalone.logs.json   \n",
       "\n",
       "                                       legend  index  \n",
       "0     epoch (logs/cifar.standalone.logs.json)      0  \n",
       "1     epoch (logs/cifar.standalone.logs.json)      1  \n",
       "2     epoch (logs/cifar.standalone.logs.json)      2  \n",
       "3     epoch (logs/cifar.standalone.logs.json)      3  \n",
       "4     epoch (logs/cifar.standalone.logs.json)      4  \n",
       "..                                        ...    ...  \n",
       "30       is (logs/cifar.standalone.logs.json)     30  \n",
       "0   logging (logs/cifar.standalone.logs.json)      0  \n",
       "10  logging (logs/cifar.standalone.logs.json)     10  \n",
       "20  logging (logs/cifar.standalone.logs.json)     20  \n",
       "30  logging (logs/cifar.standalone.logs.json)     30  \n",
       "\n",
       "[90 rows x 7 columns]"
      ]
     },
     "metadata": {},
     "output_type": "display_data"
    }
   ],
   "source": [
    "logs_standalones = list(logs_path.glob(\"*.standalone.logs.json\"))\n",
    "logs_standalones\n",
    "\n",
    "standalone_dfs = []\n",
    "standalone_events_dfs = []\n",
    "for log in logs_standalones:\n",
    "    dataset = log.stem.split(\".\")[0]\n",
    "    with open(log) as f:\n",
    "        data = json.load(f)\n",
    "        df = pd.DataFrame(data)\n",
    "        df[\"dataset\"] = dataset\n",
    "        df[\"log\"] = log.name\n",
    "        df = convert_all_pairs_to_datetime(df)\n",
    "        \n",
    "        corresponding_server = server_df[(server_df[\"dataset\"] == dataset)]\n",
    "        start_time_server: pd.Timedelta = server_df[\"start.epoch\"].min()\n",
    "        start_time_standalone: pd.Timedelta = df[\"start.epoch\"].min()\n",
    "        diff_time = start_time_server - start_time_standalone\n",
    "        print(f\"diff_time: {diff_time}\")\n",
    "        standalone_df = align_start_times(diff_time.total_seconds(), df)\n",
    "\n",
    "        standalone_dfs.append(df)\n",
    "        standalone_events_dfs.append(dataset_for_every_events(df, retrieve_start_end_pairs(df), log))\n",
    "standalone_df = pd.concat(standalone_dfs)\n",
    "standalone_events_pairs = retrieve_start_end_pairs(standalone_df)\n",
    "print(standalone_events_pairs)\n",
    "standalone_df = compute_time_elapsed(standalone_df, standalone_events_pairs)\n",
    "\n",
    "standalone_events_df = pd.concat(standalone_events_dfs)\n",
    "\n",
    "display(standalone_df)\n",
    "display(standalone_events_df)"
   ]
  },
  {
   "cell_type": "code",
   "execution_count": 7,
   "metadata": {},
   "outputs": [
    {
     "data": {
      "text/html": [
       "<div>\n",
       "<style scoped>\n",
       "    .dataframe tbody tr th:only-of-type {\n",
       "        vertical-align: middle;\n",
       "    }\n",
       "\n",
       "    .dataframe tbody tr th {\n",
       "        vertical-align: top;\n",
       "    }\n",
       "\n",
       "    .dataframe thead th {\n",
       "        text-align: right;\n",
       "    }\n",
       "</style>\n",
       "<table border=\"1\" class=\"dataframe\">\n",
       "  <thead>\n",
       "    <tr style=\"text-align: right;\">\n",
       "      <th></th>\n",
       "      <th>start</th>\n",
       "      <th>end</th>\n",
       "      <th>event</th>\n",
       "      <th>time_elapsed</th>\n",
       "      <th>name</th>\n",
       "      <th>legend</th>\n",
       "      <th>index</th>\n",
       "    </tr>\n",
       "  </thead>\n",
       "  <tbody>\n",
       "    <tr>\n",
       "      <th>0</th>\n",
       "      <td>2024-05-14 16:43:29.834113143</td>\n",
       "      <td>2024-05-14 16:43:34.106158040</td>\n",
       "      <td>epoch</td>\n",
       "      <td>4.272045</td>\n",
       "      <td>cifar.standalone.logs.json</td>\n",
       "      <td>epoch (logs/cifar.standalone.logs.json)</td>\n",
       "      <td>0</td>\n",
       "    </tr>\n",
       "    <tr>\n",
       "      <th>1</th>\n",
       "      <td>2024-05-14 16:43:34.141160987</td>\n",
       "      <td>2024-05-14 16:43:34.182240985</td>\n",
       "      <td>epoch</td>\n",
       "      <td>0.041080</td>\n",
       "      <td>cifar.standalone.logs.json</td>\n",
       "      <td>epoch (logs/cifar.standalone.logs.json)</td>\n",
       "      <td>1</td>\n",
       "    </tr>\n",
       "    <tr>\n",
       "      <th>2</th>\n",
       "      <td>2024-05-14 16:43:34.213546060</td>\n",
       "      <td>2024-05-14 16:43:34.245211862</td>\n",
       "      <td>epoch</td>\n",
       "      <td>0.031666</td>\n",
       "      <td>cifar.standalone.logs.json</td>\n",
       "      <td>epoch (logs/cifar.standalone.logs.json)</td>\n",
       "      <td>2</td>\n",
       "    </tr>\n",
       "    <tr>\n",
       "      <th>3</th>\n",
       "      <td>2024-05-14 16:43:34.282121919</td>\n",
       "      <td>2024-05-14 16:43:34.328813098</td>\n",
       "      <td>epoch</td>\n",
       "      <td>0.046691</td>\n",
       "      <td>cifar.standalone.logs.json</td>\n",
       "      <td>epoch (logs/cifar.standalone.logs.json)</td>\n",
       "      <td>3</td>\n",
       "    </tr>\n",
       "    <tr>\n",
       "      <th>4</th>\n",
       "      <td>2024-05-14 16:43:34.359533094</td>\n",
       "      <td>2024-05-14 16:43:34.397956155</td>\n",
       "      <td>epoch</td>\n",
       "      <td>0.038423</td>\n",
       "      <td>cifar.standalone.logs.json</td>\n",
       "      <td>epoch (logs/cifar.standalone.logs.json)</td>\n",
       "      <td>4</td>\n",
       "    </tr>\n",
       "    <tr>\n",
       "      <th>...</th>\n",
       "      <td>...</td>\n",
       "      <td>...</td>\n",
       "      <td>...</td>\n",
       "      <td>...</td>\n",
       "      <td>...</td>\n",
       "      <td>...</td>\n",
       "      <td>...</td>\n",
       "    </tr>\n",
       "    <tr>\n",
       "      <th>23</th>\n",
       "      <td>2024-05-14 16:43:35.770938158</td>\n",
       "      <td>2024-05-14 16:43:35.773657084</td>\n",
       "      <td>apply_gradients</td>\n",
       "      <td>0.002719</td>\n",
       "      <td>mdgan.5.cifar.server.logs.json</td>\n",
       "      <td>apply_gradients (logs/mdgan.5.cifar.server.log...</td>\n",
       "      <td>23</td>\n",
       "    </tr>\n",
       "    <tr>\n",
       "      <th>24</th>\n",
       "      <td>2024-05-14 16:43:35.863605976</td>\n",
       "      <td>2024-05-14 16:43:35.866931915</td>\n",
       "      <td>apply_gradients</td>\n",
       "      <td>0.003326</td>\n",
       "      <td>mdgan.5.cifar.server.logs.json</td>\n",
       "      <td>apply_gradients (logs/mdgan.5.cifar.server.log...</td>\n",
       "      <td>24</td>\n",
       "    </tr>\n",
       "    <tr>\n",
       "      <th>25</th>\n",
       "      <td>2024-05-14 16:43:35.952594995</td>\n",
       "      <td>2024-05-14 16:43:35.956067085</td>\n",
       "      <td>apply_gradients</td>\n",
       "      <td>0.003472</td>\n",
       "      <td>mdgan.5.cifar.server.logs.json</td>\n",
       "      <td>apply_gradients (logs/mdgan.5.cifar.server.log...</td>\n",
       "      <td>25</td>\n",
       "    </tr>\n",
       "    <tr>\n",
       "      <th>0</th>\n",
       "      <td>2024-05-14 16:43:31.250539063</td>\n",
       "      <td>2024-05-14 16:43:33.650402069</td>\n",
       "      <td>fid</td>\n",
       "      <td>2.399863</td>\n",
       "      <td>mdgan.5.cifar.server.logs.json</td>\n",
       "      <td>fid (logs/mdgan.5.cifar.server.logs.json)</td>\n",
       "      <td>0</td>\n",
       "    </tr>\n",
       "    <tr>\n",
       "      <th>0</th>\n",
       "      <td>2024-05-14 16:43:30.726218939</td>\n",
       "      <td>2024-05-14 16:43:31.250536919</td>\n",
       "      <td>is</td>\n",
       "      <td>0.524318</td>\n",
       "      <td>mdgan.5.cifar.server.logs.json</td>\n",
       "      <td>is (logs/mdgan.5.cifar.server.logs.json)</td>\n",
       "      <td>0</td>\n",
       "    </tr>\n",
       "  </tbody>\n",
       "</table>\n",
       "<p>763 rows × 7 columns</p>\n",
       "</div>"
      ],
      "text/plain": [
       "                           start                           end  \\\n",
       "0  2024-05-14 16:43:29.834113143 2024-05-14 16:43:34.106158040   \n",
       "1  2024-05-14 16:43:34.141160987 2024-05-14 16:43:34.182240985   \n",
       "2  2024-05-14 16:43:34.213546060 2024-05-14 16:43:34.245211862   \n",
       "3  2024-05-14 16:43:34.282121919 2024-05-14 16:43:34.328813098   \n",
       "4  2024-05-14 16:43:34.359533094 2024-05-14 16:43:34.397956155   \n",
       "..                           ...                           ...   \n",
       "23 2024-05-14 16:43:35.770938158 2024-05-14 16:43:35.773657084   \n",
       "24 2024-05-14 16:43:35.863605976 2024-05-14 16:43:35.866931915   \n",
       "25 2024-05-14 16:43:35.952594995 2024-05-14 16:43:35.956067085   \n",
       "0  2024-05-14 16:43:31.250539063 2024-05-14 16:43:33.650402069   \n",
       "0  2024-05-14 16:43:30.726218939 2024-05-14 16:43:31.250536919   \n",
       "\n",
       "              event  time_elapsed                            name  \\\n",
       "0             epoch      4.272045      cifar.standalone.logs.json   \n",
       "1             epoch      0.041080      cifar.standalone.logs.json   \n",
       "2             epoch      0.031666      cifar.standalone.logs.json   \n",
       "3             epoch      0.046691      cifar.standalone.logs.json   \n",
       "4             epoch      0.038423      cifar.standalone.logs.json   \n",
       "..              ...           ...                             ...   \n",
       "23  apply_gradients      0.002719  mdgan.5.cifar.server.logs.json   \n",
       "24  apply_gradients      0.003326  mdgan.5.cifar.server.logs.json   \n",
       "25  apply_gradients      0.003472  mdgan.5.cifar.server.logs.json   \n",
       "0               fid      2.399863  mdgan.5.cifar.server.logs.json   \n",
       "0                is      0.524318  mdgan.5.cifar.server.logs.json   \n",
       "\n",
       "                                               legend  index  \n",
       "0             epoch (logs/cifar.standalone.logs.json)      0  \n",
       "1             epoch (logs/cifar.standalone.logs.json)      1  \n",
       "2             epoch (logs/cifar.standalone.logs.json)      2  \n",
       "3             epoch (logs/cifar.standalone.logs.json)      3  \n",
       "4             epoch (logs/cifar.standalone.logs.json)      4  \n",
       "..                                                ...    ...  \n",
       "23  apply_gradients (logs/mdgan.5.cifar.server.log...     23  \n",
       "24  apply_gradients (logs/mdgan.5.cifar.server.log...     24  \n",
       "25  apply_gradients (logs/mdgan.5.cifar.server.log...     25  \n",
       "0           fid (logs/mdgan.5.cifar.server.logs.json)      0  \n",
       "0            is (logs/mdgan.5.cifar.server.logs.json)      0  \n",
       "\n",
       "[763 rows x 7 columns]"
      ]
     },
     "metadata": {},
     "output_type": "display_data"
    },
    {
     "data": {
      "text/html": [
       "<div>\n",
       "<style scoped>\n",
       "    .dataframe tbody tr th:only-of-type {\n",
       "        vertical-align: middle;\n",
       "    }\n",
       "\n",
       "    .dataframe tbody tr th {\n",
       "        vertical-align: top;\n",
       "    }\n",
       "\n",
       "    .dataframe thead th {\n",
       "        text-align: right;\n",
       "    }\n",
       "</style>\n",
       "<table border=\"1\" class=\"dataframe\">\n",
       "  <thead>\n",
       "    <tr style=\"text-align: right;\">\n",
       "      <th></th>\n",
       "      <th>epoch</th>\n",
       "      <th>start.epoch</th>\n",
       "      <th>end.epoch</th>\n",
       "      <th>start.epoch_calculation</th>\n",
       "      <th>end.epoch_calculation</th>\n",
       "      <th>absolut_step</th>\n",
       "      <th>mean_d_loss</th>\n",
       "      <th>mean_g_loss</th>\n",
       "      <th>start.train</th>\n",
       "      <th>end.train</th>\n",
       "      <th>...</th>\n",
       "      <th>time_elapsed.swap_send</th>\n",
       "      <th>start.send_data</th>\n",
       "      <th>end.send_data</th>\n",
       "      <th>start.calc_gradients</th>\n",
       "      <th>end.calc_gradients</th>\n",
       "      <th>start.apply_gradients</th>\n",
       "      <th>end.apply_gradients</th>\n",
       "      <th>time_elapsed.send_data</th>\n",
       "      <th>time_elapsed.calc_gradients</th>\n",
       "      <th>time_elapsed.apply_gradients</th>\n",
       "    </tr>\n",
       "  </thead>\n",
       "  <tbody>\n",
       "    <tr>\n",
       "      <th>0</th>\n",
       "      <td>0</td>\n",
       "      <td>2024-05-14 16:43:29.834113143</td>\n",
       "      <td>2024-05-14 16:43:34.106158040</td>\n",
       "      <td>2024-05-14 16:43:29.834114097</td>\n",
       "      <td>2024-05-14 16:43:30.294969104</td>\n",
       "      <td>0.0</td>\n",
       "      <td>1.451478</td>\n",
       "      <td>20.996281</td>\n",
       "      <td>2024-05-14 16:43:30.294969104</td>\n",
       "      <td>NaT</td>\n",
       "      <td>...</td>\n",
       "      <td>NaN</td>\n",
       "      <td>NaT</td>\n",
       "      <td>NaT</td>\n",
       "      <td>NaT</td>\n",
       "      <td>NaT</td>\n",
       "      <td>NaT</td>\n",
       "      <td>NaT</td>\n",
       "      <td>NaN</td>\n",
       "      <td>NaN</td>\n",
       "      <td>NaN</td>\n",
       "    </tr>\n",
       "    <tr>\n",
       "      <th>1</th>\n",
       "      <td>1</td>\n",
       "      <td>2024-05-14 16:43:34.141160987</td>\n",
       "      <td>2024-05-14 16:43:34.182240985</td>\n",
       "      <td>2024-05-14 16:43:34.141160987</td>\n",
       "      <td>2024-05-14 16:43:34.182239078</td>\n",
       "      <td>1.0</td>\n",
       "      <td>6.401400</td>\n",
       "      <td>25.901831</td>\n",
       "      <td>2024-05-14 16:43:34.182239078</td>\n",
       "      <td>NaT</td>\n",
       "      <td>...</td>\n",
       "      <td>NaN</td>\n",
       "      <td>NaT</td>\n",
       "      <td>NaT</td>\n",
       "      <td>NaT</td>\n",
       "      <td>NaT</td>\n",
       "      <td>NaT</td>\n",
       "      <td>NaT</td>\n",
       "      <td>NaN</td>\n",
       "      <td>NaN</td>\n",
       "      <td>NaN</td>\n",
       "    </tr>\n",
       "    <tr>\n",
       "      <th>2</th>\n",
       "      <td>2</td>\n",
       "      <td>2024-05-14 16:43:34.213546060</td>\n",
       "      <td>2024-05-14 16:43:34.245211862</td>\n",
       "      <td>2024-05-14 16:43:34.213546060</td>\n",
       "      <td>2024-05-14 16:43:34.245209955</td>\n",
       "      <td>2.0</td>\n",
       "      <td>2.631938</td>\n",
       "      <td>19.150515</td>\n",
       "      <td>2024-05-14 16:43:34.245210908</td>\n",
       "      <td>NaT</td>\n",
       "      <td>...</td>\n",
       "      <td>NaN</td>\n",
       "      <td>NaT</td>\n",
       "      <td>NaT</td>\n",
       "      <td>NaT</td>\n",
       "      <td>NaT</td>\n",
       "      <td>NaT</td>\n",
       "      <td>NaT</td>\n",
       "      <td>NaN</td>\n",
       "      <td>NaN</td>\n",
       "      <td>NaN</td>\n",
       "    </tr>\n",
       "    <tr>\n",
       "      <th>3</th>\n",
       "      <td>3</td>\n",
       "      <td>2024-05-14 16:43:34.282121919</td>\n",
       "      <td>2024-05-14 16:43:34.328813098</td>\n",
       "      <td>2024-05-14 16:43:34.282123111</td>\n",
       "      <td>2024-05-14 16:43:34.328810953</td>\n",
       "      <td>3.0</td>\n",
       "      <td>0.904639</td>\n",
       "      <td>13.880597</td>\n",
       "      <td>2024-05-14 16:43:34.328810953</td>\n",
       "      <td>NaT</td>\n",
       "      <td>...</td>\n",
       "      <td>NaN</td>\n",
       "      <td>NaT</td>\n",
       "      <td>NaT</td>\n",
       "      <td>NaT</td>\n",
       "      <td>NaT</td>\n",
       "      <td>NaT</td>\n",
       "      <td>NaT</td>\n",
       "      <td>NaN</td>\n",
       "      <td>NaN</td>\n",
       "      <td>NaN</td>\n",
       "    </tr>\n",
       "    <tr>\n",
       "      <th>4</th>\n",
       "      <td>4</td>\n",
       "      <td>2024-05-14 16:43:34.359533094</td>\n",
       "      <td>2024-05-14 16:43:34.397956155</td>\n",
       "      <td>2024-05-14 16:43:34.359533094</td>\n",
       "      <td>2024-05-14 16:43:34.397954009</td>\n",
       "      <td>4.0</td>\n",
       "      <td>0.113801</td>\n",
       "      <td>9.887267</td>\n",
       "      <td>2024-05-14 16:43:34.397955202</td>\n",
       "      <td>NaT</td>\n",
       "      <td>...</td>\n",
       "      <td>NaN</td>\n",
       "      <td>NaT</td>\n",
       "      <td>NaT</td>\n",
       "      <td>NaT</td>\n",
       "      <td>NaT</td>\n",
       "      <td>NaT</td>\n",
       "      <td>NaT</td>\n",
       "      <td>NaN</td>\n",
       "      <td>NaN</td>\n",
       "      <td>NaN</td>\n",
       "    </tr>\n",
       "    <tr>\n",
       "      <th>...</th>\n",
       "      <td>...</td>\n",
       "      <td>...</td>\n",
       "      <td>...</td>\n",
       "      <td>...</td>\n",
       "      <td>...</td>\n",
       "      <td>...</td>\n",
       "      <td>...</td>\n",
       "      <td>...</td>\n",
       "      <td>...</td>\n",
       "      <td>...</td>\n",
       "      <td>...</td>\n",
       "      <td>...</td>\n",
       "      <td>...</td>\n",
       "      <td>...</td>\n",
       "      <td>...</td>\n",
       "      <td>...</td>\n",
       "      <td>...</td>\n",
       "      <td>...</td>\n",
       "      <td>...</td>\n",
       "      <td>...</td>\n",
       "      <td>...</td>\n",
       "    </tr>\n",
       "    <tr>\n",
       "      <th>21</th>\n",
       "      <td>21</td>\n",
       "      <td>2024-05-14 16:43:35.507329940</td>\n",
       "      <td>2024-05-14 16:43:35.595337868</td>\n",
       "      <td>2024-05-14 16:43:35.507329940</td>\n",
       "      <td>2024-05-14 16:43:35.595336914</td>\n",
       "      <td>NaN</td>\n",
       "      <td>NaN</td>\n",
       "      <td>NaN</td>\n",
       "      <td>NaT</td>\n",
       "      <td>NaT</td>\n",
       "      <td>...</td>\n",
       "      <td>NaN</td>\n",
       "      <td>2024-05-14 16:43:35.508547068</td>\n",
       "      <td>2024-05-14 16:43:35.582589865</td>\n",
       "      <td>2024-05-14 16:43:35.582591057</td>\n",
       "      <td>2024-05-14 16:43:35.592504978</td>\n",
       "      <td>2024-05-14 16:43:35.592607021</td>\n",
       "      <td>2024-05-14 16:43:35.595336914</td>\n",
       "      <td>0.074043</td>\n",
       "      <td>0.009914</td>\n",
       "      <td>0.002730</td>\n",
       "    </tr>\n",
       "    <tr>\n",
       "      <th>22</th>\n",
       "      <td>22</td>\n",
       "      <td>2024-05-14 16:43:35.596124887</td>\n",
       "      <td>2024-05-14 16:43:35.684433937</td>\n",
       "      <td>2024-05-14 16:43:35.596124887</td>\n",
       "      <td>2024-05-14 16:43:35.684432983</td>\n",
       "      <td>NaN</td>\n",
       "      <td>NaN</td>\n",
       "      <td>NaN</td>\n",
       "      <td>NaT</td>\n",
       "      <td>NaT</td>\n",
       "      <td>...</td>\n",
       "      <td>NaN</td>\n",
       "      <td>2024-05-14 16:43:35.597498894</td>\n",
       "      <td>2024-05-14 16:43:35.671704054</td>\n",
       "      <td>2024-05-14 16:43:35.671705008</td>\n",
       "      <td>2024-05-14 16:43:35.681652069</td>\n",
       "      <td>2024-05-14 16:43:35.681797028</td>\n",
       "      <td>2024-05-14 16:43:35.684432983</td>\n",
       "      <td>0.074205</td>\n",
       "      <td>0.009947</td>\n",
       "      <td>0.002636</td>\n",
       "    </tr>\n",
       "    <tr>\n",
       "      <th>23</th>\n",
       "      <td>23</td>\n",
       "      <td>2024-05-14 16:43:35.685142994</td>\n",
       "      <td>2024-05-14 16:43:35.773658037</td>\n",
       "      <td>2024-05-14 16:43:35.685142994</td>\n",
       "      <td>2024-05-14 16:43:35.773657084</td>\n",
       "      <td>NaN</td>\n",
       "      <td>NaN</td>\n",
       "      <td>NaN</td>\n",
       "      <td>NaT</td>\n",
       "      <td>NaT</td>\n",
       "      <td>...</td>\n",
       "      <td>NaN</td>\n",
       "      <td>2024-05-14 16:43:35.686351061</td>\n",
       "      <td>2024-05-14 16:43:35.759729862</td>\n",
       "      <td>2024-05-14 16:43:35.759731054</td>\n",
       "      <td>2024-05-14 16:43:35.770834923</td>\n",
       "      <td>2024-05-14 16:43:35.770938158</td>\n",
       "      <td>2024-05-14 16:43:35.773657084</td>\n",
       "      <td>0.073379</td>\n",
       "      <td>0.011104</td>\n",
       "      <td>0.002719</td>\n",
       "    </tr>\n",
       "    <tr>\n",
       "      <th>24</th>\n",
       "      <td>24</td>\n",
       "      <td>2024-05-14 16:43:35.774384022</td>\n",
       "      <td>2024-05-14 16:43:35.866933107</td>\n",
       "      <td>2024-05-14 16:43:35.774384022</td>\n",
       "      <td>2024-05-14 16:43:35.866931915</td>\n",
       "      <td>NaN</td>\n",
       "      <td>NaN</td>\n",
       "      <td>NaN</td>\n",
       "      <td>NaT</td>\n",
       "      <td>NaT</td>\n",
       "      <td>...</td>\n",
       "      <td>NaN</td>\n",
       "      <td>2024-05-14 16:43:35.775619030</td>\n",
       "      <td>2024-05-14 16:43:35.850618124</td>\n",
       "      <td>2024-05-14 16:43:35.850618839</td>\n",
       "      <td>2024-05-14 16:43:35.863472939</td>\n",
       "      <td>2024-05-14 16:43:35.863605976</td>\n",
       "      <td>2024-05-14 16:43:35.866931915</td>\n",
       "      <td>0.074999</td>\n",
       "      <td>0.012854</td>\n",
       "      <td>0.003326</td>\n",
       "    </tr>\n",
       "    <tr>\n",
       "      <th>25</th>\n",
       "      <td>25</td>\n",
       "      <td>2024-05-14 16:43:35.867829084</td>\n",
       "      <td>2024-05-14 16:43:35.956069231</td>\n",
       "      <td>2024-05-14 16:43:35.867830038</td>\n",
       "      <td>2024-05-14 16:43:35.956068039</td>\n",
       "      <td>NaN</td>\n",
       "      <td>NaN</td>\n",
       "      <td>NaN</td>\n",
       "      <td>NaT</td>\n",
       "      <td>NaT</td>\n",
       "      <td>...</td>\n",
       "      <td>NaN</td>\n",
       "      <td>2024-05-14 16:43:35.869320869</td>\n",
       "      <td>2024-05-14 16:43:35.938633919</td>\n",
       "      <td>2024-05-14 16:43:35.938635111</td>\n",
       "      <td>2024-05-14 16:43:35.952478886</td>\n",
       "      <td>2024-05-14 16:43:35.952594995</td>\n",
       "      <td>2024-05-14 16:43:35.956067085</td>\n",
       "      <td>0.069313</td>\n",
       "      <td>0.013844</td>\n",
       "      <td>0.003472</td>\n",
       "    </tr>\n",
       "  </tbody>\n",
       "</table>\n",
       "<p>200 rows × 51 columns</p>\n",
       "</div>"
      ],
      "text/plain": [
       "    epoch                   start.epoch                     end.epoch  \\\n",
       "0       0 2024-05-14 16:43:29.834113143 2024-05-14 16:43:34.106158040   \n",
       "1       1 2024-05-14 16:43:34.141160987 2024-05-14 16:43:34.182240985   \n",
       "2       2 2024-05-14 16:43:34.213546060 2024-05-14 16:43:34.245211862   \n",
       "3       3 2024-05-14 16:43:34.282121919 2024-05-14 16:43:34.328813098   \n",
       "4       4 2024-05-14 16:43:34.359533094 2024-05-14 16:43:34.397956155   \n",
       "..    ...                           ...                           ...   \n",
       "21     21 2024-05-14 16:43:35.507329940 2024-05-14 16:43:35.595337868   \n",
       "22     22 2024-05-14 16:43:35.596124887 2024-05-14 16:43:35.684433937   \n",
       "23     23 2024-05-14 16:43:35.685142994 2024-05-14 16:43:35.773658037   \n",
       "24     24 2024-05-14 16:43:35.774384022 2024-05-14 16:43:35.866933107   \n",
       "25     25 2024-05-14 16:43:35.867829084 2024-05-14 16:43:35.956069231   \n",
       "\n",
       "         start.epoch_calculation         end.epoch_calculation  absolut_step  \\\n",
       "0  2024-05-14 16:43:29.834114097 2024-05-14 16:43:30.294969104           0.0   \n",
       "1  2024-05-14 16:43:34.141160987 2024-05-14 16:43:34.182239078           1.0   \n",
       "2  2024-05-14 16:43:34.213546060 2024-05-14 16:43:34.245209955           2.0   \n",
       "3  2024-05-14 16:43:34.282123111 2024-05-14 16:43:34.328810953           3.0   \n",
       "4  2024-05-14 16:43:34.359533094 2024-05-14 16:43:34.397954009           4.0   \n",
       "..                           ...                           ...           ...   \n",
       "21 2024-05-14 16:43:35.507329940 2024-05-14 16:43:35.595336914           NaN   \n",
       "22 2024-05-14 16:43:35.596124887 2024-05-14 16:43:35.684432983           NaN   \n",
       "23 2024-05-14 16:43:35.685142994 2024-05-14 16:43:35.773657084           NaN   \n",
       "24 2024-05-14 16:43:35.774384022 2024-05-14 16:43:35.866931915           NaN   \n",
       "25 2024-05-14 16:43:35.867830038 2024-05-14 16:43:35.956068039           NaN   \n",
       "\n",
       "    mean_d_loss  mean_g_loss                   start.train end.train  ...  \\\n",
       "0      1.451478    20.996281 2024-05-14 16:43:30.294969104       NaT  ...   \n",
       "1      6.401400    25.901831 2024-05-14 16:43:34.182239078       NaT  ...   \n",
       "2      2.631938    19.150515 2024-05-14 16:43:34.245210908       NaT  ...   \n",
       "3      0.904639    13.880597 2024-05-14 16:43:34.328810953       NaT  ...   \n",
       "4      0.113801     9.887267 2024-05-14 16:43:34.397955202       NaT  ...   \n",
       "..          ...          ...                           ...       ...  ...   \n",
       "21          NaN          NaN                           NaT       NaT  ...   \n",
       "22          NaN          NaN                           NaT       NaT  ...   \n",
       "23          NaN          NaN                           NaT       NaT  ...   \n",
       "24          NaN          NaN                           NaT       NaT  ...   \n",
       "25          NaN          NaN                           NaT       NaT  ...   \n",
       "\n",
       "   time_elapsed.swap_send               start.send_data  \\\n",
       "0                     NaN                           NaT   \n",
       "1                     NaN                           NaT   \n",
       "2                     NaN                           NaT   \n",
       "3                     NaN                           NaT   \n",
       "4                     NaN                           NaT   \n",
       "..                    ...                           ...   \n",
       "21                    NaN 2024-05-14 16:43:35.508547068   \n",
       "22                    NaN 2024-05-14 16:43:35.597498894   \n",
       "23                    NaN 2024-05-14 16:43:35.686351061   \n",
       "24                    NaN 2024-05-14 16:43:35.775619030   \n",
       "25                    NaN 2024-05-14 16:43:35.869320869   \n",
       "\n",
       "                   end.send_data          start.calc_gradients  \\\n",
       "0                            NaT                           NaT   \n",
       "1                            NaT                           NaT   \n",
       "2                            NaT                           NaT   \n",
       "3                            NaT                           NaT   \n",
       "4                            NaT                           NaT   \n",
       "..                           ...                           ...   \n",
       "21 2024-05-14 16:43:35.582589865 2024-05-14 16:43:35.582591057   \n",
       "22 2024-05-14 16:43:35.671704054 2024-05-14 16:43:35.671705008   \n",
       "23 2024-05-14 16:43:35.759729862 2024-05-14 16:43:35.759731054   \n",
       "24 2024-05-14 16:43:35.850618124 2024-05-14 16:43:35.850618839   \n",
       "25 2024-05-14 16:43:35.938633919 2024-05-14 16:43:35.938635111   \n",
       "\n",
       "              end.calc_gradients         start.apply_gradients  \\\n",
       "0                            NaT                           NaT   \n",
       "1                            NaT                           NaT   \n",
       "2                            NaT                           NaT   \n",
       "3                            NaT                           NaT   \n",
       "4                            NaT                           NaT   \n",
       "..                           ...                           ...   \n",
       "21 2024-05-14 16:43:35.592504978 2024-05-14 16:43:35.592607021   \n",
       "22 2024-05-14 16:43:35.681652069 2024-05-14 16:43:35.681797028   \n",
       "23 2024-05-14 16:43:35.770834923 2024-05-14 16:43:35.770938158   \n",
       "24 2024-05-14 16:43:35.863472939 2024-05-14 16:43:35.863605976   \n",
       "25 2024-05-14 16:43:35.952478886 2024-05-14 16:43:35.952594995   \n",
       "\n",
       "             end.apply_gradients time_elapsed.send_data  \\\n",
       "0                            NaT                    NaN   \n",
       "1                            NaT                    NaN   \n",
       "2                            NaT                    NaN   \n",
       "3                            NaT                    NaN   \n",
       "4                            NaT                    NaN   \n",
       "..                           ...                    ...   \n",
       "21 2024-05-14 16:43:35.595336914               0.074043   \n",
       "22 2024-05-14 16:43:35.684432983               0.074205   \n",
       "23 2024-05-14 16:43:35.773657084               0.073379   \n",
       "24 2024-05-14 16:43:35.866931915               0.074999   \n",
       "25 2024-05-14 16:43:35.956067085               0.069313   \n",
       "\n",
       "   time_elapsed.calc_gradients time_elapsed.apply_gradients  \n",
       "0                          NaN                          NaN  \n",
       "1                          NaN                          NaN  \n",
       "2                          NaN                          NaN  \n",
       "3                          NaN                          NaN  \n",
       "4                          NaN                          NaN  \n",
       "..                         ...                          ...  \n",
       "21                    0.009914                     0.002730  \n",
       "22                    0.009947                     0.002636  \n",
       "23                    0.011104                     0.002719  \n",
       "24                    0.012854                     0.003326  \n",
       "25                    0.013844                     0.003472  \n",
       "\n",
       "[200 rows x 51 columns]"
      ]
     },
     "metadata": {},
     "output_type": "display_data"
    }
   ],
   "source": [
    "all_events_df = pd.concat([standalone_events_df, workers_events_df, server_events_df])\n",
    "all_df = pd.concat([standalone_df, workers_global_epochs_df, server_df])\n",
    "display(all_events_df)\n",
    "display(all_df)"
   ]
  },
  {
   "cell_type": "code",
   "execution_count": 8,
   "metadata": {},
   "outputs": [
    {
     "data": {
      "application/vnd.plotly.v1+json": {
       "config": {
        "plotlyServerURL": "https://plot.ly"
       },
       "data": [
        {
         "hovertemplate": "variable=mean_d_loss<br>epoch=%{x}<br>value=%{y}<extra></extra>",
         "legendgroup": "mean_d_loss",
         "line": {
          "color": "#636efa",
          "dash": "solid"
         },
         "marker": {
          "symbol": "circle"
         },
         "mode": "lines",
         "name": "mean_d_loss",
         "orientation": "v",
         "showlegend": true,
         "type": "scatter",
         "x": [
          0,
          1,
          2,
          3,
          4,
          5,
          6,
          7,
          8,
          9,
          10,
          11,
          12,
          13,
          14,
          15,
          16,
          17,
          18,
          19,
          20,
          21,
          22,
          23,
          24,
          25,
          26,
          27,
          28,
          29,
          30,
          31,
          32,
          33,
          34,
          35,
          36,
          37,
          38
         ],
         "xaxis": "x",
         "y": [
          1.4514777660369873,
          6.401399612426758,
          2.6319377422332764,
          0.904638946056366,
          0.11380131542682648,
          22.038604736328125,
          0.6218973994255066,
          0.5417352914810181,
          49.0224723815918,
          6.181591033935547,
          3.256511688232422,
          1.9550483226776123,
          0.012509255670011044,
          0.9070997834205627,
          0.9659730195999146,
          0.06426912546157837,
          0.8060498833656311,
          0.09207621216773987,
          5.450120449066162,
          0.833655059337616,
          1.6374250650405884,
          1.5948275327682495,
          0.07043258845806122,
          4.188528537750244,
          0.27204903960227966,
          0.28693312406539917,
          4.529378890991211,
          1.6646530628204346,
          1.6328394412994385,
          7.00459098815918,
          3.8686439990997314,
          5.029612064361572,
          1.4405995607376099,
          17.53201675415039,
          3.517202854156494,
          2.1762266159057617,
          1.45733642578125,
          2.045257329940796,
          2.5806081295013428
         ],
         "yaxis": "y"
        },
        {
         "hovertemplate": "variable=mean_g_loss<br>epoch=%{x}<br>value=%{y}<extra></extra>",
         "legendgroup": "mean_g_loss",
         "line": {
          "color": "#EF553B",
          "dash": "solid"
         },
         "marker": {
          "symbol": "circle"
         },
         "mode": "lines",
         "name": "mean_g_loss",
         "orientation": "v",
         "showlegend": true,
         "type": "scatter",
         "x": [
          0,
          1,
          2,
          3,
          4,
          5,
          6,
          7,
          8,
          9,
          10,
          11,
          12,
          13,
          14,
          15,
          16,
          17,
          18,
          19,
          20,
          21,
          22,
          23,
          24,
          25,
          26,
          27,
          28,
          29,
          30,
          31,
          32,
          33,
          34,
          35,
          36,
          37,
          38
         ],
         "xaxis": "x",
         "y": [
          20.996280670166016,
          25.901830673217773,
          19.150514602661133,
          13.880597114562988,
          9.887267112731934,
          16.24843406677246,
          15.243013381958008,
          5.127598762512207,
          0.22374045848846436,
          12.467178344726562,
          12.761542320251465,
          9.77127742767334,
          8.149246215820312,
          3.70855450630188,
          10.503229141235352,
          12.4733247756958,
          9.5076322555542,
          5.264617443084717,
          15.687356948852539,
          16.031986236572266,
          11.52991771697998,
          5.851848125457764,
          2.2935798168182373,
          15.538479804992676,
          15.757247924804688,
          11.759353637695312,
          10.406113624572754,
          12.148724555969238,
          7.683326721191406,
          11.189351081848145,
          8.228163719177246,
          16.299558639526367,
          11.338604927062988,
          3.3192832469940186,
          5.431058406829834,
          7.182902812957764,
          5.004900932312012,
          1.9484821557998657,
          2.8005828857421875
         ],
         "yaxis": "y"
        }
       ],
       "layout": {
        "legend": {
         "title": {
          "text": "variable"
         },
         "tracegroupgap": 0
        },
        "template": {
         "data": {
          "bar": [
           {
            "error_x": {
             "color": "#2a3f5f"
            },
            "error_y": {
             "color": "#2a3f5f"
            },
            "marker": {
             "line": {
              "color": "white",
              "width": 0.5
             },
             "pattern": {
              "fillmode": "overlay",
              "size": 10,
              "solidity": 0.2
             }
            },
            "type": "bar"
           }
          ],
          "barpolar": [
           {
            "marker": {
             "line": {
              "color": "white",
              "width": 0.5
             },
             "pattern": {
              "fillmode": "overlay",
              "size": 10,
              "solidity": 0.2
             }
            },
            "type": "barpolar"
           }
          ],
          "carpet": [
           {
            "aaxis": {
             "endlinecolor": "#2a3f5f",
             "gridcolor": "#C8D4E3",
             "linecolor": "#C8D4E3",
             "minorgridcolor": "#C8D4E3",
             "startlinecolor": "#2a3f5f"
            },
            "baxis": {
             "endlinecolor": "#2a3f5f",
             "gridcolor": "#C8D4E3",
             "linecolor": "#C8D4E3",
             "minorgridcolor": "#C8D4E3",
             "startlinecolor": "#2a3f5f"
            },
            "type": "carpet"
           }
          ],
          "choropleth": [
           {
            "colorbar": {
             "outlinewidth": 0,
             "ticks": ""
            },
            "type": "choropleth"
           }
          ],
          "contour": [
           {
            "colorbar": {
             "outlinewidth": 0,
             "ticks": ""
            },
            "colorscale": [
             [
              0,
              "#0d0887"
             ],
             [
              0.1111111111111111,
              "#46039f"
             ],
             [
              0.2222222222222222,
              "#7201a8"
             ],
             [
              0.3333333333333333,
              "#9c179e"
             ],
             [
              0.4444444444444444,
              "#bd3786"
             ],
             [
              0.5555555555555556,
              "#d8576b"
             ],
             [
              0.6666666666666666,
              "#ed7953"
             ],
             [
              0.7777777777777778,
              "#fb9f3a"
             ],
             [
              0.8888888888888888,
              "#fdca26"
             ],
             [
              1,
              "#f0f921"
             ]
            ],
            "type": "contour"
           }
          ],
          "contourcarpet": [
           {
            "colorbar": {
             "outlinewidth": 0,
             "ticks": ""
            },
            "type": "contourcarpet"
           }
          ],
          "heatmap": [
           {
            "colorbar": {
             "outlinewidth": 0,
             "ticks": ""
            },
            "colorscale": [
             [
              0,
              "#0d0887"
             ],
             [
              0.1111111111111111,
              "#46039f"
             ],
             [
              0.2222222222222222,
              "#7201a8"
             ],
             [
              0.3333333333333333,
              "#9c179e"
             ],
             [
              0.4444444444444444,
              "#bd3786"
             ],
             [
              0.5555555555555556,
              "#d8576b"
             ],
             [
              0.6666666666666666,
              "#ed7953"
             ],
             [
              0.7777777777777778,
              "#fb9f3a"
             ],
             [
              0.8888888888888888,
              "#fdca26"
             ],
             [
              1,
              "#f0f921"
             ]
            ],
            "type": "heatmap"
           }
          ],
          "heatmapgl": [
           {
            "colorbar": {
             "outlinewidth": 0,
             "ticks": ""
            },
            "colorscale": [
             [
              0,
              "#0d0887"
             ],
             [
              0.1111111111111111,
              "#46039f"
             ],
             [
              0.2222222222222222,
              "#7201a8"
             ],
             [
              0.3333333333333333,
              "#9c179e"
             ],
             [
              0.4444444444444444,
              "#bd3786"
             ],
             [
              0.5555555555555556,
              "#d8576b"
             ],
             [
              0.6666666666666666,
              "#ed7953"
             ],
             [
              0.7777777777777778,
              "#fb9f3a"
             ],
             [
              0.8888888888888888,
              "#fdca26"
             ],
             [
              1,
              "#f0f921"
             ]
            ],
            "type": "heatmapgl"
           }
          ],
          "histogram": [
           {
            "marker": {
             "pattern": {
              "fillmode": "overlay",
              "size": 10,
              "solidity": 0.2
             }
            },
            "type": "histogram"
           }
          ],
          "histogram2d": [
           {
            "colorbar": {
             "outlinewidth": 0,
             "ticks": ""
            },
            "colorscale": [
             [
              0,
              "#0d0887"
             ],
             [
              0.1111111111111111,
              "#46039f"
             ],
             [
              0.2222222222222222,
              "#7201a8"
             ],
             [
              0.3333333333333333,
              "#9c179e"
             ],
             [
              0.4444444444444444,
              "#bd3786"
             ],
             [
              0.5555555555555556,
              "#d8576b"
             ],
             [
              0.6666666666666666,
              "#ed7953"
             ],
             [
              0.7777777777777778,
              "#fb9f3a"
             ],
             [
              0.8888888888888888,
              "#fdca26"
             ],
             [
              1,
              "#f0f921"
             ]
            ],
            "type": "histogram2d"
           }
          ],
          "histogram2dcontour": [
           {
            "colorbar": {
             "outlinewidth": 0,
             "ticks": ""
            },
            "colorscale": [
             [
              0,
              "#0d0887"
             ],
             [
              0.1111111111111111,
              "#46039f"
             ],
             [
              0.2222222222222222,
              "#7201a8"
             ],
             [
              0.3333333333333333,
              "#9c179e"
             ],
             [
              0.4444444444444444,
              "#bd3786"
             ],
             [
              0.5555555555555556,
              "#d8576b"
             ],
             [
              0.6666666666666666,
              "#ed7953"
             ],
             [
              0.7777777777777778,
              "#fb9f3a"
             ],
             [
              0.8888888888888888,
              "#fdca26"
             ],
             [
              1,
              "#f0f921"
             ]
            ],
            "type": "histogram2dcontour"
           }
          ],
          "mesh3d": [
           {
            "colorbar": {
             "outlinewidth": 0,
             "ticks": ""
            },
            "type": "mesh3d"
           }
          ],
          "parcoords": [
           {
            "line": {
             "colorbar": {
              "outlinewidth": 0,
              "ticks": ""
             }
            },
            "type": "parcoords"
           }
          ],
          "pie": [
           {
            "automargin": true,
            "type": "pie"
           }
          ],
          "scatter": [
           {
            "fillpattern": {
             "fillmode": "overlay",
             "size": 10,
             "solidity": 0.2
            },
            "type": "scatter"
           }
          ],
          "scatter3d": [
           {
            "line": {
             "colorbar": {
              "outlinewidth": 0,
              "ticks": ""
             }
            },
            "marker": {
             "colorbar": {
              "outlinewidth": 0,
              "ticks": ""
             }
            },
            "type": "scatter3d"
           }
          ],
          "scattercarpet": [
           {
            "marker": {
             "colorbar": {
              "outlinewidth": 0,
              "ticks": ""
             }
            },
            "type": "scattercarpet"
           }
          ],
          "scattergeo": [
           {
            "marker": {
             "colorbar": {
              "outlinewidth": 0,
              "ticks": ""
             }
            },
            "type": "scattergeo"
           }
          ],
          "scattergl": [
           {
            "marker": {
             "colorbar": {
              "outlinewidth": 0,
              "ticks": ""
             }
            },
            "type": "scattergl"
           }
          ],
          "scattermapbox": [
           {
            "marker": {
             "colorbar": {
              "outlinewidth": 0,
              "ticks": ""
             }
            },
            "type": "scattermapbox"
           }
          ],
          "scatterpolar": [
           {
            "marker": {
             "colorbar": {
              "outlinewidth": 0,
              "ticks": ""
             }
            },
            "type": "scatterpolar"
           }
          ],
          "scatterpolargl": [
           {
            "marker": {
             "colorbar": {
              "outlinewidth": 0,
              "ticks": ""
             }
            },
            "type": "scatterpolargl"
           }
          ],
          "scatterternary": [
           {
            "marker": {
             "colorbar": {
              "outlinewidth": 0,
              "ticks": ""
             }
            },
            "type": "scatterternary"
           }
          ],
          "surface": [
           {
            "colorbar": {
             "outlinewidth": 0,
             "ticks": ""
            },
            "colorscale": [
             [
              0,
              "#0d0887"
             ],
             [
              0.1111111111111111,
              "#46039f"
             ],
             [
              0.2222222222222222,
              "#7201a8"
             ],
             [
              0.3333333333333333,
              "#9c179e"
             ],
             [
              0.4444444444444444,
              "#bd3786"
             ],
             [
              0.5555555555555556,
              "#d8576b"
             ],
             [
              0.6666666666666666,
              "#ed7953"
             ],
             [
              0.7777777777777778,
              "#fb9f3a"
             ],
             [
              0.8888888888888888,
              "#fdca26"
             ],
             [
              1,
              "#f0f921"
             ]
            ],
            "type": "surface"
           }
          ],
          "table": [
           {
            "cells": {
             "fill": {
              "color": "#EBF0F8"
             },
             "line": {
              "color": "white"
             }
            },
            "header": {
             "fill": {
              "color": "#C8D4E3"
             },
             "line": {
              "color": "white"
             }
            },
            "type": "table"
           }
          ]
         },
         "layout": {
          "annotationdefaults": {
           "arrowcolor": "#2a3f5f",
           "arrowhead": 0,
           "arrowwidth": 1
          },
          "autotypenumbers": "strict",
          "coloraxis": {
           "colorbar": {
            "outlinewidth": 0,
            "ticks": ""
           }
          },
          "colorscale": {
           "diverging": [
            [
             0,
             "#8e0152"
            ],
            [
             0.1,
             "#c51b7d"
            ],
            [
             0.2,
             "#de77ae"
            ],
            [
             0.3,
             "#f1b6da"
            ],
            [
             0.4,
             "#fde0ef"
            ],
            [
             0.5,
             "#f7f7f7"
            ],
            [
             0.6,
             "#e6f5d0"
            ],
            [
             0.7,
             "#b8e186"
            ],
            [
             0.8,
             "#7fbc41"
            ],
            [
             0.9,
             "#4d9221"
            ],
            [
             1,
             "#276419"
            ]
           ],
           "sequential": [
            [
             0,
             "#0d0887"
            ],
            [
             0.1111111111111111,
             "#46039f"
            ],
            [
             0.2222222222222222,
             "#7201a8"
            ],
            [
             0.3333333333333333,
             "#9c179e"
            ],
            [
             0.4444444444444444,
             "#bd3786"
            ],
            [
             0.5555555555555556,
             "#d8576b"
            ],
            [
             0.6666666666666666,
             "#ed7953"
            ],
            [
             0.7777777777777778,
             "#fb9f3a"
            ],
            [
             0.8888888888888888,
             "#fdca26"
            ],
            [
             1,
             "#f0f921"
            ]
           ],
           "sequentialminus": [
            [
             0,
             "#0d0887"
            ],
            [
             0.1111111111111111,
             "#46039f"
            ],
            [
             0.2222222222222222,
             "#7201a8"
            ],
            [
             0.3333333333333333,
             "#9c179e"
            ],
            [
             0.4444444444444444,
             "#bd3786"
            ],
            [
             0.5555555555555556,
             "#d8576b"
            ],
            [
             0.6666666666666666,
             "#ed7953"
            ],
            [
             0.7777777777777778,
             "#fb9f3a"
            ],
            [
             0.8888888888888888,
             "#fdca26"
            ],
            [
             1,
             "#f0f921"
            ]
           ]
          },
          "colorway": [
           "#636efa",
           "#EF553B",
           "#00cc96",
           "#ab63fa",
           "#FFA15A",
           "#19d3f3",
           "#FF6692",
           "#B6E880",
           "#FF97FF",
           "#FECB52"
          ],
          "font": {
           "color": "#2a3f5f"
          },
          "geo": {
           "bgcolor": "white",
           "lakecolor": "white",
           "landcolor": "white",
           "showlakes": true,
           "showland": true,
           "subunitcolor": "#C8D4E3"
          },
          "hoverlabel": {
           "align": "left"
          },
          "hovermode": "closest",
          "mapbox": {
           "style": "light"
          },
          "paper_bgcolor": "white",
          "plot_bgcolor": "white",
          "polar": {
           "angularaxis": {
            "gridcolor": "#EBF0F8",
            "linecolor": "#EBF0F8",
            "ticks": ""
           },
           "bgcolor": "white",
           "radialaxis": {
            "gridcolor": "#EBF0F8",
            "linecolor": "#EBF0F8",
            "ticks": ""
           }
          },
          "scene": {
           "xaxis": {
            "backgroundcolor": "white",
            "gridcolor": "#DFE8F3",
            "gridwidth": 2,
            "linecolor": "#EBF0F8",
            "showbackground": true,
            "ticks": "",
            "zerolinecolor": "#EBF0F8"
           },
           "yaxis": {
            "backgroundcolor": "white",
            "gridcolor": "#DFE8F3",
            "gridwidth": 2,
            "linecolor": "#EBF0F8",
            "showbackground": true,
            "ticks": "",
            "zerolinecolor": "#EBF0F8"
           },
           "zaxis": {
            "backgroundcolor": "white",
            "gridcolor": "#DFE8F3",
            "gridwidth": 2,
            "linecolor": "#EBF0F8",
            "showbackground": true,
            "ticks": "",
            "zerolinecolor": "#EBF0F8"
           }
          },
          "shapedefaults": {
           "line": {
            "color": "#2a3f5f"
           }
          },
          "ternary": {
           "aaxis": {
            "gridcolor": "#DFE8F3",
            "linecolor": "#A2B1C6",
            "ticks": ""
           },
           "baxis": {
            "gridcolor": "#DFE8F3",
            "linecolor": "#A2B1C6",
            "ticks": ""
           },
           "bgcolor": "white",
           "caxis": {
            "gridcolor": "#DFE8F3",
            "linecolor": "#A2B1C6",
            "ticks": ""
           }
          },
          "title": {
           "x": 0.05
          },
          "xaxis": {
           "automargin": true,
           "gridcolor": "#EBF0F8",
           "linecolor": "#EBF0F8",
           "ticks": "",
           "title": {
            "standoff": 15
           },
           "zerolinecolor": "#EBF0F8",
           "zerolinewidth": 2
          },
          "yaxis": {
           "automargin": true,
           "gridcolor": "#EBF0F8",
           "linecolor": "#EBF0F8",
           "ticks": "",
           "title": {
            "standoff": 15
           },
           "zerolinecolor": "#EBF0F8",
           "zerolinewidth": 2
          }
         }
        },
        "title": {
         "text": "Losses standalone"
        },
        "xaxis": {
         "anchor": "y",
         "domain": [
          0,
          1
         ],
         "title": {
          "text": "epoch"
         }
        },
        "yaxis": {
         "anchor": "x",
         "domain": [
          0,
          1
         ],
         "title": {
          "text": "value"
         }
        }
       }
      }
     },
     "metadata": {},
     "output_type": "display_data"
    },
    {
     "data": {
      "application/vnd.plotly.v1+json": {
       "config": {
        "plotlyServerURL": "https://plot.ly"
       },
       "data": [
        {
         "hovertemplate": "log=cifar.standalone.logs.json<br>variable=mean_d_loss<br>epoch=%{x}<br>value=%{y}<extra></extra>",
         "legendgroup": "cifar.standalone.logs.json",
         "line": {
          "color": "#636efa",
          "dash": "solid"
         },
         "marker": {
          "symbol": "circle"
         },
         "mode": "lines",
         "name": "cifar.standalone.logs.json",
         "orientation": "v",
         "showlegend": true,
         "type": "scatter",
         "x": [
          0,
          1,
          2,
          3,
          4,
          5,
          6,
          7,
          8,
          9,
          10,
          11,
          12,
          13,
          14,
          15,
          16,
          17,
          18,
          19,
          20,
          21,
          22,
          23,
          24,
          25,
          26,
          27,
          28,
          29,
          30,
          31,
          32,
          33,
          34,
          35,
          36,
          37,
          38
         ],
         "xaxis": "x",
         "y": [
          1.4514777660369873,
          6.401399612426758,
          2.6319377422332764,
          0.904638946056366,
          0.11380131542682648,
          22.038604736328125,
          0.6218973994255066,
          0.5417352914810181,
          49.0224723815918,
          6.181591033935547,
          3.256511688232422,
          1.9550483226776123,
          0.012509255670011044,
          0.9070997834205627,
          0.9659730195999146,
          0.06426912546157837,
          0.8060498833656311,
          0.09207621216773987,
          5.450120449066162,
          0.833655059337616,
          1.6374250650405884,
          1.5948275327682495,
          0.07043258845806122,
          4.188528537750244,
          0.27204903960227966,
          0.28693312406539917,
          4.529378890991211,
          1.6646530628204346,
          1.6328394412994385,
          7.00459098815918,
          3.8686439990997314,
          5.029612064361572,
          1.4405995607376099,
          17.53201675415039,
          3.517202854156494,
          2.1762266159057617,
          1.45733642578125,
          2.045257329940796,
          2.5806081295013428
         ],
         "yaxis": "y"
        },
        {
         "hovertemplate": "log=logs/mdgan.5.cifar.worker.1.logs.json<br>variable=mean_d_loss<br>epoch=%{x}<br>value=%{y}<extra></extra>",
         "legendgroup": "logs/mdgan.5.cifar.worker.1.logs.json",
         "line": {
          "color": "#EF553B",
          "dash": "solid"
         },
         "marker": {
          "symbol": "circle"
         },
         "mode": "lines",
         "name": "logs/mdgan.5.cifar.worker.1.logs.json",
         "orientation": "v",
         "showlegend": true,
         "type": "scatter",
         "x": [
          0,
          1,
          2,
          3,
          4,
          5,
          6,
          7,
          8,
          9,
          10,
          11,
          12,
          13,
          14,
          15,
          16,
          17,
          18,
          19,
          20,
          21,
          22,
          23,
          24,
          25,
          26
         ],
         "xaxis": "x",
         "y": [
          1.42488956451416,
          1.316728830337524,
          1.249480009078979,
          1.305892348289489,
          1.325184941291809,
          1.316048860549926,
          1.266319751739502,
          1.256486177444458,
          1.3539561033248901,
          1.21842360496521,
          1.26000964641571,
          1.15819764137268,
          1.260707974433899,
          1.202959656715393,
          1.250454783439636,
          1.195323228836059,
          1.218421339988708,
          1.165409803390503,
          1.084623098373413,
          1.195359468460083,
          1.142571449279785,
          1.23975932598114,
          1.099365949630737,
          1.107909321784973,
          1.079093694686889,
          1.060216426849365,
          1.184367775917053
         ],
         "yaxis": "y"
        },
        {
         "hovertemplate": "log=logs/mdgan.5.cifar.worker.2.logs.json<br>variable=mean_d_loss<br>epoch=%{x}<br>value=%{y}<extra></extra>",
         "legendgroup": "logs/mdgan.5.cifar.worker.2.logs.json",
         "line": {
          "color": "#00cc96",
          "dash": "solid"
         },
         "marker": {
          "symbol": "circle"
         },
         "mode": "lines",
         "name": "logs/mdgan.5.cifar.worker.2.logs.json",
         "orientation": "v",
         "showlegend": true,
         "type": "scatter",
         "x": [
          0,
          1,
          2,
          3,
          4,
          5,
          6,
          7,
          8,
          9,
          10,
          11,
          12,
          13,
          14,
          15,
          16,
          17,
          18,
          19,
          20,
          21,
          22,
          23,
          24,
          25,
          26
         ],
         "xaxis": "x",
         "y": [
          1.532685399055481,
          1.34343421459198,
          1.296470880508422,
          1.298784971237182,
          1.3770245313644411,
          1.291364789009094,
          1.287500262260437,
          1.255666375160217,
          1.32685124874115,
          1.275475740432739,
          1.339870691299438,
          1.362389802932739,
          1.222118496894836,
          1.33064866065979,
          1.181732773780822,
          1.276130557060241,
          1.220889687538147,
          1.245629906654358,
          1.141587495803833,
          1.2535841464996331,
          1.103996515274047,
          1.182376623153686,
          1.1189628839492791,
          1.112389802932739,
          1.166410326957702,
          1.100177764892578,
          1.081676721572876
         ],
         "yaxis": "y"
        },
        {
         "hovertemplate": "log=logs/mdgan.5.cifar.worker.3.logs.json<br>variable=mean_d_loss<br>epoch=%{x}<br>value=%{y}<extra></extra>",
         "legendgroup": "logs/mdgan.5.cifar.worker.3.logs.json",
         "line": {
          "color": "#ab63fa",
          "dash": "solid"
         },
         "marker": {
          "symbol": "circle"
         },
         "mode": "lines",
         "name": "logs/mdgan.5.cifar.worker.3.logs.json",
         "orientation": "v",
         "showlegend": true,
         "type": "scatter",
         "x": [
          0,
          1,
          2,
          3,
          4,
          5,
          6,
          7,
          8,
          9,
          10,
          11,
          12,
          13,
          14,
          15,
          16,
          17,
          18,
          19,
          20,
          21,
          22,
          23,
          24,
          25,
          26
         ],
         "xaxis": "x",
         "y": [
          1.474449157714843,
          1.47393262386322,
          1.384098052978515,
          1.310057878494262,
          1.397980213165283,
          1.353053450584411,
          1.329126715660095,
          1.282595634460449,
          1.309246301651001,
          1.305906295776367,
          1.246288657188415,
          1.163250088691711,
          1.27300477027893,
          1.347555518150329,
          1.3326554298400881,
          1.200222015380859,
          1.256825923919677,
          1.223227977752685,
          1.132580041885376,
          1.236213445663452,
          1.137745380401611,
          1.184424996376037,
          1.172024250030517,
          1.2088623046875,
          1.087005138397216,
          1.103614091873169,
          1.138497591018676
         ],
         "yaxis": "y"
        },
        {
         "hovertemplate": "log=logs/mdgan.5.cifar.worker.4.logs.json<br>variable=mean_d_loss<br>epoch=%{x}<br>value=%{y}<extra></extra>",
         "legendgroup": "logs/mdgan.5.cifar.worker.4.logs.json",
         "line": {
          "color": "#FFA15A",
          "dash": "solid"
         },
         "marker": {
          "symbol": "circle"
         },
         "mode": "lines",
         "name": "logs/mdgan.5.cifar.worker.4.logs.json",
         "orientation": "v",
         "showlegend": true,
         "type": "scatter",
         "x": [
          0,
          1,
          2,
          3,
          4,
          5,
          6,
          7,
          8,
          9,
          10,
          11,
          12,
          13,
          14,
          15,
          16,
          17,
          18,
          19,
          20,
          21,
          22,
          23,
          24,
          25,
          26
         ],
         "xaxis": "x",
         "y": [
          1.377844929695129,
          1.333048105239868,
          1.263103485107421,
          1.207187414169311,
          1.360395431518554,
          1.341426730155944,
          1.241652727127075,
          1.243236303329467,
          1.215283632278442,
          1.219250202178955,
          1.196667194366455,
          1.175833225250244,
          1.263844966888427,
          1.293215990066528,
          1.217603087425232,
          1.217750787734985,
          1.1923965215682981,
          1.180323243141174,
          1.146463990211486,
          1.125197291374206,
          1.1338791847229,
          1.142530083656311,
          1.167091608047485,
          1.1249860525131221,
          1.054395675659179,
          1.142104506492614,
          1.08772873878479
         ],
         "yaxis": "y"
        },
        {
         "hovertemplate": "log=logs/mdgan.5.cifar.worker.5.logs.json<br>variable=mean_d_loss<br>epoch=%{x}<br>value=%{y}<extra></extra>",
         "legendgroup": "logs/mdgan.5.cifar.worker.5.logs.json",
         "line": {
          "color": "#19d3f3",
          "dash": "solid"
         },
         "marker": {
          "symbol": "circle"
         },
         "mode": "lines",
         "name": "logs/mdgan.5.cifar.worker.5.logs.json",
         "orientation": "v",
         "showlegend": true,
         "type": "scatter",
         "x": [
          0,
          1,
          2,
          3,
          4,
          5,
          6,
          7,
          8,
          9,
          10,
          11,
          12,
          13,
          14,
          15,
          16,
          17,
          18,
          19,
          20,
          21,
          22,
          23,
          24,
          25,
          26
         ],
         "xaxis": "x",
         "y": [
          1.469798803329467,
          1.377375960350036,
          1.302064180374145,
          1.281275510787963,
          1.317356348037719,
          1.289359807968139,
          1.354297399520874,
          1.225412130355835,
          1.204435110092163,
          1.311188220977783,
          1.269482731819152,
          1.257690668106079,
          1.185706377029419,
          1.21944522857666,
          1.277042269706726,
          1.226074814796447,
          1.2482683658599851,
          1.247533679008483,
          1.137810230255127,
          1.1738029718399041,
          1.113994002342224,
          1.115025520324707,
          1.090374708175659,
          1.128687262535095,
          1.107578754425048,
          1.085692167282104,
          1.122033357620239
         ],
         "yaxis": "y"
        },
        {
         "hovertemplate": "log=logs/mdgan.5.cifar.server.logs.json<br>variable=mean_d_loss<br>epoch=%{x}<br>value=%{y}<extra></extra>",
         "legendgroup": "logs/mdgan.5.cifar.server.logs.json",
         "line": {
          "color": "#FF6692",
          "dash": "solid"
         },
         "marker": {
          "symbol": "circle"
         },
         "mode": "lines",
         "name": "logs/mdgan.5.cifar.server.logs.json",
         "orientation": "v",
         "showlegend": true,
         "type": "scatter",
         "x": [
          0,
          1,
          2,
          3,
          4,
          5,
          6,
          7,
          8,
          9,
          10,
          11,
          12,
          13,
          14,
          15,
          16,
          17,
          18,
          19,
          20,
          21,
          22,
          23,
          24,
          25
         ],
         "xaxis": "x",
         "y": [
          null,
          null,
          null,
          null,
          null,
          null,
          null,
          null,
          null,
          null,
          null,
          null,
          null,
          null,
          null,
          null,
          null,
          null,
          null,
          null,
          null,
          null,
          null,
          null,
          null,
          null
         ],
         "yaxis": "y"
        }
       ],
       "layout": {
        "legend": {
         "title": {
          "text": "log"
         },
         "tracegroupgap": 0
        },
        "template": {
         "data": {
          "bar": [
           {
            "error_x": {
             "color": "#2a3f5f"
            },
            "error_y": {
             "color": "#2a3f5f"
            },
            "marker": {
             "line": {
              "color": "white",
              "width": 0.5
             },
             "pattern": {
              "fillmode": "overlay",
              "size": 10,
              "solidity": 0.2
             }
            },
            "type": "bar"
           }
          ],
          "barpolar": [
           {
            "marker": {
             "line": {
              "color": "white",
              "width": 0.5
             },
             "pattern": {
              "fillmode": "overlay",
              "size": 10,
              "solidity": 0.2
             }
            },
            "type": "barpolar"
           }
          ],
          "carpet": [
           {
            "aaxis": {
             "endlinecolor": "#2a3f5f",
             "gridcolor": "#C8D4E3",
             "linecolor": "#C8D4E3",
             "minorgridcolor": "#C8D4E3",
             "startlinecolor": "#2a3f5f"
            },
            "baxis": {
             "endlinecolor": "#2a3f5f",
             "gridcolor": "#C8D4E3",
             "linecolor": "#C8D4E3",
             "minorgridcolor": "#C8D4E3",
             "startlinecolor": "#2a3f5f"
            },
            "type": "carpet"
           }
          ],
          "choropleth": [
           {
            "colorbar": {
             "outlinewidth": 0,
             "ticks": ""
            },
            "type": "choropleth"
           }
          ],
          "contour": [
           {
            "colorbar": {
             "outlinewidth": 0,
             "ticks": ""
            },
            "colorscale": [
             [
              0,
              "#0d0887"
             ],
             [
              0.1111111111111111,
              "#46039f"
             ],
             [
              0.2222222222222222,
              "#7201a8"
             ],
             [
              0.3333333333333333,
              "#9c179e"
             ],
             [
              0.4444444444444444,
              "#bd3786"
             ],
             [
              0.5555555555555556,
              "#d8576b"
             ],
             [
              0.6666666666666666,
              "#ed7953"
             ],
             [
              0.7777777777777778,
              "#fb9f3a"
             ],
             [
              0.8888888888888888,
              "#fdca26"
             ],
             [
              1,
              "#f0f921"
             ]
            ],
            "type": "contour"
           }
          ],
          "contourcarpet": [
           {
            "colorbar": {
             "outlinewidth": 0,
             "ticks": ""
            },
            "type": "contourcarpet"
           }
          ],
          "heatmap": [
           {
            "colorbar": {
             "outlinewidth": 0,
             "ticks": ""
            },
            "colorscale": [
             [
              0,
              "#0d0887"
             ],
             [
              0.1111111111111111,
              "#46039f"
             ],
             [
              0.2222222222222222,
              "#7201a8"
             ],
             [
              0.3333333333333333,
              "#9c179e"
             ],
             [
              0.4444444444444444,
              "#bd3786"
             ],
             [
              0.5555555555555556,
              "#d8576b"
             ],
             [
              0.6666666666666666,
              "#ed7953"
             ],
             [
              0.7777777777777778,
              "#fb9f3a"
             ],
             [
              0.8888888888888888,
              "#fdca26"
             ],
             [
              1,
              "#f0f921"
             ]
            ],
            "type": "heatmap"
           }
          ],
          "heatmapgl": [
           {
            "colorbar": {
             "outlinewidth": 0,
             "ticks": ""
            },
            "colorscale": [
             [
              0,
              "#0d0887"
             ],
             [
              0.1111111111111111,
              "#46039f"
             ],
             [
              0.2222222222222222,
              "#7201a8"
             ],
             [
              0.3333333333333333,
              "#9c179e"
             ],
             [
              0.4444444444444444,
              "#bd3786"
             ],
             [
              0.5555555555555556,
              "#d8576b"
             ],
             [
              0.6666666666666666,
              "#ed7953"
             ],
             [
              0.7777777777777778,
              "#fb9f3a"
             ],
             [
              0.8888888888888888,
              "#fdca26"
             ],
             [
              1,
              "#f0f921"
             ]
            ],
            "type": "heatmapgl"
           }
          ],
          "histogram": [
           {
            "marker": {
             "pattern": {
              "fillmode": "overlay",
              "size": 10,
              "solidity": 0.2
             }
            },
            "type": "histogram"
           }
          ],
          "histogram2d": [
           {
            "colorbar": {
             "outlinewidth": 0,
             "ticks": ""
            },
            "colorscale": [
             [
              0,
              "#0d0887"
             ],
             [
              0.1111111111111111,
              "#46039f"
             ],
             [
              0.2222222222222222,
              "#7201a8"
             ],
             [
              0.3333333333333333,
              "#9c179e"
             ],
             [
              0.4444444444444444,
              "#bd3786"
             ],
             [
              0.5555555555555556,
              "#d8576b"
             ],
             [
              0.6666666666666666,
              "#ed7953"
             ],
             [
              0.7777777777777778,
              "#fb9f3a"
             ],
             [
              0.8888888888888888,
              "#fdca26"
             ],
             [
              1,
              "#f0f921"
             ]
            ],
            "type": "histogram2d"
           }
          ],
          "histogram2dcontour": [
           {
            "colorbar": {
             "outlinewidth": 0,
             "ticks": ""
            },
            "colorscale": [
             [
              0,
              "#0d0887"
             ],
             [
              0.1111111111111111,
              "#46039f"
             ],
             [
              0.2222222222222222,
              "#7201a8"
             ],
             [
              0.3333333333333333,
              "#9c179e"
             ],
             [
              0.4444444444444444,
              "#bd3786"
             ],
             [
              0.5555555555555556,
              "#d8576b"
             ],
             [
              0.6666666666666666,
              "#ed7953"
             ],
             [
              0.7777777777777778,
              "#fb9f3a"
             ],
             [
              0.8888888888888888,
              "#fdca26"
             ],
             [
              1,
              "#f0f921"
             ]
            ],
            "type": "histogram2dcontour"
           }
          ],
          "mesh3d": [
           {
            "colorbar": {
             "outlinewidth": 0,
             "ticks": ""
            },
            "type": "mesh3d"
           }
          ],
          "parcoords": [
           {
            "line": {
             "colorbar": {
              "outlinewidth": 0,
              "ticks": ""
             }
            },
            "type": "parcoords"
           }
          ],
          "pie": [
           {
            "automargin": true,
            "type": "pie"
           }
          ],
          "scatter": [
           {
            "fillpattern": {
             "fillmode": "overlay",
             "size": 10,
             "solidity": 0.2
            },
            "type": "scatter"
           }
          ],
          "scatter3d": [
           {
            "line": {
             "colorbar": {
              "outlinewidth": 0,
              "ticks": ""
             }
            },
            "marker": {
             "colorbar": {
              "outlinewidth": 0,
              "ticks": ""
             }
            },
            "type": "scatter3d"
           }
          ],
          "scattercarpet": [
           {
            "marker": {
             "colorbar": {
              "outlinewidth": 0,
              "ticks": ""
             }
            },
            "type": "scattercarpet"
           }
          ],
          "scattergeo": [
           {
            "marker": {
             "colorbar": {
              "outlinewidth": 0,
              "ticks": ""
             }
            },
            "type": "scattergeo"
           }
          ],
          "scattergl": [
           {
            "marker": {
             "colorbar": {
              "outlinewidth": 0,
              "ticks": ""
             }
            },
            "type": "scattergl"
           }
          ],
          "scattermapbox": [
           {
            "marker": {
             "colorbar": {
              "outlinewidth": 0,
              "ticks": ""
             }
            },
            "type": "scattermapbox"
           }
          ],
          "scatterpolar": [
           {
            "marker": {
             "colorbar": {
              "outlinewidth": 0,
              "ticks": ""
             }
            },
            "type": "scatterpolar"
           }
          ],
          "scatterpolargl": [
           {
            "marker": {
             "colorbar": {
              "outlinewidth": 0,
              "ticks": ""
             }
            },
            "type": "scatterpolargl"
           }
          ],
          "scatterternary": [
           {
            "marker": {
             "colorbar": {
              "outlinewidth": 0,
              "ticks": ""
             }
            },
            "type": "scatterternary"
           }
          ],
          "surface": [
           {
            "colorbar": {
             "outlinewidth": 0,
             "ticks": ""
            },
            "colorscale": [
             [
              0,
              "#0d0887"
             ],
             [
              0.1111111111111111,
              "#46039f"
             ],
             [
              0.2222222222222222,
              "#7201a8"
             ],
             [
              0.3333333333333333,
              "#9c179e"
             ],
             [
              0.4444444444444444,
              "#bd3786"
             ],
             [
              0.5555555555555556,
              "#d8576b"
             ],
             [
              0.6666666666666666,
              "#ed7953"
             ],
             [
              0.7777777777777778,
              "#fb9f3a"
             ],
             [
              0.8888888888888888,
              "#fdca26"
             ],
             [
              1,
              "#f0f921"
             ]
            ],
            "type": "surface"
           }
          ],
          "table": [
           {
            "cells": {
             "fill": {
              "color": "#EBF0F8"
             },
             "line": {
              "color": "white"
             }
            },
            "header": {
             "fill": {
              "color": "#C8D4E3"
             },
             "line": {
              "color": "white"
             }
            },
            "type": "table"
           }
          ]
         },
         "layout": {
          "annotationdefaults": {
           "arrowcolor": "#2a3f5f",
           "arrowhead": 0,
           "arrowwidth": 1
          },
          "autotypenumbers": "strict",
          "coloraxis": {
           "colorbar": {
            "outlinewidth": 0,
            "ticks": ""
           }
          },
          "colorscale": {
           "diverging": [
            [
             0,
             "#8e0152"
            ],
            [
             0.1,
             "#c51b7d"
            ],
            [
             0.2,
             "#de77ae"
            ],
            [
             0.3,
             "#f1b6da"
            ],
            [
             0.4,
             "#fde0ef"
            ],
            [
             0.5,
             "#f7f7f7"
            ],
            [
             0.6,
             "#e6f5d0"
            ],
            [
             0.7,
             "#b8e186"
            ],
            [
             0.8,
             "#7fbc41"
            ],
            [
             0.9,
             "#4d9221"
            ],
            [
             1,
             "#276419"
            ]
           ],
           "sequential": [
            [
             0,
             "#0d0887"
            ],
            [
             0.1111111111111111,
             "#46039f"
            ],
            [
             0.2222222222222222,
             "#7201a8"
            ],
            [
             0.3333333333333333,
             "#9c179e"
            ],
            [
             0.4444444444444444,
             "#bd3786"
            ],
            [
             0.5555555555555556,
             "#d8576b"
            ],
            [
             0.6666666666666666,
             "#ed7953"
            ],
            [
             0.7777777777777778,
             "#fb9f3a"
            ],
            [
             0.8888888888888888,
             "#fdca26"
            ],
            [
             1,
             "#f0f921"
            ]
           ],
           "sequentialminus": [
            [
             0,
             "#0d0887"
            ],
            [
             0.1111111111111111,
             "#46039f"
            ],
            [
             0.2222222222222222,
             "#7201a8"
            ],
            [
             0.3333333333333333,
             "#9c179e"
            ],
            [
             0.4444444444444444,
             "#bd3786"
            ],
            [
             0.5555555555555556,
             "#d8576b"
            ],
            [
             0.6666666666666666,
             "#ed7953"
            ],
            [
             0.7777777777777778,
             "#fb9f3a"
            ],
            [
             0.8888888888888888,
             "#fdca26"
            ],
            [
             1,
             "#f0f921"
            ]
           ]
          },
          "colorway": [
           "#636efa",
           "#EF553B",
           "#00cc96",
           "#ab63fa",
           "#FFA15A",
           "#19d3f3",
           "#FF6692",
           "#B6E880",
           "#FF97FF",
           "#FECB52"
          ],
          "font": {
           "color": "#2a3f5f"
          },
          "geo": {
           "bgcolor": "white",
           "lakecolor": "white",
           "landcolor": "white",
           "showlakes": true,
           "showland": true,
           "subunitcolor": "#C8D4E3"
          },
          "hoverlabel": {
           "align": "left"
          },
          "hovermode": "closest",
          "mapbox": {
           "style": "light"
          },
          "paper_bgcolor": "white",
          "plot_bgcolor": "white",
          "polar": {
           "angularaxis": {
            "gridcolor": "#EBF0F8",
            "linecolor": "#EBF0F8",
            "ticks": ""
           },
           "bgcolor": "white",
           "radialaxis": {
            "gridcolor": "#EBF0F8",
            "linecolor": "#EBF0F8",
            "ticks": ""
           }
          },
          "scene": {
           "xaxis": {
            "backgroundcolor": "white",
            "gridcolor": "#DFE8F3",
            "gridwidth": 2,
            "linecolor": "#EBF0F8",
            "showbackground": true,
            "ticks": "",
            "zerolinecolor": "#EBF0F8"
           },
           "yaxis": {
            "backgroundcolor": "white",
            "gridcolor": "#DFE8F3",
            "gridwidth": 2,
            "linecolor": "#EBF0F8",
            "showbackground": true,
            "ticks": "",
            "zerolinecolor": "#EBF0F8"
           },
           "zaxis": {
            "backgroundcolor": "white",
            "gridcolor": "#DFE8F3",
            "gridwidth": 2,
            "linecolor": "#EBF0F8",
            "showbackground": true,
            "ticks": "",
            "zerolinecolor": "#EBF0F8"
           }
          },
          "shapedefaults": {
           "line": {
            "color": "#2a3f5f"
           }
          },
          "ternary": {
           "aaxis": {
            "gridcolor": "#DFE8F3",
            "linecolor": "#A2B1C6",
            "ticks": ""
           },
           "baxis": {
            "gridcolor": "#DFE8F3",
            "linecolor": "#A2B1C6",
            "ticks": ""
           },
           "bgcolor": "white",
           "caxis": {
            "gridcolor": "#DFE8F3",
            "linecolor": "#A2B1C6",
            "ticks": ""
           }
          },
          "title": {
           "x": 0.05
          },
          "xaxis": {
           "automargin": true,
           "gridcolor": "#EBF0F8",
           "linecolor": "#EBF0F8",
           "ticks": "",
           "title": {
            "standoff": 15
           },
           "zerolinecolor": "#EBF0F8",
           "zerolinewidth": 2
          },
          "yaxis": {
           "automargin": true,
           "gridcolor": "#EBF0F8",
           "linecolor": "#EBF0F8",
           "ticks": "",
           "title": {
            "standoff": 15
           },
           "zerolinecolor": "#EBF0F8",
           "zerolinewidth": 2
          }
         }
        },
        "title": {
         "text": "Losses discriminators"
        },
        "xaxis": {
         "anchor": "y",
         "domain": [
          0,
          1
         ],
         "title": {
          "text": "epoch"
         }
        },
        "yaxis": {
         "anchor": "x",
         "domain": [
          0,
          1
         ],
         "title": {
          "text": "value"
         }
        }
       }
      }
     },
     "metadata": {},
     "output_type": "display_data"
    },
    {
     "data": {
      "application/vnd.plotly.v1+json": {
       "config": {
        "plotlyServerURL": "https://plot.ly"
       },
       "data": [
        {
         "hovertemplate": "log=cifar.standalone.logs.json<br>variable=fid<br>epoch=%{x}<br>value=%{y}<extra></extra>",
         "legendgroup": "cifar.standalone.logs.json",
         "line": {
          "color": "#636efa",
          "dash": "solid"
         },
         "marker": {
          "symbol": "circle"
         },
         "mode": "lines",
         "name": "cifar.standalone.logs.json",
         "orientation": "v",
         "showlegend": true,
         "type": "scatter",
         "x": [
          0,
          10,
          20,
          30
         ],
         "xaxis": "x",
         "y": [
          480.99530029296875,
          434.6356506347656,
          349.62567138671875,
          523.4988403320312
         ],
         "yaxis": "y"
        },
        {
         "hovertemplate": "log=logs/mdgan.5.cifar.server.logs.json<br>variable=fid<br>epoch=%{x}<br>value=%{y}<extra></extra>",
         "legendgroup": "logs/mdgan.5.cifar.server.logs.json",
         "line": {
          "color": "#EF553B",
          "dash": "solid"
         },
         "marker": {
          "symbol": "circle"
         },
         "mode": "lines",
         "name": "logs/mdgan.5.cifar.server.logs.json",
         "orientation": "v",
         "showlegend": true,
         "type": "scatter",
         "x": [
          0
         ],
         "xaxis": "x",
         "y": [
          489.815673828125
         ],
         "yaxis": "y"
        }
       ],
       "layout": {
        "legend": {
         "title": {
          "text": "log"
         },
         "tracegroupgap": 0
        },
        "template": {
         "data": {
          "bar": [
           {
            "error_x": {
             "color": "#2a3f5f"
            },
            "error_y": {
             "color": "#2a3f5f"
            },
            "marker": {
             "line": {
              "color": "white",
              "width": 0.5
             },
             "pattern": {
              "fillmode": "overlay",
              "size": 10,
              "solidity": 0.2
             }
            },
            "type": "bar"
           }
          ],
          "barpolar": [
           {
            "marker": {
             "line": {
              "color": "white",
              "width": 0.5
             },
             "pattern": {
              "fillmode": "overlay",
              "size": 10,
              "solidity": 0.2
             }
            },
            "type": "barpolar"
           }
          ],
          "carpet": [
           {
            "aaxis": {
             "endlinecolor": "#2a3f5f",
             "gridcolor": "#C8D4E3",
             "linecolor": "#C8D4E3",
             "minorgridcolor": "#C8D4E3",
             "startlinecolor": "#2a3f5f"
            },
            "baxis": {
             "endlinecolor": "#2a3f5f",
             "gridcolor": "#C8D4E3",
             "linecolor": "#C8D4E3",
             "minorgridcolor": "#C8D4E3",
             "startlinecolor": "#2a3f5f"
            },
            "type": "carpet"
           }
          ],
          "choropleth": [
           {
            "colorbar": {
             "outlinewidth": 0,
             "ticks": ""
            },
            "type": "choropleth"
           }
          ],
          "contour": [
           {
            "colorbar": {
             "outlinewidth": 0,
             "ticks": ""
            },
            "colorscale": [
             [
              0,
              "#0d0887"
             ],
             [
              0.1111111111111111,
              "#46039f"
             ],
             [
              0.2222222222222222,
              "#7201a8"
             ],
             [
              0.3333333333333333,
              "#9c179e"
             ],
             [
              0.4444444444444444,
              "#bd3786"
             ],
             [
              0.5555555555555556,
              "#d8576b"
             ],
             [
              0.6666666666666666,
              "#ed7953"
             ],
             [
              0.7777777777777778,
              "#fb9f3a"
             ],
             [
              0.8888888888888888,
              "#fdca26"
             ],
             [
              1,
              "#f0f921"
             ]
            ],
            "type": "contour"
           }
          ],
          "contourcarpet": [
           {
            "colorbar": {
             "outlinewidth": 0,
             "ticks": ""
            },
            "type": "contourcarpet"
           }
          ],
          "heatmap": [
           {
            "colorbar": {
             "outlinewidth": 0,
             "ticks": ""
            },
            "colorscale": [
             [
              0,
              "#0d0887"
             ],
             [
              0.1111111111111111,
              "#46039f"
             ],
             [
              0.2222222222222222,
              "#7201a8"
             ],
             [
              0.3333333333333333,
              "#9c179e"
             ],
             [
              0.4444444444444444,
              "#bd3786"
             ],
             [
              0.5555555555555556,
              "#d8576b"
             ],
             [
              0.6666666666666666,
              "#ed7953"
             ],
             [
              0.7777777777777778,
              "#fb9f3a"
             ],
             [
              0.8888888888888888,
              "#fdca26"
             ],
             [
              1,
              "#f0f921"
             ]
            ],
            "type": "heatmap"
           }
          ],
          "heatmapgl": [
           {
            "colorbar": {
             "outlinewidth": 0,
             "ticks": ""
            },
            "colorscale": [
             [
              0,
              "#0d0887"
             ],
             [
              0.1111111111111111,
              "#46039f"
             ],
             [
              0.2222222222222222,
              "#7201a8"
             ],
             [
              0.3333333333333333,
              "#9c179e"
             ],
             [
              0.4444444444444444,
              "#bd3786"
             ],
             [
              0.5555555555555556,
              "#d8576b"
             ],
             [
              0.6666666666666666,
              "#ed7953"
             ],
             [
              0.7777777777777778,
              "#fb9f3a"
             ],
             [
              0.8888888888888888,
              "#fdca26"
             ],
             [
              1,
              "#f0f921"
             ]
            ],
            "type": "heatmapgl"
           }
          ],
          "histogram": [
           {
            "marker": {
             "pattern": {
              "fillmode": "overlay",
              "size": 10,
              "solidity": 0.2
             }
            },
            "type": "histogram"
           }
          ],
          "histogram2d": [
           {
            "colorbar": {
             "outlinewidth": 0,
             "ticks": ""
            },
            "colorscale": [
             [
              0,
              "#0d0887"
             ],
             [
              0.1111111111111111,
              "#46039f"
             ],
             [
              0.2222222222222222,
              "#7201a8"
             ],
             [
              0.3333333333333333,
              "#9c179e"
             ],
             [
              0.4444444444444444,
              "#bd3786"
             ],
             [
              0.5555555555555556,
              "#d8576b"
             ],
             [
              0.6666666666666666,
              "#ed7953"
             ],
             [
              0.7777777777777778,
              "#fb9f3a"
             ],
             [
              0.8888888888888888,
              "#fdca26"
             ],
             [
              1,
              "#f0f921"
             ]
            ],
            "type": "histogram2d"
           }
          ],
          "histogram2dcontour": [
           {
            "colorbar": {
             "outlinewidth": 0,
             "ticks": ""
            },
            "colorscale": [
             [
              0,
              "#0d0887"
             ],
             [
              0.1111111111111111,
              "#46039f"
             ],
             [
              0.2222222222222222,
              "#7201a8"
             ],
             [
              0.3333333333333333,
              "#9c179e"
             ],
             [
              0.4444444444444444,
              "#bd3786"
             ],
             [
              0.5555555555555556,
              "#d8576b"
             ],
             [
              0.6666666666666666,
              "#ed7953"
             ],
             [
              0.7777777777777778,
              "#fb9f3a"
             ],
             [
              0.8888888888888888,
              "#fdca26"
             ],
             [
              1,
              "#f0f921"
             ]
            ],
            "type": "histogram2dcontour"
           }
          ],
          "mesh3d": [
           {
            "colorbar": {
             "outlinewidth": 0,
             "ticks": ""
            },
            "type": "mesh3d"
           }
          ],
          "parcoords": [
           {
            "line": {
             "colorbar": {
              "outlinewidth": 0,
              "ticks": ""
             }
            },
            "type": "parcoords"
           }
          ],
          "pie": [
           {
            "automargin": true,
            "type": "pie"
           }
          ],
          "scatter": [
           {
            "fillpattern": {
             "fillmode": "overlay",
             "size": 10,
             "solidity": 0.2
            },
            "type": "scatter"
           }
          ],
          "scatter3d": [
           {
            "line": {
             "colorbar": {
              "outlinewidth": 0,
              "ticks": ""
             }
            },
            "marker": {
             "colorbar": {
              "outlinewidth": 0,
              "ticks": ""
             }
            },
            "type": "scatter3d"
           }
          ],
          "scattercarpet": [
           {
            "marker": {
             "colorbar": {
              "outlinewidth": 0,
              "ticks": ""
             }
            },
            "type": "scattercarpet"
           }
          ],
          "scattergeo": [
           {
            "marker": {
             "colorbar": {
              "outlinewidth": 0,
              "ticks": ""
             }
            },
            "type": "scattergeo"
           }
          ],
          "scattergl": [
           {
            "marker": {
             "colorbar": {
              "outlinewidth": 0,
              "ticks": ""
             }
            },
            "type": "scattergl"
           }
          ],
          "scattermapbox": [
           {
            "marker": {
             "colorbar": {
              "outlinewidth": 0,
              "ticks": ""
             }
            },
            "type": "scattermapbox"
           }
          ],
          "scatterpolar": [
           {
            "marker": {
             "colorbar": {
              "outlinewidth": 0,
              "ticks": ""
             }
            },
            "type": "scatterpolar"
           }
          ],
          "scatterpolargl": [
           {
            "marker": {
             "colorbar": {
              "outlinewidth": 0,
              "ticks": ""
             }
            },
            "type": "scatterpolargl"
           }
          ],
          "scatterternary": [
           {
            "marker": {
             "colorbar": {
              "outlinewidth": 0,
              "ticks": ""
             }
            },
            "type": "scatterternary"
           }
          ],
          "surface": [
           {
            "colorbar": {
             "outlinewidth": 0,
             "ticks": ""
            },
            "colorscale": [
             [
              0,
              "#0d0887"
             ],
             [
              0.1111111111111111,
              "#46039f"
             ],
             [
              0.2222222222222222,
              "#7201a8"
             ],
             [
              0.3333333333333333,
              "#9c179e"
             ],
             [
              0.4444444444444444,
              "#bd3786"
             ],
             [
              0.5555555555555556,
              "#d8576b"
             ],
             [
              0.6666666666666666,
              "#ed7953"
             ],
             [
              0.7777777777777778,
              "#fb9f3a"
             ],
             [
              0.8888888888888888,
              "#fdca26"
             ],
             [
              1,
              "#f0f921"
             ]
            ],
            "type": "surface"
           }
          ],
          "table": [
           {
            "cells": {
             "fill": {
              "color": "#EBF0F8"
             },
             "line": {
              "color": "white"
             }
            },
            "header": {
             "fill": {
              "color": "#C8D4E3"
             },
             "line": {
              "color": "white"
             }
            },
            "type": "table"
           }
          ]
         },
         "layout": {
          "annotationdefaults": {
           "arrowcolor": "#2a3f5f",
           "arrowhead": 0,
           "arrowwidth": 1
          },
          "autotypenumbers": "strict",
          "coloraxis": {
           "colorbar": {
            "outlinewidth": 0,
            "ticks": ""
           }
          },
          "colorscale": {
           "diverging": [
            [
             0,
             "#8e0152"
            ],
            [
             0.1,
             "#c51b7d"
            ],
            [
             0.2,
             "#de77ae"
            ],
            [
             0.3,
             "#f1b6da"
            ],
            [
             0.4,
             "#fde0ef"
            ],
            [
             0.5,
             "#f7f7f7"
            ],
            [
             0.6,
             "#e6f5d0"
            ],
            [
             0.7,
             "#b8e186"
            ],
            [
             0.8,
             "#7fbc41"
            ],
            [
             0.9,
             "#4d9221"
            ],
            [
             1,
             "#276419"
            ]
           ],
           "sequential": [
            [
             0,
             "#0d0887"
            ],
            [
             0.1111111111111111,
             "#46039f"
            ],
            [
             0.2222222222222222,
             "#7201a8"
            ],
            [
             0.3333333333333333,
             "#9c179e"
            ],
            [
             0.4444444444444444,
             "#bd3786"
            ],
            [
             0.5555555555555556,
             "#d8576b"
            ],
            [
             0.6666666666666666,
             "#ed7953"
            ],
            [
             0.7777777777777778,
             "#fb9f3a"
            ],
            [
             0.8888888888888888,
             "#fdca26"
            ],
            [
             1,
             "#f0f921"
            ]
           ],
           "sequentialminus": [
            [
             0,
             "#0d0887"
            ],
            [
             0.1111111111111111,
             "#46039f"
            ],
            [
             0.2222222222222222,
             "#7201a8"
            ],
            [
             0.3333333333333333,
             "#9c179e"
            ],
            [
             0.4444444444444444,
             "#bd3786"
            ],
            [
             0.5555555555555556,
             "#d8576b"
            ],
            [
             0.6666666666666666,
             "#ed7953"
            ],
            [
             0.7777777777777778,
             "#fb9f3a"
            ],
            [
             0.8888888888888888,
             "#fdca26"
            ],
            [
             1,
             "#f0f921"
            ]
           ]
          },
          "colorway": [
           "#636efa",
           "#EF553B",
           "#00cc96",
           "#ab63fa",
           "#FFA15A",
           "#19d3f3",
           "#FF6692",
           "#B6E880",
           "#FF97FF",
           "#FECB52"
          ],
          "font": {
           "color": "#2a3f5f"
          },
          "geo": {
           "bgcolor": "white",
           "lakecolor": "white",
           "landcolor": "white",
           "showlakes": true,
           "showland": true,
           "subunitcolor": "#C8D4E3"
          },
          "hoverlabel": {
           "align": "left"
          },
          "hovermode": "closest",
          "mapbox": {
           "style": "light"
          },
          "paper_bgcolor": "white",
          "plot_bgcolor": "white",
          "polar": {
           "angularaxis": {
            "gridcolor": "#EBF0F8",
            "linecolor": "#EBF0F8",
            "ticks": ""
           },
           "bgcolor": "white",
           "radialaxis": {
            "gridcolor": "#EBF0F8",
            "linecolor": "#EBF0F8",
            "ticks": ""
           }
          },
          "scene": {
           "xaxis": {
            "backgroundcolor": "white",
            "gridcolor": "#DFE8F3",
            "gridwidth": 2,
            "linecolor": "#EBF0F8",
            "showbackground": true,
            "ticks": "",
            "zerolinecolor": "#EBF0F8"
           },
           "yaxis": {
            "backgroundcolor": "white",
            "gridcolor": "#DFE8F3",
            "gridwidth": 2,
            "linecolor": "#EBF0F8",
            "showbackground": true,
            "ticks": "",
            "zerolinecolor": "#EBF0F8"
           },
           "zaxis": {
            "backgroundcolor": "white",
            "gridcolor": "#DFE8F3",
            "gridwidth": 2,
            "linecolor": "#EBF0F8",
            "showbackground": true,
            "ticks": "",
            "zerolinecolor": "#EBF0F8"
           }
          },
          "shapedefaults": {
           "line": {
            "color": "#2a3f5f"
           }
          },
          "ternary": {
           "aaxis": {
            "gridcolor": "#DFE8F3",
            "linecolor": "#A2B1C6",
            "ticks": ""
           },
           "baxis": {
            "gridcolor": "#DFE8F3",
            "linecolor": "#A2B1C6",
            "ticks": ""
           },
           "bgcolor": "white",
           "caxis": {
            "gridcolor": "#DFE8F3",
            "linecolor": "#A2B1C6",
            "ticks": ""
           }
          },
          "title": {
           "x": 0.05
          },
          "xaxis": {
           "automargin": true,
           "gridcolor": "#EBF0F8",
           "linecolor": "#EBF0F8",
           "ticks": "",
           "title": {
            "standoff": 15
           },
           "zerolinecolor": "#EBF0F8",
           "zerolinewidth": 2
          },
          "yaxis": {
           "automargin": true,
           "gridcolor": "#EBF0F8",
           "linecolor": "#EBF0F8",
           "ticks": "",
           "title": {
            "standoff": 15
           },
           "zerolinecolor": "#EBF0F8",
           "zerolinewidth": 2
          }
         }
        },
        "title": {
         "text": "Losses"
        },
        "xaxis": {
         "anchor": "y",
         "domain": [
          0,
          1
         ],
         "title": {
          "text": "epoch"
         }
        },
        "yaxis": {
         "anchor": "x",
         "domain": [
          0,
          1
         ],
         "title": {
          "text": "value"
         }
        }
       }
      }
     },
     "metadata": {},
     "output_type": "display_data"
    },
    {
     "data": {
      "application/vnd.plotly.v1+json": {
       "config": {
        "plotlyServerURL": "https://plot.ly"
       },
       "data": [
        {
         "hovertemplate": "log=cifar.standalone.logs.json<br>variable=is<br>epoch=%{x}<br>value=%{y}<extra></extra>",
         "legendgroup": "cifar.standalone.logs.json",
         "line": {
          "color": "#636efa",
          "dash": "solid"
         },
         "marker": {
          "symbol": "circle"
         },
         "mode": "lines",
         "name": "cifar.standalone.logs.json",
         "orientation": "v",
         "showlegend": true,
         "type": "scatter",
         "x": [
          0,
          10,
          20,
          30
         ],
         "xaxis": "x",
         "y": [
          1.0926604270935059,
          1.0514401197433472,
          1.0379284620285034,
          1.2123198509216309
         ],
         "yaxis": "y"
        },
        {
         "hovertemplate": "log=logs/mdgan.5.cifar.server.logs.json<br>variable=is<br>epoch=%{x}<br>value=%{y}<extra></extra>",
         "legendgroup": "logs/mdgan.5.cifar.server.logs.json",
         "line": {
          "color": "#EF553B",
          "dash": "solid"
         },
         "marker": {
          "symbol": "circle"
         },
         "mode": "lines",
         "name": "logs/mdgan.5.cifar.server.logs.json",
         "orientation": "v",
         "showlegend": true,
         "type": "scatter",
         "x": [
          0
         ],
         "xaxis": "x",
         "y": [
          1.131552100181579
         ],
         "yaxis": "y"
        }
       ],
       "layout": {
        "legend": {
         "title": {
          "text": "log"
         },
         "tracegroupgap": 0
        },
        "template": {
         "data": {
          "bar": [
           {
            "error_x": {
             "color": "#2a3f5f"
            },
            "error_y": {
             "color": "#2a3f5f"
            },
            "marker": {
             "line": {
              "color": "white",
              "width": 0.5
             },
             "pattern": {
              "fillmode": "overlay",
              "size": 10,
              "solidity": 0.2
             }
            },
            "type": "bar"
           }
          ],
          "barpolar": [
           {
            "marker": {
             "line": {
              "color": "white",
              "width": 0.5
             },
             "pattern": {
              "fillmode": "overlay",
              "size": 10,
              "solidity": 0.2
             }
            },
            "type": "barpolar"
           }
          ],
          "carpet": [
           {
            "aaxis": {
             "endlinecolor": "#2a3f5f",
             "gridcolor": "#C8D4E3",
             "linecolor": "#C8D4E3",
             "minorgridcolor": "#C8D4E3",
             "startlinecolor": "#2a3f5f"
            },
            "baxis": {
             "endlinecolor": "#2a3f5f",
             "gridcolor": "#C8D4E3",
             "linecolor": "#C8D4E3",
             "minorgridcolor": "#C8D4E3",
             "startlinecolor": "#2a3f5f"
            },
            "type": "carpet"
           }
          ],
          "choropleth": [
           {
            "colorbar": {
             "outlinewidth": 0,
             "ticks": ""
            },
            "type": "choropleth"
           }
          ],
          "contour": [
           {
            "colorbar": {
             "outlinewidth": 0,
             "ticks": ""
            },
            "colorscale": [
             [
              0,
              "#0d0887"
             ],
             [
              0.1111111111111111,
              "#46039f"
             ],
             [
              0.2222222222222222,
              "#7201a8"
             ],
             [
              0.3333333333333333,
              "#9c179e"
             ],
             [
              0.4444444444444444,
              "#bd3786"
             ],
             [
              0.5555555555555556,
              "#d8576b"
             ],
             [
              0.6666666666666666,
              "#ed7953"
             ],
             [
              0.7777777777777778,
              "#fb9f3a"
             ],
             [
              0.8888888888888888,
              "#fdca26"
             ],
             [
              1,
              "#f0f921"
             ]
            ],
            "type": "contour"
           }
          ],
          "contourcarpet": [
           {
            "colorbar": {
             "outlinewidth": 0,
             "ticks": ""
            },
            "type": "contourcarpet"
           }
          ],
          "heatmap": [
           {
            "colorbar": {
             "outlinewidth": 0,
             "ticks": ""
            },
            "colorscale": [
             [
              0,
              "#0d0887"
             ],
             [
              0.1111111111111111,
              "#46039f"
             ],
             [
              0.2222222222222222,
              "#7201a8"
             ],
             [
              0.3333333333333333,
              "#9c179e"
             ],
             [
              0.4444444444444444,
              "#bd3786"
             ],
             [
              0.5555555555555556,
              "#d8576b"
             ],
             [
              0.6666666666666666,
              "#ed7953"
             ],
             [
              0.7777777777777778,
              "#fb9f3a"
             ],
             [
              0.8888888888888888,
              "#fdca26"
             ],
             [
              1,
              "#f0f921"
             ]
            ],
            "type": "heatmap"
           }
          ],
          "heatmapgl": [
           {
            "colorbar": {
             "outlinewidth": 0,
             "ticks": ""
            },
            "colorscale": [
             [
              0,
              "#0d0887"
             ],
             [
              0.1111111111111111,
              "#46039f"
             ],
             [
              0.2222222222222222,
              "#7201a8"
             ],
             [
              0.3333333333333333,
              "#9c179e"
             ],
             [
              0.4444444444444444,
              "#bd3786"
             ],
             [
              0.5555555555555556,
              "#d8576b"
             ],
             [
              0.6666666666666666,
              "#ed7953"
             ],
             [
              0.7777777777777778,
              "#fb9f3a"
             ],
             [
              0.8888888888888888,
              "#fdca26"
             ],
             [
              1,
              "#f0f921"
             ]
            ],
            "type": "heatmapgl"
           }
          ],
          "histogram": [
           {
            "marker": {
             "pattern": {
              "fillmode": "overlay",
              "size": 10,
              "solidity": 0.2
             }
            },
            "type": "histogram"
           }
          ],
          "histogram2d": [
           {
            "colorbar": {
             "outlinewidth": 0,
             "ticks": ""
            },
            "colorscale": [
             [
              0,
              "#0d0887"
             ],
             [
              0.1111111111111111,
              "#46039f"
             ],
             [
              0.2222222222222222,
              "#7201a8"
             ],
             [
              0.3333333333333333,
              "#9c179e"
             ],
             [
              0.4444444444444444,
              "#bd3786"
             ],
             [
              0.5555555555555556,
              "#d8576b"
             ],
             [
              0.6666666666666666,
              "#ed7953"
             ],
             [
              0.7777777777777778,
              "#fb9f3a"
             ],
             [
              0.8888888888888888,
              "#fdca26"
             ],
             [
              1,
              "#f0f921"
             ]
            ],
            "type": "histogram2d"
           }
          ],
          "histogram2dcontour": [
           {
            "colorbar": {
             "outlinewidth": 0,
             "ticks": ""
            },
            "colorscale": [
             [
              0,
              "#0d0887"
             ],
             [
              0.1111111111111111,
              "#46039f"
             ],
             [
              0.2222222222222222,
              "#7201a8"
             ],
             [
              0.3333333333333333,
              "#9c179e"
             ],
             [
              0.4444444444444444,
              "#bd3786"
             ],
             [
              0.5555555555555556,
              "#d8576b"
             ],
             [
              0.6666666666666666,
              "#ed7953"
             ],
             [
              0.7777777777777778,
              "#fb9f3a"
             ],
             [
              0.8888888888888888,
              "#fdca26"
             ],
             [
              1,
              "#f0f921"
             ]
            ],
            "type": "histogram2dcontour"
           }
          ],
          "mesh3d": [
           {
            "colorbar": {
             "outlinewidth": 0,
             "ticks": ""
            },
            "type": "mesh3d"
           }
          ],
          "parcoords": [
           {
            "line": {
             "colorbar": {
              "outlinewidth": 0,
              "ticks": ""
             }
            },
            "type": "parcoords"
           }
          ],
          "pie": [
           {
            "automargin": true,
            "type": "pie"
           }
          ],
          "scatter": [
           {
            "fillpattern": {
             "fillmode": "overlay",
             "size": 10,
             "solidity": 0.2
            },
            "type": "scatter"
           }
          ],
          "scatter3d": [
           {
            "line": {
             "colorbar": {
              "outlinewidth": 0,
              "ticks": ""
             }
            },
            "marker": {
             "colorbar": {
              "outlinewidth": 0,
              "ticks": ""
             }
            },
            "type": "scatter3d"
           }
          ],
          "scattercarpet": [
           {
            "marker": {
             "colorbar": {
              "outlinewidth": 0,
              "ticks": ""
             }
            },
            "type": "scattercarpet"
           }
          ],
          "scattergeo": [
           {
            "marker": {
             "colorbar": {
              "outlinewidth": 0,
              "ticks": ""
             }
            },
            "type": "scattergeo"
           }
          ],
          "scattergl": [
           {
            "marker": {
             "colorbar": {
              "outlinewidth": 0,
              "ticks": ""
             }
            },
            "type": "scattergl"
           }
          ],
          "scattermapbox": [
           {
            "marker": {
             "colorbar": {
              "outlinewidth": 0,
              "ticks": ""
             }
            },
            "type": "scattermapbox"
           }
          ],
          "scatterpolar": [
           {
            "marker": {
             "colorbar": {
              "outlinewidth": 0,
              "ticks": ""
             }
            },
            "type": "scatterpolar"
           }
          ],
          "scatterpolargl": [
           {
            "marker": {
             "colorbar": {
              "outlinewidth": 0,
              "ticks": ""
             }
            },
            "type": "scatterpolargl"
           }
          ],
          "scatterternary": [
           {
            "marker": {
             "colorbar": {
              "outlinewidth": 0,
              "ticks": ""
             }
            },
            "type": "scatterternary"
           }
          ],
          "surface": [
           {
            "colorbar": {
             "outlinewidth": 0,
             "ticks": ""
            },
            "colorscale": [
             [
              0,
              "#0d0887"
             ],
             [
              0.1111111111111111,
              "#46039f"
             ],
             [
              0.2222222222222222,
              "#7201a8"
             ],
             [
              0.3333333333333333,
              "#9c179e"
             ],
             [
              0.4444444444444444,
              "#bd3786"
             ],
             [
              0.5555555555555556,
              "#d8576b"
             ],
             [
              0.6666666666666666,
              "#ed7953"
             ],
             [
              0.7777777777777778,
              "#fb9f3a"
             ],
             [
              0.8888888888888888,
              "#fdca26"
             ],
             [
              1,
              "#f0f921"
             ]
            ],
            "type": "surface"
           }
          ],
          "table": [
           {
            "cells": {
             "fill": {
              "color": "#EBF0F8"
             },
             "line": {
              "color": "white"
             }
            },
            "header": {
             "fill": {
              "color": "#C8D4E3"
             },
             "line": {
              "color": "white"
             }
            },
            "type": "table"
           }
          ]
         },
         "layout": {
          "annotationdefaults": {
           "arrowcolor": "#2a3f5f",
           "arrowhead": 0,
           "arrowwidth": 1
          },
          "autotypenumbers": "strict",
          "coloraxis": {
           "colorbar": {
            "outlinewidth": 0,
            "ticks": ""
           }
          },
          "colorscale": {
           "diverging": [
            [
             0,
             "#8e0152"
            ],
            [
             0.1,
             "#c51b7d"
            ],
            [
             0.2,
             "#de77ae"
            ],
            [
             0.3,
             "#f1b6da"
            ],
            [
             0.4,
             "#fde0ef"
            ],
            [
             0.5,
             "#f7f7f7"
            ],
            [
             0.6,
             "#e6f5d0"
            ],
            [
             0.7,
             "#b8e186"
            ],
            [
             0.8,
             "#7fbc41"
            ],
            [
             0.9,
             "#4d9221"
            ],
            [
             1,
             "#276419"
            ]
           ],
           "sequential": [
            [
             0,
             "#0d0887"
            ],
            [
             0.1111111111111111,
             "#46039f"
            ],
            [
             0.2222222222222222,
             "#7201a8"
            ],
            [
             0.3333333333333333,
             "#9c179e"
            ],
            [
             0.4444444444444444,
             "#bd3786"
            ],
            [
             0.5555555555555556,
             "#d8576b"
            ],
            [
             0.6666666666666666,
             "#ed7953"
            ],
            [
             0.7777777777777778,
             "#fb9f3a"
            ],
            [
             0.8888888888888888,
             "#fdca26"
            ],
            [
             1,
             "#f0f921"
            ]
           ],
           "sequentialminus": [
            [
             0,
             "#0d0887"
            ],
            [
             0.1111111111111111,
             "#46039f"
            ],
            [
             0.2222222222222222,
             "#7201a8"
            ],
            [
             0.3333333333333333,
             "#9c179e"
            ],
            [
             0.4444444444444444,
             "#bd3786"
            ],
            [
             0.5555555555555556,
             "#d8576b"
            ],
            [
             0.6666666666666666,
             "#ed7953"
            ],
            [
             0.7777777777777778,
             "#fb9f3a"
            ],
            [
             0.8888888888888888,
             "#fdca26"
            ],
            [
             1,
             "#f0f921"
            ]
           ]
          },
          "colorway": [
           "#636efa",
           "#EF553B",
           "#00cc96",
           "#ab63fa",
           "#FFA15A",
           "#19d3f3",
           "#FF6692",
           "#B6E880",
           "#FF97FF",
           "#FECB52"
          ],
          "font": {
           "color": "#2a3f5f"
          },
          "geo": {
           "bgcolor": "white",
           "lakecolor": "white",
           "landcolor": "white",
           "showlakes": true,
           "showland": true,
           "subunitcolor": "#C8D4E3"
          },
          "hoverlabel": {
           "align": "left"
          },
          "hovermode": "closest",
          "mapbox": {
           "style": "light"
          },
          "paper_bgcolor": "white",
          "plot_bgcolor": "white",
          "polar": {
           "angularaxis": {
            "gridcolor": "#EBF0F8",
            "linecolor": "#EBF0F8",
            "ticks": ""
           },
           "bgcolor": "white",
           "radialaxis": {
            "gridcolor": "#EBF0F8",
            "linecolor": "#EBF0F8",
            "ticks": ""
           }
          },
          "scene": {
           "xaxis": {
            "backgroundcolor": "white",
            "gridcolor": "#DFE8F3",
            "gridwidth": 2,
            "linecolor": "#EBF0F8",
            "showbackground": true,
            "ticks": "",
            "zerolinecolor": "#EBF0F8"
           },
           "yaxis": {
            "backgroundcolor": "white",
            "gridcolor": "#DFE8F3",
            "gridwidth": 2,
            "linecolor": "#EBF0F8",
            "showbackground": true,
            "ticks": "",
            "zerolinecolor": "#EBF0F8"
           },
           "zaxis": {
            "backgroundcolor": "white",
            "gridcolor": "#DFE8F3",
            "gridwidth": 2,
            "linecolor": "#EBF0F8",
            "showbackground": true,
            "ticks": "",
            "zerolinecolor": "#EBF0F8"
           }
          },
          "shapedefaults": {
           "line": {
            "color": "#2a3f5f"
           }
          },
          "ternary": {
           "aaxis": {
            "gridcolor": "#DFE8F3",
            "linecolor": "#A2B1C6",
            "ticks": ""
           },
           "baxis": {
            "gridcolor": "#DFE8F3",
            "linecolor": "#A2B1C6",
            "ticks": ""
           },
           "bgcolor": "white",
           "caxis": {
            "gridcolor": "#DFE8F3",
            "linecolor": "#A2B1C6",
            "ticks": ""
           }
          },
          "title": {
           "x": 0.05
          },
          "xaxis": {
           "automargin": true,
           "gridcolor": "#EBF0F8",
           "linecolor": "#EBF0F8",
           "ticks": "",
           "title": {
            "standoff": 15
           },
           "zerolinecolor": "#EBF0F8",
           "zerolinewidth": 2
          },
          "yaxis": {
           "automargin": true,
           "gridcolor": "#EBF0F8",
           "linecolor": "#EBF0F8",
           "ticks": "",
           "title": {
            "standoff": 15
           },
           "zerolinecolor": "#EBF0F8",
           "zerolinewidth": 2
          }
         }
        },
        "title": {
         "text": "Losses"
        },
        "xaxis": {
         "anchor": "y",
         "domain": [
          0,
          1
         ],
         "title": {
          "text": "epoch"
         }
        },
        "yaxis": {
         "anchor": "x",
         "domain": [
          0,
          1
         ],
         "title": {
          "text": "value"
         }
        }
       }
      }
     },
     "metadata": {},
     "output_type": "display_data"
    },
    {
     "data": {
      "application/vnd.plotly.v1+json": {
       "config": {
        "plotlyServerURL": "https://plot.ly"
       },
       "data": [
        {
         "hovertemplate": "log=cifar.standalone.logs.json<br>variable=time_elapsed.epoch_calculation<br>epoch=%{x}<br>value=%{y}<extra></extra>",
         "legendgroup": "cifar.standalone.logs.json",
         "line": {
          "color": "#636efa",
          "dash": "solid"
         },
         "marker": {
          "symbol": "circle"
         },
         "mode": "lines",
         "name": "cifar.standalone.logs.json",
         "orientation": "v",
         "showlegend": true,
         "type": "scatter",
         "x": [
          0,
          1,
          2,
          3,
          4,
          5,
          6,
          7,
          8,
          9,
          10,
          11,
          12,
          13,
          14,
          15,
          16,
          17,
          18,
          19,
          20,
          21,
          22,
          23,
          24,
          25,
          26,
          27,
          28,
          29,
          30,
          31,
          32,
          33,
          34,
          35,
          36,
          37,
          38
         ],
         "xaxis": "x",
         "y": [
          0.460855007,
          0.041078091,
          0.031663895,
          0.046687842,
          0.038420915,
          0.030369997,
          0.033362865,
          0.046162844,
          0.03606081,
          0.034085036,
          0.042846203,
          0.040389777,
          0.02335906,
          0.024714947,
          0.034742117,
          0.040923118,
          0.031835079,
          0.034030199,
          0.041916848,
          0.029903889,
          0.044571161,
          0.044388056,
          0.029707908,
          0.042387962,
          0.042052031,
          0.037760973,
          0.041726113,
          0.03808999,
          0.034290077,
          0.039943934,
          0.036967754,
          0.038389922,
          0.032806158,
          0.034913063,
          0.048192024,
          0.028693199,
          0.040101766,
          0.036000967,
          0.038403272
         ],
         "yaxis": "y"
        },
        {
         "hovertemplate": "log=logs/mdgan.5.cifar.worker.1.logs.json<br>variable=time_elapsed.epoch_calculation<br>epoch=%{x}<br>value=%{y}<extra></extra>",
         "legendgroup": "logs/mdgan.5.cifar.worker.1.logs.json",
         "line": {
          "color": "#EF553B",
          "dash": "solid"
         },
         "marker": {
          "symbol": "circle"
         },
         "mode": "lines",
         "name": "logs/mdgan.5.cifar.worker.1.logs.json",
         "orientation": "v",
         "showlegend": true,
         "type": "scatter",
         "x": [
          0,
          1,
          2,
          3,
          4,
          5,
          6,
          7,
          8,
          9,
          10,
          11,
          12,
          13,
          14,
          15,
          16,
          17,
          18,
          19,
          20,
          21,
          22,
          23,
          24,
          25,
          26
         ],
         "xaxis": "x",
         "y": [
          null,
          null,
          null,
          null,
          null,
          null,
          null,
          null,
          null,
          null,
          null,
          null,
          null,
          null,
          null,
          null,
          null,
          null,
          null,
          null,
          null,
          null,
          null,
          null,
          null,
          null,
          null
         ],
         "yaxis": "y"
        },
        {
         "hovertemplate": "log=logs/mdgan.5.cifar.worker.2.logs.json<br>variable=time_elapsed.epoch_calculation<br>epoch=%{x}<br>value=%{y}<extra></extra>",
         "legendgroup": "logs/mdgan.5.cifar.worker.2.logs.json",
         "line": {
          "color": "#00cc96",
          "dash": "solid"
         },
         "marker": {
          "symbol": "circle"
         },
         "mode": "lines",
         "name": "logs/mdgan.5.cifar.worker.2.logs.json",
         "orientation": "v",
         "showlegend": true,
         "type": "scatter",
         "x": [
          0,
          1,
          2,
          3,
          4,
          5,
          6,
          7,
          8,
          9,
          10,
          11,
          12,
          13,
          14,
          15,
          16,
          17,
          18,
          19,
          20,
          21,
          22,
          23,
          24,
          25,
          26
         ],
         "xaxis": "x",
         "y": [
          null,
          null,
          null,
          null,
          null,
          null,
          null,
          null,
          null,
          null,
          null,
          null,
          null,
          null,
          null,
          null,
          null,
          null,
          null,
          null,
          null,
          null,
          null,
          null,
          null,
          null,
          null
         ],
         "yaxis": "y"
        },
        {
         "hovertemplate": "log=logs/mdgan.5.cifar.worker.3.logs.json<br>variable=time_elapsed.epoch_calculation<br>epoch=%{x}<br>value=%{y}<extra></extra>",
         "legendgroup": "logs/mdgan.5.cifar.worker.3.logs.json",
         "line": {
          "color": "#ab63fa",
          "dash": "solid"
         },
         "marker": {
          "symbol": "circle"
         },
         "mode": "lines",
         "name": "logs/mdgan.5.cifar.worker.3.logs.json",
         "orientation": "v",
         "showlegend": true,
         "type": "scatter",
         "x": [
          0,
          1,
          2,
          3,
          4,
          5,
          6,
          7,
          8,
          9,
          10,
          11,
          12,
          13,
          14,
          15,
          16,
          17,
          18,
          19,
          20,
          21,
          22,
          23,
          24,
          25,
          26
         ],
         "xaxis": "x",
         "y": [
          null,
          null,
          null,
          null,
          null,
          null,
          null,
          null,
          null,
          null,
          null,
          null,
          null,
          null,
          null,
          null,
          null,
          null,
          null,
          null,
          null,
          null,
          null,
          null,
          null,
          null,
          null
         ],
         "yaxis": "y"
        },
        {
         "hovertemplate": "log=logs/mdgan.5.cifar.worker.4.logs.json<br>variable=time_elapsed.epoch_calculation<br>epoch=%{x}<br>value=%{y}<extra></extra>",
         "legendgroup": "logs/mdgan.5.cifar.worker.4.logs.json",
         "line": {
          "color": "#FFA15A",
          "dash": "solid"
         },
         "marker": {
          "symbol": "circle"
         },
         "mode": "lines",
         "name": "logs/mdgan.5.cifar.worker.4.logs.json",
         "orientation": "v",
         "showlegend": true,
         "type": "scatter",
         "x": [
          0,
          1,
          2,
          3,
          4,
          5,
          6,
          7,
          8,
          9,
          10,
          11,
          12,
          13,
          14,
          15,
          16,
          17,
          18,
          19,
          20,
          21,
          22,
          23,
          24,
          25,
          26
         ],
         "xaxis": "x",
         "y": [
          null,
          null,
          null,
          null,
          null,
          null,
          null,
          null,
          null,
          null,
          null,
          null,
          null,
          null,
          null,
          null,
          null,
          null,
          null,
          null,
          null,
          null,
          null,
          null,
          null,
          null,
          null
         ],
         "yaxis": "y"
        },
        {
         "hovertemplate": "log=logs/mdgan.5.cifar.worker.5.logs.json<br>variable=time_elapsed.epoch_calculation<br>epoch=%{x}<br>value=%{y}<extra></extra>",
         "legendgroup": "logs/mdgan.5.cifar.worker.5.logs.json",
         "line": {
          "color": "#19d3f3",
          "dash": "solid"
         },
         "marker": {
          "symbol": "circle"
         },
         "mode": "lines",
         "name": "logs/mdgan.5.cifar.worker.5.logs.json",
         "orientation": "v",
         "showlegend": true,
         "type": "scatter",
         "x": [
          0,
          1,
          2,
          3,
          4,
          5,
          6,
          7,
          8,
          9,
          10,
          11,
          12,
          13,
          14,
          15,
          16,
          17,
          18,
          19,
          20,
          21,
          22,
          23,
          24,
          25,
          26
         ],
         "xaxis": "x",
         "y": [
          null,
          null,
          null,
          null,
          null,
          null,
          null,
          null,
          null,
          null,
          null,
          null,
          null,
          null,
          null,
          null,
          null,
          null,
          null,
          null,
          null,
          null,
          null,
          null,
          null,
          null,
          null
         ],
         "yaxis": "y"
        },
        {
         "hovertemplate": "log=logs/mdgan.5.cifar.server.logs.json<br>variable=time_elapsed.epoch_calculation<br>epoch=%{x}<br>value=%{y}<extra></extra>",
         "legendgroup": "logs/mdgan.5.cifar.server.logs.json",
         "line": {
          "color": "#FF6692",
          "dash": "solid"
         },
         "marker": {
          "symbol": "circle"
         },
         "mode": "lines",
         "name": "logs/mdgan.5.cifar.server.logs.json",
         "orientation": "v",
         "showlegend": true,
         "type": "scatter",
         "x": [
          0,
          1,
          2,
          3,
          4,
          5,
          6,
          7,
          8,
          9,
          10,
          11,
          12,
          13,
          14,
          15,
          16,
          17,
          18,
          19,
          20,
          21,
          22,
          23,
          24,
          25
         ],
         "xaxis": "x",
         "y": [
          0.883255005,
          0.121391773,
          0.091670036,
          0.088916064,
          0.089337826,
          0.084612846,
          0.088730097,
          0.111983061,
          0.09701705,
          0.090076923,
          0.088291645,
          0.086505175,
          0.086570024,
          0.088201046,
          0.087076902,
          0.087182998,
          0.086520196,
          0.088868857,
          0.08762002,
          0.087806225,
          0.086186885,
          0.088006974,
          0.088308096,
          0.08851409,
          0.092547893,
          0.088238001
         ],
         "yaxis": "y"
        }
       ],
       "layout": {
        "legend": {
         "title": {
          "text": "log"
         },
         "tracegroupgap": 0
        },
        "template": {
         "data": {
          "bar": [
           {
            "error_x": {
             "color": "#2a3f5f"
            },
            "error_y": {
             "color": "#2a3f5f"
            },
            "marker": {
             "line": {
              "color": "white",
              "width": 0.5
             },
             "pattern": {
              "fillmode": "overlay",
              "size": 10,
              "solidity": 0.2
             }
            },
            "type": "bar"
           }
          ],
          "barpolar": [
           {
            "marker": {
             "line": {
              "color": "white",
              "width": 0.5
             },
             "pattern": {
              "fillmode": "overlay",
              "size": 10,
              "solidity": 0.2
             }
            },
            "type": "barpolar"
           }
          ],
          "carpet": [
           {
            "aaxis": {
             "endlinecolor": "#2a3f5f",
             "gridcolor": "#C8D4E3",
             "linecolor": "#C8D4E3",
             "minorgridcolor": "#C8D4E3",
             "startlinecolor": "#2a3f5f"
            },
            "baxis": {
             "endlinecolor": "#2a3f5f",
             "gridcolor": "#C8D4E3",
             "linecolor": "#C8D4E3",
             "minorgridcolor": "#C8D4E3",
             "startlinecolor": "#2a3f5f"
            },
            "type": "carpet"
           }
          ],
          "choropleth": [
           {
            "colorbar": {
             "outlinewidth": 0,
             "ticks": ""
            },
            "type": "choropleth"
           }
          ],
          "contour": [
           {
            "colorbar": {
             "outlinewidth": 0,
             "ticks": ""
            },
            "colorscale": [
             [
              0,
              "#0d0887"
             ],
             [
              0.1111111111111111,
              "#46039f"
             ],
             [
              0.2222222222222222,
              "#7201a8"
             ],
             [
              0.3333333333333333,
              "#9c179e"
             ],
             [
              0.4444444444444444,
              "#bd3786"
             ],
             [
              0.5555555555555556,
              "#d8576b"
             ],
             [
              0.6666666666666666,
              "#ed7953"
             ],
             [
              0.7777777777777778,
              "#fb9f3a"
             ],
             [
              0.8888888888888888,
              "#fdca26"
             ],
             [
              1,
              "#f0f921"
             ]
            ],
            "type": "contour"
           }
          ],
          "contourcarpet": [
           {
            "colorbar": {
             "outlinewidth": 0,
             "ticks": ""
            },
            "type": "contourcarpet"
           }
          ],
          "heatmap": [
           {
            "colorbar": {
             "outlinewidth": 0,
             "ticks": ""
            },
            "colorscale": [
             [
              0,
              "#0d0887"
             ],
             [
              0.1111111111111111,
              "#46039f"
             ],
             [
              0.2222222222222222,
              "#7201a8"
             ],
             [
              0.3333333333333333,
              "#9c179e"
             ],
             [
              0.4444444444444444,
              "#bd3786"
             ],
             [
              0.5555555555555556,
              "#d8576b"
             ],
             [
              0.6666666666666666,
              "#ed7953"
             ],
             [
              0.7777777777777778,
              "#fb9f3a"
             ],
             [
              0.8888888888888888,
              "#fdca26"
             ],
             [
              1,
              "#f0f921"
             ]
            ],
            "type": "heatmap"
           }
          ],
          "heatmapgl": [
           {
            "colorbar": {
             "outlinewidth": 0,
             "ticks": ""
            },
            "colorscale": [
             [
              0,
              "#0d0887"
             ],
             [
              0.1111111111111111,
              "#46039f"
             ],
             [
              0.2222222222222222,
              "#7201a8"
             ],
             [
              0.3333333333333333,
              "#9c179e"
             ],
             [
              0.4444444444444444,
              "#bd3786"
             ],
             [
              0.5555555555555556,
              "#d8576b"
             ],
             [
              0.6666666666666666,
              "#ed7953"
             ],
             [
              0.7777777777777778,
              "#fb9f3a"
             ],
             [
              0.8888888888888888,
              "#fdca26"
             ],
             [
              1,
              "#f0f921"
             ]
            ],
            "type": "heatmapgl"
           }
          ],
          "histogram": [
           {
            "marker": {
             "pattern": {
              "fillmode": "overlay",
              "size": 10,
              "solidity": 0.2
             }
            },
            "type": "histogram"
           }
          ],
          "histogram2d": [
           {
            "colorbar": {
             "outlinewidth": 0,
             "ticks": ""
            },
            "colorscale": [
             [
              0,
              "#0d0887"
             ],
             [
              0.1111111111111111,
              "#46039f"
             ],
             [
              0.2222222222222222,
              "#7201a8"
             ],
             [
              0.3333333333333333,
              "#9c179e"
             ],
             [
              0.4444444444444444,
              "#bd3786"
             ],
             [
              0.5555555555555556,
              "#d8576b"
             ],
             [
              0.6666666666666666,
              "#ed7953"
             ],
             [
              0.7777777777777778,
              "#fb9f3a"
             ],
             [
              0.8888888888888888,
              "#fdca26"
             ],
             [
              1,
              "#f0f921"
             ]
            ],
            "type": "histogram2d"
           }
          ],
          "histogram2dcontour": [
           {
            "colorbar": {
             "outlinewidth": 0,
             "ticks": ""
            },
            "colorscale": [
             [
              0,
              "#0d0887"
             ],
             [
              0.1111111111111111,
              "#46039f"
             ],
             [
              0.2222222222222222,
              "#7201a8"
             ],
             [
              0.3333333333333333,
              "#9c179e"
             ],
             [
              0.4444444444444444,
              "#bd3786"
             ],
             [
              0.5555555555555556,
              "#d8576b"
             ],
             [
              0.6666666666666666,
              "#ed7953"
             ],
             [
              0.7777777777777778,
              "#fb9f3a"
             ],
             [
              0.8888888888888888,
              "#fdca26"
             ],
             [
              1,
              "#f0f921"
             ]
            ],
            "type": "histogram2dcontour"
           }
          ],
          "mesh3d": [
           {
            "colorbar": {
             "outlinewidth": 0,
             "ticks": ""
            },
            "type": "mesh3d"
           }
          ],
          "parcoords": [
           {
            "line": {
             "colorbar": {
              "outlinewidth": 0,
              "ticks": ""
             }
            },
            "type": "parcoords"
           }
          ],
          "pie": [
           {
            "automargin": true,
            "type": "pie"
           }
          ],
          "scatter": [
           {
            "fillpattern": {
             "fillmode": "overlay",
             "size": 10,
             "solidity": 0.2
            },
            "type": "scatter"
           }
          ],
          "scatter3d": [
           {
            "line": {
             "colorbar": {
              "outlinewidth": 0,
              "ticks": ""
             }
            },
            "marker": {
             "colorbar": {
              "outlinewidth": 0,
              "ticks": ""
             }
            },
            "type": "scatter3d"
           }
          ],
          "scattercarpet": [
           {
            "marker": {
             "colorbar": {
              "outlinewidth": 0,
              "ticks": ""
             }
            },
            "type": "scattercarpet"
           }
          ],
          "scattergeo": [
           {
            "marker": {
             "colorbar": {
              "outlinewidth": 0,
              "ticks": ""
             }
            },
            "type": "scattergeo"
           }
          ],
          "scattergl": [
           {
            "marker": {
             "colorbar": {
              "outlinewidth": 0,
              "ticks": ""
             }
            },
            "type": "scattergl"
           }
          ],
          "scattermapbox": [
           {
            "marker": {
             "colorbar": {
              "outlinewidth": 0,
              "ticks": ""
             }
            },
            "type": "scattermapbox"
           }
          ],
          "scatterpolar": [
           {
            "marker": {
             "colorbar": {
              "outlinewidth": 0,
              "ticks": ""
             }
            },
            "type": "scatterpolar"
           }
          ],
          "scatterpolargl": [
           {
            "marker": {
             "colorbar": {
              "outlinewidth": 0,
              "ticks": ""
             }
            },
            "type": "scatterpolargl"
           }
          ],
          "scatterternary": [
           {
            "marker": {
             "colorbar": {
              "outlinewidth": 0,
              "ticks": ""
             }
            },
            "type": "scatterternary"
           }
          ],
          "surface": [
           {
            "colorbar": {
             "outlinewidth": 0,
             "ticks": ""
            },
            "colorscale": [
             [
              0,
              "#0d0887"
             ],
             [
              0.1111111111111111,
              "#46039f"
             ],
             [
              0.2222222222222222,
              "#7201a8"
             ],
             [
              0.3333333333333333,
              "#9c179e"
             ],
             [
              0.4444444444444444,
              "#bd3786"
             ],
             [
              0.5555555555555556,
              "#d8576b"
             ],
             [
              0.6666666666666666,
              "#ed7953"
             ],
             [
              0.7777777777777778,
              "#fb9f3a"
             ],
             [
              0.8888888888888888,
              "#fdca26"
             ],
             [
              1,
              "#f0f921"
             ]
            ],
            "type": "surface"
           }
          ],
          "table": [
           {
            "cells": {
             "fill": {
              "color": "#EBF0F8"
             },
             "line": {
              "color": "white"
             }
            },
            "header": {
             "fill": {
              "color": "#C8D4E3"
             },
             "line": {
              "color": "white"
             }
            },
            "type": "table"
           }
          ]
         },
         "layout": {
          "annotationdefaults": {
           "arrowcolor": "#2a3f5f",
           "arrowhead": 0,
           "arrowwidth": 1
          },
          "autotypenumbers": "strict",
          "coloraxis": {
           "colorbar": {
            "outlinewidth": 0,
            "ticks": ""
           }
          },
          "colorscale": {
           "diverging": [
            [
             0,
             "#8e0152"
            ],
            [
             0.1,
             "#c51b7d"
            ],
            [
             0.2,
             "#de77ae"
            ],
            [
             0.3,
             "#f1b6da"
            ],
            [
             0.4,
             "#fde0ef"
            ],
            [
             0.5,
             "#f7f7f7"
            ],
            [
             0.6,
             "#e6f5d0"
            ],
            [
             0.7,
             "#b8e186"
            ],
            [
             0.8,
             "#7fbc41"
            ],
            [
             0.9,
             "#4d9221"
            ],
            [
             1,
             "#276419"
            ]
           ],
           "sequential": [
            [
             0,
             "#0d0887"
            ],
            [
             0.1111111111111111,
             "#46039f"
            ],
            [
             0.2222222222222222,
             "#7201a8"
            ],
            [
             0.3333333333333333,
             "#9c179e"
            ],
            [
             0.4444444444444444,
             "#bd3786"
            ],
            [
             0.5555555555555556,
             "#d8576b"
            ],
            [
             0.6666666666666666,
             "#ed7953"
            ],
            [
             0.7777777777777778,
             "#fb9f3a"
            ],
            [
             0.8888888888888888,
             "#fdca26"
            ],
            [
             1,
             "#f0f921"
            ]
           ],
           "sequentialminus": [
            [
             0,
             "#0d0887"
            ],
            [
             0.1111111111111111,
             "#46039f"
            ],
            [
             0.2222222222222222,
             "#7201a8"
            ],
            [
             0.3333333333333333,
             "#9c179e"
            ],
            [
             0.4444444444444444,
             "#bd3786"
            ],
            [
             0.5555555555555556,
             "#d8576b"
            ],
            [
             0.6666666666666666,
             "#ed7953"
            ],
            [
             0.7777777777777778,
             "#fb9f3a"
            ],
            [
             0.8888888888888888,
             "#fdca26"
            ],
            [
             1,
             "#f0f921"
            ]
           ]
          },
          "colorway": [
           "#636efa",
           "#EF553B",
           "#00cc96",
           "#ab63fa",
           "#FFA15A",
           "#19d3f3",
           "#FF6692",
           "#B6E880",
           "#FF97FF",
           "#FECB52"
          ],
          "font": {
           "color": "#2a3f5f"
          },
          "geo": {
           "bgcolor": "white",
           "lakecolor": "white",
           "landcolor": "white",
           "showlakes": true,
           "showland": true,
           "subunitcolor": "#C8D4E3"
          },
          "hoverlabel": {
           "align": "left"
          },
          "hovermode": "closest",
          "mapbox": {
           "style": "light"
          },
          "paper_bgcolor": "white",
          "plot_bgcolor": "white",
          "polar": {
           "angularaxis": {
            "gridcolor": "#EBF0F8",
            "linecolor": "#EBF0F8",
            "ticks": ""
           },
           "bgcolor": "white",
           "radialaxis": {
            "gridcolor": "#EBF0F8",
            "linecolor": "#EBF0F8",
            "ticks": ""
           }
          },
          "scene": {
           "xaxis": {
            "backgroundcolor": "white",
            "gridcolor": "#DFE8F3",
            "gridwidth": 2,
            "linecolor": "#EBF0F8",
            "showbackground": true,
            "ticks": "",
            "zerolinecolor": "#EBF0F8"
           },
           "yaxis": {
            "backgroundcolor": "white",
            "gridcolor": "#DFE8F3",
            "gridwidth": 2,
            "linecolor": "#EBF0F8",
            "showbackground": true,
            "ticks": "",
            "zerolinecolor": "#EBF0F8"
           },
           "zaxis": {
            "backgroundcolor": "white",
            "gridcolor": "#DFE8F3",
            "gridwidth": 2,
            "linecolor": "#EBF0F8",
            "showbackground": true,
            "ticks": "",
            "zerolinecolor": "#EBF0F8"
           }
          },
          "shapedefaults": {
           "line": {
            "color": "#2a3f5f"
           }
          },
          "ternary": {
           "aaxis": {
            "gridcolor": "#DFE8F3",
            "linecolor": "#A2B1C6",
            "ticks": ""
           },
           "baxis": {
            "gridcolor": "#DFE8F3",
            "linecolor": "#A2B1C6",
            "ticks": ""
           },
           "bgcolor": "white",
           "caxis": {
            "gridcolor": "#DFE8F3",
            "linecolor": "#A2B1C6",
            "ticks": ""
           }
          },
          "title": {
           "x": 0.05
          },
          "xaxis": {
           "automargin": true,
           "gridcolor": "#EBF0F8",
           "linecolor": "#EBF0F8",
           "ticks": "",
           "title": {
            "standoff": 15
           },
           "zerolinecolor": "#EBF0F8",
           "zerolinewidth": 2
          },
          "yaxis": {
           "automargin": true,
           "gridcolor": "#EBF0F8",
           "linecolor": "#EBF0F8",
           "ticks": "",
           "title": {
            "standoff": 15
           },
           "zerolinecolor": "#EBF0F8",
           "zerolinewidth": 2
          }
         }
        },
        "title": {
         "text": "Epoch duration"
        },
        "xaxis": {
         "anchor": "y",
         "domain": [
          0,
          1
         ],
         "title": {
          "text": "epoch"
         }
        },
        "yaxis": {
         "anchor": "x",
         "domain": [
          0,
          1
         ],
         "title": {
          "text": "value"
         }
        }
       }
      }
     },
     "metadata": {},
     "output_type": "display_data"
    }
   ],
   "source": [
    "px.line(standalone_df, x=\"epoch\", y=[\"mean_d_loss\", \"mean_g_loss\"], title=\"Losses standalone\", template=\"plotly_white\").show()\n",
    "px.line(all_df, x=\"epoch\", y=[\"mean_d_loss\"], color=\"log\", title=\"Losses discriminators\", template=\"plotly_white\").show()\n",
    "px.line(all_df[[\"epoch\", \"log\", \"fid\"]].dropna(), x=\"epoch\", y=[\"fid\"], color=\"log\", title=\"Losses\", template=\"plotly_white\").show()\n",
    "px.line(all_df[[\"epoch\", \"log\", \"is\"]].dropna(), x=\"epoch\", y=[\"is\"], color=\"log\", title=\"Losses\", template=\"plotly_white\").show()\n",
    "px.line(all_df, x=\"epoch\", y=[\"time_elapsed.epoch_calculation\"], color=\"log\", title=\"Epoch duration\", template=\"plotly_white\").show()"
   ]
  },
  {
   "cell_type": "code",
   "execution_count": 9,
   "metadata": {},
   "outputs": [
    {
     "data": {
      "application/vnd.plotly.v1+json": {
       "config": {
        "plotlyServerURL": "https://plot.ly"
       },
       "data": [
        {
         "alignmentgroup": "True",
         "hovertemplate": "legend=apply_gradients (logs/mdgan.5.cifar.server.logs.json)<br>index=%{x}<br>time_elapsed=%{y}<extra></extra>",
         "legendgroup": "apply_gradients (logs/mdgan.5.cifar.server.logs.json)",
         "marker": {
          "color": "#636efa",
          "pattern": {
           "shape": ""
          }
         },
         "name": "apply_gradients (logs/mdgan.5.cifar.server.logs.json)",
         "offsetgroup": "apply_gradients (logs/mdgan.5.cifar.server.logs.json)",
         "orientation": "v",
         "showlegend": true,
         "textposition": "auto",
         "texttemplate": "%{y}",
         "type": "bar",
         "x": [
          0
         ],
         "xaxis": "x",
         "y": [
          0.007244761192307692
         ],
         "yaxis": "y"
        },
        {
         "alignmentgroup": "True",
         "hovertemplate": "legend=calc_gradients (logs/mdgan.5.cifar.server.logs.json)<br>index=%{x}<br>time_elapsed=%{y}<extra></extra>",
         "legendgroup": "calc_gradients (logs/mdgan.5.cifar.server.logs.json)",
         "marker": {
          "color": "#EF553B",
          "pattern": {
           "shape": ""
          }
         },
         "name": "calc_gradients (logs/mdgan.5.cifar.server.logs.json)",
         "offsetgroup": "calc_gradients (logs/mdgan.5.cifar.server.logs.json)",
         "orientation": "v",
         "showlegend": true,
         "textposition": "auto",
         "texttemplate": "%{y}",
         "type": "bar",
         "x": [
          1
         ],
         "xaxis": "x",
         "y": [
          0.01576555684615385
         ],
         "yaxis": "y"
        },
        {
         "alignmentgroup": "True",
         "hovertemplate": "legend=send_data (logs/mdgan.5.cifar.server.logs.json)<br>index=%{x}<br>time_elapsed=%{y}<extra></extra>",
         "legendgroup": "send_data (logs/mdgan.5.cifar.server.logs.json)",
         "marker": {
          "color": "#00cc96",
          "pattern": {
           "shape": ""
          }
         },
         "name": "send_data (logs/mdgan.5.cifar.server.logs.json)",
         "offsetgroup": "send_data (logs/mdgan.5.cifar.server.logs.json)",
         "orientation": "v",
         "showlegend": true,
         "textposition": "auto",
         "texttemplate": "%{y}",
         "type": "bar",
         "x": [
          2
         ],
         "xaxis": "x",
         "y": [
          0.0927075331923077
         ],
         "yaxis": "y"
        },
        {
         "alignmentgroup": "True",
         "hovertemplate": "legend=epoch_calculation (logs/mdgan.5.cifar.server.logs.json)<br>index=%{x}<br>time_elapsed=%{y}<extra></extra>",
         "legendgroup": "epoch_calculation (logs/mdgan.5.cifar.server.logs.json)",
         "marker": {
          "color": "#ab63fa",
          "pattern": {
           "shape": ""
          }
         },
         "name": "epoch_calculation (logs/mdgan.5.cifar.server.logs.json)",
         "offsetgroup": "epoch_calculation (logs/mdgan.5.cifar.server.logs.json)",
         "orientation": "v",
         "showlegend": true,
         "textposition": "auto",
         "texttemplate": "%{y}",
         "type": "bar",
         "x": [
          3
         ],
         "xaxis": "x",
         "y": [
          0.12128598876923077
         ],
         "yaxis": "y"
        },
        {
         "alignmentgroup": "True",
         "hovertemplate": "legend=epoch (logs/mdgan.5.cifar.server.logs.json)<br>index=%{x}<br>time_elapsed=%{y}<extra></extra>",
         "legendgroup": "epoch (logs/mdgan.5.cifar.server.logs.json)",
         "marker": {
          "color": "#FFA15A",
          "pattern": {
           "shape": ""
          }
         },
         "name": "epoch (logs/mdgan.5.cifar.server.logs.json)",
         "offsetgroup": "epoch (logs/mdgan.5.cifar.server.logs.json)",
         "orientation": "v",
         "showlegend": true,
         "textposition": "auto",
         "texttemplate": "%{y}",
         "type": "bar",
         "x": [
          4
         ],
         "xaxis": "x",
         "y": [
          0.23484984719230767
         ],
         "yaxis": "y"
        },
        {
         "alignmentgroup": "True",
         "hovertemplate": "legend=is (logs/mdgan.5.cifar.server.logs.json)<br>index=%{x}<br>time_elapsed=%{y}<extra></extra>",
         "legendgroup": "is (logs/mdgan.5.cifar.server.logs.json)",
         "marker": {
          "color": "#19d3f3",
          "pattern": {
           "shape": ""
          }
         },
         "name": "is (logs/mdgan.5.cifar.server.logs.json)",
         "offsetgroup": "is (logs/mdgan.5.cifar.server.logs.json)",
         "orientation": "v",
         "showlegend": true,
         "textposition": "auto",
         "texttemplate": "%{y}",
         "type": "bar",
         "x": [
          5
         ],
         "xaxis": "x",
         "y": [
          0.52431798
         ],
         "yaxis": "y"
        },
        {
         "alignmentgroup": "True",
         "hovertemplate": "legend=fid (logs/mdgan.5.cifar.server.logs.json)<br>index=%{x}<br>time_elapsed=%{y}<extra></extra>",
         "legendgroup": "fid (logs/mdgan.5.cifar.server.logs.json)",
         "marker": {
          "color": "#FF6692",
          "pattern": {
           "shape": ""
          }
         },
         "name": "fid (logs/mdgan.5.cifar.server.logs.json)",
         "offsetgroup": "fid (logs/mdgan.5.cifar.server.logs.json)",
         "orientation": "v",
         "showlegend": true,
         "textposition": "auto",
         "texttemplate": "%{y}",
         "type": "bar",
         "x": [
          6
         ],
         "xaxis": "x",
         "y": [
          2.399863006
         ],
         "yaxis": "y"
        },
        {
         "alignmentgroup": "True",
         "hovertemplate": "legend=logging (logs/mdgan.5.cifar.server.logs.json)<br>index=%{x}<br>time_elapsed=%{y}<extra></extra>",
         "legendgroup": "logging (logs/mdgan.5.cifar.server.logs.json)",
         "marker": {
          "color": "#B6E880",
          "pattern": {
           "shape": ""
          }
         },
         "name": "logging (logs/mdgan.5.cifar.server.logs.json)",
         "offsetgroup": "logging (logs/mdgan.5.cifar.server.logs.json)",
         "orientation": "v",
         "showlegend": true,
         "textposition": "auto",
         "texttemplate": "%{y}",
         "type": "bar",
         "x": [
          7
         ],
         "xaxis": "x",
         "y": [
          2.952639103
         ],
         "yaxis": "y"
        }
       ],
       "layout": {
        "barmode": "relative",
        "legend": {
         "title": {
          "text": "legend"
         },
         "tracegroupgap": 0
        },
        "template": {
         "data": {
          "bar": [
           {
            "error_x": {
             "color": "#2a3f5f"
            },
            "error_y": {
             "color": "#2a3f5f"
            },
            "marker": {
             "line": {
              "color": "white",
              "width": 0.5
             },
             "pattern": {
              "fillmode": "overlay",
              "size": 10,
              "solidity": 0.2
             }
            },
            "type": "bar"
           }
          ],
          "barpolar": [
           {
            "marker": {
             "line": {
              "color": "white",
              "width": 0.5
             },
             "pattern": {
              "fillmode": "overlay",
              "size": 10,
              "solidity": 0.2
             }
            },
            "type": "barpolar"
           }
          ],
          "carpet": [
           {
            "aaxis": {
             "endlinecolor": "#2a3f5f",
             "gridcolor": "#C8D4E3",
             "linecolor": "#C8D4E3",
             "minorgridcolor": "#C8D4E3",
             "startlinecolor": "#2a3f5f"
            },
            "baxis": {
             "endlinecolor": "#2a3f5f",
             "gridcolor": "#C8D4E3",
             "linecolor": "#C8D4E3",
             "minorgridcolor": "#C8D4E3",
             "startlinecolor": "#2a3f5f"
            },
            "type": "carpet"
           }
          ],
          "choropleth": [
           {
            "colorbar": {
             "outlinewidth": 0,
             "ticks": ""
            },
            "type": "choropleth"
           }
          ],
          "contour": [
           {
            "colorbar": {
             "outlinewidth": 0,
             "ticks": ""
            },
            "colorscale": [
             [
              0,
              "#0d0887"
             ],
             [
              0.1111111111111111,
              "#46039f"
             ],
             [
              0.2222222222222222,
              "#7201a8"
             ],
             [
              0.3333333333333333,
              "#9c179e"
             ],
             [
              0.4444444444444444,
              "#bd3786"
             ],
             [
              0.5555555555555556,
              "#d8576b"
             ],
             [
              0.6666666666666666,
              "#ed7953"
             ],
             [
              0.7777777777777778,
              "#fb9f3a"
             ],
             [
              0.8888888888888888,
              "#fdca26"
             ],
             [
              1,
              "#f0f921"
             ]
            ],
            "type": "contour"
           }
          ],
          "contourcarpet": [
           {
            "colorbar": {
             "outlinewidth": 0,
             "ticks": ""
            },
            "type": "contourcarpet"
           }
          ],
          "heatmap": [
           {
            "colorbar": {
             "outlinewidth": 0,
             "ticks": ""
            },
            "colorscale": [
             [
              0,
              "#0d0887"
             ],
             [
              0.1111111111111111,
              "#46039f"
             ],
             [
              0.2222222222222222,
              "#7201a8"
             ],
             [
              0.3333333333333333,
              "#9c179e"
             ],
             [
              0.4444444444444444,
              "#bd3786"
             ],
             [
              0.5555555555555556,
              "#d8576b"
             ],
             [
              0.6666666666666666,
              "#ed7953"
             ],
             [
              0.7777777777777778,
              "#fb9f3a"
             ],
             [
              0.8888888888888888,
              "#fdca26"
             ],
             [
              1,
              "#f0f921"
             ]
            ],
            "type": "heatmap"
           }
          ],
          "heatmapgl": [
           {
            "colorbar": {
             "outlinewidth": 0,
             "ticks": ""
            },
            "colorscale": [
             [
              0,
              "#0d0887"
             ],
             [
              0.1111111111111111,
              "#46039f"
             ],
             [
              0.2222222222222222,
              "#7201a8"
             ],
             [
              0.3333333333333333,
              "#9c179e"
             ],
             [
              0.4444444444444444,
              "#bd3786"
             ],
             [
              0.5555555555555556,
              "#d8576b"
             ],
             [
              0.6666666666666666,
              "#ed7953"
             ],
             [
              0.7777777777777778,
              "#fb9f3a"
             ],
             [
              0.8888888888888888,
              "#fdca26"
             ],
             [
              1,
              "#f0f921"
             ]
            ],
            "type": "heatmapgl"
           }
          ],
          "histogram": [
           {
            "marker": {
             "pattern": {
              "fillmode": "overlay",
              "size": 10,
              "solidity": 0.2
             }
            },
            "type": "histogram"
           }
          ],
          "histogram2d": [
           {
            "colorbar": {
             "outlinewidth": 0,
             "ticks": ""
            },
            "colorscale": [
             [
              0,
              "#0d0887"
             ],
             [
              0.1111111111111111,
              "#46039f"
             ],
             [
              0.2222222222222222,
              "#7201a8"
             ],
             [
              0.3333333333333333,
              "#9c179e"
             ],
             [
              0.4444444444444444,
              "#bd3786"
             ],
             [
              0.5555555555555556,
              "#d8576b"
             ],
             [
              0.6666666666666666,
              "#ed7953"
             ],
             [
              0.7777777777777778,
              "#fb9f3a"
             ],
             [
              0.8888888888888888,
              "#fdca26"
             ],
             [
              1,
              "#f0f921"
             ]
            ],
            "type": "histogram2d"
           }
          ],
          "histogram2dcontour": [
           {
            "colorbar": {
             "outlinewidth": 0,
             "ticks": ""
            },
            "colorscale": [
             [
              0,
              "#0d0887"
             ],
             [
              0.1111111111111111,
              "#46039f"
             ],
             [
              0.2222222222222222,
              "#7201a8"
             ],
             [
              0.3333333333333333,
              "#9c179e"
             ],
             [
              0.4444444444444444,
              "#bd3786"
             ],
             [
              0.5555555555555556,
              "#d8576b"
             ],
             [
              0.6666666666666666,
              "#ed7953"
             ],
             [
              0.7777777777777778,
              "#fb9f3a"
             ],
             [
              0.8888888888888888,
              "#fdca26"
             ],
             [
              1,
              "#f0f921"
             ]
            ],
            "type": "histogram2dcontour"
           }
          ],
          "mesh3d": [
           {
            "colorbar": {
             "outlinewidth": 0,
             "ticks": ""
            },
            "type": "mesh3d"
           }
          ],
          "parcoords": [
           {
            "line": {
             "colorbar": {
              "outlinewidth": 0,
              "ticks": ""
             }
            },
            "type": "parcoords"
           }
          ],
          "pie": [
           {
            "automargin": true,
            "type": "pie"
           }
          ],
          "scatter": [
           {
            "fillpattern": {
             "fillmode": "overlay",
             "size": 10,
             "solidity": 0.2
            },
            "type": "scatter"
           }
          ],
          "scatter3d": [
           {
            "line": {
             "colorbar": {
              "outlinewidth": 0,
              "ticks": ""
             }
            },
            "marker": {
             "colorbar": {
              "outlinewidth": 0,
              "ticks": ""
             }
            },
            "type": "scatter3d"
           }
          ],
          "scattercarpet": [
           {
            "marker": {
             "colorbar": {
              "outlinewidth": 0,
              "ticks": ""
             }
            },
            "type": "scattercarpet"
           }
          ],
          "scattergeo": [
           {
            "marker": {
             "colorbar": {
              "outlinewidth": 0,
              "ticks": ""
             }
            },
            "type": "scattergeo"
           }
          ],
          "scattergl": [
           {
            "marker": {
             "colorbar": {
              "outlinewidth": 0,
              "ticks": ""
             }
            },
            "type": "scattergl"
           }
          ],
          "scattermapbox": [
           {
            "marker": {
             "colorbar": {
              "outlinewidth": 0,
              "ticks": ""
             }
            },
            "type": "scattermapbox"
           }
          ],
          "scatterpolar": [
           {
            "marker": {
             "colorbar": {
              "outlinewidth": 0,
              "ticks": ""
             }
            },
            "type": "scatterpolar"
           }
          ],
          "scatterpolargl": [
           {
            "marker": {
             "colorbar": {
              "outlinewidth": 0,
              "ticks": ""
             }
            },
            "type": "scatterpolargl"
           }
          ],
          "scatterternary": [
           {
            "marker": {
             "colorbar": {
              "outlinewidth": 0,
              "ticks": ""
             }
            },
            "type": "scatterternary"
           }
          ],
          "surface": [
           {
            "colorbar": {
             "outlinewidth": 0,
             "ticks": ""
            },
            "colorscale": [
             [
              0,
              "#0d0887"
             ],
             [
              0.1111111111111111,
              "#46039f"
             ],
             [
              0.2222222222222222,
              "#7201a8"
             ],
             [
              0.3333333333333333,
              "#9c179e"
             ],
             [
              0.4444444444444444,
              "#bd3786"
             ],
             [
              0.5555555555555556,
              "#d8576b"
             ],
             [
              0.6666666666666666,
              "#ed7953"
             ],
             [
              0.7777777777777778,
              "#fb9f3a"
             ],
             [
              0.8888888888888888,
              "#fdca26"
             ],
             [
              1,
              "#f0f921"
             ]
            ],
            "type": "surface"
           }
          ],
          "table": [
           {
            "cells": {
             "fill": {
              "color": "#EBF0F8"
             },
             "line": {
              "color": "white"
             }
            },
            "header": {
             "fill": {
              "color": "#C8D4E3"
             },
             "line": {
              "color": "white"
             }
            },
            "type": "table"
           }
          ]
         },
         "layout": {
          "annotationdefaults": {
           "arrowcolor": "#2a3f5f",
           "arrowhead": 0,
           "arrowwidth": 1
          },
          "autotypenumbers": "strict",
          "coloraxis": {
           "colorbar": {
            "outlinewidth": 0,
            "ticks": ""
           }
          },
          "colorscale": {
           "diverging": [
            [
             0,
             "#8e0152"
            ],
            [
             0.1,
             "#c51b7d"
            ],
            [
             0.2,
             "#de77ae"
            ],
            [
             0.3,
             "#f1b6da"
            ],
            [
             0.4,
             "#fde0ef"
            ],
            [
             0.5,
             "#f7f7f7"
            ],
            [
             0.6,
             "#e6f5d0"
            ],
            [
             0.7,
             "#b8e186"
            ],
            [
             0.8,
             "#7fbc41"
            ],
            [
             0.9,
             "#4d9221"
            ],
            [
             1,
             "#276419"
            ]
           ],
           "sequential": [
            [
             0,
             "#0d0887"
            ],
            [
             0.1111111111111111,
             "#46039f"
            ],
            [
             0.2222222222222222,
             "#7201a8"
            ],
            [
             0.3333333333333333,
             "#9c179e"
            ],
            [
             0.4444444444444444,
             "#bd3786"
            ],
            [
             0.5555555555555556,
             "#d8576b"
            ],
            [
             0.6666666666666666,
             "#ed7953"
            ],
            [
             0.7777777777777778,
             "#fb9f3a"
            ],
            [
             0.8888888888888888,
             "#fdca26"
            ],
            [
             1,
             "#f0f921"
            ]
           ],
           "sequentialminus": [
            [
             0,
             "#0d0887"
            ],
            [
             0.1111111111111111,
             "#46039f"
            ],
            [
             0.2222222222222222,
             "#7201a8"
            ],
            [
             0.3333333333333333,
             "#9c179e"
            ],
            [
             0.4444444444444444,
             "#bd3786"
            ],
            [
             0.5555555555555556,
             "#d8576b"
            ],
            [
             0.6666666666666666,
             "#ed7953"
            ],
            [
             0.7777777777777778,
             "#fb9f3a"
            ],
            [
             0.8888888888888888,
             "#fdca26"
            ],
            [
             1,
             "#f0f921"
            ]
           ]
          },
          "colorway": [
           "#636efa",
           "#EF553B",
           "#00cc96",
           "#ab63fa",
           "#FFA15A",
           "#19d3f3",
           "#FF6692",
           "#B6E880",
           "#FF97FF",
           "#FECB52"
          ],
          "font": {
           "color": "#2a3f5f"
          },
          "geo": {
           "bgcolor": "white",
           "lakecolor": "white",
           "landcolor": "white",
           "showlakes": true,
           "showland": true,
           "subunitcolor": "#C8D4E3"
          },
          "hoverlabel": {
           "align": "left"
          },
          "hovermode": "closest",
          "mapbox": {
           "style": "light"
          },
          "paper_bgcolor": "white",
          "plot_bgcolor": "white",
          "polar": {
           "angularaxis": {
            "gridcolor": "#EBF0F8",
            "linecolor": "#EBF0F8",
            "ticks": ""
           },
           "bgcolor": "white",
           "radialaxis": {
            "gridcolor": "#EBF0F8",
            "linecolor": "#EBF0F8",
            "ticks": ""
           }
          },
          "scene": {
           "xaxis": {
            "backgroundcolor": "white",
            "gridcolor": "#DFE8F3",
            "gridwidth": 2,
            "linecolor": "#EBF0F8",
            "showbackground": true,
            "ticks": "",
            "zerolinecolor": "#EBF0F8"
           },
           "yaxis": {
            "backgroundcolor": "white",
            "gridcolor": "#DFE8F3",
            "gridwidth": 2,
            "linecolor": "#EBF0F8",
            "showbackground": true,
            "ticks": "",
            "zerolinecolor": "#EBF0F8"
           },
           "zaxis": {
            "backgroundcolor": "white",
            "gridcolor": "#DFE8F3",
            "gridwidth": 2,
            "linecolor": "#EBF0F8",
            "showbackground": true,
            "ticks": "",
            "zerolinecolor": "#EBF0F8"
           }
          },
          "shapedefaults": {
           "line": {
            "color": "#2a3f5f"
           }
          },
          "ternary": {
           "aaxis": {
            "gridcolor": "#DFE8F3",
            "linecolor": "#A2B1C6",
            "ticks": ""
           },
           "baxis": {
            "gridcolor": "#DFE8F3",
            "linecolor": "#A2B1C6",
            "ticks": ""
           },
           "bgcolor": "white",
           "caxis": {
            "gridcolor": "#DFE8F3",
            "linecolor": "#A2B1C6",
            "ticks": ""
           }
          },
          "title": {
           "x": 0.05
          },
          "xaxis": {
           "automargin": true,
           "gridcolor": "#EBF0F8",
           "linecolor": "#EBF0F8",
           "ticks": "",
           "title": {
            "standoff": 15
           },
           "zerolinecolor": "#EBF0F8",
           "zerolinewidth": 2
          },
          "yaxis": {
           "automargin": true,
           "gridcolor": "#EBF0F8",
           "linecolor": "#EBF0F8",
           "ticks": "",
           "title": {
            "standoff": 15
           },
           "zerolinecolor": "#EBF0F8",
           "zerolinewidth": 2
          }
         }
        },
        "title": {
         "text": "Mean time elapsed"
        },
        "xaxis": {
         "anchor": "y",
         "domain": [
          0,
          1
         ],
         "title": {
          "text": "index"
         }
        },
        "yaxis": {
         "anchor": "x",
         "domain": [
          0,
          1
         ],
         "title": {
          "text": "time_elapsed"
         }
        }
       }
      }
     },
     "metadata": {},
     "output_type": "display_data"
    },
    {
     "data": {
      "application/vnd.plotly.v1+json": {
       "config": {
        "plotlyServerURL": "https://plot.ly"
       },
       "data": [
        {
         "domain": {
          "x": [
           0,
           1
          ],
          "y": [
           0,
           1
          ]
         },
         "hovertemplate": "legend=%{label}<br>time_elapsed=%{value}<extra></extra>",
         "labels": [
          "apply_gradients (logs/mdgan.5.cifar.server.logs.json)",
          "calc_gradients (logs/mdgan.5.cifar.server.logs.json)",
          "send_data (logs/mdgan.5.cifar.server.logs.json)",
          "epoch_calculation (logs/mdgan.5.cifar.server.logs.json)",
          "epoch (logs/mdgan.5.cifar.server.logs.json)",
          "is (logs/mdgan.5.cifar.server.logs.json)",
          "fid (logs/mdgan.5.cifar.server.logs.json)",
          "logging (logs/mdgan.5.cifar.server.logs.json)"
         ],
         "legendgroup": "",
         "name": "",
         "showlegend": true,
         "type": "pie",
         "values": [
          0.007244761192307692,
          0.01576555684615385,
          0.0927075331923077,
          0.12128598876923077,
          0.23484984719230767,
          0.52431798,
          2.399863006,
          2.952639103
         ]
        }
       ],
       "layout": {
        "legend": {
         "tracegroupgap": 0
        },
        "template": {
         "data": {
          "bar": [
           {
            "error_x": {
             "color": "#2a3f5f"
            },
            "error_y": {
             "color": "#2a3f5f"
            },
            "marker": {
             "line": {
              "color": "white",
              "width": 0.5
             },
             "pattern": {
              "fillmode": "overlay",
              "size": 10,
              "solidity": 0.2
             }
            },
            "type": "bar"
           }
          ],
          "barpolar": [
           {
            "marker": {
             "line": {
              "color": "white",
              "width": 0.5
             },
             "pattern": {
              "fillmode": "overlay",
              "size": 10,
              "solidity": 0.2
             }
            },
            "type": "barpolar"
           }
          ],
          "carpet": [
           {
            "aaxis": {
             "endlinecolor": "#2a3f5f",
             "gridcolor": "#C8D4E3",
             "linecolor": "#C8D4E3",
             "minorgridcolor": "#C8D4E3",
             "startlinecolor": "#2a3f5f"
            },
            "baxis": {
             "endlinecolor": "#2a3f5f",
             "gridcolor": "#C8D4E3",
             "linecolor": "#C8D4E3",
             "minorgridcolor": "#C8D4E3",
             "startlinecolor": "#2a3f5f"
            },
            "type": "carpet"
           }
          ],
          "choropleth": [
           {
            "colorbar": {
             "outlinewidth": 0,
             "ticks": ""
            },
            "type": "choropleth"
           }
          ],
          "contour": [
           {
            "colorbar": {
             "outlinewidth": 0,
             "ticks": ""
            },
            "colorscale": [
             [
              0,
              "#0d0887"
             ],
             [
              0.1111111111111111,
              "#46039f"
             ],
             [
              0.2222222222222222,
              "#7201a8"
             ],
             [
              0.3333333333333333,
              "#9c179e"
             ],
             [
              0.4444444444444444,
              "#bd3786"
             ],
             [
              0.5555555555555556,
              "#d8576b"
             ],
             [
              0.6666666666666666,
              "#ed7953"
             ],
             [
              0.7777777777777778,
              "#fb9f3a"
             ],
             [
              0.8888888888888888,
              "#fdca26"
             ],
             [
              1,
              "#f0f921"
             ]
            ],
            "type": "contour"
           }
          ],
          "contourcarpet": [
           {
            "colorbar": {
             "outlinewidth": 0,
             "ticks": ""
            },
            "type": "contourcarpet"
           }
          ],
          "heatmap": [
           {
            "colorbar": {
             "outlinewidth": 0,
             "ticks": ""
            },
            "colorscale": [
             [
              0,
              "#0d0887"
             ],
             [
              0.1111111111111111,
              "#46039f"
             ],
             [
              0.2222222222222222,
              "#7201a8"
             ],
             [
              0.3333333333333333,
              "#9c179e"
             ],
             [
              0.4444444444444444,
              "#bd3786"
             ],
             [
              0.5555555555555556,
              "#d8576b"
             ],
             [
              0.6666666666666666,
              "#ed7953"
             ],
             [
              0.7777777777777778,
              "#fb9f3a"
             ],
             [
              0.8888888888888888,
              "#fdca26"
             ],
             [
              1,
              "#f0f921"
             ]
            ],
            "type": "heatmap"
           }
          ],
          "heatmapgl": [
           {
            "colorbar": {
             "outlinewidth": 0,
             "ticks": ""
            },
            "colorscale": [
             [
              0,
              "#0d0887"
             ],
             [
              0.1111111111111111,
              "#46039f"
             ],
             [
              0.2222222222222222,
              "#7201a8"
             ],
             [
              0.3333333333333333,
              "#9c179e"
             ],
             [
              0.4444444444444444,
              "#bd3786"
             ],
             [
              0.5555555555555556,
              "#d8576b"
             ],
             [
              0.6666666666666666,
              "#ed7953"
             ],
             [
              0.7777777777777778,
              "#fb9f3a"
             ],
             [
              0.8888888888888888,
              "#fdca26"
             ],
             [
              1,
              "#f0f921"
             ]
            ],
            "type": "heatmapgl"
           }
          ],
          "histogram": [
           {
            "marker": {
             "pattern": {
              "fillmode": "overlay",
              "size": 10,
              "solidity": 0.2
             }
            },
            "type": "histogram"
           }
          ],
          "histogram2d": [
           {
            "colorbar": {
             "outlinewidth": 0,
             "ticks": ""
            },
            "colorscale": [
             [
              0,
              "#0d0887"
             ],
             [
              0.1111111111111111,
              "#46039f"
             ],
             [
              0.2222222222222222,
              "#7201a8"
             ],
             [
              0.3333333333333333,
              "#9c179e"
             ],
             [
              0.4444444444444444,
              "#bd3786"
             ],
             [
              0.5555555555555556,
              "#d8576b"
             ],
             [
              0.6666666666666666,
              "#ed7953"
             ],
             [
              0.7777777777777778,
              "#fb9f3a"
             ],
             [
              0.8888888888888888,
              "#fdca26"
             ],
             [
              1,
              "#f0f921"
             ]
            ],
            "type": "histogram2d"
           }
          ],
          "histogram2dcontour": [
           {
            "colorbar": {
             "outlinewidth": 0,
             "ticks": ""
            },
            "colorscale": [
             [
              0,
              "#0d0887"
             ],
             [
              0.1111111111111111,
              "#46039f"
             ],
             [
              0.2222222222222222,
              "#7201a8"
             ],
             [
              0.3333333333333333,
              "#9c179e"
             ],
             [
              0.4444444444444444,
              "#bd3786"
             ],
             [
              0.5555555555555556,
              "#d8576b"
             ],
             [
              0.6666666666666666,
              "#ed7953"
             ],
             [
              0.7777777777777778,
              "#fb9f3a"
             ],
             [
              0.8888888888888888,
              "#fdca26"
             ],
             [
              1,
              "#f0f921"
             ]
            ],
            "type": "histogram2dcontour"
           }
          ],
          "mesh3d": [
           {
            "colorbar": {
             "outlinewidth": 0,
             "ticks": ""
            },
            "type": "mesh3d"
           }
          ],
          "parcoords": [
           {
            "line": {
             "colorbar": {
              "outlinewidth": 0,
              "ticks": ""
             }
            },
            "type": "parcoords"
           }
          ],
          "pie": [
           {
            "automargin": true,
            "type": "pie"
           }
          ],
          "scatter": [
           {
            "fillpattern": {
             "fillmode": "overlay",
             "size": 10,
             "solidity": 0.2
            },
            "type": "scatter"
           }
          ],
          "scatter3d": [
           {
            "line": {
             "colorbar": {
              "outlinewidth": 0,
              "ticks": ""
             }
            },
            "marker": {
             "colorbar": {
              "outlinewidth": 0,
              "ticks": ""
             }
            },
            "type": "scatter3d"
           }
          ],
          "scattercarpet": [
           {
            "marker": {
             "colorbar": {
              "outlinewidth": 0,
              "ticks": ""
             }
            },
            "type": "scattercarpet"
           }
          ],
          "scattergeo": [
           {
            "marker": {
             "colorbar": {
              "outlinewidth": 0,
              "ticks": ""
             }
            },
            "type": "scattergeo"
           }
          ],
          "scattergl": [
           {
            "marker": {
             "colorbar": {
              "outlinewidth": 0,
              "ticks": ""
             }
            },
            "type": "scattergl"
           }
          ],
          "scattermapbox": [
           {
            "marker": {
             "colorbar": {
              "outlinewidth": 0,
              "ticks": ""
             }
            },
            "type": "scattermapbox"
           }
          ],
          "scatterpolar": [
           {
            "marker": {
             "colorbar": {
              "outlinewidth": 0,
              "ticks": ""
             }
            },
            "type": "scatterpolar"
           }
          ],
          "scatterpolargl": [
           {
            "marker": {
             "colorbar": {
              "outlinewidth": 0,
              "ticks": ""
             }
            },
            "type": "scatterpolargl"
           }
          ],
          "scatterternary": [
           {
            "marker": {
             "colorbar": {
              "outlinewidth": 0,
              "ticks": ""
             }
            },
            "type": "scatterternary"
           }
          ],
          "surface": [
           {
            "colorbar": {
             "outlinewidth": 0,
             "ticks": ""
            },
            "colorscale": [
             [
              0,
              "#0d0887"
             ],
             [
              0.1111111111111111,
              "#46039f"
             ],
             [
              0.2222222222222222,
              "#7201a8"
             ],
             [
              0.3333333333333333,
              "#9c179e"
             ],
             [
              0.4444444444444444,
              "#bd3786"
             ],
             [
              0.5555555555555556,
              "#d8576b"
             ],
             [
              0.6666666666666666,
              "#ed7953"
             ],
             [
              0.7777777777777778,
              "#fb9f3a"
             ],
             [
              0.8888888888888888,
              "#fdca26"
             ],
             [
              1,
              "#f0f921"
             ]
            ],
            "type": "surface"
           }
          ],
          "table": [
           {
            "cells": {
             "fill": {
              "color": "#EBF0F8"
             },
             "line": {
              "color": "white"
             }
            },
            "header": {
             "fill": {
              "color": "#C8D4E3"
             },
             "line": {
              "color": "white"
             }
            },
            "type": "table"
           }
          ]
         },
         "layout": {
          "annotationdefaults": {
           "arrowcolor": "#2a3f5f",
           "arrowhead": 0,
           "arrowwidth": 1
          },
          "autotypenumbers": "strict",
          "coloraxis": {
           "colorbar": {
            "outlinewidth": 0,
            "ticks": ""
           }
          },
          "colorscale": {
           "diverging": [
            [
             0,
             "#8e0152"
            ],
            [
             0.1,
             "#c51b7d"
            ],
            [
             0.2,
             "#de77ae"
            ],
            [
             0.3,
             "#f1b6da"
            ],
            [
             0.4,
             "#fde0ef"
            ],
            [
             0.5,
             "#f7f7f7"
            ],
            [
             0.6,
             "#e6f5d0"
            ],
            [
             0.7,
             "#b8e186"
            ],
            [
             0.8,
             "#7fbc41"
            ],
            [
             0.9,
             "#4d9221"
            ],
            [
             1,
             "#276419"
            ]
           ],
           "sequential": [
            [
             0,
             "#0d0887"
            ],
            [
             0.1111111111111111,
             "#46039f"
            ],
            [
             0.2222222222222222,
             "#7201a8"
            ],
            [
             0.3333333333333333,
             "#9c179e"
            ],
            [
             0.4444444444444444,
             "#bd3786"
            ],
            [
             0.5555555555555556,
             "#d8576b"
            ],
            [
             0.6666666666666666,
             "#ed7953"
            ],
            [
             0.7777777777777778,
             "#fb9f3a"
            ],
            [
             0.8888888888888888,
             "#fdca26"
            ],
            [
             1,
             "#f0f921"
            ]
           ],
           "sequentialminus": [
            [
             0,
             "#0d0887"
            ],
            [
             0.1111111111111111,
             "#46039f"
            ],
            [
             0.2222222222222222,
             "#7201a8"
            ],
            [
             0.3333333333333333,
             "#9c179e"
            ],
            [
             0.4444444444444444,
             "#bd3786"
            ],
            [
             0.5555555555555556,
             "#d8576b"
            ],
            [
             0.6666666666666666,
             "#ed7953"
            ],
            [
             0.7777777777777778,
             "#fb9f3a"
            ],
            [
             0.8888888888888888,
             "#fdca26"
            ],
            [
             1,
             "#f0f921"
            ]
           ]
          },
          "colorway": [
           "#636efa",
           "#EF553B",
           "#00cc96",
           "#ab63fa",
           "#FFA15A",
           "#19d3f3",
           "#FF6692",
           "#B6E880",
           "#FF97FF",
           "#FECB52"
          ],
          "font": {
           "color": "#2a3f5f"
          },
          "geo": {
           "bgcolor": "white",
           "lakecolor": "white",
           "landcolor": "white",
           "showlakes": true,
           "showland": true,
           "subunitcolor": "#C8D4E3"
          },
          "hoverlabel": {
           "align": "left"
          },
          "hovermode": "closest",
          "mapbox": {
           "style": "light"
          },
          "paper_bgcolor": "white",
          "plot_bgcolor": "white",
          "polar": {
           "angularaxis": {
            "gridcolor": "#EBF0F8",
            "linecolor": "#EBF0F8",
            "ticks": ""
           },
           "bgcolor": "white",
           "radialaxis": {
            "gridcolor": "#EBF0F8",
            "linecolor": "#EBF0F8",
            "ticks": ""
           }
          },
          "scene": {
           "xaxis": {
            "backgroundcolor": "white",
            "gridcolor": "#DFE8F3",
            "gridwidth": 2,
            "linecolor": "#EBF0F8",
            "showbackground": true,
            "ticks": "",
            "zerolinecolor": "#EBF0F8"
           },
           "yaxis": {
            "backgroundcolor": "white",
            "gridcolor": "#DFE8F3",
            "gridwidth": 2,
            "linecolor": "#EBF0F8",
            "showbackground": true,
            "ticks": "",
            "zerolinecolor": "#EBF0F8"
           },
           "zaxis": {
            "backgroundcolor": "white",
            "gridcolor": "#DFE8F3",
            "gridwidth": 2,
            "linecolor": "#EBF0F8",
            "showbackground": true,
            "ticks": "",
            "zerolinecolor": "#EBF0F8"
           }
          },
          "shapedefaults": {
           "line": {
            "color": "#2a3f5f"
           }
          },
          "ternary": {
           "aaxis": {
            "gridcolor": "#DFE8F3",
            "linecolor": "#A2B1C6",
            "ticks": ""
           },
           "baxis": {
            "gridcolor": "#DFE8F3",
            "linecolor": "#A2B1C6",
            "ticks": ""
           },
           "bgcolor": "white",
           "caxis": {
            "gridcolor": "#DFE8F3",
            "linecolor": "#A2B1C6",
            "ticks": ""
           }
          },
          "title": {
           "x": 0.05
          },
          "xaxis": {
           "automargin": true,
           "gridcolor": "#EBF0F8",
           "linecolor": "#EBF0F8",
           "ticks": "",
           "title": {
            "standoff": 15
           },
           "zerolinecolor": "#EBF0F8",
           "zerolinewidth": 2
          },
          "yaxis": {
           "automargin": true,
           "gridcolor": "#EBF0F8",
           "linecolor": "#EBF0F8",
           "ticks": "",
           "title": {
            "standoff": 15
           },
           "zerolinecolor": "#EBF0F8",
           "zerolinewidth": 2
          }
         }
        },
        "title": {
         "text": "Mean time elapsed"
        }
       }
      }
     },
     "metadata": {},
     "output_type": "display_data"
    }
   ],
   "source": [
    "mean_time_elapsed = server_events_df[[\"legend\", \"time_elapsed\"]].groupby(\"legend\").mean().sort_values(by=\"time_elapsed\").reset_index()\n",
    "px.bar(mean_time_elapsed, y=\"time_elapsed\", title=\"Mean time elapsed\", color=\"legend\", template=\"plotly_white\", text_auto=True).show()\n",
    "px.pie(mean_time_elapsed, values=\"time_elapsed\", names=\"legend\", title=\"Mean time elapsed\", template=\"plotly_white\").show()"
   ]
  },
  {
   "cell_type": "code",
   "execution_count": 10,
   "metadata": {},
   "outputs": [
    {
     "data": {
      "application/vnd.plotly.v1+json": {
       "config": {
        "plotlyServerURL": "https://plot.ly"
       },
       "data": [
        {
         "alignmentgroup": "True",
         "base": [
          "2024-05-14T16:43:29.834113",
          "2024-05-14T16:43:34.141160",
          "2024-05-14T16:43:34.213546",
          "2024-05-14T16:43:34.282121",
          "2024-05-14T16:43:34.359533",
          "2024-05-14T16:43:34.426778",
          "2024-05-14T16:43:34.486900",
          "2024-05-14T16:43:34.553753",
          "2024-05-14T16:43:34.630193",
          "2024-05-14T16:43:34.698748",
          "2024-05-14T16:43:34.762201",
          "2024-05-14T16:43:38.982988",
          "2024-05-14T16:43:39.054857",
          "2024-05-14T16:43:39.110018",
          "2024-05-14T16:43:39.165958",
          "2024-05-14T16:43:39.227107",
          "2024-05-14T16:43:39.293906",
          "2024-05-14T16:43:39.356894",
          "2024-05-14T16:43:39.421017",
          "2024-05-14T16:43:39.489933",
          "2024-05-14T16:43:39.547918",
          "2024-05-14T16:43:43.343625",
          "2024-05-14T16:43:43.413610",
          "2024-05-14T16:43:43.468436",
          "2024-05-14T16:43:43.539398",
          "2024-05-14T16:43:43.609912",
          "2024-05-14T16:43:43.672811",
          "2024-05-14T16:43:43.740483",
          "2024-05-14T16:43:43.804964",
          "2024-05-14T16:43:43.867331",
          "2024-05-14T16:43:43.937625",
          "2024-05-14T16:43:47.807055",
          "2024-05-14T16:43:47.879214",
          "2024-05-14T16:43:47.944667",
          "2024-05-14T16:43:48.019224",
          "2024-05-14T16:43:48.098851",
          "2024-05-14T16:43:48.154637",
          "2024-05-14T16:43:48.225588",
          "2024-05-14T16:43:48.295291",
          "2024-05-14T16:43:29.834114",
          "2024-05-14T16:43:34.141160",
          "2024-05-14T16:43:34.213546",
          "2024-05-14T16:43:34.282123",
          "2024-05-14T16:43:34.359533",
          "2024-05-14T16:43:34.426780",
          "2024-05-14T16:43:34.486900",
          "2024-05-14T16:43:34.553753",
          "2024-05-14T16:43:34.630193",
          "2024-05-14T16:43:34.698750",
          "2024-05-14T16:43:34.762201",
          "2024-05-14T16:43:38.982988",
          "2024-05-14T16:43:39.054857",
          "2024-05-14T16:43:39.110018",
          "2024-05-14T16:43:39.165958",
          "2024-05-14T16:43:39.227107",
          "2024-05-14T16:43:39.293907",
          "2024-05-14T16:43:39.356894",
          "2024-05-14T16:43:39.421017",
          "2024-05-14T16:43:39.489933",
          "2024-05-14T16:43:39.547918",
          "2024-05-14T16:43:43.343625",
          "2024-05-14T16:43:43.413612",
          "2024-05-14T16:43:43.468436",
          "2024-05-14T16:43:43.539398",
          "2024-05-14T16:43:43.609912",
          "2024-05-14T16:43:43.672812",
          "2024-05-14T16:43:43.740484",
          "2024-05-14T16:43:43.804965",
          "2024-05-14T16:43:43.867332",
          "2024-05-14T16:43:43.937625",
          "2024-05-14T16:43:47.807055",
          "2024-05-14T16:43:47.879214",
          "2024-05-14T16:43:47.944669",
          "2024-05-14T16:43:48.019224",
          "2024-05-14T16:43:48.098851",
          "2024-05-14T16:43:48.154637",
          "2024-05-14T16:43:48.225589",
          "2024-05-14T16:43:48.295292",
          "2024-05-14T16:43:30.322609",
          "2024-05-14T16:43:34.810010",
          "2024-05-14T16:43:39.596791",
          "2024-05-14T16:43:43.978396",
          "2024-05-14T16:43:33.570480",
          "2024-05-14T16:43:38.403681",
          "2024-05-14T16:43:42.770350",
          "2024-05-14T16:43:47.226526",
          "2024-05-14T16:43:30.314437",
          "2024-05-14T16:43:34.809028",
          "2024-05-14T16:43:39.595707",
          "2024-05-14T16:43:43.977330"
         ],
         "hovertemplate": "name=cifar.standalone.logs.json<br>start=%{base}<br>end=%{x}<br>event=%{y}<extra></extra>",
         "legendgroup": "cifar.standalone.logs.json",
         "marker": {
          "color": "#636efa",
          "opacity": 0.5,
          "pattern": {
           "shape": ""
          }
         },
         "name": "cifar.standalone.logs.json",
         "offsetgroup": "cifar.standalone.logs.json",
         "orientation": "h",
         "showlegend": true,
         "textposition": "auto",
         "type": "bar",
         "x": [
          4272.044897,
          41.079998,
          31.665802,
          46.691179,
          38.423061,
          30.373335,
          33.364772,
          46.165705,
          36.062956,
          34.089089,
          4190.137863,
          40.392876,
          23.362159,
          24.717808,
          34.745216,
          40.926934,
          31.838894,
          34.033775,
          41.919947,
          29.906988,
          3766.452312,
          44.390917,
          29.711961,
          42.391062,
          42.05513,
          37.763834,
          41.731834,
          38.094997,
          34.294129,
          39.947749,
          3828.670979,
          38.392067,
          32.809019,
          34.916162,
          48.194647,
          28.694868,
          40.103912,
          36.004066,
          38.407087,
          460.855007,
          41.078091,
          31.663895,
          46.687842,
          38.420915,
          30.369997,
          33.362865,
          46.162844,
          36.06081,
          34.085036,
          42.846203,
          40.389777,
          23.35906,
          24.714947,
          34.742117,
          40.923118,
          31.835079,
          34.030199,
          41.916848,
          29.903889,
          44.571161,
          44.388056,
          29.707908,
          42.387962,
          42.052031,
          37.760973,
          41.726113,
          38.08999,
          34.290077,
          39.943934,
          36.967754,
          38.389922,
          32.806158,
          34.913063,
          48.192024,
          28.693199,
          40.101766,
          36.000967,
          38.403272,
          3247.869015,
          3593.669177,
          3173.558951,
          3248.129129,
          535.638094,
          548.585892,
          543.956042,
          539.689064,
          3791.719198,
          4143.31007,
          3718.663215,
          3788.965226
         ],
         "xaxis": "x",
         "y": [
          "epoch",
          "epoch",
          "epoch",
          "epoch",
          "epoch",
          "epoch",
          "epoch",
          "epoch",
          "epoch",
          "epoch",
          "epoch",
          "epoch",
          "epoch",
          "epoch",
          "epoch",
          "epoch",
          "epoch",
          "epoch",
          "epoch",
          "epoch",
          "epoch",
          "epoch",
          "epoch",
          "epoch",
          "epoch",
          "epoch",
          "epoch",
          "epoch",
          "epoch",
          "epoch",
          "epoch",
          "epoch",
          "epoch",
          "epoch",
          "epoch",
          "epoch",
          "epoch",
          "epoch",
          "epoch",
          "epoch_calculation",
          "epoch_calculation",
          "epoch_calculation",
          "epoch_calculation",
          "epoch_calculation",
          "epoch_calculation",
          "epoch_calculation",
          "epoch_calculation",
          "epoch_calculation",
          "epoch_calculation",
          "epoch_calculation",
          "epoch_calculation",
          "epoch_calculation",
          "epoch_calculation",
          "epoch_calculation",
          "epoch_calculation",
          "epoch_calculation",
          "epoch_calculation",
          "epoch_calculation",
          "epoch_calculation",
          "epoch_calculation",
          "epoch_calculation",
          "epoch_calculation",
          "epoch_calculation",
          "epoch_calculation",
          "epoch_calculation",
          "epoch_calculation",
          "epoch_calculation",
          "epoch_calculation",
          "epoch_calculation",
          "epoch_calculation",
          "epoch_calculation",
          "epoch_calculation",
          "epoch_calculation",
          "epoch_calculation",
          "epoch_calculation",
          "epoch_calculation",
          "epoch_calculation",
          "epoch_calculation",
          "fid",
          "fid",
          "fid",
          "fid",
          "is",
          "is",
          "is",
          "is",
          "logging",
          "logging",
          "logging",
          "logging"
         ],
         "yaxis": "y"
        },
        {
         "alignmentgroup": "True",
         "base": [
          "2024-05-14T16:43:29.831662",
          "2024-05-14T16:43:30.408802",
          "2024-05-14T16:43:33.760489",
          "2024-05-14T16:43:33.870329",
          "2024-05-14T16:43:33.957221",
          "2024-05-14T16:43:34.064666",
          "2024-05-14T16:43:34.136719",
          "2024-05-14T16:43:34.224717",
          "2024-05-14T16:43:34.333142",
          "2024-05-14T16:43:34.431321",
          "2024-05-14T16:43:34.526119",
          "2024-05-14T16:43:34.614876",
          "2024-05-14T16:43:34.701701",
          "2024-05-14T16:43:34.789354",
          "2024-05-14T16:43:34.877922",
          "2024-05-14T16:43:34.965749",
          "2024-05-14T16:43:35.053579",
          "2024-05-14T16:43:35.140766",
          "2024-05-14T16:43:35.230468",
          "2024-05-14T16:43:35.318128",
          "2024-05-14T16:43:35.406672",
          "2024-05-14T16:43:35.493789",
          "2024-05-14T16:43:35.582704",
          "2024-05-14T16:43:35.672015",
          "2024-05-14T16:43:35.759951",
          "2024-05-14T16:43:35.843790",
          "2024-05-14T16:43:35.935032",
          "2024-05-14T16:43:29.961426",
          "2024-05-14T16:43:33.702067",
          "2024-05-14T16:43:33.837297",
          "2024-05-14T16:43:33.925778",
          "2024-05-14T16:43:34.014600",
          "2024-05-14T16:43:34.103641",
          "2024-05-14T16:43:34.191421",
          "2024-05-14T16:43:34.280447",
          "2024-05-14T16:43:34.391386",
          "2024-05-14T16:43:34.492394",
          "2024-05-14T16:43:34.581426",
          "2024-05-14T16:43:34.668915",
          "2024-05-14T16:43:34.756386",
          "2024-05-14T16:43:34.844415",
          "2024-05-14T16:43:34.933120",
          "2024-05-14T16:43:35.019927",
          "2024-05-14T16:43:35.108131",
          "2024-05-14T16:43:35.196784",
          "2024-05-14T16:43:35.285272",
          "2024-05-14T16:43:35.373176",
          "2024-05-14T16:43:35.461340",
          "2024-05-14T16:43:35.549296",
          "2024-05-14T16:43:35.638624",
          "2024-05-14T16:43:35.726783",
          "2024-05-14T16:43:35.815382",
          "2024-05-14T16:43:35.905735",
          "2024-05-14T16:43:35.994001",
          "2024-05-14T16:43:29.839945",
          "2024-05-14T16:43:30.411409",
          "2024-05-14T16:43:33.762871",
          "2024-05-14T16:43:33.872330",
          "2024-05-14T16:43:33.958865",
          "2024-05-14T16:43:34.067882",
          "2024-05-14T16:43:34.138289",
          "2024-05-14T16:43:34.226308",
          "2024-05-14T16:43:34.337199",
          "2024-05-14T16:43:34.435714",
          "2024-05-14T16:43:34.527709",
          "2024-05-14T16:43:34.616370",
          "2024-05-14T16:43:34.703146",
          "2024-05-14T16:43:34.791007",
          "2024-05-14T16:43:34.879419",
          "2024-05-14T16:43:34.967530",
          "2024-05-14T16:43:35.055181",
          "2024-05-14T16:43:35.142741",
          "2024-05-14T16:43:35.232074",
          "2024-05-14T16:43:35.319724",
          "2024-05-14T16:43:35.408496",
          "2024-05-14T16:43:35.495584",
          "2024-05-14T16:43:35.584691",
          "2024-05-14T16:43:35.673547",
          "2024-05-14T16:43:35.761551",
          "2024-05-14T16:43:35.845952",
          "2024-05-14T16:43:35.937127",
          "2024-05-14T16:43:30.385761",
          "2024-05-14T16:43:33.747938",
          "2024-05-14T16:43:33.860669",
          "2024-05-14T16:43:33.949967",
          "2024-05-14T16:43:34.039221",
          "2024-05-14T16:43:34.127136",
          "2024-05-14T16:43:34.215010",
          "2024-05-14T16:43:34.316026",
          "2024-05-14T16:43:34.418518",
          "2024-05-14T16:43:34.516570",
          "2024-05-14T16:43:34.605048",
          "2024-05-14T16:43:34.693233",
          "2024-05-14T16:43:34.780315",
          "2024-05-14T16:43:34.872503",
          "2024-05-14T16:43:34.954977",
          "2024-05-14T16:43:35.044549",
          "2024-05-14T16:43:35.131312",
          "2024-05-14T16:43:35.220664",
          "2024-05-14T16:43:35.307706",
          "2024-05-14T16:43:35.396581",
          "2024-05-14T16:43:35.484007",
          "2024-05-14T16:43:35.572482",
          "2024-05-14T16:43:35.666597",
          "2024-05-14T16:43:35.749917",
          "2024-05-14T16:43:35.831640",
          "2024-05-14T16:43:35.926970",
          "2024-05-14T16:43:36.017837"
         ],
         "hovertemplate": "name=mdgan.5.cifar.worker.1.logs.json<br>start=%{base}<br>end=%{x}<br>event=%{y}<extra></extra>",
         "legendgroup": "mdgan.5.cifar.worker.1.logs.json",
         "marker": {
          "color": "#EF553B",
          "opacity": 0.5,
          "pattern": {
           "shape": ""
          }
         },
         "name": "mdgan.5.cifar.worker.1.logs.json",
         "offsetgroup": "mdgan.5.cifar.worker.1.logs.json",
         "orientation": "h",
         "showlegend": true,
         "textposition": "auto",
         "type": "bar",
         "x": [
          573.771954,
          3351.144076,
          109.388113,
          86.50279,
          91.037035,
          71.5909,
          87.539196,
          106.310845,
          97.56589,
          94.282866,
          88.210822,
          86.421012,
          87.026119,
          88.11593,
          87.219,
          87.074042,
          86.598873,
          89.086056,
          87.049961,
          87.785244,
          86.53903,
          88.228226,
          88.633299,
          87.329626,
          83.032131,
          90.431929,
          92.996836,
          424.335956,
          45.869112,
          23.371935,
          24.18828,
          24.619817,
          23.494959,
          23.58818,
          35.578013,
          27.129888,
          24.175166,
          23.621321,
          24.317026,
          23.929834,
          28.088093,
          21.857977,
          24.621963,
          23.180962,
          23.880005,
          22.433043,
          23.405075,
          22.666931,
          23.185968,
          27.972936,
          23.133993,
          16.258001,
          21.233081,
          23.835183,
          121.480942,
          3290.657043,
          74.425936,
          53.447962,
          55.734158,
          35.758018,
          53.131104,
          54.137946,
          54.186821,
          56.680918,
          53.716898,
          52.545071,
          53.239107,
          53.407907,
          53.700208,
          52.397013,
          52.94919,
          54.0421,
          53.196907,
          53.451061,
          52.843094,
          53.711176,
          53.933859,
          53.236008,
          53.829193,
          59.782982,
          56.874036,
          19.327164,
          11.995793,
          9.19199,
          6.850719,
          9.027005,
          9.107113,
          9.217978,
          14.9858,
          12.177945,
          9.019852,
          9.26876,
          8.052826,
          8.399248,
          4.956961,
          10.136843,
          8.254051,
          8.850336,
          9.175063,
          9.799957,
          9.319782,
          9.19199,
          9.521961,
          4.728079,
          9.409904,
          11.330128,
          7.239103,
          10.178089
         ],
         "xaxis": "x",
         "y": [
          "epoch",
          "epoch",
          "epoch",
          "epoch",
          "epoch",
          "epoch",
          "epoch",
          "epoch",
          "epoch",
          "epoch",
          "epoch",
          "epoch",
          "epoch",
          "epoch",
          "epoch",
          "epoch",
          "epoch",
          "epoch",
          "epoch",
          "epoch",
          "epoch",
          "epoch",
          "epoch",
          "epoch",
          "epoch",
          "epoch",
          "epoch",
          "train",
          "train",
          "train",
          "train",
          "train",
          "train",
          "train",
          "train",
          "train",
          "train",
          "train",
          "train",
          "train",
          "train",
          "train",
          "train",
          "train",
          "train",
          "train",
          "train",
          "train",
          "train",
          "train",
          "train",
          "train",
          "train",
          "train",
          "recv_data",
          "recv_data",
          "recv_data",
          "recv_data",
          "recv_data",
          "recv_data",
          "recv_data",
          "recv_data",
          "recv_data",
          "recv_data",
          "recv_data",
          "recv_data",
          "recv_data",
          "recv_data",
          "recv_data",
          "recv_data",
          "recv_data",
          "recv_data",
          "recv_data",
          "recv_data",
          "recv_data",
          "recv_data",
          "recv_data",
          "recv_data",
          "recv_data",
          "recv_data",
          "recv_data",
          "send",
          "send",
          "send",
          "send",
          "send",
          "send",
          "send",
          "send",
          "send",
          "send",
          "send",
          "send",
          "send",
          "send",
          "send",
          "send",
          "send",
          "send",
          "send",
          "send",
          "send",
          "send",
          "send",
          "send",
          "send",
          "send",
          "send"
         ],
         "yaxis": "y"
        },
        {
         "alignmentgroup": "True",
         "base": [
          "2024-05-14T16:43:29.831362",
          "2024-05-14T16:43:30.447010",
          "2024-05-14T16:43:33.754213",
          "2024-05-14T16:43:33.858848",
          "2024-05-14T16:43:33.947474",
          "2024-05-14T16:43:34.064563",
          "2024-05-14T16:43:34.127374",
          "2024-05-14T16:43:34.215640",
          "2024-05-14T16:43:34.320353",
          "2024-05-14T16:43:34.425374",
          "2024-05-14T16:43:34.514219",
          "2024-05-14T16:43:34.604890",
          "2024-05-14T16:43:34.694303",
          "2024-05-14T16:43:34.779245",
          "2024-05-14T16:43:34.869781",
          "2024-05-14T16:43:34.958319",
          "2024-05-14T16:43:35.046319",
          "2024-05-14T16:43:35.134060",
          "2024-05-14T16:43:35.222386",
          "2024-05-14T16:43:35.312233",
          "2024-05-14T16:43:35.400079",
          "2024-05-14T16:43:35.486159",
          "2024-05-14T16:43:35.570992",
          "2024-05-14T16:43:35.661862",
          "2024-05-14T16:43:35.752733",
          "2024-05-14T16:43:35.838149",
          "2024-05-14T16:43:35.933678",
          "2024-05-14T16:43:29.963596",
          "2024-05-14T16:43:33.702409",
          "2024-05-14T16:43:33.837722",
          "2024-05-14T16:43:33.926249",
          "2024-05-14T16:43:34.015066",
          "2024-05-14T16:43:34.104059",
          "2024-05-14T16:43:34.191823",
          "2024-05-14T16:43:34.280998",
          "2024-05-14T16:43:34.392915",
          "2024-05-14T16:43:34.492972",
          "2024-05-14T16:43:34.581765",
          "2024-05-14T16:43:34.669241",
          "2024-05-14T16:43:34.756649",
          "2024-05-14T16:43:34.844693",
          "2024-05-14T16:43:34.933436",
          "2024-05-14T16:43:35.020246",
          "2024-05-14T16:43:35.108348",
          "2024-05-14T16:43:35.197185",
          "2024-05-14T16:43:35.285700",
          "2024-05-14T16:43:35.373434",
          "2024-05-14T16:43:35.461645",
          "2024-05-14T16:43:35.549489",
          "2024-05-14T16:43:35.638970",
          "2024-05-14T16:43:35.727109",
          "2024-05-14T16:43:35.815856",
          "2024-05-14T16:43:35.905977",
          "2024-05-14T16:43:35.994247",
          "2024-05-14T16:43:29.836731",
          "2024-05-14T16:43:30.452785",
          "2024-05-14T16:43:33.757854",
          "2024-05-14T16:43:33.860557",
          "2024-05-14T16:43:33.949378",
          "2024-05-14T16:43:34.066450",
          "2024-05-14T16:43:34.129146",
          "2024-05-14T16:43:34.217427",
          "2024-05-14T16:43:34.325358",
          "2024-05-14T16:43:34.430304",
          "2024-05-14T16:43:34.515954",
          "2024-05-14T16:43:34.606584",
          "2024-05-14T16:43:34.695839",
          "2024-05-14T16:43:34.780939",
          "2024-05-14T16:43:34.871374",
          "2024-05-14T16:43:34.960058",
          "2024-05-14T16:43:35.047935",
          "2024-05-14T16:43:35.135617",
          "2024-05-14T16:43:35.224009",
          "2024-05-14T16:43:35.313868",
          "2024-05-14T16:43:35.401736",
          "2024-05-14T16:43:35.487811",
          "2024-05-14T16:43:35.572654",
          "2024-05-14T16:43:35.663568",
          "2024-05-14T16:43:35.754327",
          "2024-05-14T16:43:35.840154",
          "2024-05-14T16:43:35.935730",
          "2024-05-14T16:43:30.431296",
          "2024-05-14T16:43:33.747304",
          "2024-05-14T16:43:33.852997",
          "2024-05-14T16:43:33.941393",
          "2024-05-14T16:43:34.031323",
          "2024-05-14T16:43:34.120506",
          "2024-05-14T16:43:34.207391",
          "2024-05-14T16:43:34.298899",
          "2024-05-14T16:43:34.413428",
          "2024-05-14T16:43:34.505753",
          "2024-05-14T16:43:34.597085",
          "2024-05-14T16:43:34.685570",
          "2024-05-14T16:43:34.772469",
          "2024-05-14T16:43:34.859919",
          "2024-05-14T16:43:34.950711",
          "2024-05-14T16:43:35.037542",
          "2024-05-14T16:43:35.124066",
          "2024-05-14T16:43:35.213397",
          "2024-05-14T16:43:35.303568",
          "2024-05-14T16:43:35.390134",
          "2024-05-14T16:43:35.477056",
          "2024-05-14T16:43:35.564381",
          "2024-05-14T16:43:35.654693",
          "2024-05-14T16:43:35.743556",
          "2024-05-14T16:43:35.829285",
          "2024-05-14T16:43:35.925024",
          "2024-05-14T16:43:36.011550"
         ],
         "hovertemplate": "name=mdgan.5.cifar.worker.2.logs.json<br>start=%{base}<br>end=%{x}<br>event=%{y}<extra></extra>",
         "legendgroup": "mdgan.5.cifar.worker.2.logs.json",
         "marker": {
          "color": "#00cc96",
          "opacity": 0.5,
          "pattern": {
           "shape": ""
          }
         },
         "name": "mdgan.5.cifar.worker.2.logs.json",
         "offsetgroup": "mdgan.5.cifar.worker.2.logs.json",
         "orientation": "h",
         "showlegend": true,
         "textposition": "auto",
         "type": "bar",
         "x": [
          612.474918,
          3306.806088,
          104.240894,
          88.18388,
          90.680122,
          62.299013,
          87.780714,
          103.85108,
          104.445934,
          88.34815,
          90.077877,
          88.956118,
          84.283113,
          90.032816,
          87.851048,
          87.518931,
          87.146997,
          87.735893,
          89.131117,
          87.250948,
          85.554123,
          84.10883,
          90.14988,
          90.179205,
          84.566116,
          94.669819,
          83.940745,
          467.700004,
          44.894934,
          15.275002,
          15.143871,
          16.257048,
          16.446113,
          15.567065,
          17.89999,
          20.513058,
          12.781858,
          15.319824,
          16.328812,
          15.819073,
          15.225887,
          17.273187,
          17.296791,
          15.717268,
          16.21294,
          17.868757,
          16.699314,
          15.411854,
          14.891863,
          15.72299,
          16.446114,
          13.428927,
          19.047022,
          17.30299,
          126.864195,
          3249.621868,
          79.86617,
          65.691948,
          65.688848,
          37.608147,
          62.677861,
          63.570976,
          67.556858,
          62.668086,
          65.809012,
          62.655926,
          60.810089,
          63.753843,
          62.062741,
          60.186863,
          60.41193,
          61.566115,
          61.690092,
          59.565068,
          59.906959,
          61.678886,
          66.316128,
          63.54022,
          61.527967,
          65.82284,
          58.516979,
          12.461901,
          6.497145,
          5.443811,
          5.620003,
          6.813287,
          6.341934,
          7.750988,
          20.548105,
          11.355877,
          7.954121,
          7.196188,
          8.264064,
          6.100893,
          9.346247,
          6.903171,
          8.279085,
          9.384871,
          8.383989,
          7.935047,
          9.333849,
          8.563995,
          5.871296,
          6.43301,
          8.471965,
          7.995844,
          7.779121,
          6.05321
         ],
         "xaxis": "x",
         "y": [
          "epoch",
          "epoch",
          "epoch",
          "epoch",
          "epoch",
          "epoch",
          "epoch",
          "epoch",
          "epoch",
          "epoch",
          "epoch",
          "epoch",
          "epoch",
          "epoch",
          "epoch",
          "epoch",
          "epoch",
          "epoch",
          "epoch",
          "epoch",
          "epoch",
          "epoch",
          "epoch",
          "epoch",
          "epoch",
          "epoch",
          "epoch",
          "train",
          "train",
          "train",
          "train",
          "train",
          "train",
          "train",
          "train",
          "train",
          "train",
          "train",
          "train",
          "train",
          "train",
          "train",
          "train",
          "train",
          "train",
          "train",
          "train",
          "train",
          "train",
          "train",
          "train",
          "train",
          "train",
          "train",
          "recv_data",
          "recv_data",
          "recv_data",
          "recv_data",
          "recv_data",
          "recv_data",
          "recv_data",
          "recv_data",
          "recv_data",
          "recv_data",
          "recv_data",
          "recv_data",
          "recv_data",
          "recv_data",
          "recv_data",
          "recv_data",
          "recv_data",
          "recv_data",
          "recv_data",
          "recv_data",
          "recv_data",
          "recv_data",
          "recv_data",
          "recv_data",
          "recv_data",
          "recv_data",
          "recv_data",
          "send",
          "send",
          "send",
          "send",
          "send",
          "send",
          "send",
          "send",
          "send",
          "send",
          "send",
          "send",
          "send",
          "send",
          "send",
          "send",
          "send",
          "send",
          "send",
          "send",
          "send",
          "send",
          "send",
          "send",
          "send",
          "send",
          "send"
         ],
         "yaxis": "y"
        },
        {
         "alignmentgroup": "True",
         "base": [
          "2024-05-14T16:43:29.829118",
          "2024-05-14T16:43:30.463943",
          "2024-05-14T16:43:33.759267",
          "2024-05-14T16:43:33.870325",
          "2024-05-14T16:43:33.957195",
          "2024-05-14T16:43:34.064502",
          "2024-05-14T16:43:34.133033",
          "2024-05-14T16:43:34.224672",
          "2024-05-14T16:43:34.326643",
          "2024-05-14T16:43:34.431427",
          "2024-05-14T16:43:34.526162",
          "2024-05-14T16:43:34.614692",
          "2024-05-14T16:43:34.700626",
          "2024-05-14T16:43:34.783998",
          "2024-05-14T16:43:34.871994",
          "2024-05-14T16:43:34.964467",
          "2024-05-14T16:43:35.048357",
          "2024-05-14T16:43:35.135756",
          "2024-05-14T16:43:35.230372",
          "2024-05-14T16:43:35.313174",
          "2024-05-14T16:43:35.406673",
          "2024-05-14T16:43:35.488911",
          "2024-05-14T16:43:35.577599",
          "2024-05-14T16:43:35.667521",
          "2024-05-14T16:43:35.756976",
          "2024-05-14T16:43:35.851111",
          "2024-05-14T16:43:35.936651",
          "2024-05-14T16:43:29.964378",
          "2024-05-14T16:43:33.702886",
          "2024-05-14T16:43:33.838168",
          "2024-05-14T16:43:33.926788",
          "2024-05-14T16:43:34.015598",
          "2024-05-14T16:43:34.104372",
          "2024-05-14T16:43:34.192358",
          "2024-05-14T16:43:34.281298",
          "2024-05-14T16:43:34.394085",
          "2024-05-14T16:43:34.493227",
          "2024-05-14T16:43:34.582134",
          "2024-05-14T16:43:34.669589",
          "2024-05-14T16:43:34.757091",
          "2024-05-14T16:43:34.845026",
          "2024-05-14T16:43:34.933814",
          "2024-05-14T16:43:35.020828",
          "2024-05-14T16:43:35.108855",
          "2024-05-14T16:43:35.197615",
          "2024-05-14T16:43:35.286172",
          "2024-05-14T16:43:35.373891",
          "2024-05-14T16:43:35.461969",
          "2024-05-14T16:43:35.549844",
          "2024-05-14T16:43:35.639405",
          "2024-05-14T16:43:35.727443",
          "2024-05-14T16:43:35.816295",
          "2024-05-14T16:43:35.906424",
          "2024-05-14T16:43:35.994694",
          "2024-05-14T16:43:29.835680",
          "2024-05-14T16:43:30.466437",
          "2024-05-14T16:43:33.761625",
          "2024-05-14T16:43:33.872329",
          "2024-05-14T16:43:33.958881",
          "2024-05-14T16:43:34.066283",
          "2024-05-14T16:43:34.134758",
          "2024-05-14T16:43:34.226312",
          "2024-05-14T16:43:34.334522",
          "2024-05-14T16:43:34.439986",
          "2024-05-14T16:43:34.527818",
          "2024-05-14T16:43:34.616734",
          "2024-05-14T16:43:34.702281",
          "2024-05-14T16:43:34.785893",
          "2024-05-14T16:43:34.873568",
          "2024-05-14T16:43:34.966243",
          "2024-05-14T16:43:35.049966",
          "2024-05-14T16:43:35.137324",
          "2024-05-14T16:43:35.231949",
          "2024-05-14T16:43:35.314714",
          "2024-05-14T16:43:35.408485",
          "2024-05-14T16:43:35.490439",
          "2024-05-14T16:43:35.579616",
          "2024-05-14T16:43:35.669040",
          "2024-05-14T16:43:35.758660",
          "2024-05-14T16:43:35.852974",
          "2024-05-14T16:43:35.938785",
          "2024-05-14T16:43:30.450654",
          "2024-05-14T16:43:33.747874",
          "2024-05-14T16:43:33.859997",
          "2024-05-14T16:43:33.949369",
          "2024-05-14T16:43:34.037936",
          "2024-05-14T16:43:34.126682",
          "2024-05-14T16:43:34.214417",
          "2024-05-14T16:43:34.307482",
          "2024-05-14T16:43:34.416028",
          "2024-05-14T16:43:34.515341",
          "2024-05-14T16:43:34.604665",
          "2024-05-14T16:43:34.691339",
          "2024-05-14T16:43:34.778745",
          "2024-05-14T16:43:34.866889",
          "2024-05-14T16:43:34.954724",
          "2024-05-14T16:43:35.042950",
          "2024-05-14T16:43:35.130724",
          "2024-05-14T16:43:35.220062",
          "2024-05-14T16:43:35.307438",
          "2024-05-14T16:43:35.396426",
          "2024-05-14T16:43:35.483766",
          "2024-05-14T16:43:35.572282",
          "2024-05-14T16:43:35.659460",
          "2024-05-14T16:43:35.749706",
          "2024-05-14T16:43:35.842523",
          "2024-05-14T16:43:35.926972",
          "2024-05-14T16:43:36.017642"
         ],
         "hovertemplate": "name=mdgan.5.cifar.worker.3.logs.json<br>start=%{base}<br>end=%{x}<br>event=%{y}<extra></extra>",
         "legendgroup": "mdgan.5.cifar.worker.3.logs.json",
         "marker": {
          "color": "#ab63fa",
          "opacity": 0.5,
          "pattern": {
           "shape": ""
          }
         },
         "name": "mdgan.5.cifar.worker.3.logs.json",
         "offsetgroup": "mdgan.5.cifar.worker.3.logs.json",
         "orientation": "h",
         "showlegend": true,
         "textposition": "auto",
         "type": "bar",
         "x": [
          634.343863,
          3294.851064,
          110.61573,
          86.465835,
          91.032981,
          66.854954,
          91.18414,
          101.078987,
          104.057073,
          94.320059,
          88.101148,
          85.378647,
          82.810164,
          87.487936,
          91.852904,
          83.306789,
          86.853027,
          94.041109,
          82.287789,
          92.756987,
          81.60305,
          88.088989,
          89.330911,
          88.782072,
          93.199253,
          84.670067,
          91.459274,
          486.275911,
          44.988155,
          21.829844,
          22.5811,
          22.338867,
          22.310018,
          22.058963,
          26.182174,
          21.943092,
          22.113084,
          22.531033,
          21.749019,
          21.654129,
          21.86203,
          20.909071,
          22.12286,
          21.869182,
          22.447824,
          21.264076,
          22.535801,
          21.795035,
          22.437811,
          20.055056,
          22.263051,
          26.227951,
          20.547867,
          22.947073,
          128.697157,
          3236.448049,
          76.541901,
          54.457188,
          56.716919,
          38.089037,
          57.600022,
          54.986,
          59.562206,
          53.241015,
          54.314137,
          52.854061,
          54.809093,
          59.131146,
          60.245037,
          54.584027,
          58.888912,
          60.290098,
          54.222822,
          59.175253,
          53.483725,
          59.404135,
          59.787988,
          58.402777,
          57.635784,
          53.450823,
          55.908919,
          12.76207,
          10.847092,
          9.869098,
          7.408857,
          10.279179,
          4.660845,
          9.785176,
          18.228054,
          14.654875,
          10.392189,
          9.58395,
          8.703947,
          4.674673,
          4.585981,
          9.109021,
          4.807233,
          4.475833,
          9.722233,
          5.210877,
          9.490967,
          4.497766,
          4.707098,
          7.457733,
          6.584167,
          7.634163,
          8.796215,
          10.454893
         ],
         "xaxis": "x",
         "y": [
          "epoch",
          "epoch",
          "epoch",
          "epoch",
          "epoch",
          "epoch",
          "epoch",
          "epoch",
          "epoch",
          "epoch",
          "epoch",
          "epoch",
          "epoch",
          "epoch",
          "epoch",
          "epoch",
          "epoch",
          "epoch",
          "epoch",
          "epoch",
          "epoch",
          "epoch",
          "epoch",
          "epoch",
          "epoch",
          "epoch",
          "epoch",
          "train",
          "train",
          "train",
          "train",
          "train",
          "train",
          "train",
          "train",
          "train",
          "train",
          "train",
          "train",
          "train",
          "train",
          "train",
          "train",
          "train",
          "train",
          "train",
          "train",
          "train",
          "train",
          "train",
          "train",
          "train",
          "train",
          "train",
          "recv_data",
          "recv_data",
          "recv_data",
          "recv_data",
          "recv_data",
          "recv_data",
          "recv_data",
          "recv_data",
          "recv_data",
          "recv_data",
          "recv_data",
          "recv_data",
          "recv_data",
          "recv_data",
          "recv_data",
          "recv_data",
          "recv_data",
          "recv_data",
          "recv_data",
          "recv_data",
          "recv_data",
          "recv_data",
          "recv_data",
          "recv_data",
          "recv_data",
          "recv_data",
          "recv_data",
          "send",
          "send",
          "send",
          "send",
          "send",
          "send",
          "send",
          "send",
          "send",
          "send",
          "send",
          "send",
          "send",
          "send",
          "send",
          "send",
          "send",
          "send",
          "send",
          "send",
          "send",
          "send",
          "send",
          "send",
          "send",
          "send",
          "send"
         ],
         "yaxis": "y"
        },
        {
         "alignmentgroup": "True",
         "base": [
          "2024-05-14T16:43:29.837436",
          "2024-05-14T16:43:30.467307",
          "2024-05-14T16:43:33.756978",
          "2024-05-14T16:43:33.863844",
          "2024-05-14T16:43:33.950383",
          "2024-05-14T16:43:34.064478",
          "2024-05-14T16:43:34.133041",
          "2024-05-14T16:43:34.216953",
          "2024-05-14T16:43:34.324736",
          "2024-05-14T16:43:34.425589",
          "2024-05-14T16:43:34.520089",
          "2024-05-14T16:43:34.605741",
          "2024-05-14T16:43:34.693356",
          "2024-05-14T16:43:34.781550",
          "2024-05-14T16:43:34.868549",
          "2024-05-14T16:43:34.959605",
          "2024-05-14T16:43:35.045891",
          "2024-05-14T16:43:35.133162",
          "2024-05-14T16:43:35.222332",
          "2024-05-14T16:43:35.312233",
          "2024-05-14T16:43:35.399456",
          "2024-05-14T16:43:35.486012",
          "2024-05-14T16:43:35.575960",
          "2024-05-14T16:43:35.664916",
          "2024-05-14T16:43:35.750540",
          "2024-05-14T16:43:35.841102",
          "2024-05-14T16:43:35.930537",
          "2024-05-14T16:43:29.964923",
          "2024-05-14T16:43:33.703472",
          "2024-05-14T16:43:33.838533",
          "2024-05-14T16:43:33.927031",
          "2024-05-14T16:43:34.015993",
          "2024-05-14T16:43:34.104773",
          "2024-05-14T16:43:34.192883",
          "2024-05-14T16:43:34.281951",
          "2024-05-14T16:43:34.395321",
          "2024-05-14T16:43:34.493507",
          "2024-05-14T16:43:34.582693",
          "2024-05-14T16:43:34.669950",
          "2024-05-14T16:43:34.757339",
          "2024-05-14T16:43:34.845647",
          "2024-05-14T16:43:34.934377",
          "2024-05-14T16:43:35.021142",
          "2024-05-14T16:43:35.109380",
          "2024-05-14T16:43:35.198243",
          "2024-05-14T16:43:35.286757",
          "2024-05-14T16:43:35.374433",
          "2024-05-14T16:43:35.462325",
          "2024-05-14T16:43:35.550282",
          "2024-05-14T16:43:35.639693",
          "2024-05-14T16:43:35.727984",
          "2024-05-14T16:43:35.816669",
          "2024-05-14T16:43:35.907055",
          "2024-05-14T16:43:35.995362",
          "2024-05-14T16:43:29.841804",
          "2024-05-14T16:43:30.469945",
          "2024-05-14T16:43:33.759622",
          "2024-05-14T16:43:33.865504",
          "2024-05-14T16:43:33.952061",
          "2024-05-14T16:43:34.066330",
          "2024-05-14T16:43:34.134737",
          "2024-05-14T16:43:34.218539",
          "2024-05-14T16:43:34.330234",
          "2024-05-14T16:43:34.430308",
          "2024-05-14T16:43:34.521687",
          "2024-05-14T16:43:34.607365",
          "2024-05-14T16:43:34.695183",
          "2024-05-14T16:43:34.783148",
          "2024-05-14T16:43:34.870357",
          "2024-05-14T16:43:34.961482",
          "2024-05-14T16:43:35.047554",
          "2024-05-14T16:43:35.134773",
          "2024-05-14T16:43:35.223937",
          "2024-05-14T16:43:35.313920",
          "2024-05-14T16:43:35.401130",
          "2024-05-14T16:43:35.487898",
          "2024-05-14T16:43:35.577604",
          "2024-05-14T16:43:35.666413",
          "2024-05-14T16:43:35.752379",
          "2024-05-14T16:43:35.842879",
          "2024-05-14T16:43:35.932569",
          "2024-05-14T16:43:30.456032",
          "2024-05-14T16:43:33.748355",
          "2024-05-14T16:43:33.858259",
          "2024-05-14T16:43:33.942692",
          "2024-05-14T16:43:34.032167",
          "2024-05-14T16:43:34.121835",
          "2024-05-14T16:43:34.209474",
          "2024-05-14T16:43:34.300200",
          "2024-05-14T16:43:34.414085",
          "2024-05-14T16:43:34.514115",
          "2024-05-14T16:43:34.597506",
          "2024-05-14T16:43:34.685173",
          "2024-05-14T16:43:34.773465",
          "2024-05-14T16:43:34.861509",
          "2024-05-14T16:43:34.950695",
          "2024-05-14T16:43:35.037101",
          "2024-05-14T16:43:35.125576",
          "2024-05-14T16:43:35.213850",
          "2024-05-14T16:43:35.303561",
          "2024-05-14T16:43:35.390520",
          "2024-05-14T16:43:35.478667",
          "2024-05-14T16:43:35.570056",
          "2024-05-14T16:43:35.655270",
          "2024-05-14T16:43:35.743999",
          "2024-05-14T16:43:35.834329",
          "2024-05-14T16:43:35.923788",
          "2024-05-14T16:43:36.011741"
         ],
         "hovertemplate": "name=mdgan.5.cifar.worker.4.logs.json<br>start=%{base}<br>end=%{x}<br>event=%{y}<extra></extra>",
         "legendgroup": "mdgan.5.cifar.worker.4.logs.json",
         "marker": {
          "color": "#FFA15A",
          "opacity": 0.5,
          "pattern": {
           "shape": ""
          }
         },
         "name": "mdgan.5.cifar.worker.4.logs.json",
         "offsetgroup": "mdgan.5.cifar.worker.4.logs.json",
         "orientation": "h",
         "showlegend": true,
         "textposition": "auto",
         "type": "bar",
         "x": [
          629.426241,
          3289.374828,
          106.487989,
          86.081028,
          89.736939,
          64.55922,
          83.471059,
          106.693983,
          100.319863,
          94.004868,
          85.218668,
          87.006092,
          87.682009,
          86.401939,
          90.511083,
          85.652113,
          86.591958,
          88.507892,
          89.236974,
          86.208105,
          85.898876,
          89.267254,
          88.023901,
          84.873915,
          89.810848,
          88.49001,
          90.132952,
          491.109132,
          44.882297,
          19.725085,
          15.660047,
          16.17384,
          17.062902,
          16.591072,
          18.249035,
          18.764734,
          20.606993,
          14.811993,
          15.222073,
          16.125203,
          15.861988,
          16.318083,
          15.959024,
          16.196966,
          15.607834,
          16.80398,
          16.087055,
          16.342878,
          19.774914,
          15.57684,
          16.014814,
          17.658234,
          16.732931,
          16.37888,
          123.118877,
          3233.526945,
          78.911066,
          61.527968,
          63.931226,
          38.441898,
          58.145047,
          63.411951,
          65.086365,
          63.197851,
          61.005116,
          62.583685,
          62.1562,
          62.499762,
          64.019918,
          59.659958,
          61.825037,
          63.469171,
          62.820911,
          60.512066,
          61.194181,
          62.382937,
          62.08992,
          61.571121,
          64.290047,
          64.176083,
          62.793016,
          10.806084,
          8.315802,
          5.193949,
          7.217884,
          7.936954,
          7.189989,
          6.975889,
          23.407221,
          10.952234,
          5.465747,
          7.790089,
          7.561922,
          7.561922,
          6.432056,
          8.347034,
          8.143902,
          6.894111,
          7.80797,
          7.994175,
          7.901907,
          6.67286,
          5.213976,
          8.701324,
          5.776167,
          6.011963,
          5.784988,
          8.878231
         ],
         "xaxis": "x",
         "y": [
          "epoch",
          "epoch",
          "epoch",
          "epoch",
          "epoch",
          "epoch",
          "epoch",
          "epoch",
          "epoch",
          "epoch",
          "epoch",
          "epoch",
          "epoch",
          "epoch",
          "epoch",
          "epoch",
          "epoch",
          "epoch",
          "epoch",
          "epoch",
          "epoch",
          "epoch",
          "epoch",
          "epoch",
          "epoch",
          "epoch",
          "epoch",
          "train",
          "train",
          "train",
          "train",
          "train",
          "train",
          "train",
          "train",
          "train",
          "train",
          "train",
          "train",
          "train",
          "train",
          "train",
          "train",
          "train",
          "train",
          "train",
          "train",
          "train",
          "train",
          "train",
          "train",
          "train",
          "train",
          "train",
          "recv_data",
          "recv_data",
          "recv_data",
          "recv_data",
          "recv_data",
          "recv_data",
          "recv_data",
          "recv_data",
          "recv_data",
          "recv_data",
          "recv_data",
          "recv_data",
          "recv_data",
          "recv_data",
          "recv_data",
          "recv_data",
          "recv_data",
          "recv_data",
          "recv_data",
          "recv_data",
          "recv_data",
          "recv_data",
          "recv_data",
          "recv_data",
          "recv_data",
          "recv_data",
          "recv_data",
          "send",
          "send",
          "send",
          "send",
          "send",
          "send",
          "send",
          "send",
          "send",
          "send",
          "send",
          "send",
          "send",
          "send",
          "send",
          "send",
          "send",
          "send",
          "send",
          "send",
          "send",
          "send",
          "send",
          "send",
          "send",
          "send",
          "send"
         ],
         "yaxis": "y"
        },
        {
         "alignmentgroup": "True",
         "base": [
          "2024-05-14T16:43:29.842128",
          "2024-05-14T16:43:30.446847",
          "2024-05-14T16:43:33.768424",
          "2024-05-14T16:43:33.870329",
          "2024-05-14T16:43:33.959999",
          "2024-05-14T16:43:34.064688",
          "2024-05-14T16:43:34.136730",
          "2024-05-14T16:43:34.224630",
          "2024-05-14T16:43:34.329025",
          "2024-05-14T16:43:34.433861",
          "2024-05-14T16:43:34.526115",
          "2024-05-14T16:43:34.612313",
          "2024-05-14T16:43:34.700740",
          "2024-05-14T16:43:34.789356",
          "2024-05-14T16:43:34.874732",
          "2024-05-14T16:43:34.960320",
          "2024-05-14T16:43:35.053600",
          "2024-05-14T16:43:35.140764",
          "2024-05-14T16:43:35.226020",
          "2024-05-14T16:43:35.318123",
          "2024-05-14T16:43:35.406677",
          "2024-05-14T16:43:35.493810",
          "2024-05-14T16:43:35.582704",
          "2024-05-14T16:43:35.669106",
          "2024-05-14T16:43:35.759938",
          "2024-05-14T16:43:35.851063",
          "2024-05-14T16:43:35.939074",
          "2024-05-14T16:43:29.966099",
          "2024-05-14T16:43:33.705975",
          "2024-05-14T16:43:33.838901",
          "2024-05-14T16:43:33.927498",
          "2024-05-14T16:43:34.016299",
          "2024-05-14T16:43:34.105257",
          "2024-05-14T16:43:34.194852",
          "2024-05-14T16:43:34.282253",
          "2024-05-14T16:43:34.395859",
          "2024-05-14T16:43:34.494099",
          "2024-05-14T16:43:34.582948",
          "2024-05-14T16:43:34.670574",
          "2024-05-14T16:43:34.757655",
          "2024-05-14T16:43:34.846031",
          "2024-05-14T16:43:34.934731",
          "2024-05-14T16:43:35.022074",
          "2024-05-14T16:43:35.109735",
          "2024-05-14T16:43:35.198576",
          "2024-05-14T16:43:35.287005",
          "2024-05-14T16:43:35.374686",
          "2024-05-14T16:43:35.462752",
          "2024-05-14T16:43:35.553100",
          "2024-05-14T16:43:35.640265",
          "2024-05-14T16:43:35.728389",
          "2024-05-14T16:43:35.818846",
          "2024-05-14T16:43:35.909811",
          "2024-05-14T16:43:35.995861",
          "2024-05-14T16:43:29.848683",
          "2024-05-14T16:43:30.452835",
          "2024-05-14T16:43:33.770043",
          "2024-05-14T16:43:33.872262",
          "2024-05-14T16:43:33.961827",
          "2024-05-14T16:43:34.066441",
          "2024-05-14T16:43:34.138358",
          "2024-05-14T16:43:34.226248",
          "2024-05-14T16:43:34.337166",
          "2024-05-14T16:43:34.440222",
          "2024-05-14T16:43:34.527717",
          "2024-05-14T16:43:34.614116",
          "2024-05-14T16:43:34.702778",
          "2024-05-14T16:43:34.791036",
          "2024-05-14T16:43:34.876317",
          "2024-05-14T16:43:34.962198",
          "2024-05-14T16:43:35.055162",
          "2024-05-14T16:43:35.142757",
          "2024-05-14T16:43:35.227596",
          "2024-05-14T16:43:35.319724",
          "2024-05-14T16:43:35.408499",
          "2024-05-14T16:43:35.495605",
          "2024-05-14T16:43:35.584672",
          "2024-05-14T16:43:35.670753",
          "2024-05-14T16:43:35.761593",
          "2024-05-14T16:43:35.852933",
          "2024-05-14T16:43:35.940970",
          "2024-05-14T16:43:30.427551",
          "2024-05-14T16:43:33.763087",
          "2024-05-14T16:43:33.859952",
          "2024-05-14T16:43:33.950428",
          "2024-05-14T16:43:34.037964",
          "2024-05-14T16:43:34.127223",
          "2024-05-14T16:43:34.214980",
          "2024-05-14T16:43:34.305536",
          "2024-05-14T16:43:34.421255",
          "2024-05-14T16:43:34.515293",
          "2024-05-14T16:43:34.604654",
          "2024-05-14T16:43:34.692549",
          "2024-05-14T16:43:34.778892",
          "2024-05-14T16:43:34.867058",
          "2024-05-14T16:43:34.954730",
          "2024-05-14T16:43:35.043109",
          "2024-05-14T16:43:35.131287",
          "2024-05-14T16:43:35.220036",
          "2024-05-14T16:43:35.307717",
          "2024-05-14T16:43:35.396548",
          "2024-05-14T16:43:35.484016",
          "2024-05-14T16:43:35.572829",
          "2024-05-14T16:43:35.660019",
          "2024-05-14T16:43:35.750016",
          "2024-05-14T16:43:35.842810",
          "2024-05-14T16:43:35.932924",
          "2024-05-14T16:43:36.017683"
         ],
         "hovertemplate": "name=mdgan.5.cifar.worker.5.logs.json<br>start=%{base}<br>end=%{x}<br>event=%{y}<extra></extra>",
         "legendgroup": "mdgan.5.cifar.worker.5.logs.json",
         "marker": {
          "color": "#19d3f3",
          "opacity": 0.5,
          "pattern": {
           "shape": ""
          }
         },
         "name": "mdgan.5.cifar.worker.5.logs.json",
         "offsetgroup": "mdgan.5.cifar.worker.5.logs.json",
         "orientation": "h",
         "showlegend": true,
         "textposition": "auto",
         "type": "bar",
         "x": [
          601.629019,
          3321.259021,
          101.495981,
          89.245796,
          83.345891,
          71.557045,
          87.460041,
          103.577853,
          102.819919,
          91.840982,
          85.689783,
          87.934017,
          87.989092,
          84.797144,
          85.120201,
          92.523098,
          86.508989,
          84.68008,
          91.52174,
          87.815762,
          86.586952,
          88.246107,
          85.502387,
          90.238809,
          90.249062,
          87.160825,
          88.88197,
          461.449862,
          57.111025,
          21.049976,
          22.928715,
          21.665097,
          21.966934,
          20.127058,
          23.281097,
          25.39587,
          21.193982,
          21.705866,
          21.973849,
          21.236896,
          21.026135,
          19.999027,
          21.035671,
          21.551131,
          21.459818,
          20.711184,
          21.861077,
          21.264076,
          19.728899,
          19.753933,
          21.627903,
          23.962259,
          23.113012,
          21.821976,
          117.416858,
          3253.139973,
          68.857193,
          55.235147,
          54.471016,
          38.815975,
          56.493998,
          56.005001,
          58.693886,
          53.876877,
          55.229903,
          56.456804,
          54.875851,
          54.99506,
          58.413029,
          59.876204,
          54.573059,
          55.819035,
          59.40795,
          54.96192,
          54.25191,
          57.494163,
          55.59206,
          57.634115,
          57.252884,
          56.877852,
          54.890155,
          16.016007,
          5.007029,
          9.953738,
          9.134054,
          5.365848,
          9.007931,
          9.196043,
          22.65501,
          10.556221,
          10.394334,
          7.137775,
          7.683754,
          9.820938,
          7.080078,
          5.110979,
          9.719133,
          8.805753,
          5.393982,
          9.810924,
          9.366035,
          9.235859,
          9.213925,
          8.173227,
          9.316206,
          7.360697,
          5.28717,
          10.256052
         ],
         "xaxis": "x",
         "y": [
          "epoch",
          "epoch",
          "epoch",
          "epoch",
          "epoch",
          "epoch",
          "epoch",
          "epoch",
          "epoch",
          "epoch",
          "epoch",
          "epoch",
          "epoch",
          "epoch",
          "epoch",
          "epoch",
          "epoch",
          "epoch",
          "epoch",
          "epoch",
          "epoch",
          "epoch",
          "epoch",
          "epoch",
          "epoch",
          "epoch",
          "epoch",
          "train",
          "train",
          "train",
          "train",
          "train",
          "train",
          "train",
          "train",
          "train",
          "train",
          "train",
          "train",
          "train",
          "train",
          "train",
          "train",
          "train",
          "train",
          "train",
          "train",
          "train",
          "train",
          "train",
          "train",
          "train",
          "train",
          "train",
          "recv_data",
          "recv_data",
          "recv_data",
          "recv_data",
          "recv_data",
          "recv_data",
          "recv_data",
          "recv_data",
          "recv_data",
          "recv_data",
          "recv_data",
          "recv_data",
          "recv_data",
          "recv_data",
          "recv_data",
          "recv_data",
          "recv_data",
          "recv_data",
          "recv_data",
          "recv_data",
          "recv_data",
          "recv_data",
          "recv_data",
          "recv_data",
          "recv_data",
          "recv_data",
          "recv_data",
          "send",
          "send",
          "send",
          "send",
          "send",
          "send",
          "send",
          "send",
          "send",
          "send",
          "send",
          "send",
          "send",
          "send",
          "send",
          "send",
          "send",
          "send",
          "send",
          "send",
          "send",
          "send",
          "send",
          "send",
          "send",
          "send",
          "send"
         ],
         "yaxis": "y"
        },
        {
         "alignmentgroup": "True",
         "base": [
          "2024-05-14T16:43:29.834114",
          "2024-05-14T16:43:33.670328",
          "2024-05-14T16:43:33.792194",
          "2024-05-14T16:43:33.884233",
          "2024-05-14T16:43:33.973498",
          "2024-05-14T16:43:34.064641",
          "2024-05-14T16:43:34.149707",
          "2024-05-14T16:43:34.238864",
          "2024-05-14T16:43:34.351454",
          "2024-05-14T16:43:34.449048",
          "2024-05-14T16:43:34.539630",
          "2024-05-14T16:43:34.628473",
          "2024-05-14T16:43:34.715561",
          "2024-05-14T16:43:34.802693",
          "2024-05-14T16:43:34.891469",
          "2024-05-14T16:43:34.979136",
          "2024-05-14T16:43:35.066921",
          "2024-05-14T16:43:35.154165",
          "2024-05-14T16:43:35.243628",
          "2024-05-14T16:43:35.331920",
          "2024-05-14T16:43:35.420399",
          "2024-05-14T16:43:35.507329",
          "2024-05-14T16:43:35.596124",
          "2024-05-14T16:43:35.685142",
          "2024-05-14T16:43:35.774384",
          "2024-05-14T16:43:35.867829",
          "2024-05-14T16:43:29.834114",
          "2024-05-14T16:43:33.670328",
          "2024-05-14T16:43:33.792194",
          "2024-05-14T16:43:33.884234",
          "2024-05-14T16:43:33.973498",
          "2024-05-14T16:43:34.064641",
          "2024-05-14T16:43:34.149707",
          "2024-05-14T16:43:34.238864",
          "2024-05-14T16:43:34.351454",
          "2024-05-14T16:43:34.449050",
          "2024-05-14T16:43:34.539630",
          "2024-05-14T16:43:34.628473",
          "2024-05-14T16:43:34.715561",
          "2024-05-14T16:43:34.802693",
          "2024-05-14T16:43:34.891469",
          "2024-05-14T16:43:34.979136",
          "2024-05-14T16:43:35.066921",
          "2024-05-14T16:43:35.154165",
          "2024-05-14T16:43:35.243628",
          "2024-05-14T16:43:35.331920",
          "2024-05-14T16:43:35.420399",
          "2024-05-14T16:43:35.507329",
          "2024-05-14T16:43:35.596124",
          "2024-05-14T16:43:35.685142",
          "2024-05-14T16:43:35.774384",
          "2024-05-14T16:43:35.867830",
          "2024-05-14T16:43:30.717370",
          "2024-05-14T16:43:29.940656",
          "2024-05-14T16:43:33.673645",
          "2024-05-14T16:43:33.793858",
          "2024-05-14T16:43:33.885493",
          "2024-05-14T16:43:33.974755",
          "2024-05-14T16:43:34.065973",
          "2024-05-14T16:43:34.150986",
          "2024-05-14T16:43:34.240105",
          "2024-05-14T16:43:34.352846",
          "2024-05-14T16:43:34.450953",
          "2024-05-14T16:43:34.540877",
          "2024-05-14T16:43:34.629726",
          "2024-05-14T16:43:34.716760",
          "2024-05-14T16:43:34.803952",
          "2024-05-14T16:43:34.892669",
          "2024-05-14T16:43:34.980448",
          "2024-05-14T16:43:35.068196",
          "2024-05-14T16:43:35.155443",
          "2024-05-14T16:43:35.244869",
          "2024-05-14T16:43:35.333166",
          "2024-05-14T16:43:35.421741",
          "2024-05-14T16:43:35.508547",
          "2024-05-14T16:43:35.597498",
          "2024-05-14T16:43:35.686351",
          "2024-05-14T16:43:35.775619",
          "2024-05-14T16:43:35.869320",
          "2024-05-14T16:43:30.467533",
          "2024-05-14T16:43:33.768644",
          "2024-05-14T16:43:33.870414",
          "2024-05-14T16:43:33.959961",
          "2024-05-14T16:43:34.048677",
          "2024-05-14T16:43:34.136708",
          "2024-05-14T16:43:34.225234",
          "2024-05-14T16:43:34.334062",
          "2024-05-14T16:43:34.432783",
          "2024-05-14T16:43:34.526330",
          "2024-05-14T16:43:34.614728",
          "2024-05-14T16:43:34.701668",
          "2024-05-14T16:43:34.789186",
          "2024-05-14T16:43:34.877818",
          "2024-05-14T16:43:34.965513",
          "2024-05-14T16:43:35.053614",
          "2024-05-14T16:43:35.140573",
          "2024-05-14T16:43:35.230247",
          "2024-05-14T16:43:35.317927",
          "2024-05-14T16:43:35.406350",
          "2024-05-14T16:43:35.493636",
          "2024-05-14T16:43:35.582591",
          "2024-05-14T16:43:35.671705",
          "2024-05-14T16:43:35.759731",
          "2024-05-14T16:43:35.850618",
          "2024-05-14T16:43:35.938635",
          "2024-05-14T16:43:30.607330",
          "2024-05-14T16:43:33.780739",
          "2024-05-14T16:43:33.881021",
          "2024-05-14T16:43:33.970522",
          "2024-05-14T16:43:34.060012",
          "2024-05-14T16:43:34.146601",
          "2024-05-14T16:43:34.235733",
          "2024-05-14T16:43:34.347949",
          "2024-05-14T16:43:34.445360",
          "2024-05-14T16:43:34.536424",
          "2024-05-14T16:43:34.625243",
          "2024-05-14T16:43:34.712063",
          "2024-05-14T16:43:34.799451",
          "2024-05-14T16:43:34.888159",
          "2024-05-14T16:43:34.975887",
          "2024-05-14T16:43:35.063450",
          "2024-05-14T16:43:35.150770",
          "2024-05-14T16:43:35.240403",
          "2024-05-14T16:43:35.328439",
          "2024-05-14T16:43:35.417030",
          "2024-05-14T16:43:35.503818",
          "2024-05-14T16:43:35.592607",
          "2024-05-14T16:43:35.681797",
          "2024-05-14T16:43:35.770938",
          "2024-05-14T16:43:35.863605",
          "2024-05-14T16:43:35.952594",
          "2024-05-14T16:43:31.250539",
          "2024-05-14T16:43:30.726218"
         ],
         "hovertemplate": "name=mdgan.5.cifar.server.logs.json<br>start=%{base}<br>end=%{x}<br>event=%{y}<extra></extra>",
         "legendgroup": "mdgan.5.cifar.server.logs.json",
         "marker": {
          "color": "#FF6692",
          "opacity": 0.5,
          "pattern": {
           "shape": ""
          }
         },
         "name": "mdgan.5.cifar.server.logs.json",
         "offsetgroup": "mdgan.5.cifar.server.logs.json",
         "orientation": "h",
         "showlegend": true,
         "textposition": "auto",
         "type": "bar",
         "x": [
          3835.896015,
          121.392727,
          91.67099,
          88.917017,
          89.338778,
          84.612846,
          88.730812,
          111.983061,
          97.018004,
          90.078115,
          88.292837,
          86.505175,
          86.570024,
          88.201999,
          87.076902,
          87.183952,
          86.52115,
          88.868857,
          87.620973,
          87.80694,
          86.1876,
          88.007928,
          88.30905,
          88.515043,
          92.549085,
          88.240147,
          883.255005,
          121.391773,
          91.670036,
          88.916064,
          89.337826,
          84.612846,
          88.730097,
          111.983061,
          97.01705,
          90.076923,
          88.291645,
          86.505175,
          86.570024,
          88.201046,
          87.076902,
          87.182998,
          86.520196,
          88.868857,
          87.62002,
          87.806225,
          86.186885,
          88.006974,
          88.308096,
          88.51409,
          92.547893,
          88.238001,
          2952.639103,
          526.868105,
          94.996929,
          76.555014,
          74.466944,
          73.922157,
          70.734025,
          74.244976,
          93.954087,
          79.936981,
          75.376034,
          73.85087,
          71.940183,
          72.424888,
          73.864937,
          72.843075,
          73.164939,
          72.375775,
          74.803114,
          73.056937,
          73.182822,
          71.894169,
          74.042797,
          74.20516,
          73.378801,
          74.999094,
          69.31305,
          139.373064,
          11.995793,
          10.483026,
          10.444641,
          11.234999,
          9.799957,
          10.394096,
          13.757945,
          12.486219,
          10.002136,
          10.421991,
          10.302067,
          10.163069,
          10.210752,
          10.27894,
          9.725809,
          10.092973,
          9.998083,
          10.405302,
          10.582924,
          10.087966,
          9.913921,
          9.947061,
          11.103869,
          12.8541,
          13.843775,
          110.038042,
          10.979891,
          2.842188,
          2.628088,
          2.82383,
          2.652884,
          2.70319,
          2.897024,
          3.110885,
          2.701044,
          2.676964,
          2.914906,
          2.67911,
          2.732992,
          2.65789,
          2.86913,
          2.671241,
          2.630233,
          2.808094,
          2.696276,
          2.767086,
          2.729893,
          2.635955,
          2.718926,
          3.325939,
          3.47209,
          2399.863006,
          524.31798
         ],
         "xaxis": "x",
         "y": [
          "epoch",
          "epoch",
          "epoch",
          "epoch",
          "epoch",
          "epoch",
          "epoch",
          "epoch",
          "epoch",
          "epoch",
          "epoch",
          "epoch",
          "epoch",
          "epoch",
          "epoch",
          "epoch",
          "epoch",
          "epoch",
          "epoch",
          "epoch",
          "epoch",
          "epoch",
          "epoch",
          "epoch",
          "epoch",
          "epoch",
          "epoch_calculation",
          "epoch_calculation",
          "epoch_calculation",
          "epoch_calculation",
          "epoch_calculation",
          "epoch_calculation",
          "epoch_calculation",
          "epoch_calculation",
          "epoch_calculation",
          "epoch_calculation",
          "epoch_calculation",
          "epoch_calculation",
          "epoch_calculation",
          "epoch_calculation",
          "epoch_calculation",
          "epoch_calculation",
          "epoch_calculation",
          "epoch_calculation",
          "epoch_calculation",
          "epoch_calculation",
          "epoch_calculation",
          "epoch_calculation",
          "epoch_calculation",
          "epoch_calculation",
          "epoch_calculation",
          "epoch_calculation",
          "logging",
          "send_data",
          "send_data",
          "send_data",
          "send_data",
          "send_data",
          "send_data",
          "send_data",
          "send_data",
          "send_data",
          "send_data",
          "send_data",
          "send_data",
          "send_data",
          "send_data",
          "send_data",
          "send_data",
          "send_data",
          "send_data",
          "send_data",
          "send_data",
          "send_data",
          "send_data",
          "send_data",
          "send_data",
          "send_data",
          "send_data",
          "calc_gradients",
          "calc_gradients",
          "calc_gradients",
          "calc_gradients",
          "calc_gradients",
          "calc_gradients",
          "calc_gradients",
          "calc_gradients",
          "calc_gradients",
          "calc_gradients",
          "calc_gradients",
          "calc_gradients",
          "calc_gradients",
          "calc_gradients",
          "calc_gradients",
          "calc_gradients",
          "calc_gradients",
          "calc_gradients",
          "calc_gradients",
          "calc_gradients",
          "calc_gradients",
          "calc_gradients",
          "calc_gradients",
          "calc_gradients",
          "calc_gradients",
          "calc_gradients",
          "apply_gradients",
          "apply_gradients",
          "apply_gradients",
          "apply_gradients",
          "apply_gradients",
          "apply_gradients",
          "apply_gradients",
          "apply_gradients",
          "apply_gradients",
          "apply_gradients",
          "apply_gradients",
          "apply_gradients",
          "apply_gradients",
          "apply_gradients",
          "apply_gradients",
          "apply_gradients",
          "apply_gradients",
          "apply_gradients",
          "apply_gradients",
          "apply_gradients",
          "apply_gradients",
          "apply_gradients",
          "apply_gradients",
          "apply_gradients",
          "apply_gradients",
          "apply_gradients",
          "fid",
          "is"
         ],
         "yaxis": "y"
        }
       ],
       "layout": {
        "barmode": "overlay",
        "legend": {
         "title": {
          "text": "name"
         },
         "tracegroupgap": 0
        },
        "margin": {
         "t": 60
        },
        "template": {
         "data": {
          "bar": [
           {
            "error_x": {
             "color": "#2a3f5f"
            },
            "error_y": {
             "color": "#2a3f5f"
            },
            "marker": {
             "line": {
              "color": "#E5ECF6",
              "width": 0.5
             },
             "pattern": {
              "fillmode": "overlay",
              "size": 10,
              "solidity": 0.2
             }
            },
            "type": "bar"
           }
          ],
          "barpolar": [
           {
            "marker": {
             "line": {
              "color": "#E5ECF6",
              "width": 0.5
             },
             "pattern": {
              "fillmode": "overlay",
              "size": 10,
              "solidity": 0.2
             }
            },
            "type": "barpolar"
           }
          ],
          "carpet": [
           {
            "aaxis": {
             "endlinecolor": "#2a3f5f",
             "gridcolor": "white",
             "linecolor": "white",
             "minorgridcolor": "white",
             "startlinecolor": "#2a3f5f"
            },
            "baxis": {
             "endlinecolor": "#2a3f5f",
             "gridcolor": "white",
             "linecolor": "white",
             "minorgridcolor": "white",
             "startlinecolor": "#2a3f5f"
            },
            "type": "carpet"
           }
          ],
          "choropleth": [
           {
            "colorbar": {
             "outlinewidth": 0,
             "ticks": ""
            },
            "type": "choropleth"
           }
          ],
          "contour": [
           {
            "colorbar": {
             "outlinewidth": 0,
             "ticks": ""
            },
            "colorscale": [
             [
              0,
              "#0d0887"
             ],
             [
              0.1111111111111111,
              "#46039f"
             ],
             [
              0.2222222222222222,
              "#7201a8"
             ],
             [
              0.3333333333333333,
              "#9c179e"
             ],
             [
              0.4444444444444444,
              "#bd3786"
             ],
             [
              0.5555555555555556,
              "#d8576b"
             ],
             [
              0.6666666666666666,
              "#ed7953"
             ],
             [
              0.7777777777777778,
              "#fb9f3a"
             ],
             [
              0.8888888888888888,
              "#fdca26"
             ],
             [
              1,
              "#f0f921"
             ]
            ],
            "type": "contour"
           }
          ],
          "contourcarpet": [
           {
            "colorbar": {
             "outlinewidth": 0,
             "ticks": ""
            },
            "type": "contourcarpet"
           }
          ],
          "heatmap": [
           {
            "colorbar": {
             "outlinewidth": 0,
             "ticks": ""
            },
            "colorscale": [
             [
              0,
              "#0d0887"
             ],
             [
              0.1111111111111111,
              "#46039f"
             ],
             [
              0.2222222222222222,
              "#7201a8"
             ],
             [
              0.3333333333333333,
              "#9c179e"
             ],
             [
              0.4444444444444444,
              "#bd3786"
             ],
             [
              0.5555555555555556,
              "#d8576b"
             ],
             [
              0.6666666666666666,
              "#ed7953"
             ],
             [
              0.7777777777777778,
              "#fb9f3a"
             ],
             [
              0.8888888888888888,
              "#fdca26"
             ],
             [
              1,
              "#f0f921"
             ]
            ],
            "type": "heatmap"
           }
          ],
          "heatmapgl": [
           {
            "colorbar": {
             "outlinewidth": 0,
             "ticks": ""
            },
            "colorscale": [
             [
              0,
              "#0d0887"
             ],
             [
              0.1111111111111111,
              "#46039f"
             ],
             [
              0.2222222222222222,
              "#7201a8"
             ],
             [
              0.3333333333333333,
              "#9c179e"
             ],
             [
              0.4444444444444444,
              "#bd3786"
             ],
             [
              0.5555555555555556,
              "#d8576b"
             ],
             [
              0.6666666666666666,
              "#ed7953"
             ],
             [
              0.7777777777777778,
              "#fb9f3a"
             ],
             [
              0.8888888888888888,
              "#fdca26"
             ],
             [
              1,
              "#f0f921"
             ]
            ],
            "type": "heatmapgl"
           }
          ],
          "histogram": [
           {
            "marker": {
             "pattern": {
              "fillmode": "overlay",
              "size": 10,
              "solidity": 0.2
             }
            },
            "type": "histogram"
           }
          ],
          "histogram2d": [
           {
            "colorbar": {
             "outlinewidth": 0,
             "ticks": ""
            },
            "colorscale": [
             [
              0,
              "#0d0887"
             ],
             [
              0.1111111111111111,
              "#46039f"
             ],
             [
              0.2222222222222222,
              "#7201a8"
             ],
             [
              0.3333333333333333,
              "#9c179e"
             ],
             [
              0.4444444444444444,
              "#bd3786"
             ],
             [
              0.5555555555555556,
              "#d8576b"
             ],
             [
              0.6666666666666666,
              "#ed7953"
             ],
             [
              0.7777777777777778,
              "#fb9f3a"
             ],
             [
              0.8888888888888888,
              "#fdca26"
             ],
             [
              1,
              "#f0f921"
             ]
            ],
            "type": "histogram2d"
           }
          ],
          "histogram2dcontour": [
           {
            "colorbar": {
             "outlinewidth": 0,
             "ticks": ""
            },
            "colorscale": [
             [
              0,
              "#0d0887"
             ],
             [
              0.1111111111111111,
              "#46039f"
             ],
             [
              0.2222222222222222,
              "#7201a8"
             ],
             [
              0.3333333333333333,
              "#9c179e"
             ],
             [
              0.4444444444444444,
              "#bd3786"
             ],
             [
              0.5555555555555556,
              "#d8576b"
             ],
             [
              0.6666666666666666,
              "#ed7953"
             ],
             [
              0.7777777777777778,
              "#fb9f3a"
             ],
             [
              0.8888888888888888,
              "#fdca26"
             ],
             [
              1,
              "#f0f921"
             ]
            ],
            "type": "histogram2dcontour"
           }
          ],
          "mesh3d": [
           {
            "colorbar": {
             "outlinewidth": 0,
             "ticks": ""
            },
            "type": "mesh3d"
           }
          ],
          "parcoords": [
           {
            "line": {
             "colorbar": {
              "outlinewidth": 0,
              "ticks": ""
             }
            },
            "type": "parcoords"
           }
          ],
          "pie": [
           {
            "automargin": true,
            "type": "pie"
           }
          ],
          "scatter": [
           {
            "fillpattern": {
             "fillmode": "overlay",
             "size": 10,
             "solidity": 0.2
            },
            "type": "scatter"
           }
          ],
          "scatter3d": [
           {
            "line": {
             "colorbar": {
              "outlinewidth": 0,
              "ticks": ""
             }
            },
            "marker": {
             "colorbar": {
              "outlinewidth": 0,
              "ticks": ""
             }
            },
            "type": "scatter3d"
           }
          ],
          "scattercarpet": [
           {
            "marker": {
             "colorbar": {
              "outlinewidth": 0,
              "ticks": ""
             }
            },
            "type": "scattercarpet"
           }
          ],
          "scattergeo": [
           {
            "marker": {
             "colorbar": {
              "outlinewidth": 0,
              "ticks": ""
             }
            },
            "type": "scattergeo"
           }
          ],
          "scattergl": [
           {
            "marker": {
             "colorbar": {
              "outlinewidth": 0,
              "ticks": ""
             }
            },
            "type": "scattergl"
           }
          ],
          "scattermapbox": [
           {
            "marker": {
             "colorbar": {
              "outlinewidth": 0,
              "ticks": ""
             }
            },
            "type": "scattermapbox"
           }
          ],
          "scatterpolar": [
           {
            "marker": {
             "colorbar": {
              "outlinewidth": 0,
              "ticks": ""
             }
            },
            "type": "scatterpolar"
           }
          ],
          "scatterpolargl": [
           {
            "marker": {
             "colorbar": {
              "outlinewidth": 0,
              "ticks": ""
             }
            },
            "type": "scatterpolargl"
           }
          ],
          "scatterternary": [
           {
            "marker": {
             "colorbar": {
              "outlinewidth": 0,
              "ticks": ""
             }
            },
            "type": "scatterternary"
           }
          ],
          "surface": [
           {
            "colorbar": {
             "outlinewidth": 0,
             "ticks": ""
            },
            "colorscale": [
             [
              0,
              "#0d0887"
             ],
             [
              0.1111111111111111,
              "#46039f"
             ],
             [
              0.2222222222222222,
              "#7201a8"
             ],
             [
              0.3333333333333333,
              "#9c179e"
             ],
             [
              0.4444444444444444,
              "#bd3786"
             ],
             [
              0.5555555555555556,
              "#d8576b"
             ],
             [
              0.6666666666666666,
              "#ed7953"
             ],
             [
              0.7777777777777778,
              "#fb9f3a"
             ],
             [
              0.8888888888888888,
              "#fdca26"
             ],
             [
              1,
              "#f0f921"
             ]
            ],
            "type": "surface"
           }
          ],
          "table": [
           {
            "cells": {
             "fill": {
              "color": "#EBF0F8"
             },
             "line": {
              "color": "white"
             }
            },
            "header": {
             "fill": {
              "color": "#C8D4E3"
             },
             "line": {
              "color": "white"
             }
            },
            "type": "table"
           }
          ]
         },
         "layout": {
          "annotationdefaults": {
           "arrowcolor": "#2a3f5f",
           "arrowhead": 0,
           "arrowwidth": 1
          },
          "autotypenumbers": "strict",
          "coloraxis": {
           "colorbar": {
            "outlinewidth": 0,
            "ticks": ""
           }
          },
          "colorscale": {
           "diverging": [
            [
             0,
             "#8e0152"
            ],
            [
             0.1,
             "#c51b7d"
            ],
            [
             0.2,
             "#de77ae"
            ],
            [
             0.3,
             "#f1b6da"
            ],
            [
             0.4,
             "#fde0ef"
            ],
            [
             0.5,
             "#f7f7f7"
            ],
            [
             0.6,
             "#e6f5d0"
            ],
            [
             0.7,
             "#b8e186"
            ],
            [
             0.8,
             "#7fbc41"
            ],
            [
             0.9,
             "#4d9221"
            ],
            [
             1,
             "#276419"
            ]
           ],
           "sequential": [
            [
             0,
             "#0d0887"
            ],
            [
             0.1111111111111111,
             "#46039f"
            ],
            [
             0.2222222222222222,
             "#7201a8"
            ],
            [
             0.3333333333333333,
             "#9c179e"
            ],
            [
             0.4444444444444444,
             "#bd3786"
            ],
            [
             0.5555555555555556,
             "#d8576b"
            ],
            [
             0.6666666666666666,
             "#ed7953"
            ],
            [
             0.7777777777777778,
             "#fb9f3a"
            ],
            [
             0.8888888888888888,
             "#fdca26"
            ],
            [
             1,
             "#f0f921"
            ]
           ],
           "sequentialminus": [
            [
             0,
             "#0d0887"
            ],
            [
             0.1111111111111111,
             "#46039f"
            ],
            [
             0.2222222222222222,
             "#7201a8"
            ],
            [
             0.3333333333333333,
             "#9c179e"
            ],
            [
             0.4444444444444444,
             "#bd3786"
            ],
            [
             0.5555555555555556,
             "#d8576b"
            ],
            [
             0.6666666666666666,
             "#ed7953"
            ],
            [
             0.7777777777777778,
             "#fb9f3a"
            ],
            [
             0.8888888888888888,
             "#fdca26"
            ],
            [
             1,
             "#f0f921"
            ]
           ]
          },
          "colorway": [
           "#636efa",
           "#EF553B",
           "#00cc96",
           "#ab63fa",
           "#FFA15A",
           "#19d3f3",
           "#FF6692",
           "#B6E880",
           "#FF97FF",
           "#FECB52"
          ],
          "font": {
           "color": "#2a3f5f"
          },
          "geo": {
           "bgcolor": "white",
           "lakecolor": "white",
           "landcolor": "#E5ECF6",
           "showlakes": true,
           "showland": true,
           "subunitcolor": "white"
          },
          "hoverlabel": {
           "align": "left"
          },
          "hovermode": "closest",
          "mapbox": {
           "style": "light"
          },
          "paper_bgcolor": "white",
          "plot_bgcolor": "#E5ECF6",
          "polar": {
           "angularaxis": {
            "gridcolor": "white",
            "linecolor": "white",
            "ticks": ""
           },
           "bgcolor": "#E5ECF6",
           "radialaxis": {
            "gridcolor": "white",
            "linecolor": "white",
            "ticks": ""
           }
          },
          "scene": {
           "xaxis": {
            "backgroundcolor": "#E5ECF6",
            "gridcolor": "white",
            "gridwidth": 2,
            "linecolor": "white",
            "showbackground": true,
            "ticks": "",
            "zerolinecolor": "white"
           },
           "yaxis": {
            "backgroundcolor": "#E5ECF6",
            "gridcolor": "white",
            "gridwidth": 2,
            "linecolor": "white",
            "showbackground": true,
            "ticks": "",
            "zerolinecolor": "white"
           },
           "zaxis": {
            "backgroundcolor": "#E5ECF6",
            "gridcolor": "white",
            "gridwidth": 2,
            "linecolor": "white",
            "showbackground": true,
            "ticks": "",
            "zerolinecolor": "white"
           }
          },
          "shapedefaults": {
           "line": {
            "color": "#2a3f5f"
           }
          },
          "ternary": {
           "aaxis": {
            "gridcolor": "white",
            "linecolor": "white",
            "ticks": ""
           },
           "baxis": {
            "gridcolor": "white",
            "linecolor": "white",
            "ticks": ""
           },
           "bgcolor": "#E5ECF6",
           "caxis": {
            "gridcolor": "white",
            "linecolor": "white",
            "ticks": ""
           }
          },
          "title": {
           "x": 0.05
          },
          "xaxis": {
           "automargin": true,
           "gridcolor": "white",
           "linecolor": "white",
           "ticks": "",
           "title": {
            "standoff": 15
           },
           "zerolinecolor": "white",
           "zerolinewidth": 2
          },
          "yaxis": {
           "automargin": true,
           "gridcolor": "white",
           "linecolor": "white",
           "ticks": "",
           "title": {
            "standoff": 15
           },
           "zerolinecolor": "white",
           "zerolinewidth": 2
          }
         }
        },
        "xaxis": {
         "anchor": "y",
         "domain": [
          0,
          1
         ],
         "type": "date"
        },
        "yaxis": {
         "anchor": "x",
         "domain": [
          0,
          1
         ],
         "title": {
          "text": "event"
         }
        }
       }
      }
     },
     "metadata": {},
     "output_type": "display_data"
    }
   ],
   "source": [
    "timeline = px.timeline(\n",
    "    all_events_df,\n",
    "    x_start=\"start\",\n",
    "    x_end=\"end\",\n",
    "    color=\"name\",\n",
    "    y=\"event\",\n",
    "    opacity=0.5,\n",
    ")\n",
    "\n",
    "timeline.show()"
   ]
  }
 ],
 "metadata": {
  "kernelspec": {
   "display_name": ".venv",
   "language": "python",
   "name": "python3"
  },
  "language_info": {
   "codemirror_mode": {
    "name": "ipython",
    "version": 3
   },
   "file_extension": ".py",
   "mimetype": "text/x-python",
   "name": "python",
   "nbconvert_exporter": "python",
   "pygments_lexer": "ipython3",
   "version": "3.9.18"
  }
 },
 "nbformat": 4,
 "nbformat_minor": 2
}
