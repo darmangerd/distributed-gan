{
 "cells": [
  {
   "cell_type": "code",
   "execution_count": 1,
   "metadata": {},
   "outputs": [],
   "source": [
    "import plotly.express as px\n",
    "import numpy as np\n",
    "import pandas as pd\n",
    "from glob import glob\n",
    "from pathlib import Path\n",
    "from IPython.display import display, HTML\n",
    "import plotly.graph_objects as go\n",
    "import json\n",
    "import os\n",
    "import time"
   ]
  },
  {
   "cell_type": "code",
   "execution_count": 2,
   "metadata": {},
   "outputs": [
    {
     "data": {
      "text/plain": [
       "['logs/server_0.logs.json',\n",
       " 'logs/worker_1.logs.json',\n",
       " 'logs/worker_2.logs.json',\n",
       " 'logs/worker_3.logs.json',\n",
       " 'logs/worker_4.logs.json',\n",
       " 'logs/worker_5.logs.json',\n",
       " 'logs/worker_6.logs.json',\n",
       " 'logs/worker_7.logs.json',\n",
       " 'logs/worker_8.logs.json',\n",
       " 'logs/worker_9.logs.json']"
      ]
     },
     "execution_count": 2,
     "metadata": {},
     "output_type": "execute_result"
    }
   ],
   "source": [
    "logs_path = Path(\"logs\")\n",
    "log_files = glob(str(logs_path / \"*.logs.json\"))\n",
    "log_files.sort()\n",
    "log_files"
   ]
  },
  {
   "cell_type": "code",
   "execution_count": 3,
   "metadata": {},
   "outputs": [
    {
     "data": {
      "text/plain": [
       "('logs/server_0.logs.json',\n",
       " ['logs/worker_1.logs.json',\n",
       "  'logs/worker_2.logs.json',\n",
       "  'logs/worker_3.logs.json',\n",
       "  'logs/worker_4.logs.json',\n",
       "  'logs/worker_5.logs.json',\n",
       "  'logs/worker_6.logs.json',\n",
       "  'logs/worker_7.logs.json',\n",
       "  'logs/worker_8.logs.json',\n",
       "  'logs/worker_9.logs.json'])"
      ]
     },
     "execution_count": 3,
     "metadata": {},
     "output_type": "execute_result"
    }
   ],
   "source": [
    "server_logs = log_files.pop(0)\n",
    "server_logs, log_files"
   ]
  },
  {
   "cell_type": "markdown",
   "metadata": {},
   "source": [
    "# Server"
   ]
  },
  {
   "cell_type": "code",
   "execution_count": 4,
   "metadata": {},
   "outputs": [
    {
     "data": {
      "text/html": [
       "<div>\n",
       "<style scoped>\n",
       "    .dataframe tbody tr th:only-of-type {\n",
       "        vertical-align: middle;\n",
       "    }\n",
       "\n",
       "    .dataframe tbody tr th {\n",
       "        vertical-align: top;\n",
       "    }\n",
       "\n",
       "    .dataframe thead th {\n",
       "        text-align: right;\n",
       "    }\n",
       "</style>\n",
       "<table border=\"1\" class=\"dataframe\">\n",
       "  <thead>\n",
       "    <tr style=\"text-align: right;\">\n",
       "      <th></th>\n",
       "      <th>end_time</th>\n",
       "      <th>elapsed_time</th>\n",
       "      <th>logging_time_end</th>\n",
       "      <th>received_time</th>\n",
       "      <th>sent_time</th>\n",
       "      <th>epoch</th>\n",
       "      <th>start_time</th>\n",
       "      <th>fid_calculation_time_start</th>\n",
       "      <th>fid_score</th>\n",
       "      <th>fid_calculation_time_end</th>\n",
       "      <th>name</th>\n",
       "    </tr>\n",
       "  </thead>\n",
       "  <tbody>\n",
       "    <tr>\n",
       "      <th>0</th>\n",
       "      <td>2024-05-08 18:22:59.045585871</td>\n",
       "      <td>0.737381</td>\n",
       "      <td>1.715193e+09</td>\n",
       "      <td>2024-05-08 18:22:58.903584003</td>\n",
       "      <td>2024-05-08 18:22:58.415984869</td>\n",
       "      <td>0</td>\n",
       "      <td>2024-05-08 18:22:58.308205128</td>\n",
       "      <td>1.715193e+09</td>\n",
       "      <td>335.958466</td>\n",
       "      <td>1.715193e+09</td>\n",
       "      <td>server</td>\n",
       "    </tr>\n",
       "    <tr>\n",
       "      <th>1</th>\n",
       "      <td>2024-05-08 18:23:00.924341917</td>\n",
       "      <td>0.557929</td>\n",
       "      <td>1.715193e+09</td>\n",
       "      <td>2024-05-08 18:23:00.794301987</td>\n",
       "      <td>2024-05-08 18:23:00.415066957</td>\n",
       "      <td>1</td>\n",
       "      <td>2024-05-08 18:23:00.366413116</td>\n",
       "      <td>NaN</td>\n",
       "      <td>NaN</td>\n",
       "      <td>NaN</td>\n",
       "      <td>server</td>\n",
       "    </tr>\n",
       "    <tr>\n",
       "      <th>2</th>\n",
       "      <td>2024-05-08 18:23:01.591406107</td>\n",
       "      <td>0.666674</td>\n",
       "      <td>1.715193e+09</td>\n",
       "      <td>2024-05-08 18:23:01.422661066</td>\n",
       "      <td>2024-05-08 18:23:01.005789995</td>\n",
       "      <td>2</td>\n",
       "      <td>2024-05-08 18:23:00.924731970</td>\n",
       "      <td>NaN</td>\n",
       "      <td>NaN</td>\n",
       "      <td>NaN</td>\n",
       "      <td>server</td>\n",
       "    </tr>\n",
       "    <tr>\n",
       "      <th>3</th>\n",
       "      <td>2024-05-08 18:23:02.169080973</td>\n",
       "      <td>0.577257</td>\n",
       "      <td>1.715193e+09</td>\n",
       "      <td>2024-05-08 18:23:02.032815218</td>\n",
       "      <td>2024-05-08 18:23:01.643383026</td>\n",
       "      <td>3</td>\n",
       "      <td>2024-05-08 18:23:01.591823816</td>\n",
       "      <td>NaN</td>\n",
       "      <td>NaN</td>\n",
       "      <td>NaN</td>\n",
       "      <td>server</td>\n",
       "    </tr>\n",
       "    <tr>\n",
       "      <th>4</th>\n",
       "      <td>2024-05-08 18:23:02.900407076</td>\n",
       "      <td>0.730872</td>\n",
       "      <td>1.715193e+09</td>\n",
       "      <td>2024-05-08 18:23:02.747317076</td>\n",
       "      <td>2024-05-08 18:23:02.222375870</td>\n",
       "      <td>4</td>\n",
       "      <td>2024-05-08 18:23:02.169534922</td>\n",
       "      <td>NaN</td>\n",
       "      <td>NaN</td>\n",
       "      <td>NaN</td>\n",
       "      <td>server</td>\n",
       "    </tr>\n",
       "    <tr>\n",
       "      <th>...</th>\n",
       "      <td>...</td>\n",
       "      <td>...</td>\n",
       "      <td>...</td>\n",
       "      <td>...</td>\n",
       "      <td>...</td>\n",
       "      <td>...</td>\n",
       "      <td>...</td>\n",
       "      <td>...</td>\n",
       "      <td>...</td>\n",
       "      <td>...</td>\n",
       "      <td>...</td>\n",
       "    </tr>\n",
       "    <tr>\n",
       "      <th>56</th>\n",
       "      <td>2024-05-08 18:23:45.297830820</td>\n",
       "      <td>0.674372</td>\n",
       "      <td>1.715193e+09</td>\n",
       "      <td>2024-05-08 18:23:45.151446104</td>\n",
       "      <td>2024-05-08 18:23:44.667934895</td>\n",
       "      <td>56</td>\n",
       "      <td>2024-05-08 18:23:44.623459101</td>\n",
       "      <td>NaN</td>\n",
       "      <td>NaN</td>\n",
       "      <td>NaN</td>\n",
       "      <td>server</td>\n",
       "    </tr>\n",
       "    <tr>\n",
       "      <th>57</th>\n",
       "      <td>2024-05-08 18:23:45.947339058</td>\n",
       "      <td>0.647984</td>\n",
       "      <td>1.715193e+09</td>\n",
       "      <td>2024-05-08 18:23:45.820729017</td>\n",
       "      <td>2024-05-08 18:23:45.343509912</td>\n",
       "      <td>57</td>\n",
       "      <td>2024-05-08 18:23:45.299354792</td>\n",
       "      <td>NaN</td>\n",
       "      <td>NaN</td>\n",
       "      <td>NaN</td>\n",
       "      <td>server</td>\n",
       "    </tr>\n",
       "    <tr>\n",
       "      <th>58</th>\n",
       "      <td>2024-05-08 18:23:46.512902975</td>\n",
       "      <td>0.564069</td>\n",
       "      <td>1.715193e+09</td>\n",
       "      <td>2024-05-08 18:23:46.367815018</td>\n",
       "      <td>2024-05-08 18:23:45.999704123</td>\n",
       "      <td>58</td>\n",
       "      <td>2024-05-08 18:23:45.948833942</td>\n",
       "      <td>NaN</td>\n",
       "      <td>NaN</td>\n",
       "      <td>NaN</td>\n",
       "      <td>server</td>\n",
       "    </tr>\n",
       "    <tr>\n",
       "      <th>59</th>\n",
       "      <td>2024-05-08 18:23:47.083522081</td>\n",
       "      <td>0.569143</td>\n",
       "      <td>1.715193e+09</td>\n",
       "      <td>2024-05-08 18:23:46.958956003</td>\n",
       "      <td>2024-05-08 18:23:46.557200909</td>\n",
       "      <td>59</td>\n",
       "      <td>2024-05-08 18:23:46.514379025</td>\n",
       "      <td>NaN</td>\n",
       "      <td>NaN</td>\n",
       "      <td>NaN</td>\n",
       "      <td>server</td>\n",
       "    </tr>\n",
       "    <tr>\n",
       "      <th>60</th>\n",
       "      <td>2024-05-08 18:23:47.737271070</td>\n",
       "      <td>0.651996</td>\n",
       "      <td>1.715193e+09</td>\n",
       "      <td>2024-05-08 18:23:47.587157965</td>\n",
       "      <td>2024-05-08 18:23:47.147497892</td>\n",
       "      <td>60</td>\n",
       "      <td>2024-05-08 18:23:47.085274935</td>\n",
       "      <td>1.715193e+09</td>\n",
       "      <td>362.259705</td>\n",
       "      <td>1.715193e+09</td>\n",
       "      <td>server</td>\n",
       "    </tr>\n",
       "  </tbody>\n",
       "</table>\n",
       "<p>61 rows × 11 columns</p>\n",
       "</div>"
      ],
      "text/plain": [
       "                        end_time  elapsed_time  logging_time_end  \\\n",
       "0  2024-05-08 18:22:59.045585871      0.737381      1.715193e+09   \n",
       "1  2024-05-08 18:23:00.924341917      0.557929      1.715193e+09   \n",
       "2  2024-05-08 18:23:01.591406107      0.666674      1.715193e+09   \n",
       "3  2024-05-08 18:23:02.169080973      0.577257      1.715193e+09   \n",
       "4  2024-05-08 18:23:02.900407076      0.730872      1.715193e+09   \n",
       "..                           ...           ...               ...   \n",
       "56 2024-05-08 18:23:45.297830820      0.674372      1.715193e+09   \n",
       "57 2024-05-08 18:23:45.947339058      0.647984      1.715193e+09   \n",
       "58 2024-05-08 18:23:46.512902975      0.564069      1.715193e+09   \n",
       "59 2024-05-08 18:23:47.083522081      0.569143      1.715193e+09   \n",
       "60 2024-05-08 18:23:47.737271070      0.651996      1.715193e+09   \n",
       "\n",
       "                   received_time                     sent_time  epoch  \\\n",
       "0  2024-05-08 18:22:58.903584003 2024-05-08 18:22:58.415984869      0   \n",
       "1  2024-05-08 18:23:00.794301987 2024-05-08 18:23:00.415066957      1   \n",
       "2  2024-05-08 18:23:01.422661066 2024-05-08 18:23:01.005789995      2   \n",
       "3  2024-05-08 18:23:02.032815218 2024-05-08 18:23:01.643383026      3   \n",
       "4  2024-05-08 18:23:02.747317076 2024-05-08 18:23:02.222375870      4   \n",
       "..                           ...                           ...    ...   \n",
       "56 2024-05-08 18:23:45.151446104 2024-05-08 18:23:44.667934895     56   \n",
       "57 2024-05-08 18:23:45.820729017 2024-05-08 18:23:45.343509912     57   \n",
       "58 2024-05-08 18:23:46.367815018 2024-05-08 18:23:45.999704123     58   \n",
       "59 2024-05-08 18:23:46.958956003 2024-05-08 18:23:46.557200909     59   \n",
       "60 2024-05-08 18:23:47.587157965 2024-05-08 18:23:47.147497892     60   \n",
       "\n",
       "                      start_time  fid_calculation_time_start   fid_score  \\\n",
       "0  2024-05-08 18:22:58.308205128                1.715193e+09  335.958466   \n",
       "1  2024-05-08 18:23:00.366413116                         NaN         NaN   \n",
       "2  2024-05-08 18:23:00.924731970                         NaN         NaN   \n",
       "3  2024-05-08 18:23:01.591823816                         NaN         NaN   \n",
       "4  2024-05-08 18:23:02.169534922                         NaN         NaN   \n",
       "..                           ...                         ...         ...   \n",
       "56 2024-05-08 18:23:44.623459101                         NaN         NaN   \n",
       "57 2024-05-08 18:23:45.299354792                         NaN         NaN   \n",
       "58 2024-05-08 18:23:45.948833942                         NaN         NaN   \n",
       "59 2024-05-08 18:23:46.514379025                         NaN         NaN   \n",
       "60 2024-05-08 18:23:47.085274935                1.715193e+09  362.259705   \n",
       "\n",
       "    fid_calculation_time_end    name  \n",
       "0               1.715193e+09  server  \n",
       "1                        NaN  server  \n",
       "2                        NaN  server  \n",
       "3                        NaN  server  \n",
       "4                        NaN  server  \n",
       "..                       ...     ...  \n",
       "56                       NaN  server  \n",
       "57                       NaN  server  \n",
       "58                       NaN  server  \n",
       "59                       NaN  server  \n",
       "60              1.715193e+09  server  \n",
       "\n",
       "[61 rows x 11 columns]"
      ]
     },
     "metadata": {},
     "output_type": "display_data"
    },
    {
     "data": {
      "text/html": [
       "<div>\n",
       "<style scoped>\n",
       "    .dataframe tbody tr th:only-of-type {\n",
       "        vertical-align: middle;\n",
       "    }\n",
       "\n",
       "    .dataframe tbody tr th {\n",
       "        vertical-align: top;\n",
       "    }\n",
       "\n",
       "    .dataframe thead th {\n",
       "        text-align: right;\n",
       "    }\n",
       "</style>\n",
       "<table border=\"1\" class=\"dataframe\">\n",
       "  <thead>\n",
       "    <tr style=\"text-align: right;\">\n",
       "      <th></th>\n",
       "      <th>end_time</th>\n",
       "      <th>elapsed_time</th>\n",
       "      <th>logging_time_end</th>\n",
       "      <th>received_time</th>\n",
       "      <th>sent_time</th>\n",
       "      <th>epoch</th>\n",
       "      <th>start_time</th>\n",
       "      <th>fid_calculation_time_start</th>\n",
       "      <th>fid_score</th>\n",
       "      <th>fid_calculation_time_end</th>\n",
       "      <th>name</th>\n",
       "    </tr>\n",
       "  </thead>\n",
       "  <tbody>\n",
       "    <tr>\n",
       "      <th>0</th>\n",
       "      <td>2024-05-08 18:22:59.045585871</td>\n",
       "      <td>0.737381</td>\n",
       "      <td>1.715193e+09</td>\n",
       "      <td>2024-05-08 18:22:58.903584003</td>\n",
       "      <td>2024-05-08 18:22:58.415984869</td>\n",
       "      <td>0</td>\n",
       "      <td>2024-05-08 18:22:58.308205128</td>\n",
       "      <td>1.715193e+09</td>\n",
       "      <td>335.958466</td>\n",
       "      <td>1.715193e+09</td>\n",
       "      <td>server</td>\n",
       "    </tr>\n",
       "    <tr>\n",
       "      <th>10</th>\n",
       "      <td>2024-05-08 18:23:07.336485147</td>\n",
       "      <td>0.782610</td>\n",
       "      <td>1.715193e+09</td>\n",
       "      <td>2024-05-08 18:23:07.109317064</td>\n",
       "      <td>2024-05-08 18:23:06.608719826</td>\n",
       "      <td>10</td>\n",
       "      <td>2024-05-08 18:23:06.553874969</td>\n",
       "      <td>1.715193e+09</td>\n",
       "      <td>327.022736</td>\n",
       "      <td>1.715193e+09</td>\n",
       "      <td>server</td>\n",
       "    </tr>\n",
       "    <tr>\n",
       "      <th>20</th>\n",
       "      <td>2024-05-08 18:23:15.257220030</td>\n",
       "      <td>0.732572</td>\n",
       "      <td>1.715193e+09</td>\n",
       "      <td>2024-05-08 18:23:15.098345995</td>\n",
       "      <td>2024-05-08 18:23:14.575732946</td>\n",
       "      <td>20</td>\n",
       "      <td>2024-05-08 18:23:14.524647950</td>\n",
       "      <td>1.715193e+09</td>\n",
       "      <td>311.138428</td>\n",
       "      <td>1.715193e+09</td>\n",
       "      <td>server</td>\n",
       "    </tr>\n",
       "    <tr>\n",
       "      <th>30</th>\n",
       "      <td>2024-05-08 18:23:23.016890049</td>\n",
       "      <td>0.598184</td>\n",
       "      <td>1.715193e+09</td>\n",
       "      <td>2024-05-08 18:23:22.873038054</td>\n",
       "      <td>2024-05-08 18:23:22.460731983</td>\n",
       "      <td>30</td>\n",
       "      <td>2024-05-08 18:23:22.418705940</td>\n",
       "      <td>1.715193e+09</td>\n",
       "      <td>329.682281</td>\n",
       "      <td>1.715193e+09</td>\n",
       "      <td>server</td>\n",
       "    </tr>\n",
       "    <tr>\n",
       "      <th>40</th>\n",
       "      <td>2024-05-08 18:23:31.565550089</td>\n",
       "      <td>0.672177</td>\n",
       "      <td>1.715193e+09</td>\n",
       "      <td>2024-05-08 18:23:31.367000103</td>\n",
       "      <td>2024-05-08 18:23:30.938243151</td>\n",
       "      <td>40</td>\n",
       "      <td>2024-05-08 18:23:30.893373013</td>\n",
       "      <td>1.715193e+09</td>\n",
       "      <td>307.568573</td>\n",
       "      <td>1.715193e+09</td>\n",
       "      <td>server</td>\n",
       "    </tr>\n",
       "    <tr>\n",
       "      <th>50</th>\n",
       "      <td>2024-05-08 18:23:39.846590042</td>\n",
       "      <td>1.089826</td>\n",
       "      <td>1.715193e+09</td>\n",
       "      <td>2024-05-08 18:23:39.645190954</td>\n",
       "      <td>2024-05-08 18:23:38.801666975</td>\n",
       "      <td>50</td>\n",
       "      <td>2024-05-08 18:23:38.756763935</td>\n",
       "      <td>1.715193e+09</td>\n",
       "      <td>309.392456</td>\n",
       "      <td>1.715193e+09</td>\n",
       "      <td>server</td>\n",
       "    </tr>\n",
       "    <tr>\n",
       "      <th>60</th>\n",
       "      <td>2024-05-08 18:23:47.737271070</td>\n",
       "      <td>0.651996</td>\n",
       "      <td>1.715193e+09</td>\n",
       "      <td>2024-05-08 18:23:47.587157965</td>\n",
       "      <td>2024-05-08 18:23:47.147497892</td>\n",
       "      <td>60</td>\n",
       "      <td>2024-05-08 18:23:47.085274935</td>\n",
       "      <td>1.715193e+09</td>\n",
       "      <td>362.259705</td>\n",
       "      <td>1.715193e+09</td>\n",
       "      <td>server</td>\n",
       "    </tr>\n",
       "  </tbody>\n",
       "</table>\n",
       "</div>"
      ],
      "text/plain": [
       "                        end_time  elapsed_time  logging_time_end  \\\n",
       "0  2024-05-08 18:22:59.045585871      0.737381      1.715193e+09   \n",
       "10 2024-05-08 18:23:07.336485147      0.782610      1.715193e+09   \n",
       "20 2024-05-08 18:23:15.257220030      0.732572      1.715193e+09   \n",
       "30 2024-05-08 18:23:23.016890049      0.598184      1.715193e+09   \n",
       "40 2024-05-08 18:23:31.565550089      0.672177      1.715193e+09   \n",
       "50 2024-05-08 18:23:39.846590042      1.089826      1.715193e+09   \n",
       "60 2024-05-08 18:23:47.737271070      0.651996      1.715193e+09   \n",
       "\n",
       "                   received_time                     sent_time  epoch  \\\n",
       "0  2024-05-08 18:22:58.903584003 2024-05-08 18:22:58.415984869      0   \n",
       "10 2024-05-08 18:23:07.109317064 2024-05-08 18:23:06.608719826     10   \n",
       "20 2024-05-08 18:23:15.098345995 2024-05-08 18:23:14.575732946     20   \n",
       "30 2024-05-08 18:23:22.873038054 2024-05-08 18:23:22.460731983     30   \n",
       "40 2024-05-08 18:23:31.367000103 2024-05-08 18:23:30.938243151     40   \n",
       "50 2024-05-08 18:23:39.645190954 2024-05-08 18:23:38.801666975     50   \n",
       "60 2024-05-08 18:23:47.587157965 2024-05-08 18:23:47.147497892     60   \n",
       "\n",
       "                      start_time  fid_calculation_time_start   fid_score  \\\n",
       "0  2024-05-08 18:22:58.308205128                1.715193e+09  335.958466   \n",
       "10 2024-05-08 18:23:06.553874969                1.715193e+09  327.022736   \n",
       "20 2024-05-08 18:23:14.524647950                1.715193e+09  311.138428   \n",
       "30 2024-05-08 18:23:22.418705940                1.715193e+09  329.682281   \n",
       "40 2024-05-08 18:23:30.893373013                1.715193e+09  307.568573   \n",
       "50 2024-05-08 18:23:38.756763935                1.715193e+09  309.392456   \n",
       "60 2024-05-08 18:23:47.085274935                1.715193e+09  362.259705   \n",
       "\n",
       "    fid_calculation_time_end    name  \n",
       "0               1.715193e+09  server  \n",
       "10              1.715193e+09  server  \n",
       "20              1.715193e+09  server  \n",
       "30              1.715193e+09  server  \n",
       "40              1.715193e+09  server  \n",
       "50              1.715193e+09  server  \n",
       "60              1.715193e+09  server  "
      ]
     },
     "metadata": {},
     "output_type": "display_data"
    }
   ],
   "source": [
    "server_df = pd.read_json(server_logs, orient=\"index\")\n",
    "server_df[\"fid_score\"] = server_df[\"fid_score\"].apply(lambda x: 0 if x is None else x)\n",
    "server_df[\"name\"] = \"server\"\n",
    "server_with_fid_df = server_df[server_df[\"fid_score\"].notnull()]\n",
    "display(server_df)\n",
    "display(server_with_fid_df)"
   ]
  },
  {
   "cell_type": "code",
   "execution_count": 5,
   "metadata": {},
   "outputs": [
    {
     "data": {
      "application/vnd.plotly.v1+json": {
       "config": {
        "plotlyServerURL": "https://plot.ly"
       },
       "data": [
        {
         "alignmentgroup": "True",
         "base": [
          "2024-05-08T18:22:58.308205",
          "2024-05-08T18:23:00.366413",
          "2024-05-08T18:23:00.924731",
          "2024-05-08T18:23:01.591823",
          "2024-05-08T18:23:02.169534",
          "2024-05-08T18:23:02.900942",
          "2024-05-08T18:23:03.489183",
          "2024-05-08T18:23:04.131923",
          "2024-05-08T18:23:04.829830",
          "2024-05-08T18:23:05.435348",
          "2024-05-08T18:23:06.553874",
          "2024-05-08T18:23:08.736805",
          "2024-05-08T18:23:09.372549",
          "2024-05-08T18:23:10.015669",
          "2024-05-08T18:23:10.587557",
          "2024-05-08T18:23:11.230327",
          "2024-05-08T18:23:11.886485",
          "2024-05-08T18:23:12.605796",
          "2024-05-08T18:23:13.260589",
          "2024-05-08T18:23:13.916323",
          "2024-05-08T18:23:14.524647",
          "2024-05-08T18:23:16.602071",
          "2024-05-08T18:23:17.208739",
          "2024-05-08T18:23:17.947599",
          "2024-05-08T18:23:18.521126",
          "2024-05-08T18:23:19.075013",
          "2024-05-08T18:23:19.851423",
          "2024-05-08T18:23:20.561414",
          "2024-05-08T18:23:21.213788",
          "2024-05-08T18:23:21.796018",
          "2024-05-08T18:23:22.418705",
          "2024-05-08T18:23:24.351858",
          "2024-05-08T18:23:25.070860",
          "2024-05-08T18:23:25.726043",
          "2024-05-08T18:23:26.549303",
          "2024-05-08T18:23:27.131194",
          "2024-05-08T18:23:27.734626",
          "2024-05-08T18:23:28.366320",
          "2024-05-08T18:23:29.060224",
          "2024-05-08T18:23:30.140574",
          "2024-05-08T18:23:30.893373",
          "2024-05-08T18:23:32.989992",
          "2024-05-08T18:23:33.688899",
          "2024-05-08T18:23:34.439257",
          "2024-05-08T18:23:35.048396",
          "2024-05-08T18:23:35.689607",
          "2024-05-08T18:23:36.323324",
          "2024-05-08T18:23:36.908529",
          "2024-05-08T18:23:37.489329",
          "2024-05-08T18:23:38.066725",
          "2024-05-08T18:23:38.756763",
          "2024-05-08T18:23:41.290979",
          "2024-05-08T18:23:41.919250",
          "2024-05-08T18:23:42.711418",
          "2024-05-08T18:23:43.382547",
          "2024-05-08T18:23:44.034868",
          "2024-05-08T18:23:44.623459",
          "2024-05-08T18:23:45.299354",
          "2024-05-08T18:23:45.948833",
          "2024-05-08T18:23:46.514379",
          "2024-05-08T18:23:47.085274"
         ],
         "hovertemplate": "start_time=%{base}<br>end_time=%{x}<extra></extra>",
         "legendgroup": "",
         "marker": {
          "color": "#636efa",
          "pattern": {
           "shape": ""
          }
         },
         "name": "",
         "offsetgroup": "",
         "orientation": "h",
         "showlegend": false,
         "textposition": "auto",
         "type": "bar",
         "x": [
          737.380743,
          557.928801,
          666.674137,
          577.257157,
          730.872154,
          587.747812,
          642.244099,
          697.349071,
          604.952097,
          1117.979049,
          782.610178,
          634.322166,
          642.453194,
          571.237088,
          642.080068,
          655.483723,
          718.487024,
          653.977871,
          654.898883,
          607.535838,
          732.57208,
          605.604887,
          737.977982,
          572.572231,
          552.95992,
          775.43807,
          709.014893,
          651.351929,
          581.262112,
          621.744156,
          598.184109,
          717.85307,
          653.996945,
          822.120189,
          580.804825,
          602.377891,
          630.471945,
          692.673683,
          1078.830958,
          751.49107,
          672.177076,
          697.622061,
          748.960972,
          607.769728,
          639.73689,
          632.404089,
          583.909034,
          579.268932,
          576.044083,
          688.663007,
          1089.826107,
          626.804829,
          790.414095,
          669.523954,
          650.520087,
          586.972952,
          674.371719,
          647.984266,
          564.069033,
          569.143056,
          651.996135
         ],
         "xaxis": "x",
         "yaxis": "y"
        }
       ],
       "layout": {
        "barmode": "overlay",
        "legend": {
         "tracegroupgap": 0
        },
        "template": {
         "data": {
          "bar": [
           {
            "error_x": {
             "color": "#2a3f5f"
            },
            "error_y": {
             "color": "#2a3f5f"
            },
            "marker": {
             "line": {
              "color": "white",
              "width": 0.5
             },
             "pattern": {
              "fillmode": "overlay",
              "size": 10,
              "solidity": 0.2
             }
            },
            "type": "bar"
           }
          ],
          "barpolar": [
           {
            "marker": {
             "line": {
              "color": "white",
              "width": 0.5
             },
             "pattern": {
              "fillmode": "overlay",
              "size": 10,
              "solidity": 0.2
             }
            },
            "type": "barpolar"
           }
          ],
          "carpet": [
           {
            "aaxis": {
             "endlinecolor": "#2a3f5f",
             "gridcolor": "#C8D4E3",
             "linecolor": "#C8D4E3",
             "minorgridcolor": "#C8D4E3",
             "startlinecolor": "#2a3f5f"
            },
            "baxis": {
             "endlinecolor": "#2a3f5f",
             "gridcolor": "#C8D4E3",
             "linecolor": "#C8D4E3",
             "minorgridcolor": "#C8D4E3",
             "startlinecolor": "#2a3f5f"
            },
            "type": "carpet"
           }
          ],
          "choropleth": [
           {
            "colorbar": {
             "outlinewidth": 0,
             "ticks": ""
            },
            "type": "choropleth"
           }
          ],
          "contour": [
           {
            "colorbar": {
             "outlinewidth": 0,
             "ticks": ""
            },
            "colorscale": [
             [
              0,
              "#0d0887"
             ],
             [
              0.1111111111111111,
              "#46039f"
             ],
             [
              0.2222222222222222,
              "#7201a8"
             ],
             [
              0.3333333333333333,
              "#9c179e"
             ],
             [
              0.4444444444444444,
              "#bd3786"
             ],
             [
              0.5555555555555556,
              "#d8576b"
             ],
             [
              0.6666666666666666,
              "#ed7953"
             ],
             [
              0.7777777777777778,
              "#fb9f3a"
             ],
             [
              0.8888888888888888,
              "#fdca26"
             ],
             [
              1,
              "#f0f921"
             ]
            ],
            "type": "contour"
           }
          ],
          "contourcarpet": [
           {
            "colorbar": {
             "outlinewidth": 0,
             "ticks": ""
            },
            "type": "contourcarpet"
           }
          ],
          "heatmap": [
           {
            "colorbar": {
             "outlinewidth": 0,
             "ticks": ""
            },
            "colorscale": [
             [
              0,
              "#0d0887"
             ],
             [
              0.1111111111111111,
              "#46039f"
             ],
             [
              0.2222222222222222,
              "#7201a8"
             ],
             [
              0.3333333333333333,
              "#9c179e"
             ],
             [
              0.4444444444444444,
              "#bd3786"
             ],
             [
              0.5555555555555556,
              "#d8576b"
             ],
             [
              0.6666666666666666,
              "#ed7953"
             ],
             [
              0.7777777777777778,
              "#fb9f3a"
             ],
             [
              0.8888888888888888,
              "#fdca26"
             ],
             [
              1,
              "#f0f921"
             ]
            ],
            "type": "heatmap"
           }
          ],
          "heatmapgl": [
           {
            "colorbar": {
             "outlinewidth": 0,
             "ticks": ""
            },
            "colorscale": [
             [
              0,
              "#0d0887"
             ],
             [
              0.1111111111111111,
              "#46039f"
             ],
             [
              0.2222222222222222,
              "#7201a8"
             ],
             [
              0.3333333333333333,
              "#9c179e"
             ],
             [
              0.4444444444444444,
              "#bd3786"
             ],
             [
              0.5555555555555556,
              "#d8576b"
             ],
             [
              0.6666666666666666,
              "#ed7953"
             ],
             [
              0.7777777777777778,
              "#fb9f3a"
             ],
             [
              0.8888888888888888,
              "#fdca26"
             ],
             [
              1,
              "#f0f921"
             ]
            ],
            "type": "heatmapgl"
           }
          ],
          "histogram": [
           {
            "marker": {
             "pattern": {
              "fillmode": "overlay",
              "size": 10,
              "solidity": 0.2
             }
            },
            "type": "histogram"
           }
          ],
          "histogram2d": [
           {
            "colorbar": {
             "outlinewidth": 0,
             "ticks": ""
            },
            "colorscale": [
             [
              0,
              "#0d0887"
             ],
             [
              0.1111111111111111,
              "#46039f"
             ],
             [
              0.2222222222222222,
              "#7201a8"
             ],
             [
              0.3333333333333333,
              "#9c179e"
             ],
             [
              0.4444444444444444,
              "#bd3786"
             ],
             [
              0.5555555555555556,
              "#d8576b"
             ],
             [
              0.6666666666666666,
              "#ed7953"
             ],
             [
              0.7777777777777778,
              "#fb9f3a"
             ],
             [
              0.8888888888888888,
              "#fdca26"
             ],
             [
              1,
              "#f0f921"
             ]
            ],
            "type": "histogram2d"
           }
          ],
          "histogram2dcontour": [
           {
            "colorbar": {
             "outlinewidth": 0,
             "ticks": ""
            },
            "colorscale": [
             [
              0,
              "#0d0887"
             ],
             [
              0.1111111111111111,
              "#46039f"
             ],
             [
              0.2222222222222222,
              "#7201a8"
             ],
             [
              0.3333333333333333,
              "#9c179e"
             ],
             [
              0.4444444444444444,
              "#bd3786"
             ],
             [
              0.5555555555555556,
              "#d8576b"
             ],
             [
              0.6666666666666666,
              "#ed7953"
             ],
             [
              0.7777777777777778,
              "#fb9f3a"
             ],
             [
              0.8888888888888888,
              "#fdca26"
             ],
             [
              1,
              "#f0f921"
             ]
            ],
            "type": "histogram2dcontour"
           }
          ],
          "mesh3d": [
           {
            "colorbar": {
             "outlinewidth": 0,
             "ticks": ""
            },
            "type": "mesh3d"
           }
          ],
          "parcoords": [
           {
            "line": {
             "colorbar": {
              "outlinewidth": 0,
              "ticks": ""
             }
            },
            "type": "parcoords"
           }
          ],
          "pie": [
           {
            "automargin": true,
            "type": "pie"
           }
          ],
          "scatter": [
           {
            "fillpattern": {
             "fillmode": "overlay",
             "size": 10,
             "solidity": 0.2
            },
            "type": "scatter"
           }
          ],
          "scatter3d": [
           {
            "line": {
             "colorbar": {
              "outlinewidth": 0,
              "ticks": ""
             }
            },
            "marker": {
             "colorbar": {
              "outlinewidth": 0,
              "ticks": ""
             }
            },
            "type": "scatter3d"
           }
          ],
          "scattercarpet": [
           {
            "marker": {
             "colorbar": {
              "outlinewidth": 0,
              "ticks": ""
             }
            },
            "type": "scattercarpet"
           }
          ],
          "scattergeo": [
           {
            "marker": {
             "colorbar": {
              "outlinewidth": 0,
              "ticks": ""
             }
            },
            "type": "scattergeo"
           }
          ],
          "scattergl": [
           {
            "marker": {
             "colorbar": {
              "outlinewidth": 0,
              "ticks": ""
             }
            },
            "type": "scattergl"
           }
          ],
          "scattermapbox": [
           {
            "marker": {
             "colorbar": {
              "outlinewidth": 0,
              "ticks": ""
             }
            },
            "type": "scattermapbox"
           }
          ],
          "scatterpolar": [
           {
            "marker": {
             "colorbar": {
              "outlinewidth": 0,
              "ticks": ""
             }
            },
            "type": "scatterpolar"
           }
          ],
          "scatterpolargl": [
           {
            "marker": {
             "colorbar": {
              "outlinewidth": 0,
              "ticks": ""
             }
            },
            "type": "scatterpolargl"
           }
          ],
          "scatterternary": [
           {
            "marker": {
             "colorbar": {
              "outlinewidth": 0,
              "ticks": ""
             }
            },
            "type": "scatterternary"
           }
          ],
          "surface": [
           {
            "colorbar": {
             "outlinewidth": 0,
             "ticks": ""
            },
            "colorscale": [
             [
              0,
              "#0d0887"
             ],
             [
              0.1111111111111111,
              "#46039f"
             ],
             [
              0.2222222222222222,
              "#7201a8"
             ],
             [
              0.3333333333333333,
              "#9c179e"
             ],
             [
              0.4444444444444444,
              "#bd3786"
             ],
             [
              0.5555555555555556,
              "#d8576b"
             ],
             [
              0.6666666666666666,
              "#ed7953"
             ],
             [
              0.7777777777777778,
              "#fb9f3a"
             ],
             [
              0.8888888888888888,
              "#fdca26"
             ],
             [
              1,
              "#f0f921"
             ]
            ],
            "type": "surface"
           }
          ],
          "table": [
           {
            "cells": {
             "fill": {
              "color": "#EBF0F8"
             },
             "line": {
              "color": "white"
             }
            },
            "header": {
             "fill": {
              "color": "#C8D4E3"
             },
             "line": {
              "color": "white"
             }
            },
            "type": "table"
           }
          ]
         },
         "layout": {
          "annotationdefaults": {
           "arrowcolor": "#2a3f5f",
           "arrowhead": 0,
           "arrowwidth": 1
          },
          "autotypenumbers": "strict",
          "coloraxis": {
           "colorbar": {
            "outlinewidth": 0,
            "ticks": ""
           }
          },
          "colorscale": {
           "diverging": [
            [
             0,
             "#8e0152"
            ],
            [
             0.1,
             "#c51b7d"
            ],
            [
             0.2,
             "#de77ae"
            ],
            [
             0.3,
             "#f1b6da"
            ],
            [
             0.4,
             "#fde0ef"
            ],
            [
             0.5,
             "#f7f7f7"
            ],
            [
             0.6,
             "#e6f5d0"
            ],
            [
             0.7,
             "#b8e186"
            ],
            [
             0.8,
             "#7fbc41"
            ],
            [
             0.9,
             "#4d9221"
            ],
            [
             1,
             "#276419"
            ]
           ],
           "sequential": [
            [
             0,
             "#0d0887"
            ],
            [
             0.1111111111111111,
             "#46039f"
            ],
            [
             0.2222222222222222,
             "#7201a8"
            ],
            [
             0.3333333333333333,
             "#9c179e"
            ],
            [
             0.4444444444444444,
             "#bd3786"
            ],
            [
             0.5555555555555556,
             "#d8576b"
            ],
            [
             0.6666666666666666,
             "#ed7953"
            ],
            [
             0.7777777777777778,
             "#fb9f3a"
            ],
            [
             0.8888888888888888,
             "#fdca26"
            ],
            [
             1,
             "#f0f921"
            ]
           ],
           "sequentialminus": [
            [
             0,
             "#0d0887"
            ],
            [
             0.1111111111111111,
             "#46039f"
            ],
            [
             0.2222222222222222,
             "#7201a8"
            ],
            [
             0.3333333333333333,
             "#9c179e"
            ],
            [
             0.4444444444444444,
             "#bd3786"
            ],
            [
             0.5555555555555556,
             "#d8576b"
            ],
            [
             0.6666666666666666,
             "#ed7953"
            ],
            [
             0.7777777777777778,
             "#fb9f3a"
            ],
            [
             0.8888888888888888,
             "#fdca26"
            ],
            [
             1,
             "#f0f921"
            ]
           ]
          },
          "colorway": [
           "#636efa",
           "#EF553B",
           "#00cc96",
           "#ab63fa",
           "#FFA15A",
           "#19d3f3",
           "#FF6692",
           "#B6E880",
           "#FF97FF",
           "#FECB52"
          ],
          "font": {
           "color": "#2a3f5f"
          },
          "geo": {
           "bgcolor": "white",
           "lakecolor": "white",
           "landcolor": "white",
           "showlakes": true,
           "showland": true,
           "subunitcolor": "#C8D4E3"
          },
          "hoverlabel": {
           "align": "left"
          },
          "hovermode": "closest",
          "mapbox": {
           "style": "light"
          },
          "paper_bgcolor": "white",
          "plot_bgcolor": "white",
          "polar": {
           "angularaxis": {
            "gridcolor": "#EBF0F8",
            "linecolor": "#EBF0F8",
            "ticks": ""
           },
           "bgcolor": "white",
           "radialaxis": {
            "gridcolor": "#EBF0F8",
            "linecolor": "#EBF0F8",
            "ticks": ""
           }
          },
          "scene": {
           "xaxis": {
            "backgroundcolor": "white",
            "gridcolor": "#DFE8F3",
            "gridwidth": 2,
            "linecolor": "#EBF0F8",
            "showbackground": true,
            "ticks": "",
            "zerolinecolor": "#EBF0F8"
           },
           "yaxis": {
            "backgroundcolor": "white",
            "gridcolor": "#DFE8F3",
            "gridwidth": 2,
            "linecolor": "#EBF0F8",
            "showbackground": true,
            "ticks": "",
            "zerolinecolor": "#EBF0F8"
           },
           "zaxis": {
            "backgroundcolor": "white",
            "gridcolor": "#DFE8F3",
            "gridwidth": 2,
            "linecolor": "#EBF0F8",
            "showbackground": true,
            "ticks": "",
            "zerolinecolor": "#EBF0F8"
           }
          },
          "shapedefaults": {
           "line": {
            "color": "#2a3f5f"
           }
          },
          "ternary": {
           "aaxis": {
            "gridcolor": "#DFE8F3",
            "linecolor": "#A2B1C6",
            "ticks": ""
           },
           "baxis": {
            "gridcolor": "#DFE8F3",
            "linecolor": "#A2B1C6",
            "ticks": ""
           },
           "bgcolor": "white",
           "caxis": {
            "gridcolor": "#DFE8F3",
            "linecolor": "#A2B1C6",
            "ticks": ""
           }
          },
          "title": {
           "x": 0.05
          },
          "xaxis": {
           "automargin": true,
           "gridcolor": "#EBF0F8",
           "linecolor": "#EBF0F8",
           "ticks": "",
           "title": {
            "standoff": 15
           },
           "zerolinecolor": "#EBF0F8",
           "zerolinewidth": 2
          },
          "yaxis": {
           "automargin": true,
           "gridcolor": "#EBF0F8",
           "linecolor": "#EBF0F8",
           "ticks": "",
           "title": {
            "standoff": 15
           },
           "zerolinecolor": "#EBF0F8",
           "zerolinewidth": 2
          }
         }
        },
        "title": {
         "text": "Server logs"
        },
        "xaxis": {
         "anchor": "y",
         "domain": [
          0,
          1
         ],
         "type": "date"
        },
        "yaxis": {
         "anchor": "x",
         "domain": [
          0,
          1
         ]
        }
       }
      }
     },
     "metadata": {},
     "output_type": "display_data"
    }
   ],
   "source": [
    "px.timeline(\n",
    "    server_df,\n",
    "    x_start=\"start_time\",\n",
    "    x_end=\"end_time\",\n",
    "    title=\"Server logs\",\n",
    "    template=\"plotly_white\"\n",
    ")"
   ]
  },
  {
   "cell_type": "code",
   "execution_count": 6,
   "metadata": {},
   "outputs": [
    {
     "data": {
      "application/vnd.plotly.v1+json": {
       "config": {
        "plotlyServerURL": "https://plot.ly"
       },
       "data": [
        {
         "hovertemplate": "start_time=%{x}<br>fid_score=%{y}<extra></extra>",
         "legendgroup": "",
         "line": {
          "color": "#636efa",
          "dash": "solid"
         },
         "marker": {
          "symbol": "circle"
         },
         "mode": "lines",
         "name": "",
         "orientation": "v",
         "showlegend": false,
         "type": "scatter",
         "x": [
          "2024-05-08T18:22:58.308205",
          "2024-05-08T18:23:06.553874",
          "2024-05-08T18:23:14.524647",
          "2024-05-08T18:23:22.418705",
          "2024-05-08T18:23:30.893373",
          "2024-05-08T18:23:38.756763",
          "2024-05-08T18:23:47.085274"
         ],
         "xaxis": "x",
         "y": [
          0.9273967303555041,
          0.9027300896354551,
          0.8588822432973905,
          0.9100716345678364,
          0.849027835834739,
          0.8540625748176618,
          1
         ],
         "yaxis": "y"
        },
        {
         "alignmentgroup": "True",
         "hovertemplate": "start_time=%{x}<br>elapsed_time=%{text}<extra></extra>",
         "legendgroup": "",
         "marker": {
          "color": "#636efa",
          "pattern": {
           "shape": ""
          }
         },
         "name": "",
         "offsetgroup": "",
         "orientation": "v",
         "showlegend": false,
         "text": [
          0.6766040364361717,
          0.7181055518389381,
          0.6721917138730565,
          0.5488803258411279,
          0.6167746138643488,
          1,
          0.5982570352360124
         ],
         "textposition": "auto",
         "type": "bar",
         "x": [
          "2024-05-08T18:22:58.308205",
          "2024-05-08T18:23:06.553874",
          "2024-05-08T18:23:14.524647",
          "2024-05-08T18:23:22.418705",
          "2024-05-08T18:23:30.893373",
          "2024-05-08T18:23:38.756763",
          "2024-05-08T18:23:47.085274"
         ],
         "xaxis": "x",
         "y": [
          0.6766040364361717,
          0.7181055518389381,
          0.6721917138730565,
          0.5488803258411279,
          0.6167746138643488,
          1,
          0.5982570352360124
         ],
         "yaxis": "y"
        }
       ],
       "layout": {
        "template": {
         "data": {
          "bar": [
           {
            "error_x": {
             "color": "#2a3f5f"
            },
            "error_y": {
             "color": "#2a3f5f"
            },
            "marker": {
             "line": {
              "color": "#E5ECF6",
              "width": 0.5
             },
             "pattern": {
              "fillmode": "overlay",
              "size": 10,
              "solidity": 0.2
             }
            },
            "type": "bar"
           }
          ],
          "barpolar": [
           {
            "marker": {
             "line": {
              "color": "#E5ECF6",
              "width": 0.5
             },
             "pattern": {
              "fillmode": "overlay",
              "size": 10,
              "solidity": 0.2
             }
            },
            "type": "barpolar"
           }
          ],
          "carpet": [
           {
            "aaxis": {
             "endlinecolor": "#2a3f5f",
             "gridcolor": "white",
             "linecolor": "white",
             "minorgridcolor": "white",
             "startlinecolor": "#2a3f5f"
            },
            "baxis": {
             "endlinecolor": "#2a3f5f",
             "gridcolor": "white",
             "linecolor": "white",
             "minorgridcolor": "white",
             "startlinecolor": "#2a3f5f"
            },
            "type": "carpet"
           }
          ],
          "choropleth": [
           {
            "colorbar": {
             "outlinewidth": 0,
             "ticks": ""
            },
            "type": "choropleth"
           }
          ],
          "contour": [
           {
            "colorbar": {
             "outlinewidth": 0,
             "ticks": ""
            },
            "colorscale": [
             [
              0,
              "#0d0887"
             ],
             [
              0.1111111111111111,
              "#46039f"
             ],
             [
              0.2222222222222222,
              "#7201a8"
             ],
             [
              0.3333333333333333,
              "#9c179e"
             ],
             [
              0.4444444444444444,
              "#bd3786"
             ],
             [
              0.5555555555555556,
              "#d8576b"
             ],
             [
              0.6666666666666666,
              "#ed7953"
             ],
             [
              0.7777777777777778,
              "#fb9f3a"
             ],
             [
              0.8888888888888888,
              "#fdca26"
             ],
             [
              1,
              "#f0f921"
             ]
            ],
            "type": "contour"
           }
          ],
          "contourcarpet": [
           {
            "colorbar": {
             "outlinewidth": 0,
             "ticks": ""
            },
            "type": "contourcarpet"
           }
          ],
          "heatmap": [
           {
            "colorbar": {
             "outlinewidth": 0,
             "ticks": ""
            },
            "colorscale": [
             [
              0,
              "#0d0887"
             ],
             [
              0.1111111111111111,
              "#46039f"
             ],
             [
              0.2222222222222222,
              "#7201a8"
             ],
             [
              0.3333333333333333,
              "#9c179e"
             ],
             [
              0.4444444444444444,
              "#bd3786"
             ],
             [
              0.5555555555555556,
              "#d8576b"
             ],
             [
              0.6666666666666666,
              "#ed7953"
             ],
             [
              0.7777777777777778,
              "#fb9f3a"
             ],
             [
              0.8888888888888888,
              "#fdca26"
             ],
             [
              1,
              "#f0f921"
             ]
            ],
            "type": "heatmap"
           }
          ],
          "heatmapgl": [
           {
            "colorbar": {
             "outlinewidth": 0,
             "ticks": ""
            },
            "colorscale": [
             [
              0,
              "#0d0887"
             ],
             [
              0.1111111111111111,
              "#46039f"
             ],
             [
              0.2222222222222222,
              "#7201a8"
             ],
             [
              0.3333333333333333,
              "#9c179e"
             ],
             [
              0.4444444444444444,
              "#bd3786"
             ],
             [
              0.5555555555555556,
              "#d8576b"
             ],
             [
              0.6666666666666666,
              "#ed7953"
             ],
             [
              0.7777777777777778,
              "#fb9f3a"
             ],
             [
              0.8888888888888888,
              "#fdca26"
             ],
             [
              1,
              "#f0f921"
             ]
            ],
            "type": "heatmapgl"
           }
          ],
          "histogram": [
           {
            "marker": {
             "pattern": {
              "fillmode": "overlay",
              "size": 10,
              "solidity": 0.2
             }
            },
            "type": "histogram"
           }
          ],
          "histogram2d": [
           {
            "colorbar": {
             "outlinewidth": 0,
             "ticks": ""
            },
            "colorscale": [
             [
              0,
              "#0d0887"
             ],
             [
              0.1111111111111111,
              "#46039f"
             ],
             [
              0.2222222222222222,
              "#7201a8"
             ],
             [
              0.3333333333333333,
              "#9c179e"
             ],
             [
              0.4444444444444444,
              "#bd3786"
             ],
             [
              0.5555555555555556,
              "#d8576b"
             ],
             [
              0.6666666666666666,
              "#ed7953"
             ],
             [
              0.7777777777777778,
              "#fb9f3a"
             ],
             [
              0.8888888888888888,
              "#fdca26"
             ],
             [
              1,
              "#f0f921"
             ]
            ],
            "type": "histogram2d"
           }
          ],
          "histogram2dcontour": [
           {
            "colorbar": {
             "outlinewidth": 0,
             "ticks": ""
            },
            "colorscale": [
             [
              0,
              "#0d0887"
             ],
             [
              0.1111111111111111,
              "#46039f"
             ],
             [
              0.2222222222222222,
              "#7201a8"
             ],
             [
              0.3333333333333333,
              "#9c179e"
             ],
             [
              0.4444444444444444,
              "#bd3786"
             ],
             [
              0.5555555555555556,
              "#d8576b"
             ],
             [
              0.6666666666666666,
              "#ed7953"
             ],
             [
              0.7777777777777778,
              "#fb9f3a"
             ],
             [
              0.8888888888888888,
              "#fdca26"
             ],
             [
              1,
              "#f0f921"
             ]
            ],
            "type": "histogram2dcontour"
           }
          ],
          "mesh3d": [
           {
            "colorbar": {
             "outlinewidth": 0,
             "ticks": ""
            },
            "type": "mesh3d"
           }
          ],
          "parcoords": [
           {
            "line": {
             "colorbar": {
              "outlinewidth": 0,
              "ticks": ""
             }
            },
            "type": "parcoords"
           }
          ],
          "pie": [
           {
            "automargin": true,
            "type": "pie"
           }
          ],
          "scatter": [
           {
            "fillpattern": {
             "fillmode": "overlay",
             "size": 10,
             "solidity": 0.2
            },
            "type": "scatter"
           }
          ],
          "scatter3d": [
           {
            "line": {
             "colorbar": {
              "outlinewidth": 0,
              "ticks": ""
             }
            },
            "marker": {
             "colorbar": {
              "outlinewidth": 0,
              "ticks": ""
             }
            },
            "type": "scatter3d"
           }
          ],
          "scattercarpet": [
           {
            "marker": {
             "colorbar": {
              "outlinewidth": 0,
              "ticks": ""
             }
            },
            "type": "scattercarpet"
           }
          ],
          "scattergeo": [
           {
            "marker": {
             "colorbar": {
              "outlinewidth": 0,
              "ticks": ""
             }
            },
            "type": "scattergeo"
           }
          ],
          "scattergl": [
           {
            "marker": {
             "colorbar": {
              "outlinewidth": 0,
              "ticks": ""
             }
            },
            "type": "scattergl"
           }
          ],
          "scattermapbox": [
           {
            "marker": {
             "colorbar": {
              "outlinewidth": 0,
              "ticks": ""
             }
            },
            "type": "scattermapbox"
           }
          ],
          "scatterpolar": [
           {
            "marker": {
             "colorbar": {
              "outlinewidth": 0,
              "ticks": ""
             }
            },
            "type": "scatterpolar"
           }
          ],
          "scatterpolargl": [
           {
            "marker": {
             "colorbar": {
              "outlinewidth": 0,
              "ticks": ""
             }
            },
            "type": "scatterpolargl"
           }
          ],
          "scatterternary": [
           {
            "marker": {
             "colorbar": {
              "outlinewidth": 0,
              "ticks": ""
             }
            },
            "type": "scatterternary"
           }
          ],
          "surface": [
           {
            "colorbar": {
             "outlinewidth": 0,
             "ticks": ""
            },
            "colorscale": [
             [
              0,
              "#0d0887"
             ],
             [
              0.1111111111111111,
              "#46039f"
             ],
             [
              0.2222222222222222,
              "#7201a8"
             ],
             [
              0.3333333333333333,
              "#9c179e"
             ],
             [
              0.4444444444444444,
              "#bd3786"
             ],
             [
              0.5555555555555556,
              "#d8576b"
             ],
             [
              0.6666666666666666,
              "#ed7953"
             ],
             [
              0.7777777777777778,
              "#fb9f3a"
             ],
             [
              0.8888888888888888,
              "#fdca26"
             ],
             [
              1,
              "#f0f921"
             ]
            ],
            "type": "surface"
           }
          ],
          "table": [
           {
            "cells": {
             "fill": {
              "color": "#EBF0F8"
             },
             "line": {
              "color": "white"
             }
            },
            "header": {
             "fill": {
              "color": "#C8D4E3"
             },
             "line": {
              "color": "white"
             }
            },
            "type": "table"
           }
          ]
         },
         "layout": {
          "annotationdefaults": {
           "arrowcolor": "#2a3f5f",
           "arrowhead": 0,
           "arrowwidth": 1
          },
          "autotypenumbers": "strict",
          "coloraxis": {
           "colorbar": {
            "outlinewidth": 0,
            "ticks": ""
           }
          },
          "colorscale": {
           "diverging": [
            [
             0,
             "#8e0152"
            ],
            [
             0.1,
             "#c51b7d"
            ],
            [
             0.2,
             "#de77ae"
            ],
            [
             0.3,
             "#f1b6da"
            ],
            [
             0.4,
             "#fde0ef"
            ],
            [
             0.5,
             "#f7f7f7"
            ],
            [
             0.6,
             "#e6f5d0"
            ],
            [
             0.7,
             "#b8e186"
            ],
            [
             0.8,
             "#7fbc41"
            ],
            [
             0.9,
             "#4d9221"
            ],
            [
             1,
             "#276419"
            ]
           ],
           "sequential": [
            [
             0,
             "#0d0887"
            ],
            [
             0.1111111111111111,
             "#46039f"
            ],
            [
             0.2222222222222222,
             "#7201a8"
            ],
            [
             0.3333333333333333,
             "#9c179e"
            ],
            [
             0.4444444444444444,
             "#bd3786"
            ],
            [
             0.5555555555555556,
             "#d8576b"
            ],
            [
             0.6666666666666666,
             "#ed7953"
            ],
            [
             0.7777777777777778,
             "#fb9f3a"
            ],
            [
             0.8888888888888888,
             "#fdca26"
            ],
            [
             1,
             "#f0f921"
            ]
           ],
           "sequentialminus": [
            [
             0,
             "#0d0887"
            ],
            [
             0.1111111111111111,
             "#46039f"
            ],
            [
             0.2222222222222222,
             "#7201a8"
            ],
            [
             0.3333333333333333,
             "#9c179e"
            ],
            [
             0.4444444444444444,
             "#bd3786"
            ],
            [
             0.5555555555555556,
             "#d8576b"
            ],
            [
             0.6666666666666666,
             "#ed7953"
            ],
            [
             0.7777777777777778,
             "#fb9f3a"
            ],
            [
             0.8888888888888888,
             "#fdca26"
            ],
            [
             1,
             "#f0f921"
            ]
           ]
          },
          "colorway": [
           "#636efa",
           "#EF553B",
           "#00cc96",
           "#ab63fa",
           "#FFA15A",
           "#19d3f3",
           "#FF6692",
           "#B6E880",
           "#FF97FF",
           "#FECB52"
          ],
          "font": {
           "color": "#2a3f5f"
          },
          "geo": {
           "bgcolor": "white",
           "lakecolor": "white",
           "landcolor": "#E5ECF6",
           "showlakes": true,
           "showland": true,
           "subunitcolor": "white"
          },
          "hoverlabel": {
           "align": "left"
          },
          "hovermode": "closest",
          "mapbox": {
           "style": "light"
          },
          "paper_bgcolor": "white",
          "plot_bgcolor": "#E5ECF6",
          "polar": {
           "angularaxis": {
            "gridcolor": "white",
            "linecolor": "white",
            "ticks": ""
           },
           "bgcolor": "#E5ECF6",
           "radialaxis": {
            "gridcolor": "white",
            "linecolor": "white",
            "ticks": ""
           }
          },
          "scene": {
           "xaxis": {
            "backgroundcolor": "#E5ECF6",
            "gridcolor": "white",
            "gridwidth": 2,
            "linecolor": "white",
            "showbackground": true,
            "ticks": "",
            "zerolinecolor": "white"
           },
           "yaxis": {
            "backgroundcolor": "#E5ECF6",
            "gridcolor": "white",
            "gridwidth": 2,
            "linecolor": "white",
            "showbackground": true,
            "ticks": "",
            "zerolinecolor": "white"
           },
           "zaxis": {
            "backgroundcolor": "#E5ECF6",
            "gridcolor": "white",
            "gridwidth": 2,
            "linecolor": "white",
            "showbackground": true,
            "ticks": "",
            "zerolinecolor": "white"
           }
          },
          "shapedefaults": {
           "line": {
            "color": "#2a3f5f"
           }
          },
          "ternary": {
           "aaxis": {
            "gridcolor": "white",
            "linecolor": "white",
            "ticks": ""
           },
           "baxis": {
            "gridcolor": "white",
            "linecolor": "white",
            "ticks": ""
           },
           "bgcolor": "#E5ECF6",
           "caxis": {
            "gridcolor": "white",
            "linecolor": "white",
            "ticks": ""
           }
          },
          "title": {
           "x": 0.05
          },
          "xaxis": {
           "automargin": true,
           "gridcolor": "white",
           "linecolor": "white",
           "ticks": "",
           "title": {
            "standoff": 15
           },
           "zerolinecolor": "white",
           "zerolinewidth": 2
          },
          "yaxis": {
           "automargin": true,
           "gridcolor": "white",
           "linecolor": "white",
           "ticks": "",
           "title": {
            "standoff": 15
           },
           "zerolinecolor": "white",
           "zerolinewidth": 2
          }
         }
        }
       }
      }
     },
     "metadata": {},
     "output_type": "display_data"
    }
   ],
   "source": [
    "figure = go.Figure()\n",
    "normalized_fid = server_with_fid_df.copy()\n",
    "normalized_fid[\"fid_score\"] = normalized_fid[\"fid_score\"] / normalized_fid[\"fid_score\"].max()\n",
    "normalized_fid[\"elapsed_time\"] = normalized_fid[\"elapsed_time\"] / normalized_fid[\"elapsed_time\"].max()\n",
    "lineplot = px.line(\n",
    "    normalized_fid,\n",
    "    x=\"start_time\",\n",
    "    y=\"fid_score\",\n",
    "    title=\"Server logs\",\n",
    ")\n",
    "duration_plot = px.bar(\n",
    "    normalized_fid,\n",
    "    x=\"start_time\",\n",
    "    y=\"elapsed_time\",\n",
    "    title=\"Server logs\",\n",
    "    text=\"elapsed_time\",\n",
    "    template=\"plotly_white\"\n",
    ")\n",
    "figure.add_trace(lineplot.data[0])\n",
    "figure.add_trace(duration_plot.data[0])\n",
    "figure.show()"
   ]
  },
  {
   "cell_type": "markdown",
   "metadata": {},
   "source": [
    "# Clients"
   ]
  },
  {
   "cell_type": "code",
   "execution_count": 7,
   "metadata": {},
   "outputs": [],
   "source": [
    "def read_client_json(file_path: str):\n",
    "    flattened_local_epochs = []\n",
    "    flattened_swap = []\n",
    "    flattened_send = []\n",
    "    for outer_key, inner_dict in json.loads(open(file_path, \"r\").read()).items():\n",
    "        root_attributes = {k: v for k, v in inner_dict.items() if not isinstance(v, dict)}\n",
    "        if \"start_time_swap\" in root_attributes:\n",
    "            flattened_swap.append({\n",
    "                \"outer_epoch\": outer_key,\n",
    "                \"start_time\": root_attributes[\"start_time_swap\"],\n",
    "                \"end_time\": root_attributes[\"end_time_swap\"],\n",
    "            })\n",
    "        if \"start_time_send\" in root_attributes:\n",
    "            flattened_send.append({\n",
    "                \"outer_epoch\": outer_key,\n",
    "                \"start_time\": root_attributes[\"start_time_send\"],\n",
    "                \"end_time\": root_attributes[\"end_time_send\"],\n",
    "            })\n",
    "        for inner_key, values_dict in inner_dict.items():\n",
    "            if not isinstance(values_dict, dict):\n",
    "                continue\n",
    "            flattened_local_epochs.append({\n",
    "                \"outer_epoch\": outer_key,\n",
    "                \"local_epoch\": inner_key,\n",
    "                **values_dict,\n",
    "                **root_attributes\n",
    "            })\n",
    "\n",
    "    # Convert flattened data to DataFrame\n",
    "    name = os.path.basename(file_path).split(\".\")[0]\n",
    "    \n",
    "    df_local_epochs = pd.DataFrame(flattened_local_epochs)\n",
    "    df_local_epochs[\"name\"] = name\n",
    "\n",
    "    df_swap = pd.DataFrame(flattened_swap)\n",
    "    df_swap[\"name\"] = f\"{name}_swap\"\n",
    "\n",
    "    df_send = pd.DataFrame(flattened_send)\n",
    "    df_send[\"name\"] = f\"{name}_send\"\n",
    "\n",
    "    return df_local_epochs, df_swap, df_send"
   ]
  },
  {
   "cell_type": "code",
   "execution_count": 8,
   "metadata": {},
   "outputs": [
    {
     "data": {
      "text/html": [
       "<div>\n",
       "<style scoped>\n",
       "    .dataframe tbody tr th:only-of-type {\n",
       "        vertical-align: middle;\n",
       "    }\n",
       "\n",
       "    .dataframe tbody tr th {\n",
       "        vertical-align: top;\n",
       "    }\n",
       "\n",
       "    .dataframe thead th {\n",
       "        text-align: right;\n",
       "    }\n",
       "</style>\n",
       "<table border=\"1\" class=\"dataframe\">\n",
       "  <thead>\n",
       "    <tr style=\"text-align: right;\">\n",
       "      <th></th>\n",
       "      <th>outer_epoch</th>\n",
       "      <th>local_epoch</th>\n",
       "      <th>d_loss_real</th>\n",
       "      <th>d_loss_fake</th>\n",
       "      <th>d_total_loss</th>\n",
       "      <th>elapsed_time</th>\n",
       "      <th>start_time</th>\n",
       "      <th>end_time</th>\n",
       "      <th>start_time_send</th>\n",
       "      <th>end_time_send</th>\n",
       "      <th>start_time_swap</th>\n",
       "      <th>end_time_swap</th>\n",
       "      <th>name</th>\n",
       "      <th>logging_time_end</th>\n",
       "      <th>received_time</th>\n",
       "      <th>sent_time</th>\n",
       "      <th>epoch</th>\n",
       "      <th>fid_calculation_time_start</th>\n",
       "      <th>fid_score</th>\n",
       "      <th>fid_calculation_time_end</th>\n",
       "    </tr>\n",
       "  </thead>\n",
       "  <tbody>\n",
       "    <tr>\n",
       "      <th>0</th>\n",
       "      <td>0</td>\n",
       "      <td>0</td>\n",
       "      <td>7.551731e-01</td>\n",
       "      <td>0.618816</td>\n",
       "      <td>1.373989</td>\n",
       "      <td>0.398746</td>\n",
       "      <td>2024-05-08 18:22:58.347687006</td>\n",
       "      <td>2024-05-08 18:22:58.423476934</td>\n",
       "      <td>1.715193e+09</td>\n",
       "      <td>1.715193e+09</td>\n",
       "      <td>1.715193e+09</td>\n",
       "      <td>1.715193e+09</td>\n",
       "      <td>worker_1</td>\n",
       "      <td>NaN</td>\n",
       "      <td>NaT</td>\n",
       "      <td>NaT</td>\n",
       "      <td>NaN</td>\n",
       "      <td>NaN</td>\n",
       "      <td>NaN</td>\n",
       "      <td>NaN</td>\n",
       "    </tr>\n",
       "    <tr>\n",
       "      <th>1</th>\n",
       "      <td>0</td>\n",
       "      <td>9</td>\n",
       "      <td>1.164347e-04</td>\n",
       "      <td>0.460968</td>\n",
       "      <td>0.461085</td>\n",
       "      <td>0.398746</td>\n",
       "      <td>2024-05-08 18:22:58.717782974</td>\n",
       "      <td>2024-05-08 18:22:58.745877981</td>\n",
       "      <td>1.715193e+09</td>\n",
       "      <td>1.715193e+09</td>\n",
       "      <td>1.715193e+09</td>\n",
       "      <td>1.715193e+09</td>\n",
       "      <td>worker_1</td>\n",
       "      <td>NaN</td>\n",
       "      <td>NaT</td>\n",
       "      <td>NaT</td>\n",
       "      <td>NaN</td>\n",
       "      <td>NaN</td>\n",
       "      <td>NaN</td>\n",
       "      <td>NaN</td>\n",
       "    </tr>\n",
       "    <tr>\n",
       "      <th>2</th>\n",
       "      <td>1</td>\n",
       "      <td>0</td>\n",
       "      <td>1.790433e-04</td>\n",
       "      <td>0.469221</td>\n",
       "      <td>0.469400</td>\n",
       "      <td>0.360079</td>\n",
       "      <td>2024-05-08 18:23:00.384159088</td>\n",
       "      <td>2024-05-08 18:23:00.401314974</td>\n",
       "      <td>1.715193e+09</td>\n",
       "      <td>1.715193e+09</td>\n",
       "      <td>NaN</td>\n",
       "      <td>NaN</td>\n",
       "      <td>worker_1</td>\n",
       "      <td>NaN</td>\n",
       "      <td>NaT</td>\n",
       "      <td>NaT</td>\n",
       "      <td>NaN</td>\n",
       "      <td>NaN</td>\n",
       "      <td>NaN</td>\n",
       "      <td>NaN</td>\n",
       "    </tr>\n",
       "    <tr>\n",
       "      <th>3</th>\n",
       "      <td>1</td>\n",
       "      <td>9</td>\n",
       "      <td>1.192093e-08</td>\n",
       "      <td>0.032972</td>\n",
       "      <td>0.032972</td>\n",
       "      <td>0.360079</td>\n",
       "      <td>2024-05-08 18:23:00.707416058</td>\n",
       "      <td>2024-05-08 18:23:00.743683100</td>\n",
       "      <td>1.715193e+09</td>\n",
       "      <td>1.715193e+09</td>\n",
       "      <td>NaN</td>\n",
       "      <td>NaN</td>\n",
       "      <td>worker_1</td>\n",
       "      <td>NaN</td>\n",
       "      <td>NaT</td>\n",
       "      <td>NaT</td>\n",
       "      <td>NaN</td>\n",
       "      <td>NaN</td>\n",
       "      <td>NaN</td>\n",
       "      <td>NaN</td>\n",
       "    </tr>\n",
       "    <tr>\n",
       "      <th>4</th>\n",
       "      <td>2</td>\n",
       "      <td>0</td>\n",
       "      <td>0.000000e+00</td>\n",
       "      <td>0.054619</td>\n",
       "      <td>0.054619</td>\n",
       "      <td>0.410383</td>\n",
       "      <td>2024-05-08 18:23:00.939895153</td>\n",
       "      <td>2024-05-08 18:23:01.029250145</td>\n",
       "      <td>1.715193e+09</td>\n",
       "      <td>1.715193e+09</td>\n",
       "      <td>NaN</td>\n",
       "      <td>NaN</td>\n",
       "      <td>worker_1</td>\n",
       "      <td>NaN</td>\n",
       "      <td>NaT</td>\n",
       "      <td>NaT</td>\n",
       "      <td>NaN</td>\n",
       "      <td>NaN</td>\n",
       "      <td>NaN</td>\n",
       "      <td>NaN</td>\n",
       "    </tr>\n",
       "    <tr>\n",
       "      <th>...</th>\n",
       "      <td>...</td>\n",
       "      <td>...</td>\n",
       "      <td>...</td>\n",
       "      <td>...</td>\n",
       "      <td>...</td>\n",
       "      <td>...</td>\n",
       "      <td>...</td>\n",
       "      <td>...</td>\n",
       "      <td>...</td>\n",
       "      <td>...</td>\n",
       "      <td>...</td>\n",
       "      <td>...</td>\n",
       "      <td>...</td>\n",
       "      <td>...</td>\n",
       "      <td>...</td>\n",
       "      <td>...</td>\n",
       "      <td>...</td>\n",
       "      <td>...</td>\n",
       "      <td>...</td>\n",
       "      <td>...</td>\n",
       "    </tr>\n",
       "    <tr>\n",
       "      <th>56</th>\n",
       "      <td>NaN</td>\n",
       "      <td>NaN</td>\n",
       "      <td>NaN</td>\n",
       "      <td>NaN</td>\n",
       "      <td>NaN</td>\n",
       "      <td>0.674372</td>\n",
       "      <td>2024-05-08 18:23:44.623459101</td>\n",
       "      <td>2024-05-08 18:23:44.667934895</td>\n",
       "      <td>NaN</td>\n",
       "      <td>NaN</td>\n",
       "      <td>NaN</td>\n",
       "      <td>NaN</td>\n",
       "      <td>server_sent</td>\n",
       "      <td>1.715193e+09</td>\n",
       "      <td>2024-05-08 18:23:45.151446104</td>\n",
       "      <td>2024-05-08 18:23:44.667934895</td>\n",
       "      <td>56.0</td>\n",
       "      <td>NaN</td>\n",
       "      <td>NaN</td>\n",
       "      <td>NaN</td>\n",
       "    </tr>\n",
       "    <tr>\n",
       "      <th>57</th>\n",
       "      <td>NaN</td>\n",
       "      <td>NaN</td>\n",
       "      <td>NaN</td>\n",
       "      <td>NaN</td>\n",
       "      <td>NaN</td>\n",
       "      <td>0.647984</td>\n",
       "      <td>2024-05-08 18:23:45.299354792</td>\n",
       "      <td>2024-05-08 18:23:45.343509912</td>\n",
       "      <td>NaN</td>\n",
       "      <td>NaN</td>\n",
       "      <td>NaN</td>\n",
       "      <td>NaN</td>\n",
       "      <td>server_sent</td>\n",
       "      <td>1.715193e+09</td>\n",
       "      <td>2024-05-08 18:23:45.820729017</td>\n",
       "      <td>2024-05-08 18:23:45.343509912</td>\n",
       "      <td>57.0</td>\n",
       "      <td>NaN</td>\n",
       "      <td>NaN</td>\n",
       "      <td>NaN</td>\n",
       "    </tr>\n",
       "    <tr>\n",
       "      <th>58</th>\n",
       "      <td>NaN</td>\n",
       "      <td>NaN</td>\n",
       "      <td>NaN</td>\n",
       "      <td>NaN</td>\n",
       "      <td>NaN</td>\n",
       "      <td>0.564069</td>\n",
       "      <td>2024-05-08 18:23:45.948833942</td>\n",
       "      <td>2024-05-08 18:23:45.999704123</td>\n",
       "      <td>NaN</td>\n",
       "      <td>NaN</td>\n",
       "      <td>NaN</td>\n",
       "      <td>NaN</td>\n",
       "      <td>server_sent</td>\n",
       "      <td>1.715193e+09</td>\n",
       "      <td>2024-05-08 18:23:46.367815018</td>\n",
       "      <td>2024-05-08 18:23:45.999704123</td>\n",
       "      <td>58.0</td>\n",
       "      <td>NaN</td>\n",
       "      <td>NaN</td>\n",
       "      <td>NaN</td>\n",
       "    </tr>\n",
       "    <tr>\n",
       "      <th>59</th>\n",
       "      <td>NaN</td>\n",
       "      <td>NaN</td>\n",
       "      <td>NaN</td>\n",
       "      <td>NaN</td>\n",
       "      <td>NaN</td>\n",
       "      <td>0.569143</td>\n",
       "      <td>2024-05-08 18:23:46.514379025</td>\n",
       "      <td>2024-05-08 18:23:46.557200909</td>\n",
       "      <td>NaN</td>\n",
       "      <td>NaN</td>\n",
       "      <td>NaN</td>\n",
       "      <td>NaN</td>\n",
       "      <td>server_sent</td>\n",
       "      <td>1.715193e+09</td>\n",
       "      <td>2024-05-08 18:23:46.958956003</td>\n",
       "      <td>2024-05-08 18:23:46.557200909</td>\n",
       "      <td>59.0</td>\n",
       "      <td>NaN</td>\n",
       "      <td>NaN</td>\n",
       "      <td>NaN</td>\n",
       "    </tr>\n",
       "    <tr>\n",
       "      <th>60</th>\n",
       "      <td>NaN</td>\n",
       "      <td>NaN</td>\n",
       "      <td>NaN</td>\n",
       "      <td>NaN</td>\n",
       "      <td>NaN</td>\n",
       "      <td>0.651996</td>\n",
       "      <td>2024-05-08 18:23:47.085274935</td>\n",
       "      <td>2024-05-08 18:23:47.147497892</td>\n",
       "      <td>NaN</td>\n",
       "      <td>NaN</td>\n",
       "      <td>NaN</td>\n",
       "      <td>NaN</td>\n",
       "      <td>server_sent</td>\n",
       "      <td>1.715193e+09</td>\n",
       "      <td>2024-05-08 18:23:47.587157965</td>\n",
       "      <td>2024-05-08 18:23:47.147497892</td>\n",
       "      <td>60.0</td>\n",
       "      <td>1.715193e+09</td>\n",
       "      <td>362.259705</td>\n",
       "      <td>1.715193e+09</td>\n",
       "    </tr>\n",
       "  </tbody>\n",
       "</table>\n",
       "<p>1787 rows × 20 columns</p>\n",
       "</div>"
      ],
      "text/plain": [
       "   outer_epoch local_epoch   d_loss_real  d_loss_fake  d_total_loss  \\\n",
       "0            0           0  7.551731e-01     0.618816      1.373989   \n",
       "1            0           9  1.164347e-04     0.460968      0.461085   \n",
       "2            1           0  1.790433e-04     0.469221      0.469400   \n",
       "3            1           9  1.192093e-08     0.032972      0.032972   \n",
       "4            2           0  0.000000e+00     0.054619      0.054619   \n",
       "..         ...         ...           ...          ...           ...   \n",
       "56         NaN         NaN           NaN          NaN           NaN   \n",
       "57         NaN         NaN           NaN          NaN           NaN   \n",
       "58         NaN         NaN           NaN          NaN           NaN   \n",
       "59         NaN         NaN           NaN          NaN           NaN   \n",
       "60         NaN         NaN           NaN          NaN           NaN   \n",
       "\n",
       "    elapsed_time                    start_time                      end_time  \\\n",
       "0       0.398746 2024-05-08 18:22:58.347687006 2024-05-08 18:22:58.423476934   \n",
       "1       0.398746 2024-05-08 18:22:58.717782974 2024-05-08 18:22:58.745877981   \n",
       "2       0.360079 2024-05-08 18:23:00.384159088 2024-05-08 18:23:00.401314974   \n",
       "3       0.360079 2024-05-08 18:23:00.707416058 2024-05-08 18:23:00.743683100   \n",
       "4       0.410383 2024-05-08 18:23:00.939895153 2024-05-08 18:23:01.029250145   \n",
       "..           ...                           ...                           ...   \n",
       "56      0.674372 2024-05-08 18:23:44.623459101 2024-05-08 18:23:44.667934895   \n",
       "57      0.647984 2024-05-08 18:23:45.299354792 2024-05-08 18:23:45.343509912   \n",
       "58      0.564069 2024-05-08 18:23:45.948833942 2024-05-08 18:23:45.999704123   \n",
       "59      0.569143 2024-05-08 18:23:46.514379025 2024-05-08 18:23:46.557200909   \n",
       "60      0.651996 2024-05-08 18:23:47.085274935 2024-05-08 18:23:47.147497892   \n",
       "\n",
       "    start_time_send  end_time_send  start_time_swap  end_time_swap  \\\n",
       "0      1.715193e+09   1.715193e+09     1.715193e+09   1.715193e+09   \n",
       "1      1.715193e+09   1.715193e+09     1.715193e+09   1.715193e+09   \n",
       "2      1.715193e+09   1.715193e+09              NaN            NaN   \n",
       "3      1.715193e+09   1.715193e+09              NaN            NaN   \n",
       "4      1.715193e+09   1.715193e+09              NaN            NaN   \n",
       "..              ...            ...              ...            ...   \n",
       "56              NaN            NaN              NaN            NaN   \n",
       "57              NaN            NaN              NaN            NaN   \n",
       "58              NaN            NaN              NaN            NaN   \n",
       "59              NaN            NaN              NaN            NaN   \n",
       "60              NaN            NaN              NaN            NaN   \n",
       "\n",
       "           name  logging_time_end                 received_time  \\\n",
       "0      worker_1               NaN                           NaT   \n",
       "1      worker_1               NaN                           NaT   \n",
       "2      worker_1               NaN                           NaT   \n",
       "3      worker_1               NaN                           NaT   \n",
       "4      worker_1               NaN                           NaT   \n",
       "..          ...               ...                           ...   \n",
       "56  server_sent      1.715193e+09 2024-05-08 18:23:45.151446104   \n",
       "57  server_sent      1.715193e+09 2024-05-08 18:23:45.820729017   \n",
       "58  server_sent      1.715193e+09 2024-05-08 18:23:46.367815018   \n",
       "59  server_sent      1.715193e+09 2024-05-08 18:23:46.958956003   \n",
       "60  server_sent      1.715193e+09 2024-05-08 18:23:47.587157965   \n",
       "\n",
       "                       sent_time  epoch  fid_calculation_time_start  \\\n",
       "0                            NaT    NaN                         NaN   \n",
       "1                            NaT    NaN                         NaN   \n",
       "2                            NaT    NaN                         NaN   \n",
       "3                            NaT    NaN                         NaN   \n",
       "4                            NaT    NaN                         NaN   \n",
       "..                           ...    ...                         ...   \n",
       "56 2024-05-08 18:23:44.667934895   56.0                         NaN   \n",
       "57 2024-05-08 18:23:45.343509912   57.0                         NaN   \n",
       "58 2024-05-08 18:23:45.999704123   58.0                         NaN   \n",
       "59 2024-05-08 18:23:46.557200909   59.0                         NaN   \n",
       "60 2024-05-08 18:23:47.147497892   60.0                1.715193e+09   \n",
       "\n",
       "     fid_score  fid_calculation_time_end  \n",
       "0          NaN                       NaN  \n",
       "1          NaN                       NaN  \n",
       "2          NaN                       NaN  \n",
       "3          NaN                       NaN  \n",
       "4          NaN                       NaN  \n",
       "..         ...                       ...  \n",
       "56         NaN                       NaN  \n",
       "57         NaN                       NaN  \n",
       "58         NaN                       NaN  \n",
       "59         NaN                       NaN  \n",
       "60  362.259705              1.715193e+09  \n",
       "\n",
       "[1787 rows x 20 columns]"
      ]
     },
     "execution_count": 8,
     "metadata": {},
     "output_type": "execute_result"
    }
   ],
   "source": [
    "clients_df = pd.concat([pd.concat(read_client_json(file)) for file in log_files])\n",
    "\n",
    "clients_df[\"start_time\"] = pd.to_datetime(clients_df[\"start_time\"], unit=\"s\")\n",
    "clients_df[\"end_time\"] = pd.to_datetime(clients_df[\"end_time\"], unit=\"s\")\n",
    "\n",
    "server_to_client_df = server_df.copy()\n",
    "server_to_client_df[\"name\"] = \"server_recv\"\n",
    "server_to_client_df[\"start_time\"] = server_to_client_df[\"received_time\"]\n",
    "clients_df = pd.concat([clients_df, server_to_client_df])\n",
    "\n",
    "server_to_client_df = server_df.copy()\n",
    "server_to_client_df[\"name\"] = \"server_sent\"\n",
    "server_to_client_df[\"end_time\"] = server_to_client_df[\"sent_time\"]\n",
    "clients_df = pd.concat([clients_df, server_to_client_df])\n",
    "\n",
    "clients_df"
   ]
  },
  {
   "cell_type": "code",
   "execution_count": 9,
   "metadata": {},
   "outputs": [
    {
     "data": {
      "text/plain": [
       "['worker_1',\n",
       " 'worker_2',\n",
       " 'worker_3',\n",
       " 'worker_4',\n",
       " 'worker_5',\n",
       " 'worker_6',\n",
       " 'worker_7',\n",
       " 'worker_8',\n",
       " 'worker_9']"
      ]
     },
     "execution_count": 9,
     "metadata": {},
     "output_type": "execute_result"
    }
   ],
   "source": [
    "only_workers = [f\"worker_{i+1}\" for i in range(len(log_files))]\n",
    "only_workers"
   ]
  },
  {
   "cell_type": "code",
   "execution_count": 10,
   "metadata": {},
   "outputs": [
    {
     "data": {
      "application/vnd.plotly.v1+json": {
       "config": {
        "plotlyServerURL": "https://plot.ly"
       },
       "data": [
        {
         "hovertemplate": "name=worker_1<br>start_time=%{x}<br>d_total_loss=%{y}<extra></extra>",
         "legendgroup": "worker_1",
         "line": {
          "color": "#636efa",
          "dash": "solid"
         },
         "marker": {
          "symbol": "circle"
         },
         "mode": "lines",
         "name": "worker_1",
         "showlegend": true,
         "type": "scattergl",
         "x": [
          "2024-05-08T18:22:58.347687",
          "2024-05-08T18:22:58.717782",
          "2024-05-08T18:23:00.384159",
          "2024-05-08T18:23:00.707416",
          "2024-05-08T18:23:00.939895",
          "2024-05-08T18:23:01.321956",
          "2024-05-08T18:23:01.613843",
          "2024-05-08T18:23:01.953408",
          "2024-05-08T18:23:02.185562",
          "2024-05-08T18:23:02.598364",
          "2024-05-08T18:23:02.915275",
          "2024-05-08T18:23:03.250228",
          "2024-05-08T18:23:03.504767",
          "2024-05-08T18:23:03.854532",
          "2024-05-08T18:23:04.145875",
          "2024-05-08T18:23:04.565932",
          "2024-05-08T18:23:04.844525",
          "2024-05-08T18:23:05.182183",
          "2024-05-08T18:23:05.452247",
          "2024-05-08T18:23:06.189770",
          "2024-05-08T18:23:06.568862",
          "2024-05-08T18:23:06.956365",
          "2024-05-08T18:23:08.751919",
          "2024-05-08T18:23:09.118842",
          "2024-05-08T18:23:09.386346",
          "2024-05-08T18:23:09.740502",
          "2024-05-08T18:23:10.029217",
          "2024-05-08T18:23:10.358952",
          "2024-05-08T18:23:10.601762",
          "2024-05-08T18:23:10.970880",
          "2024-05-08T18:23:11.246391",
          "2024-05-08T18:23:11.630548",
          "2024-05-08T18:23:11.901102",
          "2024-05-08T18:23:12.253477",
          "2024-05-08T18:23:12.621209",
          "2024-05-08T18:23:12.962002",
          "2024-05-08T18:23:13.276089",
          "2024-05-08T18:23:13.635158",
          "2024-05-08T18:23:13.930686",
          "2024-05-08T18:23:14.285012",
          "2024-05-08T18:23:14.541635",
          "2024-05-08T18:23:14.905989",
          "2024-05-08T18:23:16.621664",
          "2024-05-08T18:23:16.969440",
          "2024-05-08T18:23:17.232785",
          "2024-05-08T18:23:17.608146",
          "2024-05-08T18:23:17.963354",
          "2024-05-08T18:23:18.300168",
          "2024-05-08T18:23:18.534999",
          "2024-05-08T18:23:18.865800",
          "2024-05-08T18:23:19.090263",
          "2024-05-08T18:23:19.460916",
          "2024-05-08T18:23:19.865191",
          "2024-05-08T18:23:20.285848",
          "2024-05-08T18:23:20.575109",
          "2024-05-08T18:23:20.924566",
          "2024-05-08T18:23:21.229159",
          "2024-05-08T18:23:21.585987",
          "2024-05-08T18:23:21.811352",
          "2024-05-08T18:23:22.195851",
          "2024-05-08T18:23:22.432766",
          "2024-05-08T18:23:22.763422",
          "2024-05-08T18:23:24.367697",
          "2024-05-08T18:23:24.744904",
          "2024-05-08T18:23:25.084611",
          "2024-05-08T18:23:25.468379",
          "2024-05-08T18:23:25.741986",
          "2024-05-08T18:23:26.233299",
          "2024-05-08T18:23:26.564619",
          "2024-05-08T18:23:26.885777",
          "2024-05-08T18:23:27.147176",
          "2024-05-08T18:23:27.494497",
          "2024-05-08T18:23:27.749119",
          "2024-05-08T18:23:28.145221",
          "2024-05-08T18:23:28.380611",
          "2024-05-08T18:23:28.736150",
          "2024-05-08T18:23:29.075860",
          "2024-05-08T18:23:29.702570",
          "2024-05-08T18:23:30.160973",
          "2024-05-08T18:23:30.653251",
          "2024-05-08T18:23:30.907795",
          "2024-05-08T18:23:31.281939",
          "2024-05-08T18:23:33.008198",
          "2024-05-08T18:23:33.391294",
          "2024-05-08T18:23:33.704113",
          "2024-05-08T18:23:34.153789",
          "2024-05-08T18:23:34.454643",
          "2024-05-08T18:23:34.799957",
          "2024-05-08T18:23:35.063077",
          "2024-05-08T18:23:35.414720",
          "2024-05-08T18:23:35.706214",
          "2024-05-08T18:23:36.073974",
          "2024-05-08T18:23:36.337914",
          "2024-05-08T18:23:36.679903",
          "2024-05-08T18:23:36.923322",
          "2024-05-08T18:23:37.256154",
          "2024-05-08T18:23:37.504328",
          "2024-05-08T18:23:37.848549",
          "2024-05-08T18:23:38.081187",
          "2024-05-08T18:23:38.502687",
          "2024-05-08T18:23:38.771376",
          "2024-05-08T18:23:39.207981",
          "2024-05-08T18:23:41.307504",
          "2024-05-08T18:23:41.645143",
          "2024-05-08T18:23:41.933794",
          "2024-05-08T18:23:42.395322",
          "2024-05-08T18:23:42.727437",
          "2024-05-08T18:23:43.094492",
          "2024-05-08T18:23:43.397848",
          "2024-05-08T18:23:43.752069",
          "2024-05-08T18:23:44.048401",
          "2024-05-08T18:23:44.381153",
          "2024-05-08T18:23:44.636978",
          "2024-05-08T18:23:44.993286",
          "2024-05-08T18:23:45.313294",
          "2024-05-08T18:23:45.659310",
          "2024-05-08T18:23:45.962819",
          "2024-05-08T18:23:46.282693",
          "2024-05-08T18:23:46.527997",
          "2024-05-08T18:23:46.871340",
          "2024-05-08T18:23:47.099523",
          "2024-05-08T18:23:47.471233",
          "2024-05-08T18:23:49.233148"
         ],
         "xaxis": "x",
         "y": [
          1.3739888668060303,
          0.46108484268188477,
          0.4694002568721771,
          0.03297194465994835,
          0.05461939051747322,
          0.001742385677061975,
          0.03347263112664223,
          0.0009428745252080262,
          0.570008397102356,
          0.030514491721987724,
          1.2004064321517944,
          0.2984026372432709,
          0.6412530541419983,
          0.03100692294538021,
          0.09099047631025314,
          0.00029265432385727763,
          0.03315763548016548,
          0.01753396727144718,
          0.7256709933280945,
          0.0071584307588636875,
          0.6008751392364502,
          0.02755264937877655,
          0.38780078291893005,
          0.08083076030015945,
          0.4263667166233063,
          0.003895595669746399,
          0.022591274231672287,
          0.002695025410503149,
          0.03372485190629959,
          0.010017497465014458,
          0.01247391290962696,
          0.00169451127294451,
          0.12330826371908188,
          0.010867851786315441,
          0.3540714681148529,
          0.0042208414524793625,
          0.20610253512859344,
          0.0006780065014027059,
          0.12863995134830475,
          0.01038121897727251,
          1.1016921997070312,
          0.1408412605524063,
          1.0620079040527344,
          0.03911658003926277,
          0.5474249124526978,
          0.007042307872325182,
          0.3348262310028076,
          0.08967144787311554,
          0.5337573885917664,
          0.24340538680553436,
          0.8844058513641357,
          0.1314300298690796,
          0.951946496963501,
          0.04774832725524902,
          0.19070063531398773,
          0.018170004710555077,
          0.3824237585067749,
          0.018968302756547928,
          0.5477660298347473,
          0.24308040738105774,
          0.5031388998031616,
          0.28631845116615295,
          0.5115162134170532,
          0.12610962986946106,
          0.23597250878810883,
          0.08589604496955872,
          0.1399080604314804,
          0.4887682795524597,
          1.050351858139038,
          0.6470335125923157,
          0.2772296071052551,
          0.12062840163707733,
          0.22502455115318298,
          0.04763294383883476,
          0.18469005823135376,
          0.10136246681213379,
          0.34068557620048523,
          0.10550291836261749,
          0.2580023407936096,
          0.11739207059144974,
          0.22017568349838257,
          0.36574214696884155,
          0.6528051495552063,
          0.0978585034608841,
          0.41568347811698914,
          0.08924417942762375,
          0.5402393341064453,
          0.2822154760360718,
          0.4346272349357605,
          0.06763918697834015,
          0.12726037204265594,
          0.10339879244565964,
          0.8053663372993469,
          0.31149569153785706,
          2.3270490169525146,
          0.36344432830810547,
          1.0502798557281494,
          0.6432296633720398,
          0.3577917218208313,
          0.13775551319122314,
          1.0759440660476685,
          0.20807898044586182,
          0.3067449927330017,
          0.6555180549621582,
          0.7865607738494873,
          0.16144129633903503,
          0.2761749029159546,
          0.29435089230537415,
          0.8436331152915955,
          0.13440154492855072,
          0.7759053111076355,
          0.17098158597946167,
          0.46745598316192627,
          0.2394009679555893,
          1.7552145719528198,
          0.45797765254974365,
          0.7289420962333679,
          0.703852653503418,
          1.0762786865234375,
          0.5653724074363708,
          0.5261288285255432,
          0.17052185535430908,
          0.6516614556312561
         ],
         "yaxis": "y"
        },
        {
         "hovertemplate": "name=worker_2<br>start_time=%{x}<br>d_total_loss=%{y}<extra></extra>",
         "legendgroup": "worker_2",
         "line": {
          "color": "#EF553B",
          "dash": "solid"
         },
         "marker": {
          "symbol": "circle"
         },
         "mode": "lines",
         "name": "worker_2",
         "showlegend": true,
         "type": "scattergl",
         "x": [
          "2024-05-08T18:22:58.370731",
          "2024-05-08T18:22:58.765030",
          "2024-05-08T18:23:00.387109",
          "2024-05-08T18:23:00.720516",
          "2024-05-08T18:23:00.942691",
          "2024-05-08T18:23:01.316066",
          "2024-05-08T18:23:01.616789",
          "2024-05-08T18:23:01.967429",
          "2024-05-08T18:23:02.189267",
          "2024-05-08T18:23:02.630981",
          "2024-05-08T18:23:02.918359",
          "2024-05-08T18:23:03.266458",
          "2024-05-08T18:23:03.514885",
          "2024-05-08T18:23:03.861716",
          "2024-05-08T18:23:04.149124",
          "2024-05-08T18:23:04.578609",
          "2024-05-08T18:23:04.847239",
          "2024-05-08T18:23:05.207281",
          "2024-05-08T18:23:05.456194",
          "2024-05-08T18:23:06.161167",
          "2024-05-08T18:23:06.573399",
          "2024-05-08T18:23:07.003927",
          "2024-05-08T18:23:08.754441",
          "2024-05-08T18:23:09.107511",
          "2024-05-08T18:23:09.389453",
          "2024-05-08T18:23:09.766143",
          "2024-05-08T18:23:10.032019",
          "2024-05-08T18:23:10.379717",
          "2024-05-08T18:23:10.605445",
          "2024-05-08T18:23:10.985877",
          "2024-05-08T18:23:11.249484",
          "2024-05-08T18:23:11.628186",
          "2024-05-08T18:23:11.904865",
          "2024-05-08T18:23:12.283241",
          "2024-05-08T18:23:12.623930",
          "2024-05-08T18:23:12.967279",
          "2024-05-08T18:23:13.279098",
          "2024-05-08T18:23:13.649641",
          "2024-05-08T18:23:13.933341",
          "2024-05-08T18:23:14.285637",
          "2024-05-08T18:23:14.544629",
          "2024-05-08T18:23:14.956959",
          "2024-05-08T18:23:16.624378",
          "2024-05-08T18:23:16.982762",
          "2024-05-08T18:23:17.247268",
          "2024-05-08T18:23:17.617935",
          "2024-05-08T18:23:17.966576",
          "2024-05-08T18:23:18.330146",
          "2024-05-08T18:23:18.538192",
          "2024-05-08T18:23:18.875753",
          "2024-05-08T18:23:19.093774",
          "2024-05-08T18:23:19.556683",
          "2024-05-08T18:23:19.868524",
          "2024-05-08T18:23:20.310149",
          "2024-05-08T18:23:20.577754",
          "2024-05-08T18:23:20.917392",
          "2024-05-08T18:23:21.233123",
          "2024-05-08T18:23:21.578564",
          "2024-05-08T18:23:21.814535",
          "2024-05-08T18:23:22.205018",
          "2024-05-08T18:23:22.436068",
          "2024-05-08T18:23:22.772656",
          "2024-05-08T18:23:24.371365",
          "2024-05-08T18:23:24.781255",
          "2024-05-08T18:23:25.087234",
          "2024-05-08T18:23:25.476706",
          "2024-05-08T18:23:25.745780",
          "2024-05-08T18:23:26.245568",
          "2024-05-08T18:23:26.567819",
          "2024-05-08T18:23:26.896368",
          "2024-05-08T18:23:27.150867",
          "2024-05-08T18:23:27.509323",
          "2024-05-08T18:23:27.751962",
          "2024-05-08T18:23:28.135950",
          "2024-05-08T18:23:28.384520",
          "2024-05-08T18:23:28.740252",
          "2024-05-08T18:23:29.080234",
          "2024-05-08T18:23:29.751034",
          "2024-05-08T18:23:30.165296",
          "2024-05-08T18:23:30.640014",
          "2024-05-08T18:23:30.911378",
          "2024-05-08T18:23:31.295311",
          "2024-05-08T18:23:33.011162",
          "2024-05-08T18:23:33.402334",
          "2024-05-08T18:23:33.708528",
          "2024-05-08T18:23:34.177629",
          "2024-05-08T18:23:34.457720",
          "2024-05-08T18:23:34.823647",
          "2024-05-08T18:23:35.066915",
          "2024-05-08T18:23:35.419504",
          "2024-05-08T18:23:35.711034",
          "2024-05-08T18:23:36.067209",
          "2024-05-08T18:23:36.341460",
          "2024-05-08T18:23:36.694054",
          "2024-05-08T18:23:36.927489",
          "2024-05-08T18:23:37.253514",
          "2024-05-08T18:23:37.508167",
          "2024-05-08T18:23:37.850522",
          "2024-05-08T18:23:38.085550",
          "2024-05-08T18:23:38.527221",
          "2024-05-08T18:23:38.774767",
          "2024-05-08T18:23:39.292091",
          "2024-05-08T18:23:41.312014",
          "2024-05-08T18:23:41.713379",
          "2024-05-08T18:23:41.937505",
          "2024-05-08T18:23:42.378497",
          "2024-05-08T18:23:42.729912",
          "2024-05-08T18:23:43.095207",
          "2024-05-08T18:23:43.401024",
          "2024-05-08T18:23:43.751578",
          "2024-05-08T18:23:44.052656",
          "2024-05-08T18:23:44.406472",
          "2024-05-08T18:23:44.639854",
          "2024-05-08T18:23:45.023901",
          "2024-05-08T18:23:45.316159",
          "2024-05-08T18:23:45.658695",
          "2024-05-08T18:23:45.967776",
          "2024-05-08T18:23:46.276475",
          "2024-05-08T18:23:46.530693",
          "2024-05-08T18:23:46.864758",
          "2024-05-08T18:23:47.104130",
          "2024-05-08T18:23:47.485808",
          "2024-05-08T18:23:49.236681"
         ],
         "xaxis": "x",
         "y": [
          1.40265953540802,
          0.4506025016307831,
          0.6335244178771973,
          0.2639392018318176,
          0.3307746350765228,
          0.04509004205465317,
          0.05797591805458069,
          0.0020417554769665003,
          0.7992509007453918,
          0.5609843134880066,
          0.6483318209648132,
          0.0857739970088005,
          0.6936600208282471,
          0.008920920081436634,
          0.039252057671546936,
          0.011827338486909866,
          0.09400949627161026,
          0.0032897437922656536,
          1.1413449048995972,
          0.01090221107006073,
          0.4528847336769104,
          0.02474408596754074,
          0.28488436341285706,
          0.012563969939947128,
          0.1979493945837021,
          0.004933539777994156,
          0.018787000328302383,
          0.0010566916316747665,
          0.0027438357938081026,
          0.0013823333429172635,
          0.00826378632336855,
          0.0020746567752212286,
          0.016981177031993866,
          0.0004986997228115797,
          0.02453780546784401,
          0.0094295684248209,
          0.3073863983154297,
          0.0039043165743350983,
          0.06536503881216049,
          0.00011629908112809062,
          0.17634151875972748,
          0.0015443548327311873,
          0.6601073741912842,
          0.836197555065155,
          1.135296106338501,
          0.06343302130699158,
          0.16304701566696167,
          0.024770215153694153,
          0.5933365225791931,
          0.36643490195274353,
          1.1207250356674194,
          0.2342420518398285,
          0.3363051414489746,
          0.08425340801477432,
          0.6833148002624512,
          0.08835970610380173,
          1.345792531967163,
          0.11312596499919891,
          0.2967914044857025,
          0.352878600358963,
          0.6947761178016663,
          0.1510428935289383,
          0.25234419107437134,
          0.44747719168663025,
          0.8163628578186035,
          1.997735619544983,
          0.1611649990081787,
          0.18534508347511292,
          0.18141593039035797,
          0.06096891313791275,
          0.29227375984191895,
          0.24538059532642365,
          0.9435248970985413,
          0.303683340549469,
          1.9908344745635986,
          0.28917577862739563,
          0.2923652231693268,
          0.21782945096492767,
          0.602130115032196,
          0.2347288578748703,
          0.5157196521759033,
          1.3238701820373535,
          0.3018287718296051,
          0.18938645720481873,
          0.8375433087348938,
          0.10237563401460648,
          1.020379662513733,
          0.5134008526802063,
          0.8564385175704956,
          0.3062378168106079,
          0.3777678310871124,
          0.1357521414756775,
          0.5268045663833618,
          0.17215999960899353,
          1.605521559715271,
          0.5004602670669556,
          1.187778353691101,
          0.4992941617965698,
          0.5922272801399231,
          0.2527393400669098,
          0.6087382435798645,
          0.2131822407245636,
          0.2935582101345062,
          0.06541528552770615,
          1.3109756708145142,
          0.5365726947784424,
          0.49431219696998596,
          0.2366136908531189,
          0.6656272411346436,
          0.15858058631420135,
          0.47058311104774475,
          0.24132981896400452,
          0.2205120325088501,
          0.042347252368927,
          0.7126848697662354,
          0.46997642517089844,
          0.623008131980896,
          0.09824778139591217,
          1.2739315032958984,
          0.34656888246536255,
          0.19210892915725708,
          0.060033801943063736,
          0.5724183320999146
         ],
         "yaxis": "y"
        },
        {
         "hovertemplate": "name=worker_3<br>start_time=%{x}<br>d_total_loss=%{y}<extra></extra>",
         "legendgroup": "worker_3",
         "line": {
          "color": "#00cc96",
          "dash": "solid"
         },
         "marker": {
          "symbol": "circle"
         },
         "mode": "lines",
         "name": "worker_3",
         "showlegend": true,
         "type": "scattergl",
         "x": [
          "2024-05-08T18:22:58.381356",
          "2024-05-08T18:22:58.764303",
          "2024-05-08T18:23:00.389653",
          "2024-05-08T18:23:00.723208",
          "2024-05-08T18:23:00.945864",
          "2024-05-08T18:23:01.324971",
          "2024-05-08T18:23:01.620561",
          "2024-05-08T18:23:01.949942",
          "2024-05-08T18:23:02.193162",
          "2024-05-08T18:23:02.627951",
          "2024-05-08T18:23:02.921423",
          "2024-05-08T18:23:03.293208",
          "2024-05-08T18:23:03.522138",
          "2024-05-08T18:23:03.964288",
          "2024-05-08T18:23:04.152343",
          "2024-05-08T18:23:04.640553",
          "2024-05-08T18:23:04.849812",
          "2024-05-08T18:23:05.202028",
          "2024-05-08T18:23:05.459899",
          "2024-05-08T18:23:06.215875",
          "2024-05-08T18:23:06.578123",
          "2024-05-08T18:23:06.996112",
          "2024-05-08T18:23:08.757380",
          "2024-05-08T18:23:09.112197",
          "2024-05-08T18:23:09.393343",
          "2024-05-08T18:23:09.781293",
          "2024-05-08T18:23:10.035576",
          "2024-05-08T18:23:10.389556",
          "2024-05-08T18:23:10.609006",
          "2024-05-08T18:23:11.022030",
          "2024-05-08T18:23:11.252335",
          "2024-05-08T18:23:11.643855",
          "2024-05-08T18:23:11.907950",
          "2024-05-08T18:23:12.267544",
          "2024-05-08T18:23:12.626230",
          "2024-05-08T18:23:12.966314",
          "2024-05-08T18:23:13.282297",
          "2024-05-08T18:23:13.660005",
          "2024-05-08T18:23:13.936613",
          "2024-05-08T18:23:14.296533",
          "2024-05-08T18:23:14.550282",
          "2024-05-08T18:23:14.956060",
          "2024-05-08T18:23:16.627799",
          "2024-05-08T18:23:16.988652",
          "2024-05-08T18:23:17.275199",
          "2024-05-08T18:23:17.693803",
          "2024-05-08T18:23:17.970079",
          "2024-05-08T18:23:18.310038",
          "2024-05-08T18:23:18.541146",
          "2024-05-08T18:23:18.887876",
          "2024-05-08T18:23:19.096246",
          "2024-05-08T18:23:19.505595",
          "2024-05-08T18:23:19.872381",
          "2024-05-08T18:23:20.308785",
          "2024-05-08T18:23:20.580553",
          "2024-05-08T18:23:20.927496",
          "2024-05-08T18:23:21.236340",
          "2024-05-08T18:23:21.579493",
          "2024-05-08T18:23:21.818800",
          "2024-05-08T18:23:22.245182",
          "2024-05-08T18:23:22.439024",
          "2024-05-08T18:23:22.831871",
          "2024-05-08T18:23:24.374918",
          "2024-05-08T18:23:24.775701",
          "2024-05-08T18:23:25.090187",
          "2024-05-08T18:23:25.490675",
          "2024-05-08T18:23:25.750380",
          "2024-05-08T18:23:26.254078",
          "2024-05-08T18:23:26.572005",
          "2024-05-08T18:23:26.916351",
          "2024-05-08T18:23:27.154266",
          "2024-05-08T18:23:27.513317",
          "2024-05-08T18:23:27.754923",
          "2024-05-08T18:23:28.151211",
          "2024-05-08T18:23:28.387485",
          "2024-05-08T18:23:28.742533",
          "2024-05-08T18:23:29.085198",
          "2024-05-08T18:23:29.751823",
          "2024-05-08T18:23:30.169384",
          "2024-05-08T18:23:30.657084",
          "2024-05-08T18:23:30.914474",
          "2024-05-08T18:23:31.297103",
          "2024-05-08T18:23:33.014836",
          "2024-05-08T18:23:33.408871",
          "2024-05-08T18:23:33.711616",
          "2024-05-08T18:23:34.192496",
          "2024-05-08T18:23:34.461413",
          "2024-05-08T18:23:34.824609",
          "2024-05-08T18:23:35.069744",
          "2024-05-08T18:23:35.421407",
          "2024-05-08T18:23:35.714570",
          "2024-05-08T18:23:36.077085",
          "2024-05-08T18:23:36.344997",
          "2024-05-08T18:23:36.700117",
          "2024-05-08T18:23:36.932389",
          "2024-05-08T18:23:37.288815",
          "2024-05-08T18:23:37.512321",
          "2024-05-08T18:23:37.859964",
          "2024-05-08T18:23:38.089087",
          "2024-05-08T18:23:38.513889",
          "2024-05-08T18:23:38.777935",
          "2024-05-08T18:23:39.278332",
          "2024-05-08T18:23:41.316618",
          "2024-05-08T18:23:41.693603",
          "2024-05-08T18:23:41.940802",
          "2024-05-08T18:23:42.402453",
          "2024-05-08T18:23:42.732980",
          "2024-05-08T18:23:43.137434",
          "2024-05-08T18:23:43.406971",
          "2024-05-08T18:23:43.782289",
          "2024-05-08T18:23:44.054653",
          "2024-05-08T18:23:44.384104",
          "2024-05-08T18:23:44.643491",
          "2024-05-08T18:23:45.017117",
          "2024-05-08T18:23:45.319717",
          "2024-05-08T18:23:45.667163",
          "2024-05-08T18:23:45.972460",
          "2024-05-08T18:23:46.316962",
          "2024-05-08T18:23:46.534298",
          "2024-05-08T18:23:46.894460",
          "2024-05-08T18:23:47.107769",
          "2024-05-08T18:23:47.490383",
          "2024-05-08T18:23:49.264179"
         ],
         "xaxis": "x",
         "y": [
          1.3587794303894043,
          0.4415687918663025,
          0.5874109864234924,
          0.15164589881896973,
          0.20159095525741577,
          0.01334566343575716,
          0.047987330704927444,
          0.0015617633471265435,
          0.33998486399650574,
          0.041528552770614624,
          1.0101680755615234,
          0.13106970489025116,
          0.6647207140922546,
          0.005155119579285383,
          0.11891762912273407,
          0.0012692721793428063,
          0.16696952283382416,
          0.010863849893212318,
          1.038161039352417,
          0.007287564221769571,
          0.592002272605896,
          0.07039321213960648,
          0.5626577138900757,
          0.08783090114593506,
          0.20090965926647186,
          0.004895389080047607,
          0.05029800534248352,
          0.009850524365901947,
          0.028070934116840363,
          0.09261579066514969,
          0.025344884023070335,
          0.0012107719667255878,
          0.012403037399053574,
          0.0010390261886641383,
          0.016763867810368538,
          0.005005046259611845,
          0.34509947896003723,
          0.021032610908150673,
          1.1460483074188232,
          0.005506275221705437,
          0.14343300461769104,
          0.037621188908815384,
          0.3752894997596741,
          0.1474553793668747,
          0.8161824345588684,
          0.005651910323649645,
          0.10583019256591797,
          0.017538869753479958,
          0.1401730626821518,
          0.148625448346138,
          0.36120614409446716,
          0.009350983425974846,
          0.5649584531784058,
          0.022393297404050827,
          0.5363430380821228,
          0.12470686435699463,
          0.9395115971565247,
          0.1376500427722931,
          1.0288501977920532,
          0.07680400460958481,
          0.1164756715297699,
          0.014254296198487282,
          0.5113972425460815,
          0.10730575770139694,
          0.04249037429690361,
          0.42144379019737244,
          0.894010066986084,
          0.24056203663349152,
          0.334783136844635,
          0.4457107484340668,
          0.7914512157440186,
          0.3213610053062439,
          0.2796337306499481,
          0.25508803129196167,
          0.5552914142608643,
          0.2775251865386963,
          0.48829910159111023,
          0.10222965478897095,
          1.2088950872421265,
          0.193816676735878,
          0.6166342496871948,
          0.12182844430208206,
          0.4408543109893799,
          0.08796742558479309,
          0.8998811841011047,
          0.42419806122779846,
          1.0181655883789062,
          0.32727786898612976,
          0.36067134141921997,
          0.05012553557753563,
          0.24466779828071594,
          0.1174771711230278,
          1.01535165309906,
          0.7647933959960938,
          1.062994360923767,
          0.2808791399002075,
          0.3119983971118927,
          0.27775079011917114,
          0.9520400762557983,
          0.36367303133010864,
          0.6933197379112244,
          0.06973880529403687,
          0.48916053771972656,
          0.1314411610364914,
          0.3713015019893646,
          0.15769021213054657,
          0.9122380018234253,
          0.5983400940895081,
          0.5853135585784912,
          0.2932448387145996,
          0.6686224937438965,
          0.30414798855781555,
          0.49617528915405273,
          0.18270361423492432,
          1.0923888683319092,
          0.6680864095687866,
          0.7396175265312195,
          0.5076620578765869,
          1.197678565979004,
          0.43561720848083496,
          0.3491150140762329,
          0.4135487377643585,
          0.31781005859375
         ],
         "yaxis": "y"
        },
        {
         "hovertemplate": "name=worker_4<br>start_time=%{x}<br>d_total_loss=%{y}<extra></extra>",
         "legendgroup": "worker_4",
         "line": {
          "color": "#ab63fa",
          "dash": "solid"
         },
         "marker": {
          "symbol": "circle"
         },
         "mode": "lines",
         "name": "worker_4",
         "showlegend": true,
         "type": "scattergl",
         "x": [
          "2024-05-08T18:22:58.390100",
          "2024-05-08T18:22:58.799088",
          "2024-05-08T18:23:00.393054",
          "2024-05-08T18:23:00.733438",
          "2024-05-08T18:23:00.949182",
          "2024-05-08T18:23:01.365348",
          "2024-05-08T18:23:01.623461",
          "2024-05-08T18:23:01.961781",
          "2024-05-08T18:23:02.197000",
          "2024-05-08T18:23:02.631076",
          "2024-05-08T18:23:02.924635",
          "2024-05-08T18:23:03.279396",
          "2024-05-08T18:23:03.527643",
          "2024-05-08T18:23:03.882585",
          "2024-05-08T18:23:04.154895",
          "2024-05-08T18:23:04.625798",
          "2024-05-08T18:23:04.853249",
          "2024-05-08T18:23:05.207894",
          "2024-05-08T18:23:05.464016",
          "2024-05-08T18:23:06.237080",
          "2024-05-08T18:23:06.581622",
          "2024-05-08T18:23:07.016940",
          "2024-05-08T18:23:08.760506",
          "2024-05-08T18:23:09.136286",
          "2024-05-08T18:23:09.396669",
          "2024-05-08T18:23:09.767372",
          "2024-05-08T18:23:10.038013",
          "2024-05-08T18:23:10.397574",
          "2024-05-08T18:23:10.612240",
          "2024-05-08T18:23:10.997699",
          "2024-05-08T18:23:11.256747",
          "2024-05-08T18:23:11.644567",
          "2024-05-08T18:23:11.911478",
          "2024-05-08T18:23:12.290494",
          "2024-05-08T18:23:12.629318",
          "2024-05-08T18:23:12.976466",
          "2024-05-08T18:23:13.284457",
          "2024-05-08T18:23:13.658740",
          "2024-05-08T18:23:13.939927",
          "2024-05-08T18:23:14.293579",
          "2024-05-08T18:23:14.553653",
          "2024-05-08T18:23:14.941204",
          "2024-05-08T18:23:16.631264",
          "2024-05-08T18:23:17.014504",
          "2024-05-08T18:23:17.278812",
          "2024-05-08T18:23:17.691919",
          "2024-05-08T18:23:17.973362",
          "2024-05-08T18:23:18.326138",
          "2024-05-08T18:23:18.543540",
          "2024-05-08T18:23:18.882219",
          "2024-05-08T18:23:19.101583",
          "2024-05-08T18:23:19.539403",
          "2024-05-08T18:23:19.876089",
          "2024-05-08T18:23:20.321814",
          "2024-05-08T18:23:20.584415",
          "2024-05-08T18:23:20.939728",
          "2024-05-08T18:23:21.240562",
          "2024-05-08T18:23:21.593934",
          "2024-05-08T18:23:21.822064",
          "2024-05-08T18:23:22.210245",
          "2024-05-08T18:23:22.442080",
          "2024-05-08T18:23:22.778639",
          "2024-05-08T18:23:24.377990",
          "2024-05-08T18:23:24.819994",
          "2024-05-08T18:23:25.093479",
          "2024-05-08T18:23:25.488947",
          "2024-05-08T18:23:25.755227",
          "2024-05-08T18:23:26.258927",
          "2024-05-08T18:23:26.574530",
          "2024-05-08T18:23:26.919373",
          "2024-05-08T18:23:27.157418",
          "2024-05-08T18:23:27.518745",
          "2024-05-08T18:23:27.758224",
          "2024-05-08T18:23:28.167748",
          "2024-05-08T18:23:28.390809",
          "2024-05-08T18:23:28.745172",
          "2024-05-08T18:23:29.088732",
          "2024-05-08T18:23:29.788303",
          "2024-05-08T18:23:30.174803",
          "2024-05-08T18:23:30.658011",
          "2024-05-08T18:23:30.918802",
          "2024-05-08T18:23:31.306311",
          "2024-05-08T18:23:33.020319",
          "2024-05-08T18:23:33.408124",
          "2024-05-08T18:23:33.715915",
          "2024-05-08T18:23:34.180283",
          "2024-05-08T18:23:34.464854",
          "2024-05-08T18:23:34.817517",
          "2024-05-08T18:23:35.073195",
          "2024-05-08T18:23:35.419590",
          "2024-05-08T18:23:35.718170",
          "2024-05-08T18:23:36.081351",
          "2024-05-08T18:23:36.356127",
          "2024-05-08T18:23:36.701598",
          "2024-05-08T18:23:36.934200",
          "2024-05-08T18:23:37.267183",
          "2024-05-08T18:23:37.515980",
          "2024-05-08T18:23:37.862035",
          "2024-05-08T18:23:38.093808",
          "2024-05-08T18:23:38.517671",
          "2024-05-08T18:23:38.780822",
          "2024-05-08T18:23:39.251899",
          "2024-05-08T18:23:41.320255",
          "2024-05-08T18:23:41.704954",
          "2024-05-08T18:23:41.943895",
          "2024-05-08T18:23:42.418720",
          "2024-05-08T18:23:42.736013",
          "2024-05-08T18:23:43.142835",
          "2024-05-08T18:23:43.409517",
          "2024-05-08T18:23:43.760270",
          "2024-05-08T18:23:44.061028",
          "2024-05-08T18:23:44.406884",
          "2024-05-08T18:23:44.646767",
          "2024-05-08T18:23:45.020666",
          "2024-05-08T18:23:45.322978",
          "2024-05-08T18:23:45.666455",
          "2024-05-08T18:23:45.975948",
          "2024-05-08T18:23:46.312621",
          "2024-05-08T18:23:46.537328",
          "2024-05-08T18:23:46.887920",
          "2024-05-08T18:23:47.113211",
          "2024-05-08T18:23:47.487002",
          "2024-05-08T18:23:49.269104"
         ],
         "xaxis": "x",
         "y": [
          1.414383888244629,
          0.5807140469551086,
          0.5988287925720215,
          0.08619372546672821,
          0.1375998854637146,
          0.00039776027551852167,
          0.04142063111066818,
          0.0016463784268125892,
          0.38243427872657776,
          0.09985534846782684,
          2.0483546257019043,
          0.34457096457481384,
          1.0150569677352905,
          0.026241082698106766,
          0.17622753977775574,
          0.019552938640117645,
          0.11812244355678558,
          0.006625084206461906,
          0.6005217432975769,
          0.12150286138057709,
          1.5618565082550049,
          0.47506123781204224,
          0.5365489721298218,
          0.07218416780233383,
          0.33025991916656494,
          0.13673050701618195,
          0.17851707339286804,
          0.009144529700279236,
          0.12778136134147644,
          0.005441407673060894,
          0.022735774517059326,
          0.0028525704983621836,
          0.003135415492579341,
          0.006224339362233877,
          0.10839725285768509,
          0.015207741409540176,
          0.34184861183166504,
          0.0034790891222655773,
          0.4415789246559143,
          0.0005996575928293169,
          0.6286576390266418,
          0.03176789730787277,
          0.5154302716255188,
          0.08640718460083008,
          0.5268665552139282,
          0.013590032234787941,
          1.2419673204421997,
          0.08400847762823105,
          0.46670880913734436,
          0.06505956500768661,
          0.2430124580860138,
          0.11069002747535706,
          0.2677233815193176,
          0.05627169832587242,
          0.24047669768333435,
          0.009004560299217701,
          0.3668176531791687,
          0.13667213916778564,
          0.4696260988712311,
          0.014728513546288013,
          0.0969020277261734,
          0.010234958492219448,
          0.04723264276981354,
          0.01821185275912285,
          0.26795050501823425,
          0.07811716198921204,
          0.06251217424869537,
          0.004828415811061859,
          0.05077509582042694,
          0.018417593091726303,
          0.16459181904792786,
          0.03641405701637268,
          0.47560131549835205,
          0.18440113961696625,
          0.4440024197101593,
          0.025794167071580887,
          0.34878814220428467,
          0.07848578691482544,
          0.6406185626983643,
          0.6597464084625244,
          0.8189095258712769,
          0.2293653041124344,
          0.335945188999176,
          0.15019021928310394,
          0.10299244523048401,
          0.1425476372241974,
          0.5462403297424316,
          0.18216343224048615,
          1.1764577627182007,
          0.17285661399364471,
          0.7182826399803162,
          0.15539228916168213,
          0.5249775052070618,
          0.2222522348165512,
          0.6568825840950012,
          0.31920889019966125,
          0.9416189193725586,
          0.37547069787979126,
          1.061002254486084,
          0.15602940320968628,
          0.4086325764656067,
          0.01691809669137001,
          0.9222694039344788,
          0.08586294949054718,
          1.2145427465438843,
          0.6310492753982544,
          0.8458755016326904,
          0.15414707362651825,
          1.347172737121582,
          0.17630994319915771,
          0.5886149406433105,
          0.2729218304157257,
          1.2439923286437988,
          0.1925530731678009,
          1.738971471786499,
          0.2622542381286621,
          0.8410148620605469,
          0.2441207766532898,
          1.0853989124298096,
          0.28934672474861145,
          0.4148760735988617,
          0.135874941945076,
          0.5208487510681152
         ],
         "yaxis": "y"
        },
        {
         "hovertemplate": "name=worker_5<br>start_time=%{x}<br>d_total_loss=%{y}<extra></extra>",
         "legendgroup": "worker_5",
         "line": {
          "color": "#FFA15A",
          "dash": "solid"
         },
         "marker": {
          "symbol": "circle"
         },
         "mode": "lines",
         "name": "worker_5",
         "showlegend": true,
         "type": "scattergl",
         "x": [
          "2024-05-08T18:22:58.393821",
          "2024-05-08T18:22:58.826018",
          "2024-05-08T18:23:00.396550",
          "2024-05-08T18:23:00.738629",
          "2024-05-08T18:23:00.951884",
          "2024-05-08T18:23:01.354598",
          "2024-05-08T18:23:01.627226",
          "2024-05-08T18:23:01.961938",
          "2024-05-08T18:23:02.200463",
          "2024-05-08T18:23:02.686669",
          "2024-05-08T18:23:02.928160",
          "2024-05-08T18:23:03.265722",
          "2024-05-08T18:23:03.536735",
          "2024-05-08T18:23:03.876034",
          "2024-05-08T18:23:04.160315",
          "2024-05-08T18:23:04.589895",
          "2024-05-08T18:23:04.856342",
          "2024-05-08T18:23:05.203589",
          "2024-05-08T18:23:05.468452",
          "2024-05-08T18:23:06.232858",
          "2024-05-08T18:23:06.585199",
          "2024-05-08T18:23:07.019299",
          "2024-05-08T18:23:08.763912",
          "2024-05-08T18:23:09.123845",
          "2024-05-08T18:23:09.400325",
          "2024-05-08T18:23:09.780885",
          "2024-05-08T18:23:10.041538",
          "2024-05-08T18:23:10.370396",
          "2024-05-08T18:23:10.615397",
          "2024-05-08T18:23:10.996598",
          "2024-05-08T18:23:11.259322",
          "2024-05-08T18:23:11.645503",
          "2024-05-08T18:23:11.916011",
          "2024-05-08T18:23:12.277091",
          "2024-05-08T18:23:12.633571",
          "2024-05-08T18:23:12.981658",
          "2024-05-08T18:23:13.289184",
          "2024-05-08T18:23:13.664232",
          "2024-05-08T18:23:13.946170",
          "2024-05-08T18:23:14.306665",
          "2024-05-08T18:23:14.558048",
          "2024-05-08T18:23:14.998725",
          "2024-05-08T18:23:16.634234",
          "2024-05-08T18:23:17.009752",
          "2024-05-08T18:23:17.284015",
          "2024-05-08T18:23:17.699608",
          "2024-05-08T18:23:17.978863",
          "2024-05-08T18:23:18.332910",
          "2024-05-08T18:23:18.546986",
          "2024-05-08T18:23:18.895920",
          "2024-05-08T18:23:19.105795",
          "2024-05-08T18:23:19.523810",
          "2024-05-08T18:23:19.879846",
          "2024-05-08T18:23:20.313131",
          "2024-05-08T18:23:20.587775",
          "2024-05-08T18:23:20.941237",
          "2024-05-08T18:23:21.244100",
          "2024-05-08T18:23:21.599020",
          "2024-05-08T18:23:21.825803",
          "2024-05-08T18:23:22.227832",
          "2024-05-08T18:23:22.445585",
          "2024-05-08T18:23:22.800772",
          "2024-05-08T18:23:24.381384",
          "2024-05-08T18:23:24.811239",
          "2024-05-08T18:23:25.097078",
          "2024-05-08T18:23:25.492449",
          "2024-05-08T18:23:25.760559",
          "2024-05-08T18:23:26.256194",
          "2024-05-08T18:23:26.579171",
          "2024-05-08T18:23:26.917598",
          "2024-05-08T18:23:27.161503",
          "2024-05-08T18:23:27.495970",
          "2024-05-08T18:23:27.761481",
          "2024-05-08T18:23:28.169995",
          "2024-05-08T18:23:28.394231",
          "2024-05-08T18:23:28.748075",
          "2024-05-08T18:23:29.094757",
          "2024-05-08T18:23:29.795799",
          "2024-05-08T18:23:30.193401",
          "2024-05-08T18:23:30.668186",
          "2024-05-08T18:23:30.922521",
          "2024-05-08T18:23:31.303395",
          "2024-05-08T18:23:33.026630",
          "2024-05-08T18:23:33.425202",
          "2024-05-08T18:23:33.719254",
          "2024-05-08T18:23:34.195653",
          "2024-05-08T18:23:34.468973",
          "2024-05-08T18:23:34.822340",
          "2024-05-08T18:23:35.076705",
          "2024-05-08T18:23:35.420645",
          "2024-05-08T18:23:35.722930",
          "2024-05-08T18:23:36.079920",
          "2024-05-08T18:23:36.365896",
          "2024-05-08T18:23:36.702954",
          "2024-05-08T18:23:36.938035",
          "2024-05-08T18:23:37.272608",
          "2024-05-08T18:23:37.519889",
          "2024-05-08T18:23:37.867489",
          "2024-05-08T18:23:38.097790",
          "2024-05-08T18:23:38.517010",
          "2024-05-08T18:23:38.785589",
          "2024-05-08T18:23:39.233463",
          "2024-05-08T18:23:41.323662",
          "2024-05-08T18:23:41.680194",
          "2024-05-08T18:23:41.947855",
          "2024-05-08T18:23:42.420156",
          "2024-05-08T18:23:42.740082",
          "2024-05-08T18:23:43.135053",
          "2024-05-08T18:23:43.414046",
          "2024-05-08T18:23:43.767359",
          "2024-05-08T18:23:44.064765",
          "2024-05-08T18:23:44.407579",
          "2024-05-08T18:23:44.651405",
          "2024-05-08T18:23:45.020245",
          "2024-05-08T18:23:45.327081",
          "2024-05-08T18:23:45.667113",
          "2024-05-08T18:23:45.980808",
          "2024-05-08T18:23:46.301485",
          "2024-05-08T18:23:46.541394",
          "2024-05-08T18:23:46.882779",
          "2024-05-08T18:23:47.116383",
          "2024-05-08T18:23:47.502784",
          "2024-05-08T18:23:49.272559"
         ],
         "xaxis": "x",
         "y": [
          1.3895362615585327,
          0.5874818563461304,
          0.49471157789230347,
          0.11746883392333984,
          0.1781531423330307,
          0.0032517758663743734,
          0.01839148811995983,
          0.34632018208503723,
          0.2030412256717682,
          0.012667163275182247,
          0.6252251863479614,
          0.10051488876342773,
          1.237365961074829,
          0.048155851662158966,
          0.34474366903305054,
          0.0016482194187119603,
          0.08052562177181244,
          0.009796157479286194,
          0.23604969680309296,
          0.00494008231908083,
          0.9088440537452698,
          0.1780397742986679,
          1.0688972473144531,
          0.06842910498380661,
          0.13381297886371613,
          0.007577625568956137,
          0.012498392723500729,
          0.012227145954966545,
          0.04750960320234299,
          0.002754285465925932,
          0.06904889643192291,
          0.00153839320410043,
          0.013043452054262161,
          0.0013809078373014927,
          0.09605111926794052,
          0.0005235061980783939,
          0.1908625066280365,
          0.01839609071612358,
          0.19485601782798767,
          0.00005557163240155205,
          0.1380995512008667,
          0.002108185552060604,
          1.4490625858306885,
          0.2262098342180252,
          0.5316137671470642,
          0.0044915028847754,
          0.07056019455194473,
          0.008772166445851326,
          0.2172849029302597,
          0.036651402711868286,
          0.4912624955177307,
          0.11496709287166595,
          0.39236849546432495,
          0.2118074744939804,
          1.004162311553955,
          0.127205029129982,
          0.32435429096221924,
          0.07854299992322922,
          0.34753847122192383,
          0.1849311888217926,
          0.1753026843070984,
          0.018946971744298935,
          0.17258107662200928,
          0.12292081862688065,
          0.7199651598930359,
          0.06629759073257446,
          0.15567360818386078,
          0.03185276314616203,
          0.22596397995948792,
          0.06002391129732132,
          0.07438746094703674,
          0.028853286057710648,
          0.3169441819190979,
          0.016160685569047928,
          0.3863743841648102,
          0.3976053297519684,
          0.8047072887420654,
          0.5262219905853271,
          0.5668757557868958,
          0.06322421878576279,
          0.780634343624115,
          0.4058564305305481,
          0.2142944633960724,
          0.049811139702796936,
          0.08090698719024658,
          0.22987359762191772,
          0.148152157664299,
          0.020783454179763794,
          0.12541700899600983,
          0.014524097554385662,
          0.5902146697044373,
          0.44659993052482605,
          0.47349172830581665,
          0.1335146427154541,
          1.3501813411712646,
          0.4950029253959656,
          0.8338389992713928,
          0.22271233797073364,
          0.7866700887680054,
          0.1452866792678833,
          0.794525146484375,
          0.1567567139863968,
          0.892071545124054,
          0.12544694542884827,
          1.2179158926010132,
          0.1979120373725891,
          0.4276376962661743,
          0.09435765445232391,
          0.5157521367073059,
          0.05839955061674118,
          0.24933698773384094,
          0.09060505032539368,
          0.6427245140075684,
          0.07428617775440216,
          3.383150100708008,
          0.47461044788360596,
          1.3289289474487305,
          0.19459472596645355,
          1.179048776626587,
          0.29412686824798584,
          0.21306850016117096,
          0.037543267011642456,
          0.4402589201927185
         ],
         "yaxis": "y"
        },
        {
         "hovertemplate": "name=worker_6<br>start_time=%{x}<br>d_total_loss=%{y}<extra></extra>",
         "legendgroup": "worker_6",
         "line": {
          "color": "#19d3f3",
          "dash": "solid"
         },
         "marker": {
          "symbol": "circle"
         },
         "mode": "lines",
         "name": "worker_6",
         "showlegend": true,
         "type": "scattergl",
         "x": [
          "2024-05-08T18:22:58.397181",
          "2024-05-08T18:22:58.854173",
          "2024-05-08T18:23:00.400063",
          "2024-05-08T18:23:00.744034",
          "2024-05-08T18:23:00.955136",
          "2024-05-08T18:23:01.332103",
          "2024-05-08T18:23:01.631858",
          "2024-05-08T18:23:01.987084",
          "2024-05-08T18:23:02.204607",
          "2024-05-08T18:23:02.683243",
          "2024-05-08T18:23:02.932245",
          "2024-05-08T18:23:03.316738",
          "2024-05-08T18:23:03.540378",
          "2024-05-08T18:23:03.928689",
          "2024-05-08T18:23:04.163632",
          "2024-05-08T18:23:04.615676",
          "2024-05-08T18:23:04.859415",
          "2024-05-08T18:23:05.207481",
          "2024-05-08T18:23:05.471481",
          "2024-05-08T18:23:06.219966",
          "2024-05-08T18:23:06.591434",
          "2024-05-08T18:23:07.037674",
          "2024-05-08T18:23:08.769050",
          "2024-05-08T18:23:09.162563",
          "2024-05-08T18:23:09.404048",
          "2024-05-08T18:23:09.780589",
          "2024-05-08T18:23:10.044651",
          "2024-05-08T18:23:10.377984",
          "2024-05-08T18:23:10.619876",
          "2024-05-08T18:23:10.997534",
          "2024-05-08T18:23:11.263531",
          "2024-05-08T18:23:11.660512",
          "2024-05-08T18:23:11.920549",
          "2024-05-08T18:23:12.290961",
          "2024-05-08T18:23:12.637696",
          "2024-05-08T18:23:13.001483",
          "2024-05-08T18:23:13.293786",
          "2024-05-08T18:23:13.681025",
          "2024-05-08T18:23:13.949822",
          "2024-05-08T18:23:14.315215",
          "2024-05-08T18:23:14.561869",
          "2024-05-08T18:23:15.001284",
          "2024-05-08T18:23:16.637959",
          "2024-05-08T18:23:16.995323",
          "2024-05-08T18:23:17.287637",
          "2024-05-08T18:23:17.701657",
          "2024-05-08T18:23:17.982043",
          "2024-05-08T18:23:18.332436",
          "2024-05-08T18:23:18.550833",
          "2024-05-08T18:23:18.882205",
          "2024-05-08T18:23:19.110530",
          "2024-05-08T18:23:19.551979",
          "2024-05-08T18:23:19.883764",
          "2024-05-08T18:23:20.310848",
          "2024-05-08T18:23:20.591799",
          "2024-05-08T18:23:20.941643",
          "2024-05-08T18:23:21.248231",
          "2024-05-08T18:23:21.598088",
          "2024-05-08T18:23:21.829545",
          "2024-05-08T18:23:22.202788",
          "2024-05-08T18:23:22.449167",
          "2024-05-08T18:23:22.784688",
          "2024-05-08T18:23:24.385829",
          "2024-05-08T18:23:24.792947",
          "2024-05-08T18:23:25.101425",
          "2024-05-08T18:23:25.498346",
          "2024-05-08T18:23:25.770448",
          "2024-05-08T18:23:26.253331",
          "2024-05-08T18:23:26.583148",
          "2024-05-08T18:23:26.915747",
          "2024-05-08T18:23:27.166386",
          "2024-05-08T18:23:27.517914",
          "2024-05-08T18:23:27.764602",
          "2024-05-08T18:23:28.169278",
          "2024-05-08T18:23:28.398288",
          "2024-05-08T18:23:28.771247",
          "2024-05-08T18:23:29.101765",
          "2024-05-08T18:23:29.779690",
          "2024-05-08T18:23:30.201117",
          "2024-05-08T18:23:30.668627",
          "2024-05-08T18:23:30.927524",
          "2024-05-08T18:23:31.309591",
          "2024-05-08T18:23:33.029518",
          "2024-05-08T18:23:33.425202",
          "2024-05-08T18:23:33.724392",
          "2024-05-08T18:23:34.187998",
          "2024-05-08T18:23:34.472681",
          "2024-05-08T18:23:34.828597",
          "2024-05-08T18:23:35.080277",
          "2024-05-08T18:23:35.434617",
          "2024-05-08T18:23:35.726501",
          "2024-05-08T18:23:36.090190",
          "2024-05-08T18:23:36.369950",
          "2024-05-08T18:23:36.725978",
          "2024-05-08T18:23:36.942149",
          "2024-05-08T18:23:37.272983",
          "2024-05-08T18:23:37.523387",
          "2024-05-08T18:23:37.865698",
          "2024-05-08T18:23:38.101938",
          "2024-05-08T18:23:38.532618",
          "2024-05-08T18:23:38.788425",
          "2024-05-08T18:23:39.258514",
          "2024-05-08T18:23:41.329362",
          "2024-05-08T18:23:41.689005",
          "2024-05-08T18:23:41.951540",
          "2024-05-08T18:23:42.410608",
          "2024-05-08T18:23:42.744389",
          "2024-05-08T18:23:43.130960",
          "2024-05-08T18:23:43.417591",
          "2024-05-08T18:23:43.763535",
          "2024-05-08T18:23:44.069343",
          "2024-05-08T18:23:44.406245",
          "2024-05-08T18:23:44.657110",
          "2024-05-08T18:23:45.070477",
          "2024-05-08T18:23:45.331434",
          "2024-05-08T18:23:45.689227",
          "2024-05-08T18:23:45.984187",
          "2024-05-08T18:23:46.317055",
          "2024-05-08T18:23:46.544615",
          "2024-05-08T18:23:46.889568",
          "2024-05-08T18:23:47.121665",
          "2024-05-08T18:23:47.499444",
          "2024-05-08T18:23:49.277791"
         ],
         "xaxis": "x",
         "y": [
          1.3897252082824707,
          0.539027750492096,
          0.5699769854545593,
          0.037149712443351746,
          0.07277268171310425,
          0.0009039881406351924,
          0.05237811803817749,
          0.002495323773473501,
          0.7879350781440735,
          0.02560720592737198,
          1.4743828773498535,
          0.44598373770713806,
          1.3288875818252563,
          0.06532140076160431,
          0.39951393008232117,
          0.0138056930154562,
          0.11648517847061157,
          0.005175342317670584,
          0.49582138657569885,
          0.03467675670981407,
          1.5060285329818726,
          0.1753654032945633,
          0.8097800612449646,
          0.18629778921604156,
          0.48750707507133484,
          0.0882781594991684,
          0.26823174953460693,
          0.019785281270742416,
          0.10720932483673096,
          0.023119378834962845,
          0.024178534746170044,
          0.016598975285887718,
          0.03737350553274155,
          0.013929575681686401,
          0.09081698954105377,
          0.010100391693413258,
          0.02508491277694702,
          0.0038967865984886885,
          0.649261474609375,
          0.027050958946347237,
          0.3372698426246643,
          0.005127407610416412,
          0.5332134962081909,
          0.2336001992225647,
          0.5890212059020996,
          0.0020651831291615963,
          0.07662086933851242,
          0.017165351659059525,
          0.2325650155544281,
          0.10072557628154755,
          0.5821475386619568,
          0.024964749813079834,
          0.44949620962142944,
          0.12703126668930054,
          0.14075028896331787,
          0.030467405915260315,
          0.4066445529460907,
          0.10838381946086884,
          0.3448454439640045,
          0.07709759473800659,
          0.2889283299446106,
          0.013384376652538776,
          0.02630167081952095,
          0.08186189085245132,
          0.02813684567809105,
          0.00172423105686903,
          0.29236650466918945,
          0.6052756905555725,
          0.3687105178833008,
          0.14516939222812653,
          1.2531607151031494,
          0.2190755158662796,
          0.6317685842514038,
          0.28915226459503174,
          0.5783119201660156,
          0.1494404673576355,
          1.019049882888794,
          0.10721936076879501,
          0.2639925181865692,
          0.22117580473423004,
          0.2983956038951874,
          0.026007279753684998,
          0.22306513786315918,
          0.021953122690320015,
          0.25468870997428894,
          0.14376039803028107,
          1.115187644958496,
          0.11654151231050491,
          0.8606598377227783,
          0.1185818538069725,
          0.4586009383201599,
          0.6254963278770447,
          0.8351098895072937,
          0.10814503580331802,
          0.4453902244567871,
          0.6631450057029724,
          1.556422472000122,
          0.4960930347442627,
          0.6779577732086182,
          0.19578945636749268,
          0.8168699145317078,
          0.061403289437294006,
          1.2440060377120972,
          0.10753779858350754,
          0.19959785044193268,
          0.7478745579719543,
          1.992631196975708,
          0.32422640919685364,
          1.1773980855941772,
          0.36911875009536743,
          0.5538284182548523,
          0.14164486527442932,
          1.6257660388946533,
          0.20112928748130798,
          0.43909987807273865,
          0.29822421073913574,
          2.5624237060546875,
          1.0562636852264404,
          0.5330895781517029,
          0.6575849652290344,
          0.768868625164032,
          0.25811851024627686,
          0.24351774156093597
         ],
         "yaxis": "y"
        },
        {
         "hovertemplate": "name=worker_7<br>start_time=%{x}<br>d_total_loss=%{y}<extra></extra>",
         "legendgroup": "worker_7",
         "line": {
          "color": "#FF6692",
          "dash": "solid"
         },
         "marker": {
          "symbol": "circle"
         },
         "mode": "lines",
         "name": "worker_7",
         "showlegend": true,
         "type": "scattergl",
         "x": [
          "2024-05-08T18:22:58.405133",
          "2024-05-08T18:22:58.808164",
          "2024-05-08T18:23:00.407461",
          "2024-05-08T18:23:00.743941",
          "2024-05-08T18:23:00.958597",
          "2024-05-08T18:23:01.342565",
          "2024-05-08T18:23:01.635808",
          "2024-05-08T18:23:01.979552",
          "2024-05-08T18:23:02.209357",
          "2024-05-08T18:23:02.652852",
          "2024-05-08T18:23:02.937014",
          "2024-05-08T18:23:03.272371",
          "2024-05-08T18:23:03.545027",
          "2024-05-08T18:23:03.887909",
          "2024-05-08T18:23:04.168468",
          "2024-05-08T18:23:04.595472",
          "2024-05-08T18:23:04.864212",
          "2024-05-08T18:23:05.215477",
          "2024-05-08T18:23:05.475608",
          "2024-05-08T18:23:06.237466",
          "2024-05-08T18:23:06.595718",
          "2024-05-08T18:23:07.020686",
          "2024-05-08T18:23:08.772805",
          "2024-05-08T18:23:09.152429",
          "2024-05-08T18:23:09.407358",
          "2024-05-08T18:23:09.780523",
          "2024-05-08T18:23:10.048640",
          "2024-05-08T18:23:10.396466",
          "2024-05-08T18:23:10.623467",
          "2024-05-08T18:23:11.002555",
          "2024-05-08T18:23:11.268665",
          "2024-05-08T18:23:11.663823",
          "2024-05-08T18:23:11.924733",
          "2024-05-08T18:23:12.295472",
          "2024-05-08T18:23:12.641648",
          "2024-05-08T18:23:12.995362",
          "2024-05-08T18:23:13.298392",
          "2024-05-08T18:23:13.685252",
          "2024-05-08T18:23:13.954922",
          "2024-05-08T18:23:14.318548",
          "2024-05-08T18:23:14.566195",
          "2024-05-08T18:23:14.974230",
          "2024-05-08T18:23:16.640882",
          "2024-05-08T18:23:17.001274",
          "2024-05-08T18:23:17.294607",
          "2024-05-08T18:23:17.708742",
          "2024-05-08T18:23:17.987373",
          "2024-05-08T18:23:18.343438",
          "2024-05-08T18:23:18.554636",
          "2024-05-08T18:23:18.887993",
          "2024-05-08T18:23:19.113849",
          "2024-05-08T18:23:19.516431",
          "2024-05-08T18:23:19.888745",
          "2024-05-08T18:23:20.370383",
          "2024-05-08T18:23:20.596097",
          "2024-05-08T18:23:20.941097",
          "2024-05-08T18:23:21.251521",
          "2024-05-08T18:23:21.608378",
          "2024-05-08T18:23:21.834117",
          "2024-05-08T18:23:22.225554",
          "2024-05-08T18:23:22.453293",
          "2024-05-08T18:23:22.791312",
          "2024-05-08T18:23:24.389584",
          "2024-05-08T18:23:24.795325",
          "2024-05-08T18:23:25.105674",
          "2024-05-08T18:23:25.493056",
          "2024-05-08T18:23:25.780677",
          "2024-05-08T18:23:26.254265",
          "2024-05-08T18:23:26.587069",
          "2024-05-08T18:23:26.925781",
          "2024-05-08T18:23:27.171294",
          "2024-05-08T18:23:27.527358",
          "2024-05-08T18:23:27.768805",
          "2024-05-08T18:23:28.178293",
          "2024-05-08T18:23:28.402675",
          "2024-05-08T18:23:28.763676",
          "2024-05-08T18:23:29.106382",
          "2024-05-08T18:23:29.801023",
          "2024-05-08T18:23:30.204427",
          "2024-05-08T18:23:30.667813",
          "2024-05-08T18:23:30.930665",
          "2024-05-08T18:23:31.317864",
          "2024-05-08T18:23:33.033656",
          "2024-05-08T18:23:33.428267",
          "2024-05-08T18:23:33.728677",
          "2024-05-08T18:23:34.195681",
          "2024-05-08T18:23:34.476937",
          "2024-05-08T18:23:34.833189",
          "2024-05-08T18:23:35.084980",
          "2024-05-08T18:23:35.430484",
          "2024-05-08T18:23:35.730518",
          "2024-05-08T18:23:36.089421",
          "2024-05-08T18:23:36.375832",
          "2024-05-08T18:23:36.723579",
          "2024-05-08T18:23:36.945797",
          "2024-05-08T18:23:37.282224",
          "2024-05-08T18:23:37.526936",
          "2024-05-08T18:23:37.862370",
          "2024-05-08T18:23:38.107012",
          "2024-05-08T18:23:38.535876",
          "2024-05-08T18:23:38.792350",
          "2024-05-08T18:23:39.368773",
          "2024-05-08T18:23:41.333395",
          "2024-05-08T18:23:41.726456",
          "2024-05-08T18:23:41.954741",
          "2024-05-08T18:23:42.441477",
          "2024-05-08T18:23:42.747720",
          "2024-05-08T18:23:43.122561",
          "2024-05-08T18:23:43.421402",
          "2024-05-08T18:23:43.772813",
          "2024-05-08T18:23:44.073850",
          "2024-05-08T18:23:44.405946",
          "2024-05-08T18:23:44.660792",
          "2024-05-08T18:23:45.069296",
          "2024-05-08T18:23:45.335082",
          "2024-05-08T18:23:45.695375",
          "2024-05-08T18:23:45.988835",
          "2024-05-08T18:23:46.322873",
          "2024-05-08T18:23:46.549038",
          "2024-05-08T18:23:46.887303",
          "2024-05-08T18:23:47.125501",
          "2024-05-08T18:23:47.537459",
          "2024-05-08T18:23:49.283585"
         ],
         "xaxis": "x",
         "y": [
          1.3895752429962158,
          0.3743889331817627,
          0.6168244481086731,
          0.1771736890077591,
          0.25045686960220337,
          0.007512843701988459,
          0.06537895649671555,
          0.0073025901801884174,
          0.2872733771800995,
          0.007379806134849787,
          1.067701816558838,
          0.040271759033203125,
          0.7603769898414612,
          0.01124261412769556,
          0.1251409351825714,
          0.00017276893777307123,
          0.042307354509830475,
          0.006449708249419928,
          1.0499610900878906,
          0.0029849119018763304,
          0.7045008540153503,
          0.030689384788274765,
          0.5828812718391418,
          0.03784598037600517,
          0.40092143416404724,
          0.06660442054271698,
          0.11171486228704453,
          0.005814995151013136,
          0.042111173272132874,
          0.0014129893388599157,
          0.013487832620739937,
          0.002817534375935793,
          0.19734926521778107,
          0.0022762883454561234,
          0.10030604898929596,
          0.0019696259405463934,
          0.02844202145934105,
          0.0014650209341198206,
          0.0653970018029213,
          0.002469293074682355,
          0.907773494720459,
          0.1738635003566742,
          0.8931806683540344,
          0.01748187281191349,
          0.18953850865364075,
          0.0005714690778404474,
          0.11833298951387405,
          0.0068247197195887566,
          0.47125864028930664,
          0.09577954560518265,
          0.42941814661026,
          0.06107748672366142,
          0.3300105333328247,
          0.08148548752069473,
          0.736934244632721,
          0.03153463453054428,
          0.29289817810058594,
          0.49172690510749817,
          1.0846471786499023,
          0.28030580282211304,
          0.5520904660224915,
          0.08229808509349823,
          0.09608662128448486,
          0.028004858642816544,
          0.056526392698287964,
          0.01617187261581421,
          0.017252251505851746,
          0.013571534305810928,
          0.40225279331207275,
          0.5144155621528625,
          1.3162394762039185,
          0.1549208164215088,
          0.685440719127655,
          0.27721139788627625,
          0.43253639340400696,
          0.1292007565498352,
          0.32045695185661316,
          0.17020536959171295,
          0.5875145792961121,
          0.08589351922273636,
          0.13327574729919434,
          0.14788773655891418,
          0.35589340329170227,
          0.055128052830696106,
          0.1530386507511139,
          0.03012246824800968,
          0.06934693455696106,
          0.03727516531944275,
          0.5281533598899841,
          0.04452947899699211,
          0.5696032047271729,
          0.17664304375648499,
          1.0813531875610352,
          0.21996918320655823,
          0.3413069248199463,
          0.019455280154943466,
          0.34232982993125916,
          0.5690635442733765,
          0.5714079737663269,
          0.38589906692504883,
          0.5225025415420532,
          0.2332289218902588,
          0.7901268005371094,
          0.06380386650562286,
          0.25964298844337463,
          0.11436223238706589,
          0.9290504455566406,
          0.09395865350961685,
          0.9932004809379578,
          0.17284956574440002,
          0.4720500707626343,
          0.3264509439468384,
          0.3783826231956482,
          0.6362854838371277,
          1.3641908168792725,
          0.2656092643737793,
          0.8496494889259338,
          0.312818706035614,
          1.5153716802597046,
          0.24926349520683289,
          0.635861873626709,
          0.08505569398403168,
          0.3961023986339569
         ],
         "yaxis": "y"
        },
        {
         "hovertemplate": "name=worker_8<br>start_time=%{x}<br>d_total_loss=%{y}<extra></extra>",
         "legendgroup": "worker_8",
         "line": {
          "color": "#B6E880",
          "dash": "solid"
         },
         "marker": {
          "symbol": "circle"
         },
         "mode": "lines",
         "name": "worker_8",
         "showlegend": true,
         "type": "scattergl",
         "x": [
          "2024-05-08T18:22:58.410250",
          "2024-05-08T18:22:58.777253",
          "2024-05-08T18:23:00.411381",
          "2024-05-08T18:23:00.762232",
          "2024-05-08T18:23:00.985472",
          "2024-05-08T18:23:01.361639",
          "2024-05-08T18:23:01.639847",
          "2024-05-08T18:23:01.990367",
          "2024-05-08T18:23:02.215406",
          "2024-05-08T18:23:02.653089",
          "2024-05-08T18:23:02.940838",
          "2024-05-08T18:23:03.293544",
          "2024-05-08T18:23:03.549229",
          "2024-05-08T18:23:03.887591",
          "2024-05-08T18:23:04.172536",
          "2024-05-08T18:23:04.622071",
          "2024-05-08T18:23:04.868474",
          "2024-05-08T18:23:05.208558",
          "2024-05-08T18:23:05.482729",
          "2024-05-08T18:23:06.251731",
          "2024-05-08T18:23:06.601639",
          "2024-05-08T18:23:07.030192",
          "2024-05-08T18:23:08.776097",
          "2024-05-08T18:23:09.163305",
          "2024-05-08T18:23:09.411350",
          "2024-05-08T18:23:09.780051",
          "2024-05-08T18:23:10.054155",
          "2024-05-08T18:23:10.399963",
          "2024-05-08T18:23:10.627751",
          "2024-05-08T18:23:11.006309",
          "2024-05-08T18:23:11.272836",
          "2024-05-08T18:23:11.673825",
          "2024-05-08T18:23:11.928887",
          "2024-05-08T18:23:12.285790",
          "2024-05-08T18:23:12.647972",
          "2024-05-08T18:23:13.002943",
          "2024-05-08T18:23:13.302189",
          "2024-05-08T18:23:13.677483",
          "2024-05-08T18:23:13.958303",
          "2024-05-08T18:23:14.328300",
          "2024-05-08T18:23:14.571861",
          "2024-05-08T18:23:15.045751",
          "2024-05-08T18:23:16.644705",
          "2024-05-08T18:23:17.008155",
          "2024-05-08T18:23:17.300885",
          "2024-05-08T18:23:17.712304",
          "2024-05-08T18:23:17.991859",
          "2024-05-08T18:23:18.344588",
          "2024-05-08T18:23:18.558766",
          "2024-05-08T18:23:18.900987",
          "2024-05-08T18:23:19.120049",
          "2024-05-08T18:23:19.533020",
          "2024-05-08T18:23:19.894735",
          "2024-05-08T18:23:20.334674",
          "2024-05-08T18:23:20.600231",
          "2024-05-08T18:23:20.952299",
          "2024-05-08T18:23:21.255944",
          "2024-05-08T18:23:21.609539",
          "2024-05-08T18:23:21.837925",
          "2024-05-08T18:23:22.209815",
          "2024-05-08T18:23:22.456719",
          "2024-05-08T18:23:22.822631",
          "2024-05-08T18:23:24.393589",
          "2024-05-08T18:23:24.820696",
          "2024-05-08T18:23:25.109925",
          "2024-05-08T18:23:25.503377",
          "2024-05-08T18:23:25.790935",
          "2024-05-08T18:23:26.265676",
          "2024-05-08T18:23:26.590655",
          "2024-05-08T18:23:26.928300",
          "2024-05-08T18:23:27.176205",
          "2024-05-08T18:23:27.528960",
          "2024-05-08T18:23:27.771888",
          "2024-05-08T18:23:28.171998",
          "2024-05-08T18:23:28.407035",
          "2024-05-08T18:23:28.805552",
          "2024-05-08T18:23:29.111565",
          "2024-05-08T18:23:29.852822",
          "2024-05-08T18:23:30.208501",
          "2024-05-08T18:23:30.678644",
          "2024-05-08T18:23:30.935459",
          "2024-05-08T18:23:31.318044",
          "2024-05-08T18:23:33.039048",
          "2024-05-08T18:23:33.412135",
          "2024-05-08T18:23:33.734011",
          "2024-05-08T18:23:34.211077",
          "2024-05-08T18:23:34.481153",
          "2024-05-08T18:23:34.836009",
          "2024-05-08T18:23:35.088001",
          "2024-05-08T18:23:35.437541",
          "2024-05-08T18:23:35.735147",
          "2024-05-08T18:23:36.098693",
          "2024-05-08T18:23:36.379013",
          "2024-05-08T18:23:36.732419",
          "2024-05-08T18:23:36.950426",
          "2024-05-08T18:23:37.282311",
          "2024-05-08T18:23:37.530178",
          "2024-05-08T18:23:37.877606",
          "2024-05-08T18:23:38.112357",
          "2024-05-08T18:23:38.536849",
          "2024-05-08T18:23:38.797559",
          "2024-05-08T18:23:39.249570",
          "2024-05-08T18:23:41.336554",
          "2024-05-08T18:23:41.701721",
          "2024-05-08T18:23:41.959185",
          "2024-05-08T18:23:42.442177",
          "2024-05-08T18:23:42.751759",
          "2024-05-08T18:23:43.139873",
          "2024-05-08T18:23:43.424731",
          "2024-05-08T18:23:43.780261",
          "2024-05-08T18:23:44.079366",
          "2024-05-08T18:23:44.413882",
          "2024-05-08T18:23:44.664222",
          "2024-05-08T18:23:45.093618",
          "2024-05-08T18:23:45.338200",
          "2024-05-08T18:23:45.703117",
          "2024-05-08T18:23:45.992477",
          "2024-05-08T18:23:46.316922",
          "2024-05-08T18:23:46.552942",
          "2024-05-08T18:23:46.896955",
          "2024-05-08T18:23:47.129813",
          "2024-05-08T18:23:47.510352",
          "2024-05-08T18:23:49.287567"
         ],
         "xaxis": "x",
         "y": [
          1.3689069747924805,
          0.49612459540367126,
          0.6069953441619873,
          0.10127922892570496,
          0.1444876790046692,
          0.003785011824220419,
          0.017824292182922363,
          0.0008738490869291127,
          0.13300947844982147,
          0.004712316673249006,
          1.9041846990585327,
          0.14745569229125977,
          0.7574361562728882,
          0.05402778834104538,
          0.24566523730754852,
          0.003883506404235959,
          0.1550101637840271,
          0.01154100801795721,
          0.684528112411499,
          0.03522830083966255,
          2.294569969177246,
          0.13918504118919373,
          0.5089635252952576,
          0.03798200935125351,
          0.09001660346984863,
          0.02587226592004299,
          0.28893154859542847,
          0.09122622758150101,
          0.17219482362270355,
          0.007663390599191189,
          0.05189620703458786,
          0.0023780574556440115,
          0.020703600719571114,
          0.0025884003844112158,
          0.03800462558865547,
          0.0031716078519821167,
          0.07179774343967438,
          0.0046296315267682076,
          0.4672151803970337,
          0.38585665822029114,
          0.31380707025527954,
          0.07968208938837051,
          0.2807252109050751,
          0.084107905626297,
          0.7286151647567749,
          0.007758790627121925,
          0.045972518622875214,
          0.2904398441314697,
          1.0142638683319092,
          0.027955682948231697,
          0.14023953676223755,
          0.03847287595272064,
          0.25478923320770264,
          0.06242390722036362,
          0.17986197769641876,
          0.03717786446213722,
          0.23572316765785217,
          0.7962340116500854,
          1.1838022470474243,
          0.5275753736495972,
          0.5677557587623596,
          0.33279991149902344,
          0.5811582803726196,
          0.14747032523155212,
          0.14098328351974487,
          0.05070808529853821,
          0.15582410991191864,
          0.03428512066602707,
          0.04767775163054466,
          0.035273998975753784,
          0.4744616746902466,
          0.3729207515716553,
          0.7365313768386841,
          0.18385416269302368,
          0.5004423260688782,
          0.17598417401313782,
          0.3030979633331299,
          0.10188792645931244,
          0.412081241607666,
          0.17504280805587769,
          0.24044960737228394,
          0.29103392362594604,
          0.5148226022720337,
          0.03473878651857376,
          0.1957588791847229,
          0.082698754966259,
          0.3281865417957306,
          0.16112260520458221,
          0.8240364193916321,
          0.4187828302383423,
          0.7714898586273193,
          0.15448564291000366,
          0.6708614230155945,
          0.157126784324646,
          0.8871514797210693,
          0.25534379482269287,
          1.928061842918396,
          0.3000304102897644,
          0.46854591369628906,
          0.25977227091789246,
          0.7460016012191772,
          0.07360073179006577,
          0.4655415713787079,
          0.10364735126495361,
          0.5275949835777283,
          0.06838390231132507,
          0.3046528995037079,
          0.36133790016174316,
          2.9204213619232178,
          0.42495429515838623,
          0.9825781583786011,
          0.6520499587059021,
          1.1290719509124756,
          0.4206322431564331,
          0.6973049640655518,
          0.14780274033546448,
          0.5237784385681152,
          0.09423041343688965,
          0.21246498823165894,
          0.10887210071086884,
          0.486619234085083,
          0.08614026755094528,
          0.8305220603942871
         ],
         "yaxis": "y"
        },
        {
         "hovertemplate": "name=worker_9<br>start_time=%{x}<br>d_total_loss=%{y}<extra></extra>",
         "legendgroup": "worker_9",
         "line": {
          "color": "#FF97FF",
          "dash": "solid"
         },
         "marker": {
          "symbol": "circle"
         },
         "mode": "lines",
         "name": "worker_9",
         "showlegend": true,
         "type": "scattergl",
         "x": [
          "2024-05-08T18:22:58.416568",
          "2024-05-08T18:22:58.821619",
          "2024-05-08T18:23:00.415443",
          "2024-05-08T18:23:00.758270",
          "2024-05-08T18:23:01.006341",
          "2024-05-08T18:23:01.352299",
          "2024-05-08T18:23:01.643687",
          "2024-05-08T18:23:01.981631",
          "2024-05-08T18:23:02.223012",
          "2024-05-08T18:23:02.661417",
          "2024-05-08T18:23:02.944899",
          "2024-05-08T18:23:03.300189",
          "2024-05-08T18:23:03.555567",
          "2024-05-08T18:23:03.923541",
          "2024-05-08T18:23:04.177016",
          "2024-05-08T18:23:04.612128",
          "2024-05-08T18:23:04.872405",
          "2024-05-08T18:23:05.221573",
          "2024-05-08T18:23:05.488681",
          "2024-05-08T18:23:06.250897",
          "2024-05-08T18:23:06.609009",
          "2024-05-08T18:23:07.019763",
          "2024-05-08T18:23:08.780061",
          "2024-05-08T18:23:09.165648",
          "2024-05-08T18:23:09.421674",
          "2024-05-08T18:23:09.796051",
          "2024-05-08T18:23:10.061043",
          "2024-05-08T18:23:10.408277",
          "2024-05-08T18:23:10.632328",
          "2024-05-08T18:23:11.017378",
          "2024-05-08T18:23:11.276254",
          "2024-05-08T18:23:11.682261",
          "2024-05-08T18:23:11.932450",
          "2024-05-08T18:23:12.310021",
          "2024-05-08T18:23:12.652016",
          "2024-05-08T18:23:13.004516",
          "2024-05-08T18:23:13.309073",
          "2024-05-08T18:23:13.676863",
          "2024-05-08T18:23:13.961768",
          "2024-05-08T18:23:14.333189",
          "2024-05-08T18:23:14.576313",
          "2024-05-08T18:23:15.002229",
          "2024-05-08T18:23:16.648275",
          "2024-05-08T18:23:17.007956",
          "2024-05-08T18:23:17.305474",
          "2024-05-08T18:23:17.703665",
          "2024-05-08T18:23:17.996859",
          "2024-05-08T18:23:18.339325",
          "2024-05-08T18:23:18.562319",
          "2024-05-08T18:23:18.896564",
          "2024-05-08T18:23:19.123838",
          "2024-05-08T18:23:19.571958",
          "2024-05-08T18:23:19.901123",
          "2024-05-08T18:23:20.345703",
          "2024-05-08T18:23:20.604406",
          "2024-05-08T18:23:20.971256",
          "2024-05-08T18:23:21.261512",
          "2024-05-08T18:23:21.624085",
          "2024-05-08T18:23:21.841815",
          "2024-05-08T18:23:22.225635",
          "2024-05-08T18:23:22.461007",
          "2024-05-08T18:23:22.793966",
          "2024-05-08T18:23:24.396789",
          "2024-05-08T18:23:24.829525",
          "2024-05-08T18:23:25.113543",
          "2024-05-08T18:23:25.506108",
          "2024-05-08T18:23:25.795701",
          "2024-05-08T18:23:26.264586",
          "2024-05-08T18:23:26.596184",
          "2024-05-08T18:23:26.930808",
          "2024-05-08T18:23:27.180611",
          "2024-05-08T18:23:27.536545",
          "2024-05-08T18:23:27.776700",
          "2024-05-08T18:23:28.186297",
          "2024-05-08T18:23:28.411522",
          "2024-05-08T18:23:28.779981",
          "2024-05-08T18:23:29.115710",
          "2024-05-08T18:23:29.811212",
          "2024-05-08T18:23:30.213402",
          "2024-05-08T18:23:30.669281",
          "2024-05-08T18:23:30.938532",
          "2024-05-08T18:23:31.318057",
          "2024-05-08T18:23:33.046213",
          "2024-05-08T18:23:33.428815",
          "2024-05-08T18:23:33.738247",
          "2024-05-08T18:23:34.191763",
          "2024-05-08T18:23:34.486168",
          "2024-05-08T18:23:34.838618",
          "2024-05-08T18:23:35.093693",
          "2024-05-08T18:23:35.475418",
          "2024-05-08T18:23:35.740443",
          "2024-05-08T18:23:36.112997",
          "2024-05-08T18:23:36.383976",
          "2024-05-08T18:23:36.723006",
          "2024-05-08T18:23:36.954839",
          "2024-05-08T18:23:37.283456",
          "2024-05-08T18:23:37.535938",
          "2024-05-08T18:23:37.899887",
          "2024-05-08T18:23:38.116096",
          "2024-05-08T18:23:38.536886",
          "2024-05-08T18:23:38.801985",
          "2024-05-08T18:23:39.333194",
          "2024-05-08T18:23:41.340898",
          "2024-05-08T18:23:41.725401",
          "2024-05-08T18:23:41.964639",
          "2024-05-08T18:23:42.428336",
          "2024-05-08T18:23:42.756063",
          "2024-05-08T18:23:43.153412",
          "2024-05-08T18:23:43.430765",
          "2024-05-08T18:23:43.778549",
          "2024-05-08T18:23:44.084344",
          "2024-05-08T18:23:44.416047",
          "2024-05-08T18:23:44.668212",
          "2024-05-08T18:23:45.036162",
          "2024-05-08T18:23:45.344099",
          "2024-05-08T18:23:45.688513",
          "2024-05-08T18:23:45.999994",
          "2024-05-08T18:23:46.333436",
          "2024-05-08T18:23:46.557562",
          "2024-05-08T18:23:46.896328",
          "2024-05-08T18:23:47.158141",
          "2024-05-08T18:23:47.510977",
          "2024-05-08T18:23:49.292518"
         ],
         "xaxis": "x",
         "y": [
          1.3805198669433594,
          0.4269295930862427,
          0.475309818983078,
          0.06776697933673859,
          0.10996641963720322,
          0.0023685453925281763,
          0.023602893576025963,
          0.0011003853287547827,
          0.36270418763160706,
          0.012352298945188522,
          1.0709725618362427,
          0.009809996001422405,
          0.6283062696456909,
          0.0009332220652140677,
          0.01938396878540516,
          0.0014428013237193227,
          0.22417277097702026,
          0.004724579397588968,
          0.7458512783050537,
          0.010033098980784416,
          0.3875816762447357,
          0.06307974457740784,
          0.1852419525384903,
          0.02232399210333824,
          0.5117946863174438,
          0.00748613104224205,
          0.03371984511613846,
          0.012953492812812328,
          0.052088331431150436,
          0.09350349009037018,
          0.0451027974486351,
          0.001294568763114512,
          0.08989616483449936,
          0.001467567402869463,
          0.0009983860654756427,
          0.0001694884558673948,
          0.01791294850409031,
          0.00019606866408139467,
          0.8632789850234985,
          0.4489598274230957,
          1.6274315118789673,
          0.005656600464135408,
          1.1617741584777832,
          0.04744487255811691,
          0.17103441059589386,
          0.01337460707873106,
          0.4231630563735962,
          0.01881762593984604,
          0.5308496356010437,
          0.05369723588228226,
          1.5731000900268555,
          0.12025537341833115,
          1.2959750890731812,
          0.07860840857028961,
          0.5340569019317627,
          0.1571284830570221,
          0.42366302013397217,
          0.28826722502708435,
          0.5979912877082825,
          0.15555259585380554,
          0.2774215638637543,
          0.22117429971694946,
          0.22997333109378815,
          0.04674958437681198,
          0.17143721878528595,
          0.054373715072870255,
          0.1461779624223709,
          0.010009519755840302,
          0.021963968873023987,
          0.08577322959899902,
          0.06809256970882416,
          0.13717596232891083,
          0.3313787579536438,
          0.14434213936328888,
          0.46247783303260803,
          0.14398916065692902,
          0.4260362386703491,
          0.5523158311843872,
          0.4596092104911804,
          0.09094052016735077,
          0.9085603356361389,
          0.07874394953250885,
          0.2988049387931824,
          0.03897586464881897,
          0.034146711230278015,
          0.009757409803569317,
          0.6726062893867493,
          0.06190665811300278,
          0.8917863368988037,
          0.18698236346244812,
          0.4129793345928192,
          0.09618929773569107,
          0.2818821966648102,
          0.5159301161766052,
          1.572243094444275,
          0.13738125562667847,
          0.36268702149391174,
          0.06843654811382294,
          0.265831857919693,
          0.6525325775146484,
          0.7330930233001709,
          0.17815271019935608,
          0.2393771857023239,
          0.017321117222309113,
          1.6309382915496826,
          0.09296183288097382,
          0.667047381401062,
          0.2724137306213379,
          1.8747210502624512,
          0.4346154034137726,
          0.6149795055389404,
          0.5590166449546814,
          2.1813812255859375,
          0.9419866800308228,
          1.0766595602035522,
          0.7712100744247437,
          1.4482026100158691,
          0.885254979133606,
          0.8259875774383545,
          0.2958793044090271,
          0.6436835527420044,
          0.3884091377258301,
          0.592719554901123
         ],
         "yaxis": "y"
        }
       ],
       "layout": {
        "legend": {
         "title": {
          "text": "name"
         },
         "tracegroupgap": 0
        },
        "template": {
         "data": {
          "bar": [
           {
            "error_x": {
             "color": "#2a3f5f"
            },
            "error_y": {
             "color": "#2a3f5f"
            },
            "marker": {
             "line": {
              "color": "white",
              "width": 0.5
             },
             "pattern": {
              "fillmode": "overlay",
              "size": 10,
              "solidity": 0.2
             }
            },
            "type": "bar"
           }
          ],
          "barpolar": [
           {
            "marker": {
             "line": {
              "color": "white",
              "width": 0.5
             },
             "pattern": {
              "fillmode": "overlay",
              "size": 10,
              "solidity": 0.2
             }
            },
            "type": "barpolar"
           }
          ],
          "carpet": [
           {
            "aaxis": {
             "endlinecolor": "#2a3f5f",
             "gridcolor": "#C8D4E3",
             "linecolor": "#C8D4E3",
             "minorgridcolor": "#C8D4E3",
             "startlinecolor": "#2a3f5f"
            },
            "baxis": {
             "endlinecolor": "#2a3f5f",
             "gridcolor": "#C8D4E3",
             "linecolor": "#C8D4E3",
             "minorgridcolor": "#C8D4E3",
             "startlinecolor": "#2a3f5f"
            },
            "type": "carpet"
           }
          ],
          "choropleth": [
           {
            "colorbar": {
             "outlinewidth": 0,
             "ticks": ""
            },
            "type": "choropleth"
           }
          ],
          "contour": [
           {
            "colorbar": {
             "outlinewidth": 0,
             "ticks": ""
            },
            "colorscale": [
             [
              0,
              "#0d0887"
             ],
             [
              0.1111111111111111,
              "#46039f"
             ],
             [
              0.2222222222222222,
              "#7201a8"
             ],
             [
              0.3333333333333333,
              "#9c179e"
             ],
             [
              0.4444444444444444,
              "#bd3786"
             ],
             [
              0.5555555555555556,
              "#d8576b"
             ],
             [
              0.6666666666666666,
              "#ed7953"
             ],
             [
              0.7777777777777778,
              "#fb9f3a"
             ],
             [
              0.8888888888888888,
              "#fdca26"
             ],
             [
              1,
              "#f0f921"
             ]
            ],
            "type": "contour"
           }
          ],
          "contourcarpet": [
           {
            "colorbar": {
             "outlinewidth": 0,
             "ticks": ""
            },
            "type": "contourcarpet"
           }
          ],
          "heatmap": [
           {
            "colorbar": {
             "outlinewidth": 0,
             "ticks": ""
            },
            "colorscale": [
             [
              0,
              "#0d0887"
             ],
             [
              0.1111111111111111,
              "#46039f"
             ],
             [
              0.2222222222222222,
              "#7201a8"
             ],
             [
              0.3333333333333333,
              "#9c179e"
             ],
             [
              0.4444444444444444,
              "#bd3786"
             ],
             [
              0.5555555555555556,
              "#d8576b"
             ],
             [
              0.6666666666666666,
              "#ed7953"
             ],
             [
              0.7777777777777778,
              "#fb9f3a"
             ],
             [
              0.8888888888888888,
              "#fdca26"
             ],
             [
              1,
              "#f0f921"
             ]
            ],
            "type": "heatmap"
           }
          ],
          "heatmapgl": [
           {
            "colorbar": {
             "outlinewidth": 0,
             "ticks": ""
            },
            "colorscale": [
             [
              0,
              "#0d0887"
             ],
             [
              0.1111111111111111,
              "#46039f"
             ],
             [
              0.2222222222222222,
              "#7201a8"
             ],
             [
              0.3333333333333333,
              "#9c179e"
             ],
             [
              0.4444444444444444,
              "#bd3786"
             ],
             [
              0.5555555555555556,
              "#d8576b"
             ],
             [
              0.6666666666666666,
              "#ed7953"
             ],
             [
              0.7777777777777778,
              "#fb9f3a"
             ],
             [
              0.8888888888888888,
              "#fdca26"
             ],
             [
              1,
              "#f0f921"
             ]
            ],
            "type": "heatmapgl"
           }
          ],
          "histogram": [
           {
            "marker": {
             "pattern": {
              "fillmode": "overlay",
              "size": 10,
              "solidity": 0.2
             }
            },
            "type": "histogram"
           }
          ],
          "histogram2d": [
           {
            "colorbar": {
             "outlinewidth": 0,
             "ticks": ""
            },
            "colorscale": [
             [
              0,
              "#0d0887"
             ],
             [
              0.1111111111111111,
              "#46039f"
             ],
             [
              0.2222222222222222,
              "#7201a8"
             ],
             [
              0.3333333333333333,
              "#9c179e"
             ],
             [
              0.4444444444444444,
              "#bd3786"
             ],
             [
              0.5555555555555556,
              "#d8576b"
             ],
             [
              0.6666666666666666,
              "#ed7953"
             ],
             [
              0.7777777777777778,
              "#fb9f3a"
             ],
             [
              0.8888888888888888,
              "#fdca26"
             ],
             [
              1,
              "#f0f921"
             ]
            ],
            "type": "histogram2d"
           }
          ],
          "histogram2dcontour": [
           {
            "colorbar": {
             "outlinewidth": 0,
             "ticks": ""
            },
            "colorscale": [
             [
              0,
              "#0d0887"
             ],
             [
              0.1111111111111111,
              "#46039f"
             ],
             [
              0.2222222222222222,
              "#7201a8"
             ],
             [
              0.3333333333333333,
              "#9c179e"
             ],
             [
              0.4444444444444444,
              "#bd3786"
             ],
             [
              0.5555555555555556,
              "#d8576b"
             ],
             [
              0.6666666666666666,
              "#ed7953"
             ],
             [
              0.7777777777777778,
              "#fb9f3a"
             ],
             [
              0.8888888888888888,
              "#fdca26"
             ],
             [
              1,
              "#f0f921"
             ]
            ],
            "type": "histogram2dcontour"
           }
          ],
          "mesh3d": [
           {
            "colorbar": {
             "outlinewidth": 0,
             "ticks": ""
            },
            "type": "mesh3d"
           }
          ],
          "parcoords": [
           {
            "line": {
             "colorbar": {
              "outlinewidth": 0,
              "ticks": ""
             }
            },
            "type": "parcoords"
           }
          ],
          "pie": [
           {
            "automargin": true,
            "type": "pie"
           }
          ],
          "scatter": [
           {
            "fillpattern": {
             "fillmode": "overlay",
             "size": 10,
             "solidity": 0.2
            },
            "type": "scatter"
           }
          ],
          "scatter3d": [
           {
            "line": {
             "colorbar": {
              "outlinewidth": 0,
              "ticks": ""
             }
            },
            "marker": {
             "colorbar": {
              "outlinewidth": 0,
              "ticks": ""
             }
            },
            "type": "scatter3d"
           }
          ],
          "scattercarpet": [
           {
            "marker": {
             "colorbar": {
              "outlinewidth": 0,
              "ticks": ""
             }
            },
            "type": "scattercarpet"
           }
          ],
          "scattergeo": [
           {
            "marker": {
             "colorbar": {
              "outlinewidth": 0,
              "ticks": ""
             }
            },
            "type": "scattergeo"
           }
          ],
          "scattergl": [
           {
            "marker": {
             "colorbar": {
              "outlinewidth": 0,
              "ticks": ""
             }
            },
            "type": "scattergl"
           }
          ],
          "scattermapbox": [
           {
            "marker": {
             "colorbar": {
              "outlinewidth": 0,
              "ticks": ""
             }
            },
            "type": "scattermapbox"
           }
          ],
          "scatterpolar": [
           {
            "marker": {
             "colorbar": {
              "outlinewidth": 0,
              "ticks": ""
             }
            },
            "type": "scatterpolar"
           }
          ],
          "scatterpolargl": [
           {
            "marker": {
             "colorbar": {
              "outlinewidth": 0,
              "ticks": ""
             }
            },
            "type": "scatterpolargl"
           }
          ],
          "scatterternary": [
           {
            "marker": {
             "colorbar": {
              "outlinewidth": 0,
              "ticks": ""
             }
            },
            "type": "scatterternary"
           }
          ],
          "surface": [
           {
            "colorbar": {
             "outlinewidth": 0,
             "ticks": ""
            },
            "colorscale": [
             [
              0,
              "#0d0887"
             ],
             [
              0.1111111111111111,
              "#46039f"
             ],
             [
              0.2222222222222222,
              "#7201a8"
             ],
             [
              0.3333333333333333,
              "#9c179e"
             ],
             [
              0.4444444444444444,
              "#bd3786"
             ],
             [
              0.5555555555555556,
              "#d8576b"
             ],
             [
              0.6666666666666666,
              "#ed7953"
             ],
             [
              0.7777777777777778,
              "#fb9f3a"
             ],
             [
              0.8888888888888888,
              "#fdca26"
             ],
             [
              1,
              "#f0f921"
             ]
            ],
            "type": "surface"
           }
          ],
          "table": [
           {
            "cells": {
             "fill": {
              "color": "#EBF0F8"
             },
             "line": {
              "color": "white"
             }
            },
            "header": {
             "fill": {
              "color": "#C8D4E3"
             },
             "line": {
              "color": "white"
             }
            },
            "type": "table"
           }
          ]
         },
         "layout": {
          "annotationdefaults": {
           "arrowcolor": "#2a3f5f",
           "arrowhead": 0,
           "arrowwidth": 1
          },
          "autotypenumbers": "strict",
          "coloraxis": {
           "colorbar": {
            "outlinewidth": 0,
            "ticks": ""
           }
          },
          "colorscale": {
           "diverging": [
            [
             0,
             "#8e0152"
            ],
            [
             0.1,
             "#c51b7d"
            ],
            [
             0.2,
             "#de77ae"
            ],
            [
             0.3,
             "#f1b6da"
            ],
            [
             0.4,
             "#fde0ef"
            ],
            [
             0.5,
             "#f7f7f7"
            ],
            [
             0.6,
             "#e6f5d0"
            ],
            [
             0.7,
             "#b8e186"
            ],
            [
             0.8,
             "#7fbc41"
            ],
            [
             0.9,
             "#4d9221"
            ],
            [
             1,
             "#276419"
            ]
           ],
           "sequential": [
            [
             0,
             "#0d0887"
            ],
            [
             0.1111111111111111,
             "#46039f"
            ],
            [
             0.2222222222222222,
             "#7201a8"
            ],
            [
             0.3333333333333333,
             "#9c179e"
            ],
            [
             0.4444444444444444,
             "#bd3786"
            ],
            [
             0.5555555555555556,
             "#d8576b"
            ],
            [
             0.6666666666666666,
             "#ed7953"
            ],
            [
             0.7777777777777778,
             "#fb9f3a"
            ],
            [
             0.8888888888888888,
             "#fdca26"
            ],
            [
             1,
             "#f0f921"
            ]
           ],
           "sequentialminus": [
            [
             0,
             "#0d0887"
            ],
            [
             0.1111111111111111,
             "#46039f"
            ],
            [
             0.2222222222222222,
             "#7201a8"
            ],
            [
             0.3333333333333333,
             "#9c179e"
            ],
            [
             0.4444444444444444,
             "#bd3786"
            ],
            [
             0.5555555555555556,
             "#d8576b"
            ],
            [
             0.6666666666666666,
             "#ed7953"
            ],
            [
             0.7777777777777778,
             "#fb9f3a"
            ],
            [
             0.8888888888888888,
             "#fdca26"
            ],
            [
             1,
             "#f0f921"
            ]
           ]
          },
          "colorway": [
           "#636efa",
           "#EF553B",
           "#00cc96",
           "#ab63fa",
           "#FFA15A",
           "#19d3f3",
           "#FF6692",
           "#B6E880",
           "#FF97FF",
           "#FECB52"
          ],
          "font": {
           "color": "#2a3f5f"
          },
          "geo": {
           "bgcolor": "white",
           "lakecolor": "white",
           "landcolor": "white",
           "showlakes": true,
           "showland": true,
           "subunitcolor": "#C8D4E3"
          },
          "hoverlabel": {
           "align": "left"
          },
          "hovermode": "closest",
          "mapbox": {
           "style": "light"
          },
          "paper_bgcolor": "white",
          "plot_bgcolor": "white",
          "polar": {
           "angularaxis": {
            "gridcolor": "#EBF0F8",
            "linecolor": "#EBF0F8",
            "ticks": ""
           },
           "bgcolor": "white",
           "radialaxis": {
            "gridcolor": "#EBF0F8",
            "linecolor": "#EBF0F8",
            "ticks": ""
           }
          },
          "scene": {
           "xaxis": {
            "backgroundcolor": "white",
            "gridcolor": "#DFE8F3",
            "gridwidth": 2,
            "linecolor": "#EBF0F8",
            "showbackground": true,
            "ticks": "",
            "zerolinecolor": "#EBF0F8"
           },
           "yaxis": {
            "backgroundcolor": "white",
            "gridcolor": "#DFE8F3",
            "gridwidth": 2,
            "linecolor": "#EBF0F8",
            "showbackground": true,
            "ticks": "",
            "zerolinecolor": "#EBF0F8"
           },
           "zaxis": {
            "backgroundcolor": "white",
            "gridcolor": "#DFE8F3",
            "gridwidth": 2,
            "linecolor": "#EBF0F8",
            "showbackground": true,
            "ticks": "",
            "zerolinecolor": "#EBF0F8"
           }
          },
          "shapedefaults": {
           "line": {
            "color": "#2a3f5f"
           }
          },
          "ternary": {
           "aaxis": {
            "gridcolor": "#DFE8F3",
            "linecolor": "#A2B1C6",
            "ticks": ""
           },
           "baxis": {
            "gridcolor": "#DFE8F3",
            "linecolor": "#A2B1C6",
            "ticks": ""
           },
           "bgcolor": "white",
           "caxis": {
            "gridcolor": "#DFE8F3",
            "linecolor": "#A2B1C6",
            "ticks": ""
           }
          },
          "title": {
           "x": 0.05
          },
          "xaxis": {
           "automargin": true,
           "gridcolor": "#EBF0F8",
           "linecolor": "#EBF0F8",
           "ticks": "",
           "title": {
            "standoff": 15
           },
           "zerolinecolor": "#EBF0F8",
           "zerolinewidth": 2
          },
          "yaxis": {
           "automargin": true,
           "gridcolor": "#EBF0F8",
           "linecolor": "#EBF0F8",
           "ticks": "",
           "title": {
            "standoff": 15
           },
           "zerolinecolor": "#EBF0F8",
           "zerolinewidth": 2
          }
         }
        },
        "title": {
         "text": "Client logs"
        },
        "xaxis": {
         "anchor": "y",
         "domain": [
          0,
          1
         ],
         "title": {
          "text": "start_time"
         }
        },
        "yaxis": {
         "anchor": "x",
         "domain": [
          0,
          1
         ],
         "title": {
          "text": "d_total_loss"
         }
        }
       }
      }
     },
     "metadata": {},
     "output_type": "display_data"
    }
   ],
   "source": [
    "px.line(\n",
    "    clients_df[clients_df[\"name\"].isin(only_workers)],\n",
    "    x=\"start_time\",\n",
    "    y=\"d_total_loss\",\n",
    "    color=\"name\",\n",
    "    title=\"Client logs\",\n",
    "    template=\"plotly_white\"\n",
    ")"
   ]
  },
  {
   "cell_type": "code",
   "execution_count": 11,
   "metadata": {},
   "outputs": [
    {
     "data": {
      "text/html": [
       "<div>\n",
       "<style scoped>\n",
       "    .dataframe tbody tr th:only-of-type {\n",
       "        vertical-align: middle;\n",
       "    }\n",
       "\n",
       "    .dataframe tbody tr th {\n",
       "        vertical-align: top;\n",
       "    }\n",
       "\n",
       "    .dataframe thead th {\n",
       "        text-align: right;\n",
       "    }\n",
       "</style>\n",
       "<table border=\"1\" class=\"dataframe\">\n",
       "  <thead>\n",
       "    <tr style=\"text-align: right;\">\n",
       "      <th></th>\n",
       "      <th>start_time</th>\n",
       "      <th>end_time</th>\n",
       "      <th>name</th>\n",
       "    </tr>\n",
       "  </thead>\n",
       "  <tbody>\n",
       "    <tr>\n",
       "      <th>0</th>\n",
       "      <td>2024-05-08 18:22:58.347687006</td>\n",
       "      <td>2024-05-08 18:22:58.423476934</td>\n",
       "      <td>worker_1</td>\n",
       "    </tr>\n",
       "    <tr>\n",
       "      <th>1</th>\n",
       "      <td>2024-05-08 18:22:58.717782974</td>\n",
       "      <td>2024-05-08 18:22:58.745877981</td>\n",
       "      <td>worker_1</td>\n",
       "    </tr>\n",
       "    <tr>\n",
       "      <th>2</th>\n",
       "      <td>2024-05-08 18:23:00.384159088</td>\n",
       "      <td>2024-05-08 18:23:00.401314974</td>\n",
       "      <td>worker_1</td>\n",
       "    </tr>\n",
       "    <tr>\n",
       "      <th>3</th>\n",
       "      <td>2024-05-08 18:23:00.707416058</td>\n",
       "      <td>2024-05-08 18:23:00.743683100</td>\n",
       "      <td>worker_1</td>\n",
       "    </tr>\n",
       "    <tr>\n",
       "      <th>4</th>\n",
       "      <td>2024-05-08 18:23:00.939895153</td>\n",
       "      <td>2024-05-08 18:23:01.029250145</td>\n",
       "      <td>worker_1</td>\n",
       "    </tr>\n",
       "    <tr>\n",
       "      <th>...</th>\n",
       "      <td>...</td>\n",
       "      <td>...</td>\n",
       "      <td>...</td>\n",
       "    </tr>\n",
       "    <tr>\n",
       "      <th>56</th>\n",
       "      <td>2024-05-08 18:23:44.623459101</td>\n",
       "      <td>2024-05-08 18:23:45.297830820</td>\n",
       "      <td>server</td>\n",
       "    </tr>\n",
       "    <tr>\n",
       "      <th>57</th>\n",
       "      <td>2024-05-08 18:23:45.299354792</td>\n",
       "      <td>2024-05-08 18:23:45.947339058</td>\n",
       "      <td>server</td>\n",
       "    </tr>\n",
       "    <tr>\n",
       "      <th>58</th>\n",
       "      <td>2024-05-08 18:23:45.948833942</td>\n",
       "      <td>2024-05-08 18:23:46.512902975</td>\n",
       "      <td>server</td>\n",
       "    </tr>\n",
       "    <tr>\n",
       "      <th>59</th>\n",
       "      <td>2024-05-08 18:23:46.514379025</td>\n",
       "      <td>2024-05-08 18:23:47.083522081</td>\n",
       "      <td>server</td>\n",
       "    </tr>\n",
       "    <tr>\n",
       "      <th>60</th>\n",
       "      <td>2024-05-08 18:23:47.085274935</td>\n",
       "      <td>2024-05-08 18:23:47.737271070</td>\n",
       "      <td>server</td>\n",
       "    </tr>\n",
       "  </tbody>\n",
       "</table>\n",
       "<p>1848 rows × 3 columns</p>\n",
       "</div>"
      ],
      "text/plain": [
       "                      start_time                      end_time      name\n",
       "0  2024-05-08 18:22:58.347687006 2024-05-08 18:22:58.423476934  worker_1\n",
       "1  2024-05-08 18:22:58.717782974 2024-05-08 18:22:58.745877981  worker_1\n",
       "2  2024-05-08 18:23:00.384159088 2024-05-08 18:23:00.401314974  worker_1\n",
       "3  2024-05-08 18:23:00.707416058 2024-05-08 18:23:00.743683100  worker_1\n",
       "4  2024-05-08 18:23:00.939895153 2024-05-08 18:23:01.029250145  worker_1\n",
       "..                           ...                           ...       ...\n",
       "56 2024-05-08 18:23:44.623459101 2024-05-08 18:23:45.297830820    server\n",
       "57 2024-05-08 18:23:45.299354792 2024-05-08 18:23:45.947339058    server\n",
       "58 2024-05-08 18:23:45.948833942 2024-05-08 18:23:46.512902975    server\n",
       "59 2024-05-08 18:23:46.514379025 2024-05-08 18:23:47.083522081    server\n",
       "60 2024-05-08 18:23:47.085274935 2024-05-08 18:23:47.737271070    server\n",
       "\n",
       "[1848 rows x 3 columns]"
      ]
     },
     "execution_count": 11,
     "metadata": {},
     "output_type": "execute_result"
    }
   ],
   "source": [
    "clients_and_server_df = pd.concat(\n",
    "    [\n",
    "        clients_df[[\"start_time\", \"end_time\", \"name\"]],\n",
    "        server_df[[\"start_time\", \"end_time\", \"name\"]],\n",
    "    ]\n",
    ")\n",
    "clients_and_server_df"
   ]
  },
  {
   "cell_type": "code",
   "execution_count": 12,
   "metadata": {},
   "outputs": [
    {
     "data": {
      "application/vnd.plotly.v1+json": {
       "config": {
        "plotlyServerURL": "https://plot.ly"
       },
       "data": [
        {
         "alignmentgroup": "True",
         "base": [
          "2024-05-08T18:22:58.347687",
          "2024-05-08T18:22:58.717782",
          "2024-05-08T18:23:00.384159",
          "2024-05-08T18:23:00.707416",
          "2024-05-08T18:23:00.939895",
          "2024-05-08T18:23:01.321956",
          "2024-05-08T18:23:01.613843",
          "2024-05-08T18:23:01.953408",
          "2024-05-08T18:23:02.185562",
          "2024-05-08T18:23:02.598364",
          "2024-05-08T18:23:02.915275",
          "2024-05-08T18:23:03.250228",
          "2024-05-08T18:23:03.504767",
          "2024-05-08T18:23:03.854532",
          "2024-05-08T18:23:04.145875",
          "2024-05-08T18:23:04.565932",
          "2024-05-08T18:23:04.844525",
          "2024-05-08T18:23:05.182183",
          "2024-05-08T18:23:05.452247",
          "2024-05-08T18:23:06.189770",
          "2024-05-08T18:23:06.568862",
          "2024-05-08T18:23:06.956365",
          "2024-05-08T18:23:08.751919",
          "2024-05-08T18:23:09.118842",
          "2024-05-08T18:23:09.386346",
          "2024-05-08T18:23:09.740502",
          "2024-05-08T18:23:10.029217",
          "2024-05-08T18:23:10.358952",
          "2024-05-08T18:23:10.601762",
          "2024-05-08T18:23:10.970880",
          "2024-05-08T18:23:11.246391",
          "2024-05-08T18:23:11.630548",
          "2024-05-08T18:23:11.901102",
          "2024-05-08T18:23:12.253477",
          "2024-05-08T18:23:12.621209",
          "2024-05-08T18:23:12.962002",
          "2024-05-08T18:23:13.276089",
          "2024-05-08T18:23:13.635158",
          "2024-05-08T18:23:13.930686",
          "2024-05-08T18:23:14.285012",
          "2024-05-08T18:23:14.541635",
          "2024-05-08T18:23:14.905989",
          "2024-05-08T18:23:16.621664",
          "2024-05-08T18:23:16.969440",
          "2024-05-08T18:23:17.232785",
          "2024-05-08T18:23:17.608146",
          "2024-05-08T18:23:17.963354",
          "2024-05-08T18:23:18.300168",
          "2024-05-08T18:23:18.534999",
          "2024-05-08T18:23:18.865800",
          "2024-05-08T18:23:19.090263",
          "2024-05-08T18:23:19.460916",
          "2024-05-08T18:23:19.865191",
          "2024-05-08T18:23:20.285848",
          "2024-05-08T18:23:20.575109",
          "2024-05-08T18:23:20.924566",
          "2024-05-08T18:23:21.229159",
          "2024-05-08T18:23:21.585987",
          "2024-05-08T18:23:21.811352",
          "2024-05-08T18:23:22.195851",
          "2024-05-08T18:23:22.432766",
          "2024-05-08T18:23:22.763422",
          "2024-05-08T18:23:24.367697",
          "2024-05-08T18:23:24.744904",
          "2024-05-08T18:23:25.084611",
          "2024-05-08T18:23:25.468379",
          "2024-05-08T18:23:25.741986",
          "2024-05-08T18:23:26.233299",
          "2024-05-08T18:23:26.564619",
          "2024-05-08T18:23:26.885777",
          "2024-05-08T18:23:27.147176",
          "2024-05-08T18:23:27.494497",
          "2024-05-08T18:23:27.749119",
          "2024-05-08T18:23:28.145221",
          "2024-05-08T18:23:28.380611",
          "2024-05-08T18:23:28.736150",
          "2024-05-08T18:23:29.075860",
          "2024-05-08T18:23:29.702570",
          "2024-05-08T18:23:30.160973",
          "2024-05-08T18:23:30.653251",
          "2024-05-08T18:23:30.907795",
          "2024-05-08T18:23:31.281939",
          "2024-05-08T18:23:33.008198",
          "2024-05-08T18:23:33.391294",
          "2024-05-08T18:23:33.704113",
          "2024-05-08T18:23:34.153789",
          "2024-05-08T18:23:34.454643",
          "2024-05-08T18:23:34.799957",
          "2024-05-08T18:23:35.063077",
          "2024-05-08T18:23:35.414720",
          "2024-05-08T18:23:35.706214",
          "2024-05-08T18:23:36.073974",
          "2024-05-08T18:23:36.337914",
          "2024-05-08T18:23:36.679903",
          "2024-05-08T18:23:36.923322",
          "2024-05-08T18:23:37.256154",
          "2024-05-08T18:23:37.504328",
          "2024-05-08T18:23:37.848549",
          "2024-05-08T18:23:38.081187",
          "2024-05-08T18:23:38.502687",
          "2024-05-08T18:23:38.771376",
          "2024-05-08T18:23:39.207981",
          "2024-05-08T18:23:41.307504",
          "2024-05-08T18:23:41.645143",
          "2024-05-08T18:23:41.933794",
          "2024-05-08T18:23:42.395322",
          "2024-05-08T18:23:42.727437",
          "2024-05-08T18:23:43.094492",
          "2024-05-08T18:23:43.397848",
          "2024-05-08T18:23:43.752069",
          "2024-05-08T18:23:44.048401",
          "2024-05-08T18:23:44.381153",
          "2024-05-08T18:23:44.636978",
          "2024-05-08T18:23:44.993286",
          "2024-05-08T18:23:45.313294",
          "2024-05-08T18:23:45.659310",
          "2024-05-08T18:23:45.962819",
          "2024-05-08T18:23:46.282693",
          "2024-05-08T18:23:46.527997",
          "2024-05-08T18:23:46.871340",
          "2024-05-08T18:23:47.099523",
          "2024-05-08T18:23:47.471233",
          "2024-05-08T18:23:49.233148"
         ],
         "hovertemplate": "name=worker_1<br>start_time=%{base}<br>end_time=%{x}<extra></extra>",
         "legendgroup": "worker_1",
         "marker": {
          "color": "#636efa",
          "opacity": 0.4,
          "pattern": {
           "shape": ""
          }
         },
         "name": "worker_1",
         "offsetgroup": "worker_1",
         "orientation": "h",
         "showlegend": true,
         "textposition": "auto",
         "type": "bar",
         "x": [
          75.789928,
          28.095007,
          17.155886,
          36.267042,
          89.354992,
          27.761936,
          33.275127,
          32.528877,
          34.67083,
          32.953262,
          34.641743,
          30.889988,
          45.249224,
          34.089089,
          36.689281,
          37.97412,
          36.298036,
          35.036087,
          56.045055,
          72.564125,
          17.956257,
          39.742947,
          20.740986,
          27.985096,
          36.915779,
          41.456699,
          36.700009,
          35.441876,
          36.587,
          42.485952,
          37.549019,
          42.217016,
          38.042784,
          39.805174,
          21.074771,
          31.92687,
          28.321743,
          33.127785,
          35.011053,
          42.855025,
          43.509961,
          23.3109,
          19.486904,
          38.480997,
          30.002117,
          35.164118,
          31.531095,
          34.554959,
          37.658692,
          32.405138,
          38.219929,
          21.96908,
          37.781954,
          44.113874,
          34.328937,
          37.746906,
          31.730174,
          32.286882,
          37.581205,
          33.470869,
          35.311222,
          33.92601,
          14.379025,
          31.37517,
          40.8988,
          34.533024,
          123.474121,
          33.885956,
          13.561011,
          31.764031,
          40.335178,
          36.979913,
          36.040783,
          43.769121,
          43.302775,
          63.647986,
          22.535801,
          64.2519,
          66.060066,
          42.268753,
          35.037041,
          30.71618,
          43.374061,
          37.595033,
          41.134119,
          35.46691,
          37.810087,
          42.773962,
          38.510084,
          34.955979,
          40.352106,
          39.58702,
          29.745818,
          33.196927,
          38.058996,
          37.575961,
          37.463904,
          38.210153,
          39.095163,
          38.536072,
          43.853045,
          31.924009,
          18.337012,
          36.468983,
          35.669089,
          32.931089,
          32.15003,
          44.199229,
          33.551693,
          34.981966,
          24.975299,
          36.269903,
          39.876222,
          26.11208,
          34.291983,
          35.411835,
          22.14408,
          39.035797,
          38.44285,
          31.78382,
          38.458825,
          32.668828,
          70.312977
         ],
         "xaxis": "x",
         "yaxis": "y"
        },
        {
         "alignmentgroup": "True",
         "base": [
          "2024-05-08T18:22:58.752182"
         ],
         "hovertemplate": "name=worker_1_swap<br>start_time=%{base}<br>end_time=%{x}<extra></extra>",
         "legendgroup": "worker_1_swap",
         "marker": {
          "color": "#EF553B",
          "opacity": 0.4,
          "pattern": {
           "shape": ""
          }
         },
         "name": "worker_1_swap",
         "offsetgroup": "worker_1_swap",
         "orientation": "h",
         "showlegend": true,
         "textposition": "auto",
         "type": "bar",
         "x": [
          6.297826
         ],
         "xaxis": "x",
         "yaxis": "y"
        },
        {
         "alignmentgroup": "True",
         "base": [
          "2024-05-08T18:22:58.746428",
          "2024-05-08T18:23:00.744235",
          "2024-05-08T18:23:01.350277",
          "2024-05-08T18:23:01.986680",
          "2024-05-08T18:23:02.632159",
          "2024-05-08T18:23:03.282620",
          "2024-05-08T18:23:03.889294",
          "2024-05-08T18:23:04.604794",
          "2024-05-08T18:23:05.218087",
          "2024-05-08T18:23:06.263137",
          "2024-05-08T18:23:06.996985",
          "2024-05-08T18:23:09.147572",
          "2024-05-08T18:23:09.782870",
          "2024-05-08T18:23:10.395290",
          "2024-05-08T18:23:11.014287",
          "2024-05-08T18:23:11.673673",
          "2024-05-08T18:23:12.294173",
          "2024-05-08T18:23:12.994928",
          "2024-05-08T18:23:13.670258",
          "2024-05-08T18:23:14.328902",
          "2024-05-08T18:23:14.930446",
          "2024-05-08T18:23:17.008995",
          "2024-05-08T18:23:17.644382",
          "2024-05-08T18:23:18.335815",
          "2024-05-08T18:23:18.899418",
          "2024-05-08T18:23:19.484065",
          "2024-05-08T18:23:20.331247",
          "2024-05-08T18:23:20.963429",
          "2024-05-08T18:23:21.619454",
          "2024-05-08T18:23:22.230582",
          "2024-05-08T18:23:22.798620",
          "2024-05-08T18:23:24.777626",
          "2024-05-08T18:23:25.504269",
          "2024-05-08T18:23:26.269762",
          "2024-05-08T18:23:26.918886",
          "2024-05-08T18:23:27.533045",
          "2024-05-08T18:23:28.191079",
          "2024-05-08T18:23:28.801103",
          "2024-05-08T18:23:29.768299",
          "2024-05-08T18:23:30.696963",
          "2024-05-08T18:23:31.314222",
          "2024-05-08T18:23:33.431047",
          "2024-05-08T18:23:34.190835",
          "2024-05-08T18:23:34.844326",
          "2024-05-08T18:23:35.451421",
          "2024-05-08T18:23:36.115114",
          "2024-05-08T18:23:36.714757",
          "2024-05-08T18:23:37.295269",
          "2024-05-08T18:23:37.888632",
          "2024-05-08T18:23:38.543055",
          "2024-05-08T18:23:39.241797",
          "2024-05-08T18:23:41.683346",
          "2024-05-08T18:23:42.430071",
          "2024-05-08T18:23:43.140559",
          "2024-05-08T18:23:43.788872",
          "2024-05-08T18:23:44.419310",
          "2024-05-08T18:23:45.021285",
          "2024-05-08T18:23:45.696527",
          "2024-05-08T18:23:46.323671",
          "2024-05-08T18:23:46.905027",
          "2024-05-08T18:23:47.506102"
         ],
         "hovertemplate": "name=worker_1_send<br>start_time=%{base}<br>end_time=%{x}<extra></extra>",
         "legendgroup": "worker_1_send",
         "marker": {
          "color": "#00cc96",
          "opacity": 0.4,
          "pattern": {
           "shape": ""
          }
         },
         "name": "worker_1_send",
         "offsetgroup": "worker_1_send",
         "orientation": "h",
         "showlegend": true,
         "textposition": "auto",
         "type": "bar",
         "x": [
          5.74708,
          5.792141,
          4.416705,
          4.578829,
          8.049012,
          6.085157,
          7.659913,
          4.704952,
          5.426883,
          7.879973,
          7.728815,
          6.746769,
          6.223917,
          5.450011,
          6.96516,
          5.687237,
          7.843018,
          5.449056,
          3.945827,
          4.490853,
          5.348682,
          6.924153,
          6.621838,
          5.971908,
          4.112959,
          4.469871,
          6.870747,
          7.160663,
          4.543066,
          6.121159,
          5.960226,
          6.805897,
          6.614924,
          7.705927,
          5.825043,
          5.916834,
          6.723165,
          7.946968,
          7.730961,
          8.707762,
          5.194903,
          5.289078,
          5.095958,
          7.7281,
          10.051966,
          5.483151,
          5.259752,
          6.192923,
          8.421898,
          4.68111,
          3.326893,
          4.612923,
          8.571864,
          5.310774,
          5.426884,
          4.577875,
          8.552313,
          4.972935,
          4.790067,
          5.40781,
          5.849838
         ],
         "xaxis": "x",
         "yaxis": "y"
        },
        {
         "alignmentgroup": "True",
         "base": [
          "2024-05-08T18:22:58.370731",
          "2024-05-08T18:22:58.765030",
          "2024-05-08T18:23:00.387109",
          "2024-05-08T18:23:00.720516",
          "2024-05-08T18:23:00.942691",
          "2024-05-08T18:23:01.316066",
          "2024-05-08T18:23:01.616789",
          "2024-05-08T18:23:01.967429",
          "2024-05-08T18:23:02.189267",
          "2024-05-08T18:23:02.630981",
          "2024-05-08T18:23:02.918359",
          "2024-05-08T18:23:03.266458",
          "2024-05-08T18:23:03.514885",
          "2024-05-08T18:23:03.861716",
          "2024-05-08T18:23:04.149124",
          "2024-05-08T18:23:04.578609",
          "2024-05-08T18:23:04.847239",
          "2024-05-08T18:23:05.207281",
          "2024-05-08T18:23:05.456194",
          "2024-05-08T18:23:06.161167",
          "2024-05-08T18:23:06.573399",
          "2024-05-08T18:23:07.003927",
          "2024-05-08T18:23:08.754441",
          "2024-05-08T18:23:09.107511",
          "2024-05-08T18:23:09.389453",
          "2024-05-08T18:23:09.766143",
          "2024-05-08T18:23:10.032019",
          "2024-05-08T18:23:10.379717",
          "2024-05-08T18:23:10.605445",
          "2024-05-08T18:23:10.985877",
          "2024-05-08T18:23:11.249484",
          "2024-05-08T18:23:11.628186",
          "2024-05-08T18:23:11.904865",
          "2024-05-08T18:23:12.283241",
          "2024-05-08T18:23:12.623930",
          "2024-05-08T18:23:12.967279",
          "2024-05-08T18:23:13.279098",
          "2024-05-08T18:23:13.649641",
          "2024-05-08T18:23:13.933341",
          "2024-05-08T18:23:14.285637",
          "2024-05-08T18:23:14.544629",
          "2024-05-08T18:23:14.956959",
          "2024-05-08T18:23:16.624378",
          "2024-05-08T18:23:16.982762",
          "2024-05-08T18:23:17.247268",
          "2024-05-08T18:23:17.617935",
          "2024-05-08T18:23:17.966576",
          "2024-05-08T18:23:18.330146",
          "2024-05-08T18:23:18.538192",
          "2024-05-08T18:23:18.875753",
          "2024-05-08T18:23:19.093774",
          "2024-05-08T18:23:19.556683",
          "2024-05-08T18:23:19.868524",
          "2024-05-08T18:23:20.310149",
          "2024-05-08T18:23:20.577754",
          "2024-05-08T18:23:20.917392",
          "2024-05-08T18:23:21.233123",
          "2024-05-08T18:23:21.578564",
          "2024-05-08T18:23:21.814535",
          "2024-05-08T18:23:22.205018",
          "2024-05-08T18:23:22.436068",
          "2024-05-08T18:23:22.772656",
          "2024-05-08T18:23:24.371365",
          "2024-05-08T18:23:24.781255",
          "2024-05-08T18:23:25.087234",
          "2024-05-08T18:23:25.476706",
          "2024-05-08T18:23:25.745780",
          "2024-05-08T18:23:26.245568",
          "2024-05-08T18:23:26.567819",
          "2024-05-08T18:23:26.896368",
          "2024-05-08T18:23:27.150867",
          "2024-05-08T18:23:27.509323",
          "2024-05-08T18:23:27.751962",
          "2024-05-08T18:23:28.135950",
          "2024-05-08T18:23:28.384520",
          "2024-05-08T18:23:28.740252",
          "2024-05-08T18:23:29.080234",
          "2024-05-08T18:23:29.751034",
          "2024-05-08T18:23:30.165296",
          "2024-05-08T18:23:30.640014",
          "2024-05-08T18:23:30.911378",
          "2024-05-08T18:23:31.295311",
          "2024-05-08T18:23:33.011162",
          "2024-05-08T18:23:33.402334",
          "2024-05-08T18:23:33.708528",
          "2024-05-08T18:23:34.177629",
          "2024-05-08T18:23:34.457720",
          "2024-05-08T18:23:34.823647",
          "2024-05-08T18:23:35.066915",
          "2024-05-08T18:23:35.419504",
          "2024-05-08T18:23:35.711034",
          "2024-05-08T18:23:36.067209",
          "2024-05-08T18:23:36.341460",
          "2024-05-08T18:23:36.694054",
          "2024-05-08T18:23:36.927489",
          "2024-05-08T18:23:37.253514",
          "2024-05-08T18:23:37.508167",
          "2024-05-08T18:23:37.850522",
          "2024-05-08T18:23:38.085550",
          "2024-05-08T18:23:38.527221",
          "2024-05-08T18:23:38.774767",
          "2024-05-08T18:23:39.292091",
          "2024-05-08T18:23:41.312014",
          "2024-05-08T18:23:41.713379",
          "2024-05-08T18:23:41.937505",
          "2024-05-08T18:23:42.378497",
          "2024-05-08T18:23:42.729912",
          "2024-05-08T18:23:43.095207",
          "2024-05-08T18:23:43.401024",
          "2024-05-08T18:23:43.751578",
          "2024-05-08T18:23:44.052656",
          "2024-05-08T18:23:44.406472",
          "2024-05-08T18:23:44.639854",
          "2024-05-08T18:23:45.023901",
          "2024-05-08T18:23:45.316159",
          "2024-05-08T18:23:45.658695",
          "2024-05-08T18:23:45.967776",
          "2024-05-08T18:23:46.276475",
          "2024-05-08T18:23:46.530693",
          "2024-05-08T18:23:46.864758",
          "2024-05-08T18:23:47.104130",
          "2024-05-08T18:23:47.485808",
          "2024-05-08T18:23:49.236681"
         ],
         "hovertemplate": "name=worker_2<br>start_time=%{base}<br>end_time=%{x}<extra></extra>",
         "legendgroup": "worker_2",
         "marker": {
          "color": "#ab63fa",
          "opacity": 0.4,
          "pattern": {
           "shape": ""
          }
         },
         "name": "worker_2",
         "offsetgroup": "worker_2",
         "orientation": "h",
         "showlegend": true,
         "textposition": "auto",
         "type": "bar",
         "x": [
          46.274901,
          24.730205,
          22.608995,
          37.437916,
          81.342935,
          30.387878,
          35.035133,
          31.171799,
          39.232015,
          35.170078,
          35.098791,
          29.862881,
          39.974214,
          39.347887,
          36.90195,
          36.567927,
          37.552118,
          42.341232,
          55.43971,
          84.373951,
          40.620089,
          38.413286,
          26.890993,
          31.657934,
          38.267851,
          36.553859,
          39.973259,
          40.612221,
          37.253141,
          45.552969,
          37.107945,
          38.463831,
          37.294865,
          43.783903,
          29.802084,
          34.265756,
          34.377098,
          35.458088,
          39.943933,
          46.025038,
          41.486979,
          38.329125,
          31.803847,
          38.686753,
          15.977858,
          47.432184,
          43.08033,
          36.404848,
          37.921906,
          35.682201,
          41.562796,
          76.699733,
          46.488046,
          41.889667,
          37.247181,
          41.749954,
          37.509918,
          43.079853,
          48.445225,
          36.869049,
          39.958,
          38.130045,
          30.615807,
          27.715921,
          71.66791,
          36.403894,
          126.464128,
          46.820879,
          22.866726,
          34.924031,
          41.391134,
          38.494825,
          38.802862,
          48.831939,
          42.969942,
          64.492941,
          38.47599,
          52.841187,
          66.735983,
          40.183782,
          40.082217,
          35.425901,
          59.744119,
          36.478042,
          46.089887,
          40.45701,
          38.884878,
          42.186022,
          40.950061,
          35.037279,
          47.039032,
          36.910057,
          39.095164,
          36.985159,
          37.343025,
          38.062096,
          37.489176,
          37.590981,
          40.332079,
          34.759999,
          50.303936,
          324.284316,
          32.055855,
          46.78297,
          40.619135,
          45.715809,
          33.406019,
          49.538135,
          33.983946,
          43.787002,
          59.256792,
          32.518864,
          39.951801,
          41.881084,
          37.083864,
          35.451174,
          25.229931,
          40.206194,
          38.57112,
          31.414032,
          83.395958,
          43.157101,
          73.870182
         ],
         "xaxis": "x",
         "yaxis": "y"
        },
        {
         "alignmentgroup": "True",
         "base": [
          "2024-05-08T18:22:58.796721"
         ],
         "hovertemplate": "name=worker_2_swap<br>start_time=%{base}<br>end_time=%{x}<extra></extra>",
         "legendgroup": "worker_2_swap",
         "marker": {
          "color": "#FFA15A",
          "opacity": 0.4,
          "pattern": {
           "shape": ""
          }
         },
         "name": "worker_2_swap",
         "offsetgroup": "worker_2_swap",
         "orientation": "h",
         "showlegend": true,
         "textposition": "auto",
         "type": "bar",
         "x": [
          7.185221
         ],
         "xaxis": "x",
         "yaxis": "y"
        },
        {
         "alignmentgroup": "True",
         "base": [
          "2024-05-08T18:22:58.790264",
          "2024-05-08T18:23:00.758572",
          "2024-05-08T18:23:01.347060",
          "2024-05-08T18:23:01.999082",
          "2024-05-08T18:23:02.666831",
          "2024-05-08T18:23:03.296967",
          "2024-05-08T18:23:03.901659",
          "2024-05-08T18:23:04.615842",
          "2024-05-08T18:23:05.250264",
          "2024-05-08T18:23:06.246348",
          "2024-05-08T18:23:07.043137",
          "2024-05-08T18:23:09.139948",
          "2024-05-08T18:23:09.803856",
          "2024-05-08T18:23:10.421048",
          "2024-05-08T18:23:11.032229",
          "2024-05-08T18:23:11.667452",
          "2024-05-08T18:23:12.328143",
          "2024-05-08T18:23:13.002388",
          "2024-05-08T18:23:13.695681",
          "2024-05-08T18:23:14.332681",
          "2024-05-08T18:23:15.007827",
          "2024-05-08T18:23:17.022373",
          "2024-05-08T18:23:17.666480",
          "2024-05-08T18:23:18.367619",
          "2024-05-08T18:23:18.912468",
          "2024-05-08T18:23:19.642910",
          "2024-05-08T18:23:20.353196",
          "2024-05-08T18:23:20.961320",
          "2024-05-08T18:23:21.622809",
          "2024-05-08T18:23:22.243033",
          "2024-05-08T18:23:22.811899",
          "2024-05-08T18:23:24.810091",
          "2024-05-08T18:23:25.514796",
          "2024-05-08T18:23:26.303103",
          "2024-05-08T18:23:26.933328",
          "2024-05-08T18:23:27.549213",
          "2024-05-08T18:23:28.186089",
          "2024-05-08T18:23:28.806349",
          "2024-05-08T18:23:29.805161",
          "2024-05-08T18:23:30.681645",
          "2024-05-08T18:23:31.336242",
          "2024-05-08T18:23:33.440178",
          "2024-05-08T18:23:34.220710",
          "2024-05-08T18:23:34.867471",
          "2024-05-08T18:23:35.456628",
          "2024-05-08T18:23:36.105756",
          "2024-05-08T18:23:36.732923",
          "2024-05-08T18:23:37.293284",
          "2024-05-08T18:23:37.890240",
          "2024-05-08T18:23:38.563564",
          "2024-05-08T18:23:39.620710",
          "2024-05-08T18:23:41.761909",
          "2024-05-08T18:23:42.426031",
          "2024-05-08T18:23:43.146537",
          "2024-05-08T18:23:43.804738",
          "2024-05-08T18:23:44.441477",
          "2024-05-08T18:23:45.104501",
          "2024-05-08T18:23:45.695866",
          "2024-05-08T18:23:46.318660",
          "2024-05-08T18:23:46.898051",
          "2024-05-08T18:23:47.530914"
         ],
         "hovertemplate": "name=worker_2_send<br>start_time=%{base}<br>end_time=%{x}<extra></extra>",
         "legendgroup": "worker_2_send",
         "marker": {
          "color": "#19d3f3",
          "opacity": 0.4,
          "pattern": {
           "shape": ""
          }
         },
         "name": "worker_2_send",
         "offsetgroup": "worker_2_send",
         "orientation": "h",
         "showlegend": true,
         "textposition": "auto",
         "type": "bar",
         "x": [
          6.449937,
          5.990743,
          5.465269,
          6.750823,
          4.232168,
          7.23815,
          5.170106,
          5.362987,
          4.773855,
          9.577988,
          12.740135,
          5.433082,
          3.868103,
          7.978917,
          6.561995,
          7.832289,
          7.534742,
          5.499125,
          5.631924,
          8.13222,
          18.674851,
          5.300998,
          6.445885,
          5.70798,
          5.120993,
          11.835814,
          8.040905,
          9.211302,
          7.650613,
          7.365703,
          4.397154,
          2.686023,
          4.827024,
          13.318062,
          3.898144,
          5.543232,
          9.474039,
          8.816958,
          6.26421,
          5.375862,
          8.384943,
          5.714178,
          7.524967,
          4.607201,
          5.246878,
          5.059004,
          4.475116,
          9.047746,
          8.559942,
          4.92096,
          11.733055,
          2.329111,
          6.908893,
          6.511926,
          21.324873,
          4.787206,
          7.952928,
          4.96316,
          6.891012,
          5.033016,
          4.15802
         ],
         "xaxis": "x",
         "yaxis": "y"
        },
        {
         "alignmentgroup": "True",
         "base": [
          "2024-05-08T18:22:58.381356",
          "2024-05-08T18:22:58.764303",
          "2024-05-08T18:23:00.389653",
          "2024-05-08T18:23:00.723208",
          "2024-05-08T18:23:00.945864",
          "2024-05-08T18:23:01.324971",
          "2024-05-08T18:23:01.620561",
          "2024-05-08T18:23:01.949942",
          "2024-05-08T18:23:02.193162",
          "2024-05-08T18:23:02.627951",
          "2024-05-08T18:23:02.921423",
          "2024-05-08T18:23:03.293208",
          "2024-05-08T18:23:03.522138",
          "2024-05-08T18:23:03.964288",
          "2024-05-08T18:23:04.152343",
          "2024-05-08T18:23:04.640553",
          "2024-05-08T18:23:04.849812",
          "2024-05-08T18:23:05.202028",
          "2024-05-08T18:23:05.459899",
          "2024-05-08T18:23:06.215875",
          "2024-05-08T18:23:06.578123",
          "2024-05-08T18:23:06.996112",
          "2024-05-08T18:23:08.757380",
          "2024-05-08T18:23:09.112197",
          "2024-05-08T18:23:09.393343",
          "2024-05-08T18:23:09.781293",
          "2024-05-08T18:23:10.035576",
          "2024-05-08T18:23:10.389556",
          "2024-05-08T18:23:10.609006",
          "2024-05-08T18:23:11.022030",
          "2024-05-08T18:23:11.252335",
          "2024-05-08T18:23:11.643855",
          "2024-05-08T18:23:11.907950",
          "2024-05-08T18:23:12.267544",
          "2024-05-08T18:23:12.626230",
          "2024-05-08T18:23:12.966314",
          "2024-05-08T18:23:13.282297",
          "2024-05-08T18:23:13.660005",
          "2024-05-08T18:23:13.936613",
          "2024-05-08T18:23:14.296533",
          "2024-05-08T18:23:14.550282",
          "2024-05-08T18:23:14.956060",
          "2024-05-08T18:23:16.627799",
          "2024-05-08T18:23:16.988652",
          "2024-05-08T18:23:17.275199",
          "2024-05-08T18:23:17.693803",
          "2024-05-08T18:23:17.970079",
          "2024-05-08T18:23:18.310038",
          "2024-05-08T18:23:18.541146",
          "2024-05-08T18:23:18.887876",
          "2024-05-08T18:23:19.096246",
          "2024-05-08T18:23:19.505595",
          "2024-05-08T18:23:19.872381",
          "2024-05-08T18:23:20.308785",
          "2024-05-08T18:23:20.580553",
          "2024-05-08T18:23:20.927496",
          "2024-05-08T18:23:21.236340",
          "2024-05-08T18:23:21.579493",
          "2024-05-08T18:23:21.818800",
          "2024-05-08T18:23:22.245182",
          "2024-05-08T18:23:22.439024",
          "2024-05-08T18:23:22.831871",
          "2024-05-08T18:23:24.374918",
          "2024-05-08T18:23:24.775701",
          "2024-05-08T18:23:25.090187",
          "2024-05-08T18:23:25.490675",
          "2024-05-08T18:23:25.750380",
          "2024-05-08T18:23:26.254078",
          "2024-05-08T18:23:26.572005",
          "2024-05-08T18:23:26.916351",
          "2024-05-08T18:23:27.154266",
          "2024-05-08T18:23:27.513317",
          "2024-05-08T18:23:27.754923",
          "2024-05-08T18:23:28.151211",
          "2024-05-08T18:23:28.387485",
          "2024-05-08T18:23:28.742533",
          "2024-05-08T18:23:29.085198",
          "2024-05-08T18:23:29.751823",
          "2024-05-08T18:23:30.169384",
          "2024-05-08T18:23:30.657084",
          "2024-05-08T18:23:30.914474",
          "2024-05-08T18:23:31.297103",
          "2024-05-08T18:23:33.014836",
          "2024-05-08T18:23:33.408871",
          "2024-05-08T18:23:33.711616",
          "2024-05-08T18:23:34.192496",
          "2024-05-08T18:23:34.461413",
          "2024-05-08T18:23:34.824609",
          "2024-05-08T18:23:35.069744",
          "2024-05-08T18:23:35.421407",
          "2024-05-08T18:23:35.714570",
          "2024-05-08T18:23:36.077085",
          "2024-05-08T18:23:36.344997",
          "2024-05-08T18:23:36.700117",
          "2024-05-08T18:23:36.932389",
          "2024-05-08T18:23:37.288815",
          "2024-05-08T18:23:37.512321",
          "2024-05-08T18:23:37.859964",
          "2024-05-08T18:23:38.089087",
          "2024-05-08T18:23:38.513889",
          "2024-05-08T18:23:38.777935",
          "2024-05-08T18:23:39.278332",
          "2024-05-08T18:23:41.316618",
          "2024-05-08T18:23:41.693603",
          "2024-05-08T18:23:41.940802",
          "2024-05-08T18:23:42.402453",
          "2024-05-08T18:23:42.732980",
          "2024-05-08T18:23:43.137434",
          "2024-05-08T18:23:43.406971",
          "2024-05-08T18:23:43.782289",
          "2024-05-08T18:23:44.054653",
          "2024-05-08T18:23:44.384104",
          "2024-05-08T18:23:44.643491",
          "2024-05-08T18:23:45.017117",
          "2024-05-08T18:23:45.319717",
          "2024-05-08T18:23:45.667163",
          "2024-05-08T18:23:45.972460",
          "2024-05-08T18:23:46.316962",
          "2024-05-08T18:23:46.534298",
          "2024-05-08T18:23:46.894460",
          "2024-05-08T18:23:47.107769",
          "2024-05-08T18:23:47.490383",
          "2024-05-08T18:23:49.264179"
         ],
         "hovertemplate": "name=worker_3<br>start_time=%{base}<br>end_time=%{x}<extra></extra>",
         "legendgroup": "worker_3",
         "marker": {
          "color": "#FF6692",
          "opacity": 0.4,
          "pattern": {
           "shape": ""
          }
         },
         "name": "worker_3",
         "offsetgroup": "worker_3",
         "orientation": "h",
         "showlegend": true,
         "textposition": "auto",
         "type": "bar",
         "x": [
          50.876856,
          28.498888,
          31.307221,
          35.707236,
          88.735103,
          46.823025,
          35.31909,
          32.943726,
          44.576168,
          52.514792,
          36.622047,
          35.224676,
          66.424131,
          23.319006,
          54.548979,
          40.304899,
          38.58614,
          43.308019,
          54.031134,
          56.285858,
          45.449972,
          41.982174,
          31.930923,
          51.258802,
          43.123007,
          31.950712,
          42.418957,
          31.136036,
          45.545817,
          43.624877,
          38.19704,
          44.1432,
          40.476799,
          42.489052,
          30.812979,
          40.452004,
          40.957928,
          46.453714,
          36.736727,
          38.946867,
          42.071104,
          43.005944,
          35.465956,
          36.536216,
          43.664932,
          41.242123,
          43.890953,
          34.479856,
          38.848162,
          34.060955,
          39.947033,
          43.970109,
          48.557996,
          43.776989,
          39.226055,
          34.676075,
          38.088798,
          33.986807,
          39.651156,
          23.177862,
          45.623064,
          25.748968,
          34.324884,
          27.98295,
          83.396911,
          36.988974,
          129.580021,
          52.093029,
          33.720971,
          42.107105,
          41.175127,
          39.554121,
          39.582968,
          40.140152,
          41.501999,
          62.896728,
          40.261745,
          53.138971,
          69.833994,
          40.743112,
          39.331198,
          30.418872,
          56.294918,
          37.508249,
          49.424887,
          49.045801,
          42.383193,
          40.280819,
          39.017916,
          33.288956,
          47.03784,
          40.391922,
          40.4253,
          53.852797,
          49.849987,
          50.071954,
          40.112019,
          47.796011,
          40.978909,
          39.088966,
          65.995932,
          266.758203,
          32.948971,
          44.017077,
          38.936854,
          41.540146,
          42.471885,
          56.766034,
          39.108038,
          54.408789,
          39.622307,
          34.481049,
          38.647175,
          54.481984,
          36.646128,
          66.402197,
          40.555,
          37.801028,
          39.481878,
          35.836219,
          86.163044,
          31.893969,
          64.90016
         ],
         "xaxis": "x",
         "yaxis": "y"
        },
        {
         "alignmentgroup": "True",
         "base": [
          "2024-05-08T18:22:58.798704"
         ],
         "hovertemplate": "name=worker_3_swap<br>start_time=%{base}<br>end_time=%{x}<extra></extra>",
         "legendgroup": "worker_3_swap",
         "marker": {
          "color": "#B6E880",
          "opacity": 0.4,
          "pattern": {
           "shape": ""
          }
         },
         "name": "worker_3_swap",
         "offsetgroup": "worker_3_swap",
         "orientation": "h",
         "showlegend": true,
         "textposition": "auto",
         "type": "bar",
         "x": [
          6.984233
         ],
         "xaxis": "x",
         "yaxis": "y"
        },
        {
         "alignmentgroup": "True",
         "base": [
          "2024-05-08T18:22:58.793251",
          "2024-05-08T18:23:00.759367",
          "2024-05-08T18:23:01.372191",
          "2024-05-08T18:23:01.983856",
          "2024-05-08T18:23:02.682154",
          "2024-05-08T18:23:03.329536",
          "2024-05-08T18:23:03.988220",
          "2024-05-08T18:23:04.683205",
          "2024-05-08T18:23:05.246093",
          "2024-05-08T18:23:06.272788",
          "2024-05-08T18:23:07.038933",
          "2024-05-08T18:23:09.164208",
          "2024-05-08T18:23:09.814163",
          "2024-05-08T18:23:10.421403",
          "2024-05-08T18:23:11.066362",
          "2024-05-08T18:23:11.688802",
          "2024-05-08T18:23:12.311109",
          "2024-05-08T18:23:13.007685",
          "2024-05-08T18:23:13.712126",
          "2024-05-08T18:23:14.338037",
          "2024-05-08T18:23:14.999922",
          "2024-05-08T18:23:17.026108",
          "2024-05-08T18:23:17.739444",
          "2024-05-08T18:23:18.345691",
          "2024-05-08T18:23:18.923008",
          "2024-05-08T18:23:19.554739",
          "2024-05-08T18:23:20.353564",
          "2024-05-08T18:23:20.963294",
          "2024-05-08T18:23:21.614623",
          "2024-05-08T18:23:22.269331",
          "2024-05-08T18:23:22.862361",
          "2024-05-08T18:23:24.805002",
          "2024-05-08T18:23:25.528880",
          "2024-05-08T18:23:26.307358",
          "2024-05-08T18:23:26.961289",
          "2024-05-08T18:23:27.554094",
          "2024-05-08T18:23:28.193018",
          "2024-05-08T18:23:28.806658",
          "2024-05-08T18:23:29.807129",
          "2024-05-08T18:23:30.699234",
          "2024-05-08T18:23:31.328814",
          "2024-05-08T18:23:33.447706",
          "2024-05-08T18:23:34.243580",
          "2024-05-08T18:23:34.866735",
          "2024-05-08T18:23:35.456102",
          "2024-05-08T18:23:36.119051",
          "2024-05-08T18:23:36.755841",
          "2024-05-08T18:23:37.345453",
          "2024-05-08T18:23:37.909476",
          "2024-05-08T18:23:38.554523",
          "2024-05-08T18:23:39.546726",
          "2024-05-08T18:23:41.739217",
          "2024-05-08T18:23:42.445528",
          "2024-05-08T18:23:43.203403",
          "2024-05-08T18:23:43.838227",
          "2024-05-08T18:23:44.420269",
          "2024-05-08T18:23:45.102178",
          "2024-05-08T18:23:45.767464",
          "2024-05-08T18:23:46.359468",
          "2024-05-08T18:23:46.943344",
          "2024-05-08T18:23:47.524096"
         ],
         "hovertemplate": "name=worker_3_send<br>start_time=%{base}<br>end_time=%{x}<extra></extra>",
         "legendgroup": "worker_3_send",
         "marker": {
          "color": "#FF97FF",
          "opacity": 0.4,
          "pattern": {
           "shape": ""
          }
         },
         "name": "worker_3_send",
         "offsetgroup": "worker_3_send",
         "orientation": "h",
         "showlegend": true,
         "textposition": "auto",
         "type": "bar",
         "x": [
          5.442142,
          7.124901,
          17.44318,
          5.510092,
          23.296118,
          13.991117,
          3.550053,
          3.323078,
          5.528926,
          12.143135,
          11.404038,
          6.777763,
          4.878044,
          7.592201,
          10.117769,
          18.263816,
          8.941889,
          4.370928,
          5.548954,
          3.834963,
          18.188,
          5.056858,
          8.210898,
          4.06003,
          4.521131,
          7.807016,
          6.649017,
          6.971121,
          5.691767,
          7.442951,
          3.309726,
          5.481004,
          17.171144,
          5.521059,
          4.148006,
          6.738901,
          7.094622,
          7.782936,
          5.441665,
          8.219957,
          3.105163,
          6.651878,
          6.501198,
          7.892847,
          8.928061,
          6.203889,
          5.955935,
          7.99489,
          4.532099,
          6.97422,
          24.878979,
          6.117105,
          7.549048,
          9.136915,
          15.42902,
          8.622885,
          7.819891,
          15.063048,
          3.215074,
          13.33499,
          5.656004
         ],
         "xaxis": "x",
         "yaxis": "y"
        },
        {
         "alignmentgroup": "True",
         "base": [
          "2024-05-08T18:22:58.390100",
          "2024-05-08T18:22:58.799088",
          "2024-05-08T18:23:00.393054",
          "2024-05-08T18:23:00.733438",
          "2024-05-08T18:23:00.949182",
          "2024-05-08T18:23:01.365348",
          "2024-05-08T18:23:01.623461",
          "2024-05-08T18:23:01.961781",
          "2024-05-08T18:23:02.197000",
          "2024-05-08T18:23:02.631076",
          "2024-05-08T18:23:02.924635",
          "2024-05-08T18:23:03.279396",
          "2024-05-08T18:23:03.527643",
          "2024-05-08T18:23:03.882585",
          "2024-05-08T18:23:04.154895",
          "2024-05-08T18:23:04.625798",
          "2024-05-08T18:23:04.853249",
          "2024-05-08T18:23:05.207894",
          "2024-05-08T18:23:05.464016",
          "2024-05-08T18:23:06.237080",
          "2024-05-08T18:23:06.581622",
          "2024-05-08T18:23:07.016940",
          "2024-05-08T18:23:08.760506",
          "2024-05-08T18:23:09.136286",
          "2024-05-08T18:23:09.396669",
          "2024-05-08T18:23:09.767372",
          "2024-05-08T18:23:10.038013",
          "2024-05-08T18:23:10.397574",
          "2024-05-08T18:23:10.612240",
          "2024-05-08T18:23:10.997699",
          "2024-05-08T18:23:11.256747",
          "2024-05-08T18:23:11.644567",
          "2024-05-08T18:23:11.911478",
          "2024-05-08T18:23:12.290494",
          "2024-05-08T18:23:12.629318",
          "2024-05-08T18:23:12.976466",
          "2024-05-08T18:23:13.284457",
          "2024-05-08T18:23:13.658740",
          "2024-05-08T18:23:13.939927",
          "2024-05-08T18:23:14.293579",
          "2024-05-08T18:23:14.553653",
          "2024-05-08T18:23:14.941204",
          "2024-05-08T18:23:16.631264",
          "2024-05-08T18:23:17.014504",
          "2024-05-08T18:23:17.278812",
          "2024-05-08T18:23:17.691919",
          "2024-05-08T18:23:17.973362",
          "2024-05-08T18:23:18.326138",
          "2024-05-08T18:23:18.543540",
          "2024-05-08T18:23:18.882219",
          "2024-05-08T18:23:19.101583",
          "2024-05-08T18:23:19.539403",
          "2024-05-08T18:23:19.876089",
          "2024-05-08T18:23:20.321814",
          "2024-05-08T18:23:20.584415",
          "2024-05-08T18:23:20.939728",
          "2024-05-08T18:23:21.240562",
          "2024-05-08T18:23:21.593934",
          "2024-05-08T18:23:21.822064",
          "2024-05-08T18:23:22.210245",
          "2024-05-08T18:23:22.442080",
          "2024-05-08T18:23:22.778639",
          "2024-05-08T18:23:24.377990",
          "2024-05-08T18:23:24.819994",
          "2024-05-08T18:23:25.093479",
          "2024-05-08T18:23:25.488947",
          "2024-05-08T18:23:25.755227",
          "2024-05-08T18:23:26.258927",
          "2024-05-08T18:23:26.574530",
          "2024-05-08T18:23:26.919373",
          "2024-05-08T18:23:27.157418",
          "2024-05-08T18:23:27.518745",
          "2024-05-08T18:23:27.758224",
          "2024-05-08T18:23:28.167748",
          "2024-05-08T18:23:28.390809",
          "2024-05-08T18:23:28.745172",
          "2024-05-08T18:23:29.088732",
          "2024-05-08T18:23:29.788303",
          "2024-05-08T18:23:30.174803",
          "2024-05-08T18:23:30.658011",
          "2024-05-08T18:23:30.918802",
          "2024-05-08T18:23:31.306311",
          "2024-05-08T18:23:33.020319",
          "2024-05-08T18:23:33.408124",
          "2024-05-08T18:23:33.715915",
          "2024-05-08T18:23:34.180283",
          "2024-05-08T18:23:34.464854",
          "2024-05-08T18:23:34.817517",
          "2024-05-08T18:23:35.073195",
          "2024-05-08T18:23:35.419590",
          "2024-05-08T18:23:35.718170",
          "2024-05-08T18:23:36.081351",
          "2024-05-08T18:23:36.356127",
          "2024-05-08T18:23:36.701598",
          "2024-05-08T18:23:36.934200",
          "2024-05-08T18:23:37.267183",
          "2024-05-08T18:23:37.515980",
          "2024-05-08T18:23:37.862035",
          "2024-05-08T18:23:38.093808",
          "2024-05-08T18:23:38.517671",
          "2024-05-08T18:23:38.780822",
          "2024-05-08T18:23:39.251899",
          "2024-05-08T18:23:41.320255",
          "2024-05-08T18:23:41.704954",
          "2024-05-08T18:23:41.943895",
          "2024-05-08T18:23:42.418720",
          "2024-05-08T18:23:42.736013",
          "2024-05-08T18:23:43.142835",
          "2024-05-08T18:23:43.409517",
          "2024-05-08T18:23:43.760270",
          "2024-05-08T18:23:44.061028",
          "2024-05-08T18:23:44.406884",
          "2024-05-08T18:23:44.646767",
          "2024-05-08T18:23:45.020666",
          "2024-05-08T18:23:45.322978",
          "2024-05-08T18:23:45.666455",
          "2024-05-08T18:23:45.975948",
          "2024-05-08T18:23:46.312621",
          "2024-05-08T18:23:46.537328",
          "2024-05-08T18:23:46.887920",
          "2024-05-08T18:23:47.113211",
          "2024-05-08T18:23:47.487002",
          "2024-05-08T18:23:49.269104"
         ],
         "hovertemplate": "name=worker_4<br>start_time=%{base}<br>end_time=%{x}<extra></extra>",
         "legendgroup": "worker_4",
         "marker": {
          "color": "#FECB52",
          "opacity": 0.4,
          "pattern": {
           "shape": ""
          }
         },
         "name": "worker_4",
         "offsetgroup": "worker_4",
         "orientation": "h",
         "showlegend": true,
         "textposition": "auto",
         "type": "bar",
         "x": [
          52.286864,
          45.985937,
          29.574156,
          40.892839,
          93.229056,
          40.877819,
          41.364193,
          35.930157,
          49.679041,
          49.190999,
          40.933132,
          31.958819,
          42.073012,
          41.459083,
          40.449858,
          39.753914,
          41.263819,
          39.177894,
          55.020093,
          48.679829,
          42.163849,
          46.265839,
          45.530796,
          69.479943,
          39.794922,
          40.642977,
          36.903143,
          45.521259,
          43.662072,
          35.710097,
          39.787054,
          56.864024,
          43.650151,
          38.474083,
          32.124042,
          33.079147,
          37.513018,
          45.09902,
          38.017035,
          39.470911,
          42.207003,
          50.312758,
          38.850069,
          32.087087,
          44.872284,
          40.078879,
          40.795087,
          43.761015,
          39.542913,
          36.001921,
          42.368889,
          33.779145,
          48.930883,
          44.804096,
          42.708158,
          39.241076,
          37.353992,
          35.192967,
          38.11407,
          34.616709,
          43.967962,
          38.291931,
          49.890041,
          56.025982,
          86.821079,
          39.152145,
          133.951187,
          31.662941,
          38.863897,
          31.928778,
          44.713974,
          35.481691,
          38.816929,
          39.71076,
          39.130926,
          66.885233,
          39.345026,
          39.494991,
          70.059061,
          44.518233,
          40.996074,
          32.003164,
          53.957939,
          39.919138,
          46.195031,
          47.893047,
          39.97016,
          44.18993,
          38.535118,
          35.454988,
          49.283982,
          40.118933,
          46.148061,
          40.740251,
          39.253951,
          44.734955,
          39.52694,
          56.919098,
          43.702841,
          36.790132,
          63.736916,
          283.152104,
          39.52694,
          33.638239,
          37.622928,
          42.788267,
          44.045687,
          52.774907,
          38.27405,
          43.900966,
          46.079158,
          31.972886,
          40.874005,
          41.061163,
          40.430784,
          33.71811,
          38.259983,
          38.206815,
          38.722038,
          39.631844,
          82.724095,
          33.653974,
          55.220843
         ],
         "xaxis": "x",
         "yaxis": "y"
        },
        {
         "alignmentgroup": "True",
         "base": [
          "2024-05-08T18:22:58.861297"
         ],
         "hovertemplate": "name=worker_4_swap<br>start_time=%{base}<br>end_time=%{x}<extra></extra>",
         "legendgroup": "worker_4_swap",
         "marker": {
          "color": "#636efa",
          "opacity": 0.4,
          "pattern": {
           "shape": ""
          }
         },
         "name": "worker_4_swap",
         "offsetgroup": "worker_4_swap",
         "orientation": "h",
         "showlegend": true,
         "textposition": "auto",
         "type": "bar",
         "x": [
          14.150143
         ],
         "xaxis": "x",
         "yaxis": "y"
        },
        {
         "alignmentgroup": "True",
         "base": [
          "2024-05-08T18:22:58.845552",
          "2024-05-08T18:23:00.775471",
          "2024-05-08T18:23:01.406690",
          "2024-05-08T18:23:01.998274",
          "2024-05-08T18:23:02.687191",
          "2024-05-08T18:23:03.311944",
          "2024-05-08T18:23:03.924660",
          "2024-05-08T18:23:04.668299",
          "2024-05-08T18:23:05.247945",
          "2024-05-08T18:23:06.286437",
          "2024-05-08T18:23:07.064806",
          "2024-05-08T18:23:09.211381",
          "2024-05-08T18:23:09.808776",
          "2024-05-08T18:23:10.446725",
          "2024-05-08T18:23:11.034579",
          "2024-05-08T18:23:11.702239",
          "2024-05-08T18:23:12.329796",
          "2024-05-08T18:23:13.010318",
          "2024-05-08T18:23:13.710485",
          "2024-05-08T18:23:14.334038",
          "2024-05-08T18:23:14.992422",
          "2024-05-08T18:23:17.047501",
          "2024-05-08T18:23:17.733890",
          "2024-05-08T18:23:18.370978",
          "2024-05-08T18:23:18.919302",
          "2024-05-08T18:23:19.588645",
          "2024-05-08T18:23:20.367660",
          "2024-05-08T18:23:20.980656",
          "2024-05-08T18:23:21.630207",
          "2024-05-08T18:23:22.245898",
          "2024-05-08T18:23:22.818242",
          "2024-05-08T18:23:24.879387",
          "2024-05-08T18:23:25.529292",
          "2024-05-08T18:23:26.292011",
          "2024-05-08T18:23:26.952646",
          "2024-05-08T18:23:27.556020",
          "2024-05-08T18:23:28.208956",
          "2024-05-08T18:23:28.813735",
          "2024-05-08T18:23:29.829566",
          "2024-05-08T18:23:30.703920",
          "2024-05-08T18:23:31.339603",
          "2024-05-08T18:23:33.450186",
          "2024-05-08T18:23:34.235194",
          "2024-05-08T18:23:34.863344",
          "2024-05-08T18:23:35.456576",
          "2024-05-08T18:23:36.122924",
          "2024-05-08T18:23:36.743877",
          "2024-05-08T18:23:37.313743",
          "2024-05-08T18:23:37.920372",
          "2024-05-08T18:23:38.555902",
          "2024-05-08T18:23:39.536911",
          "2024-05-08T18:23:41.740420",
          "2024-05-08T18:23:42.463013",
          "2024-05-08T18:23:43.197194",
          "2024-05-08T18:23:43.805973",
          "2024-05-08T18:23:44.441087",
          "2024-05-08T18:23:45.079226",
          "2024-05-08T18:23:45.701940",
          "2024-05-08T18:23:46.352733",
          "2024-05-08T18:23:46.946810",
          "2024-05-08T18:23:47.522630"
         ],
         "hovertemplate": "name=worker_4_send<br>start_time=%{base}<br>end_time=%{x}<extra></extra>",
         "legendgroup": "worker_4_send",
         "marker": {
          "color": "#EF553B",
          "opacity": 0.4,
          "pattern": {
           "shape": ""
          }
         },
         "name": "worker_4_send",
         "offsetgroup": "worker_4_send",
         "orientation": "h",
         "showlegend": true,
         "textposition": "auto",
         "type": "bar",
         "x": [
          15.735626,
          5.496741,
          14.574766,
          5.465746,
          28.301954,
          3.695965,
          4.046202,
          7.442952,
          5.777121,
          11.25288,
          9.078981,
          11.211157,
          4.11129,
          2.70319,
          5.485057,
          4.292011,
          3.800869,
          5.747079,
          5.285025,
          5.304098,
          12.961149,
          2.795935,
          12.13479,
          5.22685,
          5.126,
          13.615131,
          3.246069,
          5.371809,
          5.535841,
          5.516052,
          4.873037,
          21.591186,
          13.716937,
          3.987074,
          3.98612,
          6.490946,
          3.556013,
          7.393837,
          5.307197,
          6.382227,
          4.175186,
          4.766941,
          11.759758,
          6.984949,
          6.751776,
          5.3339,
          9.319067,
          11.3132,
          4.678965,
          9.634972,
          34.88803,
          6.739855,
          17.27581,
          14.666796,
          3.412962,
          5.003929,
          25.829076,
          15.515804,
          4.85611,
          12.155056,
          5.815029
         ],
         "xaxis": "x",
         "yaxis": "y"
        },
        {
         "alignmentgroup": "True",
         "base": [
          "2024-05-08T18:22:58.393821",
          "2024-05-08T18:22:58.826018",
          "2024-05-08T18:23:00.396550",
          "2024-05-08T18:23:00.738629",
          "2024-05-08T18:23:00.951884",
          "2024-05-08T18:23:01.354598",
          "2024-05-08T18:23:01.627226",
          "2024-05-08T18:23:01.961938",
          "2024-05-08T18:23:02.200463",
          "2024-05-08T18:23:02.686669",
          "2024-05-08T18:23:02.928160",
          "2024-05-08T18:23:03.265722",
          "2024-05-08T18:23:03.536735",
          "2024-05-08T18:23:03.876034",
          "2024-05-08T18:23:04.160315",
          "2024-05-08T18:23:04.589895",
          "2024-05-08T18:23:04.856342",
          "2024-05-08T18:23:05.203589",
          "2024-05-08T18:23:05.468452",
          "2024-05-08T18:23:06.232858",
          "2024-05-08T18:23:06.585199",
          "2024-05-08T18:23:07.019299",
          "2024-05-08T18:23:08.763912",
          "2024-05-08T18:23:09.123845",
          "2024-05-08T18:23:09.400325",
          "2024-05-08T18:23:09.780885",
          "2024-05-08T18:23:10.041538",
          "2024-05-08T18:23:10.370396",
          "2024-05-08T18:23:10.615397",
          "2024-05-08T18:23:10.996598",
          "2024-05-08T18:23:11.259322",
          "2024-05-08T18:23:11.645503",
          "2024-05-08T18:23:11.916011",
          "2024-05-08T18:23:12.277091",
          "2024-05-08T18:23:12.633571",
          "2024-05-08T18:23:12.981658",
          "2024-05-08T18:23:13.289184",
          "2024-05-08T18:23:13.664232",
          "2024-05-08T18:23:13.946170",
          "2024-05-08T18:23:14.306665",
          "2024-05-08T18:23:14.558048",
          "2024-05-08T18:23:14.998725",
          "2024-05-08T18:23:16.634234",
          "2024-05-08T18:23:17.009752",
          "2024-05-08T18:23:17.284015",
          "2024-05-08T18:23:17.699608",
          "2024-05-08T18:23:17.978863",
          "2024-05-08T18:23:18.332910",
          "2024-05-08T18:23:18.546986",
          "2024-05-08T18:23:18.895920",
          "2024-05-08T18:23:19.105795",
          "2024-05-08T18:23:19.523810",
          "2024-05-08T18:23:19.879846",
          "2024-05-08T18:23:20.313131",
          "2024-05-08T18:23:20.587775",
          "2024-05-08T18:23:20.941237",
          "2024-05-08T18:23:21.244100",
          "2024-05-08T18:23:21.599020",
          "2024-05-08T18:23:21.825803",
          "2024-05-08T18:23:22.227832",
          "2024-05-08T18:23:22.445585",
          "2024-05-08T18:23:22.800772",
          "2024-05-08T18:23:24.381384",
          "2024-05-08T18:23:24.811239",
          "2024-05-08T18:23:25.097078",
          "2024-05-08T18:23:25.492449",
          "2024-05-08T18:23:25.760559",
          "2024-05-08T18:23:26.256194",
          "2024-05-08T18:23:26.579171",
          "2024-05-08T18:23:26.917598",
          "2024-05-08T18:23:27.161503",
          "2024-05-08T18:23:27.495970",
          "2024-05-08T18:23:27.761481",
          "2024-05-08T18:23:28.169995",
          "2024-05-08T18:23:28.394231",
          "2024-05-08T18:23:28.748075",
          "2024-05-08T18:23:29.094757",
          "2024-05-08T18:23:29.795799",
          "2024-05-08T18:23:30.193401",
          "2024-05-08T18:23:30.668186",
          "2024-05-08T18:23:30.922521",
          "2024-05-08T18:23:31.303395",
          "2024-05-08T18:23:33.026630",
          "2024-05-08T18:23:33.425202",
          "2024-05-08T18:23:33.719254",
          "2024-05-08T18:23:34.195653",
          "2024-05-08T18:23:34.468973",
          "2024-05-08T18:23:34.822340",
          "2024-05-08T18:23:35.076705",
          "2024-05-08T18:23:35.420645",
          "2024-05-08T18:23:35.722930",
          "2024-05-08T18:23:36.079920",
          "2024-05-08T18:23:36.365896",
          "2024-05-08T18:23:36.702954",
          "2024-05-08T18:23:36.938035",
          "2024-05-08T18:23:37.272608",
          "2024-05-08T18:23:37.519889",
          "2024-05-08T18:23:37.867489",
          "2024-05-08T18:23:38.097790",
          "2024-05-08T18:23:38.517010",
          "2024-05-08T18:23:38.785589",
          "2024-05-08T18:23:39.233463",
          "2024-05-08T18:23:41.323662",
          "2024-05-08T18:23:41.680194",
          "2024-05-08T18:23:41.947855",
          "2024-05-08T18:23:42.420156",
          "2024-05-08T18:23:42.740082",
          "2024-05-08T18:23:43.135053",
          "2024-05-08T18:23:43.414046",
          "2024-05-08T18:23:43.767359",
          "2024-05-08T18:23:44.064765",
          "2024-05-08T18:23:44.407579",
          "2024-05-08T18:23:44.651405",
          "2024-05-08T18:23:45.020245",
          "2024-05-08T18:23:45.327081",
          "2024-05-08T18:23:45.667113",
          "2024-05-08T18:23:45.980808",
          "2024-05-08T18:23:46.301485",
          "2024-05-08T18:23:46.541394",
          "2024-05-08T18:23:46.882779",
          "2024-05-08T18:23:47.116383",
          "2024-05-08T18:23:47.502784",
          "2024-05-08T18:23:49.272559"
         ],
         "hovertemplate": "name=worker_5<br>start_time=%{base}<br>end_time=%{x}<extra></extra>",
         "legendgroup": "worker_5",
         "marker": {
          "color": "#00cc96",
          "opacity": 0.4,
          "pattern": {
           "shape": ""
          }
         },
         "name": "worker_5",
         "offsetgroup": "worker_5",
         "orientation": "h",
         "showlegend": true,
         "textposition": "auto",
         "type": "bar",
         "x": [
          61.996937,
          33.006907,
          41.774034,
          35.122156,
          89.069128,
          40.915012,
          37.13274,
          35.862207,
          47.983884,
          57.187796,
          38.77902,
          30.589104,
          41.195869,
          44.605971,
          41.33606,
          40.999174,
          39.058924,
          42.933702,
          57.712793,
          46.032906,
          44.968843,
          50.715923,
          36.12113,
          35.710334,
          37.801027,
          32.420158,
          33.919096,
          34.647227,
          40.447235,
          42.360067,
          38.522721,
          41.704893,
          43.488979,
          46.365976,
          35.486936,
          35.260916,
          37.688971,
          53.967952,
          38.137912,
          36.709309,
          41.723966,
          52.813053,
          37.634135,
          32.541037,
          49.527645,
          47.612905,
          45.362949,
          34.452915,
          38.584948,
          32.877922,
          44.818878,
          78.423977,
          54.301262,
          39.934874,
          40.506124,
          37.803174,
          38.254738,
          30.62892,
          42.158127,
          37.69803,
          47.240257,
          32.175779,
          55.61304,
          86.789131,
          81.746817,
          48.130035,
          124.402046,
          49.193859,
          34.767866,
          33.503055,
          39.227008,
          43.123961,
          40.73596,
          39.589166,
          41.996956,
          64.587116,
          41.44001,
          41.674137,
          60.301781,
          44.939995,
          41.538716,
          34.840822,
          58.784962,
          35.255193,
          53.649902,
          33.420801,
          42.920827,
          40.648937,
          39.903164,
          35.497189,
          45.367003,
          38.173914,
          42.150259,
          36.560774,
          46.396017,
          37.190914,
          43.820142,
          36.427974,
          40.669918,
          37.823917,
          65.124989,
          48.627853,
          41.708946,
          29.934645,
          42.979002,
          44.796228,
          46.905995,
          54.238796,
          44.311047,
          50.384045,
          46.300173,
          31.941175,
          38.221121,
          36.198855,
          35.70199,
          47.845125,
          36.098957,
          34.681797,
          38.011074,
          30.510187,
          85.839033,
          36.962033,
          60.815811
         ],
         "xaxis": "x",
         "yaxis": "y"
        },
        {
         "alignmentgroup": "True",
         "base": [
          "2024-05-08T18:22:58.868149"
         ],
         "hovertemplate": "name=worker_5_swap<br>start_time=%{base}<br>end_time=%{x}<extra></extra>",
         "legendgroup": "worker_5_swap",
         "marker": {
          "color": "#ab63fa",
          "opacity": 0.4,
          "pattern": {
           "shape": ""
          }
         },
         "name": "worker_5_swap",
         "offsetgroup": "worker_5_swap",
         "orientation": "h",
         "showlegend": true,
         "textposition": "auto",
         "type": "bar",
         "x": [
          6.026983
         ],
         "xaxis": "x",
         "yaxis": "y"
        },
        {
         "alignmentgroup": "True",
         "base": [
          "2024-05-08T18:22:58.862977",
          "2024-05-08T18:23:00.774680",
          "2024-05-08T18:23:01.396004",
          "2024-05-08T18:23:01.998993",
          "2024-05-08T18:23:02.744420",
          "2024-05-08T18:23:03.296895",
          "2024-05-08T18:23:03.921244",
          "2024-05-08T18:23:04.631578",
          "2024-05-08T18:23:05.247196",
          "2024-05-08T18:23:06.279708",
          "2024-05-08T18:23:07.071362",
          "2024-05-08T18:23:09.160364",
          "2024-05-08T18:23:09.814167",
          "2024-05-08T18:23:10.405893",
          "2024-05-08T18:23:11.041231",
          "2024-05-08T18:23:11.688186",
          "2024-05-08T18:23:12.324377",
          "2024-05-08T18:23:13.017659",
          "2024-05-08T18:23:13.718938",
          "2024-05-08T18:23:14.344321",
          "2024-05-08T18:23:15.052604",
          "2024-05-08T18:23:17.043242",
          "2024-05-08T18:23:17.748270",
          "2024-05-08T18:23:18.368315",
          "2024-05-08T18:23:18.929878",
          "2024-05-08T18:23:19.611663",
          "2024-05-08T18:23:20.356553",
          "2024-05-08T18:23:20.980559",
          "2024-05-08T18:23:21.630823",
          "2024-05-08T18:23:22.267482",
          "2024-05-08T18:23:22.834117",
          "2024-05-08T18:23:24.900310",
          "2024-05-08T18:23:25.541972",
          "2024-05-08T18:23:26.311577",
          "2024-05-08T18:23:26.952308",
          "2024-05-08T18:23:27.540935",
          "2024-05-08T18:23:28.211127",
          "2024-05-08T18:23:28.813971",
          "2024-05-08T18:23:29.838757",
          "2024-05-08T18:23:30.714564",
          "2024-05-08T18:23:31.346625",
          "2024-05-08T18:23:33.466150",
          "2024-05-08T18:23:34.231040",
          "2024-05-08T18:23:34.864678",
          "2024-05-08T18:23:35.457578",
          "2024-05-08T18:23:36.119685",
          "2024-05-08T18:23:36.741549",
          "2024-05-08T18:23:37.311433",
          "2024-05-08T18:23:37.905580",
          "2024-05-08T18:23:38.556524",
          "2024-05-08T18:23:39.288380",
          "2024-05-08T18:23:41.712151",
          "2024-05-08T18:23:42.466644",
          "2024-05-08T18:23:43.193939",
          "2024-05-08T18:23:43.842917",
          "2024-05-08T18:23:44.441262",
          "2024-05-08T18:23:45.058127",
          "2024-05-08T18:23:45.745596",
          "2024-05-08T18:23:46.337971",
          "2024-05-08T18:23:46.915053",
          "2024-05-08T18:23:47.541690"
         ],
         "hovertemplate": "name=worker_5_send<br>start_time=%{base}<br>end_time=%{x}<extra></extra>",
         "legendgroup": "worker_5_send",
         "marker": {
          "color": "#FFA15A",
          "opacity": 0.4,
          "pattern": {
           "shape": ""
          }
         },
         "name": "worker_5_send",
         "offsetgroup": "worker_5_send",
         "orientation": "h",
         "showlegend": true,
         "textposition": "auto",
         "type": "bar",
         "x": [
          5.157947,
          6.018638,
          9.641886,
          6.452083,
          2.815961,
          7.165909,
          6.789207,
          6.860018,
          5.803108,
          8.442164,
          6.431103,
          3.319979,
          5.006075,
          5.257368,
          6.348849,
          19.19508,
          3.44491,
          8.879184,
          18.543243,
          3.931999,
          5.887985,
          4.390955,
          5.022049,
          5.537987,
          3.494978,
          31.524897,
          6.223917,
          7.169723,
          5.890131,
          15.203954,
          4.234076,
          7.889986,
          5.978345,
          5.671024,
          4.352093,
          5.149126,
          5.94306,
          7.731915,
          5.537033,
          5.317926,
          7.848978,
          4.235983,
          4.334211,
          7.406234,
          6.418944,
          6.382704,
          11.034965,
          11.17301,
          6.556988,
          5.155087,
          13.574124,
          8.032083,
          3.974914,
          10.375977,
          13.792753,
          7.246971,
          3.185034,
          7.504224,
          4.217148,
          4.600764,
          3.266812
         ],
         "xaxis": "x",
         "yaxis": "y"
        },
        {
         "alignmentgroup": "True",
         "base": [
          "2024-05-08T18:22:58.397181",
          "2024-05-08T18:22:58.854173",
          "2024-05-08T18:23:00.400063",
          "2024-05-08T18:23:00.744034",
          "2024-05-08T18:23:00.955136",
          "2024-05-08T18:23:01.332103",
          "2024-05-08T18:23:01.631858",
          "2024-05-08T18:23:01.987084",
          "2024-05-08T18:23:02.204607",
          "2024-05-08T18:23:02.683243",
          "2024-05-08T18:23:02.932245",
          "2024-05-08T18:23:03.316738",
          "2024-05-08T18:23:03.540378",
          "2024-05-08T18:23:03.928689",
          "2024-05-08T18:23:04.163632",
          "2024-05-08T18:23:04.615676",
          "2024-05-08T18:23:04.859415",
          "2024-05-08T18:23:05.207481",
          "2024-05-08T18:23:05.471481",
          "2024-05-08T18:23:06.219966",
          "2024-05-08T18:23:06.591434",
          "2024-05-08T18:23:07.037674",
          "2024-05-08T18:23:08.769050",
          "2024-05-08T18:23:09.162563",
          "2024-05-08T18:23:09.404048",
          "2024-05-08T18:23:09.780589",
          "2024-05-08T18:23:10.044651",
          "2024-05-08T18:23:10.377984",
          "2024-05-08T18:23:10.619876",
          "2024-05-08T18:23:10.997534",
          "2024-05-08T18:23:11.263531",
          "2024-05-08T18:23:11.660512",
          "2024-05-08T18:23:11.920549",
          "2024-05-08T18:23:12.290961",
          "2024-05-08T18:23:12.637696",
          "2024-05-08T18:23:13.001483",
          "2024-05-08T18:23:13.293786",
          "2024-05-08T18:23:13.681025",
          "2024-05-08T18:23:13.949822",
          "2024-05-08T18:23:14.315215",
          "2024-05-08T18:23:14.561869",
          "2024-05-08T18:23:15.001284",
          "2024-05-08T18:23:16.637959",
          "2024-05-08T18:23:16.995323",
          "2024-05-08T18:23:17.287637",
          "2024-05-08T18:23:17.701657",
          "2024-05-08T18:23:17.982043",
          "2024-05-08T18:23:18.332436",
          "2024-05-08T18:23:18.550833",
          "2024-05-08T18:23:18.882205",
          "2024-05-08T18:23:19.110530",
          "2024-05-08T18:23:19.551979",
          "2024-05-08T18:23:19.883764",
          "2024-05-08T18:23:20.310848",
          "2024-05-08T18:23:20.591799",
          "2024-05-08T18:23:20.941643",
          "2024-05-08T18:23:21.248231",
          "2024-05-08T18:23:21.598088",
          "2024-05-08T18:23:21.829545",
          "2024-05-08T18:23:22.202788",
          "2024-05-08T18:23:22.449167",
          "2024-05-08T18:23:22.784688",
          "2024-05-08T18:23:24.385829",
          "2024-05-08T18:23:24.792947",
          "2024-05-08T18:23:25.101425",
          "2024-05-08T18:23:25.498346",
          "2024-05-08T18:23:25.770448",
          "2024-05-08T18:23:26.253331",
          "2024-05-08T18:23:26.583148",
          "2024-05-08T18:23:26.915747",
          "2024-05-08T18:23:27.166386",
          "2024-05-08T18:23:27.517914",
          "2024-05-08T18:23:27.764602",
          "2024-05-08T18:23:28.169278",
          "2024-05-08T18:23:28.398288",
          "2024-05-08T18:23:28.771247",
          "2024-05-08T18:23:29.101765",
          "2024-05-08T18:23:29.779690",
          "2024-05-08T18:23:30.201117",
          "2024-05-08T18:23:30.668627",
          "2024-05-08T18:23:30.927524",
          "2024-05-08T18:23:31.309591",
          "2024-05-08T18:23:33.029518",
          "2024-05-08T18:23:33.425202",
          "2024-05-08T18:23:33.724392",
          "2024-05-08T18:23:34.187998",
          "2024-05-08T18:23:34.472681",
          "2024-05-08T18:23:34.828597",
          "2024-05-08T18:23:35.080277",
          "2024-05-08T18:23:35.434617",
          "2024-05-08T18:23:35.726501",
          "2024-05-08T18:23:36.090190",
          "2024-05-08T18:23:36.369950",
          "2024-05-08T18:23:36.725978",
          "2024-05-08T18:23:36.942149",
          "2024-05-08T18:23:37.272983",
          "2024-05-08T18:23:37.523387",
          "2024-05-08T18:23:37.865698",
          "2024-05-08T18:23:38.101938",
          "2024-05-08T18:23:38.532618",
          "2024-05-08T18:23:38.788425",
          "2024-05-08T18:23:39.258514",
          "2024-05-08T18:23:41.329362",
          "2024-05-08T18:23:41.689005",
          "2024-05-08T18:23:41.951540",
          "2024-05-08T18:23:42.410608",
          "2024-05-08T18:23:42.744389",
          "2024-05-08T18:23:43.130960",
          "2024-05-08T18:23:43.417591",
          "2024-05-08T18:23:43.763535",
          "2024-05-08T18:23:44.069343",
          "2024-05-08T18:23:44.406245",
          "2024-05-08T18:23:44.657110",
          "2024-05-08T18:23:45.070477",
          "2024-05-08T18:23:45.331434",
          "2024-05-08T18:23:45.689227",
          "2024-05-08T18:23:45.984187",
          "2024-05-08T18:23:46.317055",
          "2024-05-08T18:23:46.544615",
          "2024-05-08T18:23:46.889568",
          "2024-05-08T18:23:47.121665",
          "2024-05-08T18:23:47.499444",
          "2024-05-08T18:23:49.277791"
         ],
         "hovertemplate": "name=worker_6<br>start_time=%{base}<br>end_time=%{x}<extra></extra>",
         "legendgroup": "worker_6",
         "marker": {
          "color": "#19d3f3",
          "opacity": 0.4,
          "pattern": {
           "shape": ""
          }
         },
         "name": "worker_6",
         "offsetgroup": "worker_6",
         "orientation": "h",
         "showlegend": true,
         "textposition": "auto",
         "type": "bar",
         "x": [
          57.623863,
          36.618948,
          39.405107,
          34.56378,
          84.650039,
          31.763077,
          35.084247,
          29.026032,
          66.101074,
          52.366018,
          41.615963,
          29.818773,
          47.97411,
          36.085844,
          43.961764,
          32.356262,
          37.316799,
          39.417744,
          50.827025,
          53.128005,
          42.396068,
          63.00497,
          42.50598,
          46.768903,
          43.946027,
          33.039808,
          41.04805,
          41.147947,
          41.661978,
          35.413027,
          38.232088,
          45.731068,
          41.195631,
          58.187961,
          34.749985,
          47.923088,
          39.857149,
          36.008119,
          43.246269,
          31.445265,
          38.518906,
          54.921866,
          36.000013,
          34.430266,
          48.87414,
          50.239086,
          37.168026,
          41.876793,
          39.39104,
          34.080982,
          43.971777,
          68.933725,
          62.31594,
          40.299178,
          39.407968,
          37.384987,
          43.162107,
          30.870915,
          36.515951,
          35.67481,
          38.314104,
          34.686804,
          67.466259,
          27.035952,
          86.121082,
          51.276923,
          129.420996,
          43.054103,
          38.626194,
          34.55472,
          38.809299,
          36.691904,
          37.852048,
          39.829016,
          40.216923,
          50.679683,
          39.352894,
          39.03985,
          50.911903,
          44.50512,
          36.836862,
          49.469948,
          58.423043,
          35.237312,
          45.7232,
          35.755873,
          44.636725,
          40.024042,
          38.255214,
          36.067962,
          45.232773,
          39.879799,
          41.972876,
          35.107851,
          34.113646,
          39.055824,
          38.622856,
          49.469948,
          42.275906,
          36.49211,
          66.917181,
          275.721074,
          39.645911,
          63.659907,
          38.17606,
          36.446095,
          44.139862,
          32.999039,
          38.614988,
          34.248113,
          49.880028,
          32.748937,
          38.616181,
          50.136804,
          53.436995,
          42.87982,
          41.230202,
          32.833099,
          39.407015,
          32.324076,
          82.937002,
          36.230086,
          103.718758
         ],
         "xaxis": "x",
         "yaxis": "y"
        },
        {
         "alignmentgroup": "True",
         "base": [
          "2024-05-08T18:22:58.903532"
         ],
         "hovertemplate": "name=worker_6_swap<br>start_time=%{base}<br>end_time=%{x}<extra></extra>",
         "legendgroup": "worker_6_swap",
         "marker": {
          "color": "#FF6692",
          "opacity": 0.4,
          "pattern": {
           "shape": ""
          }
         },
         "name": "worker_6_swap",
         "offsetgroup": "worker_6_swap",
         "orientation": "h",
         "showlegend": true,
         "textposition": "auto",
         "type": "bar",
         "x": [
          8.078098
         ],
         "xaxis": "x",
         "yaxis": "y"
        },
        {
         "alignmentgroup": "True",
         "base": [
          "2024-05-08T18:22:58.891194",
          "2024-05-08T18:23:00.779065",
          "2024-05-08T18:23:01.364393",
          "2024-05-08T18:23:02.017891",
          "2024-05-08T18:23:02.737445",
          "2024-05-08T18:23:03.348462",
          "2024-05-08T18:23:03.965396",
          "2024-05-08T18:23:04.648728",
          "2024-05-08T18:23:05.247586",
          "2024-05-08T18:23:06.273942",
          "2024-05-08T18:23:07.102806",
          "2024-05-08T18:23:09.210018",
          "2024-05-08T18:23:09.814645",
          "2024-05-08T18:23:10.419914",
          "2024-05-08T18:23:11.033711",
          "2024-05-08T18:23:11.707093",
          "2024-05-08T18:23:12.358863",
          "2024-05-08T18:23:13.050226",
          "2024-05-08T18:23:13.722342",
          "2024-05-08T18:23:14.347475",
          "2024-05-08T18:23:15.062974",
          "2024-05-08T18:23:17.030637",
          "2024-05-08T18:23:17.752920",
          "2024-05-08T18:23:18.376680",
          "2024-05-08T18:23:18.917387",
          "2024-05-08T18:23:19.622328",
          "2024-05-08T18:23:20.352555",
          "2024-05-08T18:23:20.980690",
          "2024-05-08T18:23:21.630107",
          "2024-05-08T18:23:22.239575",
          "2024-05-08T18:23:22.820515",
          "2024-05-08T18:23:24.823685",
          "2024-05-08T18:23:25.550805",
          "2024-05-08T18:23:26.297769",
          "2024-05-08T18:23:26.951850",
          "2024-05-08T18:23:27.555954",
          "2024-05-08T18:23:28.210478",
          "2024-05-08T18:23:28.823107",
          "2024-05-08T18:23:29.820110",
          "2024-05-08T18:23:30.714449",
          "2024-05-08T18:23:31.364240",
          "2024-05-08T18:23:33.466023",
          "2024-05-08T18:23:34.225454",
          "2024-05-08T18:23:34.870332",
          "2024-05-08T18:23:35.472282",
          "2024-05-08T18:23:36.131478",
          "2024-05-08T18:23:36.762640",
          "2024-05-08T18:23:37.313735",
          "2024-05-08T18:23:37.917050",
          "2024-05-08T18:23:38.570539",
          "2024-05-08T18:23:39.537374",
          "2024-05-08T18:23:41.754127",
          "2024-05-08T18:23:42.448831",
          "2024-05-08T18:23:43.165657",
          "2024-05-08T18:23:43.799433",
          "2024-05-08T18:23:44.440750",
          "2024-05-08T18:23:45.136202",
          "2024-05-08T18:23:45.733674",
          "2024-05-08T18:23:46.351475",
          "2024-05-08T18:23:46.923994",
          "2024-05-08T18:23:47.537537"
         ],
         "hovertemplate": "name=worker_6_send<br>start_time=%{base}<br>end_time=%{x}<extra></extra>",
         "legendgroup": "worker_6_send",
         "marker": {
          "color": "#B6E880",
          "opacity": 0.4,
          "pattern": {
           "shape": ""
          }
         },
         "name": "worker_6_send",
         "offsetgroup": "worker_6_send",
         "orientation": "h",
         "showlegend": true,
         "textposition": "auto",
         "type": "bar",
         "x": [
          12.320042,
          5.39875,
          6.582975,
          19.026756,
          3.263235,
          5.543947,
          6.430149,
          4.64201,
          5.384921,
          12.172223,
          6.423951,
          2.939701,
          4.929066,
          15.475988,
          5.868673,
          4.41289,
          6.689072,
          20.381927,
          26.137114,
          11.398077,
          21.996021,
          3.767013,
          3.85189,
          5.126238,
          4.874944,
          7.217884,
          8.054971,
          4.503012,
          5.676031,
          5.153894,
          6.605625,
          4.43101,
          2.919912,
          8.301973,
          4.092932,
          6.24013,
          5.167962,
          4.948139,
          5.707979,
          5.446195,
          2.683162,
          4.109144,
          3.779888,
          5.691052,
          4.167795,
          3.841877,
          7.649899,
          4.554987,
          4.070282,
          4.094124,
          28.098107,
          4.446983,
          16.352892,
          3.789902,
          11.048078,
          9.06086,
          7.961035,
          2.336026,
          7.249117,
          3.328801,
          4.891872
         ],
         "xaxis": "x",
         "yaxis": "y"
        },
        {
         "alignmentgroup": "True",
         "base": [
          "2024-05-08T18:22:58.405133",
          "2024-05-08T18:22:58.808164",
          "2024-05-08T18:23:00.407461",
          "2024-05-08T18:23:00.743941",
          "2024-05-08T18:23:00.958597",
          "2024-05-08T18:23:01.342565",
          "2024-05-08T18:23:01.635808",
          "2024-05-08T18:23:01.979552",
          "2024-05-08T18:23:02.209357",
          "2024-05-08T18:23:02.652852",
          "2024-05-08T18:23:02.937014",
          "2024-05-08T18:23:03.272371",
          "2024-05-08T18:23:03.545027",
          "2024-05-08T18:23:03.887909",
          "2024-05-08T18:23:04.168468",
          "2024-05-08T18:23:04.595472",
          "2024-05-08T18:23:04.864212",
          "2024-05-08T18:23:05.215477",
          "2024-05-08T18:23:05.475608",
          "2024-05-08T18:23:06.237466",
          "2024-05-08T18:23:06.595718",
          "2024-05-08T18:23:07.020686",
          "2024-05-08T18:23:08.772805",
          "2024-05-08T18:23:09.152429",
          "2024-05-08T18:23:09.407358",
          "2024-05-08T18:23:09.780523",
          "2024-05-08T18:23:10.048640",
          "2024-05-08T18:23:10.396466",
          "2024-05-08T18:23:10.623467",
          "2024-05-08T18:23:11.002555",
          "2024-05-08T18:23:11.268665",
          "2024-05-08T18:23:11.663823",
          "2024-05-08T18:23:11.924733",
          "2024-05-08T18:23:12.295472",
          "2024-05-08T18:23:12.641648",
          "2024-05-08T18:23:12.995362",
          "2024-05-08T18:23:13.298392",
          "2024-05-08T18:23:13.685252",
          "2024-05-08T18:23:13.954922",
          "2024-05-08T18:23:14.318548",
          "2024-05-08T18:23:14.566195",
          "2024-05-08T18:23:14.974230",
          "2024-05-08T18:23:16.640882",
          "2024-05-08T18:23:17.001274",
          "2024-05-08T18:23:17.294607",
          "2024-05-08T18:23:17.708742",
          "2024-05-08T18:23:17.987373",
          "2024-05-08T18:23:18.343438",
          "2024-05-08T18:23:18.554636",
          "2024-05-08T18:23:18.887993",
          "2024-05-08T18:23:19.113849",
          "2024-05-08T18:23:19.516431",
          "2024-05-08T18:23:19.888745",
          "2024-05-08T18:23:20.370383",
          "2024-05-08T18:23:20.596097",
          "2024-05-08T18:23:20.941097",
          "2024-05-08T18:23:21.251521",
          "2024-05-08T18:23:21.608378",
          "2024-05-08T18:23:21.834117",
          "2024-05-08T18:23:22.225554",
          "2024-05-08T18:23:22.453293",
          "2024-05-08T18:23:22.791312",
          "2024-05-08T18:23:24.389584",
          "2024-05-08T18:23:24.795325",
          "2024-05-08T18:23:25.105674",
          "2024-05-08T18:23:25.493056",
          "2024-05-08T18:23:25.780677",
          "2024-05-08T18:23:26.254265",
          "2024-05-08T18:23:26.587069",
          "2024-05-08T18:23:26.925781",
          "2024-05-08T18:23:27.171294",
          "2024-05-08T18:23:27.527358",
          "2024-05-08T18:23:27.768805",
          "2024-05-08T18:23:28.178293",
          "2024-05-08T18:23:28.402675",
          "2024-05-08T18:23:28.763676",
          "2024-05-08T18:23:29.106382",
          "2024-05-08T18:23:29.801023",
          "2024-05-08T18:23:30.204427",
          "2024-05-08T18:23:30.667813",
          "2024-05-08T18:23:30.930665",
          "2024-05-08T18:23:31.317864",
          "2024-05-08T18:23:33.033656",
          "2024-05-08T18:23:33.428267",
          "2024-05-08T18:23:33.728677",
          "2024-05-08T18:23:34.195681",
          "2024-05-08T18:23:34.476937",
          "2024-05-08T18:23:34.833189",
          "2024-05-08T18:23:35.084980",
          "2024-05-08T18:23:35.430484",
          "2024-05-08T18:23:35.730518",
          "2024-05-08T18:23:36.089421",
          "2024-05-08T18:23:36.375832",
          "2024-05-08T18:23:36.723579",
          "2024-05-08T18:23:36.945797",
          "2024-05-08T18:23:37.282224",
          "2024-05-08T18:23:37.526936",
          "2024-05-08T18:23:37.862370",
          "2024-05-08T18:23:38.107012",
          "2024-05-08T18:23:38.535876",
          "2024-05-08T18:23:38.792350",
          "2024-05-08T18:23:39.368773",
          "2024-05-08T18:23:41.333395",
          "2024-05-08T18:23:41.726456",
          "2024-05-08T18:23:41.954741",
          "2024-05-08T18:23:42.441477",
          "2024-05-08T18:23:42.747720",
          "2024-05-08T18:23:43.122561",
          "2024-05-08T18:23:43.421402",
          "2024-05-08T18:23:43.772813",
          "2024-05-08T18:23:44.073850",
          "2024-05-08T18:23:44.405946",
          "2024-05-08T18:23:44.660792",
          "2024-05-08T18:23:45.069296",
          "2024-05-08T18:23:45.335082",
          "2024-05-08T18:23:45.695375",
          "2024-05-08T18:23:45.988835",
          "2024-05-08T18:23:46.322873",
          "2024-05-08T18:23:46.549038",
          "2024-05-08T18:23:46.887303",
          "2024-05-08T18:23:47.125501",
          "2024-05-08T18:23:47.537459",
          "2024-05-08T18:23:49.283585"
         ],
         "hovertemplate": "name=worker_7<br>start_time=%{base}<br>end_time=%{x}<extra></extra>",
         "legendgroup": "worker_7",
         "marker": {
          "color": "#FF97FF",
          "opacity": 0.4,
          "pattern": {
           "shape": ""
          }
         },
         "name": "worker_7",
         "offsetgroup": "worker_7",
         "orientation": "h",
         "showlegend": true,
         "textposition": "auto",
         "type": "bar",
         "x": [
          50.657034,
          20.528793,
          38.355112,
          33.327818,
          82.329035,
          21.889925,
          39.814949,
          29.650926,
          52.881955,
          28.47004,
          34.702063,
          41.747808,
          38.519859,
          38.95402,
          36.947966,
          40.044069,
          39.969921,
          40.348053,
          50.882817,
          53.952694,
          50.430297,
          44.54565,
          41.7068,
          52.973032,
          38.864136,
          43.287039,
          43.112994,
          32.781125,
          40.596009,
          36.010981,
          39.082051,
          54.15082,
          42.678118,
          42.17434,
          38.526058,
          32.437086,
          36.76796,
          37.954807,
          40.51423,
          44.773102,
          37.441969,
          70.841789,
          38.50913,
          35.20894,
          44.751883,
          56.339264,
          39.965868,
          31.307936,
          38.160086,
          35.5227,
          37.039757,
          108.887196,
          70.271968,
          41.337967,
          40.865183,
          37.933111,
          43.787002,
          38.443804,
          46.880961,
          31.15487,
          39.592981,
          35.382032,
          73.449373,
          25.424957,
          81.280947,
          47.689915,
          114.152193,
          48.017026,
          38.535834,
          28.101921,
          40.182113,
          39.056063,
          34.04212,
          37.919045,
          44.965267,
          54.687977,
          46.840667,
          37.249089,
          56.586979,
          45.16387,
          38.138151,
          27.060985,
          50.813914,
          36.751986,
          49.15905,
          41.511774,
          44.245004,
          38.208007,
          38.296938,
          40.133,
          41.604757,
          40.778159,
          41.501999,
          38.520097,
          41.931629,
          36.367178,
          36.355734,
          42.711258,
          40.849925,
          45.490026,
          78.044891,
          212.017775,
          41.607142,
          40.708781,
          39.921045,
          31.268119,
          39.726019,
          37.164211,
          36.056757,
          36.327839,
          41.177035,
          33.041954,
          39.870978,
          65.557957,
          46.175957,
          100.340843,
          39.999009,
          32.243013,
          35.25567,
          37.164211,
          86.574079,
          38.553238,
          99.550962
         ],
         "xaxis": "x",
         "yaxis": "y"
        },
        {
         "alignmentgroup": "True",
         "base": [
          "2024-05-08T18:22:58.832243"
         ],
         "hovertemplate": "name=worker_7_swap<br>start_time=%{base}<br>end_time=%{x}<extra></extra>",
         "legendgroup": "worker_7_swap",
         "marker": {
          "color": "#FECB52",
          "opacity": 0.4,
          "pattern": {
           "shape": ""
          }
         },
         "name": "worker_7_swap",
         "offsetgroup": "worker_7_swap",
         "orientation": "h",
         "showlegend": true,
         "textposition": "auto",
         "type": "bar",
         "x": [
          5.881071
         ],
         "xaxis": "x",
         "yaxis": "y"
        },
        {
         "alignmentgroup": "True",
         "base": [
          "2024-05-08T18:22:58.829128",
          "2024-05-08T18:23:00.777957",
          "2024-05-08T18:23:01.364837",
          "2024-05-08T18:23:02.009747",
          "2024-05-08T18:23:02.681904",
          "2024-05-08T18:23:03.314630",
          "2024-05-08T18:23:03.927335",
          "2024-05-08T18:23:04.636265",
          "2024-05-08T18:23:05.256444",
          "2024-05-08T18:23:06.292587",
          "2024-05-08T18:23:07.066107",
          "2024-05-08T18:23:09.206156",
          "2024-05-08T18:23:09.829732",
          "2024-05-08T18:23:10.430008",
          "2024-05-08T18:23:11.040367",
          "2024-05-08T18:23:11.718763",
          "2024-05-08T18:23:12.341800",
          "2024-05-08T18:23:13.028687",
          "2024-05-08T18:23:13.726016",
          "2024-05-08T18:23:14.365189",
          "2024-05-08T18:23:15.050706",
          "2024-05-08T18:23:17.037377",
          "2024-05-08T18:23:17.766052",
          "2024-05-08T18:23:18.375716",
          "2024-05-08T18:23:18.924520",
          "2024-05-08T18:23:19.626480",
          "2024-05-08T18:23:20.414579",
          "2024-05-08T18:23:20.980315",
          "2024-05-08T18:23:21.654881",
          "2024-05-08T18:23:22.257853",
          "2024-05-08T18:23:22.827970",
          "2024-05-08T18:23:24.823720",
          "2024-05-08T18:23:25.541942",
          "2024-05-08T18:23:26.303536",
          "2024-05-08T18:23:26.955210",
          "2024-05-08T18:23:27.567937",
          "2024-05-08T18:23:28.217666",
          "2024-05-08T18:23:28.819770",
          "2024-05-08T18:23:29.840023",
          "2024-05-08T18:23:30.714175",
          "2024-05-08T18:23:31.346277",
          "2024-05-08T18:23:33.467884",
          "2024-05-08T18:23:34.238524",
          "2024-05-08T18:23:34.872869",
          "2024-05-08T18:23:35.480624",
          "2024-05-08T18:23:36.138860",
          "2024-05-08T18:23:36.763470",
          "2024-05-08T18:23:37.320029",
          "2024-05-08T18:23:37.906544",
          "2024-05-08T18:23:38.595898",
          "2024-05-08T18:23:39.582439",
          "2024-05-08T18:23:41.768661",
          "2024-05-08T18:23:42.474352",
          "2024-05-08T18:23:43.161522",
          "2024-05-08T18:23:43.810824",
          "2024-05-08T18:23:44.440750",
          "2024-05-08T18:23:45.138627",
          "2024-05-08T18:23:45.813438",
          "2024-05-08T18:23:46.356807",
          "2024-05-08T18:23:46.938647",
          "2024-05-08T18:23:47.584075"
         ],
         "hovertemplate": "name=worker_7_send<br>start_time=%{base}<br>end_time=%{x}<extra></extra>",
         "legendgroup": "worker_7_send",
         "marker": {
          "color": "#636efa",
          "opacity": 0.4,
          "pattern": {
           "shape": ""
          }
         },
         "name": "worker_7_send",
         "offsetgroup": "worker_7_send",
         "orientation": "h",
         "showlegend": true,
         "textposition": "auto",
         "type": "bar",
         "x": [
          3.101826,
          3.756762,
          5.150318,
          3.134012,
          3.345966,
          4.492998,
          4.581928,
          6.735087,
          3.334045,
          6.654978,
          6.629944,
          3.728867,
          31.153917,
          5.919933,
          6.303072,
          2.424955,
          2.933025,
          3.574848,
          22.554875,
          5.675077,
          21.025181,
          4.550934,
          4.004001,
          5.087853,
          4.535913,
          28.43523,
          6.287098,
          4.945039,
          9.102106,
          3.760099,
          3.603935,
          4.415035,
          6.03795,
          8.654833,
          6.942034,
          3.378868,
          3.383875,
          6.801843,
          5.316973,
          5.351066,
          6.090164,
          3.628015,
          4.081249,
          7.981062,
          11.464834,
          7.716894,
          4.25291,
          5.603075,
          4.924774,
          8.483887,
          49.414158,
          2.521038,
          8.893967,
          4.989147,
          4.490137,
          4.966974,
          3.42393,
          7.243157,
          4.466057,
          13.642072,
          3.085136
         ],
         "xaxis": "x",
         "yaxis": "y"
        },
        {
         "alignmentgroup": "True",
         "base": [
          "2024-05-08T18:22:58.410250",
          "2024-05-08T18:22:58.777253",
          "2024-05-08T18:23:00.411381",
          "2024-05-08T18:23:00.762232",
          "2024-05-08T18:23:00.985472",
          "2024-05-08T18:23:01.361639",
          "2024-05-08T18:23:01.639847",
          "2024-05-08T18:23:01.990367",
          "2024-05-08T18:23:02.215406",
          "2024-05-08T18:23:02.653089",
          "2024-05-08T18:23:02.940838",
          "2024-05-08T18:23:03.293544",
          "2024-05-08T18:23:03.549229",
          "2024-05-08T18:23:03.887591",
          "2024-05-08T18:23:04.172536",
          "2024-05-08T18:23:04.622071",
          "2024-05-08T18:23:04.868474",
          "2024-05-08T18:23:05.208558",
          "2024-05-08T18:23:05.482729",
          "2024-05-08T18:23:06.251731",
          "2024-05-08T18:23:06.601639",
          "2024-05-08T18:23:07.030192",
          "2024-05-08T18:23:08.776097",
          "2024-05-08T18:23:09.163305",
          "2024-05-08T18:23:09.411350",
          "2024-05-08T18:23:09.780051",
          "2024-05-08T18:23:10.054155",
          "2024-05-08T18:23:10.399963",
          "2024-05-08T18:23:10.627751",
          "2024-05-08T18:23:11.006309",
          "2024-05-08T18:23:11.272836",
          "2024-05-08T18:23:11.673825",
          "2024-05-08T18:23:11.928887",
          "2024-05-08T18:23:12.285790",
          "2024-05-08T18:23:12.647972",
          "2024-05-08T18:23:13.002943",
          "2024-05-08T18:23:13.302189",
          "2024-05-08T18:23:13.677483",
          "2024-05-08T18:23:13.958303",
          "2024-05-08T18:23:14.328300",
          "2024-05-08T18:23:14.571861",
          "2024-05-08T18:23:15.045751",
          "2024-05-08T18:23:16.644705",
          "2024-05-08T18:23:17.008155",
          "2024-05-08T18:23:17.300885",
          "2024-05-08T18:23:17.712304",
          "2024-05-08T18:23:17.991859",
          "2024-05-08T18:23:18.344588",
          "2024-05-08T18:23:18.558766",
          "2024-05-08T18:23:18.900987",
          "2024-05-08T18:23:19.120049",
          "2024-05-08T18:23:19.533020",
          "2024-05-08T18:23:19.894735",
          "2024-05-08T18:23:20.334674",
          "2024-05-08T18:23:20.600231",
          "2024-05-08T18:23:20.952299",
          "2024-05-08T18:23:21.255944",
          "2024-05-08T18:23:21.609539",
          "2024-05-08T18:23:21.837925",
          "2024-05-08T18:23:22.209815",
          "2024-05-08T18:23:22.456719",
          "2024-05-08T18:23:22.822631",
          "2024-05-08T18:23:24.393589",
          "2024-05-08T18:23:24.820696",
          "2024-05-08T18:23:25.109925",
          "2024-05-08T18:23:25.503377",
          "2024-05-08T18:23:25.790935",
          "2024-05-08T18:23:26.265676",
          "2024-05-08T18:23:26.590655",
          "2024-05-08T18:23:26.928300",
          "2024-05-08T18:23:27.176205",
          "2024-05-08T18:23:27.528960",
          "2024-05-08T18:23:27.771888",
          "2024-05-08T18:23:28.171998",
          "2024-05-08T18:23:28.407035",
          "2024-05-08T18:23:28.805552",
          "2024-05-08T18:23:29.111565",
          "2024-05-08T18:23:29.852822",
          "2024-05-08T18:23:30.208501",
          "2024-05-08T18:23:30.678644",
          "2024-05-08T18:23:30.935459",
          "2024-05-08T18:23:31.318044",
          "2024-05-08T18:23:33.039048",
          "2024-05-08T18:23:33.412135",
          "2024-05-08T18:23:33.734011",
          "2024-05-08T18:23:34.211077",
          "2024-05-08T18:23:34.481153",
          "2024-05-08T18:23:34.836009",
          "2024-05-08T18:23:35.088001",
          "2024-05-08T18:23:35.437541",
          "2024-05-08T18:23:35.735147",
          "2024-05-08T18:23:36.098693",
          "2024-05-08T18:23:36.379013",
          "2024-05-08T18:23:36.732419",
          "2024-05-08T18:23:36.950426",
          "2024-05-08T18:23:37.282311",
          "2024-05-08T18:23:37.530178",
          "2024-05-08T18:23:37.877606",
          "2024-05-08T18:23:38.112357",
          "2024-05-08T18:23:38.536849",
          "2024-05-08T18:23:38.797559",
          "2024-05-08T18:23:39.249570",
          "2024-05-08T18:23:41.336554",
          "2024-05-08T18:23:41.701721",
          "2024-05-08T18:23:41.959185",
          "2024-05-08T18:23:42.442177",
          "2024-05-08T18:23:42.751759",
          "2024-05-08T18:23:43.139873",
          "2024-05-08T18:23:43.424731",
          "2024-05-08T18:23:43.780261",
          "2024-05-08T18:23:44.079366",
          "2024-05-08T18:23:44.413882",
          "2024-05-08T18:23:44.664222",
          "2024-05-08T18:23:45.093618",
          "2024-05-08T18:23:45.338200",
          "2024-05-08T18:23:45.703117",
          "2024-05-08T18:23:45.992477",
          "2024-05-08T18:23:46.316922",
          "2024-05-08T18:23:46.552942",
          "2024-05-08T18:23:46.896955",
          "2024-05-08T18:23:47.129813",
          "2024-05-08T18:23:47.510352",
          "2024-05-08T18:23:49.287567"
         ],
         "hovertemplate": "name=worker_8<br>start_time=%{base}<br>end_time=%{x}<extra></extra>",
         "legendgroup": "worker_8",
         "marker": {
          "color": "#EF553B",
          "opacity": 0.4,
          "pattern": {
           "shape": ""
          }
         },
         "name": "worker_8",
         "offsetgroup": "worker_8",
         "orientation": "h",
         "showlegend": true,
         "textposition": "auto",
         "type": "bar",
         "x": [
          68.430185,
          29.835701,
          41.697026,
          26.474953,
          64.164876,
          37.28795,
          41.517019,
          36.310196,
          53.792954,
          24.019003,
          43.712139,
          26.528835,
          41.41283,
          39.056301,
          38.945913,
          36.669016,
          40.592909,
          38.25593,
          57.997227,
          56.87499,
          49.829006,
          42.828083,
          41.951895,
          36.549091,
          40.069818,
          31.657934,
          40.712834,
          38.668155,
          40.169001,
          34.929991,
          38.299799,
          38.728953,
          39.194822,
          42.865992,
          34.224987,
          32.79686,
          44.568777,
          25.77877,
          41.218043,
          39.651871,
          38.474083,
          44.036865,
          36.528826,
          40.53235,
          44.286012,
          54.292918,
          41.445255,
          29.635907,
          38.832903,
          34.451246,
          39.941072,
          71.974992,
          72.464228,
          36.30209,
          36.108017,
          39.224863,
          44.32416,
          33.551931,
          36.703825,
          35.562039,
          40.477276,
          47.454119,
          79.225064,
          32.102824,
          86.721897,
          48.740149,
          119.993925,
          33.319951,
          38.682938,
          28.301001,
          40.997744,
          34.795047,
          36.435127,
          37.792921,
          44.300079,
          39.451123,
          50.723791,
          25.092841,
          63.547134,
          41.806221,
          41.461945,
          26.211023,
          53.05028,
          37.761212,
          51.146984,
          30.97701,
          42.352915,
          39.798975,
          38.732052,
          35.239935,
          44.661999,
          36.437035,
          38.316965,
          35.682917,
          38.783312,
          35.871983,
          36.805869,
          41.33296,
          40.831327,
          36.96394,
          62.091112,
          304.45385,
          40.658951,
          40.425778,
          37.62722,
          58.43997,
          43.254853,
          32.335997,
          43.197155,
          46.993971,
          43.560267,
          53.467989,
          38.852215,
          46.663284,
          47.035933,
          43.047905,
          34.350157,
          32.724857,
          35.884857,
          30.709982,
          83.424091,
          60.898067,
          111.456156
         ],
         "xaxis": "x",
         "yaxis": "y"
        },
        {
         "alignmentgroup": "True",
         "base": [
          "2024-05-08T18:22:58.811348"
         ],
         "hovertemplate": "name=worker_8_swap<br>start_time=%{base}<br>end_time=%{x}<extra></extra>",
         "legendgroup": "worker_8_swap",
         "marker": {
          "color": "#00cc96",
          "opacity": 0.4,
          "pattern": {
           "shape": ""
          }
         },
         "name": "worker_8_swap",
         "offsetgroup": "worker_8_swap",
         "orientation": "h",
         "showlegend": true,
         "textposition": "auto",
         "type": "bar",
         "x": [
          5.862951
         ],
         "xaxis": "x",
         "yaxis": "y"
        },
        {
         "alignmentgroup": "True",
         "base": [
          "2024-05-08T18:22:58.807501",
          "2024-05-08T18:23:00.789098",
          "2024-05-08T18:23:01.399317",
          "2024-05-08T18:23:02.027205",
          "2024-05-08T18:23:02.677623",
          "2024-05-08T18:23:03.320543",
          "2024-05-08T18:23:03.927245",
          "2024-05-08T18:23:04.659415",
          "2024-05-08T18:23:05.247459",
          "2024-05-08T18:23:06.309669",
          "2024-05-08T18:23:07.074898",
          "2024-05-08T18:23:09.200700",
          "2024-05-08T18:23:09.812381",
          "2024-05-08T18:23:10.439338",
          "2024-05-08T18:23:11.042104",
          "2024-05-08T18:23:11.713340",
          "2024-05-08T18:23:12.329725",
          "2024-05-08T18:23:13.036495",
          "2024-05-08T18:23:13.708029",
          "2024-05-08T18:23:14.369926",
          "2024-05-08T18:23:15.090618",
          "2024-05-08T18:23:17.051399",
          "2024-05-08T18:23:17.771018",
          "2024-05-08T18:23:18.375119",
          "2024-05-08T18:23:18.939284",
          "2024-05-08T18:23:19.613037",
          "2024-05-08T18:23:20.371909",
          "2024-05-08T18:23:20.992518",
          "2024-05-08T18:23:21.644159",
          "2024-05-08T18:23:22.246596",
          "2024-05-08T18:23:22.871120",
          "2024-05-08T18:23:24.867579",
          "2024-05-08T18:23:25.553221",
          "2024-05-08T18:23:26.300248",
          "2024-05-08T18:23:26.957865",
          "2024-05-08T18:23:27.564980",
          "2024-05-08T18:23:28.211157",
          "2024-05-08T18:23:28.846266",
          "2024-05-08T18:23:29.879244",
          "2024-05-08T18:23:30.729280",
          "2024-05-08T18:23:31.345484",
          "2024-05-08T18:23:33.451356",
          "2024-05-08T18:23:34.243412",
          "2024-05-08T18:23:34.877254",
          "2024-05-08T18:23:35.474128",
          "2024-05-08T18:23:36.136533",
          "2024-05-08T18:23:36.769530",
          "2024-05-08T18:23:37.319813",
          "2024-05-08T18:23:37.920643",
          "2024-05-08T18:23:38.575462",
          "2024-05-08T18:23:39.555580",
          "2024-05-08T18:23:41.743951",
          "2024-05-08T18:23:42.502099",
          "2024-05-08T18:23:43.174585",
          "2024-05-08T18:23:43.845007",
          "2024-05-08T18:23:44.471827",
          "2024-05-08T18:23:45.149092",
          "2024-05-08T18:23:45.748336",
          "2024-05-08T18:23:46.351423",
          "2024-05-08T18:23:46.929304",
          "2024-05-08T18:23:47.577014"
         ],
         "hovertemplate": "name=worker_8_send<br>start_time=%{base}<br>end_time=%{x}<extra></extra>",
         "legendgroup": "worker_8_send",
         "marker": {
          "color": "#ab63fa",
          "opacity": 0.4,
          "pattern": {
           "shape": ""
          }
         },
         "name": "worker_8_send",
         "offsetgroup": "worker_8_send",
         "orientation": "h",
         "showlegend": true,
         "textposition": "auto",
         "type": "bar",
         "x": [
          3.839016,
          3.307104,
          7.748127,
          2.601147,
          12.011051,
          2.866983,
          4.746914,
          3.602981,
          6.596804,
          4.474878,
          4.93598,
          4.198075,
          6.438017,
          4.361152,
          5.122185,
          3.065109,
          4.113197,
          10.642767,
          18.25881,
          6.644011,
          9.14216,
          8.491039,
          4.918098,
          5.634069,
          4.297972,
          12.91895,
          3.828048,
          3.159046,
          2.983808,
          5.756855,
          1.88303,
          36.21006,
          3.096104,
          8.124828,
          4.923105,
          4.317045,
          5.674839,
          5.872965,
          3.998995,
          4.740953,
          6.814957,
          5.314112,
          5.138874,
          5.630255,
          2.912998,
          4.63891,
          3.084183,
          7.698059,
          4.631043,
          3.42226,
          17.965079,
          8.302212,
          11.631965,
          4.213095,
          11.613131,
          3.06201,
          2.672911,
          2.412796,
          4.319906,
          4.272938,
          9.823084
         ],
         "xaxis": "x",
         "yaxis": "y"
        },
        {
         "alignmentgroup": "True",
         "base": [
          "2024-05-08T18:22:58.416568",
          "2024-05-08T18:22:58.821619",
          "2024-05-08T18:23:00.415443",
          "2024-05-08T18:23:00.758270",
          "2024-05-08T18:23:01.006341",
          "2024-05-08T18:23:01.352299",
          "2024-05-08T18:23:01.643687",
          "2024-05-08T18:23:01.981631",
          "2024-05-08T18:23:02.223012",
          "2024-05-08T18:23:02.661417",
          "2024-05-08T18:23:02.944899",
          "2024-05-08T18:23:03.300189",
          "2024-05-08T18:23:03.555567",
          "2024-05-08T18:23:03.923541",
          "2024-05-08T18:23:04.177016",
          "2024-05-08T18:23:04.612128",
          "2024-05-08T18:23:04.872405",
          "2024-05-08T18:23:05.221573",
          "2024-05-08T18:23:05.488681",
          "2024-05-08T18:23:06.250897",
          "2024-05-08T18:23:06.609009",
          "2024-05-08T18:23:07.019763",
          "2024-05-08T18:23:08.780061",
          "2024-05-08T18:23:09.165648",
          "2024-05-08T18:23:09.421674",
          "2024-05-08T18:23:09.796051",
          "2024-05-08T18:23:10.061043",
          "2024-05-08T18:23:10.408277",
          "2024-05-08T18:23:10.632328",
          "2024-05-08T18:23:11.017378",
          "2024-05-08T18:23:11.276254",
          "2024-05-08T18:23:11.682261",
          "2024-05-08T18:23:11.932450",
          "2024-05-08T18:23:12.310021",
          "2024-05-08T18:23:12.652016",
          "2024-05-08T18:23:13.004516",
          "2024-05-08T18:23:13.309073",
          "2024-05-08T18:23:13.676863",
          "2024-05-08T18:23:13.961768",
          "2024-05-08T18:23:14.333189",
          "2024-05-08T18:23:14.576313",
          "2024-05-08T18:23:15.002229",
          "2024-05-08T18:23:16.648275",
          "2024-05-08T18:23:17.007956",
          "2024-05-08T18:23:17.305474",
          "2024-05-08T18:23:17.703665",
          "2024-05-08T18:23:17.996859",
          "2024-05-08T18:23:18.339325",
          "2024-05-08T18:23:18.562319",
          "2024-05-08T18:23:18.896564",
          "2024-05-08T18:23:19.123838",
          "2024-05-08T18:23:19.571958",
          "2024-05-08T18:23:19.901123",
          "2024-05-08T18:23:20.345703",
          "2024-05-08T18:23:20.604406",
          "2024-05-08T18:23:20.971256",
          "2024-05-08T18:23:21.261512",
          "2024-05-08T18:23:21.624085",
          "2024-05-08T18:23:21.841815",
          "2024-05-08T18:23:22.225635",
          "2024-05-08T18:23:22.461007",
          "2024-05-08T18:23:22.793966",
          "2024-05-08T18:23:24.396789",
          "2024-05-08T18:23:24.829525",
          "2024-05-08T18:23:25.113543",
          "2024-05-08T18:23:25.506108",
          "2024-05-08T18:23:25.795701",
          "2024-05-08T18:23:26.264586",
          "2024-05-08T18:23:26.596184",
          "2024-05-08T18:23:26.930808",
          "2024-05-08T18:23:27.180611",
          "2024-05-08T18:23:27.536545",
          "2024-05-08T18:23:27.776700",
          "2024-05-08T18:23:28.186297",
          "2024-05-08T18:23:28.411522",
          "2024-05-08T18:23:28.779981",
          "2024-05-08T18:23:29.115710",
          "2024-05-08T18:23:29.811212",
          "2024-05-08T18:23:30.213402",
          "2024-05-08T18:23:30.669281",
          "2024-05-08T18:23:30.938532",
          "2024-05-08T18:23:31.318057",
          "2024-05-08T18:23:33.046213",
          "2024-05-08T18:23:33.428815",
          "2024-05-08T18:23:33.738247",
          "2024-05-08T18:23:34.191763",
          "2024-05-08T18:23:34.486168",
          "2024-05-08T18:23:34.838618",
          "2024-05-08T18:23:35.093693",
          "2024-05-08T18:23:35.475418",
          "2024-05-08T18:23:35.740443",
          "2024-05-08T18:23:36.112997",
          "2024-05-08T18:23:36.383976",
          "2024-05-08T18:23:36.723006",
          "2024-05-08T18:23:36.954839",
          "2024-05-08T18:23:37.283456",
          "2024-05-08T18:23:37.535938",
          "2024-05-08T18:23:37.899887",
          "2024-05-08T18:23:38.116096",
          "2024-05-08T18:23:38.536886",
          "2024-05-08T18:23:38.801985",
          "2024-05-08T18:23:39.333194",
          "2024-05-08T18:23:41.340898",
          "2024-05-08T18:23:41.725401",
          "2024-05-08T18:23:41.964639",
          "2024-05-08T18:23:42.428336",
          "2024-05-08T18:23:42.756063",
          "2024-05-08T18:23:43.153412",
          "2024-05-08T18:23:43.430765",
          "2024-05-08T18:23:43.778549",
          "2024-05-08T18:23:44.084344",
          "2024-05-08T18:23:44.416047",
          "2024-05-08T18:23:44.668212",
          "2024-05-08T18:23:45.036162",
          "2024-05-08T18:23:45.344099",
          "2024-05-08T18:23:45.688513",
          "2024-05-08T18:23:45.999994",
          "2024-05-08T18:23:46.333436",
          "2024-05-08T18:23:46.557562",
          "2024-05-08T18:23:46.896328",
          "2024-05-08T18:23:47.158141",
          "2024-05-08T18:23:47.510977",
          "2024-05-08T18:23:49.292518"
         ],
         "hovertemplate": "name=worker_9<br>start_time=%{base}<br>end_time=%{x}<extra></extra>",
         "legendgroup": "worker_9",
         "marker": {
          "color": "#FFA15A",
          "opacity": 0.4,
          "pattern": {
           "shape": ""
          }
         },
         "name": "worker_9",
         "offsetgroup": "worker_9",
         "orientation": "h",
         "showlegend": true,
         "textposition": "auto",
         "type": "bar",
         "x": [
          90.041875,
          45.214891,
          40.22193,
          29.556036,
          48.755884,
          48.441887,
          39.931059,
          33.679008,
          54.587841,
          24.166108,
          42.884827,
          28.168202,
          42.501927,
          17.609835,
          42.435884,
          32.005072,
          38.58614,
          37.653685,
          51.620007,
          48.883915,
          42.32502,
          49.933195,
          42.181968,
          34.531117,
          36.926985,
          34.108878,
          50.219059,
          30.557871,
          45.01915,
          33.20694,
          39.236069,
          32.0611,
          41.221857,
          30.966997,
          35.440922,
          62.690735,
          32.688141,
          55.596113,
          44.856071,
          29.429912,
          37.645817,
          49.884081,
          38.725138,
          30.299187,
          43.287039,
          44.277906,
          38.685322,
          35.305977,
          32.057285,
          34.494877,
          37.863969,
          102.066994,
          69.885015,
          32.33099,
          39.121867,
          38.190841,
          38.653852,
          30.404091,
          43.437243,
          31.236887,
          40.591954,
          35.228014,
          84.080696,
          16.961097,
          79.844952,
          46.588184,
          121.011019,
          32.811164,
          39.609909,
          29.242993,
          32.928943,
          36.188841,
          36.838054,
          35.112858,
          40.977716,
          52.518845,
          44.770002,
          36.338806,
          53.949118,
          49.095869,
          40.767908,
          27.004004,
          54.313183,
          32.392263,
          45.753241,
          60.894966,
          45.544862,
          42.803049,
          38.496017,
          31.187296,
          43.198109,
          29.286861,
          40.785075,
          40.376186,
          38.897037,
          40.24601,
          37.148953,
          29.131889,
          43.854237,
          34.821988,
          70.039034,
          305.050135,
          39.154052,
          34.49297,
          41.359186,
          28.738738,
          45.810938,
          25.549888,
          36.048889,
          32.618999,
          43.505906,
          35.003901,
          37.138939,
          52.778006,
          40.795088,
          33.202886,
          36.305904,
          28.777123,
          38.151979,
          30.065298,
          62.761069,
          36.399841,
          110.684157
         ],
         "xaxis": "x",
         "yaxis": "y"
        },
        {
         "alignmentgroup": "True",
         "base": [
          "2024-05-08T18:22:58.878683"
         ],
         "hovertemplate": "name=worker_9_swap<br>start_time=%{base}<br>end_time=%{x}<extra></extra>",
         "legendgroup": "worker_9_swap",
         "marker": {
          "color": "#19d3f3",
          "opacity": 0.4,
          "pattern": {
           "shape": ""
          }
         },
         "name": "worker_9_swap",
         "offsetgroup": "worker_9_swap",
         "orientation": "h",
         "showlegend": true,
         "textposition": "auto",
         "type": "bar",
         "x": [
          9.798289
         ],
         "xaxis": "x",
         "yaxis": "y"
        },
        {
         "alignmentgroup": "True",
         "base": [
          "2024-05-08T18:22:58.867248",
          "2024-05-08T18:23:00.788295",
          "2024-05-08T18:23:01.404965",
          "2024-05-08T18:23:02.015858",
          "2024-05-08T18:23:02.686024",
          "2024-05-08T18:23:03.328904",
          "2024-05-08T18:23:03.941706",
          "2024-05-08T18:23:04.644784",
          "2024-05-08T18:23:05.259872",
          "2024-05-08T18:23:06.300568",
          "2024-05-08T18:23:07.070513",
          "2024-05-08T18:23:09.201200",
          "2024-05-08T18:23:09.838352",
          "2024-05-08T18:23:10.439539",
          "2024-05-08T18:23:11.051395",
          "2024-05-08T18:23:11.715182",
          "2024-05-08T18:23:12.343161",
          "2024-05-08T18:23:13.068151",
          "2024-05-08T18:23:13.733281",
          "2024-05-08T18:23:14.363514",
          "2024-05-08T18:23:15.060122",
          "2024-05-08T18:23:17.039191",
          "2024-05-08T18:23:17.748919",
          "2024-05-08T18:23:18.375679",
          "2024-05-08T18:23:18.932026",
          "2024-05-08T18:23:19.675215",
          "2024-05-08T18:23:20.379568",
          "2024-05-08T18:23:21.011894",
          "2024-05-08T18:23:21.656005",
          "2024-05-08T18:23:22.257864",
          "2024-05-08T18:23:22.830367",
          "2024-05-08T18:23:24.857907",
          "2024-05-08T18:23:25.553771",
          "2024-05-08T18:23:26.298746",
          "2024-05-08T18:23:26.961568",
          "2024-05-08T18:23:27.578092",
          "2024-05-08T18:23:28.222548",
          "2024-05-08T18:23:28.833959",
          "2024-05-08T18:23:29.849069",
          "2024-05-08T18:23:30.723330",
          "2024-05-08T18:23:31.346316",
          "2024-05-08T18:23:33.466375",
          "2024-05-08T18:23:34.260251",
          "2024-05-08T18:23:34.882776",
          "2024-05-08T18:23:35.508077",
          "2024-05-08T18:23:36.143720",
          "2024-05-08T18:23:36.764834",
          "2024-05-08T18:23:37.325515",
          "2024-05-08T18:23:37.930373",
          "2024-05-08T18:23:38.578680",
          "2024-05-08T18:23:39.639919",
          "2024-05-08T18:23:41.761394",
          "2024-05-08T18:23:42.464115",
          "2024-05-08T18:23:43.180570",
          "2024-05-08T18:23:43.812768",
          "2024-05-08T18:23:44.452685",
          "2024-05-08T18:23:45.105532",
          "2024-05-08T18:23:45.723450",
          "2024-05-08T18:23:46.363835",
          "2024-05-08T18:23:46.928094",
          "2024-05-08T18:23:47.549076"
         ],
         "hovertemplate": "name=worker_9_send<br>start_time=%{base}<br>end_time=%{x}<extra></extra>",
         "legendgroup": "worker_9_send",
         "marker": {
          "color": "#FF6692",
          "opacity": 0.4,
          "pattern": {
           "shape": ""
          }
         },
         "name": "worker_9_send",
         "offsetgroup": "worker_9_send",
         "orientation": "h",
         "showlegend": true,
         "textposition": "auto",
         "type": "bar",
         "x": [
          11.425972,
          3.050804,
          17.727136,
          3.793239,
          3.040076,
          12.715101,
          2.895117,
          3.447056,
          3.077985,
          9.255886,
          10.461092,
          3.736734,
          24.668216,
          4.055024,
          3.072977,
          2.977133,
          2.966881,
          7.326126,
          18.073082,
          2.621889,
          3.85809,
          4.824877,
          7.220984,
          5.107879,
          2.725124,
          3.937006,
          3.210783,
          5.834103,
          3.864765,
          3.473998,
          4.688025,
          18.266916,
          2.727031,
          6.876231,
          3.805876,
          7.627011,
          3.835201,
          5.01728,
          3.57771,
          12.362003,
          6.583929,
          3.966093,
          9.668112,
          4.112005,
          3.017901,
          2.723217,
          3.74484,
          4.359007,
          3.258705,
          7.047892,
          5.227804,
          3.151178,
          9.253264,
          5.340099,
          5.080223,
          2.520799,
          4.527092,
          3.568173,
          3.932237,
          2.999067,
          3.978968
         ],
         "xaxis": "x",
         "yaxis": "y"
        },
        {
         "alignmentgroup": "True",
         "base": [
          "2024-05-08T18:22:58.903584",
          "2024-05-08T18:23:00.794301",
          "2024-05-08T18:23:01.422661",
          "2024-05-08T18:23:02.032815",
          "2024-05-08T18:23:02.747317",
          "2024-05-08T18:23:03.354062",
          "2024-05-08T18:23:03.991744",
          "2024-05-08T18:23:04.686576",
          "2024-05-08T18:23:05.262974",
          "2024-05-08T18:23:06.314203",
          "2024-05-08T18:23:07.109317",
          "2024-05-08T18:23:09.221369",
          "2024-05-08T18:23:09.862921",
          "2024-05-08T18:23:10.449285",
          "2024-05-08T18:23:11.076211",
          "2024-05-08T18:23:11.721229",
          "2024-05-08T18:23:12.365616",
          "2024-05-08T18:23:13.075540",
          "2024-05-08T18:23:13.743905",
          "2024-05-08T18:23:14.376617",
          "2024-05-08T18:23:15.098345",
          "2024-05-08T18:23:17.059964",
          "2024-05-08T18:23:17.775992",
          "2024-05-08T18:23:18.381896",
          "2024-05-08T18:23:18.943650",
          "2024-05-08T18:23:19.679139",
          "2024-05-08T18:23:20.420911",
          "2024-05-08T18:23:21.017702",
          "2024-05-08T18:23:21.663971",
          "2024-05-08T18:23:22.280884",
          "2024-05-08T18:23:22.873038",
          "2024-05-08T18:23:24.903110",
          "2024-05-08T18:23:25.556545",
          "2024-05-08T18:23:26.317249",
          "2024-05-08T18:23:26.965413",
          "2024-05-08T18:23:27.585754",
          "2024-05-08T18:23:28.226373",
          "2024-05-08T18:23:28.852272",
          "2024-05-08T18:23:29.883296",
          "2024-05-08T18:23:30.733989",
          "2024-05-08T18:23:31.367000",
          "2024-05-08T18:23:33.471498",
          "2024-05-08T18:23:34.269105",
          "2024-05-08T18:23:34.886917",
          "2024-05-08T18:23:35.511174",
          "2024-05-08T18:23:36.146569",
          "2024-05-08T18:23:36.772692",
          "2024-05-08T18:23:37.353500",
          "2024-05-08T18:23:37.933690",
          "2024-05-08T18:23:38.604369",
          "2024-05-08T18:23:39.645190",
          "2024-05-08T18:23:41.771275",
          "2024-05-08T18:23:42.513489",
          "2024-05-08T18:23:43.212548",
          "2024-05-08T18:23:43.856569",
          "2024-05-08T18:23:44.474920",
          "2024-05-08T18:23:45.151446",
          "2024-05-08T18:23:45.820729",
          "2024-05-08T18:23:46.367815",
          "2024-05-08T18:23:46.958956",
          "2024-05-08T18:23:47.587157"
         ],
         "hovertemplate": "name=server_recv<br>start_time=%{base}<br>end_time=%{x}<extra></extra>",
         "legendgroup": "server_recv",
         "marker": {
          "color": "#B6E880",
          "opacity": 0.4,
          "pattern": {
           "shape": ""
          }
         },
         "name": "server_recv",
         "offsetgroup": "server_recv",
         "orientation": "h",
         "showlegend": true,
         "textposition": "auto",
         "type": "bar",
         "x": [
          142.001868,
          130.03993,
          168.745041,
          136.265755,
          153.09,
          134.627819,
          139.683007,
          142.696142,
          171.808959,
          239.124059,
          227.168083,
          149.759054,
          152.081966,
          137.620211,
          153.425932,
          164.581776,
          239.355326,
          184.233904,
          171.582938,
          147.241115,
          158.874035,
          147.711039,
          170.724869,
          138.2761,
          130.436898,
          171.312809,
          139.526844,
          195.064068,
          131.079912,
          136.878968,
          143.851995,
          166.600943,
          168.312073,
          230.915069,
          164.694071,
          147.81785,
          138.724804,
          206.720829,
          255.759001,
          158.076048,
          198.549986,
          216.116905,
          168.754101,
          160.109043,
          176.958085,
          175.441981,
          134.541034,
          134.298086,
          131.683827,
          151.019096,
          201.399088,
          146.508933,
          196.175099,
          168.394088,
          176.49889,
          146.919966,
          146.384716,
          126.610041,
          145.087957,
          124.566078,
          150.113105
         ],
         "xaxis": "x",
         "yaxis": "y"
        },
        {
         "alignmentgroup": "True",
         "base": [
          "2024-05-08T18:22:58.308205",
          "2024-05-08T18:23:00.366413",
          "2024-05-08T18:23:00.924731",
          "2024-05-08T18:23:01.591823",
          "2024-05-08T18:23:02.169534",
          "2024-05-08T18:23:02.900942",
          "2024-05-08T18:23:03.489183",
          "2024-05-08T18:23:04.131923",
          "2024-05-08T18:23:04.829830",
          "2024-05-08T18:23:05.435348",
          "2024-05-08T18:23:06.553874",
          "2024-05-08T18:23:08.736805",
          "2024-05-08T18:23:09.372549",
          "2024-05-08T18:23:10.015669",
          "2024-05-08T18:23:10.587557",
          "2024-05-08T18:23:11.230327",
          "2024-05-08T18:23:11.886485",
          "2024-05-08T18:23:12.605796",
          "2024-05-08T18:23:13.260589",
          "2024-05-08T18:23:13.916323",
          "2024-05-08T18:23:14.524647",
          "2024-05-08T18:23:16.602071",
          "2024-05-08T18:23:17.208739",
          "2024-05-08T18:23:17.947599",
          "2024-05-08T18:23:18.521126",
          "2024-05-08T18:23:19.075013",
          "2024-05-08T18:23:19.851423",
          "2024-05-08T18:23:20.561414",
          "2024-05-08T18:23:21.213788",
          "2024-05-08T18:23:21.796018",
          "2024-05-08T18:23:22.418705",
          "2024-05-08T18:23:24.351858",
          "2024-05-08T18:23:25.070860",
          "2024-05-08T18:23:25.726043",
          "2024-05-08T18:23:26.549303",
          "2024-05-08T18:23:27.131194",
          "2024-05-08T18:23:27.734626",
          "2024-05-08T18:23:28.366320",
          "2024-05-08T18:23:29.060224",
          "2024-05-08T18:23:30.140574",
          "2024-05-08T18:23:30.893373",
          "2024-05-08T18:23:32.989992",
          "2024-05-08T18:23:33.688899",
          "2024-05-08T18:23:34.439257",
          "2024-05-08T18:23:35.048396",
          "2024-05-08T18:23:35.689607",
          "2024-05-08T18:23:36.323324",
          "2024-05-08T18:23:36.908529",
          "2024-05-08T18:23:37.489329",
          "2024-05-08T18:23:38.066725",
          "2024-05-08T18:23:38.756763",
          "2024-05-08T18:23:41.290979",
          "2024-05-08T18:23:41.919250",
          "2024-05-08T18:23:42.711418",
          "2024-05-08T18:23:43.382547",
          "2024-05-08T18:23:44.034868",
          "2024-05-08T18:23:44.623459",
          "2024-05-08T18:23:45.299354",
          "2024-05-08T18:23:45.948833",
          "2024-05-08T18:23:46.514379",
          "2024-05-08T18:23:47.085274"
         ],
         "hovertemplate": "name=server_sent<br>start_time=%{base}<br>end_time=%{x}<extra></extra>",
         "legendgroup": "server_sent",
         "marker": {
          "color": "#FF97FF",
          "opacity": 0.4,
          "pattern": {
           "shape": ""
          }
         },
         "name": "server_sent",
         "offsetgroup": "server_sent",
         "orientation": "h",
         "showlegend": true,
         "textposition": "auto",
         "type": "bar",
         "x": [
          107.779741,
          48.653841,
          81.058025,
          51.55921,
          52.840948,
          43.69092,
          66.104173,
          44.806957,
          42.202234,
          52.938938,
          54.844857,
          42.967081,
          48.535109,
          45.06588,
          44.482231,
          45.631886,
          45.673847,
          45.957803,
          48.202992,
          45.165777,
          51.084996,
          45.884847,
          96.519947,
          48.765182,
          40.912152,
          48.546076,
          49.189091,
          42.729139,
          46.911001,
          45.52412,
          42.026043,
          44.628144,
          42.405844,
          69.377899,
          46.606779,
          49.098015,
          41.805029,
          44.941902,
          55.174828,
          72.337151,
          44.870138,
          55.450201,
          49.048901,
          46.626806,
          45.018911,
          50.530195,
          60.147285,
          46.012163,
          46.327113,
          48.99192,
          44.90304,
          49.506664,
          45.08996,
          44.075727,
          47.919274,
          49.203873,
          44.475794,
          44.15512,
          50.870181,
          42.821884,
          62.222957
         ],
         "xaxis": "x",
         "yaxis": "y"
        },
        {
         "alignmentgroup": "True",
         "base": [
          "2024-05-08T18:22:58.308205",
          "2024-05-08T18:23:00.366413",
          "2024-05-08T18:23:00.924731",
          "2024-05-08T18:23:01.591823",
          "2024-05-08T18:23:02.169534",
          "2024-05-08T18:23:02.900942",
          "2024-05-08T18:23:03.489183",
          "2024-05-08T18:23:04.131923",
          "2024-05-08T18:23:04.829830",
          "2024-05-08T18:23:05.435348",
          "2024-05-08T18:23:06.553874",
          "2024-05-08T18:23:08.736805",
          "2024-05-08T18:23:09.372549",
          "2024-05-08T18:23:10.015669",
          "2024-05-08T18:23:10.587557",
          "2024-05-08T18:23:11.230327",
          "2024-05-08T18:23:11.886485",
          "2024-05-08T18:23:12.605796",
          "2024-05-08T18:23:13.260589",
          "2024-05-08T18:23:13.916323",
          "2024-05-08T18:23:14.524647",
          "2024-05-08T18:23:16.602071",
          "2024-05-08T18:23:17.208739",
          "2024-05-08T18:23:17.947599",
          "2024-05-08T18:23:18.521126",
          "2024-05-08T18:23:19.075013",
          "2024-05-08T18:23:19.851423",
          "2024-05-08T18:23:20.561414",
          "2024-05-08T18:23:21.213788",
          "2024-05-08T18:23:21.796018",
          "2024-05-08T18:23:22.418705",
          "2024-05-08T18:23:24.351858",
          "2024-05-08T18:23:25.070860",
          "2024-05-08T18:23:25.726043",
          "2024-05-08T18:23:26.549303",
          "2024-05-08T18:23:27.131194",
          "2024-05-08T18:23:27.734626",
          "2024-05-08T18:23:28.366320",
          "2024-05-08T18:23:29.060224",
          "2024-05-08T18:23:30.140574",
          "2024-05-08T18:23:30.893373",
          "2024-05-08T18:23:32.989992",
          "2024-05-08T18:23:33.688899",
          "2024-05-08T18:23:34.439257",
          "2024-05-08T18:23:35.048396",
          "2024-05-08T18:23:35.689607",
          "2024-05-08T18:23:36.323324",
          "2024-05-08T18:23:36.908529",
          "2024-05-08T18:23:37.489329",
          "2024-05-08T18:23:38.066725",
          "2024-05-08T18:23:38.756763",
          "2024-05-08T18:23:41.290979",
          "2024-05-08T18:23:41.919250",
          "2024-05-08T18:23:42.711418",
          "2024-05-08T18:23:43.382547",
          "2024-05-08T18:23:44.034868",
          "2024-05-08T18:23:44.623459",
          "2024-05-08T18:23:45.299354",
          "2024-05-08T18:23:45.948833",
          "2024-05-08T18:23:46.514379",
          "2024-05-08T18:23:47.085274"
         ],
         "hovertemplate": "name=server<br>start_time=%{base}<br>end_time=%{x}<extra></extra>",
         "legendgroup": "server",
         "marker": {
          "color": "#FECB52",
          "opacity": 0.4,
          "pattern": {
           "shape": ""
          }
         },
         "name": "server",
         "offsetgroup": "server",
         "orientation": "h",
         "showlegend": true,
         "textposition": "auto",
         "type": "bar",
         "x": [
          737.380743,
          557.928801,
          666.674137,
          577.257157,
          730.872154,
          587.747812,
          642.244099,
          697.349071,
          604.952097,
          1117.979049,
          782.610178,
          634.322166,
          642.453194,
          571.237088,
          642.080068,
          655.483723,
          718.487024,
          653.977871,
          654.898883,
          607.535838,
          732.57208,
          605.604887,
          737.977982,
          572.572231,
          552.95992,
          775.43807,
          709.014893,
          651.351929,
          581.262112,
          621.744156,
          598.184109,
          717.85307,
          653.996945,
          822.120189,
          580.804825,
          602.377891,
          630.471945,
          692.673683,
          1078.830958,
          751.49107,
          672.177076,
          697.622061,
          748.960972,
          607.769728,
          639.73689,
          632.404089,
          583.909034,
          579.268932,
          576.044083,
          688.663007,
          1089.826107,
          626.804829,
          790.414095,
          669.523954,
          650.520087,
          586.972952,
          674.371719,
          647.984266,
          564.069033,
          569.143056,
          651.996135
         ],
         "xaxis": "x",
         "yaxis": "y"
        }
       ],
       "layout": {
        "barmode": "overlay",
        "legend": {
         "title": {
          "text": "name"
         },
         "tracegroupgap": 0
        },
        "shapes": [
         {
          "line": {
           "color": "red",
           "dash": "dash"
          },
          "type": "line",
          "x0": "2024-05-08T18:22:58.308205128",
          "x1": "2024-05-08T18:22:58.308205128",
          "xref": "x",
          "y0": 0,
          "y1": 1,
          "yref": "y domain"
         },
         {
          "line": {
           "color": "red",
           "dash": "dash"
          },
          "type": "line",
          "x0": "2024-05-08T18:23:00.366413116",
          "x1": "2024-05-08T18:23:00.366413116",
          "xref": "x",
          "y0": 0,
          "y1": 1,
          "yref": "y domain"
         },
         {
          "line": {
           "color": "red",
           "dash": "dash"
          },
          "type": "line",
          "x0": "2024-05-08T18:23:00.924731970",
          "x1": "2024-05-08T18:23:00.924731970",
          "xref": "x",
          "y0": 0,
          "y1": 1,
          "yref": "y domain"
         },
         {
          "line": {
           "color": "red",
           "dash": "dash"
          },
          "type": "line",
          "x0": "2024-05-08T18:23:01.591823816",
          "x1": "2024-05-08T18:23:01.591823816",
          "xref": "x",
          "y0": 0,
          "y1": 1,
          "yref": "y domain"
         },
         {
          "line": {
           "color": "red",
           "dash": "dash"
          },
          "type": "line",
          "x0": "2024-05-08T18:23:02.169534922",
          "x1": "2024-05-08T18:23:02.169534922",
          "xref": "x",
          "y0": 0,
          "y1": 1,
          "yref": "y domain"
         },
         {
          "line": {
           "color": "red",
           "dash": "dash"
          },
          "type": "line",
          "x0": "2024-05-08T18:23:02.900942087",
          "x1": "2024-05-08T18:23:02.900942087",
          "xref": "x",
          "y0": 0,
          "y1": 1,
          "yref": "y domain"
         },
         {
          "line": {
           "color": "red",
           "dash": "dash"
          },
          "type": "line",
          "x0": "2024-05-08T18:23:03.489183903",
          "x1": "2024-05-08T18:23:03.489183903",
          "xref": "x",
          "y0": 0,
          "y1": 1,
          "yref": "y domain"
         },
         {
          "line": {
           "color": "red",
           "dash": "dash"
          },
          "type": "line",
          "x0": "2024-05-08T18:23:04.131923914",
          "x1": "2024-05-08T18:23:04.131923914",
          "xref": "x",
          "y0": 0,
          "y1": 1,
          "yref": "y domain"
         },
         {
          "line": {
           "color": "red",
           "dash": "dash"
          },
          "type": "line",
          "x0": "2024-05-08T18:23:04.829830885",
          "x1": "2024-05-08T18:23:04.829830885",
          "xref": "x",
          "y0": 0,
          "y1": 1,
          "yref": "y domain"
         },
         {
          "line": {
           "color": "red",
           "dash": "dash"
          },
          "type": "line",
          "x0": "2024-05-08T18:23:05.435348988",
          "x1": "2024-05-08T18:23:05.435348988",
          "xref": "x",
          "y0": 0,
          "y1": 1,
          "yref": "y domain"
         },
         {
          "line": {
           "color": "red",
           "dash": "dash"
          },
          "type": "line",
          "x0": "2024-05-08T18:23:06.553874969",
          "x1": "2024-05-08T18:23:06.553874969",
          "xref": "x",
          "y0": 0,
          "y1": 1,
          "yref": "y domain"
         },
         {
          "line": {
           "color": "red",
           "dash": "dash"
          },
          "type": "line",
          "x0": "2024-05-08T18:23:08.736805916",
          "x1": "2024-05-08T18:23:08.736805916",
          "xref": "x",
          "y0": 0,
          "y1": 1,
          "yref": "y domain"
         },
         {
          "line": {
           "color": "red",
           "dash": "dash"
          },
          "type": "line",
          "x0": "2024-05-08T18:23:09.372549772",
          "x1": "2024-05-08T18:23:09.372549772",
          "xref": "x",
          "y0": 0,
          "y1": 1,
          "yref": "y domain"
         },
         {
          "line": {
           "color": "red",
           "dash": "dash"
          },
          "type": "line",
          "x0": "2024-05-08T18:23:10.015669107",
          "x1": "2024-05-08T18:23:10.015669107",
          "xref": "x",
          "y0": 0,
          "y1": 1,
          "yref": "y domain"
         },
         {
          "line": {
           "color": "red",
           "dash": "dash"
          },
          "type": "line",
          "x0": "2024-05-08T18:23:10.587557793",
          "x1": "2024-05-08T18:23:10.587557793",
          "xref": "x",
          "y0": 0,
          "y1": 1,
          "yref": "y domain"
         },
         {
          "line": {
           "color": "red",
           "dash": "dash"
          },
          "type": "line",
          "x0": "2024-05-08T18:23:11.230327129",
          "x1": "2024-05-08T18:23:11.230327129",
          "xref": "x",
          "y0": 0,
          "y1": 1,
          "yref": "y domain"
         },
         {
          "line": {
           "color": "red",
           "dash": "dash"
          },
          "type": "line",
          "x0": "2024-05-08T18:23:11.886485100",
          "x1": "2024-05-08T18:23:11.886485100",
          "xref": "x",
          "y0": 0,
          "y1": 1,
          "yref": "y domain"
         },
         {
          "line": {
           "color": "red",
           "dash": "dash"
          },
          "type": "line",
          "x0": "2024-05-08T18:23:12.605796099",
          "x1": "2024-05-08T18:23:12.605796099",
          "xref": "x",
          "y0": 0,
          "y1": 1,
          "yref": "y domain"
         },
         {
          "line": {
           "color": "red",
           "dash": "dash"
          },
          "type": "line",
          "x0": "2024-05-08T18:23:13.260589122",
          "x1": "2024-05-08T18:23:13.260589122",
          "xref": "x",
          "y0": 0,
          "y1": 1,
          "yref": "y domain"
         },
         {
          "line": {
           "color": "red",
           "dash": "dash"
          },
          "type": "line",
          "x0": "2024-05-08T18:23:13.916323185",
          "x1": "2024-05-08T18:23:13.916323185",
          "xref": "x",
          "y0": 0,
          "y1": 1,
          "yref": "y domain"
         },
         {
          "line": {
           "color": "red",
           "dash": "dash"
          },
          "type": "line",
          "x0": "2024-05-08T18:23:14.524647950",
          "x1": "2024-05-08T18:23:14.524647950",
          "xref": "x",
          "y0": 0,
          "y1": 1,
          "yref": "y domain"
         },
         {
          "line": {
           "color": "red",
           "dash": "dash"
          },
          "type": "line",
          "x0": "2024-05-08T18:23:16.602071047",
          "x1": "2024-05-08T18:23:16.602071047",
          "xref": "x",
          "y0": 0,
          "y1": 1,
          "yref": "y domain"
         },
         {
          "line": {
           "color": "red",
           "dash": "dash"
          },
          "type": "line",
          "x0": "2024-05-08T18:23:17.208739042",
          "x1": "2024-05-08T18:23:17.208739042",
          "xref": "x",
          "y0": 0,
          "y1": 1,
          "yref": "y domain"
         },
         {
          "line": {
           "color": "red",
           "dash": "dash"
          },
          "type": "line",
          "x0": "2024-05-08T18:23:17.947599888",
          "x1": "2024-05-08T18:23:17.947599888",
          "xref": "x",
          "y0": 0,
          "y1": 1,
          "yref": "y domain"
         },
         {
          "line": {
           "color": "red",
           "dash": "dash"
          },
          "type": "line",
          "x0": "2024-05-08T18:23:18.521126985",
          "x1": "2024-05-08T18:23:18.521126985",
          "xref": "x",
          "y0": 0,
          "y1": 1,
          "yref": "y domain"
         },
         {
          "line": {
           "color": "red",
           "dash": "dash"
          },
          "type": "line",
          "x0": "2024-05-08T18:23:19.075013876",
          "x1": "2024-05-08T18:23:19.075013876",
          "xref": "x",
          "y0": 0,
          "y1": 1,
          "yref": "y domain"
         },
         {
          "line": {
           "color": "red",
           "dash": "dash"
          },
          "type": "line",
          "x0": "2024-05-08T18:23:19.851423025",
          "x1": "2024-05-08T18:23:19.851423025",
          "xref": "x",
          "y0": 0,
          "y1": 1,
          "yref": "y domain"
         },
         {
          "line": {
           "color": "red",
           "dash": "dash"
          },
          "type": "line",
          "x0": "2024-05-08T18:23:20.561414957",
          "x1": "2024-05-08T18:23:20.561414957",
          "xref": "x",
          "y0": 0,
          "y1": 1,
          "yref": "y domain"
         },
         {
          "line": {
           "color": "red",
           "dash": "dash"
          },
          "type": "line",
          "x0": "2024-05-08T18:23:21.213788986",
          "x1": "2024-05-08T18:23:21.213788986",
          "xref": "x",
          "y0": 0,
          "y1": 1,
          "yref": "y domain"
         },
         {
          "line": {
           "color": "red",
           "dash": "dash"
          },
          "type": "line",
          "x0": "2024-05-08T18:23:21.796018839",
          "x1": "2024-05-08T18:23:21.796018839",
          "xref": "x",
          "y0": 0,
          "y1": 1,
          "yref": "y domain"
         },
         {
          "line": {
           "color": "red",
           "dash": "dash"
          },
          "type": "line",
          "x0": "2024-05-08T18:23:22.418705940",
          "x1": "2024-05-08T18:23:22.418705940",
          "xref": "x",
          "y0": 0,
          "y1": 1,
          "yref": "y domain"
         },
         {
          "line": {
           "color": "red",
           "dash": "dash"
          },
          "type": "line",
          "x0": "2024-05-08T18:23:24.351858854",
          "x1": "2024-05-08T18:23:24.351858854",
          "xref": "x",
          "y0": 0,
          "y1": 1,
          "yref": "y domain"
         },
         {
          "line": {
           "color": "red",
           "dash": "dash"
          },
          "type": "line",
          "x0": "2024-05-08T18:23:25.070860147",
          "x1": "2024-05-08T18:23:25.070860147",
          "xref": "x",
          "y0": 0,
          "y1": 1,
          "yref": "y domain"
         },
         {
          "line": {
           "color": "red",
           "dash": "dash"
          },
          "type": "line",
          "x0": "2024-05-08T18:23:25.726043940",
          "x1": "2024-05-08T18:23:25.726043940",
          "xref": "x",
          "y0": 0,
          "y1": 1,
          "yref": "y domain"
         },
         {
          "line": {
           "color": "red",
           "dash": "dash"
          },
          "type": "line",
          "x0": "2024-05-08T18:23:26.549303055",
          "x1": "2024-05-08T18:23:26.549303055",
          "xref": "x",
          "y0": 0,
          "y1": 1,
          "yref": "y domain"
         },
         {
          "line": {
           "color": "red",
           "dash": "dash"
          },
          "type": "line",
          "x0": "2024-05-08T18:23:27.131194115",
          "x1": "2024-05-08T18:23:27.131194115",
          "xref": "x",
          "y0": 0,
          "y1": 1,
          "yref": "y domain"
         },
         {
          "line": {
           "color": "red",
           "dash": "dash"
          },
          "type": "line",
          "x0": "2024-05-08T18:23:27.734626055",
          "x1": "2024-05-08T18:23:27.734626055",
          "xref": "x",
          "y0": 0,
          "y1": 1,
          "yref": "y domain"
         },
         {
          "line": {
           "color": "red",
           "dash": "dash"
          },
          "type": "line",
          "x0": "2024-05-08T18:23:28.366320133",
          "x1": "2024-05-08T18:23:28.366320133",
          "xref": "x",
          "y0": 0,
          "y1": 1,
          "yref": "y domain"
         },
         {
          "line": {
           "color": "red",
           "dash": "dash"
          },
          "type": "line",
          "x0": "2024-05-08T18:23:29.060224056",
          "x1": "2024-05-08T18:23:29.060224056",
          "xref": "x",
          "y0": 0,
          "y1": 1,
          "yref": "y domain"
         },
         {
          "line": {
           "color": "red",
           "dash": "dash"
          },
          "type": "line",
          "x0": "2024-05-08T18:23:30.140574932",
          "x1": "2024-05-08T18:23:30.140574932",
          "xref": "x",
          "y0": 0,
          "y1": 1,
          "yref": "y domain"
         },
         {
          "line": {
           "color": "red",
           "dash": "dash"
          },
          "type": "line",
          "x0": "2024-05-08T18:23:30.893373013",
          "x1": "2024-05-08T18:23:30.893373013",
          "xref": "x",
          "y0": 0,
          "y1": 1,
          "yref": "y domain"
         },
         {
          "line": {
           "color": "red",
           "dash": "dash"
          },
          "type": "line",
          "x0": "2024-05-08T18:23:32.989992857",
          "x1": "2024-05-08T18:23:32.989992857",
          "xref": "x",
          "y0": 0,
          "y1": 1,
          "yref": "y domain"
         },
         {
          "line": {
           "color": "red",
           "dash": "dash"
          },
          "type": "line",
          "x0": "2024-05-08T18:23:33.688899040",
          "x1": "2024-05-08T18:23:33.688899040",
          "xref": "x",
          "y0": 0,
          "y1": 1,
          "yref": "y domain"
         },
         {
          "line": {
           "color": "red",
           "dash": "dash"
          },
          "type": "line",
          "x0": "2024-05-08T18:23:34.439257145",
          "x1": "2024-05-08T18:23:34.439257145",
          "xref": "x",
          "y0": 0,
          "y1": 1,
          "yref": "y domain"
         },
         {
          "line": {
           "color": "red",
           "dash": "dash"
          },
          "type": "line",
          "x0": "2024-05-08T18:23:35.048396111",
          "x1": "2024-05-08T18:23:35.048396111",
          "xref": "x",
          "y0": 0,
          "y1": 1,
          "yref": "y domain"
         },
         {
          "line": {
           "color": "red",
           "dash": "dash"
          },
          "type": "line",
          "x0": "2024-05-08T18:23:35.689607859",
          "x1": "2024-05-08T18:23:35.689607859",
          "xref": "x",
          "y0": 0,
          "y1": 1,
          "yref": "y domain"
         },
         {
          "line": {
           "color": "red",
           "dash": "dash"
          },
          "type": "line",
          "x0": "2024-05-08T18:23:36.323324919",
          "x1": "2024-05-08T18:23:36.323324919",
          "xref": "x",
          "y0": 0,
          "y1": 1,
          "yref": "y domain"
         },
         {
          "line": {
           "color": "red",
           "dash": "dash"
          },
          "type": "line",
          "x0": "2024-05-08T18:23:36.908529997",
          "x1": "2024-05-08T18:23:36.908529997",
          "xref": "x",
          "y0": 0,
          "y1": 1,
          "yref": "y domain"
         },
         {
          "line": {
           "color": "red",
           "dash": "dash"
          },
          "type": "line",
          "x0": "2024-05-08T18:23:37.489329815",
          "x1": "2024-05-08T18:23:37.489329815",
          "xref": "x",
          "y0": 0,
          "y1": 1,
          "yref": "y domain"
         },
         {
          "line": {
           "color": "red",
           "dash": "dash"
          },
          "type": "line",
          "x0": "2024-05-08T18:23:38.066725968",
          "x1": "2024-05-08T18:23:38.066725968",
          "xref": "x",
          "y0": 0,
          "y1": 1,
          "yref": "y domain"
         },
         {
          "line": {
           "color": "red",
           "dash": "dash"
          },
          "type": "line",
          "x0": "2024-05-08T18:23:38.756763935",
          "x1": "2024-05-08T18:23:38.756763935",
          "xref": "x",
          "y0": 0,
          "y1": 1,
          "yref": "y domain"
         },
         {
          "line": {
           "color": "red",
           "dash": "dash"
          },
          "type": "line",
          "x0": "2024-05-08T18:23:41.290979147",
          "x1": "2024-05-08T18:23:41.290979147",
          "xref": "x",
          "y0": 0,
          "y1": 1,
          "yref": "y domain"
         },
         {
          "line": {
           "color": "red",
           "dash": "dash"
          },
          "type": "line",
          "x0": "2024-05-08T18:23:41.919250965",
          "x1": "2024-05-08T18:23:41.919250965",
          "xref": "x",
          "y0": 0,
          "y1": 1,
          "yref": "y domain"
         },
         {
          "line": {
           "color": "red",
           "dash": "dash"
          },
          "type": "line",
          "x0": "2024-05-08T18:23:42.711418152",
          "x1": "2024-05-08T18:23:42.711418152",
          "xref": "x",
          "y0": 0,
          "y1": 1,
          "yref": "y domain"
         },
         {
          "line": {
           "color": "red",
           "dash": "dash"
          },
          "type": "line",
          "x0": "2024-05-08T18:23:43.382547855",
          "x1": "2024-05-08T18:23:43.382547855",
          "xref": "x",
          "y0": 0,
          "y1": 1,
          "yref": "y domain"
         },
         {
          "line": {
           "color": "red",
           "dash": "dash"
          },
          "type": "line",
          "x0": "2024-05-08T18:23:44.034868002",
          "x1": "2024-05-08T18:23:44.034868002",
          "xref": "x",
          "y0": 0,
          "y1": 1,
          "yref": "y domain"
         },
         {
          "line": {
           "color": "red",
           "dash": "dash"
          },
          "type": "line",
          "x0": "2024-05-08T18:23:44.623459101",
          "x1": "2024-05-08T18:23:44.623459101",
          "xref": "x",
          "y0": 0,
          "y1": 1,
          "yref": "y domain"
         },
         {
          "line": {
           "color": "red",
           "dash": "dash"
          },
          "type": "line",
          "x0": "2024-05-08T18:23:45.299354792",
          "x1": "2024-05-08T18:23:45.299354792",
          "xref": "x",
          "y0": 0,
          "y1": 1,
          "yref": "y domain"
         },
         {
          "line": {
           "color": "red",
           "dash": "dash"
          },
          "type": "line",
          "x0": "2024-05-08T18:23:45.948833942",
          "x1": "2024-05-08T18:23:45.948833942",
          "xref": "x",
          "y0": 0,
          "y1": 1,
          "yref": "y domain"
         },
         {
          "line": {
           "color": "red",
           "dash": "dash"
          },
          "type": "line",
          "x0": "2024-05-08T18:23:46.514379025",
          "x1": "2024-05-08T18:23:46.514379025",
          "xref": "x",
          "y0": 0,
          "y1": 1,
          "yref": "y domain"
         },
         {
          "line": {
           "color": "red",
           "dash": "dash"
          },
          "type": "line",
          "x0": "2024-05-08T18:23:47.085274935",
          "x1": "2024-05-08T18:23:47.085274935",
          "xref": "x",
          "y0": 0,
          "y1": 1,
          "yref": "y domain"
         }
        ],
        "template": {
         "data": {
          "bar": [
           {
            "error_x": {
             "color": "#2a3f5f"
            },
            "error_y": {
             "color": "#2a3f5f"
            },
            "marker": {
             "line": {
              "color": "white",
              "width": 0.5
             },
             "pattern": {
              "fillmode": "overlay",
              "size": 10,
              "solidity": 0.2
             }
            },
            "type": "bar"
           }
          ],
          "barpolar": [
           {
            "marker": {
             "line": {
              "color": "white",
              "width": 0.5
             },
             "pattern": {
              "fillmode": "overlay",
              "size": 10,
              "solidity": 0.2
             }
            },
            "type": "barpolar"
           }
          ],
          "carpet": [
           {
            "aaxis": {
             "endlinecolor": "#2a3f5f",
             "gridcolor": "#C8D4E3",
             "linecolor": "#C8D4E3",
             "minorgridcolor": "#C8D4E3",
             "startlinecolor": "#2a3f5f"
            },
            "baxis": {
             "endlinecolor": "#2a3f5f",
             "gridcolor": "#C8D4E3",
             "linecolor": "#C8D4E3",
             "minorgridcolor": "#C8D4E3",
             "startlinecolor": "#2a3f5f"
            },
            "type": "carpet"
           }
          ],
          "choropleth": [
           {
            "colorbar": {
             "outlinewidth": 0,
             "ticks": ""
            },
            "type": "choropleth"
           }
          ],
          "contour": [
           {
            "colorbar": {
             "outlinewidth": 0,
             "ticks": ""
            },
            "colorscale": [
             [
              0,
              "#0d0887"
             ],
             [
              0.1111111111111111,
              "#46039f"
             ],
             [
              0.2222222222222222,
              "#7201a8"
             ],
             [
              0.3333333333333333,
              "#9c179e"
             ],
             [
              0.4444444444444444,
              "#bd3786"
             ],
             [
              0.5555555555555556,
              "#d8576b"
             ],
             [
              0.6666666666666666,
              "#ed7953"
             ],
             [
              0.7777777777777778,
              "#fb9f3a"
             ],
             [
              0.8888888888888888,
              "#fdca26"
             ],
             [
              1,
              "#f0f921"
             ]
            ],
            "type": "contour"
           }
          ],
          "contourcarpet": [
           {
            "colorbar": {
             "outlinewidth": 0,
             "ticks": ""
            },
            "type": "contourcarpet"
           }
          ],
          "heatmap": [
           {
            "colorbar": {
             "outlinewidth": 0,
             "ticks": ""
            },
            "colorscale": [
             [
              0,
              "#0d0887"
             ],
             [
              0.1111111111111111,
              "#46039f"
             ],
             [
              0.2222222222222222,
              "#7201a8"
             ],
             [
              0.3333333333333333,
              "#9c179e"
             ],
             [
              0.4444444444444444,
              "#bd3786"
             ],
             [
              0.5555555555555556,
              "#d8576b"
             ],
             [
              0.6666666666666666,
              "#ed7953"
             ],
             [
              0.7777777777777778,
              "#fb9f3a"
             ],
             [
              0.8888888888888888,
              "#fdca26"
             ],
             [
              1,
              "#f0f921"
             ]
            ],
            "type": "heatmap"
           }
          ],
          "heatmapgl": [
           {
            "colorbar": {
             "outlinewidth": 0,
             "ticks": ""
            },
            "colorscale": [
             [
              0,
              "#0d0887"
             ],
             [
              0.1111111111111111,
              "#46039f"
             ],
             [
              0.2222222222222222,
              "#7201a8"
             ],
             [
              0.3333333333333333,
              "#9c179e"
             ],
             [
              0.4444444444444444,
              "#bd3786"
             ],
             [
              0.5555555555555556,
              "#d8576b"
             ],
             [
              0.6666666666666666,
              "#ed7953"
             ],
             [
              0.7777777777777778,
              "#fb9f3a"
             ],
             [
              0.8888888888888888,
              "#fdca26"
             ],
             [
              1,
              "#f0f921"
             ]
            ],
            "type": "heatmapgl"
           }
          ],
          "histogram": [
           {
            "marker": {
             "pattern": {
              "fillmode": "overlay",
              "size": 10,
              "solidity": 0.2
             }
            },
            "type": "histogram"
           }
          ],
          "histogram2d": [
           {
            "colorbar": {
             "outlinewidth": 0,
             "ticks": ""
            },
            "colorscale": [
             [
              0,
              "#0d0887"
             ],
             [
              0.1111111111111111,
              "#46039f"
             ],
             [
              0.2222222222222222,
              "#7201a8"
             ],
             [
              0.3333333333333333,
              "#9c179e"
             ],
             [
              0.4444444444444444,
              "#bd3786"
             ],
             [
              0.5555555555555556,
              "#d8576b"
             ],
             [
              0.6666666666666666,
              "#ed7953"
             ],
             [
              0.7777777777777778,
              "#fb9f3a"
             ],
             [
              0.8888888888888888,
              "#fdca26"
             ],
             [
              1,
              "#f0f921"
             ]
            ],
            "type": "histogram2d"
           }
          ],
          "histogram2dcontour": [
           {
            "colorbar": {
             "outlinewidth": 0,
             "ticks": ""
            },
            "colorscale": [
             [
              0,
              "#0d0887"
             ],
             [
              0.1111111111111111,
              "#46039f"
             ],
             [
              0.2222222222222222,
              "#7201a8"
             ],
             [
              0.3333333333333333,
              "#9c179e"
             ],
             [
              0.4444444444444444,
              "#bd3786"
             ],
             [
              0.5555555555555556,
              "#d8576b"
             ],
             [
              0.6666666666666666,
              "#ed7953"
             ],
             [
              0.7777777777777778,
              "#fb9f3a"
             ],
             [
              0.8888888888888888,
              "#fdca26"
             ],
             [
              1,
              "#f0f921"
             ]
            ],
            "type": "histogram2dcontour"
           }
          ],
          "mesh3d": [
           {
            "colorbar": {
             "outlinewidth": 0,
             "ticks": ""
            },
            "type": "mesh3d"
           }
          ],
          "parcoords": [
           {
            "line": {
             "colorbar": {
              "outlinewidth": 0,
              "ticks": ""
             }
            },
            "type": "parcoords"
           }
          ],
          "pie": [
           {
            "automargin": true,
            "type": "pie"
           }
          ],
          "scatter": [
           {
            "fillpattern": {
             "fillmode": "overlay",
             "size": 10,
             "solidity": 0.2
            },
            "type": "scatter"
           }
          ],
          "scatter3d": [
           {
            "line": {
             "colorbar": {
              "outlinewidth": 0,
              "ticks": ""
             }
            },
            "marker": {
             "colorbar": {
              "outlinewidth": 0,
              "ticks": ""
             }
            },
            "type": "scatter3d"
           }
          ],
          "scattercarpet": [
           {
            "marker": {
             "colorbar": {
              "outlinewidth": 0,
              "ticks": ""
             }
            },
            "type": "scattercarpet"
           }
          ],
          "scattergeo": [
           {
            "marker": {
             "colorbar": {
              "outlinewidth": 0,
              "ticks": ""
             }
            },
            "type": "scattergeo"
           }
          ],
          "scattergl": [
           {
            "marker": {
             "colorbar": {
              "outlinewidth": 0,
              "ticks": ""
             }
            },
            "type": "scattergl"
           }
          ],
          "scattermapbox": [
           {
            "marker": {
             "colorbar": {
              "outlinewidth": 0,
              "ticks": ""
             }
            },
            "type": "scattermapbox"
           }
          ],
          "scatterpolar": [
           {
            "marker": {
             "colorbar": {
              "outlinewidth": 0,
              "ticks": ""
             }
            },
            "type": "scatterpolar"
           }
          ],
          "scatterpolargl": [
           {
            "marker": {
             "colorbar": {
              "outlinewidth": 0,
              "ticks": ""
             }
            },
            "type": "scatterpolargl"
           }
          ],
          "scatterternary": [
           {
            "marker": {
             "colorbar": {
              "outlinewidth": 0,
              "ticks": ""
             }
            },
            "type": "scatterternary"
           }
          ],
          "surface": [
           {
            "colorbar": {
             "outlinewidth": 0,
             "ticks": ""
            },
            "colorscale": [
             [
              0,
              "#0d0887"
             ],
             [
              0.1111111111111111,
              "#46039f"
             ],
             [
              0.2222222222222222,
              "#7201a8"
             ],
             [
              0.3333333333333333,
              "#9c179e"
             ],
             [
              0.4444444444444444,
              "#bd3786"
             ],
             [
              0.5555555555555556,
              "#d8576b"
             ],
             [
              0.6666666666666666,
              "#ed7953"
             ],
             [
              0.7777777777777778,
              "#fb9f3a"
             ],
             [
              0.8888888888888888,
              "#fdca26"
             ],
             [
              1,
              "#f0f921"
             ]
            ],
            "type": "surface"
           }
          ],
          "table": [
           {
            "cells": {
             "fill": {
              "color": "#EBF0F8"
             },
             "line": {
              "color": "white"
             }
            },
            "header": {
             "fill": {
              "color": "#C8D4E3"
             },
             "line": {
              "color": "white"
             }
            },
            "type": "table"
           }
          ]
         },
         "layout": {
          "annotationdefaults": {
           "arrowcolor": "#2a3f5f",
           "arrowhead": 0,
           "arrowwidth": 1
          },
          "autotypenumbers": "strict",
          "coloraxis": {
           "colorbar": {
            "outlinewidth": 0,
            "ticks": ""
           }
          },
          "colorscale": {
           "diverging": [
            [
             0,
             "#8e0152"
            ],
            [
             0.1,
             "#c51b7d"
            ],
            [
             0.2,
             "#de77ae"
            ],
            [
             0.3,
             "#f1b6da"
            ],
            [
             0.4,
             "#fde0ef"
            ],
            [
             0.5,
             "#f7f7f7"
            ],
            [
             0.6,
             "#e6f5d0"
            ],
            [
             0.7,
             "#b8e186"
            ],
            [
             0.8,
             "#7fbc41"
            ],
            [
             0.9,
             "#4d9221"
            ],
            [
             1,
             "#276419"
            ]
           ],
           "sequential": [
            [
             0,
             "#0d0887"
            ],
            [
             0.1111111111111111,
             "#46039f"
            ],
            [
             0.2222222222222222,
             "#7201a8"
            ],
            [
             0.3333333333333333,
             "#9c179e"
            ],
            [
             0.4444444444444444,
             "#bd3786"
            ],
            [
             0.5555555555555556,
             "#d8576b"
            ],
            [
             0.6666666666666666,
             "#ed7953"
            ],
            [
             0.7777777777777778,
             "#fb9f3a"
            ],
            [
             0.8888888888888888,
             "#fdca26"
            ],
            [
             1,
             "#f0f921"
            ]
           ],
           "sequentialminus": [
            [
             0,
             "#0d0887"
            ],
            [
             0.1111111111111111,
             "#46039f"
            ],
            [
             0.2222222222222222,
             "#7201a8"
            ],
            [
             0.3333333333333333,
             "#9c179e"
            ],
            [
             0.4444444444444444,
             "#bd3786"
            ],
            [
             0.5555555555555556,
             "#d8576b"
            ],
            [
             0.6666666666666666,
             "#ed7953"
            ],
            [
             0.7777777777777778,
             "#fb9f3a"
            ],
            [
             0.8888888888888888,
             "#fdca26"
            ],
            [
             1,
             "#f0f921"
            ]
           ]
          },
          "colorway": [
           "#636efa",
           "#EF553B",
           "#00cc96",
           "#ab63fa",
           "#FFA15A",
           "#19d3f3",
           "#FF6692",
           "#B6E880",
           "#FF97FF",
           "#FECB52"
          ],
          "font": {
           "color": "#2a3f5f"
          },
          "geo": {
           "bgcolor": "white",
           "lakecolor": "white",
           "landcolor": "white",
           "showlakes": true,
           "showland": true,
           "subunitcolor": "#C8D4E3"
          },
          "hoverlabel": {
           "align": "left"
          },
          "hovermode": "closest",
          "mapbox": {
           "style": "light"
          },
          "paper_bgcolor": "white",
          "plot_bgcolor": "white",
          "polar": {
           "angularaxis": {
            "gridcolor": "#EBF0F8",
            "linecolor": "#EBF0F8",
            "ticks": ""
           },
           "bgcolor": "white",
           "radialaxis": {
            "gridcolor": "#EBF0F8",
            "linecolor": "#EBF0F8",
            "ticks": ""
           }
          },
          "scene": {
           "xaxis": {
            "backgroundcolor": "white",
            "gridcolor": "#DFE8F3",
            "gridwidth": 2,
            "linecolor": "#EBF0F8",
            "showbackground": true,
            "ticks": "",
            "zerolinecolor": "#EBF0F8"
           },
           "yaxis": {
            "backgroundcolor": "white",
            "gridcolor": "#DFE8F3",
            "gridwidth": 2,
            "linecolor": "#EBF0F8",
            "showbackground": true,
            "ticks": "",
            "zerolinecolor": "#EBF0F8"
           },
           "zaxis": {
            "backgroundcolor": "white",
            "gridcolor": "#DFE8F3",
            "gridwidth": 2,
            "linecolor": "#EBF0F8",
            "showbackground": true,
            "ticks": "",
            "zerolinecolor": "#EBF0F8"
           }
          },
          "shapedefaults": {
           "line": {
            "color": "#2a3f5f"
           }
          },
          "ternary": {
           "aaxis": {
            "gridcolor": "#DFE8F3",
            "linecolor": "#A2B1C6",
            "ticks": ""
           },
           "baxis": {
            "gridcolor": "#DFE8F3",
            "linecolor": "#A2B1C6",
            "ticks": ""
           },
           "bgcolor": "white",
           "caxis": {
            "gridcolor": "#DFE8F3",
            "linecolor": "#A2B1C6",
            "ticks": ""
           }
          },
          "title": {
           "x": 0.05
          },
          "xaxis": {
           "automargin": true,
           "gridcolor": "#EBF0F8",
           "linecolor": "#EBF0F8",
           "ticks": "",
           "title": {
            "standoff": 15
           },
           "zerolinecolor": "#EBF0F8",
           "zerolinewidth": 2
          },
          "yaxis": {
           "automargin": true,
           "gridcolor": "#EBF0F8",
           "linecolor": "#EBF0F8",
           "ticks": "",
           "title": {
            "standoff": 15
           },
           "zerolinecolor": "#EBF0F8",
           "zerolinewidth": 2
          }
         }
        },
        "title": {
         "text": "Client logs"
        },
        "xaxis": {
         "anchor": "y",
         "domain": [
          0,
          1
         ],
         "type": "date"
        },
        "yaxis": {
         "anchor": "x",
         "domain": [
          0,
          1
         ]
        }
       }
      }
     },
     "metadata": {},
     "output_type": "display_data"
    }
   ],
   "source": [
    "timeline = px.timeline(\n",
    "    clients_and_server_df,\n",
    "    x_start=\"start_time\",\n",
    "    x_end=\"end_time\",\n",
    "    color=\"name\",\n",
    "    title=\"Client logs\",\n",
    "    opacity=0.4,\n",
    "    template=\"plotly_white\"\n",
    ")\n",
    "# add vertical line to show when server logs started\n",
    "for i in server_df[\"start_time\"]:\n",
    "    timeline.add_vline(x=i, line_dash=\"dash\", line_color=\"red\")\n",
    "timeline.show()"
   ]
  }
 ],
 "metadata": {
  "kernelspec": {
   "display_name": ".venv",
   "language": "python",
   "name": "python3"
  },
  "language_info": {
   "codemirror_mode": {
    "name": "ipython",
    "version": 3
   },
   "file_extension": ".py",
   "mimetype": "text/x-python",
   "name": "python",
   "nbconvert_exporter": "python",
   "pygments_lexer": "ipython3",
   "version": "3.9.18"
  }
 },
 "nbformat": 4,
 "nbformat_minor": 2
}
